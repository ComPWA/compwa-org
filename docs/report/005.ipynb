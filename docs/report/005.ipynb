{
 "cells": [
  {
   "cell_type": "markdown",
   "metadata": {},
   "source": [
    "# [TR-005] K-matrix"
   ]
  },
  {
   "cell_type": "markdown",
   "metadata": {
    "tags": [
     "remove-cell"
    ]
   },
   "source": [
    "<!-- cspell:ignore Cayley -->"
   ]
  },
  {
   "cell_type": "markdown",
   "metadata": {},
   "source": [
    "This report investigates how to implement $K$-matrix dynamics with {doc}`SymPy <sympy:index>`. The challenge is to generate a correct parametrization for an arbitrary **number of coupled channels $n$** and an arbitrary **number of resonances $n_R$**.\n",
    "\n",
    "We followed the physics as described by {pdg-review}`Resonances` and {cite}`chungPartialWaveAnalysis1995,petersPartialWaveAnalysis2004,meyerMatrixTutorial2008`.\n",
    "\n",
    "We simply construct an $n \\times n$ {class}`sympy.Matrix <sympy.matrices.dense.MutableDenseMatrix>` with {class}`~sympy.core.symbol.Symbol`s as its elements. We then use substitute these {class}`~sympy.core.symbol.Symbol`s with certain parametrizations using {meth}`~sympy.core.basic.Basic.subs`. In order to generate symbols for $n_R$ resonances and $n$ channels, we use {doc}`indexed symbols <modules/tensor/indexed>`.\n",
    "\n",
    "This approach is less elegant and (theoretically) slower than using {class}`~sympy.matrices.expressions.MatrixSymbol`s. That approach is explored in {doc}`/report/007`."
   ]
  },
  {
   "cell_type": "code",
   "execution_count": null,
   "metadata": {
    "jupyter": {
     "source_hidden": true
    },
    "tags": [
     "hide-cell"
    ]
   },
   "outputs": [],
   "source": [
    "%matplotlib widget\n",
    "import os\n",
    "import warnings\n",
    "from typing import Tuple\n",
    "\n",
    "import matplotlib.pyplot as plt\n",
    "import mpl_interactions.ipyplot as iplt\n",
    "import numpy as np\n",
    "import symplot\n",
    "import sympy as sp\n",
    "from IPython.display import Image, Math\n",
    "from ipywidgets import widgets as ipywidgets\n",
    "from matplotlib import cm\n",
    "from mpl_interactions.controller import Controls\n",
    "\n",
    "warnings.filterwarnings(\"ignore\")\n",
    "STATIC_WEB_PAGE = {\"EXECUTE_NB\", \"READTHEDOCS\"}.intersection(os.environ)"
   ]
  },
  {
   "cell_type": "markdown",
   "metadata": {},
   "source": [
    "## Non-relativistic"
   ]
  },
  {
   "cell_type": "markdown",
   "metadata": {},
   "source": [
    "The non-relativistic case is simplest and allows us to check whether the case $m=1, n=1$ (single resonance, single channel) reduces to a non-relativistic Breit-Wigner function.[^1]\n",
    "\n",
    "[^1]: Of course, there is no need to work with matrices in this $1 \\times 1$ case. To keeps things general, however, we keep using matrices."
   ]
  },
  {
   "cell_type": "markdown",
   "metadata": {},
   "source": [
    "### Procedure"
   ]
  },
  {
   "cell_type": "markdown",
   "metadata": {},
   "source": [
    "Now, it would be nice to use a {class}`~sympy.core.symbol.Symbol` to represent $n$ and $n_R$, but this does not work well in the {class}`~sympy.concrete.summations.Sum` class."
   ]
  },
  {
   "cell_type": "code",
   "execution_count": null,
   "metadata": {},
   "outputs": [],
   "source": [
    "n, n_resonances = sp.symbols(\"n n_R\", integer=True, positive=True)"
   ]
  },
  {
   "cell_type": "markdown",
   "metadata": {},
   "source": [
    "We therefore set these variables to a specific {obj}`int` value and define some other {class}`~sympy.core.symbol.Symbol`s for the rest of the implementation.[^2]\n",
    "\n",
    "[^2]: We use {class}`~sympy.core.symbol.Symbol`s as indices, because that renders more nicely."
   ]
  },
  {
   "cell_type": "code",
   "execution_count": null,
   "metadata": {
    "tags": []
   },
   "outputs": [],
   "source": [
    "n = 1\n",
    "n_resonances = 1\n",
    "i, j, R = sp.symbols(\"i j R\", integer=True, negative=False)\n",
    "m = sp.Symbol(\"m\", real=True)\n",
    "M = sp.IndexedBase(\"M\", shape=(n_resonances,))\n",
    "Gamma = sp.IndexedBase(\"Gamma\", shape=(n_resonances,))\n",
    "g = sp.IndexedBase(\"g\", shape=(n_resonances, n))\n",
    "gamma = sp.IndexedBase(\"gamma\", shape=(n_resonances, n))"
   ]
  },
  {
   "cell_type": "markdown",
   "metadata": {},
   "source": [
    "The $\\boldsymbol{K}$-matrix constitutes the $\\boldsymbol{T}$-matrix (which expresses the transition amplitudes in which we are interested) as follows:\n",
    "\n",
    "$$\n",
    "\\boldsymbol{T} = \\boldsymbol{K}(\\boldsymbol{I} - i\\boldsymbol{K})^{-1}\n",
    "$$ (T-matrix)\n",
    "\n",
    "This expression comes from a [Cayley transformation](https://en.wikipedia.org/wiki/Cayley_transform) on the $\\boldsymbol{S}$-matrix, which ensures that the $\\boldsymbol{K}$-matrix is real. The challenge is now to choose a correct parametrization. There are several choices, but a common one is the following summation over the resonances $R$:"
   ]
  },
  {
   "cell_type": "code",
   "execution_count": null,
   "metadata": {
    "tags": []
   },
   "outputs": [],
   "source": [
    "def Kij(i, j, n_resonances) -> sp.Expr:\n",
    "    parametrization = (g[R, i] * g[R, j]) / (M[R] ** 2 - m ** 2)\n",
    "    return sp.Sum(parametrization, (R, 0, n_resonances - 1))"
   ]
  },
  {
   "cell_type": "code",
   "execution_count": null,
   "metadata": {
    "jupyter": {
     "source_hidden": true
    },
    "tags": [
     "hide-input"
    ]
   },
   "outputs": [],
   "source": [
    "n_R = sp.Symbol(\"n_R\")\n",
    "kij = Kij(i, j, n_R)\n",
    "Math(\n",
    "    \"K_{ij} = \"\n",
    "    + f\"{sp.latex(kij)} = {sp.latex(kij.subs(n_R, 1).doit())}\"\n",
    ")"
   ]
  },
  {
   "cell_type": "markdown",
   "metadata": {},
   "source": [
    "where the residue constants are often further parametrized by (see {cite}`chungPartialWaveAnalysis1995`, Eq. (82)):\n",
    "\n",
    "$$\n",
    "g_{R,i}=\\gamma_{R,i}\\sqrt{m_R\\Gamma_R}\n",
    "$$ (residue-constant-g)\n",
    "\n",
    "In {mod}`sympy`, we now define the $\\boldsymbol{K}$-matrix in terms of a {class}`Matrix <sympy.matrices.dense.MutableDenseMatrix>` with {class}`~sympy.tensor.indexed.IndexedBase` instances as elements that can serve as {class}`~sympy.core.symbol.Symbol`s."
   ]
  },
  {
   "cell_type": "code",
   "execution_count": null,
   "metadata": {},
   "outputs": [],
   "source": [
    "K_symbol = sp.IndexedBase(\"K\", shape=(n, n))\n",
    "K = sp.Matrix([[K_symbol[i, j] for j in range(n)] for i in range(n)])\n",
    "display(K_symbol[i, j], K)"
   ]
  },
  {
   "cell_type": "markdown",
   "metadata": {},
   "source": [
    "The $\\boldsymbol{T}$-matrix can now be computed from Eq. {eq}`T-matrix`:"
   ]
  },
  {
   "cell_type": "code",
   "execution_count": null,
   "metadata": {},
   "outputs": [],
   "source": [
    "T = K * (sp.eye(n) - sp.I * K).inv()\n",
    "T"
   ]
  },
  {
   "cell_type": "markdown",
   "metadata": {},
   "source": [
    "Next, we need to substitute the elements $K_{i,j}$ with the parametrization we defined above. Since we chose $n=1$, let's focus only on $i=0$ and $j=0$ and investigate what the $T$-matrix looks like after substituting $K_{i,j}$:"
   ]
  },
  {
   "cell_type": "code",
   "execution_count": null,
   "metadata": {},
   "outputs": [],
   "source": [
    "i_eval, j_eval = 0, 0\n",
    "T_channel = T[i_eval, j_eval]\n",
    "T_channel_subs = T_channel.subs(\n",
    "    {\n",
    "        K[i, j]: Kij(i, j, n_resonances)\n",
    "        for i in range(n)\n",
    "        for j in range(n)\n",
    "    }\n",
    ").subs({i: i_eval, j: j_eval})\n",
    "T_channel_subs"
   ]
  },
  {
   "cell_type": "code",
   "execution_count": null,
   "metadata": {},
   "outputs": [],
   "source": [
    "T_channel_subs = T_channel_subs.doit()"
   ]
  },
  {
   "cell_type": "markdown",
   "metadata": {
    "tags": []
   },
   "source": [
    "Next, we evaluate the {class}`~sympy.concrete.summations.Sum` and substitute the residue constants with Eq. {eq}`residue-constant-g`"
   ]
  },
  {
   "cell_type": "code",
   "execution_count": null,
   "metadata": {},
   "outputs": [],
   "source": [
    "T_channel_subs = T_channel_subs.doit()\n",
    "T_channel_subs = T_channel_subs.subs(\n",
    "    {\n",
    "        g[R, i]: gamma[R, i] * sp.sqrt(M[R] * Gamma[R])\n",
    "        for R in range(n_resonances)\n",
    "        for i in range(n)\n",
    "    }\n",
    ")"
   ]
  },
  {
   "cell_type": "markdown",
   "metadata": {},
   "source": [
    "And indeed, the resulting element from the $\\boldsymbol{T}$-matrix looks like a non-relativistic Breit-Wigner function!"
   ]
  },
  {
   "cell_type": "code",
   "execution_count": null,
   "metadata": {
    "jupyter": {
     "source_hidden": true
    },
    "tags": [
     "hide-input"
    ]
   },
   "outputs": [],
   "source": [
    "if n_resonances == 1 or n == 2:\n",
    "    T_channel_subs = T_channel_subs.simplify()\n",
    "T_channel_subs"
   ]
  },
  {
   "cell_type": "markdown",
   "metadata": {},
   "source": [
    "### Generalization"
   ]
  },
  {
   "cell_type": "markdown",
   "metadata": {},
   "source": [
    "The above procedure has been condensed into a function that can handle an arbitrary number of resonances and an arbitrary number of channels."
   ]
  },
  {
   "cell_type": "code",
   "execution_count": null,
   "metadata": {
    "jupyter": {
     "source_hidden": true
    },
    "tags": [
     "scroll-input"
    ]
   },
   "outputs": [],
   "source": [
    "def k_matrix(\n",
    "    n_resonances: int,\n",
    "    n_channels: int,\n",
    "    *,\n",
    "    channel: Tuple[int, int] = (0, 0),\n",
    ") -> sp.Expr:\n",
    "    # Define symbols\n",
    "    m = sp.Symbol(\"m\", real=True)\n",
    "    M = sp.IndexedBase(\"m\", shape=(n_resonances,))\n",
    "    Gamma = sp.IndexedBase(\"Gamma\", shape=(n_resonances,))\n",
    "    gamma = sp.IndexedBase(\"gamma\", shape=(n_resonances, n_channels))\n",
    "    # Define K-matrix and T-matrix\n",
    "    K_symbol = sp.IndexedBase(\"K\", shape=(n_channels, n_channels))\n",
    "    K = sp.Matrix(\n",
    "        [\n",
    "            [K_symbol[i, j] for j in range(n_channels)]\n",
    "            for i in range(n_channels)\n",
    "        ]\n",
    "    )\n",
    "    T = K * (sp.eye(n_channels) - sp.I * K).inv()\n",
    "\n",
    "    # Define parametrization\n",
    "    def Kij(i, j) -> sp.Expr:\n",
    "        g_i = gamma[R, i] * sp.sqrt(M[R] * Gamma[R])\n",
    "        g_j = gamma[R, j] * sp.sqrt(M[R] * Gamma[R])\n",
    "        parametrization = (g_i * g_j) / (M[R] ** 2 - m ** 2)\n",
    "        return sp.Sum(parametrization, (R, 0, n_resonances - 1))\n",
    "\n",
    "    # Substitute elements\n",
    "    T_channel = T[channel[0], channel[1]]\n",
    "    T_channel = T_channel.subs(\n",
    "        {\n",
    "            K[i, j]: Kij(i, j)\n",
    "            for i in range(n_channels)\n",
    "            for j in range(n_channels)\n",
    "        }\n",
    "    )\n",
    "    # Evaluate summation\n",
    "    T_channel = T_channel.doit()\n",
    "    # Replace IndexedBase with Symbols\n",
    "    T_channel = (\n",
    "        T_channel.subs(\n",
    "            {M[R]: sp.Symbol(f\"m{R}\") for R in range(n_resonances)}\n",
    "        )\n",
    "        .subs(\n",
    "            {\n",
    "                Gamma[R]: sp.Symbol(f\"Gamma{R}\")\n",
    "                for R in range(n_resonances)\n",
    "            }\n",
    "        )\n",
    "        .subs(\n",
    "            {\n",
    "                gamma[R, i]: sp.Symbol(fR\"\\gamma_{{{R},{i}}}\")\n",
    "                for R in range(n_resonances)\n",
    "                for i in range(n_channels)\n",
    "            }\n",
    "        )\n",
    "    )\n",
    "    return T_channel"
   ]
  },
  {
   "cell_type": "code",
   "execution_count": null,
   "metadata": {},
   "outputs": [],
   "source": [
    "k_matrix(n_resonances=1, n_channels=1).simplify()"
   ]
  },
  {
   "cell_type": "code",
   "execution_count": null,
   "metadata": {},
   "outputs": [],
   "source": [
    "k_matrix(n_resonances=2, n_channels=1)"
   ]
  },
  {
   "cell_type": "code",
   "execution_count": null,
   "metadata": {},
   "outputs": [],
   "source": [
    "k_matrix(n_resonances=1, n_channels=2).simplify()"
   ]
  },
  {
   "cell_type": "markdown",
   "metadata": {},
   "source": [
    "### Visualization"
   ]
  },
  {
   "cell_type": "markdown",
   "metadata": {},
   "source": [
    "Now, let's use {mod}`symplot` to visualize the single channel $\\boldsymbol{K}$-matrix for arbitrary $n_R$."
   ]
  },
  {
   "cell_type": "code",
   "execution_count": null,
   "metadata": {
    "jupyter": {
     "source_hidden": true
    },
    "tags": [
     "scroll-input",
     "hide-cell"
    ]
   },
   "outputs": [],
   "source": [
    "def plot_k_matrix(\n",
    "    n_channels: int,\n",
    "    n_resonances: int,\n",
    "    channel: Tuple[int, int] = (0, 0),\n",
    "    render_math: bool = False,\n",
    "    simplify: bool = False,\n",
    "    title: str = \"\",\n",
    ") -> None:\n",
    "    # Convert to Symbol: symplot cannot handle IndexedBase\n",
    "    expr = k_matrix(\n",
    "        n_channels=n_channels,\n",
    "        n_resonances=n_resonances,\n",
    "        channel=channel,\n",
    "    )\n",
    "    np_expr, sliders = symplot.prepare_sliders(expr, plot_symbol=m)\n",
    "\n",
    "    # Set plot domain\n",
    "    x_min, x_max = 1e-3, 3\n",
    "    y_min, y_max = -0.5, +0.5\n",
    "    z_min, z_max = -2, +2\n",
    "\n",
    "    plot_domain = np.linspace(x_min, x_max, num=500)\n",
    "    x_values = np.linspace(x_min, x_max, num=160)\n",
    "    y_values = np.linspace(y_min, y_max, num=80)\n",
    "    X, Y = np.meshgrid(x_values, y_values)\n",
    "    plot_domain_complex = X + Y * 1j\n",
    "\n",
    "    z_cut_min = 0.75 * z_min\n",
    "    z_cut_max = 0.75 * z_max\n",
    "    cut_off_min = np.vectorize(\n",
    "        lambda z: z if z > z_cut_min else z_cut_min\n",
    "    )\n",
    "    cut_off_max = np.vectorize(\n",
    "        lambda z: z if z < z_cut_max else z_cut_max\n",
    "    )\n",
    "\n",
    "    # Set slider values and ranges\n",
    "    m0_values = np.linspace(x_min, x_max, num=n_resonances + 2)\n",
    "    m0_values = m0_values[1:-1]\n",
    "\n",
    "    def set_default_values():\n",
    "        for R in range(n_resonances):\n",
    "            # ranges\n",
    "            sliders.set_ranges({f\"m{R}\": (0, 3, 100)})\n",
    "            sliders.set_ranges({f\"Gamma{R}\": (-1, 1, 100)})\n",
    "            for i in range(n_channels):\n",
    "                sliders.set_ranges(\n",
    "                    {fR\"\\gamma_{{{R},{i}}}\": (0, 2, 100)}\n",
    "                )\n",
    "            # values\n",
    "            sliders.set_values({f\"m{R}\": m0_values[R]})\n",
    "            sliders.set_values({f\"Gamma{R}\": (R + 1) * 0.1})\n",
    "            for i in range(n_channels):\n",
    "                sliders.set_values({fR\"\\gamma_{{{R},{i}}}\": 1})\n",
    "\n",
    "    set_default_values()\n",
    "\n",
    "    # Create interactive plots\n",
    "    controls = Controls(**sliders)\n",
    "    nrows = 2  # set to 3 for imag+real\n",
    "    fig, axes = plt.subplots(\n",
    "        nrows=nrows,\n",
    "        figsize=(8, nrows * 3.0),\n",
    "        sharex=True,\n",
    "        tight_layout=True,\n",
    "    )\n",
    "    if not title:\n",
    "        title = (\n",
    "            fR\"${n_channels} \\times {n_channels}$ $K$-matrix\"\n",
    "            f\" with {n_resonances} resonances\"\n",
    "            f\" ― channel {channel}\"\n",
    "        )\n",
    "    fig.suptitle(title)\n",
    "\n",
    "    # 2D plot\n",
    "    axes[0].set_ylabel(\"$|T|^{2}$\")\n",
    "    iplt.plot(\n",
    "        plot_domain,\n",
    "        lambda *args, **kwargs: np.abs(np_expr(*args, **kwargs)) ** 2,\n",
    "        ax=axes[0],\n",
    "        controls=controls,\n",
    "    )\n",
    "    mass_line_style = dict(\n",
    "        c=\"red\",\n",
    "        alpha=0.3,\n",
    "    )\n",
    "    for name in controls.params:\n",
    "        if not name.startswith(\"m\"):\n",
    "            continue\n",
    "        iplt.axvline(controls[name], ax=axes[0], **mass_line_style)\n",
    "\n",
    "    # 3D plot\n",
    "    def plot3(**kwargs):\n",
    "        Z = np_expr(plot_domain_complex, **kwargs)\n",
    "        Z_imag = cut_off_min(cut_off_max(Z.imag))\n",
    "        for ax in axes[1:]:\n",
    "            ax.clear()\n",
    "        axes[-1].pcolormesh(X, Y, Z_imag, cmap=cm.coolwarm)\n",
    "        axes[-1].set_title(\"Im $T$\")\n",
    "        if len(axes) == 3:\n",
    "            Z_real = cut_off_min(cut_off_max(Z.real))\n",
    "            axes[-2].pcolormesh(X, Y, Z_real, cmap=cm.coolwarm)\n",
    "            axes[-2].set_title(\"Re $T$\")\n",
    "        for ax in axes[1:]:\n",
    "            ax.axhline(0, linewidth=0.5, c=\"black\", linestyle=\"dotted\")\n",
    "            for R in range(n_resonances):\n",
    "                mass = kwargs[f\"m{R}\"]\n",
    "                ax.axvline(mass, **mass_line_style)\n",
    "            ax.set_ylabel(\"Im $m$\")\n",
    "            ax.set_xticks([])\n",
    "            ax.set_yticks([])\n",
    "            ax.set_facecolor(\"white\")\n",
    "        for R in range(n_resonances):\n",
    "            mass = kwargs[f\"m{R}\"]\n",
    "            axes[-1].text(\n",
    "                x=mass + (x_max - x_min) * 0.008,\n",
    "                y=0.95 * y_min,\n",
    "                s=f\"$m_{R}$\",\n",
    "                c=\"red\",\n",
    "            )\n",
    "        axes[-1].set_xlabel(\"Re $m$\")\n",
    "        fig.canvas.draw_idle()\n",
    "\n",
    "    # Create GUI\n",
    "    sliders_copy = dict(sliders)\n",
    "    h_boxes = []\n",
    "    for R in range(n_resonances):\n",
    "        buttons = [\n",
    "            sliders_copy.pop(f\"m{R}\"),\n",
    "            sliders_copy.pop(f\"Gamma{R}\"),\n",
    "        ]\n",
    "        if n_channels == 1:\n",
    "            symbol_to_arg = {\n",
    "                symbol: arg\n",
    "                for arg, symbol in sliders._SliderKwargs__arg_to_symbol.items()\n",
    "            }\n",
    "            dummy_name = symbol_to_arg[fR\"\\gamma_{{{R},0}}\"]\n",
    "            buttons.append(sliders_copy.pop(dummy_name))\n",
    "        h_box = ipywidgets.HBox(buttons)\n",
    "        h_boxes.append(h_box)\n",
    "    remaining_sliders = sorted(\n",
    "        sliders_copy.values(), key=lambda s: s.description\n",
    "    )\n",
    "    ui = ipywidgets.VBox(h_boxes + remaining_sliders)\n",
    "    output = ipywidgets.interactive_output(plot3, controls=sliders)\n",
    "    display(ui, output)\n",
    "    if render_math:\n",
    "        if simplify:\n",
    "            expr = expr.simplify()\n",
    "        display(expr)"
   ]
  },
  {
   "cell_type": "code",
   "execution_count": null,
   "metadata": {
    "tags": [
     "remove-output",
     "hide-input"
    ]
   },
   "outputs": [],
   "source": [
    "plot_k_matrix(\n",
    "    n_resonances=3, n_channels=1, channel=(0, 0), render_math=True\n",
    ")"
   ]
  },
  {
   "cell_type": "code",
   "execution_count": null,
   "metadata": {
    "jupyter": {
     "source_hidden": true
    },
    "tags": [
     "remove-input",
     "full-width"
    ]
   },
   "outputs": [],
   "source": [
    "if STATIC_WEB_PAGE:\n",
    "    output_file = \"005-K-matrix-n1-r3.png\"\n",
    "    plt.savefig(output_file, dpi=150)\n",
    "    display(Image(output_file))"
   ]
  },
  {
   "cell_type": "code",
   "execution_count": null,
   "metadata": {
    "tags": [
     "hide-input",
     "remove-output"
    ]
   },
   "outputs": [],
   "source": [
    "plot_k_matrix(n_resonances=2, n_channels=2, channel=(0, 0))"
   ]
  },
  {
   "cell_type": "code",
   "execution_count": null,
   "metadata": {
    "jupyter": {
     "source_hidden": true
    },
    "tags": [
     "remove-input",
     "full-width"
    ]
   },
   "outputs": [],
   "source": [
    "if STATIC_WEB_PAGE:\n",
    "    output_file = \"005-K-matrix-n2-r2-00.png\"\n",
    "    plt.savefig(output_file, dpi=150)\n",
    "    display(Image(output_file))"
   ]
  }
 ],
 "metadata": {
  "kernelspec": {
   "display_name": "Python 3",
   "language": "python",
   "name": "python3"
  },
  "language_info": {
   "codemirror_mode": {
    "name": "ipython",
    "version": 3
   },
   "file_extension": ".py",
   "mimetype": "text/x-python",
   "name": "python",
   "nbconvert_exporter": "python",
   "pygments_lexer": "ipython3",
   "version": "3.8.10"
  }
 },
 "nbformat": 4,
 "nbformat_minor": 4
}
