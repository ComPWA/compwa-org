{
 "cells": [
  {
   "cell_type": "code",
   "execution_count": null,
   "metadata": {
    "hideCode": true,
    "hideOutput": true,
    "hidePrompt": true,
    "jupyter": {
     "source_hidden": true
    },
    "slideshow": {
     "slide_type": "skip"
    },
    "tags": [
     "remove-cell"
    ]
   },
   "outputs": [],
   "source": [
    "%config InlineBackend.figure_formats = ['svg']\n",
    "import os\n",
    "\n",
    "STATIC_WEB_PAGE = {\"EXECUTE_NB\", \"READTHEDOCS\"}.intersection(os.environ)"
   ]
  },
  {
   "cell_type": "markdown",
   "metadata": {},
   "source": [
    "```{autolink-concat}\n",
    "```"
   ]
  },
  {
   "cell_type": "markdown",
   "metadata": {},
   "source": [
    "# [TR-017] Polarization sensitivity"
   ]
  },
  {
   "cell_type": "markdown",
   "metadata": {},
   "source": [
    "```{warning}\n",
    "This report is Work-in-Progress.\n",
    "```"
   ]
  },
  {
   "cell_type": "markdown",
   "metadata": {},
   "source": [
    "```{autolink-skip}\n",
    "```"
   ]
  },
  {
   "cell_type": "code",
   "execution_count": null,
   "metadata": {
    "jupyter": {
     "source_hidden": true
    },
    "tags": [
     "hide-input",
     "remove-output"
    ]
   },
   "outputs": [],
   "source": [
    "%pip -q install ampform==0.13.3 qrules==0.9.7 sympy==1.10.1 tensorwaves[jax]==0.4.3"
   ]
  },
  {
   "cell_type": "markdown",
   "metadata": {},
   "source": [
    "This report is an attempt to formulate [this report](https://www.overleaf.com/7229968911cjshysdbfjtj) [behind login] on polarization sensitivity in $\\Lambda_c \\to p\\pi K$ with [SymPy](https://docs.sympy.org) and [TensorWaves](https://tensorwaves.rtfd.io)."
   ]
  },
  {
   "cell_type": "code",
   "execution_count": null,
   "metadata": {
    "jupyter": {
     "source_hidden": true
    },
    "tags": [
     "hide-cell"
    ]
   },
   "outputs": [],
   "source": [
    "from __future__ import annotations\n",
    "\n",
    "import itertools\n",
    "import logging\n",
    "\n",
    "import graphviz\n",
    "import qrules\n",
    "import sympy as sp\n",
    "from ampform.sympy import PoolSum\n",
    "from IPython.display import Math, display\n",
    "from qrules.io import asdot\n",
    "from qrules.particle import ParticleCollection, create_particle\n",
    "from symplot import substitute_indexed_symbols\n",
    "from sympy.physics.quantum.spin import Rotation as Wigner\n",
    "\n",
    "LOGGER = logging.getLogger()\n",
    "LOGGER.setLevel(logging.ERROR)\n",
    "\n",
    "PDG = qrules.load_pdg()\n",
    "\n",
    "\n",
    "def display_definitions(definitions: dict[sp.Symbol, sp.Expr]) -> None:\n",
    "    latex = R\"\\begin{array}{rcl}\" + \"\\n\"\n",
    "    for symbol, expr in definitions.items():\n",
    "        lhs = sp.latex(symbol)\n",
    "        rhs = sp.latex(expr)\n",
    "        latex += Rf\"  {lhs} & = & {rhs} \\\\\" + \"\\n\"\n",
    "    latex += R\"\\end{array}\"\n",
    "    display(Math(latex))"
   ]
  },
  {
   "cell_type": "markdown",
   "metadata": {
    "tags": []
   },
   "source": [
    "## Decay visualization"
   ]
  },
  {
   "cell_type": "markdown",
   "metadata": {},
   "source": [
    "::::{margin}\n",
    "\n",
    ":::{tip}\n",
    "\n",
    "Particle properties of $\\Delta^{**}$, $\\Lambda^{**}$, and $K^{**}$ are determined here.\n",
    "\n",
    ":::\n",
    "\n",
    "::::"
   ]
  },
  {
   "cell_type": "code",
   "execution_count": null,
   "metadata": {
    "jupyter": {
     "source_hidden": true
    },
    "tags": [
     "hide-cell"
    ]
   },
   "outputs": [],
   "source": [
    "p = PDG[\"p\"]\n",
    "K = PDG[\"K-\"]\n",
    "π = PDG[\"pi+\"]\n",
    "Λc = create_particle(\n",
    "    PDG[\"Lambda(c)+\"],\n",
    "    name=\"Λc⁺\",\n",
    ")\n",
    "K_star = create_particle(\n",
    "    PDG[\"K*(892)0\"],\n",
    "    name=\"K*\",\n",
    "    latex=\"K^*\",\n",
    ")\n",
    "Λ_star = create_particle(\n",
    "    PDG[\"Lambda(1405)\"],\n",
    "    name=\"Λ**\",\n",
    "    latex=R\"\\Lambda^{**}\",\n",
    ")\n",
    "Δ_star = create_particle(\n",
    "    PDG[\"Delta(1232)++\"],\n",
    "    name=\"Δ**\",\n",
    "    latex=R\"\\Delta^{**}\",\n",
    ")\n",
    "particle_db = ParticleCollection({Λc, p, K, π, K_star, Λ_star, Δ_star})"
   ]
  },
  {
   "cell_type": "code",
   "execution_count": null,
   "metadata": {},
   "outputs": [],
   "source": [
    "reaction = qrules.generate_transitions(\n",
    "    initial_state=\"Λc⁺\",\n",
    "    final_state=[\"p\", \"pi+\", \"K-\"],\n",
    "    particle_db=particle_db,\n",
    ")"
   ]
  },
  {
   "cell_type": "code",
   "execution_count": null,
   "metadata": {
    "jupyter": {
     "source_hidden": true
    },
    "tags": [
     "hide-input",
     "full-width"
    ]
   },
   "outputs": [],
   "source": [
    "for g in reaction.transition_groups:\n",
    "    dot = qrules.io.asdot(g.transitions, collapse_graphs=True, size=3.6)\n",
    "    graph = graphviz.Source(dot)\n",
    "    display(graph)"
   ]
  },
  {
   "cell_type": "markdown",
   "metadata": {},
   "source": [
    "Allowed $LS$-couplings:"
   ]
  },
  {
   "cell_type": "code",
   "execution_count": null,
   "metadata": {
    "tags": [
     "hide-input",
     "full-width"
    ]
   },
   "outputs": [],
   "source": [
    "def filter_transitions(resonance_name):\n",
    "    return [\n",
    "        transition\n",
    "        for transition in reaction.transitions\n",
    "        if transition.states[3].particle.name.startswith(resonance_name)\n",
    "    ]\n",
    "\n",
    "\n",
    "style = dict(render_node=True, strip_spin=True, size=6)\n",
    "display(\n",
    "    graphviz.Source(asdot(filter_transitions(\"Λ\"), **style)),\n",
    "    graphviz.Source(asdot(filter_transitions(\"Δ\"), **style)),\n",
    "    graphviz.Source(asdot(filter_transitions(\"K\"), **style)),\n",
    ")"
   ]
  },
  {
   "cell_type": "markdown",
   "metadata": {},
   "source": [
    "## Amplitude model"
   ]
  },
  {
   "cell_type": "markdown",
   "metadata": {},
   "source": [
    "### SymPy implementation of equations"
   ]
  },
  {
   "cell_type": "markdown",
   "metadata": {},
   "source": [
    "#### Equation (1)"
   ]
  },
  {
   "cell_type": "code",
   "execution_count": null,
   "metadata": {
    "tags": []
   },
   "outputs": [],
   "source": [
    "A_k = sp.IndexedBase(R\"A^K\")\n",
    "A_l = sp.IndexedBase(R\"A^{\\Lambda}\")\n",
    "A_d = sp.IndexedBase(R\"A^{\\Delta}\")\n",
    "\n",
    "_nu = sp.Symbol(R\"\\nu^{\\prime}\", rational=True)\n",
    "_lambda = sp.Symbol(R\"\\lambda^{\\prime}\", rational=True)\n",
    "half = sp.S.Half\n",
    "\n",
    "zeta_0_1 = sp.Symbol(R\"\\zeta^0_{1(1)}\", real=True)\n",
    "zeta_0_2 = sp.Symbol(R\"\\zeta^0_{2(1)}\", real=True)\n",
    "zeta_0_3 = sp.Symbol(R\"\\zeta^0_{3(1)}\", real=True)\n",
    "zeta_1_1 = sp.Symbol(R\"\\zeta^1_{1(1)}\", real=True)\n",
    "zeta_1_2 = sp.Symbol(R\"\\zeta^1_{2(1)}\", real=True)\n",
    "zeta_1_3 = sp.Symbol(R\"\\zeta^1_{3(1)}\", real=True)\n",
    "\n",
    "\n",
    "def formulate_aligned_amplitude(Λc_helicity, p_helicity):\n",
    "    return PoolSum(\n",
    "        A_k[_nu, _lambda]\n",
    "        * Wigner.d(half, Λc_helicity, _nu, zeta_0_1)\n",
    "        * Wigner.d(half, _lambda, p_helicity, zeta_1_1)\n",
    "        + A_l[_nu, _lambda]\n",
    "        * Wigner.d(half, Λc_helicity, _nu, zeta_0_1)\n",
    "        * Wigner.d(half, _lambda, p_helicity, zeta_1_1)\n",
    "        + A_d[_nu, _lambda]\n",
    "        * Wigner.d(half, Λc_helicity, _nu, zeta_0_3)\n",
    "        * Wigner.d(half, _lambda, p_helicity, zeta_1_3),\n",
    "        (_lambda, [-half, +half]),\n",
    "        (_nu, [-half, +half]),\n",
    "    )"
   ]
  },
  {
   "cell_type": "code",
   "execution_count": null,
   "metadata": {
    "jupyter": {
     "source_hidden": true
    },
    "tags": [
     "full-width",
     "hide-input"
    ]
   },
   "outputs": [],
   "source": [
    "nu = sp.Symbol(\"nu\")\n",
    "lam = sp.Symbol(\"lambda\")\n",
    "formulate_aligned_amplitude(Λc_helicity=nu, p_helicity=lam)"
   ]
  },
  {
   "cell_type": "markdown",
   "metadata": {},
   "source": [
    "#### Equations (2-4)"
   ]
  },
  {
   "cell_type": "code",
   "execution_count": null,
   "metadata": {
    "tags": [
     "scroll-input"
    ]
   },
   "outputs": [],
   "source": [
    "H_K_prod = sp.IndexedBase(R\"\\mathcal{H}^{\\Lambda_c \\to K^{**}p}\")\n",
    "H_K_dec = sp.IndexedBase(R\"\\mathcal{H}^{K^{**} \\to \\pi K}\")\n",
    "H_Λ_prod = sp.IndexedBase(R\"\\mathcal{H}^{\\Lambda_c \\to \\Lambda^{**}\\pi}\")\n",
    "H_Λ_dec = sp.IndexedBase(R\"\\mathcal{H}^{\\Lambda^{**} \\to K p}\")\n",
    "H_Δ_prod = sp.IndexedBase(R\"\\mathcal{H}^{\\Lambda_c \\to \\Delta^{**}K}\")\n",
    "H_Δ_dec = sp.IndexedBase(R\"\\mathcal{H}^{\\Delta^{**} \\to p \\pi}\")\n",
    "\n",
    "theta23 = sp.Symbol(\"theta23\", real=True)\n",
    "theta31 = sp.Symbol(\"theta31\", real=True)\n",
    "theta12 = sp.Symbol(\"theta12\", real=True)\n",
    "\n",
    "_j, _tau = sp.symbols(\"j tau\", rational=True)\n",
    "\n",
    "\n",
    "def formulate_K_amplitude(Λc_helicity, p_helicity, j_values: list):\n",
    "    j_values = list(map(sp.Rational, j_values))\n",
    "    return PoolSum(\n",
    "        sp.KroneckerDelta(Λc_helicity, _tau - p_helicity)\n",
    "        * H_K_prod[_tau, p_helicity]\n",
    "        * (-1) ** (half - p_helicity)\n",
    "        * Wigner.d(_j, p_helicity, 0, theta23)\n",
    "        * H_K_dec[0, 0],\n",
    "        (_j, j_values),\n",
    "        (_tau, [-half, +half]),\n",
    "    )\n",
    "\n",
    "\n",
    "def formulate_Λ_amplitude(Λc_helicity, p_helicity, j_values: list):\n",
    "    j_values = list(map(sp.Rational, j_values))\n",
    "    return PoolSum(\n",
    "        sp.KroneckerDelta(Λc_helicity, _tau)\n",
    "        * H_Λ_prod[_tau, 0]\n",
    "        * Wigner.d(_j, _tau, -p_helicity, theta31)\n",
    "        * H_Λ_dec[0, 0]\n",
    "        * (-1) ** (_j - p_helicity),\n",
    "        (_j, j_values),\n",
    "        (_tau, [-half, +half]),\n",
    "    )\n",
    "\n",
    "\n",
    "def formulate_Δ_amplitude(Λc_helicity, p_helicity, j_values: list):\n",
    "    j_values = list(map(sp.Rational, j_values))\n",
    "    return PoolSum(\n",
    "        sp.KroneckerDelta(Λc_helicity, _tau)\n",
    "        * H_Δ_prod[_tau, 0]\n",
    "        * Wigner.d(_j, _tau, p_helicity, theta12)\n",
    "        * H_Δ_dec[0, 0],\n",
    "        (_j, j_values),\n",
    "        (_tau, [-half, +half]),\n",
    "    )"
   ]
  },
  {
   "cell_type": "code",
   "execution_count": null,
   "metadata": {
    "jupyter": {
     "source_hidden": true
    },
    "tags": [
     "hide-input"
    ]
   },
   "outputs": [],
   "source": [
    "display(\n",
    "    formulate_K_amplitude(nu, lam, j_values=[K_star.spin]),\n",
    "    formulate_Λ_amplitude(nu, lam, j_values=[Λ_star.spin]),\n",
    "    formulate_Δ_amplitude(nu, lam, j_values=[Δ_star.spin]),\n",
    ")"
   ]
  },
  {
   "cell_type": "markdown",
   "metadata": {},
   "source": [
    "#### Equations (5-7)"
   ]
  },
  {
   "cell_type": "code",
   "execution_count": null,
   "metadata": {},
   "outputs": [],
   "source": [
    "# Equations (6-7)\n",
    "couplings = {\n",
    "    H_Λ_dec[0, half]: 1,\n",
    "    H_Δ_dec[half, 0]: 1,\n",
    "    H_K_dec[0, 0]: 1,\n",
    "    H_Λ_dec[0, -half]: -Λ_star.parity\n",
    "    * (-1) ** sp.Rational(Λ_star.spin - 1 / 2),\n",
    "    H_Δ_dec[-half, 0]: -Δ_star.parity\n",
    "    * (-1) ** sp.Rational(Δ_star.spin - 1 / 2),\n",
    "}\n",
    "# Equation (5)\n",
    "couplings.update({})  # todo\n",
    "couplings = {\n",
    "    substitute_indexed_symbols(s): expr for s, expr in couplings.items()\n",
    "}\n",
    "display_definitions(couplings)"
   ]
  },
  {
   "cell_type": "markdown",
   "metadata": {},
   "source": [
    ":::{todo}\n",
    "\n",
    "Need to implement the remaining coupling definitions from Equation (5).\n",
    "\n",
    ":::"
   ]
  },
  {
   "cell_type": "markdown",
   "metadata": {},
   "source": [
    "### Combining all definitions"
   ]
  },
  {
   "cell_type": "markdown",
   "metadata": {},
   "source": [
    "Incoherent sum of the amplitudes defined by {ref}`report/017:Equation (1)`:"
   ]
  },
  {
   "cell_type": "code",
   "execution_count": null,
   "metadata": {
    "tags": [
     "full-width"
    ]
   },
   "outputs": [],
   "source": [
    "top_expr = PoolSum(\n",
    "    sp.Abs(formulate_aligned_amplitude(lam, nu)) ** 2,\n",
    "    (lam, [-half, +half]),\n",
    "    (nu, [-half, +half]),\n",
    ")\n",
    "top_expr"
   ]
  },
  {
   "cell_type": "markdown",
   "metadata": {},
   "source": [
    "Remaining {attr}`~sympy.core.basic.Basic.free_symbols` are indeed the specific amplitudes as defined by {ref}`report/017:Equations (2-4)`:"
   ]
  },
  {
   "cell_type": "code",
   "execution_count": null,
   "metadata": {},
   "outputs": [],
   "source": [
    "evaluated_top_expr = substitute_indexed_symbols(top_expr.doit())\n",
    "sp.Matrix(sorted(evaluated_top_expr.free_symbols, key=str)).reshape(4, 4)"
   ]
  },
  {
   "cell_type": "markdown",
   "metadata": {},
   "source": [
    "The specific amplitudes from {ref}`report/017:Equations (2-4)` need to be formulated for each value of $\\nu, \\lambda$, so that they can be substituted in the top expression:"
   ]
  },
  {
   "cell_type": "code",
   "execution_count": null,
   "metadata": {
    "jupyter": {
     "source_hidden": true
    },
    "tags": [
     "hide-input"
    ]
   },
   "outputs": [],
   "source": [
    "amp_definitions = {}\n",
    "for Λc_heli, p_heli in itertools.product([-half, +half], [-half, +half]):\n",
    "    symbol = substitute_indexed_symbols(A_d[Λc_heli, p_heli])\n",
    "    expr = formulate_Δ_amplitude(nu, lam, j_values=[Δ_star.spin])\n",
    "    amp_definitions[symbol] = expr.subs({nu: Λc_heli, lam: p_heli})\n",
    "for Λc_heli, p_heli in itertools.product([-half, +half], [-half, +half]):\n",
    "    symbol = substitute_indexed_symbols(A_l[Λc_heli, p_heli])\n",
    "    expr = formulate_Λ_amplitude(nu, lam, j_values=[Λ_star.spin])\n",
    "    amp_definitions[symbol] = expr.subs({nu: Λc_heli, lam: p_heli})\n",
    "for Λc_heli, p_heli in itertools.product([-half, +half], [-half, +half]):\n",
    "    symbol = substitute_indexed_symbols(A_k[Λc_heli, p_heli])\n",
    "    expr = formulate_K_amplitude(nu, lam, j_values=[K_star.spin])\n",
    "    amp_definitions[symbol] = expr.subs({nu: Λc_heli, lam: p_heli})\n",
    "display_definitions(amp_definitions)"
   ]
  },
  {
   "cell_type": "markdown",
   "metadata": {},
   "source": [
    "The remaining {attr}`~sympy.core.basic.Basic.free_symbols` are indeed the couplings as defined by {ref}`report/017:Equations (5-7)`:"
   ]
  },
  {
   "cell_type": "code",
   "execution_count": null,
   "metadata": {},
   "outputs": [],
   "source": [
    "amp_definitions_eval = {\n",
    "    s: substitute_indexed_symbols(expr.doit())\n",
    "    for s, expr in amp_definitions.items()\n",
    "}\n",
    "defined_top_expr = evaluated_top_expr.subs(amp_definitions_eval)\n",
    "sp.Matrix(sorted(defined_top_expr.free_symbols, key=str)).reshape(4, 3)"
   ]
  },
  {
   "cell_type": "code",
   "execution_count": null,
   "metadata": {},
   "outputs": [],
   "source": [
    "amplitude_expr = defined_top_expr.subs(couplings)\n",
    "sp.Matrix(sorted(amplitude_expr.free_symbols, key=str)).reshape(4, 3)"
   ]
  },
  {
   "cell_type": "markdown",
   "metadata": {},
   "source": [
    ":::{todo}\n",
    "\n",
    "Some coupling values are still missing, which leaves some undefined {attr}`~sympy.core.basic.Basic.free_symbols`.\n",
    "\n",
    ":::"
   ]
  },
  {
   "cell_type": "code",
   "execution_count": null,
   "metadata": {
    "jupyter": {
     "source_hidden": true
    },
    "tags": [
     "full-width",
     "hide-input"
    ]
   },
   "outputs": [],
   "source": [
    "Math(\n",
    "    sp.multiline_latex(sp.Symbol(\"A\"), amplitude_expr, environment=\"eqnarray\")\n",
    ")"
   ]
  },
  {
   "cell_type": "markdown",
   "metadata": {},
   "source": [
    "## Polarization"
   ]
  },
  {
   "cell_type": "markdown",
   "metadata": {},
   "source": [
    ":::{todo}\n",
    "\n",
    "Formulate Section 2 with [SymPy](https://docs.sympy.org).\n",
    "\n",
    ":::"
   ]
  },
  {
   "cell_type": "markdown",
   "metadata": {},
   "source": [
    "## Computations with TensorWaves\n"
   ]
  },
  {
   "cell_type": "markdown",
   "metadata": {},
   "source": [
    "The full [expression tree](https://docs.sympy.org/latest/tutorial/manipulation.html) can be converted to a computational function as follows. Note that _all_ {attr}`~sympy.core.basic.Basic.free_symbols` become arguments to the function:"
   ]
  },
  {
   "cell_type": "code",
   "execution_count": null,
   "metadata": {},
   "outputs": [],
   "source": [
    "from tensorwaves.function.sympy import create_function\n",
    "\n",
    "func = create_function(amplitude_expr, backend=\"jax\")\n",
    "func.argument_order"
   ]
  },
  {
   "cell_type": "markdown",
   "metadata": {},
   "source": [
    "Optionally, some symbols {class}`~sympy.core.symbol.Symbol`s can be identified as (fit) parameters:"
   ]
  },
  {
   "cell_type": "code",
   "execution_count": null,
   "metadata": {},
   "outputs": [],
   "source": [
    "from tensorwaves.function.sympy import create_parametrized_function\n",
    "\n",
    "parameter_defaults = {\n",
    "    zeta_0_1: 0,\n",
    "    zeta_0_3: 0,\n",
    "    zeta_1_1: 0,\n",
    "    zeta_1_3: 0,\n",
    "}\n",
    "par_func = create_parametrized_function(\n",
    "    amplitude_expr,\n",
    "    parameters=parameter_defaults,\n",
    "    backend=\"jax\",\n",
    ")"
   ]
  },
  {
   "cell_type": "markdown",
   "metadata": {},
   "source": [
    ":::{todo}\n",
    "\n",
    "Visualize $I(\\alpha, \\beta, \\gamma, m_{K\\pi}, m_{K\\pi})$ distribution, potentially with [`ipywidgets`](https://ipywidgets.readthedocs.io).\n",
    "\n",
    ":::"
   ]
  }
 ],
 "metadata": {
  "kernelspec": {
   "display_name": "Python 3 (ipykernel)",
   "language": "python",
   "name": "python3"
  },
  "language_info": {
   "name": "python",
   "version": "3.8.13"
  }
 },
 "nbformat": 4,
 "nbformat_minor": 4
}
