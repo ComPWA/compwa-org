{
 "cells": [
  {
   "cell_type": "code",
   "execution_count": null,
   "metadata": {
    "hideCode": true,
    "hideOutput": true,
    "hidePrompt": true,
    "jupyter": {
     "source_hidden": true
    },
    "slideshow": {
     "slide_type": "skip"
    },
    "tags": [
     "remove-cell"
    ]
   },
   "outputs": [],
   "source": [
    "import os\n",
    "\n",
    "STATIC_WEB_PAGE = {\"EXECUTE_NB\", \"READTHEDOCS\"}.intersection(os.environ)"
   ]
  },
  {
   "cell_type": "markdown",
   "metadata": {},
   "source": [
    "```{autolink-concat}\n",
    "```"
   ]
  },
  {
   "cell_type": "markdown",
   "metadata": {
    "editable": true,
    "slideshow": {
     "slide_type": ""
    },
    "tags": []
   },
   "source": [
    "::::{margin}\n",
    ":::{card} Phase space factor with rotated cut\n",
    "TR-980\n",
    "^^^\n",
    "We rotate the cut in the definition of the phase space factor $\\rho(s)$, but **do not rotate the path** of the dispersion integral.\n",
    "+++\n",
    "🚧&nbsp;[compwa.github.io#204](https://github.com/ComPWA/compwa.github.io/pull/204)\n",
    ":::\n",
    "::::"
   ]
  },
  {
   "cell_type": "markdown",
   "metadata": {
    "editable": true,
    "slideshow": {
     "slide_type": ""
    },
    "tags": []
   },
   "source": [
    "# Phase space factor with rotated cut"
   ]
  },
  {
   "cell_type": "code",
   "execution_count": null,
   "metadata": {
    "editable": true,
    "slideshow": {
     "slide_type": ""
    },
    "tags": [
     "remove-cell"
    ]
   },
   "outputs": [],
   "source": [
    "%pip install -q numpy==1.24.4 scipy==1.10.1"
   ]
  },
  {
   "cell_type": "code",
   "execution_count": null,
   "metadata": {
    "editable": true,
    "jupyter": {
     "source_hidden": true
    },
    "slideshow": {
     "slide_type": ""
    },
    "tags": [
     "hide-cell"
    ]
   },
   "outputs": [],
   "source": [
    "import warnings\n",
    "\n",
    "import matplotlib.pyplot as plt\n",
    "import numpy as np\n",
    "from scipy.integrate import quad_vec as integrate\n",
    "\n",
    "warnings.filterwarnings(\"ignore\")"
   ]
  },
  {
   "cell_type": "code",
   "execution_count": null,
   "metadata": {
    "editable": true,
    "slideshow": {
     "slide_type": ""
    },
    "tags": []
   },
   "outputs": [],
   "source": [
    "ϵ = 1e-8\n",
    "\n",
    "\n",
    "def rho_cm(s, m1, m2, phi: float = 0) -> np.ndarray:\n",
    "    return -1j * dispersion_integral(s, m1, m2, phi)\n",
    "\n",
    "\n",
    "def dispersion_integral(s, m1, m2, phi: float = 0) -> np.ndarray:\n",
    "    s_thr = (m1 + m2) ** 2\n",
    "    func = lambda x: rho(x, m1, m2, phi) / ((x - ϵ * 1j - s_thr) * (x - ϵ * 1j - s))\n",
    "    return (s - s_thr) / np.pi * integrate(func, s_thr, np.inf)[0]\n",
    "\n",
    "\n",
    "def rho(s, m1, m2, phi: float = 0) -> np.ndarray:\n",
    "    return sqrt((s - (m1 + m2) ** 2) * (s - (m1 - m2) ** 2), phi) / s\n",
    "\n",
    "\n",
    "def sqrt(z, phi: float = 0) -> np.ndarray:\n",
    "    return np.exp(-0.5j * phi) * np.sqrt(z * np.exp(phi * 1j))"
   ]
  },
  {
   "cell_type": "code",
   "execution_count": null,
   "metadata": {
    "editable": true,
    "jupyter": {
     "source_hidden": true
    },
    "slideshow": {
     "slide_type": ""
    },
    "tags": [
     "hide-input"
    ]
   },
   "outputs": [],
   "source": [
    "%config InlineBackend.figure_formats = ['svg']\n",
    "resolution = 100\n",
    "x = np.linspace(0, 3, num=resolution)\n",
    "m1 = 0.1\n",
    "m2 = 0.7\n",
    "phi = -np.pi / 6\n",
    "\n",
    "y1 = rho(x, m1, m2, phi)\n",
    "y2 = rho_cm(x, m1, m2, phi)\n",
    "assert not any(np.isnan(y2)), \"Contains NaN values!\"\n",
    "\n",
    "fig, ax = plt.subplots()\n",
    "ax.axhline(0, c=\"black\", lw=0.4)\n",
    "ax.axvline(0, c=\"black\", lw=0.4)\n",
    "ax.plot(x, y1.real, label=R\"$\\rho$\", lw=4, alpha=0.5)\n",
    "ax.plot(x, y2.real, label=R\"$\\rho^\\mathrm{CM}$\")\n",
    "ax.axvline((m1 - m2) ** 2, c=\"red\", ls=\"dotted\", label=\"$(m_1-m_2)^2$\")\n",
    "ax.axvline((m1 + m2) ** 2, c=\"black\", ls=\"dotted\", label=\"$(m_1+m_2)^2$\")\n",
    "ax.set_ylim(-0.3, +1.6)\n",
    "ax.set_xlabel(\"$s$\")\n",
    "ax.set_title(Rf\"$\\phi={phi / np.pi:.4g}\\pi$\")\n",
    "ax.legend()\n",
    "fig.tight_layout()\n",
    "plt.show()"
   ]
  },
  {
   "cell_type": "code",
   "execution_count": null,
   "metadata": {
    "editable": true,
    "jupyter": {
     "source_hidden": true
    },
    "slideshow": {
     "slide_type": ""
    },
    "tags": [
     "hide-input"
    ]
   },
   "outputs": [],
   "source": [
    "%config InlineBackend.figure_formats = ['png']\n",
    "y = np.linspace(-1, +1, num=resolution)\n",
    "X, Y = np.meshgrid(x, y)\n",
    "Z = X + Y * 1j\n",
    "\n",
    "T = rho(Z, m1, m2, phi)\n",
    "fig, ax = plt.subplots()\n",
    "fig.suptitle(\"Phase space factor with rotated cut\")\n",
    "ax.set_xlabel(R\"$\\mathrm{Re}\\,s$\")\n",
    "ax.set_ylabel(R\"$\\mathrm{Im}\\,s$\")\n",
    "ax.set_title(Rf\"$\\phi={phi / np.pi:.4g}\\pi$\")\n",
    "mesh = ax.pcolormesh(X, Y, T.real, cmap=plt.cm.coolwarm, vmin=-5, vmax=5)\n",
    "plt.colorbar(mesh, ax=ax, pad=0.02)\n",
    "fig.tight_layout()\n",
    "plt.show()"
   ]
  },
  {
   "cell_type": "code",
   "execution_count": null,
   "metadata": {
    "editable": true,
    "jupyter": {
     "source_hidden": true
    },
    "slideshow": {
     "slide_type": ""
    },
    "tags": [
     "hide-input"
    ]
   },
   "outputs": [],
   "source": [
    "%config InlineBackend.figure_formats = ['png']\n",
    "T = rho_cm(Z, m1, m2, phi)\n",
    "fig, ax = plt.subplots()\n",
    "fig.suptitle(\"Dispersion integral over rotated phase space factor\")\n",
    "ax.set_xlabel(R\"$\\mathrm{Re}\\,s$\")\n",
    "ax.set_ylabel(R\"$\\mathrm{Im}\\,s$\")\n",
    "ax.set_title(Rf\"$\\phi={phi / np.pi:.4g}\\pi$\")\n",
    "mesh = ax.pcolormesh(X, Y, T.real, cmap=plt.cm.coolwarm)\n",
    "plt.colorbar(mesh, ax=ax, pad=0.02)\n",
    "fig.tight_layout()\n",
    "plt.show()"
   ]
  },
  {
   "cell_type": "markdown",
   "metadata": {
    "editable": true,
    "slideshow": {
     "slide_type": ""
    },
    "tags": []
   },
   "source": [
    ":::{error}\n",
    "Rotating the cut in the square root definition for $\\rho$ still does not rotate the cut in the dispersion integral! 😭\n",
    ":::"
   ]
  }
 ],
 "metadata": {
  "colab": {
   "toc_visible": true
  },
  "kernelspec": {
   "display_name": "Python 3 (ipykernel)",
   "language": "python",
   "name": "python3"
  },
  "language_info": {
   "codemirror_mode": {
    "name": "ipython",
    "version": 3
   },
   "file_extension": ".py",
   "mimetype": "text/x-python",
   "name": "python",
   "nbconvert_exporter": "python",
   "pygments_lexer": "ipython3",
   "version": "3.10.13"
  },
  "nbdime-conflicts": {
   "local_diff": [
    {
     "diff": [
      {
       "diff": [
        {
         "key": 0,
         "op": "addrange",
         "valuelist": [
          "3.10.13"
         ]
        },
        {
         "key": 0,
         "length": 1,
         "op": "removerange"
        }
       ],
       "key": "version",
       "op": "patch"
      }
     ],
     "key": "language_info",
     "op": "patch"
    }
   ],
   "remote_diff": [
    {
     "diff": [
      {
       "diff": [
        {
         "key": 0,
         "op": "addrange",
         "valuelist": [
          "3.11.6"
         ]
        },
        {
         "key": 0,
         "length": 1,
         "op": "removerange"
        }
       ],
       "key": "version",
       "op": "patch"
      }
     ],
     "key": "language_info",
     "op": "patch"
    }
   ]
  }
 },
 "nbformat": 4,
 "nbformat_minor": 4
}
