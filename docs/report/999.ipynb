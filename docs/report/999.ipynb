{
 "cells": [
  {
   "cell_type": "code",
   "execution_count": null,
   "metadata": {
    "hideCode": true,
    "hideOutput": true,
    "hidePrompt": true,
    "jupyter": {
     "source_hidden": true
    },
    "slideshow": {
     "slide_type": "skip"
    },
    "tags": [
     "remove-cell"
    ]
   },
   "outputs": [],
   "source": [
    "import os\n",
    "\n",
    "STATIC_WEB_PAGE = {\"EXECUTE_NB\", \"READTHEDOCS\"}.intersection(os.environ)"
   ]
  },
  {
   "cell_type": "markdown",
   "metadata": {
    "editable": true,
    "slideshow": {
     "slide_type": ""
    },
    "tags": []
   },
   "source": [
    "```{autolink-concat}\n",
    "```"
   ]
  },
  {
   "cell_type": "markdown",
   "metadata": {
    "editable": true,
    "slideshow": {
     "slide_type": ""
    },
    "tags": [
     "documentation",
     "jupyter",
     "sphinx",
     "3d"
    ]
   },
   "source": [
    "::::{margin}\n",
    ":::{card} Amplitude Analysis with Python basics\n",
    "TR-999\n",
    "^^^\n",
    "+++\n",
    "✅&nbsp;[ComPWA/RUB-EP1-AG#93](https://github.com/ComPWA/RUB-EP1-AG/issues/93)\n",
    ":::\n",
    "::::"
   ]
  },
  {
   "cell_type": "markdown",
   "metadata": {
    "editable": true,
    "slideshow": {
     "slide_type": ""
    },
    "tags": []
   },
   "source": [
    "# Amplitude Analysis 101"
   ]
  },
  {
   "cell_type": "code",
   "execution_count": null,
   "metadata": {
    "editable": true,
    "slideshow": {
     "slide_type": ""
    },
    "tags": [
     "remove-cell"
    ]
   },
   "outputs": [],
   "source": [
    "%pip install -q \"phasespace[fromdecay]\"==1.9.0 gdown==4.7.1 iminuit==2.25.2 matplotlib==3.7.3 numpy==1.24.4 particle==0.23.0 scipy==1.10.1 vector==1.1.1.post1"
   ]
  },
  {
   "cell_type": "code",
   "execution_count": null,
   "metadata": {
    "editable": true,
    "slideshow": {
     "slide_type": ""
    },
    "tags": [
     "hide-cell"
    ]
   },
   "outputs": [],
   "source": [
    "from __future__ import annotations\n",
    "\n",
    "import warnings\n",
    "\n",
    "import gdown\n",
    "import matplotlib.pyplot as plt\n",
    "import numpy as np\n",
    "import scipy as sp\n",
    "import vector\n",
    "from vector.backends.numpy import MomentumNumpy4D\n",
    "\n",
    "warnings.filterwarnings(\"ignore\")"
   ]
  },
  {
   "cell_type": "markdown",
   "metadata": {
    "editable": true,
    "slideshow": {
     "slide_type": ""
    },
    "tags": []
   },
   "source": [
    "## Phase space"
   ]
  },
  {
   "cell_type": "code",
   "execution_count": null,
   "metadata": {
    "editable": true,
    "slideshow": {
     "slide_type": ""
    },
    "tags": []
   },
   "outputs": [],
   "source": [
    "filename = gdown.cached_download(\n",
    "    url=\"https://indico.ific.uv.es/event/6803/contributions/21220/attachments/11209/15505/Three-particles-flat.dat\",\n",
    "    path=\"data/Three-particles-flat.dat\",\n",
    "    md5=\"7624074870c22b57581e5c54a1b93754\",\n",
    "    quiet=True,\n",
    "    verify=False,\n",
    ")\n",
    "imported_phsp = np.loadtxt(filename)\n",
    "imported_phsp.shape"
   ]
  },
  {
   "cell_type": "markdown",
   "metadata": {
    "editable": true,
    "slideshow": {
     "slide_type": ""
    },
    "tags": []
   },
   "source": [
    "Calculations with 4-vectors are performed with the [`vector`](https://vector.readthedocs.io/en/latest/usage/intro.html) package:"
   ]
  },
  {
   "cell_type": "code",
   "execution_count": null,
   "metadata": {
    "editable": true,
    "slideshow": {
     "slide_type": ""
    },
    "tags": []
   },
   "outputs": [],
   "source": [
    "n_final_state = 3\n",
    "pa, p1, p2, p3 = (\n",
    "    vector.array({\n",
    "        key: imported_phsp[i::4].T[j] for j, key in enumerate([\"E\", \"px\", \"py\", \"pz\"])\n",
    "    })\n",
    "    for i in range(n_final_state + 1)\n",
    ")"
   ]
  },
  {
   "cell_type": "code",
   "execution_count": null,
   "metadata": {
    "editable": true,
    "slideshow": {
     "slide_type": ""
    },
    "tags": []
   },
   "outputs": [],
   "source": [
    "p0 = p1 + p2 + p3\n",
    "pb = p0 - pa\n",
    "\n",
    "p12 = p1 + p2\n",
    "p23 = p2 + p3\n",
    "p31 = p3 + p1\n",
    "\n",
    "s12 = p12.m2\n",
    "s23 = p23.m2\n",
    "s31 = p31.m2"
   ]
  },
  {
   "cell_type": "code",
   "execution_count": null,
   "metadata": {
    "editable": true,
    "slideshow": {
     "slide_type": ""
    },
    "tags": []
   },
   "outputs": [],
   "source": [
    "np.testing.assert_almost_equal(p0.p2.max(), 0)"
   ]
  },
  {
   "cell_type": "code",
   "execution_count": null,
   "metadata": {},
   "outputs": [],
   "source": [
    "def boost(p: MomentumNumpy4D, boost_p: MomentumNumpy4D) -> MomentumNumpy4D:\n",
    "    return p.boost_beta3(boost_p.to_beta3())\n",
    "\n",
    "\n",
    "def flip(p: MomentumNumpy4D) -> MomentumNumpy4D:\n",
    "    return MomentumNumpy4D(\n",
    "        vector.array({\"E\": p.e, \"px\": -p.px, \"py\": -p.py, \"pz\": -p.pz})\n",
    "    )"
   ]
  },
  {
   "cell_type": "code",
   "execution_count": null,
   "metadata": {},
   "outputs": [],
   "source": [
    "p1_rest = boost(p1, flip(p1))\n",
    "np.testing.assert_almost_equal(p1_rest.p.mean(), 0)\n",
    "np.testing.assert_almost_equal(p1_rest.e.std(), 0, decimal=6)\n",
    "np.testing.assert_array_almost_equal(p1_rest.e, p1.m)"
   ]
  },
  {
   "cell_type": "code",
   "execution_count": null,
   "metadata": {
    "editable": true,
    "jupyter": {
     "source_hidden": true
    },
    "slideshow": {
     "slide_type": ""
    },
    "tags": [
     "full-width",
     "hide-input"
    ]
   },
   "outputs": [],
   "source": [
    "fig, ax = plt.subplots()\n",
    "fig.suptitle(\"Dalitz plot – histogram\")\n",
    "ax.hist2d(s12, s23, bins=100, cmin=1)\n",
    "ax.set_xlabel(R\"$s_{12}\\;\\left[\\mathrm{GeV}^2\\right]$\")\n",
    "ax.set_ylabel(R\"$s_{23}\\;\\left[\\mathrm{GeV}^2\\right]$\")\n",
    "fig.tight_layout()\n",
    "plt.show()"
   ]
  },
  {
   "cell_type": "markdown",
   "metadata": {
    "editable": true,
    "slideshow": {
     "slide_type": ""
    },
    "tags": []
   },
   "source": [
    "## Angular distributions"
   ]
  },
  {
   "cell_type": "markdown",
   "metadata": {
    "editable": true,
    "slideshow": {
     "slide_type": ""
    },
    "tags": []
   },
   "source": [
    "Before boosting"
   ]
  },
  {
   "cell_type": "markdown",
   "metadata": {
    "editable": true,
    "slideshow": {
     "slide_type": ""
    },
    "tags": []
   },
   "source": [
    "<iframe src=\"https://www.geogebra.org/3d/dgjn83pb?embed\" width=\"800\" height=\"600\" allowfullscreen style=\"border: 1px solid #e4e4e4;border-radius: 4px;\" frameborder=\"0\"></iframe>"
   ]
  },
  {
   "cell_type": "markdown",
   "metadata": {
    "editable": true,
    "slideshow": {
     "slide_type": ""
    },
    "tags": []
   },
   "source": [
    "After Boosted into system$_{12}$ rest frame"
   ]
  },
  {
   "cell_type": "markdown",
   "metadata": {},
   "source": [
    "<iframe src=\"https://www.geogebra.org/3d/tv5kr8pp?embed\" width=\"800\" height=\"600\" allowfullscreen style=\"border: 1px solid #e4e4e4;border-radius: 4px;\" frameborder=\"0\"></iframe>"
   ]
  },
  {
   "cell_type": "markdown",
   "metadata": {},
   "source": [
    "The helicity angle between decay product before boost:"
   ]
  },
  {
   "cell_type": "markdown",
   "metadata": {
    "editable": true,
    "slideshow": {
     "slide_type": ""
    },
    "tags": []
   },
   "source": [
    "The helicity angles $\\Omega_i$ are pairs of Euler angles $\\Omega_i = \\left(\\theta_i, \\phi_i\\right)$:\n",
    "- Opening angle $\\theta_1 \\equiv \\theta^{12}_1$ of four-momentum $p_1$ is the angle between $p'_1 \\equiv p^{12}_1$ and $p_{12}$.\n",
    "- The angle $\\phi_1 \\equiv \\phi^{12}_1$ defines the angle between the **production plane** spanned by $p_{12}$ and $p_3$ and the **decay plane** spanned by $p^{(\\prime)}_1$ and $p^{(\\prime)}_2$.\n",
    "\n",
    "The helicity angles of the other subsystems are defined by cyclic permutation of the indices, such that $\\theta_2 \\equiv \\theta^{12}_2$ and $\\theta_3 \\equiv \\theta^{31}_1$."
   ]
  },
  {
   "cell_type": "code",
   "execution_count": null,
   "metadata": {
    "editable": true,
    "slideshow": {
     "slide_type": ""
    },
    "tags": [
     "remove-cell"
    ]
   },
   "outputs": [],
   "source": [
    "np.testing.assert_array_almost_equal(p1.theta, np.arccos(p1.z / p1.p))\n",
    "np.testing.assert_array_almost_equal(p1.phi, np.arctan2(p1.y, p1.x))"
   ]
  },
  {
   "cell_type": "code",
   "execution_count": null,
   "metadata": {
    "editable": true,
    "jupyter": {
     "source_hidden": true
    },
    "slideshow": {
     "slide_type": ""
    },
    "tags": [
     "hide-cell"
    ]
   },
   "outputs": [],
   "source": [
    "theta1_test = p1.rotateZ(-p12.phi).rotateY(-p12.theta).boostZ(p12.beta).theta\n",
    "theta2_test = p2.rotateZ(-p23.phi).rotateY(-p23.theta).boostZ(p23.beta).theta\n",
    "theta3_test = p3.rotateZ(-p31.phi).rotateY(-p31.theta).boostZ(p31.beta).theta\n",
    "\n",
    "phi1_test = p1.rotateZ(-p12.phi).rotateY(-p12.theta).boostZ(p12.beta).phi\n",
    "phi2_test = p2.rotateZ(-p23.phi).rotateY(-p23.theta).boostZ(p23.beta).phi\n",
    "phi3_test = p3.rotateZ(-p31.phi).rotateY(-p31.theta).boostZ(p31.beta).phi"
   ]
  },
  {
   "cell_type": "code",
   "execution_count": null,
   "metadata": {},
   "outputs": [],
   "source": [
    "def theta_helicity(p_i: MomentumNumpy4D, p_ij: MomentumNumpy4D):\n",
    "    return p_i.rotateZ(-p_ij.phi).rotateY(-p_ij.theta).boostZ(p_ij.beta).theta\n",
    "\n",
    "\n",
    "def phi_helicity(p_i, p_ij):\n",
    "    return p_i.rotateZ(-p_ij.phi).rotateY(-p_ij.theta).boostZ(p_ij.beta).phi"
   ]
  },
  {
   "cell_type": "code",
   "execution_count": null,
   "metadata": {},
   "outputs": [],
   "source": [
    "theta1 = theta_helicity(p1, p12)\n",
    "theta2 = theta_helicity(p2, p23)\n",
    "theta3 = theta_helicity(p3, p31)\n",
    "\n",
    "phi1 = phi_helicity(p1, p12)\n",
    "phi2 = phi_helicity(p2, p23)\n",
    "phi3 = phi_helicity(p3, p31)"
   ]
  },
  {
   "cell_type": "code",
   "execution_count": null,
   "metadata": {
    "editable": true,
    "slideshow": {
     "slide_type": ""
    },
    "tags": [
     "hide-input"
    ]
   },
   "outputs": [],
   "source": [
    "np.testing.assert_array_almost_equal(theta1, theta1_test)\n",
    "np.testing.assert_array_almost_equal(theta2, theta2_test)\n",
    "np.testing.assert_array_almost_equal(theta3, theta3_test)\n",
    "\n",
    "np.testing.assert_array_almost_equal(phi1, phi1_test)\n",
    "np.testing.assert_array_almost_equal(phi2, phi2_test)\n",
    "np.testing.assert_array_almost_equal(phi3, phi3_test)"
   ]
  },
  {
   "cell_type": "code",
   "execution_count": null,
   "metadata": {
    "editable": true,
    "slideshow": {
     "slide_type": ""
    },
    "tags": [
     "full-width",
     "hide-input"
    ]
   },
   "outputs": [],
   "source": [
    "def plot_helicity_angles_2d(\n",
    "    phi1, phi2, phi3, theta1, theta2, theta3, title: str\n",
    ") -> None:\n",
    "    fig, axes = plt.subplots(figsize=(13, 4), ncols=3, sharey=True)\n",
    "    for i, ax in enumerate(axes, 1):\n",
    "        ax.set_xlabel(Rf\"$\\theta_{i}$\")\n",
    "        ax.set_ylabel(Rf\"$\\phi_{i}$\")\n",
    "    axes[0].hist2d(theta1[~np.isnan(phi1)], phi1[~np.isnan(phi1)], bins=100)\n",
    "    axes[1].hist2d(theta2[~np.isnan(phi2)], phi2[~np.isnan(phi2)], bins=100)\n",
    "    axes[2].hist2d(theta3[~np.isnan(phi3)], phi3[~np.isnan(phi3)], bins=100)\n",
    "    fig.suptitle(title)\n",
    "    fig.tight_layout()\n",
    "    plt.show()\n",
    "\n",
    "\n",
    "plot_helicity_angles_2d(phi1, phi2, phi3, theta1, theta2, theta3, title=\"Phase space\")"
   ]
  },
  {
   "cell_type": "code",
   "execution_count": null,
   "metadata": {
    "editable": true,
    "jupyter": {
     "source_hidden": true
    },
    "slideshow": {
     "slide_type": ""
    },
    "tags": [
     "hide-input",
     "full-width"
    ]
   },
   "outputs": [],
   "source": [
    "fig, (theta_ax, phi_ax, mass_ax) = plt.subplots(figsize=(13, 11), ncols=3, nrows=3)\n",
    "for i, ax in enumerate(theta_ax, 1):\n",
    "    ax.set_title(Rf\"$\\theta_{i}$\")\n",
    "    ax.set_xticks([0, np.pi / 2, np.pi])\n",
    "    ax.set_xticklabels([\"0\", R\"$\\frac{\\pi}{2}$\", R\"$\\pi$\"])\n",
    "for i, ax in enumerate(phi_ax, 1):\n",
    "    ax.set_title(Rf\"$\\phi_{i}$\")\n",
    "    ax.set_xticks([-np.pi, 0, np.pi])\n",
    "    ax.set_xticklabels([R\"-$\\pi$\", 0, R\"$\\pi$\"])\n",
    "for i, ax in enumerate(mass_ax, 1):\n",
    "    ax.set_title(Rf\"$m_{{{i}{(i % 3 + 1)}}}$\")\n",
    "\n",
    "theta_ax[0].hist(\n",
    "    theta1,\n",
    "    bins=100,\n",
    "    label=\"phsp\",\n",
    ")\n",
    "theta_ax[1].hist(\n",
    "    theta2,\n",
    "    bins=100,\n",
    "    label=\"phsp\",\n",
    ")\n",
    "theta_ax[2].hist(\n",
    "    theta3,\n",
    "    bins=100,\n",
    "    label=\"phsp\",\n",
    ")\n",
    "\n",
    "phi_ax[0].hist(\n",
    "    phi1,\n",
    "    bins=50,\n",
    "    label=\"phsp\",\n",
    ")\n",
    "phi_ax[1].hist(\n",
    "    phi2,\n",
    "    bins=50,\n",
    "    label=\"phsp\",\n",
    ")\n",
    "phi_ax[2].hist(\n",
    "    phi3,\n",
    "    bins=50,\n",
    "    label=\"phsp\",\n",
    ")\n",
    "\n",
    "mass_ax[0].hist(\n",
    "    p12.m,\n",
    "    bins=100,\n",
    "    label=\"phsp\",\n",
    ")\n",
    "mass_ax[1].hist(\n",
    "    p23.m,\n",
    "    bins=100,\n",
    "    label=\"phsp\",\n",
    ")\n",
    "mass_ax[2].hist(\n",
    "    p31.m,\n",
    "    bins=100,\n",
    "    label=\"phsp\",\n",
    ")\n",
    "\n",
    "theta_ax[0].legend()\n",
    "phi_ax[0].legend()\n",
    "theta_ax[1].legend()\n",
    "phi_ax[1].legend()\n",
    "theta_ax[2].legend()\n",
    "phi_ax[2].legend()\n",
    "\n",
    "mass_ax[0].legend()\n",
    "mass_ax[1].legend()\n",
    "mass_ax[2].legend()\n",
    "\n",
    "\n",
    "fig.suptitle(R\"Helicity angles and invariant mass\")\n",
    "fig.tight_layout()\n",
    "plt.show()"
   ]
  },
  {
   "cell_type": "markdown",
   "metadata": {
    "editable": true,
    "slideshow": {
     "slide_type": ""
    },
    "tags": []
   },
   "source": [
    "## Amplitude model"
   ]
  },
  {
   "cell_type": "markdown",
   "metadata": {
    "editable": true,
    "slideshow": {
     "slide_type": ""
    },
    "tags": [
     "full-width"
    ]
   },
   "source": [
    "```{image} https://github.com/ComPWA/compwa-org/assets/17490173/ec6bf191-bd5f-43b0-a6cb-da470b071630\n",
    ":width: 100%\n",
    "```"
   ]
  },
  {
   "cell_type": "markdown",
   "metadata": {
    "editable": true,
    "slideshow": {
     "slide_type": ""
    },
    "tags": []
   },
   "source": [
    "$$\n",
    "\\begin{eqnarray}\n",
    "I &=& |A|^2 \\\\\n",
    "A &=& A^{12} + A^{23} + A^{31} \\\\\n",
    "&1 \\equiv \\eta ; \\quad  2 \\equiv \\pi^0 ; \\quad 3 \\equiv p \\\\\n",
    "A^{12} &=& \\frac{\\sum a_m Y_2^m (\\Omega_1)}{s-m^2_{a_2}+im_{a_2} \\Gamma_{a_2}} \\times s^{0.5+0.9u_3} \\\\\n",
    "A^{23} &=& \\frac{\\sum b_m Y_1^m (\\Omega_2)}{s-m^2_{\\Delta}+im_{\\Delta} \\Gamma_{\\Delta}} \\times s^{0.5+0.9t_1} \\\\\n",
    "A^{31} &=& \\frac{c_0}{s-m^2_{N^*}+im_{N^*} \\Gamma_{N^*}} \\times s^{1.08+0.2t_2} \\\\\n",
    "\\end{eqnarray}\n",
    "$$\n",
    "\n",
    "where $s, t, u$ are the Mandelstam variables $s_{ij}=(p_i+p_j)^2$, $t_i=(p_a-p_i)^2$, and $u_i=(p_b-p_i)^2$."
   ]
  },
  {
   "cell_type": "code",
   "execution_count": null,
   "metadata": {
    "editable": true,
    "slideshow": {
     "slide_type": ""
    },
    "tags": []
   },
   "outputs": [],
   "source": [
    "def BW(s, m, Gamma):\n",
    "    return 1 / (s - m**2 + m * Gamma * 1j)"
   ]
  },
  {
   "cell_type": "code",
   "execution_count": null,
   "metadata": {
    "editable": true,
    "slideshow": {
     "slide_type": ""
    },
    "tags": []
   },
   "outputs": [],
   "source": [
    "u3 = (pb - p3).m2\n",
    "t1 = (pa - p1).m2\n",
    "t2 = (pa - p2).m2"
   ]
  },
  {
   "cell_type": "markdown",
   "metadata": {
    "editable": true,
    "slideshow": {
     "slide_type": ""
    },
    "tags": []
   },
   "source": [
    "The Helicity angle between decay products(Polar Angles):\n",
    "\n",
    "$$\n",
    "\\theta = \\arccos \\frac{p_z}{|p|}\n",
    "$$"
   ]
  },
  {
   "cell_type": "code",
   "execution_count": null,
   "metadata": {
    "editable": true,
    "slideshow": {
     "slide_type": ""
    },
    "tags": [
     "hide-cell"
    ]
   },
   "outputs": [],
   "source": [
    "theta_a = np.arccos(pa.pz / pa.p)\n",
    "theta_1 = np.arccos(p1.pz / p1.p)\n",
    "theta_2 = np.arccos(p2.pz / p2.p)\n",
    "theta_3 = np.arccos(p3.pz / p3.p)"
   ]
  },
  {
   "cell_type": "markdown",
   "metadata": {
    "editable": true,
    "slideshow": {
     "slide_type": ""
    },
    "tags": []
   },
   "source": [
    "The Helicity angle with the production plane and decay plane(Azimuthal Angles):\n",
    "\n",
    "$$\n",
    "\\phi = \\arctan2(p_y , p_x)\n",
    "$$"
   ]
  },
  {
   "cell_type": "code",
   "execution_count": null,
   "metadata": {
    "editable": true,
    "slideshow": {
     "slide_type": ""
    },
    "tags": [
     "hide-cell"
    ]
   },
   "outputs": [],
   "source": [
    "phi_a = np.arctan2(pa.py, pa.px)\n",
    "phi_1 = np.arctan2(p1.py, p1.px)\n",
    "phi_2 = np.arctan2(p2.py, p2.px)\n",
    "phi_3 = np.arctan2(p3.py, p3.px)"
   ]
  },
  {
   "cell_type": "markdown",
   "metadata": {
    "editable": true,
    "slideshow": {
     "slide_type": ""
    },
    "tags": []
   },
   "source": [
    "$Y_l^m(\\phi, \\theta)$ is `scipy.special.sph_harm(m, l, phi, theta)`\n",
    "\n",
    "$Y_l^m(\\phi, \\theta) = \\sqrt{\\frac{2n+1}{4\\pi}\\frac{(n-m)!}{(n+m)!}}e^{im\\phi}P_l^m(\\cos(\\theta))$\n",
    "\n",
    "here the notation of $\\theta$ and $\\phi$ are not using the same as in `scipy`\n",
    "\n",
    "where \n",
    "$\\phi$ is the azimuthal  from -$\\pi$ to $\\pi$ (in `scipy` it is $\\theta$ and from 0 to $2\\pi$)\n",
    "\n",
    "$\\theta$ is the polar angle from 0 to $\\pi$ (in `scipy` it is $\\phi$)"
   ]
  },
  {
   "cell_type": "markdown",
   "metadata": {
    "editable": true,
    "slideshow": {
     "slide_type": ""
    },
    "tags": []
   },
   "source": [
    "Spherical harmonics "
   ]
  },
  {
   "cell_type": "code",
   "execution_count": null,
   "metadata": {
    "editable": true,
    "slideshow": {
     "slide_type": ""
    },
    "tags": [
     "hide-input"
    ]
   },
   "outputs": [],
   "source": [
    "def compute_spherical_harmonics12(theta: np.ndarray, phi: np.ndarray) -> np.ndarray:\n",
    "    return (\n",
    "        2.5 * sp.special.sph_harm(2, 2, theta, phi)\n",
    "        + 4 * sp.special.sph_harm(1, 2, theta, phi)\n",
    "        + 3.5 * sp.special.sph_harm(0, 2, theta, phi)\n",
    "        + 0.5 * sp.special.sph_harm(-1, 2, theta, phi)\n",
    "        + 0 * sp.special.sph_harm(-2, 2, theta, phi)\n",
    "    )"
   ]
  },
  {
   "cell_type": "code",
   "execution_count": null,
   "metadata": {
    "editable": true,
    "slideshow": {
     "slide_type": ""
    },
    "tags": []
   },
   "outputs": [],
   "source": [
    "PHI, THETA = np.meshgrid(\n",
    "    np.linspace(-np.pi, +np.pi, num=1_000),\n",
    "    np.linspace(0, np.pi, num=1_000),\n",
    ")\n",
    "Z = compute_spherical_harmonics12(PHI, THETA)"
   ]
  },
  {
   "cell_type": "code",
   "execution_count": null,
   "metadata": {
    "editable": true,
    "jupyter": {
     "source_hidden": true
    },
    "slideshow": {
     "slide_type": ""
    },
    "tags": [
     "hide-input",
     "full-width"
    ]
   },
   "outputs": [],
   "source": [
    "fig, axes = plt.subplots(figsize=(10, 4), ncols=2, sharey=True, dpi=120)\n",
    "cmap_real = axes[0].pcolormesh(\n",
    "    np.degrees(PHI), np.degrees(THETA), Z.real, cmap=plt.cm.coolwarm\n",
    ")\n",
    "cmap_imag = axes[1].pcolormesh(\n",
    "    np.degrees(PHI), np.degrees(THETA), Z.imag, cmap=plt.cm.coolwarm\n",
    ")\n",
    "\n",
    "axes[0].set_xlabel(R\"$\\phi$ [deg]\")\n",
    "axes[0].set_ylabel(R\"$\\theta$ [deg]\")\n",
    "axes[0].set_title(R\"Real Part of $\\sum a_m Y_2^m (\\Omega_1)$\")\n",
    "axes[0].set_ylabel(R\"$\\theta$ [deg]\")\n",
    "axes[1].set_xlabel(R\"$\\phi$ [deg]\")\n",
    "axes[1].set_title(R\"Imaginary Part of $\\sum a_m Y_2^m (\\Omega_1)$\")\n",
    "\n",
    "cbar_real = fig.colorbar(cmap_real, ax=axes[0])\n",
    "cbar_imag = fig.colorbar(cmap_imag, ax=axes[1])\n",
    "\n",
    "fig.subplots_adjust(wspace=0.4, hspace=0.4)\n",
    "fig.tight_layout()\n",
    "plt.rcParams.update({\"font.size\": 10})\n",
    "plt.show()"
   ]
  },
  {
   "cell_type": "code",
   "execution_count": null,
   "metadata": {
    "editable": true,
    "jupyter": {
     "source_hidden": true
    },
    "slideshow": {
     "slide_type": ""
    },
    "tags": [
     "remove-cell",
     "hide-input",
     "hide-output"
    ]
   },
   "outputs": [],
   "source": [
    "plt.hist2d(\n",
    "    p12.phi,\n",
    "    p12.theta,\n",
    "    bins=100,\n",
    "    weights=compute_spherical_harmonics12(p12.phi, p12.theta).real,\n",
    "    cmap=plt.cm.coolwarm,\n",
    ")\n",
    "plt.title(\"$p_{12}$ with real part of spherical harmonics as weights in histogram\")\n",
    "plt.xlabel(R\"$\\phi$\")\n",
    "plt.ylabel(R\"$\\theta$\")\n",
    "plt.show()"
   ]
  },
  {
   "cell_type": "code",
   "execution_count": null,
   "metadata": {
    "editable": true,
    "slideshow": {
     "slide_type": ""
    },
    "tags": []
   },
   "outputs": [],
   "source": [
    "def compute_spherical_harmonics23(theta: np.ndarray, phi: np.ndarray) -> np.ndarray:\n",
    "    return (\n",
    "        0.5 * sp.special.sph_harm(1, 1, theta, phi)\n",
    "        + 4 * sp.special.sph_harm(0, 1, theta, phi)\n",
    "        - 1.5 * sp.special.sph_harm(-1, 1, theta, phi)\n",
    "    )"
   ]
  },
  {
   "cell_type": "code",
   "execution_count": null,
   "metadata": {
    "editable": true,
    "jupyter": {
     "source_hidden": true
    },
    "slideshow": {
     "slide_type": ""
    },
    "tags": [
     "hide-input",
     "full-width"
    ]
   },
   "outputs": [],
   "source": [
    "fig, axes = plt.subplots(figsize=(10, 4), ncols=2, sharey=True, dpi=120)\n",
    "cmap_real = axes[0].pcolormesh(\n",
    "    np.degrees(PHI), np.degrees(THETA), Z.real, cmap=plt.cm.coolwarm\n",
    ")\n",
    "cmap_imag = axes[1].pcolormesh(\n",
    "    np.degrees(PHI), np.degrees(THETA), Z.imag, cmap=plt.cm.coolwarm\n",
    ")\n",
    "\n",
    "axes[0].set_xlabel(R\"$\\phi$ [deg]\")\n",
    "axes[0].set_ylabel(R\"$\\theta$ [deg]\")\n",
    "axes[0].set_title(R\"Real Part of $\\sum b_m Y_1^m (\\Omega_2)$\")\n",
    "axes[0].set_ylabel(R\"$\\theta$ [deg]\")\n",
    "axes[1].set_xlabel(R\"$\\phi$ [deg]\")\n",
    "axes[1].set_title(R\"Imaginary Part of $\\sum b_m Y_1^m (\\Omega_2)$\")\n",
    "\n",
    "cbar_real = fig.colorbar(cmap_real, ax=axes[0])\n",
    "cbar_imag = fig.colorbar(cmap_imag, ax=axes[1])\n",
    "\n",
    "fig.subplots_adjust(wspace=0.4, hspace=0.4)\n",
    "fig.tight_layout()\n",
    "plt.rcParams.update({\"font.size\": 10})\n",
    "plt.show()"
   ]
  },
  {
   "cell_type": "code",
   "execution_count": null,
   "metadata": {},
   "outputs": [],
   "source": [
    "from scipy.special import lpmv\n",
    "\n",
    "\n",
    "def wigner_d_function(j, m, n, beta):\n",
    "    \"\"\"\n",
    "    Calculate the Wigner d-function for given j, m, n, and beta.\n",
    "\n",
    "    Parameters:\n",
    "    j (int): Total angular momentum quantum number.\n",
    "    m, n (int): Magnetic quantum numbers.\n",
    "    beta (float): The angle (in radians).\n",
    "\n",
    "    Returns:\n",
    "    float: The value of the Wigner d-function.\n",
    "    \"\"\"\n",
    "    # The Wigner d-function can be related to the associated Legendre polynomials\n",
    "    # Here, we use scipy's lpmv function which computes the associated Legendre polynomials\n",
    "    return (\n",
    "        np.sqrt(\n",
    "            (np.math.factorial(j + m) * np.math.factorial(j - m))\n",
    "            / (np.math.factorial(j + n) * np.math.factorial(j - n))\n",
    "        )\n",
    "        * np.cos(beta / 2) ** (2 * j + n - m)\n",
    "        * np.sin(beta / 2) ** (m - n)\n",
    "        * lpmv(n - m, 2 * j, np.cos(beta))\n",
    "    )\n",
    "\n",
    "\n",
    "def spherical_harmonics(l_num, m, theta, phi):\n",
    "    \"\"\"\n",
    "    Calculate the spherical harmonics using the Wigner d-function.\n",
    "\n",
    "    Parameters:\n",
    "    l (int): Angular momentum quantum number.\n",
    "    m (int): Magnetic quantum number.\n",
    "    theta (float): Polar angle in radians.\n",
    "    phi (float): Azimuthal angle in radians.\n",
    "\n",
    "    Returns:\n",
    "    complex: The value of the spherical harmonic.\n",
    "    \"\"\"\n",
    "    # Calculating the spherical harmonics using Wigner d-function\n",
    "    # Y^m_l(θ, φ) = √((2l+1)/(4π)) * e^(-imφ) * d^l_{m0}(θ)\n",
    "    normalization = np.sqrt((2 * l_num + 1) / (4 * np.pi))\n",
    "    return normalization * np.exp(-1j * m * phi) * wigner_d_function(l_num, m, 0, theta)"
   ]
  },
  {
   "cell_type": "code",
   "execution_count": null,
   "metadata": {},
   "outputs": [],
   "source": [
    "sp.special.sph_harm(1, 1, phi1, theta1)"
   ]
  },
  {
   "cell_type": "code",
   "execution_count": null,
   "metadata": {
    "editable": true,
    "slideshow": {
     "slide_type": ""
    },
    "tags": []
   },
   "outputs": [],
   "source": [
    "spherical_harmonics(1, 1, theta1, phi1)"
   ]
  },
  {
   "cell_type": "markdown",
   "metadata": {
    "editable": true,
    "slideshow": {
     "slide_type": ""
    },
    "tags": []
   },
   "source": [
    "## Implementation of a kinematic model"
   ]
  },
  {
   "cell_type": "code",
   "execution_count": null,
   "metadata": {
    "editable": true,
    "slideshow": {
     "slide_type": ""
    },
    "tags": []
   },
   "outputs": [],
   "source": [
    "R12 = 1.74\n",
    "R23 = 1.53\n",
    "R31 = 2.45\n",
    "M12 = np.sqrt(R12)\n",
    "M23 = np.sqrt(R23)\n",
    "M31 = np.sqrt(R31)"
   ]
  },
  {
   "cell_type": "code",
   "execution_count": null,
   "metadata": {
    "editable": true,
    "slideshow": {
     "slide_type": ""
    },
    "tags": []
   },
   "outputs": [],
   "source": [
    "def BW_model(s12, s23, s31, *, M12, Gamma12, M23, Gamma23, M31, Gamma31):\n",
    "    A12 = BW(s12, M12, Gamma12)\n",
    "    A23 = BW(s23, M23, Gamma23)\n",
    "    A31 = BW(s31, M31, Gamma31)\n",
    "    return np.abs(A12 + A23 + A31) ** 2"
   ]
  },
  {
   "cell_type": "code",
   "execution_count": null,
   "metadata": {
    "editable": true,
    "slideshow": {
     "slide_type": ""
    },
    "tags": []
   },
   "outputs": [],
   "source": [
    "test1 = boost(p1, flip(p1 + p2)).phi\n",
    "test2 = boost(p1, flip(p1 + p2)).theta"
   ]
  },
  {
   "cell_type": "code",
   "execution_count": null,
   "metadata": {
    "editable": true,
    "slideshow": {
     "slide_type": ""
    },
    "tags": []
   },
   "outputs": [],
   "source": [
    "def SH_model(phi1, theta1, phi2, theta2):\n",
    "    return (\n",
    "        np.abs(\n",
    "            compute_spherical_harmonics12(phi1, theta1)\n",
    "            + compute_spherical_harmonics23(phi2, theta2)\n",
    "            + c_0\n",
    "        )\n",
    "        ** 2\n",
    "    )"
   ]
  },
  {
   "cell_type": "code",
   "execution_count": null,
   "metadata": {
    "editable": true,
    "slideshow": {
     "slide_type": ""
    },
    "tags": [
     "full-width"
    ]
   },
   "outputs": [],
   "source": [
    "def BW_SH_model(\n",
    "    s12,\n",
    "    s23,\n",
    "    s31,\n",
    "    phi1,\n",
    "    theta1,\n",
    "    phi2,\n",
    "    theta2,\n",
    "    *,\n",
    "    M12,\n",
    "    Gamma12,\n",
    "    M23,\n",
    "    Gamma23,\n",
    "    M31,\n",
    "    Gamma31,\n",
    "):\n",
    "    A12 = BW(s12, M12, Gamma12) * compute_spherical_harmonics12(phi1, theta1)\n",
    "    A23 = BW(s23, M23, Gamma23) * compute_spherical_harmonics23(phi2, theta2)\n",
    "    A31 = BW(s31, M31, Gamma31) * 1\n",
    "    return np.abs(A12 + A23 + A31) ** 2"
   ]
  },
  {
   "cell_type": "code",
   "execution_count": null,
   "metadata": {
    "editable": true,
    "slideshow": {
     "slide_type": ""
    },
    "tags": []
   },
   "outputs": [],
   "source": [
    "c_0 = 0.25"
   ]
  },
  {
   "cell_type": "code",
   "execution_count": null,
   "metadata": {
    "editable": true,
    "slideshow": {
     "slide_type": ""
    },
    "tags": []
   },
   "outputs": [],
   "source": [
    "def full_model(\n",
    "    s12,\n",
    "    s23,\n",
    "    s31,\n",
    "    phi1,\n",
    "    theta1,\n",
    "    phi2,\n",
    "    theta2,\n",
    "    *,\n",
    "    M12,\n",
    "    Gamma12,\n",
    "    M23,\n",
    "    Gamma23,\n",
    "    M31,\n",
    "    Gamma31,\n",
    "):\n",
    "    A12 = (\n",
    "        BW(s12, M12, Gamma12)\n",
    "        * compute_spherical_harmonics12(phi1, theta1)\n",
    "        * s12 ** (0.5 + 0.9 * u3)\n",
    "    )\n",
    "    A23 = (\n",
    "        BW(s23, M23, Gamma23)\n",
    "        * compute_spherical_harmonics23(phi2, theta2)\n",
    "        * s23 ** (0.5 + 0.9 * t1)\n",
    "    )\n",
    "    A31 = BW(s31, M31, Gamma31) * c_0 * s31 ** (1.08 + 0.2 * t2)\n",
    "    return np.abs(A12 + A23 + A31) ** 2"
   ]
  },
  {
   "cell_type": "code",
   "execution_count": null,
   "metadata": {
    "editable": true,
    "jupyter": {
     "source_hidden": true
    },
    "slideshow": {
     "slide_type": ""
    },
    "tags": [
     "hide-input",
     "full-width"
    ]
   },
   "outputs": [],
   "source": [
    "fig, (ax1, ax2) = plt.subplots(figsize=(12, 5), ncols=2, sharey=True)\n",
    "fig.suptitle(\"For from model: Dalitz Plot of only Breit-Wigner in the formula \")\n",
    "hist2 = ax2.hist2d(\n",
    "    s12,\n",
    "    s23,\n",
    "    bins=100,\n",
    "    weights=BW_model(\n",
    "        s12,\n",
    "        s23,\n",
    "        s31,\n",
    "        M12=M12,\n",
    "        Gamma12=0.1,\n",
    "        M23=M23,\n",
    "        Gamma23=0.1,\n",
    "        M31=M31,\n",
    "        Gamma31=0.1,\n",
    "    ),\n",
    "    cmin=1e-6,\n",
    ")\n",
    "ax2.set_xlabel(R\"$s_{12}$\")\n",
    "ax2.set_title(\"From model\")\n",
    "\n",
    "hist1 = ax1.hist2d(s12, s23, bins=100, cmin=1e-6)\n",
    "ax1.set_title(\"From flat\")\n",
    "ax1.set_xlabel(R\"$s_{12}$\")\n",
    "ax1.set_ylabel(R\"$s_{23}$\")\n",
    "\n",
    "cbar1 = fig.colorbar(hist1[3], ax=ax1)\n",
    "cbar2 = fig.colorbar(hist2[3], ax=ax2)\n",
    "\n",
    "fig.tight_layout()\n",
    "fig.show()"
   ]
  },
  {
   "cell_type": "code",
   "execution_count": null,
   "metadata": {
    "editable": true,
    "jupyter": {
     "source_hidden": true
    },
    "slideshow": {
     "slide_type": ""
    },
    "tags": [
     "hide-input",
     "full-width"
    ]
   },
   "outputs": [],
   "source": [
    "fig, (ax1, ax2) = plt.subplots(figsize=(12, 5), ncols=2, sharey=True)\n",
    "fig.suptitle(\"For from model: Dalitz Plots of only spherical harmonics (middle plot)\")\n",
    "hist2 = ax2.hist2d(\n",
    "    s12,\n",
    "    s23,\n",
    "    bins=100,\n",
    "    weights=SH_model(phi1, theta1, phi2, theta2),\n",
    "    cmin=1e-6,\n",
    ")\n",
    "ax2.set_xlabel(R\"$s_{12}$\")\n",
    "ax2.set_title(\"From model\")\n",
    "\n",
    "hist1 = ax1.hist2d(s12, s23, bins=100, cmin=1e-6)\n",
    "ax1.set_title(\"From flat\")\n",
    "ax1.set_xlabel(R\"$s_{12}$\")\n",
    "ax1.set_ylabel(R\"$s_{23}$\")\n",
    "cbar1 = fig.colorbar(hist1[3], ax=ax1)\n",
    "cbar2 = fig.colorbar(hist2[3], ax=ax2)\n",
    "fig.tight_layout()\n",
    "fig.show()"
   ]
  },
  {
   "cell_type": "code",
   "execution_count": null,
   "metadata": {
    "editable": true,
    "jupyter": {
     "source_hidden": true
    },
    "slideshow": {
     "slide_type": ""
    },
    "tags": [
     "hide-input",
     "full-width"
    ]
   },
   "outputs": [],
   "source": [
    "fig, (ax1, ax2) = plt.subplots(figsize=(12, 5), ncols=2, sharey=True)\n",
    "fig.suptitle(\n",
    "    R\"For from model: Dalitz Plots of Breit-Wigner $\\times$ Spherical Harmonics\"\n",
    ")\n",
    "hist2 = ax2.hist2d(\n",
    "    s12,\n",
    "    s23,\n",
    "    bins=100,\n",
    "    weights=BW_SH_model(\n",
    "        s12,\n",
    "        s23,\n",
    "        s31,\n",
    "        phi1,\n",
    "        theta1,\n",
    "        phi2,\n",
    "        theta2,\n",
    "        M12=M12,\n",
    "        Gamma12=0.1,\n",
    "        M23=M23,\n",
    "        Gamma23=0.1,\n",
    "        M31=M31,\n",
    "        Gamma31=0.1,\n",
    "    ),\n",
    "    cmin=1e-6,\n",
    ")\n",
    "ax2.set_xlabel(R\"$s_{12}$\")\n",
    "ax2.set_title(\"From model\")\n",
    "\n",
    "hist1 = ax1.hist2d(s12, s23, bins=100, cmin=1e-6)\n",
    "ax1.set_title(\"From flat\")\n",
    "ax1.set_xlabel(R\"$s_{12}$\")\n",
    "ax1.set_ylabel(R\"$s_{23}$\")\n",
    "\n",
    "cbar1 = fig.colorbar(hist1[3], ax=ax1)\n",
    "cbar2 = fig.colorbar(hist2[3], ax=ax2)\n",
    "\n",
    "fig.tight_layout()\n",
    "fig.show()"
   ]
  },
  {
   "cell_type": "code",
   "execution_count": null,
   "metadata": {
    "editable": true,
    "jupyter": {
     "source_hidden": true
    },
    "slideshow": {
     "slide_type": ""
    },
    "tags": [
     "hide-input",
     "full-width"
    ]
   },
   "outputs": [],
   "source": [
    "fig, (ax1, ax2) = plt.subplots(figsize=(12, 5), ncols=2, sharey=True)\n",
    "fig.suptitle(\"For from model: : Dalitz Plots of full expression of the formula\")\n",
    "hist2 = ax2.hist2d(\n",
    "    s12,\n",
    "    s23,\n",
    "    bins=100,\n",
    "    weights=full_model(\n",
    "        s12,\n",
    "        s23,\n",
    "        s31,\n",
    "        phi1,\n",
    "        theta1,\n",
    "        phi2,\n",
    "        theta2,\n",
    "        M12=M12,\n",
    "        Gamma12=0.1,\n",
    "        M23=M23,\n",
    "        Gamma23=0.1,\n",
    "        M31=M31,\n",
    "        Gamma31=0.1,\n",
    "    ),\n",
    "    cmin=1e-8,\n",
    ")\n",
    "ax2.set_xlabel(R\"$s_{12}$\")\n",
    "ax2.set_title(\"From model\")\n",
    "\n",
    "hist1 = ax1.hist2d(s12, s23, bins=100, cmin=1e-6)\n",
    "ax1.set_title(\"From flat\")\n",
    "ax1.set_xlabel(R\"$s_{12}$\")\n",
    "ax1.set_ylabel(R\"$s_{23}$\")\n",
    "cbar1 = fig.colorbar(hist1[3], ax=ax1)\n",
    "cbar2 = fig.colorbar(hist2[3], ax=ax2)\n",
    "fig.tight_layout()\n",
    "fig.show()"
   ]
  },
  {
   "cell_type": "code",
   "execution_count": null,
   "metadata": {
    "editable": true,
    "jupyter": {
     "source_hidden": true
    },
    "slideshow": {
     "slide_type": ""
    },
    "tags": [
     "hide-cell"
    ]
   },
   "outputs": [],
   "source": [
    "weight_BW = BW_model(\n",
    "    s12,\n",
    "    s23,\n",
    "    s31,\n",
    "    M12=M12,\n",
    "    Gamma12=0.1,\n",
    "    M23=M23,\n",
    "    Gamma23=0.1,\n",
    "    M31=M31,\n",
    "    Gamma31=0.1,\n",
    ")\n",
    "weight_SH = SH_model(phi1, theta1, phi2, theta2)\n",
    "weight_BW_SH = BW_SH_model(\n",
    "    s12,\n",
    "    s23,\n",
    "    s31,\n",
    "    phi1,\n",
    "    theta1,\n",
    "    phi2,\n",
    "    theta2,\n",
    "    M12=M12,\n",
    "    Gamma12=0.1,\n",
    "    M23=M23,\n",
    "    Gamma23=0.1,\n",
    "    M31=M31,\n",
    "    Gamma31=0.1,\n",
    ")\n",
    "weight_Full = full_model(\n",
    "    s12,\n",
    "    s23,\n",
    "    s31,\n",
    "    phi1,\n",
    "    theta1,\n",
    "    phi2,\n",
    "    theta2,\n",
    "    M12=M12,\n",
    "    Gamma12=0.1,\n",
    "    M23=M23,\n",
    "    Gamma23=0.1,\n",
    "    M31=M31,\n",
    "    Gamma31=0.1,\n",
    ")"
   ]
  },
  {
   "cell_type": "code",
   "execution_count": null,
   "metadata": {
    "editable": true,
    "slideshow": {
     "slide_type": ""
    },
    "tags": [
     "hide-input",
     "scroll-input",
     "full-width"
    ]
   },
   "outputs": [],
   "source": [
    "fig, (theta_ax, phi_ax, mass_ax) = plt.subplots(figsize=(13, 11), ncols=3, nrows=3)\n",
    "for i, ax in enumerate(theta_ax, 1):\n",
    "    ax.set_title(Rf\"$\\theta_{i}$\")\n",
    "    ax.set_xticks([0, np.pi / 2, np.pi])\n",
    "    ax.set_xticklabels([\"0\", R\"$\\frac{\\pi}{2}$\", R\"$\\pi$\"])\n",
    "for i, ax in enumerate(phi_ax, 1):\n",
    "    ax.set_title(Rf\"$\\phi_{i}$\")\n",
    "    ax.set_xticks([-np.pi, 0, np.pi])\n",
    "    ax.set_xticklabels([R\"-$\\pi$\", 0, R\"$\\pi$\"])\n",
    "for i, ax in enumerate(mass_ax, 1):\n",
    "    ax.set_title(Rf\"$m_{{{i}{(i % 3 + 1)}}}$\")\n",
    "\n",
    "theta_ax[0].hist(\n",
    "    theta1,\n",
    "    bins=100,\n",
    "    color=\"red\",\n",
    "    histtype=\"step\",\n",
    "    label=\"phsp\",\n",
    "    density=True,\n",
    ")\n",
    "theta_ax[1].hist(\n",
    "    theta2,\n",
    "    bins=100,\n",
    "    color=\"red\",\n",
    "    histtype=\"step\",\n",
    "    label=\"phsp\",\n",
    "    density=True,\n",
    ")\n",
    "theta_ax[2].hist(\n",
    "    theta3,\n",
    "    bins=100,\n",
    "    color=\"red\",\n",
    "    histtype=\"step\",\n",
    "    label=\"phsp\",\n",
    "    density=True,\n",
    ")\n",
    "theta_ax[0].hist(\n",
    "    theta1,\n",
    "    bins=100,\n",
    "    weights=weight_BW,\n",
    "    color=\"orange\",\n",
    "    histtype=\"step\",\n",
    "    label=\"only BW\",\n",
    "    density=True,\n",
    ")\n",
    "theta_ax[1].hist(\n",
    "    theta2,\n",
    "    bins=100,\n",
    "    weights=weight_BW,\n",
    "    color=\"orange\",\n",
    "    histtype=\"step\",\n",
    "    label=\"only BW\",\n",
    "    density=True,\n",
    ")\n",
    "theta_ax[2].hist(\n",
    "    theta3,\n",
    "    bins=100,\n",
    "    weights=weight_BW,\n",
    "    color=\"orange\",\n",
    "    histtype=\"step\",\n",
    "    label=\"only BW\",\n",
    "    density=True,\n",
    ")\n",
    "theta_ax[0].hist(\n",
    "    theta1,\n",
    "    bins=100,\n",
    "    weights=weight_SH,\n",
    "    color=\"green\",\n",
    "    histtype=\"step\",\n",
    "    label=\"only SH\",\n",
    "    density=True,\n",
    ")\n",
    "theta_ax[1].hist(\n",
    "    theta2,\n",
    "    bins=100,\n",
    "    weights=weight_SH,\n",
    "    color=\"green\",\n",
    "    histtype=\"step\",\n",
    "    label=\"only SH\",\n",
    "    density=True,\n",
    ")\n",
    "theta_ax[2].hist(\n",
    "    theta3,\n",
    "    bins=100,\n",
    "    weights=weight_SH,\n",
    "    color=\"green\",\n",
    "    histtype=\"step\",\n",
    "    label=\"only SH\",\n",
    "    density=True,\n",
    ")\n",
    "theta_ax[0].hist(\n",
    "    theta1,\n",
    "    bins=100,\n",
    "    weights=weight_BW_SH,\n",
    "    color=\"purple\",\n",
    "    histtype=\"step\",\n",
    "    label=\"BW&SH\",\n",
    "    density=True,\n",
    ")\n",
    "theta_ax[1].hist(\n",
    "    theta2,\n",
    "    bins=100,\n",
    "    weights=weight_BW_SH,\n",
    "    color=\"purple\",\n",
    "    histtype=\"step\",\n",
    "    label=\"BW&SH\",\n",
    "    density=True,\n",
    ")\n",
    "theta_ax[2].hist(\n",
    "    theta3,\n",
    "    bins=100,\n",
    "    weights=weight_BW_SH,\n",
    "    color=\"purple\",\n",
    "    histtype=\"step\",\n",
    "    label=\"BW&SH\",\n",
    "    density=True,\n",
    ")\n",
    "\n",
    "\n",
    "phi_ax[0].hist(\n",
    "    phi1,\n",
    "    bins=100,\n",
    "    color=\"red\",\n",
    "    histtype=\"step\",\n",
    "    label=\"phsp\",\n",
    "    density=True,\n",
    ")\n",
    "phi_ax[1].hist(\n",
    "    phi2,\n",
    "    bins=100,\n",
    "    color=\"red\",\n",
    "    histtype=\"step\",\n",
    "    label=\"phsp\",\n",
    "    density=True,\n",
    ")\n",
    "phi_ax[2].hist(\n",
    "    phi3,\n",
    "    bins=100,\n",
    "    color=\"red\",\n",
    "    histtype=\"step\",\n",
    "    label=\"phsp\",\n",
    "    density=True,\n",
    ")\n",
    "phi_ax[0].hist(\n",
    "    phi1,\n",
    "    bins=100,\n",
    "    weights=weight_BW,\n",
    "    color=\"orange\",\n",
    "    histtype=\"step\",\n",
    "    label=\"only BW\",\n",
    "    density=True,\n",
    ")\n",
    "phi_ax[1].hist(\n",
    "    phi2,\n",
    "    bins=100,\n",
    "    weights=weight_BW,\n",
    "    color=\"orange\",\n",
    "    histtype=\"step\",\n",
    "    label=\"only BW\",\n",
    "    density=True,\n",
    ")\n",
    "phi_ax[2].hist(\n",
    "    phi3,\n",
    "    bins=100,\n",
    "    weights=weight_BW,\n",
    "    color=\"orange\",\n",
    "    histtype=\"step\",\n",
    "    label=\"only BW\",\n",
    "    density=True,\n",
    ")\n",
    "phi_ax[0].hist(\n",
    "    phi1,\n",
    "    bins=100,\n",
    "    weights=weight_SH,\n",
    "    color=\"green\",\n",
    "    histtype=\"step\",\n",
    "    label=\"only SH\",\n",
    "    density=True,\n",
    ")\n",
    "phi_ax[1].hist(\n",
    "    phi2,\n",
    "    bins=100,\n",
    "    weights=weight_SH,\n",
    "    color=\"green\",\n",
    "    histtype=\"step\",\n",
    "    label=\"only SH\",\n",
    "    density=True,\n",
    ")\n",
    "phi_ax[2].hist(\n",
    "    phi3,\n",
    "    bins=100,\n",
    "    weights=weight_SH,\n",
    "    color=\"green\",\n",
    "    histtype=\"step\",\n",
    "    label=\"only SH\",\n",
    "    density=True,\n",
    ")\n",
    "phi_ax[0].hist(\n",
    "    phi1,\n",
    "    bins=100,\n",
    "    weights=weight_BW_SH,\n",
    "    color=\"purple\",\n",
    "    histtype=\"step\",\n",
    "    label=\"BW&SH\",\n",
    "    density=True,\n",
    ")\n",
    "phi_ax[1].hist(\n",
    "    phi2,\n",
    "    bins=100,\n",
    "    weights=weight_BW_SH,\n",
    "    color=\"purple\",\n",
    "    histtype=\"step\",\n",
    "    label=\"BW&SH\",\n",
    "    density=True,\n",
    ")\n",
    "phi_ax[2].hist(\n",
    "    phi3,\n",
    "    bins=100,\n",
    "    weights=weight_BW_SH,\n",
    "    color=\"purple\",\n",
    "    histtype=\"step\",\n",
    "    label=\"BW&SH\",\n",
    "    density=True,\n",
    ")\n",
    "\n",
    "\n",
    "mass_ax[0].hist(\n",
    "    p12.m,\n",
    "    bins=100,\n",
    "    color=\"red\",\n",
    "    histtype=\"step\",\n",
    "    label=\"phsp\",\n",
    "    density=True,\n",
    ")\n",
    "mass_ax[1].hist(\n",
    "    p23.m,\n",
    "    bins=100,\n",
    "    color=\"red\",\n",
    "    histtype=\"step\",\n",
    "    label=\"phsp\",\n",
    "    density=True,\n",
    ")\n",
    "mass_ax[2].hist(\n",
    "    p31.m,\n",
    "    bins=100,\n",
    "    color=\"red\",\n",
    "    histtype=\"step\",\n",
    "    label=\"phsp\",\n",
    "    density=True,\n",
    ")\n",
    "mass_ax[0].hist(\n",
    "    p12.m,\n",
    "    bins=100,\n",
    "    weights=weight_BW,\n",
    "    color=\"orange\",\n",
    "    histtype=\"step\",\n",
    "    label=\"only BW\",\n",
    "    density=True,\n",
    ")\n",
    "mass_ax[1].hist(\n",
    "    p23.m,\n",
    "    bins=100,\n",
    "    weights=weight_BW,\n",
    "    color=\"orange\",\n",
    "    histtype=\"step\",\n",
    "    label=\"only BW\",\n",
    "    density=True,\n",
    ")\n",
    "mass_ax[2].hist(\n",
    "    p31.m,\n",
    "    bins=100,\n",
    "    weights=weight_BW,\n",
    "    color=\"orange\",\n",
    "    histtype=\"step\",\n",
    "    label=\"only BW\",\n",
    "    density=True,\n",
    ")\n",
    "mass_ax[0].hist(\n",
    "    p12.m,\n",
    "    bins=100,\n",
    "    weights=weight_SH,\n",
    "    color=\"green\",\n",
    "    histtype=\"step\",\n",
    "    label=\"only SH\",\n",
    "    density=True,\n",
    ")\n",
    "mass_ax[1].hist(\n",
    "    p23.m,\n",
    "    bins=100,\n",
    "    weights=weight_SH,\n",
    "    color=\"green\",\n",
    "    histtype=\"step\",\n",
    "    label=\"only SH\",\n",
    "    density=True,\n",
    ")\n",
    "mass_ax[2].hist(\n",
    "    p31.m,\n",
    "    bins=100,\n",
    "    weights=weight_SH,\n",
    "    color=\"green\",\n",
    "    histtype=\"step\",\n",
    "    label=\"only SH\",\n",
    "    density=True,\n",
    ")\n",
    "mass_ax[0].hist(\n",
    "    p12.m,\n",
    "    bins=100,\n",
    "    weights=weight_BW_SH,\n",
    "    color=\"purple\",\n",
    "    histtype=\"step\",\n",
    "    label=\"BW&SH\",\n",
    "    density=True,\n",
    ")\n",
    "mass_ax[1].hist(\n",
    "    p23.m,\n",
    "    bins=100,\n",
    "    weights=weight_BW_SH,\n",
    "    color=\"purple\",\n",
    "    histtype=\"step\",\n",
    "    label=\"BW&SH\",\n",
    "    density=True,\n",
    ")\n",
    "mass_ax[2].hist(\n",
    "    p31.m,\n",
    "    bins=100,\n",
    "    weights=weight_BW_SH,\n",
    "    color=\"purple\",\n",
    "    histtype=\"step\",\n",
    "    label=\"BW&SH\",\n",
    "    density=True,\n",
    ")\n",
    "\n",
    "theta_ax[0].legend()\n",
    "phi_ax[0].legend()\n",
    "theta_ax[1].legend()\n",
    "phi_ax[1].legend()\n",
    "theta_ax[2].legend()\n",
    "phi_ax[2].legend()\n",
    "\n",
    "mass_ax[0].legend()\n",
    "mass_ax[1].legend()\n",
    "mass_ax[2].legend()\n",
    "\n",
    "\n",
    "fig.suptitle(\n",
    "    R\"Helicity angles and invariant mass: phsp and models with good initial guess of parameters\"\n",
    ")\n",
    "fig.tight_layout()\n",
    "plt.show()"
   ]
  },
  {
   "cell_type": "code",
   "execution_count": null,
   "metadata": {
    "editable": true,
    "slideshow": {
     "slide_type": ""
    },
    "tags": [
     "hide-input",
     "hide-cell",
     "full-width",
     "hide-output"
    ]
   },
   "outputs": [],
   "source": [
    "fig, (theta_ax, phi_ax, mass_ax) = plt.subplots(figsize=(13, 11), ncols=3, nrows=3)\n",
    "for i, ax in enumerate(theta_ax, 1):\n",
    "    ax.set_title(Rf\"$\\theta_{i}$\")\n",
    "    ax.set_xticks([0, np.pi / 2, np.pi])\n",
    "    ax.set_xticklabels([\"0\", R\"$\\frac{\\pi}{2}$\", R\"$\\pi$\"])\n",
    "for i, ax in enumerate(phi_ax, 1):\n",
    "    ax.set_title(Rf\"$\\phi_{i}$\")\n",
    "    ax.set_xticks([-np.pi, 0, np.pi])\n",
    "    ax.set_xticklabels([R\"-$\\pi$\", 0, R\"$\\pi$\"])\n",
    "for i, ax in enumerate(mass_ax, 1):\n",
    "    ax.set_title(Rf\"$m_{{{i}{(i % 3 + 1)}}}$\")\n",
    "\n",
    "theta_ax[0].hist(\n",
    "    theta1,\n",
    "    bins=100,\n",
    "    weights=weight_Full,\n",
    "    label=\"full\",\n",
    ")\n",
    "theta_ax[1].hist(\n",
    "    theta2,\n",
    "    bins=100,\n",
    "    weights=weight_Full,\n",
    "    label=\"full\",\n",
    ")\n",
    "theta_ax[2].hist(\n",
    "    theta3,\n",
    "    bins=100,\n",
    "    weights=weight_Full,\n",
    "    label=\"full\",\n",
    ")\n",
    "\n",
    "phi_ax[0].hist(\n",
    "    phi1,\n",
    "    bins=50,\n",
    "    weights=weight_Full,\n",
    "    label=\"full\",\n",
    ")\n",
    "phi_ax[1].hist(\n",
    "    phi2,\n",
    "    bins=50,\n",
    "    weights=weight_Full,\n",
    "    label=\"full\",\n",
    ")\n",
    "phi_ax[2].hist(\n",
    "    phi3,\n",
    "    bins=50,\n",
    "    weights=weight_Full,\n",
    "    label=\"full\",\n",
    ")\n",
    "\n",
    "mass_ax[0].hist(\n",
    "    p12.m,\n",
    "    bins=100,\n",
    "    weights=weight_Full,\n",
    "    label=\"full\",\n",
    ")\n",
    "mass_ax[1].hist(\n",
    "    p23.m,\n",
    "    bins=100,\n",
    "    weights=weight_Full,\n",
    "    label=\"full\",\n",
    ")\n",
    "mass_ax[2].hist(\n",
    "    p31.m,\n",
    "    bins=100,\n",
    "    weights=weight_Full,\n",
    "    label=\"full\",\n",
    ")\n",
    "\n",
    "theta_ax[0].legend()\n",
    "phi_ax[0].legend()\n",
    "theta_ax[1].legend()\n",
    "phi_ax[1].legend()\n",
    "theta_ax[2].legend()\n",
    "phi_ax[2].legend()\n",
    "\n",
    "mass_ax[0].legend()\n",
    "mass_ax[1].legend()\n",
    "mass_ax[2].legend()\n",
    "\n",
    "\n",
    "fig.suptitle(\n",
    "    R\"Helicity angles and invariant mass (with the same good initial guess of parameters previously )\"\n",
    ")\n",
    "fig.tight_layout()\n",
    "plt.show()"
   ]
  },
  {
   "cell_type": "markdown",
   "metadata": {
    "editable": true,
    "slideshow": {
     "slide_type": ""
    },
    "tags": []
   },
   "source": [
    "## Data Generation"
   ]
  },
  {
   "cell_type": "markdown",
   "metadata": {
    "editable": true,
    "slideshow": {
     "slide_type": ""
    },
    "tags": []
   },
   "source": [
    "### Phase space generation"
   ]
  },
  {
   "cell_type": "markdown",
   "metadata": {
    "editable": true,
    "slideshow": {
     "slide_type": ""
    },
    "tags": []
   },
   "source": [
    "Use of `phasespace`"
   ]
  },
  {
   "cell_type": "code",
   "execution_count": null,
   "metadata": {
    "editable": true,
    "slideshow": {
     "slide_type": ""
    },
    "tags": []
   },
   "outputs": [],
   "source": [
    "import phasespace\n",
    "\n",
    "pγ_mass = p0.m.mean()\n",
    "eta_mass = p1.m.mean()\n",
    "pi_mass = p2.m.mean()\n",
    "p_mass = p3.m.mean()\n",
    "\n",
    "weights, particles = phasespace.nbody_decay(\n",
    "    pγ_mass, [eta_mass, pi_mass, p_mass]\n",
    ").generate(n_events=100_000)"
   ]
  },
  {
   "cell_type": "code",
   "execution_count": null,
   "metadata": {
    "editable": true,
    "slideshow": {
     "slide_type": ""
    },
    "tags": []
   },
   "outputs": [],
   "source": [
    "import tensorflow as tf\n",
    "\n",
    "\n",
    "def generate_phsp(\n",
    "    size: int,\n",
    ") -> tuple[MomentumNumpy4D, MomentumNumpy4D, MomentumNumpy4D]:\n",
    "    phsp_sample = generate_phsp_bunch()\n",
    "    while get_size(phsp_sample) < size:\n",
    "        bunch = generate_phsp_bunch()\n",
    "        phsp_sample = concatenate(phsp_sample, bunch)\n",
    "    phsp_sample = remove_overflow(phsp_sample, size)\n",
    "    return tuple(to_vector(tensor) for tensor in phsp_sample)\n",
    "\n",
    "\n",
    "def generate_phsp_bunch() -> tuple[tf.Tensor, tf.Tensor, tf.Tensor]:\n",
    "    rng = np.random.default_rng(seed=None)\n",
    "    weights, particles = phasespace.nbody_decay(\n",
    "        pγ_mass, [eta_mass, pi_mass, p_mass]\n",
    "    ).generate(n_events=100_000)\n",
    "    random_weights = rng.uniform(0, weights.numpy().max(), size=weights.shape)\n",
    "    selector = weights > random_weights\n",
    "    return tuple(particles[f\"p_{i}\"][selector] for i in range(n_final_state))\n",
    "\n",
    "\n",
    "def get_size(phsp: tuple[tf.Tensor, tf.Tensor, tf.Tensor]):\n",
    "    return len(phsp[0])\n",
    "\n",
    "\n",
    "def concatenate(\n",
    "    phsp1: tuple[tf.Tensor, tf.Tensor, tf.Tensor],\n",
    "    phsp2: tuple[tf.Tensor, tf.Tensor, tf.Tensor],\n",
    ") -> tuple[tf.Tensor, tf.Tensor, tf.Tensor]:\n",
    "    return tuple(tf.concat([phsp1[i], phsp2[i]], axis=0) for i in range(3))\n",
    "\n",
    "\n",
    "def remove_overflow(phsp: tuple[tf.Tensor, tf.Tensor, tf.Tensor], size: int):\n",
    "    return tuple(tensor[:size] for tensor in phsp)\n",
    "\n",
    "\n",
    "def to_vector(tensor: tf.Tensor) -> MomentumNumpy4D:\n",
    "    return vector.array({\n",
    "        key: tensor.numpy().T[j] for j, key in enumerate([\"px\", \"py\", \"pz\", \"E\"])\n",
    "    })"
   ]
  },
  {
   "cell_type": "code",
   "execution_count": null,
   "metadata": {
    "editable": true,
    "slideshow": {
     "slide_type": ""
    },
    "tags": []
   },
   "outputs": [],
   "source": [
    "p1_phsp, p2_phsp, p3_phsp = generate_phsp(size=1_000_000)"
   ]
  },
  {
   "cell_type": "code",
   "execution_count": null,
   "metadata": {
    "editable": true,
    "slideshow": {
     "slide_type": ""
    },
    "tags": []
   },
   "outputs": [],
   "source": [
    "hist = plt.scatter(\n",
    "    (p1_phsp + p2_phsp).m2,\n",
    "    (p2_phsp + p3_phsp).m2,\n",
    "    s=1e-4,\n",
    "    c=\"r\",\n",
    ")\n",
    "plt.show()"
   ]
  },
  {
   "cell_type": "markdown",
   "metadata": {
    "editable": true,
    "slideshow": {
     "slide_type": ""
    },
    "tags": []
   },
   "source": [
    "### Hit and miss intensity sample"
   ]
  },
  {
   "cell_type": "code",
   "execution_count": null,
   "metadata": {
    "editable": true,
    "slideshow": {
     "slide_type": ""
    },
    "tags": []
   },
   "outputs": [],
   "source": [
    "def generate_data(model) -> tuple[np.ndarray, np.ndarray, np.ndarray, np.ndarray]:\n",
    "    intensities: np.ndarray = model(\n",
    "        s12,\n",
    "        s23,\n",
    "        s31,\n",
    "        phi1,\n",
    "        theta1,\n",
    "        phi2,\n",
    "        theta2,\n",
    "        M12=M12,\n",
    "        Gamma12=0.1,\n",
    "        M23=M23,\n",
    "        Gamma23=0.1,\n",
    "        M31=M31,\n",
    "        Gamma31=0.1,\n",
    "    )\n",
    "    rng = np.random.default_rng(seed=None)\n",
    "    random_intensities = rng.uniform(0, intensities.max(), size=intensities.shape)\n",
    "    selector = intensities > random_intensities\n",
    "    return (\n",
    "        pa[selector],\n",
    "        p1[selector],\n",
    "        p2[selector],\n",
    "        p3[selector],\n",
    "    )"
   ]
  },
  {
   "cell_type": "code",
   "execution_count": null,
   "metadata": {
    "editable": true,
    "slideshow": {
     "slide_type": ""
    },
    "tags": []
   },
   "outputs": [],
   "source": [
    "pa_data, p1_data, p2_data, p3_data = generate_data(BW_SH_model)"
   ]
  },
  {
   "cell_type": "code",
   "execution_count": null,
   "metadata": {
    "editable": true,
    "slideshow": {
     "slide_type": ""
    },
    "tags": []
   },
   "outputs": [],
   "source": [
    "p12_data = p1_data + p2_data\n",
    "p23_data = p2_data + p3_data\n",
    "p31_data = p3_data + p1_data\n",
    "\n",
    "s12_data = p12_data.m2\n",
    "s23_data = p23_data.m2\n",
    "s31_data = p31_data.m2"
   ]
  },
  {
   "cell_type": "code",
   "execution_count": null,
   "metadata": {
    "editable": true,
    "slideshow": {
     "slide_type": ""
    },
    "tags": []
   },
   "outputs": [],
   "source": [
    "theta1_data = theta_helicity(p1_data, p12_data)\n",
    "theta2_data = theta_helicity(p2_data, p23_data)\n",
    "theta3_data = theta_helicity(p3_data, p31_data)\n",
    "phi1_data = phi_helicity(p1_data, p12_data)\n",
    "phi2_data = phi_helicity(p2_data, p23_data)\n",
    "phi3_data = phi_helicity(p3_data, p31_data)"
   ]
  },
  {
   "cell_type": "code",
   "execution_count": null,
   "metadata": {
    "editable": true,
    "jupyter": {
     "source_hidden": true
    },
    "slideshow": {
     "slide_type": ""
    },
    "tags": [
     "hide-input",
     "full-width"
    ]
   },
   "outputs": [],
   "source": [
    "fig, (theta_ax, phi_ax, mass_ax) = plt.subplots(figsize=(13, 11), ncols=3, nrows=3)\n",
    "for i, ax in enumerate(theta_ax, 1):\n",
    "    ax.set_title(Rf\"$\\theta_{i}$\")\n",
    "    ax.set_xticks([0, np.pi / 2, np.pi])\n",
    "    ax.set_xticklabels([\"0\", R\"$\\frac{\\pi}{2}$\", R\"$\\pi$\"])\n",
    "for i, ax in enumerate(phi_ax, 1):\n",
    "    ax.set_title(Rf\"$\\phi_{i}$\")\n",
    "    ax.set_xticks([-np.pi, 0, np.pi])\n",
    "    ax.set_xticklabels([R\"-$\\pi$\", 0, R\"$\\pi$\"])\n",
    "for i, ax in enumerate(mass_ax, 1):\n",
    "    ax.set_title(Rf\"$m_{{{i}{(i % 3 + 1)}}}$\")\n",
    "\n",
    "theta_ax[0].hist(\n",
    "    theta1_data,\n",
    "    bins=100,\n",
    "    label=\"data\",\n",
    ")\n",
    "theta_ax[1].hist(\n",
    "    theta2_data,\n",
    "    bins=100,\n",
    "    label=\"data\",\n",
    ")\n",
    "theta_ax[2].hist(\n",
    "    theta3_data,\n",
    "    bins=100,\n",
    "    label=\"data\",\n",
    ")\n",
    "\n",
    "phi_ax[0].hist(\n",
    "    phi1_data,\n",
    "    bins=50,\n",
    "    label=\"data\",\n",
    ")\n",
    "phi_ax[1].hist(\n",
    "    phi2_data,\n",
    "    bins=50,\n",
    "    label=\"data\",\n",
    ")\n",
    "phi_ax[2].hist(\n",
    "    phi3_data,\n",
    "    bins=50,\n",
    "    label=\"data\",\n",
    ")\n",
    "\n",
    "mass_ax[0].hist(\n",
    "    p12_data.m,\n",
    "    bins=100,\n",
    "    label=\"data\",\n",
    ")\n",
    "mass_ax[1].hist(\n",
    "    p23_data.m,\n",
    "    bins=100,\n",
    "    label=\"data\",\n",
    ")\n",
    "mass_ax[2].hist(\n",
    "    p31_data.m,\n",
    "    bins=100,\n",
    "    label=\"data\",\n",
    ")\n",
    "\n",
    "theta_ax[0].legend()\n",
    "phi_ax[0].legend()\n",
    "theta_ax[1].legend()\n",
    "phi_ax[1].legend()\n",
    "theta_ax[2].legend()\n",
    "phi_ax[2].legend()\n",
    "\n",
    "mass_ax[0].legend()\n",
    "mass_ax[1].legend()\n",
    "mass_ax[2].legend()\n",
    "\n",
    "\n",
    "fig.suptitle(R\"Helicity angles and invariant mass\")\n",
    "fig.tight_layout()\n",
    "plt.show()"
   ]
  },
  {
   "cell_type": "code",
   "execution_count": null,
   "metadata": {
    "editable": true,
    "jupyter": {
     "source_hidden": true
    },
    "slideshow": {
     "slide_type": ""
    },
    "tags": [
     "hide-input",
     "full-width"
    ]
   },
   "outputs": [],
   "source": [
    "fig, (theta_ax, phi_ax, mass_ax) = plt.subplots(figsize=(13, 11), ncols=3, nrows=3)\n",
    "for i, ax in enumerate(theta_ax, 1):\n",
    "    ax.set_title(Rf\"$\\theta_{i}$\")\n",
    "    ax.set_xticks([0, np.pi / 2, np.pi])\n",
    "    ax.set_xticklabels([\"0\", R\"$\\frac{\\pi}{2}$\", R\"$\\pi$\"])\n",
    "for i, ax in enumerate(phi_ax, 1):\n",
    "    ax.set_title(Rf\"$\\phi_{i}$\")\n",
    "    ax.set_xticks([-np.pi, 0, np.pi])\n",
    "    ax.set_xticklabels([R\"-$\\pi$\", 0, R\"$\\pi$\"])\n",
    "for i, ax in enumerate(mass_ax, 1):\n",
    "    ax.set_title(Rf\"$m_{{{i}{(i % 3 + 1)}}}$\")\n",
    "\n",
    "theta_ax[0].hist(\n",
    "    theta1,\n",
    "    bins=100,\n",
    "    color=\"black\",\n",
    "    histtype=\"step\",\n",
    "    label=\"phsp\",\n",
    "    density=True,\n",
    ")\n",
    "theta_ax[1].hist(\n",
    "    theta2,\n",
    "    bins=100,\n",
    "    color=\"black\",\n",
    "    histtype=\"step\",\n",
    "    label=\"phsp\",\n",
    "    density=True,\n",
    ")\n",
    "theta_ax[2].hist(\n",
    "    theta3,\n",
    "    bins=100,\n",
    "    color=\"black\",\n",
    "    histtype=\"step\",\n",
    "    label=\"phsp\",\n",
    "    density=True,\n",
    ")\n",
    "theta_ax[0].hist(\n",
    "    theta1,\n",
    "    bins=100,\n",
    "    weights=weight_BW,\n",
    "    color=\"orange\",\n",
    "    histtype=\"step\",\n",
    "    label=\"only BW\",\n",
    "    density=True,\n",
    ")\n",
    "theta_ax[1].hist(\n",
    "    theta2,\n",
    "    bins=100,\n",
    "    weights=weight_BW,\n",
    "    color=\"orange\",\n",
    "    histtype=\"step\",\n",
    "    label=\"only BW\",\n",
    "    density=True,\n",
    ")\n",
    "theta_ax[2].hist(\n",
    "    theta3,\n",
    "    bins=100,\n",
    "    weights=weight_BW,\n",
    "    color=\"orange\",\n",
    "    histtype=\"step\",\n",
    "    label=\"only BW\",\n",
    "    density=True,\n",
    ")\n",
    "theta_ax[0].hist(\n",
    "    theta1,\n",
    "    bins=100,\n",
    "    weights=weight_SH,\n",
    "    color=\"green\",\n",
    "    histtype=\"step\",\n",
    "    label=\"only SH\",\n",
    "    density=True,\n",
    ")\n",
    "theta_ax[1].hist(\n",
    "    theta2,\n",
    "    bins=100,\n",
    "    weights=weight_SH,\n",
    "    color=\"green\",\n",
    "    histtype=\"step\",\n",
    "    label=\"only SH\",\n",
    "    density=True,\n",
    ")\n",
    "theta_ax[2].hist(\n",
    "    theta3,\n",
    "    bins=100,\n",
    "    weights=weight_SH,\n",
    "    color=\"green\",\n",
    "    histtype=\"step\",\n",
    "    label=\"only SH\",\n",
    "    density=True,\n",
    ")\n",
    "theta_ax[0].hist(\n",
    "    theta1,\n",
    "    bins=100,\n",
    "    weights=weight_BW_SH,\n",
    "    color=\"red\",\n",
    "    histtype=\"step\",\n",
    "    label=\"BW&SH\",\n",
    "    density=True,\n",
    ")\n",
    "theta_ax[1].hist(\n",
    "    theta2,\n",
    "    bins=100,\n",
    "    weights=weight_BW_SH,\n",
    "    color=\"red\",\n",
    "    histtype=\"step\",\n",
    "    label=\"BW&SH\",\n",
    "    density=True,\n",
    ")\n",
    "theta_ax[2].hist(\n",
    "    theta3,\n",
    "    bins=100,\n",
    "    weights=weight_BW_SH,\n",
    "    color=\"red\",\n",
    "    histtype=\"step\",\n",
    "    label=\"BW&SH\",\n",
    "    density=True,\n",
    ")\n",
    "\n",
    "\n",
    "phi_ax[0].hist(\n",
    "    phi1,\n",
    "    bins=100,\n",
    "    color=\"black\",\n",
    "    histtype=\"step\",\n",
    "    label=\"phsp\",\n",
    "    density=True,\n",
    ")\n",
    "phi_ax[1].hist(\n",
    "    phi2,\n",
    "    bins=100,\n",
    "    color=\"black\",\n",
    "    histtype=\"step\",\n",
    "    label=\"phsp\",\n",
    "    density=True,\n",
    ")\n",
    "phi_ax[2].hist(\n",
    "    phi3,\n",
    "    bins=100,\n",
    "    color=\"black\",\n",
    "    histtype=\"step\",\n",
    "    label=\"phsp\",\n",
    "    density=True,\n",
    ")\n",
    "phi_ax[0].hist(\n",
    "    phi1,\n",
    "    bins=100,\n",
    "    weights=weight_BW,\n",
    "    color=\"orange\",\n",
    "    histtype=\"step\",\n",
    "    label=\"only BW\",\n",
    "    density=True,\n",
    ")\n",
    "phi_ax[1].hist(\n",
    "    phi2,\n",
    "    bins=100,\n",
    "    weights=weight_BW,\n",
    "    color=\"orange\",\n",
    "    histtype=\"step\",\n",
    "    label=\"only BW\",\n",
    "    density=True,\n",
    ")\n",
    "phi_ax[2].hist(\n",
    "    phi3,\n",
    "    bins=100,\n",
    "    weights=weight_BW,\n",
    "    color=\"orange\",\n",
    "    histtype=\"step\",\n",
    "    label=\"only BW\",\n",
    "    density=True,\n",
    ")\n",
    "phi_ax[0].hist(\n",
    "    phi1,\n",
    "    bins=100,\n",
    "    weights=weight_SH,\n",
    "    color=\"green\",\n",
    "    histtype=\"step\",\n",
    "    label=\"only SH\",\n",
    "    density=True,\n",
    ")\n",
    "phi_ax[1].hist(\n",
    "    phi2,\n",
    "    bins=100,\n",
    "    weights=weight_SH,\n",
    "    color=\"green\",\n",
    "    histtype=\"step\",\n",
    "    label=\"only SH\",\n",
    "    density=True,\n",
    ")\n",
    "phi_ax[2].hist(\n",
    "    phi3,\n",
    "    bins=100,\n",
    "    weights=weight_SH,\n",
    "    color=\"green\",\n",
    "    histtype=\"step\",\n",
    "    label=\"only SH\",\n",
    "    density=True,\n",
    ")\n",
    "phi_ax[0].hist(\n",
    "    phi1,\n",
    "    bins=100,\n",
    "    weights=weight_BW_SH,\n",
    "    color=\"red\",\n",
    "    histtype=\"step\",\n",
    "    label=\"BW&SH\",\n",
    "    density=True,\n",
    ")\n",
    "phi_ax[1].hist(\n",
    "    phi2,\n",
    "    bins=100,\n",
    "    weights=weight_BW_SH,\n",
    "    color=\"red\",\n",
    "    histtype=\"step\",\n",
    "    label=\"BW&SH\",\n",
    "    density=True,\n",
    ")\n",
    "phi_ax[2].hist(\n",
    "    phi3,\n",
    "    bins=100,\n",
    "    weights=weight_BW_SH,\n",
    "    color=\"red\",\n",
    "    histtype=\"step\",\n",
    "    label=\"BW&SH\",\n",
    "    density=True,\n",
    ")\n",
    "\n",
    "\n",
    "mass_ax[0].hist(\n",
    "    p12.m,\n",
    "    bins=100,\n",
    "    color=\"black\",\n",
    "    histtype=\"step\",\n",
    "    label=\"phsp\",\n",
    "    density=True,\n",
    ")\n",
    "mass_ax[1].hist(\n",
    "    p23.m,\n",
    "    bins=100,\n",
    "    color=\"black\",\n",
    "    histtype=\"step\",\n",
    "    label=\"phsp\",\n",
    "    density=True,\n",
    ")\n",
    "mass_ax[2].hist(\n",
    "    p31.m,\n",
    "    bins=100,\n",
    "    color=\"black\",\n",
    "    histtype=\"step\",\n",
    "    label=\"phsp\",\n",
    "    density=True,\n",
    ")\n",
    "mass_ax[0].hist(\n",
    "    p12.m,\n",
    "    bins=100,\n",
    "    weights=weight_BW,\n",
    "    color=\"orange\",\n",
    "    histtype=\"step\",\n",
    "    label=\"only BW\",\n",
    "    density=True,\n",
    ")\n",
    "mass_ax[1].hist(\n",
    "    p23.m,\n",
    "    bins=100,\n",
    "    weights=weight_BW,\n",
    "    color=\"orange\",\n",
    "    histtype=\"step\",\n",
    "    label=\"only BW\",\n",
    "    density=True,\n",
    ")\n",
    "mass_ax[2].hist(\n",
    "    p31.m,\n",
    "    bins=100,\n",
    "    weights=weight_BW,\n",
    "    color=\"orange\",\n",
    "    histtype=\"step\",\n",
    "    label=\"only BW\",\n",
    "    density=True,\n",
    ")\n",
    "mass_ax[0].hist(\n",
    "    p12.m,\n",
    "    bins=100,\n",
    "    weights=weight_SH,\n",
    "    color=\"green\",\n",
    "    histtype=\"step\",\n",
    "    label=\"only SH\",\n",
    "    density=True,\n",
    ")\n",
    "mass_ax[1].hist(\n",
    "    p23.m,\n",
    "    bins=100,\n",
    "    weights=weight_SH,\n",
    "    color=\"green\",\n",
    "    histtype=\"step\",\n",
    "    label=\"only SH\",\n",
    "    density=True,\n",
    ")\n",
    "mass_ax[2].hist(\n",
    "    p31.m,\n",
    "    bins=100,\n",
    "    weights=weight_SH,\n",
    "    color=\"green\",\n",
    "    histtype=\"step\",\n",
    "    label=\"only SH\",\n",
    "    density=True,\n",
    ")\n",
    "mass_ax[0].hist(\n",
    "    p12.m,\n",
    "    bins=100,\n",
    "    weights=weight_BW_SH,\n",
    "    color=\"red\",\n",
    "    histtype=\"step\",\n",
    "    label=\"BW&SH\",\n",
    "    density=True,\n",
    ")\n",
    "mass_ax[1].hist(\n",
    "    p23.m,\n",
    "    bins=100,\n",
    "    weights=weight_BW_SH,\n",
    "    color=\"red\",\n",
    "    histtype=\"step\",\n",
    "    label=\"BW&SH\",\n",
    "    density=True,\n",
    ")\n",
    "mass_ax[2].hist(\n",
    "    p31.m,\n",
    "    bins=100,\n",
    "    weights=weight_BW_SH,\n",
    "    color=\"red\",\n",
    "    histtype=\"step\",\n",
    "    label=\"BW&SH\",\n",
    "    density=True,\n",
    ")\n",
    "\n",
    "theta_ax[0].hist(\n",
    "    theta1_data,\n",
    "    bins=100,\n",
    "    label=\"data\",\n",
    "    density=True,\n",
    ")\n",
    "theta_ax[1].hist(\n",
    "    theta2_data,\n",
    "    bins=100,\n",
    "    label=\"data\",\n",
    "    density=True,\n",
    ")\n",
    "theta_ax[2].hist(\n",
    "    theta3_data,\n",
    "    bins=100,\n",
    "    label=\"data\",\n",
    "    density=True,\n",
    ")\n",
    "\n",
    "phi_ax[0].hist(\n",
    "    phi1_data,\n",
    "    bins=100,\n",
    "    label=\"data\",\n",
    "    density=True,\n",
    ")\n",
    "phi_ax[1].hist(\n",
    "    phi2_data,\n",
    "    bins=100,\n",
    "    label=\"data\",\n",
    "    density=True,\n",
    ")\n",
    "phi_ax[2].hist(\n",
    "    phi3_data,\n",
    "    bins=100,\n",
    "    label=\"data\",\n",
    "    density=True,\n",
    ")\n",
    "\n",
    "mass_ax[0].hist(\n",
    "    p12_data.m,\n",
    "    bins=100,\n",
    "    label=\"data\",\n",
    "    density=True,\n",
    ")\n",
    "mass_ax[1].hist(\n",
    "    p23_data.m,\n",
    "    bins=100,\n",
    "    label=\"data\",\n",
    "    density=True,\n",
    ")\n",
    "mass_ax[2].hist(\n",
    "    p31_data.m,\n",
    "    bins=100,\n",
    "    label=\"data\",\n",
    "    density=True,\n",
    ")\n",
    "\n",
    "theta_ax[0].legend()\n",
    "phi_ax[0].legend()\n",
    "theta_ax[1].legend()\n",
    "phi_ax[1].legend()\n",
    "theta_ax[2].legend()\n",
    "phi_ax[2].legend()\n",
    "\n",
    "mass_ax[0].legend()\n",
    "mass_ax[1].legend()\n",
    "mass_ax[2].legend()\n",
    "\n",
    "\n",
    "fig.suptitle(\n",
    "    R\"Helicity angles and invariant mass: phsp, data, and models with good initial guess of parameters\"\n",
    ")\n",
    "fig.tight_layout()\n",
    "plt.show()"
   ]
  },
  {
   "cell_type": "code",
   "execution_count": null,
   "metadata": {
    "editable": true,
    "jupyter": {
     "source_hidden": true
    },
    "slideshow": {
     "slide_type": ""
    },
    "tags": [
     "full-width",
     "hide-input"
    ]
   },
   "outputs": [],
   "source": [
    "fig, (ax1, ax2) = plt.subplots(figsize=(12, 5), ncols=2, sharey=True)\n",
    "fig.suptitle(\"Dalitz Plots of Phase space and generated data\")\n",
    "hist2 = ax2.hist2d(s12_data, s23_data, bins=100, cmin=1e-6)\n",
    "ax2.set_xlabel(R\"$s_{12}$\")\n",
    "ax2.set_title(\"Generated data\")\n",
    "\n",
    "hist1 = ax1.hist2d(s12, s23, bins=100, cmin=1e-6)\n",
    "ax1.set_title(\"Phase space\")\n",
    "ax1.set_xlabel(R\"$s_{12}$\")\n",
    "ax1.set_ylabel(R\"$s_{23}$\")\n",
    "cbar1 = fig.colorbar(hist1[3], ax=ax1)\n",
    "cbar2 = fig.colorbar(hist2[3], ax=ax2)\n",
    "fig.tight_layout()\n",
    "fig.show()"
   ]
  },
  {
   "cell_type": "markdown",
   "metadata": {
    "editable": true,
    "slideshow": {
     "slide_type": ""
    },
    "tags": []
   },
   "source": [
    "## Fitting "
   ]
  },
  {
   "cell_type": "markdown",
   "metadata": {
    "editable": true,
    "slideshow": {
     "slide_type": ""
    },
    "tags": []
   },
   "source": [
    "The initial guess of parameters before fittings.\n",
    "We twitched some parameters in an arbitrary choice values that are not the same as previous sections"
   ]
  },
  {
   "cell_type": "code",
   "execution_count": null,
   "metadata": {
    "editable": true,
    "slideshow": {
     "slide_type": ""
    },
    "tags": []
   },
   "outputs": [],
   "source": [
    "new_weight_BW_SH = BW_SH_model(\n",
    "    s12,\n",
    "    s23,\n",
    "    s31,\n",
    "    phi1,\n",
    "    theta1,\n",
    "    phi2,\n",
    "    theta2,\n",
    "    M12=M12,\n",
    "    Gamma12=1,\n",
    "    M23=M23,\n",
    "    Gamma23=1,\n",
    "    M31=M31,\n",
    "    Gamma31=1,\n",
    ")"
   ]
  },
  {
   "cell_type": "code",
   "execution_count": null,
   "metadata": {
    "editable": true,
    "jupyter": {
     "source_hidden": true
    },
    "slideshow": {
     "slide_type": ""
    },
    "tags": [
     "hide-input",
     "full-width"
    ]
   },
   "outputs": [],
   "source": [
    "fig, (theta_ax, phi_ax, mass_ax) = plt.subplots(figsize=(13, 11), ncols=3, nrows=3)\n",
    "for i, ax in enumerate(theta_ax, 1):\n",
    "    ax.set_title(Rf\"$\\theta_{i}$\")\n",
    "    ax.set_xticks([0, np.pi / 2, np.pi])\n",
    "    ax.set_xticklabels([\"0\", R\"$\\frac{\\pi}{2}$\", R\"$\\pi$\"])\n",
    "for i, ax in enumerate(phi_ax, 1):\n",
    "    ax.set_title(Rf\"$\\phi_{i}$\")\n",
    "    ax.set_xticks([-np.pi, 0, np.pi])\n",
    "    ax.set_xticklabels([R\"-$\\pi$\", 0, R\"$\\pi$\"])\n",
    "for i, ax in enumerate(mass_ax, 1):\n",
    "    ax.set_title(Rf\"$m_{{{i}{(i % 3 + 1)}}}$\")\n",
    "\n",
    "theta_ax[0].hist(\n",
    "    theta1_data,\n",
    "    bins=100,\n",
    "    label=\"data\",\n",
    "    density=True,\n",
    ")\n",
    "theta_ax[1].hist(\n",
    "    theta2_data,\n",
    "    bins=100,\n",
    "    label=\"data\",\n",
    "    density=True,\n",
    ")\n",
    "theta_ax[2].hist(\n",
    "    theta3_data,\n",
    "    bins=100,\n",
    "    label=\"data\",\n",
    "    density=True,\n",
    ")\n",
    "\n",
    "phi_ax[0].hist(\n",
    "    phi1_data,\n",
    "    bins=50,\n",
    "    label=\"data\",\n",
    "    density=True,\n",
    ")\n",
    "phi_ax[1].hist(\n",
    "    phi2_data,\n",
    "    bins=50,\n",
    "    label=\"data\",\n",
    "    density=True,\n",
    ")\n",
    "phi_ax[2].hist(\n",
    "    phi3_data,\n",
    "    bins=50,\n",
    "    label=\"data\",\n",
    "    density=True,\n",
    ")\n",
    "\n",
    "mass_ax[0].hist(\n",
    "    p12_data.m,\n",
    "    bins=100,\n",
    "    label=\"data\",\n",
    "    density=True,\n",
    ")\n",
    "mass_ax[1].hist(\n",
    "    p23_data.m,\n",
    "    bins=100,\n",
    "    label=\"data\",\n",
    "    density=True,\n",
    ")\n",
    "mass_ax[2].hist(\n",
    "    p31_data.m,\n",
    "    bins=100,\n",
    "    label=\"data\",\n",
    "    density=True,\n",
    ")\n",
    "\n",
    "\n",
    "theta_ax[0].hist(\n",
    "    theta1,\n",
    "    bins=100,\n",
    "    weights=new_weight_BW_SH,\n",
    "    color=\"red\",\n",
    "    histtype=\"step\",\n",
    "    label=\"BW&SH\",\n",
    "    density=True,\n",
    ")\n",
    "theta_ax[1].hist(\n",
    "    theta2,\n",
    "    bins=100,\n",
    "    weights=new_weight_BW_SH,\n",
    "    color=\"red\",\n",
    "    histtype=\"step\",\n",
    "    label=\"BW&SH\",\n",
    "    density=True,\n",
    ")\n",
    "theta_ax[2].hist(\n",
    "    theta3,\n",
    "    bins=100,\n",
    "    weights=new_weight_BW_SH,\n",
    "    color=\"red\",\n",
    "    histtype=\"step\",\n",
    "    label=\"BW&SH\",\n",
    "    density=True,\n",
    ")\n",
    "phi_ax[0].hist(\n",
    "    phi1,\n",
    "    bins=50,\n",
    "    weights=new_weight_BW_SH,\n",
    "    color=\"red\",\n",
    "    histtype=\"step\",\n",
    "    label=\"BW&SH\",\n",
    "    density=True,\n",
    ")\n",
    "phi_ax[1].hist(\n",
    "    phi2,\n",
    "    bins=50,\n",
    "    weights=new_weight_BW_SH,\n",
    "    color=\"red\",\n",
    "    histtype=\"step\",\n",
    "    label=\"BW&SH\",\n",
    "    density=True,\n",
    ")\n",
    "phi_ax[2].hist(\n",
    "    phi3,\n",
    "    bins=50,\n",
    "    weights=new_weight_BW_SH,\n",
    "    color=\"red\",\n",
    "    histtype=\"step\",\n",
    "    label=\"BW&SH\",\n",
    "    density=True,\n",
    ")\n",
    "mass_ax[0].hist(\n",
    "    p12.m,\n",
    "    bins=100,\n",
    "    weights=new_weight_BW_SH,\n",
    "    color=\"red\",\n",
    "    histtype=\"step\",\n",
    "    label=\"BW&SH\",\n",
    "    density=True,\n",
    ")\n",
    "mass_ax[1].hist(\n",
    "    p23.m,\n",
    "    bins=100,\n",
    "    weights=new_weight_BW_SH,\n",
    "    color=\"red\",\n",
    "    histtype=\"step\",\n",
    "    label=\"BW&SH\",\n",
    "    density=True,\n",
    ")\n",
    "mass_ax[2].hist(\n",
    "    p31.m,\n",
    "    bins=100,\n",
    "    weights=new_weight_BW_SH,\n",
    "    color=\"red\",\n",
    "    histtype=\"step\",\n",
    "    label=\"BW&SH\",\n",
    "    density=True,\n",
    ")\n",
    "\n",
    "\n",
    "theta_ax[0].legend()\n",
    "phi_ax[0].legend()\n",
    "theta_ax[1].legend()\n",
    "phi_ax[1].legend()\n",
    "theta_ax[2].legend()\n",
    "phi_ax[2].legend()\n",
    "\n",
    "mass_ax[0].legend()\n",
    "mass_ax[1].legend()\n",
    "mass_ax[2].legend()\n",
    "\n",
    "\n",
    "fig.suptitle(\n",
    "    R\"Helicity angles and invariant mass (Before fitting: rough arbitrary guess of parameters for BW $\\times$ SH model)\"\n",
    ")\n",
    "fig.tight_layout()\n",
    "plt.show()"
   ]
  },
  {
   "cell_type": "markdown",
   "metadata": {
    "editable": true,
    "slideshow": {
     "slide_type": ""
    },
    "tags": []
   },
   "source": [
    "### Estimator"
   ]
  },
  {
   "cell_type": "code",
   "execution_count": null,
   "metadata": {},
   "outputs": [],
   "source": [
    "def unbinned_nll(M12, Gamma12, M23, Gamma23, M31, Gamma31) -> float:\n",
    "    phsp = (s12, s23, s31, phi1, theta1, phi2, theta2)\n",
    "    parameter = dict(\n",
    "        M12=M12,\n",
    "        Gamma12=Gamma12,\n",
    "        M23=M23,\n",
    "        Gamma23=Gamma23,\n",
    "        M31=M31,\n",
    "        Gamma31=Gamma31,\n",
    "    )\n",
    "    data = (\n",
    "        p12_data.m2,\n",
    "        p23_data.m2,\n",
    "        p31_data.m2,\n",
    "        phi1_data,\n",
    "        theta1_data,\n",
    "        phi2_data,\n",
    "        theta2_data,\n",
    "    )\n",
    "    model_integral = BW_SH_model(*phsp, **parameter).mean()\n",
    "    data_intensities = BW_SH_model(*data, **parameter)\n",
    "    likelihoods = data_intensities / model_integral\n",
    "    log_likelihood = np.log(likelihoods).sum()\n",
    "    return -log_likelihood"
   ]
  },
  {
   "cell_type": "code",
   "execution_count": null,
   "metadata": {
    "editable": true,
    "jupyter": {
     "source_hidden": true
    },
    "slideshow": {
     "slide_type": ""
    },
    "tags": [
     "hide-cell"
    ]
   },
   "outputs": [],
   "source": [
    "%time np.sum(s12)\n",
    "%time sum(s12)"
   ]
  },
  {
   "cell_type": "markdown",
   "metadata": {},
   "source": [
    "The unbinned Log likelihood"
   ]
  },
  {
   "cell_type": "code",
   "execution_count": null,
   "metadata": {},
   "outputs": [],
   "source": [
    "unbinned_nll(\n",
    "    M12=1.32,\n",
    "    Gamma12=0.1,\n",
    "    M23=1.24,\n",
    "    Gamma23=0.1,\n",
    "    M31=1.57,\n",
    "    Gamma31=0.1,\n",
    ")"
   ]
  },
  {
   "cell_type": "markdown",
   "metadata": {
    "editable": true,
    "slideshow": {
     "slide_type": ""
    },
    "tags": []
   },
   "source": [
    "### Optimizer"
   ]
  },
  {
   "cell_type": "code",
   "execution_count": null,
   "metadata": {},
   "outputs": [],
   "source": [
    "from iminuit import Minuit\n",
    "\n",
    "initial_parameters = dict(\n",
    "    M12=1.32,\n",
    "    Gamma12=0.1,\n",
    "    M23=1.24,\n",
    "    Gamma23=0.1,\n",
    "    M31=1.57,\n",
    "    Gamma31=0.1,\n",
    ")\n",
    "optimizer = Minuit(unbinned_nll, **initial_parameters)\n",
    "optimizer.errordef = Minuit.LIKELIHOOD\n",
    "optimizer"
   ]
  },
  {
   "cell_type": "code",
   "execution_count": null,
   "metadata": {},
   "outputs": [],
   "source": [
    "optimizer.migrad()"
   ]
  },
  {
   "cell_type": "code",
   "execution_count": null,
   "metadata": {
    "editable": true,
    "slideshow": {
     "slide_type": ""
    },
    "tags": []
   },
   "outputs": [],
   "source": [
    "optimized_parameters = {p.name: p.value for p in optimizer.params}\n",
    "optimized_parameters"
   ]
  },
  {
   "cell_type": "code",
   "execution_count": null,
   "metadata": {
    "editable": true,
    "slideshow": {
     "slide_type": ""
    },
    "tags": []
   },
   "outputs": [],
   "source": [
    "fitted_weight_BW_SH = BW_SH_model(\n",
    "    s12,\n",
    "    s23,\n",
    "    s31,\n",
    "    phi1,\n",
    "    theta1,\n",
    "    phi2,\n",
    "    theta2,\n",
    "    M12=optimizer.params[0].value,\n",
    "    Gamma12=optimizer.params[1].value,\n",
    "    M23=optimizer.params[2].value,\n",
    "    Gamma23=optimizer.params[3].value,\n",
    "    M31=optimizer.params[4].value,\n",
    "    Gamma31=optimizer.params[5].value,\n",
    ")"
   ]
  },
  {
   "cell_type": "code",
   "execution_count": null,
   "metadata": {
    "editable": true,
    "jupyter": {
     "source_hidden": true
    },
    "slideshow": {
     "slide_type": ""
    },
    "tags": [
     "hide-input",
     "full-width"
    ]
   },
   "outputs": [],
   "source": [
    "fig, (theta_ax, phi_ax, mass_ax) = plt.subplots(figsize=(13, 11), ncols=3, nrows=3)\n",
    "for i, ax in enumerate(theta_ax, 1):\n",
    "    ax.set_title(Rf\"$\\theta_{i}$\")\n",
    "    ax.set_xticks([0, np.pi / 2, np.pi])\n",
    "    ax.set_xticklabels([\"0\", R\"$\\frac{\\pi}{2}$\", R\"$\\pi$\"])\n",
    "for i, ax in enumerate(phi_ax, 1):\n",
    "    ax.set_title(Rf\"$\\phi_{i}$\")\n",
    "    ax.set_xticks([-np.pi, 0, np.pi])\n",
    "    ax.set_xticklabels([R\"-$\\pi$\", 0, R\"$\\pi$\"])\n",
    "for i, ax in enumerate(mass_ax, 1):\n",
    "    ax.set_title(Rf\"$m_{{{i}{(i % 3 + 1)}}}$\")\n",
    "\n",
    "theta_ax[0].hist(\n",
    "    theta1_data,\n",
    "    bins=100,\n",
    "    label=\"data\",\n",
    "    density=True,\n",
    ")\n",
    "theta_ax[1].hist(\n",
    "    theta2_data,\n",
    "    bins=100,\n",
    "    label=\"data\",\n",
    "    density=True,\n",
    ")\n",
    "theta_ax[2].hist(\n",
    "    theta3_data,\n",
    "    bins=100,\n",
    "    label=\"data\",\n",
    "    density=True,\n",
    ")\n",
    "\n",
    "phi_ax[0].hist(\n",
    "    phi1_data,\n",
    "    bins=50,\n",
    "    label=\"data\",\n",
    "    density=True,\n",
    ")\n",
    "phi_ax[1].hist(\n",
    "    phi2_data,\n",
    "    bins=50,\n",
    "    label=\"data\",\n",
    "    density=True,\n",
    ")\n",
    "phi_ax[2].hist(\n",
    "    phi3_data,\n",
    "    bins=50,\n",
    "    label=\"data\",\n",
    "    density=True,\n",
    ")\n",
    "\n",
    "mass_ax[0].hist(\n",
    "    p12_data.m,\n",
    "    bins=100,\n",
    "    label=\"data\",\n",
    "    density=True,\n",
    ")\n",
    "mass_ax[1].hist(\n",
    "    p23_data.m,\n",
    "    bins=100,\n",
    "    label=\"data\",\n",
    "    density=True,\n",
    ")\n",
    "mass_ax[2].hist(\n",
    "    p31_data.m,\n",
    "    bins=100,\n",
    "    label=\"data\",\n",
    "    density=True,\n",
    ")\n",
    "\n",
    "\n",
    "theta_ax[0].hist(\n",
    "    theta1,\n",
    "    bins=100,\n",
    "    weights=fitted_weight_BW_SH,\n",
    "    color=\"red\",\n",
    "    histtype=\"step\",\n",
    "    label=\"BW&SH\",\n",
    "    density=True,\n",
    ")\n",
    "theta_ax[1].hist(\n",
    "    theta2,\n",
    "    bins=100,\n",
    "    weights=fitted_weight_BW_SH,\n",
    "    color=\"red\",\n",
    "    histtype=\"step\",\n",
    "    label=\"BW&SH\",\n",
    "    density=True,\n",
    ")\n",
    "theta_ax[2].hist(\n",
    "    theta3,\n",
    "    bins=100,\n",
    "    weights=fitted_weight_BW_SH,\n",
    "    color=\"red\",\n",
    "    histtype=\"step\",\n",
    "    label=\"BW&SH\",\n",
    "    density=True,\n",
    ")\n",
    "phi_ax[0].hist(\n",
    "    phi1,\n",
    "    bins=50,\n",
    "    weights=fitted_weight_BW_SH,\n",
    "    color=\"red\",\n",
    "    histtype=\"step\",\n",
    "    label=\"BW&SH\",\n",
    "    density=True,\n",
    ")\n",
    "phi_ax[1].hist(\n",
    "    phi2,\n",
    "    bins=50,\n",
    "    weights=fitted_weight_BW_SH,\n",
    "    color=\"red\",\n",
    "    histtype=\"step\",\n",
    "    label=\"BW&SH\",\n",
    "    density=True,\n",
    ")\n",
    "phi_ax[2].hist(\n",
    "    phi3,\n",
    "    bins=50,\n",
    "    weights=fitted_weight_BW_SH,\n",
    "    color=\"red\",\n",
    "    histtype=\"step\",\n",
    "    label=\"BW&SH\",\n",
    "    density=True,\n",
    ")\n",
    "mass_ax[0].hist(\n",
    "    p12.m,\n",
    "    bins=100,\n",
    "    weights=fitted_weight_BW_SH,\n",
    "    color=\"red\",\n",
    "    histtype=\"step\",\n",
    "    label=\"BW&SH\",\n",
    "    density=True,\n",
    ")\n",
    "mass_ax[1].hist(\n",
    "    p23.m,\n",
    "    bins=100,\n",
    "    weights=fitted_weight_BW_SH,\n",
    "    color=\"red\",\n",
    "    histtype=\"step\",\n",
    "    label=\"BW&SH\",\n",
    "    density=True,\n",
    ")\n",
    "mass_ax[2].hist(\n",
    "    p31.m,\n",
    "    bins=100,\n",
    "    weights=fitted_weight_BW_SH,\n",
    "    color=\"red\",\n",
    "    histtype=\"step\",\n",
    "    label=\"BW&SH\",\n",
    "    density=True,\n",
    ")\n",
    "\n",
    "\n",
    "theta_ax[0].legend()\n",
    "phi_ax[0].legend()\n",
    "theta_ax[1].legend()\n",
    "phi_ax[1].legend()\n",
    "theta_ax[2].legend()\n",
    "phi_ax[2].legend()\n",
    "\n",
    "mass_ax[0].legend()\n",
    "mass_ax[1].legend()\n",
    "mass_ax[2].legend()\n",
    "\n",
    "\n",
    "fig.suptitle(\n",
    "    R\"Helicity angles and invariant mass (After fitting: updated fitted parameters for BW $\\times$ SH model)\"\n",
    ")\n",
    "fig.tight_layout()\n",
    "plt.show()"
   ]
  },
  {
   "cell_type": "code",
   "execution_count": null,
   "metadata": {
    "editable": true,
    "slideshow": {
     "slide_type": ""
    },
    "tags": [
     "full-width",
     "hide-input"
    ]
   },
   "outputs": [],
   "source": [
    "fig, (ax1, ax2, ax3) = plt.subplots(figsize=(12, 4), ncols=3, sharey=True)\n",
    "fig.suptitle(\n",
    "    R\"Dalitz Plots of Phase space, generated data, and fitted BW $\\times$ SH model\"\n",
    ")\n",
    "hist2 = ax2.hist2d(s12_data, s23_data, bins=100, cmin=1e-6)\n",
    "ax2.set_xlabel(R\"$s_{12}$\")\n",
    "ax2.set_title(\"Generated data\")\n",
    "ax2.set_ylabel(R\"$s_{23}$\")\n",
    "\n",
    "hist1 = ax1.hist2d(s12, s23, bins=100, cmin=1e-6)\n",
    "ax1.set_title(\"Phase space\")\n",
    "ax1.set_xlabel(R\"$s_{12}$\")\n",
    "ax1.set_ylabel(R\"$s_{23}$\")\n",
    "\n",
    "hist3 = ax3.hist2d(s12, s23, bins=100, weights=fitted_weight_BW_SH, cmin=1e-6)\n",
    "ax3.set_title(R\"BW $\\times$ SH model\")\n",
    "ax3.set_xlabel(R\"$s_{12}$\")\n",
    "ax3.set_ylabel(R\"$s_{23}$\")\n",
    "\n",
    "cbar1 = fig.colorbar(hist1[3], ax=ax1)\n",
    "cbar2 = fig.colorbar(hist2[3], ax=ax2)\n",
    "cbar3 = fig.colorbar(hist3[3], ax=ax3)\n",
    "\n",
    "fig.tight_layout()\n",
    "fig.show()"
   ]
  },
  {
   "cell_type": "code",
   "execution_count": null,
   "metadata": {},
   "outputs": [],
   "source": [
    "pa"
   ]
  },
  {
   "cell_type": "code",
   "execution_count": null,
   "metadata": {},
   "outputs": [],
   "source": [
    "pb"
   ]
  },
  {
   "cell_type": "code",
   "execution_count": null,
   "metadata": {},
   "outputs": [],
   "source": []
  }
 ],
 "metadata": {
  "colab": {
   "toc_visible": true
  },
  "kernelspec": {
   "display_name": "Python 3 (ipykernel)",
   "language": "python",
   "name": "python3"
  },
  "language_info": {
   "codemirror_mode": {
    "name": "ipython",
    "version": 3
   },
   "file_extension": ".py",
   "mimetype": "text/x-python",
   "name": "python",
   "nbconvert_exporter": "python",
   "pygments_lexer": "ipython3",
   "version": "3.10.13"
  }
 },
 "nbformat": 4,
 "nbformat_minor": 4
}
