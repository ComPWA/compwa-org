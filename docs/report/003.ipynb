{
 "cells": [
  {
   "cell_type": "code",
   "execution_count": null,
   "metadata": {
    "hideCode": true,
    "hideOutput": true,
    "hidePrompt": true,
    "jupyter": {
     "source_hidden": true
    },
    "slideshow": {
     "slide_type": "skip"
    },
    "tags": [
     "remove-cell"
    ]
   },
   "outputs": [],
   "source": [
    "import os\n",
    "\n",
    "STATIC_WEB_PAGE = {\"EXECUTE_NB\", \"READTHEDOCS\"}.intersection(os.environ)"
   ]
  },
  {
   "cell_type": "markdown",
   "metadata": {},
   "source": [
    "```{autolink-concat}\n",
    "```"
   ]
  },
  {
   "cell_type": "markdown",
   "metadata": {
    "tags": [
     "physics",
     "sympy"
    ]
   },
   "source": [
    "::::{margin}\n",
    ":::{card} Chew-Mandelstam S-wave and dispersion integrals\n",
    "TR-003\n",
    "^^^\n",
    "Section {ref}`report/003:S-wave` has been implemented in [ampform#265](https://github.com/ComPWA/ampform/issues/265).\n",
    "+++\n",
    "_To be implemented_\n",
    ":::\n",
    "::::"
   ]
  },
  {
   "cell_type": "markdown",
   "metadata": {},
   "source": [
    "# Chew-Mandelstam"
   ]
  },
  {
   "cell_type": "markdown",
   "metadata": {},
   "source": [
    "<!-- cspell:ignore dasharray dashoffset displaystyle displaystyledisplaystyle linecap linejoin ndim orthopy xlink xtick ytick -->\n",
    "<!-- cspell:ignore epsabs epsrel pinf pyfunc -->"
   ]
  },
  {
   "cell_type": "code",
   "execution_count": null,
   "metadata": {
    "tags": [
     "remove-cell"
    ]
   },
   "outputs": [],
   "source": [
    "%pip install -q ampform==0.13.3 black==22.3.0 matplotlib==3.5.1 mpl-interactions==0.20.2 ndim==0.1.7 numpy==1.22.3 qrules==0.9.7 quadpy==0.16.15 scipy==1.8.0 sympy==1.10.1 x21==0.2.16"
   ]
  },
  {
   "cell_type": "markdown",
   "metadata": {},
   "source": [
    "This report is an attempt formulate the Chew-Mandelstam function described in {pdg-review}`2021; Resonances; pp.13` (Section 50.3.5) with [SymPy](https://docs.sympy.org), so that it can be implemented in [AmpForm](https://ampform.rtfd.io)."
   ]
  },
  {
   "cell_type": "code",
   "execution_count": null,
   "metadata": {
    "tags": [
     "remove-input"
    ]
   },
   "outputs": [],
   "source": [
    "%matplotlib widget"
   ]
  },
  {
   "cell_type": "code",
   "execution_count": null,
   "metadata": {
    "jupyter": {
     "source_hidden": true
    },
    "tags": [
     "hide-cell"
    ]
   },
   "outputs": [],
   "source": [
    "import inspect\n",
    "import warnings\n",
    "from functools import partial\n",
    "\n",
    "import black\n",
    "import matplotlib.pyplot as plt\n",
    "import mpl_interactions.ipyplot as iplt\n",
    "import numpy as np\n",
    "import qrules\n",
    "import quadpy\n",
    "import symplot\n",
    "import sympy as sp\n",
    "from ampform.dynamics import (\n",
    "    BlattWeisskopfSquared,\n",
    "    BreakupMomentumSquared,\n",
    "    ComplexSqrt,\n",
    "    PhaseSpaceFactor,\n",
    "    PhaseSpaceFactorComplex,\n",
    ")\n",
    "from IPython.display import Math\n",
    "\n",
    "warnings.filterwarnings(\"ignore\")\n",
    "PDG = qrules.load_pdg()"
   ]
  },
  {
   "cell_type": "markdown",
   "metadata": {
    "tags": []
   },
   "source": [
    "## S-wave"
   ]
  },
  {
   "cell_type": "markdown",
   "metadata": {},
   "source": [
    "As can be seen in Eq. (50.40) on {pdg-review}`2021; Resonances; p.13`, the Chew-Mandelstam function $\\Sigma_a$ for a particle $a$ decaying to particles $1, 2$ has a simple form for angular momentum $L=0$ ($S$-wave):\n",
    "\n",
    ":::{math}\n",
    ":class: full-width\n",
    ":label: chew-mandelstam\n",
    "\\Sigma_a(s) = \\frac{1}{16\\pi^2}\n",
    "\\left[\n",
    " \\frac{2q_a}{\\sqrt{s}}\n",
    " \\log\\frac{m_1^2+m_2^2-s+2\\sqrt{s}q_a}{2m_1m_2}\n",
    " - \\left(m_1^2-m_2^2\\right)\n",
    " \\left(\\frac{1}{s}-\\frac{1}{(m_1+m_2)^2}\\right)\n",
    " \\log\\frac{m_1}{m_2}\n",
    "\\right]\n",
    ":::\n",
    "\n",
    "The only question is how to deal with negative values for the squared break-up momentum $q_a^2$. Here, we will use AmpForm's {class}`~ampform.sympy.math.ComplexSqrt`:"
   ]
  },
  {
   "cell_type": "code",
   "execution_count": null,
   "metadata": {
    "jupyter": {
     "source_hidden": true
    },
    "tags": [
     "hide-input",
     "remove-input",
     "keep_output"
    ]
   },
   "outputs": [
    {
     "data": {
      "text/latex": [
       "$\\displaystyle q_a = \\sqrt[\\mathrm{c}]{q_a^{2}} = \\begin{cases} i \\sqrt{- q_a^{2}} & \\text{for}\\: q_a^{2} < 0 \\\\\\sqrt{q_a^{2}} & \\text{otherwise} \\end{cases}$"
      ],
      "text/plain": [
       "<IPython.core.display.Math object>"
      ]
     },
     "execution_count": null,
     "metadata": {},
     "output_type": "execute_result"
    }
   ],
   "source": [
    "q_squared_symbol = sp.Symbol(\"q_a^{2}\", real=True)\n",
    "q_a_expr = ComplexSqrt(q_squared_symbol)\n",
    "Math(f\"q_a = {sp.latex(q_a_expr)} = {sp.latex(q_a_expr.evaluate())}\")"
   ]
  },
  {
   "cell_type": "code",
   "execution_count": null,
   "metadata": {
    "tags": []
   },
   "outputs": [],
   "source": [
    "def breakup_momentum(s, m1, m2):\n",
    "    q_squared = BreakupMomentumSquared(s, m1, m2)\n",
    "    return ComplexSqrt(q_squared)\n",
    "\n",
    "\n",
    "def chew_mandelstam_s_wave(s, m1, m2):\n",
    "    # evaluate=False in order to keep same style as PDG\n",
    "    q = breakup_momentum(s, m1, m2)\n",
    "    left_term = sp.Mul(\n",
    "        2 * q / sp.sqrt(s),\n",
    "        sp.log((m1**2 + m2**2 - s + 2 * sp.sqrt(s) * q) / (2 * m1 * m2)),\n",
    "        evaluate=False,\n",
    "    )\n",
    "    right_term = (m1**2 - m2**2) * (1 / s - 1 / (m1 + m2) ** 2) * sp.log(m1 / m2)\n",
    "    return sp.Mul(\n",
    "        1 / (16 * sp.pi**2),\n",
    "        left_term - right_term,\n",
    "        evaluate=False,\n",
    "    )"
   ]
  },
  {
   "cell_type": "markdown",
   "metadata": {},
   "source": [
    "To check whether this implementation is correct, let's plug some {class}`~sympy.core.symbol.Symbol`s into this function and compare it to Eq. (50.40) on {pdg-review}`2021; Resonances; p.13`:"
   ]
  },
  {
   "cell_type": "code",
   "execution_count": null,
   "metadata": {
    "tags": [
     "full-width",
     "keep_output"
    ]
   },
   "outputs": [
    {
     "data": {
      "text/latex": [
       "$\\displaystyle \\frac{1}{16 \\pi^{2}} \\left(\\frac{2 \\sqrt[\\mathrm{c}]{q^2\\left(s\\right)}}{\\sqrt{s}} \\log{\\left(\\frac{m_{1}^{2} + m_{2}^{2} + 2 \\sqrt{s} \\sqrt[\\mathrm{c}]{q^2\\left(s\\right)} - s}{2 m_{1} m_{2}} \\right)} - \\left(m_{1}^{2} - m_{2}^{2}\\right) \\left(- \\frac{1}{\\left(m_{1} + m_{2}\\right)^{2}} + \\frac{1}{s}\\right) \\log{\\left(\\frac{m_{1}}{m_{2}} \\right)}\\right)$"
      ],
      "text/plain": [
       "(1/(16*pi**2))*((2*ComplexSqrt(BreakupMomentumSquared(s, m1, m2))/sqrt(s))*log((m1**2 + m2**2 + 2*sqrt(s)*ComplexSqrt(BreakupMomentumSquared(s, m1, m2)) - s)/(2*m1*m2)) - (m1**2 - m2**2)*(-1/(m1 + m2)**2 + 1/s)*log(m1/m2))"
      ]
     },
     "execution_count": null,
     "metadata": {},
     "output_type": "execute_result"
    }
   ],
   "source": [
    "s, m1, m2 = sp.symbols(\"s m1 m2\", real=True)\n",
    "chew_mandelstam_s_wave_expr = chew_mandelstam_s_wave(s, m1, m2)\n",
    "chew_mandelstam_s_wave_expr"
   ]
  },
  {
   "cell_type": "markdown",
   "metadata": {},
   "source": [
    "It should be noted that this equation is not well-defined along the real axis, that is, for $\\mathrm{Im}(s) = 0$. For this reason, we split $s$ into a real part $s'$ with a small imaginary offset (the PDG indicates this with $s+0i$). We parametrized this imaginary offset with $\\epsilon$, and for the interactive plot, we do so with a power of $10$:"
   ]
  },
  {
   "cell_type": "code",
   "execution_count": null,
   "metadata": {},
   "outputs": [],
   "source": [
    "epsilon = sp.Symbol(\"epsilon\", positive=True)\n",
    "s_prime = sp.Symbol(R\"s^{\\prime}\", real=True)\n",
    "s_plus = s_prime + sp.I * sp.Pow(10, -epsilon)"
   ]
  },
  {
   "cell_type": "code",
   "execution_count": null,
   "metadata": {
    "jupyter": {
     "source_hidden": true
    },
    "tags": [
     "remove-input",
     "keep_output"
    ]
   },
   "outputs": [
    {
     "data": {
      "text/latex": [
       "$\\displaystyle s \\to s^{\\prime} + 10^{- \\epsilon} i$"
      ],
      "text/plain": [
       "<IPython.core.display.Math object>"
      ]
     },
     "execution_count": null,
     "metadata": {},
     "output_type": "execute_result"
    }
   ],
   "source": [
    "Math(Rf\"{sp.latex(s)} \\to {sp.latex(s_plus)}\")"
   ]
  },
  {
   "cell_type": "markdown",
   "metadata": {},
   "source": [
    "We are now ready to use [`mpl_interactions`](https://mpl-interactions.rtfd.io) and AmpForm's {mod}`symplot` to visualize this function:"
   ]
  },
  {
   "cell_type": "code",
   "execution_count": null,
   "metadata": {
    "tags": []
   },
   "outputs": [],
   "source": [
    "chew_mandelstam_s_wave_prime = chew_mandelstam_s_wave_expr.subs(s, s_plus)\n",
    "np_chew_mandelstam_s_wave, sliders = symplot.prepare_sliders(\n",
    "    expression=chew_mandelstam_s_wave_prime.doit(),\n",
    "    plot_symbol=s_prime,\n",
    ")\n",
    "np_phase_space_factor = sp.lambdify(\n",
    "    args=(s_prime, m1, m2, epsilon),\n",
    "    expr=PhaseSpaceFactorComplex(s_plus, m1, m2).doit(),\n",
    "    modules=\"numpy\",\n",
    ")"
   ]
  },
  {
   "cell_type": "markdown",
   "metadata": {},
   "source": [
    "As starting values for the interactive plot, we assume $\\pi\\eta$ scattering (just like in the PDG section) and use their masses as values for $m_1$ and $m_1$, respectively."
   ]
  },
  {
   "cell_type": "code",
   "execution_count": null,
   "metadata": {},
   "outputs": [],
   "source": [
    "s_min, s_max = -0.15, 1.4\n",
    "m1_val = PDG[\"pi0\"].mass\n",
    "m2_val = PDG[\"eta\"].mass\n",
    "\n",
    "plot_domain = np.linspace(s_min, s_max, 500)\n",
    "sliders.set_ranges(\n",
    "    m1=(0, 2, 200),\n",
    "    m2=(0, 2, 200),\n",
    "    epsilon=(1, 12),\n",
    ")\n",
    "sliders.set_values(\n",
    "    m1=m1_val,\n",
    "    m2=m2_val,\n",
    "    epsilon=4,\n",
    ")"
   ]
  },
  {
   "cell_type": "markdown",
   "metadata": {},
   "source": [
    "For comparison, we plot the Chew-Mandelstam function for $S$-waves next to AmpForm's {class}`~ampform.dynamics.phasespace.PhaseSpaceFactorComplex`. Have a look at the resulting plots and compare to Figure 50.4 on {pdg-review}`2021; Resonances; p.12`."
   ]
  },
  {
   "cell_type": "code",
   "execution_count": null,
   "metadata": {
    "jupyter": {
     "source_hidden": true
    },
    "tags": [
     "remove-output",
     "hide-cell"
    ]
   },
   "outputs": [],
   "source": [
    "fig, axes = plt.subplots(ncols=2, figsize=(11, 4.5), tight_layout=True)\n",
    "ax1, ax2 = axes\n",
    "for ax in axes:\n",
    "    ax.axhline(0, linewidth=0.5, c=\"black\")\n",
    "\n",
    "real_style = {\"label\": \"Real part\", \"c\": \"black\", \"linestyle\": \"dashed\"}\n",
    "imag_style = {\"label\": \"Imag part\", \"c\": \"red\"}\n",
    "threshold_style = {\"label\": R\"$s_\\mathrm{thr}$\", \"c\": \"grey\", \"linewidth\": 0.5}\n",
    "\n",
    "ylim = (-1, +1)\n",
    "y_factor = 16 * np.pi\n",
    "controls = iplt.axvline(\n",
    "    lambda *args, **kwargs: (kwargs[\"m1\"] + kwargs[\"m2\"]) ** 2,\n",
    "    **sliders,\n",
    "    ax=ax1,\n",
    "    **threshold_style,\n",
    ")\n",
    "iplt.axvline(\n",
    "    lambda *args, **kwargs: (kwargs[\"m1\"] + kwargs[\"m2\"]) ** 2,\n",
    "    controls=controls,\n",
    "    ax=ax2,\n",
    "    **threshold_style,\n",
    ")\n",
    "iplt.plot(\n",
    "    plot_domain,\n",
    "    lambda *args, **kwargs: (\n",
    "        y_factor * 1j * np_phase_space_factor(*args, **kwargs)\n",
    "    ).real,\n",
    "    controls=controls,\n",
    "    ylim=ylim,\n",
    "    alpha=0.7,\n",
    "    ax=ax1,\n",
    "    **real_style,\n",
    ")\n",
    "iplt.plot(\n",
    "    plot_domain,\n",
    "    lambda *args, **kwargs: (\n",
    "        y_factor * 1j * np_phase_space_factor(*args, **kwargs)\n",
    "    ).imag,\n",
    "    controls=controls,\n",
    "    ylim=ylim,\n",
    "    alpha=0.7,\n",
    "    ax=ax1,\n",
    "    **imag_style,\n",
    ")\n",
    "\n",
    "iplt.plot(\n",
    "    plot_domain,\n",
    "    lambda *args, **kwargs: y_factor\n",
    "    * np_chew_mandelstam_s_wave(*args, **kwargs).real,\n",
    "    controls=controls,\n",
    "    ylim=ylim,\n",
    "    alpha=0.7,\n",
    "    ax=ax2,\n",
    "    **real_style,\n",
    ")\n",
    "iplt.plot(\n",
    "    plot_domain,\n",
    "    lambda *args, **kwargs: y_factor\n",
    "    * np_chew_mandelstam_s_wave(*args, **kwargs).imag,\n",
    "    controls=controls,\n",
    "    ylim=ylim,\n",
    "    alpha=0.7,\n",
    "    ax=ax2,\n",
    "    **imag_style,\n",
    ")\n",
    "\n",
    "for ax in axes:\n",
    "    ax.legend(loc=\"lower right\")\n",
    "    ax.set_xticks(np.arange(0, 1.21, 0.3))\n",
    "    ax.set_yticks(np.arange(-1, 1.1, 0.5))\n",
    "    ax.set_xlabel(\"$s$ (GeV$^2$)\")\n",
    "\n",
    "ax1.set_ylabel(R\"$16\\pi \\; i\\rho(s)$\")\n",
    "ax2.set_ylabel(R\"$16\\pi \\; \\Sigma(s)$\")\n",
    "ax1.set_title(R\"Complex phase space factor $\\rho$\")\n",
    "ax2.set_title(\"Chew-Mandelstam $S$-wave ($L=0$)\")\n",
    "plt.show()"
   ]
  },
  {
   "cell_type": "code",
   "execution_count": null,
   "metadata": {
    "jupyter": {
     "source_hidden": true
    },
    "tags": [
     "remove-cell"
    ]
   },
   "outputs": [],
   "source": [
    "plt.savefig(\"003-chew-mandelstam-s-wave.svg\")"
   ]
  },
  {
   "cell_type": "markdown",
   "metadata": {},
   "source": [
    "```{figure} https://user-images.githubusercontent.com/29308176/164984924-764a9558-6afd-46a9-8f24-8cc92ce1bc49.svg\n",
    ":class: full-width\n",
    "```"
   ]
  },
  {
   "cell_type": "markdown",
   "metadata": {
    "tags": []
   },
   "source": [
    "## General dispersion integral"
   ]
  },
  {
   "cell_type": "markdown",
   "metadata": {},
   "source": [
    "For higher angular momenta, the PDG notes that one has to compute the dispersion integral given by Eq. (50.41) on {pdg-review}`2021; Resonances; p.13`:\n",
    "\n",
    "$$\n",
    "\\Sigma_a(s+0i) =\n",
    "    \\frac{s-s_{\\mathrm{thr}_a}}{\\pi}\n",
    "    \\int^\\infty_{s_{\\mathrm{thr}_a}} \\frac{\n",
    "        \\rho_a(s')n_a^2(s')\n",
    "    }{\n",
    "        (s' - s_{\\mathrm{thr}_a})(s'-s-i0)\n",
    "    }\n",
    "    \\mathop{}\\!\\mathrm{d}s'\n",
    "$$ (dispersion-integral)"
   ]
  },
  {
   "cell_type": "markdown",
   "metadata": {},
   "source": [
    "Equation {eq}`chew-mandelstam` is the analytic solution for $L=0$.\n",
    "\n",
    "From Equations (50.26-27) on {pdg-review}`2021; Resonances; p.9`, it can be deduced that the function $n_a^2$ is the same as AmpForm's {class}`~ampform.dynamics.BlattWeisskopfSquared` (note that this function is normalized, whereas the PDG's $F_j$ function has $1$ in the nominator). Furthermore, the PDG seems to suggest that $z = q_a/q_0$, but this is an unconventional choice and is probably a mistake. For this reason, we simply use {class}`~ampform.dynamics.BlattWeisskopfSquared` for the definition of $n_a^2$:"
   ]
  },
  {
   "cell_type": "code",
   "execution_count": null,
   "metadata": {},
   "outputs": [],
   "source": [
    "def na2(s, m1, m2, L, q0):\n",
    "    q_squared = BreakupMomentumSquared(s, m1, m2)\n",
    "    return BlattWeisskopfSquared(\n",
    "        z=q_squared / (q0**2),\n",
    "        angular_momentum=L,\n",
    "    )"
   ]
  },
  {
   "cell_type": "markdown",
   "metadata": {},
   "source": [
    "For $\\rho_a$, we use AmpForm's {class}`~ampform.dynamics.phasespace.PhaseSpaceFactor`:"
   ]
  },
  {
   "cell_type": "code",
   "execution_count": null,
   "metadata": {
    "tags": [
     "keep_output"
    ]
   },
   "outputs": [
    {
     "data": {
      "text/latex": [
       "$\\displaystyle \\frac{B_{L}^2\\left(\\frac{q^2\\left(s^{\\prime}\\right)}{q_{0}^{2}}\\right) \\rho\\left(s^{\\prime}\\right)}{\\left(s^{\\prime} - \\left(m_{1} + m_{2}\\right)^{2}\\right) \\left(- i \\epsilon - s + s^{\\prime}\\right)}$"
      ],
      "text/plain": [
       "BlattWeisskopfSquared(L, BreakupMomentumSquared(s^{\\prime}, m1, m2)/q0**2)*PhaseSpaceFactor(s^{\\prime}, m1, m2)/((s^{\\prime} - (m1 + m2)**2)*(-I*epsilon - s + s^{\\prime}))"
      ]
     },
     "execution_count": null,
     "metadata": {},
     "output_type": "execute_result"
    }
   ],
   "source": [
    "q0 = sp.Symbol(\"q0\", real=True)\n",
    "L = sp.Symbol(\"L\", integer=True, positive=True)\n",
    "s_thr = (m1 + m2) ** 2\n",
    "integrand = (PhaseSpaceFactor(s_prime, m1, m2) * na2(s_prime, m1, m2, L, q0)) / (\n",
    "    (s_prime - s_thr) * (s_prime - s - epsilon * sp.I)\n",
    ")\n",
    "integrand"
   ]
  },
  {
   "cell_type": "markdown",
   "metadata": {},
   "source": [
    "Next, we {func}`~sympy.utilities.lambdify.lambdify` this integrand to a {mod}`numpy` expression so that we can integrate it efficiently:"
   ]
  },
  {
   "cell_type": "code",
   "execution_count": null,
   "metadata": {},
   "outputs": [],
   "source": [
    "np_integrand = sp.lambdify(\n",
    "    args=(s_prime, s, L, epsilon, m1, m2, q0),\n",
    "    expr=integrand.doit(),\n",
    "    modules=\"numpy\",\n",
    ")"
   ]
  },
  {
   "cell_type": "markdown",
   "metadata": {},
   "source": [
    "As discussed in [TR-016](016.ipynb), {func}`scipy.integrate.quad` cannot integrate over complex-valued functions, while [`quadpy`](https://github.com/sigma-py/quadpy) runs into trouble with vectorized input to the integrand. The following function, from {ref}`report/016:Vectorized input` offers a quick solution:"
   ]
  },
  {
   "cell_type": "code",
   "execution_count": null,
   "metadata": {},
   "outputs": [],
   "source": [
    "@np.vectorize\n",
    "def vectorized_quad(func, a, b, **func_kwargs):\n",
    "    values, _ = quadpy.quad(partial(func, **func_kwargs), a, b)\n",
    "    return values"
   ]
  },
  {
   "cell_type": "markdown",
   "metadata": {},
   "source": [
    ":::{note}\n",
    "\n",
    "Integrals can be expressed with SymPy, with some caveats. See {ref}`report/016:SymPy integral`.\n",
    "\n",
    ":::\n",
    "\n",
    "Now, for comparison, we compute this integral for a few values of $L>0$:"
   ]
  },
  {
   "cell_type": "code",
   "execution_count": null,
   "metadata": {
    "tags": [
     "keep_output"
    ]
   },
   "outputs": [
    {
     "name": "stdout",
     "output_type": "stream",
     "text": [
      "Computing for L ∈ [1, 2, 3]\n"
     ]
    }
   ],
   "source": [
    "s_domain = np.linspace(s_min, s_max, num=50)\n",
    "max_L = 3\n",
    "l_values = list(range(1, max_L + 1))\n",
    "print(\"Computing for L ∈\", l_values)"
   ]
  },
  {
   "cell_type": "markdown",
   "metadata": {},
   "source": [
    "It is handy to store the resulting values of each dispersion integral in a {obj}`dict` with $L$ as keys:"
   ]
  },
  {
   "cell_type": "markdown",
   "metadata": {},
   "source": [
    "```{autolink-skip}\n",
    "```"
   ]
  },
  {
   "cell_type": "code",
   "execution_count": null,
   "metadata": {
    "tags": [
     "keep_output"
    ]
   },
   "outputs": [
    {
     "name": "stdout",
     "output_type": "stream",
     "text": [
      "CPU times: user 2.61 s, sys: 7.39 ms, total: 2.62 s\n",
      "Wall time: 2.62 s\n"
     ]
    }
   ],
   "source": [
    "%%time\n",
    "s_thr_val = float(s_thr.subs({m1: m1_val, m2: m2_val}))\n",
    "integral_values = {\n",
    "    l_val: vectorized_quad(\n",
    "        np_integrand,\n",
    "        a=s_thr_val,\n",
    "        b=np.inf,\n",
    "        s=s_domain,\n",
    "        L=l_val,\n",
    "        epsilon=1e-3,\n",
    "        m1=m1_val,\n",
    "        m2=m2_val,\n",
    "        q0=1.0,\n",
    "    )\n",
    "    for l_val in l_values\n",
    "}"
   ]
  },
  {
   "cell_type": "markdown",
   "metadata": {},
   "source": [
    "Finally, as can be seen from Eq. {eq}`dispersion-integral`, the resulting values from the integral have to be shifted with a factor $\\frac{s-s_{\\mathrm{thr}_a}}{\\pi}$ to get $\\Sigma_a$. We also scale the values with $16\\pi$ so that it can be compared with the plot generated in {ref}`report/003:S-wave`."
   ]
  },
  {
   "cell_type": "code",
   "execution_count": null,
   "metadata": {
    "tags": []
   },
   "outputs": [],
   "source": [
    "sigma = {\n",
    "    l_val: (s_domain - s_thr_val) / np.pi * integral_values[l_val]\n",
    "    for l_val in l_values\n",
    "}\n",
    "sigma_scaled = {l_val: 16 * np.pi * sigma[l_val] for l_val in l_values}"
   ]
  },
  {
   "cell_type": "code",
   "execution_count": null,
   "metadata": {
    "jupyter": {
     "source_hidden": true
    },
    "tags": [
     "remove-cell"
    ]
   },
   "outputs": [],
   "source": [
    "fig, axes = plt.subplots(\n",
    "    nrows=len(l_values),\n",
    "    sharex=True,\n",
    "    figsize=(5, 2.5 * len(l_values)),\n",
    "    tight_layout=True,\n",
    ")\n",
    "fig.suptitle(f\"Dispersion integrals for $m_1={m1_val:.2f}, m_2={m2_val:.2f}$\")\n",
    "for ax, l_val in zip(axes, l_values):\n",
    "    ax.axhline(0, linewidth=0.5, c=\"black\")\n",
    "    ax.axvline(s_thr_val, **threshold_style)\n",
    "    ax.plot(s_domain, sigma_scaled[l_val].real, **real_style)\n",
    "    ax.plot(s_domain, sigma_scaled[l_val].imag, **imag_style)\n",
    "    ax.set_title(f\"$L = {l_val}$\")\n",
    "    ax.set_ylabel(R\"$16\\pi \\; \\Sigma(s)$\")\n",
    "axes[-1].set_xlabel(\"$s$ (GeV$^2$)\")\n",
    "axes[0].legend()\n",
    "plt.show()"
   ]
  },
  {
   "cell_type": "code",
   "execution_count": null,
   "metadata": {
    "jupyter": {
     "source_hidden": true
    },
    "tags": [
     "remove-cell"
    ]
   },
   "outputs": [],
   "source": [
    "plt.savefig(\"003-chew-mandelstam-l-non-zero.svg\")"
   ]
  },
  {
   "cell_type": "markdown",
   "metadata": {},
   "source": [
    "![Chew-Mandelstam for higher angular momenta](https://user-images.githubusercontent.com/29308176/164985017-7600941e-0481-4282-8d9b-0680f720e6ef.svg)\n",
    "\n",
    ":::{note}\n",
    "\n",
    "In {ref}`report/003:SymPy expressions` we'll see that the dispersion integral indeed reproduces the same shape as the analytic expression from {ref}`report/003:S-wave`.\n",
    "\n",
    ":::"
   ]
  },
  {
   "cell_type": "markdown",
   "metadata": {},
   "source": [
    "## SymPy expressions"
   ]
  },
  {
   "cell_type": "markdown",
   "metadata": {},
   "source": [
    "In the following, we attempt to implement Equation {eq}`dispersion-integral` using {ref}`report/016:SymPy integral`."
   ]
  },
  {
   "cell_type": "code",
   "execution_count": null,
   "metadata": {
    "jupyter": {
     "source_hidden": true
    },
    "tags": [
     "hide-cell"
    ]
   },
   "outputs": [],
   "source": [
    "from sympy.printing.pycode import _unpack_integral_limits\n",
    "\n",
    "\n",
    "class UnevaluatableIntegral(sp.Integral):\n",
    "    abs_tolerance = 1e-5\n",
    "    rel_tolerance = 1e-5\n",
    "    limit = 50\n",
    "\n",
    "    def doit(self, **hints):\n",
    "        args = [arg.doit(**hints) for arg in self.args]\n",
    "        return self.func(*args)\n",
    "\n",
    "    def _numpycode(self, printer, *args):\n",
    "        integration_vars, limits = _unpack_integral_limits(self)\n",
    "        if len(limits) != 1:\n",
    "            msg = f\"Cannot handle {len(limits)}-dimensional integrals\"\n",
    "            raise ValueError(msg)\n",
    "        integrate = \"quadpy_quad\"\n",
    "        printer.module_imports[\"quadpy\"].update({f\"quad as {integrate}\"})\n",
    "        limit_str = \"{}, {}\".format(*tuple(map(printer._print, limits[0])))\n",
    "        args = \", \".join(map(printer._print, integration_vars))\n",
    "        expr = printer._print(self.args[0])\n",
    "        return (\n",
    "            f\"{integrate}(lambda {args}: {expr}, {limit_str},\"\n",
    "            f\" epsabs={self.abs_tolerance}, epsrel={self.abs_tolerance},\"\n",
    "            f\" limit={self.limit})[0]\"\n",
    "        )"
   ]
  },
  {
   "cell_type": "code",
   "execution_count": null,
   "metadata": {
    "tags": [
     "keep_output"
    ]
   },
   "outputs": [
    {
     "data": {
      "text/latex": [
       "$\\displaystyle \\frac{s - \\left(m_{1} + m_{2}\\right)^{2}}{\\pi} \\int\\limits_{\\left(m_{1} + m_{2}\\right)^{2}}^{\\infty} \\frac{B_{L}^2\\left(q^2\\left(x\\right)\\right) \\rho\\left(x\\right)}{\\left(x - \\left(m_{1} + m_{2}\\right)^{2}\\right) \\left(- i \\epsilon - s + x\\right)}\\, dx$"
      ],
      "text/plain": [
       "((s - (m1 + m2)**2)/pi)*Integral(BlattWeisskopfSquared(L, BreakupMomentumSquared(x, m1, m2))*PhaseSpaceFactor(x, m1, m2)/((x - (m1 + m2)**2)*(-I*epsilon - s + x)), (x, (m1 + m2)**2, oo))"
      ]
     },
     "execution_count": null,
     "metadata": {},
     "output_type": "execute_result"
    }
   ],
   "source": [
    "def dispersion_integral(\n",
    "    s,\n",
    "    m1,\n",
    "    m2,\n",
    "    angular_momentum,\n",
    "    meson_radius=1,\n",
    "    s_prime=sp.Symbol(\"x\", real=True),\n",
    "    epsilon=sp.Symbol(\"epsilon\", positive=True),\n",
    "):\n",
    "    s_thr = (m1 + m2) ** 2\n",
    "    q_squared = BreakupMomentumSquared(s_prime, m1, m2)\n",
    "    ff_squared = BlattWeisskopfSquared(\n",
    "        angular_momentum=L, z=q_squared * meson_radius**2\n",
    "    )\n",
    "    phsp_factor = PhaseSpaceFactor(s_prime, m1, m2)\n",
    "    return sp.Mul(\n",
    "        (s - s_thr) / sp.pi,\n",
    "        UnevaluatableIntegral(\n",
    "            (phsp_factor * ff_squared)\n",
    "            / (s_prime - s_thr)\n",
    "            / (s_prime - s - sp.I * epsilon),\n",
    "            (s_prime, s_thr, sp.oo),\n",
    "        ),\n",
    "        evaluate=False,\n",
    "    )\n",
    "\n",
    "\n",
    "x = sp.Symbol(\"x\", real=True)\n",
    "integral_expr = dispersion_integral(s, m1, m2, angular_momentum=L, s_prime=x)\n",
    "integral_expr"
   ]
  },
  {
   "cell_type": "markdown",
   "metadata": {},
   "source": [
    ":::{warning}\n",
    "\n",
    "We have to keep track of the integration variable ($s'$ in Equation {eq}`dispersion-integral`), so that we don't run into trouble if we use {func}`~sympy.utilities.lambdify.lambdify` with common sub-expressions. The problem is that the integration variable _should not_ be extracted as a common sub-expression, otherwise the lambdified [`quadpy.quad()`](https://github.com/sigma-py/quadpy) expression cannot handle vectorized input.\n",
    "\n",
    ":::\n",
    "\n",
    "To keep the function under the integral simple, we substitute angular momentum $L$ with a definite value before we lambdify:"
   ]
  },
  {
   "cell_type": "code",
   "execution_count": null,
   "metadata": {
    "tags": []
   },
   "outputs": [],
   "source": [
    "UnevaluatableIntegral.abs_tolerance = 1e-4\n",
    "UnevaluatableIntegral.rel_tolerance = 1e-4\n",
    "integral_func_s_wave = sp.lambdify(\n",
    "    [s, m1, m2, epsilon],\n",
    "    integral_expr.subs(L, 0).doit(),\n",
    "    # integration symbol should not be extracted as common sub-expression!\n",
    "    cse=partial(sp.cse, ignore=[x], list=False),\n",
    ")\n",
    "integral_func_s_wave = np.vectorize(integral_func_s_wave)\n",
    "\n",
    "integral_func_p_wave = sp.lambdify(\n",
    "    [s, m1, m2, epsilon],\n",
    "    integral_expr.subs(L, 1).doit(),\n",
    "    cse=partial(sp.cse, ignore=[x], list=False),\n",
    ")\n",
    "integral_func_p_wave = np.vectorize(integral_func_p_wave)"
   ]
  },
  {
   "cell_type": "code",
   "execution_count": null,
   "metadata": {
    "jupyter": {
     "source_hidden": true
    },
    "tags": [
     "hide-input",
     "keep_output"
    ]
   },
   "outputs": [
    {
     "name": "stdout",
     "output_type": "stream",
     "text": [
      "def _lambdifygenerated(s, m1, m2, epsilon):\n",
      "    x0 = pi ** (-1.0)\n",
      "    x1 = (m1 + m2) ** 2\n",
      "    x2 = -x1\n",
      "    return (\n",
      "        x0\n",
      "        * (s + x2)\n",
      "        * quadpy_quad(\n",
      "            lambda x: (1 / 16)\n",
      "            * x0\n",
      "            * sqrt((x + x2) * (x - (m1 - m2) ** 2) / x)\n",
      "            / (sqrt(x) * (x + x2) * (-1j * epsilon - s + x)),\n",
      "            x1,\n",
      "            PINF,\n",
      "            epsabs=0.0001,\n",
      "            epsrel=0.0001,\n",
      "            limit=50,\n",
      "        )[0]\n",
      "    )\n",
      "\n"
     ]
    }
   ],
   "source": [
    "src = inspect.getsource(integral_func_s_wave.pyfunc)\n",
    "src = black.format_str(src, mode=black.FileMode())\n",
    "print(src)"
   ]
  },
  {
   "cell_type": "markdown",
   "metadata": {},
   "source": [
    "```{autolink-skip}\n",
    "```"
   ]
  },
  {
   "cell_type": "code",
   "execution_count": null,
   "metadata": {
    "tags": [
     "keep_output"
    ]
   },
   "outputs": [
    {
     "name": "stdout",
     "output_type": "stream",
     "text": [
      "CPU times: user 5.13 s, sys: 0 ns, total: 5.13 s\n",
      "Wall time: 5.13 s\n",
      "CPU times: user 2.41 s, sys: 0 ns, total: 2.41 s\n",
      "Wall time: 2.41 s\n"
     ]
    }
   ],
   "source": [
    "s_values = np.linspace(-0.15, 1.4, num=200)\n",
    "%time s_wave_values = integral_func_s_wave(s_values, m1_val, m2_val, epsilon=1e-5)\n",
    "%time p_wave_values = integral_func_p_wave(s_values, m1_val, m2_val, epsilon=1e-5)"
   ]
  },
  {
   "cell_type": "markdown",
   "metadata": {},
   "source": [
    "Note that the dispersion integral for $L=0$ indeed reproduces the same shape as in {ref}`report/003:S-wave`!"
   ]
  },
  {
   "cell_type": "code",
   "execution_count": null,
   "metadata": {
    "jupyter": {
     "source_hidden": true
    },
    "tags": [
     "hide-input",
     "remove-output"
    ]
   },
   "outputs": [],
   "source": [
    "s_wave_values *= 16 * np.pi\n",
    "p_wave_values *= 16 * np.pi\n",
    "\n",
    "s_values = np.linspace(-0.15, 1.4, num=200)\n",
    "fig, axes = plt.subplots(nrows=2, figsize=(6, 7), sharex=True)\n",
    "ax1, ax2 = axes\n",
    "fig.suptitle(\n",
    "    f\"Symbolic dispersion integrals for $m_1={m1_val:.2f}, m_2={m2_val:.2f}$\"\n",
    ")\n",
    "for ax in axes:\n",
    "    ax.axhline(0, linewidth=0.5, c=\"black\")\n",
    "    ax.axvline(s_thr_val, **threshold_style)\n",
    "    ax.set_title(f\"$L = {l_val}$\")\n",
    "    ax.set_ylabel(R\"$16\\pi \\; \\Sigma(s)$\")\n",
    "axes[-1].set_xlabel(\"$s$ (GeV$^2$)\")\n",
    "\n",
    "ax1.set_title(\"$S$-wave ($L=0$)\")\n",
    "ax1.plot(s_values, s_wave_values.real, **real_style)\n",
    "ax1.plot(s_values, s_wave_values.imag, **imag_style)\n",
    "\n",
    "ax2.set_title(\"$P$-wave ($L=1$)\")\n",
    "ax2.plot(s_values, p_wave_values.real, **real_style)\n",
    "ax2.plot(s_values, p_wave_values.imag, **imag_style)\n",
    "\n",
    "ax1.legend()\n",
    "fig.tight_layout()\n",
    "plt.show()"
   ]
  },
  {
   "cell_type": "code",
   "execution_count": null,
   "metadata": {
    "jupyter": {
     "source_hidden": true
    },
    "tags": [
     "remove-cell"
    ]
   },
   "outputs": [],
   "source": [
    "plt.savefig(\"003-symbolic-chew-mandelstam.svg\")"
   ]
  },
  {
   "cell_type": "markdown",
   "metadata": {},
   "source": [
    "![Symbolic Chew-Mandelstam plots](https://user-images.githubusercontent.com/29308176/164984984-dfe73d4c-e604-4d06-b4e1-50be117a57e3.svg)"
   ]
  }
 ],
 "metadata": {
  "colab": {
   "toc_visible": true
  },
  "kernelspec": {
   "display_name": "Python 3 (ipykernel)",
   "language": "python",
   "name": "python3"
  },
  "language_info": {
   "codemirror_mode": {
    "name": "ipython",
    "version": 3
   },
   "file_extension": ".py",
   "mimetype": "text/x-python",
   "name": "python",
   "nbconvert_exporter": "python",
   "pygments_lexer": "ipython3",
   "version": "3.8.18"
  }
 },
 "nbformat": 4,
 "nbformat_minor": 4
}
