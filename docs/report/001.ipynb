{
 "cells": [
  {
   "cell_type": "markdown",
   "metadata": {},
   "source": [
    "# Custom lambdification"
   ]
  },
  {
   "cell_type": "markdown",
   "metadata": {},
   "source": [
    "As noted in {doc}`/report/000`, it's hard to lambdify a {func}`sympy.sqrt <sympy.functions.elementary.miscellaneous.sqrt>` to {doc}`JAX <jax:index>`. One possible way out is to define a custom class that derives from {class}`sympy.Expr <sympy.core.expr.Expr>` and {doc}`overwrite its printer methods <sympy:modules/printing>`."
   ]
  },
  {
   "cell_type": "code",
   "execution_count": null,
   "metadata": {},
   "outputs": [],
   "source": [
    "from typing import Any\n",
    "\n",
    "import sympy as sp\n",
    "from sympy.printing.printer import Printer\n",
    "\n",
    "\n",
    "class ComplexSqrt(sp.Expr):\n",
    "    def __new__(cls, x, *args: Any, **kwargs: Any):\n",
    "        x = sp.sympify(x)\n",
    "        expr = sp.Expr.__new__(cls, x, *args, **kwargs)\n",
    "        if hasattr(x, \"free_symbols\") and not x.free_symbols:\n",
    "            return expr.evaluate()\n",
    "        return expr\n",
    "\n",
    "    def evaluate(self):\n",
    "        x = self.args[0]\n",
    "        if not x.is_real:\n",
    "            return sp.sqrt(x)\n",
    "        return sp.Piecewise(\n",
    "            (sp.I * sp.sqrt(-x), x < 0),\n",
    "            (sp.sqrt(x), True),\n",
    "        )\n",
    "\n",
    "    def _latex(self, printer: Printer, *args: Any) -> str:\n",
    "        x = printer._print(self.args[0])\n",
    "        return fR\"\\sqrt[\\mathrm{{c}}]{{{x}}}\"\n",
    "\n",
    "    def _numpycode(self, printer: Printer, *args: Any) -> str:\n",
    "        printer.module_imports[\"numpy.lib\"].add(\"scimath\")\n",
    "        x = printer._print(self.args[0])\n",
    "        return f\"scimath.sqrt({x})\"\n",
    "\n",
    "    def _pythoncode(self, printer: Printer, *args: Any) -> str:\n",
    "        printer.module_imports[\"cmath\"].add(\"sqrt as csqrt\")\n",
    "        x = printer._print(self.args[0])\n",
    "        return f\"csqrt({x})\""
   ]
  },
  {
   "cell_type": "markdown",
   "metadata": {},
   "source": [
    "In addition, one may overwrite this `Lambdifier` class, so that {func}`sympy.plot() <sympy.plotting.plot.plot>` also works:"
   ]
  },
  {
   "cell_type": "code",
   "execution_count": null,
   "metadata": {},
   "outputs": [],
   "source": [
    "from sympy.plotting.experimental_lambdify import Lambdifier\n",
    "\n",
    "Lambdifier.builtin_functions_different[\"ComplexSqrt\"] = \"sqrt\""
   ]
  },
  {
   "cell_type": "markdown",
   "metadata": {},
   "source": [
    "The `_latex()` method ensures that `ComplexSqrt` renders nicely in notebooks:"
   ]
  },
  {
   "cell_type": "code",
   "execution_count": null,
   "metadata": {},
   "outputs": [],
   "source": [
    "x = sp.Symbol(\"x\")\n",
    "ComplexSqrt(x)"
   ]
  },
  {
   "cell_type": "markdown",
   "metadata": {},
   "source": [
    "As opposed to the {doc}`derivation of a sympy.Expr </adr/002/expr>`, however, this class evaluates directly:"
   ]
  },
  {
   "cell_type": "code",
   "execution_count": null,
   "metadata": {},
   "outputs": [],
   "source": [
    "ComplexSqrt(-4)"
   ]
  },
  {
   "cell_type": "markdown",
   "metadata": {},
   "source": [
    "And the important part, lambdifying to {mod}`numpy` works well as well:"
   ]
  },
  {
   "cell_type": "code",
   "execution_count": null,
   "metadata": {},
   "outputs": [],
   "source": [
    "import inspect\n",
    "\n",
    "lambdified = sp.lambdify(x, ComplexSqrt(x), \"numpy\")\n",
    "source = inspect.getsource(lambdified)\n",
    "print(source)"
   ]
  },
  {
   "cell_type": "markdown",
   "metadata": {},
   "source": [
    "Just as noted in {ref}`report/000:Complex square root` though, {mod}`numpy.lib.scimath` cannot be used with {doc}`JAX <jax:index>`:"
   ]
  },
  {
   "cell_type": "code",
   "execution_count": null,
   "metadata": {
    "jupyter": {
     "outputs_hidden": true
    },
    "tags": [
     "raises-exception",
     "hide-output"
    ]
   },
   "outputs": [],
   "source": [
    "import jax\n",
    "import numpy as np\n",
    "\n",
    "jax_lambdified = jax.jit(lambdified)\n",
    "sample = np.linspace(-1, +1, 5)\n",
    "jax_lambdified(sample)"
   ]
  }
 ],
 "metadata": {
  "kernelspec": {
   "display_name": "Python 3",
   "language": "python",
   "name": "python3"
  },
  "language_info": {
   "codemirror_mode": {
    "name": "ipython",
    "version": 3
   },
   "file_extension": ".py",
   "mimetype": "text/x-python",
   "name": "python",
   "nbconvert_exporter": "python",
   "pygments_lexer": "ipython3",
   "version": "3.8.8"
  }
 },
 "nbformat": 4,
 "nbformat_minor": 4
}
