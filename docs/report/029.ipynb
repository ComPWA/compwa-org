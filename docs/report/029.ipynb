{
 "cells": [
  {
   "cell_type": "markdown",
   "metadata": {},
   "source": [
    "```{autolink-concat}\n",
    "```"
   ]
  },
  {
   "cell_type": "markdown",
   "metadata": {
    "editable": true,
    "slideshow": {
     "slide_type": ""
    },
    "tags": [
     "PDG"
    ]
   },
   "source": [
    "::::{margin}\n",
    ":::{card} Definition of the normalized Blatt–Weisskopf form factor from Hankel functions of the first kind.\n",
    "TR-029\n",
    "^^^\n",
    "This report investigates how to implement [ComPWA/ampform#417](https://github.com/ComPWA/ampform/issues/417), where it was suggested to define the 'normalized' Blatt–Weisskopf function $B_L^2(z)$ from a Hankel function of the first kind, $h_l^{(1)}$.\n",
    ":::\n",
    "::::"
   ]
  },
  {
   "cell_type": "markdown",
   "metadata": {
    "editable": true,
    "slideshow": {
     "slide_type": ""
    },
    "tags": []
   },
   "source": [
    "# Blatt–Weisskopf from Hankel function"
   ]
  },
  {
   "cell_type": "code",
   "execution_count": null,
   "metadata": {
    "editable": true,
    "slideshow": {
     "slide_type": ""
    },
    "tags": [
     "remove-cell"
    ]
   },
   "outputs": [],
   "source": [
    "%pip install -q ampform==0.15.1 sympy==1.12"
   ]
  },
  {
   "cell_type": "code",
   "execution_count": null,
   "metadata": {
    "editable": true,
    "jupyter": {
     "source_hidden": true
    },
    "slideshow": {
     "slide_type": ""
    },
    "tags": [
     "hide-input"
    ]
   },
   "outputs": [],
   "source": [
    "from __future__ import annotations\n",
    "\n",
    "import sympy as sp\n",
    "from ampform.io import aslatex\n",
    "from ampform.sympy import unevaluated\n",
    "from IPython.display import Math, display"
   ]
  },
  {
   "cell_type": "markdown",
   "metadata": {},
   "source": [
    "## Introduction"
   ]
  },
  {
   "cell_type": "markdown",
   "metadata": {
    "editable": true,
    "slideshow": {
     "slide_type": ""
    },
    "tags": []
   },
   "source": [
    "As of AmpForm [v0.15](https://github.com/ComPWA/ampform/releases/tag/0.15.1), the implementation of [`BlattWeisskopfSquared`](https://ampform.readthedocs.io/0.15.x/api/ampform.dynamics/#ampform.dynamics.BlattWeisskopfSquared) contains hard-coded polynomials, see implementation [here](https://github.com/ComPWA/ampform/blob/0.15.1/src/ampform/dynamics/__init__.py#L66-L134).\n",
    "The motivation for this can be found in the citations mentioned in [its API documentation](https://ampform.readthedocs.io/0.15.x/api/ampform.dynamics/#ampform.dynamics.BlattWeisskopfSquared).\n",
    "However, as noted by [@mmikhasenko](https://github.com/mmikhasenko) in [ComPWA/ampform#417](https://github.com/ComPWA/ampform/issues/417), the polynomials can be derived from the spherical[^1] Hankel functions of the first kind.\n",
    "Von Hippel and Quigg[^2] derived a generalization of the centrifugal barrier factor&nbsp;$F_L$, also called form factor, that was introduced by {cite}`Blatt:1952ije`, showing that\n",
    "\n",
    "[^1]: See [this page](https://mathworld.wolfram.com/SphericalHankelFunctionoftheFirstKind.html) on Wolfram MathWorld for an explanation about the difference between $h_\\ell^{(1)}$ and $H_\\ell^{(1)}$.\n",
    "[^2]: See {cite}`VonHippel:1972fg`, pp.&nbsp;626 and 637, and a review by COMPASS, {cite}`Ketzer:2019wmd`, p.&nbsp;31."
   ]
  },
  {
   "cell_type": "markdown",
   "metadata": {
    "editable": true,
    "slideshow": {
     "slide_type": ""
    },
    "tags": []
   },
   "source": [
    "```{math}\n",
    "F_\\ell^2(z^2) = \\frac{1}{z^2\\left|h^{(1)}_\\ell\\left(z\\right)\\right|^2}\\,,\n",
    "```"
   ]
  },
  {
   "cell_type": "markdown",
   "metadata": {
    "editable": true,
    "slideshow": {
     "slide_type": ""
    },
    "tags": []
   },
   "source": [
    "where $h_\\ell^{(1)}$ is a Hankel function of the first kind. They also noted that, if $z\\in\\mathbb{R}$,"
   ]
  },
  {
   "cell_type": "markdown",
   "metadata": {
    "editable": true,
    "slideshow": {
     "slide_type": ""
    },
    "tags": []
   },
   "source": [
    "$$\n",
    "h_\\ell^{(1)}(z) =\n",
    "  \\left(- i\\right)^{\\ell+1}\n",
    "  \\frac{e^{iz}}{z}\n",
    "  \\sum_{k=0}^\\ell\n",
    "    \\frac{(\\ell+k)!}{(\\ell-k)! \\, k!}\n",
    "    \\left(\\frac{i}{2z}\\right)^k.\n",
    "$$ (hankel-sum)"
   ]
  },
  {
   "cell_type": "markdown",
   "metadata": {
    "editable": true,
    "slideshow": {
     "slide_type": ""
    },
    "tags": []
   },
   "source": [
    "In the following, we call $F_\\ell(z)$ the _unnormalized_ Blatt–Weisskopf form factor.\n",
    "Following Chung and other resources (see e.g. {cite}`Chung:1995dx`, p.&nbsp;415), AmpForm implements a unitless, _normalized_ Blatt–Weisskopf factor $B_L$, meaning that $B_L(1)=1$.[^3]\n",
    "It can be defined in terms of $F_L$ as\n",
    "\n",
    "[^3]: We switch to notating angular momentum with $L$ instead of $\\ell$ here to indicate that we are talking about a normalized function here."
   ]
  },
  {
   "cell_type": "markdown",
   "metadata": {
    "editable": true,
    "slideshow": {
     "slide_type": ""
    },
    "tags": []
   },
   "source": [
    "```{math}\n",
    "B_L^2(z^2)\n",
    "  = \\frac{F_L^2(z^2)}{F_L^2(1)}\n",
    "  = \\frac{\\left|h^{(1)}_L(1)\\right|^2}{z^2\\left|h^{(1)}_L(z)\\right|^2}\\,.\n",
    "```"
   ]
  },
  {
   "cell_type": "markdown",
   "metadata": {},
   "source": [
    ":::{note}\n",
    "As of writing, AmpForm uses $z$ as argument in [`BlattWeisskopfSquared`](https://ampform.readthedocs.io/0.15.x/api/ampform.dynamics/#ampform.dynamics.BlattWeisskopfSquared).\n",
    "This means we have to work with a square root and assume that $z \\geq 0$, meaning\n",
    "\n",
    "$$\n",
    "B_L^2(z) = \\frac{\\left|h^{(1)}_L(1)\\right|^2}{z\\left|h^{(1)}_L\\left(\\sqrt{z}\\right)\\right|^2}\\,.\n",
    "$$ (blatt-weisskopf)\n",
    "\n",
    ":::"
   ]
  },
  {
   "cell_type": "markdown",
   "metadata": {
    "editable": true,
    "slideshow": {
     "slide_type": ""
    },
    "tags": []
   },
   "source": [
    "## Hankel function of the first kind"
   ]
  },
  {
   "cell_type": "markdown",
   "metadata": {
    "editable": true,
    "slideshow": {
     "slide_type": ""
    },
    "tags": []
   },
   "source": [
    "### Built-in SymPy function"
   ]
  },
  {
   "cell_type": "markdown",
   "metadata": {},
   "source": [
    "SymPy offers a Hankel function of the first kind, [`scipy.special.hankel1`](https://docs.scipy.org/doc/scipy/reference/generated/scipy.special.hankel1.html)."
   ]
  },
  {
   "cell_type": "code",
   "execution_count": null,
   "metadata": {},
   "outputs": [],
   "source": [
    "z = sp.Symbol(\"z\", nonnegative=True, real=True)\n",
    "ell = sp.Symbol(R\"\\ell\", integer=True, nonnegative=True)\n",
    "sp.hankel1(ell, z)"
   ]
  },
  {
   "cell_type": "markdown",
   "metadata": {},
   "source": [
    "This function is the general[^1] Hankel function $H_\\ell$ and the class does not offer algebraic simplifications for specific values or assumptions of $\\ell$ and $z$."
   ]
  },
  {
   "cell_type": "code",
   "execution_count": null,
   "metadata": {},
   "outputs": [],
   "source": [
    "display(\n",
    "    sp.hankel1(ell, z).doit(),\n",
    "    sp.hankel1(ell, 0).doit(),\n",
    "    sp.hankel1(0, z).doit(),\n",
    "    sp.hankel1(0, 0).doit(),\n",
    ")"
   ]
  },
  {
   "cell_type": "markdown",
   "metadata": {
    "editable": true,
    "slideshow": {
     "slide_type": ""
    },
    "tags": []
   },
   "source": [
    "### Custom class definition"
   ]
  },
  {
   "cell_type": "markdown",
   "metadata": {},
   "source": [
    "To implement Equation&nbsp;{eq}`hankel-sum` for the _spherical_ Hankel function, we have to define a specific [`@unevaluated`](https://ampform.readthedocs.io/0.15.x/api/ampform.sympy/#ampform.sympy.unevaluated) expression class. The following class evaluates to the sum given in Equation&nbsp;{eq}`hankel-sum`.\n",
    "The [`doit()`](https://docs.sympy.org/latest/modules/core.html#sympy.core.basic.Basic.doit) method is overwritten explicitly in order to prevent SymPy from unfolding the [`sympy.Sum`](https://docs.sympy.org/latest/modules/concrete.html#sympy.concrete.summations.Sum) on symbolic input for $\\ell$."
   ]
  },
  {
   "cell_type": "code",
   "execution_count": null,
   "metadata": {
    "editable": true,
    "slideshow": {
     "slide_type": ""
    },
    "tags": []
   },
   "outputs": [],
   "source": [
    "@unevaluated(implement_doit=False)\n",
    "class Hankel1Real(sp.Expr):\n",
    "    l: sp.Symbol | int\n",
    "    z: sp.Symbol | float\n",
    "    _latex_repr_ = R\"h_{{{l}}}^{{(1)}}\\left({z}\\right)\"\n",
    "\n",
    "    def doit(self, deep: bool = True, **kwargs):\n",
    "        expr = self.evaluate()\n",
    "        if deep and isinstance(self.l, sp.Integer):\n",
    "            return expr.doit()\n",
    "        return expr\n",
    "\n",
    "    def evaluate(self) -> sp.Expr:\n",
    "        l, z = self.args\n",
    "        k = sp.Dummy(\"k\", integer=True, nonnegative=True)\n",
    "        return (\n",
    "            (-sp.I) ** (1 + l)\n",
    "            * (sp.exp(z * sp.I) / z)\n",
    "            * sp.Sum(\n",
    "                sp.factorial(l + k)\n",
    "                / (sp.factorial(l - k) * sp.factorial(k))\n",
    "                * (sp.I / (2 * z)) ** k,\n",
    "                (k, 0, l),\n",
    "            )\n",
    "        )"
   ]
  },
  {
   "cell_type": "code",
   "execution_count": null,
   "metadata": {
    "editable": true,
    "jupyter": {
     "source_hidden": true
    },
    "slideshow": {
     "slide_type": ""
    },
    "tags": [
     "hide-input"
    ]
   },
   "outputs": [],
   "source": [
    "h1lz = Hankel1Real(ell, z)\n",
    "Math(aslatex({h1lz: h1lz.doit()}))"
   ]
  },
  {
   "cell_type": "code",
   "execution_count": null,
   "metadata": {
    "editable": true,
    "jupyter": {
     "source_hidden": true
    },
    "slideshow": {
     "slide_type": ""
    },
    "tags": [
     "hide-input"
    ]
   },
   "outputs": [],
   "source": [
    "exprs = [sp.Abs(h1lz.xreplace({ell: i})) ** 2 for i in range(3)]\n",
    "Math(aslatex({e: e.doit().simplify() for e in exprs}))"
   ]
  },
  {
   "cell_type": "code",
   "execution_count": null,
   "metadata": {
    "editable": true,
    "jupyter": {
     "source_hidden": true
    },
    "slideshow": {
     "slide_type": ""
    },
    "tags": [
     "hide-input"
    ]
   },
   "outputs": [],
   "source": [
    "exprs = [sp.Abs(h1lz.xreplace({ell: i, z: 1})) ** 2 for i in range(3)]\n",
    "Math(aslatex({e: e.doit().simplify() for e in exprs}))"
   ]
  },
  {
   "cell_type": "markdown",
   "metadata": {
    "editable": true,
    "slideshow": {
     "slide_type": ""
    },
    "tags": []
   },
   "source": [
    "## Normalized Blatt–Weisskopf form factor"
   ]
  },
  {
   "cell_type": "markdown",
   "metadata": {},
   "source": [
    "We now have the required expression classes for re-implementing [`BlattWeisskopfSquared`](https://ampform.readthedocs.io/0.15.x/api/ampform.dynamics/#ampform.dynamics.BlattWeisskopfSquared) using Equation&nbsp;{eq}`blatt-weisskopf` (with $z$ as input, instead of $z^2$)."
   ]
  },
  {
   "cell_type": "code",
   "execution_count": null,
   "metadata": {
    "editable": true,
    "slideshow": {
     "slide_type": ""
    },
    "tags": []
   },
   "outputs": [],
   "source": [
    "@unevaluated\n",
    "class BlattWeisskopfSquared(sp.Expr):\n",
    "    L: sp.Symbol | int\n",
    "    z: sp.Symbol | float\n",
    "    _latex_repr_ = R\"B^2_{{{L}}}\\left({z}\\right)\"\n",
    "\n",
    "    def evaluate(self) -> sp.Expr:\n",
    "        L, z = self.args\n",
    "        return (\n",
    "            sp.Abs(Hankel1Real(L, 1)) ** 2 / sp.Abs(Hankel1Real(L, sp.sqrt(z))) ** 2 / z\n",
    "        )"
   ]
  },
  {
   "cell_type": "code",
   "execution_count": null,
   "metadata": {
    "editable": true,
    "jupyter": {
     "source_hidden": true
    },
    "slideshow": {
     "slide_type": ""
    },
    "tags": [
     "hide-input"
    ]
   },
   "outputs": [],
   "source": [
    "L = sp.Symbol(\"L\", integer=True, nonnegative=True)\n",
    "BL2 = BlattWeisskopfSquared(L, z)\n",
    "Math(aslatex({BL2: BL2.doit(deep=False)}))"
   ]
  },
  {
   "cell_type": "markdown",
   "metadata": {},
   "source": [
    "Indeed the polynomials are exactly the same as the [original `BlattWeisskopfSquared`](https://ampform.readthedocs.io/0.15.x/api/ampform.dynamics/#ampform.dynamics.BlattWeisskopfSquared)!"
   ]
  },
  {
   "cell_type": "code",
   "execution_count": null,
   "metadata": {
    "editable": true,
    "jupyter": {
     "source_hidden": true
    },
    "slideshow": {
     "slide_type": ""
    },
    "tags": [
     "hide-input"
    ]
   },
   "outputs": [],
   "source": [
    "exprs = [BL2.xreplace({L: i}) for i in range(9)]\n",
    "Math(aslatex({e: e.doit().simplify() for e in exprs}))"
   ]
  },
  {
   "cell_type": "markdown",
   "metadata": {},
   "source": [
    ":::{warning}\n",
    "An explicit [`simplify()`](https://docs.sympy.org/latest/tutorials/intro-tutorial/simplification.html#simplify) is required in order to reproduce the same polynomials here.\n",
    "This most likely won't work if $z$ becomes an expression, like $z=q^2/q_R^2$ (breakup momentum).\n",
    "The non-simplified version is shown below, which may less computationally performant, as it is non-linear.\n",
    ":::"
   ]
  },
  {
   "cell_type": "code",
   "execution_count": null,
   "metadata": {
    "editable": true,
    "jupyter": {
     "source_hidden": true
    },
    "slideshow": {
     "slide_type": ""
    },
    "tags": [
     "hide-input"
    ]
   },
   "outputs": [],
   "source": [
    "exprs = [BL2.xreplace({L: i}) for i in range(4)]\n",
    "Math(aslatex({e: e.doit() for e in exprs}))"
   ]
  }
 ],
 "metadata": {
  "colab": {
   "toc_visible": true
  },
  "kernelspec": {
   "display_name": "Python 3 (ipykernel)",
   "language": "python",
   "name": "python3"
  },
  "language_info": {
   "codemirror_mode": {
    "name": "ipython",
    "version": 3
   },
   "file_extension": ".py",
   "mimetype": "text/x-python",
   "name": "python",
   "nbconvert_exporter": "python",
   "pygments_lexer": "ipython3",
   "version": "3.10.14"
  }
 },
 "nbformat": 4,
 "nbformat_minor": 4
}
