{
 "cells": [
  {
   "cell_type": "code",
   "execution_count": null,
   "metadata": {
    "hideCode": true,
    "hideOutput": true,
    "hidePrompt": true,
    "jupyter": {
     "source_hidden": true
    },
    "slideshow": {
     "slide_type": "skip"
    },
    "tags": [
     "remove-cell"
    ]
   },
   "outputs": [],
   "source": [
    "import os\n",
    "\n",
    "STATIC_WEB_PAGE = {\"EXECUTE_NB\", \"READTHEDOCS\"}.intersection(os.environ)"
   ]
  },
  {
   "cell_type": "markdown",
   "metadata": {},
   "source": [
    "```{autolink-concat}\n",
    "```"
   ]
  },
  {
   "cell_type": "markdown",
   "metadata": {
    "editable": true,
    "slideshow": {
     "slide_type": ""
    },
    "tags": []
   },
   "source": [
    "::::{margin}\n",
    ":::{card} Dispersion integral with rotational cut\n",
    "TR-980\n",
    ":::\n",
    "::::"
   ]
  },
  {
   "cell_type": "markdown",
   "metadata": {
    "editable": true,
    "slideshow": {
     "slide_type": ""
    },
    "tags": []
   },
   "source": [
    "# Investigation of the dispersion integral with rotation of the branch cut"
   ]
  },
  {
   "cell_type": "code",
   "execution_count": null,
   "metadata": {
    "editable": true,
    "slideshow": {
     "slide_type": ""
    },
    "tags": [
     "remove-cell"
    ]
   },
   "outputs": [],
   "source": [
    "%pip install -q numpy==1.24.4 scipy==1.10.1"
   ]
  },
  {
   "cell_type": "code",
   "execution_count": null,
   "metadata": {
    "editable": true,
    "jupyter": {
     "source_hidden": true
    },
    "slideshow": {
     "slide_type": ""
    },
    "tags": [
     "hide-cell"
    ]
   },
   "outputs": [],
   "source": [
    "import warnings\n",
    "\n",
    "import matplotlib.pyplot as plt\n",
    "import numpy as np\n",
    "from scipy.integrate import quad_vec as integrate\n",
    "\n",
    "warnings.filterwarnings(\"ignore\")"
   ]
  },
  {
   "cell_type": "markdown",
   "metadata": {},
   "source": [
    ":::{admonition} General dispersion integral\n",
    "$$\n",
    "f(z) = \\frac{1}{2\\pi i} \\int_{-\\infty}^\\infty \\frac{f(z')}{z'- z} \\mathop{}\\!\\mathrm{d}z'\n",
    "$$\n",
    ":::"
   ]
  },
  {
   "cell_type": "markdown",
   "metadata": {},
   "source": [
    "## Dispersion integral with branch cut"
   ]
  },
  {
   "cell_type": "markdown",
   "metadata": {
    "jp-MarkdownHeadingCollapsed": true
   },
   "source": [
    "In the following a representation of the integral is derived where it should be possible to rotate the branch cut by an arbitrary angle $\\phi$ as done in [L. Tiator et al.,Exciting Baryon Resonances on different Riemann Sheets](https://www.google.com/search?client=firefox-b-eq=R.+A.+Arndt%2C+R.+L.+Workman%2C+Z.+Li+et+al.%2C+Phys.+Rev.+C+42%2C+1853+%281990%29). The necessary information regarding the dispersion integral is taken from  [O. Deineka, Dissertation (p.21-22), ](https://openscience.ub.uni-mainz.de/handle/20.500.12030/8998) and [I. Danilkin et al., Data-driven dispersive analysis of the $\\pi\\pi$ and $KK$ scattering (p.2))](https://journals.aps.org/prd/abstract/10.1103/PhysRevD.103.114023).\n",
    "## Derivation from line integral \n",
    "The $f(z)$ is a complex valued function using Cauchy’s integral formula the line integral around an arbitrary point reads: \n",
    "$$\n",
    "\\frac{1}{2\\pi i} \\oint_{c}\\frac{f(z')}{z'- z} \\mathop{}\\!\\mathrm{d}z'\n",
    "$$\n",
    "\n",
    "the contour $c$ describes a closed circle around the point. If the function is multivalued the contour\n",
    "can be modified so that it encircles the functions branch cuts. When neglecting the semi circle part of the contour, (see [O. Deineka, Dissertation (p.21-22), ](https://openscience.ub.uni-mainz.de/handle/20.500.12030/8998) figure 2.6), a this converges to 0 for large $s$, of the contour the integral reads:\n",
    "\n",
    "$$\n",
    "f(z) =\n",
    "\\frac{1}{2\\pi i}(\\int_{z_\\mathrm{thr}}^\\infty \\frac{\n",
    "    f(z'+i\\epsilon)\n",
    "}{(z'-z)\n",
    "}\\mathop{}\\!\\mathrm{d}z'+\n",
    "\\int_{\\infty}^{z_\\mathrm{thr}} \\frac{\n",
    "    f(z'-i\\epsilon)\n",
    "}{(z'-z)\n",
    "}\n",
    "\\mathop{}\\!\\mathrm{d}z') =\n",
    "\\frac{1}{2\\pi i}(\\int_{z_\\mathrm{thr}}^\\infty \\frac{\n",
    "    (f(z'+i\\epsilon) -  f(z'-i\\epsilon))\n",
    "}{(z'-z)\n",
    "}\\mathop{}\\!\\mathrm{d}z')\n",
    "$$\n",
    "To assure the the integral converges a first order subtraction is introduced. This leads to: \n",
    "$$\n",
    "f(z) = f(z_{sp}) +\n",
    "\\frac{(z-z_{sp})}{2\\pi i}(\\int_{z_\\mathrm{thr}}^\\infty \\frac{\n",
    "    (f(z'+i\\epsilon) -  f(z'-i\\epsilon))\n",
    "}{(z-z_{sp})(z'-z)\n",
    "}\\mathop{}\\!\\mathrm{d}z')\n",
    "$$\n",
    "$z_{sp}$ denotes the subtraction point. \n",
    "### Application to the phasespace function\n",
    "To determine the Chew-Mandelstam function the once subtracted dispersion integral of the phasespace function $\\rho(s)$ defined in equation (5) is calculated. The subtraction point is chosen to be the two particle threshold $s_{thr}= (m_1+m_2)²$. \n",
    "$$\n",
    "\\rho(s) = \\rho(s_\\mathrm{thr}) +\n",
    "\\frac{(s-s_\\mathrm{thr})}{2\\pi i}(\\int_{s_\\mathrm{thr}}^\\infty \\frac{\n",
    "    (\\rho(s'+i\\epsilon) -  \\rho(s'-i\\epsilon))\n",
    "}{(s-s_\\mathrm{thr})(s'-s)\n",
    "}\\mathop{}\\!\\mathrm{d}s')\n",
    "$$\n",
    "The function $\\rho(s_{thr})$ is chosen to be zero according to [D. J. Wilson et al.,(p.30),Resonances in coupled $\\pi K$, $\\eta K$ scattering from lattice QCD](https://journals.aps.org/prd/pdf/10.1103/PhysRevD.91.054008).\n",
    "### Example: Right-hand cut \n",
    "A common choice for the direction of the branch cut is from $s_{thr}$ to $+\\infty$. The $i\\epsilon$ depicts a small complex number above and below the branch cut. As the complex part of the $\\rho(s)$ should be 0 below $s_{thr}$ the Schwarz' refection principle applies ([Uni Mainz, Lecture notes, p.13](https://wwwth.kph.uni-mainz.de/files/2019/01/QCD-dispersion-relations.pdf)) as:\n",
    "$$\n",
    "\\rho(s+ i \\epsilon)^*=\\rho(s-i \\epsilon)\n",
    "$$\n",
    "which leads to:\n",
    "$$\n",
    "\\rho(s+ i \\epsilon)-\\rho(s-i \\epsilon)= \\rho(s+ i \\epsilon)^* - \\rho(s+ i \\epsilon)= 2i\\rho(s+i\\epsilon)\n",
    "$$\n",
    "with the assumptions made above the dispersion integral reduces to the formula mentioned in the PDG ([PDG2023, §Resonances, Eq. (50.43)](https://pdg.lbl.gov/2023/reviews/rpp2023-rev-resonances.pdf#page=15)):\n",
    "$$\n",
    "\\rho(s) =\n",
    "\\frac{(s-s_\\mathrm{thr})}{2\\pi i}(\\int_{s_\\mathrm{thr}}^\\infty \\frac{\n",
    "    2i\\rho(s'+i\\epsilon)\n",
    "}{(s-s_\\mathrm{thr})(s'-s)\n",
    "}\\mathop{}\\!\\mathrm{d}s')=\n",
    "\\frac{(s-s_\\mathrm{thr})}{\\pi }(\\int_{s_\\mathrm{thr}}^\\infty \\frac{\n",
    "    \\rho(s'+i\\epsilon)\n",
    "}{(s-s_\\mathrm{thr})(s'-s)\n",
    "}\\mathop{}\\!\\mathrm{d}s')\n",
    "$$\n",
    "### Example: Downwards cut (???)\n",
    "The direction of the branch cut can be chosen freely. It can for e.g. point in the downwards direction from $s_{thr}$ to $-i\\infty$. \\epsilon then depicts a small real (???) number left and right from the branch cut. Here the the relation: \n",
    "$$\n",
    "\\rho(s+ \\epsilon)=-\\rho(s-\\epsilon)\n",
    "$$\n",
    "is used. Which leads:\n",
    "$$\n",
    "\\rho(s+  \\epsilon)-\\rho(s-\\epsilon)= \\rho(s+ \\epsilon) - \\rho(s+ \\epsilon)= 2\\rho(s+\\epsilon)\n",
    "$$\n",
    "$$\n",
    "\\rho(s) =\n",
    "\\frac{(s-s_\\mathrm{thr})}{2\\pi i}(\\int_{-i\\infty}^{s_\\mathrm{thr}}\\frac{\n",
    "    2\\rho(s'+\\epsilon)\n",
    "}{(s-s_\\mathrm{thr})(s'-s)\n",
    "}\\mathop{}\\!\\mathrm{d}s')=\n",
    "\\frac{(s-s_\\mathrm{thr})}{\\pi i }(\\int_{-i\\infty}^{s_\\mathrm{thr}} \\frac{\n",
    "    \\rho(s'+\\epsilon)\n",
    "}{(s-s_\\mathrm{thr})(s'-s)\n",
    "}\\mathop{}\\!\\mathrm{d}s')\n",
    "$$\n",
    "\n",
    "### Rotation\n",
    "The the $s'$ is substituted by:\n",
    "$$\n",
    "s' = s_\\mathrm{thr} + x e^{i\\phi}, \\quad\n",
    "\\mathrm{d}s' = e^{i\\phi} \\mathrm{d}x, \\quad\n",
    "x \\in \\left[0, \\infty\\right)\n",
    "$$\n",
    "where the $e^{i\\phi}$ describes a counter-clockwise rotation in the complex plane by the angle $\\phi$. The new integral limits are calculated with:\n",
    "$$\n",
    "x(s')=(s'-s_{\\mathrm{thr}})e^{-i\\phi}\n",
    "$$\n",
    "which gives $x(s_{\\mathrm{thr}})=0$ and $x(\\infty)= \\infty  e^{-i\\phi}$.\n",
    "For the right-hand cut follows:\n",
    "$$\n",
    "s' = s_\\mathrm{thr} + x  \\quad\n",
    "\\mathrm{d}s' = \\mathrm{d}x\n",
    "$$\n",
    "The dispersion integral then reads:\n",
    "$$\n",
    "\\rho(s) =\n",
    "\\frac{(s-s_\\mathrm{thr})}{\\pi}(\\int_{0}^\\infty \\frac{\n",
    "    \\rho(s_{thr}+x+i\\epsilon)\n",
    "}{(s-s_\\mathrm{thr})((s_{thr}+x)-s)\n",
    "}\\mathop{}\\!\\mathrm{d}x)\n",
    "$$\n",
    "For the downwards cut follows:\n",
    "$$\n",
    "s' = s_\\mathrm{thr} + xe^{i\\frac{3\\pi}{2}}= s_\\mathrm{thr}+ (-i)x, \\quad\n",
    "\\mathrm{d}s' = -i\\mathrm{d}x \\quad\n",
    "$$\n",
    "The dispersion integral then reads:\n",
    "$$\n",
    "\\rho(s) =\n",
    "\\frac{(s-s_\\mathrm{thr})}{\\pi i}(\\int_{-i\\infty }^{0} -i \\frac{\n",
    "    \\rho(s_{thr}+(-i)x+\\epsilon)\n",
    "}{(s-s_\\mathrm{thr})((s_{thr}+(-i)x)-s)\n",
    "}\\mathop{}\\!\\mathrm{d}x)\n",
    "$$"
   ]
  },
  {
   "cell_type": "markdown",
   "metadata": {},
   "source": [
    ":::{admonition} [PDG2023, §Resonances, Eq. (50.43)](https://pdg.lbl.gov/2023/reviews/rpp2023-rev-resonances.pdf#page=15)\n",
    "\n",
    "$$\n",
    "\\begin{eqnarray}\n",
    "\\Sigma(s + 0i) &=&\n",
    "\\frac{s-s_\\mathrm{thr}}{\\pi}\n",
    "\\int_{s_\\mathrm{thr}}^\\infty \\frac{\n",
    "    \\rho(s')\n",
    "}{\n",
    "    (s' - s_\\mathrm{thr})(s'-s-i0)\n",
    "}\n",
    "\\mathop{}\\!\\mathrm{d}s'\n",
    "\\qquad \\text{original from the PDG}\n",
    "\\\\\n",
    "&=&\n",
    "\\frac{s-s_\\mathrm{thr}}{2\\pi}\n",
    "\\left[\n",
    "\\int_{s_\\mathrm{thr}}^\\infty \\frac{\n",
    "    \\rho(s'+0i)\n",
    "}{\n",
    "    (s' - s_\\mathrm{thr})(s'+i0-s)\n",
    "}\n",
    "\\mathop{}\\!\\mathrm{d}s'\n",
    "-\n",
    "\\int_{s_\\mathrm{thr}}^\\infty \\frac{\n",
    "    \\rho(s'-0i)\n",
    "}{\n",
    "    (s' - s_\\mathrm{thr})(s'-i0-s)\n",
    "}\n",
    "\\mathop{}\\!\\mathrm{d}s'\n",
    "\\right]\n",
    "\\end{eqnarray}\n",
    "$$\n",
    "\n",
    ":::"
   ]
  },
  {
   "cell_type": "markdown",
   "metadata": {},
   "source": [
    "$$\n",
    "\\rho(s) = \\frac{2\\left|q(s)\\right|}{\\sqrt[{[\\phi]}]{s}}\n",
    "$$"
   ]
  },
  {
   "cell_type": "markdown",
   "metadata": {},
   "source": [
    "$$\n",
    "\\sqrt[{[\\phi]}]{z} = e^{-\\frac{1}{2}\\phi i} \\sqrt{z e^{\\phi i}}\n",
    "$$"
   ]
  },
  {
   "cell_type": "markdown",
   "metadata": {},
   "source": [
    "$$\n",
    "q(s) = \\frac{\\sqrt{\\lambda(s, m_1^2, m_2^2)}}{2\\sqrt{s}}\n",
    "$$"
   ]
  },
  {
   "cell_type": "markdown",
   "metadata": {},
   "source": [
    "$$\n",
    "\\lambda(x, y, z) = x^2 + y^2 + z^2 - 2xy - 2yz - 2zx\n",
    "$$"
   ]
  },
  {
   "cell_type": "markdown",
   "metadata": {},
   "source": [
    "$$\n",
    "s' = s_\\mathrm{thr} - x e^{- i\\phi}, \\quad\n",
    "\\mathrm{d}s' = -e^{-i\\phi} \\mathrm{d}x, \\quad\n",
    "x \\in \\left[0, \\infty\\right)\n",
    "$$"
   ]
  },
  {
   "cell_type": "markdown",
   "metadata": {},
   "source": [
    "$$\n",
    "\\frac{s-s_{\\mathrm{thr}}}{2\\pi}\n",
    "\\left[\n",
    "\\int^\\infty_0 \\frac{\n",
    "    \\rho(s_\\mathrm{thr} - x e^{-i\\phi} + 0i)\n",
    "}{\n",
    "    \\left(-x e^{-i\\phi} + 0i\\right)\n",
    "    \\left(s_\\mathrm{thr} - x e^{-i\\phi} + 0i - s\\right)\n",
    "}\n",
    "e^{-i\\phi}\n",
    "\\mathop{}\\!\\mathrm{d}x\n",
    "-\n",
    "\\int^\\infty_0 \\frac{\n",
    "    \\rho(s_\\mathrm{thr} - x e^{-i\\phi} - 0i)\n",
    "}{\n",
    "    \\left(-x e^{-i\\phi} - 0i\\right)\n",
    "    \\left(s_\\mathrm{thr} - x e^{-i\\phi} - 0i - s\\right)\n",
    "}\n",
    "e^{-i\\phi}\n",
    "\\mathop{}\\!\\mathrm{d}x\n",
    "\\right]\n",
    "$$"
   ]
  },
  {
   "cell_type": "code",
   "execution_count": null,
   "metadata": {
    "editable": true,
    "slideshow": {
     "slide_type": ""
    },
    "tags": []
   },
   "outputs": [],
   "source": [
    "ϵi = 1e-7 * 1j\n",
    "\n",
    "\n",
    "def rho_cm(s, m1, m2, phi: float = 0) -> np.ndarray:\n",
    "    return -1j * dispersion_integral(s, m1, m2, phi)\n",
    "\n",
    "\n",
    "def dispersion_integral(s, m1, m2, phi: float = 0) -> np.ndarray:\n",
    "    s_thr = (m1 + m2) ** 2\n",
    "    exp = np.exp(-phi * 1j)\n",
    "    func1 = (\n",
    "        lambda x: -rho(x * exp + ϵi, m1, m2, phi)\n",
    "        / ((-x * exp + ϵi) * (-x * exp + ϵi - s))\n",
    "        * exp\n",
    "    )\n",
    "    func2 = (\n",
    "        lambda x: -rho(-x * exp - ϵi, m1, m2, phi)\n",
    "        / ((-x * exp - ϵi) * (-x * exp - ϵi - s))\n",
    "        * exp\n",
    "    )\n",
    "    return (\n",
    "        (s - s_thr)\n",
    "        / (2 * np.pi)\n",
    "        * (integrate(func1, 0, np.inf)[0] - integrate(func2, 0, np.inf)[0])\n",
    "    )\n",
    "\n",
    "\n",
    "def rho(s, m1, m2, phi: float = 0) -> np.ndarray:\n",
    "    return 2 * np.abs(q(s, m1, m2)) / rotated_sqrt(s, phi)\n",
    "\n",
    "\n",
    "def q(s, m1, m2) -> np.ndarray:\n",
    "    return np.sqrt(λ(s, m1**2, m2**2)) / (2 * np.sqrt(s))\n",
    "\n",
    "\n",
    "def λ(x, y, z):\n",
    "    return x**2 + y**2 + z**2 - 2 * x * y - 2 * y * z - 2 * z * x\n",
    "\n",
    "\n",
    "def rotated_sqrt(z, phi: float = 0) -> np.ndarray:\n",
    "    return np.exp(-0.5j * phi) * np.sqrt(z * np.exp(phi * 1j))"
   ]
  },
  {
   "cell_type": "code",
   "execution_count": null,
   "metadata": {
    "editable": true,
    "slideshow": {
     "slide_type": ""
    },
    "tags": [
     "hide-input"
    ]
   },
   "outputs": [],
   "source": [
    "%config InlineBackend.figure_formats = [\"svg\"]\n",
    "resolution = 100\n",
    "x = np.linspace(-2, 2, num=resolution)\n",
    "m1 = 0.1\n",
    "m2 = 0.7\n",
    "phi = np.pi / 6\n",
    "\n",
    "y1 = rho(x + ϵi, m1, m2, phi)\n",
    "y2 = rho_cm(x, m1, m2, phi)\n",
    "assert not any(np.isnan(y2)), \"Contains NaN values!\"\n",
    "\n",
    "fig, ax = plt.subplots()\n",
    "ax.axhline(0, c=\"black\", lw=0.4)\n",
    "ax.axvline(0, c=\"black\", lw=0.4)\n",
    "ax.plot(x, y1.real, label=R\"$\\rho$\", lw=4, alpha=0.5)\n",
    "ax.plot(x, y2.real, label=R\"$\\rho^\\mathrm{CM}$\")\n",
    "ax.axvline((m1 - m2) ** 2, c=\"red\", ls=\"dotted\", label=\"$(m_1-m_2)^2$\")\n",
    "ax.axvline((m1 + m2) ** 2, c=\"black\", ls=\"dotted\", label=\"$(m_1+m_2)^2$\")\n",
    "ax.set_ylim(-0.3, +1.6)\n",
    "ax.set_xlabel(\"$s$\")\n",
    "ax.set_title(Rf\"$\\phi={phi / np.pi:.4g}\\pi$\")\n",
    "ax.legend()\n",
    "fig.tight_layout()\n",
    "plt.show()"
   ]
  },
  {
   "cell_type": "code",
   "execution_count": null,
   "metadata": {
    "editable": true,
    "slideshow": {
     "slide_type": ""
    },
    "tags": [
     "hide-input"
    ]
   },
   "outputs": [],
   "source": [
    "y = np.linspace(-1, +1, num=resolution)\n",
    "X, Y = np.meshgrid(x, y)\n",
    "Z = X + Y * 1j\n",
    "T = rho(Z, m1, m2, phi)\n",
    "\n",
    "%config InlineBackend.figure_formats = [\"png\"]\n",
    "fig, ax = plt.subplots()\n",
    "ax.set_xlabel(R\"$\\mathrm{Re}\\,s$\")\n",
    "ax.set_ylabel(R\"$\\mathrm{Im}\\,s$\")\n",
    "ax.set_title(Rf\"$\\phi={phi / np.pi:.4g}\\pi$\")\n",
    "T_max = 1.5\n",
    "mesh = ax.pcolormesh(X, Y, T.real, vmin=-T_max, vmax=+T_max, cmap=plt.cm.coolwarm)\n",
    "ax.axvline((m1 - m2) ** 2, c=\"red\", ls=\"dotted\", label=\"$(m_1-m_2)^2$\")\n",
    "ax.axvline((m1 + m2) ** 2, c=\"black\", ls=\"dotted\", label=\"$(m_1+m_2)^2$\")\n",
    "plt.colorbar(mesh, ax=ax, pad=0.02)\n",
    "fig.tight_layout()\n",
    "plt.show()"
   ]
  },
  {
   "cell_type": "code",
   "execution_count": null,
   "metadata": {
    "editable": true,
    "jupyter": {
     "source_hidden": true
    },
    "slideshow": {
     "slide_type": ""
    },
    "tags": [
     "hide-input"
    ]
   },
   "outputs": [],
   "source": [
    "y = np.linspace(-1, +1, num=resolution)\n",
    "X, Y = np.meshgrid(x, y)\n",
    "Z = X + Y * 1j\n",
    "T = rho_cm(Z, m1, m2, phi)\n",
    "\n",
    "%config InlineBackend.figure_formats = [\"png\"]\n",
    "fig, ax = plt.subplots()\n",
    "ax.set_xlabel(R\"$\\mathrm{Re}\\,s$\")\n",
    "ax.set_ylabel(R\"$\\mathrm{Im}\\,s$\")\n",
    "ax.set_title(Rf\"$\\phi={phi / np.pi:.4g}\\pi$\")\n",
    "mesh = ax.pcolormesh(X, Y, T.real, cmap=plt.cm.coolwarm)\n",
    "plt.colorbar(mesh, ax=ax, pad=0.02)\n",
    "fig.tight_layout()\n",
    "plt.show()"
   ]
  },
  {
   "cell_type": "markdown",
   "metadata": {
    "editable": true,
    "slideshow": {
     "slide_type": ""
    },
    "tags": []
   },
   "source": [
    ":::{error}\n",
    "Rotating the direction of the integration with $\\phi$ **does** rotate the cut in the phase space factor, but also affects the values on the real axis...\n",
    ":::"
   ]
  }
 ],
 "metadata": {
  "colab": {
   "toc_visible": true
  },
  "kernelspec": {
   "display_name": "Python 3 (ipykernel)",
   "language": "python",
   "name": "python3"
  },
  "language_info": {
   "codemirror_mode": {
    "name": "ipython",
    "version": 3
   },
   "file_extension": ".py",
   "mimetype": "text/x-python",
   "name": "python",
   "nbconvert_exporter": "python",
   "pygments_lexer": "ipython3",
   "version": "3.8.18"
  }
 },
 "nbformat": 4,
 "nbformat_minor": 4
}
