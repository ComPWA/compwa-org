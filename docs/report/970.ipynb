{
 "cells": [
  {
   "cell_type": "code",
   "execution_count": null,
   "metadata": {
    "hideCode": true,
    "hideOutput": true,
    "hidePrompt": true,
    "jupyter": {
     "source_hidden": true
    },
    "slideshow": {
     "slide_type": "skip"
    },
    "tags": [
     "remove-cell"
    ]
   },
   "outputs": [],
   "source": [
    "import os\n",
    "\n",
    "STATIC_WEB_PAGE = {\"EXECUTE_NB\", \"READTHEDOCS\"}.intersection(os.environ)"
   ]
  },
  {
   "cell_type": "markdown",
   "metadata": {},
   "source": [
    "```{autolink-concat}\n",
    "```"
   ]
  },
  {
   "cell_type": "markdown",
   "metadata": {
    "editable": true,
    "slideshow": {
     "slide_type": ""
    },
    "tags": []
   },
   "source": [
    "::::{margin}\n",
    ":::{card} Single-channel T-matrix 3D Riemann sheets\n",
    "TR-970\n",
    "^^^\n",
    "Follow-up to [TR-004](004.ipynb), where we investigate and reproduce the Riemann sheets shown in [Fig.&nbsp;50.1](https://pdg.lbl.gov/2023/reviews/rpp2023-rev-resonances.pdf#page=2) and [50.2](https://pdg.lbl.gov/2023/reviews/rpp2023-rev-resonances.pdf#page=4) of the PDG.\n",
    "+++\n",
    "🚧&nbsp;[compwa.github.io#204](https://github.com/ComPWA/compwa.github.io/pull/204)\n",
    ":::\n",
    "::::"
   ]
  },
  {
   "cell_type": "markdown",
   "metadata": {
    "editable": true,
    "slideshow": {
     "slide_type": ""
    },
    "tags": []
   },
   "source": [
    "# Riemann sheets for single-channel T matrix"
   ]
  },
  {
   "cell_type": "code",
   "execution_count": null,
   "metadata": {
    "editable": true,
    "slideshow": {
     "slide_type": ""
    },
    "tags": [
     "remove-cell"
    ]
   },
   "outputs": [],
   "source": [
    "%pip install -q ampform==0.14.8 plotly==5.18.0 sympy==1.12"
   ]
  },
  {
   "cell_type": "code",
   "execution_count": null,
   "metadata": {
    "editable": true,
    "jupyter": {
     "source_hidden": true
    },
    "mystnb": {
     "code_prompt_show": "Import Python libraries"
    },
    "slideshow": {
     "slide_type": ""
    },
    "tags": [
     "hide-cell"
    ]
   },
   "outputs": [],
   "source": [
    "from __future__ import annotations\n",
    "\n",
    "import warnings\n",
    "from typing import Any\n",
    "\n",
    "import matplotlib.pyplot as plt\n",
    "import numpy as np\n",
    "import plotly.graph_objects as go\n",
    "import sympy as sp\n",
    "from ampform.io import aslatex\n",
    "from ampform.sympy import unevaluated\n",
    "from IPython.display import Math\n",
    "\n",
    "warnings.filterwarnings(\"ignore\")"
   ]
  },
  {
   "cell_type": "markdown",
   "metadata": {
    "editable": true,
    "slideshow": {
     "slide_type": ""
    },
    "tags": []
   },
   "source": [
    "## Phase space factor definitions"
   ]
  },
  {
   "cell_type": "code",
   "execution_count": null,
   "metadata": {
    "editable": true,
    "jupyter": {
     "source_hidden": true
    },
    "slideshow": {
     "slide_type": ""
    },
    "tags": [
     "hide-input",
     "scroll-input"
    ]
   },
   "outputs": [],
   "source": [
    "from ampform.kinematics.phasespace import Kallen\n",
    "\n",
    "\n",
    "@unevaluated(real=False)\n",
    "class PhaseSpaceFactor(sp.Expr):\n",
    "    s: Any\n",
    "    m1: Any\n",
    "    m2: Any\n",
    "    _latex_repr_ = R\"\\rho_{{{m1}, {m2}}}\\left({s}\\right)\"\n",
    "\n",
    "    def evaluate(self) -> sp.Expr:\n",
    "        s, m1, m2 = self.args\n",
    "        return 2 * BreakupMomentum(s, m1, m2) / sp.sqrt(s)\n",
    "\n",
    "\n",
    "@unevaluated(real=False)\n",
    "class PhaseSpaceCM(sp.Expr):\n",
    "    s: Any\n",
    "    m1: Any\n",
    "    m2: Any\n",
    "    _latex_repr_ = R\"\\rho^\\mathrm{{CM}}_{{{m1},{m2}}}\\left({s}\\right)\"\n",
    "\n",
    "    def evaluate(self) -> sp.Expr:\n",
    "        s, m1, m2 = self.args\n",
    "        return -16 * sp.pi * sp.I * ChewMandelstam(s, m1, m2)\n",
    "\n",
    "\n",
    "@unevaluated(real=False)\n",
    "class ChewMandelstam(sp.Expr):\n",
    "    s: Any\n",
    "    m1: Any\n",
    "    m2: Any\n",
    "    _latex_repr_ = R\"\\Sigma\\left({s}\\right)\"\n",
    "\n",
    "    def evaluate(self) -> sp.Expr:\n",
    "        s, m1, m2 = self.args\n",
    "        q = BreakupMomentum(s, m1, m2)\n",
    "        return (\n",
    "            1\n",
    "            / (16 * sp.pi**2)\n",
    "            * (\n",
    "                (2 * q / sp.sqrt(s))\n",
    "                * sp.log((m1**2 + m2**2 - s + 2 * sp.sqrt(s) * q) / (2 * m1 * m2))\n",
    "                - (m1**2 - m2**2) * (1 / s - 1 / (m1 + m2) ** 2) * sp.log(m1 / m2)\n",
    "            )\n",
    "        )\n",
    "\n",
    "\n",
    "@unevaluated(real=False)\n",
    "class BreakupMomentum(sp.Expr):\n",
    "    s: Any\n",
    "    m1: Any\n",
    "    m2: Any\n",
    "    _latex_repr_ = R\"q\\left({s}\\right)\"\n",
    "\n",
    "    def evaluate(self) -> sp.Expr:\n",
    "        s, m1, m2 = self.args\n",
    "        return sp.sqrt(Kallen(s, m1**2, m2**2)) / (2 * sp.sqrt(s))\n",
    "\n",
    "\n",
    "s, m1, m2 = sp.symbols(\"s m1 m2\")\n",
    "rho_expr = PhaseSpaceFactor(s, m1, m2)\n",
    "rho_cm_expr = PhaseSpaceCM(s, m1, m2)\n",
    "cm_expr = ChewMandelstam(s, m1, m2)\n",
    "q_expr = BreakupMomentum(s, m1, m2)\n",
    "kallen = Kallen(*sp.symbols(\"x:z\"))\n",
    "Math(\n",
    "    aslatex({\n",
    "        e: e.doit(deep=False)\n",
    "        for e in [rho_expr, rho_cm_expr, cm_expr, q_expr, kallen]\n",
    "    })\n",
    ")"
   ]
  },
  {
   "cell_type": "code",
   "execution_count": null,
   "metadata": {
    "editable": true,
    "jupyter": {
     "source_hidden": true
    },
    "slideshow": {
     "slide_type": ""
    },
    "tags": [
     "hide-input",
     "scroll-input",
     "full-width"
    ]
   },
   "outputs": [],
   "source": [
    "args = (s, m1, m2)\n",
    "rho_cm_func = sp.lambdify(args, rho_cm_expr.doit())\n",
    "rho_func = sp.lambdify(args, rho_expr.doit())\n",
    "\n",
    "epsilon = 1e-8\n",
    "s_values = np.linspace(0, 2, num=400)\n",
    "sp_values = s_values + epsilon * 1j\n",
    "m1_val = 0.6\n",
    "m2_val = 0.4\n",
    "args = (m1_val, m2_val)\n",
    "\n",
    "cm_values = rho_cm_func(sp_values, *args)\n",
    "rho_values = rho_func(sp_values, *args)\n",
    "\n",
    "fig, axes = plt.subplots(figsize=(12, 4), ncols=2, sharex=True, sharey=True)\n",
    "ax1, ax2 = axes\n",
    "for ax in axes:\n",
    "    ax.set_xlabel(\"Re(s)\")\n",
    "ax1.plot(s_values, cm_values.real, label=\"Real part\")\n",
    "ax1.plot(s_values, cm_values.imag, label=\"Imaginary part\")\n",
    "ax1.set_ylabel(\"Function value\")\n",
    "ax1.set_title(f\"${sp.latex(rho_cm_expr)}$\")\n",
    "ax1.legend()\n",
    "\n",
    "ax2.plot(s_values, rho_values.real, label=\"Real part\")\n",
    "ax2.plot(s_values, rho_values.imag, label=\"Imaginary part\")\n",
    "ax2.set_title(f\"${sp.latex(rho_expr)}$\")\n",
    "ax2.legend()\n",
    "\n",
    "ax2.set_ylim(-0.3, +1.2)\n",
    "plt.tight_layout()\n",
    "\n",
    "plt.show()"
   ]
  },
  {
   "cell_type": "markdown",
   "metadata": {
    "editable": true,
    "slideshow": {
     "slide_type": ""
    },
    "tags": []
   },
   "source": [
    "## Define parameters values for plotting "
   ]
  },
  {
   "cell_type": "markdown",
   "metadata": {
    "editable": true,
    "slideshow": {
     "slide_type": ""
    },
    "tags": []
   },
   "source": [
    "## T matrix definition with K matrix"
   ]
  },
  {
   "cell_type": "code",
   "execution_count": null,
   "metadata": {
    "editable": true,
    "slideshow": {
     "slide_type": ""
    },
    "tags": []
   },
   "outputs": [],
   "source": [
    "n_channels = 1\n",
    "I = sp.Identity(n_channels)\n",
    "K = sp.MatrixSymbol(\"K\", n_channels, n_channels)\n",
    "rho = sp.MatrixSymbol(\"rho\", n_channels, n_channels)"
   ]
  },
  {
   "cell_type": "code",
   "execution_count": null,
   "metadata": {
    "editable": true,
    "slideshow": {
     "slide_type": ""
    },
    "tags": []
   },
   "outputs": [],
   "source": [
    "T1 = (I - sp.I * K * rho).inv() * K\n",
    "T1"
   ]
  },
  {
   "cell_type": "code",
   "execution_count": null,
   "metadata": {
    "editable": true,
    "slideshow": {
     "slide_type": ""
    },
    "tags": []
   },
   "outputs": [],
   "source": [
    "T2 = (T1.inv() + 2 * sp.I * rho).inv()"
   ]
  },
  {
   "cell_type": "code",
   "execution_count": null,
   "metadata": {
    "editable": true,
    "slideshow": {
     "slide_type": ""
    },
    "tags": []
   },
   "outputs": [],
   "source": [
    "T1_explicit = T1.as_explicit()\n",
    "T2_explicit = T2.as_explicit()\n",
    "T1_explicit[0, 0]"
   ]
  },
  {
   "cell_type": "code",
   "execution_count": null,
   "metadata": {
    "editable": true,
    "slideshow": {
     "slide_type": ""
    },
    "tags": [
     "hide-input"
    ]
   },
   "outputs": [],
   "source": [
    "gamma, m0, w0 = sp.symbols(\"gamma m0 Gamma0\")\n",
    "k_expr = (gamma**2 * m0 * w0) / (s - m0**2)\n",
    "definitions = {\n",
    "    K[0, 0]: k_expr,\n",
    "    rho[0, 0]: PhaseSpaceCM(s, m1, m2),\n",
    "}\n",
    "Math(aslatex(definitions))"
   ]
  },
  {
   "cell_type": "code",
   "execution_count": null,
   "metadata": {
    "editable": true,
    "slideshow": {
     "slide_type": ""
    },
    "tags": [
     "hide-input"
    ]
   },
   "outputs": [],
   "source": [
    "T1_expr = T1_explicit[0, 0].xreplace(definitions)\n",
    "T2_expr = T2_explicit[0, 0].xreplace(definitions)"
   ]
  },
  {
   "cell_type": "code",
   "execution_count": null,
   "metadata": {
    "editable": true,
    "slideshow": {
     "slide_type": ""
    },
    "tags": []
   },
   "outputs": [],
   "source": [
    "T1_expr.simplify(doit=False)"
   ]
  },
  {
   "cell_type": "code",
   "execution_count": null,
   "metadata": {
    "editable": true,
    "slideshow": {
     "slide_type": ""
    },
    "tags": []
   },
   "outputs": [],
   "source": [
    "T2_expr.simplify(doit=False)"
   ]
  },
  {
   "cell_type": "markdown",
   "metadata": {
    "editable": true,
    "slideshow": {
     "slide_type": ""
    },
    "tags": []
   },
   "source": [
    "## Riemann sheet visualization"
   ]
  },
  {
   "cell_type": "markdown",
   "metadata": {
    "editable": true,
    "slideshow": {
     "slide_type": ""
    },
    "tags": []
   },
   "source": [
    "To get to the physical/unphysical Riemann sheet one uses XXXX which is derived from Schwarz reflection principle"
   ]
  },
  {
   "cell_type": "code",
   "execution_count": null,
   "metadata": {
    "editable": true,
    "mystnb": {
     "code_prompt_show": "Define numerical functions"
    },
    "slideshow": {
     "slide_type": ""
    },
    "tags": [
     "hide-input"
    ]
   },
   "outputs": [],
   "source": [
    "symbols = sp.Tuple(s, m1, m2, m0, w0, gamma)\n",
    "T1_func = sp.lambdify(symbols, T1_expr.doit())\n",
    "T2_func = sp.lambdify(symbols, T2_expr.doit())"
   ]
  },
  {
   "cell_type": "code",
   "execution_count": null,
   "metadata": {
    "editable": true,
    "jupyter": {
     "source_hidden": true
    },
    "mystnb": {
     "code_prompt_show": "Define meshgrid and parameter values"
    },
    "slideshow": {
     "slide_type": ""
    },
    "tags": [
     "hide-input"
    ]
   },
   "outputs": [],
   "source": [
    "epsilon = 1e-5\n",
    "x = np.linspace(0, 6, num=200)\n",
    "y = np.linspace(epsilon, 1, num=100)\n",
    "X, Y = np.meshgrid(x, y)\n",
    "Zn = X - Y * 1j\n",
    "Zp = X + Y * 1j\n",
    "\n",
    "values = {\n",
    "    m1: 0.9,\n",
    "    m2: 0.8,\n",
    "    m0: 3.1,\n",
    "    w0: 1.0,\n",
    "    gamma: 1,\n",
    "}\n",
    "args = eval(str(symbols[1:].xreplace(values)))\n",
    "\n",
    "T1n = T1_func(Zn**2, *args)\n",
    "T1p = T1_func(Zp**2, *args)\n",
    "\n",
    "T2n = T2_func(Zn**2, *args)\n",
    "T2p = T2_func(Zp**2, *args)"
   ]
  },
  {
   "cell_type": "code",
   "execution_count": null,
   "metadata": {
    "editable": true,
    "jupyter": {
     "source_hidden": true
    },
    "slideshow": {
     "slide_type": ""
    },
    "tags": [
     "full-width",
     "hide-input"
    ]
   },
   "outputs": [],
   "source": [
    "fig, axes = plt.subplots(figsize=(15, 6), ncols=2, sharey=True)\n",
    "ax1, ax2 = axes\n",
    "for ax in axes:\n",
    "    ax.set_xlabel(R\"$\\mathrm{Re}(s)$\")\n",
    "\n",
    "ax1.plot(x, T1n[0].imag, label=R\"$T_\\mathrm{I}(s-0i)$\")\n",
    "ax1.plot(x, T1p[0].imag, label=R\"$T_\\mathrm{I}(s+0i)$\")\n",
    "ax1.set_title(f\"${sp.latex(rho_cm_expr)}$\")\n",
    "ax1.set_title(R\"$T_\\mathrm{I}$\")\n",
    "\n",
    "ax2.plot(x, T2n[0].imag, label=R\"$T_\\mathrm{II}(s-0i)$\")\n",
    "ax2.plot(x, T2p[0].imag, label=R\"$T_\\mathrm{II}(s+0i)$\")\n",
    "ax2.set_title(R\"$T_\\mathrm{II}$\")\n",
    "\n",
    "for ax in axes:\n",
    "    ax.legend()\n",
    "\n",
    "fig.tight_layout()\n",
    "plt.show()"
   ]
  },
  {
   "cell_type": "code",
   "execution_count": null,
   "metadata": {
    "editable": true,
    "jupyter": {
     "source_hidden": true
    },
    "slideshow": {
     "slide_type": ""
    },
    "tags": [
     "hide-input",
     "scroll-input"
    ]
   },
   "outputs": [],
   "source": [
    "def sty(sheet_name: str) -> dict:\n",
    "    sheet_color = sheet_colors[sheet_name]\n",
    "    n_lines = 16\n",
    "    return dict(\n",
    "        cmin=-vmax,\n",
    "        cmax=+vmax,\n",
    "        colorscale=[[0, \"rgb(0, 0, 0)\"], [1, sheet_color]],\n",
    "        contours=dict(\n",
    "            x=dict(\n",
    "                show=True,\n",
    "                start=x.min(),\n",
    "                end=x.max(),\n",
    "                size=(x.max() - x.min()) / n_lines,\n",
    "                color=\"black\",\n",
    "            ),\n",
    "            y=dict(\n",
    "                show=True,\n",
    "                start=-y.max(),\n",
    "                end=+y.max(),\n",
    "                size=(y.max() - y.min()) / (n_lines // 2),\n",
    "                color=\"black\",\n",
    "            ),\n",
    "        ),\n",
    "        name=sheet_name,\n",
    "        opacity=0.6,\n",
    "        showscale=False,\n",
    "    )\n",
    "\n",
    "\n",
    "vmax = 1.6\n",
    "project = np.imag\n",
    "sheet_colors = {\n",
    "    \"Unphysical (T1)\": \"blue\",\n",
    "    \"Physical (T2)\": \"red\",\n",
    "}"
   ]
  },
  {
   "cell_type": "code",
   "execution_count": null,
   "metadata": {
    "editable": true,
    "jp-MarkdownHeadingCollapsed": true,
    "jupyter": {
     "source_hidden": true
    },
    "slideshow": {
     "slide_type": ""
    },
    "tags": [
     "hide-input",
     "scroll-input"
    ]
   },
   "outputs": [],
   "source": [
    "Sn = go.Surface(x=X, y=-Y, z=T2n.imag, **sty(\"Physical (T2)\"))\n",
    "Sp = go.Surface(x=X, y=+Y, z=T1p.imag, **sty(\"Unphysical (T1)\"))\n",
    "zeros = np.zeros(x.shape)\n",
    "lineshape = go.Scatter3d(\n",
    "    x=x,\n",
    "    y=zeros,\n",
    "    z=project(T1p[0]),\n",
    "    line=dict(color=\"yellow\", width=10),\n",
    "    mode=\"lines\",\n",
    "    name=\"Lineshape\",\n",
    ")\n",
    "\n",
    "fig = go.Figure(data=[Sn, Sp, lineshape])\n",
    "fig.update_layout(\n",
    "    height=550,\n",
    "    margin=dict(l=0, r=0, t=30, b=0),\n",
    "    showlegend=False,\n",
    "    title_text=\"Im(T) with Chew-Mandelstam phase space factor\",\n",
    ")\n",
    "fig.update_scenes(\n",
    "    camera_center=dict(z=-0.2),\n",
    "    xaxis_title_text=\"Re s\",\n",
    "    yaxis_title_text=\"Im s\",\n",
    "    zaxis_range=[-vmax, +vmax],\n",
    ")\n",
    "\n",
    "fig.show()"
   ]
  }
 ],
 "metadata": {
  "colab": {
   "toc_visible": true
  },
  "kernelspec": {
   "display_name": "Python 3 (ipykernel)",
   "language": "python",
   "name": "python3"
  },
  "language_info": {
   "codemirror_mode": {
    "name": "ipython",
    "version": 3
   },
   "file_extension": ".py",
   "mimetype": "text/x-python",
   "name": "python",
   "nbconvert_exporter": "python",
   "pygments_lexer": "ipython3",
   "version": "3.10.13"
  },
  "orphan": true
 },
 "nbformat": 4,
 "nbformat_minor": 4
}
