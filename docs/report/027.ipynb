{
 "cells": [
  {
   "cell_type": "code",
   "execution_count": null,
   "metadata": {
    "hideCode": true,
    "hideOutput": true,
    "hidePrompt": true,
    "jupyter": {
     "source_hidden": true
    },
    "slideshow": {
     "slide_type": "skip"
    },
    "tags": [
     "remove-cell"
    ]
   },
   "outputs": [],
   "source": [
    "import os\n",
    "\n",
    "STATIC_WEB_PAGE = {\"EXECUTE_NB\", \"READTHEDOCS\"}.intersection(os.environ)"
   ]
  },
  {
   "cell_type": "markdown",
   "metadata": {},
   "source": [
    "```{autolink-concat}\n",
    "```"
   ]
  },
  {
   "cell_type": "markdown",
   "metadata": {
    "editable": true,
    "slideshow": {
     "slide_type": ""
    },
    "tags": []
   },
   "source": [
    "::::{margin}\n",
    ":::{card}  Visualization of the Riemann sheets for the two-channel $T$-matrix with one resonance pole\n",
    "TR-027\n",
    "^^^\n",
    "Following **[TR-026](./026.ipynb)**, the Riemann sheets for the amplitude calculated within the $K$ matrix formalism for the two-channel case are visualized. For that the method of transitioning from the first physical sheet to the unphysical sheets is expanded to the two dimensional case according to [Eur. Phys. J. C (2023) 83:850](https://juser.fz-juelich.de/record/1017534/files/s10052-023-11953-6.pdf?version=1) to also visualize the third and the fourth unphysical sheet.   \n",
    ":::\n",
    "::::"
   ]
  },
  {
   "cell_type": "markdown",
   "metadata": {
    "editable": true,
    "slideshow": {
     "slide_type": ""
    },
    "tags": []
   },
   "source": [
    "# Coupled channel Riemann sheets\n"
   ]
  },
  {
   "cell_type": "code",
   "execution_count": null,
   "metadata": {
    "editable": true,
    "slideshow": {
     "slide_type": ""
    },
    "tags": [
     "remove-cell"
    ]
   },
   "outputs": [],
   "source": [
    "%pip install -q ampform==0.14.10 plotly==5.18.0 sympy==1.12"
   ]
  },
  {
   "cell_type": "code",
   "execution_count": null,
   "metadata": {
    "editable": true,
    "jupyter": {
     "source_hidden": true
    },
    "slideshow": {
     "slide_type": ""
    },
    "tags": [
     "hide-cell"
    ]
   },
   "outputs": [],
   "source": [
    "from __future__ import annotations\n",
    "\n",
    "import warnings\n",
    "from typing import Any\n",
    "\n",
    "import matplotlib.pyplot as plt\n",
    "import numpy as np\n",
    "import plotly.graph_objects as go\n",
    "import sympy as sp\n",
    "from ampform.io import aslatex\n",
    "from ampform.sympy import unevaluated\n",
    "from IPython.display import Math\n",
    "from plotly.subplots import make_subplots\n",
    "\n",
    "warnings.filterwarnings(\"ignore\")"
   ]
  },
  {
   "cell_type": "code",
   "execution_count": null,
   "metadata": {
    "editable": true,
    "jupyter": {
     "source_hidden": true
    },
    "slideshow": {
     "slide_type": ""
    },
    "tags": [
     "hide-input"
    ]
   },
   "outputs": [],
   "source": [
    "@unevaluated(real=False)\n",
    "class PhaseSpaceFactor(sp.Expr):\n",
    "    s: Any\n",
    "    m1: Any\n",
    "    m2: Any\n",
    "    _latex_repr_ = R\"\\rho_{{{m1}, {m2}}}\\left({s}\\right)\"\n",
    "\n",
    "    def evaluate(self) -> sp.Expr:\n",
    "        s, m1, m2 = self.args\n",
    "        return sp.sqrt((s - ((m1 + m2) ** 2)) * (s - (m1 - m2) ** 2) / s**2)\n",
    "\n",
    "\n",
    "s, m1, m2 = sp.symbols(\"s m1 m2\")\n",
    "rho_expr = PhaseSpaceFactor(s, m1, m2)\n",
    "Math(aslatex({rho_expr: rho_expr.doit(deep=False)}))"
   ]
  },
  {
   "cell_type": "code",
   "execution_count": null,
   "metadata": {
    "editable": true,
    "jupyter": {
     "source_hidden": true
    },
    "slideshow": {
     "slide_type": ""
    },
    "tags": [
     "hide-input"
    ]
   },
   "outputs": [],
   "source": [
    "from ampform.kinematics.phasespace import Kallen\n",
    "\n",
    "\n",
    "@unevaluated(real=False)\n",
    "class PhaseSpaceFactorKallen(sp.Expr):\n",
    "    s: Any\n",
    "    m1: Any\n",
    "    m2: Any\n",
    "    _latex_repr_ = R\"\\rho_{{{m1}, {m2}}}\\left({s}\\right)\"\n",
    "\n",
    "    def evaluate(self) -> sp.Expr:\n",
    "        s, m1, m2 = self.args\n",
    "        return 2 * BreakupMomentum(s, m1, m2) / sp.sqrt(s)\n",
    "\n",
    "\n",
    "@unevaluated(real=False)\n",
    "class PhaseSpaceCM(sp.Expr):\n",
    "    s: Any\n",
    "    m1: Any\n",
    "    m2: Any\n",
    "    _latex_repr_ = R\"\\rho^\\mathrm{{CM}}_{{{m1},{m2}}}\\left({s}\\right)\"\n",
    "\n",
    "    def evaluate(self) -> sp.Expr:\n",
    "        s, m1, m2 = self.args\n",
    "        return -16 * sp.pi * sp.I * ChewMandelstam(s, m1, m2)\n",
    "\n",
    "\n",
    "@unevaluated(real=False)\n",
    "class ChewMandelstam(sp.Expr):\n",
    "    s: Any\n",
    "    m1: Any\n",
    "    m2: Any\n",
    "    _latex_repr_ = R\"\\Sigma\\left({s}\\right)\"\n",
    "\n",
    "    def evaluate(self) -> sp.Expr:\n",
    "        s, m1, m2 = self.args\n",
    "        q = BreakupMomentum(s, m1, m2)\n",
    "        return (\n",
    "            1\n",
    "            / (16 * sp.pi**2)\n",
    "            * (\n",
    "                (2 * q / sp.sqrt(s))\n",
    "                * sp.log((m1**2 + m2**2 - s + 2 * sp.sqrt(s) * q) / (2 * m1 * m2))\n",
    "                - (m1**2 - m2**2) * (1 / s - 1 / (m1 + m2) ** 2) * sp.log(m1 / m2)\n",
    "            )\n",
    "        )\n",
    "\n",
    "\n",
    "@unevaluated(real=False)\n",
    "class BreakupMomentum(sp.Expr):\n",
    "    s: Any\n",
    "    m1: Any\n",
    "    m2: Any\n",
    "    _latex_repr_ = R\"q\\left({s}\\right)\"\n",
    "\n",
    "    def evaluate(self) -> sp.Expr:\n",
    "        s, m1, m2 = self.args\n",
    "        return sp.sqrt(Kallen(s, m1**2, m2**2)) / (2 * sp.sqrt(s))\n",
    "\n",
    "\n",
    "s, m1, m2 = sp.symbols(\"s m1 m2\")\n",
    "rho_expr_kallen = PhaseSpaceFactorKallen(s, m1, m2)\n",
    "rho_cm_expr = PhaseSpaceCM(s, m1, m2)\n",
    "cm_expr = ChewMandelstam(s, m1, m2)\n",
    "q_expr = BreakupMomentum(s, m1, m2)\n",
    "kallen = Kallen(*sp.symbols(\"x:z\"))\n",
    "Math(\n",
    "    aslatex({\n",
    "        e: e.doit(deep=False)\n",
    "        for e in [rho_expr_kallen, rho_cm_expr, cm_expr, q_expr, kallen]\n",
    "    })\n",
    ")"
   ]
  },
  {
   "cell_type": "markdown",
   "metadata": {
    "editable": true,
    "slideshow": {
     "slide_type": ""
    },
    "tags": []
   },
   "source": [
    "## T matrix definition with K matrix - 2 channel case"
   ]
  },
  {
   "cell_type": "markdown",
   "metadata": {
    "editable": true,
    "slideshow": {
     "slide_type": ""
    },
    "tags": []
   },
   "source": [
    "In the following the dynamical part of the Amplitude calculated within the K matrix formalism."
   ]
  },
  {
   "cell_type": "markdown",
   "metadata": {},
   "source": [
    "## First Riemann sheet "
   ]
  },
  {
   "cell_type": "code",
   "execution_count": null,
   "metadata": {
    "editable": true,
    "slideshow": {
     "slide_type": ""
    },
    "tags": []
   },
   "outputs": [],
   "source": [
    "n_channels = 2\n",
    "I = sp.Identity(n_channels)\n",
    "K = sp.MatrixSymbol(\"K\", n_channels, n_channels)\n",
    "\n",
    "CM_symbol = sp.MatrixSymbol(R\"{\\rho_{\\Sigma}}\", n_channels, n_channels)\n",
    "CM = sp.DiagonalMatrix(CM_symbol)\n",
    "CM.as_explicit()"
   ]
  },
  {
   "cell_type": "code",
   "execution_count": null,
   "metadata": {},
   "outputs": [],
   "source": [
    "T_I = (I - sp.I * K * CM).inv() * K\n",
    "T_I"
   ]
  },
  {
   "cell_type": "code",
   "execution_count": null,
   "metadata": {
    "editable": true,
    "slideshow": {
     "slide_type": ""
    },
    "tags": [
     "full-width"
    ]
   },
   "outputs": [],
   "source": [
    "T_I_explicit = T_I.as_explicit()\n",
    "T_I_explicit"
   ]
  },
  {
   "cell_type": "code",
   "execution_count": null,
   "metadata": {
    "editable": true,
    "slideshow": {
     "slide_type": ""
    },
    "tags": []
   },
   "outputs": [],
   "source": [
    "s = sp.Symbol(\"s\")\n",
    "ma1 = sp.Symbol(\"m_{a1}\")\n",
    "mb1 = sp.Symbol(\"m_{b1}\")\n",
    "ma2 = sp.Symbol(\"m_{a2}\")\n",
    "mb2 = sp.Symbol(\"m_{b2}\")\n",
    "m0 = sp.Symbol(\"m0\")\n",
    "w0 = sp.Symbol(\"Gamma0\")\n",
    "gamma1 = sp.Symbol(\"gamma1\")\n",
    "gamma2 = sp.Symbol(\"gamma2\")\n",
    "symbols = sp.Tuple(s, ma1, mb1, ma2, mb2, m0, w0, gamma1, gamma2)\n",
    "k_expr_00 = (gamma1 * gamma1 * m0 * w0) / (s - m0**2)\n",
    "k_expr_10 = (gamma1 * gamma2 * m0 * w0) / (s - m0**2)\n",
    "k_expr_11 = (gamma2 * gamma2 * m0 * w0) / (s - m0**2)"
   ]
  },
  {
   "cell_type": "code",
   "execution_count": null,
   "metadata": {
    "editable": true,
    "slideshow": {
     "slide_type": ""
    },
    "tags": []
   },
   "outputs": [],
   "source": [
    "cm_expressions = {\n",
    "    K[0, 0]: k_expr_00,\n",
    "    K[1, 1]: k_expr_11,\n",
    "    K[0, 1]: k_expr_10,\n",
    "    K[1, 0]: k_expr_10,\n",
    "    CM[0, 0]: -PhaseSpaceCM(s, ma1, mb1),\n",
    "    CM[1, 1]: -PhaseSpaceCM(s, ma2, mb2),\n",
    "}"
   ]
  },
  {
   "cell_type": "code",
   "execution_count": null,
   "metadata": {
    "editable": true,
    "slideshow": {
     "slide_type": ""
    },
    "tags": []
   },
   "outputs": [],
   "source": [
    "T_I_cm_expr_00 = T_I_explicit[0, 0].xreplace(cm_expressions)\n",
    "T_I_cm_expr_11 = T_I_explicit[1, 1].xreplace(cm_expressions)"
   ]
  },
  {
   "cell_type": "code",
   "execution_count": null,
   "metadata": {
    "editable": true,
    "slideshow": {
     "slide_type": ""
    },
    "tags": []
   },
   "outputs": [],
   "source": [
    "T_I_cm_expr_00.simplify(doit=False)"
   ]
  },
  {
   "cell_type": "markdown",
   "metadata": {},
   "source": [
    "## Second, third and fourth Riemann sheet "
   ]
  },
  {
   "cell_type": "markdown",
   "metadata": {
    "editable": true,
    "slideshow": {
     "slide_type": ""
    },
    "tags": []
   },
   "source": [
    "For the case of two channels there are four Riemann sheets. The first physical one and three unphysical ones. The physical sheet is calculated using the analytic solution of the Chew-Mandelstam function. \n",
    "\n",
    "$$\n",
    "\\begin{eqnarray}\n",
    "\\operatorname{Disc}_{\\mathrm{I,II}} T_K^{-1}\n",
    "&=& 2 i\\left[\\begin{array}{rr}\\rho_1 & 0  \\\\ 0 & 0 \\end{array}\\right], \\\\\n",
    "\\operatorname{Disc}_{\\mathrm{I,III}} T_K^{-1}\n",
    "&=& 2 i\\left[\\begin{array}{rr}\\rho_1 & 0  \\\\ 0 & \\rho_2 \\end{array}\\right], \\\\\n",
    "\\operatorname{Disc}_{\\mathrm{I,IV}} T_K^{-1}\n",
    "&=& 2 i\\left[\\begin{array}{rr}0 & 0  \\\\ 0& \\rho_2  \\end{array}\\right].\n",
    "\\end{eqnarray}\n",
    "$$\n",
    "\n",
    "Depending on the centre-of-mass energy, different Riemann sheets connect smoothly to the physical one. Therefore, two cases are studied: one where the resonance mass is above the threshold of the second and first channel, and another where the resonance mass is between the threshold of the first and second channel."
   ]
  },
  {
   "cell_type": "code",
   "execution_count": null,
   "metadata": {
    "editable": true,
    "slideshow": {
     "slide_type": ""
    },
    "tags": []
   },
   "outputs": [],
   "source": [
    "n_channels = 2\n",
    "rho_symbol = sp.MatrixSymbol(\"rho\", n_channels, n_channels)\n",
    "rho = sp.DiagonalMatrix(rho_symbol)\n",
    "rho.as_explicit()"
   ]
  },
  {
   "cell_type": "code",
   "execution_count": null,
   "metadata": {},
   "outputs": [],
   "source": [
    "T_II = (T_I.inv() + 2 * sp.I * rho).inv()\n",
    "T_III = (T_I.inv() + 2 * sp.I * rho).inv()\n",
    "T_IV = (-T_I.inv() - 2 * sp.I * rho).inv()"
   ]
  },
  {
   "cell_type": "code",
   "execution_count": null,
   "metadata": {
    "editable": true,
    "slideshow": {
     "slide_type": ""
    },
    "tags": [
     "full-width"
    ]
   },
   "outputs": [],
   "source": [
    "T_II_explicit = T_II.as_explicit()\n",
    "T_II_explicit"
   ]
  },
  {
   "cell_type": "code",
   "execution_count": null,
   "metadata": {
    "editable": true,
    "slideshow": {
     "slide_type": ""
    },
    "tags": [
     "full-width"
    ]
   },
   "outputs": [],
   "source": [
    "T_III_explicit = T_III.as_explicit()\n",
    "T_III_explicit"
   ]
  },
  {
   "cell_type": "code",
   "execution_count": null,
   "metadata": {
    "editable": true,
    "slideshow": {
     "slide_type": ""
    },
    "tags": [
     "full-width"
    ]
   },
   "outputs": [],
   "source": [
    "T_IV_explicit = T_IV.as_explicit()\n",
    "T_IV_explicit"
   ]
  },
  {
   "cell_type": "code",
   "execution_count": null,
   "metadata": {},
   "outputs": [],
   "source": [
    "rho_expressions_II = {\n",
    "    **cm_expressions,\n",
    "    rho[0, 0]: PhaseSpaceFactor(s, ma1, mb1),\n",
    "    rho[1, 1]: 0,\n",
    "}\n",
    "\n",
    "rho_expressions_III = {\n",
    "    **cm_expressions,\n",
    "    rho[0, 0]: PhaseSpaceFactor(s, ma1, mb1),\n",
    "    rho[1, 1]: PhaseSpaceFactor(s, ma2, mb2),\n",
    "}\n",
    "\n",
    "\n",
    "rho_expressions_IV = {\n",
    "    **cm_expressions,\n",
    "    rho[0, 0]: 0,\n",
    "    rho[1, 1]: PhaseSpaceFactor(s, ma2, mb2),\n",
    "}"
   ]
  },
  {
   "cell_type": "code",
   "execution_count": null,
   "metadata": {},
   "outputs": [],
   "source": [
    "T_II_rho_expr_00 = T_II_explicit[0, 0].xreplace(rho_expressions_II)\n",
    "T_III_rho_expr_00 = T_III_explicit[0, 0].xreplace(rho_expressions_III)\n",
    "T_IV_rho_expr_00 = T_IV_explicit[0, 0].xreplace(rho_expressions_IV)"
   ]
  },
  {
   "cell_type": "code",
   "execution_count": null,
   "metadata": {},
   "outputs": [],
   "source": [
    "T_II_rho_expr_00.simplify(doit=False)"
   ]
  },
  {
   "cell_type": "code",
   "execution_count": null,
   "metadata": {},
   "outputs": [],
   "source": [
    "T_III_rho_expr_00.simplify(doit=False)"
   ]
  },
  {
   "cell_type": "markdown",
   "metadata": {},
   "source": [
    "## Visualization of the 2 dimensional lineshape "
   ]
  },
  {
   "cell_type": "code",
   "execution_count": null,
   "metadata": {
    "editable": true,
    "jupyter": {
     "source_hidden": true
    },
    "slideshow": {
     "slide_type": ""
    },
    "tags": [
     "full-width",
     "hide-input",
     "scroll-input"
    ]
   },
   "outputs": [],
   "source": [
    "T_I_func = sp.lambdify(symbols, T_I_cm_expr_00.doit())\n",
    "T_II_func = sp.lambdify(symbols, T_II_rho_expr_00.doit())\n",
    "T_III_func = sp.lambdify(symbols, T_III_rho_expr_00.doit())\n",
    "T_IV_func = sp.lambdify(symbols, T_IV_rho_expr_00.doit())\n",
    "values_1 = {\n",
    "    ma1: 1.0,\n",
    "    mb1: 1.5,\n",
    "    ma2: 1.5,\n",
    "    mb2: 2.0,\n",
    "    m0: 4.0,\n",
    "    w0: 0.5,\n",
    "    gamma1: 1,\n",
    "    gamma2: 1,\n",
    "}\n",
    "\n",
    "\n",
    "values_2 = {\n",
    "    ma1: 1.0,\n",
    "    mb1: 1.5,\n",
    "    ma2: 1.5,\n",
    "    mb2: 2.0,\n",
    "    m0: 3.0,\n",
    "    w0: 0.5,\n",
    "    gamma1: 1,\n",
    "    gamma2: 1,\n",
    "}\n",
    "\n",
    "args_1 = eval(str(symbols[1:].xreplace(values_1)))\n",
    "args_2 = eval(str(symbols[1:].xreplace(values_2)))\n",
    "\n",
    "epsilon = 1e-5\n",
    "x = np.linspace(0, 8, num=200)\n",
    "y = np.linspace(epsilon, 1, num=100)\n",
    "X, Y = np.meshgrid(x, y)\n",
    "Zn = X - Y * 1j\n",
    "Zp = X + Y * 1j\n",
    "\n",
    "T1n_res1 = T_I_func(Zn**2, *args_1)\n",
    "T1p_res1 = T_I_func(Zp**2, *args_1)\n",
    "\n",
    "T2n_res1 = T_II_func(Zn**2, *args_1)\n",
    "T2p_res1 = T_II_func(Zp**2, *args_1)\n",
    "\n",
    "T3n_res1 = T_III_func(Zn**2, *args_1)\n",
    "T3p_res1 = T_III_func(Zp**2, *args_1)\n",
    "\n",
    "T4n_res1 = T_IV_func(Zn**2, *args_1)\n",
    "T4p_res1 = T_IV_func(Zp**2, *args_1)\n",
    "\n",
    "T1n_res2 = T_I_func(Zn**2, *args_2)\n",
    "T1p_res2 = T_I_func(Zp**2, *args_2)\n",
    "\n",
    "T2n_res2 = T_II_func(Zn**2, *args_2)\n",
    "T2p_res2 = T_II_func(Zp**2, *args_2)\n",
    "\n",
    "T3n_res2 = T_III_func(Zn**2, *args_2)\n",
    "T3p_res2 = T_III_func(Zp**2, *args_2)\n",
    "\n",
    "T4n_res2 = T_IV_func(Zn**2, *args_2)\n",
    "T4p_res2 = T_IV_func(Zp**2, *args_2)\n",
    "\n",
    "fig, axes = plt.subplots(figsize=(11, 6), ncols=4, sharey=True)\n",
    "ax1, ax2, ax3, ax4 = axes\n",
    "for ax in axes:\n",
    "    ax.set_xlabel(R\"$\\mathrm{Re}(s)$\")\n",
    "\n",
    "ax1.plot(x, T1n_res1[0].imag, label=R\"$T_\\mathrm{I}(s-0i)$\")\n",
    "ax1.plot(x, T1p_res1[0].imag, label=R\"$T_\\mathrm{I}(s+0i)$\")\n",
    "ax1.set_title(f\"${sp.latex(rho_cm_expr)}$\")\n",
    "ax1.set_title(R\"$T_\\mathrm{I}$\")\n",
    "\n",
    "ax2.plot(x, T2n_res1[0].imag, label=R\"$T_\\mathrm{II}(s-0i)$\")\n",
    "ax2.plot(x, T2p_res1[0].imag, label=R\"$T_\\mathrm{II}(s+0i)$\")\n",
    "ax2.set_title(R\"$T_\\mathrm{II}$\")\n",
    "\n",
    "ax3.plot(x, T3n_res1[0].imag, label=R\"$T_\\mathrm{III}(s-0i)$\")\n",
    "ax3.plot(x, T3p_res1[0].imag, label=R\"$T_\\mathrm{III}(s+0i)$\")\n",
    "ax3.set_title(R\"$T_\\mathrm{III}$\")\n",
    "\n",
    "ax4.plot(x, T4n_res1[0].imag, label=R\"$T_\\mathrm{III}(s-0i)$\")\n",
    "ax4.plot(x, T4p_res1[0].imag, label=R\"$T_\\mathrm{IV}(s+0i)$\")\n",
    "ax4.set_title(R\"$T_\\mathrm{III}$\")\n",
    "\n",
    "for ax in axes:\n",
    "    ax.legend()\n",
    "\n",
    "fig.tight_layout()\n",
    "plt.show()"
   ]
  },
  {
   "cell_type": "markdown",
   "metadata": {
    "editable": true,
    "slideshow": {
     "slide_type": ""
    },
    "tags": []
   },
   "source": [
    "## Visualization of the Riemann sheets 2 dimensional  "
   ]
  },
  {
   "cell_type": "code",
   "execution_count": null,
   "metadata": {
    "editable": true,
    "jupyter": {
     "source_hidden": true
    },
    "slideshow": {
     "slide_type": ""
    },
    "tags": [
     "full-width",
     "scroll-input",
     "hide-input"
    ]
   },
   "outputs": [],
   "source": [
    "%config InlineBackend.figure_formats = [\"png\"]\n",
    "\n",
    "fig, axes_2 = plt.subplots(figsize=(12, 8), ncols=2, nrows=2, sharey=True)\n",
    "ax3, ax4, ax5, ax6 = (\n",
    "    axes_2.flatten()\n",
    ")  # Flatten axes_2 to access each subplot individually\n",
    "\n",
    "ax3.set_xlabel(R\"$\\mathrm{Re}\\,s$\")\n",
    "ax3.set_ylabel(R\"$\\mathrm{Im}\\,s$\")\n",
    "\n",
    "ax3.set_title(\"I and II\")\n",
    "ax4.set_title(\"I and III\")\n",
    "ax5.set_title(\"I and II\")\n",
    "ax6.set_title(\"I and III\")\n",
    "\n",
    "T_max = 2\n",
    "\n",
    "style = dict(vmin=-T_max, vmax=+T_max, cmap=plt.cm.coolwarm)\n",
    "mesh = ax3.pcolormesh(X, Y, T1p_res1.imag, **style)\n",
    "ax3.pcolormesh(X, -Y, T2n_res1.imag, **style)\n",
    "ax4.pcolormesh(X, Y, T1p_res1.imag, **style)\n",
    "ax4.pcolormesh(X, -Y, T3n_res1.imag, **style)\n",
    "ax5.pcolormesh(X, Y, T1p_res2.imag, **style)\n",
    "ax5.pcolormesh(X, -Y, T2n_res2.imag, **style)\n",
    "ax6.pcolormesh(X, Y, T1p_res2.imag, **style)\n",
    "ax6.pcolormesh(X, -Y, T3n_res2.imag, **style)\n",
    "\n",
    "\n",
    "fig.text(0.5, 0.93, R\"$s_{thr1}<s_{thr2}<m_{res}$\", ha=\"center\", fontsize=18)\n",
    "fig.text(0.5, 0.46, R\"$s_{thr1}<m_{res}<s_{thr2}$\", ha=\"center\", fontsize=18)\n",
    "plt.subplots_adjust(wspace=1)\n",
    "cbar_ax = fig.add_axes([0.92, 0.15, 0.02, 0.7])\n",
    "plt.colorbar(mesh, cax=cbar_ax)\n",
    "\n",
    "fig.tight_layout(rect=[0, 0.03, 0.9, 0.95])\n",
    "\n",
    "plt.show()"
   ]
  },
  {
   "cell_type": "markdown",
   "metadata": {
    "editable": true,
    "slideshow": {
     "slide_type": ""
    },
    "tags": []
   },
   "source": [
    "It can be shown that if the resonance mass is above both thresholds the third sheet connects smoothly to the first sheet. If the resonance mass is above the first and below the second threshold the second sheet transitions smoothly into the first sheet."
   ]
  },
  {
   "cell_type": "markdown",
   "metadata": {},
   "source": [
    "## Visualization of the Riemann sheets 3 dimensional"
   ]
  },
  {
   "cell_type": "code",
   "execution_count": null,
   "metadata": {
    "editable": true,
    "jupyter": {
     "source_hidden": true
    },
    "slideshow": {
     "slide_type": ""
    },
    "tags": [
     "scroll-input",
     "hide-cell"
    ]
   },
   "outputs": [],
   "source": [
    "def sty(sheet_name: str) -> dict:\n",
    "    sheet_color = sheet_colors[sheet_name]\n",
    "    n_lines = 16\n",
    "    return dict(\n",
    "        cmin=-vmax,\n",
    "        cmax=+vmax,\n",
    "        colorscale=[[0, \"rgb(0, 0, 0)\"], [1, sheet_color]],\n",
    "        contours=dict(\n",
    "            x=dict(\n",
    "                show=True,\n",
    "                start=x.min(),\n",
    "                end=x.max(),\n",
    "                size=(x.max() - x.min()) / n_lines,\n",
    "                color=\"black\",\n",
    "            ),\n",
    "            y=dict(\n",
    "                show=True,\n",
    "                start=-y.max(),\n",
    "                end=+y.max(),\n",
    "                size=(y.max() - y.min()) / (n_lines // 2),\n",
    "                color=\"black\",\n",
    "            ),\n",
    "        ),\n",
    "        name=sheet_name,\n",
    "        opacity=0.4,\n",
    "        showscale=False,\n",
    "    )\n",
    "\n",
    "\n",
    "vmax = 3\n",
    "project = np.imag\n",
    "sheet_colors = {\n",
    "    \"Physical (T1)\": \"blue\",\n",
    "    \"Unphysical (T2)\": \"red\",\n",
    "    \"Unphysical (T3)\": \"green\",\n",
    "    \"Unphysical (T4)\": \"yellow\",\n",
    "}"
   ]
  },
  {
   "cell_type": "code",
   "execution_count": null,
   "metadata": {
    "editable": true,
    "jupyter": {
     "source_hidden": true
    },
    "slideshow": {
     "slide_type": ""
    },
    "tags": [
     "hide-input",
     "full-width",
     "scroll-input"
    ]
   },
   "outputs": [],
   "source": [
    "Sn_II_res1 = go.Surface(x=X, y=-Y, z=T2n_res1.imag, **sty(\"Unphysical (T2)\"))\n",
    "Sn_III_res1 = go.Surface(x=X, y=-Y, z=T3n_res1.imag, **sty(\"Unphysical (T3)\"))\n",
    "Sp_res1 = go.Surface(x=X, y=+Y, z=T1p_res1.imag, **sty(\"Physical (T1)\"))\n",
    "\n",
    "Sn_II_res2 = go.Surface(x=X, y=-Y, z=T2n_res2.imag, **sty(\"Unphysical (T2)\"))\n",
    "Sn_III_res2 = go.Surface(x=X, y=-Y, z=T3n_res2.imag, **sty(\"Unphysical (T3)\"))\n",
    "Sp_res2 = go.Surface(x=X, y=+Y, z=T1p_res2.imag, **sty(\"Physical (T1)\"))\n",
    "\n",
    "zeros = np.zeros(x.shape)\n",
    "lineshape_res1 = go.Scatter3d(\n",
    "    x=x,\n",
    "    y=zeros,\n",
    "    z=project(T1p_res1[0]),\n",
    "    line=dict(color=\"yellow\", width=10),\n",
    "    mode=\"lines\",\n",
    "    name=\"Lineshape\",\n",
    ")\n",
    "\n",
    "lineshape_res2 = go.Scatter3d(\n",
    "    x=x,\n",
    "    y=zeros,\n",
    "    z=project(T1p_res2[0]),\n",
    "    line=dict(color=\"yellow\", width=10),\n",
    "    mode=\"lines\",\n",
    "    name=\"Lineshape\",\n",
    ")\n",
    "\n",
    "\n",
    "fig_res1 = make_subplots(\n",
    "    rows=2,\n",
    "    cols=2,\n",
    "    horizontal_spacing=0.01,\n",
    "    vertical_spacing=0.01,\n",
    "    specs=[\n",
    "        [{\"type\": \"surface\"}, {\"type\": \"surface\"}],\n",
    "        [{\"type\": \"surface\"}, {\"type\": \"surface\"}],\n",
    "    ],\n",
    "    subplot_titles=[\n",
    "        r\"Sheet I and II $s_{\\text{thr1}}<s_{\\text{thr2}}<m_{\\text{res}}$\",\n",
    "        r\"Sheet I and II $s_{\\text{thr1}}<s_{\\text{thr2}}<m_{\\text{res}}$\",\n",
    "        r\"Sheet I and II $s_{\\text{thr1}}<m_{\\text{res}}<s_{\\text{thr2}}$\",\n",
    "        r\"Sheet I and III $s_{\\text{thr1}}<m_{\\text{res}}<s_{\\text{thr2}}$\",\n",
    "    ],\n",
    ")\n",
    "\n",
    "fig_res1.add_trace(Sp_res1, row=1, col=1)\n",
    "fig_res1.add_trace(Sn_III_res1, row=1, col=1)\n",
    "fig_res1.add_trace(lineshape_res1, row=1, col=1)\n",
    "\n",
    "fig_res1.add_trace(Sp_res1, row=1, col=2)\n",
    "fig_res1.add_trace(Sn_II_res1, row=1, col=2)\n",
    "\n",
    "fig_res1.add_trace(Sp_res2, row=2, col=1)\n",
    "fig_res1.add_trace(Sn_II_res2, row=2, col=1)\n",
    "fig_res1.add_trace(lineshape_res2, row=2, col=1)\n",
    "\n",
    "fig_res1.add_trace(Sp_res2, row=2, col=2)\n",
    "fig_res1.add_trace(Sn_III_res2, row=2, col=2)\n",
    "\n",
    "fig_res1.update_layout(\n",
    "    margin=dict(l=0, r=0, t=0, b=0),\n",
    "    height=600,\n",
    "    showlegend=False,\n",
    "    title_text=\"Riemann sheets\",\n",
    ")\n",
    "\n",
    "fig_res1.update_scenes(\n",
    "    camera_center=dict(z=-0.1),\n",
    "    camera_eye=dict(x=1.4, y=1.4, z=1.4),\n",
    "    xaxis_title_text=\"Re s\",\n",
    "    yaxis_title_text=\"Im s\",\n",
    "    zaxis_title_text=\"Im T(s)\",\n",
    "    zaxis_range=[-vmax, vmax],\n",
    ")\n",
    "\n",
    "fig_res1.show()"
   ]
  }
 ],
 "metadata": {
  "colab": {
   "toc_visible": true
  },
  "kernelspec": {
   "display_name": "Python 3 (ipykernel)",
   "language": "python",
   "name": "python3"
  },
  "language_info": {
   "codemirror_mode": {
    "name": "ipython",
    "version": 3
   },
   "file_extension": ".py",
   "mimetype": "text/x-python",
   "name": "python",
   "nbconvert_exporter": "python",
   "pygments_lexer": "ipython3",
   "version": "3.10.13"
  }
 },
 "nbformat": 4,
 "nbformat_minor": 4
}
