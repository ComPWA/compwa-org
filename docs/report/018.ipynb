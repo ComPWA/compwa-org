{
 "cells": [
  {
   "cell_type": "code",
   "execution_count": null,
   "metadata": {
    "hideCode": true,
    "hideOutput": true,
    "hidePrompt": true,
    "jupyter": {
     "source_hidden": true
    },
    "slideshow": {
     "slide_type": "skip"
    },
    "tags": [
     "remove-cell"
    ]
   },
   "outputs": [],
   "source": [
    "%config InlineBackend.figure_formats = ['svg']\n",
    "import os\n",
    "\n",
    "STATIC_WEB_PAGE = {\"EXECUTE_NB\", \"READTHEDOCS\"}.intersection(os.environ)"
   ]
  },
  {
   "cell_type": "markdown",
   "metadata": {},
   "source": [
    "```{autolink-concat}\n",
    "```"
   ]
  },
  {
   "cell_type": "markdown",
   "metadata": {},
   "source": [
    "````{margin}\n",
    "```{spec} Dalitz Distribution\n",
    ":id: TR-018\n",
    ":status: WIP\n",
    ":tags: physics\n",
    "```\n",
    "````\n",
    "\n",
    "# Dalitz Distribution"
   ]
  },
  {
   "cell_type": "markdown",
   "metadata": {},
   "source": [
    "<!-- cspell:ignore coeff mmikhasenko msigma Remco -->\n",
    "\n",
    ":::{epigraph}\n",
    "\n",
    "Mikhail Mikhasenko [@mmikhasenko](https://github.com/mmikhasenko), Remco de Boer [@redeboer](https://github.com/redeboer)\n",
    "\n",
    ":::"
   ]
  },
  {
   "cell_type": "code",
   "execution_count": null,
   "metadata": {
    "jupyter": {
     "source_hidden": true
    },
    "tags": [
     "remove-cell"
    ]
   },
   "outputs": [],
   "source": [
    "%pip install -q ampform==0.14.0 qrules==0.9.7 sympy==1.10.1 tensorwaves[pwa]==0.4.5"
   ]
  },
  {
   "cell_type": "markdown",
   "metadata": {},
   "source": [
    "This report is an attempt to formulate [this report](https://www.overleaf.com/7229968911cjshysdbfjtj) [behind login] on polarization sensitivity in $\\Lambda_c \\to p\\pi K$ with [SymPy](https://docs.sympy.org) and [TensorWaves](https://tensorwaves.rtfd.io)."
   ]
  },
  {
   "cell_type": "code",
   "execution_count": null,
   "metadata": {
    "jupyter": {
     "source_hidden": true
    },
    "tags": [
     "hide-cell"
    ]
   },
   "outputs": [],
   "source": [
    "from __future__ import annotations\n",
    "\n",
    "import itertools\n",
    "import logging\n",
    "from functools import partial\n",
    "\n",
    "import matplotlib.pyplot as plt\n",
    "import numpy as np\n",
    "import qrules\n",
    "import sympy as sp\n",
    "from ampform.sympy import (\n",
    "    PoolSum,\n",
    "    UnevaluatedExpression,\n",
    "    create_expression,\n",
    "    implement_doit_method,\n",
    "    make_commutative,\n",
    ")\n",
    "from attrs import define, frozen\n",
    "from IPython.display import HTML, Math, display\n",
    "from ipywidgets import HBox, HTMLMath, Tab, VBox, interactive_output\n",
    "from matplotlib import cm\n",
    "from matplotlib.colors import LogNorm\n",
    "from qrules.particle import Particle\n",
    "from symplot import create_slider\n",
    "from sympy.core.symbol import Str\n",
    "from sympy.physics.matrices import msigma\n",
    "from sympy.physics.quantum.cg import CG\n",
    "from sympy.physics.quantum.spin import Rotation as Wigner\n",
    "\n",
    "LOGGER = logging.getLogger()\n",
    "LOGGER.setLevel(logging.ERROR)\n",
    "\n",
    "PDG = qrules.load_pdg()\n",
    "\n",
    "\n",
    "def display_definitions(definitions: dict[sp.Symbol, sp.Expr]) -> None:\n",
    "    latex = R\"\\begin{array}{rcl}\" + \"\\n\"\n",
    "    for symbol, expr in definitions.items():\n",
    "        symbol = sp.sympify(symbol)\n",
    "        expr = sp.sympify(expr)\n",
    "        lhs = sp.latex(symbol)\n",
    "        rhs = sp.latex(expr)\n",
    "        latex += Rf\"  {lhs} & = & {rhs} \\\\\" + \"\\n\"\n",
    "    latex += R\"\\end{array}\"\n",
    "    display(Math(latex))\n",
    "\n",
    "\n",
    "def display_doit(\n",
    "    expr: UnevaluatedExpression, deep=False, terms_per_line: int = 10\n",
    ") -> None:\n",
    "    latex = sp.multiline_latex(\n",
    "        lhs=expr,\n",
    "        rhs=expr.doit(deep=deep),\n",
    "        terms_per_line=terms_per_line,\n",
    "        environment=\"eqnarray\",\n",
    "    )\n",
    "    display(Math(latex))\n",
    "\n",
    "\n",
    "# hack for moving Indexed indices below superscript of the base\n",
    "def _print_Indexed_latex(self, printer, *args):\n",
    "    base = printer._print(self.base)\n",
    "    indices = \", \".join(map(printer._print, self.indices))\n",
    "    return f\"{base}_{{{indices}}}\"\n",
    "\n",
    "\n",
    "sp.Indexed._latex = _print_Indexed_latex"
   ]
  },
  {
   "cell_type": "markdown",
   "metadata": {
    "tags": []
   },
   "source": [
    "## Amplitude model"
   ]
  },
  {
   "cell_type": "markdown",
   "metadata": {},
   "source": [
    "Naming convention: $\\text{Baryon}(\\mathbf{0}) \\to \\text{Baryon}(\\mathbf{1}) P(\\mathbf{2}) P(\\mathbf{3})$\n",
    "- **Chain 1**: $M^{23} \\to P_2 P_3(23)$\n",
    "- **Chain 2**: $B^{31} \\to P_3\\text{B}_1(31)$\n",
    "- **Chain 3**: $B^{12} \\to \\text{B}_1P_2(12)$\n",
    "\n",
    "where $B_1$ stands for a baryon with index (1) in the final state. $B^{31}$ and $B^{12}$ are baryon resonances.\n",
    "The $M$ and $P$ denote the meson state, a general and pseudoscalar, respectively.\n",
    "\n",
    "In what follows, the 'Chain 0' is the sum of the three chains."
   ]
  },
  {
   "cell_type": "code",
   "execution_count": null,
   "metadata": {
    "jupyter": {
     "source_hidden": true
    },
    "tags": []
   },
   "outputs": [],
   "source": [
    "Λc = PDG[\"Lambda(c)+\"]\n",
    "p = PDG[\"p\"]\n",
    "K = PDG[\"K-\"]\n",
    "π = PDG[\"pi+\"]\n",
    "decay_products = {\n",
    "    1: (π, K),\n",
    "    2: (p, K),\n",
    "    3: (p, π),\n",
    "}\n",
    "siblings = {\n",
    "    1: p,\n",
    "    2: π,\n",
    "    3: K,\n",
    "}\n",
    "chain_ids = {\n",
    "    1: \"K^{**}\",\n",
    "    2: R\"\\Lambda^{**}\",\n",
    "    3: R\"\\Delta^{**}\",\n",
    "}"
   ]
  },
  {
   "cell_type": "markdown",
   "metadata": {},
   "source": [
    "Resonance choices and their $LS$-couplings are as follows:"
   ]
  },
  {
   "cell_type": "code",
   "execution_count": null,
   "metadata": {},
   "outputs": [],
   "source": [
    "resonance_names = {\n",
    "    1: [\"K*(892)0\"],\n",
    "    2: [\"Lambda(1520)\"],\n",
    "    3: [\"Delta(1232)++\"],\n",
    "}\n",
    "resonances = {\n",
    "    chain_id: [PDG[name] for name in names]\n",
    "    for chain_id, names in resonance_names.items()\n",
    "}"
   ]
  },
  {
   "cell_type": "markdown",
   "metadata": {},
   "source": [
    "### Aligned amplitude"
   ]
  },
  {
   "cell_type": "code",
   "execution_count": null,
   "metadata": {
    "jupyter": {
     "source_hidden": true
    },
    "tags": [
     "full-width",
     "hide-input"
    ]
   },
   "outputs": [],
   "source": [
    "A_K = sp.IndexedBase(R\"A^K\")\n",
    "A_Λ = sp.IndexedBase(R\"A^{\\Lambda}\")\n",
    "A_Δ = sp.IndexedBase(R\"A^{\\Delta}\")\n",
    "\n",
    "half = sp.S.Half\n",
    "\n",
    "ζ_0_11 = sp.Symbol(R\"\\zeta^0_{1(1)}\", real=True)\n",
    "ζ_0_21 = sp.Symbol(R\"\\zeta^0_{2(1)}\", real=True)\n",
    "ζ_0_31 = sp.Symbol(R\"\\zeta^0_{3(1)}\", real=True)\n",
    "ζ_1_11 = sp.Symbol(R\"\\zeta^1_{1(1)}\", real=True)\n",
    "ζ_1_21 = sp.Symbol(R\"\\zeta^1_{2(1)}\", real=True)\n",
    "ζ_1_31 = sp.Symbol(R\"\\zeta^1_{3(1)}\", real=True)\n",
    "\n",
    "ζ_0_12 = sp.Symbol(R\"\\zeta^0_{1(2)}\", real=True)\n",
    "ζ_0_23 = sp.Symbol(R\"\\zeta^0_{2(3)}\", real=True)\n",
    "ζ_0_31 = sp.Symbol(R\"\\zeta^0_{3(1)}\", real=True)\n",
    "ζ_1_12 = sp.Symbol(R\"\\zeta^1_{1(2)}\", real=True)\n",
    "ζ_1_23 = sp.Symbol(R\"\\zeta^1_{2(3)}\", real=True)\n",
    "ζ_1_31 = sp.Symbol(R\"\\zeta^1_{3(1)}\", real=True)\n",
    "\n",
    "\n",
    "def formulate_aligned_amplitude(λ_Λc, λ_p):\n",
    "    _ν = sp.Symbol(R\"\\nu^{\\prime}\", rational=True)\n",
    "    _λ = sp.Symbol(R\"\\lambda^{\\prime}\", rational=True)\n",
    "    return PoolSum(\n",
    "        A_K[_ν, _λ]\n",
    "        * Wigner.d(half, λ_Λc, _ν, ζ_0_11)\n",
    "        * Wigner.d(half, _λ, λ_p, ζ_1_11)\n",
    "        + A_Λ[_ν, _λ]\n",
    "        * Wigner.d(half, λ_Λc, _ν, ζ_0_21)\n",
    "        * Wigner.d(half, _λ, λ_p, ζ_1_21)\n",
    "        + A_Δ[_ν, _λ]\n",
    "        * Wigner.d(half, λ_Λc, _ν, ζ_0_31)\n",
    "        * Wigner.d(half, _λ, λ_p, ζ_1_31),\n",
    "        (_λ, [-half, +half]),\n",
    "        (_ν, [-half, +half]),\n",
    "    )\n",
    "\n",
    "\n",
    "ν = sp.Symbol(\"nu\")\n",
    "λ = sp.Symbol(\"lambda\")\n",
    "formulate_aligned_amplitude(λ_Λc=ν, λ_p=λ)"
   ]
  },
  {
   "cell_type": "markdown",
   "metadata": {},
   "source": [
    "### Decay chain amplitudes"
   ]
  },
  {
   "cell_type": "code",
   "execution_count": null,
   "metadata": {},
   "outputs": [],
   "source": [
    "sp.KroneckerDelta(1, 1)"
   ]
  },
  {
   "cell_type": "code",
   "execution_count": null,
   "metadata": {},
   "outputs": [],
   "source": [
    "(-1) ** (half - half)"
   ]
  },
  {
   "cell_type": "markdown",
   "metadata": {},
   "source": [
    "Example of a data container for all decay info. More info on this syntax [here](https://www.attrs.org/en/stable/examples.html):"
   ]
  },
  {
   "cell_type": "code",
   "execution_count": null,
   "metadata": {},
   "outputs": [],
   "source": [
    "@define\n",
    "class Decay:\n",
    "    j0: int\n",
    "    j1: int\n",
    "    j2: int\n",
    "    j3: int\n",
    "    j: int\n",
    "    LS: int\n",
    "    ls: int\n",
    "    chain_ind: int"
   ]
  },
  {
   "cell_type": "code",
   "execution_count": null,
   "metadata": {
    "jupyter": {
     "source_hidden": true
    },
    "tags": [
     "scroll-input",
     "hide-input",
     "full-width"
    ]
   },
   "outputs": [],
   "source": [
    "def formulate_chain_amplitude(chain_id: int, λ0, λ1):\n",
    "    resonances = resonance_choices[chain_id]\n",
    "    if chain_id == 1:\n",
    "        return formulate_23_amplitude(λ0, λ1, resonances)\n",
    "    if chain_id == 2:\n",
    "        return formulate_31_amplitude(λ0, λ1, resonances)\n",
    "    if chain_id == 3:\n",
    "        return formulate_12_amplitude(λ0, λ1, resonances)\n",
    "    raise NotImplementedError\n",
    "\n",
    "\n",
    "H_prod = sp.IndexedBase(R\"\\mathcal{H}\")\n",
    "H_dec = sp.IndexedBase(R\"\\mathcal{K}\")\n",
    "\n",
    "θ23 = sp.Symbol(\"theta23\", real=True)\n",
    "θ31 = sp.Symbol(\"theta31\", real=True)\n",
    "θ12 = sp.Symbol(\"theta12\", real=True)\n",
    "\n",
    "σ1, σ2, σ3 = sp.symbols(\"sigma1:4\", nonnegative=True)\n",
    "m1, m2, m3 = sp.symbols(R\"m_p m_pi m_K\", nonnegative=True)\n",
    "\n",
    "\n",
    "R_K = sp.Symbol(R\"\\mathcal{R}^{K}\", real=True)\n",
    "R_Λ = sp.Symbol(R\"\\mathcal{R}^{\\Lambda}\", real=True)\n",
    "R_Δ = sp.Symbol(R\"\\mathcal{R}^{\\Delta}\", real=True)\n",
    "Rs = {1: R_K, 2: R_Λ, 3: R_Δ}\n",
    "\n",
    "\n",
    "def formulate_23_amplitude(λ0, λ1, resonances: list[Resonance]):\n",
    "    τ = sp.Symbol(\"tau\", rational=True)\n",
    "    return sp.Add(\n",
    "        *[\n",
    "            PoolSum(\n",
    "                sp.KroneckerDelta(λ0, τ - λ1)\n",
    "                * H_prod[stringify(res), τ, λ1]\n",
    "                * (-1) ** (half - λ1)\n",
    "                * R_K\n",
    "                * Wigner.d(sp.Rational(res.particle.spin), τ, 0, θ23)\n",
    "                * H_dec[stringify(res), 0, 0],\n",
    "                (τ, create_spin_range(res.particle.spin)),\n",
    "            )\n",
    "            for res in resonances\n",
    "        ]\n",
    "    )\n",
    "\n",
    "\n",
    "def formulate_31_amplitude(λ0, λ1, resonances: list[Resonance]):\n",
    "    τ = sp.Symbol(\"tau\", rational=True)\n",
    "    return sp.Add(\n",
    "        *[\n",
    "            PoolSum(\n",
    "                sp.KroneckerDelta(λ0, τ)\n",
    "                * H_prod[stringify(res), τ, 0]\n",
    "                * Wigner.d(sp.Rational(res.particle.spin), τ, -λ1, θ31)\n",
    "                * R_Λ\n",
    "                * H_dec[stringify(res), 0, λ1]\n",
    "                * (-1) ** (half - λ1),\n",
    "                (τ, create_spin_range(res.particle.spin)),\n",
    "            )\n",
    "            for res in resonances\n",
    "        ]\n",
    "    )\n",
    "\n",
    "\n",
    "def formulate_12_amplitude(λ0, λ1, resonances: list[Resonance]):\n",
    "    τ = sp.Symbol(\"tau\", rational=True)\n",
    "    return sp.Add(\n",
    "        *[\n",
    "            PoolSum(\n",
    "                sp.KroneckerDelta(λ0, τ)\n",
    "                * H_prod[stringify(res), τ, 0]\n",
    "                * Wigner.d(sp.Rational(res.particle.spin), τ, λ1, θ12)\n",
    "                * R_Δ\n",
    "                * H_dec[stringify(res), λ1, 0],\n",
    "                (τ, create_spin_range(res.particle.spin)),\n",
    "            )\n",
    "            for res in resonances\n",
    "        ]\n",
    "    )\n",
    "\n",
    "\n",
    "def formulate_dynamics(decay: Resonance, s, m1, m2):\n",
    "    l_R = sp.Rational(decay.l_R)\n",
    "    l_Λc = sp.Rational(decay.l_Λc)\n",
    "    mass = sp.Symbol(f\"m_{{{decay.particle.latex}}}\")\n",
    "    width = sp.Symbol(Rf\"\\Gamma_{{{decay.particle.latex}}}\")\n",
    "    parameter_defaults[mass] = decay.particle.mass\n",
    "    parameter_defaults[width] = decay.particle.width\n",
    "    return RelativisticBreitWigner(s, mass, width, m1, m2, l_R, l_Λc, R)\n",
    "\n",
    "\n",
    "def stringify(particle: Particle | Resonance) -> Str:\n",
    "    if isinstance(particle, Resonance):\n",
    "        particle = particle.particle\n",
    "    return Str(particle.latex)\n",
    "\n",
    "\n",
    "def create_spin_range(j):\n",
    "    return arange(-j, +j)\n",
    "\n",
    "\n",
    "display(\n",
    "    formulate_chain_amplitude(1, ν, λ),\n",
    "    formulate_chain_amplitude(2, ν, λ),\n",
    "    formulate_chain_amplitude(3, ν, λ),\n",
    ")"
   ]
  },
  {
   "cell_type": "markdown",
   "metadata": {
    "tags": []
   },
   "source": [
    "### Helicity coupling values"
   ]
  },
  {
   "cell_type": "code",
   "execution_count": null,
   "metadata": {},
   "outputs": [],
   "source": [
    "parameter_defaults = {}"
   ]
  },
  {
   "cell_type": "code",
   "execution_count": null,
   "metadata": {
    "jupyter": {
     "source_hidden": true
    },
    "tags": [
     "hide-input"
    ]
   },
   "outputs": [],
   "source": [
    "dec_couplings = {}\n",
    "for res in resonance_choices[1]:\n",
    "    i = stringify(res)\n",
    "    dec_couplings[H_dec[i, 0, 0]] = 1\n",
    "for res in resonance_choices[2]:\n",
    "    p = res.particle\n",
    "    i = stringify(p)\n",
    "    dec_couplings[H_dec[i, 0, half]] = 1\n",
    "    dec_couplings[H_dec[i, 0, -half]] = int(-p.parity) * (-1) ** (\n",
    "        sp.Rational(p.spin) - half\n",
    "    )\n",
    "for res in resonance_choices[3]:\n",
    "    p = res.particle\n",
    "    i = stringify(p)\n",
    "    dec_couplings[H_dec[i, half, 0]] = 1\n",
    "    dec_couplings[H_dec[i, -half, 0]] = int(-p.parity) * (-1) ** (\n",
    "        sp.Rational(p.spin) - half\n",
    "    )\n",
    "parameter_defaults.update(dec_couplings)\n",
    "display_definitions(dec_couplings)"
   ]
  },
  {
   "cell_type": "markdown",
   "metadata": {},
   "source": [
    "The production couplings are written in the LS basis:\n",
    "$$\n",
    "\\mathcal{H}_{\\lambda,\\lambda'} = \\sum_{LS}\n",
    "    \\left\\langle j,\\lambda ; j',\\lambda' | S, \\lambda-\\lambda'\\right\\rangle\n",
    "    \\left\\langle L,0 ; S,\\lambda-\\lambda' | J, \\lambda-\\lambda'\\right\\rangle \\mathcal{H}_{LS}\n",
    "$$"
   ]
  },
  {
   "cell_type": "code",
   "execution_count": null,
   "metadata": {},
   "outputs": [],
   "source": [
    "def recoupling(λ1, λ2, j, l, s, j1, j2):\n",
    "    Δλ = λ1 - λ2\n",
    "    return CG(j1, λ1, j2, -λ2, s, Δλ) * CG(l, sp.S(0), s, Δλ, j, Δλ)"
   ]
  },
  {
   "cell_type": "code",
   "execution_count": null,
   "metadata": {
    "jupyter": {
     "source_hidden": true
    },
    "tags": [
     "hide-input"
    ]
   },
   "outputs": [],
   "source": [
    "prod_couplings = {}\n",
    "LSs = {1: (sp.S(1), half), 2: (sp.S(2), 3 * half), 3: (sp.S(1), 3 * half)}\n",
    "j3_values = {1: half, 2: 0, 3: 0}\n",
    "for chain_id in [1, 2, 3]:\n",
    "    for res in resonance_choices[chain_id]:\n",
    "        i = stringify(res)\n",
    "        l, s = LSs[chain_id]\n",
    "        j3 = j3_values[chain_id]\n",
    "        for λ1 in create_spin_range(res.particle.spin):\n",
    "            for λ2 in create_spin_range(j3):\n",
    "                c = recoupling(\n",
    "                    sp.Rational(λ1),\n",
    "                    sp.Rational(λ2),\n",
    "                    sp.Rational(Λc.spin),\n",
    "                    l,\n",
    "                    s,\n",
    "                    sp.Rational(res.particle.spin),\n",
    "                    sp.Rational(j3),\n",
    "                )\n",
    "                if c.doit() != 0:\n",
    "                    prod_couplings[\n",
    "                        H_prod[i, sp.Rational(λ1), sp.Rational(λ2)]\n",
    "                    ] = c\n",
    "display_definitions(prod_couplings)\n",
    "couplings = dict(dec_couplings)\n",
    "couplings.update(prod_couplings)\n",
    "parameter_defaults.update(prod_couplings)"
   ]
  },
  {
   "cell_type": "markdown",
   "metadata": {},
   "source": [
    "### Intensity expression"
   ]
  },
  {
   "cell_type": "markdown",
   "metadata": {},
   "source": [
    "Incoherent sum of the amplitudes defined by {ref}`report/017:Aligned amplitude`:"
   ]
  },
  {
   "cell_type": "code",
   "execution_count": null,
   "metadata": {
    "tags": [
     "hide-input",
     "full-width"
    ]
   },
   "outputs": [],
   "source": [
    "def formulate_intensity(amplitude_builder):\n",
    "    return PoolSum(\n",
    "        sp.Abs(amplitude_builder(λ, ν)) ** 2,\n",
    "        (λ, [-half, +half]),\n",
    "        (ν, [-half, +half]),\n",
    "    )\n",
    "\n",
    "\n",
    "intensity_expressions = {\n",
    "    0: formulate_intensity(formulate_aligned_amplitude),\n",
    "    1: formulate_intensity(partial(formulate_chain_amplitude, 1)),\n",
    "    2: formulate_intensity(partial(formulate_chain_amplitude, 2)),\n",
    "    3: formulate_intensity(partial(formulate_chain_amplitude, 3)),\n",
    "}\n",
    "intensity_expressions[0]"
   ]
  },
  {
   "cell_type": "code",
   "execution_count": null,
   "metadata": {},
   "outputs": [],
   "source": [
    "A = {1: A_K, 2: A_Λ, 3: A_Δ}\n",
    "amp_definitions = {}\n",
    "for chain_id in chain_ids:\n",
    "    for Λc_heli, p_heli in itertools.product([-half, +half], [-half, +half]):\n",
    "        symbol = A[chain_id][Λc_heli, p_heli]\n",
    "        expr = formulate_chain_amplitude(chain_id, ν, λ)\n",
    "        amp_definitions[symbol] = expr.subs({ν: Λc_heli, λ: p_heli})\n",
    "display_definitions(amp_definitions)"
   ]
  },
  {
   "cell_type": "markdown",
   "metadata": {},
   "source": [
    "Now we put all equations together and compute the sum over the indices"
   ]
  },
  {
   "cell_type": "code",
   "execution_count": null,
   "metadata": {},
   "outputs": [],
   "source": [
    "expr = (\n",
    "    formulate_intensity(formulate_aligned_amplitude)\n",
    "    .doit()\n",
    "    .xreplace(amp_definitions)\n",
    ")\n",
    "up_to_couplings = expr.doit()\n",
    "final = up_to_couplings.xreplace(couplings).doit()\n",
    "final_expanded = sp.expand(final)"
   ]
  },
  {
   "cell_type": "markdown",
   "metadata": {},
   "source": [
    "The relations of the Wigner angles are used to simplify the final expressions.\n",
    "One expects that \n",
    " - there are no wigner angles for the intensity of any isobar.\n",
    " - the $(ij)$-interference term might depend only on the $\\zeta_{i(j)}$ angle."
   ]
  },
  {
   "cell_type": "code",
   "execution_count": null,
   "metadata": {},
   "outputs": [],
   "source": [
    "wigner_angle_identities = {\n",
    "    ζ_0_21: -2 * sp.pi + ζ_0_23 + ζ_0_31,\n",
    "    ζ_1_21: ζ_1_23 + ζ_1_31,\n",
    "    ζ_0_11: 0,\n",
    "    ζ_1_11: 0,\n",
    "}\n",
    "display_definitions(wigner_angle_identities)"
   ]
  },
  {
   "cell_type": "code",
   "execution_count": null,
   "metadata": {},
   "outputs": [],
   "source": [
    "simplified_intensities = {}\n",
    "Ts = sp.IndexedBase(R\"\\mathcal{T}\")\n",
    "# diagonal terms\n",
    "for i in range(1, 4):\n",
    "    simplified_intensities[Ts[i, i]] = sp.simplify(\n",
    "        final_expanded.coeff(Rs[i], 2)\n",
    "    )\n",
    "# off-diagonal terms\n",
    "for ij in {12, 23, 31}:\n",
    "    i, j = divmod(ij, 10)\n",
    "    coefficient = final_expanded.coeff(Rs[i] * Rs[j], 1)\n",
    "    simplified_intensities[Ts[i, j]] = sp.simplify(coefficient / sp.S(2)).subs(\n",
    "        wigner_angle_identities\n",
    "    )\n",
    "#"
   ]
  },
  {
   "cell_type": "markdown",
   "metadata": {},
   "source": [
    "The total intensity is written a bilinear for on dynamic functions $\\mathcal{R}$ with coefficients $T_{ij}$ describing the angular dependence."
   ]
  },
  {
   "cell_type": "code",
   "execution_count": null,
   "metadata": {},
   "outputs": [],
   "source": [
    "intensity_sum = sum(\n",
    "    Ts[i, j] * Rs[i] * sp.conjugate(Rs[j])\n",
    "    for i in range(1, 4)\n",
    "    for j in range(1, 4)\n",
    ")\n",
    "intensity_sum = intensity_sum.subs(\n",
    "    {Ts[2, 1]: Ts[1, 2], Ts[1, 3]: Ts[3, 1], Ts[3, 2]: Ts[2, 3]}\n",
    ")\n",
    "display_definitions({sp.Symbol(R\"\\mathcal{I}_\\text{tot}\"): intensity_sum})"
   ]
  },
  {
   "cell_type": "code",
   "execution_count": null,
   "metadata": {},
   "outputs": [],
   "source": [
    "display_definitions(simplified_intensities)"
   ]
  },
  {
   "cell_type": "code",
   "execution_count": null,
   "metadata": {},
   "outputs": [],
   "source": []
  }
 ],
 "metadata": {
  "kernelspec": {
   "display_name": "Python 3 (ipykernel)",
   "language": "python",
   "name": "python3"
  },
  "language_info": {
   "codemirror_mode": {
    "name": "ipython",
    "version": 3
   },
   "file_extension": ".py",
   "mimetype": "text/x-python",
   "name": "python",
   "nbconvert_exporter": "python",
   "pygments_lexer": "ipython3",
   "version": "3.8.13"
  }
 },
 "nbformat": 4,
 "nbformat_minor": 4
}
