{
 "cells": [
  {
   "cell_type": "code",
   "execution_count": null,
   "metadata": {
    "hideCode": true,
    "hideOutput": true,
    "hidePrompt": true,
    "jupyter": {
     "source_hidden": true
    },
    "slideshow": {
     "slide_type": "skip"
    },
    "tags": [
     "remove-cell"
    ]
   },
   "outputs": [],
   "source": [
    "import os\n",
    "\n",
    "STATIC_WEB_PAGE = {\"EXECUTE_NB\", \"READTHEDOCS\"}.intersection(os.environ)"
   ]
  },
  {
   "cell_type": "markdown",
   "metadata": {},
   "source": [
    "```{autolink-concat}\n",
    "```"
   ]
  },
  {
   "cell_type": "markdown",
   "metadata": {
    "editable": true,
    "slideshow": {
     "slide_type": ""
    },
    "tags": []
   },
   "source": [
    "::::{margin}\n",
    ":::{card} Single-channel T-matrix 3D Riemann sheets\n",
    "TR-999\n",
    "^^^\n",
    "Follow-up to [TR-004](004.ipynb), where we investigate and reproduce the Riemann sheets shown in [Fig.&nbsp;50.1](https://pdg.lbl.gov/2023/reviews/rpp2023-rev-resonances.pdf#page=2) and [50.2](https://pdg.lbl.gov/2023/reviews/rpp2023-rev-resonances.pdf#page=4) of the PDG.\n",
    "+++\n",
    "🚧&nbsp;[compwa.github.io#204](https://github.com/ComPWA/compwa.github.io/pull/204)\n",
    ":::\n",
    "::::"
   ]
  },
  {
   "cell_type": "markdown",
   "metadata": {
    "editable": true,
    "slideshow": {
     "slide_type": ""
    },
    "tags": []
   },
   "source": [
    "# Riemann sheets for single-channel T matrix"
   ]
  },
  {
   "cell_type": "code",
   "execution_count": null,
   "metadata": {
    "editable": true,
    "slideshow": {
     "slide_type": ""
    },
    "tags": [
     "remove-cell"
    ]
   },
   "outputs": [],
   "source": [
    "%pip install -q ampform==0.14.8 plotly==5.18.0 sympy==1.12"
   ]
  },
  {
   "cell_type": "markdown",
   "metadata": {
    "editable": true,
    "slideshow": {
     "slide_type": ""
    },
    "tags": []
   },
   "source": [
    ":::{note}\n",
    "In the following example we assume zero angular momentum ($L=0$).\n",
    ":::"
   ]
  },
  {
   "cell_type": "code",
   "execution_count": null,
   "metadata": {
    "editable": true,
    "jupyter": {
     "source_hidden": true
    },
    "mystnb": {
     "code_prompt_show": "Import Python libraries"
    },
    "slideshow": {
     "slide_type": ""
    },
    "tags": [
     "hide-cell"
    ]
   },
   "outputs": [],
   "source": [
    "from __future__ import annotations\n",
    "\n",
    "import warnings\n",
    "from typing import Any\n",
    "\n",
    "import matplotlib.pyplot as plt\n",
    "import numpy as np\n",
    "import plotly.graph_objects as go\n",
    "import sympy as sp\n",
    "from ampform.io import aslatex\n",
    "from ampform.sympy import unevaluated\n",
    "from IPython.display import Math\n",
    "from plotly.subplots import make_subplots\n",
    "\n",
    "warnings.filterwarnings(\"ignore\")"
   ]
  },
  {
   "cell_type": "markdown",
   "metadata": {
    "editable": true,
    "slideshow": {
     "slide_type": ""
    },
    "tags": []
   },
   "source": [
    "## Square root definition"
   ]
  },
  {
   "cell_type": "markdown",
   "metadata": {
    "editable": true,
    "slideshow": {
     "slide_type": ""
    },
    "tags": []
   },
   "source": [
    "We define a special expression class for a square root where you can choose the sign for negative arguments. This can be used later for the phase space factor&nbsp;$\\rho$."
   ]
  },
  {
   "cell_type": "code",
   "execution_count": null,
   "metadata": {
    "editable": true,
    "jupyter": {
     "source_hidden": true
    },
    "mystnb": {
     "code_prompt_show": "Define special square root expression class"
    },
    "slideshow": {
     "slide_type": ""
    },
    "tags": [
     "hide-input"
    ]
   },
   "outputs": [],
   "source": [
    "@unevaluated(real=False)\n",
    "class SignedSqrt(sp.Expr):\n",
    "    z: Any\n",
    "    _latex_repr_ = R\"\\sqrt[+]{{{z}}}\"\n",
    "\n",
    "    def evaluate(self) -> sp.Expr:\n",
    "        z = self.args[0]\n",
    "        return sp.sqrt(abs(z)) * sp.exp(sp.I * PosArg(z) / 2)\n",
    "\n",
    "\n",
    "@unevaluated\n",
    "class PosArg(sp.Expr):\n",
    "    z: Any\n",
    "    _latex_repr_ = R\"\\arg^+\\left({z}\\right)\"\n",
    "\n",
    "    def evaluate(self) -> sp.Expr:\n",
    "        z = self.args[0]\n",
    "        arg = sp.arg(z)\n",
    "        return sp.Piecewise(\n",
    "            (arg + 2 * sp.pi, arg < -2 * sp.pi),\n",
    "            (arg - 2 * sp.pi, arg > 0),\n",
    "            (arg, True),\n",
    "        )\n",
    "\n",
    "\n",
    "z = sp.Symbol(\"z\", complex=True)\n",
    "Math(aslatex({e: e.evaluate() for e in [SignedSqrt(z), PosArg(z)]}))"
   ]
  },
  {
   "cell_type": "markdown",
   "metadata": {
    "editable": true,
    "slideshow": {
     "slide_type": ""
    },
    "tags": []
   },
   "source": [
    "## Phase space factor definitions"
   ]
  },
  {
   "cell_type": "markdown",
   "metadata": {
    "editable": true,
    "slideshow": {
     "slide_type": ""
    },
    "tags": []
   },
   "source": [
    "### Standard phase space"
   ]
  },
  {
   "cell_type": "code",
   "execution_count": null,
   "metadata": {
    "editable": true,
    "slideshow": {
     "slide_type": ""
    },
    "tags": [
     "hide-input"
    ]
   },
   "outputs": [],
   "source": [
    "@unevaluated(real=False)\n",
    "class PhaseSpaceFactor(sp.Expr):\n",
    "    s: Any\n",
    "    m1: Any\n",
    "    m2: Any\n",
    "    _latex_repr_ = R\"\\rho^+_{{{m1}, {m2}}}\\left({s}\\right)\"\n",
    "\n",
    "    def evaluate(self) -> sp.Expr:\n",
    "        s, m1, m2 = self.args\n",
    "        return SignedSqrt((s - ((m1 + m2) ** 2)) * (s - (m1 - m2) ** 2) / s**2)\n",
    "\n",
    "\n",
    "s, m1, m2 = sp.symbols(\"s m1 m2\")\n",
    "rho_expr = PhaseSpaceFactor(s, m1, m2)\n",
    "Math(aslatex({rho_expr: rho_expr.doit(deep=False)}))"
   ]
  },
  {
   "cell_type": "markdown",
   "metadata": {
    "editable": true,
    "slideshow": {
     "slide_type": ""
    },
    "tags": []
   },
   "source": [
    "### Chew-Mandelstam function  "
   ]
  },
  {
   "cell_type": "code",
   "execution_count": null,
   "metadata": {
    "editable": true,
    "slideshow": {
     "slide_type": ""
    },
    "tags": [
     "hide-input"
    ]
   },
   "outputs": [],
   "source": [
    "@unevaluated(real=False)\n",
    "class PhaseSpaceCM(sp.Expr):\n",
    "    s: Any\n",
    "    m1: Any\n",
    "    m2: Any\n",
    "    _latex_repr_ = R\"\\rho^\\mathrm{{CM}}_{{{m1},{m2}}}\\left({s}\\right)\"\n",
    "\n",
    "    def evaluate(self) -> sp.Expr:\n",
    "        s, m1, m2 = self.args\n",
    "        return -16 * sp.pi * sp.I * ChewMandelstam(s, m1, m2)\n",
    "\n",
    "\n",
    "@unevaluated(real=False)\n",
    "class ChewMandelstam(sp.Expr):\n",
    "    s: Any\n",
    "    m1: Any\n",
    "    m2: Any\n",
    "    _latex_repr_ = R\"\\Sigma\\left({s}\\right)\"\n",
    "\n",
    "    def evaluate(self) -> sp.Expr:\n",
    "        s, m1, m2 = self.args\n",
    "        q = BreakupMomentum(s, m1, m2)\n",
    "        return (\n",
    "            1\n",
    "            / (16 * sp.pi**2)\n",
    "            * (\n",
    "                (2 * q / sp.sqrt(s))\n",
    "                * sp.log((m1**2 + m2**2 - s + 2 * sp.sqrt(s) * q) / (2 * m1 * m2))\n",
    "                - (m1**2 - m2**2) * (1 / s - 1 / (m1 + m2) ** 2) * sp.log(m1 / m2)\n",
    "            )\n",
    "        )\n",
    "\n",
    "\n",
    "@unevaluated(real=False)\n",
    "class BreakupMomentum(sp.Expr):\n",
    "    s: Any\n",
    "    m_a: Any\n",
    "    m_b: Any\n",
    "    _latex_repr_ = R\"q\\left({s}\\right)\"\n",
    "\n",
    "    def evaluate(self) -> sp.Expr:\n",
    "        s, m_a, m_b = self.args\n",
    "        return SignedSqrt((s - (m_a + m_b) ** 2) * (s - (m_a - m_b) ** 2) / (s * 4))\n",
    "\n",
    "\n",
    "rho_cm_expr = PhaseSpaceCM(s, m1, m2)\n",
    "cm_expr = ChewMandelstam(s, m1, m2)\n",
    "q_expr = BreakupMomentum(s, m1, m2)\n",
    "Math(aslatex({e: e.doit(deep=False) for e in [rho_cm_expr, cm_expr, q_expr]}))"
   ]
  },
  {
   "cell_type": "markdown",
   "metadata": {
    "editable": true,
    "slideshow": {
     "slide_type": ""
    },
    "tags": []
   },
   "source": [
    "### Alternative definition of Chew-Mandelstam"
   ]
  },
  {
   "cell_type": "markdown",
   "metadata": {
    "editable": true,
    "slideshow": {
     "slide_type": ""
    },
    "tags": []
   },
   "source": [
    "By J. L. Basdevant and Edmond L. Berger\n",
    "(Phys. Rev. D 16, 657 – Published 1 August 1977)"
   ]
  },
  {
   "cell_type": "code",
   "execution_count": null,
   "metadata": {
    "editable": true,
    "slideshow": {
     "slide_type": ""
    },
    "tags": [
     "hide-input"
    ]
   },
   "outputs": [],
   "source": [
    "@unevaluated(real=False)\n",
    "class ChewMandelstamBB(sp.Expr):\n",
    "    s: Any\n",
    "    m1: Any\n",
    "    m2: Any\n",
    "    _latex_repr_ = R\"\\rho^\\text{{CM}}_\\text{{BB}}\\left({s}\\right)\"\n",
    "\n",
    "    def evaluate(self) -> sp.Expr:\n",
    "        s, m1, m2 = self.args\n",
    "        rho = PhaseSpaceFactor(s, m1, m2)\n",
    "        return (\n",
    "            1 / sp.pi\n",
    "            + (m1**2 - m2**2) / (sp.pi * s) * sp.log(m2 / m1)\n",
    "            - (m1**2 + m2**2) / (sp.pi * (m1**2 - m2**2)) * sp.log(m2 / m1)\n",
    "            + rho\n",
    "            / sp.pi\n",
    "            * sp.log(\n",
    "                (sp.sqrt((m1 + m2) ** 2 - s) - sp.sqrt((m1 - m2) ** 2 - s))\n",
    "                / (sp.sqrt((m1 + m2) ** 2 - s) + sp.sqrt((m1 - m2) ** 2 - s))\n",
    "            )\n",
    "        )\n",
    "\n",
    "\n",
    "rho_bb_expr = ChewMandelstamBB(s, m1, m2)\n",
    "Math(aslatex({rho_bb_expr: rho_bb_expr.doit(deep=False)}))"
   ]
  },
  {
   "cell_type": "markdown",
   "metadata": {
    "editable": true,
    "slideshow": {
     "slide_type": ""
    },
    "tags": []
   },
   "source": [
    "### Visual comparison"
   ]
  },
  {
   "cell_type": "code",
   "execution_count": null,
   "metadata": {
    "editable": true,
    "slideshow": {
     "slide_type": ""
    },
    "tags": [
     "hide-input",
     "scroll-input",
     "full-width"
    ]
   },
   "outputs": [],
   "source": [
    "args = (s, m1, m2)\n",
    "cm_func = sp.lambdify(args, rho_cm_expr.doit())\n",
    "cm_bb_func = sp.lambdify(args, rho_bb_expr.doit())\n",
    "rho_func = sp.lambdify(args, rho_expr.doit())\n",
    "\n",
    "s_values = np.linspace(0, 2, 400)\n",
    "m1_val = 0.6\n",
    "m2_val = 0.4\n",
    "args = (m1_val, m2_val)\n",
    "\n",
    "cm_values = cm_func(s_values, *args)\n",
    "cm_bb_values = cm_bb_func(s_values, *args)\n",
    "rho_values = 1j * rho_func(s_values, *args)\n",
    "\n",
    "fig, axes = plt.subplots(figsize=(15, 6), ncols=3, sharex=True, sharey=True)\n",
    "ax1, ax2, ax3 = axes\n",
    "ax1.plot(s_values, cm_values.real, label=\"Real part\")\n",
    "ax1.plot(s_values, cm_values.imag, label=\"Imaginary part\")\n",
    "ax1.set_xlabel(\"Re(s)\")\n",
    "ax1.set_ylabel(\"Function value\")\n",
    "ax1.set_title(\"Chew Mandelstam Function\")\n",
    "ax1.legend()\n",
    "\n",
    "ax2.plot(s_values, rho_values.real, label=\"Real part\")\n",
    "ax2.plot(s_values, rho_values.imag, label=\"Imaginary part\")\n",
    "ax2.set_xlabel(\"Re(s)\")\n",
    "ax2.set_title(\"Phase Space Factor\")\n",
    "ax2.legend()\n",
    "\n",
    "ax3.plot(s_values, cm_bb_values.real, label=\"Real part\")\n",
    "ax3.plot(s_values, cm_bb_values.imag, label=\"Imaginary part\")\n",
    "ax3.set_xlabel(\"Re(s)\")\n",
    "ax3.set_title(\"Chew Mandelstam Function BB\")\n",
    "ax3.legend()\n",
    "\n",
    "ax2.set_ylim(-1.2, +1.6)\n",
    "plt.tight_layout()\n",
    "\n",
    "plt.show()"
   ]
  },
  {
   "cell_type": "markdown",
   "metadata": {
    "editable": true,
    "slideshow": {
     "slide_type": ""
    },
    "tags": []
   },
   "source": [
    "## Define parameters values for plotting "
   ]
  },
  {
   "cell_type": "markdown",
   "metadata": {
    "editable": true,
    "slideshow": {
     "slide_type": ""
    },
    "tags": []
   },
   "source": [
    "## T matrix definition with K matrix"
   ]
  },
  {
   "cell_type": "code",
   "execution_count": null,
   "metadata": {
    "editable": true,
    "slideshow": {
     "slide_type": ""
    },
    "tags": []
   },
   "outputs": [],
   "source": [
    "n_channels = 1\n",
    "I = sp.Identity(n_channels)\n",
    "K = sp.MatrixSymbol(\"K\", n_channels, n_channels)\n",
    "rho = sp.MatrixSymbol(\"rho\", n_channels, n_channels)"
   ]
  },
  {
   "cell_type": "code",
   "execution_count": null,
   "metadata": {},
   "outputs": [],
   "source": [
    "T = (I - sp.I * K * rho).inv() * K\n",
    "T"
   ]
  },
  {
   "cell_type": "code",
   "execution_count": null,
   "metadata": {
    "editable": true,
    "slideshow": {
     "slide_type": ""
    },
    "tags": []
   },
   "outputs": [],
   "source": [
    "T_explicit = T.as_explicit()\n",
    "T_explicit"
   ]
  },
  {
   "cell_type": "markdown",
   "metadata": {
    "editable": true,
    "slideshow": {
     "slide_type": ""
    },
    "tags": []
   },
   "source": [
    ":::{note}\n",
    "No Blatt-Weisskopf form factors because $L=0$.\n",
    ":::"
   ]
  },
  {
   "cell_type": "code",
   "execution_count": null,
   "metadata": {
    "editable": true,
    "jupyter": {
     "source_hidden": true
    },
    "slideshow": {
     "slide_type": ""
    },
    "tags": [
     "hide-input"
    ]
   },
   "outputs": [],
   "source": [
    "gamma, m0, w0 = sp.symbols(\"gamma m0 Gamma0\")\n",
    "k_expr = (gamma**2 * m0 * w0) / (s - m0**2)\n",
    "rho_expressions = {\n",
    "    K[0, 0]: k_expr,\n",
    "    rho[0, 0]: PhaseSpaceFactor(s, m1, m2),\n",
    "}\n",
    "cm_expressions = {\n",
    "    **rho_expressions,\n",
    "    rho[0, 0]: PhaseSpaceCM(s, m1, m2),\n",
    "}\n",
    "cm_conj_expressions = {\n",
    "    **rho_expressions,\n",
    "    rho[0, 0]: PhaseSpaceCM(s, m1, m2).conjugate(),\n",
    "}\n",
    "Math(aslatex(cm_expressions))"
   ]
  },
  {
   "cell_type": "code",
   "execution_count": null,
   "metadata": {
    "editable": true,
    "slideshow": {
     "slide_type": ""
    },
    "tags": [
     "hide-input"
    ]
   },
   "outputs": [],
   "source": [
    "T_rho_expr = T_explicit[0, 0].xreplace(rho_expressions)\n",
    "T_cm_expr = T_explicit[0, 0].xreplace(cm_expressions)\n",
    "T_cm_conj_expr = T_explicit[0, 0].xreplace(cm_conj_expressions)"
   ]
  },
  {
   "cell_type": "code",
   "execution_count": null,
   "metadata": {
    "editable": true,
    "slideshow": {
     "slide_type": ""
    },
    "tags": []
   },
   "outputs": [],
   "source": [
    "T_cm_expr.simplify(doit=False)"
   ]
  },
  {
   "cell_type": "markdown",
   "metadata": {
    "editable": true,
    "slideshow": {
     "slide_type": ""
    },
    "tags": []
   },
   "source": [
    "## Riemann sheet visualization"
   ]
  },
  {
   "cell_type": "markdown",
   "metadata": {
    "editable": true,
    "slideshow": {
     "slide_type": ""
    },
    "tags": []
   },
   "source": [
    "To get to the physical/unphysical Riemann sheet one uses XXXX which is derived from Schwarz reflection principle"
   ]
  },
  {
   "cell_type": "code",
   "execution_count": null,
   "metadata": {
    "editable": true,
    "mystnb": {
     "code_prompt_show": "Define numerical functions"
    },
    "slideshow": {
     "slide_type": ""
    },
    "tags": [
     "hide-input"
    ]
   },
   "outputs": [],
   "source": [
    "symbols = sp.Tuple(s, m1, m2, m0, w0, gamma)\n",
    "T_rho_func = sp.lambdify(symbols, T_rho_expr.doit())\n",
    "T_cm_func = sp.lambdify(symbols, T_cm_expr.doit())\n",
    "T_cm_conj_func = sp.lambdify(symbols, T_cm_conj_expr.doit())"
   ]
  },
  {
   "cell_type": "code",
   "execution_count": null,
   "metadata": {
    "editable": true,
    "mystnb": {
     "code_prompt_show": "Define meshgrid and parameter values"
    },
    "slideshow": {
     "slide_type": ""
    },
    "tags": [
     "hide-input"
    ]
   },
   "outputs": [],
   "source": [
    "epsilon = 1e-5\n",
    "x = np.linspace(0, 5, num=200)\n",
    "y = np.linspace(epsilon, 1, num=100)\n",
    "X, Y = np.meshgrid(x, y)\n",
    "Zn = X - Y * 1j\n",
    "Zp = X + Y * 1j\n",
    "\n",
    "values = {\n",
    "    m1: 0.9,\n",
    "    m2: 0.8,\n",
    "    m0: 3.1,\n",
    "    w0: 1.0,\n",
    "    gamma: 1,\n",
    "}\n",
    "args = eval(str(symbols[1:].xreplace(values)))\n",
    "\n",
    "Tp = T_rho_func(Zp**2, *args)\n",
    "Tn = T_rho_func(Zn**2, *args)\n",
    "\n",
    "Tp_cm = T_cm_func(Zp**2, *args)\n",
    "Tn_cm = T_cm_func(Zn**2, *args)\n",
    "\n",
    "Tp_cm_conj = T_cm_conj_func(Zp**2, *args)\n",
    "Tn_cm_conj = T_cm_conj_func(Zn**2, *args)"
   ]
  },
  {
   "cell_type": "code",
   "execution_count": null,
   "metadata": {
    "editable": true,
    "jupyter": {
     "source_hidden": true
    },
    "slideshow": {
     "slide_type": ""
    },
    "tags": [
     "full-width",
     "hide-input"
    ]
   },
   "outputs": [],
   "source": [
    "fig, axes = plt.subplots(figsize=(15, 6), ncols=2, sharey=True)\n",
    "ax1, ax2 = axes\n",
    "for ax in axes:\n",
    "    ax.set_xlabel(R\"$\\mathrm{Re}(s)$\")\n",
    "ax1.set_ylabel(\"Function Value\")\n",
    "\n",
    "ax1.plot(x, Tp_cm[0].imag)\n",
    "ax1.plot(x, Tn_cm_conj[0].imag)\n",
    "ax1.set_title(\"Chew Mandelstam Function\")\n",
    "\n",
    "ax2.plot(x, Tp[0].imag)\n",
    "ax2.plot(x, Tn[0].imag)\n",
    "ax2.set_title(\"Phsp Function\")\n",
    "\n",
    "fig.tight_layout()\n",
    "plt.show()"
   ]
  },
  {
   "cell_type": "code",
   "execution_count": null,
   "metadata": {
    "editable": true,
    "jupyter": {
     "source_hidden": true
    },
    "slideshow": {
     "slide_type": ""
    },
    "tags": [
     "hide-input",
     "scroll-input"
    ]
   },
   "outputs": [],
   "source": [
    "def sty(sheet_name: str) -> dict:\n",
    "    sheet_color = sheet_colors[sheet_name]\n",
    "    n_lines = 16\n",
    "    return dict(\n",
    "        cmin=-vmax,\n",
    "        cmax=+vmax,\n",
    "        colorscale=[[0, \"rgb(0, 0, 0)\"], [1, sheet_color]],\n",
    "        contours=dict(\n",
    "            x=dict(\n",
    "                show=True,\n",
    "                start=x.min(),\n",
    "                end=x.max(),\n",
    "                size=(x.max() - x.min()) / n_lines,\n",
    "                color=\"black\",\n",
    "            ),\n",
    "            y=dict(\n",
    "                show=True,\n",
    "                start=-y.max(),\n",
    "                end=+y.max(),\n",
    "                size=(y.max() - y.min()) / (n_lines // 2),\n",
    "                color=\"black\",\n",
    "            ),\n",
    "        ),\n",
    "        name=sheet_name,\n",
    "        opacity=0.6,\n",
    "        showscale=False,\n",
    "    )\n",
    "\n",
    "\n",
    "vmax = 1.6\n",
    "project = np.imag\n",
    "projection_text = \"Imaginary\"\n",
    "sheet_colors = {\n",
    "    \"Unphysical\": \"blue\",\n",
    "    \"Physical\": \"red\",\n",
    "}"
   ]
  },
  {
   "cell_type": "code",
   "execution_count": null,
   "metadata": {
    "editable": true,
    "jp-MarkdownHeadingCollapsed": true,
    "jupyter": {
     "source_hidden": true
    },
    "slideshow": {
     "slide_type": ""
    },
    "tags": [
     "hide-input",
     "scroll-input"
    ]
   },
   "outputs": [],
   "source": [
    "Sn = go.Surface(x=X, y=-Y, z=project(Tn), **sty(\"Unphysical\"))\n",
    "Sp = go.Surface(x=X, y=+Y, z=project(Tp), **sty(\"Physical\"))\n",
    "zeros = np.zeros(x.shape)\n",
    "\n",
    "line_rho = go.Scatter3d(\n",
    "    x=x,\n",
    "    y=zeros,\n",
    "    z=project(Tp[0]),\n",
    "    line={\"color\": \"black\", \"width\": 4},\n",
    "    mode=\"lines\",\n",
    "    name=\"Lineshape\",\n",
    ")\n",
    "\n",
    "threshold_point = go.Scatter3d(\n",
    "    x=[float((m1 + m2).subs(values) ** 2)],\n",
    "    y=[0],\n",
    "    z=[0],\n",
    "    mode=\"markers\",\n",
    "    marker={\"color\": \"black\", \"size\": 5},\n",
    "    name=\"Threshold\",\n",
    ")\n",
    "fig = go.Figure(data=[Sn, Sp, line_rho, threshold_point])\n",
    "fig.update_layout(\n",
    "    height=550,\n",
    "    width=600,\n",
    "    showlegend=False,\n",
    "    title_text=(\n",
    "        f\"{projection_text} part of T function with standard phase space factor\"\n",
    "    ),\n",
    ")\n",
    "fig.update_scenes(\n",
    "    xaxis_title_text=\"Re s\",\n",
    "    yaxis_title_text=\"Im s\",\n",
    "    zaxis_range=[-vmax, +vmax],\n",
    ")\n",
    "\n",
    "fig.show()"
   ]
  },
  {
   "cell_type": "code",
   "execution_count": null,
   "metadata": {
    "editable": true,
    "jupyter": {
     "source_hidden": true
    },
    "slideshow": {
     "slide_type": ""
    },
    "tags": [
     "full-width",
     "hide-input",
     "scroll-input"
    ]
   },
   "outputs": [],
   "source": [
    "Sn_cm = go.Surface(x=X, y=-Y, z=project(Tn_cm), **sty(\"Unphysical\"))\n",
    "Sp_cm = go.Surface(x=X, y=+Y, z=project(Tp_cm), **sty(\"Unphysical\"))\n",
    "\n",
    "Sn_cm_conj = go.Surface(x=X, y=-Y, z=project(Tn_cm_conj), **sty(\"Physical\"))\n",
    "Sp_cm_conj = go.Surface(x=X, y=+Y, z=project(Tp_cm_conj), **sty(\"Physical\"))\n",
    "\n",
    "intersection_points = []\n",
    "for i in range(len(x)):\n",
    "    intersection_points.append((x[i], 0, project(Tn_cm[0])[i]))\n",
    "\n",
    "intersection_points = np.array(intersection_points)\n",
    "intersection_line = go.Scatter3d(\n",
    "    x=intersection_points[:, 0],\n",
    "    y=intersection_points[:, 1],\n",
    "    z=intersection_points[:, 2],\n",
    "    mode=\"lines+markers\",\n",
    "    line=dict(color=\"yellow\", width=20),\n",
    "    marker=dict(size=1, color=\"pink\"),\n",
    "    name=\"Intersection Line\",\n",
    ")\n",
    "\n",
    "fig = make_subplots(\n",
    "    rows=1,\n",
    "    cols=3,\n",
    "    specs=[[{\"type\": \"surface\"}, {\"type\": \"surface\"}, {\"type\": \"scatter3d\"}]],\n",
    ")\n",
    "\n",
    "fig.add_trace(Sn_cm, row=1, col=1)\n",
    "fig.add_trace(Sp_cm, row=1, col=1)\n",
    "\n",
    "fig.add_trace(Sn_cm_conj, row=1, col=3)\n",
    "fig.add_trace(Sp_cm_conj, row=1, col=3)\n",
    "\n",
    "fig.add_trace(Sn_cm, row=1, col=2)\n",
    "fig.add_trace(Sp_cm_conj, row=1, col=2)\n",
    "\n",
    "fig.add_trace(intersection_line, row=1, col=2)\n",
    "\n",
    "fig.update_layout(\n",
    "    height=550,\n",
    "    width=1200,\n",
    "    showlegend=False,\n",
    "    title_text=f\"{projection_text} part of T function with Chew-Mandelstam\",\n",
    ")\n",
    "fig.update_scenes(\n",
    "    xaxis_title_text=\"Re s\",\n",
    "    yaxis_title_text=\"Im s\",\n",
    "    zaxis_range=[-vmax, +vmax],\n",
    ")\n",
    "fig.show()"
   ]
  },
  {
   "cell_type": "code",
   "execution_count": null,
   "metadata": {
    "editable": true,
    "jupyter": {
     "source_hidden": true
    },
    "slideshow": {
     "slide_type": ""
    },
    "tags": [
     "full-width",
     "scroll-input",
     "hide-input"
    ]
   },
   "outputs": [],
   "source": [
    "fig, axes = plt.subplots(figsize=(15, 5), ncols=3, sharey=True)\n",
    "ax1, ax2, ax3 = axes\n",
    "ax1.set_title(\"Unphysical\")\n",
    "ax2.set_title(\"Physical\")\n",
    "ax3.set_title(\"Physical and Unphysical\")\n",
    "ax1.set_ylabel(R\"$\\mathrm{Im} s$\")\n",
    "for ax in axes:\n",
    "    ax.set_xlabel(R\"$\\mathrm{Re} s$\")\n",
    "\n",
    "kwargs = dict(\n",
    "    cmap=plt.cm.coolwarm,\n",
    "    vmin=-vmax,\n",
    "    vmax=+vmax,\n",
    ")\n",
    "mesh = ax1.pcolormesh(X, -Y, project(Tn_cm), **kwargs)\n",
    "mesh = ax1.pcolormesh(X, +Y, project(Tp_cm), **kwargs)\n",
    "mesh = ax2.pcolormesh(X, -Y, project(Tn_cm_conj), **kwargs)\n",
    "mesh = ax2.pcolormesh(X, +Y, project(Tp_cm_conj), **kwargs)\n",
    "mesh = ax3.pcolormesh(X, +Y, project(Tp_cm), **kwargs)\n",
    "mesh = ax3.pcolormesh(X, -Y, project(Tn_cm_conj), **kwargs)\n",
    "fig.colorbar(mesh, ax=ax3, label=\"Physical and Unphysical\")\n",
    "\n",
    "fig.tight_layout()\n",
    "plt.show()"
   ]
  },
  {
   "cell_type": "markdown",
   "metadata": {
    "editable": true,
    "slideshow": {
     "slide_type": ""
    },
    "tags": []
   },
   "source": [
    "## k-plane plots "
   ]
  },
  {
   "cell_type": "code",
   "execution_count": null,
   "metadata": {
    "editable": true,
    "slideshow": {
     "slide_type": ""
    },
    "tags": []
   },
   "outputs": [],
   "source": [
    "k = sp.Symbol(\"k\")\n",
    "s_to_k_expr = sp.sqrt(((s - (m1 + m2) ** 2) * (s - (m1 - m2) ** 2)) / (4 * s))\n",
    "equation = sp.Eq(k, s_to_k_expr)\n",
    "solutions = sp.solve(equation, s)\n",
    "Math(aslatex(solutions))"
   ]
  },
  {
   "cell_type": "code",
   "execution_count": null,
   "metadata": {
    "editable": true,
    "slideshow": {
     "slide_type": ""
    },
    "tags": []
   },
   "outputs": [],
   "source": [
    "k_to_s_expr = solutions[1]\n",
    "k_to_s_func = sp.lambdify([k, m1, m2], k_to_s_expr.doit())"
   ]
  },
  {
   "cell_type": "code",
   "execution_count": null,
   "metadata": {
    "editable": true,
    "jupyter": {
     "source_hidden": true
    },
    "slideshow": {
     "slide_type": ""
    },
    "tags": [
     "hide-input",
     "scroll-input",
     "full-width"
    ]
   },
   "outputs": [],
   "source": [
    "T_max = np.linspace(-10, +10, num=200)\n",
    "ky = np.linspace(epsilon, 10, num=100)\n",
    "Xk, Yk = np.meshgrid(T_max, ky)\n",
    "Kn = Xk - Yk * 1j\n",
    "Kp = Xk + Yk * 1j\n",
    "\n",
    "Skn = k_to_s_func(Kn, m1_val, m2_val)\n",
    "Skp = k_to_s_func(Kp, m1_val, m2_val)\n",
    "\n",
    "Tp_cm_k = T_cm_func(Skp, *args)\n",
    "Tn_cm_k = T_cm_func(Skn, *args)\n",
    "Tp_cm_conj_k = T_cm_conj_func(Skp, *args)\n",
    "Tn_cm_conj_k = T_cm_conj_func(Skn, *args)\n",
    "\n",
    "fig, axes = plt.subplots(figsize=(15, 5), ncols=3, sharey=True)\n",
    "ax1, ax2, ax3 = axes\n",
    "ax1.set_title(\"Unphysical\")\n",
    "ax2.set_title(\"Physical\")\n",
    "ax3.set_title(\"Physical and Unphysical\")\n",
    "ax1.set_ylabel(R\"$\\mathrm{Im}(k)$\")\n",
    "for ax in axes:\n",
    "    ax.set_xlabel(R\"$\\mathrm{Re}(k)$\")\n",
    "\n",
    "k_max = 1e-10\n",
    "kwargs = dict(\n",
    "    cmap=plt.cm.coolwarm,\n",
    "    vmin=-k_max,\n",
    "    vmax=+k_max,\n",
    ")\n",
    "mesh = ax1.pcolormesh(Xk, +Yk, project(Tn_cm_k), **kwargs)\n",
    "mesh = ax1.pcolormesh(Xk, -Yk, project(Tp_cm_k), **kwargs)\n",
    "mesh = ax2.pcolormesh(Xk, +Yk, project(Tn_cm_conj_k), **kwargs)\n",
    "mesh = ax2.pcolormesh(Xk, -Yk, project(Tp_cm_conj_k), **kwargs)\n",
    "mesh = ax3.pcolormesh(Xk, -Yk, project(Tp_cm_k), **kwargs)\n",
    "mesh = ax3.pcolormesh(Xk, +Yk, project(Tn_cm_conj_k), **kwargs)\n",
    "fig.colorbar(mesh, ax=ax3)\n",
    "\n",
    "fig.tight_layout()\n",
    "plt.show()"
   ]
  }
 ],
 "metadata": {
  "colab": {
   "toc_visible": true
  },
  "kernelspec": {
   "display_name": "Python 3 (ipykernel)",
   "language": "python",
   "name": "python3"
  },
  "language_info": {
   "codemirror_mode": {
    "name": "ipython",
    "version": 3
   },
   "file_extension": ".py",
   "mimetype": "text/x-python",
   "name": "python",
   "nbconvert_exporter": "python",
   "pygments_lexer": "ipython3",
   "version": "3.10.13"
  },
  "orphan": true
 },
 "nbformat": 4,
 "nbformat_minor": 4
}
