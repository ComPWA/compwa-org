{
 "cells": [
  {
   "cell_type": "code",
   "execution_count": null,
   "metadata": {
    "hideCode": true,
    "hideOutput": true,
    "hidePrompt": true,
    "jupyter": {
     "source_hidden": true
    },
    "slideshow": {
     "slide_type": "skip"
    },
    "tags": [
     "remove-cell"
    ]
   },
   "outputs": [],
   "source": [
    "import os\n",
    "\n",
    "STATIC_WEB_PAGE = {\"EXECUTE_NB\", \"READTHEDOCS\"}.intersection(os.environ)"
   ]
  },
  {
   "cell_type": "markdown",
   "metadata": {
    "editable": true,
    "slideshow": {
     "slide_type": ""
    },
    "tags": []
   },
   "source": [
    "```{autolink-concat}\n",
    "```"
   ]
  },
  {
   "cell_type": "markdown",
   "metadata": {
    "editable": true,
    "slideshow": {
     "slide_type": ""
    },
    "tags": [
     "documentation",
     "jupyter",
     "sphinx",
     "3d"
    ]
   },
   "source": [
    "::::{margin}\n",
    ":::{card} PWA101: Amplitude Analysis with Python basics\n",
    "TR-999\n",
    "^^^\n",
    "+++\n",
    "✅&nbsp;[ComPWA/RUB-EP1-AG#93](https://github.com/ComPWA/RUB-EP1-AG/issues/93)\n",
    ":::\n",
    "::::"
   ]
  },
  {
   "cell_type": "markdown",
   "metadata": {
    "editable": true,
    "slideshow": {
     "slide_type": ""
    },
    "tags": []
   },
   "source": [
    "# Amplitude Analysis 101"
   ]
  },
  {
   "cell_type": "code",
   "execution_count": null,
   "metadata": {
    "editable": true,
    "slideshow": {
     "slide_type": ""
    },
    "tags": [
     "remove-cell"
    ]
   },
   "outputs": [],
   "source": [
    "%pip install -q \"phasespace[fromdecay]\"==1.9.0 gdown==4.7.1 iminuit==2.25.2 matplotlib==3.7.3 numpy==1.24.4 particle==0.23.0 scipy==1.10.1 vector==1.1.1.post1"
   ]
  },
  {
   "cell_type": "code",
   "execution_count": null,
   "metadata": {
    "editable": true,
    "mystnb": {
     "code_prompt_show": "Import Python libraries"
    },
    "slideshow": {
     "slide_type": ""
    },
    "tags": [
     "hide-cell"
    ]
   },
   "outputs": [],
   "source": [
    "from __future__ import annotations\n",
    "\n",
    "import logging\n",
    "import os\n",
    "import warnings\n",
    "\n",
    "import matplotlib as mpl\n",
    "import matplotlib.pyplot as plt\n",
    "import numpy as np\n",
    "import scipy as sp\n",
    "import vector\n",
    "from matplotlib import gridspec\n",
    "from vector.backends.numpy import MomentumNumpy4D\n",
    "\n",
    "os.environ[\"TF_CPP_MIN_LOG_LEVEL\"] = \"3\"\n",
    "logging.disable(logging.WARNING)\n",
    "warnings.filterwarnings(\"ignore\")"
   ]
  },
  {
   "cell_type": "markdown",
   "metadata": {
    "editable": true,
    "slideshow": {
     "slide_type": ""
    },
    "tags": []
   },
   "source": [
    "This document serves as an introduction to Amplitude Analysis / Partial Wave Analysis (PWA) by demonstrating its application to a specific reaction channel and amplitude model below, utilizing basic Python programming (e.g. `numpy`, `scipy`, ...). Before advancing to the complexities of symbolic expressions (computations) with `sympy`, this tutorial aims to equip readers with a basic understanding of PWA methodologies and full workflow in the context of hadron physics through a practical, hands-on example."
   ]
  },
  {
   "cell_type": "markdown",
   "metadata": {
    "editable": true,
    "slideshow": {
     "slide_type": ""
    },
    "tags": []
   },
   "source": [
    "## Amplitude model"
   ]
  },
  {
   "cell_type": "markdown",
   "metadata": {
    "editable": true,
    "slideshow": {
     "slide_type": ""
    },
    "tags": []
   },
   "source": [
    "<!-- cspell:ignore Mathieu -->\n",
    "This amplitude model is adapted from the [Lecture 11 in STRONG2020 HaSP School](https://indico.ific.uv.es/event/6803/contributions/21223/) by Vincent Mathieu.\n",
    "\n",
    "The (photo-production) reaction is $ \\gamma p \\to \\eta \\pi^0 p$, it is described by a amplitude model with three possible resonances: $a_2$, $\\Delta^+$, and $N^*$. "
   ]
  },
  {
   "cell_type": "markdown",
   "metadata": {
    "editable": true,
    "slideshow": {
     "slide_type": ""
    },
    "tags": [
     "full-width"
    ]
   },
   "source": [
    "```{image} https://github.com/ComPWA/compwa-org/assets/17490173/ec6bf191-bd5f-43b0-a6cb-da470b071630\n",
    ":width: 100%\n",
    "```"
   ]
  },
  {
   "cell_type": "markdown",
   "metadata": {
    "editable": true,
    "slideshow": {
     "slide_type": ""
    },
    "tags": []
   },
   "source": [
    "$$\n",
    "\\begin{eqnarray}\n",
    "A^{12} &=& \\frac{\\sum a_m Y_2^m (\\Omega_1)}{s-m^2_{a_2}+im_{a_2} \\Gamma_{a_2}} \\times s^{0.5+0.9u_3}  \\nonumber \\\\\n",
    "A^{23} &=& \\frac{\\sum b_m Y_1^m (\\Omega_2)}{s-m^2_{\\Delta}+im_{\\Delta} \\Gamma_{\\Delta}} \\times s^{0.5+0.9t_1}  \\nonumber \\\\\n",
    "A^{31} &=& \\frac{c_0}{s-m^2_{N^*}+im_{N^*} \\Gamma_{N^*}} \\times s^{1.08+0.2t_2} \n",
    "\\end{eqnarray}\n",
    "$$ (full_model_label)\n",
    "\n",
    "where $s, t, u$ are the Mandelstam variables $s_{ij}=(p_i+p_j)^2$, $t_i=(p_a-p_i)^2$, and $u_i=(p_b-p_i)^2$."
   ]
  },
  {
   "cell_type": "markdown",
   "metadata": {
    "editable": true,
    "slideshow": {
     "slide_type": ""
    },
    "tags": []
   },
   "source": [
    "The original full amplitude model from the [Lecture 11 in STRONG2020 HaSP School](https://indico.ific.uv.es/event/6803/contributions/21223/) is shown in equation {eq}`full_model_label`.\n",
    "\n",
    "But since some unreasonable distributions in the following sections that we noticed (to be further investigated...) , only the Breit-Wigner and Spherical harmonics terms are kept for doing PWA eventually (The exponential mandelstam variable term is abandoned), as shown in equation {eq}`BW_SH_label`."
   ]
  },
  {
   "cell_type": "markdown",
   "metadata": {
    "editable": true,
    "slideshow": {
     "slide_type": ""
    },
    "tags": []
   },
   "source": [
    "$$\n",
    "\\begin{eqnarray}\n",
    "A^{12} &=& \\frac{\\sum a_m Y_2^m (\\Omega_1)}{s-m^2_{a_2}+im_{a_2} \\Gamma_{a_2}} \\\\\n",
    "A^{23} &=& \\frac{\\sum b_m Y_1^m (\\Omega_2)}{s-m^2_{\\Delta}+im_{\\Delta} \\Gamma_{\\Delta}}  \\\\\n",
    "A^{31} &=& \\frac{c_0}{s-m^2_{N^*}+im_{N^*} \\Gamma_{N^*}} \n",
    "\\end{eqnarray}\n",
    "$$ (BW_SH_label)"
   ]
  },
  {
   "cell_type": "markdown",
   "metadata": {
    "editable": true,
    "slideshow": {
     "slide_type": ""
    },
    "tags": []
   },
   "source": [
    "with  intensity $I$ and amplitude $A$:\n",
    "\n",
    "$$\n",
    "\\begin{eqnarray}\n",
    "I &=& |A|^2 \\nonumber \\\\\n",
    "A &=& A^{12} + A^{23} + A^{31}  \\\\\n",
    "\\end{eqnarray}\n",
    "$$ (123_label)\n",
    "\n",
    "where $\\quad 1 \\equiv \\eta ; \\quad  2 \\equiv \\pi^0 ; \\quad 3 \\equiv p$"
   ]
  },
  {
   "cell_type": "markdown",
   "metadata": {
    "editable": true,
    "slideshow": {
     "slide_type": ""
    },
    "tags": []
   },
   "source": [
    ":::{note}\n",
    "The ultimate choice of the amplitude model (equations (2) and (3)) for PWA in this tutorial consists of three resonances, and each of them are formed by two terms: Breit-Wigner with Spherical harmonics (or a constant).\n",
    ":::"
   ]
  },
  {
   "cell_type": "markdown",
   "metadata": {
    "editable": true,
    "slideshow": {
     "slide_type": ""
    },
    "tags": []
   },
   "source": [
    "## Number of events"
   ]
  },
  {
   "cell_type": "markdown",
   "metadata": {},
   "source": [
    "The number of events for phase generation and data generation can be changed in this section."
   ]
  },
  {
   "cell_type": "code",
   "execution_count": null,
   "metadata": {
    "editable": true,
    "slideshow": {
     "slide_type": ""
    },
    "tags": []
   },
   "outputs": [],
   "source": [
    "phsp_events = 1_000_000\n",
    "data_events = 500_000"
   ]
  },
  {
   "cell_type": "markdown",
   "metadata": {
    "editable": true,
    "slideshow": {
     "slide_type": ""
    },
    "tags": []
   },
   "source": [
    "## Phase space generation"
   ]
  },
  {
   "cell_type": "markdown",
   "metadata": {
    "editable": true,
    "slideshow": {
     "slide_type": ""
    },
    "tags": []
   },
   "source": [
    "In this section, the phase space of this reaction is generated using [`phasespace`](https://github.com/zfit/phasespace) python package.\n",
    "\n",
    "Phase space represents the set of all possible states (positions and momenta) of a system.\n",
    "It is critical for understanding the outcomes of particle collisions, decays, and interactions.\n",
    "It allows physicists to calculate the likelihood of various final states given a set of initial conditions, taking into account conservation laws (energy, momentum, angular momentum, etc.).\n",
    "The volume of phase space available for a particular process is directly related to the probability of that process occurring.\n",
    "\n",
    "Firstly, in CM frame the 4-momentum of the total system can be acquired by 4-momentum conservation:"
   ]
  },
  {
   "cell_type": "markdown",
   "metadata": {
    "editable": true,
    "slideshow": {
     "slide_type": ""
    },
    "tags": []
   },
   "source": [
    "$$\\begin{pmatrix}\n",
    " E_0 \\\\\n",
    " 0 \\\\\n",
    " 0 \\\\\n",
    " 0\n",
    "\\end{pmatrix}\n",
    "= \\begin{pmatrix}\n",
    " E_{\\gamma} \\\\\n",
    " 0 \\\\\n",
    " 0 \\\\\n",
    " p_z\n",
    "\\end{pmatrix} +\n",
    "\\begin{pmatrix}\n",
    " E_p \\\\\n",
    " 0 \\\\\n",
    " 0 \\\\\n",
    " -p_z\n",
    "\\end{pmatrix}\n",
    "= \\begin{pmatrix}\n",
    " E_{\\eta} \\\\\n",
    " p_{\\eta,x} \\\\\n",
    " p_{\\eta,y} \\\\\n",
    " p_{\\eta,z}\n",
    "\\end{pmatrix} +\n",
    "\\begin{pmatrix}\n",
    " E_{\\pi} \\\\\n",
    " p_{\\pi,x} \\\\\n",
    " p_{\\pi,y} \\\\\n",
    " p_{\\pi,z}\n",
    "\\end{pmatrix} +\n",
    "\\begin{pmatrix}\n",
    " E_p \\\\\n",
    " p_{p,x} \\\\\n",
    " p_{p,y} \\\\\n",
    " p_{p,z}\n",
    "\\end{pmatrix}\n",
    "$$ (4momentum_label)"
   ]
  },
  {
   "cell_type": "markdown",
   "metadata": {
    "editable": true,
    "slideshow": {
     "slide_type": ""
    },
    "tags": [
     "remove-cell"
    ]
   },
   "source": [
    "For the record, I need to add parameters of beam momentum and CM total energy"
   ]
  },
  {
   "cell_type": "markdown",
   "metadata": {},
   "source": [
    ":::{caution}\n",
    "The calculation here is in the CM frame, and usually for experiment it is in lab frame.\n",
    ":::"
   ]
  },
  {
   "cell_type": "markdown",
   "metadata": {},
   "source": [
    "$m_{\\gamma}=0$, \n",
    "\n",
    "$E_{\\gamma} = p_{\\gamma}$\n",
    "\n",
    "$E_{p} = \\sqrt { p_{p}^2+ m_{p}^2}$\n",
    "\n",
    "$m_0 = E_0 = |p_z|+\\sqrt{p_z^2+m_p^2}$"
   ]
  },
  {
   "cell_type": "markdown",
   "metadata": {},
   "source": [
    "The $\\gamma$ energy ($E_{\\gamma}$) and $\\gamma$ beam momentum ($p_{\\gamma}$) are as input in this analysis, they are:\n",
    "\n",
    "$E_{\\gamma} = p_{\\gamma} = 1.943718 GeV$"
   ]
  },
  {
   "cell_type": "markdown",
   "metadata": {},
   "source": [
    ":::{important}\n",
    "Beam momentum (energy) as input value. Assuming incoming $\\gamma$ beam to stationary proton target in photo-production experiment, e.g. GlueX.\n",
    ":::"
   ]
  },
  {
   "cell_type": "code",
   "execution_count": null,
   "metadata": {},
   "outputs": [],
   "source": [
    "p_beam = 1.943718\n",
    "m_proton = 0.938\n",
    "m_0 = p_beam + np.sqrt(p_beam**2 + m_proton**2)\n",
    "m_eta = 0.548\n",
    "m_pi = 0.135"
   ]
  },
  {
   "cell_type": "code",
   "execution_count": null,
   "metadata": {},
   "outputs": [],
   "source": [
    "m_0"
   ]
  },
  {
   "cell_type": "markdown",
   "metadata": {},
   "source": [
    "Thus, we then have the mass of the system $m_0$ (or $m_{p\\gamma}$ in this case) in CM frame:\n",
    "\n",
    "$$\n",
    "E_{0} = m_0\\approx 4.102 \\;\\; GeV \n",
    "$$"
   ]
  },
  {
   "cell_type": "markdown",
   "metadata": {
    "editable": true,
    "slideshow": {
     "slide_type": ""
    },
    "tags": []
   },
   "source": [
    "Use of `phasespace` to generate decay particles (4-momentum and weights):"
   ]
  },
  {
   "cell_type": "code",
   "execution_count": null,
   "metadata": {
    "editable": true,
    "slideshow": {
     "slide_type": ""
    },
    "tags": []
   },
   "outputs": [],
   "source": [
    "import phasespace\n",
    "\n",
    "pγ_mass = m_0\n",
    "eta_mass = m_eta\n",
    "pi_mass = m_pi\n",
    "p_mass = m_proton\n",
    "\n",
    "weights, particles = phasespace.nbody_decay(\n",
    "    pγ_mass, [eta_mass, pi_mass, p_mass]\n",
    ").generate(n_events=phsp_events)"
   ]
  },
  {
   "cell_type": "markdown",
   "metadata": {
    "editable": true,
    "slideshow": {
     "slide_type": ""
    },
    "tags": []
   },
   "source": [
    "### 4 momentum of decay particles"
   ]
  },
  {
   "cell_type": "markdown",
   "metadata": {
    "editable": true,
    "slideshow": {
     "slide_type": ""
    },
    "tags": []
   },
   "source": [
    "The 4-momentum of decay particles $\\eta$ (1), $\\pi$ (2), and $p$ (3) in phase space to be generated:"
   ]
  },
  {
   "cell_type": "code",
   "execution_count": null,
   "metadata": {
    "editable": true,
    "slideshow": {
     "slide_type": ""
    },
    "tags": []
   },
   "outputs": [],
   "source": [
    "import tensorflow as tf\n",
    "\n",
    "n_final_state = 3\n",
    "\n",
    "\n",
    "def generate_phsp_decay(\n",
    "    size: int,\n",
    ") -> tuple[MomentumNumpy4D, MomentumNumpy4D, MomentumNumpy4D]:\n",
    "    phsp_sample = generate_phsp_bunch(size)\n",
    "    while get_size(phsp_sample) < size:\n",
    "        bunch = generate_phsp_bunch(size)\n",
    "        phsp_sample = concatenate(phsp_sample, bunch)\n",
    "    phsp_sample = remove_overflow(phsp_sample, size)\n",
    "    return tuple(to_vector(tensor) for tensor in phsp_sample)\n",
    "\n",
    "\n",
    "def generate_phsp_bunch(size: int) -> tuple[tf.Tensor, tf.Tensor, tf.Tensor]:\n",
    "    rng = np.random.default_rng(seed=None)\n",
    "    weights, particles = phasespace.nbody_decay(\n",
    "        pγ_mass, [eta_mass, pi_mass, p_mass]\n",
    "    ).generate(n_events=size)\n",
    "    random_weights = rng.uniform(0, weights.numpy().max(), size=weights.shape)\n",
    "    selector = weights > random_weights\n",
    "    return tuple(particles[f\"p_{i}\"][selector] for i in range(n_final_state))\n",
    "\n",
    "\n",
    "def get_size(phsp: tuple[tf.Tensor, tf.Tensor, tf.Tensor]):\n",
    "    return len(phsp[0])\n",
    "\n",
    "\n",
    "def concatenate(\n",
    "    phsp1: tuple[tf.Tensor, tf.Tensor, tf.Tensor],\n",
    "    phsp2: tuple[tf.Tensor, tf.Tensor, tf.Tensor],\n",
    ") -> tuple[tf.Tensor, tf.Tensor, tf.Tensor]:\n",
    "    return tuple(tf.concat([phsp1[i], phsp2[i]], axis=0) for i in range(3))\n",
    "\n",
    "\n",
    "def remove_overflow(phsp: tuple[tf.Tensor, tf.Tensor, tf.Tensor], size: int):\n",
    "    return tuple(tensor[:size] for tensor in phsp)\n",
    "\n",
    "\n",
    "def to_vector(tensor: tf.Tensor) -> MomentumNumpy4D:\n",
    "    return vector.array({\n",
    "        key: tensor.numpy().T[j] for j, key in enumerate([\"px\", \"py\", \"pz\", \"E\"])\n",
    "    })"
   ]
  },
  {
   "cell_type": "code",
   "execution_count": null,
   "metadata": {
    "editable": true,
    "slideshow": {
     "slide_type": ""
    },
    "tags": [
     "hide-output"
    ]
   },
   "outputs": [],
   "source": [
    "%%time\n",
    "p1_phsp_test, p2_phsp_test, p3_phsp_test = generate_phsp_decay(size=phsp_events)"
   ]
  },
  {
   "cell_type": "markdown",
   "metadata": {
    "editable": true,
    "slideshow": {
     "slide_type": ""
    },
    "tags": []
   },
   "source": [
    "### 4 momentum of reaction particles"
   ]
  },
  {
   "cell_type": "markdown",
   "metadata": {
    "editable": true,
    "slideshow": {
     "slide_type": ""
    },
    "tags": []
   },
   "source": [
    "The 4 momentum of reaction particles $\\gamma$ (a) and $p$ (b) are generated."
   ]
  },
  {
   "cell_type": "markdown",
   "metadata": {
    "editable": true,
    "slideshow": {
     "slide_type": ""
    },
    "tags": []
   },
   "source": [
    "To find $p_a$ and $p_b$ by 4-momentum conservation, energy conservation in this case.\n",
    "With:\n",
    "\n",
    "$m_a = m_{\\gamma} =0$,\n",
    "\n",
    "$m_b = m_p$,\n",
    "\n",
    "$p_{a,x} = p_{a,y} = 0 = p_{b,x} = p_{b,y}$\n",
    "\n",
    "and\n",
    "\n",
    "$p_{a,z} = - p_{b,z}$\n",
    "\n",
    "\n",
    "$$\n",
    "E_a + E_b = E_1 + E_2 + E_3 = E_0\n",
    "$$\n",
    "\n",
    "$$\n",
    "\\sqrt{m_a^2 + p_a^2} + \\sqrt{m_b^2 + p_b^2} = E_0\n",
    "$$\n",
    "\n",
    "$$\n",
    "p_a + \\sqrt{m_b^2 + (-p_a)^2} = E_0\n",
    "$$\n",
    "\n",
    "$$\n",
    "p_{a,z} + \\sqrt{m_p^2 + p_a^2} - E_0 = 0\n",
    "$$\n",
    "\n",
    "thus\n",
    "\n",
    "$$\n",
    "p_{a,z} = \\frac{E_0^2 - m_p^2}{2E_0}\n",
    "$$\n",
    "\n",
    "then\n",
    "\n",
    "$$\n",
    "p_{b,z} = -p_{a,z}\n",
    "$$\n",
    "\n",
    "$$\n",
    "E_a =p_a\n",
    "$$\n",
    "\n",
    "$$\n",
    "E_{b} = \\sqrt{m_b^2+p_b^2}\n",
    "$$\n",
    "\n"
   ]
  },
  {
   "cell_type": "code",
   "execution_count": null,
   "metadata": {
    "editable": true,
    "slideshow": {
     "slide_type": ""
    },
    "tags": []
   },
   "outputs": [],
   "source": [
    "def compute_pa_pb(\n",
    "    p1_phsp: MomentumNumpy4D, p2_phsp: MomentumNumpy4D, p3_phsp: MomentumNumpy4D\n",
    ") -> tuple[MomentumNumpy4D, MomentumNumpy4D]:\n",
    "    shape = p1_phsp.shape\n",
    "    E_0 = (p1_phsp + p2_phsp + p3_phsp).e\n",
    "    px = np.zeros(shape)\n",
    "    py = np.zeros(shape)\n",
    "    pz = np.ones(shape) * (E_0**2 - p3_phsp.m.mean() ** 2) / (2 * E_0)\n",
    "    E = np.ones(shape) * np.sqrt((p3_phsp.m.mean()) ** 2 + pz.mean() ** 2)\n",
    "    pa_phsp = MomentumNumpy4D({\"E\": pz, \"px\": px, \"py\": py, \"pz\": pz})\n",
    "    pb_phsp = MomentumNumpy4D({\"E\": E, \"px\": px, \"py\": py, \"pz\": -pz})\n",
    "    return [pa_phsp, pb_phsp]"
   ]
  },
  {
   "cell_type": "code",
   "execution_count": null,
   "metadata": {
    "editable": true,
    "slideshow": {
     "slide_type": ""
    },
    "tags": []
   },
   "outputs": [],
   "source": [
    "%%time\n",
    "pa_phsp_test, pb_phsp_test = compute_pa_pb(p1_phsp_test, p2_phsp_test, p3_phsp_test)"
   ]
  },
  {
   "cell_type": "markdown",
   "metadata": {
    "editable": true,
    "slideshow": {
     "slide_type": ""
    },
    "tags": []
   },
   "source": [
    "### 4 momentum of all particles"
   ]
  },
  {
   "cell_type": "code",
   "execution_count": null,
   "metadata": {
    "editable": true,
    "slideshow": {
     "slide_type": ""
    },
    "tags": []
   },
   "outputs": [],
   "source": [
    "def generate_phsp_all(size: int):\n",
    "    p1_phsp, p2_phsp, p3_phsp = generate_phsp_decay(size)\n",
    "    pa_phsp, pb_phsp = compute_pa_pb(p1_phsp, p2_phsp, p3_phsp)\n",
    "    return [p1_phsp, p2_phsp, p3_phsp, pa_phsp, pb_phsp]"
   ]
  },
  {
   "cell_type": "code",
   "execution_count": null,
   "metadata": {
    "editable": true,
    "slideshow": {
     "slide_type": ""
    },
    "tags": []
   },
   "outputs": [],
   "source": [
    "%%time\n",
    "p1_phsp, p2_phsp, p3_phsp, pa_phsp, pb_phsp = generate_phsp_all(size=phsp_events)"
   ]
  },
  {
   "cell_type": "code",
   "execution_count": null,
   "metadata": {
    "editable": true,
    "slideshow": {
     "slide_type": ""
    },
    "tags": []
   },
   "outputs": [],
   "source": [
    "p0_phsp = pa_phsp + pb_phsp\n",
    "p12_phsp = p1_phsp + p2_phsp\n",
    "p23_phsp = p2_phsp + p3_phsp\n",
    "p31_phsp = p3_phsp + p1_phsp\n",
    "\n",
    "s12_phsp = p12_phsp.m2\n",
    "s23_phsp = p23_phsp.m2\n",
    "s31_phsp = p31_phsp.m2\n",
    "t1_phsp = (pa_phsp - p1_phsp).m2\n",
    "t2_phsp = (pa_phsp - p2_phsp).m2\n",
    "u3_phsp = (pb_phsp - p3_phsp).m2"
   ]
  },
  {
   "cell_type": "markdown",
   "metadata": {
    "editable": true,
    "slideshow": {
     "slide_type": ""
    },
    "tags": []
   },
   "source": [
    "Calculations with 4-vectors are performed with the [`vector`](https://vector.readthedocs.io/en/latest/usage/intro.html) package:"
   ]
  },
  {
   "cell_type": "code",
   "execution_count": null,
   "metadata": {
    "editable": true,
    "jupyter": {
     "source_hidden": true
    },
    "slideshow": {
     "slide_type": ""
    },
    "tags": [
     "hide-cell"
    ]
   },
   "outputs": [],
   "source": [
    "np.testing.assert_almost_equal(\n",
    "    s12_phsp,\n",
    "    (p1_phsp.e + p2_phsp.e) ** 2\n",
    "    - (\n",
    "        p1_phsp.p**2\n",
    "        + p2_phsp.p**2\n",
    "        + 2\n",
    "        * (p1_phsp.px * p2_phsp.px + p1_phsp.py * p2_phsp.py + p1_phsp.pz * p2_phsp.pz)\n",
    "    ),\n",
    ")"
   ]
  },
  {
   "cell_type": "code",
   "execution_count": null,
   "metadata": {
    "editable": true,
    "jupyter": {
     "source_hidden": true
    },
    "slideshow": {
     "slide_type": ""
    },
    "tags": [
     "hide-cell"
    ]
   },
   "outputs": [],
   "source": [
    "np.testing.assert_almost_equal(p0_phsp.p2.max(), 0)"
   ]
  },
  {
   "cell_type": "code",
   "execution_count": null,
   "metadata": {
    "editable": true,
    "jupyter": {
     "source_hidden": true
    },
    "slideshow": {
     "slide_type": ""
    },
    "tags": [
     "hide-cell"
    ]
   },
   "outputs": [],
   "source": [
    "np.testing.assert_almost_equal(\n",
    "    t1_phsp,\n",
    "    (pa_phsp.e - p1_phsp.e) ** 2\n",
    "    - (\n",
    "        pa_phsp.p**2\n",
    "        + p1_phsp.p**2\n",
    "        - 2\n",
    "        * (pa_phsp.px * p1_phsp.px + pa_phsp.py * p1_phsp.py + pa_phsp.pz * p1_phsp.pz)\n",
    "    ),\n",
    ")\n",
    "np.testing.assert_almost_equal(\n",
    "    t2_phsp,\n",
    "    (pa_phsp.e - p2_phsp.e) ** 2\n",
    "    - (\n",
    "        pa_phsp.p**2\n",
    "        + p2_phsp.p**2\n",
    "        - 2\n",
    "        * (pa_phsp.px * p2_phsp.px + pa_phsp.py * p2_phsp.py + pa_phsp.pz * p2_phsp.pz)\n",
    "    ),\n",
    ")\n",
    "np.testing.assert_almost_equal(\n",
    "    u3_phsp,\n",
    "    (pb_phsp.e - p3_phsp.e) ** 2\n",
    "    - (\n",
    "        pb_phsp.p**2\n",
    "        + p3_phsp.p**2\n",
    "        - 2\n",
    "        * (pb_phsp.px * p3_phsp.px + pb_phsp.py * p3_phsp.py + pb_phsp.pz * p3_phsp.pz)\n",
    "    ),\n",
    ")"
   ]
  },
  {
   "cell_type": "markdown",
   "metadata": {},
   "source": [
    "### Dalitz Plot of Phase Space"
   ]
  },
  {
   "cell_type": "code",
   "execution_count": null,
   "metadata": {
    "editable": true,
    "slideshow": {
     "slide_type": ""
    },
    "tags": [
     "full-width",
     "hide-input"
    ]
   },
   "outputs": [],
   "source": [
    "fig = plt.figure(figsize=(12, 5))\n",
    "fig.suptitle(\"Phase Space Dalitz Plot\")\n",
    "gs = gridspec.GridSpec(1, 3, width_ratios=[1, 1, 0.05])  # The last column for colorbar\n",
    "ax1 = plt.subplot(gs[0])\n",
    "ax2 = plt.subplot(gs[1])\n",
    "cax = plt.subplot(gs[2])  # For colorbar\n",
    "\n",
    "hist2 = ax2.hist2d(\n",
    "    s12_phsp,\n",
    "    s23_phsp,\n",
    "    bins=100,\n",
    "    cmin=1e-2,\n",
    "    density=True,\n",
    "    cmap=\"jet\",\n",
    "    range=[[0, 10.3], [0.5, 13]],\n",
    ")\n",
    "ax2.set_title(\"2D Histogram\")\n",
    "ax2.set_xlabel(R\"$s_{12}\\;\\left[\\mathrm{GeV}^2\\right]$\")\n",
    "\n",
    "scat1 = ax1.scatter(s12_phsp, s23_phsp, s=1e-4, c=\"black\", norm=mpl.colors.Normalize())\n",
    "ax1.set_xlabel(R\"$s_{12}\\;\\left[\\mathrm{GeV}^2\\right]$\")\n",
    "ax1.set_ylabel(R\"$s_{23}\\;\\left[\\mathrm{GeV}^2\\right]$\")\n",
    "ax1.set_title(\"Scatter Plot\")\n",
    "\n",
    "cbar2 = fig.colorbar(hist2[3], cax=cax)\n",
    "fig.tight_layout()\n",
    "fig.show()"
   ]
  },
  {
   "cell_type": "markdown",
   "metadata": {
    "editable": true,
    "slideshow": {
     "slide_type": ""
    },
    "tags": []
   },
   "source": [
    ":::{note}\n",
    "Different choice of plotting Dalitz plot: 2D histogram or scatter plot.\n",
    ":::"
   ]
  },
  {
   "cell_type": "markdown",
   "metadata": {
    "editable": true,
    "slideshow": {
     "slide_type": ""
    },
    "tags": []
   },
   "source": [
    "## Helicity angles calculation"
   ]
  },
  {
   "cell_type": "markdown",
   "metadata": {
    "editable": true,
    "slideshow": {
     "slide_type": ""
    },
    "tags": []
   },
   "source": [
    "Before boosting"
   ]
  },
  {
   "cell_type": "markdown",
   "metadata": {
    "editable": true,
    "slideshow": {
     "slide_type": ""
    },
    "tags": []
   },
   "source": [
    "<iframe src=\"https://www.geogebra.org/3d/dgjn83pb?embed\" width=\"800\" height=\"600\" allowfullscreen style=\"border: 1px solid #e4e4e4;border-radius: 4px;\" frameborder=\"0\"></iframe>"
   ]
  },
  {
   "cell_type": "markdown",
   "metadata": {
    "editable": true,
    "slideshow": {
     "slide_type": ""
    },
    "tags": []
   },
   "source": [
    "After Boosted into system$_{12}$ rest frame"
   ]
  },
  {
   "cell_type": "markdown",
   "metadata": {
    "editable": true,
    "slideshow": {
     "slide_type": ""
    },
    "tags": []
   },
   "source": [
    "<iframe src=\"https://www.geogebra.org/3d/tv5kr8pp?embed\" width=\"800\" height=\"600\" allowfullscreen style=\"border: 1px solid #e4e4e4;border-radius: 4px;\" frameborder=\"0\"></iframe>"
   ]
  },
  {
   "cell_type": "markdown",
   "metadata": {},
   "source": [
    ":::{important}\n",
    "In helicity formalism\n",
    ":::"
   ]
  },
  {
   "cell_type": "markdown",
   "metadata": {
    "editable": true,
    "slideshow": {
     "slide_type": ""
    },
    "tags": []
   },
   "source": [
    "The Helicity angle between decay products(Polar Angles):\n",
    "\n",
    "$$\n",
    "\\theta = \\arccos \\frac{p_z}{|p|}\n",
    "$$"
   ]
  },
  {
   "cell_type": "markdown",
   "metadata": {
    "editable": true,
    "slideshow": {
     "slide_type": ""
    },
    "tags": []
   },
   "source": [
    "The Helicity angle with the production plane and decay plane(Azimuthal Angles):\n",
    "\n",
    "$$\n",
    "\\phi = \\arctan2(p_y , p_x)\n",
    "$$"
   ]
  },
  {
   "cell_type": "markdown",
   "metadata": {
    "editable": true,
    "slideshow": {
     "slide_type": ""
    },
    "tags": []
   },
   "source": [
    "The helicity angle between decay product before boost:"
   ]
  },
  {
   "cell_type": "markdown",
   "metadata": {
    "editable": true,
    "slideshow": {
     "slide_type": ""
    },
    "tags": []
   },
   "source": [
    "The helicity angles $\\Omega_i$ are pairs of Euler angles $\\Omega_i = \\left(\\theta_i, \\phi_i\\right)$:\n",
    "- Opening angle $\\theta_1 \\equiv \\theta^{12}_1$ of four-momentum $p_1$ is the angle between $p'_1 \\equiv p^{12}_1$ and $p_{12}$.\n",
    "- The angle $\\phi_1 \\equiv \\phi^{12}_1$ defines the angle between the **production plane** spanned by $p_{12}$ and $p_3$ and the **decay plane** spanned by $p^{(\\prime)}_1$ and $p^{(\\prime)}_2$.\n",
    "\n",
    "The helicity angles of the other subsystems are defined by cyclic permutation of the indices, such that $\\theta_2 \\equiv \\theta^{12}_2$ and $\\theta_3 \\equiv \\theta^{31}_1$.\n",
    "\n",
    "To calculate the helicity angles $\\theta$ and $\\phi$, a combination of boost and rotation (in Y and Z axis) in CM frame is defined:"
   ]
  },
  {
   "cell_type": "code",
   "execution_count": null,
   "metadata": {
    "editable": true,
    "slideshow": {
     "slide_type": ""
    },
    "tags": []
   },
   "outputs": [],
   "source": [
    "def theta_helicity(p_i: MomentumNumpy4D, p_ij: MomentumNumpy4D):\n",
    "    return p_i.rotateZ(-p_ij.phi).rotateY(-p_ij.theta).boostZ(-p_ij.beta).theta\n",
    "\n",
    "\n",
    "def phi_helicity(p_i, p_ij):\n",
    "    return p_i.rotateZ(-p_ij.phi).rotateY(-p_ij.theta).boostZ(-p_ij.beta).phi"
   ]
  },
  {
   "cell_type": "code",
   "execution_count": null,
   "metadata": {
    "editable": true,
    "slideshow": {
     "slide_type": ""
    },
    "tags": []
   },
   "outputs": [],
   "source": [
    "theta1_phsp = theta_helicity(p1_phsp, p12_phsp)\n",
    "theta2_phsp = theta_helicity(p2_phsp, p23_phsp)\n",
    "theta3_phsp = theta_helicity(p3_phsp, p31_phsp)\n",
    "phi1_phsp = phi_helicity(p1_phsp, p12_phsp)\n",
    "phi2_phsp = phi_helicity(p2_phsp, p23_phsp)\n",
    "phi3_phsp = phi_helicity(p3_phsp, p31_phsp)"
   ]
  },
  {
   "cell_type": "markdown",
   "metadata": {
    "editable": true,
    "slideshow": {
     "slide_type": ""
    },
    "tags": []
   },
   "source": [
    "### Angular distributions and invariance mass"
   ]
  },
  {
   "cell_type": "code",
   "execution_count": null,
   "metadata": {
    "editable": true,
    "jupyter": {
     "source_hidden": true
    },
    "slideshow": {
     "slide_type": ""
    },
    "tags": [
     "full-width",
     "hide-input"
    ]
   },
   "outputs": [],
   "source": [
    "def plot_helicity_angles_2d(\n",
    "    phi1, phi2, phi3, theta1, theta2, theta3, title: str\n",
    ") -> None:\n",
    "    fig, axes = plt.subplots(figsize=(13, 4), ncols=3, sharey=True)\n",
    "    for i, ax in enumerate(axes, 1):\n",
    "        ax.set_xlabel(Rf\"$\\theta_{i}$\")\n",
    "        ax.set_ylabel(Rf\"$\\phi_{i}$\")\n",
    "    axes[0].hist2d(theta1[~np.isnan(phi1)], phi1[~np.isnan(phi1)], bins=100)\n",
    "    axes[1].hist2d(theta2[~np.isnan(phi2)], phi2[~np.isnan(phi2)], bins=100)\n",
    "    axes[2].hist2d(theta3[~np.isnan(phi3)], phi3[~np.isnan(phi3)], bins=100)\n",
    "    fig.suptitle(title)\n",
    "    fig.tight_layout()\n",
    "    plt.show()\n",
    "\n",
    "\n",
    "plot_helicity_angles_2d(\n",
    "    phi1_phsp,\n",
    "    phi2_phsp,\n",
    "    phi3_phsp,\n",
    "    theta1_phsp,\n",
    "    theta2_phsp,\n",
    "    theta3_phsp,\n",
    "    title=\"Phase space\",\n",
    ")"
   ]
  },
  {
   "cell_type": "code",
   "execution_count": null,
   "metadata": {
    "editable": true,
    "jupyter": {
     "source_hidden": true
    },
    "slideshow": {
     "slide_type": ""
    },
    "tags": [
     "hide-input",
     "full-width"
    ]
   },
   "outputs": [],
   "source": [
    "fig, (theta_ax, phi_ax, mass_ax) = plt.subplots(figsize=(13, 11), ncols=3, nrows=3)\n",
    "for i, ax in enumerate(theta_ax, 1):\n",
    "    ax.set_title(Rf\"$\\theta_{i}$\")\n",
    "    ax.set_xticks([0, np.pi / 2, np.pi])\n",
    "    ax.set_xticklabels([\"0\", R\"$\\frac{\\pi}{2}$\", R\"$\\pi$\"])\n",
    "for i, ax in enumerate(phi_ax, 1):\n",
    "    ax.set_title(Rf\"$\\phi_{i}$\")\n",
    "    ax.set_xticks([-np.pi, 0, np.pi])\n",
    "    ax.set_xticklabels([R\"-$\\pi$\", 0, R\"$\\pi$\"])\n",
    "for i, ax in enumerate(mass_ax, 1):\n",
    "    ax.set_title(Rf\"$m_{{{i}{(i % 3 + 1)}}}$\")\n",
    "\n",
    "theta_ax[0].hist(\n",
    "    theta1_phsp,\n",
    "    bins=100,\n",
    "    label=\"phsp\",\n",
    ")\n",
    "theta_ax[1].hist(\n",
    "    theta2_phsp,\n",
    "    bins=100,\n",
    "    label=\"phsp\",\n",
    ")\n",
    "theta_ax[2].hist(\n",
    "    theta3_phsp,\n",
    "    bins=100,\n",
    "    label=\"phsp\",\n",
    ")\n",
    "\n",
    "phi_ax[0].hist(\n",
    "    phi1_phsp,\n",
    "    bins=50,\n",
    "    label=\"phsp\",\n",
    ")\n",
    "phi_ax[1].hist(\n",
    "    phi2_phsp,\n",
    "    bins=50,\n",
    "    label=\"phsp\",\n",
    ")\n",
    "phi_ax[2].hist(\n",
    "    phi3_phsp,\n",
    "    bins=50,\n",
    "    label=\"phsp\",\n",
    ")\n",
    "\n",
    "mass_ax[0].hist(\n",
    "    p12_phsp.m,\n",
    "    bins=100,\n",
    "    label=\"phsp\",\n",
    ")\n",
    "mass_ax[1].hist(\n",
    "    p23_phsp.m,\n",
    "    bins=100,\n",
    "    label=\"phsp\",\n",
    ")\n",
    "mass_ax[2].hist(\n",
    "    p31_phsp.m,\n",
    "    bins=100,\n",
    "    label=\"phsp\",\n",
    ")\n",
    "\n",
    "theta_ax[0].legend()\n",
    "phi_ax[0].legend()\n",
    "theta_ax[1].legend()\n",
    "phi_ax[1].legend()\n",
    "theta_ax[2].legend()\n",
    "phi_ax[2].legend()\n",
    "\n",
    "mass_ax[0].legend()\n",
    "mass_ax[1].legend()\n",
    "mass_ax[2].legend()\n",
    "\n",
    "\n",
    "fig.suptitle(R\"Helicity angles and invariant mass\")\n",
    "fig.tight_layout()\n",
    "plt.show()"
   ]
  },
  {
   "cell_type": "markdown",
   "metadata": {
    "editable": true,
    "slideshow": {
     "slide_type": ""
    },
    "tags": []
   },
   "source": [
    "#### Spherical harmonics "
   ]
  },
  {
   "cell_type": "markdown",
   "metadata": {
    "editable": true,
    "slideshow": {
     "slide_type": ""
    },
    "tags": []
   },
   "source": [
    "$Y_l^m(\\phi, \\theta)$ is `scipy.special.sph_harm(m, l, phi, theta)`\n",
    "\n",
    "$Y_l^m(\\phi, \\theta) = \\sqrt{\\frac{2n+1}{4\\pi}\\frac{(n-m)!}{(n+m)!}}e^{im\\phi}P_l^m(\\cos(\\theta))$\n",
    "\n",
    "here the notation of $\\theta$ and $\\phi$ are not using the same as in `scipy`\n",
    "\n",
    "where \n",
    "$\\phi$ is the azimuthal  from -$\\pi$ to $\\pi$ (in `scipy` it is $\\theta$ and from 0 to $2\\pi$)\n",
    "\n",
    "$\\theta$ is the polar angle from 0 to $\\pi$ (in `scipy` it is $\\phi$)"
   ]
  },
  {
   "cell_type": "code",
   "execution_count": null,
   "metadata": {
    "editable": true,
    "slideshow": {
     "slide_type": ""
    },
    "tags": []
   },
   "outputs": [],
   "source": [
    "initial_SH_parameters = dict(\n",
    "    a_minus2=0,\n",
    "    a_minus1=0.5,\n",
    "    a_0=3.5,\n",
    "    a_plus1=4,\n",
    "    a_plus2=2.5,\n",
    "    b_minus1=-1.5,\n",
    "    b_0=4,\n",
    "    b_plus1=0.5,\n",
    "    c_0=2.5,\n",
    ")"
   ]
  },
  {
   "cell_type": "code",
   "execution_count": null,
   "metadata": {
    "editable": true,
    "slideshow": {
     "slide_type": ""
    },
    "tags": []
   },
   "outputs": [],
   "source": [
    "a_minus2 = 0\n",
    "a_minus1 = 0.5\n",
    "a_0 = 3.5\n",
    "a_plus1 = 4\n",
    "a_plus2 = 2.5"
   ]
  },
  {
   "cell_type": "code",
   "execution_count": null,
   "metadata": {
    "editable": true,
    "slideshow": {
     "slide_type": ""
    },
    "tags": [
     "hide-input"
    ]
   },
   "outputs": [],
   "source": [
    "def compute_spherical_harmonics12(\n",
    "    theta: np.ndarray, phi: np.ndarray, a_minus2, a_minus1, a_0, a_plus1, a_plus2\n",
    ") -> np.ndarray:\n",
    "    return (\n",
    "        a_plus2 * sp.special.sph_harm(2, 2, theta, phi)\n",
    "        + a_plus1 * sp.special.sph_harm(1, 2, theta, phi)\n",
    "        + a_0 * sp.special.sph_harm(0, 2, theta, phi)\n",
    "        + a_minus1 * sp.special.sph_harm(-1, 2, theta, phi)\n",
    "        + a_minus2 * sp.special.sph_harm(-2, 2, theta, phi)\n",
    "    )"
   ]
  },
  {
   "cell_type": "code",
   "execution_count": null,
   "metadata": {
    "editable": true,
    "slideshow": {
     "slide_type": ""
    },
    "tags": []
   },
   "outputs": [],
   "source": [
    "PHI, THETA = np.meshgrid(\n",
    "    np.linspace(-np.pi, +np.pi, num=1_000),\n",
    "    np.linspace(0, np.pi, num=1_000),\n",
    ")\n",
    "Z12 = compute_spherical_harmonics12(\n",
    "    PHI, THETA, a_minus2, a_minus1, a_0, a_plus1, a_plus2\n",
    ")"
   ]
  },
  {
   "cell_type": "code",
   "execution_count": null,
   "metadata": {
    "editable": true,
    "jupyter": {
     "source_hidden": true
    },
    "slideshow": {
     "slide_type": ""
    },
    "tags": [
     "hide-input",
     "full-width"
    ]
   },
   "outputs": [],
   "source": [
    "fig, axes = plt.subplots(figsize=(10, 4), ncols=2, sharey=True, dpi=120)\n",
    "cmap_real = axes[0].pcolormesh(\n",
    "    np.degrees(PHI), np.degrees(THETA), Z12.real, cmap=plt.cm.coolwarm\n",
    ")\n",
    "cmap_imag = axes[1].pcolormesh(\n",
    "    np.degrees(PHI), np.degrees(THETA), Z12.imag, cmap=plt.cm.coolwarm\n",
    ")\n",
    "\n",
    "axes[0].set_xlabel(R\"$\\phi$ [deg]\")\n",
    "axes[0].set_ylabel(R\"$\\theta$ [deg]\")\n",
    "axes[0].set_title(R\"Real Part of $\\sum a_m Y_2^m (\\Omega_1)$\")\n",
    "axes[0].set_ylabel(R\"$\\theta$ [deg]\")\n",
    "axes[1].set_xlabel(R\"$\\phi$ [deg]\")\n",
    "axes[1].set_title(R\"Imaginary Part of $\\sum a_m Y_2^m (\\Omega_1)$\")\n",
    "\n",
    "cbar_real = fig.colorbar(cmap_real, ax=axes[0])\n",
    "cbar_imag = fig.colorbar(cmap_imag, ax=axes[1])\n",
    "\n",
    "fig.subplots_adjust(wspace=0.4, hspace=0.4)\n",
    "fig.tight_layout()\n",
    "plt.rcParams.update({\"font.size\": 10})\n",
    "plt.show()"
   ]
  },
  {
   "cell_type": "code",
   "execution_count": null,
   "metadata": {
    "editable": true,
    "jupyter": {
     "source_hidden": true
    },
    "slideshow": {
     "slide_type": ""
    },
    "tags": [
     "remove-cell",
     "hide-input",
     "hide-output"
    ]
   },
   "outputs": [],
   "source": [
    "plt.hist2d(\n",
    "    p12_phsp.phi,\n",
    "    p12_phsp.theta,\n",
    "    bins=100,\n",
    "    weights=compute_spherical_harmonics12(\n",
    "        p12_phsp.phi, p12_phsp.theta, a_minus2, a_minus1, a_0, a_plus1, a_plus2\n",
    "    ).real,\n",
    "    cmap=plt.cm.coolwarm,\n",
    ")\n",
    "plt.title(\"$p_{12}$ with real part of spherical harmonics as weights in histogram\")\n",
    "plt.xlabel(R\"$\\phi$\")\n",
    "plt.ylabel(R\"$\\theta$\")\n",
    "plt.show()"
   ]
  },
  {
   "cell_type": "code",
   "execution_count": null,
   "metadata": {
    "editable": true,
    "slideshow": {
     "slide_type": ""
    },
    "tags": []
   },
   "outputs": [],
   "source": [
    "b_minus1 = -1.5\n",
    "b_0 = 4\n",
    "b_plus1 = 0.5"
   ]
  },
  {
   "cell_type": "code",
   "execution_count": null,
   "metadata": {
    "editable": true,
    "slideshow": {
     "slide_type": ""
    },
    "tags": []
   },
   "outputs": [],
   "source": [
    "def compute_spherical_harmonics23(\n",
    "    theta: np.ndarray, phi: np.ndarray, b_minus1, b_0, b_plus1\n",
    ") -> np.ndarray:\n",
    "    return (\n",
    "        b_plus1 * sp.special.sph_harm(1, 1, theta, phi)\n",
    "        + b_0 * sp.special.sph_harm(0, 1, theta, phi)\n",
    "        + b_minus1 * sp.special.sph_harm(-1, 1, theta, phi)\n",
    "    )"
   ]
  },
  {
   "cell_type": "code",
   "execution_count": null,
   "metadata": {
    "editable": true,
    "slideshow": {
     "slide_type": ""
    },
    "tags": []
   },
   "outputs": [],
   "source": [
    "Z23 = compute_spherical_harmonics23(PHI, THETA, b_minus1, b_0, b_plus1)"
   ]
  },
  {
   "cell_type": "code",
   "execution_count": null,
   "metadata": {
    "editable": true,
    "jupyter": {
     "source_hidden": true
    },
    "slideshow": {
     "slide_type": ""
    },
    "tags": [
     "hide-input",
     "full-width"
    ]
   },
   "outputs": [],
   "source": [
    "fig, axes = plt.subplots(figsize=(10, 4), ncols=2, sharey=True, dpi=120)\n",
    "cmap_real = axes[0].pcolormesh(\n",
    "    np.degrees(PHI), np.degrees(THETA), Z23.real, cmap=plt.cm.coolwarm\n",
    ")\n",
    "cmap_imag = axes[1].pcolormesh(\n",
    "    np.degrees(PHI), np.degrees(THETA), Z23.imag, cmap=plt.cm.coolwarm\n",
    ")\n",
    "\n",
    "axes[0].set_xlabel(R\"$\\phi$ [deg]\")\n",
    "axes[0].set_ylabel(R\"$\\theta$ [deg]\")\n",
    "axes[0].set_title(R\"Real Part of $\\sum b_m Y_1^m (\\Omega_2)$\")\n",
    "axes[0].set_ylabel(R\"$\\theta$ [deg]\")\n",
    "axes[1].set_xlabel(R\"$\\phi$ [deg]\")\n",
    "axes[1].set_title(R\"Imaginary Part of $\\sum b_m Y_1^m (\\Omega_2)$\")\n",
    "\n",
    "cbar_real = fig.colorbar(cmap_real, ax=axes[0])\n",
    "cbar_imag = fig.colorbar(cmap_imag, ax=axes[1])\n",
    "\n",
    "fig.subplots_adjust(wspace=0.4, hspace=0.4)\n",
    "fig.tight_layout()\n",
    "plt.rcParams.update({\"font.size\": 10})\n",
    "plt.show()"
   ]
  },
  {
   "cell_type": "code",
   "execution_count": null,
   "metadata": {
    "editable": true,
    "slideshow": {
     "slide_type": ""
    },
    "tags": []
   },
   "outputs": [],
   "source": [
    "def compute_spherical_harmonics31(\n",
    "    theta: np.ndarray, phi: np.ndarray, c_0\n",
    ") -> np.ndarray:\n",
    "    return c_0 * sp.special.sph_harm(0, 0, theta, phi)"
   ]
  },
  {
   "cell_type": "code",
   "execution_count": null,
   "metadata": {
    "editable": true,
    "slideshow": {
     "slide_type": ""
    },
    "tags": []
   },
   "outputs": [],
   "source": [
    "c_0 = 2.5"
   ]
  },
  {
   "cell_type": "code",
   "execution_count": null,
   "metadata": {
    "editable": true,
    "slideshow": {
     "slide_type": ""
    },
    "tags": []
   },
   "outputs": [],
   "source": [
    "from scipy.special import lpmv\n",
    "\n",
    "\n",
    "def wigner_d_function(j, m, n, beta):\n",
    "    \"\"\"\n",
    "    Calculate the Wigner d-function for given j, m, n, and beta.\n",
    "\n",
    "    Parameters:\n",
    "    j (int): Total angular momentum quantum number.\n",
    "    m, n (int): Magnetic quantum numbers.\n",
    "    beta (float): The angle (in radians).\n",
    "\n",
    "    Returns:\n",
    "    float: The value of the Wigner d-function.\n",
    "    \"\"\"\n",
    "    # The Wigner d-function can be related to the associated Legendre polynomials\n",
    "    # Here, we use scipy's lpmv function which computes the associated Legendre polynomials\n",
    "    return (\n",
    "        np.sqrt(\n",
    "            (np.math.factorial(j + m) * np.math.factorial(j - m))\n",
    "            / (np.math.factorial(j + n) * np.math.factorial(j - n))\n",
    "        )\n",
    "        * np.cos(beta / 2) ** (2 * j + n - m)\n",
    "        * np.sin(beta / 2) ** (m - n)\n",
    "        * lpmv(n - m, 2 * j, np.cos(beta))\n",
    "    )\n",
    "\n",
    "\n",
    "def spherical_harmonics(l_num, m, theta, phi):\n",
    "    \"\"\"\n",
    "    Calculate the spherical harmonics using the Wigner d-function.\n",
    "\n",
    "    Parameters:\n",
    "    l (int): Angular momentum quantum number.\n",
    "    m (int): Magnetic quantum number.\n",
    "    theta (float): Polar angle in radians.\n",
    "    phi (float): Azimuthal angle in radians.\n",
    "\n",
    "    Returns:\n",
    "    complex: The value of the spherical harmonic.\n",
    "    \"\"\"\n",
    "    # Calculating the spherical harmonics using Wigner d-function\n",
    "    # Y^m_l(θ, φ) = √((2l+1)/(4π)) * e^(-imφ) * d^l_{m0}(θ)\n",
    "    normalization = np.sqrt((2 * l_num + 1) / (4 * np.pi))\n",
    "    return normalization * np.exp(-1j * m * phi) * wigner_d_function(l_num, m, 0, theta)"
   ]
  },
  {
   "cell_type": "markdown",
   "metadata": {
    "editable": true,
    "slideshow": {
     "slide_type": ""
    },
    "tags": []
   },
   "source": [
    "## Implementation of the models"
   ]
  },
  {
   "cell_type": "markdown",
   "metadata": {
    "editable": true,
    "slideshow": {
     "slide_type": ""
    },
    "tags": []
   },
   "source": [
    "### Parameter Default initial values"
   ]
  },
  {
   "cell_type": "markdown",
   "metadata": {
    "editable": true,
    "slideshow": {
     "slide_type": ""
    },
    "tags": []
   },
   "source": [
    "The original values of initial guess can be obtained from the data file from the [Lecture 11 in STRONG2020 HaSP School](https://indico.ific.uv.es/event/6803/contributions/21223/).\n",
    "But the values are modified here to make the strides in Dalitz plot more visible.\n",
    "\n",
    "The purpose is to define and test the model from fewer to more terms.\n",
    "\n",
    "The initial default parameters are resonance mass $(M)$ and width $(\\Gamma)$:\n",
    "\n",
    "$M_{12}$ = $M_{\\eta\\pi^0}$ = $M_{a_2}$\n",
    "\n",
    "$M_{23}$ = $M_{\\pi^0p}$ = $M_{\\Delta^+}$\n",
    "\n",
    "$M_{31}$ = $M_{\\eta p}$ = $M_{N^*}$\n",
    "\n",
    "$\\Gamma_{12}$ = $\\Gamma_{\\eta\\pi^0}$ = $\\Gamma_{a_2}$\n",
    "\n",
    "$\\Gamma_{23}$ = $\\Gamma_{\\pi^0p}$ = $\\Gamma_{\\Delta^+}$\n",
    "\n",
    "$\\Gamma_{31}$ = $\\Gamma_{\\eta p}$ = $\\Gamma_{N^*}$"
   ]
  },
  {
   "cell_type": "code",
   "execution_count": null,
   "metadata": {
    "editable": true,
    "slideshow": {
     "slide_type": ""
    },
    "tags": []
   },
   "outputs": [],
   "source": [
    "initial_parameters = dict(\n",
    "    M12=1.32,\n",
    "    Gamma12=0.1,\n",
    "    M23=1.24 + 0.3,\n",
    "    Gamma23=0.1,\n",
    "    M31=1.57 + 0.3,\n",
    "    Gamma31=0.1,\n",
    "    a_minus2=initial_SH_parameters.get(\"a_minus2\"),\n",
    "    a_minus1=initial_SH_parameters.get(\"a_minus1\"),\n",
    "    a_0=initial_SH_parameters.get(\"a_0\"),\n",
    "    a_plus1=initial_SH_parameters.get(\"a_plus1\"),\n",
    "    a_plus2=initial_SH_parameters.get(\"a_plus2\"),\n",
    "    b_minus1=initial_SH_parameters.get(\"b_minus1\"),\n",
    "    b_0=initial_SH_parameters.get(\"b_0\"),\n",
    "    b_plus1=initial_SH_parameters.get(\"b_plus1\"),\n",
    "    c_0=initial_SH_parameters.get(\"c_0\"),\n",
    ")\n",
    "\n",
    "M12 = initial_parameters.get(\"M12\")\n",
    "Gamma12 = initial_parameters.get(\"Gamma12\")\n",
    "M23 = initial_parameters.get(\"M23\")\n",
    "Gamma23 = initial_parameters.get(\"Gamma23\")\n",
    "M31 = initial_parameters.get(\"M31\")\n",
    "Gamma31 = initial_parameters.get(\"Gamma31\")"
   ]
  },
  {
   "cell_type": "markdown",
   "metadata": {
    "editable": true,
    "slideshow": {
     "slide_type": ""
    },
    "tags": []
   },
   "source": [
    "### Breit-Wigner (only) Model"
   ]
  },
  {
   "cell_type": "code",
   "execution_count": null,
   "metadata": {
    "editable": true,
    "slideshow": {
     "slide_type": ""
    },
    "tags": []
   },
   "outputs": [],
   "source": [
    "def BW_model(s12, s23, s31, *, M12, Gamma12, M23, Gamma23, M31, Gamma31, **kwargs):\n",
    "    A12 = BW(s12, M12, Gamma12)\n",
    "    A23 = BW(s23, M23, Gamma23)\n",
    "    A31 = BW(s31, M31, Gamma31)\n",
    "    return np.abs(A12 + A23 + A31) ** 2\n",
    "\n",
    "\n",
    "def BW(s, m, Gamma):\n",
    "    return 1 / (s - m**2 + m * Gamma * 1j)"
   ]
  },
  {
   "cell_type": "markdown",
   "metadata": {
    "editable": true,
    "slideshow": {
     "slide_type": ""
    },
    "tags": []
   },
   "source": [
    "### Spherical Harmonics (only) Model"
   ]
  },
  {
   "cell_type": "code",
   "execution_count": null,
   "metadata": {
    "editable": true,
    "slideshow": {
     "slide_type": ""
    },
    "tags": []
   },
   "outputs": [],
   "source": [
    "def SH_model(\n",
    "    phi1,\n",
    "    theta1,\n",
    "    phi2,\n",
    "    theta2,\n",
    "    *,\n",
    "    a_minus2,\n",
    "    a_minus1,\n",
    "    a_0,\n",
    "    a_plus1,\n",
    "    a_plus2,\n",
    "    b_minus1,\n",
    "    b_0,\n",
    "    b_plus1,\n",
    "    c_0,\n",
    "    **kwargs,\n",
    "):\n",
    "    return (\n",
    "        np.abs(\n",
    "            compute_spherical_harmonics12(\n",
    "                phi1, theta1, a_minus2, a_minus1, a_0, a_plus1, a_plus2\n",
    "            )\n",
    "            + compute_spherical_harmonics23(phi2, theta2, b_minus1, b_0, b_plus1)\n",
    "            + c_0\n",
    "        )\n",
    "        ** 2\n",
    "    )"
   ]
  },
  {
   "cell_type": "markdown",
   "metadata": {
    "editable": true,
    "slideshow": {
     "slide_type": ""
    },
    "tags": []
   },
   "source": [
    "### Breit-Wigner $\\times$ Spherical Harmonics Model"
   ]
  },
  {
   "cell_type": "code",
   "execution_count": null,
   "metadata": {
    "editable": true,
    "slideshow": {
     "slide_type": ""
    },
    "tags": [
     "full-width"
    ]
   },
   "outputs": [],
   "source": [
    "def BW_SH_model(\n",
    "    s12,\n",
    "    s23,\n",
    "    s31,\n",
    "    phi1,\n",
    "    theta1,\n",
    "    phi2,\n",
    "    theta2,\n",
    "    *,\n",
    "    M12,\n",
    "    Gamma12,\n",
    "    M23,\n",
    "    Gamma23,\n",
    "    M31,\n",
    "    Gamma31,\n",
    "    a_minus2,\n",
    "    a_minus1,\n",
    "    a_0,\n",
    "    a_plus1,\n",
    "    a_plus2,\n",
    "    b_minus1,\n",
    "    b_0,\n",
    "    b_plus1,\n",
    "    c_0,\n",
    "    **kwargs,\n",
    "):\n",
    "    A12 = BW(s12, M12, Gamma12) * compute_spherical_harmonics12(\n",
    "        phi1, theta1, a_minus2, a_minus1, a_0, a_plus1, a_plus2\n",
    "    )\n",
    "    A23 = BW(s23, M23, Gamma23) * compute_spherical_harmonics23(\n",
    "        phi2, theta2, b_minus1, b_0, b_plus1\n",
    "    )\n",
    "    A31 = BW(s31, M31, Gamma31) * c_0\n",
    "    return np.abs(A12 + A23 + A31) ** 2"
   ]
  },
  {
   "cell_type": "markdown",
   "metadata": {
    "editable": true,
    "slideshow": {
     "slide_type": ""
    },
    "tags": []
   },
   "source": [
    "### Full Model"
   ]
  },
  {
   "cell_type": "code",
   "execution_count": null,
   "metadata": {
    "editable": true,
    "slideshow": {
     "slide_type": ""
    },
    "tags": []
   },
   "outputs": [],
   "source": [
    "def full_model(\n",
    "    s12,\n",
    "    s23,\n",
    "    s31,\n",
    "    phi1,\n",
    "    theta1,\n",
    "    phi2,\n",
    "    theta2,\n",
    "    t1,\n",
    "    t2,\n",
    "    u3,\n",
    "    *,\n",
    "    M12,\n",
    "    Gamma12,\n",
    "    M23,\n",
    "    Gamma23,\n",
    "    M31,\n",
    "    Gamma31,\n",
    "    a_minus2,\n",
    "    a_minus1,\n",
    "    a_0,\n",
    "    a_plus1,\n",
    "    a_plus2,\n",
    "    b_minus1,\n",
    "    b_0,\n",
    "    b_plus1,\n",
    "    c_0,\n",
    "    **kwargs,\n",
    "):\n",
    "    A12 = (\n",
    "        BW(s12, M12, Gamma12)\n",
    "        * compute_spherical_harmonics12(\n",
    "            phi1, theta1, a_minus2, a_minus1, a_0, a_plus1, a_plus2\n",
    "        )\n",
    "        * s12 ** (0.5 + 0.9 * u3)\n",
    "    )\n",
    "    A23 = (\n",
    "        BW(s23, M23, Gamma23)\n",
    "        * compute_spherical_harmonics23(phi2, theta2, b_minus1, b_0, b_plus1)\n",
    "        * s23 ** (0.5 + 0.9 * t1)\n",
    "    )\n",
    "    A31 = BW(s31, M31, Gamma31) * c_0 * s31 ** (1.08 + 0.2 * t2)\n",
    "    return np.abs(A12 + A23 + A31) ** 2"
   ]
  },
  {
   "cell_type": "markdown",
   "metadata": {
    "editable": true,
    "slideshow": {
     "slide_type": ""
    },
    "tags": []
   },
   "source": [
    "### Dalitz Plots of (sub)models"
   ]
  },
  {
   "cell_type": "code",
   "execution_count": null,
   "metadata": {
    "editable": true,
    "slideshow": {
     "slide_type": ""
    },
    "tags": [
     "full-width",
     "hide-input"
    ]
   },
   "outputs": [],
   "source": [
    "fig, (ax1, ax2, ax3) = plt.subplots(figsize=(12, 4), ncols=3, sharey=True)\n",
    "fig.suptitle(R\"Dalitz Plots of sub-models\")\n",
    "\n",
    "hist1 = ax1.hist2d(\n",
    "    s12_phsp,\n",
    "    s23_phsp,\n",
    "    bins=100,\n",
    "    weights=BW_model(\n",
    "        s12_phsp,\n",
    "        s23_phsp,\n",
    "        s31_phsp,\n",
    "        M12=M12,\n",
    "        Gamma12=Gamma12,\n",
    "        M23=M23,\n",
    "        Gamma23=Gamma23,\n",
    "        M31=M31,\n",
    "        Gamma31=Gamma31,\n",
    "    ),\n",
    "    cmin=1e-6,\n",
    "    density=True,\n",
    "    cmap=\"jet\",\n",
    ")\n",
    "ax1.set_xlabel(R\"$s_{12}$\")\n",
    "ax1.set_title(\"BW model only\")\n",
    "ax1.set_ylabel(R\"$s_{23}$\")\n",
    "\n",
    "hist2 = ax2.hist2d(\n",
    "    s12_phsp,\n",
    "    s23_phsp,\n",
    "    bins=100,\n",
    "    weights=SH_model(\n",
    "        phi1_phsp,\n",
    "        theta1_phsp,\n",
    "        phi2_phsp,\n",
    "        theta2_phsp,\n",
    "        a_minus2=a_minus2,\n",
    "        a_minus1=a_minus1,\n",
    "        a_0=a_0,\n",
    "        a_plus1=a_plus1,\n",
    "        a_plus2=a_plus2,\n",
    "        b_minus1=b_minus1,\n",
    "        b_0=b_0,\n",
    "        b_plus1=b_plus1,\n",
    "        c_0=c_0,\n",
    "    ),\n",
    "    cmin=1e-6,\n",
    "    density=True,\n",
    "    cmap=\"jet\",\n",
    ")\n",
    "ax2.set_title(\"SH model only\")\n",
    "ax2.set_xlabel(R\"$s_{12}$\")\n",
    "ax2.set_ylabel(R\"$s_{23}$\")\n",
    "\n",
    "hist3 = ax3.hist2d(\n",
    "    s12_phsp,\n",
    "    s23_phsp,\n",
    "    bins=100,\n",
    "    weights=BW_SH_model(\n",
    "        s12_phsp,\n",
    "        s23_phsp,\n",
    "        s31_phsp,\n",
    "        phi1_phsp,\n",
    "        theta1_phsp,\n",
    "        phi2_phsp,\n",
    "        theta2_phsp,\n",
    "        M12=M12,\n",
    "        Gamma12=Gamma12,\n",
    "        M23=M23,\n",
    "        Gamma23=Gamma23,\n",
    "        M31=M31,\n",
    "        Gamma31=Gamma31,\n",
    "        a_minus2=a_minus2,\n",
    "        a_minus1=a_minus1,\n",
    "        a_0=a_0,\n",
    "        a_plus1=a_plus1,\n",
    "        a_plus2=a_plus2,\n",
    "        b_minus1=b_minus1,\n",
    "        b_0=b_0,\n",
    "        b_plus1=b_plus1,\n",
    "        c_0=c_0,\n",
    "    ),\n",
    "    cmin=1e-6,\n",
    "    density=True,\n",
    "    cmap=\"jet\",\n",
    ")\n",
    "ax3.set_title(R\"BW $\\times$ SH model\")\n",
    "ax3.set_xlabel(R\"$s_{12}$\")\n",
    "ax3.set_ylabel(R\"$s_{23}$\")\n",
    "\n",
    "cbar1 = fig.colorbar(hist1[3], ax=ax1)\n",
    "cbar2 = fig.colorbar(hist2[3], ax=ax2)\n",
    "cbar3 = fig.colorbar(hist3[3], ax=ax3)\n",
    "\n",
    "fig.tight_layout()\n",
    "fig.show()"
   ]
  },
  {
   "cell_type": "code",
   "execution_count": null,
   "metadata": {
    "editable": true,
    "slideshow": {
     "slide_type": ""
    },
    "tags": []
   },
   "outputs": [],
   "source": [
    "fig, ax = plt.subplots(figsize=(6, 5))\n",
    "fig.suptitle(R\"Dalitz Plot of BW $\\times$ SH model with cut at max=0.15\")\n",
    "hist = ax.hist2d(\n",
    "    s12_phsp,\n",
    "    s23_phsp,\n",
    "    bins=200,\n",
    "    weights=BW_SH_model(\n",
    "        s12_phsp,\n",
    "        s23_phsp,\n",
    "        s31_phsp,\n",
    "        phi1_phsp,\n",
    "        theta1_phsp,\n",
    "        phi2_phsp,\n",
    "        theta2_phsp,\n",
    "        M12=M12,\n",
    "        Gamma12=Gamma12,\n",
    "        M23=M23,\n",
    "        Gamma23=Gamma23,\n",
    "        M31=M31,\n",
    "        Gamma31=Gamma31,\n",
    "        a_minus2=a_minus2,\n",
    "        a_minus1=a_minus1,\n",
    "        a_0=a_0,\n",
    "        a_plus1=a_plus1,\n",
    "        a_plus2=a_plus2,\n",
    "        b_minus1=b_minus1,\n",
    "        b_0=b_0,\n",
    "        b_plus1=b_plus1,\n",
    "        c_0=c_0,\n",
    "    ),\n",
    "    cmin=1e-6,\n",
    "    density=True,\n",
    "    cmap=\"jet\",\n",
    "    vmax=0.15,\n",
    ")\n",
    "\n",
    "ax.set_xlabel(r\"$s_{12}$\")\n",
    "ax.set_ylabel(r\"$s_{23}$\")\n",
    "cbar = fig.colorbar(hist[3], ax=ax)\n",
    "fig.tight_layout()\n",
    "fig.show()"
   ]
  },
  {
   "cell_type": "code",
   "execution_count": null,
   "metadata": {
    "editable": true,
    "explanation": "This cell performs data preprocessing.",
    "mystnb": {
     "code_prompt_show": "(Not used just for the record) Full model Dalitz Plot"
    },
    "slideshow": {
     "slide_type": ""
    },
    "tags": [
     "hide-input",
     "full-width",
     "hide-output"
    ]
   },
   "outputs": [],
   "source": [
    "fig, (ax1) = plt.subplots(figsize=(3.5, 3), ncols=1, sharey=True)\n",
    "hist1 = ax1.hist2d(\n",
    "    s12_phsp,\n",
    "    s23_phsp,\n",
    "    bins=100,\n",
    "    weights=full_model(\n",
    "        s12_phsp,\n",
    "        s23_phsp,\n",
    "        s31_phsp,\n",
    "        phi1_phsp,\n",
    "        theta1_phsp,\n",
    "        phi2_phsp,\n",
    "        theta2_phsp,\n",
    "        t1_phsp,\n",
    "        t2_phsp,\n",
    "        u3_phsp,\n",
    "        M12=M12,\n",
    "        Gamma12=Gamma12,\n",
    "        M23=M23,\n",
    "        Gamma23=Gamma23,\n",
    "        M31=M31,\n",
    "        Gamma31=Gamma31,\n",
    "        a_minus2=a_minus2,\n",
    "        a_minus1=a_minus1,\n",
    "        a_0=a_0,\n",
    "        a_plus1=a_plus1,\n",
    "        a_plus2=a_plus2,\n",
    "        b_minus1=b_minus1,\n",
    "        b_0=b_0,\n",
    "        b_plus1=b_plus1,\n",
    "        c_0=c_0,\n",
    "    ),\n",
    "    cmin=1e-8,\n",
    "    density=True,\n",
    "    cmap=\"jet\",\n",
    ")\n",
    "ax1.set_xlabel(R\"$s_{12}$\")\n",
    "ax1.set_ylabel(R\"$s_{23}$\")\n",
    "ax1.set_title(\"Full model\")\n",
    "\n",
    "cbar1 = fig.colorbar(hist1[3], ax=ax1)\n",
    "fig.tight_layout()\n",
    "fig.show()"
   ]
  },
  {
   "cell_type": "code",
   "execution_count": null,
   "metadata": {
    "editable": true,
    "mystnb": {
     "code_prompt_show": "Set different weights from models for the plotting later"
    },
    "slideshow": {
     "slide_type": ""
    },
    "tags": [
     "hide-cell",
     "hide-output",
     "hide-input"
    ]
   },
   "outputs": [],
   "source": [
    "weight_BW = BW_model(\n",
    "    s12_phsp,\n",
    "    s23_phsp,\n",
    "    s31_phsp,\n",
    "    M12=M12,\n",
    "    Gamma12=Gamma12,\n",
    "    M23=M23,\n",
    "    Gamma23=Gamma23,\n",
    "    M31=M31,\n",
    "    Gamma31=Gamma31,\n",
    ")\n",
    "weight_SH = SH_model(\n",
    "    phi1_phsp,\n",
    "    theta1_phsp,\n",
    "    phi2_phsp,\n",
    "    theta2_phsp,\n",
    "    a_0=a_0,\n",
    "    a_minus2=a_minus2,\n",
    "    a_minus1=a_minus1,\n",
    "    a_plus1=a_plus1,\n",
    "    a_plus2=a_plus2,\n",
    "    b_minus1=b_minus1,\n",
    "    b_0=b_0,\n",
    "    b_plus1=b_plus1,\n",
    "    c_0=c_0,\n",
    ")\n",
    "\n",
    "weight_BW_SH = BW_SH_model(\n",
    "    s12_phsp,\n",
    "    s23_phsp,\n",
    "    s31_phsp,\n",
    "    phi1_phsp,\n",
    "    theta1_phsp,\n",
    "    phi2_phsp,\n",
    "    theta2_phsp,\n",
    "    M12=M12,\n",
    "    Gamma12=Gamma12,\n",
    "    M23=M23,\n",
    "    Gamma23=Gamma23,\n",
    "    M31=M31,\n",
    "    Gamma31=Gamma31,\n",
    "    a_minus2=a_minus2,\n",
    "    a_minus1=a_minus1,\n",
    "    a_0=a_0,\n",
    "    a_plus1=a_plus1,\n",
    "    a_plus2=a_plus2,\n",
    "    b_minus1=b_minus1,\n",
    "    b_0=b_0,\n",
    "    b_plus1=b_plus1,\n",
    "    c_0=c_0,\n",
    ")\n",
    "weight_Full = full_model(\n",
    "    s12_phsp,\n",
    "    s23_phsp,\n",
    "    s31_phsp,\n",
    "    phi1_phsp,\n",
    "    theta1_phsp,\n",
    "    phi2_phsp,\n",
    "    theta2_phsp,\n",
    "    t1_phsp,\n",
    "    t2_phsp,\n",
    "    u3_phsp,\n",
    "    M12=M12,\n",
    "    Gamma12=Gamma12,\n",
    "    M23=M23,\n",
    "    Gamma23=Gamma23,\n",
    "    M31=M31,\n",
    "    Gamma31=Gamma31,\n",
    "    a_minus2=a_minus2,\n",
    "    a_minus1=a_minus1,\n",
    "    a_0=a_0,\n",
    "    a_plus1=a_plus1,\n",
    "    a_plus2=a_plus2,\n",
    "    b_minus1=b_minus1,\n",
    "    b_0=b_0,\n",
    "    b_plus1=b_plus1,\n",
    "    c_0=c_0,\n",
    ")"
   ]
  },
  {
   "cell_type": "code",
   "execution_count": null,
   "metadata": {
    "editable": true,
    "jupyter": {
     "source_hidden": true
    },
    "slideshow": {
     "slide_type": ""
    },
    "tags": [
     "hide-input",
     "scroll-input",
     "full-width"
    ]
   },
   "outputs": [],
   "source": [
    "fig, (theta_ax, phi_ax, mass_ax) = plt.subplots(figsize=(13, 11), ncols=3, nrows=3)\n",
    "for i, ax in enumerate(theta_ax, 1):\n",
    "    ax.set_title(Rf\"$\\theta_{i}$\")\n",
    "    ax.set_xticks([0, np.pi / 2, np.pi])\n",
    "    ax.set_xticklabels([\"0\", R\"$\\frac{\\pi}{2}$\", R\"$\\pi$\"])\n",
    "for i, ax in enumerate(phi_ax, 1):\n",
    "    ax.set_title(Rf\"$\\phi_{i}$\")\n",
    "    ax.set_xticks([-np.pi, 0, np.pi])\n",
    "    ax.set_xticklabels([R\"-$\\pi$\", 0, R\"$\\pi$\"])\n",
    "for i, ax in enumerate(mass_ax, 1):\n",
    "    ax.set_title(Rf\"$m_{{{i}{(i % 3 + 1)}}}$\")\n",
    "\n",
    "theta_ax[0].hist(\n",
    "    theta1_phsp,\n",
    "    bins=100,\n",
    "    color=\"red\",\n",
    "    histtype=\"step\",\n",
    "    label=\"phsp\",\n",
    "    density=True,\n",
    ")\n",
    "theta_ax[1].hist(\n",
    "    theta2_phsp,\n",
    "    bins=100,\n",
    "    color=\"red\",\n",
    "    histtype=\"step\",\n",
    "    label=\"phsp\",\n",
    "    density=True,\n",
    ")\n",
    "theta_ax[2].hist(\n",
    "    theta3_phsp,\n",
    "    bins=100,\n",
    "    color=\"red\",\n",
    "    histtype=\"step\",\n",
    "    label=\"phsp\",\n",
    "    density=True,\n",
    ")\n",
    "theta_ax[0].hist(\n",
    "    theta1_phsp,\n",
    "    bins=100,\n",
    "    weights=weight_BW,\n",
    "    color=\"orange\",\n",
    "    histtype=\"step\",\n",
    "    label=\"only BW\",\n",
    "    density=True,\n",
    ")\n",
    "theta_ax[1].hist(\n",
    "    theta2_phsp,\n",
    "    bins=100,\n",
    "    weights=weight_BW,\n",
    "    color=\"orange\",\n",
    "    histtype=\"step\",\n",
    "    label=\"only BW\",\n",
    "    density=True,\n",
    ")\n",
    "theta_ax[2].hist(\n",
    "    theta3_phsp,\n",
    "    bins=100,\n",
    "    weights=weight_BW,\n",
    "    color=\"orange\",\n",
    "    histtype=\"step\",\n",
    "    label=\"only BW\",\n",
    "    density=True,\n",
    ")\n",
    "theta_ax[0].hist(\n",
    "    theta1_phsp,\n",
    "    bins=100,\n",
    "    weights=weight_SH,\n",
    "    color=\"green\",\n",
    "    histtype=\"step\",\n",
    "    label=\"only SH\",\n",
    "    density=True,\n",
    ")\n",
    "theta_ax[1].hist(\n",
    "    theta2_phsp,\n",
    "    bins=100,\n",
    "    weights=weight_SH,\n",
    "    color=\"green\",\n",
    "    histtype=\"step\",\n",
    "    label=\"only SH\",\n",
    "    density=True,\n",
    ")\n",
    "theta_ax[2].hist(\n",
    "    theta3_phsp,\n",
    "    bins=100,\n",
    "    weights=weight_SH,\n",
    "    color=\"green\",\n",
    "    histtype=\"step\",\n",
    "    label=\"only SH\",\n",
    "    density=True,\n",
    ")\n",
    "theta_ax[0].hist(\n",
    "    theta1_phsp,\n",
    "    bins=100,\n",
    "    weights=weight_BW_SH,\n",
    "    color=\"purple\",\n",
    "    histtype=\"step\",\n",
    "    label=\"BW&SH\",\n",
    "    density=True,\n",
    ")\n",
    "theta_ax[1].hist(\n",
    "    theta2_phsp,\n",
    "    bins=100,\n",
    "    weights=weight_BW_SH,\n",
    "    color=\"purple\",\n",
    "    histtype=\"step\",\n",
    "    label=\"BW&SH\",\n",
    "    density=True,\n",
    ")\n",
    "theta_ax[2].hist(\n",
    "    theta3_phsp,\n",
    "    bins=100,\n",
    "    weights=weight_BW_SH,\n",
    "    color=\"purple\",\n",
    "    histtype=\"step\",\n",
    "    label=\"BW&SH\",\n",
    "    density=True,\n",
    ")\n",
    "\n",
    "\n",
    "phi_ax[0].hist(\n",
    "    phi1_phsp,\n",
    "    bins=100,\n",
    "    color=\"red\",\n",
    "    histtype=\"step\",\n",
    "    label=\"phsp\",\n",
    "    density=True,\n",
    ")\n",
    "phi_ax[1].hist(\n",
    "    phi2_phsp,\n",
    "    bins=100,\n",
    "    color=\"red\",\n",
    "    histtype=\"step\",\n",
    "    label=\"phsp\",\n",
    "    density=True,\n",
    ")\n",
    "phi_ax[2].hist(\n",
    "    phi3_phsp,\n",
    "    bins=100,\n",
    "    color=\"red\",\n",
    "    histtype=\"step\",\n",
    "    label=\"phsp\",\n",
    "    density=True,\n",
    ")\n",
    "phi_ax[0].hist(\n",
    "    phi1_phsp,\n",
    "    bins=100,\n",
    "    weights=weight_BW,\n",
    "    color=\"orange\",\n",
    "    histtype=\"step\",\n",
    "    label=\"only BW\",\n",
    "    density=True,\n",
    ")\n",
    "phi_ax[1].hist(\n",
    "    phi2_phsp,\n",
    "    bins=100,\n",
    "    weights=weight_BW,\n",
    "    color=\"orange\",\n",
    "    histtype=\"step\",\n",
    "    label=\"only BW\",\n",
    "    density=True,\n",
    ")\n",
    "phi_ax[2].hist(\n",
    "    phi3_phsp,\n",
    "    bins=100,\n",
    "    weights=weight_BW,\n",
    "    color=\"orange\",\n",
    "    histtype=\"step\",\n",
    "    label=\"only BW\",\n",
    "    density=True,\n",
    ")\n",
    "phi_ax[0].hist(\n",
    "    phi1_phsp,\n",
    "    bins=100,\n",
    "    weights=weight_SH,\n",
    "    color=\"green\",\n",
    "    histtype=\"step\",\n",
    "    label=\"only SH\",\n",
    "    density=True,\n",
    ")\n",
    "phi_ax[1].hist(\n",
    "    phi2_phsp,\n",
    "    bins=100,\n",
    "    weights=weight_SH,\n",
    "    color=\"green\",\n",
    "    histtype=\"step\",\n",
    "    label=\"only SH\",\n",
    "    density=True,\n",
    ")\n",
    "phi_ax[2].hist(\n",
    "    phi3_phsp,\n",
    "    bins=100,\n",
    "    weights=weight_SH,\n",
    "    color=\"green\",\n",
    "    histtype=\"step\",\n",
    "    label=\"only SH\",\n",
    "    density=True,\n",
    ")\n",
    "phi_ax[0].hist(\n",
    "    phi1_phsp,\n",
    "    bins=100,\n",
    "    weights=weight_BW_SH,\n",
    "    color=\"purple\",\n",
    "    histtype=\"step\",\n",
    "    label=\"BW&SH\",\n",
    "    density=True,\n",
    ")\n",
    "phi_ax[1].hist(\n",
    "    phi2_phsp,\n",
    "    bins=100,\n",
    "    weights=weight_BW_SH,\n",
    "    color=\"purple\",\n",
    "    histtype=\"step\",\n",
    "    label=\"BW&SH\",\n",
    "    density=True,\n",
    ")\n",
    "phi_ax[2].hist(\n",
    "    phi3_phsp,\n",
    "    bins=100,\n",
    "    weights=weight_BW_SH,\n",
    "    color=\"purple\",\n",
    "    histtype=\"step\",\n",
    "    label=\"BW&SH\",\n",
    "    density=True,\n",
    ")\n",
    "\n",
    "\n",
    "mass_ax[0].hist(\n",
    "    p12_phsp.m,\n",
    "    bins=100,\n",
    "    color=\"red\",\n",
    "    histtype=\"step\",\n",
    "    label=\"phsp\",\n",
    "    density=True,\n",
    ")\n",
    "mass_ax[1].hist(\n",
    "    p23_phsp.m,\n",
    "    bins=100,\n",
    "    color=\"red\",\n",
    "    histtype=\"step\",\n",
    "    label=\"phsp\",\n",
    "    density=True,\n",
    ")\n",
    "mass_ax[2].hist(\n",
    "    p31_phsp.m,\n",
    "    bins=100,\n",
    "    color=\"red\",\n",
    "    histtype=\"step\",\n",
    "    label=\"phsp\",\n",
    "    density=True,\n",
    ")\n",
    "mass_ax[0].hist(\n",
    "    p12_phsp.m,\n",
    "    bins=100,\n",
    "    weights=weight_BW,\n",
    "    color=\"orange\",\n",
    "    histtype=\"step\",\n",
    "    label=\"only BW\",\n",
    "    density=True,\n",
    ")\n",
    "mass_ax[1].hist(\n",
    "    p23_phsp.m,\n",
    "    bins=100,\n",
    "    weights=weight_BW,\n",
    "    color=\"orange\",\n",
    "    histtype=\"step\",\n",
    "    label=\"only BW\",\n",
    "    density=True,\n",
    ")\n",
    "mass_ax[2].hist(\n",
    "    p31_phsp.m,\n",
    "    bins=100,\n",
    "    weights=weight_BW,\n",
    "    color=\"orange\",\n",
    "    histtype=\"step\",\n",
    "    label=\"only BW\",\n",
    "    density=True,\n",
    ")\n",
    "mass_ax[0].hist(\n",
    "    p12_phsp.m,\n",
    "    bins=100,\n",
    "    weights=weight_SH,\n",
    "    color=\"green\",\n",
    "    histtype=\"step\",\n",
    "    label=\"only SH\",\n",
    "    density=True,\n",
    ")\n",
    "mass_ax[1].hist(\n",
    "    p23_phsp.m,\n",
    "    bins=100,\n",
    "    weights=weight_SH,\n",
    "    color=\"green\",\n",
    "    histtype=\"step\",\n",
    "    label=\"only SH\",\n",
    "    density=True,\n",
    ")\n",
    "mass_ax[2].hist(\n",
    "    p31_phsp.m,\n",
    "    bins=100,\n",
    "    weights=weight_SH,\n",
    "    color=\"green\",\n",
    "    histtype=\"step\",\n",
    "    label=\"only SH\",\n",
    "    density=True,\n",
    ")\n",
    "mass_ax[0].hist(\n",
    "    p12_phsp.m,\n",
    "    bins=100,\n",
    "    weights=weight_BW_SH,\n",
    "    color=\"purple\",\n",
    "    histtype=\"step\",\n",
    "    label=\"BW&SH\",\n",
    "    density=True,\n",
    ")\n",
    "mass_ax[1].hist(\n",
    "    p23_phsp.m,\n",
    "    bins=100,\n",
    "    weights=weight_BW_SH,\n",
    "    color=\"purple\",\n",
    "    histtype=\"step\",\n",
    "    label=\"BW&SH\",\n",
    "    density=True,\n",
    ")\n",
    "mass_ax[2].hist(\n",
    "    p31_phsp.m,\n",
    "    bins=100,\n",
    "    weights=weight_BW_SH,\n",
    "    color=\"purple\",\n",
    "    histtype=\"step\",\n",
    "    label=\"BW&SH\",\n",
    "    density=True,\n",
    ")\n",
    "\n",
    "theta_ax[0].legend()\n",
    "phi_ax[0].legend()\n",
    "theta_ax[1].legend()\n",
    "phi_ax[1].legend()\n",
    "theta_ax[2].legend()\n",
    "phi_ax[2].legend()\n",
    "\n",
    "mass_ax[0].legend()\n",
    "mass_ax[1].legend()\n",
    "mass_ax[2].legend()\n",
    "\n",
    "\n",
    "fig.suptitle(\n",
    "    R\"Helicity angles and invariant mass: phsp and models with good initial guess of parameters\"\n",
    ")\n",
    "fig.tight_layout()\n",
    "plt.show()"
   ]
  },
  {
   "cell_type": "code",
   "execution_count": null,
   "metadata": {
    "editable": true,
    "jupyter": {
     "source_hidden": true
    },
    "slideshow": {
     "slide_type": ""
    },
    "tags": [
     "hide-input",
     "hide-cell",
     "full-width",
     "hide-output"
    ]
   },
   "outputs": [],
   "source": [
    "fig, (theta_ax, phi_ax, mass_ax) = plt.subplots(figsize=(13, 11), ncols=3, nrows=3)\n",
    "for i, ax in enumerate(theta_ax, 1):\n",
    "    ax.set_title(Rf\"$\\theta_{i}$\")\n",
    "    ax.set_xticks([0, np.pi / 2, np.pi])\n",
    "    ax.set_xticklabels([\"0\", R\"$\\frac{\\pi}{2}$\", R\"$\\pi$\"])\n",
    "for i, ax in enumerate(phi_ax, 1):\n",
    "    ax.set_title(Rf\"$\\phi_{i}$\")\n",
    "    ax.set_xticks([-np.pi, 0, np.pi])\n",
    "    ax.set_xticklabels([R\"-$\\pi$\", 0, R\"$\\pi$\"])\n",
    "for i, ax in enumerate(mass_ax, 1):\n",
    "    ax.set_title(Rf\"$m_{{{i}{(i % 3 + 1)}}}$\")\n",
    "\n",
    "theta_ax[0].hist(\n",
    "    theta1_phsp,\n",
    "    bins=100,\n",
    "    weights=weight_Full,\n",
    "    label=\"full\",\n",
    ")\n",
    "theta_ax[1].hist(\n",
    "    theta2_phsp,\n",
    "    bins=100,\n",
    "    weights=weight_Full,\n",
    "    label=\"full\",\n",
    ")\n",
    "theta_ax[2].hist(\n",
    "    theta3_phsp,\n",
    "    bins=100,\n",
    "    weights=weight_Full,\n",
    "    label=\"full\",\n",
    ")\n",
    "\n",
    "phi_ax[0].hist(\n",
    "    phi1_phsp,\n",
    "    bins=50,\n",
    "    weights=weight_Full,\n",
    "    label=\"full\",\n",
    ")\n",
    "phi_ax[1].hist(\n",
    "    phi2_phsp,\n",
    "    bins=50,\n",
    "    weights=weight_Full,\n",
    "    label=\"full\",\n",
    ")\n",
    "phi_ax[2].hist(\n",
    "    phi3_phsp,\n",
    "    bins=50,\n",
    "    weights=weight_Full,\n",
    "    label=\"full\",\n",
    ")\n",
    "\n",
    "mass_ax[0].hist(\n",
    "    p12_phsp.m,\n",
    "    bins=100,\n",
    "    weights=weight_Full,\n",
    "    label=\"full\",\n",
    ")\n",
    "mass_ax[1].hist(\n",
    "    p23_phsp.m,\n",
    "    bins=100,\n",
    "    weights=weight_Full,\n",
    "    label=\"full\",\n",
    ")\n",
    "mass_ax[2].hist(\n",
    "    p31_phsp.m,\n",
    "    bins=100,\n",
    "    weights=weight_Full,\n",
    "    label=\"full\",\n",
    ")\n",
    "\n",
    "theta_ax[0].legend()\n",
    "phi_ax[0].legend()\n",
    "theta_ax[1].legend()\n",
    "phi_ax[1].legend()\n",
    "theta_ax[2].legend()\n",
    "phi_ax[2].legend()\n",
    "\n",
    "mass_ax[0].legend()\n",
    "mass_ax[1].legend()\n",
    "mass_ax[2].legend()\n",
    "\n",
    "\n",
    "fig.suptitle(\n",
    "    R\"Helicity angles and invariant mass (with the same good initial guess of parameters previously )\"\n",
    ")\n",
    "fig.tight_layout()\n",
    "plt.show()"
   ]
  },
  {
   "cell_type": "markdown",
   "metadata": {
    "editable": true,
    "slideshow": {
     "slide_type": ""
    },
    "tags": []
   },
   "source": [
    "## Data Generation"
   ]
  },
  {
   "cell_type": "markdown",
   "metadata": {
    "editable": true,
    "slideshow": {
     "slide_type": ""
    },
    "tags": []
   },
   "source": [
    "### Hit and miss intensity sample"
   ]
  },
  {
   "cell_type": "markdown",
   "metadata": {
    "editable": true,
    "slideshow": {
     "slide_type": ""
    },
    "tags": []
   },
   "source": [
    "This function generate a data sample based on a model by using hit and miss filter applied to the phase space sample. \n",
    "\n",
    "The output is 4-vector in the form of a `tuple`[$p_1$,$p_2$,$p_3$,$p_a$,$p_b$]."
   ]
  },
  {
   "cell_type": "code",
   "execution_count": null,
   "metadata": {
    "editable": true,
    "slideshow": {
     "slide_type": ""
    },
    "tags": []
   },
   "outputs": [],
   "source": [
    "def generate_data(model: callable, size: int) -> tuple[MomentumNumpy4D, ...]:\n",
    "    phase_space = generate_phsp_all(size)\n",
    "    data_sample = _hit_and_miss_filter(model, phase_space)\n",
    "    while get_size_data(data_sample) < size:\n",
    "        phase_space = generate_phsp_all(size)\n",
    "        bunch = _hit_and_miss_filter(model, phase_space)\n",
    "        data_sample = concatenate_data(data_sample, bunch)\n",
    "    return remove_overflow_data(data_sample, size)\n",
    "\n",
    "\n",
    "def _hit_and_miss_filter(\n",
    "    model: callable,\n",
    "    phase_space: tuple[MomentumNumpy4D, ...],\n",
    ") -> tuple[MomentumNumpy4D, ...]:\n",
    "    p1, p2, p3, pa, pb = phase_space\n",
    "    p12 = p1 + p2\n",
    "    p23 = p2 + p3\n",
    "    p31 = p3 + p1\n",
    "\n",
    "    intensities: np.ndarray = model(\n",
    "        s12=p12.m2,\n",
    "        s23=p23.m2,\n",
    "        s31=p31.m2,\n",
    "        t1=(pa - p1).m2,\n",
    "        t2=(pa - p2).m2,\n",
    "        u3=(pb - p3).m2,\n",
    "        phi1=phi_helicity(p1, p12),\n",
    "        theta1=theta_helicity(p1, p12),\n",
    "        phi2=phi_helicity(p2, p23),\n",
    "        theta2=theta_helicity(p2, p23),\n",
    "        M12=M12,\n",
    "        Gamma12=Gamma12,\n",
    "        M23=M23,\n",
    "        Gamma23=Gamma23,\n",
    "        M31=M31,\n",
    "        Gamma31=Gamma31,\n",
    "        a_minus2=a_minus2,\n",
    "        a_minus1=a_minus1,\n",
    "        a_0=a_0,\n",
    "        a_plus1=a_plus1,\n",
    "        a_plus2=a_plus2,\n",
    "        b_minus1=b_minus1,\n",
    "        b_0=b_0,\n",
    "        b_plus1=b_plus1,\n",
    "        c_0=c_0,\n",
    "    )\n",
    "    rng = np.random.default_rng(seed=None)\n",
    "    random_intensities = rng.uniform(0, intensities.max(), size=intensities.shape)\n",
    "    selector = intensities > random_intensities\n",
    "    return (\n",
    "        p1[selector],\n",
    "        p2[selector],\n",
    "        p3[selector],\n",
    "        pa[selector],\n",
    "        pb[selector],\n",
    "    )\n",
    "\n",
    "\n",
    "def get_size_data(\n",
    "    data: tuple[\n",
    "        MomentumNumpy4D,\n",
    "        MomentumNumpy4D,\n",
    "        MomentumNumpy4D,\n",
    "        MomentumNumpy4D,\n",
    "        MomentumNumpy4D,\n",
    "    ],\n",
    "):\n",
    "    return len(data[0])\n",
    "\n",
    "\n",
    "def concatenate_data(\n",
    "    data1: tuple[MomentumNumpy4D, ...],\n",
    "    data2: tuple[MomentumNumpy4D, ...],\n",
    ") -> tuple[MomentumNumpy4D, ...]:\n",
    "    return tuple(concatenate_vectors((pi1, pj2)) for pi1, pj2 in zip(data1, data2))\n",
    "\n",
    "\n",
    "def concatenate_vectors(vectors: tuple[MomentumNumpy4D]) -> MomentumNumpy4D:\n",
    "    return vector.array({\n",
    "        \"px\": np.concatenate([p.px for p in vectors]),\n",
    "        \"py\": np.concatenate([p.py for p in vectors]),\n",
    "        \"pz\": np.concatenate([p.pz for p in vectors]),\n",
    "        \"E\": np.concatenate([p.e for p in vectors]),\n",
    "    })\n",
    "\n",
    "\n",
    "def remove_overflow_data(\n",
    "    data: tuple[MomentumNumpy4D, ...], size: int\n",
    ") -> tuple[MomentumNumpy4D, ...]:\n",
    "    return tuple(momentum[:size] for momentum in data)"
   ]
  },
  {
   "cell_type": "code",
   "execution_count": null,
   "metadata": {
    "editable": true,
    "slideshow": {
     "slide_type": ""
    },
    "tags": []
   },
   "outputs": [],
   "source": [
    "%%time\n",
    "data = generate_data(BW_SH_model, data_events)"
   ]
  },
  {
   "cell_type": "code",
   "execution_count": null,
   "metadata": {
    "editable": true,
    "slideshow": {
     "slide_type": ""
    },
    "tags": []
   },
   "outputs": [],
   "source": [
    "p1_data, p2_data, p3_data, pa_data, pb_data = data"
   ]
  },
  {
   "cell_type": "code",
   "execution_count": null,
   "metadata": {
    "editable": true,
    "slideshow": {
     "slide_type": ""
    },
    "tags": []
   },
   "outputs": [],
   "source": [
    "p12_data = p1_data + p2_data\n",
    "p23_data = p2_data + p3_data\n",
    "p31_data = p3_data + p1_data\n",
    "\n",
    "s12_data = p12_data.m2\n",
    "s23_data = p23_data.m2\n",
    "s31_data = p31_data.m2\n",
    "t1_data = (pa_data - p1_data).m2\n",
    "t2_data = (pa_data - p2_data).m2\n",
    "u3_data = (pb_data - p3_data).m2\n",
    "\n",
    "theta1_data = theta_helicity(p1_data, p12_data)\n",
    "theta2_data = theta_helicity(p2_data, p23_data)\n",
    "theta3_data = theta_helicity(p3_data, p31_data)\n",
    "phi1_data = phi_helicity(p1_data, p12_data)\n",
    "phi2_data = phi_helicity(p2_data, p23_data)\n",
    "phi3_data = phi_helicity(p3_data, p31_data)"
   ]
  },
  {
   "cell_type": "code",
   "execution_count": null,
   "metadata": {
    "editable": true,
    "jupyter": {
     "source_hidden": true
    },
    "slideshow": {
     "slide_type": ""
    },
    "tags": [
     "hide-input",
     "full-width"
    ]
   },
   "outputs": [],
   "source": [
    "fig, (theta_ax, phi_ax, mass_ax) = plt.subplots(figsize=(13, 11), ncols=3, nrows=3)\n",
    "for i, ax in enumerate(theta_ax, 1):\n",
    "    ax.set_title(Rf\"$\\theta_{i}$\")\n",
    "    ax.set_xticks([0, np.pi / 2, np.pi])\n",
    "    ax.set_xticklabels([\"0\", R\"$\\frac{\\pi}{2}$\", R\"$\\pi$\"])\n",
    "for i, ax in enumerate(phi_ax, 1):\n",
    "    ax.set_title(Rf\"$\\phi_{i}$\")\n",
    "    ax.set_xticks([-np.pi, 0, np.pi])\n",
    "    ax.set_xticklabels([R\"-$\\pi$\", 0, R\"$\\pi$\"])\n",
    "for i, ax in enumerate(mass_ax, 1):\n",
    "    ax.set_title(Rf\"$m_{{{i}{(i % 3 + 1)}}}$\")\n",
    "\n",
    "theta_ax[0].hist(\n",
    "    theta1_data,\n",
    "    bins=100,\n",
    "    label=\"data\",\n",
    ")\n",
    "theta_ax[1].hist(\n",
    "    theta2_data,\n",
    "    bins=100,\n",
    "    label=\"data\",\n",
    ")\n",
    "theta_ax[2].hist(\n",
    "    theta3_data,\n",
    "    bins=100,\n",
    "    label=\"data\",\n",
    ")\n",
    "\n",
    "phi_ax[0].hist(\n",
    "    phi1_data,\n",
    "    bins=50,\n",
    "    label=\"data\",\n",
    ")\n",
    "phi_ax[1].hist(\n",
    "    phi2_data,\n",
    "    bins=50,\n",
    "    label=\"data\",\n",
    ")\n",
    "phi_ax[2].hist(\n",
    "    phi3_data,\n",
    "    bins=50,\n",
    "    label=\"data\",\n",
    ")\n",
    "\n",
    "mass_ax[0].hist(\n",
    "    p12_data.m,\n",
    "    bins=100,\n",
    "    label=\"data\",\n",
    ")\n",
    "mass_ax[1].hist(\n",
    "    p23_data.m,\n",
    "    bins=100,\n",
    "    label=\"data\",\n",
    ")\n",
    "mass_ax[2].hist(\n",
    "    p31_data.m,\n",
    "    bins=100,\n",
    "    label=\"data\",\n",
    ")\n",
    "\n",
    "theta_ax[0].legend()\n",
    "phi_ax[0].legend()\n",
    "theta_ax[1].legend()\n",
    "phi_ax[1].legend()\n",
    "theta_ax[2].legend()\n",
    "phi_ax[2].legend()\n",
    "\n",
    "mass_ax[0].legend()\n",
    "mass_ax[1].legend()\n",
    "mass_ax[2].legend()\n",
    "\n",
    "\n",
    "fig.suptitle(R\"Helicity angles and invariant mass\")\n",
    "fig.tight_layout()\n",
    "plt.show()"
   ]
  },
  {
   "cell_type": "code",
   "execution_count": null,
   "metadata": {
    "editable": true,
    "jupyter": {
     "source_hidden": true
    },
    "slideshow": {
     "slide_type": ""
    },
    "tags": [
     "hide-input",
     "full-width"
    ]
   },
   "outputs": [],
   "source": [
    "fig, (theta_ax, phi_ax, mass_ax) = plt.subplots(figsize=(13, 11), ncols=3, nrows=3)\n",
    "for i, ax in enumerate(theta_ax, 1):\n",
    "    ax.set_title(Rf\"$\\theta_{i}$\")\n",
    "    ax.set_xticks([0, np.pi / 2, np.pi])\n",
    "    ax.set_xticklabels([\"0\", R\"$\\frac{\\pi}{2}$\", R\"$\\pi$\"])\n",
    "for i, ax in enumerate(phi_ax, 1):\n",
    "    ax.set_title(Rf\"$\\phi_{i}$\")\n",
    "    ax.set_xticks([-np.pi, 0, np.pi])\n",
    "    ax.set_xticklabels([R\"-$\\pi$\", 0, R\"$\\pi$\"])\n",
    "for i, ax in enumerate(mass_ax, 1):\n",
    "    ax.set_title(Rf\"$m_{{{i}{(i % 3 + 1)}}}$\")\n",
    "\n",
    "theta_ax[0].hist(\n",
    "    theta1_phsp,\n",
    "    bins=100,\n",
    "    color=\"black\",\n",
    "    histtype=\"step\",\n",
    "    label=\"phsp\",\n",
    "    density=True,\n",
    ")\n",
    "theta_ax[1].hist(\n",
    "    theta2_phsp,\n",
    "    bins=100,\n",
    "    color=\"black\",\n",
    "    histtype=\"step\",\n",
    "    label=\"phsp\",\n",
    "    density=True,\n",
    ")\n",
    "theta_ax[2].hist(\n",
    "    theta3_phsp,\n",
    "    bins=100,\n",
    "    color=\"black\",\n",
    "    histtype=\"step\",\n",
    "    label=\"phsp\",\n",
    "    density=True,\n",
    ")\n",
    "theta_ax[0].hist(\n",
    "    theta1_phsp,\n",
    "    bins=100,\n",
    "    weights=weight_BW,\n",
    "    color=\"orange\",\n",
    "    histtype=\"step\",\n",
    "    label=\"only BW\",\n",
    "    density=True,\n",
    ")\n",
    "theta_ax[1].hist(\n",
    "    theta2_phsp,\n",
    "    bins=100,\n",
    "    weights=weight_BW,\n",
    "    color=\"orange\",\n",
    "    histtype=\"step\",\n",
    "    label=\"only BW\",\n",
    "    density=True,\n",
    ")\n",
    "theta_ax[2].hist(\n",
    "    theta3_phsp,\n",
    "    bins=100,\n",
    "    weights=weight_BW,\n",
    "    color=\"orange\",\n",
    "    histtype=\"step\",\n",
    "    label=\"only BW\",\n",
    "    density=True,\n",
    ")\n",
    "theta_ax[0].hist(\n",
    "    theta1_phsp,\n",
    "    bins=100,\n",
    "    weights=weight_SH,\n",
    "    color=\"green\",\n",
    "    histtype=\"step\",\n",
    "    label=\"only SH\",\n",
    "    density=True,\n",
    ")\n",
    "theta_ax[1].hist(\n",
    "    theta2_phsp,\n",
    "    bins=100,\n",
    "    weights=weight_SH,\n",
    "    color=\"green\",\n",
    "    histtype=\"step\",\n",
    "    label=\"only SH\",\n",
    "    density=True,\n",
    ")\n",
    "theta_ax[2].hist(\n",
    "    theta3_phsp,\n",
    "    bins=100,\n",
    "    weights=weight_SH,\n",
    "    color=\"green\",\n",
    "    histtype=\"step\",\n",
    "    label=\"only SH\",\n",
    "    density=True,\n",
    ")\n",
    "theta_ax[0].hist(\n",
    "    theta1_phsp,\n",
    "    bins=100,\n",
    "    weights=weight_BW_SH,\n",
    "    color=\"red\",\n",
    "    histtype=\"step\",\n",
    "    label=\"BW&SH\",\n",
    "    density=True,\n",
    ")\n",
    "theta_ax[1].hist(\n",
    "    theta2_phsp,\n",
    "    bins=100,\n",
    "    weights=weight_BW_SH,\n",
    "    color=\"red\",\n",
    "    histtype=\"step\",\n",
    "    label=\"BW&SH\",\n",
    "    density=True,\n",
    ")\n",
    "theta_ax[2].hist(\n",
    "    theta3_phsp,\n",
    "    bins=100,\n",
    "    weights=weight_BW_SH,\n",
    "    color=\"red\",\n",
    "    histtype=\"step\",\n",
    "    label=\"BW&SH\",\n",
    "    density=True,\n",
    ")\n",
    "\n",
    "\n",
    "phi_ax[0].hist(\n",
    "    phi1_phsp,\n",
    "    bins=100,\n",
    "    color=\"black\",\n",
    "    histtype=\"step\",\n",
    "    label=\"phsp\",\n",
    "    density=True,\n",
    ")\n",
    "phi_ax[1].hist(\n",
    "    phi2_phsp,\n",
    "    bins=100,\n",
    "    color=\"black\",\n",
    "    histtype=\"step\",\n",
    "    label=\"phsp\",\n",
    "    density=True,\n",
    ")\n",
    "phi_ax[2].hist(\n",
    "    phi3_phsp,\n",
    "    bins=100,\n",
    "    color=\"black\",\n",
    "    histtype=\"step\",\n",
    "    label=\"phsp\",\n",
    "    density=True,\n",
    ")\n",
    "phi_ax[0].hist(\n",
    "    phi1_phsp,\n",
    "    bins=100,\n",
    "    weights=weight_BW,\n",
    "    color=\"orange\",\n",
    "    histtype=\"step\",\n",
    "    label=\"only BW\",\n",
    "    density=True,\n",
    ")\n",
    "phi_ax[1].hist(\n",
    "    phi2_phsp,\n",
    "    bins=100,\n",
    "    weights=weight_BW,\n",
    "    color=\"orange\",\n",
    "    histtype=\"step\",\n",
    "    label=\"only BW\",\n",
    "    density=True,\n",
    ")\n",
    "phi_ax[2].hist(\n",
    "    phi3_phsp,\n",
    "    bins=100,\n",
    "    weights=weight_BW,\n",
    "    color=\"orange\",\n",
    "    histtype=\"step\",\n",
    "    label=\"only BW\",\n",
    "    density=True,\n",
    ")\n",
    "phi_ax[0].hist(\n",
    "    phi1_phsp,\n",
    "    bins=100,\n",
    "    weights=weight_SH,\n",
    "    color=\"green\",\n",
    "    histtype=\"step\",\n",
    "    label=\"only SH\",\n",
    "    density=True,\n",
    ")\n",
    "phi_ax[1].hist(\n",
    "    phi2_phsp,\n",
    "    bins=100,\n",
    "    weights=weight_SH,\n",
    "    color=\"green\",\n",
    "    histtype=\"step\",\n",
    "    label=\"only SH\",\n",
    "    density=True,\n",
    ")\n",
    "phi_ax[2].hist(\n",
    "    phi3_phsp,\n",
    "    bins=100,\n",
    "    weights=weight_SH,\n",
    "    color=\"green\",\n",
    "    histtype=\"step\",\n",
    "    label=\"only SH\",\n",
    "    density=True,\n",
    ")\n",
    "phi_ax[0].hist(\n",
    "    phi1_phsp,\n",
    "    bins=100,\n",
    "    weights=weight_BW_SH,\n",
    "    color=\"red\",\n",
    "    histtype=\"step\",\n",
    "    label=\"BW&SH\",\n",
    "    density=True,\n",
    ")\n",
    "phi_ax[1].hist(\n",
    "    phi2_phsp,\n",
    "    bins=100,\n",
    "    weights=weight_BW_SH,\n",
    "    color=\"red\",\n",
    "    histtype=\"step\",\n",
    "    label=\"BW&SH\",\n",
    "    density=True,\n",
    ")\n",
    "phi_ax[2].hist(\n",
    "    phi3_phsp,\n",
    "    bins=100,\n",
    "    weights=weight_BW_SH,\n",
    "    color=\"red\",\n",
    "    histtype=\"step\",\n",
    "    label=\"BW&SH\",\n",
    "    density=True,\n",
    ")\n",
    "\n",
    "\n",
    "mass_ax[0].hist(\n",
    "    p12_phsp.m,\n",
    "    bins=100,\n",
    "    color=\"black\",\n",
    "    histtype=\"step\",\n",
    "    label=\"phsp\",\n",
    "    density=True,\n",
    ")\n",
    "mass_ax[1].hist(\n",
    "    p23_phsp.m,\n",
    "    bins=100,\n",
    "    color=\"black\",\n",
    "    histtype=\"step\",\n",
    "    label=\"phsp\",\n",
    "    density=True,\n",
    ")\n",
    "mass_ax[2].hist(\n",
    "    p31_phsp.m,\n",
    "    bins=100,\n",
    "    color=\"black\",\n",
    "    histtype=\"step\",\n",
    "    label=\"phsp\",\n",
    "    density=True,\n",
    ")\n",
    "mass_ax[0].hist(\n",
    "    p12_phsp.m,\n",
    "    bins=100,\n",
    "    weights=weight_BW,\n",
    "    color=\"orange\",\n",
    "    histtype=\"step\",\n",
    "    label=\"only BW\",\n",
    "    density=True,\n",
    ")\n",
    "mass_ax[1].hist(\n",
    "    p23_phsp.m,\n",
    "    bins=100,\n",
    "    weights=weight_BW,\n",
    "    color=\"orange\",\n",
    "    histtype=\"step\",\n",
    "    label=\"only BW\",\n",
    "    density=True,\n",
    ")\n",
    "mass_ax[2].hist(\n",
    "    p31_phsp.m,\n",
    "    bins=100,\n",
    "    weights=weight_BW,\n",
    "    color=\"orange\",\n",
    "    histtype=\"step\",\n",
    "    label=\"only BW\",\n",
    "    density=True,\n",
    ")\n",
    "mass_ax[0].hist(\n",
    "    p12_phsp.m,\n",
    "    bins=100,\n",
    "    weights=weight_SH,\n",
    "    color=\"green\",\n",
    "    histtype=\"step\",\n",
    "    label=\"only SH\",\n",
    "    density=True,\n",
    ")\n",
    "mass_ax[1].hist(\n",
    "    p23_phsp.m,\n",
    "    bins=100,\n",
    "    weights=weight_SH,\n",
    "    color=\"green\",\n",
    "    histtype=\"step\",\n",
    "    label=\"only SH\",\n",
    "    density=True,\n",
    ")\n",
    "mass_ax[2].hist(\n",
    "    p31_phsp.m,\n",
    "    bins=100,\n",
    "    weights=weight_SH,\n",
    "    color=\"green\",\n",
    "    histtype=\"step\",\n",
    "    label=\"only SH\",\n",
    "    density=True,\n",
    ")\n",
    "mass_ax[0].hist(\n",
    "    p12_phsp.m,\n",
    "    bins=100,\n",
    "    weights=weight_BW_SH,\n",
    "    color=\"red\",\n",
    "    histtype=\"step\",\n",
    "    label=\"BW&SH\",\n",
    "    density=True,\n",
    ")\n",
    "mass_ax[1].hist(\n",
    "    p23_phsp.m,\n",
    "    bins=100,\n",
    "    weights=weight_BW_SH,\n",
    "    color=\"red\",\n",
    "    histtype=\"step\",\n",
    "    label=\"BW&SH\",\n",
    "    density=True,\n",
    ")\n",
    "mass_ax[2].hist(\n",
    "    p31_phsp.m,\n",
    "    bins=100,\n",
    "    weights=weight_BW_SH,\n",
    "    color=\"red\",\n",
    "    histtype=\"step\",\n",
    "    label=\"BW&SH\",\n",
    "    density=True,\n",
    ")\n",
    "\n",
    "theta_ax[0].hist(\n",
    "    theta1_data,\n",
    "    bins=100,\n",
    "    label=\"data\",\n",
    "    density=True,\n",
    ")\n",
    "theta_ax[1].hist(\n",
    "    theta2_data,\n",
    "    bins=100,\n",
    "    label=\"data\",\n",
    "    density=True,\n",
    ")\n",
    "theta_ax[2].hist(\n",
    "    theta3_data,\n",
    "    bins=100,\n",
    "    label=\"data\",\n",
    "    density=True,\n",
    ")\n",
    "\n",
    "phi_ax[0].hist(\n",
    "    phi1_data,\n",
    "    bins=100,\n",
    "    label=\"data\",\n",
    "    density=True,\n",
    ")\n",
    "phi_ax[1].hist(\n",
    "    phi2_data,\n",
    "    bins=100,\n",
    "    label=\"data\",\n",
    "    density=True,\n",
    ")\n",
    "phi_ax[2].hist(\n",
    "    phi3_data,\n",
    "    bins=100,\n",
    "    label=\"data\",\n",
    "    density=True,\n",
    ")\n",
    "\n",
    "mass_ax[0].hist(\n",
    "    p12_data.m,\n",
    "    bins=100,\n",
    "    label=\"data\",\n",
    "    density=True,\n",
    ")\n",
    "mass_ax[1].hist(\n",
    "    p23_data.m,\n",
    "    bins=100,\n",
    "    label=\"data\",\n",
    "    density=True,\n",
    ")\n",
    "mass_ax[2].hist(\n",
    "    p31_data.m,\n",
    "    bins=100,\n",
    "    label=\"data\",\n",
    "    density=True,\n",
    ")\n",
    "\n",
    "theta_ax[0].legend()\n",
    "phi_ax[0].legend()\n",
    "theta_ax[1].legend()\n",
    "phi_ax[1].legend()\n",
    "theta_ax[2].legend()\n",
    "phi_ax[2].legend()\n",
    "\n",
    "mass_ax[0].legend()\n",
    "mass_ax[1].legend()\n",
    "mass_ax[2].legend()\n",
    "\n",
    "\n",
    "fig.suptitle(\n",
    "    R\"Helicity angles and invariant mass: phsp, data, and models with good initial guess of parameters\"\n",
    ")\n",
    "fig.tight_layout()\n",
    "plt.show()"
   ]
  },
  {
   "cell_type": "code",
   "execution_count": null,
   "metadata": {
    "editable": true,
    "slideshow": {
     "slide_type": ""
    },
    "tags": []
   },
   "outputs": [],
   "source": [
    "fig, ax = plt.subplots(figsize=(6, 5))\n",
    "fig.suptitle(\"Dalitz Plot of Generated Data\")\n",
    "hist = ax.hist2d(s12_data, s23_data, bins=100, cmin=1e-6, density=True, cmap=\"jet\")\n",
    "ax.set_xlabel(r\"$s_{12}$\")\n",
    "ax.set_ylabel(r\"$s_{23}$\")\n",
    "cbar = fig.colorbar(hist[3], ax=ax)\n",
    "fig.tight_layout()\n",
    "fig.show()"
   ]
  },
  {
   "cell_type": "markdown",
   "metadata": {
    "editable": true,
    "slideshow": {
     "slide_type": ""
    },
    "tags": []
   },
   "source": [
    "## Fitting "
   ]
  },
  {
   "cell_type": "markdown",
   "metadata": {
    "editable": true,
    "slideshow": {
     "slide_type": ""
    },
    "tags": []
   },
   "source": [
    "The initial guess of parameters before fittings.\n",
    "We make a small offset for some default parameters, in an arbitrary choice of values, which are usually the case as initial guess before fitting.\n",
    "\n",
    "In this particular situation, the parameters (to be fitted) are mass $M$ ($M_{12}$, $M_{23}$, and $M_{31}$) and decay width $\\Gamma$ (($\\Gamma_{12}$, $\\Gamma_{23}$, and $\\Gamma_{31}$)).\n",
    "While the kinematics variables (Mandelstam variable $s$ ($s_{12}$, $s_{23}$, and $s_{31}$) and helicity angles $\\theta$ (($\\theta_{12}$, $\\theta_{23}$, and $\\theta_{31}$)) and $\\phi$ (($\\phi_{12}$, $\\phi_{23}$, and $\\phi_{31}$))) are used from phase space."
   ]
  },
  {
   "cell_type": "markdown",
   "metadata": {
    "editable": true,
    "slideshow": {
     "slide_type": ""
    },
    "tags": []
   },
   "source": [
    "### Starting values for parameters"
   ]
  },
  {
   "cell_type": "code",
   "execution_count": null,
   "metadata": {
    "editable": true,
    "slideshow": {
     "slide_type": ""
    },
    "tags": []
   },
   "outputs": [],
   "source": [
    "new_initial_parameters = dict(\n",
    "    M12=M12 + 0.08,\n",
    "    Gamma12=Gamma12 + 0.2,\n",
    "    M23=M23 + 0.05,\n",
    "    Gamma23=Gamma23 - 0.05,\n",
    "    M31=M31 - 0.05,\n",
    "    Gamma31=Gamma31 + 0.1,\n",
    "    a_minus2=a_minus2 + 0.01,\n",
    "    a_minus1=a_minus1 + 0.01,\n",
    "    a_0=a_0 + 0.01,\n",
    "    a_plus1=a_plus1 + 0.01,\n",
    "    a_plus2=a_plus2 + 0.01,\n",
    "    b_minus1=b_minus1 + 0.01,\n",
    "    b_0=b_0 + 0.01,\n",
    "    b_plus1=b_plus1 + 0.01,\n",
    "    c_0=c_0 + 0.01,\n",
    ")\n",
    "\n",
    "new_weight_BW_SH = BW_SH_model(\n",
    "    s12_phsp,\n",
    "    s23_phsp,\n",
    "    s31_phsp,\n",
    "    phi1_phsp,\n",
    "    theta1_phsp,\n",
    "    phi2_phsp,\n",
    "    theta2_phsp,\n",
    "    M12=new_initial_parameters.get(\"M12\"),\n",
    "    Gamma12=new_initial_parameters.get(\"Gamma12\"),\n",
    "    M23=new_initial_parameters.get(\"M23\"),\n",
    "    Gamma23=new_initial_parameters.get(\"Gamma23\"),\n",
    "    M31=new_initial_parameters.get(\"M31\"),\n",
    "    Gamma31=new_initial_parameters.get(\"Gamma31\"),\n",
    "    a_minus2=new_initial_parameters.get(\"a_minus2\"),\n",
    "    a_minus1=new_initial_parameters.get(\"a_minus1\"),\n",
    "    a_0=new_initial_parameters.get(\"a_0\"),\n",
    "    a_plus1=new_initial_parameters.get(\"a_plus1\"),\n",
    "    a_plus2=new_initial_parameters.get(\"a_plus2\"),\n",
    "    b_minus1=new_initial_parameters.get(\"b_minus1\"),\n",
    "    b_0=new_initial_parameters.get(\"b_0\"),\n",
    "    b_plus1=new_initial_parameters.get(\"b_plus1\"),\n",
    "    c_0=new_initial_parameters.get(\"c_0\"),\n",
    ")"
   ]
  },
  {
   "cell_type": "code",
   "execution_count": null,
   "metadata": {
    "editable": true,
    "jupyter": {
     "source_hidden": true
    },
    "slideshow": {
     "slide_type": ""
    },
    "tags": [
     "hide-input",
     "full-width"
    ]
   },
   "outputs": [],
   "source": [
    "fig, (theta_ax, phi_ax, mass_ax) = plt.subplots(figsize=(13, 11), ncols=3, nrows=3)\n",
    "for i, ax in enumerate(theta_ax, 1):\n",
    "    ax.set_title(Rf\"$\\theta_{i}$\")\n",
    "    ax.set_xticks([0, np.pi / 2, np.pi])\n",
    "    ax.set_xticklabels([\"0\", R\"$\\frac{\\pi}{2}$\", R\"$\\pi$\"])\n",
    "for i, ax in enumerate(phi_ax, 1):\n",
    "    ax.set_title(Rf\"$\\phi_{i}$\")\n",
    "    ax.set_xticks([-np.pi, 0, np.pi])\n",
    "    ax.set_xticklabels([R\"-$\\pi$\", 0, R\"$\\pi$\"])\n",
    "for i, ax in enumerate(mass_ax, 1):\n",
    "    ax.set_title(Rf\"$m_{{{i}{(i % 3 + 1)}}}$\")\n",
    "\n",
    "theta_ax[0].hist(\n",
    "    theta1_data,\n",
    "    bins=100,\n",
    "    label=\"data\",\n",
    "    density=True,\n",
    ")\n",
    "theta_ax[1].hist(\n",
    "    theta2_data,\n",
    "    bins=100,\n",
    "    label=\"data\",\n",
    "    density=True,\n",
    ")\n",
    "theta_ax[2].hist(\n",
    "    theta3_data,\n",
    "    bins=100,\n",
    "    label=\"data\",\n",
    "    density=True,\n",
    ")\n",
    "\n",
    "phi_ax[0].hist(\n",
    "    phi1_data,\n",
    "    bins=50,\n",
    "    label=\"data\",\n",
    "    density=True,\n",
    ")\n",
    "phi_ax[1].hist(\n",
    "    phi2_data,\n",
    "    bins=50,\n",
    "    label=\"data\",\n",
    "    density=True,\n",
    ")\n",
    "phi_ax[2].hist(\n",
    "    phi3_data,\n",
    "    bins=50,\n",
    "    label=\"data\",\n",
    "    density=True,\n",
    ")\n",
    "\n",
    "mass_ax[0].hist(\n",
    "    p12_data.m,\n",
    "    bins=100,\n",
    "    label=\"data\",\n",
    "    density=True,\n",
    ")\n",
    "mass_ax[1].hist(\n",
    "    p23_data.m,\n",
    "    bins=100,\n",
    "    label=\"data\",\n",
    "    density=True,\n",
    ")\n",
    "mass_ax[2].hist(\n",
    "    p31_data.m,\n",
    "    bins=100,\n",
    "    label=\"data\",\n",
    "    density=True,\n",
    ")\n",
    "\n",
    "\n",
    "theta_ax[0].hist(\n",
    "    theta1_phsp,\n",
    "    bins=100,\n",
    "    weights=new_weight_BW_SH,\n",
    "    color=\"red\",\n",
    "    histtype=\"step\",\n",
    "    label=\"BW&SH\",\n",
    "    density=True,\n",
    ")\n",
    "theta_ax[1].hist(\n",
    "    theta2_phsp,\n",
    "    bins=100,\n",
    "    weights=new_weight_BW_SH,\n",
    "    color=\"red\",\n",
    "    histtype=\"step\",\n",
    "    label=\"BW&SH\",\n",
    "    density=True,\n",
    ")\n",
    "theta_ax[2].hist(\n",
    "    theta3_phsp,\n",
    "    bins=100,\n",
    "    weights=new_weight_BW_SH,\n",
    "    color=\"red\",\n",
    "    histtype=\"step\",\n",
    "    label=\"BW&SH\",\n",
    "    density=True,\n",
    ")\n",
    "phi_ax[0].hist(\n",
    "    phi1_phsp,\n",
    "    bins=50,\n",
    "    weights=new_weight_BW_SH,\n",
    "    color=\"red\",\n",
    "    histtype=\"step\",\n",
    "    label=\"BW&SH\",\n",
    "    density=True,\n",
    ")\n",
    "phi_ax[1].hist(\n",
    "    phi2_phsp,\n",
    "    bins=50,\n",
    "    weights=new_weight_BW_SH,\n",
    "    color=\"red\",\n",
    "    histtype=\"step\",\n",
    "    label=\"BW&SH\",\n",
    "    density=True,\n",
    ")\n",
    "phi_ax[2].hist(\n",
    "    phi3_phsp,\n",
    "    bins=50,\n",
    "    weights=new_weight_BW_SH,\n",
    "    color=\"red\",\n",
    "    histtype=\"step\",\n",
    "    label=\"BW&SH\",\n",
    "    density=True,\n",
    ")\n",
    "mass_ax[0].hist(\n",
    "    p12_phsp.m,\n",
    "    bins=100,\n",
    "    weights=new_weight_BW_SH,\n",
    "    color=\"red\",\n",
    "    histtype=\"step\",\n",
    "    label=\"BW&SH\",\n",
    "    density=True,\n",
    ")\n",
    "mass_ax[1].hist(\n",
    "    p23_phsp.m,\n",
    "    bins=100,\n",
    "    weights=new_weight_BW_SH,\n",
    "    color=\"red\",\n",
    "    histtype=\"step\",\n",
    "    label=\"BW&SH\",\n",
    "    density=True,\n",
    ")\n",
    "mass_ax[2].hist(\n",
    "    p31_phsp.m,\n",
    "    bins=100,\n",
    "    weights=new_weight_BW_SH,\n",
    "    color=\"red\",\n",
    "    histtype=\"step\",\n",
    "    label=\"BW&SH\",\n",
    "    density=True,\n",
    ")\n",
    "\n",
    "\n",
    "theta_ax[0].legend()\n",
    "phi_ax[0].legend()\n",
    "theta_ax[1].legend()\n",
    "phi_ax[1].legend()\n",
    "theta_ax[2].legend()\n",
    "phi_ax[2].legend()\n",
    "\n",
    "mass_ax[0].legend()\n",
    "mass_ax[1].legend()\n",
    "mass_ax[2].legend()\n",
    "\n",
    "\n",
    "fig.suptitle(\n",
    "    R\"Helicity angles and invariant mass (Before fitting: rough arbitrary guess of parameters for BW $\\times$ SH model)\"\n",
    ")\n",
    "fig.tight_layout()\n",
    "plt.show()"
   ]
  },
  {
   "cell_type": "markdown",
   "metadata": {
    "editable": true,
    "slideshow": {
     "slide_type": ""
    },
    "tags": []
   },
   "source": [
    "### Estimator and unbinned Log likelihood function"
   ]
  },
  {
   "cell_type": "markdown",
   "metadata": {
    "editable": true,
    "slideshow": {
     "slide_type": ""
    },
    "tags": []
   },
   "source": [
    "To perform a fit for parameters estimation by using unbinned log likelihood function:"
   ]
  },
  {
   "cell_type": "code",
   "execution_count": null,
   "metadata": {
    "editable": true,
    "slideshow": {
     "slide_type": ""
    },
    "tags": []
   },
   "outputs": [],
   "source": [
    "def unbinned_nll(\n",
    "    M12,\n",
    "    Gamma12,\n",
    "    M23,\n",
    "    Gamma23,\n",
    "    M31,\n",
    "    Gamma31,\n",
    "    a_minus2,\n",
    "    a_minus1,\n",
    "    a_0,\n",
    "    a_plus1,\n",
    "    a_plus2,\n",
    "    b_minus1,\n",
    "    b_0,\n",
    "    b_plus1,\n",
    "    c_0,\n",
    ") -> float:\n",
    "    phsp = (\n",
    "        s12_phsp,\n",
    "        s23_phsp,\n",
    "        s31_phsp,\n",
    "        phi1_phsp,\n",
    "        theta1_phsp,\n",
    "        phi2_phsp,\n",
    "        theta2_phsp,\n",
    "    )\n",
    "    parameter = dict(\n",
    "        M12=M12,\n",
    "        Gamma12=Gamma12,\n",
    "        M23=M23,\n",
    "        Gamma23=Gamma23,\n",
    "        M31=M31,\n",
    "        Gamma31=Gamma31,\n",
    "        a_minus2=a_minus2,\n",
    "        a_minus1=a_minus1,\n",
    "        a_0=a_0,\n",
    "        a_plus1=a_plus1,\n",
    "        a_plus2=a_plus2,\n",
    "        b_minus1=b_minus1,\n",
    "        b_0=b_0,\n",
    "        b_plus1=b_plus1,\n",
    "        c_0=c_0,\n",
    "    )\n",
    "    data = (\n",
    "        p12_data.m2,\n",
    "        p23_data.m2,\n",
    "        p31_data.m2,\n",
    "        phi1_data,\n",
    "        theta1_data,\n",
    "        phi2_data,\n",
    "        theta2_data,\n",
    "    )\n",
    "    model_integral = BW_SH_model(*phsp, **parameter).mean()\n",
    "    data_intensities = BW_SH_model(*data, **parameter)\n",
    "    likelihoods = data_intensities / model_integral\n",
    "    log_likelihood = np.log(likelihoods).sum()\n",
    "    return -log_likelihood"
   ]
  },
  {
   "cell_type": "markdown",
   "metadata": {
    "editable": true,
    "slideshow": {
     "slide_type": ""
    },
    "tags": []
   },
   "source": [
    ":::{tip}\n",
    "The phase space (phsp) is used for the normalization calculation for the unbinned Log likelihood function\n",
    ":::"
   ]
  },
  {
   "cell_type": "code",
   "execution_count": null,
   "metadata": {
    "editable": true,
    "slideshow": {
     "slide_type": ""
    },
    "tags": []
   },
   "outputs": [],
   "source": [
    "%%time\n",
    "unbinned_nll(\n",
    "    M12=new_initial_parameters.get(\"M12\"),\n",
    "    Gamma12=new_initial_parameters.get(\"Gamma12\"),\n",
    "    M23=new_initial_parameters.get(\"M23\"),\n",
    "    Gamma23=new_initial_parameters.get(\"Gamma23\"),\n",
    "    M31=new_initial_parameters.get(\"M31\"),\n",
    "    Gamma31=new_initial_parameters.get(\"Gamma31\"),\n",
    "    a_minus2=new_initial_parameters.get(\"a_minus2\"),\n",
    "    a_minus1=new_initial_parameters.get(\"a_minus1\"),\n",
    "    a_0=new_initial_parameters.get(\"a_0\"),\n",
    "    a_plus1=new_initial_parameters.get(\"a_plus1\"),\n",
    "    a_plus2=new_initial_parameters.get(\"a_plus2\"),\n",
    "    b_minus1=new_initial_parameters.get(\"b_minus1\"),\n",
    "    b_0=new_initial_parameters.get(\"b_0\"),\n",
    "    b_plus1=new_initial_parameters.get(\"b_plus1\"),\n",
    "    c_0=new_initial_parameters.get(\"c_0\"),\n",
    ")"
   ]
  },
  {
   "cell_type": "markdown",
   "metadata": {
    "editable": true,
    "slideshow": {
     "slide_type": ""
    },
    "tags": []
   },
   "source": [
    "### Optimizer"
   ]
  },
  {
   "cell_type": "markdown",
   "metadata": {},
   "source": [
    "As a final step in this work, it is necessary to go for finding the parameter values that maximize this function, i.e., performing the optimization. \n",
    "\n",
    "This can be e.g. performed by `iminuit` package in python."
   ]
  },
  {
   "cell_type": "code",
   "execution_count": null,
   "metadata": {
    "editable": true,
    "slideshow": {
     "slide_type": ""
    },
    "tags": []
   },
   "outputs": [],
   "source": [
    "from iminuit import Minuit\n",
    "\n",
    "optimizer = Minuit(unbinned_nll, **new_initial_parameters)\n",
    "optimizer.errordef = Minuit.LIKELIHOOD\n",
    "optimizer"
   ]
  },
  {
   "cell_type": "code",
   "execution_count": null,
   "metadata": {
    "editable": true,
    "slideshow": {
     "slide_type": ""
    },
    "tags": []
   },
   "outputs": [],
   "source": [
    "%%time\n",
    "optimizer.migrad()"
   ]
  },
  {
   "cell_type": "code",
   "execution_count": null,
   "metadata": {
    "editable": true,
    "slideshow": {
     "slide_type": ""
    },
    "tags": []
   },
   "outputs": [],
   "source": [
    "optimized_parameters = {p.name: p.value for p in optimizer.params}\n",
    "rounded_optimized_parameters = {\n",
    "    p.name: round(p.value, 3)\n",
    "    for p in optimizer.params  # round up in 3 digits\n",
    "}\n",
    "print(\"The values of fitted parameters:\")\n",
    "rounded_optimized_parameters"
   ]
  },
  {
   "cell_type": "code",
   "execution_count": null,
   "metadata": {
    "editable": true,
    "slideshow": {
     "slide_type": ""
    },
    "tags": []
   },
   "outputs": [],
   "source": [
    "print(\"Compare them to the the default initial parameters:\")\n",
    "initial_parameters"
   ]
  },
  {
   "cell_type": "markdown",
   "metadata": {
    "editable": true,
    "slideshow": {
     "slide_type": ""
    },
    "tags": []
   },
   "source": [
    "### Final fit result"
   ]
  },
  {
   "cell_type": "code",
   "execution_count": null,
   "metadata": {
    "editable": true,
    "slideshow": {
     "slide_type": ""
    },
    "tags": []
   },
   "outputs": [],
   "source": [
    "fitted_weight_BW_SH = BW_SH_model(\n",
    "    s12_phsp,\n",
    "    s23_phsp,\n",
    "    s31_phsp,\n",
    "    phi1_phsp,\n",
    "    theta1_phsp,\n",
    "    phi2_phsp,\n",
    "    theta2_phsp,\n",
    "    M12=optimizer.params[0].value,\n",
    "    Gamma12=optimizer.params[1].value,\n",
    "    M23=optimizer.params[2].value,\n",
    "    Gamma23=optimizer.params[3].value,\n",
    "    M31=optimizer.params[4].value,\n",
    "    Gamma31=optimizer.params[5].value,\n",
    "    a_minus2=optimizer.params[6].value,\n",
    "    a_minus1=optimizer.params[7].value,\n",
    "    a_0=optimizer.params[8].value,\n",
    "    a_plus1=optimizer.params[9].value,\n",
    "    a_plus2=optimizer.params[10].value,\n",
    "    b_minus1=optimizer.params[11].value,\n",
    "    b_0=optimizer.params[12].value,\n",
    "    b_plus1=optimizer.params[13].value,\n",
    "    c_0=optimizer.params[14].value,\n",
    ")"
   ]
  },
  {
   "cell_type": "code",
   "execution_count": null,
   "metadata": {
    "editable": true,
    "jupyter": {
     "source_hidden": true
    },
    "slideshow": {
     "slide_type": ""
    },
    "tags": [
     "hide-input",
     "full-width"
    ]
   },
   "outputs": [],
   "source": [
    "fig, (theta_ax, phi_ax, mass_ax) = plt.subplots(figsize=(13, 11), ncols=3, nrows=3)\n",
    "for i, ax in enumerate(theta_ax, 1):\n",
    "    ax.set_title(Rf\"$\\theta_{i}$\")\n",
    "    ax.set_xticks([0, np.pi / 2, np.pi])\n",
    "    ax.set_xticklabels([\"0\", R\"$\\frac{\\pi}{2}$\", R\"$\\pi$\"])\n",
    "for i, ax in enumerate(phi_ax, 1):\n",
    "    ax.set_title(Rf\"$\\phi_{i}$\")\n",
    "    ax.set_xticks([-np.pi, 0, np.pi])\n",
    "    ax.set_xticklabels([R\"-$\\pi$\", 0, R\"$\\pi$\"])\n",
    "for i, ax in enumerate(mass_ax, 1):\n",
    "    ax.set_title(Rf\"$m_{{{i}{(i % 3 + 1)}}}$\")\n",
    "\n",
    "theta_ax[0].hist(\n",
    "    theta1_data,\n",
    "    bins=100,\n",
    "    label=\"data\",\n",
    "    density=True,\n",
    ")\n",
    "theta_ax[1].hist(\n",
    "    theta2_data,\n",
    "    bins=100,\n",
    "    label=\"data\",\n",
    "    density=True,\n",
    ")\n",
    "theta_ax[2].hist(\n",
    "    theta3_data,\n",
    "    bins=100,\n",
    "    label=\"data\",\n",
    "    density=True,\n",
    ")\n",
    "\n",
    "phi_ax[0].hist(\n",
    "    phi1_data,\n",
    "    bins=50,\n",
    "    label=\"data\",\n",
    "    density=True,\n",
    ")\n",
    "phi_ax[1].hist(\n",
    "    phi2_data,\n",
    "    bins=50,\n",
    "    label=\"data\",\n",
    "    density=True,\n",
    ")\n",
    "phi_ax[2].hist(\n",
    "    phi3_data,\n",
    "    bins=50,\n",
    "    label=\"data\",\n",
    "    density=True,\n",
    ")\n",
    "\n",
    "mass_ax[0].hist(\n",
    "    p12_data.m,\n",
    "    bins=100,\n",
    "    label=\"data\",\n",
    "    density=True,\n",
    ")\n",
    "mass_ax[1].hist(\n",
    "    p23_data.m,\n",
    "    bins=100,\n",
    "    label=\"data\",\n",
    "    density=True,\n",
    ")\n",
    "mass_ax[2].hist(\n",
    "    p31_data.m,\n",
    "    bins=100,\n",
    "    label=\"data\",\n",
    "    density=True,\n",
    ")\n",
    "\n",
    "\n",
    "theta_ax[0].hist(\n",
    "    theta1_phsp,\n",
    "    bins=100,\n",
    "    weights=fitted_weight_BW_SH,\n",
    "    color=\"red\",\n",
    "    histtype=\"step\",\n",
    "    label=\"BW&SH\",\n",
    "    density=True,\n",
    ")\n",
    "theta_ax[1].hist(\n",
    "    theta2_phsp,\n",
    "    bins=100,\n",
    "    weights=fitted_weight_BW_SH,\n",
    "    color=\"red\",\n",
    "    histtype=\"step\",\n",
    "    label=\"BW&SH\",\n",
    "    density=True,\n",
    ")\n",
    "theta_ax[2].hist(\n",
    "    theta3_phsp,\n",
    "    bins=100,\n",
    "    weights=fitted_weight_BW_SH,\n",
    "    color=\"red\",\n",
    "    histtype=\"step\",\n",
    "    label=\"BW&SH\",\n",
    "    density=True,\n",
    ")\n",
    "phi_ax[0].hist(\n",
    "    phi1_phsp,\n",
    "    bins=50,\n",
    "    weights=fitted_weight_BW_SH,\n",
    "    color=\"red\",\n",
    "    histtype=\"step\",\n",
    "    label=\"BW&SH\",\n",
    "    density=True,\n",
    ")\n",
    "phi_ax[1].hist(\n",
    "    phi2_phsp,\n",
    "    bins=50,\n",
    "    weights=fitted_weight_BW_SH,\n",
    "    color=\"red\",\n",
    "    histtype=\"step\",\n",
    "    label=\"BW&SH\",\n",
    "    density=True,\n",
    ")\n",
    "phi_ax[2].hist(\n",
    "    phi3_phsp,\n",
    "    bins=50,\n",
    "    weights=fitted_weight_BW_SH,\n",
    "    color=\"red\",\n",
    "    histtype=\"step\",\n",
    "    label=\"BW&SH\",\n",
    "    density=True,\n",
    ")\n",
    "mass_ax[0].hist(\n",
    "    p12_phsp.m,\n",
    "    bins=100,\n",
    "    weights=fitted_weight_BW_SH,\n",
    "    color=\"red\",\n",
    "    histtype=\"step\",\n",
    "    label=\"BW&SH\",\n",
    "    density=True,\n",
    ")\n",
    "mass_ax[1].hist(\n",
    "    p23_phsp.m,\n",
    "    bins=100,\n",
    "    weights=fitted_weight_BW_SH,\n",
    "    color=\"red\",\n",
    "    histtype=\"step\",\n",
    "    label=\"BW&SH\",\n",
    "    density=True,\n",
    ")\n",
    "mass_ax[2].hist(\n",
    "    p31_phsp.m,\n",
    "    bins=100,\n",
    "    weights=fitted_weight_BW_SH,\n",
    "    color=\"red\",\n",
    "    histtype=\"step\",\n",
    "    label=\"BW&SH\",\n",
    "    density=True,\n",
    ")\n",
    "\n",
    "\n",
    "theta_ax[0].legend()\n",
    "phi_ax[0].legend()\n",
    "theta_ax[1].legend()\n",
    "phi_ax[1].legend()\n",
    "theta_ax[2].legend()\n",
    "phi_ax[2].legend()\n",
    "\n",
    "mass_ax[0].legend()\n",
    "mass_ax[1].legend()\n",
    "mass_ax[2].legend()\n",
    "\n",
    "\n",
    "fig.suptitle(\n",
    "    R\"Helicity angles and invariant mass (After fitting: updated fitted parameters for BW $\\times$ SH model)\"\n",
    ")\n",
    "fig.tight_layout()\n",
    "plt.show()"
   ]
  },
  {
   "cell_type": "markdown",
   "metadata": {},
   "source": [
    "#### Dalitz plots of phsp, data, and fit result"
   ]
  },
  {
   "cell_type": "code",
   "execution_count": null,
   "metadata": {
    "editable": true,
    "slideshow": {
     "slide_type": ""
    },
    "tags": [
     "full-width",
     "hide-input"
    ]
   },
   "outputs": [],
   "source": [
    "fig, (ax1, ax2, ax3) = plt.subplots(figsize=(12, 4), ncols=3, sharey=True)\n",
    "fig.suptitle(\n",
    "    R\"Dalitz Plots of Phase space, generated data, and fitted BW $\\times$ SH model\"\n",
    ")\n",
    "hist2 = ax2.hist2d(s12_data, s23_data, bins=100, cmin=1e-6, density=True, cmap=\"jet\")\n",
    "ax2.set_xlabel(R\"$s_{12}$\")\n",
    "ax2.set_title(\"Generated data\")\n",
    "ax2.set_ylabel(R\"$s_{23}$\")\n",
    "\n",
    "hist1 = ax1.hist2d(s12_phsp, s23_phsp, bins=100, cmin=1e-2, density=True, cmap=\"jet\")\n",
    "ax1.set_title(\"Phase space\")\n",
    "ax1.set_xlabel(R\"$s_{12}$\")\n",
    "ax1.set_ylabel(R\"$s_{23}$\")\n",
    "\n",
    "hist3 = ax3.hist2d(\n",
    "    s12_phsp,\n",
    "    s23_phsp,\n",
    "    bins=100,\n",
    "    weights=fitted_weight_BW_SH,\n",
    "    cmin=1e-6,\n",
    "    density=True,\n",
    "    cmap=\"jet\",\n",
    ")\n",
    "ax3.set_title(R\"BW $\\times$ SH model\")\n",
    "ax3.set_xlabel(R\"$s_{12}$\")\n",
    "ax3.set_ylabel(R\"$s_{23}$\")\n",
    "\n",
    "cbar1 = fig.colorbar(hist1[3], ax=ax1)\n",
    "cbar2 = fig.colorbar(hist2[3], ax=ax2)\n",
    "cbar3 = fig.colorbar(hist3[3], ax=ax3)\n",
    "\n",
    "fig.tight_layout()\n",
    "fig.show()"
   ]
  }
 ],
 "metadata": {
  "colab": {
   "toc_visible": true
  },
  "kernelspec": {
   "display_name": "Python 3 (ipykernel)",
   "language": "python",
   "name": "python3"
  },
  "language_info": {
   "codemirror_mode": {
    "name": "ipython",
    "version": 3
   },
   "file_extension": ".py",
   "mimetype": "text/x-python",
   "name": "python",
   "nbconvert_exporter": "python",
   "pygments_lexer": "ipython3",
   "version": "3.10.13"
  }
 },
 "nbformat": 4,
 "nbformat_minor": 4
}
