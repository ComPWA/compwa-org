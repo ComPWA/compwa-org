{
 "cells": [
  {
   "cell_type": "markdown",
   "metadata": {},
   "source": [
    "# [TR-005] Non-relativistic K-matrix"
   ]
  },
  {
   "cell_type": "markdown",
   "metadata": {
    "tags": [
     "remove-cell"
    ]
   },
   "source": [
    "<!-- cspell:ignore Cayley -->"
   ]
  },
  {
   "cell_type": "markdown",
   "metadata": {},
   "source": [
    "This report investigates how to implement non-relativistic $K$-matrix dynamics with {doc}`SymPy <sympy:index>`. The non-relativistic case is simplest and allows us to check whether the case $n_R=1, n=1$ (single resonance, single channel) reduces to a non-relativistic Breit-Wigner function.[^1] We followed the physics as described by {pdg-review}`Resonances` and {cite}`chungPartialWaveAnalysis1995,petersPartialWaveAnalysis2004,meyerMatrixTutorial2008`.\n",
    "\n",
    "[^1]: Of course, there is no need to work with matrices in this $1 \\times 1$ case. To keeps things general, however, we keep using matrices.\n",
    "\n",
    "The challenge is to generate a correct parametrization for an arbitrary **number of coupled channels $n$** and an arbitrary **number of resonances $n_R$**. Our approach is to construct an $n \\times n$ {class}`sympy.Matrix <sympy.matrices.dense.MutableDenseMatrix>` with {class}`~sympy.core.symbol.Symbol`s as its elements. We then use substitute these {class}`~sympy.core.symbol.Symbol`s with certain parametrizations using {meth}`~sympy.core.basic.Basic.subs`. In order to generate symbols for $n_R$ resonances and $n$ channels, we use {doc}`indexed symbols <modules/tensor/indexed>`.\n",
    "\n",
    "This approach is less elegant and (theoretically) slower than using {class}`~sympy.matrices.expressions.MatrixSymbol`s. That approach is explored in {doc}`/report/007`."
   ]
  },
  {
   "cell_type": "code",
   "execution_count": null,
   "metadata": {
    "jupyter": {
     "source_hidden": true
    },
    "tags": [
     "hide-cell"
    ]
   },
   "outputs": [],
   "source": [
    "%matplotlib widget\n",
    "import os\n",
    "import warnings\n",
    "from typing import Union\n",
    "\n",
    "import matplotlib.pyplot as plt\n",
    "import mpl_interactions.ipyplot as iplt\n",
    "import numpy as np\n",
    "import symplot\n",
    "import sympy as sp\n",
    "from IPython.display import Image, Math\n",
    "from ipywidgets import widgets as ipywidgets\n",
    "from matplotlib import cm\n",
    "from mpl_interactions.controller import Controls\n",
    "\n",
    "warnings.filterwarnings(\"ignore\")\n",
    "STATIC_WEB_PAGE = {\"EXECUTE_NB\", \"READTHEDOCS\"}.intersection(os.environ)"
   ]
  },
  {
   "cell_type": "markdown",
   "metadata": {},
   "source": [
    "## Procedure"
   ]
  },
  {
   "cell_type": "markdown",
   "metadata": {},
   "source": [
    "It would be nice to use a {class}`~sympy.core.symbol.Symbol` to represent the number of channels $n$ and specify its value later:"
   ]
  },
  {
   "cell_type": "code",
   "execution_count": null,
   "metadata": {},
   "outputs": [],
   "source": [
    "n_channels = sp.Symbol(\"n\", integer=True, positive=True)"
   ]
  },
  {
   "cell_type": "markdown",
   "metadata": {},
   "source": [
    "Unfortunately, this does not work well in the {class}`Matrix <sympy.matrices.dense.MutableDenseMatrix>` class. We therefore set variables $n$ to a specific {obj}`int` value and define some other {class}`~sympy.core.symbol.Symbol`s for the rest of the implementation.[^2] The value we choose in this example is `n=1`, because we want to see if this reproduces a non-relativistic Breit-Wigner function.\n",
    "\n",
    "[^2]: We use {class}`~sympy.core.symbol.Symbol`s as indices, because that renders more nicely."
   ]
  },
  {
   "cell_type": "code",
   "execution_count": null,
   "metadata": {
    "tags": []
   },
   "outputs": [],
   "source": [
    "n_channels = 1\n",
    "i, j, R, n_resonances = sp.symbols(\n",
    "    \"i j R n_R\", integer=True, negative=False\n",
    ")\n",
    "m = sp.Symbol(\"m\", real=True)\n",
    "M = sp.IndexedBase(\"m\", shape=(n_resonances,))\n",
    "Gamma = sp.IndexedBase(\"Gamma\", shape=(n_resonances,))\n",
    "gamma = sp.IndexedBase(\"gamma\", shape=(n_resonances, n_channels))"
   ]
  },
  {
   "cell_type": "markdown",
   "metadata": {},
   "source": [
    "The $\\boldsymbol{T}$-matrix (which expresses the transition amplitudes in which we are interested) can be factorized in terms of the $\\boldsymbol{K}$-matrix as follows:\n",
    "\n",
    "$$\n",
    "\\boldsymbol{T} = \\boldsymbol{K}(\\boldsymbol{I} - i\\boldsymbol{K})^{-1}\n",
    "$$ (T-matrix)\n",
    "\n",
    "This expression comes from a [Cayley transformation](https://en.wikipedia.org/wiki/Cayley_transform) on the $\\boldsymbol{S}$-matrix, which ensures that the $\\boldsymbol{K}$-matrix is real. The challenge is now to choose a correct parametrization. There are several choices, but a common one is the following summation over the resonances $R$:"
   ]
  },
  {
   "cell_type": "code",
   "execution_count": null,
   "metadata": {
    "tags": []
   },
   "outputs": [],
   "source": [
    "def Kij_non_relativistic(\n",
    "    m: sp.Symbol,\n",
    "    M: sp.IndexedBase,\n",
    "    Gamma: sp.IndexedBase,\n",
    "    gamma: sp.IndexedBase,\n",
    "    i: int,\n",
    "    j: int,\n",
    "    n_resonances: Union[int, sp.Symbol],\n",
    ") -> sp.Expr:\n",
    "    g_i = gamma[R, i] * sp.sqrt(M[R] * Gamma[R])\n",
    "    g_j = gamma[R, j] * sp.sqrt(M[R] * Gamma[R])\n",
    "    parametrization = (g_i * g_j) / (M[R] ** 2 - m ** 2)\n",
    "    return sp.Sum(parametrization, (R, 0, n_resonances - 1))"
   ]
  },
  {
   "cell_type": "code",
   "execution_count": null,
   "metadata": {
    "jupyter": {
     "source_hidden": true
    },
    "tags": [
     "hide-input"
    ]
   },
   "outputs": [],
   "source": [
    "n_R = sp.Symbol(\"n_R\")\n",
    "kij = Kij_non_relativistic(m, M, Gamma, gamma, i, j, n_R)\n",
    "Math(\"K_{ij} = \" + f\"{sp.latex(kij)}\")"
   ]
  },
  {
   "cell_type": "markdown",
   "metadata": {},
   "source": [
    "Here, some literature uses residue constants (see {cite}`chungPartialWaveAnalysis1995`, Eq. (82)):\n",
    "\n",
    "$$\n",
    "g_{R,i}=\\gamma_{R,i}\\sqrt{m_R\\Gamma_R}\n",
    "$$ (residue-constant-g)\n",
    "\n",
    "but to simplify the implementation, we directly plug in Eq. {eq}`residue-constant-g`."
   ]
  },
  {
   "cell_type": "markdown",
   "metadata": {},
   "source": [
    "We now define the $\\boldsymbol{K}$-matrix in terms of a {class}`Matrix <sympy.matrices.dense.MutableDenseMatrix>` with {class}`~sympy.tensor.indexed.IndexedBase` instances as elements that can serve as {class}`~sympy.core.symbol.Symbol`s. These {class}`~sympy.core.symbol.Symbol`s will be substituted with the parametrization later. We could of course have inserted the parametrization directly, but this slows down matrix multiplication in the following steps."
   ]
  },
  {
   "cell_type": "code",
   "execution_count": null,
   "metadata": {},
   "outputs": [],
   "source": [
    "K_symbol = sp.IndexedBase(\"K\", shape=(n_channels, n_channels))\n",
    "K = sp.Matrix(\n",
    "    [\n",
    "        [K_symbol[i, j] for j in range(n_channels)]\n",
    "        for i in range(n_channels)\n",
    "    ]\n",
    ")\n",
    "display(K_symbol[i, j], K)"
   ]
  },
  {
   "cell_type": "markdown",
   "metadata": {},
   "source": [
    "The $\\boldsymbol{T}$-matrix can now be computed from Eq. {eq}`T-matrix`:"
   ]
  },
  {
   "cell_type": "code",
   "execution_count": null,
   "metadata": {},
   "outputs": [],
   "source": [
    "T = K * (sp.eye(n_channels) - sp.I * K).inv()\n",
    "T"
   ]
  },
  {
   "cell_type": "markdown",
   "metadata": {},
   "source": [
    "Next, we need to substitute the elements $K_{i,j}$ with the parametrization we defined above:"
   ]
  },
  {
   "cell_type": "code",
   "execution_count": null,
   "metadata": {},
   "outputs": [],
   "source": [
    "T_subs = T.subs(\n",
    "    {\n",
    "        K[i, j]: Kij_non_relativistic(\n",
    "            m, M, Gamma, gamma, i, j, n_resonances\n",
    "        )\n",
    "        for i in range(n_channels)\n",
    "        for j in range(n_channels)\n",
    "    }\n",
    ")\n",
    "T_subs"
   ]
  },
  {
   "cell_type": "markdown",
   "metadata": {},
   "source": [
    ":::{warning}\n",
    "\n",
    "It is important to perform {meth}`~sympy.core.basic.Basic.doit` _after_ {meth}`~sympy.core.basic.Basic.subs`, otherwise the {class}`~sympy.concrete.summations.Sum` cannot be evaluated and there will be no warning of a failed substitution.\n",
    "\n",
    ":::\n",
    "\n",
    "Now indeed, when taking $n_R=1$, the resulting element from the $\\boldsymbol{T}$-matrix looks like a non-relativistic Breit-Wigner function!"
   ]
  },
  {
   "cell_type": "code",
   "execution_count": null,
   "metadata": {
    "jupyter": {
     "source_hidden": true
    },
    "tags": [
     "hide-input"
    ]
   },
   "outputs": [],
   "source": [
    "n_resonances_val = 1\n",
    "rel_bw = T_subs[0, 0].subs(n_resonances, n_resonances_val).doit()\n",
    "if n_resonances_val == 1 or n == 2:\n",
    "    rel_bw = rel_bw.simplify()\n",
    "rel_bw"
   ]
  },
  {
   "cell_type": "markdown",
   "metadata": {
    "tags": []
   },
   "source": [
    "## Generalization"
   ]
  },
  {
   "cell_type": "markdown",
   "metadata": {},
   "source": [
    "The above procedure has been condensed into a function that can handle an arbitrary number of resonances and an arbitrary number of channels."
   ]
  },
  {
   "cell_type": "code",
   "execution_count": null,
   "metadata": {
    "tags": [
     "scroll-input"
    ]
   },
   "outputs": [],
   "source": [
    "def create_symbol_matrix(name: str, n: int) -> sp.Matrix:\n",
    "    symbol = sp.IndexedBase(\"K\", shape=(n, n))\n",
    "    return sp.Matrix(\n",
    "        [[symbol[i, j] for j in range(n)] for i in range(n)]\n",
    "    )\n",
    "\n",
    "\n",
    "def k_matrix(n_resonances: int, n_channels: int) -> sp.Matrix:\n",
    "    # Define symbols\n",
    "    m = sp.Symbol(\"m\", real=True)\n",
    "    M = sp.IndexedBase(\"m\", shape=(n_resonances,))\n",
    "    Gamma = sp.IndexedBase(\"Gamma\", shape=(n_resonances,))\n",
    "    gamma = sp.IndexedBase(\"gamma\", shape=(n_resonances, n_channels))\n",
    "    # Define K-matrix and T-matrix\n",
    "    K = create_symbol_matrix(\"K\", n_channels)\n",
    "    T = K * (sp.eye(n_channels) - sp.I * K).inv()\n",
    "    # Substitute elements\n",
    "    return T.subs(\n",
    "        {\n",
    "            K[i, j]: Kij_non_relativistic(\n",
    "                m, M, Gamma, gamma, i, j, n_resonances\n",
    "            )\n",
    "            for i in range(n_channels)\n",
    "            for j in range(n_channels)\n",
    "        }\n",
    "    )"
   ]
  },
  {
   "cell_type": "markdown",
   "metadata": {},
   "source": [
    "Single channel, single resonance:"
   ]
  },
  {
   "cell_type": "code",
   "execution_count": null,
   "metadata": {
    "tags": []
   },
   "outputs": [],
   "source": [
    "k_matrix(n_resonances=1, n_channels=1)[0, 0].doit().simplify()"
   ]
  },
  {
   "cell_type": "markdown",
   "metadata": {},
   "source": [
    "Single channel, $n_R$ resonances"
   ]
  },
  {
   "cell_type": "code",
   "execution_count": null,
   "metadata": {},
   "outputs": [],
   "source": [
    "k_matrix(n_resonances=sp.Symbol(\"n_R\"), n_channels=1)[0, 0]"
   ]
  },
  {
   "cell_type": "markdown",
   "metadata": {},
   "source": [
    "Two channels, one resonance ('non-relativistic Flatté'):"
   ]
  },
  {
   "cell_type": "code",
   "execution_count": null,
   "metadata": {},
   "outputs": [],
   "source": [
    "k_matrix(n_resonances=1, n_channels=2)[0, 0].doit().simplify()"
   ]
  },
  {
   "cell_type": "markdown",
   "metadata": {},
   "source": [
    "Two channels, $n_R$ resonances:"
   ]
  },
  {
   "cell_type": "code",
   "execution_count": null,
   "metadata": {
    "tags": [
     "full-width"
    ]
   },
   "outputs": [],
   "source": [
    "expr = k_matrix(n_resonances=sp.Symbol(\"n_R\"), n_channels=2)[0, 0]\n",
    "Math(sp.multiline_latex(\"\", expr))"
   ]
  },
  {
   "cell_type": "markdown",
   "metadata": {},
   "source": [
    "## Visualization"
   ]
  },
  {
   "cell_type": "markdown",
   "metadata": {},
   "source": [
    "Now, let's use {mod}`symplot` to visualize the single channel $\\boldsymbol{K}$-matrix for arbitrary $n_R$.\n",
    "\n",
    ":::{margin}\n",
    "\n",
    "{doc}`/report/008` explains the need for {func}`symplot.substitute_indexed_symbols`.\n",
    "\n",
    ":::"
   ]
  },
  {
   "cell_type": "code",
   "execution_count": null,
   "metadata": {
    "jupyter": {
     "source_hidden": true
    },
    "tags": [
     "scroll-input"
    ]
   },
   "outputs": [],
   "source": [
    "def plot_k_matrix(\n",
    "    n_channels: int,\n",
    "    n_resonances: int,\n",
    "    title: str = \"\",\n",
    ") -> None:\n",
    "    # Convert to Symbol: symplot cannot handle IndexedBase\n",
    "    i = sp.Symbol(\"i\", integer=True, negative=False)\n",
    "    expr = k_matrix(n_resonances, n_channels)[i, i].doit()\n",
    "    expr = symplot.substitute_indexed_symbols(expr)\n",
    "    np_expr, sliders = symplot.prepare_sliders(expr, plot_symbol=m)\n",
    "    symbol_to_arg = {\n",
    "        symbol: arg for arg, symbol in sliders._arg_to_symbol.items()\n",
    "    }\n",
    "\n",
    "    # Set plot domain\n",
    "    x_min, x_max = 1e-3, 3\n",
    "    y_min, y_max = -0.5, +0.5\n",
    "    z_min, z_max = -2, +2\n",
    "\n",
    "    plot_domain = np.linspace(x_min, x_max, num=500)\n",
    "    x_values = np.linspace(x_min, x_max, num=160)\n",
    "    y_values = np.linspace(y_min, y_max, num=80)\n",
    "    X, Y = np.meshgrid(x_values, y_values)\n",
    "    plot_domain_complex = X + Y * 1j\n",
    "\n",
    "    z_cut_min = 0.75 * z_min\n",
    "    z_cut_max = 0.75 * z_max\n",
    "    cut_off_min = np.vectorize(\n",
    "        lambda z: z if z > z_cut_min else z_cut_min\n",
    "    )\n",
    "    cut_off_max = np.vectorize(\n",
    "        lambda z: z if z < z_cut_max else z_cut_max\n",
    "    )\n",
    "\n",
    "    # Set slider values and ranges\n",
    "    m0_values = np.linspace(x_min, x_max, num=n_resonances + 2)\n",
    "    m0_values = m0_values[1:-1]\n",
    "\n",
    "    def set_default_values():\n",
    "        sliders.set_ranges({\"i\": (0, n_resonances - 1)})\n",
    "        for R in range(n_resonances):\n",
    "            # ranges\n",
    "            sliders.set_ranges({f\"m{R}\": (0, 3, 100)})\n",
    "            sliders.set_ranges({f\"Gamma{R}\": (-1, 1, 100)})\n",
    "            for i in range(n_channels):\n",
    "                sliders.set_ranges(\n",
    "                    {fR\"\\gamma_{{{R},{i}}}\": (0, 2, 100)}\n",
    "                )\n",
    "            # values\n",
    "            sliders.set_values({f\"m{R}\": m0_values[R]})\n",
    "            sliders.set_values({f\"Gamma{R}\": (R + 1) * 0.1})\n",
    "            for i in range(n_channels):\n",
    "                sliders.set_values(\n",
    "                    {fR\"\\gamma_{{{R},{i}}}\": 1 - 0.1 * R + 0.1 * i}\n",
    "                )\n",
    "\n",
    "    set_default_values()\n",
    "\n",
    "    # Create interactive plots\n",
    "    controls = Controls(**sliders)\n",
    "    nrows = 2  # set to 3 for imag+real\n",
    "    fig, axes = plt.subplots(\n",
    "        nrows=nrows,\n",
    "        figsize=(8, nrows * 3.0),\n",
    "        sharex=True,\n",
    "        tight_layout=True,\n",
    "    )\n",
    "    if not title:\n",
    "        title = (\n",
    "            fR\"${n_channels} \\times {n_channels}$ $K$-matrix\"\n",
    "            f\" with {n_resonances} resonances\"\n",
    "        )\n",
    "    fig.suptitle(title)\n",
    "\n",
    "    # 2D plot\n",
    "    axes[0].set_ylabel(\"$|T|^{2}$\")\n",
    "\n",
    "    def plot(channel: int):\n",
    "        def wrapped(*args, **kwargs) -> sp.Expr:\n",
    "            kwargs[\"i\"] = channel\n",
    "            return np.abs(np_expr(*args, **kwargs)) ** 2\n",
    "\n",
    "        return wrapped\n",
    "\n",
    "    for i in range(n_channels):\n",
    "        iplt.plot(\n",
    "            plot_domain,\n",
    "            plot(i),\n",
    "            ax=axes[0],\n",
    "            controls=controls,\n",
    "            ylim=\"auto\",\n",
    "            label=f\"channel {i}\",\n",
    "        )\n",
    "    if n_channels > 1:\n",
    "        axes[0].legend(loc=\"upper right\")\n",
    "    mass_line_style = dict(\n",
    "        c=\"red\",\n",
    "        alpha=0.3,\n",
    "    )\n",
    "    for name in controls.params:\n",
    "        if not name.startswith(\"m\"):\n",
    "            continue\n",
    "        iplt.axvline(controls[name], ax=axes[0], **mass_line_style)\n",
    "\n",
    "    # 3D plot\n",
    "    def plot3(**kwargs):\n",
    "        Z = np_expr(plot_domain_complex, **kwargs)\n",
    "        Z_imag = cut_off_min(cut_off_max(Z.imag))\n",
    "        for ax in axes[1:]:\n",
    "            ax.clear()\n",
    "        axes[-1].pcolormesh(X, Y, Z_imag, cmap=cm.coolwarm)\n",
    "        if kwargs[\"i\"] == 1:\n",
    "            axes[-1].set_title(\"Im $T$\")\n",
    "        else:\n",
    "            axes[-1].set_title(f\"Im $T$, channel {i}\")\n",
    "        if len(axes) == 3:\n",
    "            Z_real = cut_off_min(cut_off_max(Z.real))\n",
    "            axes[-2].pcolormesh(X, Y, Z_real, cmap=cm.coolwarm)\n",
    "            axes[-2].set_title(\"Re $T$\")\n",
    "        for ax in axes[1:]:\n",
    "            ax.axhline(0, linewidth=0.5, c=\"black\", linestyle=\"dotted\")\n",
    "            for R in range(n_resonances):\n",
    "                mass = kwargs[f\"m{R}\"]\n",
    "                ax.axvline(mass, **mass_line_style)\n",
    "            ax.set_ylabel(\"Im $m$\")\n",
    "            ax.set_xticks([])\n",
    "            ax.set_yticks([])\n",
    "            ax.set_facecolor(\"white\")\n",
    "        for R in range(n_resonances):\n",
    "            mass = kwargs[f\"m{R}\"]\n",
    "            axes[-1].text(\n",
    "                x=mass + (x_max - x_min) * 0.008,\n",
    "                y=0.95 * y_min,\n",
    "                s=f\"$m_{R}$\",\n",
    "                c=\"red\",\n",
    "            )\n",
    "        axes[-1].set_xlabel(\"Re $m$\")\n",
    "        fig.canvas.draw_idle()\n",
    "\n",
    "    # Create GUI\n",
    "    sliders_copy = dict(sliders)\n",
    "    h_boxes = []\n",
    "    for R in range(n_resonances):\n",
    "        buttons = [\n",
    "            sliders_copy.pop(f\"m{R}\"),\n",
    "            sliders_copy.pop(f\"Gamma{R}\"),\n",
    "        ]\n",
    "        if n_channels == 1:\n",
    "            dummy_name = symbol_to_arg[fR\"\\gamma_{{{R},0}}\"]\n",
    "            buttons.append(sliders_copy.pop(dummy_name))\n",
    "        h_box = ipywidgets.HBox(buttons)\n",
    "        h_boxes.append(h_box)\n",
    "    remaining_sliders = sorted(\n",
    "        sliders_copy.values(), key=lambda s: s.description\n",
    "    )\n",
    "    ui = ipywidgets.VBox(h_boxes + remaining_sliders)\n",
    "    output = ipywidgets.interactive_output(plot3, controls=sliders)\n",
    "    display(ui, output)"
   ]
  },
  {
   "cell_type": "code",
   "execution_count": null,
   "metadata": {
    "tags": [
     "remove-output",
     "hide-input"
    ]
   },
   "outputs": [],
   "source": [
    "plot_k_matrix(n_resonances=3, n_channels=1)"
   ]
  },
  {
   "cell_type": "code",
   "execution_count": null,
   "metadata": {
    "jupyter": {
     "source_hidden": true
    },
    "tags": [
     "remove-input",
     "full-width"
    ]
   },
   "outputs": [],
   "source": [
    "if STATIC_WEB_PAGE:\n",
    "    output_file = \"005-K-matrix-n1-r3.png\"\n",
    "    plt.savefig(output_file, dpi=150)\n",
    "    display(Image(output_file))"
   ]
  },
  {
   "cell_type": "code",
   "execution_count": null,
   "metadata": {
    "tags": [
     "hide-input",
     "remove-output"
    ]
   },
   "outputs": [],
   "source": [
    "plot_k_matrix(n_resonances=2, n_channels=2)"
   ]
  },
  {
   "cell_type": "code",
   "execution_count": null,
   "metadata": {
    "jupyter": {
     "source_hidden": true
    },
    "tags": [
     "remove-input",
     "full-width"
    ]
   },
   "outputs": [],
   "source": [
    "if STATIC_WEB_PAGE:\n",
    "    output_file = \"005-K-matrix-n2-r2-00.png\"\n",
    "    plt.savefig(output_file, dpi=150)\n",
    "    display(Image(output_file))"
   ]
  }
 ],
 "metadata": {
  "kernelspec": {
   "display_name": "Python 3",
   "language": "python",
   "name": "python3"
  },
  "language_info": {
   "codemirror_mode": {
    "name": "ipython",
    "version": 3
   },
   "file_extension": ".py",
   "mimetype": "text/x-python",
   "name": "python",
   "nbconvert_exporter": "python",
   "pygments_lexer": "ipython3",
   "version": "3.8.10"
  }
 },
 "nbformat": 4,
 "nbformat_minor": 4
}
