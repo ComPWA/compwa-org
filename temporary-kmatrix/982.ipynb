{
 "cells": [
  {
   "cell_type": "code",
   "execution_count": null,
   "metadata": {
    "hideCode": true,
    "hideOutput": true,
    "hidePrompt": true,
    "jupyter": {
     "source_hidden": true
    },
    "slideshow": {
     "slide_type": "skip"
    },
    "tags": [
     "remove-cell"
    ]
   },
   "outputs": [],
   "source": [
    "import os\n",
    "\n",
    "STATIC_WEB_PAGE = {\"EXECUTE_NB\", \"READTHEDOCS\"}.intersection(os.environ)"
   ]
  },
  {
   "cell_type": "markdown",
   "metadata": {},
   "source": [
    "```{autolink-concat}\n",
    "```"
   ]
  },
  {
   "cell_type": "markdown",
   "metadata": {
    "editable": true,
    "slideshow": {
     "slide_type": ""
    },
    "tags": []
   },
   "source": [
    "::::{margin}\n",
    ":::{card} Dispersion integral theory\n",
    "TR-982\n",
    "^^^\n",
    "We attempt to derive a formula for a dispersion integral over the phase space factor with a rotated cut over an arbitrary angle.\n",
    "+++\n",
    "🚧&nbsp;[compwa.github.io#204](https://github.com/ComPWA/compwa.github.io/pull/204)\n",
    ":::\n",
    "::::"
   ]
  },
  {
   "cell_type": "markdown",
   "metadata": {
    "editable": true,
    "slideshow": {
     "slide_type": ""
    },
    "tags": []
   },
   "source": [
    "# Investigation of the dispersion integral with rotated cut"
   ]
  },
  {
   "cell_type": "code",
   "execution_count": null,
   "metadata": {
    "editable": true,
    "slideshow": {
     "slide_type": ""
    },
    "tags": [
     "remove-cell"
    ]
   },
   "outputs": [],
   "source": [
    "%pip install -q numpy==1.24.4 scipy==1.10.1"
   ]
  },
  {
   "cell_type": "code",
   "execution_count": null,
   "metadata": {
    "editable": true,
    "slideshow": {
     "slide_type": ""
    },
    "tags": [
     "hide-cell"
    ]
   },
   "outputs": [],
   "source": [
    "import warnings\n",
    "\n",
    "import matplotlib.pyplot as plt\n",
    "import numpy as np\n",
    "from scipy.integrate import quad_vec as integrate\n",
    "\n",
    "warnings.filterwarnings(\"ignore\")"
   ]
  },
  {
   "cell_type": "markdown",
   "metadata": {
    "editable": true,
    "slideshow": {
     "slide_type": ""
    },
    "tags": []
   },
   "source": [
    "In the following, a representation of the integral is derived where it should be possible to rotate the branch cut by an arbitrary angle $\\phi$, as done in [Tiator _et al._, Exciting Baryon Resonances on different Riemann Sheets](https://download.uni-mainz.de/kph/pwacollaboration/documents/Riemann-Sheets_v1.pdf). The necessary information regarding the dispersion integral is taken from  [Deineka, Dissertation (p.21-22)](https://openscience.ub.uni-mainz.de/handle/20.500.12030/8998) and [Danilkin _et al._, Data-driven dispersive analysis of the $\\pi\\pi$ and $KK$ scattering (p.2)](https://journals.aps.org/prd/abstract/10.1103/PhysRevD.103.114023)."
   ]
  },
  {
   "cell_type": "markdown",
   "metadata": {
    "editable": true,
    "slideshow": {
     "slide_type": ""
    },
    "tags": []
   },
   "source": [
    "## Derivation of the dispersion integral"
   ]
  },
  {
   "cell_type": "markdown",
   "metadata": {
    "editable": true,
    "slideshow": {
     "slide_type": ""
    },
    "tags": []
   },
   "source": [
    "If $f$ is a complex-valued function, **Cauchy’s integral formula** for a line integral around an arbitrary point&nbsp;$z$ reads"
   ]
  },
  {
   "cell_type": "markdown",
   "metadata": {
    "editable": true,
    "slideshow": {
     "slide_type": ""
    },
    "tags": []
   },
   "source": [
    "$$\n",
    "f(z) = \\frac{1}{2\\pi i} \\oint_{C}\\frac{f(z')}{z'- z} \\mathop{}\\!\\mathrm{d}z',\n",
    "$$"
   ]
  },
  {
   "cell_type": "markdown",
   "metadata": {
    "editable": true,
    "slideshow": {
     "slide_type": ""
    },
    "tags": []
   },
   "source": [
    "where $C$ is a closed path around the point&nbsp;$z$. If $f$ is multivalued, the contour can be modified so that it encircles the function's branch cuts.\n",
    "\n",
    "In the following example, function&nbsp;$f$ has a branch cut along $z\\in\\left(z_\\mathrm{thr}, \\infty\\right)$. If the integral of $f$ converges as $|z|\\to\\infty$, the contour&nbsp;$C$ can be taken in the limit to infinity, while still enclosing the branch cut (see [Deineka, Fig.&nbsp;2.6](https://openscience.ub.uni-mainz.de/handle/20.500.12030/8998)). The dispersion integral can then be rewritten as"
   ]
  },
  {
   "cell_type": "markdown",
   "metadata": {
    "editable": true,
    "slideshow": {
     "slide_type": ""
    },
    "tags": []
   },
   "source": [
    "$$\n",
    "\\begin{eqnarray}\n",
    "f(z) &=&\n",
    "\\frac{1}{2\\pi i}\\left(\\int_{z_\\mathrm{thr}}^\\infty \\frac{\n",
    "    f(z'+i\\epsilon)\n",
    "}{z'-z}\\mathop{}\\!\\mathrm{d}z'+\n",
    "\\int_{\\infty}^{z_\\mathrm{thr}} \\frac{\n",
    "    f(z'-i\\epsilon)\n",
    "}{z'-z}\\mathop{}\\!\\mathrm{d}z'\n",
    "\\right) \\\\\n",
    "&=&\n",
    "\\frac{1}{2\\pi i}\n",
    "\\int_{z_\\mathrm{thr}}^\\infty \\frac{\n",
    "    f(z'+i\\epsilon) -  f(z'-i\\epsilon)\n",
    "}{z'-z}\n",
    "\\mathop{}\\!\\mathrm{d}z'.\n",
    "\\end{eqnarray}\n",
    "$$"
   ]
  },
  {
   "cell_type": "markdown",
   "metadata": {
    "editable": true,
    "slideshow": {
     "slide_type": ""
    },
    "tags": []
   },
   "source": [
    "To assure the the integral converges, a first-order subtraction can be introduced. This leads to:"
   ]
  },
  {
   "cell_type": "markdown",
   "metadata": {
    "editable": true,
    "slideshow": {
     "slide_type": ""
    },
    "tags": []
   },
   "source": [
    "$$\n",
    "f(z) = f(z_\\mathrm{sp}) +\n",
    "\\frac{z-z_\\mathrm{sp}}{2\\pi i}\n",
    "\\int_{z_\\mathrm{thr}}^\\infty \\frac{\n",
    "    f(z'+i\\epsilon) -  f(z'-i\\epsilon)\n",
    "}{(z-z_\\mathrm{sp})(z'-z)\n",
    "}\\mathop{}\\!\\mathrm{d}z'\n",
    "$$ (subtracted-dispersion-integral)"
   ]
  },
  {
   "cell_type": "markdown",
   "metadata": {
    "editable": true,
    "slideshow": {
     "slide_type": ""
    },
    "tags": []
   },
   "source": [
    "Here, $z_\\mathrm{sp}$ denotes the subtraction point."
   ]
  },
  {
   "cell_type": "markdown",
   "metadata": {
    "editable": true,
    "slideshow": {
     "slide_type": ""
    },
    "tags": []
   },
   "source": [
    "### Application to the phasespace function"
   ]
  },
  {
   "cell_type": "markdown",
   "metadata": {
    "editable": true,
    "slideshow": {
     "slide_type": ""
    },
    "tags": []
   },
   "source": [
    "The Chew-Mandelstam function in [Eq.&nbsp;(50.43)](https://pdg.lbl.gov/2023/reviews/rpp2023-rev-resonances.pdf#page=15) of the PDG2023 can be derived by applying the 'subtracted' dispersion integral of Eq.&nbsp;{eq}`subtracted-dispersion-integral` to the phasespace function $\\rho(s)$ of Eq.&nbsp;{eq}`standard-phase-space-factor`. The subtraction point is chosen to be the two particle threshold $s_\\mathrm{thr}=(m_1+m_2)^2$."
   ]
  },
  {
   "cell_type": "markdown",
   "metadata": {
    "editable": true,
    "slideshow": {
     "slide_type": ""
    },
    "tags": []
   },
   "source": [
    "$$\n",
    "\\rho(s) = \\rho(s_\\mathrm{thr}) +\n",
    "\\frac{s-s_\\mathrm{thr}}{2\\pi i}\n",
    "\\int_{s_\\mathrm{thr}}^\\infty \\frac{\n",
    "    \\rho(s'+i\\epsilon) -  \\rho(s'-i\\epsilon)\n",
    "}{(s-s_\\mathrm{thr})(s'-s)\n",
    "}\\mathop{}\\!\\mathrm{d}s'\n",
    "$$"
   ]
  },
  {
   "cell_type": "markdown",
   "metadata": {
    "editable": true,
    "slideshow": {
     "slide_type": ""
    },
    "tags": []
   },
   "source": [
    "We can take $\\rho\\left(s_\\mathrm{thr}\\right)=0$, following [Wilson _et al._, Resonances in coupled $\\pi K$, $\\eta K$ scattering from lattice QCD (p.30)](https://journals.aps.org/prd/pdf/10.1103/PhysRevD.91.054008#page=30)."
   ]
  },
  {
   "cell_type": "markdown",
   "metadata": {},
   "source": [
    ":::{card} Example: Right-hand cut\n",
    "\n",
    "A common choice for the direction of the branch cut in $\\rho$ is from $s_\\mathrm{thr}$ to $+\\infty$. The $\\pm i\\epsilon$ indicates a small imaginary offset above and below the branch cut. As the imaginary part of the phase space factor is zero below $s_\\mathrm{thr}$, i.e. $\\mathrm{Im}\\,\\rho(s) = 0, \\forall s \\in \\left(-\\infty, s_\\mathrm{thr}\\right]$, the **Schwarz' refection principle** applies ([Uni Mainz, Lecture notes, p.13](https://wwwth.kph.uni-mainz.de/files/2019/01/QCD-dispersion-relations.pdf#page=13)),\n",
    "\n",
    "$$\n",
    "\\rho(s+ i \\epsilon)^*=\\rho(s-i \\epsilon),\n",
    "$$\n",
    "\n",
    "which leads to\n",
    "\n",
    "$$\n",
    "\\rho(s+ i \\epsilon)-\\rho(s-i \\epsilon)= \\rho(s+ i \\epsilon)^* - \\rho(s+ i \\epsilon)= 2i\\rho(s+i\\epsilon).\n",
    "$$\n",
    "\n",
    "With the assumptions made above, the dispersion integral reduces to the formula in [Eq. (50.43), PDG2023, §Resonances](https://pdg.lbl.gov/2023/reviews/rpp2023-rev-resonances.pdf#page=15),\n",
    "\n",
    "$$\n",
    "\\rho(s) =\n",
    "\\frac{s-s_\\mathrm{thr}}{2\\pi i}\n",
    "\\int_{s_\\mathrm{thr}}^\\infty \\frac{\n",
    "    2i\\rho(s'+i\\epsilon)\n",
    "}{(s-s_\\mathrm{thr})(s'-s)}\n",
    "\\mathop{}\\!\\mathrm{d}s'=\n",
    "\\frac{s-s_\\mathrm{thr}}{\\pi}\n",
    "\\int_{s_\\mathrm{thr}}^\\infty \\frac{\n",
    "    \\rho(s'+i\\epsilon)\n",
    "}{(s-s_\\mathrm{thr})(s'-s)}\n",
    "\\mathop{}\\!\\mathrm{d}s'.\n",
    "$$\n",
    "\n",
    ":::"
   ]
  },
  {
   "cell_type": "markdown",
   "metadata": {
    "editable": true,
    "slideshow": {
     "slide_type": ""
    },
    "tags": []
   },
   "source": [
    ":::{card} 🚧 Example: Downwards cut\n",
    "\n",
    "The direction of the branch cut in a square root can be chosen freely (see [TR-025](./025.ipynb)). It can for instance point in the downwards direction, from $s_{thr}$ to $s_{thr}-i\\infty$. The offset $\\epsilon$ then depicts a small offset in the direction of the real axis, left and right of the branch cut. If $\\rho$ has a branch cut down like that, we have\n",
    "\n",
    "$$\n",
    "\\rho(s+ \\epsilon)=-\\rho(s-\\epsilon),\n",
    "\\qquad \\forall s \\in \\left\\{s_\\mathrm{thr}-xi \\big| x\\in\\mathbb{R}^+\\right\\}.\n",
    "$$\n",
    "\n",
    "This leads to\n",
    "\n",
    "$$\n",
    "\\rho(s+\\epsilon)-\\rho(s-\\epsilon)= \\rho(s+ \\epsilon) - \\rho(s+ \\epsilon)= 2\\rho(s+\\epsilon)\n",
    "$$\n",
    "\n",
    "and therefore\n",
    "\n",
    "$$\n",
    "\\begin{eqnarray}\n",
    "\\rho(s) &=&\n",
    "\\frac{s-s_\\mathrm{thr}}{2\\pi i}\n",
    "\\int_{-i\\infty}^{s_\\mathrm{thr}}\\frac{\n",
    "    2\\rho(s'+\\epsilon)\n",
    "}{(s-s_\\mathrm{thr})(s'-s)}\n",
    "\\mathop{}\\!\\mathrm{d}s' \\\\\n",
    "&=&\n",
    "\\frac{s-s_\\mathrm{thr}}{\\pi i }\n",
    "\\int_{-i\\infty}^{s_\\mathrm{thr}} \\frac{\n",
    "    \\rho(s'+\\epsilon)\n",
    "}{(s-s_\\mathrm{thr})(s'-s)\n",
    "}\\mathop{}\\!\\mathrm{d}s'.\n",
    "\\end{eqnarray}\n",
    "$$\n",
    "\n",
    ":::"
   ]
  },
  {
   "cell_type": "markdown",
   "metadata": {
    "editable": true,
    "slideshow": {
     "slide_type": ""
    },
    "tags": []
   },
   "source": [
    ":::{card} 🚧 Example: General rotation\n",
    "\n",
    "If the branch cut is rotated by an arbitrary angle $\\phi$ using Eq.&nbsp;{eq}`rotated-sqrt`, we should parametrize $s'$ as\n",
    "\n",
    "$$\n",
    "s' = s_\\mathrm{thr} + x e^{i\\phi}, \\quad\n",
    "\\mathrm{d}s' = e^{i\\phi} \\mathrm{d}x, \\quad\n",
    "x \\in \\left[0, \\infty\\right).\n",
    "$$\n",
    "\n",
    "where the $e^{i\\phi}$ describes a counter-clockwise rotation in the complex plane by the angle $\\phi$. The new integral limits are calculated with:\n",
    "\n",
    "$$\n",
    "x(s')=(s'-s_{\\mathrm{thr}})e^{-i\\phi}\n",
    "$$\n",
    "\n",
    "which gives $x(s_{\\mathrm{thr}})=0$ and $\\lim\\limits_{s'\\to\\infty} x(s') = \\infty$.\n",
    "\n",
    "For the _right-hand cut_, this means\n",
    "\n",
    "$$\n",
    "s' = s_\\mathrm{thr} + x, \\quad\n",
    "\\mathrm{d}s' = \\mathrm{d}x\n",
    "$$\n",
    "\n",
    "and the dispersion integral reads\n",
    "\n",
    "$$\n",
    "\\rho(s) =\n",
    "\\frac{s-s_\\mathrm{thr}}{\\pi}\n",
    "\\int_{0}^\\infty \\frac{\n",
    "    \\rho(s_\\mathrm{thr}+x+i\\epsilon)\n",
    "}{(s-s_\\mathrm{thr})(s_\\mathrm{thr}+x-s)\n",
    "}\\mathop{}\\!\\mathrm{d}x.\n",
    "$$\n",
    "\n",
    "For the _downwards cut_, we have\n",
    "\n",
    "$$\n",
    "s' = s_\\mathrm{thr} + xe^{i\\frac{3\\pi}{2}}= s_\\mathrm{thr}+ (-i)x, \\quad\n",
    "\\mathrm{d}s' = -i\\mathrm{d}x \\quad\n",
    "$$\n",
    "\n",
    "and the dispersion integral reads\n",
    "\n",
    "$$\n",
    "\\begin{eqnarray}\n",
    "\\rho(s) &=&\n",
    "\\frac{s-s_\\mathrm{thr}}{\\pi i}\n",
    "\\int_{-i\\infty }^{0} -i \\frac{\n",
    "    \\rho(s_\\mathrm{thr}+(-i)x+\\epsilon)\n",
    "}{(s-s_\\mathrm{thr})((s_\\mathrm{thr}+(-i)x)-s)}\\\\\n",
    "&=&\n",
    "\\frac{s-s_\\mathrm{thr}}{\\pi i}\n",
    "\\int_{-i\\infty }^{0} -i \\frac{\n",
    "    \\rho(s_\\mathrm{thr}-ix+\\epsilon)\n",
    "}{(s-s_\\mathrm{thr})(s_\\mathrm{thr}-ix-s)\n",
    "}\\mathop{}\\!\\mathrm{d}x.\n",
    "\\end{eqnarray}\n",
    "$$\n",
    "\n",
    ":::"
   ]
  },
  {
   "cell_type": "markdown",
   "metadata": {
    "editable": true,
    "slideshow": {
     "slide_type": ""
    },
    "tags": []
   },
   "source": [
    "### PDG phase space factor"
   ]
  },
  {
   "cell_type": "markdown",
   "metadata": {},
   "source": [
    "The standard phase space factor from the PDG is defined in [Eq. (50.11), PDG2023, §Resonances](https://pdg.lbl.gov/2023/reviews/rpp2023-rev-resonances.pdf#page=8), namely"
   ]
  },
  {
   "cell_type": "markdown",
   "metadata": {},
   "source": [
    "$$\n",
    "\\begin{eqnarray}\n",
    "\\rho(s) &=& \\frac{2\\left|q(s)\\right|}{\\sqrt{s}} \\\\\n",
    "q(s) &=& \\frac{\\sqrt{\\lambda(s, m_1^2, m_2^2)}}{2\\sqrt{s}} \\\\\n",
    "\\lambda(x, y, z) &=& x^2 + y^2 + z^2 - 2xy - 2yz - 2zx.\n",
    "\\end{eqnarray}\n",
    "$$ (standard-phase-space-factor)"
   ]
  },
  {
   "cell_type": "markdown",
   "metadata": {},
   "source": [
    "We assume that the branch cut can be rotated by replacing the square roots that get negative values with a 'rotated square root' (see [TR-025](./025.ipynb)),\n",
    "\n",
    "$$\n",
    "\\sqrt[{[\\phi]}]{z} = e^{-\\frac{1}{2}\\phi i} \\sqrt{z e^{\\phi i}}.\n",
    "$$ (rotated-sqrt)"
   ]
  },
  {
   "cell_type": "markdown",
   "metadata": {},
   "source": [
    "## 🚧 Implementation"
   ]
  },
  {
   "cell_type": "code",
   "execution_count": null,
   "metadata": {
    "editable": true,
    "slideshow": {
     "slide_type": ""
    },
    "tags": []
   },
   "outputs": [],
   "source": [
    "ϵi = 1e-7 * 1j\n",
    "\n",
    "\n",
    "def rho_cm(s, m1, m2, phi: float = 0) -> np.ndarray:\n",
    "    return -1j * dispersion_integral(s, m1, m2, phi)\n",
    "\n",
    "\n",
    "def dispersion_integral(s, m1, m2, phi: float = 0) -> np.ndarray:\n",
    "    s_thr = (m1 + m2) ** 2\n",
    "    exp = np.exp(-phi * 1j)\n",
    "    func1 = (\n",
    "        lambda x: -rho(x * exp + ϵi, m1, m2, phi)\n",
    "        / ((-x * exp + ϵi) * (-x * exp + ϵi - s))\n",
    "        * exp\n",
    "    )\n",
    "    func2 = (\n",
    "        lambda x: -rho(-x * exp - ϵi, m1, m2, phi)\n",
    "        / ((-x * exp - ϵi) * (-x * exp - ϵi - s))\n",
    "        * exp\n",
    "    )\n",
    "    return (\n",
    "        (s - s_thr)\n",
    "        / (2 * np.pi)\n",
    "        * (integrate(func1, 0, np.inf)[0] - integrate(func2, 0, np.inf)[0])\n",
    "    )\n",
    "\n",
    "\n",
    "def rho(s, m1, m2, phi: float = 0) -> np.ndarray:\n",
    "    return 2 * np.abs(q(s, m1, m2)) / rotated_sqrt(s, phi)\n",
    "\n",
    "\n",
    "def q(s, m1, m2) -> np.ndarray:\n",
    "    return np.sqrt(λ(s, m1**2, m2**2)) / (2 * np.sqrt(s))\n",
    "\n",
    "\n",
    "def λ(x, y, z):\n",
    "    return x**2 + y**2 + z**2 - 2 * x * y - 2 * y * z - 2 * z * x\n",
    "\n",
    "\n",
    "def rotated_sqrt(z, phi: float = 0) -> np.ndarray:\n",
    "    return np.exp(-0.5j * phi) * np.sqrt(z * np.exp(phi * 1j))"
   ]
  },
  {
   "cell_type": "code",
   "execution_count": null,
   "metadata": {
    "editable": true,
    "slideshow": {
     "slide_type": ""
    },
    "tags": [
     "hide-input"
    ]
   },
   "outputs": [],
   "source": [
    "%config InlineBackend.figure_formats = [\"svg\"]\n",
    "resolution = 100\n",
    "x = np.linspace(-2, 2, num=resolution)\n",
    "m1 = 0.1\n",
    "m2 = 0.7\n",
    "phi = 0\n",
    "\n",
    "y1 = rho(x + ϵi, m1, m2, phi)\n",
    "y2 = rho_cm(x, m1, m2, phi)\n",
    "assert not any(np.isnan(y2)), \"Contains NaN values!\"\n",
    "\n",
    "fig, ax = plt.subplots()\n",
    "ax.axhline(0, c=\"black\", lw=0.4)\n",
    "ax.axvline(0, c=\"black\", lw=0.4)\n",
    "ax.plot(x, y1.real, label=R\"$\\rho$\", lw=4, alpha=0.5)\n",
    "ax.plot(x, y2.real, label=R\"$\\rho^\\mathrm{CM}$\")\n",
    "ax.axvline((m1 - m2) ** 2, c=\"red\", ls=\"dotted\", label=\"$(m_1-m_2)^2$\")\n",
    "ax.axvline((m1 + m2) ** 2, c=\"black\", ls=\"dotted\", label=\"$(m_1+m_2)^2$\")\n",
    "ax.set_ylim(-0.3, +1.6)\n",
    "ax.set_xlabel(\"$s$\")\n",
    "ax.set_title(Rf\"$\\phi={phi / np.pi:.4g}\\pi$\")\n",
    "ax.legend()\n",
    "fig.tight_layout()\n",
    "plt.show()"
   ]
  },
  {
   "cell_type": "code",
   "execution_count": null,
   "metadata": {
    "editable": true,
    "slideshow": {
     "slide_type": ""
    },
    "tags": [
     "hide-input"
    ]
   },
   "outputs": [],
   "source": [
    "y = np.linspace(-1, +1, num=resolution)\n",
    "X, Y = np.meshgrid(x, y)\n",
    "Z = X + Y * 1j\n",
    "T = rho(Z, m1, m2, phi)\n",
    "\n",
    "%config InlineBackend.figure_formats = [\"png\"]\n",
    "fig, ax = plt.subplots()\n",
    "ax.set_xlabel(R\"$\\mathrm{Re}\\,s$\")\n",
    "ax.set_ylabel(R\"$\\mathrm{Im}\\,s$\")\n",
    "ax.set_title(Rf\"$\\phi={phi / np.pi:.4g}\\pi$\")\n",
    "T_max = 1.5\n",
    "mesh = ax.pcolormesh(X, Y, T.real, vmin=-T_max, vmax=+T_max, cmap=plt.cm.coolwarm)\n",
    "# ax.axvline((m1 - m2) ** 2, c=\"red\", ls=\"dotted\", label=\"$(m_1-m_2)^2$\")\n",
    "# ax.axvline((m1 + m2) ** 2, c=\"black\", ls=\"dotted\", label=\"$(m_1+m_2)^2$\")\n",
    "plt.colorbar(mesh, ax=ax, pad=0.02)\n",
    "fig.tight_layout()\n",
    "fig.savefig(\"Rotated_branch_cut_normal.png\")\n",
    "plt.show()"
   ]
  },
  {
   "cell_type": "code",
   "execution_count": null,
   "metadata": {
    "editable": true,
    "slideshow": {
     "slide_type": ""
    },
    "tags": [
     "hide-input"
    ]
   },
   "outputs": [],
   "source": [
    "y = np.linspace(-1, +1, num=resolution)\n",
    "X, Y = np.meshgrid(x, y)\n",
    "Z = X + Y * 1j\n",
    "T = rho_cm(Z, m1, m2, phi)\n",
    "\n",
    "%config InlineBackend.figure_formats = [\"png\"]\n",
    "fig, ax = plt.subplots()\n",
    "ax.set_xlabel(R\"$\\mathrm{Re}\\,s$\")\n",
    "ax.set_ylabel(R\"$\\mathrm{Im}\\,s$\")\n",
    "ax.set_title(Rf\"$\\phi={phi / np.pi:.4g}\\pi$\")\n",
    "mesh = ax.pcolormesh(X, Y, T.real, cmap=plt.cm.coolwarm)\n",
    "plt.colorbar(mesh, ax=ax, pad=0.02)\n",
    "fig.tight_layout()\n",
    "plt.show()"
   ]
  },
  {
   "cell_type": "code",
   "execution_count": null,
   "metadata": {},
   "outputs": [],
   "source": []
  }
 ],
 "metadata": {
  "colab": {
   "toc_visible": true
  },
  "kernelspec": {
   "display_name": "Python 3 (ipykernel)",
   "language": "python",
   "name": "python3"
  },
  "language_info": {
   "codemirror_mode": {
    "name": "ipython",
    "version": 3
   },
   "file_extension": ".py",
   "mimetype": "text/x-python",
   "name": "python",
   "nbconvert_exporter": "python",
   "pygments_lexer": "ipython3",
   "version": "3.10.13"
  }
 },
 "nbformat": 4,
 "nbformat_minor": 4
}
