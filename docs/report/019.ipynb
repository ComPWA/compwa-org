{
 "cells": [
  {
   "cell_type": "code",
   "execution_count": null,
   "metadata": {
    "hideCode": true,
    "hideOutput": true,
    "hidePrompt": true,
    "jupyter": {
     "source_hidden": true
    },
    "slideshow": {
     "slide_type": "skip"
    },
    "tags": [
     "remove-cell"
    ]
   },
   "outputs": [],
   "source": [
    "%config InlineBackend.figure_formats = ['svg']\n",
    "import os\n",
    "\n",
    "STATIC_WEB_PAGE = {\"EXECUTE_NB\", \"READTHEDOCS\"}.intersection(os.environ)"
   ]
  },
  {
   "cell_type": "markdown",
   "metadata": {},
   "source": [
    "```{autolink-concat}\n",
    "```"
   ]
  },
  {
   "cell_type": "markdown",
   "metadata": {},
   "source": [
    "````{margin}\n",
    "```{spec} Integrating Jupyter notebook with Julia notebooks in MyST-NB\n",
    ":id: TR-019\n",
    ":status: Finished\n",
    ":tags: tips;DX\n",
    "\n",
    "This report shows how to define a Julia kernel for Jupyter notebooks, so that it can be executed and converted to static pages with [MyST-NB](https://myst-nb.readthedocs.io/en/latest/computation/coconut-lang.html). This closes [ComPWA/compwa-org#134](https://github.com/ComPWA/compwa-org/issues/134).\n",
    "```\n",
    "````\n",
    "\n",
    "# Jupyter notebook with Julia kernel"
   ]
  },
  {
   "cell_type": "markdown",
   "metadata": {},
   "source": [
    "This notebook shows that the instructions provided in the {ref}`Julia installation<develop:Julia>` and {ref}`IJulia instructions<develop:IJulia notebooks>` work correctly."
   ]
  },
  {
   "cell_type": "code",
   "execution_count": null,
   "metadata": {},
   "outputs": [],
   "source": [
    "println(\"hello world\")"
   ]
  }
 ],
 "metadata": {
  "kernelspec": {
   "display_name": "julia 1.7.3",
   "language": "julia",
   "name": "julia-1.7"
  },
  "language_info": {
   "file_extension": ".jl",
   "mimetype": "application/julia",
   "name": "julia",
   "version": "1.7.3"
  }
 },
 "nbformat": 4,
 "nbformat_minor": 4
}
