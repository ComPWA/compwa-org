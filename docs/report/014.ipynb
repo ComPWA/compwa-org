{
 "cells": [
  {
   "cell_type": "code",
   "execution_count": null,
   "metadata": {
    "hideCode": true,
    "hideOutput": true,
    "hidePrompt": true,
    "jupyter": {
     "source_hidden": true
    },
    "slideshow": {
     "slide_type": "skip"
    },
    "tags": [
     "remove-cell"
    ]
   },
   "outputs": [],
   "source": [
    "%config InlineBackend.figure_formats = ['svg']\n",
    "import os\n",
    "\n",
    "STATIC_WEB_PAGE = {\"EXECUTE_NB\", \"READTHEDOCS\"}.intersection(os.environ)"
   ]
  },
  {
   "cell_type": "markdown",
   "metadata": {},
   "source": [
    "```{autolink-concat}\n",
    "```"
   ]
  },
  {
   "cell_type": "markdown",
   "metadata": {
    "tags": []
   },
   "source": [
    "# [TR-014] Amplitude model with sum notation"
   ]
  },
  {
   "cell_type": "code",
   "execution_count": null,
   "metadata": {
    "jupyter": {
     "source_hidden": true
    },
    "tags": [
     "hide-input",
     "remove-output"
    ]
   },
   "outputs": [],
   "source": [
    "%pip install -q \"ampform[viz]@git+https://github.com/ComPWA/ampform@3ed3ed5\" sympy==1.9"
   ]
  },
  {
   "cell_type": "code",
   "execution_count": null,
   "metadata": {
    "jupyter": {
     "source_hidden": true
    },
    "tags": [
     "hide-cell"
    ]
   },
   "outputs": [],
   "source": [
    "import itertools\n",
    "import logging\n",
    "from typing import Any, Iterable, List, Sequence, Tuple, Union\n",
    "\n",
    "import ampform\n",
    "import graphviz\n",
    "import qrules\n",
    "import sympy as sp\n",
    "from ampform.sympy import (\n",
    "    UnevaluatedExpression,\n",
    "    create_expression,\n",
    "    implement_doit_method,\n",
    ")\n",
    "from IPython.display import Math, display\n",
    "from sympy.physics.quantum.spin import Rotation as Wigner\n",
    "from sympy.printing.latex import LatexPrinter\n",
    "from sympy.printing.precedence import PRECEDENCE\n",
    "\n",
    "LOGGER = logging.getLogger()\n",
    "LOGGER.setLevel(logging.ERROR)"
   ]
  },
  {
   "cell_type": "markdown",
   "metadata": {},
   "source": [
    "## Problem description"
   ]
  },
  {
   "cell_type": "markdown",
   "metadata": {},
   "source": [
    "[ampform#213](https://github.com/ComPWA/ampform/pull/213) implements spin alignment, which results in large sum combinatorics for all helicity combinations. The result is an amplitude model expression that is too large to be rendered.\n",
    "\n",
    "To some extend, this is already the case with the current implementation of the 'standard' helicity formalism. Forgetting about dynamics, many of the terms in the total intensity expression differ only by a different helicity of the final and initial state."
   ]
  },
  {
   "cell_type": "code",
   "execution_count": null,
   "metadata": {
    "tags": []
   },
   "outputs": [],
   "source": [
    "reaction = qrules.generate_transitions(\n",
    "    initial_state=\"Lambda(c)+\",\n",
    "    final_state=[\"K-\", \"p\", \"pi+\"],\n",
    "    formalism=\"helicity\",\n",
    "    allowed_intermediate_particles=[\"Delta(1600)++\"],\n",
    ")"
   ]
  },
  {
   "cell_type": "code",
   "execution_count": null,
   "metadata": {
    "jupyter": {
     "source_hidden": true
    },
    "tags": [
     "hide-input",
     "full-width"
    ]
   },
   "outputs": [],
   "source": [
    "display(\n",
    "    *map(\n",
    "        lambda t: graphviz.Source(qrules.io.asdot(t, size=3)),\n",
    "        reaction.transitions,\n",
    "    )\n",
    ")"
   ]
  },
  {
   "cell_type": "code",
   "execution_count": null,
   "metadata": {
    "tags": []
   },
   "outputs": [],
   "source": [
    "builder = ampform.get_builder(reaction)\n",
    "model = builder.formulate()"
   ]
  },
  {
   "cell_type": "code",
   "execution_count": null,
   "metadata": {
    "jupyter": {
     "source_hidden": true
    },
    "tags": [
     "hide-input",
     "full-width"
    ]
   },
   "outputs": [],
   "source": [
    "model = builder.formulate()\n",
    "full_expression = model.expression.subs(model.parameter_defaults)\n",
    "full_expression = sp.nsimplify(full_expression)\n",
    "I = sp.Symbol(\"I\")  # noqa: E741\n",
    "latex = sp.multiline_latex(I, full_expression)\n",
    "Math(latex)"
   ]
  },
  {
   "cell_type": "markdown",
   "metadata": {},
   "source": [
    "## Simplified notation with `PoolSum`"
   ]
  },
  {
   "cell_type": "markdown",
   "metadata": {},
   "source": [
    "The definition of a special class that mimics {class}`sympy.Sum <sympy.concrete.summations.Sum>` may help to simplify this the total intensity model."
   ]
  },
  {
   "cell_type": "code",
   "execution_count": null,
   "metadata": {
    "jupyter": {
     "source_hidden": true
    },
    "tags": [
     "hide-cell"
    ]
   },
   "outputs": [],
   "source": [
    "@implement_doit_method\n",
    "class PoolSum(UnevaluatedExpression):\n",
    "    precedence = PRECEDENCE[\"Mul\"]\n",
    "\n",
    "    def __new__(\n",
    "        cls,\n",
    "        expression: sp.Expr,\n",
    "        *indices: Tuple[sp.Symbol, Iterable[sp.Float]],\n",
    "        **hints: Any,\n",
    "    ) -> \"PoolSum\":\n",
    "        indices = tuple((s, tuple(v)) for s, v in indices)\n",
    "        return create_expression(cls, expression, *indices, **hints)\n",
    "\n",
    "    @property\n",
    "    def expression(self) -> sp.Expr:\n",
    "        return self.args[0]\n",
    "\n",
    "    @property\n",
    "    def indices(self) -> List[Tuple[sp.Symbol, Tuple[sp.Float, ...]]]:\n",
    "        return self.args[1:]\n",
    "\n",
    "    def evaluate(self) -> sp.Expr:\n",
    "        indices = dict(self.indices)\n",
    "        return sp.Add(\n",
    "            *[\n",
    "                self.expression.subs(zip(indices, combi))\n",
    "                for combi in itertools.product(*indices.values())\n",
    "            ]\n",
    "        )\n",
    "\n",
    "    def _latex(self, printer: LatexPrinter, *args: Any) -> str:\n",
    "        indices = dict(self.indices)\n",
    "        sum_symbols: List[str] = []\n",
    "        for idx, values in indices.items():\n",
    "            sum_symbols.append(_render_sum_symbol(printer, idx, values))\n",
    "        expression = printer._print(self.expression)\n",
    "        return R\" \".join(sum_symbols) + f\"{{{expression}}}\"\n",
    "\n",
    "    def cleanup(self) -> Union[sp.Expr, \"PoolSum\"]:\n",
    "        \"\"\"Remove redundant summations, like indices with one or no value.\n",
    "\n",
    "        >>> x, i = sp.symbols(\"x i\")\n",
    "        >>> PoolSum(x**i, (i, [0, 1, 2])).cleanup().doit()\n",
    "        x**2 + x + 1\n",
    "        >>> PoolSum(x, (i, [0, 1, 2])).cleanup()\n",
    "        x\n",
    "        >>> PoolSum(x).cleanup()\n",
    "        x\n",
    "        >>> PoolSum(x**i, (i, [0])).cleanup()\n",
    "        1\n",
    "        \"\"\"\n",
    "        substitutions = {}\n",
    "        new_indices = []\n",
    "        for idx, values in self.indices:\n",
    "            if idx not in self.expression.free_symbols:\n",
    "                continue\n",
    "            if len(values) == 0:\n",
    "                continue\n",
    "            if len(values) == 1:\n",
    "                substitutions[idx] = values[0]\n",
    "            else:\n",
    "                new_indices.append((idx, values))\n",
    "        new_expression = self.expression.xreplace(substitutions)\n",
    "        if len(new_indices) == 0:\n",
    "            return new_expression\n",
    "        return PoolSum(new_expression, *new_indices)\n",
    "\n",
    "\n",
    "def _render_sum_symbol(\n",
    "    printer: LatexPrinter, idx: sp.Symbol, values: Sequence[float]\n",
    ") -> str:\n",
    "    if len(values) == 0:\n",
    "        return \"\"\n",
    "    idx = printer._print(idx)\n",
    "    if len(values) == 1:\n",
    "        value = values[0]\n",
    "        return Rf\"\\sum_{{{idx}={value}}}\"\n",
    "    if _is_regular_series(values):\n",
    "        sorted_values = sorted(values)\n",
    "        first_value = sorted_values[0]\n",
    "        last_value = sorted_values[-1]\n",
    "        return Rf\"\\sum_{{{idx}={first_value}}}^{{{last_value}}}\"\n",
    "    idx_values = \",\".join(map(printer._print, values))\n",
    "    return Rf\"\\sum_{{{idx}\\in\\left\\{{{idx_values}\\right\\}}}}\"\n",
    "\n",
    "\n",
    "def _is_regular_series(values: Sequence[float]) -> bool:\n",
    "    if len(values) <= 1:\n",
    "        return False\n",
    "    sorted_values = sorted(values)\n",
    "    for val, next_val in zip(sorted_values, sorted_values[1:]):\n",
    "        difference = float(next_val - val)\n",
    "        if difference != 1.0:\n",
    "            return False\n",
    "    return True"
   ]
  },
  {
   "cell_type": "code",
   "execution_count": null,
   "metadata": {
    "tags": []
   },
   "outputs": [],
   "source": [
    "half = sp.S.Half\n",
    "\n",
    "spin_parent = sp.Symbol(R\"s_{\\Lambda_c}\", real=True)\n",
    "spin_resonance = sp.Symbol(R\"s_\\Delta\", real=True)\n",
    "\n",
    "phi_12, theta_12 = sp.symbols(\"phi_12 theta_12\", real=True)\n",
    "phi_1_12, theta_1_12 = sp.symbols(R\"phi_1^12 theta_1^12\", real=True)\n",
    "\n",
    "lambda_parent = sp.Symbol(R\"\\lambda_{\\Lambda_c}\", real=True)\n",
    "lambda_resonance = sp.Symbol(R\"\\lambda_\\Delta\", real=True)\n",
    "lambda_p = sp.Symbol(R\"\\lambda_p\", real=True)\n",
    "lambda_k = sp.Symbol(R\"\\lambda_K\", real=True)\n",
    "lambda_pi = sp.Symbol(R\"\\lambda_\\pi\", real=True)\n",
    "sum_expr = sp.Subs(\n",
    "    PoolSum(\n",
    "        sp.Abs(\n",
    "            PoolSum(\n",
    "                Wigner.D(\n",
    "                    spin_parent,\n",
    "                    lambda_parent,\n",
    "                    lambda_k - lambda_resonance,\n",
    "                    phi_12,\n",
    "                    theta_12,\n",
    "                    0,\n",
    "                )\n",
    "                * Wigner.D(\n",
    "                    spin_resonance,\n",
    "                    lambda_resonance,\n",
    "                    lambda_p - lambda_pi,\n",
    "                    phi_1_12,\n",
    "                    theta_1_12,\n",
    "                    0,\n",
    "                ),\n",
    "                (lambda_resonance, (-half, +half)),\n",
    "            )\n",
    "        )\n",
    "        ** 2,\n",
    "        (lambda_parent, (-half, +half)),\n",
    "        (lambda_p, (-half, +half)),\n",
    "        (lambda_pi, (0,)),\n",
    "        (lambda_k, (0,)),\n",
    "    ),\n",
    "    (spin_parent, spin_resonance),\n",
    "    (half, 3 * half),\n",
    ")\n",
    "display(\n",
    "    sum_expr,\n",
    "    sum_expr.expr.cleanup(),\n",
    "    Math(sp.multiline_latex(I, sum_expr.doit(deep=False))),\n",
    "    sum_expr.doit(deep=False).doit(deep=True),\n",
    ")"
   ]
  },
  {
   "cell_type": "code",
   "execution_count": null,
   "metadata": {
    "jupyter": {
     "source_hidden": true
    },
    "tags": [
     "remove-cell"
    ]
   },
   "outputs": [],
   "source": [
    "assert sum_expr.doit(deep=False).doit() == full_expression.doit()"
   ]
  },
  {
   "cell_type": "markdown",
   "metadata": {},
   "source": [
    "## Generic solution"
   ]
  },
  {
   "cell_type": "markdown",
   "metadata": {},
   "source": [
    "The current implementation of the [`HelicityAmplitudeBuilder`](https://ampform.readthedocs.io/en/0.12.3/api/ampform.helicity.html#ampform.helicity.HelicityAmplitudeBuilder) has to be changed quite a bit to produce an amplitude model with `PoolSum`s. First of all, we have to introduce special {class}`~sympy.core.symbol.Symbol`s for the helicities, $\\lambda_i$, with $i$ the state ID (taking a sum of attached final state IDs in case of a resonance ID).[^spin-alignment] Next, [`formulate_wigner_d()`](https://ampform.readthedocs.io/en/0.12.3/api/ampform.helicity.html#ampform.helicity.formulate_wigner_d) has to be modified to insert these {class}`~sympy.core.symbol.Symbol`s into the {class}`sympy.physics.quantum.spin.WignerD`:\n",
    "\n",
    "[^spin-alignment]: When introducing spin alignment ([ampform#213](https://github.com/ComPWA/ampform/pull/213)), we have to distinguish the helicity symbols between different topologies."
   ]
  },
  {
   "cell_type": "code",
   "execution_count": null,
   "metadata": {
    "jupyter": {
     "source_hidden": true
    },
    "tags": [
     "hide-cell"
    ]
   },
   "outputs": [],
   "source": [
    "from ampform.helicity import _generate_kinematic_variables\n",
    "from ampform.helicity.decay import TwoBodyDecay, determine_attached_final_state\n",
    "from qrules.topology import Topology\n",
    "from qrules.transition import StateTransition\n",
    "\n",
    "\n",
    "def formulate_wigner_d(transition: StateTransition, node_id: int) -> sp.Expr:\n",
    "    from sympy.physics.quantum.spin import Rotation as Wigner\n",
    "\n",
    "    decay = TwoBodyDecay.from_transition(transition, node_id)\n",
    "    topology = transition.topology\n",
    "    parent_helicity = create_helicity_symbol(topology, decay.parent.id)\n",
    "    child1_helicity = create_helicity_symbol(topology, decay.children[0].id)\n",
    "    child2_helicity = create_helicity_symbol(topology, decay.children[1].id)\n",
    "    _, phi, theta = _generate_kinematic_variables(transition, node_id)\n",
    "    return Wigner.D(\n",
    "        j=sp.Rational(decay.parent.particle.spin),\n",
    "        m=parent_helicity,\n",
    "        mp=child1_helicity - child2_helicity,\n",
    "        alpha=-phi,\n",
    "        beta=theta,\n",
    "        gamma=0,\n",
    "    )\n",
    "\n",
    "\n",
    "def create_helicity_symbol(topology: Topology, state_id: int) -> sp.Symbol:\n",
    "    if state_id in topology.incoming_edge_ids:\n",
    "        suffix = \"\"\n",
    "    else:\n",
    "        suffix = \"_\" + get_resonance_identifier(topology, state_id)\n",
    "    return sp.Symbol(f\"lambda{suffix}\", rational=True)\n",
    "\n",
    "\n",
    "def get_resonance_identifier(topology: Topology, state_id: int) -> str:\n",
    "    attached_final_state_ids = determine_attached_final_state(\n",
    "        topology, state_id\n",
    "    )\n",
    "    return \"\".join(map(str, attached_final_state_ids))"
   ]
  },
  {
   "cell_type": "code",
   "execution_count": null,
   "metadata": {},
   "outputs": [],
   "source": [
    "wigner_functions = {\n",
    "    sp.Mul(\n",
    "        *[\n",
    "            formulate_wigner_d(transition, node_id)\n",
    "            for node_id in transition.topology.nodes\n",
    "        ]\n",
    "    )\n",
    "    for transition in reaction.transitions\n",
    "}\n",
    "display(*wigner_functions)"
   ]
  },
  {
   "cell_type": "markdown",
   "metadata": {},
   "source": [
    "We also have to collect the allowed helicity values for each of these helicity symbols."
   ]
  },
  {
   "cell_type": "code",
   "execution_count": null,
   "metadata": {
    "jupyter": {
     "source_hidden": true
    },
    "tags": [
     "hide-cell"
    ]
   },
   "outputs": [],
   "source": [
    "from collections import defaultdict\n",
    "from typing import Dict, Literal, Set\n",
    "\n",
    "from qrules import ReactionInfo\n",
    "\n",
    "\n",
    "def get_helicities(\n",
    "    reaction: ReactionInfo, which: Literal[\"inner\", \"outer\"]\n",
    ") -> Dict[int, Set[sp.Rational]]:\n",
    "    helicities = defaultdict(set)\n",
    "    for transition in reaction.transitions:\n",
    "        for state_id, state in transition.states.items():\n",
    "            intermediate_edge = state_id in transition.intermediate_states\n",
    "            if which == \"inner\" and not intermediate_edge:\n",
    "                continue\n",
    "            if which == \"outer\" and intermediate_edge:\n",
    "                continue\n",
    "            helicity = sp.Rational(state.spin_projection)\n",
    "            symbol = create_helicity_symbol(transition.topology, state_id)\n",
    "            helicities[symbol].add(helicity)\n",
    "    return dict(helicities)"
   ]
  },
  {
   "cell_type": "code",
   "execution_count": null,
   "metadata": {
    "tags": []
   },
   "outputs": [],
   "source": [
    "inner_helicities = get_helicities(reaction, which=\"inner\")\n",
    "outer_helicities = get_helicities(reaction, which=\"outer\")\n",
    "display(inner_helicities, outer_helicities)"
   ]
  },
  {
   "cell_type": "markdown",
   "metadata": {},
   "source": [
    "These collected helicity values can then be combined with the Wigner-$D$ expressions through a `PoolSum`:"
   ]
  },
  {
   "cell_type": "code",
   "execution_count": null,
   "metadata": {},
   "outputs": [],
   "source": [
    "def formulate_intensity(reaction: ReactionInfo):\n",
    "    wigner_functions = {\n",
    "        sp.Mul(\n",
    "            *[\n",
    "                formulate_wigner_d(transition, node_id)\n",
    "                for node_id in transition.topology.nodes\n",
    "            ]\n",
    "        )\n",
    "        for transition in reaction.transitions\n",
    "    }\n",
    "    inner_helicities = get_helicities(reaction, which=\"inner\")\n",
    "    outer_helicities = get_helicities(reaction, which=\"outer\")\n",
    "    return PoolSum(\n",
    "        sp.Abs(\n",
    "            PoolSum(\n",
    "                sp.Add(*wigner_functions),\n",
    "                *inner_helicities.items(),\n",
    "            )\n",
    "        )\n",
    "        ** 2,\n",
    "        *outer_helicities.items(),\n",
    "    )\n",
    "\n",
    "\n",
    "formulate_intensity(reaction)"
   ]
  },
  {
   "cell_type": "markdown",
   "metadata": {},
   "source": [
    "Note how this approach also works in case there are two decay topologies:"
   ]
  },
  {
   "cell_type": "code",
   "execution_count": null,
   "metadata": {
    "jupyter": {
     "source_hidden": true
    },
    "tags": [
     "hide-input"
    ]
   },
   "outputs": [],
   "source": [
    "reaction_two_resonances = qrules.generate_transitions(\n",
    "    initial_state=\"Lambda(c)+\",\n",
    "    final_state=[\"K-\", \"p\", \"pi+\"],\n",
    "    formalism=\"helicity\",\n",
    "    allowed_intermediate_particles=[\"Lambda(1405)\", \"Delta(1600)++\"],\n",
    ")\n",
    "assert len(reaction_two_resonances.transition_groups) == 2\n",
    "dot = qrules.io.asdot(reaction, collapse_graphs=True)\n",
    "display(\n",
    "    *[\n",
    "        graphviz.Source(qrules.io.asdot(g, collapse_graphs=True, size=4))\n",
    "        for g in reaction_two_resonances.transition_groups\n",
    "    ]\n",
    ")"
   ]
  },
  {
   "cell_type": "code",
   "execution_count": null,
   "metadata": {
    "tags": [
     "full-width"
    ]
   },
   "outputs": [],
   "source": [
    "formulate_intensity(reaction_two_resonances).cleanup()"
   ]
  }
 ],
 "metadata": {
  "kernelspec": {
   "display_name": "Python 3 (ipykernel)",
   "language": "python",
   "name": "python3"
  },
  "language_info": {
   "name": "python",
   "version": "3.8.12"
  }
 },
 "nbformat": 4,
 "nbformat_minor": 4
}
