{
 "cells": [
  {
   "cell_type": "markdown",
   "metadata": {},
   "source": [
    "```{autolink-concat}\n",
    "```"
   ]
  },
  {
   "cell_type": "markdown",
   "metadata": {},
   "source": [
    "<!-- no-set-nb-cells -->"
   ]
  },
  {
   "cell_type": "markdown",
   "metadata": {},
   "source": [
    "# Symbolic amplitude models"
   ]
  },
  {
   "cell_type": "markdown",
   "metadata": {},
   "source": [
    "Amplitude analysis attempts to describe the intensity distributions that we observe in particle collider experiments in order to extract parameters about intermediate states appearing in the scattering process. The scattering processes that take place in these experiments are governed by the electroweak force and the strong force. The strong force can be described by Quantum Chromodynamics, which exhibits complicated behavior in the low-energy regime.\n",
    "\n",
    "The complicated nature of the strong force makes it difficult to derive intensity models from first principles. Instead, we have to rely on approximations given specific assumptions for the scattering process that we study. Each amplitude model that we formulate is almost always merely an approximation of the true scattering process. As a consequence, we always have to reassess our analysis results and try alternative models. In addition, amplitude models can be extremely complicated, with large, complex-valued parametrizations and dozens of input parameters. We therefore want to evaluate these models with as much information as possible. That means large input data samples and 'fits' using the full likelihood function.\n",
    "\n",
    "Given these challenges, we can identify **three major requirements that amplitude analysis software should satisfy**:"
   ]
  },
  {
   "cell_type": "markdown",
   "metadata": {},
   "source": [
    ":::{card} {material-regular}`speed` Performance\n",
    ":link: performance\n",
    ":link-type: ref\n",
    "We want to evaluate likelihood function as fast as possible over large data samples, so that we can optimize our model parameters for several hypotheses.\n",
    ":::\n",
    "\n",
    ":::{card} {material-regular}`draw` Flexibility\n",
    ":link: flexibility\n",
    ":link-type: ref\n",
    "We want to quickly formulate a wide range of amplitude models, given the latest theoretical and experimental insights.\n",
    ":::\n",
    "\n",
    ":::{card} {material-regular}`school` Transparency\n",
    ":link: transparency\n",
    ":link-type: ref\n",
    "It must be easy to understand the mathematics behind the implemented model, so that the analysis can be reproduced or compared to comparable experiments.\n",
    ":::"
   ]
  },
  {
   "cell_type": "markdown",
   "metadata": {},
   "source": [
    "(performance)=\n",
    "## {material-regular}`speed` Performance"
   ]
  },
  {
   "cell_type": "markdown",
   "metadata": {},
   "source": [
    "### Array-oriented programming"
   ]
  },
  {
   "cell_type": "markdown",
   "metadata": {},
   "source": [
    "### High-performance numerical computing"
   ]
  },
  {
   "cell_type": "markdown",
   "metadata": {},
   "source": [
    "(flexibility)=\n",
    "## {material-regular}`draw` Flexibility"
   ]
  },
  {
   "cell_type": "markdown",
   "metadata": {},
   "source": [
    "### Computer Algebra System"
   ]
  },
  {
   "cell_type": "markdown",
   "metadata": {},
   "source": [
    "### Symbolic expressions as template"
   ]
  },
  {
   "cell_type": "markdown",
   "metadata": {},
   "source": [
    "(transparency)=\n",
    "## {material-regular}`school` Transparency"
   ]
  },
  {
   "cell_type": "markdown",
   "metadata": {},
   "source": [
    "### Self-documenting workflow"
   ]
  },
  {
   "cell_type": "markdown",
   "metadata": {},
   "source": [
    "### Model preservation"
   ]
  }
 ],
 "metadata": {
  "colab": {
   "toc_visible": true
  },
  "kernelspec": {
   "display_name": "Python 3 (ipykernel)",
   "language": "python",
   "name": "python3"
  },
  "language_info": {
   "codemirror_mode": {
    "name": "ipython",
    "version": 3
   },
   "file_extension": ".py",
   "mimetype": "text/x-python",
   "name": "python",
   "nbconvert_exporter": "python",
   "pygments_lexer": "ipython3",
   "version": "3.10.13"
  }
 },
 "nbformat": 4,
 "nbformat_minor": 4
}
