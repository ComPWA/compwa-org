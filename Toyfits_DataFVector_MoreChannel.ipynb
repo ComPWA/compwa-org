{
 "cells": [
  {
   "cell_type": "markdown",
   "metadata": {},
   "source": [
    "# [R990] Genarate data with $F$ vector $F$ vector for n poles and n channels \n",
    "## Working plots Remco"
   ]
  },
  {
   "cell_type": "code",
   "execution_count": 1,
   "metadata": {
    "editable": true,
    "slideshow": {
     "slide_type": ""
    },
    "tags": [
     "hide-cell"
    ]
   },
   "outputs": [],
   "source": [
    "from __future__ import annotations\n",
    "\n",
    "from dataclasses import dataclass\n",
    "from typing import Any, Iterable, Mapping\n",
    "\n",
    "import ampform\n",
    "import attrs\n",
    "import matplotlib.pyplot as plt\n",
    "import numpy as np\n",
    "import pandas as pd\n",
    "import qrules\n",
    "import sympy as sp\n",
    "from ampform.dynamics.builder import TwoBodyKinematicVariableSet\n",
    "from ampform.helicity import HelicityModel, ParameterValues\n",
    "from ampform.io import aslatex\n",
    "from ampform.kinematics.phasespace import Kallen\n",
    "from ampform.sympy import perform_cached_doit, unevaluated\n",
    "from IPython.display import Math, display\n",
    "from matplotlib import cm\n",
    "from qrules.particle import Particle, ParticleCollection\n",
    "from qrules.transition import ReactionInfo\n",
    "from sympy import Abs\n",
    "from sympy.matrices.expressions.matexpr import MatrixElement\n",
    "from tensorwaves.data import (\n",
    "    IntensityDistributionGenerator,\n",
    "    SympyDataTransformer,\n",
    "    TFPhaseSpaceGenerator,\n",
    "    TFUniformRealNumberGenerator,\n",
    "    TFWeightedPhaseSpaceGenerator,\n",
    ")\n",
    "from tensorwaves.estimator import UnbinnedNLL\n",
    "from tensorwaves.function.sympy import create_parametrized_function\n",
    "from tensorwaves.interface import DataSample, Estimator, Function, ParameterValue\n",
    "from tensorwaves.optimizer import Minuit2\n",
    "from tensorwaves.optimizer.callbacks import CSVSummary\n",
    "\n",
    "from kmatrix import COLLECTED_X_SYMBOLS, create_dynamics_symbol\n",
    "\n",
    "_ = np.seterr(invalid=\"ignore\")"
   ]
  },
  {
   "cell_type": "markdown",
   "metadata": {},
   "source": [
    "## Collect dynamics symbols"
   ]
  },
  {
   "cell_type": "markdown",
   "metadata": {
    "editable": true,
    "slideshow": {
     "slide_type": ""
    },
    "tags": []
   },
   "source": [
    "| Resonance | $m$ [MeV] | $\\Gamma$ [MeV] | $J^P$ |\n",
    "|-----------|-----------|----------------|-------|\n",
    "| $N^*(1440)$ | 1398      | 167            | $\\frac{1}{2}^{+}$ |\n",
    "| $N^*(1535)$ | 1530      | 210            | $\\frac{1}{2}^{-}$ |\n",
    "| $N^*(1650)$ | 1668      | 194            | $\\frac{1}{2}^{-}$ |\n",
    "| $N^*(1710)$ | 1749      | 263            | $\\frac{1}{2}^{+}$ |\n",
    "| $N^*(1880)$ | 1876      | 261            | $\\frac{1}{2}^{+}$ |\n",
    "| $N^*(1895)$ | 2045      | 240            | $\\frac{1}{2}^{-}$ |\n",
    "| $N^*(1900)$ | 1970      | 255            | $\\frac{3}{2}^{+}$ |"
   ]
  },
  {
   "cell_type": "code",
   "execution_count": 2,
   "metadata": {
    "editable": true,
    "slideshow": {
     "slide_type": ""
    },
    "tags": []
   },
   "outputs": [],
   "source": [
    "def load_particle_database() -> ParticleCollection:\n",
    "    particle_database = qrules.load_default_particles()\n",
    "    additional_definitions = qrules.io.load(\n",
    "        \"../../../additional-nstar-sigma-definitions.yml\"\n",
    "    )\n",
    "    particle_database.update(additional_definitions)\n",
    "    return particle_database\n",
    "\n",
    "\n",
    "PARTICLE_DB = load_particle_database()"
   ]
  },
  {
   "cell_type": "code",
   "execution_count": 3,
   "metadata": {
    "editable": true,
    "slideshow": {
     "slide_type": ""
    },
    "tags": []
   },
   "outputs": [
    {
     "data": {
      "application/vnd.jupyter.widget-view+json": {
       "model_id": "680eabb7bba743b09c1cbe16ad28890d",
       "version_major": 2,
       "version_minor": 0
      },
      "text/plain": [
       "Propagating quantum numbers:   0%|          | 0/36 [00:00<?, ?it/s]"
      ]
     },
     "metadata": {},
     "output_type": "display_data"
    },
    {
     "data": {
      "application/vnd.jupyter.widget-view+json": {
       "model_id": "d84363b6834540a19bb292c626fa5c68",
       "version_major": 2,
       "version_minor": 0
      },
      "text/plain": [
       "Propagating quantum numbers:   0%|          | 0/36 [00:00<?, ?it/s]"
      ]
     },
     "metadata": {},
     "output_type": "display_data"
    }
   ],
   "source": [
    "FINAL_STATES: list[tuple[str, ...]] = [\n",
    "    [\"K0\", \"Sigma+\", \"p~\"],\n",
    "    [\"eta\", \"p\", \"p~\"],\n",
    "]\n",
    "REACTIONS: list[ReactionInfo] = [\n",
    "    qrules.generate_transitions(\n",
    "        initial_state=\"J/psi(1S)\",\n",
    "        final_state=final_state,\n",
    "        allowed_intermediate_particles=[\"N(Fakestar)+\"],\n",
    "        allowed_interaction_types=[\"strong\"],\n",
    "        formalism=\"helicity\",\n",
    "        particle_db=PARTICLE_DB,\n",
    "    )\n",
    "    for final_state in FINAL_STATES\n",
    "]"
   ]
  },
  {
   "cell_type": "code",
   "execution_count": 4,
   "metadata": {
    "tags": []
   },
   "outputs": [],
   "source": [
    "MODELS: list[HelicityModel] = []\n",
    "for reaction in REACTIONS:\n",
    "    builder = ampform.get_builder(reaction)\n",
    "    builder.adapter.permutate_registered_topologies()\n",
    "    builder.scalar_initial_state_mass = True\n",
    "    builder.stable_final_state_ids = [0, 1, 2]\n",
    "    for resonance in reaction.get_intermediate_particles():\n",
    "        builder.set_dynamics(resonance.name, create_dynamics_symbol)\n",
    "    MODELS.append(builder.formulate())"
   ]
  },
  {
   "cell_type": "code",
   "execution_count": 5,
   "metadata": {
    "tags": []
   },
   "outputs": [],
   "source": [
    "selected_amplitudes = {\n",
    "    k: v for i, (k, v) in enumerate(MODELS[0].amplitudes.items()) if i < 3\n",
    "}"
   ]
  },
  {
   "cell_type": "code",
   "execution_count": 6,
   "metadata": {
    "editable": true,
    "slideshow": {
     "slide_type": ""
    },
    "tags": [
     "hide-input"
    ]
   },
   "outputs": [
    {
     "data": {
      "text/latex": [
       "$\\displaystyle X_{Q=+1, S=3/2, P =1}$"
      ],
      "text/plain": [
       "X_{Q=+1, S=3/2, P =1}"
      ]
     },
     "metadata": {},
     "output_type": "display_data"
    },
    {
     "name": "stdout",
     "output_type": "stream",
     "text": [
      "  N(Fakestar)+             1.82 GeV       0.6 GeV\n"
     ]
    }
   ],
   "source": [
    "for X, resonance_info in COLLECTED_X_SYMBOLS.items():\n",
    "    for res, _ in sorted(resonance_info):\n",
    "        display(X)\n",
    "        print(f\"  {res.name:<20s} {res.mass:>8g} GeV  {res.width:>8g} GeV\")"
   ]
  },
  {
   "cell_type": "code",
   "execution_count": 7,
   "metadata": {
    "editable": true,
    "slideshow": {
     "slide_type": ""
    },
    "tags": []
   },
   "outputs": [],
   "source": [
    "@dataclass\n",
    "class TwoBodyDecay:  # specific to the channel\n",
    "    child1: Particle\n",
    "    child2: Particle\n",
    "\n",
    "\n",
    "DECAYS = tuple(\n",
    "    TwoBodyDecay(\n",
    "        child1=reaction.final_state[0],\n",
    "        child2=reaction.final_state[1],\n",
    "    )\n",
    "    for reaction in REACTIONS\n",
    ")\n",
    "s = sp.Symbol(\"m_01\", real=True) ** 2\n",
    "\n",
    "PARAMETERS_DEFAULTS = {}\n",
    "for model in MODELS:\n",
    "    PARAMETERS_DEFAULTS.update(model.parameter_defaults)\n",
    "    del model\n",
    "\n",
    "resonances, *_ = COLLECTED_X_SYMBOLS.values()"
   ]
  },
  {
   "cell_type": "markdown",
   "metadata": {
    "editable": true,
    "slideshow": {
     "slide_type": ""
    },
    "tags": []
   },
   "source": [
    "## Formulate dynamics expression"
   ]
  },
  {
   "cell_type": "code",
   "execution_count": 8,
   "metadata": {
    "editable": true,
    "slideshow": {
     "slide_type": ""
    },
    "tags": []
   },
   "outputs": [
    {
     "data": {
      "text/latex": [
       "$\\displaystyle X_{Q=+1, S=3/2, P =1}$"
      ],
      "text/plain": [
       "X_{Q=+1, S=3/2, P =1}"
      ]
     },
     "metadata": {},
     "output_type": "display_data"
    },
    {
     "name": "stdout",
     "output_type": "stream",
     "text": [
      "  N(Fakestar)+             1.82 GeV       0.6 GeV \n"
     ]
    },
    {
     "data": {
      "text/plain": [
       "ParameterValues({\n",
       "  C_{J/\\psi(1S) \\to N(Fakestar)^+_{+3/2} \\overline{p}_{+1/2}; N(Fakestar)^+ \\to K^{0}_{0} \\Sigma^{+}_{+1/2}}: (1+0j),\n",
       "  C_{J/\\psi(1S) \\to N(Fakestar)^+_{+1/2} \\overline{p}_{+1/2}; N(Fakestar)^+ \\to K^{0}_{0} \\Sigma^{+}_{+1/2}}: (1+0j),\n",
       "  C_{J/\\psi(1S) \\to N(Fakestar)^+_{+1/2} \\overline{p}_{-1/2}; N(Fakestar)^+ \\to K^{0}_{0} \\Sigma^{+}_{+1/2}}: (1+0j),\n",
       "  m_0: 0.49761099999999997,\n",
       "  m_1: 1.1893699999999998,\n",
       "  m_2: 0.93827208816,\n",
       "  m_012: 3.0969,\n",
       "  })"
      ]
     },
     "execution_count": 8,
     "metadata": {},
     "output_type": "execute_result"
    }
   ],
   "source": [
    "for symbol, resonances in COLLECTED_X_SYMBOLS.items():\n",
    "    display(symbol)\n",
    "    for p, _ in resonances:\n",
    "        print(f\"  {p.name:<20s} {p.mass:>8g} GeV  {p.width:>8g} GeV \")\n",
    "MODELS[0].parameter_defaults"
   ]
  },
  {
   "cell_type": "markdown",
   "metadata": {
    "editable": true,
    "slideshow": {
     "slide_type": ""
    },
    "tags": []
   },
   "source": [
    "## Formulate Dynamics"
   ]
  },
  {
   "cell_type": "markdown",
   "metadata": {},
   "source": [
    "### Phasespace factor"
   ]
  },
  {
   "cell_type": "code",
   "execution_count": 9,
   "metadata": {
    "editable": true,
    "slideshow": {
     "slide_type": ""
    },
    "tags": [
     "hide-input"
    ]
   },
   "outputs": [
    {
     "data": {
      "text/latex": [
       "$\\displaystyle \\begin{array}{rcl}\n",
       "  \\rho^\\mathrm{CM}_{m_{1},m_{2}}\\left(s\\right) &=& - 16 i \\pi \\Sigma\\left(s\\right) \\\\\n",
       "  \\Sigma\\left(s\\right) &=& \\frac{- \\left(m_{1}^{2} - m_{2}^{2}\\right) \\left(- \\frac{1}{\\left(m_{1} + m_{2}\\right)^{2}} + \\frac{1}{s}\\right) \\log{\\left(\\frac{m_{1}}{m_{2}} \\right)} + \\frac{2 \\log{\\left(\\frac{\\left|{\\frac{m_{1}^{2} + m_{2}^{2} + 2 \\sqrt{s} q\\left(s\\right) - s}{m_{1} m_{2}}}\\right|}{2} \\right)} q\\left(s\\right)}{\\sqrt{s}}}{16 \\pi^{2}} \\\\\n",
       "  q\\left(s\\right) &=& \\frac{\\sqrt{\\lambda\\left(s, m_{1}^{2}, m_{2}^{2}\\right)}}{2 \\sqrt{s}} \\\\\n",
       "\\end{array}$"
      ],
      "text/plain": [
       "<IPython.core.display.Math object>"
      ]
     },
     "execution_count": 9,
     "metadata": {},
     "output_type": "execute_result"
    }
   ],
   "source": [
    "@unevaluated(real=False)\n",
    "class PhaseSpaceCM(sp.Expr):\n",
    "    s: Any\n",
    "    m1: Any\n",
    "    m2: Any\n",
    "    _latex_repr_ = R\"\\rho^\\mathrm{{CM}}_{{{m1},{m2}}}\\left({s}\\right)\"\n",
    "\n",
    "    def evaluate(self) -> sp.Expr:\n",
    "        s, m1, m2 = self.args\n",
    "        return -16 * sp.pi * sp.I * ChewMandelstam(s, m1, m2)\n",
    "\n",
    "\n",
    "@unevaluated(real=False)\n",
    "class ChewMandelstam(sp.Expr):\n",
    "    s: Any\n",
    "    m1: Any\n",
    "    m2: Any\n",
    "    _latex_repr_ = R\"\\Sigma\\left({s}\\right)\"  # noqa: RUF027\n",
    "\n",
    "    def evaluate(self) -> sp.Expr:\n",
    "        s, m1, m2 = self.args\n",
    "        q = BreakupMomentum(s, m1, m2)\n",
    "        return (\n",
    "            1\n",
    "            / (16 * sp.pi**2)\n",
    "            * (\n",
    "                (2 * q / sp.sqrt(s))\n",
    "                * sp.log(Abs((m1**2 + m2**2 - s + 2 * sp.sqrt(s) * q) / (2 * m1 * m2)))\n",
    "                - (m1**2 - m2**2) * (1 / s - 1 / (m1 + m2) ** 2) * sp.log(m1 / m2)\n",
    "            )\n",
    "        )\n",
    "\n",
    "\n",
    "@unevaluated(real=False)\n",
    "class BreakupMomentum(sp.Expr):\n",
    "    s: Any\n",
    "    m1: Any\n",
    "    m2: Any\n",
    "    _latex_repr_ = R\"q\\left({s}\\right)\"  # noqa: RUF027\n",
    "\n",
    "    def evaluate(self) -> sp.Expr:\n",
    "        s, m1, m2 = self.args\n",
    "        return sp.sqrt(Kallen(s, m1**2, m2**2)) / (2 * sp.sqrt(s))\n",
    "\n",
    "\n",
    "s, m1, m2 = sp.symbols(\"s m1 m2\")\n",
    "exprs = [\n",
    "    PhaseSpaceCM(s, m1, m2),\n",
    "    ChewMandelstam(s, m1, m2),\n",
    "    BreakupMomentum(s, m1, m2),\n",
    "]\n",
    "Math(aslatex({e: e.doit(deep=False) for e in exprs}))"
   ]
  },
  {
   "cell_type": "code",
   "execution_count": 10,
   "metadata": {
    "editable": true,
    "slideshow": {
     "slide_type": ""
    },
    "tags": [
     "hide-input"
    ]
   },
   "outputs": [
    {
     "data": {
      "text/latex": [
       "$\\displaystyle \\begin{array}{rcl}\n",
       "  \\Gamma_s\\left(s\\right) &=& \\gamma_{0} \\rho^\\mathrm{CM}_{m_{1},m_{2}}\\left(s\\right) \\\\\n",
       "\\end{array}$"
      ],
      "text/plain": [
       "<IPython.core.display.Math object>"
      ]
     },
     "execution_count": 10,
     "metadata": {},
     "output_type": "execute_result"
    }
   ],
   "source": [
    "@unevaluated(real=False)\n",
    "class EnergyDecaywidth(sp.Expr):\n",
    "    s: Any\n",
    "    m1: Any\n",
    "    m2: Any\n",
    "    width: Any\n",
    "    _latex_repr_ = R\"\\Gamma_s\\left({s}\\right)\"  # noqa: RUF027\n",
    "\n",
    "    def evaluate(self) -> sp.Expr:\n",
    "        s, m1, m2, width = self.args\n",
    "        return width * PhaseSpaceCM(s, m1, m2)\n",
    "\n",
    "\n",
    "s, m1, m2, width = sp.symbols(\"s m1 m2 gamma0\")\n",
    "expr = EnergyDecaywidth(s, m1, m2, width)\n",
    "Math(aslatex({expr: expr.doit(deep=False)}))"
   ]
  },
  {
   "cell_type": "code",
   "execution_count": 11,
   "metadata": {
    "editable": true,
    "slideshow": {
     "slide_type": ""
    },
    "tags": [
     "hide-input"
    ]
   },
   "outputs": [
    {
     "data": {
      "text/latex": [
       "$\\displaystyle \\begin{array}{rcl}\n",
       "  CM_{m_{1},m_{2}}\\left(s\\right) &=& - \\frac{2 \\left(- \\frac{\\left(m_{1}^{2} + m_{2}^{2}\\right) \\log{\\left(\\frac{m_{1}}{m_{2}} \\right)}}{2 m_{1}^{2} - 2 m_{2}^{2}} - 0.5 - \\frac{\\sqrt{\\left(- s + \\left(m_{1} - m_{2}\\right)^{2}\\right) \\left(- s + \\left(m_{1} + m_{2}\\right)^{2}\\right)} \\log{\\left(\\frac{\\sqrt{- s + \\left(m_{1} - m_{2}\\right)^{2}} + \\sqrt{- s + \\left(m_{1} + m_{2}\\right)^{2}}}{2 \\sqrt{m_{1} m_{2}}} \\right)}}{s} + \\frac{\\left(m_{1}^{2} - m_{2}^{2}\\right) \\log{\\left(\\frac{m_{1}}{m_{2}} \\right)}}{2 s}\\right)}{\\pi} \\\\\n",
       "\\end{array}$"
      ],
      "text/plain": [
       "<IPython.core.display.Math object>"
      ]
     },
     "execution_count": 11,
     "metadata": {},
     "output_type": "execute_result"
    }
   ],
   "source": [
    "@unevaluated(real=False)\n",
    "class CM(sp.Expr):\n",
    "    s: Any\n",
    "    m1: Any\n",
    "    m2: Any\n",
    "    _latex_repr_ = R\"CM_{{{m1},{m2}}}\\left({s}\\right)\"  # noqa: RUF027\n",
    "\n",
    "    def evaluate(self) -> sp.Expr:\n",
    "        s, m1, m2 = self.args\n",
    "        return (\n",
    "            -2\n",
    "            / sp.pi\n",
    "            * (\n",
    "                -1\n",
    "                / s\n",
    "                * sp.sqrt(((m1 + m2) ** 2 - s) * ((m1 - m2) ** 2 - s))\n",
    "                * sp.log(\n",
    "                    (sp.sqrt((m1 + m2) ** 2 - s) + sp.sqrt((m1 - m2) ** 2 - s))\n",
    "                    / (2 * sp.sqrt(m1 * m2))\n",
    "                )\n",
    "                + (m1**2 - m2**2) / (2 * s) * sp.log(m1 / m2)\n",
    "                - (m1**2 + m2**2) / (2 * (m1**2 - m2**2)) * sp.log(m1 / m2)\n",
    "                - 1 / 2\n",
    "            )\n",
    "        )\n",
    "\n",
    "\n",
    "s, m1, m2 = sp.symbols(\"s m1 m2\")\n",
    "CM_expr = CM(s, m1, m2)\n",
    "Math(aslatex({CM_expr: CM_expr.doit(deep=False)}))"
   ]
  },
  {
   "cell_type": "markdown",
   "metadata": {
    "editable": true,
    "slideshow": {
     "slide_type": ""
    },
    "tags": []
   },
   "source": [
    "### \n",
    "\n",
    "Relativistic Breit-Wigner"
   ]
  },
  {
   "cell_type": "code",
   "execution_count": 12,
   "metadata": {
    "editable": true,
    "slideshow": {
     "slide_type": ""
    },
    "tags": []
   },
   "outputs": [],
   "source": [
    "PARAMETERS_BW = {}\n",
    "\n",
    "\n",
    "def formulate_breit_wigner(\n",
    "    resonances: list[tuple[Particle, TwoBodyKinematicVariableSet]],\n",
    ") -> sp.Expr:\n",
    "    (_, variables), *_ = resonances\n",
    "    s = variables.incoming_state_mass**2\n",
    "    m_a = variables.outgoing_state_mass1\n",
    "    m_b = variables.outgoing_state_mass2\n",
    "    w = [sp.Symbol(Rf\"w_{{{p.latex}}}\") for p, _ in resonances]\n",
    "    m = [sp.Symbol(Rf\"m_{{{p.latex}}}\") for p, _ in resonances]\n",
    "    b = [sp.Symbol(Rf\"b_{{{p.latex}}}\") for p, _ in resonances]\n",
    "    d = [sp.Symbol(Rf\"d_{{{p.latex}}}\") for p, _ in resonances]\n",
    "    L = [sp.Symbol(Rf\"L_{{{p.latex}}}\") for p, _ in resonances]\n",
    "    w_s = (EnergyDecaywidth(s, m_a, m_b, w_) for w_ in w)\n",
    "    rel_bw = sum((w_ * m_) / (m_**2 - s - m_ * w_s_) for m_, w_, w_s_ in zip(m, w, w_s))\n",
    "    for i, (p, _) in enumerate(resonances):\n",
    "        PARAMETERS_BW[w[i]] = p.width\n",
    "        PARAMETERS_BW[m[i]] = p.mass\n",
    "        PARAMETERS_BW[b[i]] = 1\n",
    "        PARAMETERS_BW[d[i]] = 1\n",
    "        PARAMETERS_BW[L[i]] = 0\n",
    "    return rel_bw"
   ]
  },
  {
   "cell_type": "markdown",
   "metadata": {
    "editable": true,
    "slideshow": {
     "slide_type": ""
    },
    "tags": []
   },
   "source": [
    "### Define matrix symbols"
   ]
  },
  {
   "cell_type": "code",
   "execution_count": 13,
   "metadata": {
    "editable": true,
    "slideshow": {
     "slide_type": ""
    },
    "tags": []
   },
   "outputs": [],
   "source": [
    "n_channels = len(REACTIONS)\n",
    "I = sp.Identity(n_channels)\n",
    "K = sp.MatrixSymbol(\"K\", n_channels, n_channels)\n",
    "P = sp.MatrixSymbol(\"P\", n_channels, 1)\n",
    "F = sp.MatrixSymbol(\"F\", n_channels, 1)\n",
    "rho = sp.MatrixSymbol(\"rho\", n_channels, n_channels)"
   ]
  },
  {
   "cell_type": "markdown",
   "metadata": {
    "editable": true,
    "slideshow": {
     "slide_type": ""
    },
    "tags": []
   },
   "source": [
    "\n",
    "\n",
    "### $K$ matrix "
   ]
  },
  {
   "cell_type": "code",
   "execution_count": 14,
   "metadata": {
    "editable": true,
    "slideshow": {
     "slide_type": ""
    },
    "tags": [
     "hide-input",
     "full-width"
    ]
   },
   "outputs": [
    {
     "data": {
      "text/latex": [
       "$\\displaystyle \\left[\\begin{matrix}\\frac{\\left(g_{N(Fakestar)^+,0}\\right)^{2}}{- m_{01}^{2} + \\left(m_{N(Fakestar)^+}\\right)^{2}} & \\frac{g_{N(Fakestar)^+,0} g_{N(Fakestar)^+,1}}{- m_{01}^{2} + \\left(m_{N(Fakestar)^+}\\right)^{2}}\\\\\\frac{g_{N(Fakestar)^+,0} g_{N(Fakestar)^+,1}}{- m_{01}^{2} + \\left(m_{N(Fakestar)^+}\\right)^{2}} & \\frac{\\left(g_{N(Fakestar)^+,1}\\right)^{2}}{- m_{01}^{2} + \\left(m_{N(Fakestar)^+}\\right)^{2}}\\end{matrix}\\right]$"
      ],
      "text/plain": [
       "Matrix([\n",
       "[                 g_{N(Fakestar)^+,0}**2/(-m_01**2 + m_{N(Fakestar)^+}**2), g_{N(Fakestar)^+,0}*g_{N(Fakestar)^+,1}/(-m_01**2 + m_{N(Fakestar)^+}**2)],\n",
       "[g_{N(Fakestar)^+,0}*g_{N(Fakestar)^+,1}/(-m_01**2 + m_{N(Fakestar)^+}**2),                  g_{N(Fakestar)^+,1}**2/(-m_01**2 + m_{N(Fakestar)^+}**2)]])"
      ]
     },
     "execution_count": 14,
     "metadata": {},
     "output_type": "execute_result"
    }
   ],
   "source": [
    "def formulate_k_matrix(\n",
    "    resonances: list[tuple[Particle, int]], n_channels: int\n",
    ") -> dict[MatrixElement, sp.Expr]:\n",
    "    Kmatrix_expressions = {}\n",
    "    for i in range(n_channels):\n",
    "        for j in range(n_channels):\n",
    "            resonance_contributions = []\n",
    "            for res, _ in resonances:\n",
    "                s = sp.Symbol(\"m_01\", real=True) ** 2\n",
    "                m_a_i = sp.Symbol(Rf\"m_{{0,{i}}}\")\n",
    "                m_b_i = sp.Symbol(Rf\"m_{{1,{i}}}\")\n",
    "                m_a_j = sp.Symbol(Rf\"m_{{0,{j}}}\")\n",
    "                m_b_j = sp.Symbol(Rf\"m_{{1,{j}}}\")\n",
    "                g_Ri = sp.Symbol(Rf\"g_{{{res.latex},{i}}}\")\n",
    "                g_Rj = sp.Symbol(Rf\"g_{{{res.latex},{j}}}\")\n",
    "                m_R = sp.Symbol(Rf\"m_{{{res.latex}}}\")\n",
    "                parameter_defaults = {\n",
    "                    m_a_i: DECAYS[i].child1.mass,\n",
    "                    m_b_i: DECAYS[i].child2.mass,\n",
    "                    m_a_j: DECAYS[j].child1.mass,\n",
    "                    m_b_j: DECAYS[j].child2.mass,\n",
    "                    m_R: res.mass,\n",
    "                    g_Ri: 1,\n",
    "                    g_Rj: 0.1,\n",
    "                }\n",
    "                PARAMETERS_DEFAULTS.update(parameter_defaults)\n",
    "                expr = (g_Ri * g_Rj) / (m_R**2 - s)\n",
    "                resonance_contributions.append(expr)\n",
    "            Kmatrix_expressions[K[i, j]] = sum(resonance_contributions)\n",
    "\n",
    "    return Kmatrix_expressions\n",
    "\n",
    "\n",
    "K_expressions = formulate_k_matrix(resonances, n_channels=len(REACTIONS))\n",
    "Math(aslatex(K_expressions))\n",
    "K_matrix = K.as_explicit()\n",
    "K.as_explicit().xreplace(K_expressions)"
   ]
  },
  {
   "cell_type": "markdown",
   "metadata": {},
   "source": [
    "### $P$ vector"
   ]
  },
  {
   "cell_type": "code",
   "execution_count": 15,
   "metadata": {
    "editable": true,
    "slideshow": {
     "slide_type": ""
    },
    "tags": [
     "hide-input"
    ]
   },
   "outputs": [
    {
     "data": {
      "text/latex": [
       "$\\displaystyle \\left[\\begin{matrix}\\frac{\\beta_{N(Fakestar)^+} g_{N(Fakestar)^+,0}}{- m_{01}^{2} + \\left(m_{N(Fakestar)^+}\\right)^{2}}\\\\\\frac{\\beta_{N(Fakestar)^+} g_{N(Fakestar)^+,1}}{- m_{01}^{2} + \\left(m_{N(Fakestar)^+}\\right)^{2}}\\end{matrix}\\right]$"
      ],
      "text/plain": [
       "Matrix([\n",
       "[\\beta_{N(Fakestar)^+}*g_{N(Fakestar)^+,0}/(-m_01**2 + m_{N(Fakestar)^+}**2)],\n",
       "[\\beta_{N(Fakestar)^+}*g_{N(Fakestar)^+,1}/(-m_01**2 + m_{N(Fakestar)^+}**2)]])"
      ]
     },
     "execution_count": 15,
     "metadata": {},
     "output_type": "execute_result"
    }
   ],
   "source": [
    "def formulate_p_vector(\n",
    "    resonances: list[tuple[Particle, int]], n_channels: int\n",
    ") -> dict[MatrixElement, sp.Expr]:\n",
    "    P_expressions = {}\n",
    "    for i in range(n_channels):\n",
    "        resonance_contributions = []\n",
    "        for res, _ in resonances:\n",
    "            s = sp.Symbol(\"m_01\", real=True) ** 2\n",
    "            m_a = sp.Symbol(Rf\"m_{{0,{i}}}\")\n",
    "            m_b = sp.Symbol(Rf\"m_{{1,{i}}}\")\n",
    "            g_Ri = sp.Symbol(Rf\"g_{{{res.latex},{i}}}\")\n",
    "            beta_R = sp.Symbol(Rf\"\\beta_{{{res.latex}}}\")\n",
    "            m_R = sp.Symbol(Rf\"m_{{{res.latex}}}\")\n",
    "\n",
    "            parameter_defaults = {\n",
    "                m_a: DECAYS[i].child1.mass,\n",
    "                m_b: DECAYS[i].child2.mass,\n",
    "                m_R: res.mass,\n",
    "                beta_R: 1 + 0j,\n",
    "                g_Ri: 1,\n",
    "            }\n",
    "            PARAMETERS_DEFAULTS.update(parameter_defaults)\n",
    "            expr = (beta_R * g_Ri) / (m_R**2 - s)\n",
    "            resonance_contributions.append(expr)\n",
    "        P_expressions[P[i, 0]] = sum(resonance_contributions)\n",
    "\n",
    "    return P_expressions\n",
    "\n",
    "\n",
    "P_expressions = formulate_p_vector(resonances, n_channels=len(REACTIONS))\n",
    "Math(aslatex(P_expressions))\n",
    "P_vector = P.as_explicit()\n",
    "P.as_explicit().xreplace(P_expressions)"
   ]
  },
  {
   "cell_type": "markdown",
   "metadata": {},
   "source": [
    "### Phase space"
   ]
  },
  {
   "cell_type": "code",
   "execution_count": 16,
   "metadata": {
    "editable": true,
    "slideshow": {
     "slide_type": ""
    },
    "tags": [
     "hide-input"
    ]
   },
   "outputs": [
    {
     "data": {
      "text/latex": [
       "$\\displaystyle \\left[\\begin{matrix}\\rho^\\mathrm{CM}_{m_{0,0},m_{1,0}}\\left(m_{01}^{2}\\right) & 0\\\\0 & \\rho^\\mathrm{CM}_{m_{0,1},m_{1,1}}\\left(m_{01}^{2}\\right)\\end{matrix}\\right]$"
      ],
      "text/plain": [
       "Matrix([\n",
       "[PhaseSpaceCM(m_01**2, m_{0,0}, m_{1,0}),                                       0],\n",
       "[                                      0, PhaseSpaceCM(m_01**2, m_{0,1}, m_{1,1})]])"
      ]
     },
     "execution_count": 16,
     "metadata": {},
     "output_type": "execute_result"
    }
   ],
   "source": [
    "def formulate_phsp_factor_matrix(n_channels: int) -> dict[sp.MatrixElement, sp.Expr]:\n",
    "    matrix_expressions = {}\n",
    "\n",
    "    for i in range(n_channels):\n",
    "        for j in range(n_channels):\n",
    "            if i == j:\n",
    "                m_a_i = sp.Symbol(Rf\"m_{{0,{i}}}\")\n",
    "                m_b_i = sp.Symbol(Rf\"m_{{1,{i}}}\")\n",
    "                s = sp.Symbol(\"m_01\", real=True) ** 2\n",
    "                rho_i = PhaseSpaceCM(s, m_a_i, m_b_i)\n",
    "                matrix_expressions[rho[i, j]] = rho_i\n",
    "                parameter_defaults = {\n",
    "                    m_a_i: DECAYS[i].child1.mass,\n",
    "                    m_b_i: DECAYS[i].child2.mass,\n",
    "                }\n",
    "                PARAMETERS_DEFAULTS.update(parameter_defaults)\n",
    "            else:\n",
    "                matrix_expressions[rho[i, j]] = 0\n",
    "\n",
    "    return matrix_expressions\n",
    "\n",
    "\n",
    "rho_expressions = formulate_phsp_factor_matrix(n_channels=len(REACTIONS))\n",
    "rho.as_explicit().xreplace(rho_expressions)"
   ]
  },
  {
   "cell_type": "markdown",
   "metadata": {
    "editable": true,
    "slideshow": {
     "slide_type": ""
    },
    "tags": []
   },
   "source": [
    "### $F$ vector"
   ]
  },
  {
   "cell_type": "markdown",
   "metadata": {},
   "source": [
    ":::{note}\n",
    "For some reason one has to leave out the multiplication of $\\rho$ by $i$ within the calculation of the $F$ vector\n",
    ":::"
   ]
  },
  {
   "cell_type": "code",
   "execution_count": 17,
   "metadata": {
    "editable": true,
    "slideshow": {
     "slide_type": ""
    },
    "tags": []
   },
   "outputs": [
    {
     "data": {
      "text/latex": [
       "$\\displaystyle \\left(\\mathbb{I} + - i K \\rho\\right)^{-1} P$"
      ],
      "text/plain": [
       "(I - I*K*rho)**(-1)*P"
      ]
     },
     "execution_count": 17,
     "metadata": {},
     "output_type": "execute_result"
    }
   ],
   "source": [
    "F = (I -sp.I* K * rho).inv() * P\n",
    "F"
   ]
  },
  {
   "cell_type": "code",
   "execution_count": 18,
   "metadata": {
    "editable": true,
    "slideshow": {
     "slide_type": ""
    },
    "tags": [
     "full-width"
    ]
   },
   "outputs": [],
   "source": [
    "F_vector = F.as_explicit()"
   ]
  },
  {
   "cell_type": "code",
   "execution_count": 19,
   "metadata": {
    "editable": true,
    "slideshow": {
     "slide_type": ""
    },
    "tags": [
     "full-width"
    ]
   },
   "outputs": [],
   "source": [
    "combined_expressions = {**K_expressions, **rho_expressions, **P_expressions}\n",
    "F_expressions = np.array([\n",
    "    perform_cached_doit(F_vector[i].xreplace(combined_expressions))\n",
    "    for i in range(n_channels)\n",
    "])"
   ]
  },
  {
   "cell_type": "markdown",
   "metadata": {
    "editable": true,
    "slideshow": {
     "slide_type": ""
    },
    "tags": []
   },
   "source": [
    "### Model $F$ vector"
   ]
  },
  {
   "cell_type": "code",
   "execution_count": 20,
   "metadata": {
    "editable": true,
    "slideshow": {
     "slide_type": ""
    },
    "tags": []
   },
   "outputs": [],
   "source": [
    "DYNAMICS_EXPRESSIONS_FVECTOR = []\n",
    "for i in range(n_channels):\n",
    "    exprs = {\n",
    "        symbol: F_expressions[i] for symbol, resonances in COLLECTED_X_SYMBOLS.items()\n",
    "    }\n",
    "    DYNAMICS_EXPRESSIONS_FVECTOR.append(exprs)\n",
    "\n",
    "MODELS_FVECTOR = []\n",
    "for i in range(n_channels):\n",
    "    MODELS_FVECTOR.append(\n",
    "        attrs.evolve(\n",
    "            MODELS[i],\n",
    "            parameter_defaults=ParameterValues({\n",
    "                **MODELS[i].parameter_defaults,\n",
    "                **PARAMETERS_DEFAULTS,\n",
    "            }),\n",
    "        )\n",
    "    )"
   ]
  },
  {
   "cell_type": "code",
   "execution_count": 21,
   "metadata": {
    "editable": true,
    "slideshow": {
     "slide_type": ""
    },
    "tags": []
   },
   "outputs": [],
   "source": [
    "FULL_EXPRESSIONS_FVECTOR = []\n",
    "for i in range(n_channels):\n",
    "    FULL_EXPRESSIONS_FVECTOR.append(\n",
    "        perform_cached_doit(MODELS_FVECTOR[i].expression).xreplace(\n",
    "            DYNAMICS_EXPRESSIONS_FVECTOR[i]\n",
    "        )\n",
    "    )"
   ]
  },
  {
   "cell_type": "markdown",
   "metadata": {},
   "source": [
    "### Create Parametrized Function\n"
   ]
  },
  {
   "cell_type": "code",
   "execution_count": 22,
   "metadata": {
    "editable": true,
    "slideshow": {
     "slide_type": ""
    },
    "tags": []
   },
   "outputs": [],
   "source": [
    "UNFOLDED_EXPRESSIONS_FVECTOR = []\n",
    "INTENSITY_FUNCS_FVECTOR = []\n",
    "for i in range(n_channels):\n",
    "    UNFOLDED_EXPRESSIONS_FVECTOR.append(FULL_EXPRESSIONS_FVECTOR[i].doit())\n",
    "    INTENSITY_FUNCS_FVECTOR.append(\n",
    "        create_parametrized_function(\n",
    "            expression=UNFOLDED_EXPRESSIONS_FVECTOR[i],\n",
    "            backend=\"jax\",\n",
    "            parameters=MODELS_FVECTOR[i].parameter_defaults,\n",
    "        )\n",
    "    )"
   ]
  },
  {
   "cell_type": "markdown",
   "metadata": {},
   "source": [
    "## Update parameters"
   ]
  },
  {
   "cell_type": "code",
   "execution_count": 23,
   "metadata": {},
   "outputs": [],
   "source": [
    "new_parameters_fvector = {\n",
    "    R\"m_{N(Fakestar)^+}\": 1.71,\n",
    "    R\"\\beta_{N(Fakestar)^+}\": 1 + 0j,\n",
    "    R\"g_{N(Fakestar)^+,0}\": 0.8,\n",
    "    R\"g_{N(Fakestar)^+,1}\": 0.9,\n",
    "}"
   ]
  },
  {
   "cell_type": "code",
   "execution_count": 24,
   "metadata": {
    "editable": true,
    "slideshow": {
     "slide_type": ""
    },
    "tags": []
   },
   "outputs": [],
   "source": [
    "for i in range(n_channels):\n",
    "    INTENSITY_FUNCS_FVECTOR[i].update_parameters(new_parameters_fvector)\n"
   ]
  },
  {
   "cell_type": "markdown",
   "metadata": {},
   "source": [
    "##  Generate data with $F$ vector"
   ]
  },
  {
   "cell_type": "markdown",
   "metadata": {},
   "source": [
    "### Generate phase space sample"
   ]
  },
  {
   "cell_type": "code",
   "execution_count": 25,
   "metadata": {
    "tags": []
   },
   "outputs": [],
   "source": [
    "HELICITY_TRANSFORMERS = []\n",
    "for i in range(n_channels):\n",
    "    HELICITY_TRANSFORMERS.append(\n",
    "        SympyDataTransformer.from_sympy(\n",
    "            MODELS_FVECTOR[i].kinematic_variables, backend=\"numpy\"\n",
    "        )\n",
    "    )"
   ]
  },
  {
   "cell_type": "code",
   "execution_count": 26,
   "metadata": {},
   "outputs": [
    {
     "data": {
      "text/plain": [
       "<re.Match object; span=(0, 4), match='m_01'>"
      ]
     },
     "execution_count": 26,
     "metadata": {},
     "output_type": "execute_result"
    }
   ],
   "source": [
    "import re \n",
    "re.match(r\"^m_\\d\\d$\",\"m_01\")"
   ]
  },
  {
   "cell_type": "code",
   "execution_count": 27,
   "metadata": {
    "editable": true,
    "slideshow": {
     "slide_type": ""
    },
    "tags": []
   },
   "outputs": [
    {
     "name": "stderr",
     "output_type": "stream",
     "text": [
      "2024-05-18 22:07:37.952367: E external/local_xla/xla/stream_executor/cuda/cuda_dnn.cc:9261] Unable to register cuDNN factory: Attempting to register factory for plugin cuDNN when one has already been registered\n",
      "2024-05-18 22:07:37.952389: E external/local_xla/xla/stream_executor/cuda/cuda_fft.cc:607] Unable to register cuFFT factory: Attempting to register factory for plugin cuFFT when one has already been registered\n",
      "2024-05-18 22:07:37.953198: E external/local_xla/xla/stream_executor/cuda/cuda_blas.cc:1515] Unable to register cuBLAS factory: Attempting to register factory for plugin cuBLAS when one has already been registered\n",
      "2024-05-18 22:07:38.561912: W tensorflow/compiler/tf2tensorrt/utils/py_utils.cc:38] TF-TRT Warning: Could not find TensorRT\n"
     ]
    },
    {
     "data": {
      "application/vnd.jupyter.widget-view+json": {
       "model_id": "b1a52872669e4e21a1a11a21ef4fe83f",
       "version_major": 2,
       "version_minor": 0
      },
      "text/plain": [
       "Generating phase space sample:   0%|          | 0/100000 [00:00<?, ?it/s]"
      ]
     },
     "metadata": {},
     "output_type": "display_data"
    },
    {
     "name": "stderr",
     "output_type": "stream",
     "text": [
      "WARNING: All log messages before absl::InitializeLog() is called are written to STDERR\n",
      "I0000 00:00:1716062859.296373  167002 device_compiler.h:186] Compiled cluster using XLA!  This line is logged at most once for the lifetime of the process.\n",
      "2024-05-18 22:07:39.296531: E external/local_xla/xla/stream_executor/stream_executor_internal.h:177] SetPriority unimplemented for this stream.\n",
      "2024-05-18 22:07:39.307076: E external/local_xla/xla/stream_executor/stream_executor_internal.h:177] SetPriority unimplemented for this stream.\n",
      "2024-05-18 22:07:39.310252: E external/local_xla/xla/stream_executor/stream_executor_internal.h:177] SetPriority unimplemented for this stream.\n",
      "2024-05-18 22:07:39.310349: E external/local_xla/xla/stream_executor/stream_executor_internal.h:177] SetPriority unimplemented for this stream.\n",
      "2024-05-18 22:07:39.310425: E external/local_xla/xla/stream_executor/stream_executor_internal.h:177] SetPriority unimplemented for this stream.\n",
      "2024-05-18 22:07:39.310560: E external/local_xla/xla/stream_executor/stream_executor_internal.h:177] SetPriority unimplemented for this stream.\n",
      "2024-05-18 22:07:39.312032: E external/local_xla/xla/stream_executor/stream_executor_internal.h:177] SetPriority unimplemented for this stream.\n",
      "2024-05-18 22:07:39.397863: E external/local_xla/xla/stream_executor/stream_executor_internal.h:177] SetPriority unimplemented for this stream.\n"
     ]
    },
    {
     "data": {
      "application/vnd.jupyter.widget-view+json": {
       "model_id": "050cc245abfe4575b77ab92bd37566cf",
       "version_major": 2,
       "version_minor": 0
      },
      "text/plain": [
       "Generating phase space sample:   0%|          | 0/100000 [00:00<?, ?it/s]"
      ]
     },
     "metadata": {},
     "output_type": "display_data"
    }
   ],
   "source": [
    "import re \n",
    "\n",
    "PHSP = []\n",
    "epsilon=1e-8\n",
    "for i in range(n_channels):\n",
    "    rng = TFUniformRealNumberGenerator(seed=0)\n",
    "    phsp_generator = TFPhaseSpaceGenerator(\n",
    "        initial_state_mass=REACTIONS[i].initial_state[-1].mass,\n",
    "        final_state_masses={it: p.mass for it, p in REACTIONS[i].final_state.items()},\n",
    "    )\n",
    "    phsp_momenta = phsp_generator.generate(100_000, rng)\n",
    "    phsp = HELICITY_TRANSFORMERS[i](phsp_momenta)\n",
    "    phsp = {k: v.real for k, v in phsp.items()}\n",
    "    phsp = {k: v +epsilon*1j if re.match(r\"^m_\\d\\d$\",k) else v for k, v in phsp.items()}\n",
    "    PHSP.append(phsp)"
   ]
  },
  {
   "cell_type": "code",
   "execution_count": 28,
   "metadata": {},
   "outputs": [
    {
     "data": {
      "text/plain": [
       "{'m_01': array([1.81857778+1.e-08j, 1.80863875+1.e-08j, 1.86758228+1.e-08j, ...,\n",
       "        1.7217908 +1.e-08j, 1.88162305+1.e-08j, 1.95955089+1.e-08j]),\n",
       " 'm_02': array([1.70745362+1.e-08j, 1.77483717+1.e-08j, 1.56984082+1.e-08j, ...,\n",
       "        2.13907063+1.e-08j, 1.99774363+1.e-08j, 2.0295025 +1.e-08j]),\n",
       " 'm_12': array([2.33002756+1.e-08j, 2.2870134 +1.e-08j, 2.38733903+1.e-08j, ...,\n",
       "        2.0276747 +1.e-08j, 2.02981933+1.e-08j, 1.92170012+1.e-08j]),\n",
       " 'phi_0': array([ 1.97016286, -2.8765596 ,  0.75357421, ...,  0.19730572,\n",
       "        -0.45861856,  1.57182959]),\n",
       " 'phi_0^01': array([-1.97869891,  2.40627766, -2.02701505, ...,  1.42458459,\n",
       "         0.78477173,  2.00132783]),\n",
       " 'phi_0^02': array([ 0.98414884, -1.41787483,  1.80055274, ..., -2.62005351,\n",
       "        -1.37701865, -1.58606652]),\n",
       " 'phi_01': array([-0.00476082, -0.46629838, -0.49331781, ...,  2.95178512,\n",
       "         2.14918814, -1.97763388]),\n",
       " 'phi_1^12': array([-0.5234414 ,  0.53541189, -1.32700284, ...,  2.04917998,\n",
       "         2.17445382,  1.30218432]),\n",
       " 'phi_02': array([-1.98053067,  1.48563902,  3.08718583, ..., -1.7995076 ,\n",
       "        -2.40408988, -0.99517043]),\n",
       " 'theta_0': array([1.69320513, 1.8732383 , 2.16807283, ..., 2.56300869, 1.02101855,\n",
       "        2.0423608 ]),\n",
       " 'theta_0^01': array([2.00195379, 1.79913544, 2.46359496, ..., 0.38143291, 0.96066346,\n",
       "        0.54722468]),\n",
       " 'theta_0^02': array([1.73936386, 1.72081689, 1.66448996, ..., 1.63126795, 1.19669709,\n",
       "        0.64090765]),\n",
       " 'theta_01': array([2.57060174, 2.32905607, 2.03576298, ..., 0.5128774 , 1.68637297,\n",
       "        1.23809802]),\n",
       " 'theta_1^12': array([1.34061414, 1.5044162 , 0.83272194, ..., 2.71169603, 1.82674819,\n",
       "        1.82311053]),\n",
       " 'theta_02': array([0.63817236, 0.51529239, 0.96856613, ..., 1.79764582, 2.3444856 ,\n",
       "        1.03333824])}"
      ]
     },
     "execution_count": 28,
     "metadata": {},
     "output_type": "execute_result"
    }
   ],
   "source": [
    "PHSP[1]"
   ]
  },
  {
   "cell_type": "code",
   "execution_count": 29,
   "metadata": {},
   "outputs": [
    {
     "data": {
      "text/plain": [
       "Array([2.16037131, 2.08880308, 2.24225383, ..., 1.26061111, 2.18267822,\n",
       "       5.4539842 ], dtype=float64)"
      ]
     },
     "execution_count": 29,
     "metadata": {},
     "output_type": "execute_result"
    }
   ],
   "source": [
    "INTENSITY_FUNCS_FVECTOR[0](PHSP[0])"
   ]
  },
  {
   "cell_type": "code",
   "execution_count": 30,
   "metadata": {},
   "outputs": [
    {
     "data": {
      "text/plain": [
       "{'C_{J/\\\\psi(1S) \\\\to N(Fakestar)^+_{+3/2} \\\\overline{p}_{+1/2}; N(Fakestar)^+ \\\\to K^{0}_{0} \\\\Sigma^{+}_{+1/2}}': (1+0j),\n",
       " 'C_{J/\\\\psi(1S) \\\\to N(Fakestar)^+_{+1/2} \\\\overline{p}_{+1/2}; N(Fakestar)^+ \\\\to K^{0}_{0} \\\\Sigma^{+}_{+1/2}}': (1+0j),\n",
       " 'C_{J/\\\\psi(1S) \\\\to N(Fakestar)^+_{+1/2} \\\\overline{p}_{-1/2}; N(Fakestar)^+ \\\\to K^{0}_{0} \\\\Sigma^{+}_{+1/2}}': (1+0j),\n",
       " 'm_0': 0.547862,\n",
       " 'm_1': 0.93827208816,\n",
       " 'm_2': 0.93827208816,\n",
       " 'm_012': 3.0969,\n",
       " 'C_{J/\\\\psi(1S) \\\\to N(Fakestar)^+_{+3/2} \\\\overline{p}_{+1/2}; N(Fakestar)^+ \\\\to \\\\eta_{0} p_{+1/2}}': (1+0j),\n",
       " 'C_{J/\\\\psi(1S) \\\\to N(Fakestar)^+_{+1/2} \\\\overline{p}_{+1/2}; N(Fakestar)^+ \\\\to \\\\eta_{0} p_{+1/2}}': (1+0j),\n",
       " 'C_{J/\\\\psi(1S) \\\\to N(Fakestar)^+_{+1/2} \\\\overline{p}_{-1/2}; N(Fakestar)^+ \\\\to \\\\eta_{0} p_{+1/2}}': (1+0j),\n",
       " 'm_{0,0}': 0.49761099999999997,\n",
       " 'm_{1,0}': 1.1893699999999998,\n",
       " 'm_{N(Fakestar)^+}': 1.71,\n",
       " 'g_{N(Fakestar)^+,0}': 0.8,\n",
       " 'm_{0,1}': 0.547862,\n",
       " 'm_{1,1}': 0.93827208816,\n",
       " 'g_{N(Fakestar)^+,1}': 0.9,\n",
       " '\\\\beta_{N(Fakestar)^+}': (1+0j)}"
      ]
     },
     "execution_count": 30,
     "metadata": {},
     "output_type": "execute_result"
    }
   ],
   "source": [
    "INTENSITY_FUNCS_FVECTOR[0].parameters"
   ]
  },
  {
   "cell_type": "markdown",
   "metadata": {},
   "source": [
    "### Dynamics expressions"
   ]
  },
  {
   "cell_type": "code",
   "execution_count": 31,
   "metadata": {},
   "outputs": [],
   "source": [
    "DYNAMICS_EXPR_FVECTOR = []\n",
    "for i in range(n_channels):\n",
    "    values, *_ = DYNAMICS_EXPRESSIONS_FVECTOR[i].values()\n",
    "    DYNAMICS_EXPR_FVECTOR.append(values)"
   ]
  },
  {
   "cell_type": "code",
   "execution_count": 32,
   "metadata": {
    "editable": true,
    "slideshow": {
     "slide_type": ""
    },
    "tags": []
   },
   "outputs": [],
   "source": [
    "DYNAMICS_FUNCS_FVECTOR = []\n",
    "for i in range(n_channels):\n",
    "    func = create_parametrized_function(\n",
    "        expression=DYNAMICS_EXPR_FVECTOR[i].doit(),\n",
    "        backend=\"numpy\",\n",
    "        parameters=MODELS_FVECTOR[i].parameter_defaults,\n",
    "        use_cse=False,\n",
    "    )\n",
    "    DYNAMICS_FUNCS_FVECTOR.append(func)"
   ]
  },
  {
   "cell_type": "markdown",
   "metadata": {
    "editable": true,
    "slideshow": {
     "slide_type": ""
    },
    "tags": []
   },
   "source": [
    "### Weighted data with $F$ vector "
   ]
  },
  {
   "cell_type": "code",
   "execution_count": 33,
   "metadata": {
    "editable": true,
    "slideshow": {
     "slide_type": ""
    },
    "tags": [
     "hide-input"
    ]
   },
   "outputs": [
    {
     "data": {
      "image/png": "[encoded data removed]",
      "text/plain": [
       "<Figure size 600x500 with 1 Axes>"
      ]
     },
     "metadata": {},
     "output_type": "display_data"
    },
    {
     "data": {
      "image/png": "[encoded data removed]",
      "text/plain": [
       "<Figure size 600x500 with 1 Axes>"
      ]
     },
     "metadata": {},
     "output_type": "display_data"
    }
   ],
   "source": [
    "for i in range(n_channels):\n",
    "    fig, ax = plt.subplots(figsize=(6, 5))\n",
    "    intensity = np.real(INTENSITY_FUNCS_FVECTOR[i](PHSP[i]))\n",
    "    c = ax.hist(\n",
    "        np.real(PHSP[i][\"m_01\"]) ** 2,\n",
    "        bins=100,\n",
    "        weights=intensity,\n",
    "    )\n",
    "    ax.set_xlabel(R\"$M^2\\left(\\eta p\\right)\\, \\mathrm{[(GeV/c)^2]}$\")\n",
    "    ax.set_ylabel(R\"Intensity [a.u.]\")\n",
    "    fig.tight_layout()\n",
    "    plt.show()"
   ]
  },
  {
   "cell_type": "code",
   "execution_count": 34,
   "metadata": {
    "editable": true,
    "slideshow": {
     "slide_type": ""
    },
    "tags": []
   },
   "outputs": [
    {
     "data": {
      "application/vnd.jupyter.widget-view+json": {
       "model_id": "339f1c4dc3444581b81c002bd8e0adec",
       "version_major": 2,
       "version_minor": 0
      },
      "text/plain": [
       "Generating intensity-based sample:   0%|          | 0/50000 [00:00<?, ?it/s]"
      ]
     },
     "metadata": {},
     "output_type": "display_data"
    },
    {
     "name": "stderr",
     "output_type": "stream",
     "text": [
      "2024-05-18 22:07:46.110602: E external/local_xla/xla/stream_executor/stream_executor_internal.h:177] SetPriority unimplemented for this stream.\n"
     ]
    },
    {
     "data": {
      "application/vnd.jupyter.widget-view+json": {
       "model_id": "26ae031eac0a4296a1d43988713e3757",
       "version_major": 2,
       "version_minor": 0
      },
      "text/plain": [
       "Generating intensity-based sample:   0%|          | 0/50000 [00:00<?, ?it/s]"
      ]
     },
     "metadata": {},
     "output_type": "display_data"
    }
   ],
   "source": [
    "DATA = []\n",
    "for i in range(n_channels):\n",
    "    weighted_phsp_generator = TFWeightedPhaseSpaceGenerator(\n",
    "        initial_state_mass=MODELS[i].reaction_info.initial_state[-1].mass,\n",
    "        final_state_masses={\n",
    "            i: p.mass for i, p in MODELS[i].reaction_info.final_state.items()\n",
    "        },\n",
    "    )\n",
    "    data_generator = IntensityDistributionGenerator(\n",
    "        domain_generator=weighted_phsp_generator,\n",
    "        function=INTENSITY_FUNCS_FVECTOR[i],\n",
    "        domain_transformer=HELICITY_TRANSFORMERS[i],\n",
    "    )\n",
    "    data_momenta = data_generator.generate(50_000, rng)\n",
    "    pd.DataFrame({\n",
    "        (k, label): np.transpose(v)[i]\n",
    "        for k, v in data_momenta.items()\n",
    "        for i, label in enumerate([\"E\", \"px\", \"py\", \"pz\"])\n",
    "    })\n",
    "    phsp = HELICITY_TRANSFORMERS[i](phsp_momenta)\n",
    "    data = HELICITY_TRANSFORMERS[i](data_momenta)\n",
    "    DATA.append(data)"
   ]
  },
  {
   "cell_type": "code",
   "execution_count": 35,
   "metadata": {
    "editable": true,
    "slideshow": {
     "slide_type": ""
    },
    "tags": [
     "hide-input"
    ]
   },
   "outputs": [
    {
     "data": {
      "image/png": "[encoded data removed]",
      "text/plain": [
       "<Figure size 900x400 with 1 Axes>"
      ]
     },
     "metadata": {},
     "output_type": "display_data"
    },
    {
     "data": {
      "image/png": "[encoded data removed]",
      "text/plain": [
       "<Figure size 900x400 with 1 Axes>"
      ]
     },
     "metadata": {},
     "output_type": "display_data"
    }
   ],
   "source": [
    "for i in range(n_channels):\n",
    "    resonances = sorted(\n",
    "        MODELS[i].reaction_info.get_intermediate_particles(),\n",
    "        key=lambda p: p.mass,\n",
    "    )\n",
    "    evenly_spaced_interval = np.linspace(\n",
    "        0, 1, len(INTENSITY_FUNCS_FVECTOR[i].parameters.items())\n",
    "    )\n",
    "    colors = [cm.rainbow(x) for x in evenly_spaced_interval]\n",
    "    fig, ax = plt.subplots(figsize=(9, 4))\n",
    "    ax.hist(\n",
    "        np.real(DATA[i][\"m_01\"]),\n",
    "        bins=200,\n",
    "        alpha=0.5,\n",
    "        density=True,\n",
    "    )\n",
    "    ax.set_xlabel(\"$m$ [GeV]\")\n",
    "    for (k, v), color in zip(new_parameters_fvector.items(), colors):\n",
    "        if k.startswith(\"m_{\"):\n",
    "            ax.axvline(\n",
    "                x=v,\n",
    "                linestyle=\"dotted\",\n",
    "                label=r\"$\" + k + \"$\",\n",
    "                color=color,\n",
    "            )\n",
    "    ax.legend()\n",
    "    plt.show()"
   ]
  },
  {
   "cell_type": "markdown",
   "metadata": {
    "editable": true,
    "slideshow": {
     "slide_type": ""
    },
    "tags": []
   },
   "source": [
    "## Perform fit"
   ]
  },
  {
   "cell_type": "markdown",
   "metadata": {
    "editable": true,
    "slideshow": {
     "slide_type": ""
    },
    "tags": []
   },
   "source": [
    "### Set initial parameters "
   ]
  },
  {
   "cell_type": "code",
   "execution_count": 36,
   "metadata": {},
   "outputs": [
    {
     "data": {
      "text/plain": [
       "{'C_{J/\\\\psi(1S) \\\\to N(Fakestar)^+_{+3/2} \\\\overline{p}_{+1/2}; N(Fakestar)^+ \\\\to K^{0}_{0} \\\\Sigma^{+}_{+1/2}}': (1+0j),\n",
       " 'C_{J/\\\\psi(1S) \\\\to N(Fakestar)^+_{+1/2} \\\\overline{p}_{+1/2}; N(Fakestar)^+ \\\\to K^{0}_{0} \\\\Sigma^{+}_{+1/2}}': (1+0j),\n",
       " 'C_{J/\\\\psi(1S) \\\\to N(Fakestar)^+_{+1/2} \\\\overline{p}_{-1/2}; N(Fakestar)^+ \\\\to K^{0}_{0} \\\\Sigma^{+}_{+1/2}}': (1+0j),\n",
       " 'm_0': 0.547862,\n",
       " 'm_1': 0.93827208816,\n",
       " 'm_2': 0.93827208816,\n",
       " 'm_012': 3.0969,\n",
       " 'C_{J/\\\\psi(1S) \\\\to N(Fakestar)^+_{+3/2} \\\\overline{p}_{+1/2}; N(Fakestar)^+ \\\\to \\\\eta_{0} p_{+1/2}}': (1+0j),\n",
       " 'C_{J/\\\\psi(1S) \\\\to N(Fakestar)^+_{+1/2} \\\\overline{p}_{+1/2}; N(Fakestar)^+ \\\\to \\\\eta_{0} p_{+1/2}}': (1+0j),\n",
       " 'C_{J/\\\\psi(1S) \\\\to N(Fakestar)^+_{+1/2} \\\\overline{p}_{-1/2}; N(Fakestar)^+ \\\\to \\\\eta_{0} p_{+1/2}}': (1+0j),\n",
       " 'm_{0,0}': 0.49761099999999997,\n",
       " 'm_{1,0}': 1.1893699999999998,\n",
       " 'm_{N(Fakestar)^+}': 1.71,\n",
       " 'g_{N(Fakestar)^+,0}': 0.8,\n",
       " 'm_{0,1}': 0.547862,\n",
       " 'm_{1,1}': 0.93827208816,\n",
       " 'g_{N(Fakestar)^+,1}': 0.9,\n",
       " '\\\\beta_{N(Fakestar)^+}': (1+0j)}"
      ]
     },
     "execution_count": 36,
     "metadata": {},
     "output_type": "execute_result"
    }
   ],
   "source": [
    "initial_parameters = {\n",
    "    R\"m_{N(Fakestar)^+}\": 1.9,\n",
    "    R\"\\beta_{N(Fakestar)^+}\": 1 + 0j,\n",
    "    R\"g_{N(Fakestar)^+,0}\": 0.8,\n",
    "    R\"g_{N(Fakestar)^+,1}\": 0.6,\n",
    "}\n",
    "INTENSITY_FUNCS_FVECTOR[0].parameters\n"
   ]
  },
  {
   "cell_type": "code",
   "execution_count": 37,
   "metadata": {
    "editable": true,
    "slideshow": {
     "slide_type": ""
    },
    "tags": [
     "hide-cell"
    ]
   },
   "outputs": [],
   "source": [
    "def indicate_masses(ax, function):\n",
    "    ax.set_xlabel(\"$m$ [GeV]\")\n",
    "    for (k, v), color_F in zip(function.parameters.items(), colors_F):\n",
    "        if k.startswith(\"m_{N\"):\n",
    "            ax.axvline(\n",
    "                x=v,\n",
    "                linestyle=\"dotted\",\n",
    "                label=r\"$\" + k + \"$\" \"(F vector)\",\n",
    "                color=color_F,\n",
    "            )\n",
    "\n",
    "\n",
    "def compare_model(\n",
    "    variable_name: str,\n",
    "    data: DataSample,\n",
    "    phsp: DataSample,\n",
    "    function: Function[DataSample, np.ndarray],\n",
    "    bins: int = 100,\n",
    "):\n",
    "    fig, ax = plt.subplots(figsize=(9, 4))\n",
    "    ax.hist(\n",
    "        data[variable_name].real,\n",
    "        bins=bins,\n",
    "        alpha=0.5,\n",
    "        label=\"data\",\n",
    "        density=True,\n",
    "    )\n",
    "    intensities = function(phsp)\n",
    "    ax.hist(\n",
    "        phsp[variable_name].real,\n",
    "        weights=intensities,\n",
    "        bins=bins,\n",
    "        histtype=\"step\",\n",
    "        color=\"red\",\n",
    "        label=\"Fit model with $F$ vector\",\n",
    "        density=True,\n",
    "    )\n",
    "    indicate_masses(ax, function)\n",
    "    ax.axvline(DECAYS[0].child1.mass+DECAYS[0].child2.mass, color='grey', linestyle='dotted', label=rf'${DECAYS[0].child1.latex} \\, {DECAYS[0].child2.latex}$ threshhold')\n",
    "    ax.axvline(DECAYS[1].child1.mass+DECAYS[1].child2.mass, color='grey', linestyle='dotted', label=rf'${DECAYS[1].child1.latex} \\, {DECAYS[1].child2.latex}$ threshhold')\n",
    "    ax.legend()\n",
    "    fig.show()"
   ]
  },
  {
   "cell_type": "code",
   "execution_count": 38,
   "metadata": {
    "editable": true,
    "slideshow": {
     "slide_type": ""
    },
    "tags": [
     "hide-input"
    ]
   },
   "outputs": [
    {
     "data": {
      "image/png": "[encoded data removed]",
      "text/plain": [
       "<Figure size 900x400 with 1 Axes>"
      ]
     },
     "metadata": {},
     "output_type": "display_data"
    },
    {
     "data": {
      "image/png": "[encoded data removed]",
      "text/plain": [
       "<Figure size 900x400 with 1 Axes>"
      ]
     },
     "metadata": {},
     "output_type": "display_data"
    }
   ],
   "source": [
    "ORIGINAL_PARAMETERS_F = []\n",
    "for i in range(n_channels):\n",
    "    resonances = sorted(\n",
    "        MODELS[i].reaction_info.get_intermediate_particles(),\n",
    "        key=lambda p: p.mass,\n",
    "    )\n",
    "    evenly_spaced_interval = np.linspace(\n",
    "        0, 1, len(INTENSITY_FUNCS_FVECTOR[i].parameters.items())\n",
    "    )\n",
    "    colors_F = [cm.rainbow(x) for x in evenly_spaced_interval]\n",
    "    original_parameters = INTENSITY_FUNCS_FVECTOR[i].parameters\n",
    "    ORIGINAL_PARAMETERS_F.append(original_parameters)\n",
    "    INTENSITY_FUNCS_FVECTOR[i].update_parameters(initial_parameters)\n",
    "    compare_model(\"m_01\", DATA[i], PHSP[i], INTENSITY_FUNCS_FVECTOR[i])"
   ]
  },
  {
   "cell_type": "markdown",
   "metadata": {
    "editable": true,
    "slideshow": {
     "slide_type": ""
    },
    "tags": []
   },
   "source": [
    "### Define estimator"
   ]
  },
  {
   "cell_type": "code",
   "execution_count": 39,
   "metadata": {
    "editable": true,
    "slideshow": {
     "slide_type": ""
    },
    "tags": []
   },
   "outputs": [],
   "source": [
    "ESTIMATORS_F = []\n",
    "for i in range(n_channels):\n",
    "    estimator_fvector = UnbinnedNLL(\n",
    "        INTENSITY_FUNCS_FVECTOR[i],\n",
    "        data=DATA[i],\n",
    "        phsp=PHSP[i],\n",
    "        backend=\"jax\",\n",
    "    )\n",
    "    ESTIMATORS_F.append(estimator_fvector)"
   ]
  },
  {
   "cell_type": "code",
   "execution_count": 40,
   "metadata": {
    "editable": true,
    "slideshow": {
     "slide_type": ""
    },
    "tags": [
     "hide-cell"
    ]
   },
   "outputs": [],
   "source": [
    "class EstimatorSum(Estimator):\n",
    "    def __init__(self, estimators: Iterable[Estimator]) -> None:\n",
    "        self.__estimators = tuple(estimators)\n",
    "\n",
    "    def __call__(self, parameters: Mapping[str, ParameterValue]) -> float:\n",
    "        return sum(estimator(parameters) for estimator in self.__estimators)\n",
    "\n",
    "    def gradient(\n",
    "        self, parameters: Mapping[str, ParameterValue]\n",
    "    ) -> dict[str, ParameterValue]:\n",
    "        raise NotImplementedError"
   ]
  },
  {
   "cell_type": "code",
   "execution_count": 41,
   "metadata": {
    "editable": true,
    "slideshow": {
     "slide_type": ""
    },
    "tags": []
   },
   "outputs": [],
   "source": [
    "combined_estimators = EstimatorSum(ESTIMATORS_F)"
   ]
  },
  {
   "cell_type": "markdown",
   "metadata": {
    "editable": true,
    "slideshow": {
     "slide_type": ""
    },
    "tags": []
   },
   "source": [
    "## Optimized fit"
   ]
  },
  {
   "cell_type": "code",
   "execution_count": 42,
   "metadata": {
    "editable": true,
    "slideshow": {
     "slide_type": ""
    },
    "tags": []
   },
   "outputs": [
    {
     "data": {
      "application/vnd.jupyter.widget-view+json": {
       "model_id": "a1cf71730e9844c8befd2d7ccf3282a4",
       "version_major": 2,
       "version_minor": 0
      },
      "text/plain": [
       "0it [00:00, ?it/s]"
      ]
     },
     "metadata": {},
     "output_type": "display_data"
    },
    {
     "data": {
      "text/plain": [
       "FitResult(\n",
       " minimum_valid=True,\n",
       " execution_time=3.351858377456665,\n",
       " function_calls=162,\n",
       " estimator_value=-18694.71978168161,\n",
       " parameter_values={\n",
       "  'm_{N(Fakestar)^+}': 1.7102099446837458,\n",
       "  'g_{N(Fakestar)^+,0}': 0.8145358423603044,\n",
       "  'g_{N(Fakestar)^+,1}': 0.8963220998212011,\n",
       "  '\\\\beta_{N(Fakestar)^+}': (-36.888094928163476-4.678879465472437j),\n",
       " },\n",
       " parameter_errors={\n",
       "  'm_{N(Fakestar)^+}': 0.000913074977897192,\n",
       "  'g_{N(Fakestar)^+,0}': 0.010543626222578407,\n",
       "  'g_{N(Fakestar)^+,1}': 0.0036131105694627934,\n",
       "  '\\\\beta_{N(Fakestar)^+}': (13106208.4666789+13641374.272541337j),\n",
       " },\n",
       ")"
      ]
     },
     "execution_count": 42,
     "metadata": {},
     "output_type": "execute_result"
    }
   ],
   "source": [
    "minuit2 = Minuit2(\n",
    "    callback=CSVSummary(\"fit_traceback.csv\"),\n",
    "    use_analytic_gradient=False,\n",
    ")\n",
    "fit_result = minuit2.optimize(combined_estimators, initial_parameters)\n",
    "fit_result"
   ]
  },
  {
   "cell_type": "code",
   "execution_count": 43,
   "metadata": {
    "editable": true,
    "slideshow": {
     "slide_type": ""
    },
    "tags": [
     "hide-input"
    ]
   },
   "outputs": [
    {
     "data": {
      "image/png": "[encoded data removed]",
      "text/plain": [
       "<Figure size 900x400 with 1 Axes>"
      ]
     },
     "metadata": {},
     "output_type": "display_data"
    },
    {
     "data": {
      "image/png": "[encoded data removed]",
      "text/plain": [
       "<Figure size 900x400 with 1 Axes>"
      ]
     },
     "metadata": {},
     "output_type": "display_data"
    }
   ],
   "source": [
    "for i in range(n_channels):\n",
    "    INTENSITY_FUNCS_FVECTOR[i].update_parameters(fit_result.parameter_values)\n",
    "    compare_model(\"m_01\", DATA[i], PHSP[i], INTENSITY_FUNCS_FVECTOR[i])"
   ]
  },
  {
   "cell_type": "code",
   "execution_count": 44,
   "metadata": {
    "editable": true,
    "slideshow": {
     "slide_type": ""
    },
    "tags": [
     "hide-input"
    ]
   },
   "outputs": [
    {
     "data": {
      "text/html": [
       "<div>\n",
       "<style scoped>\n",
       "    .dataframe tbody tr th:only-of-type {\n",
       "        vertical-align: middle;\n",
       "    }\n",
       "\n",
       "    .dataframe tbody tr th {\n",
       "        vertical-align: top;\n",
       "    }\n",
       "\n",
       "    .dataframe thead th {\n",
       "        text-align: right;\n",
       "    }\n",
       "</style>\n",
       "<table border=\"1\" class=\"dataframe\">\n",
       "  <thead>\n",
       "    <tr style=\"text-align: right;\">\n",
       "      <th></th>\n",
       "      <th>initial</th>\n",
       "      <th>fit result</th>\n",
       "      <th>original</th>\n",
       "    </tr>\n",
       "  </thead>\n",
       "  <tbody>\n",
       "    <tr>\n",
       "      <th>$m_{N(Fakestar)^+}$</th>\n",
       "      <td>1.9+0.0j</td>\n",
       "      <td>1.710+ 0.000j</td>\n",
       "      <td>1.71+0.00j</td>\n",
       "    </tr>\n",
       "    <tr>\n",
       "      <th>$g_{N(Fakestar)^+,0}$</th>\n",
       "      <td>0.8+0.0j</td>\n",
       "      <td>0.815+ 0.000j</td>\n",
       "      <td>0.80+0.00j</td>\n",
       "    </tr>\n",
       "    <tr>\n",
       "      <th>$g_{N(Fakestar)^+,1}$</th>\n",
       "      <td>0.6+0.0j</td>\n",
       "      <td>0.896+ 0.000j</td>\n",
       "      <td>0.90+0.00j</td>\n",
       "    </tr>\n",
       "    <tr>\n",
       "      <th>$\\beta_{N(Fakestar)^+}$</th>\n",
       "      <td>1.0+0.0j</td>\n",
       "      <td>-36.888- 4.679j</td>\n",
       "      <td>1.00+0.00j</td>\n",
       "    </tr>\n",
       "  </tbody>\n",
       "</table>\n",
       "</div>"
      ],
      "text/plain": [
       "                          initial      fit result    original\n",
       "$m_{N(Fakestar)^+}$      1.9+0.0j   1.710+ 0.000j  1.71+0.00j\n",
       "$g_{N(Fakestar)^+,0}$    0.8+0.0j   0.815+ 0.000j  0.80+0.00j\n",
       "$g_{N(Fakestar)^+,1}$    0.6+0.0j   0.896+ 0.000j  0.90+0.00j\n",
       "$\\beta_{N(Fakestar)^+}$  1.0+0.0j -36.888- 4.679j  1.00+0.00j"
      ]
     },
     "execution_count": 44,
     "metadata": {},
     "output_type": "execute_result"
    }
   ],
   "source": [
    "import pandas as pd\n",
    "\n",
    "original_parameters = {\n",
    "    **ORIGINAL_PARAMETERS_F[0],\n",
    "    **ORIGINAL_PARAMETERS_F[1],\n",
    "}\n",
    "df = pd.DataFrame({\n",
    "    f\"${p}$\": (\n",
    "        initial_parameters[p],\n",
    "        fit_result.parameter_values[p],\n",
    "        original_parameters[p],\n",
    "    )\n",
    "    for p in fit_result.parameter_values\n",
    "}).T\n",
    "df.columns = (\"initial\", \"fit result\", \"original\")\n",
    "df.round(decimals=3)"
   ]
  },
  {
   "cell_type": "code",
   "execution_count": 45,
   "metadata": {},
   "outputs": [
    {
     "data": {
      "text/plain": [
       "FitResult(\n",
       " minimum_valid=True,\n",
       " execution_time=3.351858377456665,\n",
       " function_calls=162,\n",
       " estimator_value=-18694.71978168161,\n",
       " parameter_values={\n",
       "  'm_{N(Fakestar)^+}': 1.7102099446837458,\n",
       "  'g_{N(Fakestar)^+,0}': 0.8145358423603044,\n",
       "  'g_{N(Fakestar)^+,1}': 0.8963220998212011,\n",
       "  '\\\\beta_{N(Fakestar)^+}': (-36.888094928163476-4.678879465472437j),\n",
       " },\n",
       " parameter_errors={\n",
       "  'm_{N(Fakestar)^+}': 0.000913074977897192,\n",
       "  'g_{N(Fakestar)^+,0}': 0.010543626222578407,\n",
       "  'g_{N(Fakestar)^+,1}': 0.0036131105694627934,\n",
       "  '\\\\beta_{N(Fakestar)^+}': (13106208.4666789+13641374.272541337j),\n",
       " },\n",
       ")"
      ]
     },
     "execution_count": 45,
     "metadata": {},
     "output_type": "execute_result"
    }
   ],
   "source": [
    "fit_result"
   ]
  },
  {
   "cell_type": "code",
   "execution_count": 46,
   "metadata": {},
   "outputs": [
    {
     "data": {
      "text/plain": [
       "-37379.43956336322"
      ]
     },
     "execution_count": 46,
     "metadata": {},
     "output_type": "execute_result"
    }
   ],
   "source": [
    "n_real_par = fit_result.count_number_of_parameters(complex_twice=True)\n",
    "n_events = len(next(iter(data.values())))\n",
    "log_likelihood = -fit_result.estimator_value\n",
    "    \n",
    "aic = 2 * n_real_par - 2 * log_likelihood\n",
    "bic = n_real_par * np.log(n_events) - 2 * log_likelihood\n",
    "aic"
   ]
  },
  {
   "cell_type": "code",
   "execution_count": 47,
   "metadata": {},
   "outputs": [
    {
     "data": {
      "text/plain": [
       "-37335.34067194117"
      ]
     },
     "execution_count": 47,
     "metadata": {},
     "output_type": "execute_result"
    }
   ],
   "source": [
    "bic"
   ]
  },
  {
   "cell_type": "code",
   "execution_count": null,
   "metadata": {},
   "outputs": [],
   "source": []
  }
 ],
 "metadata": {
  "kernelspec": {
   "display_name": "Python 3 (ipykernel)",
   "language": "python",
   "name": "python3"
  },
  "language_info": {
   "codemirror_mode": {
    "name": "ipython",
    "version": 3
   },
   "file_extension": ".py",
   "mimetype": "text/x-python",
   "name": "python",
   "nbconvert_exporter": "python",
   "pygments_lexer": "ipython3",
   "version": "3.10.13"
  }
 },
 "nbformat": 4,
 "nbformat_minor": 4
}
