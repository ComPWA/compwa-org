{
 "cells": [
  {
   "cell_type": "markdown",
   "metadata": {},
   "source": [
    "# Speed up lambdifying"
   ]
  },
  {
   "cell_type": "markdown",
   "metadata": {},
   "source": [
    "This notebook investigates how to speed up {func}`sympy.lambdify <sympy.utilities.lambdify.lambdify>` by splitting up the expression tree of a complicated expression into components, lambdifying those, and then combining them back again."
   ]
  },
  {
   "cell_type": "code",
   "execution_count": null,
   "metadata": {
    "jupyter": {
     "source_hidden": true
    },
    "tags": [
     "hide-cell"
    ]
   },
   "outputs": [],
   "source": [
    "import inspect\n",
    "import logging\n",
    "import timeit\n",
    "import warnings\n",
    "from typing import Dict, Generator, Tuple\n",
    "\n",
    "import ampform\n",
    "import graphviz\n",
    "import matplotlib.pyplot as plt\n",
    "import numpy as np\n",
    "import pandas as pd\n",
    "import qrules as q\n",
    "import sympy as sp\n",
    "from ampform.dynamics.builder import create_relativistic_breit_wigner_with_ff\n",
    "from tensorwaves.data import generate_phsp\n",
    "from tensorwaves.data.transform import HelicityTransformer\n",
    "from tensorwaves.model import LambdifiedFunction, SympyModel\n",
    "\n",
    "logger = logging.getLogger()"
   ]
  },
  {
   "cell_type": "markdown",
   "metadata": {},
   "source": [
    "## Create dummy expression"
   ]
  },
  {
   "cell_type": "markdown",
   "metadata": {},
   "source": [
    "First, let's create an amplitude model with {mod}`ampform`. We'll use this model as complicated {class}`sympy.Expr <sympy.core.expr.Expr>` in the rest of this notebooks."
   ]
  },
  {
   "cell_type": "code",
   "execution_count": null,
   "metadata": {
    "tags": [
     "remove-cell"
    ]
   },
   "outputs": [],
   "source": [
    "logger.setLevel(logging.ERROR)"
   ]
  },
  {
   "cell_type": "code",
   "execution_count": null,
   "metadata": {},
   "outputs": [],
   "source": [
    "result = q.generate_transitions(\n",
    "    initial_state=(\"J/psi(1S)\", [-1, +1]),\n",
    "    final_state=[\"gamma\", \"pi0\", \"pi0\"],\n",
    "    allowed_intermediate_particles=[\"f(0)(980)\"],\n",
    "    allowed_interaction_types=[\"strong\", \"EM\"],\n",
    "    formalism_type=\"canonical-helicity\",\n",
    ")\n",
    "dot = q.io.asdot(result, collapse_graphs=True)\n",
    "graphviz.Source(dot)"
   ]
  },
  {
   "cell_type": "code",
   "execution_count": null,
   "metadata": {},
   "outputs": [],
   "source": [
    "model_builder = ampform.get_builder(result)\n",
    "for name in result.get_intermediate_particles().names:\n",
    "    model_builder.set_dynamics(name, create_relativistic_breit_wigner_with_ff)\n",
    "model = model_builder.generate()"
   ]
  },
  {
   "cell_type": "code",
   "execution_count": null,
   "metadata": {
    "tags": []
   },
   "outputs": [],
   "source": [
    "free_symbols = sorted(model.expression.free_symbols, key=lambda s: s.name)\n",
    "free_symbols"
   ]
  },
  {
   "cell_type": "markdown",
   "metadata": {},
   "source": [
    "## Helicity model components"
   ]
  },
  {
   "cell_type": "markdown",
   "metadata": {},
   "source": [
    "A {class}`~ampform.helicity.HelicityModel` has the benefit that it comes with {attr}`~ampform.helicity.HelicityModel.components` (intensities and amplitudes) that together form its {attr}`~ampform.helicity.HelicityModel.expression`. Let's separate these components into _amplitude_ and _intensity_."
   ]
  },
  {
   "cell_type": "code",
   "execution_count": null,
   "metadata": {},
   "outputs": [],
   "source": [
    "amplitudes = {\n",
    "    name: expr\n",
    "    for name, expr in model.components.items()\n",
    "    if name.startswith(\"A\")\n",
    "}\n",
    "list(amplitudes)"
   ]
  },
  {
   "cell_type": "code",
   "execution_count": null,
   "metadata": {},
   "outputs": [],
   "source": [
    "intensities = {\n",
    "    name: expr\n",
    "    for name, expr in model.components.items()\n",
    "    if name.startswith(\"I\")\n",
    "}"
   ]
  },
  {
   "cell_type": "code",
   "execution_count": null,
   "metadata": {},
   "outputs": [],
   "source": [
    "assert len(amplitudes) + len(intensities) == len(model.components)"
   ]
  },
  {
   "cell_type": "markdown",
   "metadata": {},
   "source": [
    "### Component structure"
   ]
  },
  {
   "cell_type": "markdown",
   "metadata": {},
   "source": [
    "Note that each intensity consists of a subset of these amplitudes. This means that _intensities have a larger expression tree than amplitudes_."
   ]
  },
  {
   "cell_type": "code",
   "execution_count": null,
   "metadata": {},
   "outputs": [],
   "source": [
    "amplitude_to_symbol = {\n",
    "    expr: sp.Symbol(f\"A{i}\") for i, expr in enumerate(amplitudes.values(), 1)\n",
    "}"
   ]
  },
  {
   "cell_type": "code",
   "execution_count": null,
   "metadata": {},
   "outputs": [],
   "source": [
    "intensity_to_symbol = {\n",
    "    expr: sp.Symbol(f\"I{i}\") for i, expr in enumerate(intensities.values(), 1)\n",
    "}"
   ]
  },
  {
   "cell_type": "code",
   "execution_count": null,
   "metadata": {},
   "outputs": [],
   "source": [
    "intensity_expr = model.expression.subs(intensity_to_symbol, simultaneous=True)\n",
    "intensity_expr"
   ]
  },
  {
   "cell_type": "code",
   "execution_count": null,
   "metadata": {},
   "outputs": [],
   "source": [
    "dot = sp.dotprint(intensity_expr)\n",
    "graphviz.Source(dot)"
   ]
  },
  {
   "cell_type": "code",
   "execution_count": null,
   "metadata": {},
   "outputs": [],
   "source": [
    "amplitude_expr = model.expression.subs(amplitude_to_symbol, simultaneous=True)\n",
    "amplitude_expr"
   ]
  },
  {
   "cell_type": "code",
   "execution_count": null,
   "metadata": {},
   "outputs": [],
   "source": [
    "dot = sp.dotprint(amplitude_expr)\n",
    "graphviz.Source(dot)"
   ]
  },
  {
   "cell_type": "markdown",
   "metadata": {},
   "source": [
    "### Performance check"
   ]
  },
  {
   "cell_type": "markdown",
   "metadata": {},
   "source": [
    "Lambdifying the whole {attr}`HelicityModel.expression <ampform.helicity.HelicityModel.expression>` is slowest. The {func}`~sympy.utilities.lambdify.lambdify` function first prints the expression as a {obj}`str` (!) with (in this case) {mod}`numpy` syntax and then uses {func}`eval` to convert that back to actual {mod}`numpy` objects:"
   ]
  },
  {
   "cell_type": "markdown",
   "metadata": {},
   "source": [
    ":::{margin}\n",
    "\n",
    "We store the time with {mod}`timeit` for section {ref}`reports/sympy/lambdify-speedup:Arbitrary expressions`.\n",
    "\n",
    ":::"
   ]
  },
  {
   "cell_type": "code",
   "execution_count": null,
   "metadata": {
    "tags": [
     "hide-cell"
    ]
   },
   "outputs": [],
   "source": [
    "runtime = {}\n",
    "start = timeit.default_timer()"
   ]
  },
  {
   "cell_type": "code",
   "execution_count": null,
   "metadata": {},
   "outputs": [],
   "source": [
    "%%time\n",
    "np_complete_model = sp.lambdify(free_symbols, model.expression.doit(), \"numpy\")"
   ]
  },
  {
   "cell_type": "code",
   "execution_count": null,
   "metadata": {
    "tags": [
     "hide-cell"
    ]
   },
   "outputs": [],
   "source": [
    "stop = timeit.default_timer()\n",
    "runtime[\"complete model\"] = stop - start"
   ]
  },
  {
   "cell_type": "markdown",
   "metadata": {},
   "source": [
    "Printing to {obj}`str` and converting back with {func}`eval` becomes exponentially slow the larger the expression tree. This means that it's more efficient to lambdify sub-trees of the expression tree separately. Lambdifying the four _intensities_ of this model separately, the effect is not noticeable:"
   ]
  },
  {
   "cell_type": "code",
   "execution_count": null,
   "metadata": {
    "tags": [
     "remove-cell"
    ]
   },
   "outputs": [],
   "source": [
    "logger.setLevel(logging.INFO)"
   ]
  },
  {
   "cell_type": "code",
   "execution_count": null,
   "metadata": {},
   "outputs": [],
   "source": [
    "%%time\n",
    "for expr, symbol in intensity_to_symbol.items():\n",
    "    logging.info(f\"Lambdifying {symbol.name}\")\n",
    "    start = timeit.default_timer()\n",
    "    sp.lambdify(free_symbols, expr.doit(), \"numpy\")\n",
    "    stop = timeit.default_timer()\n",
    "    runtime[symbol.name] = stop - start"
   ]
  },
  {
   "cell_type": "markdown",
   "metadata": {},
   "source": [
    "...but each of the eight _amplitudes_ separately does result in a significant speed-up:"
   ]
  },
  {
   "cell_type": "code",
   "execution_count": null,
   "metadata": {
    "tags": []
   },
   "outputs": [],
   "source": [
    "%%time\n",
    "np_amplitudes = {}\n",
    "for expr, symbol in amplitude_to_symbol.items():\n",
    "    logging.info(f\"Lambdifying {symbol.name}\")\n",
    "    start = timeit.default_timer()\n",
    "    np_expr = sp.lambdify(free_symbols, expr.doit(), \"numpy\")\n",
    "    stop = timeit.default_timer()\n",
    "    runtime[symbol.name] = stop - start\n",
    "    np_amplitudes[symbol] = np_expr"
   ]
  },
  {
   "cell_type": "markdown",
   "metadata": {},
   "source": [
    "### Recombining components"
   ]
  },
  {
   "cell_type": "markdown",
   "metadata": {},
   "source": [
    "{ref}`Recall <reports/sympy/lambdify-speedup:Component structure>` what amplitude module expressed in its amplitude components looks like:"
   ]
  },
  {
   "cell_type": "code",
   "execution_count": null,
   "metadata": {},
   "outputs": [],
   "source": [
    "amplitude_expr"
   ]
  },
  {
   "cell_type": "markdown",
   "metadata": {},
   "source": [
    "We have to lambdify that top expression as well:"
   ]
  },
  {
   "cell_type": "code",
   "execution_count": null,
   "metadata": {},
   "outputs": [],
   "source": [
    "sorted_amplitude_symbols = sorted(np_amplitudes, key=lambda s: s.name)\n",
    "np_amplitude_expr = sp.lambdify(\n",
    "    sorted_amplitude_symbols, amplitude_expr, \"numpy\"\n",
    ")"
   ]
  },
  {
   "cell_type": "code",
   "execution_count": null,
   "metadata": {},
   "outputs": [],
   "source": [
    "source = inspect.getsource(np_amplitude_expr)\n",
    "print(source)"
   ]
  },
  {
   "cell_type": "markdown",
   "metadata": {},
   "source": [
    "We now have a lambdified expression for the complete amplitude model, as well as lambdified expressions that are to be plugged in to its arguments."
   ]
  },
  {
   "cell_type": "code",
   "execution_count": null,
   "metadata": {},
   "outputs": [],
   "source": [
    "def componentwise_lambdified(*args):\n",
    "    \"\"\"Lambdified amplitude model, recombined from its amplitude components.\n",
    "\n",
    "    .. warning:: Order of the ``args`` has to be the same as that\n",
    "        of the ``args`` of the lambdified amplitude components.\n",
    "    \"\"\"\n",
    "    amplitude_values = []\n",
    "    for amp_symbol in sorted_amplitude_symbols:\n",
    "        np_amplitude = np_amplitudes[amp_symbol]\n",
    "        values = np_amplitude(*args)\n",
    "        amplitude_values.append(values)\n",
    "    return np_amplitude_expr(*amplitude_values)"
   ]
  },
  {
   "cell_type": "markdown",
   "metadata": {
    "tags": []
   },
   "source": [
    "### Test with data"
   ]
  },
  {
   "cell_type": "markdown",
   "metadata": {},
   "source": [
    "Okay, so does all this work? Let's first generate a phase space sample with good-old {mod}`tensorwaves`. We can then use this sample as input to the component-wise lambdified function."
   ]
  },
  {
   "cell_type": "code",
   "execution_count": null,
   "metadata": {
    "tags": [
     "remove-cell"
    ]
   },
   "outputs": [],
   "source": [
    "logger.setLevel(logging.ERROR)\n",
    "warnings.filterwarnings(\"ignore\")"
   ]
  },
  {
   "cell_type": "code",
   "execution_count": null,
   "metadata": {
    "tags": []
   },
   "outputs": [],
   "source": [
    "sympy_model = SympyModel(\n",
    "    expression=model.expression,\n",
    "    parameters=model.parameter_defaults,\n",
    ")\n",
    "intensity = LambdifiedFunction(sympy_model, backend=\"jax\")\n",
    "data_converter = HelicityTransformer(model.adapter)\n",
    "phsp_sample = generate_phsp(10_000, model.adapter.reaction_info)\n",
    "phsp_set = data_converter.transform(phsp_sample)"
   ]
  },
  {
   "cell_type": "code",
   "execution_count": null,
   "metadata": {
    "jupyter": {
     "source_hidden": true
    },
    "tags": [
     "hide-input"
    ]
   },
   "outputs": [],
   "source": [
    "plt.hist(phsp_set[\"m_12\"], bins=50, alpha=0.5, density=True)\n",
    "plt.hist(\n",
    "    phsp_set[\"m_12\"],\n",
    "    bins=50,\n",
    "    alpha=0.5,\n",
    "    density=True,\n",
    "    weights=intensity(phsp_set),\n",
    ")\n",
    "plt.show()"
   ]
  },
  {
   "cell_type": "markdown",
   "metadata": {},
   "source": [
    "The arguments of the component-wise lambdified amplitude model should be covered by the entries in the phase space set and the provided parameter defaults:"
   ]
  },
  {
   "cell_type": "code",
   "execution_count": null,
   "metadata": {},
   "outputs": [],
   "source": [
    "kinematic_variable_names = {key for key in phsp_set}\n",
    "parameter_names = {symbol.name for symbol in model.parameter_defaults}\n",
    "free_symbol_names = {symbol.name for symbol in free_symbols}"
   ]
  },
  {
   "cell_type": "code",
   "execution_count": null,
   "metadata": {},
   "outputs": [],
   "source": [
    "assert free_symbol_names <= kinematic_variable_names ^ parameter_names"
   ]
  },
  {
   "cell_type": "markdown",
   "metadata": {},
   "source": [
    "That allows us to sort the input arrays and parameter defaults so that they can be used as positional argument input to the component-wise lambdified amplitude model:"
   ]
  },
  {
   "cell_type": "code",
   "execution_count": null,
   "metadata": {},
   "outputs": [],
   "source": [
    "merged_par_var_values = {\n",
    "    symbol.name: value for symbol, value in model.parameter_defaults.items()\n",
    "}\n",
    "merged_par_var_values.update(phsp_set)\n",
    "args_values = [merged_par_var_values[symbol.name] for symbol in free_symbols]"
   ]
  },
  {
   "cell_type": "markdown",
   "metadata": {},
   "source": [
    "Finally, here's the result of plugging that back into the component-wise lambdified expression:"
   ]
  },
  {
   "cell_type": "code",
   "execution_count": null,
   "metadata": {},
   "outputs": [],
   "source": [
    "componentwise_result = componentwise_lambdified(*args_values)\n",
    "componentwise_result"
   ]
  },
  {
   "cell_type": "markdown",
   "metadata": {},
   "source": [
    "And it's indeed the same as that the intensity computed by {mod}`tensorwaves` (direct lambdify):"
   ]
  },
  {
   "cell_type": "code",
   "execution_count": null,
   "metadata": {
    "tags": []
   },
   "outputs": [],
   "source": [
    "tensorwaves_result = np.array(intensity(phsp_set))\n",
    "mean_difference = (componentwise_result - tensorwaves_result).mean()\n",
    "mean_difference"
   ]
  },
  {
   "cell_type": "code",
   "execution_count": null,
   "metadata": {
    "tags": [
     "remove-cell"
    ]
   },
   "outputs": [],
   "source": [
    "assert mean_difference < 1e-9"
   ]
  },
  {
   "cell_type": "markdown",
   "metadata": {},
   "source": [
    "## Arbitrary expressions"
   ]
  },
  {
   "cell_type": "markdown",
   "metadata": {},
   "source": [
    "The problem with {ref}`reports/sympy/lambdify-speedup:Test with data` is that it requires a {obj}`~ampform.helicity.HelicityModel`. In {mod}`tensorwaves`, we want to work with general {class}`sympy.Expr <sympy.core.expr.Expr>`s though (see {class}`~tensorwaves.model.SympyModel`), where we don't have sub-{attr}`ampform.helicity.HelicityModel.components` available.\n",
    "\n",
    "Instead, we have to split up the lambdifying in a more general way that can handle arbitrary {class}`sympy.core.expr.Expr`s. For that we need:\n",
    "\n",
    "1. A general method of traversing through a SymPy expression tree. This can be done with {doc}`sympy:tutorial/manipulation`.\n",
    "2. A **fast** method to estimate the complexity of a model, so that we can decide whether a node in the expression tree is small enough to be lambdified without much runtime. The best measure for complexity is {func}`~sympy.core.function.count_ops` (\"count operations\"), see notes under {doc}`sympy:modules/simplify/simplify`."
   ]
  },
  {
   "cell_type": "markdown",
   "metadata": {},
   "source": [
    "### Expression complexity"
   ]
  },
  {
   "cell_type": "markdown",
   "metadata": {},
   "source": [
    "Let's tackle 2. first and use the {attr}`HelicityModel.expression <ampform.helicity.HelicityModel.expression>` and its {attr}`~ampform.helicity.HelicityModel.components` that we lambdified earlier on. Here's an overview of the number of operations versus the time it took to lambdify each component:"
   ]
  },
  {
   "cell_type": "code",
   "execution_count": null,
   "metadata": {
    "jupyter": {
     "source_hidden": true
    },
    "tags": [
     "hide-input"
    ]
   },
   "outputs": [],
   "source": [
    "df = pd.DataFrame(runtime.values(), index=runtime, columns=[\"runtime (s)\"])\n",
    "operations = [sp.count_ops(model.expression)]\n",
    "operations.extend(sp.count_ops(expr) for expr in intensity_to_symbol)\n",
    "operations.extend(sp.count_ops(expr) for expr in amplitude_to_symbol)\n",
    "df.insert(0, \"operations\", operations)\n",
    "df"
   ]
  },
  {
   "cell_type": "markdown",
   "metadata": {},
   "source": [
    "From this we can already roughly see that the lambdify runtime scales roughly with the number of SymPy operations.\n",
    "\n",
    "To better visualize this, we can lambdify the expressions in {class}`~ampform.dynamics.BlattWeisskopfSquared` for each angular momentums and compute their runtime a number of times with {mod}`timeit`. Note that the {class}`~ampform.dynamics.BlattWeisskopfSquared` becomes increasingly complex the higher the angular momentum."
   ]
  },
  {
   "cell_type": "code",
   "execution_count": null,
   "metadata": {
    "jupyter": {
     "source_hidden": true
    },
    "tags": [
     "hide-input"
    ]
   },
   "outputs": [],
   "source": [
    "from ampform.dynamics import BlattWeisskopfSquared\n",
    "\n",
    "angular_momentum, z = sp.symbols(\"L z\")\n",
    "BlattWeisskopfSquared(angular_momentum, z).doit()"
   ]
  },
  {
   "cell_type": "code",
   "execution_count": null,
   "metadata": {
    "jupyter": {
     "source_hidden": true
    },
    "tags": [
     "hide-cell"
    ]
   },
   "outputs": [],
   "source": [
    "operations = []\n",
    "runtime = []\n",
    "for angular_momentum in range(9):\n",
    "    ff2 = BlattWeisskopfSquared(angular_momentum, z)\n",
    "    operations.append(sp.count_ops(ff2.doit()))\n",
    "    n_iterations = 10\n",
    "    t = timeit.timeit(\n",
    "        setup=f\"\"\"\n",
    "import sympy as sp\n",
    "from ampform.dynamics import BlattWeisskopfSquared\n",
    "z = sp.Symbol(\"z\")\n",
    "ff2 = BlattWeisskopfSquared({angular_momentum}, z)\n",
    "    \"\"\",\n",
    "        stmt='sp.lambdify(z, ff2.doit(), \"numpy\")',\n",
    "        number=n_iterations,\n",
    "    )\n",
    "    runtime.append(t / n_iterations * 1_000)"
   ]
  },
  {
   "cell_type": "code",
   "execution_count": null,
   "metadata": {
    "jupyter": {
     "source_hidden": true
    },
    "tags": [
     "hide-input"
    ]
   },
   "outputs": [],
   "source": [
    "df = pd.DataFrame(\n",
    "    {\n",
    "        \"operations\": operations,\n",
    "        \"runtime (ms)\": runtime,\n",
    "    },\n",
    ")\n",
    "df"
   ]
  },
  {
   "cell_type": "code",
   "execution_count": null,
   "metadata": {
    "jupyter": {
     "source_hidden": true
    },
    "tags": [
     "hide-input"
    ]
   },
   "outputs": [],
   "source": [
    "plt.scatter(x=df[\"operations\"], y=df[\"runtime (ms)\"])\n",
    "ax = plt.gca()\n",
    "ax.set_ylim(bottom=0)\n",
    "ax.set_xlabel(\"operations\")\n",
    "ax.set_ylabel(\"runtime (ms)\");"
   ]
  },
  {
   "cell_type": "markdown",
   "metadata": {},
   "source": [
    "### Identifying nodes"
   ]
  },
  {
   "cell_type": "markdown",
   "metadata": {},
   "source": [
    "Now imagine that we don't know anything about the {attr}`~ampform.helicity.HelicityModel.expression` that we created before other than that it is a {class}`sympy.Expr <sympy.core.expr.Expr>`."
   ]
  },
  {
   "cell_type": "markdown",
   "metadata": {},
   "source": [
    "#### Approach 1: Generator"
   ]
  },
  {
   "cell_type": "markdown",
   "metadata": {},
   "source": [
    "A first attempt is to use a generator to recursively identify components in the expression that lie within a certain 'complexity' (as computed by {func}`~sympy.core.function.count_ops`)."
   ]
  },
  {
   "cell_type": "code",
   "execution_count": null,
   "metadata": {},
   "outputs": [],
   "source": [
    "def recurse_tree(\n",
    "    expression: sp.Expr, *, min_complexity: int = 0, max_complexity: int\n",
    ") -> Generator[sp.Expr, None, None]:\n",
    "    for arg in expression.args:\n",
    "        complexity = sp.count_ops(arg)\n",
    "        if complexity < max_complexity and complexity > min_complexity:\n",
    "            yield arg\n",
    "        else:\n",
    "            yield from recurse_tree(\n",
    "                arg,\n",
    "                min_complexity=min_complexity,\n",
    "                max_complexity=max_complexity,\n",
    "            )"
   ]
  },
  {
   "cell_type": "markdown",
   "metadata": {},
   "source": [
    "We can then use this generator function to create a mapping of these sub-expressions within the expression tree to {class}`~sympy.core.symbol.Symbol`s. That mapping can then be used in {meth}`~sympy.core.basic.Basic.xreplace` to replace the sub-expressions with those symbols."
   ]
  },
  {
   "cell_type": "markdown",
   "metadata": {},
   "source": [
    ":::{margin}\n",
    "\n",
    "The {meth}`~sympy.core.basic.Basic.xreplace` method is **much faster** than {meth}`~sympy.core.basic.Basic.subs`, because it doesn't do any evaluation.\n",
    "\n",
    ":::"
   ]
  },
  {
   "cell_type": "code",
   "execution_count": null,
   "metadata": {},
   "outputs": [],
   "source": [
    "%%time\n",
    "expression = model.expression.doit()\n",
    "sub_expressions = {}\n",
    "for i, expr in enumerate(recurse_tree(expression, max_complexity=100)):\n",
    "    symbol = sp.Symbol(f\"f{i}\")\n",
    "    complexity = sp.count_ops(expr)\n",
    "    sub_expressions[expr] = symbol\n",
    "expression.xreplace(sub_expressions)"
   ]
  },
  {
   "cell_type": "markdown",
   "metadata": {},
   "source": [
    "#### Approach 2: Direct substitution"
   ]
  },
  {
   "cell_type": "markdown",
   "metadata": {},
   "source": [
    "There is one problem though: {meth}`~sympy.core.basic.Basic.xreplace` is not accurate for larger expressions. It would therefore be better to directly substitute the sub-expression with a symbol while we loop over the nodes in the expression tree. The following function can do that:"
   ]
  },
  {
   "cell_type": "code",
   "execution_count": null,
   "metadata": {},
   "outputs": [],
   "source": [
    "def simplify_expression(\n",
    "    expression: sp.Expr,\n",
    "    max_complexity: int,\n",
    "    min_complexity: int = 0,\n",
    ") -> Tuple[sp.Expr, Dict[sp.Symbol, sp.Expr]]:\n",
    "    i = 0\n",
    "    symbol_mapping = {}\n",
    "\n",
    "    def recursive_simplify(sub_expression: sp.Expr) -> sp.Expr:\n",
    "        nonlocal i\n",
    "        for arg in sub_expression.args:\n",
    "            complexity = sp.count_ops(arg)\n",
    "            if complexity < max_complexity and complexity > min_complexity:\n",
    "                symbol = sp.Symbol(f\"f{i}\")\n",
    "                i += 1\n",
    "                symbol_mapping[symbol] = arg\n",
    "                sub_expression = sub_expression.xreplace({arg: symbol})\n",
    "            else:\n",
    "                new_arg = recursive_simplify(arg)\n",
    "                sub_expression = sub_expression.xreplace({arg: new_arg})\n",
    "        return sub_expression\n",
    "\n",
    "    new_expression = recursive_simplify(expression)\n",
    "    return new_expression, symbol_mapping"
   ]
  },
  {
   "cell_type": "markdown",
   "metadata": {},
   "source": [
    "And indeed, this is **much faster** than {ref}`reports/sympy/lambdify-speedup:Approach 1: Generator` (it's even possible to parallelize this for loop):"
   ]
  },
  {
   "cell_type": "code",
   "execution_count": null,
   "metadata": {},
   "outputs": [],
   "source": [
    "%time\n",
    "simplified_expr, definitions = simplify_expression(\n",
    "    expression, max_complexity=100\n",
    ")"
   ]
  },
  {
   "cell_type": "code",
   "execution_count": null,
   "metadata": {},
   "outputs": [],
   "source": [
    "simplified_expr"
   ]
  },
  {
   "cell_type": "code",
   "execution_count": null,
   "metadata": {},
   "outputs": [],
   "source": [
    "definitions[sp.Symbol(\"f0\")]"
   ]
  }
 ],
 "metadata": {
  "kernelspec": {
   "display_name": "Python 3",
   "language": "python",
   "name": "python3"
  },
  "language_info": {
   "codemirror_mode": {
    "name": "ipython",
    "version": 3
   },
   "file_extension": ".py",
   "mimetype": "text/x-python",
   "name": "python",
   "nbconvert_exporter": "python",
   "pygments_lexer": "ipython3",
   "version": "3.8.8"
  }
 },
 "nbformat": 4,
 "nbformat_minor": 4
}
