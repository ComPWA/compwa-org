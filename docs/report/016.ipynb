{
 "cells": [
  {
   "cell_type": "code",
   "execution_count": null,
   "metadata": {
    "hideCode": true,
    "hideOutput": true,
    "hidePrompt": true,
    "jupyter": {
     "source_hidden": true
    },
    "slideshow": {
     "slide_type": "skip"
    },
    "tags": [
     "remove-cell"
    ]
   },
   "outputs": [],
   "source": [
    "%config InlineBackend.figure_formats = ['svg']\n",
    "import os\n",
    "\n",
    "STATIC_WEB_PAGE = {\"EXECUTE_NB\", \"READTHEDOCS\"}.intersection(os.environ)"
   ]
  },
  {
   "cell_type": "markdown",
   "metadata": {},
   "source": [
    "```{autolink-concat}\n",
    "```"
   ]
  },
  {
   "cell_type": "markdown",
   "metadata": {},
   "source": [
    "# [TR-016] Complex integral"
   ]
  },
  {
   "cell_type": "markdown",
   "metadata": {},
   "source": [
    "<!-- cspell:ignore ndim orthopy -->\n",
    "<!-- cspell:ignore epsabs ename epsrel evalue infbounds kronrod limlst maxp1 pycode retval subintervals wvar wopts -->\n",
    "<!-- cspell:ignoreRegExp m(_qagie|_qagse|args|def|else|epsabs|epsrel|full|func|integrand|integrate|limit|linspace|max|min|not|parametrized|partial|points|quad|return) -->"
   ]
  },
  {
   "cell_type": "markdown",
   "metadata": {},
   "source": [
    "```{autolink-skip}\n",
    "```"
   ]
  },
  {
   "cell_type": "code",
   "execution_count": null,
   "metadata": {
    "jupyter": {
     "source_hidden": true
    },
    "tags": [
     "hide-input",
     "remove-output"
    ]
   },
   "outputs": [
    {
     "name": "stdout",
     "output_type": "stream",
     "text": [
      "Note: you may need to restart the kernel to use updated packages.\n"
     ]
    }
   ],
   "source": [
    "%pip install -q ndim==0.1.7 orthopy==0.9.6 quadpy==0.16.11 scipy==1.8.0 sympy==1.10.1"
   ]
  },
  {
   "cell_type": "markdown",
   "metadata": {},
   "source": [
    "As noted in {doc}`/report/003`, {func}`scipy.integrate.quad` cannot handle complex integrals. In addition, one can get into trouble with vectorized input ({obj}`numpy.array`s) on a lambdified {class}`sympy.Integral <sympy.integrals.integrals.Integral>`. This report discusses both problems and proposes some solutions."
   ]
  },
  {
   "cell_type": "markdown",
   "metadata": {},
   "source": [
    "## Complex integration"
   ]
  },
  {
   "cell_type": "markdown",
   "metadata": {},
   "source": [
    "SciPy cannot integrate complex functions:"
   ]
  },
  {
   "cell_type": "code",
   "execution_count": null,
   "metadata": {
    "tags": [
     "raises-exception"
    ]
   },
   "outputs": [
    {
     "ename": "TypeError",
     "evalue": "can't convert complex to float",
     "output_type": "error",
     "traceback": [
      "\u001b[0;31m---------------------------------------------------------------------------\u001b[0m",
      "\u001b[0;31mTypeError\u001b[0m                                 Traceback (most recent call last)",
      "Input \u001b[0;32mIn [3]\u001b[0m, in \u001b[0;36m<cell line: 8>\u001b[0;34m()\u001b[0m\n\u001b[1;32m      4\u001b[0m \u001b[38;5;28;01mdef\u001b[39;00m \u001b[38;5;21mintegrand\u001b[39m(x):\n\u001b[1;32m      5\u001b[0m     \u001b[38;5;28;01mreturn\u001b[39;00m x \u001b[38;5;241m*\u001b[39m (x \u001b[38;5;241m+\u001b[39m \u001b[38;5;241m1\u001b[39mj)\n\u001b[0;32m----> 8\u001b[0m \u001b[43mquad\u001b[49m\u001b[43m(\u001b[49m\u001b[43mintegrand\u001b[49m\u001b[43m,\u001b[49m\u001b[43m \u001b[49m\u001b[38;5;241;43m0.0\u001b[39;49m\u001b[43m,\u001b[49m\u001b[43m \u001b[49m\u001b[38;5;241;43m2.0\u001b[39;49m\u001b[43m)\u001b[49m\n",
      "File \u001b[0;32m~/miniconda3/envs/compwa-org/lib/python3.8/site-packages/scipy/integrate/_quadpack_py.py:351\u001b[0m, in \u001b[0;36mquad\u001b[0;34m(func, a, b, args, full_output, epsabs, epsrel, limit, points, weight, wvar, wopts, maxp1, limlst)\u001b[0m\n\u001b[1;32m    348\u001b[0m flip, a, b \u001b[38;5;241m=\u001b[39m b \u001b[38;5;241m<\u001b[39m a, \u001b[38;5;28mmin\u001b[39m(a, b), \u001b[38;5;28mmax\u001b[39m(a, b)\n\u001b[1;32m    350\u001b[0m \u001b[38;5;28;01mif\u001b[39;00m weight \u001b[38;5;129;01mis\u001b[39;00m \u001b[38;5;28;01mNone\u001b[39;00m:\n\u001b[0;32m--> 351\u001b[0m     retval \u001b[38;5;241m=\u001b[39m \u001b[43m_quad\u001b[49m\u001b[43m(\u001b[49m\u001b[43mfunc\u001b[49m\u001b[43m,\u001b[49m\u001b[43m \u001b[49m\u001b[43ma\u001b[49m\u001b[43m,\u001b[49m\u001b[43m \u001b[49m\u001b[43mb\u001b[49m\u001b[43m,\u001b[49m\u001b[43m \u001b[49m\u001b[43margs\u001b[49m\u001b[43m,\u001b[49m\u001b[43m \u001b[49m\u001b[43mfull_output\u001b[49m\u001b[43m,\u001b[49m\u001b[43m \u001b[49m\u001b[43mepsabs\u001b[49m\u001b[43m,\u001b[49m\u001b[43m \u001b[49m\u001b[43mepsrel\u001b[49m\u001b[43m,\u001b[49m\u001b[43m \u001b[49m\u001b[43mlimit\u001b[49m\u001b[43m,\u001b[49m\n\u001b[1;32m    352\u001b[0m \u001b[43m                   \u001b[49m\u001b[43mpoints\u001b[49m\u001b[43m)\u001b[49m\n\u001b[1;32m    353\u001b[0m \u001b[38;5;28;01melse\u001b[39;00m:\n\u001b[1;32m    354\u001b[0m     \u001b[38;5;28;01mif\u001b[39;00m points \u001b[38;5;129;01mis\u001b[39;00m \u001b[38;5;129;01mnot\u001b[39;00m \u001b[38;5;28;01mNone\u001b[39;00m:\n",
      "File \u001b[0;32m~/miniconda3/envs/compwa-org/lib/python3.8/site-packages/scipy/integrate/_quadpack_py.py:463\u001b[0m, in \u001b[0;36m_quad\u001b[0;34m(func, a, b, args, full_output, epsabs, epsrel, limit, points)\u001b[0m\n\u001b[1;32m    461\u001b[0m \u001b[38;5;28;01mif\u001b[39;00m points \u001b[38;5;129;01mis\u001b[39;00m \u001b[38;5;28;01mNone\u001b[39;00m:\n\u001b[1;32m    462\u001b[0m     \u001b[38;5;28;01mif\u001b[39;00m infbounds \u001b[38;5;241m==\u001b[39m \u001b[38;5;241m0\u001b[39m:\n\u001b[0;32m--> 463\u001b[0m         \u001b[38;5;28;01mreturn\u001b[39;00m \u001b[43m_quadpack\u001b[49m\u001b[38;5;241;43m.\u001b[39;49m\u001b[43m_qagse\u001b[49m\u001b[43m(\u001b[49m\u001b[43mfunc\u001b[49m\u001b[43m,\u001b[49m\u001b[43ma\u001b[49m\u001b[43m,\u001b[49m\u001b[43mb\u001b[49m\u001b[43m,\u001b[49m\u001b[43margs\u001b[49m\u001b[43m,\u001b[49m\u001b[43mfull_output\u001b[49m\u001b[43m,\u001b[49m\u001b[43mepsabs\u001b[49m\u001b[43m,\u001b[49m\u001b[43mepsrel\u001b[49m\u001b[43m,\u001b[49m\u001b[43mlimit\u001b[49m\u001b[43m)\u001b[49m\n\u001b[1;32m    464\u001b[0m     \u001b[38;5;28;01melse\u001b[39;00m:\n\u001b[1;32m    465\u001b[0m         \u001b[38;5;28;01mreturn\u001b[39;00m _quadpack\u001b[38;5;241m.\u001b[39m_qagie(func,bound,infbounds,args,full_output,epsabs,epsrel,limit)\n",
      "\u001b[0;31mTypeError\u001b[0m: can't convert complex to float"
     ]
    }
   ],
   "source": [
    "from scipy.integrate import quad\n",
    "\n",
    "\n",
    "def integrand(x):\n",
    "    return x * (x + 1j)\n",
    "\n",
    "\n",
    "quad(integrand, 0.0, 2.0)"
   ]
  },
  {
   "cell_type": "markdown",
   "metadata": {},
   "source": [
    "### Split real and imaginary integral"
   ]
  },
  {
   "cell_type": "markdown",
   "metadata": {},
   "source": [
    "A [proposed solution](https://stackoverflow.com/a/5966088) is to wrap the {func}`~scipy.integrate.quad` function in a special integrate function that integrates the real and imaginary part of a function separately:"
   ]
  },
  {
   "cell_type": "code",
   "execution_count": null,
   "metadata": {},
   "outputs": [],
   "source": [
    "import numpy as np\n",
    "\n",
    "\n",
    "def complex_integrate(func, a, b, **quad_kwargs):\n",
    "    def real_func(x):\n",
    "        return np.real(func(x))\n",
    "\n",
    "    def imag_func(x):\n",
    "        return np.imag(func(x))\n",
    "\n",
    "    real_integral, real_integral_err = quad(real_func, a, b, **quad_kwargs)\n",
    "    imag_integral, imag_integral_err = quad(imag_func, a, b, **quad_kwargs)\n",
    "    return (\n",
    "        real_integral + 1j * imag_integral,\n",
    "        real_integral_err**2 + 1j * imag_integral_err,\n",
    "    )"
   ]
  },
  {
   "cell_type": "code",
   "execution_count": null,
   "metadata": {},
   "outputs": [
    {
     "data": {
      "text/plain": [
       "((2.666666666666667+2j), (8.765121169122355e-28+2.220446049250313e-14j))"
      ]
     },
     "execution_count": null,
     "metadata": {},
     "output_type": "execute_result"
    }
   ],
   "source": [
    "complex_integrate(integrand, 0.0, 2.0)"
   ]
  },
  {
   "cell_type": "markdown",
   "metadata": {},
   "source": [
    ":::{warning}\n",
    "\n",
    "The handling of uncertainties is incorrect.\n",
    "\n",
    ":::"
   ]
  },
  {
   "cell_type": "markdown",
   "metadata": {},
   "source": [
    "### Integrate with `quadpy`"
   ]
  },
  {
   "cell_type": "markdown",
   "metadata": {},
   "source": [
    "[Alternatively](https://stackoverflow.com/a/42866568), one could use [`quadpy`](https://github.com/sigma-py/quadpy), which essentially does the same as in {ref}`report/016:Split real and imaginary integral`, but can also (to a large degree) handle vectorized input and properly handles uncertainties."
   ]
  },
  {
   "cell_type": "code",
   "execution_count": null,
   "metadata": {},
   "outputs": [
    {
     "data": {
      "text/plain": [
       "((2.6666666666666665+2.0000000000000004j), 2.0082667671941473e-19)"
      ]
     },
     "execution_count": null,
     "metadata": {},
     "output_type": "execute_result"
    }
   ],
   "source": [
    "import quadpy\n",
    "\n",
    "quadpy.quad(integrand, a=0.0, b=2.0)"
   ]
  },
  {
   "cell_type": "markdown",
   "metadata": {},
   "source": [
    ":::{note}\n",
    "\n",
    "One may need to play around with the tolerance if the function is not smooth, see [sigma-py/quadpy#255](https://github.com/sigma-py/quadpy/issues/255).\n",
    "\n",
    ":::\n",
    "\n",
    ":::{tip}\n",
    "\n",
    "[`quadpy`](https://github.com/sigma-py/quadpy) raises exceptions with {obj}`ModuleNotFoundError`s that are a bit unreadable. They are caused by the fact that [`orthopy`](https://pypi.org/project/orthopy) and [`ndim`](https://pypi.org/project/ndim) need to be installed separately.\n",
    "\n",
    ":::"
   ]
  },
  {
   "cell_type": "markdown",
   "metadata": {},
   "source": [
    "## Vectorized input"
   ]
  },
  {
   "cell_type": "markdown",
   "metadata": {},
   "source": [
    "The dispersion integral from Eq.&nbsp;{eq}`dispersion-integral` in {doc}`/report/003` features a variable&nbsp;$s$ that is an argument to the function $\\Sigma_a$. This becomes a problem when $s$ gets vectorized (in this case: gets an event-wise {obj}`numpy.array` of invariant masses). Here's a simplified version of the problem:"
   ]
  },
  {
   "cell_type": "code",
   "execution_count": null,
   "metadata": {
    "tags": [
     "raises-exception"
    ]
   },
   "outputs": [
    {
     "ename": "ValueError",
     "evalue": "operands could not be broadcast together with shapes (21,) (10,) ",
     "output_type": "error",
     "traceback": [
      "\u001b[0;31m---------------------------------------------------------------------------\u001b[0m",
      "\u001b[0;31mValueError\u001b[0m                                Traceback (most recent call last)",
      "Input \u001b[0;32mIn [7]\u001b[0m, in \u001b[0;36m<cell line: 9>\u001b[0;34m()\u001b[0m\n\u001b[1;32m      5\u001b[0m     \u001b[38;5;28;01mreturn\u001b[39;00m s_prime \u001b[38;5;241m*\u001b[39m (s_prime \u001b[38;5;241m+\u001b[39m s \u001b[38;5;241m+\u001b[39m \u001b[38;5;241m1\u001b[39mj)\n\u001b[1;32m      8\u001b[0m s_array \u001b[38;5;241m=\u001b[39m np\u001b[38;5;241m.\u001b[39mlinspace(\u001b[38;5;241m-\u001b[39m\u001b[38;5;241m1\u001b[39m, \u001b[38;5;241m1\u001b[39m, num\u001b[38;5;241m=\u001b[39m\u001b[38;5;241m10\u001b[39m)\n\u001b[0;32m----> 9\u001b[0m \u001b[43mquadpy\u001b[49m\u001b[38;5;241;43m.\u001b[39;49m\u001b[43mquad\u001b[49m\u001b[43m(\u001b[49m\n\u001b[1;32m     10\u001b[0m \u001b[43m    \u001b[49m\u001b[43mpartial\u001b[49m\u001b[43m(\u001b[49m\u001b[43mparametrized_func\u001b[49m\u001b[43m,\u001b[49m\u001b[43m \u001b[49m\u001b[43ms\u001b[49m\u001b[38;5;241;43m=\u001b[39;49m\u001b[43ms_array\u001b[49m\u001b[43m)\u001b[49m\u001b[43m,\u001b[49m\n\u001b[1;32m     11\u001b[0m \u001b[43m    \u001b[49m\u001b[43ma\u001b[49m\u001b[38;5;241;43m=\u001b[39;49m\u001b[38;5;241;43m0.0\u001b[39;49m\u001b[43m,\u001b[49m\n\u001b[1;32m     12\u001b[0m \u001b[43m    \u001b[49m\u001b[43mb\u001b[49m\u001b[38;5;241;43m=\u001b[39;49m\u001b[38;5;241;43m2.0\u001b[39;49m\u001b[43m,\u001b[49m\n\u001b[1;32m     13\u001b[0m \u001b[43m)\u001b[49m\n",
      "File \u001b[0;32m<string>:55\u001b[0m, in \u001b[0;36mquad\u001b[0;34m(f, a, b, args, epsabs, epsrel, limit)\u001b[0m\n",
      "File \u001b[0;32m<string>:45\u001b[0m, in \u001b[0;36mintegrate_adaptive\u001b[0;34m(f, intervals, eps_abs, eps_rel, criteria_connection, kronrod_degree, minimum_interval_length, max_num_subintervals, dot, domain_shape, range_shape)\u001b[0m\n",
      "File \u001b[0;32m<string>:128\u001b[0m, in \u001b[0;36m_gauss_kronrod_integrate\u001b[0;34m(k, f, intervals, dot, domain_shape, range_shape)\u001b[0m\n",
      "File \u001b[0;32m<string>:49\u001b[0m, in \u001b[0;36mg\u001b[0;34m(x)\u001b[0m\n",
      "Input \u001b[0;32mIn [7]\u001b[0m, in \u001b[0;36mparametrized_func\u001b[0;34m(s_prime, s)\u001b[0m\n\u001b[1;32m      4\u001b[0m \u001b[38;5;28;01mdef\u001b[39;00m \u001b[38;5;21mparametrized_func\u001b[39m(s_prime, s):\n\u001b[0;32m----> 5\u001b[0m     \u001b[38;5;28;01mreturn\u001b[39;00m s_prime \u001b[38;5;241m*\u001b[39m (\u001b[43ms_prime\u001b[49m\u001b[43m \u001b[49m\u001b[38;5;241;43m+\u001b[39;49m\u001b[43m \u001b[49m\u001b[43ms\u001b[49m \u001b[38;5;241m+\u001b[39m \u001b[38;5;241m1\u001b[39mj)\n",
      "\u001b[0;31mValueError\u001b[0m: operands could not be broadcast together with shapes (21,) (10,) "
     ]
    }
   ],
   "source": [
    "from functools import partial\n",
    "\n",
    "\n",
    "def parametrized_func(s_prime, s):\n",
    "    return s_prime * (s_prime + s + 1j)\n",
    "\n",
    "\n",
    "s_array = np.linspace(-1, 1, num=10)\n",
    "quadpy.quad(\n",
    "    partial(parametrized_func, s=s_array),\n",
    "    a=0.0,\n",
    "    b=2.0,\n",
    ")"
   ]
  },
  {
   "cell_type": "markdown",
   "metadata": {},
   "source": [
    "The way out seems to be to **vectorize the [`quadpy.quad()`](https://github.com/sigma-py/quadpy) call itself** and forward the function arguments through {func}`functools.partial`:"
   ]
  },
  {
   "cell_type": "code",
   "execution_count": null,
   "metadata": {},
   "outputs": [
    {
     "data": {
      "text/plain": [
       "(array([0.66666667+2.j, 1.11111111+2.j, 1.55555556+2.j, 2.        +2.j,\n",
       "        2.44444444+2.j, 2.88888889+2.j, 3.33333333+2.j, 3.77777778+2.j,\n",
       "        4.22222222+2.j, 4.66666667+2.j]),\n",
       " array([1.94765926e-19, 2.69476631e-19, 2.24127752e-19, 2.79100064e-19,\n",
       "        2.67216263e-19, 1.43065895e-19, 3.08910645e-19, 3.62329394e-19,\n",
       "        4.86795288e-19, 2.21702097e-19]))"
      ]
     },
     "execution_count": null,
     "metadata": {},
     "output_type": "execute_result"
    }
   ],
   "source": [
    "from functools import partial\n",
    "\n",
    "\n",
    "@np.vectorize\n",
    "def vectorized_quad(func, a, b, **func_kwargs):\n",
    "    return quadpy.quad(partial(func, **func_kwargs), a, b)\n",
    "\n",
    "\n",
    "vectorized_quad(parametrized_func, a=0.0, b=2.0, s=s_array)"
   ]
  },
  {
   "cell_type": "markdown",
   "metadata": {},
   "source": [
    "Note, however, that this becomes difficult to implement as {func}`~sympy.utilities.lambdify.lambdify` output for a {class}`sympy.Integral <sympy.integrals.integrals.Integral>`. An attempt at this is made in {doc}`/report/003`."
   ]
  },
  {
   "cell_type": "markdown",
   "metadata": {},
   "source": [
    "## SymPy integral"
   ]
  },
  {
   "cell_type": "markdown",
   "metadata": {},
   "source": [
    "There is no good way to write integrals as [SymPy](https://docs.sympy.org) expressions that correctly {func}`~sympy.utilities.lambdify.lambdify` to a **vectorized** integral that handles complex values. Here is a first step however. Note that this integral expression class derives from {class}`sympy.Integral <sympy.integrals.integrals.Integral>` and:\n",
    "\n",
    "1. overwrites its {meth}`~sympy.core.basic.Basic.doit` method, so that the integral cannot be evaluated by SymPy.\n",
    "2. provides a custom NumPy printer method (see {doc}`/report/001`) that lambdifies this expression node to [`quadpy.quad()`](https://github.com/sigma-py/quadpy).\n",
    "3. adds class variables that can affect the behavior of [`quadpy.quad()`](https://github.com/sigma-py/quadpy)."
   ]
  },
  {
   "cell_type": "code",
   "execution_count": null,
   "metadata": {},
   "outputs": [],
   "source": [
    "import sympy as sp\n",
    "from sympy.printing.pycode import _unpack_integral_limits\n",
    "\n",
    "\n",
    "class UnevaluatableIntegral(sp.Integral):\n",
    "    abs_tolerance = 1e-5\n",
    "    rel_tolerance = 1e-5\n",
    "    limit = 50\n",
    "\n",
    "    def doit(self, **hints):\n",
    "        args = [arg.doit(**hints) for arg in self.args]\n",
    "        return self.func(*args)\n",
    "\n",
    "    def _numpycode(self, printer, *args):\n",
    "        integration_vars, limits = _unpack_integral_limits(self)\n",
    "        if len(limits) != 1:\n",
    "            raise ValueError(\n",
    "                f\"Cannot handle {len(limits)}-dimensional integrals\"\n",
    "            )\n",
    "        integrate = \"quadpy_quad\"\n",
    "        printer.module_imports[\"quadpy\"].update({f\"quad as {integrate}\"})\n",
    "        limit_str = \"%s, %s\" % tuple(map(printer._print, limits[0]))\n",
    "        args = \", \".join(map(printer._print, integration_vars))\n",
    "        expr = printer._print(self.args[0])\n",
    "        return (\n",
    "            f\"{integrate}(lambda {args}: {expr}, {limit_str},\"\n",
    "            f\" epsabs={self.abs_tolerance}, epsrel={self.abs_tolerance},\"\n",
    "            f\" limit={self.limit})[0]\"\n",
    "        )"
   ]
  },
  {
   "cell_type": "markdown",
   "metadata": {},
   "source": [
    "To test whether this works, we write the expression from {ref}`report/016:Vectorized input` as a {class}`sympy.Expr <sympy.core.expr.Expr>`. Note that the integral indeed does not evaluate when calling {meth}`~sympy.core.basic.Basic.doit`:"
   ]
  },
  {
   "cell_type": "code",
   "execution_count": null,
   "metadata": {},
   "outputs": [
    {
     "data": {
      "text/latex": [
       "$\\displaystyle \\int\\limits_{a}^{b} s_{p} \\left(s + s_{p} + i\\right)\\, ds_{p}$"
      ],
      "text/plain": [
       "Integral(s_p*(s + s_p + I), (s_p, a, b))"
      ]
     },
     "execution_count": null,
     "metadata": {},
     "output_type": "execute_result"
    }
   ],
   "source": [
    "s, s_prime, a, b = sp.symbols(\"s s_p a b\")\n",
    "integral_expr: sp.Expr = UnevaluatableIntegral(\n",
    "    s_prime * (s_prime + s + sp.I),\n",
    "    (s_prime, a, b),\n",
    ")\n",
    "integral_expr.doit()"
   ]
  },
  {
   "cell_type": "markdown",
   "metadata": {},
   "source": [
    "Indeed the expression correctly lambdifies correctly:"
   ]
  },
  {
   "cell_type": "code",
   "execution_count": null,
   "metadata": {},
   "outputs": [
    {
     "name": "stdout",
     "output_type": "stream",
     "text": [
      "def _lambdifygenerated(s, a, b):\n",
      "    return quadpy_quad(lambda s_p: s_p*(s + s_p + 1j), a, b, epsabs=1e-05, epsrel=1e-05, limit=50)[0]\n",
      "\n"
     ]
    }
   ],
   "source": [
    "import inspect\n",
    "\n",
    "integral_func = sp.lambdify([s, a, b], integral_expr)\n",
    "src = inspect.getsource(integral_func)\n",
    "print(src)"
   ]
  },
  {
   "cell_type": "markdown",
   "metadata": {},
   "source": [
    "Note, however, that the lambdified function has to be vectorized before it can handle {obj}`numpy.array`s:"
   ]
  },
  {
   "cell_type": "code",
   "execution_count": null,
   "metadata": {
    "tags": []
   },
   "outputs": [
    {
     "data": {
      "text/plain": [
       "array([0.66666667+2.j, 1.11111111+2.j, 1.55555556+2.j, 2.        +2.j,\n",
       "       2.44444444+2.j, 2.88888889+2.j, 3.33333333+2.j, 3.77777778+2.j,\n",
       "       4.22222222+2.j, 4.66666667+2.j])"
      ]
     },
     "execution_count": null,
     "metadata": {},
     "output_type": "execute_result"
    }
   ],
   "source": [
    "vec_integral_func = np.vectorize(integral_func)\n",
    "vec_integral_func(s_array, a=0.0, b=2.0)"
   ]
  },
  {
   "cell_type": "markdown",
   "metadata": {},
   "source": [
    ":::{tip}\n",
    "\n",
    "For a more complicated and challenging expression, see {ref}`report/003:SymPy expressions` in {doc}`/report/003`.\n",
    "\n",
    ":::"
   ]
  }
 ],
 "metadata": {
  "keep_output": true,
  "kernelspec": {
   "display_name": "Python 3 (ipykernel)",
   "language": "python",
   "name": "python3"
  },
  "language_info": {
   "name": "python",
   "version": "3.8.13"
  }
 },
 "nbformat": 4,
 "nbformat_minor": 4
}
