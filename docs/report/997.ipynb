{
 "cells": [
  {
   "cell_type": "code",
   "execution_count": null,
   "metadata": {
    "hideCode": true,
    "hideOutput": true,
    "hidePrompt": true,
    "jupyter": {
     "source_hidden": true
    },
    "slideshow": {
     "slide_type": "skip"
    },
    "tags": [
     "remove-cell"
    ]
   },
   "outputs": [],
   "source": [
    "import os\n",
    "\n",
    "STATIC_WEB_PAGE = {\"EXECUTE_NB\", \"READTHEDOCS\"}.intersection(os.environ)"
   ]
  },
  {
   "cell_type": "markdown",
   "metadata": {},
   "source": [
    "```{autolink-concat}\n",
    "```"
   ]
  },
  {
   "cell_type": "markdown",
   "metadata": {
    "editable": true,
    "slideshow": {
     "slide_type": ""
    },
    "tags": [
     "physics",
     "sympy",
     "3d"
    ]
   },
   "source": [
    "::::{margin}\n",
    ":::{card} 3D visualization of Riemann sheets\n",
    "TR-997\n",
    "^^^\n",
    "Follow-up to [TR-004](004.ipynb), where we investigate and reproduce the Riemann sheets shown in [Fig.&nbsp;50.1](https://pdg.lbl.gov/2023/reviews/rpp2023-rev-resonances.pdf#page=2) and [50.2](https://pdg.lbl.gov/2023/reviews/rpp2023-rev-resonances.pdf#page=4) of the PDG.\n",
    ":::\n",
    "::::"
   ]
  },
  {
   "cell_type": "markdown",
   "metadata": {
    "editable": true,
    "slideshow": {
     "slide_type": ""
    },
    "tags": []
   },
   "source": [
    "# Riemann sheets for two channels"
   ]
  },
  {
   "cell_type": "code",
   "execution_count": null,
   "metadata": {
    "tags": [
     "remove-cell"
    ]
   },
   "outputs": [],
   "source": [
    "%pip install -q ampform==0.14.8 plotly==5.18.0 sympy==1.12"
   ]
  },
  {
   "cell_type": "code",
   "execution_count": null,
   "metadata": {
    "editable": true,
    "jupyter": {
     "source_hidden": true
    },
    "slideshow": {
     "slide_type": ""
    },
    "tags": [
     "hide-cell"
    ]
   },
   "outputs": [],
   "source": [
    "from __future__ import annotations\n",
    "\n",
    "import warnings\n",
    "from typing import Any\n",
    "\n",
    "import matplotlib.pyplot as plt\n",
    "import numpy as np\n",
    "import sympy as sp\n",
    "from ampform.io import aslatex\n",
    "from ampform.sympy import unevaluated\n",
    "from IPython.display import Math\n",
    "\n",
    "warnings.filterwarnings(\"ignore\")"
   ]
  },
  {
   "cell_type": "markdown",
   "metadata": {},
   "source": [
    "## Phase space factors"
   ]
  },
  {
   "cell_type": "code",
   "execution_count": null,
   "metadata": {
    "editable": true,
    "jupyter": {
     "source_hidden": true
    },
    "slideshow": {
     "slide_type": ""
    },
    "tags": [
     "hide-input"
    ]
   },
   "outputs": [],
   "source": [
    "@unevaluated(real=False)\n",
    "class SignedSqrt(sp.Expr):\n",
    "    z: Any\n",
    "    _latex_repr_ = R\"\\sqrt[+]{{{z}}}\"\n",
    "\n",
    "    def evaluate(self) -> sp.Expr:\n",
    "        z = self.args[0]\n",
    "        return sp.sqrt(abs(z)) * sp.exp(sp.I * PosArg(z) / 2)\n",
    "\n",
    "\n",
    "@unevaluated\n",
    "class PosArg(sp.Expr):\n",
    "    z: Any\n",
    "    _latex_repr_ = R\"\\arg^+\\left({z}\\right)\"\n",
    "\n",
    "    def evaluate(self) -> sp.Expr:\n",
    "        z = self.args[0]\n",
    "        arg = sp.arg(z)\n",
    "        return sp.Piecewise(\n",
    "            (arg - 2 * sp.pi, arg < -2 * sp.pi),\n",
    "            (arg + 2 * sp.pi, arg > 0),\n",
    "            (arg, True),\n",
    "        )\n",
    "\n",
    "\n",
    "z = sp.Symbol(\"z\", complex=True)\n",
    "Math(aslatex({e: e.evaluate() for e in [SignedSqrt(z), PosArg(z)]}))"
   ]
  },
  {
   "cell_type": "code",
   "execution_count": null,
   "metadata": {
    "editable": true,
    "jupyter": {
     "source_hidden": true
    },
    "slideshow": {
     "slide_type": ""
    },
    "tags": [
     "hide-input"
    ]
   },
   "outputs": [],
   "source": [
    "@unevaluated(real=False)\n",
    "class PhaseSpaceFactor(sp.Expr):\n",
    "    s: Any\n",
    "    m1: Any\n",
    "    m2: Any\n",
    "    _latex_repr_ = R\"\\rho^+_{{{m1}, {m2}}}\\left({s}\\right)\"\n",
    "\n",
    "    def evaluate(self) -> sp.Expr:\n",
    "        s, m1, m2 = self.args\n",
    "        return SignedSqrt((s - ((m1 + m2) ** 2)) * (s - (m1 - m2) ** 2) / s**2)\n",
    "\n",
    "\n",
    "s, m1, m2 = sp.symbols(\"s m1 m2\")\n",
    "rho_expr = PhaseSpaceFactor(s, m1, m2)\n",
    "Math(aslatex({rho_expr: rho_expr.doit(deep=False)}))"
   ]
  },
  {
   "cell_type": "markdown",
   "metadata": {
    "editable": true,
    "slideshow": {
     "slide_type": ""
    },
    "tags": []
   },
   "source": [
    "Phase space factor with Chew-Mandelstam for $S$ waves, from [PDG 2023, Section Resonances, p.15](https://pdg.lbl.gov/2023/reviews/rpp2023-rev-resonances.pdf#page=15):"
   ]
  },
  {
   "cell_type": "code",
   "execution_count": null,
   "metadata": {
    "editable": true,
    "jupyter": {
     "source_hidden": true
    },
    "slideshow": {
     "slide_type": ""
    },
    "tags": [
     "hide-input"
    ]
   },
   "outputs": [],
   "source": [
    "@unevaluated(real=False)\n",
    "class PhaseSpaceCM(sp.Expr):\n",
    "    s: Any\n",
    "    m1: Any\n",
    "    m2: Any\n",
    "    _latex_repr_ = R\"\\rho^\\mathrm{{CM}}_{{{m1},{m2}}}\\left({s}\\right)\"\n",
    "\n",
    "    def evaluate(self) -> sp.Expr:\n",
    "        s, m1, m2 = self.args\n",
    "        return -16 * sp.pi * sp.I * ChewMandelstam(s, m1, m2)\n",
    "\n",
    "\n",
    "@unevaluated(real=False)\n",
    "class ChewMandelstam(sp.Expr):\n",
    "    s: Any\n",
    "    m1: Any\n",
    "    m2: Any\n",
    "    _latex_repr_ = R\"\\Sigma\\left({s}\\right)\"\n",
    "\n",
    "    def evaluate(self) -> sp.Expr:\n",
    "        s, m1, m2 = self.args\n",
    "        q = BreakupMomentum(s, m1, m2)\n",
    "        return (\n",
    "            1\n",
    "            / (16 * sp.pi**2)\n",
    "            * (\n",
    "                (2 * q / sp.sqrt(s))\n",
    "                * sp.log((m1**2 + m2**2 - s + 2 * sp.sqrt(s) * q) / (2 * m1 * m2))\n",
    "                - (m1**2 - m2**2) * (1 / s - 1 / (m1 + m2) ** 2) * sp.log(m1 / m2)\n",
    "            )\n",
    "        )\n",
    "\n",
    "\n",
    "@unevaluated(real=False)\n",
    "class BreakupMomentum(sp.Expr):\n",
    "    s: Any\n",
    "    m_a: Any\n",
    "    m_b: Any\n",
    "    _latex_repr_ = R\"q\\left({s}\\right)\"\n",
    "\n",
    "    def evaluate(self) -> sp.Expr:\n",
    "        s, m_a, m_b = self.args\n",
    "        return SignedSqrt((s - (m_a + m_b) ** 2) * (s - (m_a - m_b) ** 2) / (s * 4))\n",
    "\n",
    "\n",
    "rho_cm_expr = PhaseSpaceCM(s, m1, m2)\n",
    "cm_expr = ChewMandelstam(s, m1, m2)\n",
    "q_expr = BreakupMomentum(s, m1, m2)\n",
    "Math(aslatex({e: e.doit(deep=False) for e in [rho_cm_expr, cm_expr, q_expr]}))"
   ]
  },
  {
   "cell_type": "markdown",
   "metadata": {
    "editable": true,
    "slideshow": {
     "slide_type": ""
    },
    "tags": []
   },
   "source": [
    "### Visual comparison"
   ]
  },
  {
   "cell_type": "code",
   "execution_count": null,
   "metadata": {
    "editable": true,
    "jupyter": {
     "source_hidden": true
    },
    "slideshow": {
     "slide_type": ""
    },
    "tags": [
     "hide-input",
     "scroll-input",
     "full-width"
    ]
   },
   "outputs": [],
   "source": [
    "%config InlineBackend.figure_formats = ['svg']\n",
    "symbols = sp.Tuple(s, m1, m2)\n",
    "cm_func = sp.lambdify(symbols, cm_expr.doit())\n",
    "rho_func = sp.lambdify(symbols, rho_expr.doit())\n",
    "\n",
    "x = np.linspace(0, 2, 400)\n",
    "values = {\n",
    "    m1: 0.6,\n",
    "    m2: 0.4,\n",
    "}\n",
    "args = eval(str(symbols[1:].subs(values)))\n",
    "\n",
    "cm_values = 16 * np.pi * cm_func(x, *args)\n",
    "rho_values = 1j * rho_func(x, *args)\n",
    "\n",
    "fig, axes = plt.subplots(figsize=(15, 6), ncols=2, sharex=True, sharey=True)\n",
    "ax1, ax2 = axes\n",
    "for ax in axes:\n",
    "    ax.set_xlabel(R\"$\\mathrm{Re}(s)$\")\n",
    "ax1.set_ylabel(\"Function value\")\n",
    "\n",
    "ax1.plot(x, cm_values.real, label=\"Real part\")\n",
    "ax1.plot(x, cm_values.imag, label=\"Imaginary part\")\n",
    "ax1.set_title(\"Chew Mandelstam Function\")\n",
    "ax1.legend()\n",
    "\n",
    "ax2.plot(x, rho_values.real, label=\"Real part\")\n",
    "ax2.plot(x, rho_values.imag, label=\"Imaginary part\")\n",
    "ax2.set_title(\"Phase Space Factor\")\n",
    "ax2.legend()\n",
    "\n",
    "ax2.set_ylim(-1.2, +1.6)\n",
    "fig.tight_layout()\n",
    "\n",
    "plt.show()"
   ]
  },
  {
   "cell_type": "markdown",
   "metadata": {
    "editable": true,
    "slideshow": {
     "slide_type": ""
    },
    "tags": []
   },
   "source": [
    "## Define parameters values for plotting "
   ]
  },
  {
   "cell_type": "markdown",
   "metadata": {
    "editable": true,
    "slideshow": {
     "slide_type": ""
    },
    "tags": []
   },
   "source": [
    "## T matrix definition with K matrix"
   ]
  },
  {
   "cell_type": "code",
   "execution_count": null,
   "metadata": {
    "editable": true,
    "jupyter": {
     "source_hidden": true
    },
    "slideshow": {
     "slide_type": ""
    },
    "tags": [
     "hide-input"
    ]
   },
   "outputs": [],
   "source": [
    "class RhoMatrix(sp.DiagonalMatrix):\n",
    "    def _latex(self, printer):\n",
    "        return R\"\\rho\"\n",
    "\n",
    "\n",
    "n_channels = 2\n",
    "I = sp.Identity(n_channels)\n",
    "K = sp.MatrixSymbol(\"K\", n_channels, n_channels)\n",
    "rho = RhoMatrix(sp.MatrixSymbol(\"rho\", n_channels, n_channels))\n",
    "Math(aslatex({rho: rho.as_explicit()}))"
   ]
  },
  {
   "cell_type": "code",
   "execution_count": null,
   "metadata": {
    "editable": true,
    "slideshow": {
     "slide_type": ""
    },
    "tags": []
   },
   "outputs": [],
   "source": [
    "T = (I - sp.I * K * rho).inv() * K\n",
    "T"
   ]
  },
  {
   "cell_type": "code",
   "execution_count": null,
   "metadata": {
    "editable": true,
    "slideshow": {
     "slide_type": ""
    },
    "tags": [
     "full-width"
    ]
   },
   "outputs": [],
   "source": [
    "T_explicit = T.as_explicit()\n",
    "T_explicit"
   ]
  },
  {
   "cell_type": "markdown",
   "metadata": {
    "editable": true,
    "slideshow": {
     "slide_type": ""
    },
    "tags": []
   },
   "source": [
    ":::{note}\n",
    "No Blatt-Weisskopf form factors because $L=0$.\n",
    ":::"
   ]
  },
  {
   "cell_type": "code",
   "execution_count": null,
   "metadata": {
    "editable": true,
    "slideshow": {
     "slide_type": ""
    },
    "tags": [
     "hide-input"
    ]
   },
   "outputs": [],
   "source": [
    "s = sp.Symbol(\"s\")\n",
    "ma1 = sp.Symbol(\"m_{a1}\")\n",
    "mb1 = sp.Symbol(\"m_{b1}\")\n",
    "ma2 = sp.Symbol(\"m_{a2}\")\n",
    "mb2 = sp.Symbol(\"m_{b2}\")\n",
    "m0 = sp.Symbol(\"m0\")\n",
    "w0 = sp.Symbol(\"Gamma0\")\n",
    "g1 = sp.Symbol(\"gamma1\")\n",
    "g2 = sp.Symbol(\"gamma2\")\n",
    "\n",
    "k_expr_00 = (g1 * g1 * m0 * w0) / (s - m0**2)\n",
    "k_expr_10 = (g1 * g2 * m0 * w0) / (s - m0**2)\n",
    "k_expr_11 = (g2 * g2 * m0 * w0) / (s - m0**2)"
   ]
  },
  {
   "cell_type": "code",
   "execution_count": null,
   "metadata": {
    "editable": true,
    "slideshow": {
     "slide_type": ""
    },
    "tags": []
   },
   "outputs": [],
   "source": [
    "rho_expressions = {\n",
    "    K[0, 0]: k_expr_00,\n",
    "    K[1, 1]: k_expr_11,\n",
    "    K[0, 1]: k_expr_10,\n",
    "    K[1, 0]: k_expr_10,\n",
    "    rho[0, 0]: PhaseSpaceFactor(s, ma1, mb1),\n",
    "    rho[1, 1]: PhaseSpaceFactor(s, ma2, mb2),\n",
    "}\n",
    "cm_expressions = {\n",
    "    **rho_expressions,\n",
    "    rho[0, 0]: PhaseSpaceCM(s, ma1, mb1),\n",
    "    rho[1, 1]: PhaseSpaceCM(s, ma2, mb2),\n",
    "}\n",
    "Math(aslatex(cm_expressions))"
   ]
  },
  {
   "cell_type": "code",
   "execution_count": null,
   "metadata": {
    "editable": true,
    "jupyter": {
     "source_hidden": true
    },
    "slideshow": {
     "slide_type": ""
    },
    "tags": []
   },
   "outputs": [],
   "source": [
    "cm_conj1_expressions = {\n",
    "    **cm_expressions,\n",
    "    rho[0, 0]: sp.I * 16 * sp.pi * ChewMandelstam(s, ma1, mb1).conjugate(),\n",
    "    rho[1, 1]: sp.I * 16 * sp.pi * ChewMandelstam(s, ma2, mb2),\n",
    "}\n",
    "cm_conj2_expressions = {\n",
    "    **cm_expressions,\n",
    "    rho[0, 0]: sp.I * 16 * sp.pi * ChewMandelstam(s, ma1, mb1),\n",
    "    rho[1, 1]: sp.I * 16 * sp.pi * ChewMandelstam(s, ma2, mb2).conjugate(),\n",
    "}\n",
    "cm_conj_conj_expressions = {\n",
    "    **cm_expressions,\n",
    "    rho[0, 0]: sp.I * 16 * sp.pi * ChewMandelstam(s, ma1, mb1).conjugate(),\n",
    "    rho[1, 1]: sp.I * 16 * sp.pi * ChewMandelstam(s, ma2, mb2).conjugate(),\n",
    "}"
   ]
  },
  {
   "cell_type": "code",
   "execution_count": null,
   "metadata": {
    "editable": true,
    "slideshow": {
     "slide_type": ""
    },
    "tags": []
   },
   "outputs": [],
   "source": [
    "T_cm_expr = T_explicit.xreplace(cm_expressions)\n",
    "T_cm_conj1_expr = T_explicit.xreplace(cm_conj1_expressions)\n",
    "T_cm_conj2_expr = T_explicit.xreplace(cm_conj2_expressions)\n",
    "T_cm_conj_conj_expr = T_explicit.xreplace(cm_conj_conj_expressions)"
   ]
  },
  {
   "cell_type": "code",
   "execution_count": null,
   "metadata": {
    "editable": true,
    "slideshow": {
     "slide_type": ""
    },
    "tags": []
   },
   "outputs": [],
   "source": [
    "T_cm_expr[0, 0].simplify(doit=False)"
   ]
  },
  {
   "cell_type": "markdown",
   "metadata": {
    "editable": true,
    "slideshow": {
     "slide_type": ""
    },
    "tags": []
   },
   "source": [
    "## T Matrix"
   ]
  },
  {
   "cell_type": "code",
   "execution_count": null,
   "metadata": {
    "editable": true,
    "slideshow": {
     "slide_type": ""
    },
    "tags": []
   },
   "outputs": [],
   "source": [
    "symbols = sp.Tuple(s, ma1, mb1, ma2, mb2, m0, w0, g1, g2)\n",
    "T_cm_func_00 = sp.lambdify(symbols, T_cm_expr[0, 0].doit())\n",
    "T_cm_conj1_func_00 = sp.lambdify(symbols, T_cm_conj1_expr[0, 0].doit())\n",
    "T_cm_conj2_func_00 = sp.lambdify(symbols, T_cm_conj2_expr[0, 0].doit())\n",
    "T_cm_conj_conj_func_00 = sp.lambdify(symbols, T_cm_conj_conj_expr[0, 0].doit())"
   ]
  },
  {
   "cell_type": "code",
   "execution_count": null,
   "metadata": {
    "editable": true,
    "slideshow": {
     "slide_type": ""
    },
    "tags": []
   },
   "outputs": [],
   "source": [
    "values = {\n",
    "    ma1: 0.08,\n",
    "    mb1: 0.12,\n",
    "    ma2: 0.25,\n",
    "    mb2: 0.35,\n",
    "    m0: 1.0,\n",
    "    w0: 0.5,\n",
    "    g1: 1,\n",
    "    g2: 1,\n",
    "}\n",
    "args = eval(str(symbols[1:].xreplace(values)))"
   ]
  },
  {
   "cell_type": "code",
   "execution_count": null,
   "metadata": {
    "editable": true,
    "slideshow": {
     "slide_type": ""
    },
    "tags": []
   },
   "outputs": [],
   "source": [
    "epsilon = 1e-5\n",
    "x = np.linspace(0, 4.0, num=400)\n",
    "y = np.linspace(epsilon, 1.0, num=400)\n",
    "X, Y = np.meshgrid(x, y)\n",
    "Zn = X - Y * 1j\n",
    "Zp = X + Y * 1j\n",
    "\n",
    "Tp_cm_00 = T_cm_func_00(Zp, *args)\n",
    "Tn_cm_00 = T_cm_func_00(Zn, *args)\n",
    "\n",
    "Tp_cm_conj1_00 = T_cm_conj1_func_00(Zp, *args)\n",
    "Tn_cm_conj1_00 = T_cm_conj1_func_00(Zn, *args)\n",
    "\n",
    "Tp_cm_conj2_00 = T_cm_conj2_func_00(Zp, *args)\n",
    "Tn_cm_conj2_00 = T_cm_conj2_func_00(Zn, *args)\n",
    "\n",
    "Tp_cm_conj_conj_00 = T_cm_conj_conj_func_00(Zp, *args)\n",
    "Tn_cm_conj_conj_00 = T_cm_conj_conj_func_00(Zn, *args)"
   ]
  },
  {
   "cell_type": "code",
   "execution_count": null,
   "metadata": {
    "editable": true,
    "jupyter": {
     "source_hidden": true
    },
    "slideshow": {
     "slide_type": ""
    },
    "tags": [
     "hide-input"
    ]
   },
   "outputs": [],
   "source": [
    "%config InlineBackend.figure_formats = ['svg']\n",
    "thr1 = ma1 + mb1\n",
    "thr2 = ma2 + mb2\n",
    "fig, ax = plt.subplots()\n",
    "ax.set_xlabel(R\"$m=\\sqrt{s}$\")\n",
    "ax.set_ylabel(R\"$\\mathrm{Im}\\,T$\")\n",
    "ax.plot(\n",
    "    np.sqrt(x),\n",
    "    Tp_cm_00[0].imag,\n",
    "    c=\"red\",\n",
    "    label=\"$T_{00}(s+0i)$\",\n",
    ")\n",
    "ax.plot(\n",
    "    np.sqrt(x),\n",
    "    Tp_cm_conj1_00[0].imag,\n",
    "    c=\"orange\",\n",
    "    label=\"$T_{00}(s+0i)$ conj 1\",\n",
    ")\n",
    "ax.plot(\n",
    "    np.sqrt(x),\n",
    "    Tn_cm_conj2_00[0].imag,\n",
    "    c=\"green\",\n",
    "    ls=\"dotted\",\n",
    "    label=\"$T_{00}(s-0i)$ conj 2\",\n",
    ")\n",
    "ax.plot(\n",
    "    np.sqrt(x),\n",
    "    Tp_cm_conj_conj_00[0].imag,\n",
    "    c=\"blue\",\n",
    "    label=\"$T_{00}(s+0i)$ conj 1,2\",\n",
    ")\n",
    "ax.axvline(m0.subs(values), ls=\"dashed\", c=\"black\", label=f\"${sp.latex(m0)}$\")\n",
    "ax.axvline(thr1.subs(values), ls=\"dotted\", c=\"C1\", label=f\"${sp.latex(thr1)}$\")\n",
    "ax.axvline(thr2.subs(values), ls=\"dotted\", c=\"C2\", label=f\"${sp.latex(thr2)}$\")\n",
    "ax.set_ylim(-0.1, +1.5)\n",
    "ax.legend()\n",
    "fig.tight_layout()\n",
    "plt.show()"
   ]
  },
  {
   "cell_type": "code",
   "execution_count": null,
   "metadata": {
    "editable": true,
    "jupyter": {
     "source_hidden": true
    },
    "slideshow": {
     "slide_type": ""
    },
    "tags": [
     "hide-input",
     "full-width"
    ]
   },
   "outputs": [],
   "source": [
    "%config InlineBackend.figure_formats = ['png']\n",
    "fig, axes = plt.subplots(\n",
    "    ncols=2, nrows=2, figsize=(12, 10), sharex=True, sharey=True\n",
    ")\n",
    "fig.suptitle(\"$\\mathrm{Im}\\,T$\")\n",
    "for ax in axes[1, :]:\n",
    "    ax.set_xlabel(R\"$\\mathrm{Re}\\,s$\")\n",
    "for ax in axes[:, 0]:\n",
    "    ax.set_ylabel(R\"$\\mathrm{Re}\\,S$\")\n",
    "T_max = 1.5\n",
    "kwargs = dict(\n",
    "    cmap=plt.cm.coolwarm,\n",
    "    vmin=-T_max,\n",
    "    vmax=+T_max,\n",
    ")\n",
    "\n",
    "rho1 = PhaseSpaceCM(s, ma1, mb1)\n",
    "rho2 = PhaseSpaceCM(s, ma2, mb2)\n",
    "axes[0, 0].set_title(f\"${sp.latex(rho1)}, {sp.latex(rho2)}$\")\n",
    "axes[0, 0].pcolormesh(X, -Y, Tn_cm_00.imag, **kwargs)\n",
    "axes[0, 0].pcolormesh(X, +Y, Tp_cm_00.imag, **kwargs)\n",
    "axes[0, 1].set_title(f\"${sp.latex(rho1)}, {sp.latex(rho2.conjugate())}$\")\n",
    "axes[0, 1].pcolormesh(X, -Y, Tn_cm_conj1_00.imag, **kwargs)\n",
    "axes[0, 1].pcolormesh(X, +Y, Tp_cm_conj1_00.imag, **kwargs)\n",
    "axes[1, 0].set_title(f\"${sp.latex(rho1.conjugate())}, {sp.latex(rho2)}$\")\n",
    "axes[1, 0].pcolormesh(X, -Y, Tn_cm_conj2_00.imag, **kwargs)\n",
    "axes[1, 0].pcolormesh(X, +Y, Tp_cm_conj2_00.imag, **kwargs)\n",
    "axes[1, 1].set_title(f\"${sp.latex(rho1.conjugate())}, {sp.latex(rho2.conjugate())}$\")\n",
    "axes[1, 1].pcolormesh(X, -Y, Tn_cm_conj_conj_00.imag, **kwargs)\n",
    "axes[1, 1].pcolormesh(X, +Y, Tp_cm_conj_conj_00.imag, **kwargs)\n",
    "\n",
    "for ax in axes.flatten():\n",
    "    ax.axvline(m0.subs(values) ** 2, ls=\"dashed\", c=\"black\")\n",
    "    ax.axvline(thr1.subs(values) ** 2, ls=\"dotted\", c=\"C1\")\n",
    "    ax.axvline(thr2.subs(values) ** 2, ls=\"dotted\", c=\"C2\")\n",
    "\n",
    "fig.tight_layout()\n",
    "plt.show()"
   ]
  }
 ],
 "metadata": {
  "colab": {
   "toc_visible": true
  },
  "kernelspec": {
   "display_name": "Python 3 (ipykernel)",
   "language": "python",
   "name": "python3"
  },
  "language_info": {
   "codemirror_mode": {
    "name": "ipython",
    "version": 3
   },
   "file_extension": ".py",
   "mimetype": "text/x-python",
   "name": "python",
   "nbconvert_exporter": "python",
   "pygments_lexer": "ipython3",
   "version": "3.8.18"
  }
 },
 "nbformat": 4,
 "nbformat_minor": 4
}
