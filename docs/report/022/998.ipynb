{
 "cells": [
  {
   "cell_type": "code",
   "execution_count": null,
   "metadata": {
    "hideCode": true,
    "hideOutput": true,
    "hidePrompt": true,
    "jupyter": {
     "source_hidden": true
    },
    "slideshow": {
     "slide_type": "skip"
    },
    "tags": [
     "remove-cell"
    ]
   },
   "outputs": [],
   "source": [
    "%config InlineBackend.figure_formats = ['svg']\n",
    "import os\n",
    "\n",
    "STATIC_WEB_PAGE = {\"EXECUTE_NB\", \"READTHEDOCS\"}.intersection(os.environ)"
   ]
  },
  {
   "cell_type": "markdown",
   "metadata": {},
   "source": [
    "```{autolink-concat}\n",
    "```"
   ]
  },
  {
   "cell_type": "markdown",
   "metadata": {},
   "source": [
    "# Riemann sheets for two channels"
   ]
  },
  {
   "cell_type": "code",
   "execution_count": null,
   "metadata": {
    "tags": [
     "remove-cell"
    ]
   },
   "outputs": [],
   "source": [
    "%pip install -q ampform==0.14.6 plotly==5.17.0 sympy==1.12"
   ]
  },
  {
   "cell_type": "code",
   "execution_count": null,
   "metadata": {},
   "outputs": [],
   "source": [
    "from __future__ import annotations\n",
    "\n",
    "import warnings\n",
    "\n",
    "import matplotlib.pyplot as plt\n",
    "import numpy as np\n",
    "import plotly.graph_objects as go\n",
    "import sympy as sp\n",
    "from ampform.io import aslatex\n",
    "from ampform.sympy import UnevaluatedExpression, implement_doit_method\n",
    "from ampform.sympy.math import create_expression\n",
    "from IPython.display import Math\n",
    "\n",
    "warnings.filterwarnings(\"ignore\")"
   ]
  },
  {
   "cell_type": "markdown",
   "metadata": {},
   "source": [
    "## Squareroot definition \n",
    "See report on Riemann sheets for one channel case [Link]"
   ]
  },
  {
   "cell_type": "code",
   "execution_count": null,
   "metadata": {},
   "outputs": [],
   "source": [
    "@implement_doit_method\n",
    "class SignedSqrt(UnevaluatedExpression):\n",
    "    is_commutative = True\n",
    "    is_real = False\n",
    "\n",
    "    def __new__(cls, z, **hints) -> SignedSqrt:\n",
    "        return create_expression(cls, z, **hints)\n",
    "\n",
    "    def evaluate(self) -> sp.Expr:\n",
    "        z = self.args[0]\n",
    "        return sp.sqrt(abs(z)) * sp.exp(sp.I * PosArg(z) / 2)\n",
    "\n",
    "    def _latex(self, printer, *args) -> str:\n",
    "        z = printer._print(self.args[0])\n",
    "        return Rf\"\\sqrt[+]{{{z}}}\"\n",
    "\n",
    "\n",
    "@implement_doit_method\n",
    "class PosArg(UnevaluatedExpression):\n",
    "    is_commutative = True\n",
    "\n",
    "    def __new__(cls, z, **hints) -> SignedSqrt:\n",
    "        return create_expression(cls, z, **hints)\n",
    "\n",
    "    def evaluate(self) -> sp.Expr:\n",
    "        z = self.args[0]\n",
    "        arg = sp.arg(z)\n",
    "        return sp.Piecewise(\n",
    "            (arg + 2 * sp.pi, arg < -2 * sp.pi),\n",
    "            (arg - 2 * sp.pi, arg > 0),\n",
    "            (arg, True),\n",
    "        )\n",
    "\n",
    "    def _latex(self, printer, *args) -> str:\n",
    "        z = printer._print(self.args[0])\n",
    "        return Rf\"\\arg^+\\left({z}\\right)\"\n",
    "\n",
    "\n",
    "z = sp.Symbol(\"z\", complex=True)\n",
    "Math(aslatex({e: e.evaluate() for e in [SignedSqrt(z), PosArg(z)]}))"
   ]
  },
  {
   "cell_type": "code",
   "execution_count": null,
   "metadata": {},
   "outputs": [],
   "source": [
    "@implement_doit_method\n",
    "class PhaseSpaceFactor(UnevaluatedExpression):\n",
    "    is_commutative = True\n",
    "    is_real = False\n",
    "\n",
    "    def __new__(cls, s, m1, m2, **hints) -> PhspFactor:\n",
    "        return create_expression(cls, s, m1, m2, *hints)\n",
    "\n",
    "    def evaluate(self) -> sp.Expr:\n",
    "        s, m1, m2 = self.args\n",
    "        return SignedSqrt((s - ((m1 + m2) ** 2)) * (s - (m1 - m2) ** 2) / s**2)\n",
    "\n",
    "    def _latex(self, printer: LatexPrinter, *args) -> str:\n",
    "        s = printer._print(self.args[0])\n",
    "        return Rf\"\\rho^+\\left({s}\\right)\"\n",
    "        return Rf\"\\rho^+\\left({s}\\right)\"\n",
    "        return Rf\"\\rho^+\\left({s}\\right)\"\n",
    "        return Rf\"\\rho^+\\left({s}\\right)\"\n",
    "        return Rf\"\\rho^+\\left({s}\\right)\"\n",
    "\n",
    "\n",
    "s, m_a, m_b = sp.symbols(\"s m_a m_b\")\n",
    "rho_expr = PhaseSpaceFactor(s, m_a, m_b)\n",
    "Math(aslatex({rho_expr: rho_expr.doit(deep=False)}))"
   ]
  },
  {
   "cell_type": "code",
   "execution_count": null,
   "metadata": {
    "editable": true,
    "slideshow": {
     "slide_type": ""
    },
    "tags": [
     "hide-input"
    ]
   },
   "outputs": [],
   "source": [
    "@implement_doit_method\n",
    "class BreakupMomentum(UnevaluatedExpression):\n",
    "    is_commutative = True\n",
    "    is_real = False\n",
    "\n",
    "    def __new__(cls, s, m_a, m_b, **hints) -> PhspFactor:\n",
    "        return create_expression(cls, s, m_a, m_b, **hints)\n",
    "\n",
    "    def evaluate(self) -> sp.Expr:\n",
    "        s, m_a, m_b = self.args\n",
    "        return SignedSqrt((s - (m_a + m_b) ** 2) * (s - (m_a - m_b) ** 2) / (s * 4))\n",
    "\n",
    "    def _latex(self, printer: LatexPrinter, *args) -> str:\n",
    "        s = printer._print(self.args[0])\n",
    "        return Rf\"q^+\\left({s}\\right)\"\n",
    "\n",
    "\n",
    "breakup_momentum = BreakupMomentum(s, m_a, m_b)\n",
    "Math(aslatex({breakup_momentum: breakup_momentum.doit(deep=False)}))"
   ]
  },
  {
   "cell_type": "code",
   "execution_count": null,
   "metadata": {
    "editable": true,
    "slideshow": {
     "slide_type": ""
    },
    "tags": [
     "hide-input"
    ]
   },
   "outputs": [],
   "source": [
    "@implement_doit_method\n",
    "class ChewMandelstamm(UnevaluatedExpression):\n",
    "    is_commutative = True\n",
    "    is_real = False\n",
    "\n",
    "    def __new__(cls, s, m1, m2, **hints) -> PhspFactor:\n",
    "        return create_expression(cls, s, m1, m2, *hints)\n",
    "\n",
    "    def evaluate(self) -> sp.Expr:\n",
    "        s, m1, m2 = self.args\n",
    "        q_break = BreakupMomentum(s, m1, m2)\n",
    "        return (\n",
    "            1\n",
    "            / (16 * (sp.pi) ** 2)\n",
    "            * (\n",
    "                (2 * q_break / sp.sqrt(s))\n",
    "                * sp.log(\n",
    "                    (m1**2 + m2**2 - s + 2 * sp.sqrt(s) * q_break) / (2 * m1 * m2)\n",
    "                )\n",
    "                - (m1**2 - m2**2) * (1 / s - 1 / (m1 + m2) ** 2) * sp.log(m1 / m2)\n",
    "            )\n",
    "        )\n",
    "\n",
    "    def _latex(self, printer: LatexPrinter, *args) -> str:\n",
    "        s = printer._print(self.args[0])\n",
    "        m1 = printer._print(self.args[1])\n",
    "        m2 = printer._print(self.args[2])\n",
    "        return Rf\"\\rho^\\text{{CM}}\\left({s},{m1},{m2}\\right)\"\n",
    "\n",
    "\n",
    "cm_expr = ChewMandelstamm(s, m_a, m_b)\n",
    "Math(aslatex({cm_expr: cm_expr.doit(deep=False)}))"
   ]
  },
  {
   "cell_type": "markdown",
   "metadata": {
    "editable": true,
    "slideshow": {
     "slide_type": ""
    },
    "tags": []
   },
   "source": [
    "### Visual comparison"
   ]
  },
  {
   "cell_type": "code",
   "execution_count": null,
   "metadata": {
    "editable": true,
    "slideshow": {
     "slide_type": ""
    },
    "tags": [
     "hide-input",
     "scroll-input",
     "full-width"
    ]
   },
   "outputs": [],
   "source": [
    "args = (s, m_a, m_b)\n",
    "cm_func = sp.lambdify(args, cm_expr.doit())\n",
    "rho_func = sp.lambdify(args, rho_expr.doit())\n",
    "\n",
    "s_values = np.linspace(0, 2, 400)\n",
    "m1_val = 0.6\n",
    "m2_val = 0.4\n",
    "arg_vals = (m1_val, m2_val)\n",
    "\n",
    "cm_values = 16 * np.pi * cm_func(s_values, *arg_vals)\n",
    "rho_values = 1j * rho_func(s_values, *arg_vals)\n",
    "\n",
    "fig, axes = plt.subplots(figsize=(15, 6), ncols=2, sharex=True, sharey=True)\n",
    "ax1, ax2 = axes\n",
    "ax1.plot(s_values, cm_values.real, label=\"Real part\")\n",
    "ax1.plot(s_values, cm_values.imag, label=\"Imaginary part\")\n",
    "ax1.set_xlabel(\"Re(s)\")\n",
    "ax1.set_ylabel(\"Function value\")\n",
    "ax1.set_title(\"Chew Mandelstamm Function\")\n",
    "ax1.legend()\n",
    "\n",
    "ax2.plot(s_values, rho_values.real, label=\"Real part\")\n",
    "ax2.plot(s_values, rho_values.imag, label=\"Imaginary part\")\n",
    "ax2.set_xlabel(\"Re(s)\")\n",
    "ax2.set_title(\"Phase Space Factor\")\n",
    "ax2.legend()\n",
    "\n",
    "\n",
    "ax2.set_ylim(-1.2, +1.6)\n",
    "plt.tight_layout()\n",
    "\n",
    "plt.show()"
   ]
  },
  {
   "cell_type": "markdown",
   "metadata": {
    "editable": true,
    "slideshow": {
     "slide_type": ""
    },
    "tags": []
   },
   "source": [
    "## Define parameters values for plotting "
   ]
  },
  {
   "cell_type": "markdown",
   "metadata": {
    "editable": true,
    "slideshow": {
     "slide_type": ""
    },
    "tags": []
   },
   "source": [
    "## T matrix definition with K matrix"
   ]
  },
  {
   "cell_type": "code",
   "execution_count": null,
   "metadata": {
    "editable": true,
    "slideshow": {
     "slide_type": ""
    },
    "tags": []
   },
   "outputs": [],
   "source": [
    "n_channels = 2\n",
    "I = sp.Identity(n_channels)\n",
    "K = sp.MatrixSymbol(\"K\", n_channels, n_channels)\n",
    "rho_symbol = sp.MatrixSymbol(\"rho\", n_channels, n_channels)\n",
    "rho = sp.DiagonalMatrix(rho_symbol)\n",
    "rho.as_explicit()"
   ]
  },
  {
   "cell_type": "code",
   "execution_count": null,
   "metadata": {},
   "outputs": [],
   "source": [
    "T = (I - sp.I * K * rho).inv() * K\n",
    "T"
   ]
  },
  {
   "cell_type": "code",
   "execution_count": null,
   "metadata": {},
   "outputs": [],
   "source": [
    "T_explicit = T.as_explicit()\n",
    "T_explicit"
   ]
  },
  {
   "cell_type": "markdown",
   "metadata": {
    "editable": true,
    "slideshow": {
     "slide_type": ""
    },
    "tags": []
   },
   "source": [
    "No Blatt-Weisskopf-Formfactors because $L=0$:"
   ]
  },
  {
   "cell_type": "code",
   "execution_count": null,
   "metadata": {
    "editable": true,
    "slideshow": {
     "slide_type": ""
    },
    "tags": []
   },
   "outputs": [],
   "source": [
    "s = sp.Symbol(\"s\")\n",
    "m_a_1 = sp.Symbol(R\"m_{a,1}\")\n",
    "m_b_1 = sp.Symbol(R\"m_{b,1}\")\n",
    "m_a_2 = sp.Symbol(R\"m_{a,2}\")\n",
    "m_b_2 = sp.Symbol(R\"m_{b,2}\")\n",
    "w_R = sp.Symbol(R\"\\Gamma_{R}\")\n",
    "gamma_R_1 = sp.Symbol(R\"\\gamma_{R,1}\")\n",
    "gamma_R_2 = sp.Symbol(R\"\\gamma_{R,2}\")\n",
    "m_R = sp.Symbol(R\"m_R\")\n",
    "\n",
    "k_expr_00 = (gamma_R_1 * gamma_R_1 * m_R * w_R) / (s - m_R**2)\n",
    "k_expr_10 = (gamma_R_1 * gamma_R_2 * m_R * w_R) / (s - m_R**2)\n",
    "k_expr_11 = (gamma_R_2 * gamma_R_2 * m_R * w_R) / (s - m_R**2)"
   ]
  },
  {
   "cell_type": "code",
   "execution_count": null,
   "metadata": {
    "editable": true,
    "slideshow": {
     "slide_type": ""
    },
    "tags": []
   },
   "outputs": [],
   "source": [
    "rho_expressions = {\n",
    "    K[0, 0]: k_expr_00,\n",
    "    K[1, 1]: k_expr_11,\n",
    "    K[0, 1]: k_expr_10,\n",
    "    K[1, 0]: k_expr_10,\n",
    "    rho[0, 0]: PhaseSpaceFactor(s, m_a_1, m_b_1),\n",
    "    rho[1, 1]: PhaseSpaceFactor(s, m_a_2, m_b_2),\n",
    "}\n",
    "Math(aslatex(rho_expressions))"
   ]
  },
  {
   "cell_type": "code",
   "execution_count": null,
   "metadata": {
    "editable": true,
    "slideshow": {
     "slide_type": ""
    },
    "tags": []
   },
   "outputs": [],
   "source": [
    "cm_expressions = {\n",
    "    K[0, 0]: k_expr_00,\n",
    "    K[1, 1]: k_expr_11,\n",
    "    K[0, 1]: k_expr_10,\n",
    "    K[1, 0]: k_expr_10,\n",
    "    rho[0, 0]: -sp.I * 16 * sp.pi * ChewMandelstamm(s, m_a_1, m_b_1),\n",
    "    rho[1, 1]: -sp.I * 16 * sp.pi * ChewMandelstamm(s, m_a_2, m_b_2),\n",
    "}\n",
    "Math(aslatex(cm_expressions))"
   ]
  },
  {
   "cell_type": "code",
   "execution_count": null,
   "metadata": {
    "editable": true,
    "slideshow": {
     "slide_type": ""
    },
    "tags": []
   },
   "outputs": [],
   "source": [
    "cm_conj_expressions = {\n",
    "    K[0, 0]: k_expr_00,\n",
    "    K[1, 1]: k_expr_11,\n",
    "    K[0, 1]: k_expr_10,\n",
    "    K[1, 0]: k_expr_10,\n",
    "    rho[0, 0]: -sp.I * 16 * sp.pi * ChewMandelstamm(s, m_a_1, m_b_1).conjugate(),\n",
    "    rho[1, 1]: -sp.I * 16 * sp.pi * ChewMandelstamm(s, m_a_2, m_b_2).conjugate(),\n",
    "}\n",
    "Math(aslatex(cm_conj_expressions))"
   ]
  },
  {
   "cell_type": "code",
   "execution_count": null,
   "metadata": {},
   "outputs": [],
   "source": []
  },
  {
   "cell_type": "code",
   "execution_count": null,
   "metadata": {
    "editable": true,
    "slideshow": {
     "slide_type": ""
    },
    "tags": [
     "hide-input"
    ]
   },
   "outputs": [],
   "source": [
    "T_rho_expr_00 = T_explicit[0, 0].xreplace(rho_expressions)\n",
    "T_cm_expr_00 = T_explicit[0, 0].xreplace(cm_expressions)\n",
    "T_cm_conj_expr_00 = T_explicit[0, 0].xreplace(cm_conj_expressions)\n",
    "\n",
    "T_rho_expr_11 = T_explicit[1, 1].xreplace(rho_expressions)\n",
    "T_cm_expr_11 = T_explicit[1, 1].xreplace(cm_expressions)\n",
    "T_cm_conj_expr_11 = T_explicit[1, 1].xreplace(cm_conj_expressions)"
   ]
  },
  {
   "cell_type": "code",
   "execution_count": null,
   "metadata": {
    "editable": true,
    "slideshow": {
     "slide_type": ""
    },
    "tags": []
   },
   "outputs": [],
   "source": [
    "T_cm_expr_00.simplify(doit=False)"
   ]
  },
  {
   "cell_type": "code",
   "execution_count": null,
   "metadata": {},
   "outputs": [],
   "source": [
    "T_cm_expr_11.simplify(doit=False)"
   ]
  },
  {
   "cell_type": "markdown",
   "metadata": {},
   "source": [
    "## Riemann sheet visualization"
   ]
  },
  {
   "cell_type": "code",
   "execution_count": null,
   "metadata": {},
   "outputs": [],
   "source": [
    "args = (s, m_a_1, m_b_1, m_a_2, m_b_2, m_R, w_R, gamma_R_1, gamma_R_2)\n",
    "T_cm_func_00 = sp.lambdify(args, T_cm_expr_00.doit())\n",
    "T_cm_conj_func_00 = sp.lambdify(args, T_cm_conj_expr_00.doit())\n",
    "T_cm_func_11 = sp.lambdify(args, T_cm_expr_11.doit())\n",
    "T_cm_conj_func_11 = sp.lambdify(args, T_cm_conj_expr_11.doit())"
   ]
  },
  {
   "cell_type": "code",
   "execution_count": null,
   "metadata": {},
   "outputs": [],
   "source": [
    "epsilon = 1e-5\n",
    "x = np.linspace(0, 6, num=200)\n",
    "y = np.linspace(epsilon, 1.5, num=100)\n",
    "X, Yn = np.meshgrid(x, +y)\n",
    "_, Yp = np.meshgrid(x, -y)\n",
    "Zn = X + Yn * 1j\n",
    "Zp = X + Yp * 1j\n",
    "\n",
    "ma_1__val = 0.4\n",
    "mb_1_val = 0.5\n",
    "mR_val = 4.1\n",
    "wR_val = 1.0\n",
    "gamma_1_val = 0.5\n",
    "ma_2_val = 0.9\n",
    "mb_2_val = 0.8\n",
    "gamma_2_val = 1\n",
    "arg_vals = (\n",
    "    ma_1_val,\n",
    "    mb_1_val,\n",
    "    ma_2_val,\n",
    "    mb_2_val,\n",
    "    mR_val,\n",
    "    wR_val,\n",
    "    gamma_1_val,\n",
    "    gamma_2_val,\n",
    ")\n",
    "\n",
    "\n",
    "Tp_cm_00 = T_cm_func_00(Zp**2, *arg_vals)\n",
    "Tn_cm_00 = T_cm_func_00(Zn**2, *arg_vals)\n",
    "\n",
    "Tp_cm_conj_00 = T_cm_conj_func_00(Zp**2, *arg_vals)\n",
    "Tn_cm_conj_00 = T_cm_conj_func_00(Zn**2, *arg_vals)\n",
    "\n",
    "Tp_cm_11 = T_cm_func_11(Zp**2, *arg_vals)\n",
    "Tn_cm_11 = T_cm_func_11(Zn**2, *arg_vals)\n",
    "\n",
    "Tp_cm_conj_11 = T_cm_conj_func_11(Zp**2, *arg_vals)\n",
    "Tn_cm_conj_11 = T_cm_conj_func_11(Zn**2, *arg_vals)"
   ]
  },
  {
   "cell_type": "code",
   "execution_count": null,
   "metadata": {},
   "outputs": [],
   "source": [
    "fig, axes = plt.subplots(figsize=(15, 6), ncols=2, sharey=True)\n",
    "ax1, ax2 = axes\n",
    "\n",
    "ax1.plot(x, Tp_cm_00[0].imag)\n",
    "ax1.plot(x, Tn_cm_conj_00[0].imag)\n",
    "ax1.set_xlabel(\"Re(s)\")\n",
    "ax1.set_ylabel(\"Function Value\")\n",
    "ax1.set_title(\"T Matrix element 00 with Chew Mandelstamm Function\")\n",
    "\n",
    "ax2.plot(x, Tp_cm_11[0].imag)\n",
    "ax2.plot(x, Tn_cm_conj_11[0].imag)\n",
    "ax2.set_xlabel(\"Re(s)\")\n",
    "ax2.set_ylabel(\"Function Value\")\n",
    "ax2.set_title(\"T matrix element 11 with Chew Mandelstamm Function\")\n",
    "plt.tight_layout()\n",
    "plt.show()"
   ]
  },
  {
   "cell_type": "code",
   "execution_count": null,
   "metadata": {},
   "outputs": [],
   "source": [
    "def sty(sheet_name: str) -> dict:\n",
    "    sheet_color = sheet_colors[sheet_name]\n",
    "    n_lines = 16\n",
    "    return dict(\n",
    "        cmin=-vmax,\n",
    "        cmax=+vmax,\n",
    "        colorscale=[[0, \"rgb(0, 0, 0)\"], [1, sheet_color]],\n",
    "        contours=dict(\n",
    "            x=dict(\n",
    "                show=True,\n",
    "                start=x.min(),\n",
    "                end=x.max(),\n",
    "                size=(x.max() - x.min()) / n_lines,\n",
    "                color=\"black\",\n",
    "            ),\n",
    "            y=dict(\n",
    "                show=True,\n",
    "                start=-y.max(),\n",
    "                end=+y.max(),\n",
    "                size=(y.max() - y.min()) / (n_lines // 2),\n",
    "                color=\"black\",\n",
    "            ),\n",
    "        ),\n",
    "        name=sheet_name,\n",
    "        opacity=0.6,\n",
    "        showscale=False,\n",
    "    )\n",
    "\n",
    "\n",
    "vmax = 1.6\n",
    "project = np.imag\n",
    "projection_text = \"Imaginary\"\n",
    "sheet_colors = {\n",
    "    \"Unphysical 00\": \"blue\",\n",
    "    \"Physical 01\": \"red\",\n",
    "    \"Unphysical 10\": \"green\",\n",
    "    \"Physical 11\": \"yellow\",\n",
    "}"
   ]
  },
  {
   "cell_type": "code",
   "execution_count": null,
   "metadata": {},
   "outputs": [],
   "source": [
    "import plotly.graph_objects as go\n",
    "from plotly.subplots import make_subplots\n",
    "\n",
    "Sn_cm_00 = go.Surface(x=X, y=Yn, z=project(Tn_cm_00), **sty(\"Unphysical 00\"))\n",
    "Sp_cm_00 = go.Surface(x=X, y=Yp, z=project(Tp_cm_00), **sty(\"Unphysical 00\"))\n",
    "\n",
    "Sn_cm_conj_00 = go.Surface(x=X, y=Yn, z=project(Tn_cm_conj_00), **sty(\"Physical 01\"))\n",
    "Sp_cm_conj_00 = go.Surface(x=X, y=Yp, z=project(Tp_cm_conj_00), **sty(\"Physical 01\"))\n",
    "\n",
    "intersection_points = []\n",
    "for i in range(len(x)):\n",
    "    intersection_points.append((x[i], 0, project(Tn_cm_00[0])[i]))\n",
    "\n",
    "intersection_points = np.array(intersection_points)\n",
    "intersection_line = go.Scatter3d(\n",
    "    x=intersection_points[:, 0],\n",
    "    y=intersection_points[:, 1],\n",
    "    z=intersection_points[:, 2],\n",
    "    mode=\"lines+markers\",\n",
    "    line=dict(color=\"yellow\", width=20),\n",
    "    marker=dict(size=1, color=\"pink\"),\n",
    "    name=\"Intersection Line\",\n",
    ")\n",
    "\n",
    "fig0 = make_subplots(\n",
    "    rows=1,\n",
    "    cols=3,\n",
    "    specs=[[{\"type\": \"surface\"}, {\"type\": \"surface\"}, {\"type\": \"scatter3d\"}]],\n",
    ")\n",
    "\n",
    "fig0.add_trace(Sn_cm_00, row=1, col=1)\n",
    "fig0.add_trace(Sp_cm_00, row=1, col=1)\n",
    "\n",
    "fig0.add_trace(Sn_cm_conj_00, row=1, col=3)\n",
    "fig0.add_trace(Sp_cm_conj_00, row=1, col=3)\n",
    "\n",
    "fig0.add_trace(Sn_cm_00, row=1, col=2)\n",
    "fig0.add_trace(Sp_cm_conj_00, row=1, col=2)\n",
    "\n",
    "\n",
    "fig0.add_trace(intersection_line, row=1, col=2)\n",
    "\n",
    "fig0.update_layout(\n",
    "    height=550,\n",
    "    width=1200,\n",
    "    showlegend=False,\n",
    "    title_text=f\"{projection_text} part of T matrix element 00 with Chew-Mandelstam\",\n",
    ")\n",
    "fig0.update_scenes(\n",
    "    xaxis_title_text=\"Re s\",\n",
    "    yaxis_title_text=\"Im s\",\n",
    "    zaxis_range=[-vmax, +vmax],\n",
    ")\n",
    "\n",
    "############################################################################################################\n",
    "\n",
    "Sn_cm_11 = go.Surface(x=X, y=Yn, z=project(Tn_cm_11), **sty(\"Unphysical 10\"))\n",
    "Sp_cm_11 = go.Surface(x=X, y=Yp, z=project(Tp_cm_11), **sty(\"Unphysical 10\"))\n",
    "\n",
    "Sn_cm_conj_11 = go.Surface(x=X, y=Yn, z=project(Tn_cm_conj_11), **sty(\"Physical 11\"))\n",
    "Sp_cm_conj_11 = go.Surface(x=X, y=Yp, z=project(Tp_cm_conj_11), **sty(\"Physical 11\"))\n",
    "\n",
    "intersection_points = []\n",
    "for i in range(len(x)):\n",
    "    intersection_points.append((x[i], 0, project(Tn_cm_11[0])[i]))\n",
    "\n",
    "intersection_points = np.array(intersection_points)\n",
    "intersection_line = go.Scatter3d(\n",
    "    x=intersection_points[:, 0],\n",
    "    y=intersection_points[:, 1],\n",
    "    z=intersection_points[:, 2],\n",
    "    mode=\"lines+markers\",\n",
    "    line=dict(color=\"yellow\", width=20),\n",
    "    marker=dict(size=1, color=\"pink\"),\n",
    "    name=\"Intersection Line\",\n",
    ")\n",
    "\n",
    "fig1 = make_subplots(\n",
    "    rows=1,\n",
    "    cols=3,\n",
    "    specs=[[{\"type\": \"surface\"}, {\"type\": \"surface\"}, {\"type\": \"scatter3d\"}]],\n",
    ")\n",
    "\n",
    "fig1.add_trace(Sn_cm_11, row=1, col=1)\n",
    "fig1.add_trace(Sp_cm_11, row=1, col=1)\n",
    "\n",
    "fig1.add_trace(Sn_cm_conj_11, row=1, col=3)\n",
    "fig1.add_trace(Sp_cm_conj_11, row=1, col=3)\n",
    "\n",
    "fig1.add_trace(Sn_cm_11, row=1, col=2)\n",
    "fig1.add_trace(Sp_cm_conj_11, row=1, col=2)\n",
    "\n",
    "\n",
    "fig1.add_trace(intersection_line, row=1, col=2)\n",
    "\n",
    "fig1.update_layout(\n",
    "    height=550,\n",
    "    width=1200,\n",
    "    showlegend=False,\n",
    "    title_text=f\"{projection_text} part of T matrix element 11 with Chew-Mandelstam\",\n",
    ")\n",
    "fig1.update_scenes(\n",
    "    xaxis_title_text=\"Re s\",\n",
    "    yaxis_title_text=\"Im s\",\n",
    "    zaxis_range=[-vmax, +vmax],\n",
    ")\n",
    "fig0.show()\n",
    "fig1.show()"
   ]
  },
  {
   "cell_type": "code",
   "execution_count": null,
   "metadata": {},
   "outputs": [],
   "source": []
  },
  {
   "cell_type": "code",
   "execution_count": null,
   "metadata": {},
   "outputs": [],
   "source": []
  },
  {
   "cell_type": "code",
   "execution_count": null,
   "metadata": {},
   "outputs": [],
   "source": []
  },
  {
   "cell_type": "code",
   "execution_count": null,
   "metadata": {},
   "outputs": [],
   "source": []
  }
 ],
 "metadata": {
  "colab": {
   "toc_visible": true
  },
  "kernelspec": {
   "display_name": "Python 3 (ipykernel)",
   "language": "python",
   "name": "python3"
  },
  "language_info": {
   "codemirror_mode": {
    "name": "ipython",
    "version": 3
   },
   "file_extension": ".py",
   "mimetype": "text/x-python",
   "name": "python",
   "nbconvert_exporter": "python",
   "pygments_lexer": "ipython3",
   "version": "3.11.6"
  }
 },
 "nbformat": 4,
 "nbformat_minor": 4
}
