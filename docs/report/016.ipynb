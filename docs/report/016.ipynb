{
 "cells": [
  {
   "cell_type": "code",
   "execution_count": null,
   "metadata": {
    "hideCode": true,
    "hideOutput": true,
    "hidePrompt": true,
    "jupyter": {
     "source_hidden": true
    },
    "slideshow": {
     "slide_type": "skip"
    },
    "tags": [
     "remove-cell"
    ]
   },
   "outputs": [],
   "source": [
    "import os\n",
    "\n",
    "STATIC_WEB_PAGE = {\"EXECUTE_NB\", \"READTHEDOCS\"}.intersection(os.environ)"
   ]
  },
  {
   "cell_type": "markdown",
   "metadata": {},
   "source": [
    "```{autolink-concat}\n",
    "```"
   ]
  },
  {
   "cell_type": "markdown",
   "metadata": {
    "tags": [
     "sympy"
    ]
   },
   "source": [
    "::::{margin}\n",
    ":::{card} Complex integral\n",
    "TR-016\n",
    "^^^\n",
    "As noted in [TR-003](./003.ipynb), {func}`scipy.integrate.quad` cannot handle complex integrals. In addition, one can get into trouble with vectorized input ({obj}`numpy.array`s) on a lambdified {class}`sympy.Integral <sympy.integrals.integrals.Integral>`. This report discusses both problems and proposes some solutions.\n",
    "+++\n",
    "To be implemented\n",
    ":::\n",
    "::::"
   ]
  },
  {
   "cell_type": "markdown",
   "metadata": {},
   "source": [
    "# Complex integral"
   ]
  },
  {
   "cell_type": "markdown",
   "metadata": {},
   "source": [
    "<!-- cspell:ignore ndim orthopy -->\n",
    "<!-- cspell:ignore epsabs ename epsrel evalue infbounds kronrod limlst maxp1 pycode retval subintervals wvar wopts -->\n",
    "<!-- cspell:ignoreRegExp m(_qagie|_qagse|args|def|else|epsabs|epsrel|full|func|integrand|integrate|limit|linspace|max|min|not|parametrized|partial|points|quad|return) -->"
   ]
  },
  {
   "cell_type": "code",
   "execution_count": null,
   "metadata": {
    "tags": [
     "remove-cell"
    ]
   },
   "outputs": [],
   "source": [
    "%pip install -q ndim==0.1.7 quadpy==0.16.15 scipy==1.8.0 sympy==1.10.1 x21==0.2.16"
   ]
  },
  {
   "cell_type": "markdown",
   "metadata": {},
   "source": [
    "## Complex integration"
   ]
  },
  {
   "cell_type": "markdown",
   "metadata": {},
   "source": [
    "SciPy cannot integrate complex functions:"
   ]
  },
  {
   "cell_type": "code",
   "execution_count": null,
   "metadata": {
    "tags": [
     "raises-exception"
    ]
   },
   "outputs": [],
   "source": [
    "from scipy.integrate import quad\n",
    "\n",
    "\n",
    "def integrand(x):\n",
    "    return x * (x + 1j)\n",
    "\n",
    "\n",
    "quad(integrand, 0.0, 2.0)"
   ]
  },
  {
   "cell_type": "markdown",
   "metadata": {},
   "source": [
    "### Split real and imaginary integral"
   ]
  },
  {
   "cell_type": "markdown",
   "metadata": {},
   "source": [
    "A [proposed solution](https://stackoverflow.com/a/5966088) is to wrap the {func}`~scipy.integrate.quad` function in a special integrate function that integrates the real and imaginary part of a function separately:"
   ]
  },
  {
   "cell_type": "code",
   "execution_count": null,
   "metadata": {},
   "outputs": [],
   "source": [
    "import numpy as np\n",
    "\n",
    "\n",
    "def complex_integrate(func, a, b, **quad_kwargs):\n",
    "    def real_func(x):\n",
    "        return np.real(func(x))\n",
    "\n",
    "    def imag_func(x):\n",
    "        return np.imag(func(x))\n",
    "\n",
    "    real_integral, real_integral_err = quad(real_func, a, b, **quad_kwargs)\n",
    "    imag_integral, imag_integral_err = quad(imag_func, a, b, **quad_kwargs)\n",
    "    return (\n",
    "        real_integral + 1j * imag_integral,\n",
    "        real_integral_err**2 + 1j * imag_integral_err,\n",
    "    )"
   ]
  },
  {
   "cell_type": "code",
   "execution_count": null,
   "metadata": {},
   "outputs": [],
   "source": [
    "complex_integrate(integrand, 0.0, 2.0)"
   ]
  },
  {
   "cell_type": "markdown",
   "metadata": {},
   "source": [
    ":::{warning}\n",
    "\n",
    "The handling of uncertainties is incorrect.\n",
    "\n",
    ":::"
   ]
  },
  {
   "cell_type": "markdown",
   "metadata": {},
   "source": [
    "### Integrate with `quadpy`"
   ]
  },
  {
   "cell_type": "markdown",
   "metadata": {},
   "source": [
    "[Alternatively](https://stackoverflow.com/a/42866568), one could use [`quadpy`](https://github.com/sigma-py/quadpy), which essentially does the same as in {ref}`report/016:Split real and imaginary integral`, but can also (to a large degree) handle vectorized input and properly handles uncertainties."
   ]
  },
  {
   "cell_type": "code",
   "execution_count": null,
   "metadata": {},
   "outputs": [],
   "source": [
    "import quadpy\n",
    "\n",
    "quadpy.quad(integrand, a=0.0, b=2.0)"
   ]
  },
  {
   "cell_type": "markdown",
   "metadata": {},
   "source": [
    ":::{note}\n",
    "\n",
    "One may need to play around with the tolerance if the function is not smooth, see [sigma-py/quadpy#255](https://github.com/sigma-py/quadpy/issues/255).\n",
    "\n",
    ":::\n",
    "\n",
    ":::{tip}\n",
    "\n",
    "[`quadpy`](https://github.com/sigma-py/quadpy) raises exceptions with {obj}`ModuleNotFoundError`s that are a bit unreadable. They are caused by the fact that [`orthopy`](https://pypi.org/project/orthopy) and [`ndim`](https://pypi.org/project/ndim) need to be installed separately.\n",
    "\n",
    ":::"
   ]
  },
  {
   "cell_type": "markdown",
   "metadata": {},
   "source": [
    "## Vectorized input"
   ]
  },
  {
   "cell_type": "markdown",
   "metadata": {},
   "source": [
    "The dispersion integral from Eq.&nbsp;{eq}`dispersion-integral` in [TR-003](003.ipynb) features a variable&nbsp;$s$ that is an argument to the function $\\Sigma_a$. This becomes a problem when $s$ gets vectorized (in this case: gets an event-wise {obj}`numpy.array` of invariant masses). Here's a simplified version of the problem:"
   ]
  },
  {
   "cell_type": "code",
   "execution_count": null,
   "metadata": {
    "tags": [
     "raises-exception"
    ]
   },
   "outputs": [],
   "source": [
    "from functools import partial\n",
    "\n",
    "\n",
    "def parametrized_func(s_prime, s):\n",
    "    return s_prime * (s_prime + s + 1j)\n",
    "\n",
    "\n",
    "s_array = np.linspace(-1, 1, num=10)\n",
    "quadpy.quad(\n",
    "    partial(parametrized_func, s=s_array),\n",
    "    a=0.0,\n",
    "    b=2.0,\n",
    ")"
   ]
  },
  {
   "cell_type": "markdown",
   "metadata": {},
   "source": [
    "The way out seems to be to **vectorize the [`quadpy.quad()`](https://github.com/sigma-py/quadpy) call itself** and forward the function arguments through {func}`functools.partial`:"
   ]
  },
  {
   "cell_type": "code",
   "execution_count": null,
   "metadata": {},
   "outputs": [],
   "source": [
    "from functools import partial\n",
    "\n",
    "\n",
    "@np.vectorize\n",
    "def vectorized_quad(func, a, b, **func_kwargs):\n",
    "    return quadpy.quad(partial(func, **func_kwargs), a, b)\n",
    "\n",
    "\n",
    "vectorized_quad(parametrized_func, a=0.0, b=2.0, s=s_array)"
   ]
  },
  {
   "cell_type": "markdown",
   "metadata": {},
   "source": [
    "Note, however, that this becomes difficult to implement as {func}`~sympy.utilities.lambdify.lambdify` output for a {class}`sympy.Integral <sympy.integrals.integrals.Integral>`. An attempt at this is made in [TR-003](003.ipynb)."
   ]
  },
  {
   "cell_type": "markdown",
   "metadata": {},
   "source": [
    "## SymPy integral"
   ]
  },
  {
   "cell_type": "markdown",
   "metadata": {},
   "source": [
    "There is no good way to write integrals as [SymPy](https://docs.sympy.org) expressions that correctly {func}`~sympy.utilities.lambdify.lambdify` to a **vectorized** integral that handles complex values. Here is a first step however. Note that this integral expression class derives from {class}`sympy.Integral <sympy.integrals.integrals.Integral>` and:\n",
    "\n",
    "1. overwrites its {meth}`~sympy.core.basic.Basic.doit` method, so that the integral cannot be evaluated by SymPy.\n",
    "2. provides a custom NumPy printer method (see [TR-001](001.ipynb)) that lambdifies this expression node to [`quadpy.quad()`](https://github.com/sigma-py/quadpy).\n",
    "3. adds class variables that can affect the behavior of [`quadpy.quad()`](https://github.com/sigma-py/quadpy)."
   ]
  },
  {
   "cell_type": "code",
   "execution_count": null,
   "metadata": {},
   "outputs": [],
   "source": [
    "import sympy as sp\n",
    "from sympy.printing.pycode import _unpack_integral_limits\n",
    "\n",
    "\n",
    "class UnevaluatableIntegral(sp.Integral):\n",
    "    abs_tolerance = 1e-5\n",
    "    rel_tolerance = 1e-5\n",
    "    limit = 50\n",
    "\n",
    "    def doit(self, **hints):\n",
    "        args = [arg.doit(**hints) for arg in self.args]\n",
    "        return self.func(*args)\n",
    "\n",
    "    def _numpycode(self, printer, *args):\n",
    "        integration_vars, limits = _unpack_integral_limits(self)\n",
    "        if len(limits) != 1:\n",
    "            msg = f\"Cannot handle {len(limits)}-dimensional integrals\"\n",
    "            raise ValueError(msg)\n",
    "        integrate = \"quadpy_quad\"\n",
    "        printer.module_imports[\"quadpy\"].update({f\"quad as {integrate}\"})\n",
    "        limit_str = \"{}, {}\".format(*tuple(map(printer._print, limits[0])))\n",
    "        args = \", \".join(map(printer._print, integration_vars))\n",
    "        expr = printer._print(self.args[0])\n",
    "        return (\n",
    "            f\"{integrate}(lambda {args}: {expr}, {limit_str},\"\n",
    "            f\" epsabs={self.abs_tolerance}, epsrel={self.abs_tolerance},\"\n",
    "            f\" limit={self.limit})[0]\"\n",
    "        )"
   ]
  },
  {
   "cell_type": "markdown",
   "metadata": {},
   "source": [
    "To test whether this works, we write the expression from {ref}`report/016:Vectorized input` as a {class}`sympy.Expr <sympy.core.expr.Expr>`. Note that the integral indeed does not evaluate when calling {meth}`~sympy.core.basic.Basic.doit`:"
   ]
  },
  {
   "cell_type": "code",
   "execution_count": null,
   "metadata": {},
   "outputs": [],
   "source": [
    "s, s_prime, a, b = sp.symbols(\"s s_p a b\")\n",
    "integral_expr: sp.Expr = UnevaluatableIntegral(\n",
    "    s_prime * (s_prime + s + sp.I),\n",
    "    (s_prime, a, b),\n",
    ")\n",
    "integral_expr.doit()"
   ]
  },
  {
   "cell_type": "markdown",
   "metadata": {},
   "source": [
    "Indeed the expression correctly lambdifies correctly:"
   ]
  },
  {
   "cell_type": "code",
   "execution_count": null,
   "metadata": {},
   "outputs": [],
   "source": [
    "import inspect\n",
    "\n",
    "integral_func = sp.lambdify([s, a, b], integral_expr)\n",
    "src = inspect.getsource(integral_func)\n",
    "print(src)"
   ]
  },
  {
   "cell_type": "markdown",
   "metadata": {},
   "source": [
    "Note, however, that the lambdified function has to be vectorized before it can handle {obj}`numpy.array`s:"
   ]
  },
  {
   "cell_type": "code",
   "execution_count": null,
   "metadata": {
    "tags": []
   },
   "outputs": [],
   "source": [
    "vec_integral_func = np.vectorize(integral_func)\n",
    "vec_integral_func(s_array, a=0.0, b=2.0)"
   ]
  },
  {
   "cell_type": "markdown",
   "metadata": {},
   "source": [
    ":::{tip}\n",
    "\n",
    "For a more complicated and challenging expression, see {ref}`report/003:SymPy expressions` in [TR-003](003.ipynb).\n",
    "\n",
    ":::"
   ]
  }
 ],
 "metadata": {
  "colab": {
   "toc_visible": true
  },
  "kernelspec": {
   "display_name": "Python 3 (ipykernel)",
   "language": "python",
   "name": "python3"
  },
  "language_info": {
   "codemirror_mode": {
    "name": "ipython",
    "version": 3
   },
   "file_extension": ".py",
   "mimetype": "text/x-python",
   "name": "python",
   "nbconvert_exporter": "python",
   "pygments_lexer": "ipython3",
   "version": "3.10.13"
  }
 },
 "nbformat": 4,
 "nbformat_minor": 4
}
