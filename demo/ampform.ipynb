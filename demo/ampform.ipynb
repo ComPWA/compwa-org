{
 "cells": [
  {
   "cell_type": "markdown",
   "metadata": {
    "slideshow": {
     "slide_type": "skip"
    },
    "tags": []
   },
   "source": [
    "<!-- cspell:ignore jquery ndigits nowrap -->"
   ]
  },
  {
   "cell_type": "markdown",
   "metadata": {
    "slideshow": {
     "slide_type": "slide"
    }
   },
   "source": [
    "# AmpForm physics mini-demo"
   ]
  },
  {
   "cell_type": "markdown",
   "metadata": {},
   "source": [
    "This demo focuses on AmpForm's main features\n",
    "\n",
    "_Initialize all cells first by clicking the cell below and hitting `Shift+Enter`:_"
   ]
  },
  {
   "cell_type": "code",
   "execution_count": null,
   "metadata": {},
   "outputs": [],
   "source": [
    "from IPython.display import Javascript\n",
    "\n",
    "Javascript(\"IPython.notebook.execute_cells_below()\")"
   ]
  },
  {
   "cell_type": "code",
   "execution_count": null,
   "metadata": {
    "hideCode": true,
    "hideOutput": true,
    "jupyter": {
     "source_hidden": true
    },
    "slideshow": {
     "slide_type": "skip"
    },
    "tags": []
   },
   "outputs": [],
   "source": [
    "%config Completer.use_jedi = False\n",
    "%config InlineBackend.figure_formats = ['svg']\n",
    "\n",
    "import logging\n",
    "import warnings\n",
    "\n",
    "import ampform\n",
    "import graphviz\n",
    "import matplotlib.pyplot as plt\n",
    "import numpy as np\n",
    "import qrules\n",
    "import sympy as sp\n",
    "import tensorflow as tf\n",
    "from ampform.dynamics.builder import (\n",
    "    create_analytic_breit_wigner,\n",
    "    create_relativistic_breit_wigner_with_ff,\n",
    ")\n",
    "from IPython.display import HTML, Math\n",
    "from matplotlib import cm\n",
    "from tensorwaves.data import generate_data, generate_phsp\n",
    "from tensorwaves.data.transform import HelicityTransformer\n",
    "from tensorwaves.model import LambdifiedFunction, SympyModel\n",
    "\n",
    "tf.get_logger().setLevel(\"INFO\")\n",
    "logging.getLogger().setLevel(logging.ERROR)\n",
    "warnings.filterwarnings(\"ignore\")\n",
    "\n",
    "HTML(\"<style>div.prompt {display:none}</style>\")"
   ]
  },
  {
   "cell_type": "code",
   "execution_count": null,
   "metadata": {
    "hideCode": true,
    "hideOutput": true,
    "jupyter": {
     "source_hidden": true
    },
    "slideshow": {
     "slide_type": "skip"
    },
    "tags": []
   },
   "outputs": [],
   "source": [
    "def indicate_masses(reaction, ax=None):\n",
    "    if ax is None:\n",
    "        ax = plt.gca()\n",
    "    intermediate_states = sorted(\n",
    "        (\n",
    "            p\n",
    "            for p in model.particles\n",
    "            if p not in reaction.final_state.values()\n",
    "            and p not in reaction.initial_state.values()\n",
    "        ),\n",
    "        key=lambda p: p.mass,\n",
    "    )\n",
    "    evenly_spaced_interval = np.linspace(0, 1, len(intermediate_states))\n",
    "    colors = [cm.rainbow(x) for x in evenly_spaced_interval]\n",
    "    for i, p in enumerate(intermediate_states):\n",
    "        ax.axvline(x=p.mass, linestyle=\"dotted\", label=p.name, color=colors[i])\n",
    "\n",
    "\n",
    "def render_side_by_side(reaction, render_final_state_id=False):\n",
    "    for i, transition_group in enumerate(reaction.transition_groups):\n",
    "        dot = qrules.io.asdot(\n",
    "            transition_group,\n",
    "            collapse_graphs=True,\n",
    "            render_final_state_id=render_final_state_id,\n",
    "            render_node=False,\n",
    "        )\n",
    "        graphviz.Source(dot).render(f\"reaction_{i}\", format=\"svg\")\n",
    "\n",
    "    image_paths = [\n",
    "        f\"reaction_{i}.svg\" for i in range(len(reaction.transition_groups))\n",
    "    ]\n",
    "    html_source = '<div style=\"white-space: nowrap\">\\n'\n",
    "    for path in image_paths:\n",
    "        with open(path) as stream:\n",
    "            svg = stream.read()\n",
    "        html_source += svg\n",
    "    html_source += \"\\n</div>\"\n",
    "    display(HTML(html_source))\n",
    "\n",
    "\n",
    "def round_floats(expression: sp.Expr, ndigits=2) -> sp.Expr:\n",
    "    new_expression = expression\n",
    "    for node in sp.preorder_traversal(expression):\n",
    "        if isinstance(node, sp.Float):\n",
    "            new_expression = new_expression.subs(node, round(node, ndigits))\n",
    "    return new_expression"
   ]
  },
  {
   "cell_type": "code",
   "execution_count": null,
   "metadata": {
    "hideCode": true,
    "hideOutput": true,
    "jupyter": {
     "source_hidden": true
    },
    "slideshow": {
     "slide_type": "skip"
    },
    "tags": []
   },
   "outputs": [],
   "source": [
    "PDG = qrules.load_pdg()\n",
    "particle_selection = qrules.ParticleCollection()\n",
    "particle_selection += PDG[\"D0\"]\n",
    "particle_selection += PDG.filter(\n",
    "    lambda p: p.name.startswith(\"K\") and len(p.name) == 2\n",
    ")\n",
    "particle_selection += PDG.filter(lambda p: p.name.startswith(\"a(\"))\n",
    "particle_selection += PDG.filter(lambda p: p.name.startswith(\"rho\"))\n",
    "particle_selection += PDG.filter(lambda p: p.name.startswith(\"phi\"))"
   ]
  },
  {
   "cell_type": "markdown",
   "metadata": {
    "slideshow": {
     "slide_type": "slide"
    }
   },
   "source": [
    "## Common Partial Wave Analysis"
   ]
  },
  {
   "cell_type": "markdown",
   "metadata": {},
   "source": [
    "ComPWA provides an _ecosystem_ of three Python packages:\n",
    "1. `QRules`: quantum number conservation rules ('resonance finder')\n",
    "2. `AmpForm`: spin formalisms and dynamics\n",
    "3. `TensorWaves`: toy MC and model optimization with multiple computational back-ends"
   ]
  },
  {
   "cell_type": "markdown",
   "metadata": {
    "slideshow": {
     "slide_type": "fragment"
    },
    "tags": []
   },
   "source": [
    "Main targets are:\n",
    "- to make PWA intelligible with **modern and interactive documentation** ([example](https://ampform.rtfd.io/en/stable/usage/dynamics/k-matrix.html))\n",
    "- long-term, open source development that can be picked up by successors (**academic continuity**)\n",
    "- to perform PWA with the latest tools from the Python data science community"
   ]
  },
  {
   "cell_type": "markdown",
   "metadata": {
    "slideshow": {
     "slide_type": "slide"
    }
   },
   "source": [
    "## 1. [QRules](https://qrules.rtfd.io): generate allowed state transitions"
   ]
  },
  {
   "cell_type": "markdown",
   "metadata": {
    "slideshow": {
     "slide_type": "-"
    },
    "tags": []
   },
   "source": [
    "- **Quantum number conservation rules** are encoded in `QRules`\n",
    "- This allows us to investigate potential resonances"
   ]
  },
  {
   "cell_type": "code",
   "execution_count": null,
   "metadata": {},
   "outputs": [],
   "source": [
    "reaction = qrules.generate_transitions(\n",
    "    initial_state=\"D0\",\n",
    "    final_state=[\"K-\", \"K+\", \"K0\"],\n",
    "    particle_db=particle_selection,\n",
    ")\n",
    "render_side_by_side(reaction)"
   ]
  },
  {
   "cell_type": "markdown",
   "metadata": {
    "slideshow": {
     "slide_type": "fragment"
    }
   },
   "source": [
    "`QRules` can also:\n",
    "- check **conversation rule violations** in an invalid reaction\n",
    "- serve as a **quantum number database** (PDG listings are default input)"
   ]
  },
  {
   "cell_type": "markdown",
   "metadata": {
    "slideshow": {
     "slide_type": "slide"
    },
    "tags": []
   },
   "source": [
    "## 2. [AmpForm](https://ampform.rtfd.io): express transitions as amplitude models"
   ]
  },
  {
   "cell_type": "markdown",
   "metadata": {
    "slideshow": {
     "slide_type": "-"
    },
    "tags": []
   },
   "source": [
    "- `AmpForm` encodes **spin formalisms and dynamics**\n",
    "- It can formulate QRules's state transitions as an **amplitude model**"
   ]
  },
  {
   "cell_type": "markdown",
   "metadata": {
    "slideshow": {
     "slide_type": "fragment"
    },
    "tags": []
   },
   "source": [
    "To simplify things, we focus on these two resonances only:"
   ]
  },
  {
   "cell_type": "code",
   "execution_count": null,
   "metadata": {
    "hideCode": true,
    "jupyter": {
     "source_hidden": true
    },
    "tags": []
   },
   "outputs": [],
   "source": [
    "reaction = qrules.generate_transitions(\n",
    "    initial_state=\"D0\",\n",
    "    final_state=[\"K-\", \"K+\", \"K0\"],\n",
    "    allowed_intermediate_particles=[\"a(0)(980)0\", \"a(2)(1320)+\"],\n",
    "    formalism=\"helicity\",\n",
    ")\n",
    "render_side_by_side(reaction, render_final_state_id=True)"
   ]
  },
  {
   "cell_type": "markdown",
   "metadata": {
    "slideshow": {
     "slide_type": "fragment"
    },
    "tags": []
   },
   "source": [
    "In our example, **helicity formalism** with the following dynamics:\n",
    "- 𝑎₀(1320) lies well within phase space: relativistic Breit-Wigner with form factor\n",
    "- 𝑎₂(980) lies below threshold: **analytic continuation** for phase space factor"
   ]
  },
  {
   "cell_type": "code",
   "execution_count": null,
   "metadata": {},
   "outputs": [],
   "source": [
    "builder = ampform.get_builder(reaction)\n",
    "builder.set_dynamics(\"a(2)(1320)+\", create_relativistic_breit_wigner_with_ff)\n",
    "builder.set_dynamics(\"a(0)(980)0\", create_analytic_breit_wigner)\n",
    "model = builder.formulate()"
   ]
  },
  {
   "cell_type": "markdown",
   "metadata": {
    "slideshow": {
     "slide_type": "subslide"
    },
    "tags": []
   },
   "source": [
    "The model is formulated with SymPy (Computer Algebra System) so that the math can be inspected:"
   ]
  },
  {
   "cell_type": "code",
   "execution_count": null,
   "metadata": {
    "hideCode": true,
    "jupyter": {
     "source_hidden": true
    },
    "tags": []
   },
   "outputs": [],
   "source": [
    "assert len(model.components) == 3\n",
    "amplitude_to_symbol = {\n",
    "    expression: sp.Symbol(name)\n",
    "    for name, expression in model.components.items()\n",
    "    if not name.startswith(\"I\")\n",
    "}\n",
    "top_expression = model.expression.subs(amplitude_to_symbol)\n",
    "sym_a980, sym_a1320, sym_intensity = tuple(\n",
    "    map(sp.Symbol, sorted(model.components))\n",
    ")\n",
    "Math(sp.latex(sym_intensity) + \"=\" + sp.latex(top_expression))"
   ]
  },
  {
   "cell_type": "code",
   "execution_count": null,
   "metadata": {
    "hideCode": true,
    "jupyter": {
     "source_hidden": true
    },
    "slideshow": {
     "slide_type": "fragment"
    },
    "tags": []
   },
   "outputs": [],
   "source": [
    "amplitudes = tuple(amplitude_to_symbol)\n",
    "amp_a980, amp_a1320 = amplitudes\n",
    "amp_a1320_case1 = sp.piecewise_fold(amp_a1320).args[1][0]\n",
    "Math(sp.latex(sym_a1320) + \"=\" + sp.latex(amp_a1320_case1))"
   ]
  },
  {
   "cell_type": "markdown",
   "metadata": {
    "slideshow": {
     "slide_type": "fragment"
    },
    "tags": []
   },
   "source": [
    "...and after substituting the suggested parameter values suggested by `AmpForm`:"
   ]
  },
  {
   "cell_type": "code",
   "execution_count": null,
   "metadata": {
    "hideCode": true,
    "tags": []
   },
   "outputs": [],
   "source": [
    "extended_parameter_defaults = dict(model.parameter_defaults)\n",
    "for state_id, particle in reaction.final_state.items():\n",
    "    var_name = f\"m_{state_id}\"\n",
    "    symbol = sp.Symbol(var_name, real=True)\n",
    "    extended_parameter_defaults[symbol] = particle.mass\n",
    "amp_a1320_case1_evaluated = round_floats(\n",
    "    amp_a1320_case1.doit().subs(extended_parameter_defaults),\n",
    "    ndigits=3,\n",
    ")\n",
    "Math(\"=\" + sp.latex(sp.piecewise_fold(amp_a1320_case1_evaluated)))"
   ]
  },
  {
   "cell_type": "markdown",
   "metadata": {
    "slideshow": {
     "slide_type": "subslide"
    },
    "tags": []
   },
   "source": [
    "The math is fancy, but SymPy offers another major advantage:<br>\n",
    "_the amplitude model is an **expression tree** that can be converted to **several computational back-ends**!_"
   ]
  },
  {
   "cell_type": "code",
   "execution_count": null,
   "metadata": {
    "hideCode": true,
    "jupyter": {
     "source_hidden": true
    },
    "tags": []
   },
   "outputs": [],
   "source": [
    "dot = sp.dotprint(amp_a1320_case1_evaluated)\n",
    "filename = \"expression_tree\"\n",
    "graphviz.Source(dot).render(filename, format=\"svg\")\n",
    "HTML(f'<img src=\"{filename}.svg\" style=\"width:1300px\">')"
   ]
  },
  {
   "cell_type": "markdown",
   "metadata": {
    "slideshow": {
     "slide_type": "slide"
    },
    "tags": []
   },
   "source": [
    "## 3. [TensorWaves](https://tensorwaves.rtfd.io): generate toy MC and optimize model"
   ]
  },
  {
   "cell_type": "markdown",
   "metadata": {
    "slideshow": {
     "slide_type": "-"
    },
    "tags": []
   },
   "source": [
    "As an example, here is a data sample generated from the amplitude model with **TensorFlow**:"
   ]
  },
  {
   "cell_type": "code",
   "execution_count": null,
   "metadata": {
    "hideCode": true,
    "jupyter": {
     "source_hidden": true
    },
    "tags": []
   },
   "outputs": [],
   "source": [
    "sympy_model = SympyModel(\n",
    "    expression=model.expression,\n",
    "    parameters=model.parameter_defaults,\n",
    ")\n",
    "intensity = LambdifiedFunction(sympy_model, backend=\"jax\")\n",
    "data_converter = HelicityTransformer(model.adapter)\n",
    "initial_state_mass = reaction.initial_state[-1].mass\n",
    "final_state_masses = {i: p.mass for i, p in reaction.final_state.items()}\n",
    "\n",
    "phsp_sample = generate_phsp(100_000, initial_state_mass, final_state_masses)\n",
    "data_sample = generate_data(\n",
    "    2_000, initial_state_mass, final_state_masses, data_converter, intensity\n",
    ")\n",
    "\n",
    "phsp_set = data_converter.transform(phsp_sample)\n",
    "data_set = data_converter.transform(data_sample)"
   ]
  },
  {
   "cell_type": "code",
   "execution_count": null,
   "metadata": {
    "hideCode": true,
    "tags": []
   },
   "outputs": [],
   "source": [
    "def show_distribution(var, ax, bin_width=0.01):\n",
    "    sample = data_set[var]\n",
    "    n_bins = int((sample.max() - sample.min()) / 0.01)\n",
    "    ax.hist(sample, bins=n_bins, alpha=0.5, density=True)\n",
    "    ax.set_ylabel(f\"events / {round(bin_width * 1e3)} MeV\")\n",
    "    indicate_masses(reaction, ax=ax)\n",
    "\n",
    "\n",
    "fig, axes = plt.subplots(\n",
    "    nrows=2, figsize=(12, 8), sharex=True, tight_layout=True\n",
    ")\n",
    "show_distribution(var=\"m_02\", ax=axes[0])\n",
    "show_distribution(var=\"m_12\", ax=axes[1])\n",
    "final_state = reaction.final_state\n",
    "axes[0].set_xlabel(\n",
    "    f\"$m_{{{final_state[0].latex}{final_state[2].latex}}}$ [GeV]\"\n",
    ")\n",
    "axes[1].set_xlabel(\n",
    "    f\"$m_{{{final_state[1].latex}{final_state[2].latex}}}$ [GeV]\"\n",
    ")\n",
    "axes[0].legend();"
   ]
  }
 ],
 "metadata": {
  "kernelspec": {
   "display_name": "Python 3",
   "language": "python",
   "name": "python3"
  },
  "language_info": {
   "codemirror_mode": {
    "name": "ipython",
    "version": 3
   },
   "file_extension": ".py",
   "mimetype": "text/x-python",
   "name": "python",
   "nbconvert_exporter": "python",
   "pygments_lexer": "ipython3",
   "version": "3.8.10"
  },
  "rise": {
   "auto_select": "none",
   "auto_select_fragment": false,
   "autolaunch": true,
   "enable_chalkboard": true,
   "scroll": true,
   "transition": "none"
  }
 },
 "nbformat": 4,
 "nbformat_minor": 4
}
