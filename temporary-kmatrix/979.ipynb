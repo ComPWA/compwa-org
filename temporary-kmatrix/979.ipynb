{
 "cells": [
  {
   "cell_type": "code",
   "execution_count": null,
   "metadata": {
    "hideCode": true,
    "hideOutput": true,
    "hidePrompt": true,
    "jupyter": {
     "source_hidden": true
    },
    "slideshow": {
     "slide_type": "skip"
    },
    "tags": [
     "remove-cell"
    ]
   },
   "outputs": [],
   "source": [
    "import os\n",
    "\n",
    "STATIC_WEB_PAGE = {\"EXECUTE_NB\", \"READTHEDOCS\"}.intersection(os.environ)"
   ]
  },
  {
   "cell_type": "markdown",
   "metadata": {},
   "source": [
    "```{autolink-concat}\n",
    "```"
   ]
  },
  {
   "cell_type": "markdown",
   "metadata": {
    "editable": true,
    "slideshow": {
     "slide_type": ""
    },
    "tags": []
   },
   "source": [
    "::::{margin}\n",
    ":::{card} Visualization of the second Riemann sheet with rotated branch cut \n",
    "TR-979\n",
    "^^^\n",
    "To reproduce the Riemann sheets shown in [Fig.&nbsp;50.1](https://pdg.lbl.gov/2023/reviews/rpp2023-rev-resonances.pdf#page=2) and [50.2](https://pdg.lbl.gov/2023/reviews/rpp2023-rev-resonances.pdf#page=4) of the PDG way to get from the first physical sheet to the second unphysical sheet is derived for the Amplitude calculated within the K matrix formalism.   \n",
    ":::\n",
    "::::"
   ]
  },
  {
   "cell_type": "markdown",
   "metadata": {
    "editable": true,
    "slideshow": {
     "slide_type": ""
    },
    "tags": []
   },
   "source": [
    "# Riemann sheets for one channel "
   ]
  },
  {
   "cell_type": "code",
   "execution_count": null,
   "metadata": {
    "tags": [
     "remove-cell"
    ]
   },
   "outputs": [],
   "source": [
    "%pip install -q ampform==0.14.8 plotly==5.17.0 sympy==1.12"
   ]
  },
  {
   "cell_type": "code",
   "execution_count": null,
   "metadata": {
    "editable": true,
    "slideshow": {
     "slide_type": ""
    },
    "tags": [
     "hide-cell"
    ]
   },
   "outputs": [],
   "source": [
    "from __future__ import annotations\n",
    "\n",
    "import warnings\n",
    "from typing import Any\n",
    "\n",
    "import matplotlib.pyplot as plt\n",
    "import numpy as np\n",
    "import plotly.graph_objects as go\n",
    "import sympy as sp\n",
    "from ampform.io import aslatex\n",
    "from ampform.sympy import unevaluated\n",
    "from IPython.display import Math\n",
    "from ipywidgets import FloatSlider, VBox, interactive_output\n",
    "\n",
    "warnings.filterwarnings(\"ignore\")"
   ]
  },
  {
   "cell_type": "markdown",
   "metadata": {},
   "source": [
    "## Rotated square root definition \n",
    "See report on Riemann sheets for one channel case [Link]"
   ]
  },
  {
   "cell_type": "code",
   "execution_count": null,
   "metadata": {
    "editable": true,
    "slideshow": {
     "slide_type": ""
    },
    "tags": [
     "hide-input"
    ]
   },
   "outputs": [],
   "source": [
    "@unevaluated\n",
    "class RotatedSqrt(sp.Expr):\n",
    "    z: Any\n",
    "    phi: Any\n",
    "    _latex_repr_ = R\"\\sqrt[{phi}]{{{z}}}\"\n",
    "\n",
    "    def evaluate(self) -> sp.Expr:\n",
    "        z, phi = self.args\n",
    "        return sp.exp(-phi * sp.I / 2) * sp.sqrt(z * sp.exp(phi * sp.I))\n",
    "\n",
    "\n",
    "z, phi = sp.symbols(\"z phi\")\n",
    "expr = RotatedSqrt(z, phi)\n",
    "Math(aslatex({expr: expr.doit(deep=False)}))"
   ]
  },
  {
   "cell_type": "code",
   "execution_count": null,
   "metadata": {
    "editable": true,
    "slideshow": {
     "slide_type": ""
    },
    "tags": [
     "hide-input"
    ]
   },
   "outputs": [],
   "source": [
    "@unevaluated(real=False)\n",
    "class PhaseSpaceFactor_Rotated(sp.Expr):\n",
    "    s: Any\n",
    "    m1: Any\n",
    "    m2: Any\n",
    "    phi: Any\n",
    "    _latex_repr_ = R\"\\rho^\\phi_{{{m1}, {m2}}}\\left({s}\\right)\"\n",
    "\n",
    "    def evaluate(self) -> sp.Expr:\n",
    "        s, m1, m2, phi = self.args\n",
    "        return RotatedSqrt((s - ((m1 + m2) ** 2)) * (s - (m1 - m2) ** 2) / s**2, phi)\n",
    "\n",
    "\n",
    "s, m1, m2, phi = sp.symbols(\"s m1 m2 phi\")\n",
    "rho_expr_rotated = PhaseSpaceFactor_Rotated(s, m1, m2, phi)\n",
    "Math(aslatex({rho_expr_rotated: rho_expr_rotated.doit(deep=False)}))"
   ]
  },
  {
   "cell_type": "code",
   "execution_count": null,
   "metadata": {},
   "outputs": [],
   "source": [
    "@unevaluated(real=False)\n",
    "class PhaseSpaceFactor(sp.Expr):\n",
    "    s: Any\n",
    "    m1: Any\n",
    "    m2: Any\n",
    "    _latex_repr_ = R\"\\rho_{{{m1}, {m2}}}\\left({s}\\right)\"\n",
    "\n",
    "    def evaluate(self) -> sp.Expr:\n",
    "        s, m1, m2 = self.args\n",
    "        return sp.sqrt((s - ((m1 + m2) ** 2)) * (s - (m1 - m2) ** 2) / s**2)\n",
    "\n",
    "\n",
    "s, m1, m2 = sp.symbols(\"s m1 m2\")\n",
    "rho_expr = PhaseSpaceFactor(s, m1, m2)\n",
    "Math(aslatex({rho_expr: rho_expr.doit(deep=False)}))"
   ]
  },
  {
   "cell_type": "code",
   "execution_count": null,
   "metadata": {
    "editable": true,
    "slideshow": {
     "slide_type": ""
    },
    "tags": [
     "hide-input"
    ]
   },
   "outputs": [],
   "source": [
    "from ampform.kinematics.phasespace import Kallen\n",
    "\n",
    "\n",
    "@unevaluated(real=False)\n",
    "class PhaseSpaceFactorKallen(sp.Expr):\n",
    "    s: Any\n",
    "    m1: Any\n",
    "    m2: Any\n",
    "    _latex_repr_ = R\"\\rho_{{{m1}, {m2}}}\\left({s}\\right)\"\n",
    "\n",
    "    def evaluate(self) -> sp.Expr:\n",
    "        s, m1, m2 = self.args\n",
    "        return 2 * BreakupMomentum(s, m1, m2) / sp.sqrt(s)\n",
    "\n",
    "\n",
    "@unevaluated(real=False)\n",
    "class PhaseSpaceCM(sp.Expr):\n",
    "    s: Any\n",
    "    m1: Any\n",
    "    m2: Any\n",
    "    _latex_repr_ = R\"\\rho^\\mathrm{{CM}}_{{{m1},{m2}}}\\left({s}\\right)\"\n",
    "\n",
    "    def evaluate(self) -> sp.Expr:\n",
    "        s, m1, m2 = self.args\n",
    "        return -16 * sp.pi * sp.I * ChewMandelstam(s, m1, m2)\n",
    "\n",
    "\n",
    "@unevaluated(real=False)\n",
    "class ChewMandelstam(sp.Expr):\n",
    "    s: Any\n",
    "    m1: Any\n",
    "    m2: Any\n",
    "    _latex_repr_ = R\"\\Sigma\\left({s}\\right)\"\n",
    "\n",
    "    def evaluate(self) -> sp.Expr:\n",
    "        s, m1, m2 = self.args\n",
    "        q = BreakupMomentum(s, m1, m2)\n",
    "        return (\n",
    "            1\n",
    "            / (16 * sp.pi**2)\n",
    "            * (\n",
    "                (2 * q / sp.sqrt(s))\n",
    "                * sp.log((m1**2 + m2**2 - s + 2 * sp.sqrt(s) * q) / (2 * m1 * m2))\n",
    "                - (m1**2 - m2**2) * (1 / s - 1 / (m1 + m2) ** 2) * sp.log(m1 / m2)\n",
    "            )\n",
    "        )\n",
    "\n",
    "\n",
    "@unevaluated(real=False)\n",
    "class BreakupMomentum(sp.Expr):\n",
    "    s: Any\n",
    "    m1: Any\n",
    "    m2: Any\n",
    "    _latex_repr_ = R\"q\\left({s}\\right)\"\n",
    "\n",
    "    def evaluate(self) -> sp.Expr:\n",
    "        s, m1, m2 = self.args\n",
    "        return sp.sqrt(Kallen(s, m1**2, m2**2)) / (2 * sp.sqrt(s))\n",
    "\n",
    "\n",
    "s, m1, m2 = sp.symbols(\"s m1 m2\")\n",
    "rho_expr_kallen = PhaseSpaceFactorKallen(s, m1, m2)\n",
    "rho_cm_expr = PhaseSpaceCM(s, m1, m2)\n",
    "cm_expr = ChewMandelstam(s, m1, m2)\n",
    "q_expr = BreakupMomentum(s, m1, m2)\n",
    "kallen = Kallen(*sp.symbols(\"x:z\"))\n",
    "Math(\n",
    "    aslatex({\n",
    "        e: e.doit(deep=False)\n",
    "        for e in [rho_expr_kallen, rho_cm_expr, cm_expr, q_expr, kallen]\n",
    "    })\n",
    ")"
   ]
  },
  {
   "cell_type": "markdown",
   "metadata": {},
   "source": [
    ":::{note} \n",
    "It seems like the real part of the Chew-Mandelstam function is switching signs when coming from the $-i\\epsilon$ direction below the branch cut above $s_{thr}$.\n",
    "Therefore we set:\n",
    "$$\n",
    "-i\\cdot\\rho_{-\\epsilon} = CM_{-\\epsilon}\n",
    "$$\n",
    "this leads:\n",
    "$$\n",
    "\\rho_{-\\epsilon} = i\\cdot CM_{-\\epsilon}\n",
    "$$\n",
    "As the Phasespace from the Chew-Mandelstam function is defined as:\n",
    "$$\n",
    "\\rho_{CM} = -16\\cdot\\pi\\cdot i \\cdot CM\n",
    "$$\n",
    "in the PhaseSpaceCM class one has to add a minus sign in the following calculations. \n",
    ":::"
   ]
  },
  {
   "cell_type": "markdown",
   "metadata": {
    "editable": true,
    "slideshow": {
     "slide_type": ""
    },
    "tags": []
   },
   "source": [
    "### Visual comparison"
   ]
  },
  {
   "cell_type": "code",
   "execution_count": null,
   "metadata": {
    "editable": true,
    "slideshow": {
     "slide_type": ""
    },
    "tags": [
     "hide-input",
     "scroll-input",
     "full-width"
    ]
   },
   "outputs": [],
   "source": [
    "%config InlineBackend.figure_formats = ['svg']\n",
    "%matplotlib widget\n",
    "symbols_cm = sp.Tuple(s, m1, m2)\n",
    "symbols_rho = sp.Tuple(s, m1, m2, phi)\n",
    "rho_func_rotated = sp.lambdify(symbols_rho, rho_expr_rotated.doit())\n",
    "cm_func = sp.lambdify(symbols_cm, rho_cm_expr.doit())\n",
    "rho_func = sp.lambdify(symbols_cm, rho_expr.doit())\n",
    "\n",
    "ϵi = 1e-7 * 1j\n",
    "fig, axes = plt.subplots(\n",
    "    figsize=(6, 8.5),\n",
    "    gridspec_kw=dict(),\n",
    "    nrows=2,\n",
    ")\n",
    "ax_1, ax_2 = axes\n",
    "ax_2.set_ylabel(R\"$\\rho^\\mathrm{{CM}}_{{{m1},{m2}}}\\left({s}\\right)$\")\n",
    "ax_1.set_ylabel(R\"$\\rho_{{{m1},{m2}}}\\left({s}\\right)$\")\n",
    "for ax in axes:\n",
    "    ax.set_xlabel(\"$\\mathrm{Re}\\,s$\")\n",
    "\n",
    "data = None\n",
    "x = np.linspace(-4, 4, 400)\n",
    "m1_val = 0.5\n",
    "m2_val = 0.6\n",
    "args_1 = (m1_val, m2_val)\n",
    "sliders = dict(\n",
    "    phi=FloatSlider(\n",
    "        min=-3 * np.pi,\n",
    "        max=+3 * np.pi,\n",
    "        step=np.pi / 8,\n",
    "        description=\"phi\",\n",
    "    ),\n",
    ")\n",
    "\n",
    "\n",
    "def plot(phi):\n",
    "    global data\n",
    "    ax_1.set_title(R\"Phasespace factor\")\n",
    "    ax_2.set_title(R\"Chew-Mandelstam\")\n",
    "    cm = cm_func(x + ϵi, *args_1)\n",
    "    rho_rotated = rho_func_rotated(x, *args_1, phi)\n",
    "    rho = rho_func(x + ϵi, *args_1)\n",
    "    cm_n = cm_func(x - ϵi, *args_1)\n",
    "    rho_n = rho_func(x - ϵi, *args_1)\n",
    "    if data is None:\n",
    "        data = {\n",
    "            \"real_rho\": ax_1.plot(x, rho.real, label=\"real_rho\", color=\"blue\")[0],\n",
    "            \"imag_rho\": ax_1.plot(x, rho.imag, label=\"imag_rho\", color=\"green\")[0],\n",
    "            \"real_rho_n\": ax_1.plot(\n",
    "                x, rho_n.real, label=\"real_rho_n\", color=\"magenta\", linestyle=\"--\"\n",
    "            )[0],\n",
    "            \"imag_rho_n\": ax_1.plot(\n",
    "                x, rho_n.imag, label=\"imag_rho_n\", color=\"cyan\", linestyle=\"--\"\n",
    "            )[0],\n",
    "            \"real_rho_rotated\": ax_1.plot(\n",
    "                x, rho.real, label=\"real_rho_rotated\", color=\"blue\", linestyle=\"--\"\n",
    "            )[0],\n",
    "            \"imag_rho_rotated\": ax_1.plot(\n",
    "                x, rho.imag, label=\"imag_rho_rotated\", color=\"green\", linestyle=\"--\"\n",
    "            )[0],\n",
    "            \"real_CM\": ax_2.plot(x, (cm).real, label=\"real_cm\", color=\"red\")[0],\n",
    "            \"imag_CM\": ax_2.plot(x, (cm).imag, label=\"imag_cm\", color=\"yellow\")[0],\n",
    "            \"real_CM_n\": ax_2.plot(\n",
    "                x, -(cm_n).real, label=\"real_cm_n\", color=\"red\", linestyle=\"--\"\n",
    "            )[0],\n",
    "            \"imag_CM_n\": ax_2.plot(\n",
    "                x, -(cm_n).imag, label=\"imag_cm_n\", color=\"yellow\", linestyle=\"--\"\n",
    "            )[0],\n",
    "        }\n",
    "    else:\n",
    "        data[\"real_rho\"].set_ydata(rho.real)\n",
    "        data[\"imag_rho\"].set_ydata(rho.imag)\n",
    "        data[\"real_rho_n\"].set_ydata(rho_n.real)\n",
    "        data[\"imag_rho_n\"].set_ydata(rho_n.imag)\n",
    "        data[\"real_rho_rotated\"].set_ydata(rho_rotated.real)\n",
    "        data[\"imag_rho_rotated\"].set_ydata(rho_rotated.imag)\n",
    "        data[\"real_CM\"].set_ydata(cm.real)\n",
    "        data[\"imag_CM\"].set_ydata(cm.imag)\n",
    "        data[\"real_CM_n\"].set_ydata(-cm_n.real)\n",
    "        data[\"imag_CM_n\"].set_ydata(-cm_n.imag)\n",
    "    fig.canvas.draw_idle()\n",
    "\n",
    "\n",
    "ui = VBox(tuple(sliders.values()))\n",
    "output = interactive_output(plot, controls=sliders)\n",
    "ax_1.legend(loc=\"lower left\")\n",
    "ax_2.legend(loc=\"lower left\")\n",
    "ax_1.set_ylim(-1, 1)\n",
    "ax_2.set_ylim(-1, 1)\n",
    "fig.tight_layout()\n",
    "display(ui, output)"
   ]
  },
  {
   "cell_type": "markdown",
   "metadata": {
    "editable": true,
    "slideshow": {
     "slide_type": ""
    },
    "tags": []
   },
   "source": [
    "## T matrix definition with K matrix - 1 channel case \n",
    "In the following the dynamical part of the Amplitude is described within the K matrix formalism. Due to encircling the the right hand branch cut of the phasespace factor by using the Chew-Mandelstam function the Amplitude function of teh first sheet is described. The function is defined for positive real values and positive and negative imaginary values. "
   ]
  },
  {
   "cell_type": "code",
   "execution_count": null,
   "metadata": {
    "editable": true,
    "slideshow": {
     "slide_type": ""
    },
    "tags": []
   },
   "outputs": [],
   "source": [
    "n_channels = 1\n",
    "I = sp.Identity(n_channels)\n",
    "K = sp.MatrixSymbol(\"K\", n_channels, n_channels)\n",
    "\n",
    "CM_symbol = sp.MatrixSymbol(R\"{\\rho_{\\Sigma}}\", n_channels, n_channels)\n",
    "CM = sp.DiagonalMatrix(CM_symbol)\n",
    "CM.as_explicit()"
   ]
  },
  {
   "cell_type": "code",
   "execution_count": null,
   "metadata": {},
   "outputs": [],
   "source": [
    "T_I = (I - sp.I * K * CM).inv() * K\n",
    "T_I"
   ]
  },
  {
   "cell_type": "code",
   "execution_count": null,
   "metadata": {
    "editable": true,
    "slideshow": {
     "slide_type": ""
    },
    "tags": []
   },
   "outputs": [],
   "source": [
    "T_I_explicit = T_I.as_explicit()\n",
    "T_I_explicit"
   ]
  },
  {
   "cell_type": "markdown",
   "metadata": {
    "editable": true,
    "slideshow": {
     "slide_type": ""
    },
    "tags": []
   },
   "source": [
    ":::{note}\n",
    "No Blatt-Weisskopf form factors because $L=0$.\n",
    ":::"
   ]
  },
  {
   "cell_type": "code",
   "execution_count": null,
   "metadata": {
    "editable": true,
    "slideshow": {
     "slide_type": ""
    },
    "tags": []
   },
   "outputs": [],
   "source": [
    "s = sp.Symbol(\"s\")\n",
    "ma1 = sp.Symbol(\"m_{a1}\")\n",
    "mb1 = sp.Symbol(\"m_{b1}\")\n",
    "ma2 = sp.Symbol(\"m_{a2}\")\n",
    "mb2 = sp.Symbol(\"m_{b2}\")\n",
    "m0 = sp.Symbol(\"m0\")\n",
    "w0 = sp.Symbol(\"Gamma0\")\n",
    "gamma1 = sp.Symbol(\"gamma1\")\n",
    "gamma2 = sp.Symbol(\"gamma2\")\n",
    "phi_rot = sp.Symbol(\"phi\")\n",
    "symbols = sp.Tuple(s, ma1, mb1, ma2, mb2, m0, w0, gamma1, gamma2)\n",
    "symbols_rot = sp.Tuple(s, ma1, mb1, ma2, mb2, m0, w0, gamma1, gamma2, phi_rot)\n",
    "k_expr_00 = (gamma1 * gamma1 * m0 * w0) / (s - m0**2)\n",
    "k_expr_10 = (gamma1 * gamma2 * m0 * w0) / (s - m0**2)\n",
    "k_expr_11 = (gamma2 * gamma2 * m0 * w0) / (s - m0**2)"
   ]
  },
  {
   "cell_type": "code",
   "execution_count": null,
   "metadata": {},
   "outputs": [],
   "source": [
    "cm_expressions = {\n",
    "    K[0, 0]: k_expr_00,\n",
    "    # K[1, 1]: k_expr_11,\n",
    "    # K[0, 1]: k_expr_10,\n",
    "    # K[1, 0]: k_expr_10,\n",
    "    CM[0, 0]: -PhaseSpaceCM(s, ma1, mb1),\n",
    "    # CM[1, 1]: PhaseSpaceCM(s, ma2, mb2),\n",
    "}\n",
    "(\n",
    "    (1j * PhaseSpaceCM(0.7**2 + ϵi, 0.2, 0.4).doit()).n(),\n",
    "    (1j * PhaseSpaceCM(0.7**2 - ϵi, 0.2, 0.4).doit()).n(),\n",
    ")"
   ]
  },
  {
   "cell_type": "code",
   "execution_count": null,
   "metadata": {
    "editable": true,
    "slideshow": {
     "slide_type": ""
    },
    "tags": [
     "hide-input"
    ]
   },
   "outputs": [],
   "source": [
    "T_I_cm_expr_00 = T_I_explicit[0, 0].xreplace(cm_expressions)"
   ]
  },
  {
   "cell_type": "code",
   "execution_count": null,
   "metadata": {
    "editable": true,
    "slideshow": {
     "slide_type": ""
    },
    "tags": []
   },
   "outputs": [],
   "source": [
    "T_I_cm_expr_00.simplify(doit=False)"
   ]
  },
  {
   "cell_type": "markdown",
   "metadata": {
    "editable": true,
    "slideshow": {
     "slide_type": ""
    },
    "tags": []
   },
   "source": [
    "## Second Riemann sheet \n",
    "Since the $T$ function is real below the branch cut it can be shown that the discontinuity above and below the threshold reads as:\n",
    "$$\n",
    "CM(s+i\\epsilon)-CM(s-i\\epsilon)= i\\rho -(-i\\rho) =2i\\rho\n",
    "$$\n",
    "when $\\epsilon$ goes to zero.<br>\n",
    "Which leads:\n",
    "$$\n",
    "CM^{-1}_{II}(s-i\\epsilon)= Re(CM^{-1}_{I}(s-i\\epsilon))-i\\rho+2i\\rho\n",
    "$$\n",
    "For the the Amplitude for the second sheet is defined as:\n",
    "$$\n",
    "A^{-1}_{II}(s)= A^{-1}_{I}(s)-2i\\rho\n",
    "$$\n",
    "The Amplitude for the second sheet is only defined for $s$ positive real part and negative complex. It inherits the analytic structure of the phasespace factor $\\rho$ (the branch cut starting form zero and from $s=s_{thr}$ on the real axis). So it is only defined up to the closest branch cut which is in this case the cut at $s=s_{thr}$. This cut can be rotated in an arbitrary direction pointing to the right or downwards.  "
   ]
  },
  {
   "cell_type": "code",
   "execution_count": null,
   "metadata": {},
   "outputs": [],
   "source": [
    "rho_symbol = sp.MatrixSymbol(\"rho\", n_channels, n_channels)\n",
    "rho = sp.DiagonalMatrix(rho_symbol)\n",
    "rho.as_explicit()"
   ]
  },
  {
   "cell_type": "code",
   "execution_count": null,
   "metadata": {},
   "outputs": [],
   "source": [
    "T_II = (T_I.inv() + 2 * sp.I * rho).inv()"
   ]
  },
  {
   "cell_type": "code",
   "execution_count": null,
   "metadata": {},
   "outputs": [],
   "source": [
    "T_II_explicit = T_II.as_explicit()\n",
    "T_II_explicit"
   ]
  },
  {
   "cell_type": "code",
   "execution_count": null,
   "metadata": {},
   "outputs": [],
   "source": [
    "rho_expressions = {\n",
    "    **cm_expressions,\n",
    "    rho[0, 0]: PhaseSpaceFactor(s, ma1, mb1),\n",
    "    # rho[1, 1]: PhaseSpaceFactor(s, ma2, mb2),\n",
    "}"
   ]
  },
  {
   "cell_type": "code",
   "execution_count": null,
   "metadata": {},
   "outputs": [],
   "source": [
    "rho_expressions_rotated = {\n",
    "    **cm_expressions,\n",
    "    rho[0, 0]: PhaseSpaceFactor_Rotated(s, ma1, mb1, phi),\n",
    "    # rho[1, 1]: PhaseSpaceFactor(s, ma2, mb2),\n",
    "}"
   ]
  },
  {
   "cell_type": "code",
   "execution_count": null,
   "metadata": {},
   "outputs": [],
   "source": [
    "T_II_rho_expr_00 = T_II_explicit[0, 0].xreplace(rho_expressions)\n",
    "T_II_rho_expr_rotated_00 = T_II_explicit[0, 0].xreplace(rho_expressions_rotated)"
   ]
  },
  {
   "cell_type": "code",
   "execution_count": null,
   "metadata": {},
   "outputs": [],
   "source": [
    "T_II_rho_expr_00.simplify(doit=False)"
   ]
  },
  {
   "cell_type": "code",
   "execution_count": null,
   "metadata": {},
   "outputs": [],
   "source": [
    "T_II_rho_expr_rotated_00.simplify(doit=False)"
   ]
  },
  {
   "cell_type": "code",
   "execution_count": null,
   "metadata": {},
   "outputs": [],
   "source": [
    "T_I_func = sp.lambdify(symbols, T_I_cm_expr_00.doit())\n",
    "T_II_func = sp.lambdify(symbols, T_II_rho_expr_00.doit())\n",
    "values = {\n",
    "    ma1: 0.9,\n",
    "    mb1: 0.8,\n",
    "    ma2: 10,\n",
    "    mb2: 10,\n",
    "    m0: 3.1,\n",
    "    w0: 1.0,\n",
    "    gamma1: 1,\n",
    "    gamma2: 1,\n",
    "}\n",
    "\n",
    "args = eval(str(symbols[1:].xreplace(values)))\n",
    "\n",
    "epsilon = 1e-5\n",
    "x = np.linspace(0, 6, num=200)\n",
    "y = np.linspace(epsilon, 1, num=100)\n",
    "X, Y = np.meshgrid(x, y)\n",
    "Zn = X - Y * 1j\n",
    "Zp = X + Y * 1j\n",
    "\n",
    "T1n = T_I_func(Zn**2, *args)\n",
    "T1p = T_I_func(Zp**2, *args)\n",
    "\n",
    "T2n = T_II_func(Zn**2, *args)\n",
    "T2p = T_II_func(Zp**2, *args)\n",
    "\n",
    "fig, axes = plt.subplots(figsize=(10, 6), ncols=2, sharey=True)\n",
    "ax1, ax2 = axes\n",
    "for ax in axes:\n",
    "    ax.set_xlabel(R\"$\\mathrm{Re}(s)$\")\n",
    "\n",
    "ax1.plot(x, T1n[0].imag, label=R\"$T_\\mathrm{I}(s-0i)$\")\n",
    "ax1.plot(x, T1p[0].imag, label=R\"$T_\\mathrm{I}(s+0i)$\")\n",
    "ax1.set_title(f\"${sp.latex(rho_cm_expr)}$\")\n",
    "ax1.set_title(R\"$T_\\mathrm{I}$\")\n",
    "\n",
    "ax2.plot(x, T2n[0].imag, label=R\"$T_\\mathrm{II}(s-0i)$\")\n",
    "ax2.plot(x, T2p[0].imag, label=R\"$T_\\mathrm{II}(s+0i)$\")\n",
    "ax2.set_title(R\"$T_\\mathrm{II}$\")\n",
    "\n",
    "for ax in axes:\n",
    "    ax.legend()\n",
    "\n",
    "fig.tight_layout()\n",
    "plt.show()"
   ]
  },
  {
   "cell_type": "code",
   "execution_count": null,
   "metadata": {},
   "outputs": [],
   "source": [
    "%config InlineBackend.figure_formats = [\"png\"]\n",
    "fig, axes_2 = plt.subplots(figsize=(10, 6), ncols=3, sharey=True)\n",
    "ax3, ax4, ax5 = axes_2\n",
    "ax3.set_xlabel(R\"$\\mathrm{Re}\\,s$\")\n",
    "ax3.set_ylabel(R\"$\\mathrm{Im}\\,s$\")\n",
    "T_max = 1.5\n",
    "mesh1 = ax3.pcolormesh(X, Y, T1p.imag, vmin=-T_max, vmax=+T_max, cmap=plt.cm.coolwarm)\n",
    "mesh2 = ax4.pcolormesh(X, -Y, T2n.imag, vmin=-T_max, vmax=+T_max, cmap=plt.cm.coolwarm)\n",
    "mesh3 = ax5.pcolormesh(X, Y, T1p.imag, vmin=-T_max, vmax=+T_max, cmap=plt.cm.coolwarm)\n",
    "mesh3 = ax5.pcolormesh(X, -Y, T2n.imag, vmin=-T_max, vmax=+T_max, cmap=plt.cm.coolwarm)\n",
    "plt.colorbar(mesh1, ax=ax5, pad=0.02)\n",
    "fig.tight_layout()\n",
    "plt.show()"
   ]
  },
  {
   "cell_type": "markdown",
   "metadata": {},
   "source": [
    "## Investigation on rotation the branch cut of the second sheet "
   ]
  },
  {
   "cell_type": "code",
   "execution_count": null,
   "metadata": {},
   "outputs": [],
   "source": [
    "T_II_func_rot = sp.lambdify(symbols_rot, T_II_rho_expr_rotated_00.doit())\n",
    "values_rot = {\n",
    "    ma1: 0.9,\n",
    "    mb1: 0.8,\n",
    "    ma2: 10,\n",
    "    mb2: 10,\n",
    "    m0: 3.1,\n",
    "    w0: 1.0,\n",
    "    gamma1: 1,\n",
    "    gamma2: 1,\n",
    "    phi_rot: 2 * np.pi,\n",
    "}\n",
    "args_rot = eval(str(symbols_rot[1:].xreplace(values_rot)))\n",
    "\n",
    "T2n_rot = T_II_func_rot(Zn**2, *args_rot)\n",
    "T2p_rot = T_II_func_rot(Zp**2, *args_rot)\n",
    "s_thr = values_rot[ma1] + values_rot[mb1]"
   ]
  },
  {
   "cell_type": "code",
   "execution_count": null,
   "metadata": {},
   "outputs": [],
   "source": [
    "%config InlineBackend.figure_formats = [\"png\"]\n",
    "fig_3, axes_3 = plt.subplots(figsize=(10, 6), ncols=3, sharey=True)\n",
    "ax6, ax7, ax8 = axes_3\n",
    "ax6.set_xlabel(R\"$\\mathrm{Re}\\,s$\")\n",
    "ax6.set_ylabel(R\"$\\mathrm{Im}\\,s$\")\n",
    "T_max = 1.5\n",
    "mesh4 = ax6.pcolormesh(X, Y, T1p.imag, vmin=-T_max, vmax=+T_max, cmap=plt.cm.coolwarm)\n",
    "mesh5 = ax6.pcolormesh(X, -Y, T1n.imag, vmin=-T_max, vmax=+T_max, cmap=plt.cm.coolwarm)\n",
    "mesh6 = ax7.pcolormesh(\n",
    "    X, Y, T2p_rot.imag, vmin=-T_max, vmax=+T_max, cmap=plt.cm.coolwarm\n",
    ")\n",
    "mesh7 = ax7.pcolormesh(\n",
    "    X, -Y, T2n_rot.imag, vmin=-T_max, vmax=+T_max, cmap=plt.cm.coolwarm\n",
    ")\n",
    "mesh8 = ax8.pcolormesh(X, Y, T1p.imag, vmin=-T_max, vmax=+T_max, cmap=plt.cm.coolwarm)\n",
    "mesh9 = ax8.pcolormesh(\n",
    "    X, -Y, T2n_rot.imag, vmin=-T_max, vmax=+T_max, cmap=plt.cm.coolwarm\n",
    ")\n",
    "\n",
    "\n",
    "plt.colorbar(mesh4, ax=ax8, pad=0.02)\n",
    "fig_3.tight_layout()\n",
    "plt.show()"
   ]
  },
  {
   "cell_type": "code",
   "execution_count": null,
   "metadata": {},
   "outputs": [],
   "source": [
    "def sty(sheet_name: str) -> dict:\n",
    "    sheet_color = sheet_colors[sheet_name]\n",
    "    n_lines = 16\n",
    "    return dict(\n",
    "        cmin=-vmax,\n",
    "        cmax=+vmax,\n",
    "        colorscale=[[0, \"rgb(0, 0, 0)\"], [1, sheet_color]],\n",
    "        contours=dict(\n",
    "            x=dict(\n",
    "                show=True,\n",
    "                start=x.min(),\n",
    "                end=x.max(),\n",
    "                size=(x.max() - x.min()) / n_lines,\n",
    "                color=\"black\",\n",
    "            ),\n",
    "            y=dict(\n",
    "                show=True,\n",
    "                start=-y.max(),\n",
    "                end=+y.max(),\n",
    "                size=(y.max() - y.min()) / (n_lines // 2),\n",
    "                color=\"black\",\n",
    "            ),\n",
    "        ),\n",
    "        name=sheet_name,\n",
    "        opacity=0.6,\n",
    "        showscale=False,\n",
    "    )\n",
    "\n",
    "\n",
    "vmax = 1.6\n",
    "project = np.imag\n",
    "sheet_colors = {\n",
    "    \"Physical (T1)\": \"blue\",\n",
    "    \"Unphysical (T2)\": \"red\",\n",
    "}"
   ]
  },
  {
   "cell_type": "code",
   "execution_count": null,
   "metadata": {},
   "outputs": [],
   "source": [
    "Sn = go.Surface(x=X, y=-Y, z=T2n.imag, **sty(\"Unphysical (T2)\"))\n",
    "Sp = go.Surface(x=X, y=+Y, z=T1p.imag, **sty(\"Physical (T1)\"))\n",
    "zeros = np.zeros(x.shape)\n",
    "lineshape = go.Scatter3d(\n",
    "    x=x,\n",
    "    y=zeros,\n",
    "    z=project(T1p[0]),\n",
    "    line=dict(color=\"yellow\", width=10),\n",
    "    mode=\"lines\",\n",
    "    name=\"Lineshape\",\n",
    ")\n",
    "\n",
    "fig = go.Figure(data=[Sn, Sp, lineshape])\n",
    "fig.update_layout(\n",
    "    height=550,\n",
    "    margin=dict(l=0, r=0, t=30, b=0),\n",
    "    showlegend=False,\n",
    "    title_text=\"Im(T) with Chew-Mandelstam phase space factor\",\n",
    ")\n",
    "fig.update_scenes(\n",
    "    camera_center=dict(z=-0.2),\n",
    "    xaxis_title_text=\"Re s\",\n",
    "    yaxis_title_text=\"Im s\",\n",
    "    zaxis_range=[-vmax, +vmax],\n",
    ")\n",
    "\n",
    "fig.show()"
   ]
  },
  {
   "cell_type": "code",
   "execution_count": null,
   "metadata": {},
   "outputs": [],
   "source": []
  },
  {
   "cell_type": "code",
   "execution_count": null,
   "metadata": {},
   "outputs": [],
   "source": []
  },
  {
   "cell_type": "code",
   "execution_count": null,
   "metadata": {},
   "outputs": [],
   "source": []
  }
 ],
 "metadata": {
  "colab": {
   "toc_visible": true
  },
  "kernelspec": {
   "display_name": "Python 3 (ipykernel)",
   "language": "python",
   "name": "python3"
  },
  "language_info": {
   "codemirror_mode": {
    "name": "ipython",
    "version": 3
   },
   "file_extension": ".py",
   "mimetype": "text/x-python",
   "name": "python",
   "nbconvert_exporter": "python",
   "pygments_lexer": "ipython3",
   "version": "3.10.13"
  }
 },
 "nbformat": 4,
 "nbformat_minor": 4
}
