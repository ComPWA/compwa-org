{
 "cells": [
  {
   "cell_type": "markdown",
   "metadata": {},
   "source": [
    "# [TR-000] Lambdified square roots"
   ]
  },
  {
   "cell_type": "code",
   "execution_count": null,
   "metadata": {
    "jupyter": {
     "source_hidden": true
    },
    "tags": [
     "hide-cell"
    ]
   },
   "outputs": [],
   "source": [
    "%%sh\n",
    "pip install jax==0.2.13 jaxlib==0.1.67 numpy==1.19.5 sympy==1.8 > /dev/null"
   ]
  },
  {
   "cell_type": "markdown",
   "metadata": {},
   "source": [
    "## Negative input values"
   ]
  },
  {
   "cell_type": "markdown",
   "metadata": {},
   "source": [
    "A {func}`~sympy.functions.elementary.miscellaneous.sqrt` in {mod}`sympy` is lambdified to a {doc}`numpy.sqrt() <reference/generated/numpy.sqrt>` when using {mod}`numpy` as back-end:"
   ]
  },
  {
   "cell_type": "code",
   "execution_count": null,
   "metadata": {},
   "outputs": [],
   "source": [
    "import sympy as sp\n",
    "\n",
    "x = sp.Symbol(\"x\")\n",
    "sqrt_expr = sp.sqrt(x)\n",
    "sqrt_expr"
   ]
  },
  {
   "cell_type": "code",
   "execution_count": null,
   "metadata": {},
   "outputs": [],
   "source": [
    "import inspect\n",
    "\n",
    "np_sqrt = sp.lambdify(x, sqrt_expr, \"numpy\")\n",
    "source = inspect.getsource(np_sqrt)\n",
    "print(source)"
   ]
  },
  {
   "cell_type": "markdown",
   "metadata": {},
   "source": [
    "When input values for the {doc}`numpy.sqrt() <reference/generated/numpy.sqrt>` are negative, it raises a {class}`RuntimeWarning` and returns `NaN`:"
   ]
  },
  {
   "cell_type": "code",
   "execution_count": null,
   "metadata": {},
   "outputs": [],
   "source": [
    "import numpy as np\n",
    "\n",
    "sample = np.linspace(-1, 1, 5)\n",
    "np_sqrt(sample)"
   ]
  },
  {
   "cell_type": "markdown",
   "metadata": {},
   "source": [
    "As a work-around, one can use {class}`complex` input data instead (e.g. {doc}`numpy.complex64 <numpy:reference/arrays.scalars>`): negative values are treated as lying just above the real axis, so that their square root is a positive imaginary number:"
   ]
  },
  {
   "cell_type": "code",
   "execution_count": null,
   "metadata": {},
   "outputs": [],
   "source": [
    "complex_sample = sample.astype(np.complex64)\n",
    "np_sqrt(complex_sample)"
   ]
  },
  {
   "cell_type": "markdown",
   "metadata": {},
   "source": [
    "Lambdifying a {func}`sympy.sqrt <sympy.functions.elementary.miscellaneous.sqrt>` to [JAX](https://jax.rtfd.io) also goes without problems:"
   ]
  },
  {
   "cell_type": "code",
   "execution_count": null,
   "metadata": {},
   "outputs": [],
   "source": [
    "import jax\n",
    "import jax.numpy as jnp\n",
    "\n",
    "jax_sqrt = jax.jit(sp.lambdify(x, sqrt_expr, jnp))\n",
    "source = inspect.getsource(jax_sqrt)\n",
    "print(source)"
   ]
  },
  {
   "cell_type": "code",
   "execution_count": null,
   "metadata": {},
   "outputs": [],
   "source": [
    "jax_sqrt(sample)"
   ]
  },
  {
   "cell_type": "code",
   "execution_count": null,
   "metadata": {},
   "outputs": [],
   "source": [
    "jax_sqrt(complex_sample)"
   ]
  },
  {
   "cell_type": "markdown",
   "metadata": {},
   "source": [
    "There is a problem with this approach though: once input data is cast to complex values, _all_ square roots in a larger expression (some amplitude model) compute imaginary solutions for negative values, while this is not always the desired behavior. Take for instance the two square roots appearing in {func}`~ampform.dynamics.phase_space_factor` --- does the $\\sqrt{s}$ also have to be evaluatable for negative $s$?"
   ]
  },
  {
   "cell_type": "markdown",
   "metadata": {},
   "source": [
    "## Complex square root"
   ]
  },
  {
   "cell_type": "markdown",
   "metadata": {},
   "source": [
    "Numpy also offers a special function that does evaluate negative values: {func}`numpy.lib.scimath.sqrt`:"
   ]
  },
  {
   "cell_type": "code",
   "execution_count": null,
   "metadata": {},
   "outputs": [],
   "source": [
    "from numpy.lib.scimath import sqrt as csqrt\n",
    "\n",
    "csqrt(-1)"
   ]
  },
  {
   "cell_type": "markdown",
   "metadata": {},
   "source": [
    "However, the {mod}`jax.numpy` API does not interface to {mod}`numpy.lib.scimath`, nor can {func}`numpy.lib.scimath.sqrt` be decorated with {func}`jax.jit`:"
   ]
  },
  {
   "cell_type": "code",
   "execution_count": null,
   "metadata": {
    "jupyter": {
     "outputs_hidden": true
    },
    "tags": [
     "raises-exception",
     "hide-output"
    ]
   },
   "outputs": [],
   "source": [
    "jax_csqrt = jax.jit(csqrt, backend=\"cpu\")\n",
    "jax_csqrt(1j)"
   ]
  },
  {
   "cell_type": "markdown",
   "metadata": {
    "tags": []
   },
   "source": [
    "## Conditional square root"
   ]
  },
  {
   "cell_type": "markdown",
   "metadata": {},
   "source": [
    "To be able to control which square roots in the complete expression should be evaluatable for negative values, one could use {class}`~sympy.functions.elementary.piecewise.Piecewise`:"
   ]
  },
  {
   "cell_type": "code",
   "execution_count": null,
   "metadata": {},
   "outputs": [],
   "source": [
    "def complex_sqrt(x: sp.Symbol) -> sp.Expr:\n",
    "    return sp.Piecewise(\n",
    "        (sp.sqrt(-x) * sp.I, x < 0),\n",
    "        (sp.sqrt(x), True),\n",
    "    )\n",
    "\n",
    "\n",
    "complex_sqrt(x)"
   ]
  },
  {
   "cell_type": "code",
   "execution_count": null,
   "metadata": {},
   "outputs": [],
   "source": [
    "display(\n",
    "    complex_sqrt(-4),\n",
    "    complex_sqrt(+4),\n",
    ")"
   ]
  },
  {
   "cell_type": "markdown",
   "metadata": {},
   "source": [
    "Be careful though when lambdifying this expression: _do not use the `__dict__` of the {mod}`numpy` module as backend_, but use the module itself instead. When using `__dict__`, {func}`~sympy.utilities.lambdify.lambdify` will return an `if-else` statement, which is inefficient and, worse, will result in problems with {doc}`JAX <jax:index>`:"
   ]
  },
  {
   "cell_type": "code",
   "execution_count": null,
   "metadata": {},
   "outputs": [],
   "source": [
    "np_complex_sqrt_no_select = sp.lambdify(x, complex_sqrt(x), np.__dict__)\n",
    "source = inspect.getsource(np_complex_sqrt_no_select)\n",
    "print(source)"
   ]
  },
  {
   "cell_type": "code",
   "execution_count": null,
   "metadata": {},
   "outputs": [],
   "source": [
    "np_complex_sqrt_no_select(-1)"
   ]
  },
  {
   "cell_type": "code",
   "execution_count": null,
   "metadata": {
    "tags": [
     "raises-exception",
     "remove-output"
    ]
   },
   "outputs": [],
   "source": [
    "import jax\n",
    "\n",
    "jax_complex_sqrt_no_select = jax.jit(np_complex_sqrt_no_select)\n",
    "jax_complex_sqrt_no_select(-1)"
   ]
  },
  {
   "cell_type": "markdown",
   "metadata": {},
   "source": [
    "When instead using the {mod}`numpy` module (or `\"numpy\"`), {func}`~sympy.utilities.lambdify.lambdify` correctly lambdifies to {func}`numpy.select` to represent the cases."
   ]
  },
  {
   "cell_type": "code",
   "execution_count": null,
   "metadata": {},
   "outputs": [],
   "source": [
    "np_complex_sqrt = sp.lambdify(x, complex_sqrt(x), np)\n",
    "source = inspect.getsource(np_complex_sqrt)\n",
    "print(source)"
   ]
  },
  {
   "cell_type": "markdown",
   "metadata": {},
   "source": [
    "Still, JAX does not handle this correctly. The printed source code seems ok, but this lambdified function crashes once used:"
   ]
  },
  {
   "cell_type": "code",
   "execution_count": null,
   "metadata": {},
   "outputs": [],
   "source": [
    "import jax.numpy as jnp\n",
    "\n",
    "jax_complex_sqrt_error = jax.jit(sp.lambdify(x, complex_sqrt(x), jnp))\n",
    "source = inspect.getsource(np_complex_sqrt)\n",
    "print(source)"
   ]
  },
  {
   "cell_type": "code",
   "execution_count": null,
   "metadata": {
    "jupyter": {
     "outputs_hidden": true
    },
    "tags": [
     "raises-exception",
     "remove-output"
    ]
   },
   "outputs": [],
   "source": [
    "jax_complex_sqrt_error(-1)"
   ]
  },
  {
   "cell_type": "markdown",
   "metadata": {},
   "source": [
    "The very same function in created purely with {mod}`jax.numpy` does work without problems, so it seems this is a SymPy problem:"
   ]
  },
  {
   "cell_type": "code",
   "execution_count": null,
   "metadata": {},
   "outputs": [],
   "source": [
    "@jax.jit\n",
    "def jax_complex_sqrt(x):\n",
    "    return jnp.select(\n",
    "        [jnp.less(x, 0), True],\n",
    "        [1j * jnp.sqrt(-x), jnp.sqrt(x)],\n",
    "        default=jnp.nan,\n",
    "    )"
   ]
  },
  {
   "cell_type": "code",
   "execution_count": null,
   "metadata": {},
   "outputs": [],
   "source": [
    "jax_complex_sqrt(sample)"
   ]
  }
 ],
 "metadata": {
  "keep_output": true,
  "kernelspec": {
   "display_name": "Python 3",
   "language": "python",
   "name": "python3"
  },
  "language_info": {
   "codemirror_mode": {
    "name": "ipython",
    "version": 3
   },
   "file_extension": ".py",
   "mimetype": "text/x-python",
   "name": "python",
   "nbconvert_exporter": "python",
   "pygments_lexer": "ipython3",
   "version": "3.8.10"
  }
 },
 "nbformat": 4,
 "nbformat_minor": 4
}
