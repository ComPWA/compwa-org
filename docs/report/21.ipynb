{
 "cells": [
  {
   "cell_type": "code",
   "execution_count": null,
   "metadata": {
    "hideCode": true,
    "hideOutput": true,
    "hidePrompt": true,
    "jupyter": {
     "source_hidden": true
    },
    "slideshow": {
     "slide_type": "skip"
    },
    "tags": [
     "remove-cell"
    ]
   },
   "outputs": [],
   "source": [
    "import os\n",
    "\n",
    "STATIC_WEB_PAGE = {\"EXECUTE_NB\", \"READTHEDOCS\"}.intersection(os.environ)"
   ]
  },
  {
   "cell_type": "markdown",
   "metadata": {},
   "source": [
    "```{autolink-concat}\n",
    "```"
   ]
  },
  {
   "cell_type": "markdown",
   "metadata": {},
   "source": [
    "# [R21] Line Shape - Flatte "
   ]
  },
  {
   "cell_type": "code",
   "execution_count": null,
   "metadata": {
    "tags": [
     "remove-cell"
    ]
   },
   "outputs": [],
   "source": [
    "%pip install -q ampform==0.14.8 plotly==5.17.0 sympy==1.12 tensorwaves[jax]==0.4.10"
   ]
  },
  {
   "cell_type": "markdown",
   "metadata": {},
   "source": [
    "## Generate transitions"
   ]
  },
  {
   "cell_type": "code",
   "execution_count": null,
   "metadata": {},
   "outputs": [],
   "source": [
    "from collections import defaultdict\n",
    "from typing import Dict, List, Tuple\n",
    "import ampform\n",
    "import graphviz\n",
    "import sympy as sp\n",
    "from ampform import ReactionInfo\n",
    "from ampform.dynamics.builder import TwoBodyKinematicVariableSet\n",
    "from ampform.io import aslatex\n",
    "from IPython.display import Latex, Markdown, Math\n",
    "from qrules.particle import Particle\n",
    "from qrules.transition import ReactionInfo\n",
    "from __future__ import annotations\n",
    "\n",
    "import warnings\n",
    "from typing import Any\n",
    "\n",
    "import matplotlib.pyplot as plt\n",
    "import numpy as np\n",
    "import plotly.graph_objects as go\n",
    "import sympy as sp\n",
    "from ampform.io import aslatex\n",
    "from ampform.sympy import unevaluated\n",
    "from IPython.display import Math"
   ]
  },
  {
   "cell_type": "code",
   "execution_count": null,
   "metadata": {
    "editable": true,
    "slideshow": {
     "slide_type": ""
    },
    "tags": []
   },
   "outputs": [],
   "source": [
    "from __future__ import annotations\n",
    "\n",
    "import qrules\n",
    "from qrules.particle import ParticleCollection\n",
    "from qrules.transition import ReactionInfo\n",
    "\n",
    "FINAL_STATES: list[tuple[str, ...]] = [\n",
    "    [\"eta\", \"pi0\", \"gamma\"],\n",
    "    [\"K0\", \"K~0\", \"gamma\"],\n",
    "]\n",
    "REACTIONS: list[ReactionInfo] = [\n",
    "    qrules.generate_transitions(\n",
    "        initial_state=\"J/psi(1S)\",\n",
    "        final_state=final_state,\n",
    "        # Different quantum numbers\n",
    "        allowed_intermediate_particles=[\"a(0)(980)\"],\n",
    "        # Same quantum numbers\n",
    "        # allowed_intermediate_particles=[\"N(1895)+\", \"N(1650)+\"],\n",
    "        allowed_interaction_types=[\"strong\", \"em\"],\n",
    "        formalism=\"canonical-helicity\",\n",
    "    )\n",
    "    for final_state in FINAL_STATES\n",
    "]"
   ]
  },
  {
   "cell_type": "markdown",
   "metadata": {},
   "source": [
    "## Model formulation"
   ]
  },
  {
   "cell_type": "code",
   "execution_count": null,
   "metadata": {
    "editable": true,
    "slideshow": {
     "slide_type": ""
    },
    "tags": []
   },
   "outputs": [],
   "source": [
    "from collections import defaultdict\n",
    "\n",
    "import ampform\n",
    "import sympy as sp\n",
    "from ampform.helicity import TwoBodyKinematicVariableSet\n",
    "from qrules.particle import Particle\n",
    "\n",
    "COLLECTED_X_SYMBOLS: dict[sp.Symbol, list[tuple[Particle, int]]] = defaultdict(set)\n",
    "\n",
    "\n",
    "def create_dynamics_symbol(\n",
    "    resonance: Particle, variable_pool: TwoBodyKinematicVariableSet\n",
    ") -> Tuple[sp.Expr, Dict[sp.Symbol, float]]:\n",
    "    L = sp.Rational(variable_pool.angular_momentum)\n",
    "    J = sp.Rational(resonance.spin)\n",
    "    Q = resonance.charge\n",
    "    P = sp.Rational(resonance.parity)\n",
    "    superscript = f\"L={L},S={J}\"\n",
    "    subscript = f\"Q={Q:+d},P={int(P):+d}\"\n",
    "    X = sp.Symbol(f\"X^{{{superscript}}}_{{{subscript}}}\")\n",
    "    COLLECTED_X_SYMBOLS[X].add((resonance, variable_pool.angular_momentum))\n",
    "    parameter_defaults = {}\n",
    "    retur1n X, parameter_defaults\n",
    "\n",
    "\n",
    "MODELS = []\n",
    "for reaction in REACTIONS:\n",
    "    builder = ampform.get_builder(reaction)\n",
    "    builder.adapter.permutate_registered_topologies()\n",
    "    builder.scalar_initial_state_mass = True\n",
    "    builder.stable_final_state_ids = [0, 1, 2]\n",
    "    for resonance in reaction.get_intermediate_particles():\n",
    "        builder.set_dynamics(resonance.name, create_dynamics_symbol)\n",
    "    MODELS.append(builder.formulate())"
   ]
  },
  {
   "cell_type": "code",
   "execution_count": null,
   "metadata": {
    "editable": true,
    "slideshow": {
     "slide_type": ""
    },
    "tags": []
   },
   "outputs": [],
   "source": [
    "from ampform.io import aslatex\n",
    "from IPython.display import Math\n",
    "\n",
    "selected_amplitudes = {\n",
    "    k: v for i, (k, v) in enumerate(MODELS[0].amplitudes.items()) if i < 3\n",
    "}"
   ]
  },
  {
   "cell_type": "markdown",
   "metadata": {},
   "source": [
    "## K-matrix dynamics"
   ]
  },
  {
   "cell_type": "code",
   "execution_count": null,
   "metadata": {
    "editable": true,
    "slideshow": {
     "slide_type": ""
    },
    "tags": []
   },
   "outputs": [],
   "source": [
    "for X, resonance_info in COLLECTED_X_SYMBOLS.items():\n",
    "    for res, L in sorted(resonance_info):\n",
    "        display(X)\n",
    "        print(f\"  {res.name:<20s} {res.mass:>8g} GeV  {res.width:>8g} GeV\")"
   ]
  },
  {
   "cell_type": "code",
   "execution_count": null,
   "metadata": {},
   "outputs": [],
   "source": [
    "from dataclasses import dataclass\n",
    "\n",
    "\n",
    "@dataclass\n",
    "class TwoBodyDecay:  # specific to the channel\n",
    "    child1: Particle\n",
    "    child2: Particle\n",
    "\n",
    "\n",
    "DECAYS = tuple(\n",
    "    TwoBodyDecay(\n",
    "        child1=reaction.final_state[0],\n",
    "        child2=reaction.final_state[1],\n",
    "    )\n",
    "    for reaction in REACTIONS\n",
    ")\n",
    "s = sp.Symbol(\"m_01\", real=True) ** 2"
   ]
  },
  {
   "cell_type": "code",
   "execution_count": null,
   "metadata": {},
   "outputs": [],
   "source": [
    "PARAMETERS_DEFAULTS = {}\n",
    "for model in MODELS:\n",
    "    PARAMETERS_DEFAULTS.update(model.parameter_defaults)"
   ]
  },
  {
   "cell_type": "code",
   "execution_count": null,
   "metadata": {},
   "outputs": [],
   "source": [
    "resonances, *_ = COLLECTED_X_SYMBOLS.values()"
   ]
  },
  {
   "cell_type": "markdown",
   "metadata": {},
   "source": [
    "## Formulate $K$ matrix"
   ]
  },
  {
   "cell_type": "code",
   "execution_count": null,
   "metadata": {},
   "outputs": [],
   "source": [
    "n_channels = len(REACTIONS)\n",
    "I = sp.Identity(n_channels)\n",
    "K = sp.MatrixSymbol(\"K\", n_channels, n_channels)\n",
    "rho = sp.MatrixSymbol(\"rho\", n_channels, n_channels)"
   ]
  },
  {
   "cell_type": "code",
   "execution_count": null,
   "metadata": {},
   "outputs": [],
   "source": [
    "from ampform.kinematics.phasespace import Kallen\n",
    "\n",
    "\n",
    "@unevaluated(real=False)\n",
    "class PhaseSpaceFactor_Kaellen(sp.Expr):\n",
    "    s: Any\n",
    "    m1: Any\n",
    "    m2: Any\n",
    "    _latex_repr_ = R\"\\rho_{{{m1}, {m2}}}\\left({s}\\right)\"\n",
    "\n",
    "    def evaluate(self) -> sp.Expr:\n",
    "        s, m1, m2 = self.args\n",
    "        return 2 * BreakupMomentum(s, m1, m2) / sp.sqrt(s)\n",
    "\n",
    "\n",
    "@unevaluated(real=False)\n",
    "class ChewMandelstam(sp.Expr):\n",
    "    s: Any\n",
    "    m1: Any\n",
    "    m2: Any\n",
    "    _latex_repr_ = R\"\\Sigma\\left({s}\\right)\"\n",
    "\n",
    "    def evaluate(self) -> sp.Expr:\n",
    "        s, m1, m2 = self.args\n",
    "        q = BreakupMomentum(s, m1, m2)\n",
    "        return (\n",
    "            1\n",
    "            / (16 * sp.pi**2)\n",
    "            * (\n",
    "                (2 * q / sp.sqrt(s))\n",
    "                * sp.log((m1**2 + m2**2 - s + 2 * sp.sqrt(s) * q) / (2 * m1 * m2))\n",
    "                - (m1**2 - m2**2) * (1 / s - 1 / (m1 + m2) ** 2) * sp.log(m1 / m2)\n",
    "            )\n",
    "        )\n",
    "\n",
    "\n",
    "@unevaluated(real=False)\n",
    "class BreakupMomentum(sp.Expr):\n",
    "    s: Any\n",
    "    m1: Any\n",
    "    m2: Any\n",
    "    _latex_repr_ = R\"q\\left({s}\\right)\"\n",
    "\n",
    "    def evaluate(self) -> sp.Expr:\n",
    "        s, m1, m2 = self.args\n",
    "        return sp.sqrt(Kallen(s, m1**2, m2**2)) / (2 * sp.sqrt(s))"
   ]
  },
  {
   "cell_type": "code",
   "execution_count": null,
   "metadata": {
    "editable": true,
    "slideshow": {
     "slide_type": ""
    },
    "tags": []
   },
   "outputs": [],
   "source": [
    "from ampform.dynamics import BlattWeisskopfSquared, BreakupMomentumSquared\n",
    "from ampform.dynamics.builder import TwoBodyKinematicVariableSet\n",
    "from ampform.dynamics.phasespace import PhaseSpaceFactor, PhaseSpaceFactorComplex\n",
    "from sympy.matrices.expressions.matexpr import MatrixElement\n",
    "\n",
    "\n",
    "def formulate_K_matrix(\n",
    "    resonances: list[tuple[Resonances, int]], n_channels: int\n",
    ") -> dict[MatrixElement, sp.Expr]:\n",
    "    Kmatrix_expressions = {}\n",
    "    for i in range(n_channels):\n",
    "        for j in range(n_channels):\n",
    "            resonance_contributions = []\n",
    "            for res, L_R in resonances:\n",
    "                s = sp.Symbol(\"m_01\", evaluate=False) ** 2\n",
    "                m_a_i = sp.Symbol(Rf\"m_{{0,{i}}}\")\n",
    "                m_b_i = sp.Symbol(Rf\"m_{{1,{i}}}\")\n",
    "                m_a_j = sp.Symbol(Rf\"m_{{0,{j}}}\")\n",
    "                m_b_j = sp.Symbol(Rf\"m_{{1,{j}}}\")\n",
    "                w_R = sp.Symbol(Rf\"\\Gamma_{{{res.latex}}}\")\n",
    "                gamma_Ri = sp.Symbol(Rf\"\\gamma_{{{res.latex},{i}}}\")\n",
    "                gamma_Rj = sp.Symbol(Rf\"\\gamma_{{{res.latex},{j}}}\")\n",
    "                d_R = sp.Symbol(Rf\"R_{{{res.latex}}}\")\n",
    "                q_i = BreakupMomentum(s, m_a_i, m_b_i)\n",
    "                q_j = BreakupMomentum(s, m_a_j, m_b_j)\n",
    "                ff_Ri = sp.sqrt(BlattWeisskopfSquared(L_R, q_i * d_R**2))\n",
    "                ff_Rj = sp.sqrt(BlattWeisskopfSquared(L_R, q_j * d_R**2))\n",
    "                m_R = sp.Symbol(Rf\"m_{{{res.latex}}}\")\n",
    "                rho_i = -ChewMandelstam(s, m_a_i, m_b_i) * 16 * sp.pi * sp.I\n",
    "                rho_j = -ChewMandelstam(s, m_a_j, m_b_j) * 16 * sp.pi * sp.I\n",
    "                # Default parameter values\n",
    "                parameter_defaults = {\n",
    "                    m_a_i: DECAYS[i].child1.mass,\n",
    "                    m_b_i: DECAYS[i].child2.mass,\n",
    "                    m_a_j: DECAYS[j].child1.mass,\n",
    "                    m_b_j: DECAYS[j].child2.mass,\n",
    "                    w_R: res.width,\n",
    "                    gamma_Ri: 1,\n",
    "                    gamma_Rj: 1,\n",
    "                    d_R: 1,\n",
    "                    m_R: res.mass,\n",
    "                }\n",
    "                PARAMETERS_DEFAULTS.update(parameter_defaults)\n",
    "                expr = (gamma_Ri * gamma_Rj * ff_Ri * ff_Rj * m_R * w_R) / (\n",
    "                    (s - m_R**2) * sp.sqrt(rho_i * rho_j)\n",
    "                )\n",
    "                resonance_contributions.append(expr)\n",
    "            Kmatrix_expressions[K[i, j]] = sum(resonance_contributions)\n",
    "\n",
    "    return Kmatrix_expressions\n",
    "\n",
    "\n",
    "K_expressions = formulate_K_matrix(resonances, n_channels=len(REACTIONS))\n",
    "Math(aslatex(K_expressions))"
   ]
  },
  {
   "cell_type": "code",
   "execution_count": null,
   "metadata": {},
   "outputs": [],
   "source": [
    "K.as_explicit().inv()"
   ]
  },
  {
   "cell_type": "code",
   "execution_count": null,
   "metadata": {},
   "outputs": [],
   "source": [
    "import numpy as np\n",
    "import sympy as sp\n",
    "from ampform.dynamics.phasespace import PhaseSpaceFactor, PhaseSpaceFactorComplex\n",
    "from sympy.matrices import MatrixSymbol\n",
    "\n",
    "\n",
    "def formulate_Phsp_matrix(n_channels: int) -> dict[sp.MatrixElement, sp.Expr]:\n",
    "    matrix_expressions = {}\n",
    "\n",
    "    for i in range(n_channels):\n",
    "        for j in range(n_channels):\n",
    "            if i == j:\n",
    "                m_a_i = sp.Symbol(Rf\"m_{{0,{i}}}\")\n",
    "                m_b_i = sp.Symbol(Rf\"m_{{1,{i}}}\")\n",
    "                rho_i = ChewMandelstam(s, m_a_i, m_b_i) * 16 * sp.pi\n",
    "                matrix_expressions[rho[i, j]] = rho_i\n",
    "            else:\n",
    "                matrix_expressions[rho[i, j]] = 0\n",
    "                if i < len(DECAYS) and j < len(DECAYS):\n",
    "                    m_a_i = sp.Symbol(Rf\"m_{{0,{i}}}\")\n",
    "                    m_b_i = sp.Symbol(Rf\"m_{{1,{i}}}\")\n",
    "                    rho_i = rho_i = ChewMandelstam(s, m_a_i, m_b_i) * 16 * sp.pi\n",
    "                    parameter_defaults = {\n",
    "                        m_a_i: DECAYS[i].child1.mass,\n",
    "                        m_b_i: DECAYS[i].child2.mass,\n",
    "                    }\n",
    "                    PARAMETERS_DEFAULTS.update(parameter_defaults)\n",
    "\n",
    "    return matrix_expressions\n",
    "\n",
    "\n",
    "Phsp_expressions = formulate_Phsp_matrix(n_channels=len(REACTIONS))\n",
    "rho.as_explicit().xreplace(Phsp_expressions).doit()"
   ]
  },
  {
   "cell_type": "markdown",
   "metadata": {},
   "source": [
    "## T matrix \n",
    "In this section the $T$ matrix element $T_{00}$ for the channel $p\\bar{p}\\eta$ is visualized to investigate the lineshape."
   ]
  },
  {
   "cell_type": "code",
   "execution_count": null,
   "metadata": {},
   "outputs": [],
   "source": [
    "T = (I - K * rho).inv() * K\n",
    "T_matrix = T.as_explicit()\n",
    "T_matrix"
   ]
  },
  {
   "cell_type": "markdown",
   "metadata": {},
   "source": [
    "## Merge dictionarys"
   ]
  },
  {
   "cell_type": "code",
   "execution_count": null,
   "metadata": {},
   "outputs": [],
   "source": [
    "combined_expressions = {**K_expressions, **Phsp_expressions}"
   ]
  },
  {
   "cell_type": "code",
   "execution_count": null,
   "metadata": {},
   "outputs": [],
   "source": [
    "from tensorwaves.function.sympy import create_parametrized_function\n",
    "from tensorwaves.interface import ParametrizedFunction\n",
    "\n",
    "\n",
    "def create_function(expr: sp.Expr) -> ParametrizedFunction:\n",
    "    parameter_symbols = set(expr.free_symbols) - s.free_symbols\n",
    "    parameter_defaults = {\n",
    "        k: v for k, v in PARAMETERS_DEFAULTS.items() if k in parameter_symbols\n",
    "    }\n",
    "    return create_parametrized_function(expr, parameter_defaults, backend=\"numpy\")\n",
    "\n",
    "\n",
    "T_funcs = np.array([\n",
    "    [\n",
    "        create_function(T_matrix[i, j].xreplace(combined_expressions).doit())\n",
    "        for i in range(n_channels)\n",
    "    ]\n",
    "    for j in range(n_channels)\n",
    "])\n",
    "T_funcs[1, 1].parameters.items()"
   ]
  },
  {
   "cell_type": "markdown",
   "metadata": {},
   "source": [
    "## Create widgets"
   ]
  },
  {
   "cell_type": "code",
   "execution_count": null,
   "metadata": {},
   "outputs": [],
   "source": [
    "import ipywidgets as w\n",
    "\n",
    "matrix_index = [i for i in range(n_channels)]\n",
    "for i in range(n_channels):\n",
    "    for j in range(n_channels):\n",
    "        sliders = dict(\n",
    "            i=w.RadioButtons(\n",
    "                description=f\"T matrix index {{{i}}}\", options=matrix_index\n",
    "            ),\n",
    "            j=w.RadioButtons(\n",
    "                description=f\"T matrix index {{{j}}}\", options=matrix_index\n",
    "            ),\n",
    "        )\n",
    "\n",
    "\n",
    "for func in T_funcs.flatten():\n",
    "    for par, value in func.parameters.items():\n",
    "        value = complex(value).real\n",
    "        step_ = 0.01\n",
    "        if par.startswith(\"m_{\"):\n",
    "            min_ = 0.01\n",
    "            max_ = 1.5\n",
    "        elif par.startswith(R\"\\phi\"):\n",
    "            min_ = 0\n",
    "            max_ = 2 * np.pi\n",
    "            step_ = np.pi / 8\n",
    "        else:\n",
    "            min_ = 0\n",
    "            max_ = 2 * value\n",
    "        sliders[par] = w.FloatSlider(\n",
    "            continuous_update=False,\n",
    "            description=Rf\"${par}$\",\n",
    "            max=max_,\n",
    "            min=min_,\n",
    "            step=step_,\n",
    "            value=value,\n",
    "        )\n",
    "\n",
    "slider_group = w.VBox(list(sliders.values()))\n",
    "T_funcs[0, 0].parameters.items()"
   ]
  },
  {
   "cell_type": "code",
   "execution_count": null,
   "metadata": {
    "editable": true,
    "slideshow": {
     "slide_type": ""
    },
    "tags": []
   },
   "outputs": [],
   "source": [
    "%matplotlib widget\n",
    "import matplotlib.pyplot as plt\n",
    "import numpy as np\n",
    "from ipywidgets import FloatSlider, VBox, interactive_output\n",
    "from matplotlib import cm\n",
    "from matplotlib.lines import Line2D\n",
    "from mpl_toolkits.mplot3d import Axes3D\n",
    "from scipy.interpolate import griddata\n",
    "\n",
    "resonances_plot = sorted(\n",
    "    reaction.get_intermediate_particles(),\n",
    "    key=lambda p: p.mass,\n",
    ")\n",
    "fig, axs = plt.subplots(nrows=2, figsize=(7, 14), tight_layout=True)\n",
    "ax, ax_3d = axs\n",
    "x_min, x_max = 0.5, 1.2\n",
    "y_min, y_max = -1, 1\n",
    "x_values = np.linspace(x_min, x_max, num=160)\n",
    "y_values = np.linspace(y_min, y_max, num=100)\n",
    "X, Y = np.meshgrid(x_values, y_values)\n",
    "x = np.linspace(0.8, 1.5, num=500)\n",
    "data1 = {\"m_01\": x}\n",
    "data2 = {\"m_01\": X + Y * 1j}\n",
    "\n",
    "LINES: list[Line2D] | None = None\n",
    "color_mesh = None\n",
    "\n",
    "selected_threshs = []\n",
    "for i in range(n_channels):\n",
    "    channel_count = +1\n",
    "    selected_threshs.append(\n",
    "        T_funcs[channel_count, i].parameters[f\"m_{{0,{i}}}\"]\n",
    "        + T_funcs[channel_count, i].parameters[f\"m_{{1,{i}}}\"]\n",
    "    )\n",
    "\n",
    "\n",
    "def set_parameters(func, parameters):\n",
    "    filtered_parameters = {\n",
    "        k: v for k, v in parameters.items() if k in func.parameters\n",
    "    }\n",
    "    func.update_parameters(filtered_parameters)\n",
    "\n",
    "\n",
    "def plot(*, i, j, **parameters):\n",
    "    global LINES\n",
    "    global color_mesh\n",
    "    ax.set_title(f\"T_func[{i}, {j}]\")\n",
    "    ax.set_xlabel(\"m [GeV]\")\n",
    "    ax.set_ylabel(Rf\"$T_{{{i}{j}}}$\")\n",
    "\n",
    "    ax_3d.set_title(f\"T_func[{i}, {j}]\")\n",
    "    ax_3d.set_xlabel(\"Re s\")\n",
    "    ax_3d.set_ylabel(\"Im s\")\n",
    "    # ax_3d.set_zlabel(\"Amplitude\")\n",
    "\n",
    "    set_parameters(T_funcs[i, j], parameters)\n",
    "    y = T_funcs[i, j](data1)\n",
    "    y_real = y.real\n",
    "    y_imag = y.imag\n",
    "    y_abs = np.abs(y)\n",
    "\n",
    "    Z = T_funcs[i, j](data2)\n",
    "    Z_values_imag = Z.imag\n",
    "    Z_values_real = Z.real\n",
    "\n",
    "    resonance_masses = {}\n",
    "    for par, value in T_funcs[i, j].parameters.items():\n",
    "        if par.startswith(\"m_{a\"):\n",
    "            resonance_masses[par] = value\n",
    "    if LINES is None:\n",
    "        LINES = [\n",
    "            ax.plot(\n",
    "                x,\n",
    "                y_real,\n",
    "                c=\"magenta\",\n",
    "                lw=2,\n",
    "                label=R\"Real\",\n",
    "            )[0],\n",
    "            ax.plot(\n",
    "                x,\n",
    "                y_abs,\n",
    "                c=\"red\",\n",
    "                lw=2,\n",
    "                label=R\"Abs\",\n",
    "            )[0],\n",
    "            ax.plot(\n",
    "                x,\n",
    "                y_imag,\n",
    "                c=\"blue\",\n",
    "                lw=2,\n",
    "                label=R\"Imag\",\n",
    "            )[0],\n",
    "        ]\n",
    "        res_count = -1\n",
    "        thresh_count = -1\n",
    "        for res, value in resonance_masses.items():\n",
    "            res_count += 1\n",
    "            LINES.append(\n",
    "                ax.axvline(\n",
    "                    value,\n",
    "                    linestyle=\"dashed\",\n",
    "                    color=f\"C{res_count}\",\n",
    "                    label=Rf\"${res}$\",\n",
    "                ),\n",
    "            )\n",
    "        for thr in selected_threshs:\n",
    "            thresh_count += 1\n",
    "            LINES.append(\n",
    "                ax.axvline(\n",
    "                    thr,\n",
    "                    linestyle=\"dashed\",\n",
    "                    color=f\"C{thresh_count+1}\",\n",
    "                    label=Rf\"Threshhold {thresh_count}\",\n",
    "                ),\n",
    "            )\n",
    "        ax.legend()\n",
    "    else:\n",
    "        LINES[0].set_data(x, y_real)\n",
    "        LINES[1].set_data(x, y_abs)\n",
    "        LINES[2].set_data(x, y_imag)\n",
    "        for k, (res, value) in enumerate(resonance_masses.items(), 3):\n",
    "            LINES[k].set_data([value, value], [0, 1])\n",
    "        for thr in selected_threshs:\n",
    "            LINES[4].set_data([thr, thr], [0, 1])\n",
    "    if color_mesh is None:\n",
    "        color_mesh = ax_3d.pcolormesh(X, Y, Z_values_imag, cmap=cm.coolwarm)\n",
    "    else:\n",
    "        color_mesh.set_array(Z_values_imag)\n",
    "    ax.relim()\n",
    "    ax.autoscale_view()\n",
    "    fig.canvas.draw()\n",
    "\n",
    "\n",
    "UI = VBox([slider_group])\n",
    "output = interactive_output(plot, controls=sliders)\n",
    "display(VBox([UI, output]))"
   ]
  },
  {
   "cell_type": "code",
   "execution_count": null,
   "metadata": {},
   "outputs": [],
   "source": []
  },
  {
   "cell_type": "code",
   "execution_count": null,
   "metadata": {},
   "outputs": [],
   "source": []
  },
  {
   "cell_type": "code",
   "execution_count": null,
   "metadata": {},
   "outputs": [],
   "source": []
  }
 ],
 "metadata": {
  "colab": {
   "toc_visible": true
  },
  "kernelspec": {
   "display_name": "Python 3 (ipykernel)",
   "language": "python",
   "name": "python3"
  },
  "language_info": {
   "codemirror_mode": {
    "name": "ipython",
    "version": 3
   },
   "file_extension": ".py",
   "mimetype": "text/x-python",
   "name": "python",
   "nbconvert_exporter": "python",
   "pygments_lexer": "ipython3",
   "version": "3.11.6"
  }
 },
 "nbformat": 4,
 "nbformat_minor": 4
}
