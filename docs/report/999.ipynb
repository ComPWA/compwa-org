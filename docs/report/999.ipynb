{
 "cells": [
  {
   "cell_type": "code",
   "execution_count": null,
   "metadata": {
    "hideCode": true,
    "hideOutput": true,
    "hidePrompt": true,
    "jupyter": {
     "source_hidden": true
    },
    "slideshow": {
     "slide_type": "skip"
    },
    "tags": [
     "remove-cell"
    ]
   },
   "outputs": [],
   "source": [
    "import os\n",
    "\n",
    "STATIC_WEB_PAGE = {\"EXECUTE_NB\", \"READTHEDOCS\"}.intersection(os.environ)"
   ]
  },
  {
   "cell_type": "markdown",
   "metadata": {},
   "source": [
    "```{autolink-concat}\n",
    "```"
   ]
  },
  {
   "cell_type": "markdown",
   "metadata": {
    "editable": true,
    "slideshow": {
     "slide_type": ""
    },
    "tags": [
     "physics",
     "sympy",
     "3d"
    ]
   },
   "source": [
    "::::{margin}\n",
    ":::{card} 3D visualization of Riemann sheets\n",
    "TR-999\n",
    "^^^\n",
    "Follow-up to [TR-004](004.ipynb), where we investigate and reproduce the Riemann sheets shown in [Fig.&nbsp;50.1](https://pdg.lbl.gov/2023/reviews/rpp2022-rev-resonances.pdf#page=2) and [50.2](https://pdg.lbl.gov/2023/reviews/rpp2022-rev-resonances.pdf#page=4) of the PDG.\n",
    ":::\n",
    "::::"
   ]
  },
  {
   "cell_type": "markdown",
   "metadata": {
    "editable": true,
    "slideshow": {
     "slide_type": ""
    },
    "tags": []
   },
   "source": [
    "# Riemann sheets"
   ]
  },
  {
   "cell_type": "markdown",
   "metadata": {
    "editable": true,
    "slideshow": {
     "slide_type": ""
    },
    "tags": []
   },
   "source": [
    "<!-- cspell:disable -->"
   ]
  },
  {
   "cell_type": "code",
   "execution_count": null,
   "metadata": {
    "editable": true,
    "slideshow": {
     "slide_type": ""
    },
    "tags": [
     "remove-cell"
    ]
   },
   "outputs": [],
   "source": [
    "%pip install -q ampform==0.14.8 plotly==5.17.0 sympy==1.12"
   ]
  },
  {
   "cell_type": "markdown",
   "metadata": {
    "editable": true,
    "slideshow": {
     "slide_type": ""
    },
    "tags": []
   },
   "source": [
    ":::{note}\n",
    "In the following example we assume zero angular momentum ($L=0$).\n",
    ":::"
   ]
  },
  {
   "cell_type": "code",
   "execution_count": null,
   "metadata": {
    "editable": true,
    "mystnb": {
     "code_prompt_show": "Import Python libraries"
    },
    "slideshow": {
     "slide_type": ""
    },
    "tags": [
     "hide-cell"
    ]
   },
   "outputs": [],
   "source": [
    "from __future__ import annotations\n",
    "\n",
    "import warnings\n",
    "from typing import Any\n",
    "\n",
    "import matplotlib.pyplot as plt\n",
    "import numpy as np\n",
    "import plotly.graph_objects as go\n",
    "import sympy as sp\n",
    "from ampform.io import aslatex\n",
    "from ampform.sympy import unevaluated\n",
    "from IPython.display import Math\n",
    "\n",
    "warnings.filterwarnings(\"ignore\")"
   ]
  },
  {
   "cell_type": "markdown",
   "metadata": {
    "editable": true,
    "slideshow": {
     "slide_type": ""
    },
    "tags": []
   },
   "source": [
    "## Square root definition"
   ]
  },
  {
   "cell_type": "markdown",
   "metadata": {
    "editable": true,
    "slideshow": {
     "slide_type": ""
    },
    "tags": []
   },
   "source": [
    "We define a special expression class for a square root where you can choose the sign for negative arguments. This can be used later for the phase space factor&nbsp;$\\rho$."
   ]
  },
  {
   "cell_type": "code",
   "execution_count": null,
   "metadata": {
    "editable": true,
    "mystnb": {
     "code_prompt_show": "Define special square root expression class"
    },
    "slideshow": {
     "slide_type": ""
    },
    "tags": [
     "hide-input"
    ]
   },
   "outputs": [],
   "source": [
    "@unevaluated(real=False)\n",
    "class SignedSqrt(sp.Expr):\n",
    "    z: Any\n",
    "    _latex_repr_ = R\"\\sqrt[+]{{{z}}}\"\n",
    "\n",
    "    def evaluate(self) -> sp.Expr:\n",
    "        z = self.args[0]\n",
    "        return sp.sqrt(abs(z)) * sp.exp(sp.I * PosArg(z) / 2)\n",
    "\n",
    "\n",
    "@unevaluated\n",
    "class PosArg(sp.Expr):\n",
    "    z: Any\n",
    "    _latex_repr_ = R\"\\arg^+\\left({z}\\right)\"\n",
    "\n",
    "    def evaluate(self) -> sp.Expr:\n",
    "        z = self.args[0]\n",
    "        arg = sp.arg(z)\n",
    "        return sp.Piecewise(\n",
    "            (arg + 2 * sp.pi, arg < -2 * sp.pi),\n",
    "            (arg - 2 * sp.pi, arg > 0),\n",
    "            (arg, True),\n",
    "        )\n",
    "\n",
    "\n",
    "z = sp.Symbol(\"z\", complex=True)\n",
    "Math(aslatex({e: e.evaluate() for e in [SignedSqrt(z), PosArg(z)]}))"
   ]
  },
  {
   "cell_type": "markdown",
   "metadata": {
    "editable": true,
    "slideshow": {
     "slide_type": ""
    },
    "tags": []
   },
   "source": [
    "## Phase space factor definitions"
   ]
  },
  {
   "cell_type": "markdown",
   "metadata": {
    "editable": true,
    "slideshow": {
     "slide_type": ""
    },
    "tags": []
   },
   "source": [
    "### Standard phase space"
   ]
  },
  {
   "cell_type": "code",
   "execution_count": null,
   "metadata": {
    "editable": true,
    "slideshow": {
     "slide_type": ""
    },
    "tags": [
     "hide-input"
    ]
   },
   "outputs": [],
   "source": [
    "@unevaluated(real=False)\n",
    "class PhaseSpaceFactor(sp.Expr):\n",
    "    s: Any\n",
    "    m1: Any\n",
    "    m2: Any\n",
    "    _latex_repr_ = R\"\\rho^+\\left({s}\\right)\"\n",
    "\n",
    "    def evaluate(self) -> sp.Expr:\n",
    "        s, m1, m2 = self.args\n",
    "        return SignedSqrt((s - ((m1 + m2) ** 2)) * (s - (m1 - m2) ** 2) / s**2)\n",
    "\n",
    "\n",
    "s, m_a, m_b = sp.symbols(\"s m_a m_b\")\n",
    "rho_expr = PhaseSpaceFactor(s, m_a, m_b)\n",
    "Math(aslatex({rho_expr: rho_expr.doit(deep=False)}))"
   ]
  },
  {
   "cell_type": "markdown",
   "metadata": {
    "editable": true,
    "slideshow": {
     "slide_type": ""
    },
    "tags": []
   },
   "source": [
    "### Chew-Mandelstamm function  "
   ]
  },
  {
   "cell_type": "code",
   "execution_count": null,
   "metadata": {
    "editable": true,
    "slideshow": {
     "slide_type": ""
    },
    "tags": [
     "hide-input"
    ]
   },
   "outputs": [],
   "source": [
    "@unevaluated(real=False)\n",
    "class BreakupMomentum(sp.Expr):\n",
    "    s: Any\n",
    "    m_a: Any\n",
    "    m_b: Any\n",
    "    _latex_repr_ = R\"q^+\\left({s}\\right)\"\n",
    "\n",
    "    def evaluate(self) -> sp.Expr:\n",
    "        s, m_a, m_b = self.args\n",
    "        return SignedSqrt((s - (m_a + m_b) ** 2) * (s - (m_a - m_b) ** 2) / (s * 4))\n",
    "\n",
    "\n",
    "breakup_momentum = BreakupMomentum(s, m_a, m_b)\n",
    "Math(aslatex({breakup_momentum: breakup_momentum.doit(deep=False)}))"
   ]
  },
  {
   "cell_type": "code",
   "execution_count": null,
   "metadata": {
    "editable": true,
    "slideshow": {
     "slide_type": ""
    },
    "tags": [
     "hide-input"
    ]
   },
   "outputs": [],
   "source": [
    "@unevaluated(real=False)\n",
    "class ChewMandelstamm(sp.Expr):\n",
    "    s: Any\n",
    "    m1: Any\n",
    "    m2: Any\n",
    "    _latex_repr_ = R\"\\rho^\\text{{CM}}\\left({s}\\right)\"\n",
    "\n",
    "    def evaluate(self) -> sp.Expr:\n",
    "        s, m1, m2 = self.args\n",
    "        q_break = BreakupMomentum(s, m1, m2)\n",
    "        return (\n",
    "            1\n",
    "            / (16 * (sp.pi) ** 2)\n",
    "            * (\n",
    "                (2 * q_break / sp.sqrt(s))\n",
    "                * sp.log(\n",
    "                    (m1**2 + m2**2 - s + 2 * sp.sqrt(s) * q_break) / (2 * m1 * m2)\n",
    "                )\n",
    "                - (m1**2 - m2**2) * (1 / s - 1 / (m1 + m2) ** 2) * sp.log(m1 / m2)\n",
    "            )\n",
    "        )\n",
    "\n",
    "\n",
    "cm_expr = ChewMandelstamm(s, m_a, m_b)\n",
    "Math(aslatex({cm_expr: cm_expr.doit(deep=False)}))"
   ]
  },
  {
   "cell_type": "markdown",
   "metadata": {
    "editable": true,
    "slideshow": {
     "slide_type": ""
    },
    "tags": []
   },
   "source": [
    "### Alternative definition of Chew-Mandelstamm"
   ]
  },
  {
   "cell_type": "markdown",
   "metadata": {
    "editable": true,
    "slideshow": {
     "slide_type": ""
    },
    "tags": []
   },
   "source": [
    "By J. L. Basdevant and Edmond L. Berger\n",
    "(Phys. Rev. D 16, 657 – Published 1 August 1977)"
   ]
  },
  {
   "cell_type": "code",
   "execution_count": null,
   "metadata": {
    "editable": true,
    "slideshow": {
     "slide_type": ""
    },
    "tags": [
     "hide-input"
    ]
   },
   "outputs": [],
   "source": [
    "@unevaluated(real=False)\n",
    "class ChewMandelstammBB(sp.Expr):\n",
    "    s: Any\n",
    "    m1: Any\n",
    "    m2: Any\n",
    "    _latex_repr_ = R\"\\rho^\\text{{CM}}_\\text{{BB}}\\left({s}\\right)\"\n",
    "\n",
    "    def evaluate(self) -> sp.Expr:\n",
    "        s, m1, m2 = self.args\n",
    "        rho = PhaseSpaceFactor(s, m1, m2)\n",
    "        return (\n",
    "            1 / sp.pi\n",
    "            + (m1**2 - m2**2) / (sp.pi * s) * sp.log(m2 / m1)\n",
    "            - (m1**2 + m2**2) / (sp.pi * (m1**2 - m2**2)) * sp.log(m2 / m1)\n",
    "            + rho\n",
    "            / sp.pi\n",
    "            * sp.log(\n",
    "                (sp.sqrt((m1 + m2) ** 2 - s) - sp.sqrt((m1 - m2) ** 2 - s))\n",
    "                / (sp.sqrt((m1 + m2) ** 2 - s) + sp.sqrt((m1 - m2) ** 2 - s))\n",
    "            )\n",
    "        )\n",
    "\n",
    "\n",
    "cm_bb_expr = ChewMandelstammBB(s, m_a, m_b)\n",
    "Math(aslatex({cm_bb_expr: cm_bb_expr.doit(deep=False)}))"
   ]
  },
  {
   "cell_type": "markdown",
   "metadata": {
    "editable": true,
    "slideshow": {
     "slide_type": ""
    },
    "tags": []
   },
   "source": [
    "### Visual comparison"
   ]
  },
  {
   "cell_type": "code",
   "execution_count": null,
   "metadata": {
    "editable": true,
    "slideshow": {
     "slide_type": ""
    },
    "tags": [
     "hide-input",
     "scroll-input",
     "full-width"
    ]
   },
   "outputs": [],
   "source": [
    "args = (s, m_a, m_b)\n",
    "cm_func = sp.lambdify(args, cm_expr.doit())\n",
    "cm_bb_func = sp.lambdify(args, cm_bb_expr.doit())\n",
    "rho_func = sp.lambdify(args, rho_expr.doit())\n",
    "\n",
    "s_values = np.linspace(0, 2, 400)\n",
    "m1_val = 0.6\n",
    "m2_val = 0.4\n",
    "arg_vals = (m1_val, m2_val)\n",
    "\n",
    "cm_values = 16 * np.pi * cm_func(s_values, *arg_vals)\n",
    "cm_bb_values = cm_bb_func(s_values, *arg_vals)\n",
    "rho_values = 1j * rho_func(s_values, *arg_vals)\n",
    "\n",
    "fig, axes = plt.subplots(figsize=(15, 6), ncols=3, sharex=True, sharey=True)\n",
    "ax1, ax2, ax3 = axes\n",
    "ax1.plot(s_values, cm_values.real, label=\"Real part\")\n",
    "ax1.plot(s_values, cm_values.imag, label=\"Imaginary part\")\n",
    "ax1.set_xlabel(\"Re(s)\")\n",
    "ax1.set_ylabel(\"Function value\")\n",
    "ax1.set_title(\"Chew Mandelstamm Function\")\n",
    "ax1.legend()\n",
    "\n",
    "ax2.plot(s_values, rho_values.real, label=\"Real part\")\n",
    "ax2.plot(s_values, rho_values.imag, label=\"Imaginary part\")\n",
    "ax2.set_xlabel(\"Re(s)\")\n",
    "ax2.set_title(\"Phase Space Factor\")\n",
    "ax2.legend()\n",
    "\n",
    "ax3.plot(s_values, cm_bb_values.real, label=\"Real part\")\n",
    "ax3.plot(s_values, cm_bb_values.imag, label=\"Imaginary part\")\n",
    "ax3.set_xlabel(\"Re(s)\")\n",
    "ax3.set_title(\"Chew Mandelstamm Function BB\")\n",
    "ax3.legend()\n",
    "\n",
    "ax2.set_ylim(-1.2, +1.6)\n",
    "plt.tight_layout()\n",
    "\n",
    "plt.show()"
   ]
  },
  {
   "cell_type": "markdown",
   "metadata": {
    "editable": true,
    "slideshow": {
     "slide_type": ""
    },
    "tags": []
   },
   "source": [
    "## Define parameters values for plotting "
   ]
  },
  {
   "cell_type": "markdown",
   "metadata": {
    "editable": true,
    "slideshow": {
     "slide_type": ""
    },
    "tags": []
   },
   "source": [
    "## T matrix definition with K matrix"
   ]
  },
  {
   "cell_type": "code",
   "execution_count": null,
   "metadata": {
    "editable": true,
    "slideshow": {
     "slide_type": ""
    },
    "tags": []
   },
   "outputs": [],
   "source": [
    "n_channels = 1\n",
    "I = sp.Identity(n_channels)\n",
    "K = sp.MatrixSymbol(\"K\", n_channels, n_channels)\n",
    "rho = sp.MatrixSymbol(\"rho\", n_channels, n_channels)"
   ]
  },
  {
   "cell_type": "code",
   "execution_count": null,
   "metadata": {},
   "outputs": [],
   "source": [
    "T = (I - sp.I * K * rho).inv() * K\n",
    "T"
   ]
  },
  {
   "cell_type": "code",
   "execution_count": null,
   "metadata": {},
   "outputs": [],
   "source": [
    "T_explicit = T.as_explicit()\n",
    "T_explicit"
   ]
  },
  {
   "cell_type": "markdown",
   "metadata": {
    "editable": true,
    "slideshow": {
     "slide_type": ""
    },
    "tags": []
   },
   "source": [
    "No Blatt-Weisskopf-Formfactors because $L=0$:"
   ]
  },
  {
   "cell_type": "code",
   "execution_count": null,
   "metadata": {
    "editable": true,
    "slideshow": {
     "slide_type": ""
    },
    "tags": []
   },
   "outputs": [],
   "source": [
    "gamma_R, m_R, w_R = sp.symbols(\"gamma_R m_R Gamma_R\")\n",
    "k_expr = (gamma_R**2 * m_R * w_R) / (s - m_R**2)"
   ]
  },
  {
   "cell_type": "code",
   "execution_count": null,
   "metadata": {
    "editable": true,
    "slideshow": {
     "slide_type": ""
    },
    "tags": []
   },
   "outputs": [],
   "source": [
    "rho_expressions = {\n",
    "    K[0, 0]: k_expr,\n",
    "    rho[0, 0]: PhaseSpaceFactor(s, m_a, m_b),  ##\n",
    "}\n",
    "Math(aslatex(rho_expressions))"
   ]
  },
  {
   "cell_type": "code",
   "execution_count": null,
   "metadata": {
    "editable": true,
    "slideshow": {
     "slide_type": ""
    },
    "tags": []
   },
   "outputs": [],
   "source": [
    "cm_expressions = {\n",
    "    K[0, 0]: k_expr,\n",
    "    rho[0, 0]: (\n",
    "        -sp.I * 16 * sp.pi * ChewMandelstamm(s, m_a, m_b)\n",
    "    ),  # Loop over all rho expressions\n",
    "}\n",
    "Math(aslatex(cm_expressions))"
   ]
  },
  {
   "cell_type": "code",
   "execution_count": null,
   "metadata": {
    "editable": true,
    "slideshow": {
     "slide_type": ""
    },
    "tags": []
   },
   "outputs": [],
   "source": [
    "cm_conj_expressions = {\n",
    "    K[0, 0]: k_expr,\n",
    "    rho[0, 0]: -sp.I * 16 * sp.pi * ChewMandelstamm(s, m_a, m_b).conjugate(),\n",
    "}\n",
    "Math(aslatex(cm_conj_expressions))"
   ]
  },
  {
   "cell_type": "code",
   "execution_count": null,
   "metadata": {
    "editable": true,
    "slideshow": {
     "slide_type": ""
    },
    "tags": [
     "hide-input"
    ]
   },
   "outputs": [],
   "source": [
    "T_rho_expr = T_explicit[0, 0].xreplace(rho_expressions)\n",
    "T_cm_expr = T_explicit[0, 0].xreplace(cm_expressions)\n",
    "T_cm_conj_expr = T_explicit[0, 0].xreplace(cm_conj_expressions)"
   ]
  },
  {
   "cell_type": "code",
   "execution_count": null,
   "metadata": {
    "editable": true,
    "slideshow": {
     "slide_type": ""
    },
    "tags": []
   },
   "outputs": [],
   "source": [
    "T_rho_expr.simplify(doit=False)"
   ]
  },
  {
   "cell_type": "markdown",
   "metadata": {
    "editable": true,
    "slideshow": {
     "slide_type": ""
    },
    "tags": []
   },
   "source": [
    "## Riemann sheet visualization"
   ]
  },
  {
   "cell_type": "markdown",
   "metadata": {
    "editable": true,
    "slideshow": {
     "slide_type": ""
    },
    "tags": []
   },
   "source": [
    "To get to the physical/unpysical Riemann sheet one uses XXXX which is derived from Schwarz reflection priciple"
   ]
  },
  {
   "cell_type": "code",
   "execution_count": null,
   "metadata": {
    "editable": true,
    "mystnb": {
     "code_prompt_show": "Define numerical functions"
    },
    "slideshow": {
     "slide_type": ""
    },
    "tags": [
     "hide-input"
    ]
   },
   "outputs": [],
   "source": [
    "args = (s, m_a, m_b, m_R, w_R, gamma_R)\n",
    "T_rho_func = sp.lambdify(args, T_rho_expr.doit())\n",
    "T_cm_func = sp.lambdify(args, T_cm_expr.doit())\n",
    "T_cm_conj_func = sp.lambdify(args, T_cm_conj_expr.doit())"
   ]
  },
  {
   "cell_type": "code",
   "execution_count": null,
   "metadata": {
    "editable": true,
    "mystnb": {
     "code_prompt_show": "Define meshgrid and parameter values"
    },
    "slideshow": {
     "slide_type": ""
    },
    "tags": [
     "hide-input"
    ]
   },
   "outputs": [],
   "source": [
    "epsilon = 1e-5\n",
    "x = np.linspace(0, 5, num=200)\n",
    "y = np.linspace(epsilon, 1, num=100)\n",
    "X, Yn = np.meshgrid(x, +y)\n",
    "_, Yp = np.meshgrid(x, -y)\n",
    "Zn = X + Yn * 1j\n",
    "Zp = X + Yp * 1j\n",
    "\n",
    "m1_val = 0.9\n",
    "m2_val = 0.8\n",
    "mR_val = 3.1\n",
    "wR_val = 1.0\n",
    "gamma_val = 1\n",
    "arg_vals = (m1_val, m2_val, mR_val, wR_val, gamma_val)\n",
    "\n",
    "Tp = T_rho_func(Zp**2, *arg_vals)\n",
    "Tn = T_rho_func(Zn**2, *arg_vals)\n",
    "\n",
    "Tp_cm = T_cm_func(Zp**2, *arg_vals)\n",
    "Tn_cm = T_cm_func(Zn**2, *arg_vals)\n",
    "\n",
    "Tp_cm_conj = T_cm_conj_func(Zp**2, *arg_vals)\n",
    "Tn_cm_conj = T_cm_conj_func(Zn**2, *arg_vals)"
   ]
  },
  {
   "cell_type": "code",
   "execution_count": null,
   "metadata": {
    "editable": true,
    "slideshow": {
     "slide_type": ""
    },
    "tags": [
     "full-width",
     "hide-input"
    ]
   },
   "outputs": [],
   "source": [
    "fig, axes = plt.subplots(figsize=(15, 6), ncols=2, sharey=True)\n",
    "ax1, ax2 = axes\n",
    "\n",
    "ax1.plot(x, Tp_cm[0].imag)\n",
    "ax1.plot(x, Tn_cm_conj[0].imag)\n",
    "ax1.set_xlabel(\"Re(s)\")\n",
    "ax1.set_ylabel(\"Function Value\")\n",
    "ax1.set_title(\"Chew Mandelstamm Function\")\n",
    "\n",
    "ax2.plot(x, Tp[0].imag)\n",
    "ax2.plot(x, Tn[0].imag)\n",
    "ax2.set_xlabel(\"Re(s)\")\n",
    "ax2.set_title(\"Phsp Function\")\n",
    "\n",
    "plt.tight_layout()\n",
    "plt.show()"
   ]
  },
  {
   "cell_type": "code",
   "execution_count": null,
   "metadata": {
    "editable": true,
    "slideshow": {
     "slide_type": ""
    },
    "tags": [
     "hide-input",
     "scroll-input"
    ]
   },
   "outputs": [],
   "source": [
    "def sty(sheet_name: str) -> dict:\n",
    "    sheet_color = sheet_colors[sheet_name]\n",
    "    n_lines = 16\n",
    "    return dict(\n",
    "        cmin=-vmax,\n",
    "        cmax=+vmax,\n",
    "        colorscale=[[0, \"rgb(0, 0, 0)\"], [1, sheet_color]],\n",
    "        contours=dict(\n",
    "            x=dict(\n",
    "                show=True,\n",
    "                start=x.min(),\n",
    "                end=x.max(),\n",
    "                size=(x.max() - x.min()) / n_lines,\n",
    "                color=\"black\",\n",
    "            ),\n",
    "            y=dict(\n",
    "                show=True,\n",
    "                start=-y.max(),\n",
    "                end=+y.max(),\n",
    "                size=(y.max() - y.min()) / (n_lines // 2),\n",
    "                color=\"black\",\n",
    "            ),\n",
    "        ),\n",
    "        name=sheet_name,\n",
    "        opacity=0.6,\n",
    "        showscale=False,\n",
    "    )\n",
    "\n",
    "\n",
    "vmax = 1.6\n",
    "project = np.imag\n",
    "projection_text = \"Imaginary\"\n",
    "sheet_colors = {\n",
    "    \"Unphysical\": \"blue\",\n",
    "    \"Physical\": \"red\",\n",
    "}"
   ]
  },
  {
   "cell_type": "markdown",
   "metadata": {
    "editable": true,
    "slideshow": {
     "slide_type": ""
    },
    "tags": [
     "hide-input",
     "scroll-input"
    ]
   },
   "source": [
    "###### Sn = go.Surface(x=X, y=Yn, z=project(Tn), **sty(\"Unphysical\"))\n",
    "Sp = go.Surface(x=X, y=Yp, z=project(Tp), **sty(\"Physical\"))\n",
    "zeros = np.zeros(x.shape)\n",
    "\n",
    "line_rho = go.Scatter3d(\n",
    "    x=x,\n",
    "    y=zeros,\n",
    "    z=project(Tp[0]),\n",
    "    line={\"color\": \"black\", \"width\": 4},\n",
    "    mode=\"lines\",\n",
    "    name=\"Lineshape\",\n",
    ")\n",
    "\n",
    "threshold_point = go.Scatter3d(\n",
    "    x=[(m1_val + m2_val) ** 2],\n",
    "    y=[0],\n",
    "    z=[0],\n",
    "    mode=\"markers\",\n",
    "    marker={\"color\": \"black\", \"size\": 5},\n",
    "    name=\"Threshold\",\n",
    ")\n",
    "fig_rho = go.Figure(data=[Sn, Sp, line_rho, threshold_point])\n",
    "fig_rho.update_layout(\n",
    "    height=550,\n",
    "    width=600,\n",
    "    showlegend=False,\n",
    "    title_text=(\n",
    "        f\"{projection_text} part of T function with standard phase space factor\"\n",
    "    ),\n",
    ")\n",
    "fig_rho.update_scenes(\n",
    "    xaxis_title_text=\"Re s\",\n",
    "    yaxis_title_text=\"Im s\",\n",
    "    zaxis_range=[-vmax, +vmax],\n",
    ")\n",
    "\n",
    "fig_rho.show()"
   ]
  },
  {
   "cell_type": "code",
   "execution_count": null,
   "metadata": {
    "editable": true,
    "slideshow": {
     "slide_type": ""
    },
    "tags": [
     "full-width",
     "hide-input",
     "scroll-input"
    ]
   },
   "outputs": [],
   "source": [
    "import plotly.graph_objects as go\n",
    "from plotly.subplots import make_subplots\n",
    "\n",
    "Sn_cm = go.Surface(x=X, y=Yn, z=project(Tn_cm), **sty(\"Unphysical\"))\n",
    "Sp_cm = go.Surface(x=X, y=Yp, z=project(Tp_cm), **sty(\"Unphysical\"))\n",
    "\n",
    "Sn_cm_conj = go.Surface(x=X, y=Yn, z=project(Tn_cm_conj), **sty(\"Physical\"))\n",
    "Sp_cm_conj = go.Surface(x=X, y=Yp, z=project(Tp_cm_conj), **sty(\"Physical\"))\n",
    "\n",
    "intersection_points = []\n",
    "for i in range(len(x)):\n",
    "    intersection_points.append((x[i], 0, project(Tn_cm[0])[i]))\n",
    "\n",
    "intersection_points = np.array(intersection_points)\n",
    "intersection_line = go.Scatter3d(\n",
    "    x=intersection_points[:, 0],\n",
    "    y=intersection_points[:, 1],\n",
    "    z=intersection_points[:, 2],\n",
    "    mode=\"lines+markers\",\n",
    "    line=dict(color=\"yellow\", width=20),\n",
    "    marker=dict(size=1, color=\"pink\"),\n",
    "    name=\"Intersection Line\",\n",
    ")\n",
    "\n",
    "fig = make_subplots(\n",
    "    rows=1,\n",
    "    cols=3,\n",
    "    specs=[[{\"type\": \"surface\"}, {\"type\": \"surface\"}, {\"type\": \"scatter3d\"}]],\n",
    ")\n",
    "\n",
    "fig.add_trace(Sn_cm, row=1, col=1)\n",
    "fig.add_trace(Sp_cm, row=1, col=1)\n",
    "\n",
    "fig.add_trace(Sn_cm_conj, row=1, col=3)\n",
    "fig.add_trace(Sp_cm_conj, row=1, col=3)\n",
    "\n",
    "fig.add_trace(Sn_cm, row=1, col=2)\n",
    "fig.add_trace(Sp_cm_conj, row=1, col=2)\n",
    "\n",
    "fig.add_trace(intersection_line, row=1, col=2)\n",
    "\n",
    "fig.update_layout(\n",
    "    height=550,\n",
    "    width=1200,\n",
    "    showlegend=False,\n",
    "    title_text=f\"{projection_text} part of T function with Chew-Mandelstam\",\n",
    ")\n",
    "fig.update_scenes(\n",
    "    xaxis_title_text=\"Re s\",\n",
    "    yaxis_title_text=\"Im s\",\n",
    "    zaxis_range=[-vmax, +vmax],\n",
    ")\n",
    "fig.show()"
   ]
  },
  {
   "cell_type": "code",
   "execution_count": null,
   "metadata": {},
   "outputs": [],
   "source": [
    "%config InlineBackend.figure_formats = ['png']\n",
    "import matplotlib.pyplot as plt\n",
    "import numpy as np\n",
    "\n",
    "Pn_cm = project(Tn_cm)\n",
    "Pn_cm_conj = project(Tn_cm_conj)\n",
    "Pp_cm = project(Tp_cm)\n",
    "Pp_cm_conj = project(Tp_cm_conj)\n",
    "Xgrid, Ygrid = np.meshgrid(x, zeros)\n",
    "\n",
    "fig, axs = plt.subplots(1, 3, figsize=(15, 5))\n",
    "\n",
    "\n",
    "pcm1 = axs[0].pcolormesh(X, Yn, Pn_cm, cmap=plt.cm.coolwarm, vmin=-vmax, vmax=vmax)\n",
    "pcm1 = axs[0].pcolormesh(X, Yp, Pp_cm, cmap=plt.cm.coolwarm, vmin=-vmax, vmax=vmax)\n",
    "pcm2 = axs[1].pcolormesh(\n",
    "    X, Yn, Pn_cm_conj, cmap=plt.cm.coolwarm, vmin=-vmax, vmax=vmax\n",
    ")\n",
    "pcm2 = axs[1].pcolormesh(\n",
    "    X, Yp, Pp_cm_conj, cmap=plt.cm.coolwarm, vmin=-vmax, vmax=vmax\n",
    ")\n",
    "pcm3 = axs[2].pcolormesh(X, Yp, Pp_cm, cmap=plt.cm.coolwarm, vmin=-vmax, vmax=vmax)\n",
    "pcm3 = axs[2].pcolormesh(\n",
    "    X, Yn, Pn_cm_conj, cmap=plt.cm.coolwarm, vmin=-vmax, vmax=vmax\n",
    ")\n",
    "\n",
    "fig.colorbar(pcm1, ax=axs[0], label=\"Unphysical\")\n",
    "fig.colorbar(pcm2, ax=axs[1], label=\"Physical\")\n",
    "fig.colorbar(pcm3, ax=axs[2], label=\"Physical and Unphysical\")\n",
    "\n",
    "axs[0].set_title(\"Unphysical\")\n",
    "axs[0].set_xlabel(\"Re s\")\n",
    "axs[0].set_ylabel(\"Im s\")\n",
    "\n",
    "axs[1].set_title(\"Physical\")\n",
    "axs[1].set_xlabel(\"Re s\")\n",
    "axs[1].set_ylabel(\"Im s\")\n",
    "\n",
    "axs[2].set_title(\"Physical and Unphysical combined\")\n",
    "axs[2].set_xlabel(\"Re s\")\n",
    "axs[2].set_ylabel(\"Im s\")\n",
    "\n",
    "plt.tight_layout()\n",
    "plt.show()"
   ]
  },
  {
   "cell_type": "markdown",
   "metadata": {},
   "source": [
    "## k-plane plots "
   ]
  },
  {
   "cell_type": "code",
   "execution_count": null,
   "metadata": {},
   "outputs": [],
   "source": [
    "k = sp.Symbol(\"k\")\n",
    "s_to_k_expr = sp.sqrt(((s - (m_a + m_b) ** 2) * (s - (m_a - m_b) ** 2)) / (4 * s))\n",
    "equation = sp.Eq(k, s_to_k_expr)\n",
    "solutions = sp.solve(equation, s)\n",
    "Math(aslatex(solutions))"
   ]
  },
  {
   "cell_type": "code",
   "execution_count": null,
   "metadata": {},
   "outputs": [],
   "source": [
    "k_to_s_expr = solutions[0]\n",
    "k_to_s_func = sp.lambdify([k, m_a, m_b], k_to_s_expr)\n",
    "s_to_k_func = sp.lambdify([s, m_a, m_b], s_to_k_expr)\n",
    "# s_grid = k_to_s_func(k_grid, m1_val, m2_val)"
   ]
  },
  {
   "cell_type": "code",
   "execution_count": null,
   "metadata": {},
   "outputs": [],
   "source": [
    "s_to_k_func(Zn, m1_val, m2_val).imag.max()"
   ]
  },
  {
   "cell_type": "code",
   "execution_count": null,
   "metadata": {},
   "outputs": [],
   "source": [
    "x_k = np.linspace(0, 20, num=200)\n",
    "y_k = np.linspace(epsilon, 1, num=100)\n",
    "X_k, Yn_k = np.meshgrid(x, +y)\n",
    "_, Yp_k = np.meshgrid(x, -y)\n",
    "Zn_k = X_k + Yn_k * 1j\n",
    "Zp_k = X_k + Yp_k * 1j"
   ]
  },
  {
   "cell_type": "code",
   "execution_count": null,
   "metadata": {},
   "outputs": [],
   "source": [
    "kn_cm = s_to_k_func(Zn_k, m1_val, m2_val)\n",
    "kp_cm = s_to_k_func(Zp_k, m1_val, m2_val)\n",
    "\n",
    "Tp_cm_k = T_cm_func(kp_cm, *arg_vals)\n",
    "Tn_cm_k = T_cm_func(kn_cm, *arg_vals)\n",
    "\n",
    "Tp_cm_conj_k = T_cm_conj_func(kp_cm, *arg_vals)\n",
    "Tn_cm_conj_k = T_cm_conj_func(kn_cm, *arg_vals)\n",
    "\n",
    "\n",
    "Pn_cm_k = project(Tn_cm_k)\n",
    "Pn_cm_conj_k = project(Tn_cm_conj_k)\n",
    "Pp_cm_k = project(Tp_cm_k)\n",
    "Pp_cm_conj_k = project(Tp_cm_conj_k)\n",
    "Xgrid, Ygrid = np.meshgrid(x_k, zeros)\n",
    "\n",
    "fig_k, axs_k = plt.subplots(1, 3, figsize=(15, 5))\n",
    "\n",
    "vmax_k = 1e-3\n",
    "\n",
    "pcm1_k = axs_k[0].pcolormesh(\n",
    "    X_k, Yn_k, Pn_cm_k, cmap=plt.cm.coolwarm, vmin=-vmax_k, vmax=vmax_k\n",
    ")\n",
    "pcm1_k = axs_k[0].pcolormesh(\n",
    "    X_k, Yp_k, Pp_cm_k, cmap=plt.cm.coolwarm, vmin=-vmax_k, vmax=vmax_k\n",
    ")\n",
    "pcm2_k = axs_k[1].pcolormesh(\n",
    "    X_k, Yn_k, Pn_cm_conj_k, cmap=plt.cm.coolwarm, vmin=-vmax_k, vmax=vmax_k\n",
    ")\n",
    "pcm2_k = axs_k[1].pcolormesh(\n",
    "    X_k, Yp_k, Pp_cm_conj_k, cmap=plt.cm.coolwarm, vmin=-vmax_k, vmax=vmax_k\n",
    ")\n",
    "pcm3_k = axs_k[2].pcolormesh(\n",
    "    X_k, Yp_k, Pp_cm_k, cmap=plt.cm.coolwarm, vmin=-vmax_k, vmax=vmax_k\n",
    ")\n",
    "pcm3_k = axs_k[2].pcolormesh(\n",
    "    X_k, Yn_k, Pn_cm_conj_k, cmap=plt.cm.coolwarm, vmin=-vmax_k, vmax=vmax_k\n",
    ")\n",
    "\n",
    "fig_k.colorbar(pcm1_k, ax=axs_k[0], label=\"Unphysical\")\n",
    "fig_k.colorbar(pcm2_k, ax=axs_k[1], label=\"Physical\")\n",
    "fig_k.colorbar(pcm3_k, ax=axs_k[2], label=\"Physical and Unphysical\")\n",
    "\n",
    "axs_k[0].set_title(\"Unphysical\")\n",
    "axs_k[0].set_xlabel(\"Re s\")\n",
    "axs_k[0].set_ylabel(\"Im s\")\n",
    "\n",
    "axs_k[1].set_title(\"Physical\")\n",
    "axs_k[1].set_xlabel(\"Re s\")\n",
    "axs_k[1].set_ylabel(\"Im s\")\n",
    "\n",
    "axs_k[2].set_title(\"Physical and Unphysical combined\")\n",
    "axs_k[2].set_xlabel(\"Re s\")\n",
    "axs_k[2].set_ylabel(\"Im s\")\n",
    "\n",
    "plt.tight_layout()\n",
    "plt.show()"
   ]
  },
  {
   "cell_type": "code",
   "execution_count": null,
   "metadata": {},
   "outputs": [],
   "source": [
    "Tp_cm_conj_k = T_cm_conj_func(kp_cm, *arg_vals).real.max()"
   ]
  },
  {
   "cell_type": "code",
   "execution_count": null,
   "metadata": {},
   "outputs": [],
   "source": []
  },
  {
   "cell_type": "code",
   "execution_count": null,
   "metadata": {},
   "outputs": [],
   "source": []
  }
 ],
 "metadata": {
  "colab": {
   "toc_visible": true
  },
  "kernelspec": {
   "display_name": "Python 3 (ipykernel)",
   "language": "python",
   "name": "python3"
  },
  "language_info": {
   "codemirror_mode": {
    "name": "ipython",
    "version": 3
   },
   "file_extension": ".py",
   "mimetype": "text/x-python",
   "name": "python",
   "nbconvert_exporter": "python",
   "pygments_lexer": "ipython3",
   "version": "3.8.18"
  },
  "orphan": true
 },
 "nbformat": 4,
 "nbformat_minor": 4
}
