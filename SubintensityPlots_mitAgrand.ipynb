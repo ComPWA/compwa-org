{
 "cells": [
  {
   "cell_type": "markdown",
   "metadata": {},
   "source": [
    "\n",
    "# Sub-Intensity plots "
   ]
  },
  {
   "cell_type": "code",
   "execution_count": null,
   "metadata": {
    "tags": []
   },
   "outputs": [],
   "source": [
    "from __future__ import annotations\n",
    "\n",
    "import graphviz\n",
    "import numpy as np\n",
    "import qrules\n",
    "import sympy as sp\n",
    "from ampform.io import aslatex\n",
    "from IPython.display import Latex\n",
    "from qrules.particle import Particle, ParticleCollection"
   ]
  },
  {
   "cell_type": "markdown",
   "metadata": {},
   "source": [
    "# Collect dynamics symbols"
   ]
  },
  {
   "cell_type": "markdown",
   "metadata": {},
   "source": [
    "| Resonance | $m$ [MeV] | $\\Gamma$ [MeV] | $J^P$ |\n",
    "|-----------|-----------|----------------|-------|\n",
    "| $N^*(1440)$ | 1398      | 167            | $\\frac{1}{2}^{+}$ |\n",
    "| $N^*(1535)$ | 1530      | 210            | $\\frac{1}{2}^{-}$ |\n",
    "| $N^*(1650)$ | 1668      | 194            | $\\frac{1}{2}^{-}$ |\n",
    "| $N^*(1710)$ | 1749      | 263            | $\\frac{1}{2}^{+}$ |\n",
    "| $N^*(1880)$ | 1876      | 261            | $\\frac{1}{2}^{+}$ |\n",
    "| $N^*(1895)$ | 2045      | 240            | $\\frac{1}{2}^{-}$ |\n",
    "| $N^*(1900)$ | 1970      | 255            | $\\frac{3}{2}^{+}$ |"
   ]
  },
  {
   "cell_type": "code",
   "execution_count": null,
   "metadata": {},
   "outputs": [],
   "source": [
    "def load_particle_database() -> ParticleCollection:\n",
    "    particle_database = qrules.load_default_particles()\n",
    "    additional_definitions = qrules.io.load(\n",
    "        \"../../../additional-nstar-sigma-definitions.yml\"\n",
    "    )\n",
    "    particle_database.update(additional_definitions)\n",
    "    return particle_database\n",
    "\n",
    "\n",
    "PARTICLE_DB = load_particle_database()"
   ]
  },
  {
   "cell_type": "code",
   "execution_count": null,
   "metadata": {
    "tags": []
   },
   "outputs": [],
   "source": [
    "reaction = qrules.generate_transitions(\n",
    "    initial_state=\"J/psi(1S)\",\n",
    "    final_state=[\"eta\", \"p\", \"p~\"],\n",
    "    allowed_intermediate_particles=[\"N(Fakestar)+\", \"N(1900)+\"],\n",
    "    allowed_interaction_types=[\"strong\"],\n",
    "    formalism=\"helicity\",\n",
    "    # mass_conservation_factor=5.0,\n",
    "    particle_db=PARTICLE_DB,\n",
    ")\n",
    "dot = qrules.io.asdot(reaction, collapse_graphs=True)\n",
    "graphviz.Source(dot)"
   ]
  },
  {
   "cell_type": "code",
   "execution_count": null,
   "metadata": {
    "tags": []
   },
   "outputs": [],
   "source": [
    "from kmatrix import COLLECTED_X_SYMBOLS, create_dynamics_symbol"
   ]
  },
  {
   "cell_type": "code",
   "execution_count": null,
   "metadata": {
    "tags": []
   },
   "outputs": [],
   "source": [
    "import ampform\n",
    "\n",
    "model_builder = ampform.get_builder(reaction)\n",
    "model_builder.adapter.permutate_registered_topologies()\n",
    "model_builder.scalar_initial_state_mass = True\n",
    "model_builder.stable_final_state_ids = [0, 1, 2]\n",
    "for name in reaction.get_intermediate_particles().names:\n",
    "    model_builder.set_dynamics(name, create_dynamics_symbol)\n",
    "model = model_builder.formulate()\n",
    "model.intensity.cleanup()"
   ]
  },
  {
   "cell_type": "code",
   "execution_count": null,
   "metadata": {},
   "outputs": [],
   "source": [
    "amp, *_ = model.amplitudes.values()\n",
    "amp"
   ]
  },
  {
   "cell_type": "code",
   "execution_count": null,
   "metadata": {
    "tags": []
   },
   "outputs": [],
   "source": [
    "selected_amplitudes = {\n",
    "    k: v for i, (k, v) in enumerate(model.amplitudes.items()) if i < 3\n",
    "}\n",
    "src = aslatex(selected_amplitudes)"
   ]
  },
  {
   "cell_type": "markdown",
   "metadata": {},
   "source": [
    "## Formulate dynamics expression"
   ]
  },
  {
   "cell_type": "code",
   "execution_count": null,
   "metadata": {
    "tags": []
   },
   "outputs": [],
   "source": [
    "for symbol, resonances in COLLECTED_X_SYMBOLS.items():\n",
    "    display(symbol)\n",
    "    for p, _ in resonances:\n",
    "        print(f\"  {p.name:<20s} {p.mass:>8g} GeV  {p.width:>8g} GeV \")\n",
    "model.parameter_defaults"
   ]
  },
  {
   "cell_type": "markdown",
   "metadata": {
    "tags": []
   },
   "source": [
    "## Formulate Dynamics"
   ]
  },
  {
   "cell_type": "markdown",
   "metadata": {},
   "source": [
    "### Phasespace factor"
   ]
  },
  {
   "cell_type": "code",
   "execution_count": null,
   "metadata": {},
   "outputs": [],
   "source": [
    "from ampform.kinematics.phasespace import Kallen\n",
    "from ampform.sympy import unevaluated\n",
    "from sympy import Abs\n",
    "\n",
    "\n",
    "@unevaluated(real=False)\n",
    "class PhaseSpaceCM(sp.Expr):\n",
    "    s: Any\n",
    "    m1: Any\n",
    "    m2: Any\n",
    "    _latex_repr_ = R\"\\rho^\\mathrm{{CM}}_{{{m1},{m2}}}\\left({s}\\right)\"\n",
    "\n",
    "    def evaluate(self) -> sp.Expr:\n",
    "        s, m1, m2 = self.args\n",
    "        return -16 * sp.pi * sp.I * ChewMandelstam(s, m1, m2)\n",
    "\n",
    "\n",
    "@unevaluated(real=False)\n",
    "class ChewMandelstam(sp.Expr):\n",
    "    s: Any\n",
    "    m1: Any\n",
    "    m2: Any\n",
    "    _latex_repr_ = R\"\\Sigma\\left({s}\\right)\"\n",
    "\n",
    "    def evaluate(self) -> sp.Expr:\n",
    "        s, m1, m2 = self.args\n",
    "        q = BreakupMomentum(s, m1, m2)\n",
    "        return (\n",
    "            1\n",
    "            / (16 * sp.pi**2)\n",
    "            * (\n",
    "                (2 * q / sp.sqrt(s))\n",
    "                * sp.log(Abs((m1**2 + m2**2 - s + 2 * sp.sqrt(s) * q) / (2 * m1 * m2)))\n",
    "                - (m1**2 - m2**2) * (1 / s - 1 / (m1 + m2) ** 2) * sp.log(m1 / m2)\n",
    "            )\n",
    "        )\n",
    "\n",
    "\n",
    "@unevaluated(real=False)\n",
    "class BreakupMomentum(sp.Expr):\n",
    "    s: Any\n",
    "    m1: Any\n",
    "    m2: Any\n",
    "    _latex_repr_ = R\"q\\left({s}\\right)\"\n",
    "\n",
    "    def evaluate(self) -> sp.Expr:\n",
    "        s, m1, m2 = self.args\n",
    "        return sp.sqrt(Kallen(s, m1**2, m2**2)) / (2 * sp.sqrt(s))\n",
    "\n",
    "\n",
    "@unevaluated(real=False)\n",
    "class EnergyDecaywidth(sp.Expr):\n",
    "    s: Any\n",
    "    m1: Any\n",
    "    m2: Any\n",
    "    gamma_R: Any\n",
    "    _latex_repr_ = R\"\\Gamma_s\\left({s}\\right)\"\n",
    "\n",
    "    def evaluate(self) -> sp.Expr:\n",
    "        s, m1, m2, gamma_R = self.args\n",
    "        return gamma_R * PhaseSpaceCM(s, m1, m2)"
   ]
  },
  {
   "cell_type": "markdown",
   "metadata": {},
   "source": [
    "### Relativistic Breit-Wigner"
   ]
  },
  {
   "cell_type": "code",
   "execution_count": null,
   "metadata": {},
   "outputs": [],
   "source": [
    "from ampform.dynamics.builder import TwoBodyKinematicVariableSet\n",
    "\n",
    "PARAMETERS_BW = {}\n",
    "\n",
    "\n",
    "def formulate_rel_bw(\n",
    "    resonances: list[tuple[Particle, TwoBodyKinematicVariableSet]],\n",
    ") -> sp.Expr:\n",
    "    (p1, variables), *_ = resonances\n",
    "    s = variables.incoming_state_mass**2\n",
    "    m_a = variables.outgoing_state_mass1\n",
    "    m_b = variables.outgoing_state_mass2\n",
    "    q = BreakupMomentum(s, m_a, m_b)\n",
    "    w = [sp.Symbol(Rf\"w_{{{p.latex}}}\") for p, _ in resonances]\n",
    "    m = [sp.Symbol(Rf\"m_{{{p.latex}}}\") for p, _ in resonances]\n",
    "    b = [sp.Symbol(Rf\"b_{{{p.latex}}}\") for p, _ in resonances]\n",
    "    d = [sp.Symbol(Rf\"d_{{{p.latex}}}\") for p, _ in resonances]\n",
    "    L = [sp.Symbol(Rf\"L_{{{p.latex}}}\") for p, _ in resonances]\n",
    "    dummy = [sp.Symbol(Rf\"Dummy_{{{p.latex}}}\") for p, _ in resonances]\n",
    "    w_s = (EnergyDecaywidth(s, m_a, m_b, w_) for w_ in w)\n",
    "    rel_bw = sum(\n",
    "        (w_ * m_ * dummy_) / (m_**2 - s - m_ * w_s_)\n",
    "        for m_, w_, w_s_, dummy_ in zip(m, w, w_s, dummy)\n",
    "    )\n",
    "    for i, (p, va) in enumerate(resonances):\n",
    "        PARAMETERS_BW[w[i]] = p.width\n",
    "        PARAMETERS_BW[m[i]] = p.mass\n",
    "        PARAMETERS_BW[b[i]] = 1\n",
    "        PARAMETERS_BW[d[i]] = 1\n",
    "        PARAMETERS_BW[L[i]] = 0\n",
    "        PARAMETERS_BW[dummy[i]] = 1\n",
    "    return rel_bw"
   ]
  },
  {
   "cell_type": "markdown",
   "metadata": {},
   "source": [
    "### $K$ matrix "
   ]
  },
  {
   "cell_type": "code",
   "execution_count": null,
   "metadata": {
    "tags": []
   },
   "outputs": [],
   "source": [
    "PARAMETERS_K = {}\n",
    "\n",
    "\n",
    "def formulate_K_matrix(\n",
    "    resonances: list[tuple[Particle, TwoBodyKinematicVariableSet]],\n",
    ") -> sp.Expr:\n",
    "    (p1, variables), *_ = resonances\n",
    "    s = variables.incoming_state_mass**2\n",
    "    m_a = variables.outgoing_state_mass1\n",
    "    m_b = variables.outgoing_state_mass2\n",
    "    g = [sp.Symbol(Rf\"g_{{{p.latex}}}\") for p, _ in resonances]\n",
    "    m = [sp.Symbol(Rf\"m_{{{p.latex}}}\") for p, _ in resonances]\n",
    "\n",
    "    kmatrix = sum((g_**2) / (m_**2 - s) for m_, g_ in zip(m, g))\n",
    "    for i, (p, va) in enumerate(resonances):\n",
    "        PARAMETERS_K[m[i]] = p.mass\n",
    "        PARAMETERS_K[g[i]] = 1\n",
    "    return kmatrix"
   ]
  },
  {
   "cell_type": "markdown",
   "metadata": {},
   "source": [
    "### $P$ vector"
   ]
  },
  {
   "cell_type": "code",
   "execution_count": null,
   "metadata": {},
   "outputs": [],
   "source": [
    "PARAMETERS_F = {}\n",
    "\n",
    "\n",
    "def formulate_P_vector(\n",
    "    resonances: list[tuple[Particle, TwoBodyKinematicVariableSet]],\n",
    ") -> sp.Expr:\n",
    "    (p1, variables), *_ = resonances\n",
    "    s = variables.incoming_state_mass**2\n",
    "    m_a = variables.outgoing_state_mass1\n",
    "    m_b = variables.outgoing_state_mass2\n",
    "    g = [sp.Symbol(Rf\"g_{{{p.latex}}}\") for p, _ in resonances]\n",
    "    m = [sp.Symbol(Rf\"m_{{{p.latex}}}\") for p, _ in resonances]\n",
    "    beta = [sp.Symbol(Rf\"\\beta_{{{p.latex}}}\") for p, _ in resonances]\n",
    "    P_vector = sum((g_ * beta_) / (m_**2 - s) for m_, g_, beta_ in zip(m, g, beta))\n",
    "    for i, (p, va) in enumerate(resonances):\n",
    "        PARAMETERS_F[m[i]] = p.mass\n",
    "        PARAMETERS_F[beta[i]] = 1 + 0j\n",
    "        PARAMETERS_F[g[i]] = 1\n",
    "    return P_vector"
   ]
  },
  {
   "cell_type": "markdown",
   "metadata": {},
   "source": [
    "### $F$ vector"
   ]
  },
  {
   "cell_type": "code",
   "execution_count": null,
   "metadata": {},
   "outputs": [],
   "source": [
    "def formulate_F_vector(\n",
    "    resonances: list[tuple[Particle, TwoBodyKinematicVariableSet]],\n",
    ") -> sp.Expr:\n",
    "    (p1, variables), *_ = resonances\n",
    "    s = variables.incoming_state_mass**2\n",
    "    m_a = variables.outgoing_state_mass1\n",
    "    m_b = variables.outgoing_state_mass2\n",
    "    rho = PhaseSpaceCM(s, m_a, m_b)\n",
    "    K = formulate_K_matrix(resonances)\n",
    "    P = formulate_P_vector(resonances)\n",
    "    Fvector = (1 / (1 - rho * K)) * P\n",
    "    return Fvector"
   ]
  },
  {
   "cell_type": "markdown",
   "metadata": {},
   "source": [
    "### Model relativistic Breit-Wigner"
   ]
  },
  {
   "cell_type": "code",
   "execution_count": null,
   "metadata": {
    "tags": []
   },
   "outputs": [],
   "source": [
    "import attrs\n",
    "from ampform.helicity import ParameterValues\n",
    "\n",
    "dynamics_expressions_rel_bw = {\n",
    "    symbol: formulate_rel_bw(resonances)\n",
    "    for symbol, resonances in COLLECTED_X_SYMBOLS.items()\n",
    "}\n",
    "model_rel_bw = attrs.evolve(\n",
    "    model,\n",
    "    parameter_defaults=ParameterValues({\n",
    "        **model.parameter_defaults,\n",
    "        **PARAMETERS_BW,\n",
    "    }),\n",
    ")\n",
    "Latex(aslatex(dynamics_expressions_rel_bw))"
   ]
  },
  {
   "cell_type": "code",
   "execution_count": null,
   "metadata": {
    "tags": []
   },
   "outputs": [],
   "source": [
    "model_rel_bw.parameter_defaults"
   ]
  },
  {
   "cell_type": "code",
   "execution_count": null,
   "metadata": {
    "tags": []
   },
   "outputs": [],
   "source": [
    "full_expression_rel_bw = model_rel_bw.expression.doit().xreplace(\n",
    "    dynamics_expressions_rel_bw\n",
    ")\n",
    "sp.count_ops(full_expression_rel_bw)"
   ]
  },
  {
   "cell_type": "markdown",
   "metadata": {},
   "source": [
    "### Model $F$ vector"
   ]
  },
  {
   "cell_type": "code",
   "execution_count": null,
   "metadata": {},
   "outputs": [],
   "source": [
    "dynamics_expressions_fvector = {\n",
    "    symbol: formulate_F_vector(resonances)\n",
    "    for symbol, resonances in COLLECTED_X_SYMBOLS.items()\n",
    "}\n",
    "model_fvector = attrs.evolve(\n",
    "    model,\n",
    "    parameter_defaults=ParameterValues({\n",
    "        **model.parameter_defaults,\n",
    "        **PARAMETERS_F,\n",
    "    }),\n",
    ")\n",
    "Latex(aslatex(dynamics_expressions_fvector))"
   ]
  },
  {
   "cell_type": "code",
   "execution_count": null,
   "metadata": {},
   "outputs": [],
   "source": [
    "model_fvector.parameter_defaults"
   ]
  },
  {
   "cell_type": "code",
   "execution_count": null,
   "metadata": {},
   "outputs": [],
   "source": [
    "full_expression_fvector = model_fvector.expression.doit().xreplace(\n",
    "    dynamics_expressions_fvector\n",
    ")\n",
    "sp.count_ops(full_expression_fvector)"
   ]
  },
  {
   "cell_type": "markdown",
   "metadata": {},
   "source": [
    "### Create Parametrized Function\n"
   ]
  },
  {
   "cell_type": "code",
   "execution_count": null,
   "metadata": {
    "tags": []
   },
   "outputs": [],
   "source": [
    "from tensorwaves.function.sympy import create_parametrized_function\n",
    "\n",
    "unfolded_expression_rel_bw = full_expression_rel_bw.doit()\n",
    "\n",
    "intensity_func_rel_bw = create_parametrized_function(\n",
    "    expression=unfolded_expression_rel_bw,\n",
    "    backend=\"jax\",\n",
    "    parameters=model_rel_bw.parameter_defaults,\n",
    ")"
   ]
  },
  {
   "cell_type": "code",
   "execution_count": null,
   "metadata": {},
   "outputs": [],
   "source": [
    "dynamics_expr_rel_bw, *_ = dynamics_expressions_rel_bw.values()\n",
    "dynamics_expr_rel_bw"
   ]
  },
  {
   "cell_type": "code",
   "execution_count": null,
   "metadata": {},
   "outputs": [],
   "source": [
    "dynamics_func_bw = create_parametrized_function(\n",
    "    expression=dynamics_expr_rel_bw.doit(),\n",
    "    backend=\"numpy\",\n",
    "    parameters=model_rel_bw.parameter_defaults,\n",
    "    use_cse=False,\n",
    ")"
   ]
  },
  {
   "cell_type": "code",
   "execution_count": null,
   "metadata": {},
   "outputs": [],
   "source": [
    "unfolded_expression_fvector = full_expression_fvector.doit()\n",
    "\n",
    "intensity_func_fvector = create_parametrized_function(\n",
    "    expression=unfolded_expression_fvector,\n",
    "    backend=\"jax\",\n",
    "    parameters=model_fvector.parameter_defaults,\n",
    ")"
   ]
  },
  {
   "cell_type": "code",
   "execution_count": null,
   "metadata": {},
   "outputs": [],
   "source": [
    "dynamics_expr_fvector, *_ = dynamics_expressions_fvector.values()\n",
    "dynamics_expr_fvector.simplify(doit=False)"
   ]
  },
  {
   "cell_type": "code",
   "execution_count": null,
   "metadata": {},
   "outputs": [],
   "source": [
    "dynamics_expr_fvector"
   ]
  },
  {
   "cell_type": "code",
   "execution_count": null,
   "metadata": {},
   "outputs": [],
   "source": [
    "dynamics_func_fvector = create_parametrized_function(\n",
    "    expression=dynamics_expr_fvector.doit(),\n",
    "    backend=\"numpy\",\n",
    "    parameters=model_fvector.parameter_defaults,\n",
    "    use_cse=False,\n",
    ")"
   ]
  },
  {
   "cell_type": "markdown",
   "metadata": {},
   "source": [
    "## Update parameters"
   ]
  },
  {
   "cell_type": "code",
   "execution_count": null,
   "metadata": {},
   "outputs": [],
   "source": [
    "m_res1 = 1.82\n",
    "m_res2 = 1.92\n",
    "g_res1 = 1\n",
    "g_res2 = 1\n",
    "\n",
    "new_parameters_fvector = {\n",
    "    R\"m_{N(Fakestar)^+}\": m_res1,\n",
    "    R\"\\beta_{N(Fakestar)^+}\": 1 + 0j,\n",
    "    R\"m_{N(1900)^+}\": m_res2,\n",
    "    R\"\\beta_{N(1900)^+}\": 1 + 0j,  # 0.5l\n",
    "    R\"g_{N(1900)^+}\": g_res2,\n",
    "    R\"g_{N(Fakestar)^+}\": g_res1,\n",
    "}\n",
    "\n",
    "new_parameters_relbw = {\n",
    "    R\"m_{N(Fakestar)^+}\": m_res1,\n",
    "    R\"w_{N(Fakestar)^+}\": g_res1 / m_res1,\n",
    "    R\"m_{N(1900)^+}\": m_res2,\n",
    "    R\"w_{N(1900)^+}\": g_res2 / m_res2,\n",
    "}"
   ]
  },
  {
   "cell_type": "code",
   "execution_count": null,
   "metadata": {},
   "outputs": [],
   "source": [
    "intensity_func_fvector.update_parameters(new_parameters_fvector)\n",
    "intensity_func_rel_bw.update_parameters(new_parameters_relbw)\n",
    "dynamics_func_fvector.update_parameters(new_parameters_fvector)\n",
    "dynamics_func_bw.update_parameters(new_parameters_relbw)\n",
    "dynamics_func_fvector.parameters"
   ]
  },
  {
   "cell_type": "markdown",
   "metadata": {},
   "source": [
    "##  Generate data with $F$ vector\n",
    "### Generate phase space sample"
   ]
  },
  {
   "cell_type": "code",
   "execution_count": null,
   "metadata": {
    "tags": []
   },
   "outputs": [],
   "source": [
    "import os\n",
    "\n",
    "os.environ[\"TF_CPP_MIN_LOG_LEVEL\"] = \"3\""
   ]
  },
  {
   "cell_type": "code",
   "execution_count": null,
   "metadata": {
    "tags": []
   },
   "outputs": [],
   "source": [
    "from tensorwaves.data import SympyDataTransformer\n",
    "\n",
    "helicity_transformer = SympyDataTransformer.from_sympy(\n",
    "    model.kinematic_variables, backend=\"numpy\"\n",
    ")"
   ]
  },
  {
   "cell_type": "code",
   "execution_count": null,
   "metadata": {
    "tags": []
   },
   "outputs": [],
   "source": [
    "import re\n",
    "\n",
    "epsilon = 1e-8\n",
    "from tensorwaves.data import (\n",
    "    SympyDataTransformer,\n",
    "    TFPhaseSpaceGenerator,\n",
    "    TFUniformRealNumberGenerator,\n",
    ")\n",
    "\n",
    "rng = TFUniformRealNumberGenerator(seed=0)\n",
    "phsp_generator = TFPhaseSpaceGenerator(\n",
    "    initial_state_mass=reaction.initial_state[-1].mass,\n",
    "    final_state_masses={i: p.mass for i, p in reaction.final_state.items()},\n",
    ")\n",
    "phsp_momenta = phsp_generator.generate(100_000, rng)\n",
    "phsp = helicity_transformer(phsp_momenta)\n",
    "phsp = {k: v + epsilon * 1j if re.match(r\"^m_\\d\\d$\", k) else v for k, v in phsp.items()}\n",
    "phsp"
   ]
  },
  {
   "cell_type": "markdown",
   "metadata": {},
   "source": [
    "## Plot Sub-Intensities"
   ]
  },
  {
   "cell_type": "code",
   "execution_count": null,
   "metadata": {},
   "outputs": [],
   "source": [
    "import re\n",
    "\n",
    "from tensorwaves.interface import ParametrizedFunction\n",
    "\n",
    "\n",
    "def compute_sub_intensity(\n",
    "    func: ParametrizedFunction,\n",
    "    input_data: DataSample,\n",
    "    resonances: list[str],\n",
    "    coupling_pattern: str = r\"(\\\\beta|g|Dummy_)\",\n",
    "):\n",
    "    original_parameters = dict(func.parameters)\n",
    "    negative_lookahead = f\"(?!{'|'.join(map(re.escape, resonances))})\"\n",
    "    # https://regex101.com/r/WrgGyD/1\n",
    "    pattern = rf\"^{coupling_pattern}({negative_lookahead}.)*$\"\n",
    "    set_parameters_to_zero(func, pattern)\n",
    "    array = func(input_data)\n",
    "    func.update_parameters(original_parameters)\n",
    "    return array\n",
    "\n",
    "\n",
    "def set_parameters_to_zero(func: ParametrizedFunction, name_pattern: str) -> None:\n",
    "    new_parameters = dict(func.parameters)\n",
    "    for par_name in func.parameters:\n",
    "        if re.match(name_pattern, par_name) is not None:\n",
    "            new_parameters[par_name] = 0\n",
    "    func.update_parameters(new_parameters)"
   ]
  },
  {
   "cell_type": "code",
   "execution_count": null,
   "metadata": {},
   "outputs": [],
   "source": [
    "total_intensities = intensity_func_fvector(phsp)\n",
    "total_intensities_1 = intensity_func_rel_bw(phsp)\n",
    "sub_intensities = {\n",
    "    p: compute_sub_intensity(\n",
    "        intensity_func_fvector, phsp, resonances=[p.latex], coupling_pattern=r\"\\\\beta\"\n",
    "    )\n",
    "    for p, _ in resonances\n",
    "}\n",
    "sub_intensities_bw = {\n",
    "    p: compute_sub_intensity(\n",
    "        intensity_func_rel_bw, phsp, resonances=[p.latex], coupling_pattern=r\"Dummy_\"\n",
    "    )\n",
    "    for p, _ in resonances\n",
    "}"
   ]
  },
  {
   "cell_type": "code",
   "execution_count": null,
   "metadata": {},
   "outputs": [],
   "source": [
    "import matplotlib.pyplot as plt\n",
    "\n",
    "fig, ax = plt.subplots(figsize=(8, 5), dpi=300)\n",
    "ax.set_xlim(2, 5)\n",
    "ax.set_xlabel(R\"$m_{p\\eta}^{2}$ [GeV$^{2}$]\")\n",
    "ax.set_ylabel(R\"Intensity [a. u.]\")\n",
    "ax.set_yticks([])\n",
    "\n",
    "bins = 150\n",
    "phsp_projection = np.real(phsp[\"m_01\"]) ** 2\n",
    "ax.hist(\n",
    "    phsp_projection,\n",
    "    weights=total_intensities,\n",
    "    bins=bins,\n",
    "    alpha=0.2,\n",
    "    color=\"hotpink\",\n",
    "    label=R\"Full intensity $F$ vector\",\n",
    ")\n",
    "\n",
    "ax.hist(\n",
    "    phsp_projection,\n",
    "    weights=total_intensities_1,\n",
    "    bins=bins,\n",
    "    alpha=0.2,\n",
    "    color=\"grey\",\n",
    "    label=\"Full intensity Breit-Wigner\",\n",
    ")\n",
    "ax.hist(\n",
    "    len(sub_intensities) * [phsp_projection],\n",
    "    weights=list(sub_intensities.values()),\n",
    "    bins=bins,\n",
    "    alpha=0.6,\n",
    "    label=[\n",
    "        Rf\"Resonance at ${p.mass}\\,\\mathrm{{GeV}}$ $F$ vector\" for p in sub_intensities\n",
    "    ],\n",
    "    histtype=\"step\",\n",
    ")\n",
    "\n",
    "ax.hist(\n",
    "    len(sub_intensities_bw) * [phsp_projection],\n",
    "    weights=list(sub_intensities_bw.values()),\n",
    "    bins=bins,\n",
    "    alpha=0.6,\n",
    "    label=[\n",
    "        Rf\"Resonance at ${p.mass}\\,\\mathrm{{GeV}}$ Breit-Wigner\"\n",
    "        for p in sub_intensities\n",
    "    ],\n",
    "    histtype=\"step\",\n",
    "    ls=\"dotted\",\n",
    ")\n",
    "\n",
    "fig.legend(fontsize=\"9\")\n",
    "plt.tight_layout()\n",
    "plt.show()"
   ]
  },
  {
   "cell_type": "markdown",
   "metadata": {},
   "source": [
    "## Plot Phase"
   ]
  },
  {
   "cell_type": "code",
   "execution_count": null,
   "metadata": {},
   "outputs": [],
   "source": [
    "epsilon = 1e-8\n",
    "x = np.linspace(2, 5, num=400)\n",
    "data = {\"m_01\": np.sqrt(x + epsilon * 1j)}"
   ]
  },
  {
   "cell_type": "code",
   "execution_count": null,
   "metadata": {},
   "outputs": [],
   "source": [
    "total_phase = np.angle(dynamics_func_fvector(data))\n",
    "total_phase_1 = np.angle(dynamics_func_bw(data))\n",
    "sub_phase = {\n",
    "    p: np.angle(\n",
    "        compute_sub_intensity(\n",
    "            dynamics_func_fvector,\n",
    "            data,\n",
    "            resonances=[p.latex],\n",
    "            coupling_pattern=r\"\\\\beta\",\n",
    "        )\n",
    "    )\n",
    "    for p, _ in resonances\n",
    "}\n",
    "sub_phase_bw = {\n",
    "    p: np.angle(\n",
    "        compute_sub_intensity(\n",
    "            dynamics_func_bw, data, resonances=[p.latex], coupling_pattern=r\"Dummy_\"\n",
    "        )\n",
    "    )\n",
    "    for p, _ in resonances\n",
    "}"
   ]
  },
  {
   "cell_type": "code",
   "execution_count": null,
   "metadata": {},
   "outputs": [],
   "source": [
    "fig_phase, ax_phase = plt.subplots(figsize=(10, 6), dpi=500)\n",
    "ax_phase.set_xlim(2, 5)\n",
    "ax_phase.set_xlabel(R\"$m_{p\\eta}^{2}$ [GeV$^{2}$]\", fontsize=12)\n",
    "ax_phase.set_ylabel(R\"Intensity [a. u.]\", fontsize=12)\n",
    "ax_phase.set_yticks([])\n",
    "\n",
    "# Plot histogram\n",
    "phsp_projection = np.real(phsp[\"m_01\"]) ** 2\n",
    "ax_phase.hist(\n",
    "    phsp_projection,\n",
    "    weights=total_intensities,\n",
    "    bins=bins,\n",
    "    alpha=0.2,\n",
    "    color=\"hotpink\",\n",
    "    label=\"Full intensity $F$ vector\",\n",
    ")\n",
    "\n",
    "for i, (k, v) in enumerate(sub_intensities.items()):\n",
    "    ax_phase.hist(\n",
    "        phsp_projection,\n",
    "        weights=v,\n",
    "        bins=bins,\n",
    "        alpha=0.2,\n",
    "        color=plt.cm.viridis(i / len(sub_intensities)),\n",
    "        label=Rf\"Resonance at ${k.mass}\\,\\mathrm{{GeV}}$ $F$ vector\",\n",
    "    )\n",
    "\n",
    "ax_phase1 = ax_phase.twinx()\n",
    "ax_phase1.set_ylabel(R\"Angle [a. u.]\", fontsize=12)\n",
    "ax_phase1.set_yticks([-np.pi, -np.pi / 2, 0, np.pi / 2, np.pi])\n",
    "ax_phase1.set_yticklabels([\n",
    "    R\"$-\\pi$\",\n",
    "    R\"$-\\frac{\\pi}{2}$\",\n",
    "    R\"0\",\n",
    "    R\"$+\\frac{\\pi}{2}$\",\n",
    "    R\"$+\\pi$\",\n",
    "])\n",
    "\n",
    "# Plot total phases\n",
    "ax_phase1.scatter(x, total_phase, s=22, color=\"red\", marker=\"^\", label=\"Total Phase\")\n",
    "\n",
    "colors = [\"green\", \"yellow\"]\n",
    "point_styles = [\"v\", \"o\"]\n",
    "marker_size = [20, 9]\n",
    "\n",
    "for i, (k, v) in enumerate(sub_phase.items()):\n",
    "    ax_phase1.scatter(\n",
    "        x,\n",
    "        v,\n",
    "        color=colors[i % len(colors)],\n",
    "        alpha=0.5,\n",
    "        s=marker_size[i % len(marker_size)],\n",
    "        marker=point_styles[i % len(point_styles)],\n",
    "        label=f\"Resonance at {k.mass} GeV $F$-vector\",\n",
    "    )\n",
    "    ax_phase1.axvline(k.mass**2, linestyle=\"dotted\", color=f\"C{i}\")\n",
    "\n",
    "# Set labels for twin axes\n",
    "ax_phase1.set_ylabel(\"Angle [rad]\", fontsize=12)\n",
    "\n",
    "# Add legends\n",
    "fig_phase.legend(loc=\"upper left\", fontsize=\"9\", bbox_to_anchor=(0.1, 0.9))\n",
    "plt.tight_layout()\n",
    "plt.show()"
   ]
  },
  {
   "cell_type": "code",
   "execution_count": null,
   "metadata": {},
   "outputs": [],
   "source": [
    "total_dynamics = dynamics_func_fvector(data)\n",
    "sub_dynamics = {\n",
    "    p: compute_sub_intensity(\n",
    "        dynamics_func_fvector,\n",
    "        data,\n",
    "        resonances=[p.latex],\n",
    "        coupling_pattern=r\"\\\\beta\",\n",
    "    )\n",
    "    for p, _ in resonances\n",
    "}\n",
    "\n",
    "sub_dynamics_bw = {\n",
    "    p: compute_sub_intensity(\n",
    "        dynamics_func_bw,\n",
    "        data,\n",
    "        resonances=[p.latex],\n",
    "        coupling_pattern=r\"Dummy_\",\n",
    "    )\n",
    "    for p, _ in resonances\n",
    "}"
   ]
  },
  {
   "cell_type": "code",
   "execution_count": null,
   "metadata": {},
   "outputs": [],
   "source": [
    "x_1 = np.linspace(2, (m_res1**2 + m_res2**2) / 2, num=500)\n",
    "x_2 = np.linspace((m_res1**2 + m_res2**2) / 2, 5, num=500)\n",
    "\n",
    "# x_1 = np.linspace(2, 5, num=500)\n",
    "# x_2 = np.linspace(2,5, num=500)\n",
    "\n",
    "data_1 = {\"m_01\": np.sqrt(x_1 + epsilon * 1j)}\n",
    "data_2 = {\"m_01\": np.sqrt(x_2 + epsilon * 1j)}\n",
    "\n",
    "y_imag_1 = dynamics_func_fvector(data_1).imag\n",
    "y_real_1 = dynamics_func_fvector(data_1).real\n",
    "y_imag_2 = dynamics_func_fvector(data_2).imag\n",
    "y_real_2 = dynamics_func_fvector(data_2).real\n",
    "fig_A, axs = plt.subplots(1, 2, figsize=(10, 5))\n",
    "colorsA = [\"red\", \"blue\"]\n",
    "axA, axA1 = axs\n",
    "for i, (k, v) in enumerate(sub_dynamics.items()):\n",
    "    axA1.plot(\n",
    "        v.real,\n",
    "        v.imag,\n",
    "        color=colorsA[i % len(colorsA)],\n",
    "        label=f\"Resonance at {k.mass} GeV $F$-vector\",\n",
    "    )\n",
    "\n",
    "axA.plot(\n",
    "    y_real_1,\n",
    "    y_imag_1,\n",
    "    label=rf\"$Im(F)$ $s$ in domain of {{{m_res1}}} [GeV] resonance \",\n",
    "    color=\"red\",\n",
    ")\n",
    "axA.plot(\n",
    "    y_real_2,\n",
    "    y_imag_2,\n",
    "    label=rf\"$Im(F)$ $s$ in domain of {{{m_res2}}} [GeV] resonance \",\n",
    "    color=\"blue\",\n",
    ")\n",
    "axA.set_xlabel(r\"$Re(F)$\", fontsize=14)\n",
    "axA.set_ylabel(r\"$Im(F)$\", fontsize=14)\n",
    "axA.axhline(0, color=\"black\")\n",
    "axA.axvline(0, color=\"black\")\n",
    "axA1.axhline(0, color=\"black\")\n",
    "axA1.axvline(0, color=\"black\")\n",
    "plt.tight_layout()\n",
    "axA.legend(loc=\"upper left\")\n",
    "# Save the plot as PDF\n",
    "# plt.savefig(\"_func_plots.pdf\", dpi=750)\n",
    "plt.show()"
   ]
  },
  {
   "cell_type": "code",
   "execution_count": null,
   "metadata": {},
   "outputs": [],
   "source": [
    "fig_phase_bw, ax_phase_bw = plt.subplots(figsize=(8, 5), dpi=500)\n",
    "ax_phase_bw.set_xlim(2, 5)\n",
    "ax_phase_bw.set_xlabel(R\"$m_{p\\eta}^{2}$ [GeV$^{2}$]\")\n",
    "ax_phase_bw.set_ylabel(R\"Intensity [a. u.]\")\n",
    "ax_phase_bw.set_yticks([])\n",
    "\n",
    "# Plot histogram\n",
    "phsp_projection = np.real(phsp[\"m_01\"]) ** 2\n",
    "ax_phase_bw.hist(\n",
    "    phsp_projection,\n",
    "    weights=total_intensities_1,\n",
    "    bins=bins,\n",
    "    alpha=0.2,\n",
    "    color=\"grey\",\n",
    "    label=\"Full intensity BW\",\n",
    ")\n",
    "\n",
    "\n",
    "ax_phase1_bw = ax_phase_bw.twinx()\n",
    "ax_phase1_bw.set_ylabel(R\"Angle [a. u.]\")\n",
    "ax_phase1_bw.set_yticks([-np.pi, -np.pi / 2, 0, np.pi / 2, +np.pi])\n",
    "ax_phase1_bw.set_yticklabels([\n",
    "    R\"$-\\pi$\",\n",
    "    R\"$-\\frac{\\pi}{2}$\",\n",
    "    R\"0\",\n",
    "    R\"$+\\frac{\\pi}{2}$\",\n",
    "    R\"$+\\pi$\",\n",
    "])\n",
    "colors_bw = [\"magenta\", \"cyan\"]\n",
    "\n",
    "# Plot total phases\n",
    "ax_phase1_bw\n",
    "ax_phase1_bw.plot(\n",
    "    x,\n",
    "    total_phase_1,\n",
    "    color=\"blue\",\n",
    "    label=\"Total Phase Breit-Wigner\",\n",
    "    linestyle=\"--\",\n",
    ")\n",
    "\n",
    "\n",
    "for i, (k, v) in enumerate(sub_phase_bw.items()):\n",
    "    ax_phase1_bw.plot(\n",
    "        x,\n",
    "        v,\n",
    "        color=colors_bw[i % len(colors_bw)],\n",
    "        zorder=999,\n",
    "        linestyle=\"--\",\n",
    "        label=f\"Resonance at {k.mass} GeV Breit-Wigner\",\n",
    "    )\n",
    "    (ax_phase1_bw.axvline(k.mass**2, linestyle=\"dotted\", color=f\"C{i}\"),)\n",
    "# Set labels for twin axes\n",
    "ax_phase1_bw.set_ylabel(\"Angle [rad]\")\n",
    "\n",
    "# Add legends\n",
    "fig_phase_bw.legend(loc=\"upper left\", fontsize=\"7\")\n",
    "plt.tight_layout()\n",
    "plt.show()"
   ]
  },
  {
   "cell_type": "code",
   "execution_count": null,
   "metadata": {},
   "outputs": [],
   "source": [
    "y_imag_1_bw = dynamics_func_bw(data_1).imag\n",
    "y_real_1_bw = dynamics_func_bw(data_1).real\n",
    "y_imag_2_bw = dynamics_func_bw(data_2).imag\n",
    "y_real_2_bw = dynamics_func_bw(data_2).real\n",
    "fig_A, axs = plt.subplots(1, 2, figsize=(10, 5))\n",
    "colorsA_bw = [\"red\", \"blue\"]\n",
    "axA_bw, axA1_bw = axs\n",
    "for i, (k, v) in enumerate(sub_dynamics_bw.items()):\n",
    "    axA1_bw.plot(\n",
    "        v.real,\n",
    "        v.imag,\n",
    "        color=colorsA_bw[i % len(colorsA_bw)],\n",
    "        label=f\"Resonance at {k.mass} GeV $F$-vector\",\n",
    "    )\n",
    "\n",
    "axA_bw.plot(\n",
    "    y_real_1_bw,\n",
    "    y_imag_1_bw,\n",
    "    label=rf\"$Im(F)$ $s$ in domain of {{{m_res1}}} [GeV] resonance \",\n",
    "    color=\"red\",\n",
    ")\n",
    "axA_bw.plot(\n",
    "    y_real_2_bw,\n",
    "    y_imag_2_bw,\n",
    "    label=rf\"$Im(F)$ $s$ in domain of {{{m_res2}}} [GeV] resonance \",\n",
    "    color=\"blue\",\n",
    ")\n",
    "axA_bw.set_xlabel(r\"$Re(F)$\", fontsize=14)\n",
    "axA_bw.set_ylabel(r\"$Im(F)$\", fontsize=14)\n",
    "axA_bw.axhline(0, color=\"black\")\n",
    "axA_bw.axvline(0, color=\"black\")\n",
    "axA1_bw.axhline(0, color=\"black\")\n",
    "axA1_bw.axvline(0, color=\"black\")\n",
    "plt.tight_layout()\n",
    "axA_bw.legend(loc=\"upper left\")\n",
    "# Save the plot as PDF\n",
    "# plt.savefig(\"_func_plots.pdf\", dpi=750)\n",
    "plt.show()"
   ]
  },
  {
   "cell_type": "code",
   "execution_count": null,
   "metadata": {},
   "outputs": [],
   "source": []
  },
  {
   "cell_type": "code",
   "execution_count": null,
   "metadata": {},
   "outputs": [],
   "source": []
  },
  {
   "cell_type": "code",
   "execution_count": null,
   "metadata": {},
   "outputs": [],
   "source": []
  }
 ],
 "metadata": {
  "colab": {
   "toc_visible": true
  },
  "kernelspec": {
   "display_name": "Python 3 (ipykernel)",
   "language": "python",
   "name": "python3"
  },
  "language_info": {
   "codemirror_mode": {
    "name": "ipython",
    "version": 3
   },
   "file_extension": ".py",
   "mimetype": "text/x-python",
   "name": "python",
   "nbconvert_exporter": "python",
   "pygments_lexer": "ipython3",
   "version": "3.10.14"
  }
 },
 "nbformat": 4,
 "nbformat_minor": 4
}
