{
 "cells": [
  {
   "cell_type": "code",
   "execution_count": null,
   "metadata": {
    "hideCode": true,
    "hideOutput": true,
    "hidePrompt": true,
    "jupyter": {
     "source_hidden": true
    },
    "slideshow": {
     "slide_type": "skip"
    },
    "tags": [
     "remove-cell"
    ]
   },
   "outputs": [],
   "source": [
    "%config InlineBackend.figure_formats = ['svg']\n",
    "import os\n",
    "\n",
    "STATIC_WEB_PAGE = {\"EXECUTE_NB\", \"READTHEDOCS\"}.intersection(os.environ)"
   ]
  },
  {
   "cell_type": "markdown",
   "metadata": {},
   "source": [
    "```{autolink-concat}\n",
    "```"
   ]
  },
  {
   "cell_type": "markdown",
   "metadata": {
    "tags": [
     "documentation",
     "jupyter",
     "sphinx",
     "3d"
    ]
   },
   "source": [
    "::::{margin}\n",
    ":::{card} Amplitude Analysis with simple Python\n",
    "TR-999\n",
    "^^^\n",
    "+++\n",
    "✅&nbsp;[ComPWA/RUB-EP1-AG#93](https://github.com/ComPWA/RUB-EP1-AG/issues/93)\n",
    ":::\n",
    "::::"
   ]
  },
  {
   "cell_type": "markdown",
   "metadata": {
    "tags": []
   },
   "source": [
    "# Amplitude Analysis 101"
   ]
  },
  {
   "cell_type": "code",
   "execution_count": null,
   "metadata": {
    "tags": [
     "remove-cell"
    ]
   },
   "outputs": [],
   "source": [
    "%pip install -q gdown==4.7.1 matplotlib==3.7.3 numpy==1.24.4 particle==0.23.0 pylorentz==0.3.3 scipy==1.10.1"
   ]
  },
  {
   "cell_type": "code",
   "execution_count": null,
   "metadata": {
    "jupyter": {
     "source_hidden": true
    }
   },
   "outputs": [],
   "source": [
    "from __future__ import annotations\n",
    "\n",
    "import warnings\n",
    "\n",
    "import gdown\n",
    "import numpy as np\n",
    "\n",
    "warnings.filterwarnings(\"ignore\")"
   ]
  },
  {
   "cell_type": "code",
   "execution_count": null,
   "metadata": {
    "jupyter": {
     "source_hidden": true
    }
   },
   "outputs": [],
   "source": [
    "%config InlineBackend.figure_formats = ['png']"
   ]
  },
  {
   "cell_type": "code",
   "execution_count": null,
   "metadata": {},
   "outputs": [],
   "source": [
    "filename = gdown.cached_download(\n",
    "    url=\"https://indico.ific.uv.es/event/6803/contributions/21223/attachments/11221/15563/Three-particles-3.dat\",\n",
    "    path=\"data/Three-particles-3.dat\",\n",
    "    md5=\"75fedf381f9b62d3210ff200fc63165f\",\n",
    "    quiet=True,\n",
    "    verify=False,\n",
    ")\n",
    "data = np.loadtxt(filename)\n",
    "data.shape"
   ]
  },
  {
   "cell_type": "code",
   "execution_count": null,
   "metadata": {},
   "outputs": [],
   "source": [
    "n_final_state = 3\n",
    "pa, p1, p2, p3 = (data[i::4].T for i in range(n_final_state + 1))\n",
    "p0 = p1 + p2 + p3\n",
    "pb = p0 - pa"
   ]
  },
  {
   "cell_type": "code",
   "execution_count": null,
   "metadata": {},
   "outputs": [],
   "source": [
    "import matplotlib.pyplot as plt\n",
    "from pylorentz import Momentum4"
   ]
  },
  {
   "cell_type": "code",
   "execution_count": null,
   "metadata": {},
   "outputs": [],
   "source": [
    "pa = Momentum4(*pa)\n",
    "pb = Momentum4(*pb)\n",
    "p1 = Momentum4(*p1)\n",
    "p2 = Momentum4(*p2)\n",
    "p3 = Momentum4(*p3)\n",
    "\n",
    "system12 = p1 + p2\n",
    "system23 = p2 + p3\n",
    "system13 = p1 + p3\n",
    "\n",
    "s12_data = system12.m2\n",
    "s31_data = system13.m2\n",
    "s23_data = system23.m2"
   ]
  },
  {
   "cell_type": "code",
   "execution_count": null,
   "metadata": {},
   "outputs": [],
   "source": [
    "R12 = 1.74\n",
    "R23 = 1.53\n",
    "R31 = 2.45"
   ]
  },
  {
   "cell_type": "code",
   "execution_count": null,
   "metadata": {
    "jupyter": {
     "source_hidden": true
    }
   },
   "outputs": [],
   "source": [
    "fig, (ax1, ax2) = plt.subplots(figsize=(10, 4), ncols=2)\n",
    "fig.suptitle(\"Dalitz plot – scatter plot\")\n",
    "ax1.scatter(s12_data, s23_data, c=\"black\", s=1e-3)\n",
    "ax1.set_xlabel(R\"$s_{12}\\;\\left[\\mathrm{GeV}^2\\right]$\")\n",
    "ax1.set_ylabel(R\"$s_{23}\\;\\left[\\mathrm{GeV}^2\\right]$\")\n",
    "ax1.axvline(R12, c=\"C0\", ls=\"dashed\", label=\"$R_{12}$\")\n",
    "ax1.axhline(R23, c=\"C1\", ls=\"dashed\", label=\"$R_{23}$\")\n",
    "ax1.legend()\n",
    "ax2.scatter(s31_data, s12_data, c=\"black\", s=1e-3)\n",
    "ax2.set_xlabel(R\"$s_{31}\\;\\left[\\mathrm{GeV}^2\\right]$\")\n",
    "ax2.set_ylabel(R\"$s_{12}\\;\\left[\\mathrm{GeV}^2\\right]$\")\n",
    "ax2.axvline(R31, c=\"C2\", ls=\"dashed\", label=\"$R_{31}$\")\n",
    "ax2.axhline(R12, c=\"C0\", ls=\"dashed\", label=\"$R_{12}$\")\n",
    "ax2.legend()\n",
    "fig.tight_layout()\n",
    "plt.show()"
   ]
  },
  {
   "cell_type": "code",
   "execution_count": null,
   "metadata": {
    "jupyter": {
     "source_hidden": true
    }
   },
   "outputs": [],
   "source": [
    "fig, (ax1, ax2, ax3) = plt.subplots(figsize=(12, 4), ncols=3)\n",
    "fig.suptitle(\"1D histogram of $s_{12}, s_{23}$, and $s_{31}$\")\n",
    "ax1.hist(s12_data, bins=100, color=\"black\", histtype=\"step\")\n",
    "ax1.set_xlabel(R\"$s_{12}$\")\n",
    "ax1.set_ylabel(\"counts\")\n",
    "ax1.axvline(R12, c=\"C0\", ls=\"dashed\", label=\"$R_{12}$\")\n",
    "ax1.legend()\n",
    "\n",
    "ax2.hist(s23_data, bins=100, color=\"black\", histtype=\"step\")\n",
    "ax2.set_xlabel(R\"$s_{23}$\")\n",
    "ax2.set_ylabel(\"counts\")\n",
    "ax2.axvline(R23, c=\"C1\", ls=\"dashed\", label=\"$R_{23}$\")\n",
    "ax2.legend()\n",
    "\n",
    "ax3.hist(s31_data, bins=100, color=\"black\", histtype=\"step\")\n",
    "ax3.set_xlabel(R\"$s_{31}$\")\n",
    "ax3.set_ylabel(\"counts\")\n",
    "ax3.axvline(R31, c=\"C2\", ls=\"dashed\", label=\"$R_{31}$\")\n",
    "ax3.legend()\n",
    "\n",
    "fig.tight_layout()\n",
    "plt.show()"
   ]
  },
  {
   "cell_type": "code",
   "execution_count": null,
   "metadata": {
    "jupyter": {
     "source_hidden": true
    }
   },
   "outputs": [],
   "source": [
    "fig, (ax1, ax2, ax3) = plt.subplots(figsize=(12, 4), ncols=3)\n",
    "fig.suptitle(\"1D histogram of $s_{12}, s_{23}$, and $s_{31}$\")\n",
    "ax1.hist(s12_data, bins=100, color=\"black\", histtype=\"step\")\n",
    "ax1.set_xlabel(R\"$s_{12}$\")\n",
    "ax1.set_ylabel(\"counts\")\n",
    "ax1.axvline(R12 - 0.25, c=\"C0\", ls=\"dashed\", label=\"$-$\")\n",
    "ax1.axvline(R12 + 0.25, c=\"C0\", ls=\"dashed\", label=\"$+$\")\n",
    "ax1.legend()\n",
    "\n",
    "ax2.hist(s23_data, bins=100, color=\"black\", histtype=\"step\")\n",
    "ax2.set_xlabel(R\"$s_{23}$\")\n",
    "ax2.set_ylabel(\"counts\")\n",
    "ax2.axvline(R23 - 0.3, c=\"C1\", ls=\"dashed\", label=\"$-$\")\n",
    "ax2.axvline(R23 + 0.3, c=\"C1\", ls=\"dashed\", label=\"$+$\")\n",
    "ax2.legend()\n",
    "\n",
    "ax3.hist(s31_data, bins=100, color=\"black\", histtype=\"step\")\n",
    "ax3.set_xlabel(R\"$s_{31}$\")\n",
    "ax3.set_ylabel(\"counts\")\n",
    "ax3.axvline(R31 - 0.25, c=\"C2\", ls=\"dashed\", label=\"$-$\")\n",
    "ax3.axvline(R31 + 0.45, c=\"C2\", ls=\"dashed\", label=\"$+$\")\n",
    "ax3.legend()\n",
    "\n",
    "fig.tight_layout()\n",
    "plt.show()"
   ]
  },
  {
   "cell_type": "code",
   "execution_count": null,
   "metadata": {},
   "outputs": [],
   "source": [
    "fig, ax = plt.subplots()\n",
    "fig.suptitle(\"Dalitz Plot\")\n",
    "ax.hist2d(s12_data, s23_data, bins=100, cmin=1e-6)\n",
    "ax.set_xlabel(R\"$s_{12}\\;\\left[\\mathrm{GeV}^2\\right]$\")\n",
    "ax.set_ylabel(R\"$s_{23}\\;\\left[\\mathrm{GeV}^2\\right]$\")\n",
    "fig.tight_layout()\n",
    "plt.show()"
   ]
  },
  {
   "cell_type": "code",
   "execution_count": null,
   "metadata": {},
   "outputs": [],
   "source": [
    "filename = gdown.cached_download(\n",
    "    url=\"https://indico.ific.uv.es/event/6803/contributions/21220/attachments/11209/15505/Three-particles-flat.dat\",\n",
    "    path=\"Three-particles-flat.dat\",\n",
    "    md5=\"7624074870c22b57581e5c54a1b93754\",\n",
    "    quiet=True,\n",
    "    verify=False,\n",
    ")\n",
    "data_flat = np.loadtxt(filename)\n",
    "data_flat.shape"
   ]
  },
  {
   "cell_type": "code",
   "execution_count": null,
   "metadata": {},
   "outputs": [],
   "source": [
    "n_final_state = 3\n",
    "pa, p1, p2, p3 = (data_flat[i::4].T for i in range(n_final_state + 1))\n",
    "p0 = p1 + p2 + p3\n",
    "pb = p0 - pa\n",
    "\n",
    "pa = Momentum4(*pa)\n",
    "pb = Momentum4(*pb)\n",
    "p1 = Momentum4(*p1)\n",
    "p2 = Momentum4(*p2)\n",
    "p3 = Momentum4(*p3)\n",
    "\n",
    "system12 = p1 + p2\n",
    "system23 = p2 + p3\n",
    "system13 = p1 + p3\n",
    "s12 = invariantMassSquared12 = system12.m2\n",
    "s31 = invariantMassSquared13 = system13.m2\n",
    "s23 = invariantMassSquared23 = system23.m2"
   ]
  },
  {
   "cell_type": "code",
   "execution_count": null,
   "metadata": {},
   "outputs": [],
   "source": [
    "fig, ax = plt.subplots()\n",
    "fig.suptitle(\"Dalitz plot\")\n",
    "ax.hist2d(s12, s23, bins=100, cmin=1)\n",
    "ax.set_xlabel(R\"$s_{12}\\;\\left[\\mathrm{GeV}^2\\right]$\")\n",
    "ax.set_ylabel(R\"$s_{23}\\;\\left[\\mathrm{GeV}^2\\right]$\")\n",
    "fig.tight_layout()\n",
    "plt.show()"
   ]
  },
  {
   "cell_type": "markdown",
   "metadata": {},
   "source": [
    "<!-- ```{image} https://github.com/ComPWA/compwa-org/assets/17490173/e9c07377-4c47-43fe-83ac-96a70c5f44fa\n",
    ":width: 300px\n",
    ":align: center\n",
    "```\n",
    " -->\n",
    "```{image} https://github.com/ComPWA/strong2020-salamanca/assets/17490173/29b2514c-5683-4593-8ee7-c9a7ae64223f\n",
    ":width: 300px\n",
    "```\n",
    "\n",
    "```{image} https://github.com/ComPWA/strong2020-salamanca/assets/17490173/ba309ebb-e432-4fad-802d-b6a5f43a71cd\n",
    ":width: 300px\n",
    "```\n",
    "\n",
    "```{image} https://github.com/ComPWA/strong2020-salamanca/assets/17490173/867578c7-f063-449c-9ecb-a40c46e14213\n",
    ":width: 300px\n",
    "```"
   ]
  },
  {
   "cell_type": "markdown",
   "metadata": {},
   "source": [
    "$$ \n",
    "I = |A|^2\n",
    "$$\n",
    "\n",
    "$$\n",
    "A = A^{12} + A^{23} + A^{31}\n",
    "$$\n",
    "\n",
    "$$\n",
    "1 \\equiv \\eta ; \\quad  2 \\equiv \\pi^0 ; \\quad 3 \\equiv p\n",
    "$$\n",
    "\n",
    "$$\n",
    "A^{12} = \\frac{\\sum a_m Y_2^m (\\Omega_1)}{s-m^2_{a_2}+im_{a_2} \\Gamma_{a_2}} \\times s^{0.5+0.9u_3}\n",
    "$$\n",
    "\n",
    "$$\n",
    "A^{23} = \\frac{\\sum b_m Y_1^m (\\Omega_2)}{s-m^2_{\\Delta}+im_{\\Delta} \\Gamma_{\\Delta}} \\times s^{0.5+0.9t_1}\n",
    "$$\n",
    "\n",
    "$$\n",
    "A^{31} = \\frac{c_0}{s-m^2_{N^*}+im_{N^*} \\Gamma_{N^*}} \\times s^{1.08+0.2t_2}\n",
    "$$"
   ]
  },
  {
   "cell_type": "code",
   "execution_count": null,
   "metadata": {},
   "outputs": [],
   "source": [
    "def BW(s, m, Gamma):\n",
    "    return 1 / (s - m**2 + complex(0, m * Gamma))"
   ]
  },
  {
   "cell_type": "code",
   "execution_count": null,
   "metadata": {},
   "outputs": [],
   "source": [
    "# A12 = f12 * BW(s,m,Gamma) * s**(0.5+0.9u3)\n",
    "# A23 = f23 * BW(s,m,Gamma) * s**(0.5+0.9t1)\n",
    "# A31 = f31 * BW(s,m,Gamma) * s**(1.08+0.2t2)"
   ]
  },
  {
   "cell_type": "code",
   "execution_count": null,
   "metadata": {},
   "outputs": [],
   "source": [
    "def p3_length(four_momentum: np.ndarray) -> np.ndarray:\n",
    "    return np.sqrt(\n",
    "        four_momentum[1] ** 2 + four_momentum[2] ** 2 + four_momentum[3] ** 2\n",
    "    )"
   ]
  },
  {
   "cell_type": "code",
   "execution_count": null,
   "metadata": {},
   "outputs": [],
   "source": [
    "pa_length = p3_length(pa)\n",
    "p1_length = p3_length(p1)\n",
    "p2_length = p3_length(p2)\n",
    "p3_length = p3_length(p3)"
   ]
  },
  {
   "cell_type": "markdown",
   "metadata": {},
   "source": [
    "The Polar Angles:\n",
    "\n",
    "$$\n",
    "\\theta = \\arccos \\frac{p_z}{|p|}\n",
    "$$"
   ]
  },
  {
   "cell_type": "code",
   "execution_count": null,
   "metadata": {},
   "outputs": [],
   "source": [
    "theta_a = np.arccos(pa[3] / pa_length)\n",
    "theta_1 = np.arccos(p1[3] / p1_length)\n",
    "theta_2 = np.arccos(p2[3] / p2_length)\n",
    "theta_3 = np.arccos(p3[3] / p3_length)"
   ]
  },
  {
   "cell_type": "markdown",
   "metadata": {},
   "source": [
    "The Azimuthal Angles:\n",
    "\n",
    "$$\n",
    "\\phi = \\arctan2(p_y , p_x)\n",
    "$$"
   ]
  },
  {
   "cell_type": "code",
   "execution_count": null,
   "metadata": {},
   "outputs": [],
   "source": [
    "phi_a = np.arctan2(pa[2], pa[1])\n",
    "phi_1 = np.arctan2(p1[2], p1[1])\n",
    "phi_2 = np.arctan2(p2[2], p2[1])\n",
    "phi_3 = np.arctan2(p3[2], p3[1])"
   ]
  },
  {
   "cell_type": "code",
   "execution_count": null,
   "metadata": {
    "jupyter": {
     "source_hidden": true
    }
   },
   "outputs": [],
   "source": [
    "import scipy as sp"
   ]
  },
  {
   "cell_type": "markdown",
   "metadata": {},
   "source": [
    "$Y_l^m(\\theta, \\phi)$ in scipy.special.sph_harm$(m, l, \\theta, \\phi)$"
   ]
  },
  {
   "cell_type": "code",
   "execution_count": null,
   "metadata": {},
   "outputs": [],
   "source": [
    "sp.special.sph_harm(1, 1, theta_1, phi_1)\n",
    "sp.special.sph_harm(0, 1, theta_1, phi_1)\n",
    "sp.special.sph_harm(-1, 1, theta_1, phi_1)"
   ]
  },
  {
   "cell_type": "code",
   "execution_count": null,
   "metadata": {},
   "outputs": [],
   "source": [
    "sp.special.sph_harm(2, 2, theta_1, phi_1)\n",
    "sp.special.sph_harm(1, 2, theta_1, phi_1)\n",
    "sp.special.sph_harm(0, 2, theta_1, phi_1)\n",
    "sp.special.sph_harm(-1, 2, theta_1, phi_1)\n",
    "sp.special.sph_harm(-2, 2, theta_1, phi_1)"
   ]
  },
  {
   "cell_type": "code",
   "execution_count": null,
   "metadata": {},
   "outputs": [],
   "source": [
    "sp.special.sph_harm(0, 0, theta_1, phi_1)"
   ]
  },
  {
   "cell_type": "markdown",
   "metadata": {},
   "source": [
    "Spherical harmonics "
   ]
  },
  {
   "cell_type": "code",
   "execution_count": null,
   "metadata": {},
   "outputs": [],
   "source": [
    "hm12 = (\n",
    "    2.5 * sp.special.sph_harm(2, 2, theta_1 + theta_2, phi_1 + phi_2)\n",
    "    + 4 * sp.special.sph_harm(1, 2, theta_1 + theta_2, phi_1 + phi_2)\n",
    "    + 3.5 * sp.special.sph_harm(0, 2, theta_1 + theta_2, phi_1 + phi_2)\n",
    "    + 0.5 * sp.special.sph_harm(-1, 2, theta_1 + theta_2, phi_1 + phi_2)\n",
    "    + 0 * sp.special.sph_harm(-2, 2, theta_1 + theta_2, phi_1 + phi_2)\n",
    ")\n",
    "plt.hist(hm12, bins=100)\n",
    "plt.xlabel(R\"$\\sum a_m Y_2^m (\\Omega_1)$\")\n",
    "plt.show()"
   ]
  },
  {
   "cell_type": "code",
   "execution_count": null,
   "metadata": {},
   "outputs": [],
   "source": [
    "hm23 = (\n",
    "    0.5 * sp.special.sph_harm(1, 1, theta_1, phi_1)\n",
    "    + 4 * sp.special.sph_harm(0, 1, theta_1, phi_1)\n",
    "    - 1.5 * sp.special.sph_harm(-1, 1, theta_1, phi_1)\n",
    ")\n",
    "plt.hist(hm23, bins=100)\n",
    "plt.xlabel(R\"$\\sum b_m Y_1^m (\\Omega_2)$\")\n",
    "plt.show()"
   ]
  },
  {
   "cell_type": "code",
   "execution_count": null,
   "metadata": {},
   "outputs": [],
   "source": [
    "M12 = np.sqrt(R12)\n",
    "M23 = np.sqrt(R23)\n",
    "M31 = np.sqrt(R31)"
   ]
  },
  {
   "cell_type": "code",
   "execution_count": null,
   "metadata": {},
   "outputs": [],
   "source": [
    "def intensity_dynamics(s12, s23, s31, *, M12, Gamma12, M23, Gamma23, M31, Gamma31):\n",
    "    A12 = BW(s12, M12, Gamma12)\n",
    "    A23 = BW(s23, M23, Gamma23)\n",
    "    A31 = BW(s31, M31, Gamma31)\n",
    "    return np.abs(A12 + A23 + A31) ** 2"
   ]
  },
  {
   "cell_type": "code",
   "execution_count": null,
   "metadata": {},
   "outputs": [],
   "source": [
    "fig, (ax1, ax2) = plt.subplots(figsize=(12, 5), ncols=2, sharey=True)\n",
    "fig.suptitle(\"Dalitz Plots$\")\n",
    "ax1.hist2d(\n",
    "    s12,\n",
    "    s23,\n",
    "    bins=100,\n",
    "    weights=intensity_dynamics(\n",
    "        s12,\n",
    "        s23,\n",
    "        s31,\n",
    "        M12=M12,\n",
    "        Gamma12=0.1,\n",
    "        M23=M23,\n",
    "        Gamma23=0.1,\n",
    "        M31=M31,\n",
    "        Gamma31=0.1,\n",
    "    ),\n",
    "    cmin=1e-6,\n",
    ")\n",
    "ax1.set_xlabel(R\"$s_{12}$\")\n",
    "ax1.set_ylabel(R\"$s_{23}$\")\n",
    "ax1.set_title(\"From model\")\n",
    "\n",
    "\n",
    "ax2.hist2d(s12_data, s23_data, bins=100, cmin=1e-6)\n",
    "ax2.set_title(\"From data\")\n",
    "ax2.set_xlabel(R\"$s_{12}$\")\n",
    "ax2.set_ylabel(R\"$s_{23}$\")\n",
    "\n",
    "fig.tight_layout()\n",
    "fig.show()"
   ]
  },
  {
   "cell_type": "code",
   "execution_count": null,
   "metadata": {},
   "outputs": [],
   "source": []
  }
 ],
 "metadata": {
  "colab": {
   "toc_visible": true
  },
  "kernelspec": {
   "display_name": "Python 3 (ipykernel)",
   "language": "python",
   "name": "python3"
  },
  "language_info": {
   "codemirror_mode": {
    "name": "ipython",
    "version": 3
   },
   "file_extension": ".py",
   "mimetype": "text/x-python",
   "name": "python",
   "nbconvert_exporter": "python",
   "pygments_lexer": "ipython3",
   "version": "3.8.18"
  }
 },
 "nbformat": 4,
 "nbformat_minor": 4
}
