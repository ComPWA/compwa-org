{
 "cells": [
  {
   "cell_type": "code",
   "execution_count": null,
   "metadata": {
    "hideCode": true,
    "hideOutput": true,
    "hidePrompt": true,
    "jupyter": {
     "source_hidden": true
    },
    "slideshow": {
     "slide_type": "skip"
    },
    "tags": [
     "remove-cell"
    ]
   },
   "outputs": [],
   "source": [
    "import os\n",
    "\n",
    "STATIC_WEB_PAGE = {\"EXECUTE_NB\", \"READTHEDOCS\"}.intersection(os.environ)"
   ]
  },
  {
   "cell_type": "markdown",
   "metadata": {
    "editable": true,
    "slideshow": {
     "slide_type": ""
    },
    "tags": []
   },
   "source": [
    "```{autolink-concat}\n",
    "```"
   ]
  },
  {
   "cell_type": "markdown",
   "metadata": {
    "editable": true,
    "slideshow": {
     "slide_type": ""
    },
    "tags": [
     "documentation",
     "jupyter",
     "sphinx",
     "3d"
    ]
   },
   "source": [
    "::::{margin}\n",
    ":::{card} PWA101: Amplitude Analysis with Python basics\n",
    "TR-999\n",
    "^^^\n",
    "+++\n",
    "✅&nbsp;[ComPWA/RUB-EP1-AG#93](https://github.com/ComPWA/RUB-EP1-AG/issues/93), [compwa.github.io#217](https://github.com/ComPWA/compwa.github.io/pull/217)\n",
    ":::\n",
    "::::"
   ]
  },
  {
   "cell_type": "markdown",
   "metadata": {
    "editable": true,
    "slideshow": {
     "slide_type": ""
    },
    "tags": []
   },
   "source": [
    "# Amplitude Analysis 101"
   ]
  },
  {
   "cell_type": "code",
   "execution_count": null,
   "metadata": {
    "editable": true,
    "slideshow": {
     "slide_type": ""
    },
    "tags": [
     "remove-cell"
    ]
   },
   "outputs": [],
   "source": [
    "%pip install -q \"phasespace[fromdecay]\"==1.9.0 gdown==4.7.1 iminuit==2.25.2 matplotlib==3.7.3 numpy==1.24.4 pandas==2.2.1 particle==0.23.0 scipy==1.10.1 vector==1.1.1.post1"
   ]
  },
  {
   "cell_type": "code",
   "execution_count": null,
   "metadata": {
    "editable": true,
    "mystnb": {
     "code_prompt_show": "Import Python libraries"
    },
    "slideshow": {
     "slide_type": ""
    },
    "tags": [
     "hide-cell"
    ]
   },
   "outputs": [],
   "source": [
    "from __future__ import annotations\n",
    "\n",
    "import logging\n",
    "import os\n",
    "import warnings\n",
    "\n",
    "import matplotlib as mpl\n",
    "import matplotlib.pyplot as plt\n",
    "import numpy as np\n",
    "import pandas as pd\n",
    "import scipy as sp\n",
    "import vector\n",
    "from matplotlib import gridspec\n",
    "from vector.backends.numpy import MomentumNumpy4D\n",
    "\n",
    "os.environ[\"TF_CPP_MIN_LOG_LEVEL\"] = \"3\"\n",
    "logging.disable(logging.WARNING)\n",
    "warnings.filterwarnings(\"ignore\")"
   ]
  },
  {
   "cell_type": "markdown",
   "metadata": {
    "editable": true,
    "slideshow": {
     "slide_type": ""
    },
    "tags": []
   },
   "source": [
    "This document serves as an introduction to Amplitude Analysis / Partial Wave Analysis (PWA) by demonstrating its application to a specific reaction channel and amplitude model below, utilizing basic Python programming (e.g. `numpy`, `scipy`, ...). Before advancing to the complexities of symbolic expressions (computations) with `sympy`, this tutorial aims to equip readers with a basic understanding of PWA methodologies and full workflow in the context of hadron physics through a practical, hands-on example."
   ]
  },
  {
   "cell_type": "markdown",
   "metadata": {
    "editable": true,
    "slideshow": {
     "slide_type": ""
    },
    "tags": []
   },
   "source": [
    "## Amplitude model"
   ]
  },
  {
   "cell_type": "markdown",
   "metadata": {
    "editable": true,
    "slideshow": {
     "slide_type": ""
    },
    "tags": []
   },
   "source": [
    "<!-- cspell:ignore Mathieu -->\n",
    "This amplitude model is adapted from the [Lecture 11 in STRONG2020 HaSP School](https://indico.ific.uv.es/event/6803/contributions/21223/) by Vincent Mathieu.\n",
    "\n",
    "The (photo-production) reaction is $ \\gamma p \\to \\eta \\pi^0 p$, it is described by a amplitude model with three possible resonances: $a_2$, $\\Delta^+$, and $N^*$. "
   ]
  },
  {
   "cell_type": "markdown",
   "metadata": {
    "editable": true,
    "slideshow": {
     "slide_type": ""
    },
    "tags": [
     "full-width"
    ]
   },
   "source": [
    "```{image} https://github.com/ComPWA/compwa-org/assets/17490173/ec6bf191-bd5f-43b0-a6cb-da470b071630\n",
    ":width: 100%\n",
    "```"
   ]
  },
  {
   "cell_type": "markdown",
   "metadata": {
    "editable": true,
    "slideshow": {
     "slide_type": ""
    },
    "tags": []
   },
   "source": [
    "$$\n",
    "\\begin{eqnarray}\n",
    "A^{12} &=& \\frac{\\sum a_m Y_2^m (\\Omega_1)}{s-m^2_{a_2}+im_{a_2} \\Gamma_{a_2}} \\times s^{0.5+0.9u_3}  \\nonumber \\\\\n",
    "A^{23} &=& \\frac{\\sum b_m Y_1^m (\\Omega_2)}{s-m^2_{\\Delta}+im_{\\Delta} \\Gamma_{\\Delta}} \\times s^{0.5+0.9t_1}  \\nonumber \\\\\n",
    "A^{31} &=& \\frac{c_0}{s-m^2_{N^*}+im_{N^*} \\Gamma_{N^*}} \\times s^{1.08+0.2t_2} \n",
    "\\end{eqnarray}\n",
    "$$ (full_model_label)\n",
    "\n",
    "where $s, t, u$ are the Mandelstam variables $s_{ij}=(p_i+p_j)^2$, $t_i=(p_a-p_i)^2$, and $u_i=(p_b-p_i)^2$."
   ]
  },
  {
   "cell_type": "markdown",
   "metadata": {
    "editable": true,
    "slideshow": {
     "slide_type": ""
    },
    "tags": []
   },
   "source": [
    "The original full amplitude model from the [Lecture 11 in STRONG2020 HaSP School](https://indico.ific.uv.es/event/6803/contributions/21223/) is shown in equation {eq}`full_model_label`.\n",
    "\n",
    "*In this report, only the Breit-Wigner and Spherical harmonics terms are kept for doing PWA eventually (The exponential mandelstam variable term is abandoned), as shown in equation {eq}`BW_SH_label`."
   ]
  },
  {
   "cell_type": "markdown",
   "metadata": {
    "editable": true,
    "slideshow": {
     "slide_type": ""
    },
    "tags": []
   },
   "source": [
    "$$\n",
    "\\begin{eqnarray}\n",
    "A^{12} &=& \\frac{\\sum a_m Y_2^m (\\Omega_1)}{s-m^2_{a_2}+im_{a_2} \\Gamma_{a_2}} \\\\\n",
    "A^{23} &=& \\frac{\\sum b_m Y_1^m (\\Omega_2)}{s-m^2_{\\Delta}+im_{\\Delta} \\Gamma_{\\Delta}}  \\\\\n",
    "\\\n",
    "A^{31} &=& \\frac{c_0}{s-m^2_{N^*}+im_{N^*} \\Gamma_{N^*}} \n",
    "\\end{eqnarray}\n",
    "$$ (BW_SH_label)"
   ]
  },
  {
   "cell_type": "markdown",
   "metadata": {
    "editable": true,
    "slideshow": {
     "slide_type": ""
    },
    "tags": []
   },
   "source": [
    "with  intensity $I$ and amplitude $A$:\n",
    "\n",
    "$$\n",
    "\\begin{eqnarray}\n",
    "I &=& |A|^2 \\nonumber \\\\\n",
    "A &=& A^{12} + A^{23} + A^{31}  \\\\\n",
    "\\end{eqnarray}\n",
    "$$ (123_label)\n",
    "\n",
    "where $\\quad 1 \\equiv \\eta ; \\quad  2 \\equiv \\pi^0 ; \\quad 3 \\equiv p$"
   ]
  },
  {
   "cell_type": "markdown",
   "metadata": {
    "editable": true,
    "slideshow": {
     "slide_type": ""
    },
    "tags": []
   },
   "source": [
    ":::{note}\n",
    "The ultimate choice of the amplitude model (equations (2) and (3)) for PWA in this tutorial consists of three resonances, and each of them are formed by two terms: Breit-Wigner with Spherical harmonics ($l = 2, 1, 0$).\n",
    ":::"
   ]
  },
  {
   "cell_type": "markdown",
   "metadata": {
    "editable": true,
    "slideshow": {
     "slide_type": ""
    },
    "tags": []
   },
   "source": [
    ":::{important}\n",
    "The spin of $\\eta$ meson and $\\pi^0$ meson are all 0. But the spin of proton is not 0, it is spin-$\\frac{1}{2}$.\n",
    "\n",
    "In this amplitude model **spin** of baryon is simplified (not realistic):\n",
    "$\\eta$, $\\pi^0$ and $p$ are all treated as spin-0 particles.\n",
    "\n",
    "This means that total intrinsic spin $s$ is ignored in this model,\n",
    "the total angular momentum \n",
    "$J$ of the system or any subsystems within this model will solely depend on the orbital angular momentum \n",
    "$L$, characterized by quantum number $l$.\n",
    "And this simplifies the use of spherical harmonics $Y_l^m(\\theta,\\phi)$,\n",
    "since only the orbital angular momentum component is involved, and thus the combination of contribution is not considered (e.g. Clebsch-Gordan Coefficients).\n",
    "\n",
    "In our case: \n",
    "- $A^{12}$ amplitude represents a d-wave interaction, as indicated by $l=2$.\n",
    "    - The possible $m$ values are $−2,−1,0,1,2$. Each of these values corresponds to different orientations of the d-wave. The wave type is solely determined by $l$ and all these $m$ values still describe d-wave characteristics.\n",
    "- $A^{23}$ amplitude represents a p-wave interaction, as indicated by $l=1$.\n",
    "    - The possible $m$ values are $−1,0,1$. Each of these values corresponds to different orientations of the p-wave. Similarly, these values are all p-wave orientations.\n",
    "- $A^{31}$ amplitude represents a s-wave interaction, as indicated by $l=0$.\n",
    "    - The only possible $m$ value is 0, which is consistent with the spherical symmetry of s-waves.\n",
    ":::"
   ]
  },
  {
   "cell_type": "markdown",
   "metadata": {
    "editable": true,
    "slideshow": {
     "slide_type": ""
    },
    "tags": []
   },
   "source": [
    "## Number of events"
   ]
  },
  {
   "cell_type": "markdown",
   "metadata": {
    "editable": true,
    "slideshow": {
     "slide_type": ""
    },
    "tags": []
   },
   "source": [
    "The number of events for phase generation and data generation can be changed in this section."
   ]
  },
  {
   "cell_type": "code",
   "execution_count": null,
   "metadata": {
    "editable": true,
    "slideshow": {
     "slide_type": ""
    },
    "tags": []
   },
   "outputs": [],
   "source": [
    "phsp_events = 1_000_000\n",
    "data_events = 500_000"
   ]
  },
  {
   "cell_type": "markdown",
   "metadata": {
    "editable": true,
    "slideshow": {
     "slide_type": ""
    },
    "tags": []
   },
   "source": [
    "## Phase space generation"
   ]
  },
  {
   "cell_type": "markdown",
   "metadata": {
    "editable": true,
    "slideshow": {
     "slide_type": ""
    },
    "tags": []
   },
   "source": [
    "In this section, the phase space of this reaction is generated using [`phasespace`](https://github.com/zfit/phasespace) python package.\n",
    "\n",
    "Phase space represents the set of all possible states (positions and momenta) of a system.\n",
    "It is critical for understanding the outcomes of particle collisions, decays, and interactions.\n",
    "It allows physicists to calculate the likelihood of various final states given a set of initial conditions, taking into account conservation laws (energy, momentum, angular momentum, etc.).\n",
    "The volume of phase space available for a particular process is directly related to the probability of that process occurring.\n",
    "\n",
    "Firstly, in CM frame the 4-momentum of the total system can be acquired by 4-momentum conservation:"
   ]
  },
  {
   "cell_type": "markdown",
   "metadata": {
    "editable": true,
    "slideshow": {
     "slide_type": ""
    },
    "tags": []
   },
   "source": [
    "$$\\begin{pmatrix}\n",
    " E_0 \\\\\n",
    " 0 \\\\\n",
    " 0 \\\\\n",
    " 0\n",
    "\\end{pmatrix}\n",
    "= \\begin{pmatrix}\n",
    " E_{\\gamma} \\\\\n",
    " 0 \\\\\n",
    " 0 \\\\\n",
    " p_z\n",
    "\\end{pmatrix} +\n",
    "\\begin{pmatrix}\n",
    " E_p \\\\\n",
    " 0 \\\\\n",
    " 0 \\\\\n",
    " -p_z\n",
    "\\end{pmatrix}\n",
    "= \\begin{pmatrix}\n",
    " E_{\\eta} \\\\\n",
    " p_{\\eta,x} \\\\\n",
    " p_{\\eta,y} \\\\\n",
    " p_{\\eta,z}\n",
    "\\end{pmatrix} +\n",
    "\\begin{pmatrix}\n",
    " E_{\\pi} \\\\\n",
    " p_{\\pi,x} \\\\\n",
    " p_{\\pi,y} \\\\\n",
    " p_{\\pi,z}\n",
    "\\end{pmatrix} +\n",
    "\\begin{pmatrix}\n",
    " E_p \\\\\n",
    " p_{p,x} \\\\\n",
    " p_{p,y} \\\\\n",
    " p_{p,z}\n",
    "\\end{pmatrix}\n",
    "$$ (4momentum_label)"
   ]
  },
  {
   "cell_type": "markdown",
   "metadata": {
    "editable": true,
    "slideshow": {
     "slide_type": ""
    },
    "tags": [
     "remove-cell"
    ]
   },
   "source": [
    "For the record, we need to add parameters of beam momentum and CM total energy"
   ]
  },
  {
   "cell_type": "markdown",
   "metadata": {},
   "source": [
    ":::{caution}\n",
    "The calculation here is in the CM frame, and usually for experiment it is in lab frame.\n",
    ":::"
   ]
  },
  {
   "cell_type": "markdown",
   "metadata": {},
   "source": [
    "$m_{\\gamma}=0$, \n",
    "\n",
    "$E_{\\gamma} = p_{\\gamma}$\n",
    "\n",
    "$E_{p} = \\sqrt { p_{p}^2+ m_{p}^2}$\n",
    "\n",
    "$m_0 = E_0 = |p_z|+\\sqrt{p_z^2+m_p^2}$"
   ]
  },
  {
   "cell_type": "markdown",
   "metadata": {},
   "source": [
    "The $\\gamma$ energy ($E_{\\gamma}$) and $\\gamma$ beam momentum ($p_{\\gamma}$) are as input in this analysis, they are:\n",
    "\n",
    "$E_{\\gamma} = p_{\\gamma} = 1.943718 GeV$"
   ]
  },
  {
   "cell_type": "markdown",
   "metadata": {},
   "source": [
    ":::{important}\n",
    "Beam momentum (energy) as input value. Assuming incoming $\\gamma$ beam to stationary proton target in photo-production experiment, e.g. GlueX.\n",
    ":::"
   ]
  },
  {
   "cell_type": "code",
   "execution_count": null,
   "metadata": {},
   "outputs": [],
   "source": [
    "p_beam = 1.943718\n",
    "m_proton = 0.938\n",
    "m_0 = p_beam + np.sqrt(p_beam**2 + m_proton**2)\n",
    "m_eta = 0.548\n",
    "m_pi = 0.135"
   ]
  },
  {
   "cell_type": "code",
   "execution_count": null,
   "metadata": {},
   "outputs": [],
   "source": [
    "m_0"
   ]
  },
  {
   "cell_type": "markdown",
   "metadata": {},
   "source": [
    "Thus, we then have the mass of the system $m_0$ (or $m_{p\\gamma}$ in this case) in CM frame:\n",
    "\n",
    "$$\n",
    "E_{0} = m_0\\approx 4.102 \\;\\; GeV \n",
    "$$"
   ]
  },
  {
   "cell_type": "markdown",
   "metadata": {
    "editable": true,
    "slideshow": {
     "slide_type": ""
    },
    "tags": []
   },
   "source": [
    "Use of `phasespace` to generate decay particles (4-momentum and weights):"
   ]
  },
  {
   "cell_type": "code",
   "execution_count": null,
   "metadata": {
    "editable": true,
    "slideshow": {
     "slide_type": ""
    },
    "tags": []
   },
   "outputs": [],
   "source": [
    "import phasespace\n",
    "\n",
    "pγ_mass = m_0\n",
    "eta_mass = m_eta\n",
    "pi_mass = m_pi\n",
    "p_mass = m_proton\n",
    "\n",
    "weights, particles = phasespace.nbody_decay(\n",
    "    pγ_mass, [eta_mass, pi_mass, p_mass]\n",
    ").generate(n_events=phsp_events)"
   ]
  },
  {
   "cell_type": "markdown",
   "metadata": {
    "editable": true,
    "slideshow": {
     "slide_type": ""
    },
    "tags": []
   },
   "source": [
    "### 4 momentum of decay particles"
   ]
  },
  {
   "cell_type": "markdown",
   "metadata": {
    "editable": true,
    "slideshow": {
     "slide_type": ""
    },
    "tags": []
   },
   "source": [
    "The 4-momentum of decay particles $\\eta$ (1), $\\pi$ (2), and $p$ (3) in phase space to be generated:"
   ]
  },
  {
   "cell_type": "code",
   "execution_count": null,
   "metadata": {
    "editable": true,
    "mystnb": {
     "code_prompt_show": "(Click to show) These are some functions that we defined for a structured process for generating phase space samples of particle decays and converting them into four-momentum vectors using TensorFlow and the phasespace Python package."
    },
    "slideshow": {
     "slide_type": ""
    },
    "tags": []
   },
   "outputs": [],
   "source": [
    "import tensorflow as tf\n",
    "\n",
    "n_final_state = 3\n",
    "\n",
    "\n",
    "def generate_phsp_decay(\n",
    "    size: int, seed: int | None = None, bunch_size: int | None = None\n",
    ") -> tuple[MomentumNumpy4D, MomentumNumpy4D, MomentumNumpy4D]:\n",
    "    if bunch_size is None:\n",
    "        bunch_size = size\n",
    "    rng = np.random.default_rng(seed=seed)\n",
    "    generated_seed = rng.integers(1_000_000)\n",
    "    phsp_sample = generate_phsp_bunch(size, generated_seed)\n",
    "    while get_size(phsp_sample) < size:\n",
    "        bunch = generate_phsp_bunch(bunch_size, generated_seed)\n",
    "        phsp_sample = concatenate(phsp_sample, bunch)\n",
    "    phsp_sample = remove_overflow(phsp_sample, size)\n",
    "    return tuple(to_vector(tensor) for tensor in phsp_sample)\n",
    "\n",
    "\n",
    "def generate_phsp_bunch(\n",
    "    size: int, seed: int | None = None\n",
    ") -> tuple[tf.Tensor, tf.Tensor, tf.Tensor]:\n",
    "    rng = np.random.default_rng(seed=seed)\n",
    "    weights, particles = phasespace.nbody_decay(\n",
    "        pγ_mass, [eta_mass, pi_mass, p_mass]\n",
    "    ).generate(n_events=size, seed=seed)\n",
    "    random_weights = rng.uniform(0, weights.numpy().max(), size=weights.shape)\n",
    "    selector = weights > random_weights\n",
    "    return tuple(particles[f\"p_{i}\"][selector] for i in range(n_final_state))\n",
    "\n",
    "\n",
    "def get_size(phsp: tuple[tf.Tensor, tf.Tensor, tf.Tensor]):\n",
    "    return len(phsp[0])\n",
    "\n",
    "\n",
    "def concatenate(\n",
    "    phsp1: tuple[tf.Tensor, tf.Tensor, tf.Tensor],\n",
    "    phsp2: tuple[tf.Tensor, tf.Tensor, tf.Tensor],\n",
    ") -> tuple[tf.Tensor, tf.Tensor, tf.Tensor]:\n",
    "    return tuple(tf.concat([phsp1[i], phsp2[i]], axis=0) for i in range(3))\n",
    "\n",
    "\n",
    "def remove_overflow(phsp: tuple[tf.Tensor, tf.Tensor, tf.Tensor], size: int):\n",
    "    return tuple(tensor[:size] for tensor in phsp)\n",
    "\n",
    "\n",
    "def to_vector(tensor: tf.Tensor) -> MomentumNumpy4D:\n",
    "    return vector.array({\n",
    "        key: tensor.numpy().T[j] for j, key in enumerate([\"px\", \"py\", \"pz\", \"E\"])\n",
    "    })"
   ]
  },
  {
   "cell_type": "markdown",
   "metadata": {
    "editable": true,
    "slideshow": {
     "slide_type": ""
    },
    "tags": []
   },
   "source": [
    "A few functions are defined above for generating phase space samples of particle decays and converting them into four-momentum vectors. The main ideas of them are:\n",
    "\n",
    "- Step 1, Generate Phase Space Sample (`generate_phsp_bunch()`)\n",
    "    - Random Number Generator\n",
    "    - Phase Space Generation\n",
    "    - Rejection Sampling\n",
    "      \n",
    "- Step 2, Ensure Sufficient Sample Size (`generate_phsp_decay()`, `get_size()`, `concatenate()`, `remove_overflow()` )\n",
    "    - Iterative Sampling\n",
    "    - Removing Excess\n",
    "\n",
    "- Step 3, Convert to Four-Momentum Vectors (`to_vector()`)\n",
    "    - Four-Momentum Representation"
   ]
  },
  {
   "cell_type": "code",
   "execution_count": null,
   "metadata": {
    "editable": true,
    "slideshow": {
     "slide_type": ""
    },
    "tags": [
     "hide-output"
    ]
   },
   "outputs": [],
   "source": [
    "%%time\n",
    "p1_phsp_test, p2_phsp_test, p3_phsp_test = generate_phsp_decay(\n",
    "    size=phsp_events, seed=42\n",
    ")"
   ]
  },
  {
   "cell_type": "markdown",
   "metadata": {
    "editable": true,
    "slideshow": {
     "slide_type": ""
    },
    "tags": []
   },
   "source": [
    "### 4 momentum of reaction particles"
   ]
  },
  {
   "cell_type": "markdown",
   "metadata": {
    "editable": true,
    "slideshow": {
     "slide_type": ""
    },
    "tags": []
   },
   "source": [
    "The 4 momentum of reaction particles $\\gamma$ (a) and $p$ (b) are generated."
   ]
  },
  {
   "cell_type": "markdown",
   "metadata": {
    "editable": true,
    "slideshow": {
     "slide_type": ""
    },
    "tags": []
   },
   "source": [
    "To find $p_a$ and $p_b$ by 4-momentum conservation, energy conservation in this case.\n",
    "With:\n",
    "\n",
    "$m_a = m_{\\gamma} =0$,\n",
    "\n",
    "$m_b = m_p$,\n",
    "\n",
    "$p_{a,x} = p_{a,y} = 0 = p_{b,x} = p_{b,y}$\n",
    "\n",
    "and\n",
    "\n",
    "$p_{a,z} = - p_{b,z}$\n",
    "\n",
    "\n",
    "$$\n",
    "E_a + E_b = E_1 + E_2 + E_3 = E_0\n",
    "$$\n",
    "\n",
    "$$\n",
    "\\sqrt{m_a^2 + p_a^2} + \\sqrt{m_b^2 + p_b^2} = E_0\n",
    "$$\n",
    "\n",
    "$$\n",
    "p_a + \\sqrt{m_b^2 + (-p_a)^2} = E_0\n",
    "$$\n",
    "\n",
    "$$\n",
    "p_{a,z} + \\sqrt{m_p^2 + p_a^2} - E_0 = 0\n",
    "$$\n",
    "\n",
    "thus\n",
    "\n",
    "$$\n",
    "p_{a,z} = \\frac{E_0^2 - m_p^2}{2E_0}\n",
    "$$\n",
    "\n",
    "then\n",
    "\n",
    "$$\n",
    "p_{b,z} = -p_{a,z}\n",
    "$$\n",
    "\n",
    "$$\n",
    "E_a =p_a\n",
    "$$\n",
    "\n",
    "$$\n",
    "E_{b} = \\sqrt{m_b^2+p_b^2}\n",
    "$$\n",
    "\n"
   ]
  },
  {
   "cell_type": "code",
   "execution_count": null,
   "metadata": {
    "editable": true,
    "slideshow": {
     "slide_type": ""
    },
    "tags": []
   },
   "outputs": [],
   "source": [
    "def compute_pa_pb(\n",
    "    p1_phsp: MomentumNumpy4D, p2_phsp: MomentumNumpy4D, p3_phsp: MomentumNumpy4D\n",
    ") -> tuple[MomentumNumpy4D, MomentumNumpy4D]:\n",
    "    shape = p1_phsp.shape\n",
    "    E_0 = (p1_phsp + p2_phsp + p3_phsp).e\n",
    "    px = np.zeros(shape)\n",
    "    py = np.zeros(shape)\n",
    "    pz = np.ones(shape) * (E_0**2 - p3_phsp.m.mean() ** 2) / (2 * E_0)\n",
    "    E = np.ones(shape) * np.sqrt((p3_phsp.m.mean()) ** 2 + pz.mean() ** 2)\n",
    "    pa_phsp = MomentumNumpy4D({\"E\": pz, \"px\": px, \"py\": py, \"pz\": pz})\n",
    "    pb_phsp = MomentumNumpy4D({\"E\": E, \"px\": px, \"py\": py, \"pz\": -pz})\n",
    "    return [pa_phsp, pb_phsp]"
   ]
  },
  {
   "cell_type": "code",
   "execution_count": null,
   "metadata": {
    "editable": true,
    "slideshow": {
     "slide_type": ""
    },
    "tags": []
   },
   "outputs": [],
   "source": [
    "%%time\n",
    "pa_phsp_test, pb_phsp_test = compute_pa_pb(p1_phsp_test, p2_phsp_test, p3_phsp_test)"
   ]
  },
  {
   "cell_type": "markdown",
   "metadata": {
    "editable": true,
    "slideshow": {
     "slide_type": ""
    },
    "tags": []
   },
   "source": [
    "### 4 momentum of all particles"
   ]
  },
  {
   "cell_type": "code",
   "execution_count": null,
   "metadata": {
    "editable": true,
    "slideshow": {
     "slide_type": ""
    },
    "tags": []
   },
   "outputs": [],
   "source": [
    "def generate_phsp_all(\n",
    "    size: int, seed: int | None = None, bunch_size: int | None = None\n",
    ") -> tuple[\n",
    "    MomentumNumpy4D, MomentumNumpy4D, MomentumNumpy4D, MomentumNumpy4D, MomentumNumpy4D\n",
    "]:\n",
    "    p1_phsp, p2_phsp, p3_phsp = generate_phsp_decay(size, seed, bunch_size)\n",
    "    pa_phsp, pb_phsp = compute_pa_pb(p1_phsp, p2_phsp, p3_phsp)\n",
    "    return [p1_phsp, p2_phsp, p3_phsp, pa_phsp, pb_phsp]"
   ]
  },
  {
   "cell_type": "code",
   "execution_count": null,
   "metadata": {
    "editable": true,
    "slideshow": {
     "slide_type": ""
    },
    "tags": []
   },
   "outputs": [],
   "source": [
    "%%time\n",
    "p1_phsp, p2_phsp, p3_phsp, pa_phsp, pb_phsp = generate_phsp_all(\n",
    "    size=phsp_events, seed=42\n",
    ")"
   ]
  },
  {
   "cell_type": "code",
   "execution_count": null,
   "metadata": {
    "editable": true,
    "slideshow": {
     "slide_type": ""
    },
    "tags": []
   },
   "outputs": [],
   "source": [
    "p0_phsp = pa_phsp + pb_phsp\n",
    "p12_phsp = p1_phsp + p2_phsp\n",
    "p23_phsp = p2_phsp + p3_phsp\n",
    "p31_phsp = p3_phsp + p1_phsp\n",
    "\n",
    "s12_phsp = p12_phsp.m2\n",
    "s23_phsp = p23_phsp.m2\n",
    "s31_phsp = p31_phsp.m2\n",
    "t1_phsp = (pa_phsp - p1_phsp).m2\n",
    "t2_phsp = (pa_phsp - p2_phsp).m2\n",
    "u3_phsp = (pb_phsp - p3_phsp).m2"
   ]
  },
  {
   "cell_type": "markdown",
   "metadata": {
    "editable": true,
    "slideshow": {
     "slide_type": ""
    },
    "tags": []
   },
   "source": [
    "Calculations with 4-vectors are performed with the [`vector`](https://vector.readthedocs.io/en/latest/usage/intro.html) package:"
   ]
  },
  {
   "cell_type": "code",
   "execution_count": null,
   "metadata": {
    "editable": true,
    "jupyter": {
     "source_hidden": true
    },
    "mystnb": {
     "code_prompt_show": "Code testing"
    },
    "slideshow": {
     "slide_type": ""
    },
    "tags": [
     "hide-cell"
    ]
   },
   "outputs": [],
   "source": [
    "np.testing.assert_almost_equal(\n",
    "    s12_phsp,\n",
    "    (p1_phsp.e + p2_phsp.e) ** 2\n",
    "    - (\n",
    "        p1_phsp.p**2\n",
    "        + p2_phsp.p**2\n",
    "        + 2\n",
    "        * (p1_phsp.px * p2_phsp.px + p1_phsp.py * p2_phsp.py + p1_phsp.pz * p2_phsp.pz)\n",
    "    ),\n",
    ")"
   ]
  },
  {
   "cell_type": "code",
   "execution_count": null,
   "metadata": {
    "editable": true,
    "jupyter": {
     "source_hidden": true
    },
    "mystnb": {
     "code_prompt_show": "Code testing"
    },
    "slideshow": {
     "slide_type": ""
    },
    "tags": [
     "hide-cell"
    ]
   },
   "outputs": [],
   "source": [
    "np.testing.assert_almost_equal(p0_phsp.p2.max(), 0)"
   ]
  },
  {
   "cell_type": "code",
   "execution_count": null,
   "metadata": {
    "editable": true,
    "jupyter": {
     "source_hidden": true
    },
    "mystnb": {
     "code_prompt_show": "Code testing"
    },
    "slideshow": {
     "slide_type": ""
    },
    "tags": [
     "hide-cell"
    ]
   },
   "outputs": [],
   "source": [
    "np.testing.assert_almost_equal(\n",
    "    t1_phsp,\n",
    "    (pa_phsp.e - p1_phsp.e) ** 2\n",
    "    - (\n",
    "        pa_phsp.p**2\n",
    "        + p1_phsp.p**2\n",
    "        - 2\n",
    "        * (pa_phsp.px * p1_phsp.px + pa_phsp.py * p1_phsp.py + pa_phsp.pz * p1_phsp.pz)\n",
    "    ),\n",
    ")\n",
    "np.testing.assert_almost_equal(\n",
    "    t2_phsp,\n",
    "    (pa_phsp.e - p2_phsp.e) ** 2\n",
    "    - (\n",
    "        pa_phsp.p**2\n",
    "        + p2_phsp.p**2\n",
    "        - 2\n",
    "        * (pa_phsp.px * p2_phsp.px + pa_phsp.py * p2_phsp.py + pa_phsp.pz * p2_phsp.pz)\n",
    "    ),\n",
    ")\n",
    "np.testing.assert_almost_equal(\n",
    "    u3_phsp,\n",
    "    (pb_phsp.e - p3_phsp.e) ** 2\n",
    "    - (\n",
    "        pb_phsp.p**2\n",
    "        + p3_phsp.p**2\n",
    "        - 2\n",
    "        * (pb_phsp.px * p3_phsp.px + pb_phsp.py * p3_phsp.py + pb_phsp.pz * p3_phsp.pz)\n",
    "    ),\n",
    ")"
   ]
  },
  {
   "cell_type": "markdown",
   "metadata": {
    "editable": true,
    "slideshow": {
     "slide_type": ""
    },
    "tags": []
   },
   "source": [
    "### Dalitz Plot of Phase Space"
   ]
  },
  {
   "cell_type": "code",
   "execution_count": null,
   "metadata": {
    "editable": true,
    "slideshow": {
     "slide_type": ""
    },
    "tags": [
     "full-width",
     "hide-input"
    ]
   },
   "outputs": [],
   "source": [
    "fig = plt.figure(figsize=(12, 5))\n",
    "fig.suptitle(\"Phase Space Dalitz Plot\")\n",
    "gs = gridspec.GridSpec(1, 3, width_ratios=[1, 1, 0.05])  # The last column for colorbar\n",
    "ax1 = plt.subplot(gs[0])\n",
    "ax2 = plt.subplot(gs[1])\n",
    "cax = plt.subplot(gs[2])  # For colorbar\n",
    "\n",
    "hist2 = ax2.hist2d(\n",
    "    s12_phsp,\n",
    "    s23_phsp,\n",
    "    bins=100,\n",
    "    cmin=1e-2,\n",
    "    density=True,\n",
    "    cmap=\"jet\",\n",
    "    range=[[0, 10.3], [0.5, 13]],\n",
    ")\n",
    "ax2.set_title(\"2D Histogram\")\n",
    "ax2.set_xlabel(R\"$m^2(\\eta \\pi^0)\\;\\left[\\mathrm{GeV}^2\\right]$\")\n",
    "\n",
    "scat1 = ax1.scatter(s12_phsp, s23_phsp, s=1e-4, c=\"black\", norm=mpl.colors.Normalize())\n",
    "ax1.set_xlabel(R\"$m^2(\\eta \\pi^0)\\;\\left[\\mathrm{GeV}^2\\right]$\")\n",
    "ax1.set_ylabel(R\"$m^2(\\pi^0 p)\\;\\left[\\mathrm{GeV}^2\\right]$\")\n",
    "ax1.set_title(\"Scatter Plot\")\n",
    "\n",
    "cbar2 = fig.colorbar(hist2[3], cax=cax)\n",
    "fig.tight_layout()\n",
    "fig.show()"
   ]
  },
  {
   "cell_type": "markdown",
   "metadata": {
    "editable": true,
    "slideshow": {
     "slide_type": ""
    },
    "tags": []
   },
   "source": [
    ":::{note}\n",
    "Different choice of plotting Dalitz plot: 2D histogram or scatter plot.\n",
    ":::"
   ]
  },
  {
   "cell_type": "markdown",
   "metadata": {
    "editable": true,
    "slideshow": {
     "slide_type": ""
    },
    "tags": []
   },
   "source": [
    "## Calculation of Angles"
   ]
  },
  {
   "cell_type": "markdown",
   "metadata": {
    "editable": true,
    "slideshow": {
     "slide_type": ""
    },
    "tags": []
   },
   "source": [
    "### CM Angles "
   ]
  },
  {
   "cell_type": "markdown",
   "metadata": {
    "editable": true,
    "slideshow": {
     "slide_type": ""
    },
    "tags": []
   },
   "source": [
    "Angles in CM frame (CM Angles) are the polar angles and azimuthal right after the phase space generation (and also after data generation) in CM frame, they are different than the helicity angles in the subsystem (which is after rotation and boost into the subsystem)."
   ]
  },
  {
   "cell_type": "markdown",
   "metadata": {
    "editable": true,
    "slideshow": {
     "slide_type": ""
    },
    "tags": []
   },
   "source": [
    "The vales for phase space can be obtained directly after the generation \n",
    "\n",
    "$(\\theta_1^{\\text{CM}}, \\theta_2^{\\text{CM}}, \\theta_3^{\\text{CM}}, \\phi_1^{\\text{CM}}, \\phi_2^{\\text{CM}}, \\phi_3^{\\text{CM}})$:"
   ]
  },
  {
   "cell_type": "code",
   "execution_count": null,
   "metadata": {
    "editable": true,
    "slideshow": {
     "slide_type": ""
    },
    "tags": []
   },
   "outputs": [],
   "source": [
    "theta1_CM_phsp = p1_phsp.theta\n",
    "theta2_CM_phsp = p2_phsp.theta\n",
    "theta3_CM_phsp = p3_phsp.theta\n",
    "phi1_CM_phsp = p1_phsp.phi\n",
    "phi2_CM_phsp = p2_phsp.phi\n",
    "phi3_CM_phsp = p3_phsp.phi"
   ]
  },
  {
   "cell_type": "markdown",
   "metadata": {
    "editable": true,
    "slideshow": {
     "slide_type": ""
    },
    "tags": []
   },
   "source": [
    "### Helicity angles"
   ]
  },
  {
   "cell_type": "markdown",
   "metadata": {
    "editable": true,
    "slideshow": {
     "slide_type": ""
    },
    "tags": []
   },
   "source": [
    "The Helicity angle between decay products(Polar Angles), by definition:\n",
    "\n",
    "$$\n",
    "\\theta = \\arccos \\frac{p_z}{|p|}\n",
    "$$"
   ]
  },
  {
   "cell_type": "markdown",
   "metadata": {
    "editable": true,
    "slideshow": {
     "slide_type": ""
    },
    "tags": []
   },
   "source": [
    "The Helicity angle with the production plane and decay plane(Azimuthal Angles), by definition:\n",
    "\n",
    "$$\n",
    "\\phi = \\arctan2(p_y , p_x)\n",
    "$$"
   ]
  },
  {
   "cell_type": "markdown",
   "metadata": {
    "editable": true,
    "slideshow": {
     "slide_type": ""
    },
    "tags": []
   },
   "source": [
    ":::{important}\n",
    "Theses angles are in helicity formalism, the calculation involved rotation and boost into the subsystem as following:\n",
    ":::"
   ]
  },
  {
   "cell_type": "markdown",
   "metadata": {
    "editable": true,
    "slideshow": {
     "slide_type": ""
    },
    "tags": []
   },
   "source": [
    "Before boosting (in CM frame)"
   ]
  },
  {
   "cell_type": "markdown",
   "metadata": {
    "editable": true,
    "slideshow": {
     "slide_type": ""
    },
    "tags": []
   },
   "source": [
    "<iframe src=\"https://www.geogebra.org/3d/dgjn83pb?embed\" width=\"800\" height=\"600\" allowfullscreen style=\"border: 1px solid #e4e4e4;border-radius: 4px;\" frameborder=\"0\"></iframe>"
   ]
  },
  {
   "cell_type": "markdown",
   "metadata": {
    "editable": true,
    "slideshow": {
     "slide_type": ""
    },
    "tags": []
   },
   "source": [
    "After Boosted into system$_{12}$ rest frame (it is similar for boosting into system$_{23}$ and system$_{31}$)"
   ]
  },
  {
   "cell_type": "markdown",
   "metadata": {
    "editable": true,
    "slideshow": {
     "slide_type": ""
    },
    "tags": []
   },
   "source": [
    "<iframe src=\"https://www.geogebra.org/3d/tv5kr8pp?embed\" width=\"800\" height=\"600\" allowfullscreen style=\"border: 1px solid #e4e4e4;border-radius: 4px;\" frameborder=\"0\"></iframe>"
   ]
  },
  {
   "cell_type": "markdown",
   "metadata": {
    "editable": true,
    "slideshow": {
     "slide_type": ""
    },
    "tags": []
   },
   "source": [
    "The helicity angle between decay product before boost:"
   ]
  },
  {
   "cell_type": "markdown",
   "metadata": {
    "editable": true,
    "slideshow": {
     "slide_type": ""
    },
    "tags": []
   },
   "source": [
    "The helicity angles $\\Omega_i$ are pairs of Euler angles $\\Omega_i = \\left(\\theta_i, \\phi_i\\right)$:\n",
    "- Opening angle $\\theta_1 \\equiv \\theta^{12}_1$ of four-momentum $p_1$ is the angle between $p'_1 \\equiv p^{12}_1$ and $p_{12}$.\n",
    "- The angle $\\phi_1 \\equiv \\phi^{12}_1$ defines the angle between the **production plane** spanned by $p_{12}$ and $p_3$ and the **decay plane** spanned by $p^{(\\prime)}_1$ and $p^{(\\prime)}_2$.\n",
    "\n",
    "The helicity angles of the other subsystems are defined by cyclic permutation of the indices, such that $\\theta_2 \\equiv \\theta^{12}_2$ and $\\theta_3 \\equiv \\theta^{31}_1$.\n",
    "\n",
    "To calculate the helicity angles $\\theta$ and $\\phi$, a combination of boost and rotation (in Y and Z axis) in CM frame is defined:"
   ]
  },
  {
   "cell_type": "code",
   "execution_count": null,
   "metadata": {
    "editable": true,
    "slideshow": {
     "slide_type": ""
    },
    "tags": []
   },
   "outputs": [],
   "source": [
    "def theta_helicity(p_i: MomentumNumpy4D, p_ij: MomentumNumpy4D):\n",
    "    return p_i.rotateZ(-p_ij.phi).rotateY(-p_ij.theta).boostZ(-p_ij.beta).theta\n",
    "\n",
    "\n",
    "def phi_helicity(p_i, p_ij):\n",
    "    return p_i.rotateZ(-p_ij.phi).rotateY(-p_ij.theta).boostZ(-p_ij.beta).phi"
   ]
  },
  {
   "cell_type": "code",
   "execution_count": null,
   "metadata": {
    "editable": true,
    "slideshow": {
     "slide_type": ""
    },
    "tags": []
   },
   "outputs": [],
   "source": [
    "theta1_phsp = theta_helicity(p1_phsp, p12_phsp)\n",
    "theta2_phsp = theta_helicity(p2_phsp, p23_phsp)\n",
    "theta3_phsp = theta_helicity(p3_phsp, p31_phsp)\n",
    "phi1_phsp = phi_helicity(p1_phsp, p12_phsp)\n",
    "phi2_phsp = phi_helicity(p2_phsp, p23_phsp)\n",
    "phi3_phsp = phi_helicity(p3_phsp, p31_phsp)"
   ]
  },
  {
   "cell_type": "markdown",
   "metadata": {
    "editable": true,
    "jp-MarkdownHeadingCollapsed": true,
    "slideshow": {
     "slide_type": ""
    },
    "tags": []
   },
   "source": [
    "## Distributions in phase space"
   ]
  },
  {
   "cell_type": "markdown",
   "metadata": {
    "editable": true,
    "slideshow": {
     "slide_type": ""
    },
    "tags": []
   },
   "source": [
    "The distribution of angular projection and invariant mass in phase space is shown in this [section](#my_section) together with data and weight phase space (model) after data generation"
   ]
  },
  {
   "cell_type": "code",
   "execution_count": null,
   "metadata": {
    "editable": true,
    "jupyter": {
     "source_hidden": true
    },
    "slideshow": {
     "slide_type": ""
    },
    "tags": [
     "full-width",
     "hide-input",
     "remove-cell"
    ]
   },
   "outputs": [],
   "source": [
    "def plot_helicity_angles_2d(\n",
    "    phi1, phi2, phi3, theta1, theta2, theta3, title: str\n",
    ") -> None:\n",
    "    fig, axes = plt.subplots(figsize=(13, 4), ncols=3, sharey=True)\n",
    "    for i, ax in enumerate(axes, 1):\n",
    "        ax.set_xlabel(Rf\"$\\theta_{i}$\")\n",
    "        ax.set_ylabel(Rf\"$\\phi_{i}$\")\n",
    "    axes[0].hist2d(theta1[~np.isnan(phi1)], phi1[~np.isnan(phi1)], bins=100)\n",
    "    axes[1].hist2d(theta2[~np.isnan(phi2)], phi2[~np.isnan(phi2)], bins=100)\n",
    "    axes[2].hist2d(theta3[~np.isnan(phi3)], phi3[~np.isnan(phi3)], bins=100)\n",
    "    fig.suptitle(title)\n",
    "    fig.tight_layout()\n",
    "    plt.show()\n",
    "\n",
    "\n",
    "plot_helicity_angles_2d(\n",
    "    phi1_phsp,\n",
    "    phi2_phsp,\n",
    "    phi3_phsp,\n",
    "    theta1_phsp,\n",
    "    theta2_phsp,\n",
    "    theta3_phsp,\n",
    "    title=\"Phase space\",\n",
    ")"
   ]
  },
  {
   "cell_type": "markdown",
   "metadata": {
    "editable": true,
    "slideshow": {
     "slide_type": ""
    },
    "tags": [
     "remove-cell"
    ]
   },
   "source": [
    "The CM angles, helicity angles (in subsystem), and invariant mass in phase space are investigated:"
   ]
  },
  {
   "cell_type": "code",
   "execution_count": null,
   "metadata": {
    "editable": true,
    "jupyter": {
     "source_hidden": true
    },
    "slideshow": {
     "slide_type": ""
    },
    "tags": [
     "hide-input",
     "full-width",
     "remove-cell"
    ]
   },
   "outputs": [],
   "source": [
    "fig, (thetaCM_ax, phiCM_ax, theta_ax, phi_ax, mass_ax) = plt.subplots(\n",
    "    figsize=(13, 18), ncols=3, nrows=5\n",
    ")\n",
    "\n",
    "for i, ax in enumerate(thetaCM_ax, 1):\n",
    "    ax.set_title(Rf\"$\\cos (\\theta_{i}^{{CM}})$\")\n",
    "    ax.set_xticks([-1, 0, 1])\n",
    "for i, ax in enumerate(phiCM_ax, 1):\n",
    "    ax.set_title(Rf\"$\\phi_{i}^{{CM}}$\")\n",
    "    ax.set_xticks([-np.pi, 0, np.pi])\n",
    "    ax.set_xticklabels([R\"-$\\pi$\", 0, R\"$\\pi$\"])\n",
    "\n",
    "for i, ax in enumerate(theta_ax, 1):\n",
    "    ax.set_title(Rf\"$\\cos (\\theta_{i}^{{{i}{(i % 3 + 1)}}})$\")\n",
    "    ax.set_xticks([-1, 0, 1])\n",
    "for i, ax in enumerate(phi_ax, 1):\n",
    "    ax.set_title(Rf\"$\\phi_{i}^{{{i}{(i % 3 + 1)}}}$\")\n",
    "    ax.set_xticks([-np.pi, 0, np.pi])\n",
    "    ax.set_xticklabels([R\"-$\\pi$\", 0, R\"$\\pi$\"])\n",
    "for i, ax in enumerate(mass_ax, 1):\n",
    "    ax.set_title(Rf\"$m_{{{i}{(i % 3 + 1)}}}$\")\n",
    "\n",
    "\n",
    "thetaCM_ax[0].hist(\n",
    "    np.cos(theta1_CM_phsp),\n",
    "    bins=100,\n",
    "    label=\"phsp\",\n",
    ")\n",
    "thetaCM_ax[1].hist(\n",
    "    np.cos(theta2_CM_phsp),\n",
    "    bins=100,\n",
    "    label=\"phsp\",\n",
    ")\n",
    "thetaCM_ax[2].hist(\n",
    "    np.cos(theta3_CM_phsp),\n",
    "    bins=100,\n",
    "    label=\"phsp\",\n",
    ")\n",
    "\n",
    "phiCM_ax[0].hist(\n",
    "    phi1_CM_phsp,\n",
    "    bins=50,\n",
    "    label=\"phsp\",\n",
    ")\n",
    "phiCM_ax[1].hist(\n",
    "    phi2_CM_phsp,\n",
    "    bins=50,\n",
    "    label=\"phsp\",\n",
    ")\n",
    "phiCM_ax[2].hist(\n",
    "    phi3_CM_phsp,\n",
    "    bins=50,\n",
    "    label=\"phsp\",\n",
    ")\n",
    "\n",
    "theta_ax[0].hist(\n",
    "    np.cos(theta1_phsp),\n",
    "    bins=100,\n",
    "    label=\"phsp\",\n",
    ")\n",
    "theta_ax[1].hist(\n",
    "    np.cos(theta2_phsp),\n",
    "    bins=100,\n",
    "    label=\"phsp\",\n",
    ")\n",
    "theta_ax[2].hist(\n",
    "    np.cos(theta3_phsp),\n",
    "    bins=100,\n",
    "    label=\"phsp\",\n",
    ")\n",
    "\n",
    "phi_ax[0].hist(\n",
    "    phi1_phsp,\n",
    "    bins=50,\n",
    "    label=\"phsp\",\n",
    ")\n",
    "phi_ax[1].hist(\n",
    "    phi2_phsp,\n",
    "    bins=50,\n",
    "    label=\"phsp\",\n",
    ")\n",
    "phi_ax[2].hist(\n",
    "    phi3_phsp,\n",
    "    bins=50,\n",
    "    label=\"phsp\",\n",
    ")\n",
    "\n",
    "mass_ax[0].hist(\n",
    "    p12_phsp.m,\n",
    "    bins=100,\n",
    "    label=\"phsp\",\n",
    ")\n",
    "mass_ax[1].hist(\n",
    "    p23_phsp.m,\n",
    "    bins=100,\n",
    "    label=\"phsp\",\n",
    ")\n",
    "mass_ax[2].hist(\n",
    "    p31_phsp.m,\n",
    "    bins=100,\n",
    "    label=\"phsp\",\n",
    ")\n",
    "\n",
    "thetaCM_ax[0].legend()\n",
    "phiCM_ax[0].legend()\n",
    "thetaCM_ax[1].legend()\n",
    "phiCM_ax[1].legend()\n",
    "thetaCM_ax[2].legend()\n",
    "phiCM_ax[2].legend()\n",
    "\n",
    "theta_ax[0].legend()\n",
    "phi_ax[0].legend()\n",
    "theta_ax[1].legend()\n",
    "phi_ax[1].legend()\n",
    "theta_ax[2].legend()\n",
    "phi_ax[2].legend()\n",
    "\n",
    "mass_ax[0].legend()\n",
    "mass_ax[1].legend()\n",
    "mass_ax[2].legend()\n",
    "\n",
    "\n",
    "fig.tight_layout()\n",
    "plt.show()"
   ]
  },
  {
   "cell_type": "markdown",
   "metadata": {
    "editable": true,
    "slideshow": {
     "slide_type": ""
    },
    "tags": []
   },
   "source": [
    "## Spherical harmonics for the model"
   ]
  },
  {
   "cell_type": "markdown",
   "metadata": {
    "editable": true,
    "slideshow": {
     "slide_type": ""
    },
    "tags": []
   },
   "source": [
    "The calculation of $Y_l^m(\\phi, \\theta)$ is done via `scipy.special.sph_harm(m, l, phi, theta)` \n",
    "\n",
    "We have changed the use of symbol $\\phi$ and $\\theta$ according to the more common used definition in physics.\n",
    "\n",
    "here the notation of $\\theta$ and $\\phi$ are not using the same as in `scipy` special function [scipy.special.sph_harm](https://docs.scipy.org/doc/scipy/reference/generated/scipy.special.sph_harm.html)\n",
    "\n",
    "(in `scipy` $\\theta$ is the azimuthal  from -$\\pi$ to $\\pi$ and $\\phi$ is the polar angle from 0 to $\\pi$)\n",
    "\n",
    "where here (more common in physics):\n",
    "\n",
    "$\\phi$ is the azimuthal  from -$\\pi$ to $\\pi$ (in `scipy` it is $\\theta$ and from 0 to $2\\pi$)\n",
    "\n",
    "$\\theta$ is the polar angle from 0 to $\\pi$ (in `scipy` it is $\\phi$)\n",
    "\n",
    "$Y_l^m(\\phi, \\theta) = \\sqrt{\\frac{2n+1}{4\\pi}\\frac{(n-m)!}{(n+m)!}}e^{im\\phi}P_l^m(\\cos(\\theta))$"
   ]
  },
  {
   "cell_type": "code",
   "execution_count": null,
   "metadata": {
    "editable": true,
    "slideshow": {
     "slide_type": ""
    },
    "tags": []
   },
   "outputs": [],
   "source": [
    "initial_SH_parameters = dict(\n",
    "    a_minus2=0,\n",
    "    a_minus1=0.5,\n",
    "    a_0=3.5,\n",
    "    a_plus1=4,\n",
    "    a_plus2=2.5,\n",
    "    b_minus1=-1.5,\n",
    "    b_0=4,\n",
    "    b_plus1=0.5,\n",
    "    c_0=2.5,\n",
    ")"
   ]
  },
  {
   "cell_type": "code",
   "execution_count": null,
   "metadata": {
    "editable": true,
    "slideshow": {
     "slide_type": ""
    },
    "tags": []
   },
   "outputs": [],
   "source": [
    "a_minus2 = initial_SH_parameters.get(\"a_minus2\")\n",
    "a_minus1 = initial_SH_parameters.get(\"a_minus1\")\n",
    "a_0 = initial_SH_parameters.get(\"a_0\")\n",
    "a_plus1 = initial_SH_parameters.get(\"a_plus1\")\n",
    "a_plus2 = initial_SH_parameters.get(\"a_plus2\")"
   ]
  },
  {
   "cell_type": "code",
   "execution_count": null,
   "metadata": {
    "editable": true,
    "slideshow": {
     "slide_type": ""
    },
    "tags": []
   },
   "outputs": [],
   "source": [
    "def compute_spherical_harmonics12(\n",
    "    theta: np.ndarray,\n",
    "    phi: np.ndarray,\n",
    "    a_minus2,\n",
    "    a_minus1,\n",
    "    a_0,\n",
    "    a_plus1,\n",
    "    a_plus2,\n",
    "    **kwargs,\n",
    ") -> np.ndarray:\n",
    "    return (\n",
    "        a_plus2 * sp.special.sph_harm(2, 2, phi, theta)\n",
    "        + a_plus1 * sp.special.sph_harm(1, 2, phi, theta)\n",
    "        + a_0 * sp.special.sph_harm(0, 2, phi, theta)\n",
    "        + a_minus1 * sp.special.sph_harm(-1, 2, phi, theta)\n",
    "        + a_minus2 * sp.special.sph_harm(-2, 2, phi, theta)\n",
    "    )"
   ]
  },
  {
   "cell_type": "code",
   "execution_count": null,
   "metadata": {
    "editable": true,
    "slideshow": {
     "slide_type": ""
    },
    "tags": []
   },
   "outputs": [],
   "source": [
    "PHI, THETA = np.meshgrid(\n",
    "    np.linspace(-np.pi, +np.pi, num=1_000),\n",
    "    np.linspace(0, np.pi, num=1_000),\n",
    ")\n",
    "Z12 = compute_spherical_harmonics12(\n",
    "    PHI,\n",
    "    THETA,\n",
    "    **initial_SH_parameters,\n",
    "    # PHI, THETA, a_minus2, a_minus1, a_0, a_plus1, a_plus2\n",
    ")"
   ]
  },
  {
   "cell_type": "code",
   "execution_count": null,
   "metadata": {
    "editable": true,
    "jupyter": {
     "source_hidden": true
    },
    "slideshow": {
     "slide_type": ""
    },
    "tags": [
     "hide-input",
     "full-width"
    ]
   },
   "outputs": [],
   "source": [
    "fig, axes = plt.subplots(figsize=(10, 4), ncols=2, sharey=True, dpi=120)\n",
    "cmap_real = axes[0].pcolormesh(\n",
    "    np.degrees(PHI), np.degrees(THETA), Z12.real, cmap=plt.cm.coolwarm\n",
    ")\n",
    "cmap_imag = axes[1].pcolormesh(\n",
    "    np.degrees(PHI), np.degrees(THETA), Z12.imag, cmap=plt.cm.coolwarm\n",
    ")\n",
    "\n",
    "axes[0].set_xlabel(R\"$\\phi$ [deg]\")\n",
    "axes[0].set_ylabel(R\"$\\theta$ [deg]\")\n",
    "axes[0].set_title(R\"Real Part of $\\sum a_m Y_2^m (\\Omega_1)$\")\n",
    "axes[0].set_ylabel(R\"$\\theta$ [deg]\")\n",
    "axes[1].set_xlabel(R\"$\\phi$ [deg]\")\n",
    "axes[1].set_title(R\"Imaginary Part of $\\sum a_m Y_2^m (\\Omega_1)$\")\n",
    "\n",
    "cbar_real = fig.colorbar(cmap_real, ax=axes[0])\n",
    "cbar_imag = fig.colorbar(cmap_imag, ax=axes[1])\n",
    "\n",
    "fig.subplots_adjust(wspace=0.4, hspace=0.4)\n",
    "fig.tight_layout()\n",
    "plt.rcParams.update({\"font.size\": 10})\n",
    "plt.show()"
   ]
  },
  {
   "cell_type": "code",
   "execution_count": null,
   "metadata": {
    "editable": true,
    "jupyter": {
     "source_hidden": true
    },
    "slideshow": {
     "slide_type": ""
    },
    "tags": [
     "remove-cell",
     "hide-input",
     "hide-output"
    ]
   },
   "outputs": [],
   "source": [
    "plt.hist2d(\n",
    "    p12_phsp.phi,\n",
    "    p12_phsp.theta,\n",
    "    bins=100,\n",
    "    weights=compute_spherical_harmonics12(\n",
    "        p12_phsp.phi, p12_phsp.theta, a_minus2, a_minus1, a_0, a_plus1, a_plus2\n",
    "    ).real,\n",
    "    cmap=plt.cm.coolwarm,\n",
    ")\n",
    "plt.title(\"$p_{12}$ with real part of spherical harmonics as weights in histogram\")\n",
    "plt.xlabel(R\"$\\phi$\")\n",
    "plt.ylabel(R\"$\\theta$\")\n",
    "plt.show()"
   ]
  },
  {
   "cell_type": "code",
   "execution_count": null,
   "metadata": {
    "editable": true,
    "slideshow": {
     "slide_type": ""
    },
    "tags": []
   },
   "outputs": [],
   "source": [
    "b_minus1 = initial_SH_parameters.get(\"b_minus1\")\n",
    "b_0 = initial_SH_parameters.get(\"b_0\")\n",
    "b_plus1 = initial_SH_parameters.get(\"b_plus1\")"
   ]
  },
  {
   "cell_type": "code",
   "execution_count": null,
   "metadata": {
    "editable": true,
    "slideshow": {
     "slide_type": ""
    },
    "tags": []
   },
   "outputs": [],
   "source": [
    "def compute_spherical_harmonics23(\n",
    "    theta: np.ndarray, phi: np.ndarray, b_minus1, b_0, b_plus1, **kwargs\n",
    ") -> np.ndarray:\n",
    "    return (\n",
    "        b_plus1 * sp.special.sph_harm(1, 1, phi, theta)\n",
    "        + b_0 * sp.special.sph_harm(0, 1, phi, theta)\n",
    "        + b_minus1 * sp.special.sph_harm(-1, 1, phi, theta)\n",
    "    )"
   ]
  },
  {
   "cell_type": "code",
   "execution_count": null,
   "metadata": {
    "editable": true,
    "slideshow": {
     "slide_type": ""
    },
    "tags": []
   },
   "outputs": [],
   "source": [
    "Z23 = compute_spherical_harmonics23(PHI, THETA, **initial_SH_parameters)"
   ]
  },
  {
   "cell_type": "code",
   "execution_count": null,
   "metadata": {
    "editable": true,
    "jupyter": {
     "source_hidden": true
    },
    "slideshow": {
     "slide_type": ""
    },
    "tags": [
     "hide-input",
     "full-width"
    ]
   },
   "outputs": [],
   "source": [
    "fig, axes = plt.subplots(figsize=(10, 4), ncols=2, sharey=True, dpi=120)\n",
    "cmap_real = axes[0].pcolormesh(\n",
    "    np.degrees(PHI), np.degrees(THETA), Z23.real, cmap=plt.cm.coolwarm\n",
    ")\n",
    "cmap_imag = axes[1].pcolormesh(\n",
    "    np.degrees(PHI), np.degrees(THETA), Z23.imag, cmap=plt.cm.coolwarm\n",
    ")\n",
    "\n",
    "axes[0].set_xlabel(R\"$\\phi$ [deg]\")\n",
    "axes[0].set_ylabel(R\"$\\theta$ [deg]\")\n",
    "axes[0].set_title(R\"Real Part of $\\sum b_m Y_1^m (\\Omega_2)$\")\n",
    "axes[0].set_ylabel(R\"$\\theta$ [deg]\")\n",
    "axes[1].set_xlabel(R\"$\\phi$ [deg]\")\n",
    "axes[1].set_title(R\"Imaginary Part of $\\sum b_m Y_1^m (\\Omega_2)$\")\n",
    "\n",
    "cbar_real = fig.colorbar(cmap_real, ax=axes[0])\n",
    "cbar_imag = fig.colorbar(cmap_imag, ax=axes[1])\n",
    "\n",
    "fig.subplots_adjust(wspace=0.4, hspace=0.4)\n",
    "fig.tight_layout()\n",
    "plt.rcParams.update({\"font.size\": 10})\n",
    "plt.show()"
   ]
  },
  {
   "cell_type": "code",
   "execution_count": null,
   "metadata": {
    "editable": true,
    "slideshow": {
     "slide_type": ""
    },
    "tags": []
   },
   "outputs": [],
   "source": [
    "c_0 = initial_SH_parameters.get(\"c_0\")"
   ]
  },
  {
   "cell_type": "code",
   "execution_count": null,
   "metadata": {
    "editable": true,
    "slideshow": {
     "slide_type": ""
    },
    "tags": []
   },
   "outputs": [],
   "source": [
    "def compute_spherical_harmonics31(\n",
    "    theta: np.ndarray, phi: np.ndarray, c_0, **kwargs\n",
    ") -> np.ndarray:\n",
    "    return c_0 * sp.special.sph_harm(0, 0, phi, theta)"
   ]
  },
  {
   "cell_type": "markdown",
   "metadata": {
    "editable": true,
    "slideshow": {
     "slide_type": ""
    },
    "tags": []
   },
   "source": [
    ":::{note}\n",
    "The Wigner d-function can be related to the associated Legendre polynomials\n",
    ":::"
   ]
  },
  {
   "cell_type": "markdown",
   "metadata": {
    "editable": true,
    "slideshow": {
     "slide_type": ""
    },
    "tags": []
   },
   "source": [
    "$Y_l^m(\\theta,\\phi) = \\sqrt{\\frac{2l+1}{4\\pi}\\frac{(l-m)!}{(l+m)!}}e^{im\\phi} d^l_{m0}(\\theta)$"
   ]
  },
  {
   "cell_type": "code",
   "execution_count": null,
   "metadata": {
    "editable": true,
    "slideshow": {
     "slide_type": ""
    },
    "tags": []
   },
   "outputs": [],
   "source": [
    "from scipy.special import lpmv\n",
    "\n",
    "\n",
    "def wigner_d_function(j, m, n, beta):\n",
    "    \"\"\"\n",
    "    Calculate the Wigner d-function for given j, m, n, and beta.\n",
    "\n",
    "    Parameters:\n",
    "    j (int): Total angular momentum quantum number.\n",
    "    m, n (int): Magnetic quantum numbers.\n",
    "    beta (float): The angle (in radians).\n",
    "\n",
    "    Returns:\n",
    "    float: The value of the Wigner d-function.\n",
    "    \"\"\"\n",
    "    # The Wigner d-function can be related to the associated Legendre polynomials\n",
    "    # Here, we use scipy's lpmv function which computes the associated Legendre polynomials\n",
    "    return (\n",
    "        np.sqrt(\n",
    "            (np.math.factorial(j + m) * np.math.factorial(j - m))\n",
    "            / (np.math.factorial(j + n) * np.math.factorial(j - n))\n",
    "        )\n",
    "        * np.cos(beta / 2) ** (2 * j + n - m)\n",
    "        * np.sin(beta / 2) ** (m - n)\n",
    "        * lpmv(abs(n - m), 2 * j, np.cos(beta))\n",
    "    )\n",
    "\n",
    "\n",
    "def spherical_harmonics(l_num, m, theta, phi):\n",
    "    \"\"\"\n",
    "    Calculate the spherical harmonics using the Wigner d-function.\n",
    "\n",
    "    Parameters:\n",
    "    l (int): Angular momentum quantum number.\n",
    "    m (int): Magnetic quantum number.\n",
    "    theta (float): Polar angle in radians.\n",
    "    phi (float): Azimuthal angle in radians.\n",
    "\n",
    "    Returns:\n",
    "    complex: The value of the spherical harmonic.\n",
    "    \"\"\"\n",
    "    # Calculating the spherical harmonics using Wigner d-function\n",
    "    # Y^m_l(θ, φ) = √((2l+1)/(4π)) * e^(-imφ) * d^l_{m0}(θ)\n",
    "    normalization = np.sqrt((2 * l_num + 1) / (4 * np.pi))\n",
    "    return normalization * np.exp(1j * m * phi) * wigner_d_function(l_num, m, 0, theta)"
   ]
  },
  {
   "cell_type": "code",
   "execution_count": null,
   "metadata": {
    "editable": true,
    "slideshow": {
     "slide_type": ""
    },
    "tags": [
     "remove-cell"
    ]
   },
   "outputs": [],
   "source": [
    "sp.special.sph_harm(1, 1, phi1_phsp, theta1_phsp)"
   ]
  },
  {
   "cell_type": "code",
   "execution_count": null,
   "metadata": {
    "editable": true,
    "slideshow": {
     "slide_type": ""
    },
    "tags": [
     "remove-cell"
    ]
   },
   "outputs": [],
   "source": [
    "spherical_harmonics(1, 1, theta1_phsp, phi1_phsp)"
   ]
  },
  {
   "cell_type": "markdown",
   "metadata": {
    "editable": true,
    "jp-MarkdownHeadingCollapsed": true,
    "slideshow": {
     "slide_type": ""
    },
    "tags": []
   },
   "source": [
    "## Implementation of the models"
   ]
  },
  {
   "cell_type": "markdown",
   "metadata": {
    "editable": true,
    "slideshow": {
     "slide_type": ""
    },
    "tags": []
   },
   "source": [
    "### Parameter Default initial values"
   ]
  },
  {
   "cell_type": "markdown",
   "metadata": {
    "editable": true,
    "slideshow": {
     "slide_type": ""
    },
    "tags": []
   },
   "source": [
    "The original values of initial guess can be obtained from the data file from the [Lecture 11 in STRONG2020 HaSP School](https://indico.ific.uv.es/event/6803/contributions/21223/).\n",
    "But the values are modified here to make the strides in Dalitz plot more visible.\n",
    "\n",
    "The purpose is to define and test the model from fewer to more terms.\n",
    "\n",
    "The initial default parameters are resonance mass $(M)$ and width $(\\Gamma)$:\n",
    "\n",
    "$M_{12}$ = $M_{\\eta\\pi^0}$ = $M_{a_2}$\n",
    "\n",
    "$M_{23}$ = $M_{\\pi^0p}$ = $M_{\\Delta^+}$\n",
    "\n",
    "$M_{31}$ = $M_{\\eta p}$ = $M_{N^*}$\n",
    "\n",
    "$\\Gamma_{12}$ = $\\Gamma_{\\eta\\pi^0}$ = $\\Gamma_{a_2}$\n",
    "\n",
    "$\\Gamma_{23}$ = $\\Gamma_{\\pi^0p}$ = $\\Gamma_{\\Delta^+}$\n",
    "\n",
    "$\\Gamma_{31}$ = $\\Gamma_{\\eta p}$ = $\\Gamma_{N^*}$"
   ]
  },
  {
   "cell_type": "code",
   "execution_count": null,
   "metadata": {
    "editable": true,
    "slideshow": {
     "slide_type": ""
    },
    "tags": []
   },
   "outputs": [],
   "source": [
    "initial_parameters = dict(\n",
    "    M12=1.32,\n",
    "    Gamma12=0.1,\n",
    "    M23=1.24 + 0.3,\n",
    "    Gamma23=0.1,\n",
    "    M31=1.57 + 0.3,\n",
    "    Gamma31=0.1,\n",
    "    a_minus2=initial_SH_parameters.get(\"a_minus2\"),\n",
    "    a_minus1=initial_SH_parameters.get(\"a_minus1\"),\n",
    "    a_0=initial_SH_parameters.get(\"a_0\"),\n",
    "    a_plus1=initial_SH_parameters.get(\"a_plus1\"),\n",
    "    a_plus2=initial_SH_parameters.get(\"a_plus2\"),\n",
    "    b_minus1=initial_SH_parameters.get(\"b_minus1\"),\n",
    "    b_0=initial_SH_parameters.get(\"b_0\"),\n",
    "    b_plus1=initial_SH_parameters.get(\"b_plus1\"),\n",
    "    c_0=initial_SH_parameters.get(\"c_0\"),\n",
    ")\n",
    "\n",
    "M12 = initial_parameters.get(\"M12\")\n",
    "Gamma12 = initial_parameters.get(\"Gamma12\")\n",
    "M23 = initial_parameters.get(\"M23\")\n",
    "Gamma23 = initial_parameters.get(\"Gamma23\")\n",
    "M31 = initial_parameters.get(\"M31\")\n",
    "Gamma31 = initial_parameters.get(\"Gamma31\")"
   ]
  },
  {
   "cell_type": "markdown",
   "metadata": {
    "editable": true,
    "slideshow": {
     "slide_type": ""
    },
    "tags": []
   },
   "source": [
    "### Breit-Wigner (only) Model"
   ]
  },
  {
   "cell_type": "code",
   "execution_count": null,
   "metadata": {
    "editable": true,
    "slideshow": {
     "slide_type": ""
    },
    "tags": []
   },
   "outputs": [],
   "source": [
    "def BW_model(s12, s23, s31, *, M12, Gamma12, M23, Gamma23, M31, Gamma31, **kwargs):\n",
    "    A12 = BW(s12, M12, Gamma12)\n",
    "    A23 = BW(s23, M23, Gamma23)\n",
    "    A31 = BW(s31, M31, Gamma31)\n",
    "    return np.abs(A12 + A23 + A31) ** 2\n",
    "\n",
    "\n",
    "def BW(s, m, Gamma):\n",
    "    return 1 / (s - m**2 + m * Gamma * 1j)"
   ]
  },
  {
   "cell_type": "markdown",
   "metadata": {
    "editable": true,
    "slideshow": {
     "slide_type": ""
    },
    "tags": []
   },
   "source": [
    "### Spherical Harmonics (only) Model"
   ]
  },
  {
   "cell_type": "code",
   "execution_count": null,
   "metadata": {
    "editable": true,
    "slideshow": {
     "slide_type": ""
    },
    "tags": []
   },
   "outputs": [],
   "source": [
    "def SH_model(\n",
    "    phi1,\n",
    "    theta1,\n",
    "    phi2,\n",
    "    theta2,\n",
    "    *,\n",
    "    a_minus2,\n",
    "    a_minus1,\n",
    "    a_0,\n",
    "    a_plus1,\n",
    "    a_plus2,\n",
    "    b_minus1,\n",
    "    b_0,\n",
    "    b_plus1,\n",
    "    c_0,\n",
    "    **kwargs,\n",
    "):\n",
    "    return (\n",
    "        np.abs(\n",
    "            compute_spherical_harmonics12(\n",
    "                phi1, theta1, a_minus2, a_minus1, a_0, a_plus1, a_plus2\n",
    "            )\n",
    "            + compute_spherical_harmonics23(phi2, theta2, b_minus1, b_0, b_plus1)\n",
    "            + c_0\n",
    "        )\n",
    "        ** 2\n",
    "    )"
   ]
  },
  {
   "cell_type": "markdown",
   "metadata": {
    "editable": true,
    "slideshow": {
     "slide_type": ""
    },
    "tags": []
   },
   "source": [
    "### Breit-Wigner $\\times$ Spherical Harmonics Model"
   ]
  },
  {
   "cell_type": "code",
   "execution_count": null,
   "metadata": {
    "editable": true,
    "slideshow": {
     "slide_type": ""
    },
    "tags": [
     "full-width"
    ]
   },
   "outputs": [],
   "source": [
    "def BW_SH_model(\n",
    "    s12,\n",
    "    s23,\n",
    "    s31,\n",
    "    phi1,\n",
    "    theta1,\n",
    "    phi2,\n",
    "    theta2,\n",
    "    *,\n",
    "    M12,\n",
    "    Gamma12,\n",
    "    M23,\n",
    "    Gamma23,\n",
    "    M31,\n",
    "    Gamma31,\n",
    "    a_minus2,\n",
    "    a_minus1,\n",
    "    a_0,\n",
    "    a_plus1,\n",
    "    a_plus2,\n",
    "    b_minus1,\n",
    "    b_0,\n",
    "    b_plus1,\n",
    "    c_0,\n",
    "    **kwargs,\n",
    "):\n",
    "    A12 = BW(s12, M12, Gamma12) * compute_spherical_harmonics12(\n",
    "        phi1, theta1, a_minus2, a_minus1, a_0, a_plus1, a_plus2\n",
    "    )\n",
    "    A23 = BW(s23, M23, Gamma23) * compute_spherical_harmonics23(\n",
    "        phi2, theta2, b_minus1, b_0, b_plus1\n",
    "    )\n",
    "    A31 = BW(s31, M31, Gamma31) * c_0\n",
    "    return np.abs(A12 + A23 + A31) ** 2"
   ]
  },
  {
   "cell_type": "markdown",
   "metadata": {
    "editable": true,
    "slideshow": {
     "slide_type": ""
    },
    "tags": []
   },
   "source": [
    "### Full Model"
   ]
  },
  {
   "cell_type": "code",
   "execution_count": null,
   "metadata": {
    "editable": true,
    "slideshow": {
     "slide_type": ""
    },
    "tags": []
   },
   "outputs": [],
   "source": [
    "def full_model(\n",
    "    s12,\n",
    "    s23,\n",
    "    s31,\n",
    "    phi1,\n",
    "    theta1,\n",
    "    phi2,\n",
    "    theta2,\n",
    "    t1,\n",
    "    t2,\n",
    "    u3,\n",
    "    *,\n",
    "    M12,\n",
    "    Gamma12,\n",
    "    M23,\n",
    "    Gamma23,\n",
    "    M31,\n",
    "    Gamma31,\n",
    "    a_minus2,\n",
    "    a_minus1,\n",
    "    a_0,\n",
    "    a_plus1,\n",
    "    a_plus2,\n",
    "    b_minus1,\n",
    "    b_0,\n",
    "    b_plus1,\n",
    "    c_0,\n",
    "    **kwargs,\n",
    "):\n",
    "    A12 = (\n",
    "        BW(s12, M12, Gamma12)\n",
    "        * compute_spherical_harmonics12(\n",
    "            phi1, theta1, a_minus2, a_minus1, a_0, a_plus1, a_plus2\n",
    "        )\n",
    "        * s12 ** (0.5 + 0.9 * u3)\n",
    "    )\n",
    "    A23 = (\n",
    "        BW(s23, M23, Gamma23)\n",
    "        * compute_spherical_harmonics23(phi2, theta2, b_minus1, b_0, b_plus1)\n",
    "        * s23 ** (0.5 + 0.9 * t1)\n",
    "    )\n",
    "    A31 = BW(s31, M31, Gamma31) * c_0 * s31 ** (1.08 + 0.2 * t2)\n",
    "    return np.abs(A12 + A23 + A31) ** 2"
   ]
  },
  {
   "cell_type": "markdown",
   "metadata": {
    "editable": true,
    "slideshow": {
     "slide_type": ""
    },
    "tags": []
   },
   "source": [
    "### Dalitz Plots of (sub)models"
   ]
  },
  {
   "cell_type": "code",
   "execution_count": null,
   "metadata": {
    "editable": true,
    "slideshow": {
     "slide_type": ""
    },
    "tags": [
     "full-width",
     "hide-input"
    ]
   },
   "outputs": [],
   "source": [
    "fig, (ax1, ax2, ax3) = plt.subplots(figsize=(12, 4), ncols=3, sharey=True)\n",
    "fig.suptitle(R\"Dalitz Plots of sub-models\")\n",
    "\n",
    "hist1 = ax1.hist2d(\n",
    "    s12_phsp,\n",
    "    s23_phsp,\n",
    "    bins=100,\n",
    "    weights=BW_model(\n",
    "        s12_phsp,\n",
    "        s23_phsp,\n",
    "        s31_phsp,\n",
    "        M12=M12,\n",
    "        Gamma12=Gamma12,\n",
    "        M23=M23,\n",
    "        Gamma23=Gamma23,\n",
    "        M31=M31,\n",
    "        Gamma31=Gamma31,\n",
    "    ),\n",
    "    cmin=1e-6,\n",
    "    density=True,\n",
    "    cmap=\"jet\",\n",
    ")\n",
    "ax1.set_xlabel(R\"$m^2(\\eta \\pi^0)$\")\n",
    "ax1.set_title(\"BW model only\")\n",
    "ax1.set_ylabel(R\"$m^2(\\pi^0 p)$\")\n",
    "\n",
    "hist2 = ax2.hist2d(\n",
    "    s12_phsp,\n",
    "    s23_phsp,\n",
    "    bins=100,\n",
    "    weights=SH_model(\n",
    "        phi1_phsp,\n",
    "        theta1_phsp,\n",
    "        phi2_phsp,\n",
    "        theta2_phsp,\n",
    "        a_minus2=a_minus2,\n",
    "        a_minus1=a_minus1,\n",
    "        a_0=a_0,\n",
    "        a_plus1=a_plus1,\n",
    "        a_plus2=a_plus2,\n",
    "        b_minus1=b_minus1,\n",
    "        b_0=b_0,\n",
    "        b_plus1=b_plus1,\n",
    "        c_0=c_0,\n",
    "    ),\n",
    "    cmin=1e-6,\n",
    "    density=True,\n",
    "    cmap=\"jet\",\n",
    ")\n",
    "ax2.set_title(\"SH model only\")\n",
    "ax2.set_xlabel(R\"$m^2(\\eta \\pi^0)$\")\n",
    "ax2.set_ylabel(R\"$m^2(\\pi^0 p)$\")\n",
    "\n",
    "\n",
    "hist3 = ax3.hist2d(\n",
    "    s12_phsp,\n",
    "    s23_phsp,\n",
    "    bins=100,\n",
    "    weights=BW_SH_model(\n",
    "        s12_phsp,\n",
    "        s23_phsp,\n",
    "        s31_phsp,\n",
    "        phi1_phsp,\n",
    "        theta1_phsp,\n",
    "        phi2_phsp,\n",
    "        theta2_phsp,\n",
    "        M12=M12,\n",
    "        Gamma12=Gamma12,\n",
    "        M23=M23,\n",
    "        Gamma23=Gamma23,\n",
    "        M31=M31,\n",
    "        Gamma31=Gamma31,\n",
    "        a_minus2=a_minus2,\n",
    "        a_minus1=a_minus1,\n",
    "        a_0=a_0,\n",
    "        a_plus1=a_plus1,\n",
    "        a_plus2=a_plus2,\n",
    "        b_minus1=b_minus1,\n",
    "        b_0=b_0,\n",
    "        b_plus1=b_plus1,\n",
    "        c_0=c_0,\n",
    "    ),\n",
    "    cmin=1e-6,\n",
    "    density=True,\n",
    "    cmap=\"jet\",\n",
    ")\n",
    "ax3.set_title(R\"BW $\\times$ SH model\")\n",
    "ax3.set_xlabel(R\"$m^2(\\eta \\pi^0)$\")\n",
    "ax3.set_ylabel(R\"$m^2(\\pi^0 p)$\")\n",
    "\n",
    "cbar1 = fig.colorbar(hist1[3], ax=ax1)\n",
    "cbar2 = fig.colorbar(hist2[3], ax=ax2)\n",
    "cbar3 = fig.colorbar(hist3[3], ax=ax3)\n",
    "\n",
    "fig.tight_layout()\n",
    "fig.show()"
   ]
  },
  {
   "cell_type": "code",
   "execution_count": null,
   "metadata": {
    "editable": true,
    "jupyter": {
     "source_hidden": true
    },
    "slideshow": {
     "slide_type": ""
    },
    "tags": []
   },
   "outputs": [],
   "source": [
    "fig, ax = plt.subplots(figsize=(6, 5))\n",
    "fig.suptitle(R\"Dalitz Plot of BW $\\times$ SH model with cut at max=0.15\")\n",
    "hist = ax.hist2d(\n",
    "    s12_phsp,\n",
    "    s23_phsp,\n",
    "    bins=200,\n",
    "    weights=BW_SH_model(\n",
    "        s12_phsp,\n",
    "        s23_phsp,\n",
    "        s31_phsp,\n",
    "        phi1_phsp,\n",
    "        theta1_phsp,\n",
    "        phi2_phsp,\n",
    "        theta2_phsp,\n",
    "        M12=M12,\n",
    "        Gamma12=Gamma12,\n",
    "        M23=M23,\n",
    "        Gamma23=Gamma23,\n",
    "        M31=M31,\n",
    "        Gamma31=Gamma31,\n",
    "        a_minus2=a_minus2,\n",
    "        a_minus1=a_minus1,\n",
    "        a_0=a_0,\n",
    "        a_plus1=a_plus1,\n",
    "        a_plus2=a_plus2,\n",
    "        b_minus1=b_minus1,\n",
    "        b_0=b_0,\n",
    "        b_plus1=b_plus1,\n",
    "        c_0=c_0,\n",
    "    ),\n",
    "    cmin=1e-6,\n",
    "    density=True,\n",
    "    cmap=\"jet\",\n",
    "    vmax=0.15,\n",
    ")\n",
    "\n",
    "ax.set_xlabel(r\"$m^2(\\eta \\pi^0)$\")\n",
    "ax.set_ylabel(r\"$m^2(\\pi^0 p)$\")\n",
    "cbar = fig.colorbar(hist[3], ax=ax)\n",
    "fig.tight_layout()\n",
    "fig.show()"
   ]
  },
  {
   "cell_type": "code",
   "execution_count": null,
   "metadata": {
    "editable": true,
    "explanation": "This cell performs data preprocessing.",
    "jupyter": {
     "source_hidden": true
    },
    "mystnb": {
     "code_prompt_show": "(Not used just for the record) Full model Dalitz Plot"
    },
    "slideshow": {
     "slide_type": ""
    },
    "tags": [
     "hide-input",
     "full-width",
     "hide-output"
    ]
   },
   "outputs": [],
   "source": [
    "fig, (ax1) = plt.subplots(figsize=(3.5, 3), ncols=1, sharey=True)\n",
    "hist1 = ax1.hist2d(\n",
    "    s12_phsp,\n",
    "    s23_phsp,\n",
    "    bins=100,\n",
    "    weights=full_model(\n",
    "        s12_phsp,\n",
    "        s23_phsp,\n",
    "        s31_phsp,\n",
    "        phi1_phsp,\n",
    "        theta1_phsp,\n",
    "        phi2_phsp,\n",
    "        theta2_phsp,\n",
    "        t1_phsp,\n",
    "        t2_phsp,\n",
    "        u3_phsp,\n",
    "        M12=M12,\n",
    "        Gamma12=Gamma12,\n",
    "        M23=M23,\n",
    "        Gamma23=Gamma23,\n",
    "        M31=M31,\n",
    "        Gamma31=Gamma31,\n",
    "        a_minus2=a_minus2,\n",
    "        a_minus1=a_minus1,\n",
    "        a_0=a_0,\n",
    "        a_plus1=a_plus1,\n",
    "        a_plus2=a_plus2,\n",
    "        b_minus1=b_minus1,\n",
    "        b_0=b_0,\n",
    "        b_plus1=b_plus1,\n",
    "        c_0=c_0,\n",
    "    ),\n",
    "    cmin=1e-8,\n",
    "    density=True,\n",
    "    cmap=\"jet\",\n",
    ")\n",
    "ax1.set_xlabel(R\"$s_{12}$\")\n",
    "ax1.set_ylabel(R\"$s_{23}$\")\n",
    "ax1.set_title(\"Full model\")\n",
    "\n",
    "cbar1 = fig.colorbar(hist1[3], ax=ax1)\n",
    "fig.tight_layout()\n",
    "fig.show()"
   ]
  },
  {
   "cell_type": "code",
   "execution_count": null,
   "metadata": {
    "editable": true,
    "jupyter": {
     "source_hidden": true
    },
    "mystnb": {
     "code_prompt_show": "Set different weights from models for the plotting later"
    },
    "slideshow": {
     "slide_type": ""
    },
    "tags": [
     "hide-cell",
     "hide-output",
     "hide-input"
    ]
   },
   "outputs": [],
   "source": [
    "weight_BW = BW_model(\n",
    "    s12_phsp,\n",
    "    s23_phsp,\n",
    "    s31_phsp,\n",
    "    M12=M12,\n",
    "    Gamma12=Gamma12,\n",
    "    M23=M23,\n",
    "    Gamma23=Gamma23,\n",
    "    M31=M31,\n",
    "    Gamma31=Gamma31,\n",
    ")\n",
    "weight_SH = SH_model(\n",
    "    phi1_phsp,\n",
    "    theta1_phsp,\n",
    "    phi2_phsp,\n",
    "    theta2_phsp,\n",
    "    a_0=a_0,\n",
    "    a_minus2=a_minus2,\n",
    "    a_minus1=a_minus1,\n",
    "    a_plus1=a_plus1,\n",
    "    a_plus2=a_plus2,\n",
    "    b_minus1=b_minus1,\n",
    "    b_0=b_0,\n",
    "    b_plus1=b_plus1,\n",
    "    c_0=c_0,\n",
    ")\n",
    "\n",
    "weight_BW_SH = BW_SH_model(\n",
    "    s12_phsp,\n",
    "    s23_phsp,\n",
    "    s31_phsp,\n",
    "    phi1_phsp,\n",
    "    theta1_phsp,\n",
    "    phi2_phsp,\n",
    "    theta2_phsp,\n",
    "    M12=M12,\n",
    "    Gamma12=Gamma12,\n",
    "    M23=M23,\n",
    "    Gamma23=Gamma23,\n",
    "    M31=M31,\n",
    "    Gamma31=Gamma31,\n",
    "    a_minus2=a_minus2,\n",
    "    a_minus1=a_minus1,\n",
    "    a_0=a_0,\n",
    "    a_plus1=a_plus1,\n",
    "    a_plus2=a_plus2,\n",
    "    b_minus1=b_minus1,\n",
    "    b_0=b_0,\n",
    "    b_plus1=b_plus1,\n",
    "    c_0=c_0,\n",
    ")\n",
    "weight_Full = full_model(\n",
    "    s12_phsp,\n",
    "    s23_phsp,\n",
    "    s31_phsp,\n",
    "    phi1_phsp,\n",
    "    theta1_phsp,\n",
    "    phi2_phsp,\n",
    "    theta2_phsp,\n",
    "    t1_phsp,\n",
    "    t2_phsp,\n",
    "    u3_phsp,\n",
    "    M12=M12,\n",
    "    Gamma12=Gamma12,\n",
    "    M23=M23,\n",
    "    Gamma23=Gamma23,\n",
    "    M31=M31,\n",
    "    Gamma31=Gamma31,\n",
    "    a_minus2=a_minus2,\n",
    "    a_minus1=a_minus1,\n",
    "    a_0=a_0,\n",
    "    a_plus1=a_plus1,\n",
    "    a_plus2=a_plus2,\n",
    "    b_minus1=b_minus1,\n",
    "    b_0=b_0,\n",
    "    b_plus1=b_plus1,\n",
    "    c_0=c_0,\n",
    ")"
   ]
  },
  {
   "cell_type": "code",
   "execution_count": null,
   "metadata": {
    "editable": true,
    "jupyter": {
     "source_hidden": true
    },
    "slideshow": {
     "slide_type": ""
    },
    "tags": [
     "hide-input",
     "scroll-input",
     "full-width",
     "remove-cell"
    ]
   },
   "outputs": [],
   "source": [
    "fig, (theta_ax, phi_ax, mass_ax) = plt.subplots(figsize=(13, 11), ncols=3, nrows=3)\n",
    "for i, ax in enumerate(theta_ax, 1):\n",
    "    ax.set_title(Rf\"$\\theta_{i}$\")\n",
    "    ax.set_xticks([0, np.pi / 2, np.pi])\n",
    "    ax.set_xticklabels([\"0\", R\"$\\frac{\\pi}{2}$\", R\"$\\pi$\"])\n",
    "for i, ax in enumerate(phi_ax, 1):\n",
    "    ax.set_title(Rf\"$\\phi_{i}$\")\n",
    "    ax.set_xticks([-np.pi, 0, np.pi])\n",
    "    ax.set_xticklabels([R\"-$\\pi$\", 0, R\"$\\pi$\"])\n",
    "for i, ax in enumerate(mass_ax, 1):\n",
    "    ax.set_title(Rf\"$m_{{{i}{(i % 3 + 1)}}}$\")\n",
    "\n",
    "theta_ax[0].hist(\n",
    "    theta1_phsp,\n",
    "    bins=100,\n",
    "    color=\"black\",\n",
    "    histtype=\"step\",\n",
    "    linestyle=\"dashed\",\n",
    "    label=\"phsp\",\n",
    "    density=True,\n",
    ")\n",
    "theta_ax[1].hist(\n",
    "    theta2_phsp,\n",
    "    bins=100,\n",
    "    color=\"black\",\n",
    "    histtype=\"step\",\n",
    "    linestyle=\"dashed\",\n",
    "    label=\"phsp\",\n",
    "    density=True,\n",
    ")\n",
    "theta_ax[2].hist(\n",
    "    theta3_phsp,\n",
    "    bins=100,\n",
    "    color=\"black\",\n",
    "    histtype=\"step\",\n",
    "    linestyle=\"dashed\",\n",
    "    label=\"phsp\",\n",
    "    density=True,\n",
    ")\n",
    "theta_ax[0].hist(\n",
    "    theta1_phsp,\n",
    "    bins=100,\n",
    "    weights=weight_BW,\n",
    "    color=\"orange\",\n",
    "    histtype=\"step\",\n",
    "    label=\"only BW\",\n",
    "    density=True,\n",
    ")\n",
    "theta_ax[1].hist(\n",
    "    theta2_phsp,\n",
    "    bins=100,\n",
    "    weights=weight_BW,\n",
    "    color=\"orange\",\n",
    "    histtype=\"step\",\n",
    "    label=\"only BW\",\n",
    "    density=True,\n",
    ")\n",
    "theta_ax[2].hist(\n",
    "    theta3_phsp,\n",
    "    bins=100,\n",
    "    weights=weight_BW,\n",
    "    color=\"orange\",\n",
    "    histtype=\"step\",\n",
    "    label=\"only BW\",\n",
    "    density=True,\n",
    ")\n",
    "theta_ax[0].hist(\n",
    "    theta1_phsp,\n",
    "    bins=100,\n",
    "    weights=weight_SH,\n",
    "    color=\"green\",\n",
    "    histtype=\"step\",\n",
    "    label=\"only SH\",\n",
    "    density=True,\n",
    ")\n",
    "theta_ax[1].hist(\n",
    "    theta2_phsp,\n",
    "    bins=100,\n",
    "    weights=weight_SH,\n",
    "    color=\"green\",\n",
    "    histtype=\"step\",\n",
    "    label=\"only SH\",\n",
    "    density=True,\n",
    ")\n",
    "theta_ax[2].hist(\n",
    "    theta3_phsp,\n",
    "    bins=100,\n",
    "    weights=weight_SH,\n",
    "    color=\"green\",\n",
    "    histtype=\"step\",\n",
    "    label=\"only SH\",\n",
    "    density=True,\n",
    ")\n",
    "theta_ax[0].hist(\n",
    "    theta1_phsp,\n",
    "    bins=100,\n",
    "    weights=weight_BW_SH,\n",
    "    color=\"red\",\n",
    "    histtype=\"step\",\n",
    "    label=\"BW&SH\",\n",
    "    density=True,\n",
    ")\n",
    "theta_ax[1].hist(\n",
    "    theta2_phsp,\n",
    "    bins=100,\n",
    "    weights=weight_BW_SH,\n",
    "    color=\"red\",\n",
    "    histtype=\"step\",\n",
    "    label=\"BW&SH\",\n",
    "    density=True,\n",
    ")\n",
    "theta_ax[2].hist(\n",
    "    theta3_phsp,\n",
    "    bins=100,\n",
    "    weights=weight_BW_SH,\n",
    "    color=\"red\",\n",
    "    histtype=\"step\",\n",
    "    label=\"BW&SH\",\n",
    "    density=True,\n",
    ")\n",
    "\n",
    "\n",
    "phi_ax[0].hist(\n",
    "    phi1_phsp,\n",
    "    bins=100,\n",
    "    color=\"black\",\n",
    "    histtype=\"step\",\n",
    "    linestyle=\"dashed\",\n",
    "    label=\"phsp\",\n",
    "    density=True,\n",
    ")\n",
    "phi_ax[1].hist(\n",
    "    phi2_phsp,\n",
    "    bins=100,\n",
    "    color=\"black\",\n",
    "    histtype=\"step\",\n",
    "    linestyle=\"dashed\",\n",
    "    label=\"phsp\",\n",
    "    density=True,\n",
    ")\n",
    "phi_ax[2].hist(\n",
    "    phi3_phsp,\n",
    "    bins=100,\n",
    "    color=\"black\",\n",
    "    histtype=\"step\",\n",
    "    linestyle=\"dashed\",\n",
    "    label=\"phsp\",\n",
    "    density=True,\n",
    ")\n",
    "phi_ax[0].hist(\n",
    "    phi1_phsp,\n",
    "    bins=100,\n",
    "    weights=weight_BW,\n",
    "    color=\"orange\",\n",
    "    histtype=\"step\",\n",
    "    label=\"only BW\",\n",
    "    density=True,\n",
    ")\n",
    "phi_ax[1].hist(\n",
    "    phi2_phsp,\n",
    "    bins=100,\n",
    "    weights=weight_BW,\n",
    "    color=\"orange\",\n",
    "    histtype=\"step\",\n",
    "    label=\"only BW\",\n",
    "    density=True,\n",
    ")\n",
    "phi_ax[2].hist(\n",
    "    phi3_phsp,\n",
    "    bins=100,\n",
    "    weights=weight_BW,\n",
    "    color=\"orange\",\n",
    "    histtype=\"step\",\n",
    "    label=\"only BW\",\n",
    "    density=True,\n",
    ")\n",
    "phi_ax[0].hist(\n",
    "    phi1_phsp,\n",
    "    bins=100,\n",
    "    weights=weight_SH,\n",
    "    color=\"green\",\n",
    "    histtype=\"step\",\n",
    "    label=\"only SH\",\n",
    "    density=True,\n",
    ")\n",
    "phi_ax[1].hist(\n",
    "    phi2_phsp,\n",
    "    bins=100,\n",
    "    weights=weight_SH,\n",
    "    color=\"green\",\n",
    "    histtype=\"step\",\n",
    "    label=\"only SH\",\n",
    "    density=True,\n",
    ")\n",
    "phi_ax[2].hist(\n",
    "    phi3_phsp,\n",
    "    bins=100,\n",
    "    weights=weight_SH,\n",
    "    color=\"green\",\n",
    "    histtype=\"step\",\n",
    "    label=\"only SH\",\n",
    "    density=True,\n",
    ")\n",
    "phi_ax[0].hist(\n",
    "    phi1_phsp,\n",
    "    bins=100,\n",
    "    weights=weight_BW_SH,\n",
    "    color=\"red\",\n",
    "    histtype=\"step\",\n",
    "    label=\"BW&SH\",\n",
    "    density=True,\n",
    ")\n",
    "phi_ax[1].hist(\n",
    "    phi2_phsp,\n",
    "    bins=100,\n",
    "    weights=weight_BW_SH,\n",
    "    color=\"red\",\n",
    "    histtype=\"step\",\n",
    "    label=\"BW&SH\",\n",
    "    density=True,\n",
    ")\n",
    "phi_ax[2].hist(\n",
    "    phi3_phsp,\n",
    "    bins=100,\n",
    "    weights=weight_BW_SH,\n",
    "    color=\"red\",\n",
    "    histtype=\"step\",\n",
    "    label=\"BW&SH\",\n",
    "    density=True,\n",
    ")\n",
    "\n",
    "\n",
    "mass_ax[0].hist(\n",
    "    p12_phsp.m,\n",
    "    bins=100,\n",
    "    color=\"black\",\n",
    "    histtype=\"step\",\n",
    "    linestyle=\"dashed\",\n",
    "    label=\"phsp\",\n",
    "    density=True,\n",
    ")\n",
    "mass_ax[1].hist(\n",
    "    p23_phsp.m,\n",
    "    bins=100,\n",
    "    color=\"black\",\n",
    "    histtype=\"step\",\n",
    "    linestyle=\"dashed\",\n",
    "    label=\"phsp\",\n",
    "    density=True,\n",
    ")\n",
    "mass_ax[2].hist(\n",
    "    p31_phsp.m,\n",
    "    bins=100,\n",
    "    color=\"black\",\n",
    "    histtype=\"step\",\n",
    "    linestyle=\"dashed\",\n",
    "    label=\"phsp\",\n",
    "    density=True,\n",
    ")\n",
    "mass_ax[0].hist(\n",
    "    p12_phsp.m,\n",
    "    bins=100,\n",
    "    weights=weight_BW,\n",
    "    color=\"orange\",\n",
    "    histtype=\"step\",\n",
    "    label=\"only BW\",\n",
    "    density=True,\n",
    ")\n",
    "mass_ax[1].hist(\n",
    "    p23_phsp.m,\n",
    "    bins=100,\n",
    "    weights=weight_BW,\n",
    "    color=\"orange\",\n",
    "    histtype=\"step\",\n",
    "    label=\"only BW\",\n",
    "    density=True,\n",
    ")\n",
    "mass_ax[2].hist(\n",
    "    p31_phsp.m,\n",
    "    bins=100,\n",
    "    weights=weight_BW,\n",
    "    color=\"orange\",\n",
    "    histtype=\"step\",\n",
    "    label=\"only BW\",\n",
    "    density=True,\n",
    ")\n",
    "mass_ax[0].hist(\n",
    "    p12_phsp.m,\n",
    "    bins=100,\n",
    "    weights=weight_SH,\n",
    "    color=\"green\",\n",
    "    histtype=\"step\",\n",
    "    label=\"only SH\",\n",
    "    density=True,\n",
    ")\n",
    "mass_ax[1].hist(\n",
    "    p23_phsp.m,\n",
    "    bins=100,\n",
    "    weights=weight_SH,\n",
    "    color=\"green\",\n",
    "    histtype=\"step\",\n",
    "    label=\"only SH\",\n",
    "    density=True,\n",
    ")\n",
    "mass_ax[2].hist(\n",
    "    p31_phsp.m,\n",
    "    bins=100,\n",
    "    weights=weight_SH,\n",
    "    color=\"green\",\n",
    "    histtype=\"step\",\n",
    "    label=\"only SH\",\n",
    "    density=True,\n",
    ")\n",
    "mass_ax[0].hist(\n",
    "    p12_phsp.m,\n",
    "    bins=100,\n",
    "    weights=weight_BW_SH,\n",
    "    color=\"red\",\n",
    "    histtype=\"step\",\n",
    "    label=\"BW&SH\",\n",
    "    density=True,\n",
    ")\n",
    "mass_ax[1].hist(\n",
    "    p23_phsp.m,\n",
    "    bins=100,\n",
    "    weights=weight_BW_SH,\n",
    "    color=\"red\",\n",
    "    histtype=\"step\",\n",
    "    label=\"BW&SH\",\n",
    "    density=True,\n",
    ")\n",
    "mass_ax[2].hist(\n",
    "    p31_phsp.m,\n",
    "    bins=100,\n",
    "    weights=weight_BW_SH,\n",
    "    color=\"red\",\n",
    "    histtype=\"step\",\n",
    "    label=\"BW&SH\",\n",
    "    density=True,\n",
    ")\n",
    "\n",
    "theta_ax[0].legend()\n",
    "phi_ax[0].legend()\n",
    "theta_ax[1].legend()\n",
    "phi_ax[1].legend()\n",
    "theta_ax[2].legend()\n",
    "phi_ax[2].legend()\n",
    "\n",
    "mass_ax[0].legend()\n",
    "mass_ax[1].legend()\n",
    "mass_ax[2].legend()\n",
    "\n",
    "\n",
    "fig.suptitle(\n",
    "    R\"Helicity angles and invariant mass: phsp and models with good initial guess of\"\n",
    "    r\" parameters\"\n",
    ")\n",
    "fig.tight_layout()\n",
    "plt.show()"
   ]
  },
  {
   "cell_type": "code",
   "execution_count": null,
   "metadata": {
    "editable": true,
    "jupyter": {
     "source_hidden": true
    },
    "slideshow": {
     "slide_type": ""
    },
    "tags": [
     "hide-input",
     "hide-cell",
     "full-width",
     "hide-output"
    ]
   },
   "outputs": [],
   "source": [
    "fig, (theta_ax, phi_ax, mass_ax) = plt.subplots(figsize=(13, 11), ncols=3, nrows=3)\n",
    "for i, ax in enumerate(theta_ax, 1):\n",
    "    ax.set_title(Rf\"$\\theta_{i}$\")\n",
    "    ax.set_xticks([0, np.pi / 2, np.pi])\n",
    "    ax.set_xticklabels([\"0\", R\"$\\frac{\\pi}{2}$\", R\"$\\pi$\"])\n",
    "for i, ax in enumerate(phi_ax, 1):\n",
    "    ax.set_title(Rf\"$\\phi_{i}$\")\n",
    "    ax.set_xticks([-np.pi, 0, np.pi])\n",
    "    ax.set_xticklabels([R\"-$\\pi$\", 0, R\"$\\pi$\"])\n",
    "for i, ax in enumerate(mass_ax, 1):\n",
    "    ax.set_title(Rf\"$m_{{{i}{(i % 3 + 1)}}}$\")\n",
    "\n",
    "theta_ax[0].hist(\n",
    "    theta1_phsp,\n",
    "    bins=100,\n",
    "    weights=weight_Full,\n",
    "    label=\"full\",\n",
    ")\n",
    "theta_ax[1].hist(\n",
    "    theta2_phsp,\n",
    "    bins=100,\n",
    "    weights=weight_Full,\n",
    "    label=\"full\",\n",
    ")\n",
    "theta_ax[2].hist(\n",
    "    theta3_phsp,\n",
    "    bins=100,\n",
    "    weights=weight_Full,\n",
    "    label=\"full\",\n",
    ")\n",
    "\n",
    "phi_ax[0].hist(\n",
    "    phi1_phsp,\n",
    "    bins=50,\n",
    "    weights=weight_Full,\n",
    "    label=\"full\",\n",
    ")\n",
    "phi_ax[1].hist(\n",
    "    phi2_phsp,\n",
    "    bins=50,\n",
    "    weights=weight_Full,\n",
    "    label=\"full\",\n",
    ")\n",
    "phi_ax[2].hist(\n",
    "    phi3_phsp,\n",
    "    bins=50,\n",
    "    weights=weight_Full,\n",
    "    label=\"full\",\n",
    ")\n",
    "\n",
    "mass_ax[0].hist(\n",
    "    p12_phsp.m,\n",
    "    bins=100,\n",
    "    weights=weight_Full,\n",
    "    label=\"full\",\n",
    ")\n",
    "mass_ax[1].hist(\n",
    "    p23_phsp.m,\n",
    "    bins=100,\n",
    "    weights=weight_Full,\n",
    "    label=\"full\",\n",
    ")\n",
    "mass_ax[2].hist(\n",
    "    p31_phsp.m,\n",
    "    bins=100,\n",
    "    weights=weight_Full,\n",
    "    label=\"full\",\n",
    ")\n",
    "\n",
    "theta_ax[0].legend()\n",
    "phi_ax[0].legend()\n",
    "theta_ax[1].legend()\n",
    "phi_ax[1].legend()\n",
    "theta_ax[2].legend()\n",
    "phi_ax[2].legend()\n",
    "\n",
    "mass_ax[0].legend()\n",
    "mass_ax[1].legend()\n",
    "mass_ax[2].legend()\n",
    "\n",
    "\n",
    "fig.suptitle(\n",
    "    R\"Helicity angles and invariant mass (with the same good initial guess of\"\n",
    "    r\" parameters previously )\"\n",
    ")\n",
    "fig.tight_layout()\n",
    "plt.show()"
   ]
  },
  {
   "cell_type": "markdown",
   "metadata": {
    "editable": true,
    "slideshow": {
     "slide_type": ""
    },
    "tags": []
   },
   "source": [
    "## Data Generation"
   ]
  },
  {
   "cell_type": "markdown",
   "metadata": {
    "editable": true,
    "slideshow": {
     "slide_type": ""
    },
    "tags": []
   },
   "source": [
    "### Hit and miss intensity sample"
   ]
  },
  {
   "cell_type": "markdown",
   "metadata": {
    "editable": true,
    "slideshow": {
     "slide_type": ""
    },
    "tags": []
   },
   "source": [
    "This function generate a data sample based on a model by using hit and miss filter applied to the phase space sample. \n",
    "\n",
    "The output is 4-vector in the form of a `tuple`[$p_1$,$p_2$,$p_3$,$p_a$,$p_b$]."
   ]
  },
  {
   "cell_type": "code",
   "execution_count": null,
   "metadata": {
    "editable": true,
    "slideshow": {
     "slide_type": ""
    },
    "tags": [
     "hide-cell"
    ]
   },
   "outputs": [],
   "source": [
    "def generate_data(\n",
    "    model: callable, size: int, bunch_size: int | None = None, seed: int | None = None\n",
    ") -> tuple[MomentumNumpy4D, ...]:\n",
    "    if bunch_size is None:\n",
    "        bunch_size = size\n",
    "    rng = np.random.default_rng(seed=seed)\n",
    "    generated_seed = rng.integers(1_000_000)\n",
    "    phase_space = generate_phsp_all(size, generated_seed)\n",
    "    data_sample = _hit_and_miss_filter(model, phase_space, generated_seed)\n",
    "    while get_size_data(data_sample) < size:\n",
    "        phase_space = generate_phsp_all(bunch_size, generated_seed)\n",
    "        bunch = _hit_and_miss_filter(model, phase_space)\n",
    "        data_sample = concatenate_data(data_sample, bunch)\n",
    "    return remove_overflow_data(data_sample, size)\n",
    "\n",
    "\n",
    "def _hit_and_miss_filter(\n",
    "    model: callable, phase_space: tuple[MomentumNumpy4D, ...], seed: int | None = None\n",
    ") -> tuple[MomentumNumpy4D, ...]:\n",
    "    p1, p2, p3, pa, pb = phase_space\n",
    "    p12 = p1 + p2\n",
    "    p23 = p2 + p3\n",
    "    p31 = p3 + p1\n",
    "\n",
    "    intensities: np.ndarray = model(\n",
    "        s12=p12.m2,\n",
    "        s23=p23.m2,\n",
    "        s31=p31.m2,\n",
    "        t1=(pa - p1).m2,\n",
    "        t2=(pa - p2).m2,\n",
    "        u3=(pb - p3).m2,\n",
    "        phi1=phi_helicity(p1, p12),\n",
    "        theta1=theta_helicity(p1, p12),\n",
    "        phi2=phi_helicity(p2, p23),\n",
    "        theta2=theta_helicity(p2, p23),\n",
    "        M12=M12,\n",
    "        Gamma12=Gamma12,\n",
    "        M23=M23,\n",
    "        Gamma23=Gamma23,\n",
    "        M31=M31,\n",
    "        Gamma31=Gamma31,\n",
    "        a_minus2=a_minus2,\n",
    "        a_minus1=a_minus1,\n",
    "        a_0=a_0,\n",
    "        a_plus1=a_plus1,\n",
    "        a_plus2=a_plus2,\n",
    "        b_minus1=b_minus1,\n",
    "        b_0=b_0,\n",
    "        b_plus1=b_plus1,\n",
    "        c_0=c_0,\n",
    "    )\n",
    "    rng = np.random.default_rng(\n",
    "        seed=seed\n",
    "    )  # Fixed seed is used here for Reproducibility and Testing\n",
    "    random_intensities = rng.uniform(0, intensities.max(), size=intensities.shape)\n",
    "    selector = intensities > random_intensities\n",
    "    return (\n",
    "        p1[selector],\n",
    "        p2[selector],\n",
    "        p3[selector],\n",
    "        pa[selector],\n",
    "        pb[selector],\n",
    "    )\n",
    "\n",
    "\n",
    "def get_size_data(\n",
    "    data: tuple[\n",
    "        MomentumNumpy4D,\n",
    "        MomentumNumpy4D,\n",
    "        MomentumNumpy4D,\n",
    "        MomentumNumpy4D,\n",
    "        MomentumNumpy4D,\n",
    "    ],\n",
    "):\n",
    "    return len(data[0])\n",
    "\n",
    "\n",
    "def concatenate_data(\n",
    "    data1: tuple[MomentumNumpy4D, ...],\n",
    "    data2: tuple[MomentumNumpy4D, ...],\n",
    ") -> tuple[MomentumNumpy4D, ...]:\n",
    "    return tuple(concatenate_vectors((pi1, pj2)) for pi1, pj2 in zip(data1, data2))\n",
    "\n",
    "\n",
    "def concatenate_vectors(vectors: tuple[MomentumNumpy4D]) -> MomentumNumpy4D:\n",
    "    return vector.array({\n",
    "        \"px\": np.concatenate([p.px for p in vectors]),\n",
    "        \"py\": np.concatenate([p.py for p in vectors]),\n",
    "        \"pz\": np.concatenate([p.pz for p in vectors]),\n",
    "        \"E\": np.concatenate([p.e for p in vectors]),\n",
    "    })\n",
    "\n",
    "\n",
    "def remove_overflow_data(\n",
    "    data: tuple[MomentumNumpy4D, ...], size: int\n",
    ") -> tuple[MomentumNumpy4D, ...]:\n",
    "    return tuple(momentum[:size] for momentum in data)"
   ]
  },
  {
   "cell_type": "markdown",
   "metadata": {
    "editable": true,
    "slideshow": {
     "slide_type": ""
    },
    "tags": []
   },
   "source": [
    "A few functions are defined above for generating data sample from filtering phase space samples of particle decays and converting them into four-momentum vectors. The main ideas of them are:\n",
    "\n",
    "- `generate_data()`: The main function used to generate the data \n",
    "    - It simulates events until it gathers a specified number of valid data points that meet the model’s conditions.\n",
    "    - Parameters:\n",
    "        - model: A callable that computes the intensity of events based on given kinematic variables.\n",
    "        - size: The desired number of valid events to generate.\n",
    "        - bunch_size: The number of events to generate per iteration if the initial batch doesn't meet the required size. Defaults to size if not provided.\n",
    "        - seed: Seed for random number generation to ensure reproducibility.\n",
    "    - Process:\n",
    "        - Initialize a random number generator.\n",
    "        - Generate an initial set of phase space data (phase_space) and filter it using the model to obtain valid events (data_sample).\n",
    "        - If the filtered data (data_sample) is less than the desired size, additional data is generated in batches (bunch_size) and filtered until the size requirement is met.\n",
    "        - The function ensures the returned dataset size matches exactly the requested size.\n",
    "     \n",
    "\n",
    "- `_hit_and_miss_filter`: The other important function that filters the generated phase space data\n",
    "    - using the hit-and-miss Monte Carlo method based on the model intensities.\n",
    "    - Parameters:\n",
    "        - model: The model function to calculate intensities.\n",
    "        - phase_space: Tuple containing momentum vectors of particles involved in the event.\n",
    "        - seed: Seed for random number generation.\n",
    "    - Process:\n",
    "        - Calculate invariant masses and other kinematic variables required by the model.\n",
    "        - Call the model with these variables to compute intensities for each event.\n",
    "        - Generate random numbers and select events where the model intensity is greater than a random threshold, simulating a probability proportional to the intensity.\n",
    "     \n",
    "There are other assisted functions that are used in the functions above:\n",
    "\n",
    "    - `get_size_data`:\n",
    "        - Simply returns the number of events in the data, used to check if more data needs to be generated.\n",
    "\n",
    "    - `concatenate_data`:\n",
    "        - Merges two datasets into one, maintaining the structure of tuples of momentum vectors.\n",
    "\n",
    "    - `concatenate_vectors`:\n",
    "        - Helper function to concatenate individual momentum vectors within the data tuples.\n",
    "\n",
    "    - `remove_overflow_data`:\n",
    "        - Trims the dataset to the desired size if it exceeds the specified number due to batch generation."
   ]
  },
  {
   "cell_type": "code",
   "execution_count": null,
   "metadata": {
    "editable": true,
    "slideshow": {
     "slide_type": ""
    },
    "tags": []
   },
   "outputs": [],
   "source": [
    "%%time\n",
    "data = generate_data(BW_SH_model, data_events, seed=0)"
   ]
  },
  {
   "cell_type": "code",
   "execution_count": null,
   "metadata": {
    "editable": true,
    "slideshow": {
     "slide_type": ""
    },
    "tags": []
   },
   "outputs": [],
   "source": [
    "p1_data, p2_data, p3_data, pa_data, pb_data = data"
   ]
  },
  {
   "cell_type": "code",
   "execution_count": null,
   "metadata": {
    "editable": true,
    "slideshow": {
     "slide_type": ""
    },
    "tags": []
   },
   "outputs": [],
   "source": [
    "p12_data = p1_data + p2_data\n",
    "p23_data = p2_data + p3_data\n",
    "p31_data = p3_data + p1_data\n",
    "\n",
    "s12_data = p12_data.m2\n",
    "s23_data = p23_data.m2\n",
    "s31_data = p31_data.m2\n",
    "t1_data = (pa_data - p1_data).m2\n",
    "t2_data = (pa_data - p2_data).m2\n",
    "u3_data = (pb_data - p3_data).m2\n",
    "\n",
    "theta1_CM_data = p1_data.theta\n",
    "theta2_CM_data = p2_data.theta\n",
    "theta3_CM_data = p3_data.theta\n",
    "phi1_CM_data = p1_data.phi\n",
    "phi2_CM_data = p2_data.phi\n",
    "phi3_CM_data = p3_data.phi\n",
    "\n",
    "theta1_data = theta_helicity(p1_data, p12_data)\n",
    "theta2_data = theta_helicity(p2_data, p23_data)\n",
    "theta3_data = theta_helicity(p3_data, p31_data)\n",
    "phi1_data = phi_helicity(p1_data, p12_data)\n",
    "phi2_data = phi_helicity(p2_data, p23_data)\n",
    "phi3_data = phi_helicity(p3_data, p31_data)"
   ]
  },
  {
   "cell_type": "code",
   "execution_count": null,
   "metadata": {
    "editable": true,
    "slideshow": {
     "slide_type": ""
    },
    "tags": [
     "hide-input",
     "full-width"
    ]
   },
   "outputs": [],
   "source": [
    "fig, ax = plt.subplots(figsize=(6, 5))\n",
    "fig.suptitle(\"Dalitz Plot of Generated Data\")\n",
    "hist = ax.hist2d(s12_data, s23_data, bins=100, cmin=1e-6, density=True, cmap=\"jet\")\n",
    "ax.set_xlabel(r\"$m^2_{\\eta \\pi^0}$\")\n",
    "ax.set_ylabel(r\"$m^2_{\\pi^0 p}$\")\n",
    "cbar = fig.colorbar(hist[3], ax=ax)\n",
    "fig.tight_layout()\n",
    "fig.show()"
   ]
  },
  {
   "cell_type": "markdown",
   "metadata": {
    "editable": true,
    "slideshow": {
     "slide_type": ""
    },
    "tags": []
   },
   "source": [
    "(my_section)=\n",
    "## Distribution in weighted phase space (model), phase space, and data "
   ]
  },
  {
   "cell_type": "markdown",
   "metadata": {
    "editable": true,
    "slideshow": {
     "slide_type": ""
    },
    "tags": []
   },
   "source": [
    "The distribution of CM angles, the helicity angles and invariant mass are shown in this section. \n",
    "\n",
    "The angles in phase space, data, and models with good initial guess parameters are all obtained for comparison."
   ]
  },
  {
   "cell_type": "code",
   "execution_count": null,
   "metadata": {
    "editable": true,
    "jupyter": {
     "source_hidden": true
    },
    "slideshow": {
     "slide_type": ""
    },
    "tags": [
     "hide-input",
     "full-width"
    ]
   },
   "outputs": [],
   "source": [
    "thetaCM_subtitles = [\n",
    "    R\"$\\cos (\\theta_{1}^{{CM}}) \\equiv \\cos (\\theta_{\\eta}^{{CM}})$\",\n",
    "    R\"$\\cos (\\theta_{2}^{{CM}}) \\equiv \\cos (\\theta_{\\pi^0}^{{CM}})$\",\n",
    "    R\"$\\cos (\\theta_{3}^{{CM}}) \\equiv \\cos (\\theta_{p}^{{CM}})$\",\n",
    "]\n",
    "phiCM_subtitles = [\n",
    "    R\"$\\phi_1^{CM} \\equiv \\phi_{\\eta}^{CM}$\",\n",
    "    R\"$\\phi_2^{CM} \\equiv \\phi_{\\pi^0}^{CM}$\",\n",
    "    R\"$\\phi_3^{CM} \\equiv \\phi_{p}^{CM}$\",\n",
    "]\n",
    "theta_subtitles = [\n",
    "    R\"$\\cos (\\theta_{1}^{{12}}) \\equiv \\cos (\\theta_{\\eta}^{{\\eta \\pi^0}})$\",\n",
    "    R\"$\\cos (\\theta_{2}^{{23}}) \\equiv \\cos (\\theta_{\\pi^0}^{{\\pi^0 p}})$\",\n",
    "    R\"$\\cos (\\theta_{3}^{{31}}) \\equiv \\cos (\\theta_{p}^{{p \\eta}})$\",\n",
    "]\n",
    "phi_subtitles = [\n",
    "    R\"$\\phi_1^{12} \\equiv \\phi_{\\eta}^{{\\eta \\pi^0}}$\",\n",
    "    R\"$\\phi_2^{23} \\equiv \\phi_{\\pi^0}^{{\\pi^0 p}}$\",\n",
    "    R\"$\\phi_3^{31} \\equiv \\phi_{p}^{{p \\eta}}$\",\n",
    "]\n",
    "mass_subtitles = [\n",
    "    R\"$m_{12} \\equiv m_{\\eta \\pi^0}$\",\n",
    "    R\"$m_{23} \\equiv m_{\\pi^0 p}$\",\n",
    "    R\"$m_{31} \\equiv m_{p \\eta}$\",\n",
    "]\n",
    "\n",
    "fig, (thetaCM_ax, phiCM_ax, theta_ax, phi_ax, mass_ax) = plt.subplots(\n",
    "    figsize=(13, 18), ncols=3, nrows=5\n",
    ")\n",
    "for i, ax1 in enumerate(thetaCM_ax, 1):\n",
    "    ax1.set_title(thetaCM_subtitles[i - 1])\n",
    "    ax1.set_xticks([-1, 0, 1])\n",
    "for i, ax2 in enumerate(phiCM_ax, 1):\n",
    "    ax2.set_title(phiCM_subtitles[i - 1])\n",
    "    ax2.set_xticks([-np.pi, 0, np.pi])\n",
    "    ax2.set_xticklabels([R\"-$\\pi$\", 0, R\"$\\pi$\"])\n",
    "\n",
    "for i, ax3 in enumerate(theta_ax, 1):\n",
    "    ax3.set_title(theta_subtitles[i - 1])\n",
    "    ax3.set_xticks([-1, 0, 1])\n",
    "\n",
    "for i, ax4 in enumerate(phi_ax, 1):\n",
    "    ax4.set_title(phi_subtitles[i - 1])\n",
    "    ax4.set_xticks([-np.pi, 0, np.pi])\n",
    "    ax4.set_xticklabels([R\"-$\\pi$\", 0, R\"$\\pi$\"])\n",
    "\n",
    "for i, ax5 in enumerate(mass_ax, 1):\n",
    "    ax5.set_title(mass_subtitles[i - 1])\n",
    "\n",
    "thetaCM_ax[0].hist(\n",
    "    np.cos(theta1_CM_phsp),\n",
    "    bins=100,\n",
    "    color=\"black\",\n",
    "    histtype=\"step\",\n",
    "    label=\"phsp\",\n",
    "    density=True,\n",
    ")\n",
    "thetaCM_ax[1].hist(\n",
    "    np.cos(theta2_CM_phsp),\n",
    "    bins=100,\n",
    "    color=\"black\",\n",
    "    histtype=\"step\",\n",
    "    label=\"phsp\",\n",
    "    density=True,\n",
    ")\n",
    "thetaCM_ax[2].hist(\n",
    "    np.cos(theta3_CM_phsp),\n",
    "    bins=100,\n",
    "    color=\"black\",\n",
    "    histtype=\"step\",\n",
    "    label=\"phsp\",\n",
    "    density=True,\n",
    ")\n",
    "thetaCM_ax[0].hist(\n",
    "    np.cos(theta1_CM_phsp),\n",
    "    bins=100,\n",
    "    weights=weight_BW,\n",
    "    color=\"orange\",\n",
    "    histtype=\"step\",\n",
    "    label=\"only BW\",\n",
    "    density=True,\n",
    ")\n",
    "thetaCM_ax[1].hist(\n",
    "    np.cos(theta2_CM_phsp),\n",
    "    bins=100,\n",
    "    weights=weight_BW,\n",
    "    color=\"orange\",\n",
    "    histtype=\"step\",\n",
    "    label=\"only BW\",\n",
    "    density=True,\n",
    ")\n",
    "thetaCM_ax[2].hist(\n",
    "    np.cos(theta3_CM_phsp),\n",
    "    bins=100,\n",
    "    weights=weight_BW,\n",
    "    color=\"orange\",\n",
    "    histtype=\"step\",\n",
    "    label=\"only BW\",\n",
    "    density=True,\n",
    ")\n",
    "thetaCM_ax[0].hist(\n",
    "    np.cos(theta1_CM_phsp),\n",
    "    bins=100,\n",
    "    weights=weight_SH,\n",
    "    color=\"green\",\n",
    "    histtype=\"step\",\n",
    "    label=\"only SH\",\n",
    "    density=True,\n",
    ")\n",
    "thetaCM_ax[1].hist(\n",
    "    np.cos(theta2_CM_phsp),\n",
    "    bins=100,\n",
    "    weights=weight_SH,\n",
    "    color=\"green\",\n",
    "    histtype=\"step\",\n",
    "    label=\"only SH\",\n",
    "    density=True,\n",
    ")\n",
    "thetaCM_ax[2].hist(\n",
    "    np.cos(theta3_CM_phsp),\n",
    "    bins=100,\n",
    "    weights=weight_SH,\n",
    "    color=\"green\",\n",
    "    histtype=\"step\",\n",
    "    label=\"only SH\",\n",
    "    density=True,\n",
    ")\n",
    "thetaCM_ax[0].hist(\n",
    "    np.cos(theta1_CM_phsp),\n",
    "    bins=100,\n",
    "    weights=weight_BW_SH,\n",
    "    color=\"red\",\n",
    "    histtype=\"step\",\n",
    "    label=\"BW&SH\",\n",
    "    density=True,\n",
    ")\n",
    "thetaCM_ax[1].hist(\n",
    "    np.cos(theta2_CM_phsp),\n",
    "    bins=100,\n",
    "    weights=weight_BW_SH,\n",
    "    color=\"red\",\n",
    "    histtype=\"step\",\n",
    "    label=\"BW&SH\",\n",
    "    density=True,\n",
    ")\n",
    "thetaCM_ax[2].hist(\n",
    "    np.cos(theta3_CM_phsp),\n",
    "    bins=100,\n",
    "    weights=weight_BW_SH,\n",
    "    color=\"red\",\n",
    "    histtype=\"step\",\n",
    "    label=\"BW&SH\",\n",
    "    density=True,\n",
    ")\n",
    "\n",
    "\n",
    "phiCM_ax[0].hist(\n",
    "    phi1_CM_phsp,\n",
    "    bins=100,\n",
    "    color=\"black\",\n",
    "    histtype=\"step\",\n",
    "    label=\"phsp\",\n",
    "    density=True,\n",
    ")\n",
    "phiCM_ax[1].hist(\n",
    "    phi2_CM_phsp,\n",
    "    bins=100,\n",
    "    color=\"black\",\n",
    "    histtype=\"step\",\n",
    "    label=\"phsp\",\n",
    "    density=True,\n",
    ")\n",
    "phiCM_ax[2].hist(\n",
    "    phi3_CM_phsp,\n",
    "    bins=100,\n",
    "    color=\"black\",\n",
    "    histtype=\"step\",\n",
    "    label=\"phsp\",\n",
    "    density=True,\n",
    ")\n",
    "phiCM_ax[0].hist(\n",
    "    phi1_CM_phsp,\n",
    "    bins=100,\n",
    "    weights=weight_BW,\n",
    "    color=\"orange\",\n",
    "    histtype=\"step\",\n",
    "    label=\"only BW\",\n",
    "    density=True,\n",
    ")\n",
    "phiCM_ax[1].hist(\n",
    "    phi2_CM_phsp,\n",
    "    bins=100,\n",
    "    weights=weight_BW,\n",
    "    color=\"orange\",\n",
    "    histtype=\"step\",\n",
    "    label=\"only BW\",\n",
    "    density=True,\n",
    ")\n",
    "phiCM_ax[2].hist(\n",
    "    phi3_CM_phsp,\n",
    "    bins=100,\n",
    "    weights=weight_BW,\n",
    "    color=\"orange\",\n",
    "    histtype=\"step\",\n",
    "    label=\"only BW\",\n",
    "    density=True,\n",
    ")\n",
    "phiCM_ax[0].hist(\n",
    "    phi1_CM_phsp,\n",
    "    bins=100,\n",
    "    weights=weight_SH,\n",
    "    color=\"green\",\n",
    "    histtype=\"step\",\n",
    "    label=\"only SH\",\n",
    "    density=True,\n",
    ")\n",
    "phiCM_ax[1].hist(\n",
    "    phi2_CM_phsp,\n",
    "    bins=100,\n",
    "    weights=weight_SH,\n",
    "    color=\"green\",\n",
    "    histtype=\"step\",\n",
    "    label=\"only SH\",\n",
    "    density=True,\n",
    ")\n",
    "phiCM_ax[2].hist(\n",
    "    phi3_CM_phsp,\n",
    "    bins=100,\n",
    "    weights=weight_SH,\n",
    "    color=\"green\",\n",
    "    histtype=\"step\",\n",
    "    label=\"only SH\",\n",
    "    density=True,\n",
    ")\n",
    "phiCM_ax[0].hist(\n",
    "    phi1_CM_phsp,\n",
    "    bins=100,\n",
    "    weights=weight_BW_SH,\n",
    "    color=\"red\",\n",
    "    histtype=\"step\",\n",
    "    label=\"BW&SH\",\n",
    "    density=True,\n",
    ")\n",
    "phiCM_ax[1].hist(\n",
    "    phi2_CM_phsp,\n",
    "    bins=100,\n",
    "    weights=weight_BW_SH,\n",
    "    color=\"red\",\n",
    "    histtype=\"step\",\n",
    "    label=\"BW&SH\",\n",
    "    density=True,\n",
    ")\n",
    "phiCM_ax[2].hist(\n",
    "    phi3_CM_phsp,\n",
    "    bins=100,\n",
    "    weights=weight_BW_SH,\n",
    "    color=\"red\",\n",
    "    histtype=\"step\",\n",
    "    label=\"BW&SH\",\n",
    "    density=True,\n",
    ")\n",
    "\n",
    "\n",
    "theta_ax[0].hist(\n",
    "    np.cos(theta1_phsp),\n",
    "    bins=100,\n",
    "    color=\"black\",\n",
    "    histtype=\"step\",\n",
    "    label=\"phsp\",\n",
    "    density=True,\n",
    ")\n",
    "theta_ax[1].hist(\n",
    "    np.cos(theta2_phsp),\n",
    "    bins=100,\n",
    "    color=\"black\",\n",
    "    histtype=\"step\",\n",
    "    label=\"phsp\",\n",
    "    density=True,\n",
    ")\n",
    "theta_ax[2].hist(\n",
    "    np.cos(theta3_phsp),\n",
    "    bins=100,\n",
    "    color=\"black\",\n",
    "    histtype=\"step\",\n",
    "    label=\"phsp\",\n",
    "    density=True,\n",
    ")\n",
    "theta_ax[0].hist(\n",
    "    np.cos(theta1_phsp),\n",
    "    bins=100,\n",
    "    weights=weight_BW,\n",
    "    color=\"orange\",\n",
    "    histtype=\"step\",\n",
    "    label=\"only BW\",\n",
    "    density=True,\n",
    ")\n",
    "theta_ax[1].hist(\n",
    "    np.cos(theta2_phsp),\n",
    "    bins=100,\n",
    "    weights=weight_BW,\n",
    "    color=\"orange\",\n",
    "    histtype=\"step\",\n",
    "    label=\"only BW\",\n",
    "    density=True,\n",
    ")\n",
    "theta_ax[2].hist(\n",
    "    np.cos(theta3_phsp),\n",
    "    bins=100,\n",
    "    weights=weight_BW,\n",
    "    color=\"orange\",\n",
    "    histtype=\"step\",\n",
    "    label=\"only BW\",\n",
    "    density=True,\n",
    ")\n",
    "theta_ax[0].hist(\n",
    "    np.cos(theta1_phsp),\n",
    "    bins=100,\n",
    "    weights=weight_SH,\n",
    "    color=\"green\",\n",
    "    histtype=\"step\",\n",
    "    label=\"only SH\",\n",
    "    density=True,\n",
    ")\n",
    "theta_ax[1].hist(\n",
    "    np.cos(theta2_phsp),\n",
    "    bins=100,\n",
    "    weights=weight_SH,\n",
    "    color=\"green\",\n",
    "    histtype=\"step\",\n",
    "    label=\"only SH\",\n",
    "    density=True,\n",
    ")\n",
    "theta_ax[2].hist(\n",
    "    np.cos(theta3_phsp),\n",
    "    bins=100,\n",
    "    weights=weight_SH,\n",
    "    color=\"green\",\n",
    "    histtype=\"step\",\n",
    "    label=\"only SH\",\n",
    "    density=True,\n",
    ")\n",
    "theta_ax[0].hist(\n",
    "    np.cos(theta1_phsp),\n",
    "    bins=100,\n",
    "    weights=weight_BW_SH,\n",
    "    color=\"red\",\n",
    "    histtype=\"step\",\n",
    "    label=\"BW&SH\",\n",
    "    density=True,\n",
    ")\n",
    "theta_ax[1].hist(\n",
    "    np.cos(theta2_phsp),\n",
    "    bins=100,\n",
    "    weights=weight_BW_SH,\n",
    "    color=\"red\",\n",
    "    histtype=\"step\",\n",
    "    label=\"BW&SH\",\n",
    "    density=True,\n",
    ")\n",
    "theta_ax[2].hist(\n",
    "    np.cos(theta3_phsp),\n",
    "    bins=100,\n",
    "    weights=weight_BW_SH,\n",
    "    color=\"red\",\n",
    "    histtype=\"step\",\n",
    "    label=\"BW&SH\",\n",
    "    density=True,\n",
    ")\n",
    "\n",
    "\n",
    "phi_ax[0].hist(\n",
    "    phi1_phsp,\n",
    "    bins=100,\n",
    "    color=\"black\",\n",
    "    histtype=\"step\",\n",
    "    label=\"phsp\",\n",
    "    density=True,\n",
    ")\n",
    "phi_ax[1].hist(\n",
    "    phi2_phsp,\n",
    "    bins=100,\n",
    "    color=\"black\",\n",
    "    histtype=\"step\",\n",
    "    label=\"phsp\",\n",
    "    density=True,\n",
    ")\n",
    "phi_ax[2].hist(\n",
    "    phi3_phsp,\n",
    "    bins=100,\n",
    "    color=\"black\",\n",
    "    histtype=\"step\",\n",
    "    label=\"phsp\",\n",
    "    density=True,\n",
    ")\n",
    "phi_ax[0].hist(\n",
    "    phi1_phsp,\n",
    "    bins=100,\n",
    "    weights=weight_BW,\n",
    "    color=\"orange\",\n",
    "    histtype=\"step\",\n",
    "    label=\"only BW\",\n",
    "    density=True,\n",
    ")\n",
    "phi_ax[1].hist(\n",
    "    phi2_phsp,\n",
    "    bins=100,\n",
    "    weights=weight_BW,\n",
    "    color=\"orange\",\n",
    "    histtype=\"step\",\n",
    "    label=\"only BW\",\n",
    "    density=True,\n",
    ")\n",
    "phi_ax[2].hist(\n",
    "    phi3_phsp,\n",
    "    bins=100,\n",
    "    weights=weight_BW,\n",
    "    color=\"orange\",\n",
    "    histtype=\"step\",\n",
    "    label=\"only BW\",\n",
    "    density=True,\n",
    ")\n",
    "phi_ax[0].hist(\n",
    "    phi1_phsp,\n",
    "    bins=100,\n",
    "    weights=weight_SH,\n",
    "    color=\"green\",\n",
    "    histtype=\"step\",\n",
    "    label=\"only SH\",\n",
    "    density=True,\n",
    ")\n",
    "phi_ax[1].hist(\n",
    "    phi2_phsp,\n",
    "    bins=100,\n",
    "    weights=weight_SH,\n",
    "    color=\"green\",\n",
    "    histtype=\"step\",\n",
    "    label=\"only SH\",\n",
    "    density=True,\n",
    ")\n",
    "phi_ax[2].hist(\n",
    "    phi3_phsp,\n",
    "    bins=100,\n",
    "    weights=weight_SH,\n",
    "    color=\"green\",\n",
    "    histtype=\"step\",\n",
    "    label=\"only SH\",\n",
    "    density=True,\n",
    ")\n",
    "phi_ax[0].hist(\n",
    "    phi1_phsp,\n",
    "    bins=100,\n",
    "    weights=weight_BW_SH,\n",
    "    color=\"red\",\n",
    "    histtype=\"step\",\n",
    "    label=\"BW&SH\",\n",
    "    density=True,\n",
    ")\n",
    "phi_ax[1].hist(\n",
    "    phi2_phsp,\n",
    "    bins=100,\n",
    "    weights=weight_BW_SH,\n",
    "    color=\"red\",\n",
    "    histtype=\"step\",\n",
    "    label=\"BW&SH\",\n",
    "    density=True,\n",
    ")\n",
    "phi_ax[2].hist(\n",
    "    phi3_phsp,\n",
    "    bins=100,\n",
    "    weights=weight_BW_SH,\n",
    "    color=\"red\",\n",
    "    histtype=\"step\",\n",
    "    label=\"BW&SH\",\n",
    "    density=True,\n",
    ")\n",
    "\n",
    "\n",
    "mass_ax[0].hist(\n",
    "    p12_phsp.m,\n",
    "    bins=100,\n",
    "    color=\"black\",\n",
    "    histtype=\"step\",\n",
    "    label=\"phsp\",\n",
    "    density=True,\n",
    ")\n",
    "mass_ax[1].hist(\n",
    "    p23_phsp.m,\n",
    "    bins=100,\n",
    "    color=\"black\",\n",
    "    histtype=\"step\",\n",
    "    label=\"phsp\",\n",
    "    density=True,\n",
    ")\n",
    "mass_ax[2].hist(\n",
    "    p31_phsp.m,\n",
    "    bins=100,\n",
    "    color=\"black\",\n",
    "    histtype=\"step\",\n",
    "    label=\"phsp\",\n",
    "    density=True,\n",
    ")\n",
    "mass_ax[0].hist(\n",
    "    p12_phsp.m,\n",
    "    bins=100,\n",
    "    weights=weight_BW,\n",
    "    color=\"orange\",\n",
    "    histtype=\"step\",\n",
    "    label=\"only BW\",\n",
    "    density=True,\n",
    ")\n",
    "mass_ax[1].hist(\n",
    "    p23_phsp.m,\n",
    "    bins=100,\n",
    "    weights=weight_BW,\n",
    "    color=\"orange\",\n",
    "    histtype=\"step\",\n",
    "    label=\"only BW\",\n",
    "    density=True,\n",
    ")\n",
    "mass_ax[2].hist(\n",
    "    p31_phsp.m,\n",
    "    bins=100,\n",
    "    weights=weight_BW,\n",
    "    color=\"orange\",\n",
    "    histtype=\"step\",\n",
    "    label=\"only BW\",\n",
    "    density=True,\n",
    ")\n",
    "mass_ax[0].hist(\n",
    "    p12_phsp.m,\n",
    "    bins=100,\n",
    "    weights=weight_SH,\n",
    "    color=\"green\",\n",
    "    histtype=\"step\",\n",
    "    label=\"only SH\",\n",
    "    density=True,\n",
    ")\n",
    "mass_ax[1].hist(\n",
    "    p23_phsp.m,\n",
    "    bins=100,\n",
    "    weights=weight_SH,\n",
    "    color=\"green\",\n",
    "    histtype=\"step\",\n",
    "    label=\"only SH\",\n",
    "    density=True,\n",
    ")\n",
    "mass_ax[2].hist(\n",
    "    p31_phsp.m,\n",
    "    bins=100,\n",
    "    weights=weight_SH,\n",
    "    color=\"green\",\n",
    "    histtype=\"step\",\n",
    "    label=\"only SH\",\n",
    "    density=True,\n",
    ")\n",
    "mass_ax[0].hist(\n",
    "    p12_phsp.m,\n",
    "    bins=100,\n",
    "    weights=weight_BW_SH,\n",
    "    color=\"red\",\n",
    "    histtype=\"step\",\n",
    "    label=\"BW&SH\",\n",
    "    density=True,\n",
    ")\n",
    "mass_ax[1].hist(\n",
    "    p23_phsp.m,\n",
    "    bins=100,\n",
    "    weights=weight_BW_SH,\n",
    "    color=\"red\",\n",
    "    histtype=\"step\",\n",
    "    label=\"BW&SH\",\n",
    "    density=True,\n",
    ")\n",
    "mass_ax[2].hist(\n",
    "    p31_phsp.m,\n",
    "    bins=100,\n",
    "    weights=weight_BW_SH,\n",
    "    color=\"red\",\n",
    "    histtype=\"step\",\n",
    "    label=\"BW&SH\",\n",
    "    density=True,\n",
    ")\n",
    "\n",
    "\n",
    "thetaCM_ax[0].hist(\n",
    "    np.cos(theta1_CM_data),\n",
    "    bins=100,\n",
    "    label=\"data\",\n",
    "    density=True,\n",
    "    alpha=0.5,\n",
    ")\n",
    "thetaCM_ax[1].hist(\n",
    "    np.cos(theta2_CM_data),\n",
    "    bins=100,\n",
    "    label=\"data\",\n",
    "    density=True,\n",
    "    alpha=0.5,\n",
    ")\n",
    "thetaCM_ax[2].hist(\n",
    "    np.cos(theta3_CM_data),\n",
    "    bins=100,\n",
    "    label=\"data\",\n",
    "    density=True,\n",
    "    alpha=0.5,\n",
    ")\n",
    "\n",
    "phiCM_ax[0].hist(\n",
    "    phi1_CM_data,\n",
    "    bins=100,\n",
    "    label=\"data\",\n",
    "    density=True,\n",
    "    alpha=0.5,\n",
    ")\n",
    "phiCM_ax[1].hist(\n",
    "    phi2_CM_data,\n",
    "    bins=100,\n",
    "    label=\"data\",\n",
    "    density=True,\n",
    "    alpha=0.5,\n",
    ")\n",
    "phiCM_ax[2].hist(\n",
    "    phi3_CM_data,\n",
    "    bins=100,\n",
    "    label=\"data\",\n",
    "    density=True,\n",
    "    alpha=0.5,\n",
    ")\n",
    "\n",
    "theta_ax[0].hist(\n",
    "    np.cos(theta1_data),\n",
    "    bins=100,\n",
    "    label=\"data\",\n",
    "    density=True,\n",
    ")\n",
    "theta_ax[1].hist(\n",
    "    np.cos(theta2_data),\n",
    "    bins=100,\n",
    "    label=\"data\",\n",
    "    density=True,\n",
    ")\n",
    "theta_ax[2].hist(\n",
    "    np.cos(theta3_data),\n",
    "    bins=100,\n",
    "    label=\"data\",\n",
    "    density=True,\n",
    ")\n",
    "\n",
    "phi_ax[0].hist(\n",
    "    phi1_data,\n",
    "    bins=100,\n",
    "    label=\"data\",\n",
    "    density=True,\n",
    ")\n",
    "phi_ax[1].hist(\n",
    "    phi2_data,\n",
    "    bins=100,\n",
    "    label=\"data\",\n",
    "    density=True,\n",
    ")\n",
    "phi_ax[2].hist(\n",
    "    phi3_data,\n",
    "    bins=100,\n",
    "    label=\"data\",\n",
    "    density=True,\n",
    ")\n",
    "\n",
    "mass_ax[0].hist(\n",
    "    p12_data.m,\n",
    "    bins=100,\n",
    "    label=\"data\",\n",
    "    density=True,\n",
    ")\n",
    "mass_ax[1].hist(\n",
    "    p23_data.m,\n",
    "    bins=100,\n",
    "    label=\"data\",\n",
    "    density=True,\n",
    ")\n",
    "mass_ax[2].hist(\n",
    "    p31_data.m,\n",
    "    bins=100,\n",
    "    label=\"data\",\n",
    "    density=True,\n",
    ")\n",
    "\n",
    "thetaCM_ax[0].legend()\n",
    "phiCM_ax[0].legend()\n",
    "thetaCM_ax[1].legend()\n",
    "phiCM_ax[1].legend()\n",
    "thetaCM_ax[2].legend()\n",
    "phiCM_ax[2].legend()\n",
    "\n",
    "theta_ax[0].legend()\n",
    "phi_ax[0].legend()\n",
    "theta_ax[1].legend()\n",
    "phi_ax[1].legend()\n",
    "theta_ax[2].legend()\n",
    "phi_ax[2].legend()\n",
    "\n",
    "mass_ax[0].legend()\n",
    "mass_ax[1].legend()\n",
    "mass_ax[2].legend()\n",
    "\n",
    "fig.tight_layout()\n",
    "plt.show()"
   ]
  },
  {
   "cell_type": "markdown",
   "metadata": {
    "editable": true,
    "slideshow": {
     "slide_type": ""
    },
    "tags": []
   },
   "source": [
    "## Fitting "
   ]
  },
  {
   "cell_type": "markdown",
   "metadata": {
    "editable": true,
    "slideshow": {
     "slide_type": ""
    },
    "tags": []
   },
   "source": [
    "The initial guess of parameters before fittings.\n",
    "We make a small offset for some default parameters, in an arbitrary choice of values, which are usually the case as initial guess before fitting.\n",
    "\n",
    "In this particular situation, the parameters (to be fitted) are mass $M$ ($M_{12}$, $M_{23}$, and $M_{31}$) and decay width $\\Gamma$ (($\\Gamma_{12}$, $\\Gamma_{23}$, and $\\Gamma_{31}$)).\n",
    "While the kinematics variables (Mandelstam variable $s$ ($s_{12}$, $s_{23}$, and $s_{31}$) and helicity angles $\\theta$ (($\\theta_{12}$, $\\theta_{23}$, and $\\theta_{31}$)) and $\\phi$ (($\\phi_{12}$, $\\phi_{23}$, and $\\phi_{31}$))) are used from phase space."
   ]
  },
  {
   "cell_type": "markdown",
   "metadata": {
    "editable": true,
    "slideshow": {
     "slide_type": ""
    },
    "tags": []
   },
   "source": [
    "### Starting values for parameters"
   ]
  },
  {
   "cell_type": "markdown",
   "metadata": {},
   "source": [
    "Firstly, have a look at the parameter defaults"
   ]
  },
  {
   "cell_type": "code",
   "execution_count": null,
   "metadata": {},
   "outputs": [],
   "source": [
    "initial_parameters"
   ]
  },
  {
   "cell_type": "markdown",
   "metadata": {},
   "source": [
    "Next, the new starting values of parameter is set by shifting a small value from the parameter defaults "
   ]
  },
  {
   "cell_type": "code",
   "execution_count": null,
   "metadata": {
    "editable": true,
    "slideshow": {
     "slide_type": ""
    },
    "tags": []
   },
   "outputs": [],
   "source": [
    "new_initial_parameters = dict(\n",
    "    M12=1.4,\n",
    "    Gamma12=0.15,\n",
    "    M23=1.59,\n",
    "    Gamma23=0.05,\n",
    "    M31=1.82,\n",
    "    Gamma31=0.2,\n",
    "    # a_minus2 is set to fixed and not go for fitting\n",
    "    a_minus1=0.51,\n",
    "    a_0=3.49,\n",
    "    a_plus1=4.08,\n",
    "    a_plus2=2.6,\n",
    "    b_minus1=-1.2,\n",
    "    b_0=4.04,\n",
    "    b_plus1=0.41,\n",
    "    c_0=2.66,\n",
    ")\n",
    "\n",
    "new_weight_BW_SH = BW_SH_model(\n",
    "    s12_phsp,\n",
    "    s23_phsp,\n",
    "    s31_phsp,\n",
    "    phi1_phsp,\n",
    "    theta1_phsp,\n",
    "    phi2_phsp,\n",
    "    theta2_phsp,\n",
    "    **{\n",
    "        **initial_parameters,\n",
    "        **new_initial_parameters,\n",
    "    },\n",
    ")"
   ]
  },
  {
   "cell_type": "code",
   "execution_count": null,
   "metadata": {
    "editable": true,
    "jupyter": {
     "source_hidden": true
    },
    "slideshow": {
     "slide_type": ""
    },
    "tags": [
     "hide-input",
     "full-width"
    ]
   },
   "outputs": [],
   "source": [
    "fig, (thetaCM_ax, phiCM_ax, theta_ax, phi_ax, mass_ax) = plt.subplots(\n",
    "    figsize=(13, 18), ncols=3, nrows=5\n",
    ")\n",
    "for i, ax1 in enumerate(thetaCM_ax, 1):\n",
    "    ax1.set_title(thetaCM_subtitles[i - 1])\n",
    "    ax1.set_xticks([-1, 0, 1])\n",
    "for i, ax2 in enumerate(phiCM_ax, 1):\n",
    "    ax2.set_title(phiCM_subtitles[i - 1])\n",
    "    ax2.set_xticks([-np.pi, 0, np.pi])\n",
    "    ax2.set_xticklabels([R\"-$\\pi$\", 0, R\"$\\pi$\"])\n",
    "for i, ax in enumerate(theta_ax, 1):\n",
    "    ax.set_title(theta_subtitles[i - 1])\n",
    "    ax.set_xticks([-1, 0, 1])\n",
    "for i, ax in enumerate(phi_ax, 1):\n",
    "    ax.set_title(phi_subtitles[i - 1])\n",
    "    ax.set_xticks([-np.pi, 0, np.pi])\n",
    "    ax.set_xticklabels([R\"-$\\pi$\", 0, R\"$\\pi$\"])\n",
    "for i, ax in enumerate(mass_ax, 1):\n",
    "    ax.set_title(mass_subtitles[i - 1])\n",
    "\n",
    "\n",
    "thetaCM_ax[0].hist(\n",
    "    np.cos(theta1_CM_data),\n",
    "    bins=100,\n",
    "    label=\"data\",\n",
    "    density=True,\n",
    "    alpha=0.5,\n",
    ")\n",
    "thetaCM_ax[1].hist(\n",
    "    np.cos(theta2_CM_data),\n",
    "    bins=100,\n",
    "    label=\"data\",\n",
    "    density=True,\n",
    "    alpha=0.5,\n",
    ")\n",
    "thetaCM_ax[2].hist(\n",
    "    np.cos(theta3_CM_data),\n",
    "    bins=100,\n",
    "    label=\"data\",\n",
    "    density=True,\n",
    "    alpha=0.5,\n",
    ")\n",
    "\n",
    "theta_ax[0].hist(\n",
    "    np.cos(theta1_data),\n",
    "    bins=100,\n",
    "    label=\"data\",\n",
    "    density=True,\n",
    ")\n",
    "theta_ax[1].hist(\n",
    "    np.cos(theta2_data),\n",
    "    bins=100,\n",
    "    label=\"data\",\n",
    "    density=True,\n",
    ")\n",
    "theta_ax[2].hist(\n",
    "    np.cos(theta3_data),\n",
    "    bins=100,\n",
    "    label=\"data\",\n",
    "    density=True,\n",
    ")\n",
    "\n",
    "phiCM_ax[0].hist(\n",
    "    phi1_CM_data,\n",
    "    bins=50,\n",
    "    label=\"data\",\n",
    "    density=True,\n",
    "    alpha=0.5,\n",
    ")\n",
    "phiCM_ax[1].hist(\n",
    "    phi2_CM_data,\n",
    "    bins=50,\n",
    "    label=\"data\",\n",
    "    density=True,\n",
    "    alpha=0.5,\n",
    ")\n",
    "phiCM_ax[2].hist(\n",
    "    phi3_CM_data,\n",
    "    bins=50,\n",
    "    label=\"data\",\n",
    "    density=True,\n",
    "    alpha=0.5,\n",
    ")\n",
    "phi_ax[0].hist(\n",
    "    phi1_data,\n",
    "    bins=50,\n",
    "    label=\"data\",\n",
    "    density=True,\n",
    ")\n",
    "phi_ax[1].hist(\n",
    "    phi2_data,\n",
    "    bins=50,\n",
    "    label=\"data\",\n",
    "    density=True,\n",
    ")\n",
    "phi_ax[2].hist(\n",
    "    phi3_data,\n",
    "    bins=50,\n",
    "    label=\"data\",\n",
    "    density=True,\n",
    ")\n",
    "\n",
    "mass_ax[0].hist(\n",
    "    p12_data.m,\n",
    "    bins=100,\n",
    "    label=\"data\",\n",
    "    density=True,\n",
    ")\n",
    "mass_ax[1].hist(\n",
    "    p23_data.m,\n",
    "    bins=100,\n",
    "    label=\"data\",\n",
    "    density=True,\n",
    ")\n",
    "mass_ax[2].hist(\n",
    "    p31_data.m,\n",
    "    bins=100,\n",
    "    label=\"data\",\n",
    "    density=True,\n",
    ")\n",
    "\n",
    "thetaCM_ax[0].hist(\n",
    "    np.cos(theta1_CM_phsp),\n",
    "    bins=100,\n",
    "    weights=new_weight_BW_SH,\n",
    "    color=\"red\",\n",
    "    histtype=\"step\",\n",
    "    label=\"BW&SH\",\n",
    "    density=True,\n",
    ")\n",
    "thetaCM_ax[1].hist(\n",
    "    np.cos(theta2_CM_phsp),\n",
    "    bins=100,\n",
    "    weights=new_weight_BW_SH,\n",
    "    color=\"red\",\n",
    "    histtype=\"step\",\n",
    "    label=\"BW&SH\",\n",
    "    density=True,\n",
    ")\n",
    "thetaCM_ax[2].hist(\n",
    "    np.cos(theta3_CM_phsp),\n",
    "    bins=100,\n",
    "    weights=new_weight_BW_SH,\n",
    "    color=\"red\",\n",
    "    histtype=\"step\",\n",
    "    label=\"BW&SH\",\n",
    "    density=True,\n",
    ")\n",
    "phiCM_ax[0].hist(\n",
    "    phi1_CM_phsp,\n",
    "    bins=50,\n",
    "    weights=new_weight_BW_SH,\n",
    "    color=\"red\",\n",
    "    histtype=\"step\",\n",
    "    label=\"BW&SH\",\n",
    "    density=True,\n",
    ")\n",
    "phiCM_ax[1].hist(\n",
    "    phi2_CM_phsp,\n",
    "    bins=50,\n",
    "    weights=new_weight_BW_SH,\n",
    "    color=\"red\",\n",
    "    histtype=\"step\",\n",
    "    label=\"BW&SH\",\n",
    "    density=True,\n",
    ")\n",
    "phiCM_ax[2].hist(\n",
    "    phi3_CM_phsp,\n",
    "    bins=50,\n",
    "    weights=new_weight_BW_SH,\n",
    "    color=\"red\",\n",
    "    histtype=\"step\",\n",
    "    label=\"BW&SH\",\n",
    "    density=True,\n",
    ")\n",
    "\n",
    "theta_ax[0].hist(\n",
    "    np.cos(theta1_phsp),\n",
    "    bins=100,\n",
    "    weights=new_weight_BW_SH,\n",
    "    color=\"red\",\n",
    "    histtype=\"step\",\n",
    "    label=\"BW&SH\",\n",
    "    density=True,\n",
    ")\n",
    "theta_ax[1].hist(\n",
    "    np.cos(theta2_phsp),\n",
    "    bins=100,\n",
    "    weights=new_weight_BW_SH,\n",
    "    color=\"red\",\n",
    "    histtype=\"step\",\n",
    "    label=\"BW&SH\",\n",
    "    density=True,\n",
    ")\n",
    "theta_ax[2].hist(\n",
    "    np.cos(theta3_phsp),\n",
    "    bins=100,\n",
    "    weights=new_weight_BW_SH,\n",
    "    color=\"red\",\n",
    "    histtype=\"step\",\n",
    "    label=\"BW&SH\",\n",
    "    density=True,\n",
    ")\n",
    "phi_ax[0].hist(\n",
    "    phi1_phsp,\n",
    "    bins=50,\n",
    "    weights=new_weight_BW_SH,\n",
    "    color=\"red\",\n",
    "    histtype=\"step\",\n",
    "    label=\"BW&SH\",\n",
    "    density=True,\n",
    ")\n",
    "phi_ax[1].hist(\n",
    "    phi2_phsp,\n",
    "    bins=50,\n",
    "    weights=new_weight_BW_SH,\n",
    "    color=\"red\",\n",
    "    histtype=\"step\",\n",
    "    label=\"BW&SH\",\n",
    "    density=True,\n",
    ")\n",
    "phi_ax[2].hist(\n",
    "    phi3_phsp,\n",
    "    bins=50,\n",
    "    weights=new_weight_BW_SH,\n",
    "    color=\"red\",\n",
    "    histtype=\"step\",\n",
    "    label=\"BW&SH\",\n",
    "    density=True,\n",
    ")\n",
    "mass_ax[0].hist(\n",
    "    p12_phsp.m,\n",
    "    bins=100,\n",
    "    weights=new_weight_BW_SH,\n",
    "    color=\"red\",\n",
    "    histtype=\"step\",\n",
    "    label=\"BW&SH\",\n",
    "    density=True,\n",
    ")\n",
    "mass_ax[1].hist(\n",
    "    p23_phsp.m,\n",
    "    bins=100,\n",
    "    weights=new_weight_BW_SH,\n",
    "    color=\"red\",\n",
    "    histtype=\"step\",\n",
    "    label=\"BW&SH\",\n",
    "    density=True,\n",
    ")\n",
    "mass_ax[2].hist(\n",
    "    p31_phsp.m,\n",
    "    bins=100,\n",
    "    weights=new_weight_BW_SH,\n",
    "    color=\"red\",\n",
    "    histtype=\"step\",\n",
    "    label=\"BW&SH\",\n",
    "    density=True,\n",
    ")\n",
    "\n",
    "thetaCM_ax[0].legend()\n",
    "phiCM_ax[0].legend()\n",
    "thetaCM_ax[1].legend()\n",
    "phiCM_ax[1].legend()\n",
    "thetaCM_ax[2].legend()\n",
    "phiCM_ax[2].legend()\n",
    "\n",
    "theta_ax[0].legend()\n",
    "phi_ax[0].legend()\n",
    "theta_ax[1].legend()\n",
    "phi_ax[1].legend()\n",
    "theta_ax[2].legend()\n",
    "phi_ax[2].legend()\n",
    "\n",
    "mass_ax[0].legend()\n",
    "mass_ax[1].legend()\n",
    "mass_ax[2].legend()\n",
    "\n",
    "\n",
    "fig.suptitle(\n",
    "    R\"CM angles, Helicity angles and invariant mass (Before fitting: starting parameters for BW $\\times$ SH model)\",\n",
    "    y=1,\n",
    ")\n",
    "fig.tight_layout()\n",
    "plt.show()"
   ]
  },
  {
   "cell_type": "markdown",
   "metadata": {
    "editable": true,
    "slideshow": {
     "slide_type": ""
    },
    "tags": []
   },
   "source": [
    "### Estimator and unbinned Log likelihood function"
   ]
  },
  {
   "cell_type": "markdown",
   "metadata": {
    "editable": true,
    "slideshow": {
     "slide_type": ""
    },
    "tags": []
   },
   "source": [
    "To perform a fit for parameters estimation by using unbinned log likelihood function:"
   ]
  },
  {
   "cell_type": "code",
   "execution_count": null,
   "metadata": {
    "editable": true,
    "slideshow": {
     "slide_type": ""
    },
    "tags": []
   },
   "outputs": [],
   "source": [
    "def unbinned_nll(\n",
    "    M12,\n",
    "    Gamma12,\n",
    "    M23,\n",
    "    Gamma23,\n",
    "    M31,\n",
    "    Gamma31,\n",
    "    a_minus2,\n",
    "    a_minus1,\n",
    "    a_0,\n",
    "    a_plus1,\n",
    "    a_plus2,\n",
    "    b_minus1,\n",
    "    b_0,\n",
    "    b_plus1,\n",
    "    c_0,\n",
    ") -> float:\n",
    "    phsp = (\n",
    "        s12_phsp,\n",
    "        s23_phsp,\n",
    "        s31_phsp,\n",
    "        phi1_phsp,\n",
    "        theta1_phsp,\n",
    "        phi2_phsp,\n",
    "        theta2_phsp,\n",
    "    )\n",
    "    parameter = dict(\n",
    "        M12=M12,\n",
    "        Gamma12=Gamma12,\n",
    "        M23=M23,\n",
    "        Gamma23=Gamma23,\n",
    "        M31=M31,\n",
    "        Gamma31=Gamma31,\n",
    "        a_minus2=a_minus2,\n",
    "        a_minus1=a_minus1,\n",
    "        a_0=a_0,\n",
    "        a_plus1=a_plus1,\n",
    "        a_plus2=a_plus2,\n",
    "        b_minus1=b_minus1,\n",
    "        b_0=b_0,\n",
    "        b_plus1=b_plus1,\n",
    "        c_0=c_0,\n",
    "    )\n",
    "    data = (\n",
    "        p12_data.m2,\n",
    "        p23_data.m2,\n",
    "        p31_data.m2,\n",
    "        phi1_data,\n",
    "        theta1_data,\n",
    "        phi2_data,\n",
    "        theta2_data,\n",
    "    )\n",
    "    model_integral = BW_SH_model(*phsp, **parameter).mean()\n",
    "    data_intensities = BW_SH_model(*data, **parameter)\n",
    "    likelihoods = data_intensities / model_integral\n",
    "    log_likelihood = np.log(likelihoods).sum()\n",
    "    return -log_likelihood"
   ]
  },
  {
   "cell_type": "markdown",
   "metadata": {
    "editable": true,
    "slideshow": {
     "slide_type": ""
    },
    "tags": []
   },
   "source": [
    ":::{tip}\n",
    "The phase space (phsp) is used for the normalization calculation for the unbinned Log likelihood function\n",
    ":::"
   ]
  },
  {
   "cell_type": "code",
   "execution_count": null,
   "metadata": {
    "editable": true,
    "slideshow": {
     "slide_type": ""
    },
    "tags": []
   },
   "outputs": [],
   "source": [
    "%%time\n",
    "unbinned_nll(\n",
    "    **{\n",
    "        **initial_parameters,\n",
    "        **new_initial_parameters,\n",
    "    },\n",
    ")"
   ]
  },
  {
   "cell_type": "markdown",
   "metadata": {
    "editable": true,
    "slideshow": {
     "slide_type": ""
    },
    "tags": []
   },
   "source": [
    "### Optimizer"
   ]
  },
  {
   "cell_type": "markdown",
   "metadata": {},
   "source": [
    "As a final step in this work, it is necessary to go for finding the parameter values that maximize this function, i.e., performing the optimization. \n",
    "\n",
    "This can be e.g. performed by `iminuit` package in python."
   ]
  },
  {
   "cell_type": "code",
   "execution_count": null,
   "metadata": {
    "editable": true,
    "slideshow": {
     "slide_type": ""
    },
    "tags": []
   },
   "outputs": [],
   "source": [
    "from tqdm.auto import tqdm"
   ]
  },
  {
   "cell_type": "code",
   "execution_count": null,
   "metadata": {
    "editable": true,
    "slideshow": {
     "slide_type": ""
    },
    "tags": []
   },
   "outputs": [],
   "source": [
    "arg_names = tuple(new_initial_parameters)\n",
    "progress_bar = None\n",
    "global_function_calls = 0\n",
    "\n",
    "\n",
    "def wrapped_estimator(*args: float) -> float:\n",
    "    # minuit migrad expects positional-argument functions\n",
    "    global progress_bar, global_function_calls\n",
    "    if progress_bar is None:\n",
    "        progress_bar = tqdm(desc=\"Running fit\")\n",
    "    progress_bar.update()\n",
    "    global_function_calls += 1\n",
    "    new_kwargs = {\n",
    "        **initial_parameters,\n",
    "        **dict(zip(arg_names, args)),\n",
    "    }\n",
    "    return unbinned_nll(**new_kwargs)"
   ]
  },
  {
   "cell_type": "code",
   "execution_count": null,
   "metadata": {
    "editable": true,
    "slideshow": {
     "slide_type": ""
    },
    "tags": []
   },
   "outputs": [],
   "source": [
    "import time\n",
    "\n",
    "from iminuit import Minuit\n",
    "\n",
    "optimizer = Minuit(\n",
    "    wrapped_estimator,\n",
    "    **new_initial_parameters,\n",
    "    name=new_initial_parameters,\n",
    ")\n",
    "optimizer.errordef = Minuit.LIKELIHOOD\n",
    "optimizer"
   ]
  },
  {
   "cell_type": "code",
   "execution_count": null,
   "metadata": {
    "editable": true,
    "slideshow": {
     "slide_type": ""
    },
    "tags": []
   },
   "outputs": [],
   "source": [
    "start_time = time.time()\n",
    "optimizer.migrad()\n",
    "end_time = time.time()\n",
    "progress_bar.close()\n",
    "progress_bar = (\n",
    "    None  # Ensure to clean up by closing and removing the progress bar object\n",
    ")"
   ]
  },
  {
   "cell_type": "code",
   "execution_count": null,
   "metadata": {
    "editable": true,
    "slideshow": {
     "slide_type": ""
    },
    "tags": []
   },
   "outputs": [],
   "source": [
    "duration = end_time - start_time\n",
    "print(\n",
    "    f\"Optimization took {duration:.2f} seconds and {global_function_calls} function (steps/iterations) calls.\"\n",
    ")"
   ]
  },
  {
   "cell_type": "markdown",
   "metadata": {
    "editable": true,
    "slideshow": {
     "slide_type": ""
    },
    "tags": []
   },
   "source": [
    "### Final fit result"
   ]
  },
  {
   "cell_type": "code",
   "execution_count": null,
   "metadata": {
    "editable": true,
    "jupyter": {
     "source_hidden": true
    },
    "slideshow": {
     "slide_type": ""
    },
    "tags": [
     "hide-input"
    ]
   },
   "outputs": [],
   "source": [
    "print(\"The result after optimization:\")\n",
    "optimizer.params"
   ]
  },
  {
   "cell_type": "code",
   "execution_count": null,
   "metadata": {
    "editable": true,
    "jupyter": {
     "source_hidden": true
    },
    "slideshow": {
     "slide_type": ""
    },
    "tags": [
     "scroll-input"
    ]
   },
   "outputs": [],
   "source": [
    "optimized_parameters = {p.name: p.value for p in optimizer.params}\n",
    "rounded_optimized_parameters = {p.name: round(p.value, 3) for p in optimizer.params}\n",
    "\n",
    "parameters_df = pd.DataFrame({\n",
    "    \"Parameter\": list(initial_parameters.keys()),\n",
    "    \"Default Value\": list(initial_parameters.values()),\n",
    "    \"Starting Value\": [new_initial_parameters.get(name) for name in initial_parameters],\n",
    "    \"Optimized Value\": [\n",
    "        rounded_optimized_parameters.get(name) for name in initial_parameters\n",
    "    ],\n",
    "})\n",
    "\n",
    "print(\"Comparison of Default, Starting, and Optimized (Fitted) Parameters:\")\n",
    "parameters_df"
   ]
  },
  {
   "cell_type": "code",
   "execution_count": null,
   "metadata": {
    "editable": true,
    "slideshow": {
     "slide_type": ""
    },
    "tags": []
   },
   "outputs": [],
   "source": [
    "fitted_weight_BW_SH = BW_SH_model(\n",
    "    s12_phsp,\n",
    "    s23_phsp,\n",
    "    s31_phsp,\n",
    "    phi1_phsp,\n",
    "    theta1_phsp,\n",
    "    phi2_phsp,\n",
    "    theta2_phsp,\n",
    "    **{\n",
    "        **initial_parameters,\n",
    "        **optimized_parameters,\n",
    "    },\n",
    ")"
   ]
  },
  {
   "cell_type": "code",
   "execution_count": null,
   "metadata": {
    "editable": true,
    "jupyter": {
     "source_hidden": true
    },
    "slideshow": {
     "slide_type": ""
    },
    "tags": [
     "hide-input"
    ]
   },
   "outputs": [],
   "source": [
    "fig, (thetaCM_ax, phiCM_ax, theta_ax, phi_ax, mass_ax) = plt.subplots(\n",
    "    figsize=(13, 18), ncols=3, nrows=5\n",
    ")\n",
    "for i, ax1 in enumerate(thetaCM_ax, 1):\n",
    "    ax1.set_title(thetaCM_subtitles[i - 1])\n",
    "    ax1.set_xticks([-1, 0, 1])\n",
    "for i, ax2 in enumerate(phiCM_ax, 1):\n",
    "    ax2.set_title(phiCM_subtitles[i - 1])\n",
    "    ax2.set_xticks([-np.pi, 0, np.pi])\n",
    "    ax2.set_xticklabels([R\"-$\\pi$\", 0, R\"$\\pi$\"])\n",
    "for i, ax in enumerate(theta_ax, 1):\n",
    "    ax.set_title(theta_subtitles[i - 1])\n",
    "    ax.set_xticks([-1, 0, 1])\n",
    "for i, ax in enumerate(phi_ax, 1):\n",
    "    ax.set_title(phi_subtitles[i - 1])\n",
    "    ax.set_xticks([-np.pi, 0, np.pi])\n",
    "    ax.set_xticklabels([R\"-$\\pi$\", 0, R\"$\\pi$\"])\n",
    "for i, ax in enumerate(mass_ax, 1):\n",
    "    ax.set_title(mass_subtitles[i - 1])\n",
    "\n",
    "\n",
    "thetaCM_ax[0].hist(\n",
    "    np.cos(theta1_CM_data),\n",
    "    bins=100,\n",
    "    label=\"data\",\n",
    "    density=True,\n",
    "    alpha=0.5,\n",
    ")\n",
    "thetaCM_ax[1].hist(\n",
    "    np.cos(theta2_CM_data),\n",
    "    bins=100,\n",
    "    label=\"data\",\n",
    "    density=True,\n",
    "    alpha=0.5,\n",
    ")\n",
    "thetaCM_ax[2].hist(\n",
    "    np.cos(theta3_CM_data),\n",
    "    bins=100,\n",
    "    label=\"data\",\n",
    "    density=True,\n",
    "    alpha=0.5,\n",
    ")\n",
    "\n",
    "theta_ax[0].hist(\n",
    "    np.cos(theta1_data),\n",
    "    bins=100,\n",
    "    label=\"data\",\n",
    "    density=True,\n",
    ")\n",
    "theta_ax[1].hist(\n",
    "    np.cos(theta2_data),\n",
    "    bins=100,\n",
    "    label=\"data\",\n",
    "    density=True,\n",
    ")\n",
    "theta_ax[2].hist(\n",
    "    np.cos(theta3_data),\n",
    "    bins=100,\n",
    "    label=\"data\",\n",
    "    density=True,\n",
    ")\n",
    "\n",
    "phiCM_ax[0].hist(\n",
    "    phi1_CM_data,\n",
    "    bins=50,\n",
    "    label=\"data\",\n",
    "    density=True,\n",
    "    alpha=0.5,\n",
    ")\n",
    "phiCM_ax[1].hist(\n",
    "    phi2_CM_data,\n",
    "    bins=50,\n",
    "    label=\"data\",\n",
    "    density=True,\n",
    "    alpha=0.5,\n",
    ")\n",
    "phiCM_ax[2].hist(\n",
    "    phi3_CM_data,\n",
    "    bins=50,\n",
    "    label=\"data\",\n",
    "    density=True,\n",
    "    alpha=0.5,\n",
    ")\n",
    "phi_ax[0].hist(\n",
    "    phi1_data,\n",
    "    bins=50,\n",
    "    label=\"data\",\n",
    "    density=True,\n",
    ")\n",
    "phi_ax[1].hist(\n",
    "    phi2_data,\n",
    "    bins=50,\n",
    "    label=\"data\",\n",
    "    density=True,\n",
    ")\n",
    "phi_ax[2].hist(\n",
    "    phi3_data,\n",
    "    bins=50,\n",
    "    label=\"data\",\n",
    "    density=True,\n",
    ")\n",
    "\n",
    "mass_ax[0].hist(\n",
    "    p12_data.m,\n",
    "    bins=100,\n",
    "    label=\"data\",\n",
    "    density=True,\n",
    ")\n",
    "mass_ax[1].hist(\n",
    "    p23_data.m,\n",
    "    bins=100,\n",
    "    label=\"data\",\n",
    "    density=True,\n",
    ")\n",
    "mass_ax[2].hist(\n",
    "    p31_data.m,\n",
    "    bins=100,\n",
    "    label=\"data\",\n",
    "    density=True,\n",
    ")\n",
    "\n",
    "thetaCM_ax[0].hist(\n",
    "    np.cos(theta1_CM_phsp),\n",
    "    bins=100,\n",
    "    weights=fitted_weight_BW_SH,\n",
    "    color=\"red\",\n",
    "    histtype=\"step\",\n",
    "    label=\"BW&SH\",\n",
    "    density=True,\n",
    ")\n",
    "thetaCM_ax[1].hist(\n",
    "    np.cos(theta2_CM_phsp),\n",
    "    bins=100,\n",
    "    weights=fitted_weight_BW_SH,\n",
    "    color=\"red\",\n",
    "    histtype=\"step\",\n",
    "    label=\"BW&SH\",\n",
    "    density=True,\n",
    ")\n",
    "thetaCM_ax[2].hist(\n",
    "    np.cos(theta3_CM_phsp),\n",
    "    bins=100,\n",
    "    weights=fitted_weight_BW_SH,\n",
    "    color=\"red\",\n",
    "    histtype=\"step\",\n",
    "    label=\"BW&SH\",\n",
    "    density=True,\n",
    ")\n",
    "phiCM_ax[0].hist(\n",
    "    phi1_CM_phsp,\n",
    "    bins=50,\n",
    "    weights=fitted_weight_BW_SH,\n",
    "    color=\"red\",\n",
    "    histtype=\"step\",\n",
    "    label=\"BW&SH\",\n",
    "    density=True,\n",
    ")\n",
    "phiCM_ax[1].hist(\n",
    "    phi2_CM_phsp,\n",
    "    bins=50,\n",
    "    weights=fitted_weight_BW_SH,\n",
    "    color=\"red\",\n",
    "    histtype=\"step\",\n",
    "    label=\"BW&SH\",\n",
    "    density=True,\n",
    ")\n",
    "phiCM_ax[2].hist(\n",
    "    phi3_CM_phsp,\n",
    "    bins=50,\n",
    "    weights=fitted_weight_BW_SH,\n",
    "    color=\"red\",\n",
    "    histtype=\"step\",\n",
    "    label=\"BW&SH\",\n",
    "    density=True,\n",
    ")\n",
    "\n",
    "theta_ax[0].hist(\n",
    "    np.cos(theta1_phsp),\n",
    "    bins=100,\n",
    "    weights=fitted_weight_BW_SH,\n",
    "    color=\"red\",\n",
    "    histtype=\"step\",\n",
    "    label=\"BW&SH\",\n",
    "    density=True,\n",
    ")\n",
    "theta_ax[1].hist(\n",
    "    np.cos(theta2_phsp),\n",
    "    bins=100,\n",
    "    weights=fitted_weight_BW_SH,\n",
    "    color=\"red\",\n",
    "    histtype=\"step\",\n",
    "    label=\"BW&SH\",\n",
    "    density=True,\n",
    ")\n",
    "theta_ax[2].hist(\n",
    "    np.cos(theta3_phsp),\n",
    "    bins=100,\n",
    "    weights=fitted_weight_BW_SH,\n",
    "    color=\"red\",\n",
    "    histtype=\"step\",\n",
    "    label=\"BW&SH\",\n",
    "    density=True,\n",
    ")\n",
    "phi_ax[0].hist(\n",
    "    phi1_phsp,\n",
    "    bins=50,\n",
    "    weights=fitted_weight_BW_SH,\n",
    "    color=\"red\",\n",
    "    histtype=\"step\",\n",
    "    label=\"BW&SH\",\n",
    "    density=True,\n",
    ")\n",
    "phi_ax[1].hist(\n",
    "    phi2_phsp,\n",
    "    bins=50,\n",
    "    weights=fitted_weight_BW_SH,\n",
    "    color=\"red\",\n",
    "    histtype=\"step\",\n",
    "    label=\"BW&SH\",\n",
    "    density=True,\n",
    ")\n",
    "phi_ax[2].hist(\n",
    "    phi3_phsp,\n",
    "    bins=50,\n",
    "    weights=fitted_weight_BW_SH,\n",
    "    color=\"red\",\n",
    "    histtype=\"step\",\n",
    "    label=\"BW&SH\",\n",
    "    density=True,\n",
    ")\n",
    "mass_ax[0].hist(\n",
    "    p12_phsp.m,\n",
    "    bins=100,\n",
    "    weights=fitted_weight_BW_SH,\n",
    "    color=\"red\",\n",
    "    histtype=\"step\",\n",
    "    label=\"BW&SH\",\n",
    "    density=True,\n",
    ")\n",
    "mass_ax[1].hist(\n",
    "    p23_phsp.m,\n",
    "    bins=100,\n",
    "    weights=fitted_weight_BW_SH,\n",
    "    color=\"red\",\n",
    "    histtype=\"step\",\n",
    "    label=\"BW&SH\",\n",
    "    density=True,\n",
    ")\n",
    "mass_ax[2].hist(\n",
    "    p31_phsp.m,\n",
    "    bins=100,\n",
    "    weights=fitted_weight_BW_SH,\n",
    "    color=\"red\",\n",
    "    histtype=\"step\",\n",
    "    label=\"BW&SH\",\n",
    "    density=True,\n",
    ")\n",
    "\n",
    "thetaCM_ax[0].legend()\n",
    "phiCM_ax[0].legend()\n",
    "thetaCM_ax[1].legend()\n",
    "phiCM_ax[1].legend()\n",
    "thetaCM_ax[2].legend()\n",
    "phiCM_ax[2].legend()\n",
    "\n",
    "theta_ax[0].legend()\n",
    "phi_ax[0].legend()\n",
    "theta_ax[1].legend()\n",
    "phi_ax[1].legend()\n",
    "theta_ax[2].legend()\n",
    "phi_ax[2].legend()\n",
    "\n",
    "mass_ax[0].legend()\n",
    "mass_ax[1].legend()\n",
    "mass_ax[2].legend()\n",
    "\n",
    "\n",
    "fig.suptitle(\n",
    "    R\"CM angles, Helicity angles and invariant mass (After fitting: updated fitted parameters for BW $\\times$ SH model)\",\n",
    "    y=1,\n",
    ")\n",
    "fig.tight_layout()\n",
    "plt.show()"
   ]
  },
  {
   "cell_type": "markdown",
   "metadata": {
    "editable": true,
    "slideshow": {
     "slide_type": ""
    },
    "tags": []
   },
   "source": [
    "#### Dalitz plots of phsp, data, and fit result"
   ]
  },
  {
   "cell_type": "code",
   "execution_count": null,
   "metadata": {
    "editable": true,
    "jupyter": {
     "source_hidden": true
    },
    "slideshow": {
     "slide_type": ""
    },
    "tags": [
     "full-width",
     "hide-input"
    ]
   },
   "outputs": [],
   "source": [
    "fig, (ax1, ax2) = plt.subplots(figsize=(12, 5), ncols=2, sharey=True)\n",
    "fig.suptitle(R\"Dalitz Plots of Phase space, generated data\")\n",
    "hist2 = ax2.hist2d(s12_data, s23_data, bins=100, cmin=1e-6, density=True, cmap=\"jet\")\n",
    "ax2.set_xlabel(R\"$m^2(\\eta \\pi)$\")\n",
    "ax2.set_title(\"Generated data\")\n",
    "ax2.set_ylabel(R\"$m^2(\\pi p)$\")\n",
    "\n",
    "hist1 = ax1.hist2d(s12_phsp, s23_phsp, bins=100, cmin=1e-2, density=True, cmap=\"jet\")\n",
    "ax1.set_title(\"Phase space\")\n",
    "ax1.set_xlabel(R\"$m^2(\\eta \\pi)$\")\n",
    "ax1.set_ylabel(R\"$m^2(\\pi p)$\")\n",
    "\n",
    "cbar1 = fig.colorbar(hist1[3], ax=ax1)\n",
    "cbar2 = fig.colorbar(hist2[3], ax=ax2)\n",
    "\n",
    "fig.tight_layout()\n",
    "fig.show()"
   ]
  },
  {
   "cell_type": "code",
   "execution_count": null,
   "metadata": {
    "editable": true,
    "jupyter": {
     "source_hidden": true
    },
    "slideshow": {
     "slide_type": ""
    },
    "tags": [
     "hide-input",
     "full-width"
    ]
   },
   "outputs": [],
   "source": [
    "fig, (ax1, ax2) = plt.subplots(figsize=(12, 5), ncols=2, sharey=True)\n",
    "fig.suptitle(R\"Dalitz Plots of parameter defaults and fitted parameters\")\n",
    "\n",
    "hist1 = ax1.hist2d(\n",
    "    s12_phsp,\n",
    "    s23_phsp,\n",
    "    bins=100,\n",
    "    weights=BW_SH_model(\n",
    "        s12_phsp,\n",
    "        s23_phsp,\n",
    "        s31_phsp,\n",
    "        phi1_phsp,\n",
    "        theta1_phsp,\n",
    "        phi2_phsp,\n",
    "        theta2_phsp,\n",
    "        M12=M12,\n",
    "        Gamma12=Gamma12,\n",
    "        M23=M23,\n",
    "        Gamma23=Gamma23,\n",
    "        M31=M31,\n",
    "        Gamma31=Gamma31,\n",
    "        a_minus2=a_minus2,\n",
    "        a_minus1=a_minus1,\n",
    "        a_0=a_0,\n",
    "        a_plus1=a_plus1,\n",
    "        a_plus2=a_plus2,\n",
    "        b_minus1=b_minus1,\n",
    "        b_0=b_0,\n",
    "        b_plus1=b_plus1,\n",
    "        c_0=c_0,\n",
    "    ),\n",
    "    cmin=1e-6,\n",
    "    density=True,\n",
    "    cmap=\"jet\",\n",
    "    vmax=0.15,\n",
    ")\n",
    "ax1.set_title(R\"Parameters defaults BW $\\times$ SH model\")\n",
    "ax1.set_xlabel(R\"$m^2(\\eta \\pi)$\")\n",
    "ax1.set_ylabel(R\"$m^2(\\pi p)$\")\n",
    "\n",
    "hist2 = ax2.hist2d(\n",
    "    s12_phsp,\n",
    "    s23_phsp,\n",
    "    bins=100,\n",
    "    weights=fitted_weight_BW_SH,\n",
    "    cmin=1e-6,\n",
    "    density=True,\n",
    "    cmap=\"jet\",\n",
    "    vmax=0.15,\n",
    ")\n",
    "ax2.set_title(R\"Fitted parameters BW $\\times$ SH model\")\n",
    "ax2.set_xlabel(R\"$m^2(\\eta \\pi)$\")\n",
    "ax2.set_ylabel(R\"$m^2(\\pi p)$\")\n",
    "\n",
    "cbar1 = fig.colorbar(hist1[3], ax=ax1)\n",
    "cbar2 = fig.colorbar(hist2[3], ax=ax2)\n",
    "cbar3 = fig.colorbar(hist3[3], ax=ax3)\n",
    "\n",
    "fig.tight_layout()\n",
    "fig.show()"
   ]
  }
 ],
 "metadata": {
  "colab": {
   "toc_visible": true
  },
  "kernelspec": {
   "display_name": "Python 3 (ipykernel)",
   "language": "python",
   "name": "python3"
  },
  "language_info": {
   "codemirror_mode": {
    "name": "ipython",
    "version": 3
   },
   "file_extension": ".py",
   "mimetype": "text/x-python",
   "name": "python",
   "nbconvert_exporter": "python",
   "pygments_lexer": "ipython3",
   "version": "3.10.13"
  }
 },
 "nbformat": 4,
 "nbformat_minor": 4
}
