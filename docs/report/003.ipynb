{
 "cells": [
  {
   "cell_type": "markdown",
   "metadata": {},
   "source": [
    "# [TR-003] Chew-Mandelstam"
   ]
  },
  {
   "cell_type": "code",
   "execution_count": null,
   "metadata": {
    "jupyter": {
     "source_hidden": true
    },
    "tags": [
     "hide-cell"
    ]
   },
   "outputs": [],
   "source": [
    "%%sh\n",
    "pip install ampform==0.10.1 matplotlib==3.4.2 mpl-interactions==0.17.12 numpy==1.21.0 qrules==0.9.0 sympy==1.8 > /dev/null"
   ]
  },
  {
   "cell_type": "markdown",
   "metadata": {},
   "source": [
    "This report is an attempt to visualize the Chew-Mandelstam function described in {pdg-review}`2020; Resonances; pp.9-10` (Section 49.3.5)."
   ]
  },
  {
   "cell_type": "code",
   "execution_count": null,
   "metadata": {
    "jupyter": {
     "source_hidden": true
    },
    "tags": [
     "hide-cell"
    ]
   },
   "outputs": [],
   "source": [
    "%matplotlib widget\n",
    "import os\n",
    "import warnings\n",
    "\n",
    "import matplotlib.pyplot as plt\n",
    "import mpl_interactions.ipyplot as iplt\n",
    "import numpy as np\n",
    "import qrules\n",
    "import symplot\n",
    "import sympy as sp\n",
    "from ampform.dynamics import (\n",
    "    ComplexSqrt,\n",
    "    breakup_momentum_squared,\n",
    "    phase_space_factor_complex,\n",
    ")\n",
    "from IPython.display import Math\n",
    "\n",
    "warnings.filterwarnings(\"ignore\")\n",
    "STATIC_WEB_PAGE = {\"EXECUTE_NB\", \"READTHEDOCS\"}.intersection(os.environ)\n",
    "PDG = qrules.load_pdg()"
   ]
  },
  {
   "cell_type": "markdown",
   "metadata": {},
   "source": [
    "## S-wave"
   ]
  },
  {
   "cell_type": "markdown",
   "metadata": {},
   "source": [
    "As can be seen in Eq. (49.35), the Chew-Mandelstam function $\\Sigma_a$ for a particle $a$ decaying to particles $1, 2$ has a simple form for angular momentum $L=0$ ($S$-wave). The only question is how to deal with negative values for the squared break-up momentum $q_a^2$. Here, we will use AmpForm's {class}`~ampform.dynamics.math.ComplexSqrt`:"
   ]
  },
  {
   "cell_type": "code",
   "execution_count": null,
   "metadata": {
    "jupyter": {
     "source_hidden": true
    },
    "tags": [
     "hide-input"
    ]
   },
   "outputs": [],
   "source": [
    "q_squared_symbol = sp.Symbol(\"q_a^{2}\", real=True)\n",
    "q_a_expr = ComplexSqrt(q_squared_symbol)\n",
    "Math(f\"q_a = {sp.latex(q_a_expr)} = {sp.latex(q_a_expr.evaluate())}\")"
   ]
  },
  {
   "cell_type": "code",
   "execution_count": null,
   "metadata": {
    "tags": []
   },
   "outputs": [],
   "source": [
    "def breakup_momentum(s, m1, m2):\n",
    "    q_squared = breakup_momentum_squared(s, m1, m2)\n",
    "    return ComplexSqrt(q_squared)"
   ]
  },
  {
   "cell_type": "code",
   "execution_count": null,
   "metadata": {
    "tags": []
   },
   "outputs": [],
   "source": [
    "phsp_scale_factor = 16 * sp.pi ** 2\n",
    "\n",
    "\n",
    "def chew_mandelstam_s_wave(s, m1, m2):\n",
    "    q = breakup_momentum(s, m1, m2)\n",
    "    left_term = sp.Mul(\n",
    "        2 * q / sp.sqrt(s),\n",
    "        sp.log((m1 ** 2 + m2 ** 2 - s + 2 * sp.sqrt(s) * q) / (2 * m1 * m2)),\n",
    "        evaluate=False,\n",
    "    )\n",
    "    right_term = m1 ** 2 - m2 ** 2\n",
    "    right_term *= 1 / s - 1 / (m1 + m2) ** 2\n",
    "    right_term *= sp.log(m1 / m2)\n",
    "    return (left_term - right_term) / phsp_scale_factor"
   ]
  },
  {
   "cell_type": "markdown",
   "metadata": {},
   "source": [
    "To check whether this implementation is correct, let's plug some {class}`~sympy.core.symbol.Symbol`s into this function and compare it to Eq. (49.35) on {pdg-review}`2020; Resonances; p.9`:"
   ]
  },
  {
   "cell_type": "code",
   "execution_count": null,
   "metadata": {},
   "outputs": [],
   "source": [
    "s, m1, m2 = sp.symbols(\"s m1 m2\", real=True)\n",
    "chew_mandelstam_s_wave_expr = chew_mandelstam_s_wave(s, m1, m2)"
   ]
  },
  {
   "cell_type": "code",
   "execution_count": null,
   "metadata": {
    "jupyter": {
     "source_hidden": true
    },
    "tags": [
     "hide-input"
    ]
   },
   "outputs": [],
   "source": [
    "chew_mandelstam_s_wave_symbolic = chew_mandelstam_s_wave_expr.subs(\n",
    "    2 * breakup_momentum(s, m1, m2),\n",
    "    2 * sp.Symbol(\"q_a\"),\n",
    ")\n",
    "chew_mandelstam_s_wave_symbolic *= phsp_scale_factor\n",
    "sp.Mul(1 / phsp_scale_factor, chew_mandelstam_s_wave_symbolic, evaluate=False)"
   ]
  },
  {
   "cell_type": "markdown",
   "metadata": {},
   "source": [
    "It should be noted that this equation is not well-defined along the real axis, that is, for $\\mathrm{Im}(s) = 0$. For this reason, we split $s$ into a real part $s'$ with a small imaginary offset (the PDG indicates this with $s+0i$). We parametrized this imaginary offset with $\\epsilon$, and for the interactive plot, we do so with a power of $10$:"
   ]
  },
  {
   "cell_type": "code",
   "execution_count": null,
   "metadata": {},
   "outputs": [],
   "source": [
    "epsilon = sp.Symbol(\"epsilon\", real=True, positive=True)\n",
    "s_prime = sp.Symbol(R\"s^{\\prime}\", real=True)\n",
    "s_plus = s_prime + sp.I * sp.Pow(10, -epsilon)"
   ]
  },
  {
   "cell_type": "code",
   "execution_count": null,
   "metadata": {
    "jupyter": {
     "source_hidden": true
    },
    "tags": [
     "hide-input"
    ]
   },
   "outputs": [],
   "source": [
    "Math(fR\"{sp.latex(s)} \\to {sp.latex(s_plus)}\")"
   ]
  },
  {
   "cell_type": "markdown",
   "metadata": {},
   "source": [
    "We are now ready to use [`mpl_interactions`](https://mpl-interactions.rtfd.io) and AmpForm's {mod}`symplot` to visualize this function:"
   ]
  },
  {
   "cell_type": "code",
   "execution_count": null,
   "metadata": {
    "tags": []
   },
   "outputs": [],
   "source": [
    "chew_mandelstam_s_wave_prime = chew_mandelstam_s_wave_expr.subs(s, s_plus)\n",
    "np_chew_mandelstam_s_wave, sliders = symplot.prepare_sliders(\n",
    "    expression=chew_mandelstam_s_wave_prime,\n",
    "    plot_symbol=s_prime,\n",
    ")\n",
    "np_phase_space_factor = sp.lambdify(\n",
    "    args=(s_prime, m1, m2, epsilon),\n",
    "    expr=phase_space_factor_complex(s_plus, m1, m2),\n",
    "    modules=\"numpy\",\n",
    ")"
   ]
  },
  {
   "cell_type": "markdown",
   "metadata": {},
   "source": [
    "As starting values for the interactive plot, we assume $\\pi\\eta$ scattering (just like in the PDG section) and use their masses as values for $m_1$ and $m_1$, respectively."
   ]
  },
  {
   "cell_type": "code",
   "execution_count": null,
   "metadata": {},
   "outputs": [],
   "source": [
    "s_min, s_max = -0.15, 1.4\n",
    "m1_val = PDG[\"pi0\"].mass\n",
    "m2_val = PDG[\"eta\"].mass\n",
    "\n",
    "plot_domain = np.linspace(s_min, s_max, 500)\n",
    "sliders.set_ranges(\n",
    "    m1=(0, 2, 200),\n",
    "    m2=(0, 2, 200),\n",
    "    epsilon=(1, 12),\n",
    ")\n",
    "sliders.set_values(\n",
    "    m1=m1_val,\n",
    "    m2=m2_val,\n",
    "    epsilon=4,\n",
    ")"
   ]
  },
  {
   "cell_type": "markdown",
   "metadata": {},
   "source": [
    "For comparison, we plot the Chew-Mandelstam function for $S$-waves next to AmpForm's {func}`~ampform.dynamics.phase_space_factor_complex`. Have a look at the resulting plots and compare to Figure 49.3 on {pdg-review}`2020; Resonances; p.10`."
   ]
  },
  {
   "cell_type": "code",
   "execution_count": null,
   "metadata": {
    "jupyter": {
     "source_hidden": true
    },
    "tags": [
     "remove-output",
     "hide-cell"
    ]
   },
   "outputs": [],
   "source": [
    "fig, axes = plt.subplots(ncols=2, figsize=(11, 4.5), tight_layout=True)\n",
    "ax1, ax2 = axes\n",
    "for ax in axes:\n",
    "    ax.axhline(0, linewidth=0.5, c=\"black\")\n",
    "\n",
    "ylim = (-1, +1)\n",
    "y_factor = 16 * np.pi\n",
    "controls = iplt.axvline(\n",
    "    lambda *args, **kwargs: (kwargs[\"m1\"] + kwargs[\"m2\"]) ** 2,\n",
    "    **sliders,\n",
    "    c=\"grey\",\n",
    "    linewidth=0.5,\n",
    "    label=R\"$s_\\mathrm{thr}$\",\n",
    "    ax=ax1,\n",
    ")\n",
    "iplt.axvline(\n",
    "    lambda *args, **kwargs: (kwargs[\"m1\"] + kwargs[\"m2\"]) ** 2,\n",
    "    controls=controls,\n",
    "    c=\"grey\",\n",
    "    linewidth=0.5,\n",
    "    label=R\"$s_\\mathrm{thr}$\",\n",
    "    ax=ax2,\n",
    ")\n",
    "iplt.plot(\n",
    "    plot_domain,\n",
    "    lambda *args, **kwargs: (\n",
    "        y_factor * 1j * np_phase_space_factor(*args, **kwargs)\n",
    "    ).real,\n",
    "    label=\"Real part\",\n",
    "    controls=controls,\n",
    "    ylim=ylim,\n",
    "    alpha=0.7,\n",
    "    ax=ax1,\n",
    "    c=\"black\",\n",
    "    linestyle=\"dashed\",\n",
    ")\n",
    "iplt.plot(\n",
    "    plot_domain,\n",
    "    lambda *args, **kwargs: (\n",
    "        y_factor * 1j * np_phase_space_factor(*args, **kwargs)\n",
    "    ).imag,\n",
    "    label=\"Imag part\",\n",
    "    controls=controls,\n",
    "    ylim=ylim,\n",
    "    alpha=0.7,\n",
    "    ax=ax1,\n",
    "    c=\"red\",\n",
    ")\n",
    "\n",
    "iplt.plot(\n",
    "    plot_domain,\n",
    "    lambda *args, **kwargs: y_factor\n",
    "    * np_chew_mandelstam_s_wave(*args, **kwargs).real,\n",
    "    label=\"Real part\",\n",
    "    controls=controls,\n",
    "    ylim=ylim,\n",
    "    alpha=0.7,\n",
    "    ax=ax2,\n",
    "    c=\"black\",\n",
    "    linestyle=\"dashed\",\n",
    ")\n",
    "iplt.plot(\n",
    "    plot_domain,\n",
    "    lambda *args, **kwargs: y_factor\n",
    "    * np_chew_mandelstam_s_wave(*args, **kwargs).imag,\n",
    "    label=\"Imag part\",\n",
    "    controls=controls,\n",
    "    ylim=ylim,\n",
    "    alpha=0.7,\n",
    "    ax=ax2,\n",
    "    c=\"red\",\n",
    ")\n",
    "\n",
    "for ax in axes:\n",
    "    ax.legend(loc=\"lower right\")\n",
    "    ax.set_xticks(np.arange(0, 1.21, 0.3))\n",
    "    ax.set_yticks(np.arange(-1, 1.1, 0.5))\n",
    "    ax.set_xlabel(\"$s$ (GeV$^2$)\")\n",
    "\n",
    "ax1.set_ylabel(R\"$16\\pi \\; i\\rho(s)$\")\n",
    "ax2.set_ylabel(R\"$16\\pi \\; \\Sigma(s)$\")\n",
    "ax1.set_title(R\"Complex phase space factor $\\rho$\")\n",
    "ax2.set_title(\"Chew-Mandelstam $S$-wave ($L=0$)\")\n",
    "plt.show()"
   ]
  },
  {
   "cell_type": "code",
   "execution_count": null,
   "metadata": {
    "jupyter": {
     "source_hidden": true
    },
    "tags": [
     "remove-input"
    ]
   },
   "outputs": [],
   "source": [
    "if STATIC_WEB_PAGE:\n",
    "    from IPython.display import SVG\n",
    "\n",
    "    output_file = \"chew-mandelstam-s-wave.svg\"\n",
    "    plt.savefig(output_file)\n",
    "    display(SVG(output_file))"
   ]
  }
 ],
 "metadata": {
  "kernelspec": {
   "display_name": "Python 3",
   "language": "python",
   "name": "python3"
  },
  "language_info": {
   "codemirror_mode": {
    "name": "ipython",
    "version": 3
   },
   "file_extension": ".py",
   "mimetype": "text/x-python",
   "name": "python",
   "nbconvert_exporter": "python",
   "pygments_lexer": "ipython3",
   "version": "3.8.10"
  }
 },
 "nbformat": 4,
 "nbformat_minor": 4
}
