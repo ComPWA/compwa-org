{
 "cells": [
  {
   "cell_type": "markdown",
   "metadata": {
    "tags": []
   },
   "source": [
    "```{autolink-concat}\n",
    "```"
   ]
  },
  {
   "cell_type": "markdown",
   "metadata": {
    "tags": []
   },
   "source": [
    "::::{margin}\n",
    ":::{card} Single-channel amplitude model fit with $P$-vector dynamics\n",
    "TR-030\n",
    "^^^\n",
    "Comparison between fit performance for an amplitude model with Breit–Wigner and $P$-vector dynamics. In both cases, data is generated with $P$-vector dynamics.\n",
    "+++\n",
    "🚧&nbsp;[compwa.github.io#278](https://github.com/ComPWA/compwa.github.io/pull/278)\n",
    ":::\n",
    "::::"
   ]
  },
  {
   "cell_type": "markdown",
   "metadata": {
    "tags": []
   },
   "source": [
    "# P-vector model fit"
   ]
  },
  {
   "cell_type": "code",
   "execution_count": null,
   "metadata": {
    "tags": [
     "remove-cell"
    ]
   },
   "outputs": [],
   "source": [
    "%pip install -q 'qrules[viz]==0.10.2' 'tensorwaves[jax,phsp]==0.4.12' ampform==0.15.4 pandas==2.2.2 sympy==1.12"
   ]
  },
  {
   "cell_type": "code",
   "execution_count": null,
   "metadata": {
    "jupyter": {
     "source_hidden": true
    },
    "tags": [
     "hide-input",
     "scroll-input"
    ]
   },
   "outputs": [],
   "source": [
    "from __future__ import annotations\n",
    "\n",
    "import logging\n",
    "import os\n",
    "import re\n",
    "from collections import defaultdict\n",
    "from typing import Any\n",
    "\n",
    "import ampform\n",
    "import attrs\n",
    "import graphviz\n",
    "import matplotlib.pyplot as plt\n",
    "import numpy as np\n",
    "import pandas as pd\n",
    "import qrules\n",
    "import sympy as sp\n",
    "from ampform.dynamics.builder import TwoBodyKinematicVariableSet\n",
    "from ampform.helicity import ParameterValues\n",
    "from ampform.io import aslatex, improve_latex_rendering\n",
    "from ampform.kinematics.phasespace import Kallen\n",
    "from ampform.sympy import perform_cached_doit, unevaluated\n",
    "from attrs import define, field\n",
    "from IPython.display import Markdown, Math, display\n",
    "from matplotlib import cm\n",
    "from qrules.particle import Particle\n",
    "from sympy import Abs\n",
    "from tensorwaves.data import (\n",
    "    IntensityDistributionGenerator,\n",
    "    SympyDataTransformer,\n",
    "    TFPhaseSpaceGenerator,\n",
    "    TFUniformRealNumberGenerator,\n",
    "    TFWeightedPhaseSpaceGenerator,\n",
    ")\n",
    "from tensorwaves.estimator import UnbinnedNLL\n",
    "from tensorwaves.function.sympy import create_parametrized_function\n",
    "from tensorwaves.interface import DataSample, FitResult, ParametrizedFunction\n",
    "from tensorwaves.optimizer import Minuit2\n",
    "\n",
    "logging.getLogger(\"absl\").setLevel(logging.ERROR)\n",
    "os.environ[\"TF_CPP_MIN_LOG_LEVEL\"] = \"3\"\n",
    "improve_latex_rendering()"
   ]
  },
  {
   "cell_type": "code",
   "execution_count": null,
   "metadata": {
    "tags": [
     "remove-input"
    ]
   },
   "outputs": [],
   "source": [
    "%config InlineBackend.figure_formats = ['svg']"
   ]
  },
  {
   "cell_type": "markdown",
   "metadata": {
    "jp-MarkdownHeadingCollapsed": true,
    "tags": []
   },
   "source": [
    "## Studied decay"
   ]
  },
  {
   "cell_type": "code",
   "execution_count": null,
   "metadata": {
    "tags": []
   },
   "outputs": [],
   "source": [
    "PARTICLE_DB = qrules.load_default_particles()\n",
    "PARTICLE_DB.update(qrules.io.load(\"030/additional-definitions.yml\"))"
   ]
  },
  {
   "cell_type": "code",
   "execution_count": null,
   "metadata": {
    "tags": []
   },
   "outputs": [],
   "source": [
    "reaction = qrules.generate_transitions(\n",
    "    initial_state=\"J/psi(1S)\",\n",
    "    final_state=[\"eta\", \"p\", \"p~\"],\n",
    "    allowed_intermediate_particles=[\n",
    "        \"N**1\",\n",
    "        \"N**3\",\n",
    "        \"N(1650)+\",\n",
    "        \"N(1900)+\",\n",
    "    ],\n",
    "    allowed_interaction_types=[\"strong\"],\n",
    "    formalism=\"helicity\",\n",
    "    particle_db=PARTICLE_DB,\n",
    ")"
   ]
  },
  {
   "cell_type": "code",
   "execution_count": null,
   "metadata": {
    "jupyter": {
     "source_hidden": true
    },
    "tags": [
     "hide-input"
    ]
   },
   "outputs": [],
   "source": [
    "dot = qrules.io.asdot(reaction, collapse_graphs=True)\n",
    "graphviz.Source(dot)"
   ]
  },
  {
   "cell_type": "markdown",
   "metadata": {
    "jp-MarkdownHeadingCollapsed": true,
    "tags": []
   },
   "source": [
    "## Amplitude builder"
   ]
  },
  {
   "cell_type": "code",
   "execution_count": null,
   "metadata": {
    "jupyter": {
     "source_hidden": true
    },
    "tags": [
     "hide-input",
     "scroll-input"
    ]
   },
   "outputs": [],
   "source": [
    "@define\n",
    "class DynamicsSymbolBuilder:\n",
    "    collected_symbols: set[sp.Symbol, tuple[Particle, TwoBodyKinematicVariableSet]] = (\n",
    "        field(factory=lambda: defaultdict(set))\n",
    "    )\n",
    "\n",
    "    def __call__(\n",
    "        self, resonance: Particle, variable_pool: TwoBodyKinematicVariableSet\n",
    "    ) -> tuple[sp.Expr, dict[sp.Symbol, float]]:\n",
    "        jp = render_jp(resonance)\n",
    "        charge = resonance.charge\n",
    "        if variable_pool.angular_momentum is not None:\n",
    "            L = sp.Rational(variable_pool.angular_momentum)\n",
    "            X = sp.Symbol(Rf\"X_{{{jp}, Q={charge:+d}}}^{{l={L}}}\")\n",
    "        else:\n",
    "            X = sp.Symbol(Rf\"X_{{{jp}, Q={charge:+d}}}\")\n",
    "        self.collected_symbols[X].add((resonance, variable_pool))\n",
    "        parameter_defaults = {}\n",
    "        return X, parameter_defaults\n",
    "\n",
    "\n",
    "def render_jp(particle: Particle) -> str:\n",
    "    spin = sp.Rational(particle.spin)\n",
    "    j = (\n",
    "        str(spin)\n",
    "        if spin.denominator == 1\n",
    "        else Rf\"\\frac{{{spin.numerator}}}{{{spin.denominator}}}\"\n",
    "    )\n",
    "    if particle.parity is None:\n",
    "        return f\"J={j}\"\n",
    "    p = \"-\" if particle.parity < 0 else \"+\"\n",
    "    return f\"J^P={{{j}}}^{{{p}}}\""
   ]
  },
  {
   "cell_type": "code",
   "execution_count": null,
   "metadata": {
    "tags": []
   },
   "outputs": [],
   "source": [
    "model_builder = ampform.get_builder(reaction)\n",
    "model_builder.adapter.permutate_registered_topologies()\n",
    "model_builder.config.scalar_initial_state_mass = True\n",
    "model_builder.config.stable_final_state_ids = [0, 1, 2]\n",
    "create_dynamics_symbol = DynamicsSymbolBuilder()\n",
    "for name in reaction.get_intermediate_particles().names:\n",
    "    model_builder.set_dynamics(name, create_dynamics_symbol)\n",
    "model = model_builder.formulate()\n",
    "model.intensity.cleanup()"
   ]
  },
  {
   "cell_type": "code",
   "execution_count": null,
   "metadata": {
    "jupyter": {
     "source_hidden": true
    },
    "tags": [
     "hide-input",
     "full-width"
    ]
   },
   "outputs": [],
   "source": [
    "selected_amplitudes = {\n",
    "    k: v for i, (k, v) in enumerate(model.amplitudes.items()) if i == 0\n",
    "}\n",
    "Math(aslatex(selected_amplitudes, terms_per_line=1))"
   ]
  },
  {
   "cell_type": "code",
   "execution_count": null,
   "metadata": {
    "jupyter": {
     "source_hidden": true
    },
    "tags": [
     "hide-input"
    ]
   },
   "outputs": [],
   "source": [
    "for symbol, resonances in create_dynamics_symbol.collected_symbols.items():\n",
    "    display(symbol)\n",
    "    src = \"| resonance | mass | width |\\n\"\n",
    "    src += \"|:---|---:|--:|\\n\"\n",
    "    for p, _ in resonances:\n",
    "        src += f\"| ${p.latex}$ | {p.mass:g} GeV | {p.width:g} GeV |\\n\"\n",
    "    display(Markdown(src))"
   ]
  },
  {
   "cell_type": "markdown",
   "metadata": {
    "tags": []
   },
   "source": [
    "## Dynamics parametrization"
   ]
  },
  {
   "cell_type": "markdown",
   "metadata": {
    "jp-MarkdownHeadingCollapsed": true,
    "tags": []
   },
   "source": [
    "### Phasespace factor"
   ]
  },
  {
   "cell_type": "code",
   "execution_count": null,
   "metadata": {
    "jupyter": {
     "source_hidden": true
    },
    "tags": [
     "hide-input",
     "scroll-input"
    ]
   },
   "outputs": [],
   "source": [
    "@unevaluated(real=False)\n",
    "class PhaseSpaceCM(sp.Expr):\n",
    "    s: Any\n",
    "    m1: Any\n",
    "    m2: Any\n",
    "    _latex_repr_ = R\"\\rho^\\mathrm{{CM}}_{{{m1},{m2}}}\\left({s}\\right)\"\n",
    "\n",
    "    def evaluate(self) -> sp.Expr:\n",
    "        s, m1, m2 = self.args\n",
    "        return -16 * sp.pi * sp.I * ChewMandelstam(s, m1, m2)\n",
    "\n",
    "\n",
    "@unevaluated(real=False)\n",
    "class ChewMandelstam(sp.Expr):\n",
    "    s: Any\n",
    "    m1: Any\n",
    "    m2: Any\n",
    "    _latex_repr_ = R\"\\Sigma\\left({s}\\right)\"\n",
    "\n",
    "    def evaluate(self) -> sp.Expr:\n",
    "        s, m1, m2 = self.args\n",
    "        q = BreakupMomentum(s, m1, m2)\n",
    "        return (\n",
    "            1\n",
    "            / (16 * sp.pi**2)\n",
    "            * (\n",
    "                (2 * q / sp.sqrt(s))\n",
    "                * sp.log(Abs((m1**2 + m2**2 - s + 2 * sp.sqrt(s) * q) / (2 * m1 * m2)))\n",
    "                - (m1**2 - m2**2) * (1 / s - 1 / (m1 + m2) ** 2) * sp.log(m1 / m2)\n",
    "            )\n",
    "        )\n",
    "\n",
    "\n",
    "@unevaluated(real=False)\n",
    "class BreakupMomentum(sp.Expr):\n",
    "    s: Any\n",
    "    m1: Any\n",
    "    m2: Any\n",
    "    _latex_repr_ = R\"q\\left({s}\\right)\"\n",
    "\n",
    "    def evaluate(self) -> sp.Expr:\n",
    "        s, m1, m2 = self.args\n",
    "        return sp.sqrt(Kallen(s, m1**2, m2**2)) / (2 * sp.sqrt(s))"
   ]
  },
  {
   "cell_type": "code",
   "execution_count": null,
   "metadata": {
    "jupyter": {
     "source_hidden": true
    },
    "tags": [
     "hide-input"
    ]
   },
   "outputs": [],
   "source": [
    "s, m1, m2 = sp.symbols(\"s m1 m2\", nonnegative=True)\n",
    "exprs = [\n",
    "    PhaseSpaceCM(s, m1, m2),\n",
    "    ChewMandelstam(s, m1, m2),\n",
    "    BreakupMomentum(s, m1, m2),\n",
    "]\n",
    "Math(aslatex({e: e.doit(deep=False) for e in exprs}))"
   ]
  },
  {
   "cell_type": "markdown",
   "metadata": {
    "jp-MarkdownHeadingCollapsed": true,
    "tags": []
   },
   "source": [
    "### Relativistic Breit-Wigner"
   ]
  },
  {
   "cell_type": "code",
   "execution_count": null,
   "metadata": {
    "jupyter": {
     "source_hidden": true
    },
    "tags": [
     "hide-input"
    ]
   },
   "outputs": [],
   "source": [
    "@unevaluated(real=False)\n",
    "class ChannelWidth(sp.Expr):\n",
    "    s: Any\n",
    "    m1: Any\n",
    "    m2: Any\n",
    "    width: Any\n",
    "    _latex_repr_ = R\"\\Gamma_s\\left({s}\\right)\"\n",
    "\n",
    "    def evaluate(self) -> sp.Expr:\n",
    "        s, m1, m2, width = self.args\n",
    "        return width * PhaseSpaceCM(s, m1, m2)\n",
    "\n",
    "\n",
    "width = sp.Symbol(\"Gamma0\", nonnegative=True)\n",
    "expr = ChannelWidth(s, m1, m2, width)\n",
    "Math(aslatex({expr: expr.doit(deep=False)}))"
   ]
  },
  {
   "cell_type": "code",
   "execution_count": null,
   "metadata": {
    "tags": []
   },
   "outputs": [],
   "source": [
    "PARAMETERS_BW = dict(model.parameter_defaults)"
   ]
  },
  {
   "cell_type": "code",
   "execution_count": null,
   "metadata": {
    "tags": []
   },
   "outputs": [],
   "source": [
    "def formulate_breit_wigner(\n",
    "    resonances: list[tuple[Particle, TwoBodyKinematicVariableSet]],\n",
    ") -> sp.Expr:\n",
    "    (_, variables), *_ = resonances\n",
    "    s = variables.incoming_state_mass**2\n",
    "    m1 = variables.outgoing_state_mass1\n",
    "    m2 = variables.outgoing_state_mass2\n",
    "    m = [sp.Symbol(Rf\"m_{{{p.latex}}}\") for p, _ in resonances]\n",
    "    Γ0 = [sp.Symbol(Rf\"\\Gamma_{{{p.latex}}}\") for p, _ in resonances]\n",
    "    Γ = [ChannelWidth(s, m1, m2, _w) for _w in Γ0]\n",
    "    β = [sp.Symbol(Rf\"\\beta_{{{p.latex}}}\") for p, _ in resonances]\n",
    "    expr = sum(\n",
    "        (β_ * m_ * Γ_) / (m_**2 - s - m_ * Γ0_) for m_, Γ_, Γ0_, β_ in zip(m, Γ0, Γ, β)\n",
    "    )\n",
    "    for i, (resonance, _) in enumerate(resonances):\n",
    "        PARAMETERS_BW[β[i]] = 1 + 0j\n",
    "        PARAMETERS_BW[m[i]] = resonance.mass\n",
    "        PARAMETERS_BW[Γ0[i]] = resonance.width\n",
    "    return expr"
   ]
  },
  {
   "cell_type": "code",
   "execution_count": null,
   "metadata": {
    "tags": [
     "hide-input"
    ]
   },
   "outputs": [],
   "source": [
    "dynamics_expressions_bw = {\n",
    "    symbol: formulate_breit_wigner(resonances)\n",
    "    for symbol, resonances in create_dynamics_symbol.collected_symbols.items()\n",
    "}\n",
    "model_bw = attrs.evolve(\n",
    "    model,\n",
    "    parameter_defaults=ParameterValues({\n",
    "        **model.parameter_defaults,\n",
    "        **PARAMETERS_BW,\n",
    "    }),\n",
    ")\n",
    "Math(aslatex(dynamics_expressions_bw))"
   ]
  },
  {
   "cell_type": "code",
   "execution_count": null,
   "metadata": {
    "tags": []
   },
   "outputs": [],
   "source": [
    "full_expression_bw = perform_cached_doit(model_bw.expression).xreplace(\n",
    "    dynamics_expressions_bw\n",
    ")\n",
    "sp.count_ops(full_expression_bw)"
   ]
  },
  {
   "cell_type": "markdown",
   "metadata": {
    "jp-MarkdownHeadingCollapsed": true,
    "tags": []
   },
   "source": [
    "### $P$ vector"
   ]
  },
  {
   "cell_type": "code",
   "execution_count": null,
   "metadata": {
    "tags": []
   },
   "outputs": [],
   "source": [
    "PARAMETERS_F = dict(model.parameter_defaults)"
   ]
  },
  {
   "cell_type": "code",
   "execution_count": null,
   "metadata": {
    "tags": []
   },
   "outputs": [],
   "source": [
    "def formulate_k_matrix(\n",
    "    resonances: list[tuple[Particle, TwoBodyKinematicVariableSet]],\n",
    ") -> sp.Expr:\n",
    "    (_, variables), *_ = resonances\n",
    "    s = variables.incoming_state_mass**2\n",
    "    m = [sp.Symbol(Rf\"m_{{{p.latex}}}\") for p, _ in resonances]\n",
    "    g = [sp.Symbol(Rf\"g_{{{p.latex}}}\") for p, _ in resonances]\n",
    "\n",
    "    expr = sum((g_**2) / (m_**2 - s) for m_, g_ in zip(m, g))\n",
    "    for i, (resonance, _) in enumerate(resonances):\n",
    "        PARAMETERS_F[m[i]] = resonance.mass\n",
    "        PARAMETERS_F[g[i]] = 1\n",
    "    return expr"
   ]
  },
  {
   "cell_type": "code",
   "execution_count": null,
   "metadata": {
    "tags": []
   },
   "outputs": [],
   "source": [
    "def formulate_p_vector(\n",
    "    resonances: list[tuple[Particle, TwoBodyKinematicVariableSet]],\n",
    ") -> sp.Expr:\n",
    "    (_, variables), *_ = resonances\n",
    "    s = variables.incoming_state_mass**2\n",
    "    g = [sp.Symbol(Rf\"g_{{{p.latex}}}\") for p, _ in resonances]\n",
    "    m = [sp.Symbol(Rf\"m_{{{p.latex}}}\") for p, _ in resonances]\n",
    "    β = [sp.Symbol(Rf\"\\beta_{{{p.latex}}}\") for p, _ in resonances]\n",
    "    expr = sum((g_ * β_) / (m_**2 - s) for m_, g_, β_ in zip(m, g, β))\n",
    "    for i, (resonance, _) in enumerate(resonances):\n",
    "        PARAMETERS_F[β[i]] = 1 + 0j\n",
    "        PARAMETERS_F[m[i]] = resonance.mass\n",
    "        PARAMETERS_F[g[i]] = 1\n",
    "    return expr"
   ]
  },
  {
   "cell_type": "code",
   "execution_count": null,
   "metadata": {
    "tags": []
   },
   "outputs": [],
   "source": [
    "def formulate_f_vector(\n",
    "    resonances: list[tuple[Particle, TwoBodyKinematicVariableSet]],\n",
    ") -> sp.Expr:\n",
    "    (_, variables), *_ = resonances\n",
    "    s = variables.incoming_state_mass**2\n",
    "    m1 = variables.outgoing_state_mass1\n",
    "    m2 = variables.outgoing_state_mass2\n",
    "    rho = PhaseSpaceCM(s, m1, m2)\n",
    "    K = formulate_k_matrix(resonances)\n",
    "    P = formulate_p_vector(resonances)\n",
    "    return (1 / (1 - rho * K)) * P"
   ]
  },
  {
   "cell_type": "code",
   "execution_count": null,
   "metadata": {
    "tags": [
     "hide-input"
    ]
   },
   "outputs": [],
   "source": [
    "dynamics_expressions_fvector = {\n",
    "    symbol: formulate_f_vector(resonances)\n",
    "    for symbol, resonances in create_dynamics_symbol.collected_symbols.items()\n",
    "}\n",
    "model_fvector = attrs.evolve(\n",
    "    model,\n",
    "    parameter_defaults=ParameterValues({\n",
    "        **model.parameter_defaults,\n",
    "        **PARAMETERS_F,\n",
    "    }),\n",
    ")\n",
    "Math(aslatex(dynamics_expressions_fvector))"
   ]
  },
  {
   "cell_type": "code",
   "execution_count": null,
   "metadata": {
    "tags": []
   },
   "outputs": [],
   "source": [
    "full_expression_fvector = perform_cached_doit(model_fvector.expression).xreplace(\n",
    "    dynamics_expressions_fvector\n",
    ")\n",
    "sp.count_ops(full_expression_fvector)"
   ]
  },
  {
   "cell_type": "markdown",
   "metadata": {
    "jp-MarkdownHeadingCollapsed": true,
    "tags": []
   },
   "source": [
    "### Create numerical functions"
   ]
  },
  {
   "cell_type": "code",
   "execution_count": null,
   "metadata": {
    "tags": []
   },
   "outputs": [],
   "source": [
    "intensity_expr_bw = perform_cached_doit(full_expression_bw)\n",
    "intensity_func_bw = create_parametrized_function(\n",
    "    expression=intensity_expr_bw,\n",
    "    backend=\"jax\",\n",
    "    parameters=PARAMETERS_BW,\n",
    ")"
   ]
  },
  {
   "cell_type": "code",
   "execution_count": null,
   "metadata": {
    "tags": []
   },
   "outputs": [],
   "source": [
    "intensity_expr_fvector = perform_cached_doit(full_expression_fvector)\n",
    "intensity_func_fvector = create_parametrized_function(\n",
    "    expression=intensity_expr_fvector,\n",
    "    backend=\"jax\",\n",
    "    parameters=PARAMETERS_F,\n",
    ")"
   ]
  },
  {
   "cell_type": "markdown",
   "metadata": {
    "tags": []
   },
   "source": [
    "##  Generate data"
   ]
  },
  {
   "cell_type": "markdown",
   "metadata": {
    "jp-MarkdownHeadingCollapsed": true,
    "tags": []
   },
   "source": [
    "### Generate phase space sample"
   ]
  },
  {
   "cell_type": "code",
   "execution_count": null,
   "metadata": {
    "tags": []
   },
   "outputs": [],
   "source": [
    "rng = TFUniformRealNumberGenerator(seed=0)\n",
    "phsp_generator = TFPhaseSpaceGenerator(\n",
    "    initial_state_mass=reaction.initial_state[-1].mass,\n",
    "    final_state_masses={i: p.mass for i, p in reaction.final_state.items()},\n",
    ")\n",
    "phsp_momenta = phsp_generator.generate(100_000, rng)\n",
    "\n",
    "epsilon = 1e-8\n",
    "transformer = SympyDataTransformer.from_sympy(model.kinematic_variables, backend=\"jax\")\n",
    "phsp = transformer(phsp_momenta)\n",
    "phsp = {k: v + epsilon * 1j if re.match(r\"^m_\\d\\d$\", k) else v for k, v in phsp.items()}"
   ]
  },
  {
   "cell_type": "markdown",
   "metadata": {
    "jp-MarkdownHeadingCollapsed": true,
    "tags": []
   },
   "source": [
    "### Update function parameters"
   ]
  },
  {
   "cell_type": "code",
   "execution_count": null,
   "metadata": {
    "tags": []
   },
   "outputs": [],
   "source": [
    "new_parameters_bw = {\n",
    "    R\"\\Gamma_{N(1650)^{+}}\": 1 / 1.65,\n",
    "    R\"\\Gamma_{N(1900)^+}\": 1 / 1.9,\n",
    "    R\"\\Gamma_{N^{**}_1}\": 1 / 1.85,\n",
    "    R\"\\Gamma_{N^{**}_3}\": 1 / 1.75,\n",
    "    R\"m_{N(1650)^{+}}\": 1.65,\n",
    "    R\"m_{N(1900)^+}\": 1.9,\n",
    "    R\"m_{N^{**}_1}\": 1.85,\n",
    "    R\"m_{N^{**}_3}\": 1.75,\n",
    "}\n",
    "intensity_func_bw.update_parameters(new_parameters_bw)"
   ]
  },
  {
   "cell_type": "code",
   "execution_count": null,
   "metadata": {
    "tags": []
   },
   "outputs": [],
   "source": [
    "new_parameters_fvector = {\n",
    "    R\"\\beta_{N(1650)^{+}}\": 1 + 0j,\n",
    "    R\"\\beta_{N(1900)^+}\": 1 + 0j,\n",
    "    R\"\\beta_{N^{**}_1}\": 1 + 0j,\n",
    "    R\"\\beta_{N^{**}_3}\": 1 + 0j,\n",
    "    R\"g_{N(1650)^{+}}\": 1.65,\n",
    "    R\"g_{N(1900)^+}\": 1,\n",
    "    R\"g_{N^{**}_1}\": 1,\n",
    "    R\"g_{N^{**}_3}\": 1,\n",
    "    R\"m_{N(1650)^{+}}\": 1.65,\n",
    "    R\"m_{N(1900)^+}\": 1.9,\n",
    "    R\"m_{N^{**}_1}\": 1.95,\n",
    "    R\"m_{N^{**}_3}\": 1.75,\n",
    "}\n",
    "intensity_func_fvector.update_parameters(new_parameters_fvector)"
   ]
  },
  {
   "cell_type": "markdown",
   "metadata": {
    "tags": []
   },
   "source": [
    "## Plot sub-intensities"
   ]
  },
  {
   "cell_type": "code",
   "execution_count": null,
   "metadata": {
    "jupyter": {
     "source_hidden": true
    },
    "tags": [
     "hide-input",
     "scroll-input"
    ]
   },
   "outputs": [],
   "source": [
    "def compute_sub_intensity(\n",
    "    func: ParametrizedFunction,\n",
    "    input_data: DataSample,\n",
    "    resonances: list[str],\n",
    "    coupling_pattern: str,\n",
    "):\n",
    "    original_parameters = dict(func.parameters)\n",
    "    negative_lookahead = f\"(?!{'|'.join(map(re.escape, resonances))})\"\n",
    "    # https://regex101.com/r/WrgGyD/1\n",
    "    pattern = rf\"^{coupling_pattern}({negative_lookahead}.)*$\"\n",
    "    set_parameters_to_zero(func, pattern)\n",
    "    array = func(input_data)\n",
    "    func.update_parameters(original_parameters)\n",
    "    return array\n",
    "\n",
    "\n",
    "def set_parameters_to_zero(func: ParametrizedFunction, name_pattern: str) -> None:\n",
    "    new_parameters = dict(func.parameters)\n",
    "    for par_name in func.parameters:\n",
    "        if re.match(name_pattern, par_name) is not None:\n",
    "            new_parameters[par_name] = 0\n",
    "    func.update_parameters(new_parameters)"
   ]
  },
  {
   "cell_type": "code",
   "execution_count": null,
   "metadata": {
    "tags": []
   },
   "outputs": [],
   "source": [
    "total_intensities_bw = intensity_func_bw(phsp)\n",
    "sub_intensities_bw = {\n",
    "    p: compute_sub_intensity(\n",
    "        intensity_func_bw,\n",
    "        phsp,\n",
    "        resonances=[p.latex],\n",
    "        coupling_pattern=r\"\\\\beta\",\n",
    "    )\n",
    "    for symbol, resonances in create_dynamics_symbol.collected_symbols.items()\n",
    "    for p, _ in resonances\n",
    "}"
   ]
  },
  {
   "cell_type": "code",
   "execution_count": null,
   "metadata": {
    "tags": []
   },
   "outputs": [],
   "source": [
    "total_intensities_fvector = intensity_func_fvector(phsp)\n",
    "sub_intensities_fvector = {\n",
    "    p: compute_sub_intensity(\n",
    "        intensity_func_fvector,\n",
    "        phsp,\n",
    "        resonances=[p.latex],\n",
    "        coupling_pattern=r\"\\\\beta\",\n",
    "    )\n",
    "    for symbol, resonances in create_dynamics_symbol.collected_symbols.items()\n",
    "    for p, _ in resonances\n",
    "}"
   ]
  },
  {
   "cell_type": "code",
   "execution_count": null,
   "metadata": {
    "jupyter": {
     "source_hidden": true
    },
    "tags": [
     "hide-input",
     "scroll-input"
    ]
   },
   "outputs": [],
   "source": [
    "fig, ax = plt.subplots(figsize=(8, 5))\n",
    "ax.set_xlim(2, 5)\n",
    "ax.set_xlabel(R\"$m_{p\\eta}^{2}$ [GeV$^2$]\")\n",
    "ax.set_ylabel(R\"Intensity [a. u.]\")\n",
    "ax.set_yticks([])\n",
    "\n",
    "bins = 150\n",
    "phsp_projection = np.real(phsp[\"m_01\"]) ** 2\n",
    "ax.hist(\n",
    "    phsp_projection,\n",
    "    weights=total_intensities_fvector,\n",
    "    alpha=0.2,\n",
    "    bins=bins,\n",
    "    color=\"hotpink\",\n",
    "    label=\"Full intensity $F$ vector\",\n",
    ")\n",
    "ax.hist(\n",
    "    phsp_projection,\n",
    "    weights=total_intensities_bw,\n",
    "    alpha=0.2,\n",
    "    bins=bins,\n",
    "    color=\"grey\",\n",
    "    label=\"Full intensity Breit-Wigner\",\n",
    ")\n",
    "ax.hist(\n",
    "    len(sub_intensities_fvector) * [phsp_projection],\n",
    "    weights=list(sub_intensities_fvector.values()),\n",
    "    alpha=0.6,\n",
    "    bins=bins,\n",
    "    histtype=\"step\",\n",
    "    label=[\n",
    "        Rf\"Resonance at ${p.mass}\\,\\mathrm{{GeV}}$ $F$ vector\"\n",
    "        for p in sub_intensities_fvector\n",
    "    ],\n",
    ")\n",
    "\n",
    "ax.hist(\n",
    "    len(sub_intensities_bw) * [phsp_projection],\n",
    "    weights=list(sub_intensities_bw.values()),\n",
    "    alpha=0.6,\n",
    "    bins=bins,\n",
    "    histtype=\"step\",\n",
    "    label=[\n",
    "        Rf\"Resonance at ${p.mass}\\,\\mathrm{{GeV^2}}$ Breit-Wigner\"\n",
    "        for p in sub_intensities_fvector\n",
    "    ],\n",
    "    ls=\"dotted\",\n",
    ")\n",
    "\n",
    "fig.legend(loc=\"upper right\")\n",
    "plt.tight_layout()\n",
    "plt.show()"
   ]
  },
  {
   "cell_type": "markdown",
   "metadata": {
    "tags": []
   },
   "source": [
    "### Dynamics expressions"
   ]
  },
  {
   "cell_type": "code",
   "execution_count": null,
   "metadata": {
    "tags": []
   },
   "outputs": [],
   "source": [
    "dynamics_expr_bw, *_ = dynamics_expressions_bw.values()\n",
    "dynamics_expr_bw"
   ]
  },
  {
   "cell_type": "code",
   "execution_count": null,
   "metadata": {},
   "outputs": [],
   "source": [
    "dynamics_expr_fvector, *_ = dynamics_expressions_fvector.values()\n",
    "dynamics_expr_fvector"
   ]
  },
  {
   "cell_type": "code",
   "execution_count": null,
   "metadata": {},
   "outputs": [],
   "source": [
    "dynamics_func_bw = create_parametrized_function(\n",
    "    expression=dynamics_expr_bw.doit(),\n",
    "    backend=\"jax\",\n",
    "    parameters=model_bw.parameter_defaults,\n",
    "    use_cse=False,\n",
    ")"
   ]
  },
  {
   "cell_type": "code",
   "execution_count": null,
   "metadata": {},
   "outputs": [],
   "source": [
    "dynamics_func_fvector = create_parametrized_function(\n",
    "    expression=dynamics_expr_fvector.doit(),\n",
    "    backend=\"jax\",\n",
    "    parameters=model_fvector.parameter_defaults,\n",
    "    use_cse=False,\n",
    ")"
   ]
  },
  {
   "cell_type": "markdown",
   "metadata": {
    "tags": []
   },
   "source": [
    "### Weighted data with $F$ vector "
   ]
  },
  {
   "cell_type": "code",
   "execution_count": null,
   "metadata": {
    "tags": [
     "hide-input"
    ]
   },
   "outputs": [],
   "source": [
    "fig, ax = plt.subplots(figsize=(6, 5))\n",
    "ax.hist(\n",
    "    phsp[\"m_01\"].real,\n",
    "    bins=100,\n",
    "    weights=np.real(intensity_func_fvector(phsp)),\n",
    ")\n",
    "ax.set_xlabel(R\"$M^2\\left(\\eta p\\right)\\, \\mathrm{[(GeV/c)^2]}$\")\n",
    "ax.set_ylabel(R\"Intensity [a.u.]\")\n",
    "fig.tight_layout()\n",
    "fig.show()"
   ]
  },
  {
   "cell_type": "code",
   "execution_count": null,
   "metadata": {
    "tags": []
   },
   "outputs": [],
   "source": [
    "weighted_phsp_generator = TFWeightedPhaseSpaceGenerator(\n",
    "    initial_state_mass=model.reaction_info.initial_state[-1].mass,\n",
    "    final_state_masses={i: p.mass for i, p in model.reaction_info.final_state.items()},\n",
    ")\n",
    "data_generator = IntensityDistributionGenerator(\n",
    "    domain_generator=weighted_phsp_generator,\n",
    "    function=intensity_func_fvector,\n",
    "    domain_transformer=transformer,\n",
    ")\n",
    "data_momenta = data_generator.generate(50_000, rng)\n",
    "data = transformer(data_momenta)"
   ]
  },
  {
   "cell_type": "code",
   "execution_count": null,
   "metadata": {
    "tags": [
     "hide-input",
     "scroll-input"
    ]
   },
   "outputs": [],
   "source": [
    "resonances = sorted(\n",
    "    model.reaction_info.get_intermediate_particles(),\n",
    "    key=lambda p: p.mass,\n",
    ")\n",
    "evenly_spaced_interval = np.linspace(\n",
    "    0, 1, len(intensity_func_fvector.parameters.items())\n",
    ")\n",
    "colors = [cm.rainbow(x) for x in evenly_spaced_interval]\n",
    "fig, ax = plt.subplots(figsize=(9, 4))\n",
    "ax.hist(\n",
    "    np.real(data[\"m_01\"]),\n",
    "    bins=200,\n",
    "    alpha=0.5,\n",
    "    density=True,\n",
    ")\n",
    "ax.set_xlabel(\"$m$ [GeV]\")\n",
    "for (k, v), color in zip(new_parameters_bw.items(), colors):\n",
    "    if k.startswith(\"m_{\"):\n",
    "        ax.axvline(\n",
    "            x=v,\n",
    "            linestyle=\"dotted\",\n",
    "            label=r\"$\" + k + \"$\",\n",
    "            color=color,\n",
    "        )\n",
    "ax.legend()\n",
    "plt.show()"
   ]
  },
  {
   "cell_type": "markdown",
   "metadata": {
    "tags": []
   },
   "source": [
    "## Perform fit"
   ]
  },
  {
   "cell_type": "markdown",
   "metadata": {
    "tags": []
   },
   "source": [
    "### Estimator definition"
   ]
  },
  {
   "cell_type": "code",
   "execution_count": null,
   "metadata": {
    "tags": []
   },
   "outputs": [],
   "source": [
    "estimator_bw = UnbinnedNLL(\n",
    "    intensity_func_bw,\n",
    "    data=data,\n",
    "    phsp=phsp,\n",
    "    backend=\"jax\",\n",
    ")\n",
    "estimator_fvector = UnbinnedNLL(\n",
    "    intensity_func_fvector,\n",
    "    data=data,\n",
    "    phsp=phsp,\n",
    "    backend=\"jax\",\n",
    ")"
   ]
  },
  {
   "cell_type": "code",
   "execution_count": null,
   "metadata": {
    "jupyter": {
     "source_hidden": true
    },
    "tags": []
   },
   "outputs": [],
   "source": [
    "reaction_info = model.reaction_info\n",
    "resonances = sorted(\n",
    "    reaction_info.get_intermediate_particles(),\n",
    "    key=lambda p: p.mass,\n",
    ")\n",
    "evenly_spaced_interval_F = np.linspace(\n",
    "    0, 1, len(intensity_func_fvector.parameters.items())\n",
    ")\n",
    "colors_F = [cm.rainbow(x) for x in evenly_spaced_interval_F]\n",
    "evenly_spaced_interval_BW = np.linspace(0, 1, len(intensity_func_bw.parameters.items()))\n",
    "colors_BW = [cm.gist_rainbow(x) for x in evenly_spaced_interval_BW]\n",
    "\n",
    "\n",
    "def indicate_masses(ax):\n",
    "    ax.set_xlabel(\"$m$ [GeV]\")\n",
    "    for (k, v), color_F in zip(intensity_func_fvector.parameters.items(), colors_F):\n",
    "        if k.startswith(\"m_{\"):\n",
    "            ax.axvline(\n",
    "                x=v,\n",
    "                linestyle=\"dotted\",\n",
    "                label=r\"$\" + k + \"$\" \"(F vector)\",\n",
    "                color=color_F,\n",
    "            )\n",
    "    for (k, v), color_BW in zip(intensity_func_bw.parameters.items(), colors_BW):\n",
    "        if k.startswith(\"m_{\"):\n",
    "            ax.axvline(\n",
    "                x=v,\n",
    "                linestyle=\"dotted\",\n",
    "                label=r\"$\" + k + \"$\" \"(Breit-Wigner)\",\n",
    "                color=color_BW,\n",
    "            )\n",
    "\n",
    "\n",
    "def compare_model(\n",
    "    variable_name,\n",
    "    data,\n",
    "    phsp,\n",
    "    function1,\n",
    "    function2,\n",
    "    bins=100,\n",
    "):\n",
    "    intensities1 = function1(phsp)\n",
    "    intensities2 = function2(phsp)\n",
    "    _, ax = plt.subplots(figsize=(9, 4))\n",
    "    data_projection = np.real(data[variable_name])\n",
    "    ax = plt.gca()\n",
    "    ax.hist(\n",
    "        data_projection,\n",
    "        bins=bins,\n",
    "        alpha=0.5,\n",
    "        label=\"data\",\n",
    "        density=True,\n",
    "    )\n",
    "    phsp_projection = np.real(phsp[variable_name])\n",
    "    ax.hist(\n",
    "        phsp_projection,\n",
    "        weights=np.array(intensities1),\n",
    "        bins=bins,\n",
    "        histtype=\"step\",\n",
    "        color=\"red\",\n",
    "        label=\"Fit model with K matrix\",\n",
    "        density=True,\n",
    "    )\n",
    "    ax.hist(\n",
    "        phsp_projection,\n",
    "        weights=np.array(intensities2),\n",
    "        bins=bins,\n",
    "        histtype=\"step\",\n",
    "        color=\"blue\",\n",
    "        label=\"Fit model with Breit Wigner\",\n",
    "        density=True,\n",
    "    )\n",
    "    indicate_masses(ax)\n",
    "    ax.legend()"
   ]
  },
  {
   "cell_type": "markdown",
   "metadata": {
    "tags": []
   },
   "source": [
    "### Initial parameters"
   ]
  },
  {
   "cell_type": "code",
   "execution_count": null,
   "metadata": {
    "tags": []
   },
   "outputs": [],
   "source": [
    "initial_parameters_bw = {\n",
    "    R\"m_{N^{**}_1}\": 1.8,\n",
    "    R\"\\Gamma_{N^{**}_1}\": 1 / 1.85,\n",
    "    R\"m_{N(1900)^+}\": 1.93,\n",
    "    R\"\\Gamma_{N(1900)^+}\": 1 / 1.93,\n",
    "    R\"m_{N^{**}_3}\": 1.7,\n",
    "    R\"\\Gamma_{N^{**}_3}\": 1 / 1.65,\n",
    "    R\"m_{N(1650)^{+}}\": 1.6,\n",
    "    R\"\\Gamma_{N(1650)^{+}}\": 1 / 1.6,\n",
    "}\n",
    "initial_parameters_fvector = {\n",
    "    R\"m_{N^{**}_1}\": 1.95,\n",
    "    R\"m_{N^{**}_3}\": 1.7,\n",
    "    R\"m_{N(1650)^{+}}\": 1.67,\n",
    "    R\"m_{N(1900)^+}\": 1.91,\n",
    "    R\"\\beta_{N^{**}_3}\": 1 + 0j,\n",
    "    R\"\\beta_{N(1650)^{+}}\": 1 + 0j,\n",
    "    R\"\\beta_{N(1900)^+}\": 1 + 0j,\n",
    "    R\"g_{N^{**}_1}\": 1.0,\n",
    "    R\"g_{N^{**}_3}\": 1,\n",
    "    R\"g_{N(1650)^{+}}\": 1.6,\n",
    "    R\"g_{N(1900)^+}\": 1.0,\n",
    "}"
   ]
  },
  {
   "cell_type": "code",
   "execution_count": null,
   "metadata": {
    "tags": []
   },
   "outputs": [],
   "source": [
    "original_parameters_bw = dict(intensity_func_bw.parameters)\n",
    "intensity_func_bw.update_parameters(initial_parameters_bw)\n",
    "original_parameters_fvector = dict(intensity_func_fvector.parameters)\n",
    "intensity_func_fvector.update_parameters(initial_parameters_fvector)\n",
    "compare_model(\"m_01\", data, phsp, intensity_func_fvector, intensity_func_bw)"
   ]
  },
  {
   "cell_type": "markdown",
   "metadata": {
    "tags": []
   },
   "source": [
    "### Optimize parameters"
   ]
  },
  {
   "cell_type": "code",
   "execution_count": null,
   "metadata": {
    "tags": []
   },
   "outputs": [],
   "source": [
    "minuit2 = Minuit2()"
   ]
  },
  {
   "cell_type": "code",
   "execution_count": null,
   "metadata": {
    "tags": []
   },
   "outputs": [],
   "source": [
    "fit_result_bw = minuit2.optimize(estimator_bw, initial_parameters_bw)\n",
    "fit_result_bw"
   ]
  },
  {
   "cell_type": "code",
   "execution_count": null,
   "metadata": {
    "tags": []
   },
   "outputs": [],
   "source": [
    "fit_result_fvector = minuit2.optimize(estimator_fvector, initial_parameters_fvector)\n",
    "fit_result_fvector"
   ]
  },
  {
   "cell_type": "code",
   "execution_count": null,
   "metadata": {
    "tags": []
   },
   "outputs": [],
   "source": [
    "intensity_func_fvector.update_parameters(fit_result_fvector.parameter_values)\n",
    "intensity_func_bw.update_parameters(fit_result_bw.parameter_values)\n",
    "compare_model(\"m_01\", data, phsp, intensity_func_fvector, intensity_func_bw)"
   ]
  },
  {
   "cell_type": "markdown",
   "metadata": {
    "tags": []
   },
   "source": [
    "### Fit result comparison"
   ]
  },
  {
   "cell_type": "code",
   "execution_count": null,
   "metadata": {
    "jupyter": {
     "source_hidden": true
    },
    "tags": [
     "hide-input"
    ]
   },
   "outputs": [],
   "source": [
    "def compute_aic_bic(fit_result: FitResult) -> tuple[float, float]:\n",
    "    n_real_par = fit_result.count_number_of_parameters(complex_twice=True)\n",
    "    n_events = len(next(iter(data.values())))\n",
    "    log_likelihood = -fit_result.estimator_value\n",
    "    aic = 2 * n_real_par - 2 * log_likelihood\n",
    "    bic = n_real_par * np.log(n_events) - 2 * log_likelihood\n",
    "    return aic, bic"
   ]
  },
  {
   "cell_type": "code",
   "execution_count": null,
   "metadata": {
    "jupyter": {
     "source_hidden": true
    },
    "tags": [
     "hide-input"
    ]
   },
   "outputs": [],
   "source": [
    "def compare_parameters(original: dict, initial: dict, optimized: dict) -> pd.DataFrame:\n",
    "    parameters = sorted(set(initial) | set(optimized))\n",
    "    df = pd.DataFrame(\n",
    "        {\n",
    "            f\"${p}$\": (\n",
    "                initial.get(p, \"NaN\"),\n",
    "                optimized.get(p, \"NaN\"),\n",
    "                original.get(p, \"NaN\"),\n",
    "            )\n",
    "            for p in parameters\n",
    "        },\n",
    "    ).T\n",
    "    df.columns = (\"initial\", \"fit result\", \"original\")\n",
    "    return df"
   ]
  },
  {
   "cell_type": "code",
   "execution_count": null,
   "metadata": {
    "tags": []
   },
   "outputs": [],
   "source": [
    "compute_aic_bic(fit_result_fvector)"
   ]
  },
  {
   "cell_type": "code",
   "execution_count": null,
   "metadata": {
    "tags": []
   },
   "outputs": [],
   "source": [
    "compare_parameters(\n",
    "    original=original_parameters_fvector,\n",
    "    initial=initial_parameters_fvector,\n",
    "    optimized=fit_result_fvector.parameter_values,\n",
    ")"
   ]
  },
  {
   "cell_type": "code",
   "execution_count": null,
   "metadata": {
    "tags": []
   },
   "outputs": [],
   "source": [
    "compute_aic_bic(fit_result_bw)"
   ]
  },
  {
   "cell_type": "code",
   "execution_count": null,
   "metadata": {
    "tags": []
   },
   "outputs": [],
   "source": [
    "compare_parameters(\n",
    "    original=original_parameters_bw,\n",
    "    initial=initial_parameters_bw,\n",
    "    optimized=fit_result_bw.parameter_values,\n",
    ")"
   ]
  }
 ],
 "metadata": {
  "colab": {
   "toc_visible": true
  },
  "kernelspec": {
   "display_name": "Python 3 (ipykernel)",
   "language": "python",
   "name": "python3"
  },
  "language_info": {
   "codemirror_mode": {
    "name": "ipython",
    "version": 3
   },
   "file_extension": ".py",
   "mimetype": "text/x-python",
   "name": "python",
   "nbconvert_exporter": "python",
   "pygments_lexer": "ipython3",
   "version": "3.10.14"
  }
 },
 "nbformat": 4,
 "nbformat_minor": 4
}
