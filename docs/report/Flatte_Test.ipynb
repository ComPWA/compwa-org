{
 "cells": [
  {
   "cell_type": "code",
   "execution_count": null,
   "metadata": {
    "hideCode": true,
    "hideOutput": true,
    "hidePrompt": true,
    "jupyter": {
     "source_hidden": true
    },
    "slideshow": {
     "slide_type": "skip"
    },
    "tags": [
     "remove-cell"
    ]
   },
   "outputs": [],
   "source": [
    "import os\n",
    "\n",
    "STATIC_WEB_PAGE = {\"EXECUTE_NB\", \"READTHEDOCS\"}.intersection(os.environ)"
   ]
  },
  {
   "cell_type": "markdown",
   "metadata": {},
   "source": [
    "```{autolink-concat}\n",
    "```"
   ]
  },
  {
   "cell_type": "markdown",
   "metadata": {
    "editable": true,
    "slideshow": {
     "slide_type": ""
    },
    "tags": []
   },
   "source": [
    "::::{margin}\n",
    ":::{card} Visualization of the second Riemann sheet with rotated branch cut \n",
    "TR-979\n",
    "^^^\n",
    "To reproduce the Riemann sheets shown in [Fig.&nbsp;50.1](https://pdg.lbl.gov/2023/reviews/rpp2023-rev-resonances.pdf#page=2) and [50.2](https://pdg.lbl.gov/2023/reviews/rpp2023-rev-resonances.pdf#page=4) of the PDG way to get from the first physical sheet to the second unphysical sheet is derived for the Amplitude calculated within the K matrix formalism.   \n",
    ":::\n",
    "::::"
   ]
  },
  {
   "cell_type": "markdown",
   "metadata": {
    "editable": true,
    "slideshow": {
     "slide_type": ""
    },
    "tags": []
   },
   "source": [
    "# Riemann sheets for two channels\n"
   ]
  },
  {
   "cell_type": "code",
   "execution_count": null,
   "metadata": {
    "tags": [
     "remove-cell"
    ]
   },
   "outputs": [],
   "source": [
    "%pip install -q ampform==0.14.8 plotly==5.17.0 sympy==1.12"
   ]
  },
  {
   "cell_type": "code",
   "execution_count": null,
   "metadata": {
    "editable": true,
    "slideshow": {
     "slide_type": ""
    },
    "tags": [
     "hide-cell"
    ]
   },
   "outputs": [],
   "source": [
    "from __future__ import annotations\n",
    "\n",
    "import warnings\n",
    "from typing import Any\n",
    "\n",
    "import matplotlib.pyplot as plt\n",
    "import numpy as np\n",
    "import sympy as sp\n",
    "from ampform.io import aslatex\n",
    "from ampform.sympy import unevaluated\n",
    "from IPython.display import Math\n",
    "from matplotlib.backends.backend_pdf import PdfPages\n",
    "\n",
    "warnings.filterwarnings(\"ignore\")"
   ]
  },
  {
   "cell_type": "code",
   "execution_count": null,
   "metadata": {},
   "outputs": [],
   "source": [
    "@unevaluated(real=False)\n",
    "class PhaseSpaceFactor(sp.Expr):\n",
    "    s: Any\n",
    "    m1: Any\n",
    "    m2: Any\n",
    "    _latex_repr_ = R\"\\rho_{{{m1}, {m2}}}\\left({s}\\right)\"\n",
    "\n",
    "    def evaluate(self) -> sp.Expr:\n",
    "        s, m1, m2 = self.args\n",
    "        return sp.sqrt((s - ((m1 + m2) ** 2)) * (s - (m1 - m2) ** 2) / s**2)\n",
    "\n",
    "\n",
    "s, m1, m2 = sp.symbols(\"s m1 m2\")\n",
    "rho_expr = PhaseSpaceFactor(s, m1, m2)\n",
    "Math(aslatex({rho_expr: rho_expr.doit(deep=False)}))"
   ]
  },
  {
   "cell_type": "code",
   "execution_count": null,
   "metadata": {
    "editable": true,
    "slideshow": {
     "slide_type": ""
    },
    "tags": [
     "hide-input"
    ]
   },
   "outputs": [],
   "source": [
    "from ampform.kinematics.phasespace import Kallen\n",
    "\n",
    "\n",
    "@unevaluated(real=False)\n",
    "class PhaseSpaceFactor_Kaellen(sp.Expr):\n",
    "    s: Any\n",
    "    m1: Any\n",
    "    m2: Any\n",
    "    _latex_repr_ = R\"\\rho_{{{m1}, {m2}}}\\left({s}\\right)\"\n",
    "\n",
    "    def evaluate(self) -> sp.Expr:\n",
    "        s, m1, m2 = self.args\n",
    "        return 2 * BreakupMomentum(s, m1, m2) / sp.sqrt(s)\n",
    "\n",
    "\n",
    "@unevaluated(real=False)\n",
    "class PhaseSpaceCM(sp.Expr):\n",
    "    s: Any\n",
    "    m1: Any\n",
    "    m2: Any\n",
    "    _latex_repr_ = R\"\\rho^\\mathrm{{CM}}_{{{m1},{m2}}}\\left({s}\\right)\"\n",
    "\n",
    "    def evaluate(self) -> sp.Expr:\n",
    "        s, m1, m2 = self.args\n",
    "        return -(16 * sp.pi) * sp.I * ChewMandelstam(s, m1, m2)\n",
    "\n",
    "\n",
    "@unevaluated(real=False)\n",
    "class ChewMandelstam(sp.Expr):\n",
    "    s: Any\n",
    "    m1: Any\n",
    "    m2: Any\n",
    "    _latex_repr_ = R\"\\Sigma\\left({s}\\right)\"\n",
    "\n",
    "    def evaluate(self) -> sp.Expr:\n",
    "        s, m1, m2 = self.args\n",
    "        q = BreakupMomentum(s, m1, m2)\n",
    "        return (\n",
    "            1\n",
    "            / (16 * sp.pi**2)\n",
    "            * (\n",
    "                (2 * q / sp.sqrt(s))\n",
    "                * sp.log((m1**2 + m2**2 - s + 2 * sp.sqrt(s) * q) / (2 * m1 * m2))\n",
    "                - (m1**2 - m2**2) * (1 / s - 1 / (m1 + m2) ** 2) * sp.log(m1 / m2)\n",
    "            )\n",
    "        )\n",
    "\n",
    "\n",
    "@unevaluated(real=False)\n",
    "class BreakupMomentum(sp.Expr):\n",
    "    s: Any\n",
    "    m1: Any\n",
    "    m2: Any\n",
    "    _latex_repr_ = R\"q\\left({s}\\right)\"\n",
    "\n",
    "    def evaluate(self) -> sp.Expr:\n",
    "        s, m1, m2 = self.args\n",
    "        return sp.sqrt(Kallen(s, m1**2, m2**2)) / (2 * sp.sqrt(s))\n",
    "\n",
    "\n",
    "s, m1, m2 = sp.symbols(\"s m1 m2\")\n",
    "rho_expr_Kaellen = PhaseSpaceFactor_Kaellen(s, m1, m2)\n",
    "rho_cm_expr = PhaseSpaceCM(s, m1, m2)\n",
    "cm_expr = ChewMandelstam(s, m1, m2)\n",
    "q_expr = BreakupMomentum(s, m1, m2)\n",
    "kallen = Kallen(*sp.symbols(\"x:z\"))\n",
    "Math(\n",
    "    aslatex({\n",
    "        e: e.doit(deep=False)\n",
    "        for e in [rho_expr_Kaellen, rho_cm_expr, cm_expr, q_expr, kallen]\n",
    "    })\n",
    ")"
   ]
  },
  {
   "cell_type": "markdown",
   "metadata": {
    "editable": true,
    "slideshow": {
     "slide_type": ""
    },
    "tags": []
   },
   "source": [
    "# T matrix definition with K matrix - 2 channel case "
   ]
  },
  {
   "cell_type": "markdown",
   "metadata": {},
   "source": [
    "## First Riemann sheet "
   ]
  },
  {
   "cell_type": "code",
   "execution_count": null,
   "metadata": {},
   "outputs": [],
   "source": [
    "class DiagonalMatrix(sp.DiagonalMatrix):\n",
    "    def _latex(self, printer, *args):\n",
    "        return R\"\\rho\""
   ]
  },
  {
   "cell_type": "code",
   "execution_count": null,
   "metadata": {
    "editable": true,
    "slideshow": {
     "slide_type": ""
    },
    "tags": []
   },
   "outputs": [],
   "source": [
    "class DiagonalMatrix(sp.DiagonalMatrix):\n",
    "    def _latex(self, printer, *args):\n",
    "        return \"\\rho\"\n",
    "\n",
    "\n",
    "n_channels = 2\n",
    "I = sp.Identity(n_channels)\n",
    "K = sp.MatrixSymbol(\"K\", n_channels, n_channels)\n",
    "\n",
    "CM_symbol = sp.MatrixSymbol(R\"{\\rho_{\\Sigma}}\", n_channels, n_channels)\n",
    "CM = sp.DiagonalMatrix(CM_symbol)\n",
    "CM.as_explicit()"
   ]
  },
  {
   "cell_type": "code",
   "execution_count": null,
   "metadata": {},
   "outputs": [],
   "source": [
    "T_I = (I - K * CM).inv() * K\n",
    "T_I"
   ]
  },
  {
   "cell_type": "code",
   "execution_count": null,
   "metadata": {
    "editable": true,
    "slideshow": {
     "slide_type": ""
    },
    "tags": []
   },
   "outputs": [],
   "source": [
    "T_I_explicit = T_I.as_explicit()\n",
    "T_I_explicit[0, 0]"
   ]
  },
  {
   "cell_type": "code",
   "execution_count": null,
   "metadata": {},
   "outputs": [],
   "source": [
    "CM_I_explicit = CM.as_explicit()"
   ]
  },
  {
   "cell_type": "code",
   "execution_count": null,
   "metadata": {
    "editable": true,
    "slideshow": {
     "slide_type": ""
    },
    "tags": []
   },
   "outputs": [],
   "source": [
    "s = sp.Symbol(\"s\")\n",
    "ma1 = sp.Symbol(\"m_{a1}\")\n",
    "mb1 = sp.Symbol(\"m_{b1}\")\n",
    "ma2 = sp.Symbol(\"m_{a2}\")\n",
    "mb2 = sp.Symbol(\"m_{b2}\")\n",
    "m0 = sp.Symbol(\"m0\")\n",
    "w0 = sp.Symbol(\"Gamma0\")\n",
    "gamma1 = sp.Symbol(\"gamma1\")\n",
    "gamma2 = sp.Symbol(\"gamma2\")\n",
    "phi_rot = sp.Symbol(\"phi\")\n",
    "wp = sp.Symbol(\"wp\")\n",
    "symbols = sp.Tuple(s, ma1, mb1, ma2, mb2, m0, w0, gamma1, gamma2)\n",
    "symbols_bw = sp.Tuple(s, m0, wp)\n",
    "symbols_rot = sp.Tuple(s, ma1, mb1, ma2, mb2, m0, w0, gamma1, gamma2, phi_rot)\n",
    "k_expr_00 = (gamma1 * gamma1 * m0 * w0) / (m0**2 - s)\n",
    "k_expr_10 = (gamma1 * gamma2 * m0 * w0) / (m0**2 - s)\n",
    "k_expr_11 = (gamma2 * gamma2 * m0 * w0) / (m0**2 - s)\n",
    "Bw_expr = (gamma2 * gamma2 * m0 * w0) / (m0**2 - s)"
   ]
  },
  {
   "cell_type": "code",
   "execution_count": null,
   "metadata": {},
   "outputs": [],
   "source": [
    "cm_expressions = {\n",
    "    K[0, 0]: k_expr_00,\n",
    "    K[1, 1]: k_expr_11,\n",
    "    K[0, 1]: k_expr_10,\n",
    "    K[1, 0]: k_expr_10,\n",
    "    CM[0, 0]: PhaseSpaceCM(s, ma1, mb1),\n",
    "    CM[1, 1]: PhaseSpaceCM(s, ma2, mb2),\n",
    "}"
   ]
  },
  {
   "cell_type": "code",
   "execution_count": null,
   "metadata": {
    "editable": true,
    "slideshow": {
     "slide_type": ""
    },
    "tags": [
     "hide-input"
    ]
   },
   "outputs": [],
   "source": [
    "T_I_cm_expr_00 = T_I_explicit[0, 0].xreplace(cm_expressions)\n",
    "T_I_cm_expr_11 = T_I_explicit[1, 1].xreplace(cm_expressions)\n",
    "CM_I_expr_00 = CM_I_explicit[0, 0].xreplace(cm_expressions)"
   ]
  },
  {
   "cell_type": "code",
   "execution_count": null,
   "metadata": {
    "editable": true,
    "slideshow": {
     "slide_type": ""
    },
    "tags": []
   },
   "outputs": [],
   "source": [
    "T_I_cm_expr_00.simplify(doit=False)"
   ]
  },
  {
   "cell_type": "code",
   "execution_count": null,
   "metadata": {},
   "outputs": [],
   "source": [
    "T_I_cm_expr_11.simplify(doit=False)"
   ]
  },
  {
   "cell_type": "code",
   "execution_count": null,
   "metadata": {},
   "outputs": [],
   "source": [
    "CM_I_expr_00.simplify(doit=False)"
   ]
  },
  {
   "cell_type": "code",
   "execution_count": null,
   "metadata": {},
   "outputs": [],
   "source": [
    "bw_expr = np.pi * wp * m0 / (m0**2 - s - wp * m0 * sp.I)"
   ]
  },
  {
   "cell_type": "code",
   "execution_count": null,
   "metadata": {},
   "outputs": [],
   "source": [
    "T_I_func = sp.lambdify(symbols, T_I_cm_expr_00.doit())\n",
    "CM_I_func = sp.lambdify(symbols, CM_I_expr_00.doit())\n",
    "bw_func = sp.lambdify(symbols_bw, bw_expr.doit())\n",
    "values = {\n",
    "    ma1: 0.135,\n",
    "    mb1: 0.55,\n",
    "    ma2: 0.493,\n",
    "    mb2: 0.493,\n",
    "    m0: 0.98,\n",
    "    w0: 0.03,\n",
    "    gamma1: 1,\n",
    "    gamma2: 0.5,\n",
    "}\n",
    "values_bw = {\n",
    "    m0: 0.98,\n",
    "    wp: 0.02,\n",
    "}\n",
    "args = eval(str(symbols[1:].xreplace(values)))\n",
    "args_bw = eval(str(symbols_bw[1:].xreplace(values_bw)))\n",
    "epsilon = 1e-10\n",
    "x = np.linspace(0.5, 1.5, num=700)\n",
    "y = np.linspace(epsilon, 5, num=700)\n",
    "X, Y = np.meshgrid(x, y)\n",
    "Zn = X - Y * 1j\n",
    "Zp = X + Y * 1j\n",
    "\n",
    "T1n = T_I_func(Zn, *args)\n",
    "T1p = T_I_func(Zp, *args)\n",
    "CMp = CM_I_func(Zp, *args)\n",
    "Bn = bw_func(x, *args_bw)\n",
    "\n",
    "fig, axes = plt.subplots(figsize=(10, 6), ncols=1, sharey=True)\n",
    "ax1 = axes\n",
    "ax1.set_xlabel(R\"$\\mathrm{Re}(s)$\")\n",
    "ax1.set_ylabel(R\"$\\mathrm{T}(s)$\")\n",
    "\n",
    "ax1.plot(x, (T1n[0]).imag, label=R\"$Im(T)$\", color=\"blue\")\n",
    "ax1.plot(x, (T1n[0]).real, label=R\"$Re(T)$\", color=\"red\")\n",
    "ax1.plot(x, T1n[0].real + T1n[0].imag, label=R\"$Abs(T)$\", color=\"yellow\")\n",
    "# ax1.plot(x, np.abs(Bn), label=R\"$Abs(BW)$\",color='magenta',linestyle='--')\n",
    "ax1.axvline(x=0.98, linestyle=\"--\", color=\"grey\", label=R\"$m_{R1}$\")\n",
    "ax1.legend()\n",
    "with PdfPages(\"K_1ch.pdf\") as pdf:\n",
    "    pdf.savefig(fig, dpi=1200)\n",
    "    plt.close(fig)\n",
    "fig.tight_layout()\n",
    "plt.show()"
   ]
  },
  {
   "cell_type": "code",
   "execution_count": null,
   "metadata": {},
   "outputs": [],
   "source": [
    "fig, axes = plt.subplots(figsize=(5, 5), ncols=1, sharey=True)\n",
    "ax1 = axes\n",
    "ax1.set_xlabel(R\"$\\mathrm{Re}(s)$\")\n",
    "ax1.set_ylabel(R\"$\\mathrm{Im}(s)$\")\n",
    "ax1.set_aspect(1)\n",
    "ax1.plot(T1n[0].real, (T1n[0]).imag, label=R\"$T_\\mathrm{I}(s-0i)$\", color=\"blue\")\n",
    "# ax1.plot(Bn.real,Bn.imag, label=R\"$T_\\mathrm{I}(s-0i)$\",color='red')\n",
    "# Save the figure with higher resolution (e.g., dpi=300)\n",
    "with PdfPages(\"K_agrand.pdf\") as pdf:\n",
    "    pdf.savefig(fig, dpi=1200)\n",
    "fig.tight_layout()\n",
    "plt.show()"
   ]
  },
  {
   "cell_type": "markdown",
   "metadata": {},
   "source": [
    "# Two Poles"
   ]
  },
  {
   "cell_type": "code",
   "execution_count": null,
   "metadata": {},
   "outputs": [],
   "source": [
    "m1 = sp.Symbol(\"m1\")\n",
    "w1 = sp.Symbol(\"Gamma1\")\n",
    "gamma11 = sp.Symbol(\"gamma21\")\n",
    "gamma22 = sp.Symbol(\"gamma22\")\n",
    "symbols_2 = sp.Tuple(\n",
    "    s, ma1, mb1, ma2, mb2, m0, w0, gamma1, gamma2, m1, w1, gamma11, gamma22\n",
    ")\n",
    "k_expr_00_1 = (gamma1 * gamma1 * m0 * w0) / (m0**2 - s) - (\n",
    "    gamma11 * gamma11 * m1 * w1\n",
    ") / (m1**2 - s)\n",
    "k_expr_11_1 = (gamma2 * gamma2 * m0 * w0) / (m0**2 - s) - (\n",
    "    gamma22 * gamma22 * m1 * w1\n",
    ") / (m1**2 - s)\n",
    "k_expr_01_1 = (gamma1 * gamma2 * m0 * w0) / (m0**2 - s) - (\n",
    "    gamma11 * gamma22 * m1 * w1\n",
    ") / (m1**2 - s)"
   ]
  },
  {
   "cell_type": "code",
   "execution_count": null,
   "metadata": {},
   "outputs": [],
   "source": [
    "cm_expressions_2 = {\n",
    "    K[0, 0]: k_expr_00_1,\n",
    "    K[1, 1]: k_expr_11_1,\n",
    "    K[0, 1]: k_expr_01_1,\n",
    "    K[1, 0]: k_expr_01_1,\n",
    "    CM[0, 0]: PhaseSpaceCM(s, ma1, mb1),\n",
    "    CM[1, 1]: PhaseSpaceCM(s, ma2, mb2),\n",
    "}"
   ]
  },
  {
   "cell_type": "code",
   "execution_count": null,
   "metadata": {},
   "outputs": [],
   "source": [
    "T_00_expr_2 = T_I_explicit[0, 0].xreplace(cm_expressions_2)\n",
    "T_00_expr_2.simplify(doit=False)"
   ]
  },
  {
   "cell_type": "code",
   "execution_count": null,
   "metadata": {},
   "outputs": [],
   "source": [
    "T_func_2 = sp.lambdify(symbols_2, T_00_expr_2.doit())\n",
    "values_2 = {\n",
    "    ma1: 0.135,\n",
    "    mb1: 0.55,\n",
    "    ma2: 0.493,\n",
    "    mb2: 0.493,\n",
    "    m0: 0.98,\n",
    "    w0: 0.03,\n",
    "    gamma1: 1,\n",
    "    gamma2: 0.5,\n",
    "    m1: 0.95,\n",
    "    w1: 0.05,\n",
    "    gamma11: 1,\n",
    "    gamma22: 1,\n",
    "}\n",
    "\n",
    "args_2 = eval(str(symbols_2[1:].xreplace(values_2)))\n",
    "epsilon = 1e-10\n",
    "x = np.linspace(0.6, 1.2, num=700)\n",
    "y = np.linspace(epsilon, 5, num=700)\n",
    "X, Y = np.meshgrid(x, y)\n",
    "Zn = X - Y * 1j\n",
    "Zp = X + Y * 1j\n",
    "\n",
    "T1n_2 = T_func_2(Zn, *args_2)\n",
    "T1p_2 = T_func_2(Zp, *args_2)\n",
    "\n",
    "\n",
    "fig, axes = plt.subplots(figsize=(10, 6), ncols=1, sharey=True)\n",
    "ax1 = axes\n",
    "ax1.set_xlabel(R\"$\\mathrm{Re}(s)$\")\n",
    "ax1.set_ylabel(R\"$\\mathrm{T}(s)$\")\n",
    "\n",
    "ax1.plot(x, (T1n_2[0]).imag, label=R\"$Im(T)$\", color=\"blue\")\n",
    "ax1.plot(x, (T1n_2[0]).real, label=R\"$Re(T)$\", color=\"red\")\n",
    "ax1.plot(x, T1n_2[0].real + T1n_2[0].imag, label=R\"$Abs(T)$\", color=\"yellow\")\n",
    "ax1.axvline(x=0.98, linestyle=\"--\", color=\"grey\", label=R\"$m_{R1}$\")\n",
    "ax1.axvline(x=0.89, linestyle=\"--\", color=\"grey\", label=R\"$m_{R2}$\")\n",
    "ax1.legend()\n",
    "with PdfPages(\"K_2ch.pdf\") as pdf:\n",
    "    pdf.savefig(fig, dpi=1200)\n",
    "    plt.close(fig)\n",
    "fig.tight_layout()\n",
    "plt.show()\n",
    "fig.tight_layout()\n",
    "plt.show()"
   ]
  },
  {
   "cell_type": "code",
   "execution_count": null,
   "metadata": {},
   "outputs": [],
   "source": []
  },
  {
   "cell_type": "code",
   "execution_count": null,
   "metadata": {},
   "outputs": [],
   "source": []
  },
  {
   "cell_type": "code",
   "execution_count": null,
   "metadata": {},
   "outputs": [],
   "source": []
  },
  {
   "cell_type": "code",
   "execution_count": null,
   "metadata": {},
   "outputs": [],
   "source": []
  },
  {
   "cell_type": "code",
   "execution_count": null,
   "metadata": {},
   "outputs": [],
   "source": []
  },
  {
   "cell_type": "code",
   "execution_count": null,
   "metadata": {},
   "outputs": [],
   "source": []
  }
 ],
 "metadata": {
  "colab": {
   "toc_visible": true
  },
  "kernelspec": {
   "display_name": "Python 3 (ipykernel)",
   "language": "python",
   "name": "python3"
  },
  "language_info": {
   "codemirror_mode": {
    "name": "ipython",
    "version": 3
   },
   "file_extension": ".py",
   "mimetype": "text/x-python",
   "name": "python",
   "nbconvert_exporter": "python",
   "pygments_lexer": "ipython3",
   "version": "3.10.13"
  }
 },
 "nbformat": 4,
 "nbformat_minor": 4
}
