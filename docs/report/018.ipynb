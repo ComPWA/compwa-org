{
 "cells": [
  {
   "cell_type": "code",
   "execution_count": null,
   "metadata": {
    "hideCode": true,
    "hideOutput": true,
    "hidePrompt": true,
    "jupyter": {
     "source_hidden": true
    },
    "slideshow": {
     "slide_type": "skip"
    },
    "tags": [
     "remove-cell"
    ]
   },
   "outputs": [],
   "source": [
    "%config InlineBackend.figure_formats = ['svg']\n",
    "import os\n",
    "\n",
    "STATIC_WEB_PAGE = {\"EXECUTE_NB\", \"READTHEDOCS\"}.intersection(os.environ)"
   ]
  },
  {
   "cell_type": "markdown",
   "metadata": {},
   "source": [
    "```{autolink-concat}\n",
    "```"
   ]
  },
  {
   "cell_type": "markdown",
   "metadata": {},
   "source": [
    "````{margin}\n",
    "```{spec} Intensity distribution generator with importance sampling\n",
    ":id: TR-018\n",
    ":status: WIP\n",
    ":tags: physics;tensorwaves\n",
    "\n",
    "This reports sets out how data generation with TensorWaves works and what would be the best approach to tackle [ComPWA/tensorwaves#402](https://github.com/ComPWA/tensorwaves/issues/402).\n",
    "```\n",
    "````\n",
    "\n",
    "# Importance sampling"
   ]
  },
  {
   "cell_type": "code",
   "execution_count": null,
   "metadata": {
    "jupyter": {
     "source_hidden": true
    },
    "tags": [
     "remove-cell"
    ]
   },
   "outputs": [],
   "source": [
    "%pip install -q ampform==0.14.1 git+https://github.com/zfit/phasespace@7131fbd qrules[viz]==0.9.7 scipy==1.9.0 sympy==1.10.1 tensorwaves[jax,pwa]==0.4.6"
   ]
  },
  {
   "cell_type": "markdown",
   "metadata": {},
   "source": [
    "## Model definition"
   ]
  },
  {
   "cell_type": "code",
   "execution_count": null,
   "metadata": {
    "jupyter": {
     "source_hidden": true
    },
    "tags": [
     "hide-cell"
    ]
   },
   "outputs": [],
   "source": [
    "import logging\n",
    "import os\n",
    "import warnings\n",
    "\n",
    "import jax.numpy as jnp\n",
    "import numpy as np\n",
    "\n",
    "logging.getLogger(\"absl\").setLevel(logging.ERROR)  # no JAX warnings\n",
    "os.environ[\"TF_CPP_MIN_LOG_LEVEL\"] = \"3\"  # no TF warnings\n",
    "warnings.filterwarnings(\"ignore\")  # sqrt negative argument"
   ]
  },
  {
   "cell_type": "code",
   "execution_count": null,
   "metadata": {
    "tags": []
   },
   "outputs": [],
   "source": [
    "import qrules\n",
    "\n",
    "reaction = qrules.generate_transitions(\n",
    "    initial_state=(\"J/psi(1S)\", [-1, +1]),\n",
    "    final_state=[\"K0\", \"Sigma+\", \"p~\"],\n",
    "    allowed_intermediate_particles=[\"Sigma(1660)~-\", \"N(1650)+\"],\n",
    "    allowed_interaction_types=\"strong\",\n",
    "    formalism=\"canonical-helicity\",\n",
    ")"
   ]
  },
  {
   "cell_type": "code",
   "execution_count": null,
   "metadata": {
    "jupyter": {
     "source_hidden": true
    },
    "tags": [
     "hide-input"
    ]
   },
   "outputs": [],
   "source": [
    "import graphviz\n",
    "\n",
    "src = qrules.io.asdot(reaction, collapse_graphs=True)\n",
    "graphviz.Source(src)"
   ]
  },
  {
   "cell_type": "code",
   "execution_count": null,
   "metadata": {},
   "outputs": [],
   "source": [
    "import ampform\n",
    "from ampform.dynamics.builder import (\n",
    "    create_non_dynamic_with_ff,\n",
    "    create_relativistic_breit_wigner_with_ff,\n",
    ")\n",
    "\n",
    "builder = ampform.get_builder(reaction)\n",
    "builder.adapter.permutate_registered_topologies()\n",
    "builder.scalar_initial_state_mass = True\n",
    "builder.stable_final_state_ids = [0, 1, 2]\n",
    "builder.set_dynamics(\"J/psi(1S)\", create_non_dynamic_with_ff)\n",
    "for name in reaction.get_intermediate_particles().names:\n",
    "    builder.set_dynamics(name, create_relativistic_breit_wigner_with_ff)\n",
    "model = builder.formulate()"
   ]
  },
  {
   "cell_type": "markdown",
   "metadata": {},
   "source": [
    "## Phase space distribution"
   ]
  },
  {
   "cell_type": "code",
   "execution_count": null,
   "metadata": {},
   "outputs": [],
   "source": [
    "from tensorwaves.data import SympyDataTransformer\n",
    "\n",
    "transformer = SympyDataTransformer.from_sympy(\n",
    "    model.kinematic_variables, backend=\"jax\"\n",
    ")"
   ]
  },
  {
   "cell_type": "markdown",
   "metadata": {},
   "source": [
    "An evenly distributed phase space sample can be generated with a {class}`~tensorwaves.data.TFPhaseSpaceGenerator`:"
   ]
  },
  {
   "cell_type": "code",
   "execution_count": null,
   "metadata": {},
   "outputs": [],
   "source": [
    "from tensorwaves.data import TFPhaseSpaceGenerator, TFUniformRealNumberGenerator\n",
    "\n",
    "rng = TFUniformRealNumberGenerator(seed=0)\n",
    "phsp_generator = TFPhaseSpaceGenerator(\n",
    "    initial_state_mass=reaction.initial_state[-1].mass,\n",
    "    final_state_masses={i: p.mass for i, p in reaction.final_state.items()},\n",
    ")\n",
    "phsp = phsp_generator.generate(1_000_000, rng)\n",
    "phsp = transformer(phsp)"
   ]
  },
  {
   "cell_type": "code",
   "execution_count": null,
   "metadata": {
    "tags": [
     "remove-input"
    ]
   },
   "outputs": [],
   "source": [
    "%config InlineBackend.figure_formats = ['png']"
   ]
  },
  {
   "cell_type": "code",
   "execution_count": null,
   "metadata": {
    "jupyter": {
     "source_hidden": true
    },
    "tags": [
     "hide-input"
    ]
   },
   "outputs": [],
   "source": [
    "import matplotlib.pyplot as plt\n",
    "\n",
    "\n",
    "def convert_zero_to_nan(array):\n",
    "    array = np.array(array).astype(\"float\")\n",
    "    array[array == 0] = np.nan\n",
    "    return jnp.array(array)\n",
    "\n",
    "\n",
    "Z, x_edges, y_edges = jnp.histogram2d(\n",
    "    phsp[\"m_01\"].real ** 2,\n",
    "    phsp[\"m_12\"].real ** 2,\n",
    "    bins=100,\n",
    ")\n",
    "X, Y = jnp.meshgrid(x_edges, y_edges)\n",
    "Z = convert_zero_to_nan(Z)\n",
    "\n",
    "bin_width_x = X[0, 1] - X[0, 0]\n",
    "bin_width_y = Y[1, 0] - Y[0, 0]\n",
    "bar_title = (\n",
    "    Rf\"events per ${1e3*bin_width_x:.0f} \\times {1e3*bin_width_y:.0f}$ MeV$^2/c^4$\"\n",
    ")\n",
    "xlabel = R\"$M^2\\left(K^0\\Sigma^+\\right)$\"\n",
    "ylabel = R\"$M^2\\left(\\Sigma^+\\bar{p}\\right)$\"\n",
    "\n",
    "fig, ax = plt.subplots(dpi=200, figsize=(4.5, 4))\n",
    "ax.set_title(\"TFPhaseSpaceGenerator sample\")\n",
    "ax.set_xlabel(xlabel)\n",
    "ax.set_ylabel(ylabel)\n",
    "mesh = ax.pcolormesh(X, Y, Z)\n",
    "c_bar = plt.colorbar(mesh, ax=ax)\n",
    "c_bar.ax.set_ylabel(bar_title)\n",
    "plt.show()"
   ]
  },
  {
   "cell_type": "markdown",
   "metadata": {},
   "source": [
    "This {class}`~tensorwaves.data.TFPhaseSpaceGenerator` actually uses a **hit-and-miss** strategy on a distribution and its weights generated by a {class}`~tensorwaves.data.TFWeightedPhaseSpaceGenerator`. That generator interfaces to the [`phasespace`](https://phasespace.readthedocs.io) package.\n",
    "\n",
    "::::{margin}\n",
    ":::{seealso}\n",
    "[ComPWA/tensorwaves#16](https://github.com/ComPWA/tensorwaves/issues/16) on a Python interface for [`EvtGen`](https://gitlab.cern.ch/evtgen/evtgen).\n",
    ":::\n",
    "::::"
   ]
  },
  {
   "cell_type": "code",
   "execution_count": null,
   "metadata": {},
   "outputs": [],
   "source": [
    "from tensorwaves.data import TFWeightedPhaseSpaceGenerator\n",
    "\n",
    "weighted_phsp_generator = TFWeightedPhaseSpaceGenerator(\n",
    "    initial_state_mass=reaction.initial_state[-1].mass,\n",
    "    final_state_masses={i: p.mass for i, p in reaction.final_state.items()},\n",
    ")\n",
    "unweighted_phsp, phsp_weights = weighted_phsp_generator.generate(1_000_000, rng)\n",
    "unweighted_phsp = transformer(unweighted_phsp)"
   ]
  },
  {
   "cell_type": "code",
   "execution_count": null,
   "metadata": {
    "jupyter": {
     "source_hidden": true
    },
    "tags": [
     "hide-input",
     "full-width"
    ]
   },
   "outputs": [],
   "source": [
    "from scipy.interpolate import griddata\n",
    "\n",
    "n_bins = 100\n",
    "x = unweighted_phsp[\"m_01\"].real ** 2\n",
    "y = unweighted_phsp[\"m_12\"].real ** 2\n",
    "X, Y = jnp.meshgrid(\n",
    "    jnp.linspace(x.min(), x.max(), num=n_bins),\n",
    "    jnp.linspace(y.min(), y.max(), num=n_bins),\n",
    ")\n",
    "\n",
    "Z_unweighted, x_edges, y_edges = jnp.histogram2d(x, y, bins=n_bins)\n",
    "Z_weighted, x_edges, y_edges = jnp.histogram2d(\n",
    "    x, y, bins=n_bins, weights=phsp_weights\n",
    ")\n",
    "Z_weights = griddata(np.transpose([x, y]), phsp_weights, (X, Y), method=\"linear\")\n",
    "\n",
    "X_edges, Y_edges = np.meshgrid(x_edges, y_edges)\n",
    "Z_unweighted = convert_zero_to_nan(Z_unweighted)\n",
    "Z_weighted = convert_zero_to_nan(Z_weighted)\n",
    "\n",
    "fig, axes = plt.subplots(\n",
    "    dpi=200,\n",
    "    figsize=(16, 5),\n",
    "    ncols=3,\n",
    "    tight_layout=True,\n",
    ")\n",
    "for ax in axes:\n",
    "    ax.set_xlabel(xlabel)\n",
    "    ax.set_ylabel(ylabel)\n",
    "ax1, ax2, ax3 = axes\n",
    "ax1.set_title(\"Unweighted distribution\")\n",
    "ax2.set_title(\"Weights\")\n",
    "ax3.set_title(\"Weighted phase space distribution\")\n",
    "\n",
    "mesh = ax1.pcolormesh(X_edges, Y_edges, Z_unweighted)\n",
    "c_bar = plt.colorbar(mesh, ax=ax1)\n",
    "c_bar.ax.set_ylabel(bar_title)\n",
    "\n",
    "mesh = ax2.pcolormesh(X, Y, Z_weights)\n",
    "c_bar = plt.colorbar(mesh, ax=ax2)\n",
    "c_bar.ax.set_ylabel(\"phase space weight\")\n",
    "\n",
    "mesh = ax3.pcolormesh(X_edges, Y_edges, Z_weighted)\n",
    "c_bar = plt.colorbar(mesh, ax=ax3)\n",
    "c_bar.ax.set_ylabel(bar_title)\n",
    "\n",
    "plt.show()"
   ]
  },
  {
   "cell_type": "markdown",
   "metadata": {},
   "source": [
    "## Intensity distribution"
   ]
  },
  {
   "cell_type": "code",
   "execution_count": null,
   "metadata": {
    "tags": []
   },
   "outputs": [],
   "source": [
    "from tensorwaves.function.sympy import create_function\n",
    "\n",
    "intensity_expr = model.expression.doit()\n",
    "intensity_func = create_function(\n",
    "    expression=intensity_expr.xreplace(model.parameter_defaults),\n",
    "    backend=\"jax\",\n",
    ")"
   ]
  },
  {
   "cell_type": "code",
   "execution_count": null,
   "metadata": {},
   "outputs": [],
   "source": [
    "from tensorwaves.data import IntensityDistributionGenerator\n",
    "\n",
    "data_generator = IntensityDistributionGenerator(\n",
    "    domain_generator=weighted_phsp_generator,\n",
    "    function=intensity_func,\n",
    "    domain_transformer=transformer,\n",
    ")\n",
    "data = data_generator.generate(100_000, rng)\n",
    "data = transformer(data)"
   ]
  },
  {
   "cell_type": "code",
   "execution_count": null,
   "metadata": {
    "jupyter": {
     "source_hidden": true
    },
    "tags": [
     "hide-input"
    ]
   },
   "outputs": [],
   "source": [
    "Z, x_edges, y_edges = jnp.histogram2d(\n",
    "    data[\"m_01\"].real ** 2,\n",
    "    data[\"m_12\"].real ** 2,\n",
    "    bins=100,\n",
    ")\n",
    "X, Y = jnp.meshgrid(x_edges, y_edges)\n",
    "Z = convert_zero_to_nan(Z)\n",
    "\n",
    "fig, ax = plt.subplots(dpi=200, figsize=(4.5, 4))\n",
    "ax.set_xlabel(xlabel)\n",
    "ax.set_ylabel(ylabel)\n",
    "mesh = ax.pcolormesh(X, Y, Z)\n",
    "c_bar = plt.colorbar(mesh, ax=ax)\n",
    "c_bar.ax.set_ylabel(\"intensity\")\n",
    "plt.show()"
   ]
  }
 ],
 "metadata": {
  "kernelspec": {
   "display_name": "Python 3 (ipykernel)",
   "language": "python",
   "name": "python3"
  },
  "language_info": {
   "codemirror_mode": {
    "name": "ipython",
    "version": 3
   },
   "file_extension": ".py",
   "mimetype": "text/x-python",
   "name": "python",
   "nbconvert_exporter": "python",
   "pygments_lexer": "ipython3",
   "version": "3.8.13"
  }
 },
 "nbformat": 4,
 "nbformat_minor": 4
}
