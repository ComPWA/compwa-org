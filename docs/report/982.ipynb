{
 "cells": [
  {
   "cell_type": "code",
   "execution_count": null,
   "metadata": {
    "hideCode": true,
    "hideOutput": true,
    "hidePrompt": true,
    "jupyter": {
     "source_hidden": true
    },
    "slideshow": {
     "slide_type": "skip"
    },
    "tags": [
     "remove-cell"
    ]
   },
   "outputs": [],
   "source": [
    "import os\n",
    "\n",
    "STATIC_WEB_PAGE = {\"EXECUTE_NB\", \"READTHEDOCS\"}.intersection(os.environ)"
   ]
  },
  {
   "cell_type": "markdown",
   "metadata": {},
   "source": [
    "```{autolink-concat}\n",
    "```"
   ]
  },
  {
   "cell_type": "markdown",
   "metadata": {
    "editable": true,
    "slideshow": {
     "slide_type": ""
    },
    "tags": []
   },
   "source": [
    "::::{margin}\n",
    ":::{card} Dispersion integral with rotational cut\n",
    "TR-980\n",
    ":::\n",
    "::::"
   ]
  },
  {
   "cell_type": "markdown",
   "metadata": {
    "editable": true,
    "slideshow": {
     "slide_type": ""
    },
    "tags": []
   },
   "source": [
    "# Dispersion integral with cut"
   ]
  },
  {
   "cell_type": "code",
   "execution_count": null,
   "metadata": {
    "editable": true,
    "slideshow": {
     "slide_type": ""
    },
    "tags": [
     "remove-cell"
    ]
   },
   "outputs": [],
   "source": [
    "%pip install -q numpy==1.24.4 scipy==1.10.1"
   ]
  },
  {
   "cell_type": "code",
   "execution_count": null,
   "metadata": {
    "editable": true,
    "jupyter": {
     "source_hidden": true
    },
    "slideshow": {
     "slide_type": ""
    },
    "tags": [
     "hide-cell"
    ]
   },
   "outputs": [],
   "source": [
    "import warnings\n",
    "\n",
    "import matplotlib.pyplot as plt\n",
    "import numpy as np\n",
    "from scipy.integrate import quad_vec as integrate\n",
    "\n",
    "warnings.filterwarnings(\"ignore\")"
   ]
  },
  {
   "cell_type": "markdown",
   "metadata": {},
   "source": [
    ":::{admonition} General dispersion integral\n",
    "$$\n",
    "f(z) = \\frac{1}{2\\pi i} \\int_{-\\infty}^\\infty \\frac{f(z')}{z'- z} \\mathop{}\\!\\mathrm{d}z'\n",
    "$$\n",
    ":::"
   ]
  },
  {
   "cell_type": "markdown",
   "metadata": {},
   "source": [
    ":::{admonition} [PDG2023, §Resonances, Eq. (50.43)](https://pdg.lbl.gov/2023/reviews/rpp2023-rev-resonances.pdf#page=15)\n",
    "\n",
    "$$\n",
    "\\begin{eqnarray}\n",
    "\\Sigma(s + 0i) &=&\n",
    "\\frac{s-s_\\mathrm{thr}}{\\pi}\n",
    "\\int_{s_\\mathrm{thr}}^\\infty \\frac{\n",
    "    \\rho(s')\n",
    "}{\n",
    "    (s' - s_\\mathrm{thr})(s'-s-i0)\n",
    "}\n",
    "\\mathop{}\\!\\mathrm{d}s'\n",
    "\\qquad \\text{original from the PDG}\n",
    "\\\\\n",
    "&=&\n",
    "\\frac{s-s_\\mathrm{thr}}{2\\pi}\n",
    "\\left[\n",
    "\\int_{s_\\mathrm{thr}}^\\infty \\frac{\n",
    "    \\rho(s'+0i)\n",
    "}{\n",
    "    (s' - s_\\mathrm{thr})(s'+i0-s)\n",
    "}\n",
    "\\mathop{}\\!\\mathrm{d}s'\n",
    "-\n",
    "\\int_{s_\\mathrm{thr}}^\\infty \\frac{\n",
    "    \\rho(s'-0i)\n",
    "}{\n",
    "    (s' - s_\\mathrm{thr})(s'-i0-s)\n",
    "}\n",
    "\\mathop{}\\!\\mathrm{d}s'\n",
    "\\right]\n",
    "\\end{eqnarray}\n",
    "$$\n",
    "\n",
    ":::"
   ]
  },
  {
   "cell_type": "markdown",
   "metadata": {},
   "source": [
    "$$\n",
    "s' = s_\\mathrm{thr} + x e^{i\\phi} + \\epsilon i, \\quad\n",
    "\\mathrm{d}s' =  e^{i\\phi} \\mathrm{d}x, \\quad\n",
    "x \\in \\left[0, \\infty\\right)\n",
    "$$"
   ]
  },
  {
   "cell_type": "markdown",
   "metadata": {},
   "source": [
    "$$\n",
    "\\frac{s-s_{\\mathrm{thr}}}{2\\pi}\n",
    "\\left[\n",
    "\\int^\\infty_0 \\frac{\n",
    "    \\rho(s_\\mathrm{thr} + x e^{i\\phi} + 0i)\n",
    "}{\n",
    "    \\left(x e^{i\\phi} + 0i\\right)\n",
    "    \\left(s_\\mathrm{thr} + x e^{i\\phi} + 0i - s\\right)\n",
    "}\n",
    "e^{i\\phi}\n",
    "\\mathop{}\\!\\mathrm{d}x\n",
    "-\n",
    "\\int^\\infty_0 \\frac{\n",
    "    \\rho(s_\\mathrm{thr} + x e^{i\\phi} - 0i)\n",
    "}{\n",
    "    \\left(x e^{i\\phi} - 0i\\right)\n",
    "    \\left(s_\\mathrm{thr} + x e^{i\\phi} - 0i - s\\right)\n",
    "}\n",
    "e^{i\\phi}\n",
    "\\mathop{}\\!\\mathrm{d}x\n",
    "\\right]\n",
    "$$"
   ]
  },
  {
   "cell_type": "code",
   "execution_count": null,
   "metadata": {
    "editable": true,
    "slideshow": {
     "slide_type": ""
    },
    "tags": []
   },
   "outputs": [],
   "source": [
    "ϵi = 1e-7 * 1j\n",
    "\n",
    "\n",
    "def rho_cm(s, m1, m2, phi: float = 0) -> np.ndarray:\n",
    "    return -1j * dispersion_integral(s, m1, m2, phi)\n",
    "\n",
    "\n",
    "def dispersion_integral(s, m1, m2, phi: float = 0) -> np.ndarray:\n",
    "    s_thr = (m1 + m2) ** 2\n",
    "    exp = np.exp(phi * 1j)\n",
    "    func1 = (\n",
    "        lambda x: rho(s_thr + x * exp + ϵi, m1, m2, phi)\n",
    "        / ((x * exp + ϵi) * (s_thr + x * exp + ϵi - s))\n",
    "        * exp\n",
    "    )\n",
    "    func2 = (\n",
    "        lambda x: rho(s_thr + x * exp - ϵi, m1, m2, phi)\n",
    "        / ((x * exp - ϵi) * (s_thr + x * exp - ϵi - s))\n",
    "        * exp\n",
    "    )\n",
    "    return (\n",
    "        (s - s_thr)\n",
    "        / (2 * np.pi)\n",
    "        * (integrate(func1, 0, np.inf)[0] - integrate(func2, 0, np.inf)[0])\n",
    "    )\n",
    "\n",
    "\n",
    "def rho(s, m1, m2, phi: float = 0) -> np.ndarray:\n",
    "    return 2 * q(s, m1, m2) / np.sqrt(s)\n",
    "\n",
    "\n",
    "def q(s, m1, m2, phi: float = 0) -> np.ndarray:\n",
    "    return np.sqrt(λ(s, m1**2, m2**2)) / (2 * np.sqrt(s))\n",
    "\n",
    "\n",
    "def λ(x, y, z):\n",
    "    return x**2 + y**2 + z**2 - 2 * x * y - 2 * y * z - 2 * z * x\n",
    "\n",
    "\n",
    "def rotated_sqrt(z, phi: float = 0) -> np.ndarray:\n",
    "    return np.exp(0.5j * phi) * np.sqrt(z * np.exp(-phi * 1j))"
   ]
  },
  {
   "cell_type": "code",
   "execution_count": null,
   "metadata": {
    "editable": true,
    "slideshow": {
     "slide_type": ""
    },
    "tags": [
     "hide-input"
    ]
   },
   "outputs": [],
   "source": [
    "%config InlineBackend.figure_formats = [\"svg\"]\n",
    "resolution = 100\n",
    "x = np.linspace(0, 3, num=resolution)\n",
    "m1 = 0.4\n",
    "m2 = 0.4\n",
    "phi = -np.pi / 6\n",
    "\n",
    "y1 = rho(x + ϵi, m1, m2, phi)\n",
    "y2 = rho_cm(x + ϵi, m1, m2, phi)\n",
    "assert not any(np.isnan(y2)), \"Contains NaN values!\"\n",
    "\n",
    "fig, ax = plt.subplots()\n",
    "ax.axhline(0, c=\"black\", lw=0.4)\n",
    "ax.axvline(0, c=\"black\", lw=0.4)\n",
    "ax.plot(x, y1.real, label=R\"$\\rho$\", lw=4, alpha=0.5)\n",
    "ax.plot(x, y2.real, label=R\"$\\rho^\\mathrm{CM}$\")\n",
    "ax.axvline((m1 - m2) ** 2, c=\"red\", ls=\"dotted\", label=\"$(m_1-m_2)^2$\")\n",
    "ax.axvline((m1 + m2) ** 2, c=\"black\", ls=\"dotted\", label=\"$(m_1+m_2)^2$\")\n",
    "ax.set_ylim(-0.3, +1.6)\n",
    "ax.set_xlabel(\"$s$\")\n",
    "ax.set_title(Rf\"$\\phi={phi / np.pi:.4g}\\pi$\")\n",
    "ax.legend()\n",
    "fig.tight_layout()\n",
    "plt.show()"
   ]
  },
  {
   "cell_type": "code",
   "execution_count": null,
   "metadata": {
    "editable": true,
    "slideshow": {
     "slide_type": ""
    },
    "tags": [
     "hide-input"
    ]
   },
   "outputs": [],
   "source": [
    "y = np.linspace(-1, +1, num=resolution)\n",
    "X, Y = np.meshgrid(x, y)\n",
    "Z = X + Y * 1j\n",
    "T = rho(Z, m1, m2, phi=0)\n",
    "\n",
    "%config InlineBackend.figure_formats = [\"png\"]\n",
    "fig, ax = plt.subplots()\n",
    "ax.set_xlabel(R\"$\\mathrm{Re}\\,s$\")\n",
    "ax.set_ylabel(R\"$\\mathrm{Im}\\,s$\")\n",
    "ax.set_title(Rf\"$\\phi={phi / np.pi:.4g}\\pi$\")\n",
    "mesh = ax.pcolormesh(X, Y, T.imag, cmap=plt.cm.coolwarm)\n",
    "plt.colorbar(mesh, ax=ax, pad=0.02)\n",
    "fig.tight_layout()\n",
    "plt.show()"
   ]
  },
  {
   "cell_type": "code",
   "execution_count": null,
   "metadata": {
    "editable": true,
    "jupyter": {
     "source_hidden": true
    },
    "slideshow": {
     "slide_type": ""
    },
    "tags": [
     "hide-input"
    ]
   },
   "outputs": [],
   "source": [
    "y = np.linspace(-1, +1, num=resolution)\n",
    "X, Y = np.meshgrid(x, y)\n",
    "Z = X + Y * 1j\n",
    "T = rho_cm(Z, m1, m2, phi)\n",
    "\n",
    "%config InlineBackend.figure_formats = [\"png\"]\n",
    "fig, ax = plt.subplots()\n",
    "ax.set_xlabel(R\"$\\mathrm{Re}\\,s$\")\n",
    "ax.set_ylabel(R\"$\\mathrm{Im}\\,s$\")\n",
    "ax.set_title(Rf\"$\\phi={phi / np.pi:.4g}\\pi$\")\n",
    "mesh = ax.pcolormesh(X, Y, T.real, cmap=plt.cm.coolwarm)\n",
    "plt.colorbar(mesh, ax=ax, pad=0.02)\n",
    "fig.tight_layout()\n",
    "plt.show()"
   ]
  },
  {
   "cell_type": "markdown",
   "metadata": {
    "editable": true,
    "slideshow": {
     "slide_type": ""
    },
    "tags": []
   },
   "source": [
    ":::{error}\n",
    "Rotating the direction of the integration with $\\phi$ **does** rotate the cut in the phase space factor, but also affects the values on the real axis...\n",
    ":::"
   ]
  }
 ],
 "metadata": {
  "colab": {
   "toc_visible": true
  },
  "kernelspec": {
   "display_name": "Python 3 (ipykernel)",
   "language": "python",
   "name": "python3"
  },
  "language_info": {
   "codemirror_mode": {
    "name": "ipython",
    "version": 3
   },
   "file_extension": ".py",
   "mimetype": "text/x-python",
   "name": "python",
   "nbconvert_exporter": "python",
   "pygments_lexer": "ipython3",
   "version": "3.8.18"
  }
 },
 "nbformat": 4,
 "nbformat_minor": 4
}
