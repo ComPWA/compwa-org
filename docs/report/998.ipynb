{
 "cells": [
  {
   "cell_type": "code",
   "execution_count": null,
   "metadata": {
    "hideCode": true,
    "hideOutput": true,
    "hidePrompt": true,
    "jupyter": {
     "source_hidden": true
    },
    "slideshow": {
     "slide_type": "skip"
    },
    "tags": [
     "remove-cell"
    ]
   },
   "outputs": [],
   "source": [
    "%config InlineBackend.figure_formats = ['svg']\n",
    "import os\n",
    "\n",
    "STATIC_WEB_PAGE = {\"EXECUTE_NB\", \"READTHEDOCS\"}.intersection(os.environ)"
   ]
  },
  {
   "cell_type": "markdown",
   "metadata": {},
   "source": [
    "```{autolink-concat}\n",
    "```"
   ]
  },
  {
   "cell_type": "markdown",
   "metadata": {},
   "source": [
    "<!-- cspell:ignore argnums -->\n",
    "\n",
    "::::{margin}\n",
    ":::{card} Gradient of an amplitude model with autodiff\n",
    "TR-999\n",
    "^^^\n",
    "In this report, we investigate whether autodiff can be be used to analytically compute the gradient of an amplitude model. The suspicion is that autodiff cannot handle large expressions well, because the chain rule results in an excessive number of computational nodes for the gradient of the function.\n",
    "+++\n",
    "WIP\n",
    ":::\n",
    "::::"
   ]
  },
  {
   "cell_type": "markdown",
   "metadata": {
    "tags": []
   },
   "source": [
    "# Gradient with autodiff"
   ]
  },
  {
   "cell_type": "code",
   "execution_count": null,
   "metadata": {
    "jupyter": {
     "source_hidden": true
    },
    "tags": [
     "remove-cell"
    ]
   },
   "outputs": [],
   "source": [
    "%pip install -q \"tensorwaves[jax,pwa]@git+https://github.com/ComPWA/tensorwaves@order-function-args\" ampform~=0.14 psutil==5.9.6 qrules~=0.9.8"
   ]
  },
  {
   "cell_type": "code",
   "execution_count": null,
   "metadata": {
    "jupyter": {
     "source_hidden": true
    },
    "tags": []
   },
   "outputs": [],
   "source": [
    "from __future__ import annotations\n",
    "\n",
    "import inspect\n",
    "import os\n",
    "from textwrap import dedent\n",
    "\n",
    "import ampform\n",
    "import jax.numpy as jnp\n",
    "import matplotlib.pyplot as plt\n",
    "import numpy as np\n",
    "import psutil\n",
    "import qrules\n",
    "import sympy as sp\n",
    "from ampform.dynamics.builder import (\n",
    "    create_non_dynamic_with_ff,\n",
    "    create_relativistic_breit_wigner_with_ff,\n",
    ")\n",
    "from ampform.io import aslatex\n",
    "from IPython.display import Latex, Markdown\n",
    "from matplotlib import cm\n",
    "from tensorwaves.data import (\n",
    "    IntensityDistributionGenerator,\n",
    "    SympyDataTransformer,\n",
    "    TFPhaseSpaceGenerator,\n",
    "    TFUniformRealNumberGenerator,\n",
    "    TFWeightedPhaseSpaceGenerator,\n",
    ")\n",
    "from tensorwaves.function.sympy import create_parametrized_function\n",
    "\n",
    "\n",
    "def display_memory_usage() -> None:\n",
    "    process = psutil.Process(os.getpid())\n",
    "    memory = process.memory_info().rss\n",
    "    if memory < 1024**2:\n",
    "        memory_str = f\"{memory / 1024**1:.2f} kB\"\n",
    "    elif memory < 1024**3:\n",
    "        memory_str = f\"{memory / 1024**2:.2f} MB\"\n",
    "    else:\n",
    "        memory_str = f\"{memory / 1024**3:.2f} GB\"\n",
    "    msg = dedent(f\"\"\"\n",
    "        :::{{hint}}\n",
    "        Memory Usage: **{memory_str}**\n",
    "        :::\n",
    "        \"\"\").strip()\n",
    "    display(Markdown(msg))\n",
    "\n",
    "\n",
    "os.environ[\"TF_CPP_MIN_LOG_LEVEL\"] = \"3\"\n",
    "display_memory_usage()"
   ]
  },
  {
   "cell_type": "markdown",
   "metadata": {
    "tags": []
   },
   "source": [
    "## Formulate model"
   ]
  },
  {
   "cell_type": "code",
   "execution_count": null,
   "metadata": {
    "tags": []
   },
   "outputs": [],
   "source": [
    "REACTION = qrules.generate_transitions(\n",
    "    initial_state=\"B0\",\n",
    "    final_state=[\"K+\", \"pi-\", \"pi0\"],\n",
    "    allowed_intermediate_particles=[\"K*(892)\", \"rho\"],\n",
    "    formalism=\"helicity\",\n",
    "    mass_conservation_factor=0,\n",
    ")"
   ]
  },
  {
   "cell_type": "code",
   "execution_count": null,
   "metadata": {
    "jupyter": {
     "source_hidden": true
    },
    "tags": [
     "hide-input"
    ]
   },
   "outputs": [],
   "source": [
    "import graphviz\n",
    "\n",
    "dot = qrules.io.asdot(REACTION, collapse_graphs=True)\n",
    "graphviz.Source(dot)"
   ]
  },
  {
   "cell_type": "code",
   "execution_count": null,
   "metadata": {
    "tags": [
     "full-width"
    ]
   },
   "outputs": [],
   "source": [
    "INITIAL_STATE, *_ = REACTION.initial_state.values()\n",
    "BUILDER = ampform.get_builder(REACTION)\n",
    "BUILDER.adapter.permutate_registered_topologies()\n",
    "BUILDER.set_dynamics(INITIAL_STATE.name, create_non_dynamic_with_ff)\n",
    "for name in REACTION.get_intermediate_particles().names:\n",
    "    BUILDER.set_dynamics(name, create_relativistic_breit_wigner_with_ff)\n",
    "    del name\n",
    "MODEL = BUILDER.formulate()"
   ]
  },
  {
   "cell_type": "code",
   "execution_count": null,
   "metadata": {
    "jupyter": {
     "source_hidden": true
    },
    "tags": [
     "hide-input"
    ]
   },
   "outputs": [],
   "source": [
    "MODEL.intensity"
   ]
  },
  {
   "cell_type": "code",
   "execution_count": null,
   "metadata": {
    "jupyter": {
     "source_hidden": true
    },
    "tags": [
     "hide-input",
     "hide-output",
     "full-width"
    ]
   },
   "outputs": [],
   "source": [
    "selection = {k: v for i, (k, v) in enumerate(MODEL.amplitudes.items()) if i < 3}\n",
    "src = aslatex(selection)\n",
    "del selection\n",
    "Latex(src)"
   ]
  },
  {
   "cell_type": "code",
   "execution_count": null,
   "metadata": {
    "editable": true,
    "slideshow": {
     "slide_type": ""
    },
    "tags": [
     "remove-input"
    ]
   },
   "outputs": [],
   "source": [
    "display_memory_usage()"
   ]
  },
  {
   "cell_type": "markdown",
   "metadata": {
    "tags": []
   },
   "source": [
    "## Generate data"
   ]
  },
  {
   "cell_type": "code",
   "execution_count": null,
   "metadata": {
    "tags": []
   },
   "outputs": [],
   "source": [
    "rng = TFUniformRealNumberGenerator(seed=0)\n",
    "phsp_generator = TFPhaseSpaceGenerator(\n",
    "    initial_state_mass=REACTION.initial_state[-1].mass,\n",
    "    final_state_masses={i: p.mass for i, p in REACTION.final_state.items()},\n",
    ")\n",
    "phsp_momenta = phsp_generator.generate(100_000, rng)"
   ]
  },
  {
   "cell_type": "code",
   "execution_count": null,
   "metadata": {},
   "outputs": [],
   "source": [
    "helicity_transformer = SympyDataTransformer.from_sympy(\n",
    "    MODEL.kinematic_variables, backend=\"jax\"\n",
    ")"
   ]
  },
  {
   "cell_type": "code",
   "execution_count": null,
   "metadata": {},
   "outputs": [],
   "source": [
    "unfolded_expression = MODEL.expression.doit()\n",
    "intensity_func = create_parametrized_function(\n",
    "    unfolded_expression,\n",
    "    parameters=MODEL.parameter_defaults,\n",
    "    backend=\"jax\",\n",
    ")"
   ]
  },
  {
   "cell_type": "code",
   "execution_count": null,
   "metadata": {
    "tags": [
     "full-width"
    ]
   },
   "outputs": [],
   "source": [
    "weighted_phsp_generator = TFWeightedPhaseSpaceGenerator(\n",
    "    initial_state_mass=REACTION.initial_state[-1].mass,\n",
    "    final_state_masses={i: p.mass for i, p in REACTION.final_state.items()},\n",
    ")\n",
    "data_generator = IntensityDistributionGenerator(\n",
    "    domain_generator=weighted_phsp_generator,\n",
    "    function=intensity_func,\n",
    "    domain_transformer=helicity_transformer,\n",
    ")\n",
    "data_momenta = data_generator.generate(10_000, rng)"
   ]
  },
  {
   "cell_type": "code",
   "execution_count": null,
   "metadata": {},
   "outputs": [],
   "source": [
    "phsp = helicity_transformer(phsp_momenta)\n",
    "data = helicity_transformer(data_momenta)"
   ]
  },
  {
   "cell_type": "markdown",
   "metadata": {
    "tags": []
   },
   "source": [
    "## Gradient creation with autodiff"
   ]
  },
  {
   "cell_type": "code",
   "execution_count": null,
   "metadata": {
    "jupyter": {
     "source_hidden": true
    },
    "tags": [
     "hide-input"
    ]
   },
   "outputs": [],
   "source": [
    "free_symbols = {\n",
    "    symbol: value\n",
    "    for symbol, value in MODEL.parameter_defaults.items()\n",
    "    if symbol.name[0] in {\"C\", \"d\"}\n",
    "}\n",
    "fixed_symbols = {\n",
    "    symbol: value\n",
    "    for symbol, value in MODEL.parameter_defaults.items()\n",
    "    if symbol not in free_symbols\n",
    "}"
   ]
  },
  {
   "cell_type": "code",
   "execution_count": null,
   "metadata": {},
   "outputs": [],
   "source": [
    "intensity_func = create_parametrized_function(\n",
    "    unfolded_expression.xreplace(fixed_symbols),\n",
    "    parameters=free_symbols,\n",
    "    backend=\"jax\",\n",
    ")"
   ]
  },
  {
   "cell_type": "code",
   "execution_count": null,
   "metadata": {
    "tags": [
     "hide-input"
    ]
   },
   "outputs": [],
   "source": [
    "display_memory_usage()"
   ]
  },
  {
   "cell_type": "code",
   "execution_count": null,
   "metadata": {
    "tags": []
   },
   "outputs": [],
   "source": [
    "%config InlineBackend.figure_formats = ['png']"
   ]
  },
  {
   "cell_type": "code",
   "execution_count": null,
   "metadata": {
    "editable": true,
    "jupyter": {
     "source_hidden": true
    },
    "slideshow": {
     "slide_type": ""
    },
    "tags": [
     "full-width",
     "hide-input"
    ]
   },
   "outputs": [],
   "source": [
    "def plot_mass_projection(ax, decay_ids: set[int]):\n",
    "    decay_products = get_decay_products(decay_ids)\n",
    "    decay_products_str = \"\".join(p.latex for p in decay_products)\n",
    "    resonances = get_resonances(decay_ids)\n",
    "    evenly_spaced_interval = np.linspace(0, 1, len(resonances))\n",
    "    colors = [cm.rainbow(x) for x in evenly_spaced_interval]\n",
    "    ax.hist(\n",
    "        phsp[f\"m_{''.join(map(str, sorted(decay_ids)))}\"].real,\n",
    "        bins=200,\n",
    "        alpha=0.5,\n",
    "        density=True,\n",
    "        weights=intensity_func(phsp),\n",
    "    )\n",
    "    ax.set_xlabel(f\"$m_{{{decay_products_str}}}$ [GeV]\")\n",
    "    for p, color in zip(resonances, colors):\n",
    "        ax.axvline(x=p.mass, linestyle=\"dotted\", label=f\"${p.latex}$\", color=color)\n",
    "    ax.legend()\n",
    "\n",
    "\n",
    "def get_decay_products(decay_ids: set[int]) -> tuple[Particle, Particle]:\n",
    "    return tuple(REACTION.final_state[i] for i in sorted(decay_ids))\n",
    "\n",
    "\n",
    "def get_resonances(decay_ids: set[int]) -> list[Particle]:\n",
    "    resonances = {\n",
    "        t.states[3].particle\n",
    "        for t in REACTION.transitions\n",
    "        if t.topology.get_edge_ids_outgoing_from_node(1) == decay_ids\n",
    "    }\n",
    "    return sorted(resonances, key=lambda p: (p.name[0], p.mass))\n",
    "\n",
    "\n",
    "fig, axes = plt.subplots(figsize=(9, 12), nrows=3)\n",
    "plot_mass_projection(axes[0], decay_ids={0, 1})\n",
    "plot_mass_projection(axes[1], decay_ids={1, 2})\n",
    "plot_mass_projection(axes[2], decay_ids={2, 0})\n",
    "plt.show()"
   ]
  },
  {
   "cell_type": "code",
   "execution_count": null,
   "metadata": {
    "editable": true,
    "jupyter": {
     "source_hidden": true
    },
    "slideshow": {
     "slide_type": ""
    },
    "tags": [
     "full-width",
     "hide-input"
    ]
   },
   "outputs": [],
   "source": [
    "def indicate_resonances(ax_func, decay_ids) -> None:\n",
    "    resonances = get_resonances(decay_ids)\n",
    "    evenly_spaced_interval = np.linspace(0, 1, len(resonances))\n",
    "    colors = [cm.rainbow(x) for x in evenly_spaced_interval]\n",
    "    for p, color in zip(resonances, colors):\n",
    "        ax_func(p.mass**2, linestyle=\"dotted\", label=f\"${p.latex}$\", color=color)\n",
    "\n",
    "\n",
    "x_subsystem = {0, 1}\n",
    "y_subsystem = {1, 2}\n",
    "x_products = get_decay_products(x_subsystem)\n",
    "y_products = get_decay_products(y_subsystem)\n",
    "fig, ax = plt.subplots(figsize=(8, 6))\n",
    "ax.hist2d(\n",
    "    phsp[f\"m_{''.join(map(str, sorted(x_subsystem)))}\"].real ** 2,\n",
    "    phsp[f\"m_{''.join(map(str, sorted(y_subsystem)))}\"].real ** 2,\n",
    "    bins=100,\n",
    "    cmin=1,\n",
    "    weights=intensity_func(phsp),\n",
    ")\n",
    "ax.set_xlabel(f\"$m_{{{' '.join(p.latex for p in x_products)}}}$\")\n",
    "ax.set_ylabel(f\"$m_{{{' '.join(p.latex for p in y_products)}}}$\")\n",
    "indicate_resonances(ax.axvline, x_subsystem)\n",
    "indicate_resonances(ax.axhline, y_subsystem)\n",
    "plt.show()"
   ]
  },
  {
   "cell_type": "code",
   "execution_count": null,
   "metadata": {
    "editable": true,
    "slideshow": {
     "slide_type": ""
    },
    "tags": [
     "remove-input"
    ]
   },
   "outputs": [],
   "source": [
    "display_memory_usage()"
   ]
  },
  {
   "cell_type": "markdown",
   "metadata": {
    "tags": []
   },
   "source": [
    "## Optimize parameters"
   ]
  },
  {
   "cell_type": "markdown",
   "metadata": {
    "editable": true,
    "slideshow": {
     "slide_type": ""
    },
    "tags": [
     "full-width",
     "hide-input"
    ]
   },
   "source": [
    "### Numerical gradient descent"
   ]
  },
  {
   "cell_type": "code",
   "execution_count": null,
   "metadata": {
    "tags": []
   },
   "outputs": [],
   "source": [
    "sig = inspect.signature(intensity_func.function)\n",
    "arg_names = tuple(sig.parameters)\n",
    "arg_to_par = {\n",
    "    arg: par\n",
    "    for arg, par in zip(arg_names, intensity_func.argument_order)\n",
    "    if par in intensity_func.parameters\n",
    "}\n",
    "idx_to_par = dict(enumerate(arg_to_par.values()))\n",
    "parameter_values = {\n",
    "    arg: complex(intensity_func.parameters[par]).real\n",
    "    for arg, par in arg_to_par.items()\n",
    "}"
   ]
  },
  {
   "cell_type": "code",
   "execution_count": null,
   "metadata": {
    "tags": []
   },
   "outputs": [],
   "source": [
    "def estimator(args):\n",
    "    parameters = {idx_to_par[i]: v for i, v in enumerate(args)}\n",
    "    intensity_func.update_parameters(parameters)\n",
    "    data_intensities = intensity_func(data)\n",
    "    phsp_intensities = intensity_func(phsp)\n",
    "    likelihoods = data_intensities / jnp.mean(phsp_intensities)\n",
    "    return -jnp.sum(jnp.log(likelihoods))\n",
    "\n",
    "\n",
    "estimator(parameter_values.values())"
   ]
  },
  {
   "cell_type": "code",
   "execution_count": null,
   "metadata": {
    "editable": true,
    "jupyter": {
     "source_hidden": true
    },
    "slideshow": {
     "slide_type": ""
    },
    "tags": [
     "hide-input"
    ]
   },
   "outputs": [],
   "source": [
    "arr = jnp.array([1.0])\n",
    "msg = f\"\"\"\n",
    ":::{{hint}}\n",
    "JAX is using this precision: **{arr.dtype}**. For the model, we have:\n",
    "- {len(REACTION.get_intermediate_particles())} resonances in {len(REACTION.transition_groups)} subsystems\n",
    "- {len(parameter_values)} of {len(MODEL.parameter_defaults)} free parameters\n",
    "- {sp.count_ops(unfolded_expression):,d} computational nodes\n",
    ":::\n",
    "\"\"\"\n",
    "msg = dedent(msg).strip()\n",
    "display(Markdown(msg))"
   ]
  },
  {
   "cell_type": "code",
   "execution_count": null,
   "metadata": {
    "tags": [
     "hide-output"
    ]
   },
   "outputs": [],
   "source": [
    "import iminuit\n",
    "from tqdm.auto import tqdm\n",
    "\n",
    "PROGRESS_BAR = tqdm()\n",
    "\n",
    "\n",
    "def estimator_with_progress_bar(*args, **kwargs):\n",
    "    estimator_value = estimator(*args, **kwargs)\n",
    "    PROGRESS_BAR.update()\n",
    "    PROGRESS_BAR.set_postfix({\"estimator\": f\"{estimator_value:,10g}\"})\n",
    "    return estimator_value\n",
    "\n",
    "\n",
    "RNG = np.random.default_rng(seed=0)\n",
    "δ = 0.01\n",
    "starting_values = tuple(\n",
    "    p * RNG.uniform(1 - δ, 1 + δ) for p in parameter_values.values()\n",
    ")\n",
    "optimizer = iminuit.Minuit(\n",
    "    estimator_with_progress_bar,\n",
    "    starting_values,\n",
    "    name=tuple(parameter_values),\n",
    ")\n",
    "optimizer.errors = tuple(\n",
    "    0.1 * abs(x) if abs(x) != 0.0 else 0.1 for x in starting_values\n",
    ")\n",
    "optimizer.errordef = iminuit.Minuit.LIKELIHOOD\n",
    "optimizer.migrad()"
   ]
  },
  {
   "cell_type": "markdown",
   "metadata": {},
   "source": [
    "### With analytic gradient"
   ]
  },
  {
   "cell_type": "code",
   "execution_count": null,
   "metadata": {},
   "outputs": [],
   "source": [
    "display_memory_usage()"
   ]
  }
 ],
 "metadata": {
  "colab": {
   "toc_visible": true
  },
  "kernelspec": {
   "display_name": "Python 3 (ipykernel)",
   "language": "python",
   "name": "python3"
  },
  "language_info": {
   "codemirror_mode": {
    "name": "ipython",
    "version": 3
   },
   "file_extension": ".py",
   "mimetype": "text/x-python",
   "name": "python",
   "nbconvert_exporter": "python",
   "pygments_lexer": "ipython3",
   "version": "3.8.18"
  }
 },
 "nbformat": 4,
 "nbformat_minor": 4
}
