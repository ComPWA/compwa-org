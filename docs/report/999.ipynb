{
 "cells": [
  {
   "cell_type": "code",
   "execution_count": null,
   "metadata": {
    "hideCode": true,
    "hideOutput": true,
    "hidePrompt": true,
    "jupyter": {
     "source_hidden": true
    },
    "slideshow": {
     "slide_type": "skip"
    },
    "tags": [
     "remove-cell"
    ]
   },
   "outputs": [],
   "source": [
    "%config InlineBackend.figure_formats = ['svg']\n",
    "import os\n",
    "\n",
    "STATIC_WEB_PAGE = {\"EXECUTE_NB\", \"READTHEDOCS\"}.intersection(os.environ)"
   ]
  },
  {
   "cell_type": "markdown",
   "metadata": {},
   "source": [
    "```{autolink-concat}\n",
    "```"
   ]
  },
  {
   "cell_type": "markdown",
   "metadata": {
    "tags": [
     "physics",
     "sympy",
     "3d"
    ]
   },
   "source": [
    "::::{margin}\n",
    ":::{card} 3D visualization of Riemann sheets\n",
    "TR-999\n",
    "^^^\n",
    "Follow-up to [TR-004](004.ipynb), where we investigate and reproduce the Riemann sheets shown in [Fig.&nbsp;50.1](https://pdg.lbl.gov/2023/reviews/rpp2022-rev-resonances.pdf#page=2) and [50.2](https://pdg.lbl.gov/2023/reviews/rpp2022-rev-resonances.pdf#page=4) of the PDG.\n",
    ":::\n",
    "::::"
   ]
  },
  {
   "cell_type": "markdown",
   "metadata": {},
   "source": [
    "# Riemann sheets"
   ]
  },
  {
   "cell_type": "markdown",
   "metadata": {
    "tags": []
   },
   "source": [
    "<!-- cspell:disable -->"
   ]
  },
  {
   "cell_type": "code",
   "execution_count": null,
   "metadata": {
    "tags": [
     "remove-cell"
    ]
   },
   "outputs": [],
   "source": [
    "%pip install -q ampform==0.14.6 plotly==5.17.0 sympy==1.12"
   ]
  },
  {
   "cell_type": "markdown",
   "metadata": {},
   "source": [
    "First, we formulate the $T$&nbsp;matrix in terms of a $K$&nbsp;matrix. There are two ways to do this and we associate the one with the $+$ with **Sheet I** and the one with $-$ with **Sheet II**."
   ]
  },
  {
   "cell_type": "code",
   "execution_count": null,
   "metadata": {
    "mystnb": {
     "code_prompt_show": "Import Python libraries"
    },
    "tags": [
     "hide-cell"
    ]
   },
   "outputs": [],
   "source": [
    "from __future__ import annotations\n",
    "\n",
    "import warnings\n",
    "\n",
    "import matplotlib.pyplot as plt\n",
    "import numpy as np\n",
    "import plotly.graph_objects as go\n",
    "import sympy as sp\n",
    "from ampform.io import aslatex\n",
    "from ampform.sympy import UnevaluatedExpression, implement_doit_method\n",
    "from ampform.sympy.math import create_expression\n",
    "from IPython.display import Math\n",
    "\n",
    "warnings.filterwarnings(\"ignore\")"
   ]
  },
  {
   "cell_type": "markdown",
   "metadata": {},
   "source": [
    "Note that this the above inversion is equivalent to [Eq.&nbsp;(50.31)](https://pdg.lbl.gov/2023/reviews/rpp2022-rev-resonances.pdf#page=4):\n",
    "\n",
    "$$\n",
    "T = (1 \\pm iK\\rho)^{-1}K.\n",
    "$$"
   ]
  },
  {
   "cell_type": "markdown",
   "metadata": {},
   "source": [
    "As an aside, we also define a special expression class for a square root where you can choose the sign for negative arguments. This can be used later for the phase space factor&nbsp;$\\rho$."
   ]
  },
  {
   "cell_type": "code",
   "execution_count": null,
   "metadata": {
    "jupyter": {
     "source_hidden": true
    },
    "mystnb": {
     "code_prompt_show": "Define special square root expression class"
    },
    "tags": [
     "hide-cell"
    ]
   },
   "outputs": [],
   "source": [
    "@implement_doit_method\n",
    "class SignedSqrt(UnevaluatedExpression):\n",
    "    is_commutative = True\n",
    "    is_real = False\n",
    "\n",
    "    def __new__(cls, z, **hints) -> SignedSqrt:\n",
    "        return create_expression(cls, z, **hints)\n",
    "\n",
    "    def evaluate(self) -> sp.Expr:\n",
    "        z = self.args[0]\n",
    "        return sp.sqrt(abs(z)) * sp.exp(sp.I * PosArg(z) / 2)\n",
    "\n",
    "    def _latex(self, printer, *args) -> str:\n",
    "        z = printer._print(self.args[0])\n",
    "        return Rf\"\\sqrt[+]{{{z}}}\"\n",
    "\n",
    "\n",
    "@implement_doit_method\n",
    "class PosArg(UnevaluatedExpression):\n",
    "    is_commutative = True\n",
    "\n",
    "    def __new__(cls, z, **hints) -> SignedSqrt:\n",
    "        return create_expression(cls, z, **hints)\n",
    "\n",
    "    def evaluate(self) -> sp.Expr:\n",
    "        z = self.args[0]\n",
    "        arg = sp.arg(z)\n",
    "        return sp.Piecewise(\n",
    "            (arg + 2 * sp.pi, sp.im(z) < 0),\n",
    "            (arg, True),\n",
    "        )\n",
    "\n",
    "    def _latex(self, printer, *args) -> str:\n",
    "        z = printer._print(self.args[0])\n",
    "        return Rf\"\\arg^+\\left({z}\\right)\"\n",
    "\n",
    "\n",
    "z = sp.Symbol(\"z\", complex=True)\n",
    "Math(aslatex({e: e.evaluate() for e in [SignedSqrt(z), PosArg(z)]}))"
   ]
  },
  {
   "cell_type": "markdown",
   "metadata": {},
   "source": [
    "This gives us all the ingredients to formulate expressions for the parametrization of the matrix elements.\n",
    "> **Note**\n",
    ">  In the following example we assume that $l$=0 "
   ]
  },
  {
   "cell_type": "markdown",
   "metadata": {},
   "source": [
    "## Define phasespacefactor for non-equal masses "
   ]
  },
  {
   "cell_type": "code",
   "execution_count": null,
   "metadata": {},
   "outputs": [],
   "source": [
    "@implement_doit_method\n",
    "class NonEqualPhspFactor(UnevaluatedExpression):\n",
    "    is_commutative = True\n",
    "    is_real = False\n",
    "\n",
    "    def __new__(cls, s, m1, m2, **hints) -> PhspFactor:\n",
    "        return create_expression(cls, s, m1, m2, sign=+1, *hints)\n",
    "\n",
    "    def evaluate(self) -> sp.Expr:\n",
    "        s, m1, m2 = self.args\n",
    "        return SignedSqrt((1 - ((m1 + m2) ** 2) / s) * (1 - (m1 - m2) ** 2 / s))\n",
    "\n",
    "    def _latex(self, printer: LatexPrinter, *args) -> str:\n",
    "        s = printer._print(self.args[0])\n",
    "        sign = \"+\"\n",
    "        return Rf\"\\rho^{{{sign}}}\\left({s}\\right)\"\n",
    "\n",
    "\n",
    "s, m_a, m_b = sp.symbols(\"s m_a m_b\")\n",
    "phsp_nonequal_mass = NonEqualPhspFactor(s, m_a, m_b)\n",
    "Math(aslatex({phsp_nonequal_mass: phsp_nonequal_mass.doit(deep=False)}))"
   ]
  },
  {
   "cell_type": "markdown",
   "metadata": {},
   "source": [
    "## Chew-Mandelstamm function  "
   ]
  },
  {
   "cell_type": "markdown",
   "metadata": {},
   "source": [
    "### Define break-up momentum "
   ]
  },
  {
   "cell_type": "code",
   "execution_count": null,
   "metadata": {},
   "outputs": [],
   "source": [
    "@implement_doit_method\n",
    "class BreakupMomentum(UnevaluatedExpression):\n",
    "    is_commutative = True\n",
    "    is_real = False\n",
    "\n",
    "    def __new__(cls, s, m_a, m_b, **hints) -> PhspFactor:\n",
    "        return create_expression(cls, s, m_a, m_b, sign=+1, **hints)\n",
    "\n",
    "    def evaluate(self) -> sp.Expr:\n",
    "        s, m_a, m_b = self.args\n",
    "        return SignedSqrt((s - (m_a + m_b) ** 2) * (s - (m_a - m_b) ** 2) / (s * 4))\n",
    "\n",
    "    def _latex(self, printer: LatexPrinter, *args) -> str:\n",
    "        s = printer._print(self.args[0])\n",
    "        sign = \"+\"\n",
    "        return Rf\"q^{{{sign}}}\\left({s}\\right)\"\n",
    "\n",
    "\n",
    "breakup_momentum = BreakupMomentum(s, m_a, m_b)\n",
    "Math(aslatex({breakup_momentum: breakup_momentum.doit(deep=False)}))"
   ]
  },
  {
   "cell_type": "code",
   "execution_count": null,
   "metadata": {},
   "outputs": [],
   "source": [
    "def Chew_Mandelstamm(s, m1, m2):\n",
    "    q_break = BreakupMomentum(s, m1, m2)\n",
    "    return (\n",
    "        1\n",
    "        / (16 * (sp.pi) ** 2)\n",
    "        * (\n",
    "            (2 * q_break / sp.sqrt(s))\n",
    "            * sp.log((m1**2 + m2**2 - s + 2 * sp.sqrt(s) * q_break) / (2 * m1 * m2))\n",
    "            - (m1**2 - m2**2) * (1 / s - 1 / (m1 + m2) ** 2) * sp.log(m1 / m2)\n",
    "        )\n",
    "    )\n",
    "\n",
    "\n",
    "chew_mandelstamm = Chew_Mandelstamm(s, m_a, m_b)\n",
    "Math(aslatex(chew_mandelstamm))"
   ]
  },
  {
   "cell_type": "markdown",
   "metadata": {},
   "source": [
    "## Plot Chew Mandelstamm function "
   ]
  },
  {
   "cell_type": "code",
   "execution_count": null,
   "metadata": {},
   "outputs": [],
   "source": [
    "Chew_Mandelstamm_func = sp.lambdify(\n",
    "    (s, m_a, m_b), Chew_Mandelstamm(s, m_a, m_b).doit(), \"numpy\"\n",
    ")\n",
    "Phsp_func = sp.lambdify(\n",
    "    (s, m_a, m_b), NonEqualPhspFactor(s, m_a, m_b).doit(), \"numpy\"\n",
    ")\n",
    "\n",
    "s_values = np.linspace(0, 2, 200)\n",
    "m_a_value = 0.6\n",
    "m_b_value = 0.4\n",
    "y_max = 3\n",
    "y_min = -0.6\n",
    "\n",
    "chew_mandelstamm_real = (\n",
    "    16 * np.pi * np.real(Chew_Mandelstamm_func(s_values, m_a_value, m_b_value))\n",
    ")\n",
    "chew_mandelstamm_imag = (\n",
    "    16 * np.pi * np.imag(Chew_Mandelstamm_func(s_values, m_a_value, m_b_value))\n",
    ")\n",
    "\n",
    "Phsp_real = np.real(1j * Phsp_func(s_values, m_a_value, m_b_value))\n",
    "Phsp_imag = np.imag(1j * Phsp_func(s_values, m_a_value, m_b_value))\n",
    "\n",
    "fig, axs = plt.subplots(1, 2, figsize=(15, 6), sharey=True)\n",
    "\n",
    "axs[0].plot(s_values, chew_mandelstamm_real, label=\"Real Part\")\n",
    "axs[0].plot(s_values, chew_mandelstamm_imag, label=\"Imaginary Part\")\n",
    "axs[0].set_xlabel(\"Re(s)\")\n",
    "axs[0].set_ylabel(\"Function Value\")\n",
    "axs[0].set_title(\"Chew Mandelstamm Function\")\n",
    "axs[0].legend()\n",
    "\n",
    "axs[0].set_ylim(y_min, y_max)\n",
    "axs[1].plot(s_values, Phsp_real, label=\"Real Part\")\n",
    "axs[1].plot(s_values, Phsp_imag, label=\"Imaginary Part\")\n",
    "axs[1].set_xlabel(\"Re(s)\")\n",
    "axs[1].set_title(\"Phase Space Factor\")\n",
    "axs[1].legend()\n",
    "\n",
    "plt.tight_layout()\n",
    "\n",
    "plt.show()"
   ]
  },
  {
   "cell_type": "markdown",
   "metadata": {},
   "source": [
    "## Define parameters values for plotting "
   ]
  },
  {
   "cell_type": "markdown",
   "metadata": {},
   "source": [
    "## Add K Matrix definition   "
   ]
  },
  {
   "cell_type": "code",
   "execution_count": null,
   "metadata": {},
   "outputs": [],
   "source": [
    "n_channels = 1\n",
    "I = sp.Identity(n_channels)\n",
    "K = sp.MatrixSymbol(\"K\", n_channels, n_channels)\n",
    "rho = sp.MatrixSymbol(\"rho\", n_channels, n_channels)"
   ]
  },
  {
   "cell_type": "code",
   "execution_count": null,
   "metadata": {},
   "outputs": [],
   "source": [
    "T = (I - sp.I * K * rho).inv() * K\n",
    "T"
   ]
  },
  {
   "cell_type": "code",
   "execution_count": null,
   "metadata": {},
   "outputs": [],
   "source": [
    "T_explicit = T.as_explicit()\n",
    "T_explicit"
   ]
  },
  {
   "cell_type": "markdown",
   "metadata": {},
   "source": [
    "No Blatt-Weisskopf-Formfactors because $l=0$"
   ]
  },
  {
   "cell_type": "code",
   "execution_count": null,
   "metadata": {},
   "outputs": [],
   "source": [
    "gamma_R, m_R, w_R = sp.symbols(\"gamma_R m_R Gamma_R\")\n",
    "k_expr = (gamma_R**2 * m_R * w_R) / (s - m_R**2)"
   ]
  },
  {
   "cell_type": "code",
   "execution_count": null,
   "metadata": {},
   "outputs": [],
   "source": [
    "rho_expressions = {\n",
    "    K[0, 0]: k_expr,\n",
    "    rho[0, 0]: NonEqualPhspFactor(s, m_a, m_b),\n",
    "}\n",
    "Math(aslatex(rho_expressions))"
   ]
  },
  {
   "cell_type": "code",
   "execution_count": null,
   "metadata": {},
   "outputs": [],
   "source": [
    "cm_expressions = {\n",
    "    K[0, 0]: k_expr,\n",
    "    rho[0, 0]: -sp.I * 16 * sp.pi * Chew_Mandelstamm(s, m_a, m_b),\n",
    "}\n",
    "Math(aslatex(cm_expressions))"
   ]
  },
  {
   "cell_type": "code",
   "execution_count": null,
   "metadata": {},
   "outputs": [],
   "source": [
    "cm_expressions_conj = {\n",
    "    K[0, 0]: k_expr,\n",
    "    rho[0, 0]: -sp.I * 16 * sp.pi * Chew_Mandelstamm(s, m_a, m_b).conjugate(),\n",
    "}\n",
    "Math(aslatex(cm_expressions_conj))"
   ]
  },
  {
   "cell_type": "code",
   "execution_count": null,
   "metadata": {
    "tags": [
     "hide-input"
    ]
   },
   "outputs": [],
   "source": [
    "T_rho_expr = T_explicit[0, 0].xreplace(rho_expressions)\n",
    "T_cm_expr = T_explicit[0, 0].xreplace(cm_expressions)\n",
    "T_cm_expr_conj = T_explicit[0, 0].xreplace(cm_expressions_conj)"
   ]
  },
  {
   "cell_type": "code",
   "execution_count": null,
   "metadata": {
    "tags": []
   },
   "outputs": [],
   "source": [
    "T_cm_expr"
   ]
  },
  {
   "cell_type": "markdown",
   "metadata": {},
   "source": [
    "## Second Riemann sheet\n",
    "To get to the physical/unpysical Riemann sheet one uses XXXX which is derived from Schwarz reflection priciple"
   ]
  },
  {
   "cell_type": "code",
   "execution_count": null,
   "metadata": {
    "tags": []
   },
   "outputs": [],
   "source": [
    "args = (s, m_a, m_b, m_R, w_R, gamma_R)\n",
    "T_rho_func = sp.lambdify(args, T_rho_expr.doit())\n",
    "T_cm_func = sp.lambdify(args, T_cm_expr.doit())\n",
    "T_cm_func_conj = sp.lambdify(args, T_cm_expr_conj.doit())"
   ]
  },
  {
   "cell_type": "code",
   "execution_count": null,
   "metadata": {},
   "outputs": [],
   "source": [
    "epsilon = 1e-5\n",
    "x = np.linspace(0, 2, num=200)\n",
    "y = np.linspace(epsilon, 1.5, num=100)\n",
    "X, Yn = np.meshgrid(x, -y)\n",
    "X, Yp = np.meshgrid(x, +y)\n",
    "Zn = X + Yn * 1j\n",
    "Zp = X + Yp * 1j\n",
    "Tn = T_rho_func(Zn**2, 0.05, 0.04, 0.4, 0.1, 1.0)\n",
    "Tp = T_rho_func(Zp**2, 0.05, 0.04, 0.4, 0.1, 1.0)\n",
    "Tn_cm = T_cm_func(Zn**2, 0.05, 0.04, 0.4, 0.1, 1.0)\n",
    "Tp_cm = T_cm_func(Zp**2, 0.05, 0.04, 0.4, 0.1, 1.0)\n",
    "Tn_cm_conj = T_cm_func_conj(Zn**2, 0.05, 0.04, 0.4, 0.1, 1.0)\n",
    "Tp_cm_conj = T_cm_func_conj(Zp**2, 0.05, 0.04, 0.4, 0.1, 1.0)\n",
    "vmax = 0.3"
   ]
  },
  {
   "cell_type": "code",
   "execution_count": null,
   "metadata": {},
   "outputs": [],
   "source": [
    "fig, axs = plt.subplots(1, 2, figsize=(15, 6), sharey=True)\n",
    "\n",
    "axs[0].plot(x, Tp_cm[0].imag)\n",
    "axs[0].plot(x, Tn_cm_conj[0].imag)\n",
    "axs[0].set_xlabel(\"Re(s)\")\n",
    "axs[0].set_ylabel(\"Function Value\")\n",
    "axs[0].set_title(\"Chew Mandelstamm Function\")\n",
    "\n",
    "axs[1].plot(x, Tp[0].imag)\n",
    "axs[1].plot(x, Tn[0].imag)\n",
    "axs[1].set_xlabel(\"Re(s)\")\n",
    "axs[1].set_title(\"Phsp Function\")\n",
    "\n",
    "\n",
    "plt.tight_layout()\n",
    "\n",
    "plt.show()"
   ]
  },
  {
   "cell_type": "code",
   "execution_count": null,
   "metadata": {
    "tags": [
     "hide-input",
     "scroll-input"
    ]
   },
   "outputs": [],
   "source": [
    "vmax = 0.3\n",
    "\n",
    "\n",
    "def sty(t):\n",
    "    return {\n",
    "        \"cmin\": -vmax,\n",
    "        \"cmax\": +vmax,\n",
    "        \"colorscale\": \"RdBu_r\",\n",
    "        \"surfacecolor\": t.imag,\n",
    "    }\n",
    "\n",
    "\n",
    "Sn_imag = go.Surface(x=X, y=Yn, z=Tn.imag, **sty(Tn), name=\"Unphysical\")\n",
    "Sp_imag = go.Surface(\n",
    "    x=X, y=Yp, z=Tp.imag, **sty(Tp), name=\"Physical\", colorbar_title=\"Im T\"\n",
    ")\n",
    "\n",
    "Sn_imag_cm = go.Surface(x=X, y=Yn, z=Tn_cm.imag, **sty(Tn), name=\"Unphysical\")\n",
    "Sp_imag_cm = go.Surface(\n",
    "    x=X, y=Yp, z=Tp_cm.imag, **sty(Tp_cm), name=\"Physical\", colorbar_title=\"Im T\"\n",
    ")\n",
    "\n",
    "Sn_imag_cm_conj = go.Surface(x=X, y=Yn, z=Tn_cm.imag, **sty(Tn), name=\"Unphysical\")\n",
    "Sp_imag_cm_conj = go.Surface(\n",
    "    x=X, y=Yp, z=Tp_cm.imag, **sty(Tp_cm), name=\"Physical\", colorbar_title=\"Im T\"\n",
    ")\n",
    "\n",
    "y = Yp[0]\n",
    "z = x + y * 1j\n",
    "\n",
    "line_real = go.Scatter3d(\n",
    "    x=x,\n",
    "    y=y,\n",
    "    z=Tp[0].real,\n",
    "    marker={\"size\": 0},\n",
    "    line={\"color\": \"darkgreen\", \"width\": 1},\n",
    ")\n",
    "line_cm_real = go.Scatter3d(\n",
    "    x=x,\n",
    "    y=y,\n",
    "    z=Tn_cm[0].real,\n",
    "    marker={\"size\": 0},\n",
    "    line={\"color\": \"darkgreen\", \"width\": 1},\n",
    ")\n",
    "\n",
    "fig_imag = go.Figure(data=[Sn_imag, Sp_imag, line_real])\n",
    "fig_imag.update_layout(\n",
    "    height=550,\n",
    "    width=600,\n",
    "    title_text=\" Imaginary part of T function with Phsp Sheet I+II\",\n",
    ")\n",
    "fig_imag.update_scenes(\n",
    "    xaxis_title_text=\"Re s\",\n",
    "    yaxis_title_text=\"Im s\",\n",
    "    zaxis_range=[-vmax, +vmax],\n",
    ")\n",
    "\n",
    "\n",
    "fig_imag_cm = go.Figure(data=[Sn_imag_cm_conj, Sp_imag_cm, line_cm_real])\n",
    "fig_imag_cm.update_layout(\n",
    "    height=550,\n",
    "    width=600,\n",
    "    title_text=\"Imaginary part of T function with CM Sheet I+II\",\n",
    ")\n",
    "fig_imag_cm.update_scenes(\n",
    "    xaxis_title_text=\"Re s\",\n",
    "    yaxis_title_text=\"Im s\",\n",
    "    zaxis_range=[-vmax, +vmax],\n",
    ")\n",
    "fig_imag.show()\n",
    "fig_imag_cm.show()"
   ]
  },
  {
   "cell_type": "markdown",
   "metadata": {},
   "source": []
  },
  {
   "cell_type": "code",
   "execution_count": null,
   "metadata": {},
   "outputs": [],
   "source": []
  },
  {
   "cell_type": "code",
   "execution_count": null,
   "metadata": {},
   "outputs": [],
   "source": []
  },
  {
   "cell_type": "code",
   "execution_count": null,
   "metadata": {},
   "outputs": [],
   "source": []
  },
  {
   "cell_type": "code",
   "execution_count": null,
   "metadata": {},
   "outputs": [],
   "source": []
  },
  {
   "cell_type": "code",
   "execution_count": null,
   "metadata": {},
   "outputs": [],
   "source": []
  },
  {
   "cell_type": "code",
   "execution_count": null,
   "metadata": {},
   "outputs": [],
   "source": []
  },
  {
   "cell_type": "code",
   "execution_count": null,
   "metadata": {},
   "outputs": [],
   "source": []
  },
  {
   "cell_type": "code",
   "execution_count": null,
   "metadata": {},
   "outputs": [],
   "source": []
  }
 ],
 "metadata": {
  "colab": {
   "toc_visible": true
  },
  "kernelspec": {
   "display_name": "Python 3 (ipykernel)",
   "language": "python",
   "name": "python3"
  },
  "language_info": {
   "codemirror_mode": {
    "name": "ipython",
    "version": 3
   },
   "file_extension": ".py",
   "mimetype": "text/x-python",
   "name": "python",
   "nbconvert_exporter": "python",
   "pygments_lexer": "ipython3",
   "version": "3.11.6"
  },
  "orphan": true
 },
 "nbformat": 4,
 "nbformat_minor": 4
}
