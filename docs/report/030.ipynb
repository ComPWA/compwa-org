{
 "cells": [
  {
   "cell_type": "markdown",
   "metadata": {
    "editable": true,
    "slideshow": {
     "slide_type": ""
    },
    "tags": []
   },
   "source": [
    "```{autolink-concat}\n",
    "```"
   ]
  },
  {
   "cell_type": "markdown",
   "metadata": {
    "editable": true,
    "slideshow": {
     "slide_type": ""
    },
    "tags": []
   },
   "source": [
    "::::{margin}\n",
    ":::{card} Amplitude building with K-matrix dynamics\n",
    "TR-030\n",
    ":::\n",
    "::::"
   ]
  },
  {
   "cell_type": "markdown",
   "metadata": {},
   "source": [
    "# Fit amplitude model with P-vector dynamics"
   ]
  },
  {
   "cell_type": "code",
   "execution_count": null,
   "metadata": {
    "editable": true,
    "slideshow": {
     "slide_type": ""
    },
    "tags": [
     "remove-cell"
    ]
   },
   "outputs": [],
   "source": [
    "%pip install -q 'qrules[viz]==0.10.2' 'tensorwaves[jax,phsp]==0.4.12' ampform==0.15.4 pandas==2.2.2 sympy==1.12"
   ]
  },
  {
   "cell_type": "code",
   "execution_count": null,
   "metadata": {
    "editable": true,
    "jupyter": {
     "source_hidden": true
    },
    "slideshow": {
     "slide_type": ""
    },
    "tags": [
     "hide-input",
     "scroll-input"
    ]
   },
   "outputs": [],
   "source": [
    "from __future__ import annotations\n",
    "\n",
    "import os\n",
    "import re\n",
    "from collections import defaultdict\n",
    "from typing import Any\n",
    "\n",
    "import ampform\n",
    "import attrs\n",
    "import graphviz\n",
    "import matplotlib.pyplot as plt\n",
    "import numpy as np\n",
    "import pandas as pd\n",
    "import qrules\n",
    "import sympy as sp\n",
    "from ampform.dynamics.builder import TwoBodyKinematicVariableSet\n",
    "from ampform.helicity import ParameterValues\n",
    "from ampform.io import aslatex\n",
    "from ampform.kinematics.phasespace import Kallen\n",
    "from ampform.sympy import unevaluated\n",
    "from IPython.display import Latex, display\n",
    "from matplotlib import cm\n",
    "from qrules.particle import Particle, ParticleCollection\n",
    "from sympy import Abs\n",
    "from tensorwaves.data import (\n",
    "    IntensityDistributionGenerator,\n",
    "    SympyDataTransformer,\n",
    "    TFPhaseSpaceGenerator,\n",
    "    TFUniformRealNumberGenerator,\n",
    "    TFWeightedPhaseSpaceGenerator,\n",
    ")\n",
    "from tensorwaves.estimator import UnbinnedNLL\n",
    "from tensorwaves.function.sympy import create_parametrized_function\n",
    "from tensorwaves.interface import DataSample, ParametrizedFunction\n",
    "from tensorwaves.optimizer import Minuit2\n",
    "from tensorwaves.optimizer.callbacks import CSVSummary\n",
    "\n",
    "os.environ[\"TF_CPP_MIN_LOG_LEVEL\"] = \"3\""
   ]
  },
  {
   "cell_type": "markdown",
   "metadata": {},
   "source": [
    "# Collect dynamics symbols"
   ]
  },
  {
   "cell_type": "markdown",
   "metadata": {},
   "source": [
    "| Resonance | $m$ [MeV] | $\\Gamma$ [MeV] | $J^P$ |\n",
    "|-----------|-----------|----------------|-------|\n",
    "| $N^*(1440)$ | 1398      | 167            | $\\frac{1}{2}^{+}$ |\n",
    "| $N^*(1535)$ | 1530      | 210            | $\\frac{1}{2}^{-}$ |\n",
    "| $N^*(1650)$ | 1668      | 194            | $\\frac{1}{2}^{-}$ |\n",
    "| $N^*(1710)$ | 1749      | 263            | $\\frac{1}{2}^{+}$ |\n",
    "| $N^*(1880)$ | 1876      | 261            | $\\frac{1}{2}^{+}$ |\n",
    "| $N^*(1895)$ | 2045      | 240            | $\\frac{1}{2}^{-}$ |\n",
    "| $N^*(1900)$ | 1970      | 255            | $\\frac{3}{2}^{+}$ |"
   ]
  },
  {
   "cell_type": "code",
   "execution_count": null,
   "metadata": {},
   "outputs": [],
   "source": [
    "def create_dynamics_symbol(\n",
    "    resonance: Particle, variable_pool: TwoBodyKinematicVariableSet\n",
    ") -> tuple[sp.Expr, dict[sp.Symbol, float]]:\n",
    "    J = sp.Rational(resonance.spin)\n",
    "    Q = resonance.charge\n",
    "    P = sp.Rational(resonance.parity)\n",
    "    if variable_pool.angular_momentum is not None:\n",
    "        L = sp.Rational(variable_pool.angular_momentum)\n",
    "        X = sp.Symbol(Rf\"X_{{Q={Q:+d}, S={J}, P ={P}}}^{{l={L}}}\")\n",
    "    else:\n",
    "        X = sp.Symbol(Rf\"X_{{Q={Q:+d}, S={J}, P ={P}}}\")\n",
    "    COLLECTED_X_SYMBOLS[X].add((resonance, variable_pool))\n",
    "    parameter_defaults = {}\n",
    "    return X, parameter_defaults\n",
    "\n",
    "\n",
    "COLLECTED_X_SYMBOLS = defaultdict(set)"
   ]
  },
  {
   "cell_type": "code",
   "execution_count": null,
   "metadata": {},
   "outputs": [],
   "source": [
    "def load_particle_database() -> ParticleCollection:\n",
    "    particle_database = qrules.load_default_particles()\n",
    "    additional_definitions = qrules.io.load(\"030/additional-definitions.yml\")\n",
    "    particle_database.update(additional_definitions)\n",
    "    return particle_database\n",
    "\n",
    "\n",
    "PARTICLE_DB = load_particle_database()"
   ]
  },
  {
   "cell_type": "code",
   "execution_count": null,
   "metadata": {
    "tags": []
   },
   "outputs": [],
   "source": [
    "reaction = qrules.generate_transitions(\n",
    "    initial_state=\"J/psi(1S)\",\n",
    "    final_state=[\"eta\", \"p\", \"p~\"],\n",
    "    allowed_intermediate_particles=[\n",
    "        \"N(Fakestar2)+\",\n",
    "        \"N(1650)+\",\n",
    "        \"N(1900)+\",\n",
    "        \"N(Fakestar)+\",\n",
    "    ],\n",
    "    allowed_interaction_types=[\"strong\"],\n",
    "    formalism=\"helicity\",\n",
    "    particle_db=PARTICLE_DB,\n",
    ")\n",
    "dot = qrules.io.asdot(reaction, collapse_graphs=True)\n",
    "graphviz.Source(dot)"
   ]
  },
  {
   "cell_type": "code",
   "execution_count": null,
   "metadata": {
    "tags": []
   },
   "outputs": [],
   "source": [
    "model_builder = ampform.get_builder(reaction)\n",
    "model_builder.adapter.permutate_registered_topologies()\n",
    "model_builder.scalar_initial_state_mass = True\n",
    "model_builder.stable_final_state_ids = [0, 1, 2]\n",
    "for name in reaction.get_intermediate_particles().names:\n",
    "    model_builder.set_dynamics(name, create_dynamics_symbol)\n",
    "model = model_builder.formulate()"
   ]
  },
  {
   "cell_type": "code",
   "execution_count": null,
   "metadata": {
    "tags": []
   },
   "outputs": [],
   "source": [
    "selected_amplitudes = {\n",
    "    k: v for i, (k, v) in enumerate(model.amplitudes.items()) if i < 3\n",
    "}\n",
    "src = aslatex(selected_amplitudes)"
   ]
  },
  {
   "cell_type": "markdown",
   "metadata": {},
   "source": [
    "## Formulate dynamics expression"
   ]
  },
  {
   "cell_type": "code",
   "execution_count": null,
   "metadata": {
    "tags": []
   },
   "outputs": [],
   "source": [
    "for symbol, resonances in COLLECTED_X_SYMBOLS.items():\n",
    "    display(symbol)\n",
    "    for p, _ in resonances:\n",
    "        print(f\"  {p.name:<20s} {p.mass:>8g} GeV  {p.width:>8g} GeV \")\n",
    "model.parameter_defaults"
   ]
  },
  {
   "cell_type": "markdown",
   "metadata": {
    "tags": []
   },
   "source": [
    "## Formulate Dynamics"
   ]
  },
  {
   "cell_type": "markdown",
   "metadata": {},
   "source": [
    "### Phasespace factor"
   ]
  },
  {
   "cell_type": "code",
   "execution_count": null,
   "metadata": {},
   "outputs": [],
   "source": [
    "@unevaluated(real=False)\n",
    "class PhaseSpaceCM(sp.Expr):\n",
    "    s: Any\n",
    "    m1: Any\n",
    "    m2: Any\n",
    "    _latex_repr_ = R\"\\rho^\\mathrm{{CM}}_{{{m1},{m2}}}\\left({s}\\right)\"\n",
    "\n",
    "    def evaluate(self) -> sp.Expr:\n",
    "        s, m1, m2 = self.args\n",
    "        return -16 * sp.pi * sp.I * ChewMandelstam(s, m1, m2)\n",
    "\n",
    "\n",
    "@unevaluated(real=False)\n",
    "class ChewMandelstam(sp.Expr):\n",
    "    s: Any\n",
    "    m1: Any\n",
    "    m2: Any\n",
    "    _latex_repr_ = R\"\\Sigma\\left({s}\\right)\"\n",
    "\n",
    "    def evaluate(self) -> sp.Expr:\n",
    "        s, m1, m2 = self.args\n",
    "        q = BreakupMomentum(s, m1, m2)\n",
    "        return (\n",
    "            1\n",
    "            / (16 * sp.pi**2)\n",
    "            * (\n",
    "                (2 * q / sp.sqrt(s))\n",
    "                * sp.log(Abs((m1**2 + m2**2 - s + 2 * sp.sqrt(s) * q) / (2 * m1 * m2)))\n",
    "                - (m1**2 - m2**2) * (1 / s - 1 / (m1 + m2) ** 2) * sp.log(m1 / m2)\n",
    "            )\n",
    "        )\n",
    "\n",
    "\n",
    "@unevaluated(real=False)\n",
    "class BreakupMomentum(sp.Expr):\n",
    "    s: Any\n",
    "    m1: Any\n",
    "    m2: Any\n",
    "    _latex_repr_ = R\"q\\left({s}\\right)\"\n",
    "\n",
    "    def evaluate(self) -> sp.Expr:\n",
    "        s, m1, m2 = self.args\n",
    "        return sp.sqrt(Kallen(s, m1**2, m2**2)) / (2 * sp.sqrt(s))\n",
    "\n",
    "\n",
    "@unevaluated(real=False)\n",
    "class ChannelWidth(sp.Expr):\n",
    "    s: Any\n",
    "    m1: Any\n",
    "    m2: Any\n",
    "    gamma_R: Any\n",
    "    _latex_repr_ = R\"\\Gamma_s\\left({s}\\right)\"\n",
    "\n",
    "    def evaluate(self) -> sp.Expr:\n",
    "        s, m1, m2, gamma_R = self.args\n",
    "        return gamma_R * PhaseSpaceCM(s, m1, m2)"
   ]
  },
  {
   "cell_type": "markdown",
   "metadata": {},
   "source": [
    "### Relativistic Breit-Wigner"
   ]
  },
  {
   "cell_type": "code",
   "execution_count": null,
   "metadata": {},
   "outputs": [],
   "source": [
    "PARAMETERS_BW = {}\n",
    "PARAMETERS_BW.update(model.parameter_defaults)\n",
    "\n",
    "\n",
    "def formulate_rel_bw(\n",
    "    resonances: list[tuple[Particle, TwoBodyKinematicVariableSet]],\n",
    ") -> sp.Expr:\n",
    "    (_, variables), *_ = resonances\n",
    "    s = variables.incoming_state_mass**2\n",
    "    m_a = variables.outgoing_state_mass1\n",
    "    m_b = variables.outgoing_state_mass2\n",
    "    w = [sp.Symbol(Rf\"w_{{{p.latex}}}\") for p, _ in resonances]\n",
    "    m = [sp.Symbol(Rf\"m_{{{p.latex}}}\") for p, _ in resonances]\n",
    "    b = [sp.Symbol(Rf\"b_{{{p.latex}}}\") for p, _ in resonances]\n",
    "    d = [sp.Symbol(Rf\"d_{{{p.latex}}}\") for p, _ in resonances]\n",
    "    L = [sp.Symbol(Rf\"L_{{{p.latex}}}\") for p, _ in resonances]\n",
    "    w_s = (ChannelWidth(s, m_a, m_b, w_) for w_ in w)\n",
    "    rel_bw = sum((w_ * m_) / (m_**2 - s - m_ * w_s_) for m_, w_, w_s_ in zip(m, w, w_s))\n",
    "    for i, (resonance, _) in enumerate(resonances):\n",
    "        PARAMETERS_BW[w[i]] = resonance.width\n",
    "        PARAMETERS_BW[m[i]] = resonance.mass\n",
    "        PARAMETERS_BW[b[i]] = 1\n",
    "        PARAMETERS_BW[d[i]] = 1\n",
    "        PARAMETERS_BW[L[i]] = 0\n",
    "    return rel_bw"
   ]
  },
  {
   "cell_type": "markdown",
   "metadata": {},
   "source": [
    "### $K$ matrix "
   ]
  },
  {
   "cell_type": "code",
   "execution_count": null,
   "metadata": {
    "tags": []
   },
   "outputs": [],
   "source": [
    "PARAMETERS_F = {}\n",
    "PARAMETERS_F.update(model.parameter_defaults)\n",
    "\n",
    "\n",
    "def formulate_K_matrix(\n",
    "    resonances: list[tuple[Particle, TwoBodyKinematicVariableSet]],\n",
    ") -> sp.Expr:\n",
    "    (_, variables), *_ = resonances\n",
    "    s = variables.incoming_state_mass**2\n",
    "    g = [sp.Symbol(Rf\"g_{{{p.latex}}}\") for p, _ in resonances]\n",
    "    m = [sp.Symbol(Rf\"m_{{{p.latex}}}\") for p, _ in resonances]\n",
    "\n",
    "    kmatrix = sum((g_**2) / (m_**2 - s) for m_, g_ in zip(m, g))\n",
    "    for i, (resonance, _) in enumerate(resonances):\n",
    "        PARAMETERS_F[m[i]] = resonance.mass\n",
    "        PARAMETERS_F[g[i]] = 1\n",
    "    return kmatrix"
   ]
  },
  {
   "cell_type": "markdown",
   "metadata": {},
   "source": [
    "### $P$ vector"
   ]
  },
  {
   "cell_type": "code",
   "execution_count": null,
   "metadata": {},
   "outputs": [],
   "source": [
    "def formulate_P_vector(\n",
    "    resonances: list[tuple[Particle, TwoBodyKinematicVariableSet]],\n",
    ") -> sp.Expr:\n",
    "    (_, variables), *_ = resonances\n",
    "    s = variables.incoming_state_mass**2\n",
    "    g = [sp.Symbol(Rf\"g_{{{p.latex}}}\") for p, _ in resonances]\n",
    "    m = [sp.Symbol(Rf\"m_{{{p.latex}}}\") for p, _ in resonances]\n",
    "    beta = [sp.Symbol(Rf\"\\beta_{{{p.latex}}}\") for p, _ in resonances]\n",
    "    P_vector = sum((g_ * beta_) / (m_**2 - s) for m_, g_, beta_ in zip(m, g, beta))\n",
    "    for i, (resonance, _) in enumerate(resonances):\n",
    "        PARAMETERS_F[m[i]] = resonance.mass\n",
    "        PARAMETERS_F[beta[i]] = 1 + 0j\n",
    "        PARAMETERS_F[g[i]] = 1\n",
    "    return P_vector"
   ]
  },
  {
   "cell_type": "markdown",
   "metadata": {},
   "source": [
    "### $F$ vector"
   ]
  },
  {
   "cell_type": "code",
   "execution_count": null,
   "metadata": {},
   "outputs": [],
   "source": [
    "def formulate_F_vector(\n",
    "    resonances: list[tuple[Particle, TwoBodyKinematicVariableSet]],\n",
    ") -> sp.Expr:\n",
    "    (_, variables), *_ = resonances\n",
    "    s = variables.incoming_state_mass**2\n",
    "    m_a = variables.outgoing_state_mass1\n",
    "    m_b = variables.outgoing_state_mass2\n",
    "    rho = PhaseSpaceCM(s, m_a, m_b)\n",
    "    K = formulate_K_matrix(resonances)\n",
    "    P = formulate_P_vector(resonances)\n",
    "    return (1 / (1 - rho * K)) * P"
   ]
  },
  {
   "cell_type": "markdown",
   "metadata": {},
   "source": [
    "### Model relativistic Breit-Wigner"
   ]
  },
  {
   "cell_type": "code",
   "execution_count": null,
   "metadata": {
    "tags": []
   },
   "outputs": [],
   "source": [
    "dynamics_expressions_rel_bw = {\n",
    "    symbol: formulate_rel_bw(resonances)\n",
    "    for symbol, resonances in COLLECTED_X_SYMBOLS.items()\n",
    "}\n",
    "model_rel_bw = attrs.evolve(\n",
    "    model,\n",
    "    parameter_defaults=ParameterValues({\n",
    "        **model.parameter_defaults,\n",
    "        **PARAMETERS_BW,\n",
    "    }),\n",
    ")"
   ]
  },
  {
   "cell_type": "code",
   "execution_count": null,
   "metadata": {
    "tags": []
   },
   "outputs": [],
   "source": [
    "full_expression_rel_bw = model_rel_bw.expression.doit().xreplace(\n",
    "    dynamics_expressions_rel_bw\n",
    ")"
   ]
  },
  {
   "cell_type": "markdown",
   "metadata": {},
   "source": [
    "### Model $F$ vector"
   ]
  },
  {
   "cell_type": "code",
   "execution_count": null,
   "metadata": {},
   "outputs": [],
   "source": [
    "dynamics_expressions_fvector = {\n",
    "    symbol: formulate_F_vector(resonances)\n",
    "    for symbol, resonances in COLLECTED_X_SYMBOLS.items()\n",
    "}\n",
    "model_fvector = attrs.evolve(\n",
    "    model,\n",
    "    parameter_defaults=ParameterValues({\n",
    "        **model.parameter_defaults,\n",
    "        **PARAMETERS_F,\n",
    "    }),\n",
    ")\n",
    "Latex(aslatex(dynamics_expressions_fvector))"
   ]
  },
  {
   "cell_type": "code",
   "execution_count": null,
   "metadata": {},
   "outputs": [],
   "source": [
    "model_fvector.parameter_defaults"
   ]
  },
  {
   "cell_type": "code",
   "execution_count": null,
   "metadata": {},
   "outputs": [],
   "source": [
    "full_expression_fvector = model_fvector.expression.doit().xreplace(\n",
    "    dynamics_expressions_fvector\n",
    ")\n",
    "sp.count_ops(full_expression_fvector)"
   ]
  },
  {
   "cell_type": "markdown",
   "metadata": {},
   "source": [
    "### Create Parametrized Function\n"
   ]
  },
  {
   "cell_type": "code",
   "execution_count": null,
   "metadata": {
    "tags": []
   },
   "outputs": [],
   "source": [
    "unfolded_expression_rel_bw = full_expression_rel_bw.doit()\n",
    "\n",
    "intensity_func_rel_bw = create_parametrized_function(\n",
    "    expression=unfolded_expression_rel_bw,\n",
    "    backend=\"jax\",\n",
    "    parameters=PARAMETERS_BW,\n",
    ")"
   ]
  },
  {
   "cell_type": "code",
   "execution_count": null,
   "metadata": {},
   "outputs": [],
   "source": [
    "unfolded_expression_fvector = full_expression_fvector.doit()\n",
    "\n",
    "intensity_func_fvector = create_parametrized_function(\n",
    "    expression=unfolded_expression_fvector,\n",
    "    backend=\"jax\",\n",
    "    parameters=PARAMETERS_F,\n",
    ")"
   ]
  },
  {
   "cell_type": "markdown",
   "metadata": {},
   "source": [
    "## Update parameters"
   ]
  },
  {
   "cell_type": "code",
   "execution_count": null,
   "metadata": {},
   "outputs": [],
   "source": [
    "new_parameters_fvector = {\n",
    "    R\"m_{N(Fakestar)^+}\": 1.95,\n",
    "    R\"\\beta_{N(Fakestar)^+}\": 1 + 0j,\n",
    "    R\"m_{N(1900)^+}\": 1.9,\n",
    "    R\"\\beta_{N(1900)^+}\": 1 + 0j,\n",
    "    R\"g_{N(1900)^+}\": 1,\n",
    "    R\"g_{N(Fakestar)^+}\": 1,\n",
    "    R\"m_{N(Fakestar2)^+}\": 1.75,\n",
    "    R\"\\beta_{N(Fakestar2)^+}\": 1 + 0j,\n",
    "    R\"m_{N(1650)^{+}}\": 1.65,\n",
    "    R\"\\beta_{N(1650)^{+}}\": 1 + 0j,\n",
    "    R\"g_{N(1650)^{+}}\": 1.65,\n",
    "    R\"g_{N(Fakestar2)^+}\": 1,\n",
    "}\n",
    "\n",
    "new_parameters_bw = {\n",
    "    R\"m_{N(Fakestar)^+}\": 1.85,\n",
    "    R\"w_{N(Fakestar)^+}\": 1 / 1.85,\n",
    "    R\"m_{N(1900)^+}\": 1.9,\n",
    "    R\"w_{N(1900)^+}\": 1 / 1.9,\n",
    "    R\"m_{N(Fakestar2)^+}\": 1.75,\n",
    "    R\"w_{N(Fakestar2)^+}\": 1 / 1.75,\n",
    "    R\"m_{N(1650)^{+}}\": 1.65,\n",
    "    R\"w_{N(1650)^{+}}\": 1 / 1.65,\n",
    "}"
   ]
  },
  {
   "cell_type": "code",
   "execution_count": null,
   "metadata": {},
   "outputs": [],
   "source": [
    "intensity_func_fvector.update_parameters(new_parameters_fvector)\n",
    "intensity_func_rel_bw.update_parameters(new_parameters_bw)\n",
    "intensity_func_fvector.parameters"
   ]
  },
  {
   "cell_type": "markdown",
   "metadata": {},
   "source": [
    "##  Generate data with $F$ vector\n",
    "### Generate phase space sample"
   ]
  },
  {
   "cell_type": "code",
   "execution_count": null,
   "metadata": {
    "tags": []
   },
   "outputs": [],
   "source": [
    "helicity_transformer = SympyDataTransformer.from_sympy(\n",
    "    model.kinematic_variables, backend=\"numpy\"\n",
    ")"
   ]
  },
  {
   "cell_type": "code",
   "execution_count": null,
   "metadata": {
    "tags": []
   },
   "outputs": [],
   "source": [
    "rng = TFUniformRealNumberGenerator(seed=0)\n",
    "phsp_generator = TFPhaseSpaceGenerator(\n",
    "    initial_state_mass=reaction.initial_state[-1].mass,\n",
    "    final_state_masses={i: p.mass for i, p in reaction.final_state.items()},\n",
    ")\n",
    "phsp_momenta = phsp_generator.generate(100_000, rng)\n",
    "phsp = helicity_transformer(phsp_momenta)\n",
    "phsp = {k: v.real for k, v in phsp.items()}\n",
    "phsp"
   ]
  },
  {
   "cell_type": "markdown",
   "metadata": {},
   "source": [
    "## Plot Sub-Intensities"
   ]
  },
  {
   "cell_type": "code",
   "execution_count": null,
   "metadata": {},
   "outputs": [],
   "source": [
    "def compute_sub_intensity(\n",
    "    func: ParametrizedFunction,\n",
    "    input_data: DataSample,\n",
    "    resonances: list[str],\n",
    "    coupling_pattern: str = r\"(\\\\beta|g)\",\n",
    "):\n",
    "    original_parameters = dict(func.parameters)\n",
    "    negative_lookahead = f\"(?!{'|'.join(map(re.escape, resonances))})\"\n",
    "    # https://regex101.com/r/WrgGyD/1\n",
    "    pattern = rf\"^{coupling_pattern}({negative_lookahead}.)*$\"\n",
    "    set_parameters_to_zero(func, pattern)\n",
    "    array = func(input_data)\n",
    "    func.update_parameters(original_parameters)\n",
    "    return array\n",
    "\n",
    "\n",
    "def set_parameters_to_zero(func: ParametrizedFunction, name_pattern: str) -> None:\n",
    "    new_parameters = dict(func.parameters)\n",
    "    for par_name in func.parameters:\n",
    "        if re.match(name_pattern, par_name) is not None:\n",
    "            new_parameters[par_name] = 0\n",
    "    func.update_parameters(new_parameters)"
   ]
  },
  {
   "cell_type": "code",
   "execution_count": null,
   "metadata": {},
   "outputs": [],
   "source": [
    "total_intensities = intensity_func_fvector(phsp)\n",
    "total_intensities_1 = intensity_func_rel_bw(phsp)\n",
    "sub_intensities = {\n",
    "    p: compute_sub_intensity(\n",
    "        intensity_func_fvector, phsp, resonances=[p.latex], coupling_pattern=r\"\\\\beta\"\n",
    "    )\n",
    "    for symbol, resonances in COLLECTED_X_SYMBOLS.items()\n",
    "    for p, _ in resonances\n",
    "}\n",
    "sub_intensities_bw = {\n",
    "    p: compute_sub_intensity(intensity_func_fvector, phsp, resonances=[p.latex])\n",
    "    for symbol, resonances in COLLECTED_X_SYMBOLS.items()\n",
    "    for p, _ in resonances\n",
    "}"
   ]
  },
  {
   "cell_type": "code",
   "execution_count": null,
   "metadata": {},
   "outputs": [],
   "source": [
    "fig, ax = plt.subplots(figsize=(8, 5), dpi=300)\n",
    "ax.set_xlim(2, 5)\n",
    "ax.set_xlabel(R\"$m_{p\\eta}^{2}$ [GeV^{2}]\")\n",
    "ax.set_xlabel(R\"Intensity [a. u.]\")\n",
    "ax.set_yticks([])\n",
    "\n",
    "bins = 150\n",
    "phsp_projection = np.real(phsp[\"m_01\"]) ** 2\n",
    "ax.hist(\n",
    "    phsp_projection,\n",
    "    weights=total_intensities,\n",
    "    bins=bins,\n",
    "    alpha=0.2,\n",
    "    color=\"hotpink\",\n",
    "    label=\"Full intensity\",\n",
    ")\n",
    "ax.hist(\n",
    "    phsp_projection,\n",
    "    weights=total_intensities_1,\n",
    "    bins=bins,\n",
    "    alpha=0.2,\n",
    "    color=\"grey\",\n",
    "    label=\"Full intensity\",\n",
    ")\n",
    "ax.hist(\n",
    "    len(sub_intensities) * [phsp_projection],\n",
    "    weights=list(sub_intensities.values()),\n",
    "    bins=bins,\n",
    "    alpha=0.6,\n",
    "    label=[\n",
    "        Rf\"Resonance at ${p.mass}\\,\\mathrm{{GeV^2}}$ $F$ vector\"\n",
    "        for p in sub_intensities\n",
    "    ],\n",
    "    histtype=\"step\",\n",
    ")\n",
    "\n",
    "ax.hist(\n",
    "    len(sub_intensities_bw) * [phsp_projection],\n",
    "    weights=list(sub_intensities_bw.values()),\n",
    "    bins=bins,\n",
    "    alpha=0.6,\n",
    "    label=[\n",
    "        Rf\"Resonance at ${p.mass}\\,\\mathrm{{GeV^2}}$ Breit-Wigner\"\n",
    "        for p in sub_intensities\n",
    "    ],\n",
    "    histtype=\"step\",\n",
    "    ls=\"dotted\",\n",
    ")\n",
    "\n",
    "fig.legend(loc=\"upper right\")\n",
    "plt.tight_layout()\n",
    "plt.show()"
   ]
  },
  {
   "cell_type": "markdown",
   "metadata": {},
   "source": [
    "### Dynamics expressions"
   ]
  },
  {
   "cell_type": "code",
   "execution_count": null,
   "metadata": {},
   "outputs": [],
   "source": [
    "dynamics_expr_rel_bw, *_ = dynamics_expressions_rel_bw.values()\n",
    "dynamics_expr_rel_bw"
   ]
  },
  {
   "cell_type": "code",
   "execution_count": null,
   "metadata": {},
   "outputs": [],
   "source": [
    "dynamics_expr_fvector, *_ = dynamics_expressions_fvector.values()\n",
    "dynamics_expr_fvector"
   ]
  },
  {
   "cell_type": "code",
   "execution_count": null,
   "metadata": {},
   "outputs": [],
   "source": [
    "dynamics_func_bw = create_parametrized_function(\n",
    "    expression=dynamics_expr_rel_bw.doit(),\n",
    "    backend=\"numpy\",\n",
    "    parameters=model_rel_bw.parameter_defaults,\n",
    "    use_cse=False,\n",
    ")"
   ]
  },
  {
   "cell_type": "code",
   "execution_count": null,
   "metadata": {},
   "outputs": [],
   "source": [
    "dynamics_func_fvector = create_parametrized_function(\n",
    "    expression=dynamics_expr_fvector.doit(),\n",
    "    backend=\"numpy\",\n",
    "    parameters=model_fvector.parameter_defaults,\n",
    "    use_cse=False,\n",
    ")"
   ]
  },
  {
   "cell_type": "markdown",
   "metadata": {},
   "source": [
    "### Weighted data with $F$ vector "
   ]
  },
  {
   "cell_type": "code",
   "execution_count": null,
   "metadata": {},
   "outputs": [],
   "source": [
    "figD, axD = plt.subplots(figsize=(6, 5))\n",
    "c = axD.hist(\n",
    "    np.real(phsp[\"m_01\"]) ** 2,\n",
    "    bins=100,\n",
    "    weights=np.real(intensity_func_rel_bw(phsp)),\n",
    ")\n",
    "\n",
    "axD.set_xlabel(R\"$M^2\\left(\\eta p\\right)\\, \\mathrm{[(GeV/c)^2]}$\")\n",
    "axD.set_ylabel(R\"Intensity [a.u.]\")\n",
    "figD.tight_layout()\n",
    "plt.show()\n",
    "phsp[\"m_01\"]"
   ]
  },
  {
   "cell_type": "code",
   "execution_count": null,
   "metadata": {
    "tags": []
   },
   "outputs": [],
   "source": [
    "weighted_phsp_generator = TFWeightedPhaseSpaceGenerator(\n",
    "    initial_state_mass=model.reaction_info.initial_state[-1].mass,\n",
    "    final_state_masses={i: p.mass for i, p in model.reaction_info.final_state.items()},\n",
    ")\n",
    "data_generator = IntensityDistributionGenerator(\n",
    "    domain_generator=weighted_phsp_generator,\n",
    "    function=intensity_func_rel_bw,\n",
    "    domain_transformer=helicity_transformer,\n",
    ")\n",
    "data_momenta = data_generator.generate(50_000, rng)\n",
    "pd.DataFrame({\n",
    "    (k, label): np.transpose(v)[i]\n",
    "    for k, v in data_momenta.items()\n",
    "    for i, label in enumerate([\"E\", \"px\", \"py\", \"pz\"])\n",
    "})\n",
    "phsp = helicity_transformer(phsp_momenta)\n",
    "data = helicity_transformer(data_momenta)\n",
    "data_frame = pd.DataFrame(data)\n",
    "phsp_frame = pd.DataFrame(phsp)"
   ]
  },
  {
   "cell_type": "code",
   "execution_count": null,
   "metadata": {},
   "outputs": [],
   "source": [
    "resonances = sorted(\n",
    "    model.reaction_info.get_intermediate_particles(),\n",
    "    key=lambda p: p.mass,\n",
    ")\n",
    "evenly_spaced_interval = np.linspace(\n",
    "    0, 1, len(intensity_func_fvector.parameters.items())\n",
    ")\n",
    "colors = [cm.rainbow(x) for x in evenly_spaced_interval]\n",
    "fig, ax = plt.subplots(figsize=(9, 4))\n",
    "ax.hist(\n",
    "    np.real(data_frame[\"m_01\"]),\n",
    "    bins=200,\n",
    "    alpha=0.5,\n",
    "    density=True,\n",
    ")\n",
    "ax.set_xlabel(\"$m$ [GeV]\")\n",
    "for (k, v), color in zip(new_parameters_bw.items(), colors):\n",
    "    if k.startswith(\"m_{\"):\n",
    "        ax.axvline(\n",
    "            x=v,\n",
    "            linestyle=\"dotted\",\n",
    "            label=r\"$\" + k + \"$\",\n",
    "            color=color,\n",
    "        )\n",
    "ax.legend()\n",
    "plt.show()\n",
    "# Multiply"
   ]
  },
  {
   "cell_type": "markdown",
   "metadata": {},
   "source": [
    "### Perform fit"
   ]
  },
  {
   "cell_type": "markdown",
   "metadata": {},
   "source": [
    "#### Define estimator"
   ]
  },
  {
   "cell_type": "code",
   "execution_count": null,
   "metadata": {},
   "outputs": [],
   "source": [
    "def safe_downcast_to_real(data: DataSample) -> DataSample:\n",
    "    return {\n",
    "        key: array.real if np.isrealobj(array) else array for key, array in data.items()\n",
    "    }\n",
    "\n",
    "\n",
    "data_real = safe_downcast_to_real(data)\n",
    "phsp_real = safe_downcast_to_real(phsp)"
   ]
  },
  {
   "cell_type": "code",
   "execution_count": null,
   "metadata": {},
   "outputs": [],
   "source": [
    "estimator_bw = UnbinnedNLL(\n",
    "    intensity_func_rel_bw,\n",
    "    data=data_real,\n",
    "    phsp=phsp_real,\n",
    "    backend=\"jax\",\n",
    ")\n",
    "\n",
    "estimator_fvector = UnbinnedNLL(\n",
    "    intensity_func_fvector,\n",
    "    data=data_real,\n",
    "    phsp=phsp_real,\n",
    "    backend=\"jax\",\n",
    ")"
   ]
  },
  {
   "cell_type": "code",
   "execution_count": null,
   "metadata": {},
   "outputs": [],
   "source": [
    "reaction_info = model.reaction_info\n",
    "resonances = sorted(\n",
    "    reaction_info.get_intermediate_particles(),\n",
    "    key=lambda p: p.mass,\n",
    ")\n",
    "evenly_spaced_interval_F = np.linspace(\n",
    "    0, 1, len(intensity_func_fvector.parameters.items())\n",
    ")\n",
    "colors_F = [cm.rainbow(x) for x in evenly_spaced_interval_F]\n",
    "evenly_spaced_interval_BW = np.linspace(\n",
    "    0, 1, len(intensity_func_rel_bw.parameters.items())\n",
    ")\n",
    "colors_BW = [cm.gist_rainbow(x) for x in evenly_spaced_interval_BW]\n",
    "\n",
    "\n",
    "def indicate_masses(ax):\n",
    "    ax.set_xlabel(\"$m$ [GeV]\")\n",
    "    for (k, v), color_F in zip(intensity_func_fvector.parameters.items(), colors_F):\n",
    "        if k.startswith(\"m_{\"):\n",
    "            ax.axvline(\n",
    "                x=v,\n",
    "                linestyle=\"dotted\",\n",
    "                label=r\"$\" + k + \"$\" \"(F vector)\",\n",
    "                color=color_F,\n",
    "            )\n",
    "    for (k, v), color_BW in zip(intensity_func_rel_bw.parameters.items(), colors_BW):\n",
    "        if k.startswith(\"m_{\"):\n",
    "            ax.axvline(\n",
    "                x=v,\n",
    "                linestyle=\"dotted\",\n",
    "                label=r\"$\" + k + \"$\" \"(Breit-Wigner)\",\n",
    "                color=color_BW,\n",
    "            )\n",
    "\n",
    "\n",
    "def compare_model(\n",
    "    variable_name,\n",
    "    data,\n",
    "    phsp,\n",
    "    function1,\n",
    "    function2,\n",
    "    bins=100,\n",
    "):\n",
    "    intensities1 = function1(phsp)\n",
    "    intensities2 = function2(phsp)\n",
    "    _, ax = plt.subplots(figsize=(9, 4))\n",
    "    data_projection = np.real(data[variable_name])\n",
    "    ax = plt.gca()\n",
    "    ax.hist(\n",
    "        data_projection,\n",
    "        bins=bins,\n",
    "        alpha=0.5,\n",
    "        label=\"data\",\n",
    "        density=True,\n",
    "    )\n",
    "    phsp_projection = np.real(phsp[variable_name])\n",
    "    ax.hist(\n",
    "        phsp_projection,\n",
    "        weights=np.array(intensities1),\n",
    "        bins=bins,\n",
    "        histtype=\"step\",\n",
    "        color=\"red\",\n",
    "        label=\"Fit model with K matrix\",\n",
    "        density=True,\n",
    "    )\n",
    "    ax.hist(\n",
    "        phsp_projection,\n",
    "        weights=np.array(intensities2),\n",
    "        bins=bins,\n",
    "        histtype=\"step\",\n",
    "        color=\"blue\",\n",
    "        label=\"Fit model with Breit Wigner\",\n",
    "        density=True,\n",
    "    )\n",
    "    indicate_masses(ax)\n",
    "    ax.legend()"
   ]
  },
  {
   "cell_type": "markdown",
   "metadata": {},
   "source": [
    "### Set initial parameters"
   ]
  },
  {
   "cell_type": "code",
   "execution_count": null,
   "metadata": {},
   "outputs": [],
   "source": [
    "m_1900 = 1.93\n",
    "beta_1900 = 0.9 + 0j\n",
    "g_1900 = 1.0\n",
    "m_1650 = 1.65\n",
    "beta_1650 = 1 + 0j\n",
    "g_1900 = 1.0\n",
    "m_Fakestar2 = 1.5\n",
    "beta_Fakestar2 = 1 + 0j\n",
    "g_Fakestar2 = 1.0\n",
    "m_Fakestar1 = 1.94\n",
    "initial_parameters_fvector = {\n",
    "    R\"m_{N(Fakestar)^+}\": 1.95,\n",
    "    R\"\\beta_{N(Fakestar)^+}\": 0.9 + 0j,\n",
    "    R\"m_{N(1900)^+}\": 1.91,\n",
    "    R\"\\beta_{N(1900)^+}\": 1 + 0j,\n",
    "    R\"g_{N(1900)^+}\": 1.0,\n",
    "    R\"g_{N(Fakestar)^+}\": 1.0,\n",
    "    R\"m_{N(Fakestar2)^+}\": 1.7,\n",
    "    R\"\\beta_{N(Fakestar2)^+}\": 1 + 0j,\n",
    "    R\"m_{N(1650)^{+}}\": 1.67,\n",
    "    R\"\\beta_{N(1650)^{+}}\": 1 + 0j,\n",
    "    R\"g_{N(1650)^{+}}\": 1.6,\n",
    "    R\"g_{N(Fakestar2)^+}\": 1,\n",
    "}\n",
    "\n",
    "initial_parameters_bw = {\n",
    "    R\"m_{N(Fakestar)^+}\": 1.8,\n",
    "    R\"w_{N(Fakestar)^+}\": 1 / 1.85,\n",
    "    R\"m_{N(1900)^+}\": 1.93,\n",
    "    R\"w_{N(1900)^+}\": 1 / 1.93,\n",
    "    R\"m_{N(Fakestar2)^+}\": 1.7,\n",
    "    R\"w_{N(Fakestar2)^+}\": 1 / 1.65,\n",
    "    R\"m_{N(1650)^{+}}\": 1.6,\n",
    "    R\"w_{N(1650)^{+}}\": 1 / 1.6,\n",
    "}"
   ]
  },
  {
   "cell_type": "code",
   "execution_count": null,
   "metadata": {},
   "outputs": [],
   "source": [
    "original_parameters = intensity_func_fvector.parameters\n",
    "intensity_func_fvector.update_parameters(initial_parameters_fvector)\n",
    "intensity_func_rel_bw.update_parameters(initial_parameters_bw)\n",
    "compare_model(\n",
    "    \"m_01\", data_real, phsp_real, intensity_func_fvector, intensity_func_rel_bw\n",
    ")"
   ]
  },
  {
   "cell_type": "code",
   "execution_count": null,
   "metadata": {},
   "outputs": [],
   "source": [
    "minuit2 = Minuit2(\n",
    "    callback=CSVSummary(\"fit_traceback.csv\"),\n",
    "    use_analytic_gradient=False,\n",
    ")\n",
    "\n",
    "fit_result_BW = minuit2.optimize(estimator_bw, initial_parameters_bw)\n",
    "display(\"Fit Breit-Wigner:\", fit_result_BW)\n",
    "fit_result_F = minuit2.optimize(estimator_fvector, initial_parameters_fvector)\n",
    "display(\"Fit F vector:\", fit_result_F)"
   ]
  },
  {
   "cell_type": "code",
   "execution_count": null,
   "metadata": {},
   "outputs": [],
   "source": [
    "optimized_parameters_BW = fit_result_BW.parameter_values\n",
    "optimized_parameters_F = fit_result_F.parameter_values\n",
    "intensity_func_fvector.update_parameters(optimized_parameters_F)\n",
    "intensity_func_rel_bw.update_parameters(optimized_parameters_BW)\n",
    "compare_model(\n",
    "    \"m_01\", data_real, phsp_real, intensity_func_fvector, intensity_func_rel_bw\n",
    ")"
   ]
  },
  {
   "cell_type": "markdown",
   "metadata": {},
   "source": [
    "### Parameters for $F$ vector v.s. sum of Breit-Wigners"
   ]
  },
  {
   "cell_type": "code",
   "execution_count": null,
   "metadata": {},
   "outputs": [],
   "source": [
    "for p in optimized_parameters_F:\n",
    "    print(p)\n",
    "    print(f\"  initial:   {initial_parameters_fvector[p]:.3}\")\n",
    "    print(f\"  optimized F vector: {optimized_parameters_F[p]:.3}\")\n",
    "    print(f\"  original:  {original_parameters[p]:.3}\")\n",
    "latest_parameters_F = CSVSummary.load_latest_parameters(\"fit_traceback.csv\")\n",
    "latest_parameters_F"
   ]
  },
  {
   "cell_type": "code",
   "execution_count": null,
   "metadata": {},
   "outputs": [],
   "source": [
    "for p in optimized_parameters_BW:\n",
    "    print(p)\n",
    "    print(f\"  initial:   {initial_parameters_bw[p]:.3}\")\n",
    "    print(f\"  optimized Breit-Wigner: {optimized_parameters_BW[p]:.3}\")\n",
    "    print(f\"  original:  {original_parameters[p]:.3}\")\n",
    "latest_parameters_BW = CSVSummary.load_latest_parameters(\"fit_traceback.csv\")\n",
    "latest_parameters_BW"
   ]
  },
  {
   "cell_type": "markdown",
   "metadata": {},
   "source": []
  },
  {
   "cell_type": "code",
   "execution_count": null,
   "metadata": {},
   "outputs": [],
   "source": []
  }
 ],
 "metadata": {
  "colab": {
   "toc_visible": true
  },
  "kernelspec": {
   "display_name": "Python 3 (ipykernel)",
   "language": "python",
   "name": "python3"
  },
  "language_info": {
   "codemirror_mode": {
    "name": "ipython",
    "version": 3
   },
   "file_extension": ".py",
   "mimetype": "text/x-python",
   "name": "python",
   "nbconvert_exporter": "python",
   "pygments_lexer": "ipython3",
   "version": "3.10.14"
  }
 },
 "nbformat": 4,
 "nbformat_minor": 4
}
