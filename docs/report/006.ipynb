{
 "cells": [
  {
   "cell_type": "markdown",
   "metadata": {},
   "source": [
    "# [TR-006] Interactive 3D plots"
   ]
  },
  {
   "cell_type": "markdown",
   "metadata": {},
   "source": [
    "<!-- cspell:ignore cstride facecolor ianhi ipywidgets mplot rstride valinit valmax valmin valstep -->"
   ]
  },
  {
   "cell_type": "code",
   "execution_count": null,
   "metadata": {
    "jupyter": {
     "source_hidden": true
    },
    "tags": [
     "hide-cell"
    ]
   },
   "outputs": [],
   "source": [
    "%%sh\n",
    "pip install matplotlib==3.4.2 numpy==1.19.5 sympy==1.8 > /dev/null"
   ]
  },
  {
   "cell_type": "code",
   "execution_count": null,
   "metadata": {
    "jupyter": {
     "source_hidden": true
    },
    "tags": [
     "hide-cell"
    ]
   },
   "outputs": [],
   "source": [
    "%config InlineBackend.figure_formats = ['svg']\n",
    "%matplotlib widget\n",
    "import os\n",
    "\n",
    "import matplotlib.pyplot as plt\n",
    "import numpy as np\n",
    "import sympy as sp\n",
    "from matplotlib import cm, widgets\n",
    "\n",
    "STATIC_WEB_PAGE = {\"EXECUTE_NB\", \"READTHEDOCS\"}.intersection(os.environ)"
   ]
  },
  {
   "cell_type": "markdown",
   "metadata": {},
   "source": [
    "This report illustrates how to interact with [`matplotlib`](https://matplotlib.org) 3D plots through [Matplotlib sliders](https://matplotlib.org/stable/api/widgets_api.html) and [ipywidgets](https://ipywidgets.readthedocs.io/en/latest/examples/Widget%20List.html). This might be implemented later on in {mod}`symplot` and/or [`mpl_interactions`](https://mpl-interactions.readthedocs.io) (see [ianhi/mpl-interactions#89](https://github.com/ianhi/mpl-interactions/issues/89)).\n",
    "\n",
    "In this example, we create a {obj}`~mpl_toolkits.mplot3d.Axes3D.plot_surface` for the following function."
   ]
  },
  {
   "cell_type": "code",
   "execution_count": null,
   "metadata": {
    "jupyter": {
     "source_hidden": true
    },
    "tags": [
     "hide-input"
    ]
   },
   "outputs": [],
   "source": [
    "x, y, a, b = sp.symbols(\"x y a b\")\n",
    "expr = sp.sqrt(x ** a + sp.sin(y / b) ** 2)\n",
    "expr"
   ]
  },
  {
   "cell_type": "markdown",
   "metadata": {},
   "source": [
    "The function is formulated with {mod}`sympy`, but we use {func}`~sympy.utilities.lambdify.lambdify` to express it as a {mod}`numpy` function."
   ]
  },
  {
   "cell_type": "code",
   "execution_count": null,
   "metadata": {},
   "outputs": [],
   "source": [
    "np_expr = sp.lambdify((x, y, a, b), expr, \"numpy\")"
   ]
  },
  {
   "cell_type": "markdown",
   "metadata": {},
   "source": [
    "A surface plot has to be generated over a {func}`numpy.meshgrid`. This defines the $xy$-plane over which we want to plot our function."
   ]
  },
  {
   "cell_type": "code",
   "execution_count": null,
   "metadata": {},
   "outputs": [],
   "source": [
    "x_min, x_max = 0.1, 2\n",
    "y_min, y_max = -50, +50\n",
    "x_values = np.linspace(x_min, x_max, num=20)\n",
    "y_values = np.linspace(y_min, y_max, num=40)\n",
    "X, Y = np.meshgrid(x_values, y_values)"
   ]
  },
  {
   "cell_type": "markdown",
   "metadata": {},
   "source": [
    "The $z$-values for {obj}`~mpl_toolkits.mplot3d.Axes3D.plot_surface` can now be simply computed as follows:"
   ]
  },
  {
   "cell_type": "code",
   "execution_count": null,
   "metadata": {},
   "outputs": [],
   "source": [
    "a_init = -0.5\n",
    "b_init = 20\n",
    "Z = np_expr(X, Y, a=a_init, b=b_init)"
   ]
  },
  {
   "cell_type": "markdown",
   "metadata": {},
   "source": [
    "We now want to create sliders for $a$ and $b$, so that we can live-update the surface plot through those sliders."
   ]
  },
  {
   "cell_type": "markdown",
   "metadata": {},
   "source": [
    "## Matplotlib widgets"
   ]
  },
  {
   "cell_type": "markdown",
   "metadata": {},
   "source": [
    "Matplotlib provides its own way to define {mod}`matplotlib.widgets`."
   ]
  },
  {
   "cell_type": "code",
   "execution_count": null,
   "metadata": {
    "tags": [
     "remove-output"
    ]
   },
   "outputs": [],
   "source": [
    "fig, ax = plt.subplots(ncols=1, subplot_kw={\"projection\": \"3d\"})\n",
    "\n",
    "# Create sliders and insert them within the figure\n",
    "plt.subplots_adjust(bottom=0.25)\n",
    "a_slider = widgets.Slider(\n",
    "    ax=plt.axes([0.2, 0.1, 0.65, 0.03]),\n",
    "    label=f\"${sp.latex(a)}$\",\n",
    "    valmin=-2,\n",
    "    valmax=2,\n",
    "    valinit=a_init,\n",
    ")\n",
    "b_slider = widgets.Slider(\n",
    "    ax=plt.axes([0.2, 0.05, 0.65, 0.03]),\n",
    "    label=f\"${sp.latex(b)}$\",\n",
    "    valmin=10,\n",
    "    valmax=50,\n",
    "    valinit=b_init,\n",
    "    valstep=1,\n",
    ")\n",
    "\n",
    "\n",
    "# Define what to do when a slider changes\n",
    "def update_plot(val=None):\n",
    "    a = a_slider.val\n",
    "    b = b_slider.val\n",
    "    ax.clear()\n",
    "    Z = np_expr(X, Y, a, b)\n",
    "    ax.plot_surface(\n",
    "        X, Y, Z, rstride=3, cstride=1, cmap=cm.coolwarm, antialiased=False\n",
    "    )\n",
    "    ax.set_xlabel(f\"${sp.latex(x)}$\")\n",
    "    ax.set_ylabel(f\"${sp.latex(y)}$\")\n",
    "    ax.set_zlabel(f\"${sp.latex(expr)}$\")\n",
    "    ax.set_xticks([])\n",
    "    ax.set_yticks([])\n",
    "    ax.set_zticks([])\n",
    "    ax.set_facecolor(\"white\")\n",
    "    fig.canvas.draw_idle()\n",
    "\n",
    "\n",
    "a_slider.on_changed(update_plot)\n",
    "b_slider.on_changed(update_plot)\n",
    "\n",
    "# Plot the surface as initialization\n",
    "update_plot()\n",
    "plt.show()"
   ]
  },
  {
   "cell_type": "markdown",
   "metadata": {},
   "source": [
    "{{ run_interactive }}"
   ]
  },
  {
   "cell_type": "code",
   "execution_count": null,
   "metadata": {
    "jupyter": {
     "source_hidden": true
    },
    "tags": [
     "remove-input"
    ]
   },
   "outputs": [],
   "source": [
    "if STATIC_WEB_PAGE:\n",
    "    from IPython.display import SVG\n",
    "\n",
    "    output_file = \"006-matplotlib-slider.svg\"\n",
    "    plt.savefig(output_file)\n",
    "    display(SVG(output_file))"
   ]
  }
 ],
 "metadata": {
  "kernelspec": {
   "display_name": "Python 3",
   "language": "python",
   "name": "python3"
  },
  "language_info": {
   "codemirror_mode": {
    "name": "ipython",
    "version": 3
   },
   "file_extension": ".py",
   "mimetype": "text/x-python",
   "name": "python",
   "nbconvert_exporter": "python",
   "pygments_lexer": "ipython3",
   "version": "3.8.10"
  }
 },
 "nbformat": 4,
 "nbformat_minor": 4
}
