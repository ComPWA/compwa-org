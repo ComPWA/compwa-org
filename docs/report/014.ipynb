{
 "cells": [
  {
   "cell_type": "code",
   "execution_count": null,
   "metadata": {
    "hideCode": true,
    "hideOutput": true,
    "hidePrompt": true,
    "jupyter": {
     "source_hidden": true
    },
    "slideshow": {
     "slide_type": "skip"
    },
    "tags": [
     "remove-cell"
    ]
   },
   "outputs": [],
   "source": [
    "%config InlineBackend.figure_formats = ['svg']\n",
    "import os\n",
    "\n",
    "STATIC_WEB_PAGE = {\"EXECUTE_NB\", \"READTHEDOCS\"}.intersection(os.environ)"
   ]
  },
  {
   "cell_type": "markdown",
   "metadata": {},
   "source": [
    "```{autolink-concat}\n",
    "```"
   ]
  },
  {
   "cell_type": "markdown",
   "metadata": {
    "tags": []
   },
   "source": [
    "# [TR-014] Amplitude model with sum notation"
   ]
  },
  {
   "cell_type": "markdown",
   "metadata": {},
   "source": [
    "```{autolink-skip}\n",
    "```"
   ]
  },
  {
   "cell_type": "code",
   "execution_count": null,
   "metadata": {
    "jupyter": {
     "source_hidden": true
    },
    "tags": [
     "hide-input",
     "remove-output"
    ]
   },
   "outputs": [],
   "source": [
    "%pip install -q \"ampform[viz]@git+https://github.com/ComPWA/ampform@3ed3ed5\" git+https://github.com/ComPWA/qrules@a7e2637 sympy==1.9"
   ]
  },
  {
   "cell_type": "code",
   "execution_count": null,
   "metadata": {
    "jupyter": {
     "source_hidden": true
    },
    "tags": [
     "hide-cell"
    ]
   },
   "outputs": [],
   "source": [
    "import inspect\n",
    "import itertools\n",
    "import logging\n",
    "from functools import lru_cache\n",
    "from typing import Any, Iterable, List, Sequence, Tuple, Union\n",
    "\n",
    "import ampform\n",
    "import attrs\n",
    "import graphviz\n",
    "import qrules\n",
    "import symplot\n",
    "import sympy as sp\n",
    "from ampform.dynamics.builder import (\n",
    "    ResonanceDynamicsBuilder,\n",
    "    create_non_dynamic,\n",
    "    create_relativistic_breit_wigner,\n",
    ")\n",
    "from ampform.helicity import (\n",
    "    _generate_kinematic_variable_set,\n",
    "    _generate_kinematic_variables,\n",
    ")\n",
    "from ampform.helicity.decay import TwoBodyDecay\n",
    "from ampform.sympy import (\n",
    "    UnevaluatedExpression,\n",
    "    create_expression,\n",
    "    implement_doit_method,\n",
    ")\n",
    "from IPython.display import Math, display\n",
    "from qrules.topology import Topology\n",
    "from qrules.transition import StateTransition\n",
    "from sympy.core.symbol import Str\n",
    "from sympy.physics.quantum.spin import Rotation as Wigner\n",
    "from sympy.printing.latex import LatexPrinter\n",
    "from sympy.printing.precedence import PRECEDENCE\n",
    "\n",
    "LOGGER = logging.getLogger()\n",
    "LOGGER.setLevel(logging.ERROR)"
   ]
  },
  {
   "cell_type": "markdown",
   "metadata": {},
   "source": [
    "## Problem description"
   ]
  },
  {
   "cell_type": "markdown",
   "metadata": {},
   "source": [
    "[ampform#213](https://github.com/ComPWA/ampform/pull/213) implements spin alignment, which results in large sum combinatorics for all helicity combinations. The result is an amplitude model expression that is too large to be rendered.\n",
    "\n",
    "To some extend, this is already the case with the current implementation of the 'standard' helicity formalism. Forgetting about dynamics, many of the terms in the total intensity expression differ only by a different helicity of the final and initial state."
   ]
  },
  {
   "cell_type": "code",
   "execution_count": null,
   "metadata": {
    "jupyter": {
     "source_hidden": true
    },
    "tags": [
     "hide-input"
    ]
   },
   "outputs": [],
   "source": [
    "# Simplify resonance notation\n",
    "PDG = qrules.load_pdg()\n",
    "delta_res = PDG[\"Delta(1600)++\"]\n",
    "lambda_res = PDG[\"Lambda(1405)\"]\n",
    "particles = set(PDG)\n",
    "particles.remove(delta_res)\n",
    "particles.remove(lambda_res)\n",
    "particles.add(attrs.evolve(delta_res, latex=R\"\\Delta\"))\n",
    "particles.add(attrs.evolve(lambda_res, latex=R\"\\Lambda\"))\n",
    "MODIFIED_PDG = qrules.ParticleCollection(particles)"
   ]
  },
  {
   "cell_type": "code",
   "execution_count": null,
   "metadata": {
    "tags": []
   },
   "outputs": [],
   "source": [
    "reaction = qrules.generate_transitions(\n",
    "    initial_state=\"Lambda(c)+\",\n",
    "    final_state=[\"K-\", \"p\", \"pi+\"],\n",
    "    formalism=\"helicity\",\n",
    "    allowed_intermediate_particles=[\"Delta(1600)++\"],\n",
    "    particle_db=MODIFIED_PDG,\n",
    ")"
   ]
  },
  {
   "cell_type": "code",
   "execution_count": null,
   "metadata": {
    "jupyter": {
     "source_hidden": true
    },
    "tags": [
     "hide-input",
     "full-width"
    ]
   },
   "outputs": [],
   "source": [
    "display(\n",
    "    *map(\n",
    "        lambda t: graphviz.Source(qrules.io.asdot(t, size=3)),\n",
    "        reaction.transitions,\n",
    "    )\n",
    ")"
   ]
  },
  {
   "cell_type": "code",
   "execution_count": null,
   "metadata": {
    "tags": []
   },
   "outputs": [],
   "source": [
    "builder = ampform.get_builder(reaction)\n",
    "model = builder.formulate()"
   ]
  },
  {
   "cell_type": "code",
   "execution_count": null,
   "metadata": {
    "jupyter": {
     "source_hidden": true
    },
    "tags": [
     "hide-input",
     "full-width"
    ]
   },
   "outputs": [],
   "source": [
    "def remove_coefficients(expr: sp.Expr) -> sp.Expr:\n",
    "    coefficients = {s: 1 for s in expr.free_symbols if s.name.startswith(\"C_\")}\n",
    "    return expr.subs(coefficients)\n",
    "\n",
    "\n",
    "model = builder.formulate()\n",
    "full_expression = remove_coefficients(model.expression)\n",
    "I = sp.Symbol(\"I\")  # noqa: E741\n",
    "latex = sp.multiline_latex(I, full_expression)\n",
    "Math(latex)"
   ]
  },
  {
   "cell_type": "markdown",
   "metadata": {},
   "source": [
    "## Simplified notation with `PoolSum`"
   ]
  },
  {
   "cell_type": "markdown",
   "metadata": {},
   "source": [
    "The definition of a special \"`PoolSum`\" class that mimics {class}`sympy.Sum <sympy.concrete.summations.Sum>` may help to simplify this the total intensity model."
   ]
  },
  {
   "cell_type": "code",
   "execution_count": null,
   "metadata": {
    "jupyter": {
     "source_hidden": true
    },
    "tags": [
     "hide-cell"
    ]
   },
   "outputs": [],
   "source": [
    "@implement_doit_method\n",
    "class PoolSum(UnevaluatedExpression):\n",
    "    precedence = PRECEDENCE[\"Add\"]\n",
    "\n",
    "    def __new__(\n",
    "        cls,\n",
    "        expression: sp.Expr,\n",
    "        *indices: Tuple[sp.Symbol, Iterable[sp.Float]],\n",
    "        **hints: Any,\n",
    "    ) -> \"PoolSum\":\n",
    "        indices = tuple((s, tuple(v)) for s, v in indices)\n",
    "        return create_expression(cls, expression, *indices, **hints)\n",
    "\n",
    "    @property\n",
    "    def expression(self) -> sp.Expr:\n",
    "        return self.args[0]\n",
    "\n",
    "    @property\n",
    "    def indices(self) -> List[Tuple[sp.Symbol, Tuple[sp.Float, ...]]]:\n",
    "        return self.args[1:]\n",
    "\n",
    "    def evaluate(self) -> sp.Expr:\n",
    "        indices = dict(self.indices)\n",
    "        return sum(\n",
    "            self.expression.subs(zip(indices, combi))\n",
    "            for combi in itertools.product(*indices.values())\n",
    "        )\n",
    "\n",
    "    def _latex(self, printer: LatexPrinter, *args: Any) -> str:\n",
    "        indices = dict(self.indices)\n",
    "        sum_symbols: List[str] = []\n",
    "        for idx, values in indices.items():\n",
    "            sum_symbols.append(_render_sum_symbol(printer, idx, values))\n",
    "        expression = printer._print(self.expression)\n",
    "        return R\" \".join(sum_symbols) + f\"{{{expression}}}\"\n",
    "\n",
    "    def cleanup(self) -> Union[sp.Expr, \"PoolSum\"]:\n",
    "        substitutions = {}\n",
    "        new_indices = []\n",
    "        for idx, values in self.indices:\n",
    "            if idx not in self.expression.free_symbols:\n",
    "                continue\n",
    "            if len(values) == 0:\n",
    "                continue\n",
    "            if len(values) == 1:\n",
    "                substitutions[idx] = values[0]\n",
    "            else:\n",
    "                new_indices.append((idx, values))\n",
    "        new_expression = self.expression.xreplace(substitutions)\n",
    "        if len(new_indices) == 0:\n",
    "            return new_expression\n",
    "        return PoolSum(new_expression, *new_indices)\n",
    "\n",
    "\n",
    "def _render_sum_symbol(\n",
    "    printer: LatexPrinter, idx: sp.Symbol, values: Sequence[float]\n",
    ") -> str:\n",
    "    if len(values) == 0:\n",
    "        return \"\"\n",
    "    idx = printer._print(idx)\n",
    "    if len(values) == 1:\n",
    "        sorted_values = sorted(values)\n",
    "        first_value = sorted_values[0]\n",
    "        last_value = sorted_values[-1]\n",
    "        return Rf\"\\sum_{{{idx}={first_value}}}^{{{last_value}}}\"\n",
    "    idx_values = \",\".join(map(printer._print, values))\n",
    "    return Rf\"\\sum_{{{idx}\\in\\left\\{{{idx_values}\\right\\}}}}\"\n",
    "\n",
    "\n",
    "def _is_regular_series(values: Sequence[float]) -> bool:\n",
    "    if len(values) <= 1:\n",
    "        return False\n",
    "    sorted_values = sorted(values)\n",
    "    for val, next_val in zip(sorted_values, sorted_values[1:]):\n",
    "        difference = float(next_val - val)\n",
    "        if difference != 1.0:\n",
    "            return False\n",
    "    return True"
   ]
  },
  {
   "cell_type": "code",
   "execution_count": null,
   "metadata": {
    "tags": []
   },
   "outputs": [],
   "source": [
    "half = sp.S.Half\n",
    "\n",
    "spin_parent = sp.Symbol(R\"s_{\\Lambda_c}\", real=True)\n",
    "spin_resonance = sp.Symbol(R\"s_\\Delta\", real=True)\n",
    "\n",
    "phi_12, theta_12 = sp.symbols(\"phi_12 theta_12\", real=True)\n",
    "phi_1_12, theta_1_12 = sp.symbols(R\"phi_1^12 theta_1^12\", real=True)\n",
    "\n",
    "lambda_parent = sp.Symbol(R\"\\lambda_{\\Lambda_c}\", real=True)\n",
    "lambda_resonance = sp.Symbol(R\"\\lambda_\\Delta\", real=True)\n",
    "lambda_p = sp.Symbol(R\"\\lambda_p\", real=True)\n",
    "lambda_k = sp.Symbol(R\"\\lambda_K\", real=True)\n",
    "lambda_pi = sp.Symbol(R\"\\lambda_\\pi\", real=True)\n",
    "sum_expr = sp.Subs(\n",
    "    PoolSum(\n",
    "        sp.Abs(\n",
    "            PoolSum(\n",
    "                Wigner.D(\n",
    "                    spin_parent,\n",
    "                    lambda_parent,\n",
    "                    lambda_k - lambda_resonance,\n",
    "                    phi_12,\n",
    "                    theta_12,\n",
    "                    0,\n",
    "                )\n",
    "                * Wigner.D(\n",
    "                    spin_resonance,\n",
    "                    lambda_resonance,\n",
    "                    lambda_p - lambda_pi,\n",
    "                    phi_1_12,\n",
    "                    theta_1_12,\n",
    "                    0,\n",
    "                ),\n",
    "                (lambda_resonance, (-half, +half)),\n",
    "            )\n",
    "        )\n",
    "        ** 2,\n",
    "        (lambda_parent, (-half, +half)),\n",
    "        (lambda_p, (-half, +half)),\n",
    "        (lambda_pi, (0,)),\n",
    "        (lambda_k, (0,)),\n",
    "    ),\n",
    "    (spin_parent, spin_resonance),\n",
    "    (half, 3 * half),\n",
    ")\n",
    "display(\n",
    "    sum_expr,\n",
    "    sum_expr.expr.cleanup(),\n",
    "    Math(sp.multiline_latex(I, sum_expr.doit(deep=False))),\n",
    "    sum_expr.doit(deep=False).doit(deep=True),\n",
    ")"
   ]
  },
  {
   "cell_type": "code",
   "execution_count": null,
   "metadata": {
    "jupyter": {
     "source_hidden": true
    },
    "tags": [
     "remove-cell"
    ]
   },
   "outputs": [],
   "source": [
    "assert sum_expr.doit(deep=False).doit() == full_expression.doit()"
   ]
  },
  {
   "cell_type": "markdown",
   "metadata": {},
   "source": [
    "## Generic solution"
   ]
  },
  {
   "cell_type": "markdown",
   "metadata": {},
   "source": [
    ":::{margin}\n",
    "\n",
    "When introducing spin alignment ([ampform#213](https://github.com/ComPWA/ampform/pull/213)), we have to distinguish the helicity symbols between different topologies.\n",
    "\n",
    ":::\n",
    "\n",
    "The current implementation of the [`HelicityAmplitudeBuilder`](https://ampform.readthedocs.io/en/0.12.3/api/ampform.helicity.html#ampform.helicity.HelicityAmplitudeBuilder) has to be changed quite a bit to produce an amplitude model with `PoolSum`s. First of all, we have to introduce special {class}`~sympy.core.symbol.Symbol`s for the helicities, $\\lambda_i$, with $i$ the state ID (taking a sum of attached final state IDs in case of a resonance ID). Next, [`formulate_wigner_d()`](https://ampform.readthedocs.io/en/0.12.3/api/ampform.helicity.html#ampform.helicity.formulate_wigner_d) has to be modified to insert these {class}`~sympy.core.symbol.Symbol`s into the {class}`~sympy.physics.quantum.spin.WignerD`:"
   ]
  },
  {
   "cell_type": "code",
   "execution_count": null,
   "metadata": {
    "jupyter": {
     "source_hidden": true
    },
    "tags": [
     "hide-cell"
    ]
   },
   "outputs": [],
   "source": [
    "def formulate_wigner_d(transition: StateTransition, node_id: int) -> sp.Expr:\n",
    "    from sympy.physics.quantum.spin import Rotation as Wigner\n",
    "\n",
    "    decay = TwoBodyDecay.from_transition(transition, node_id)\n",
    "    topology = transition.topology\n",
    "    parent_helicity = create_helicity_symbol(topology, decay.parent.id)\n",
    "    child1_helicity = create_helicity_symbol(topology, decay.children[0].id)\n",
    "    child2_helicity = create_helicity_symbol(topology, decay.children[1].id)\n",
    "    _, phi, theta = _generate_kinematic_variables(transition, node_id)\n",
    "    return Wigner.D(\n",
    "        j=sp.Rational(decay.parent.particle.spin),\n",
    "        m=parent_helicity,\n",
    "        mp=child1_helicity - child2_helicity,\n",
    "        alpha=-phi,\n",
    "        beta=theta,\n",
    "        gamma=0,\n",
    "    )\n",
    "\n",
    "\n",
    "def create_helicity_symbol(topology: Topology, state_id: int) -> sp.Symbol:\n",
    "    if state_id in topology.incoming_edge_ids:\n",
    "        suffix = \"\"\n",
    "    else:\n",
    "        suffix = f\"_{state_id}\"\n",
    "    return sp.Symbol(f\"lambda{suffix}\", rational=True)"
   ]
  },
  {
   "cell_type": "code",
   "execution_count": null,
   "metadata": {},
   "outputs": [],
   "source": [
    "wigner_functions = {\n",
    "    sp.Mul(\n",
    "        *[\n",
    "            formulate_wigner_d(transition, node_id)\n",
    "            for node_id in transition.topology.nodes\n",
    "        ]\n",
    "    )\n",
    "    for transition in reaction.transitions\n",
    "}\n",
    "display(*wigner_functions)"
   ]
  },
  {
   "cell_type": "markdown",
   "metadata": {},
   "source": [
    "We also have to collect the allowed helicity values for each of these helicity symbols."
   ]
  },
  {
   "cell_type": "code",
   "execution_count": null,
   "metadata": {
    "jupyter": {
     "source_hidden": true
    },
    "tags": [
     "hide-cell"
    ]
   },
   "outputs": [],
   "source": [
    "import sys\n",
    "from collections import defaultdict\n",
    "from typing import Dict, Set\n",
    "\n",
    "from qrules import ReactionInfo\n",
    "\n",
    "if sys.version_info >= (3, 8):\n",
    "    from typing import Literal\n",
    "else:\n",
    "    from typing_extensions import Literal\n",
    "\n",
    "\n",
    "@lru_cache(maxsize=None)\n",
    "def get_helicities(\n",
    "    reaction: ReactionInfo, which: Literal[\"inner\", \"outer\"]\n",
    ") -> Dict[int, Set[sp.Rational]]:\n",
    "    helicities = defaultdict(set)\n",
    "    initial_state_ids = set(reaction.initial_state)\n",
    "    final_state_ids = set(reaction.final_state)\n",
    "    intermediate_state_ids = (\n",
    "        set(reaction.transitions[0].states)\n",
    "        - initial_state_ids\n",
    "        - final_state_ids\n",
    "    )\n",
    "    if which == \"inner\":\n",
    "        state_ids = sorted(intermediate_state_ids)\n",
    "    elif which == \"outer\":\n",
    "        state_ids = sorted(initial_state_ids | final_state_ids)\n",
    "    for transition in reaction.transitions:\n",
    "        for state_id in state_ids:\n",
    "            state = transition.states[state_id]\n",
    "            helicity = sp.Rational(state.spin_projection)\n",
    "            symbol = create_helicity_symbol(transition.topology, state_id)\n",
    "            helicities[symbol].add(helicity)\n",
    "    return dict(helicities)"
   ]
  },
  {
   "cell_type": "code",
   "execution_count": null,
   "metadata": {
    "tags": []
   },
   "outputs": [],
   "source": [
    "inner_helicities = get_helicities(reaction, which=\"inner\")\n",
    "outer_helicities = get_helicities(reaction, which=\"outer\")\n",
    "display(inner_helicities, outer_helicities)"
   ]
  },
  {
   "cell_type": "markdown",
   "metadata": {},
   "source": [
    "These collected helicity values can then be combined with the Wigner-$D$ expressions through a `PoolSum`:"
   ]
  },
  {
   "cell_type": "code",
   "execution_count": null,
   "metadata": {},
   "outputs": [],
   "source": [
    "def formulate_intensity(reaction: ReactionInfo):\n",
    "    wigner_functions = {\n",
    "        sp.Mul(\n",
    "            *[\n",
    "                formulate_wigner_d(transition, node_id)\n",
    "                for node_id in transition.topology.nodes\n",
    "            ]\n",
    "        )\n",
    "        for transition in reaction.transitions\n",
    "    }\n",
    "    inner_helicities = get_helicities(reaction, which=\"inner\")\n",
    "    outer_helicities = get_helicities(reaction, which=\"outer\")\n",
    "    return PoolSum(\n",
    "        sp.Abs(\n",
    "            PoolSum(\n",
    "                sum(wigner_functions),\n",
    "                *inner_helicities.items(),\n",
    "            )\n",
    "        )\n",
    "        ** 2,\n",
    "        *outer_helicities.items(),\n",
    "    )\n",
    "\n",
    "\n",
    "formulate_intensity(reaction)"
   ]
  },
  {
   "cell_type": "markdown",
   "metadata": {},
   "source": [
    "This is indeed identical to the model as formulated with the existing implementation:"
   ]
  },
  {
   "cell_type": "code",
   "execution_count": null,
   "metadata": {
    "tags": []
   },
   "outputs": [],
   "source": [
    "assert formulate_intensity(reaction).doit() == full_expression.doit()"
   ]
  },
  {
   "cell_type": "markdown",
   "metadata": {},
   "source": [
    "Note how this approach also works in case there are two decay topologies:"
   ]
  },
  {
   "cell_type": "code",
   "execution_count": null,
   "metadata": {
    "jupyter": {
     "source_hidden": true
    },
    "tags": [
     "hide-input"
    ]
   },
   "outputs": [],
   "source": [
    "reaction_two_resonances = qrules.generate_transitions(\n",
    "    initial_state=\"Lambda(c)+\",\n",
    "    final_state=[\"K-\", \"p\", \"pi+\"],\n",
    "    formalism=\"helicity\",\n",
    "    allowed_intermediate_particles=[\"Lambda(1405)\", \"Delta(1600)++\"],\n",
    "    particle_db=MODIFIED_PDG,\n",
    ")\n",
    "assert len(reaction_two_resonances.transition_groups) == 2\n",
    "dot = qrules.io.asdot(reaction, collapse_graphs=True)\n",
    "display(\n",
    "    *[\n",
    "        graphviz.Source(\n",
    "            qrules.io.asdot(\n",
    "                g, collapse_graphs=True, size=4, render_resonance_id=True\n",
    "            )\n",
    "        )\n",
    "        for g in reaction_two_resonances.transition_groups\n",
    "    ]\n",
    ")"
   ]
  },
  {
   "cell_type": "code",
   "execution_count": null,
   "metadata": {
    "tags": [
     "full-width"
    ]
   },
   "outputs": [],
   "source": [
    "formulate_intensity(reaction_two_resonances).cleanup()"
   ]
  },
  {
   "cell_type": "code",
   "execution_count": null,
   "metadata": {
    "jupyter": {
     "source_hidden": true
    },
    "tags": [
     "remove-cell"
    ]
   },
   "outputs": [],
   "source": [
    "ampform_expr = (\n",
    "    ampform.get_builder(reaction_two_resonances).formulate().expression\n",
    ")\n",
    "ampform_expr = remove_coefficients(ampform_expr)\n",
    "sum_expr = formulate_intensity(reaction_two_resonances)\n",
    "assert ampform_expr.doit() == sum_expr.doit()"
   ]
  },
  {
   "cell_type": "markdown",
   "metadata": {},
   "source": [
    "## Inserting coefficients"
   ]
  },
  {
   "cell_type": "markdown",
   "metadata": {},
   "source": [
    "There is a problem, though: the sums above could be written in sum form because the values over which we sum appear as arguments ({attr}`~sympy.core.basic.Basic.args` in the {class}`~sympy.physics.quantum.spin.WignerD` functions). This is only true because we previously set all coefficients to $1$. The coefficient _names_ are, however, also 'dependent' on the helicities in the final state over which we sum:"
   ]
  },
  {
   "cell_type": "code",
   "execution_count": null,
   "metadata": {
    "tags": [
     "full-width"
    ]
   },
   "outputs": [],
   "source": [
    "list(model.parameter_defaults)"
   ]
  },
  {
   "cell_type": "markdown",
   "metadata": {},
   "source": [
    "We therefore have to somehow introduce a dependence in these {class}`~sympy.core.symbol.Symbol`s on the helicity values.  An idea may be to use {class}`~sympy.tensor.indexed.IndexedBase`. Modifying the function introduced in {ref}`report/014:Generic solution`:"
   ]
  },
  {
   "cell_type": "code",
   "execution_count": null,
   "metadata": {
    "tags": []
   },
   "outputs": [],
   "source": [
    "C = sp.IndexedBase(\"C\")\n",
    "\n",
    "\n",
    "@lru_cache(maxsize=None)\n",
    "def formulate_intensity_with_coefficient(reaction: ReactionInfo):\n",
    "    amplitudes = {\n",
    "        sp.Mul(\n",
    "            C[\n",
    "                [\n",
    "                    create_helicity_symbol(transition.topology, state_id)\n",
    "                    for state_id in transition.final_states\n",
    "                ]\n",
    "            ],\n",
    "            *[\n",
    "                formulate_wigner_d(transition, node_id)\n",
    "                for node_id in transition.topology.nodes\n",
    "            ],\n",
    "        )\n",
    "        for transition in reaction.transitions\n",
    "    }\n",
    "    inner_helicities = get_helicities(reaction, which=\"inner\")\n",
    "    outer_helicities = get_helicities(reaction, which=\"outer\")\n",
    "    return PoolSum(\n",
    "        sp.Abs(\n",
    "            PoolSum(\n",
    "                sum(amplitudes),\n",
    "                *inner_helicities.items(),\n",
    "            )\n",
    "        )\n",
    "        ** 2,\n",
    "        *outer_helicities.items(),\n",
    "    )\n",
    "\n",
    "\n",
    "indexed_coefficient_expr = formulate_intensity_with_coefficient(reaction)\n",
    "indexed_coefficient_expr"
   ]
  },
  {
   "cell_type": "code",
   "execution_count": null,
   "metadata": {
    "jupyter": {
     "source_hidden": true
    },
    "tags": [
     "hide-input"
    ]
   },
   "outputs": [],
   "source": [
    "latex = sp.multiline_latex(I, indexed_coefficient_expr.doit(deep=False))\n",
    "Math(latex)"
   ]
  },
  {
   "cell_type": "markdown",
   "metadata": {},
   "source": [
    ":::{admonition} Caveat\n",
    "\n",
    "Using {class}`~sympy.tensor.indexed.IndexedBase` makes the coefficient names concise, but harder to understand.\n",
    "\n",
    ":::\n",
    "\n",
    "This seems to work rather well, but there is a subtle problems introduced by writing the coefficients as a {class}`~sympy.tensor.indexed.IndexedBase`: the {class}`~sympy.tensor.indexed.IndexedBase` itself is considered listed under the {attr}`~sympy.core.basic.Basic.free_symbols` of the expression."
   ]
  },
  {
   "cell_type": "code",
   "execution_count": null,
   "metadata": {
    "tags": []
   },
   "outputs": [],
   "source": [
    "free_symbols = sorted(indexed_coefficient_expr.doit().free_symbols, key=str)\n",
    "free_symbols"
   ]
  },
  {
   "cell_type": "markdown",
   "metadata": {},
   "source": [
    "In addition, not all symbols in the expression are of type {class}`~sympy.core.symbol.Symbol` anymore:"
   ]
  },
  {
   "cell_type": "code",
   "execution_count": null,
   "metadata": {
    "tags": []
   },
   "outputs": [],
   "source": [
    "{s: (type(s), isinstance(s, sp.Symbol)) for s in free_symbols}"
   ]
  },
  {
   "cell_type": "markdown",
   "metadata": {
    "tags": []
   },
   "source": [
    "This will become problematic when lambdifying, because it results in an additional argument in the signature of the generated function:"
   ]
  },
  {
   "cell_type": "code",
   "execution_count": null,
   "metadata": {
    "tags": []
   },
   "outputs": [],
   "source": [
    "func = sp.lambdify(free_symbols, indexed_coefficient_expr.doit())\n",
    "inspect.signature(func)"
   ]
  },
  {
   "cell_type": "markdown",
   "metadata": {},
   "source": [
    "A solution may be to use [`symplot.substitute_indexed_symbols()`](https://ampform.readthedocs.io/en/0.12.3/usage/symplot.html#symplot.substitute_indexed_symbols):"
   ]
  },
  {
   "cell_type": "code",
   "execution_count": null,
   "metadata": {
    "tags": []
   },
   "outputs": [],
   "source": [
    "indexed_coefficient_expr_symbols_only = symplot.substitute_indexed_symbols(\n",
    "    indexed_coefficient_expr.doit()\n",
    ")\n",
    "indexed_coefficient_expr_symbols_only.free_symbols"
   ]
  },
  {
   "cell_type": "code",
   "execution_count": null,
   "metadata": {
    "tags": []
   },
   "outputs": [],
   "source": [
    "args = sorted(indexed_coefficient_expr_symbols_only.free_symbols, key=str)\n",
    "func = sp.lambdify(args, indexed_coefficient_expr_symbols_only)\n",
    "inspect.signature(func)"
   ]
  },
  {
   "cell_type": "markdown",
   "metadata": {},
   "source": [
    ":::{admonition} Caveat\n",
    "\n",
    "This seems clumsy, because [`substitute_indexed_symbols()`](https://ampform.readthedocs.io/en/0.12.3/usage/symplot.html#symplot.substitute_indexed_symbols) would have to be actively called before creating a computational function with [TensorWaves](https://tensorwaves.rtfd.io). It also becomes a hassle to keep track of the correct {class}`~sympy.core.symbol.Symbol` names in [`HelicityModel.parameter_defaults`](https://ampform.readthedocs.io/en/0.12.3/api/ampform.helicity.html#ampform.helicity.HelicityModel.parameter_defaults).\n",
    "\n",
    ":::"
   ]
  },
  {
   "cell_type": "code",
   "execution_count": null,
   "metadata": {
    "jupyter": {
     "source_hidden": true
    },
    "tags": [
     "hide-cell"
    ]
   },
   "outputs": [],
   "source": [
    "# One topology\n",
    "expr = ampform.get_builder(reaction).formulate().expression\n",
    "expr = remove_coefficients(expr.doit())\n",
    "sum_expr = formulate_intensity_with_coefficient(reaction)\n",
    "sum_expr = symplot.substitute_indexed_symbols(sum_expr.doit())\n",
    "sum_expr = remove_coefficients(sum_expr)\n",
    "assert sum_expr == expr\n",
    "\n",
    "# Two topologies\n",
    "expr = ampform.get_builder(reaction_two_resonances).formulate().expression\n",
    "expr = remove_coefficients(expr.doit())\n",
    "sum_expr = formulate_intensity_with_coefficient(reaction_two_resonances)\n",
    "sum_expr = symplot.substitute_indexed_symbols(sum_expr.doit())\n",
    "sum_expr = remove_coefficients(sum_expr)\n",
    "assert sum_expr == expr"
   ]
  },
  {
   "cell_type": "markdown",
   "metadata": {
    "tags": []
   },
   "source": [
    "## Inserting dynamics"
   ]
  },
  {
   "cell_type": "markdown",
   "metadata": {},
   "source": [
    "Dynamics pose a challenge that is similar to {ref}`report/014:Inserting coefficients` in that we have to introduce expressions that are dependent on spin. Still, as can be seen from the available attributes on a [`TwoBodyKinematicVariableSet`](https://ampform.readthedocs.io/en/0.12.3/api/ampform.dynamics.builder.html#ampform.dynamics.builder.TwoBodyKinematicVariableSet) (which serves as input to [`ResonanceDynamicsBuilder`](https://ampform.readthedocs.io/en/0.12.3/api/ampform.dynamics.builder.html#ampform.dynamics.builder.ResonanceDynamicsBuilder)s), dynamics (currently) cannot depend on helicities.\n",
    "\n",
    "What may become a problem are $LS$-combinations. So far we have only considered a [`ReactionInfo`](https://qrules.readthedocs.io/en/0.9.6/api/qrules.transition.html#qrules.transition.ReactionInfo) that was created with `formalism=\"helicity\"`, but we also have to sum over $LS$-combinations when using `formalism=\"canonical-helicity\"`. This is particularly important when using dynamics with form factors, which depend on [`angular_momentum`](https://ampform.readthedocs.io/en/0.12.3/api/ampform.dynamics.builder.html#ampform.dynamics.builder.TwoBodyKinematicVariableSet.angular_momentum).\n",
    "\n",
    "\n",
    ":::{note}\n",
    "\n",
    "The {class}`sympy.tensor.indexed.Indexed` now also contains the names of the resonances.\n",
    "\n",
    ":::"
   ]
  },
  {
   "cell_type": "code",
   "execution_count": null,
   "metadata": {
    "tags": []
   },
   "outputs": [],
   "source": [
    "def formulate_intensity_with_dynamics(\n",
    "    reaction: ReactionInfo,\n",
    "    dynamics_choices: Dict[str, ResonanceDynamicsBuilder],\n",
    "):\n",
    "    amplitudes = set()\n",
    "    for transition in reaction.transitions:\n",
    "        final_state_helicities = [\n",
    "            create_helicity_symbol(transition.topology, state_id)\n",
    "            for state_id in transition.final_states\n",
    "        ]\n",
    "        resonances = [\n",
    "            Str(s.particle.latex)\n",
    "            for s in transition.intermediate_states.values()\n",
    "        ]\n",
    "        indices = [*final_state_helicities, *resonances]\n",
    "        coefficient = C[indices]\n",
    "        expr: sp.Expr = coefficient\n",
    "        for node_id in sorted(transition.topology.nodes):\n",
    "            expr *= formulate_wigner_d(transition, node_id)\n",
    "            decay = TwoBodyDecay.from_transition(transition, node_id)\n",
    "            parent_particle = decay.parent.particle\n",
    "            dynamics_builder = dynamics_choices.get(\n",
    "                parent_particle.name, create_non_dynamic\n",
    "            )\n",
    "            variables = _generate_kinematic_variable_set(transition, node_id)\n",
    "            dynamics, _ = dynamics_builder(parent_particle, variables)\n",
    "            expr *= dynamics\n",
    "        amplitudes.add(expr)\n",
    "    inner_helicities = get_helicities(reaction, which=\"inner\")\n",
    "    outer_helicities = get_helicities(reaction, which=\"outer\")\n",
    "    return PoolSum(\n",
    "        sp.Abs(\n",
    "            PoolSum(sum(amplitudes), *inner_helicities.items()),\n",
    "            evaluate=False,\n",
    "        )\n",
    "        ** 2,\n",
    "        *outer_helicities.items(),\n",
    "    )"
   ]
  },
  {
   "cell_type": "code",
   "execution_count": null,
   "metadata": {
    "tags": []
   },
   "outputs": [],
   "source": [
    "formulate_intensity_with_dynamics(\n",
    "    reaction,\n",
    "    dynamics_choices={\n",
    "        resonance.name: create_relativistic_breit_wigner\n",
    "        for resonance in reaction.get_intermediate_particles()\n",
    "    },\n",
    ")"
   ]
  },
  {
   "cell_type": "code",
   "execution_count": null,
   "metadata": {
    "tags": [
     "full-width"
    ]
   },
   "outputs": [],
   "source": [
    "formulate_intensity_with_dynamics(\n",
    "    reaction_two_resonances,\n",
    "    dynamics_choices={\n",
    "        resonance.name: create_relativistic_breit_wigner\n",
    "        for resonance in reaction_two_resonances.get_intermediate_particles()\n",
    "    },\n",
    ")"
   ]
  },
  {
   "cell_type": "code",
   "execution_count": null,
   "metadata": {
    "jupyter": {
     "source_hidden": true
    },
    "tags": [
     "hide-input"
    ]
   },
   "outputs": [],
   "source": [
    "# One topology\n",
    "b = ampform.get_builder(reaction)\n",
    "for p in reaction.get_intermediate_particles():\n",
    "    b.set_dynamics(p.name, create_relativistic_breit_wigner)\n",
    "expr = b.formulate().expression\n",
    "expr = remove_coefficients(expr.doit())\n",
    "sum_expr = formulate_intensity_with_dynamics(\n",
    "    reaction,\n",
    "    dynamics_choices={\n",
    "        resonance.name: create_relativistic_breit_wigner\n",
    "        for resonance in reaction.get_intermediate_particles()\n",
    "    },\n",
    ")\n",
    "sum_expr = symplot.substitute_indexed_symbols(sum_expr.doit())\n",
    "sum_expr = remove_coefficients(sum_expr)\n",
    "assert sum_expr == expr\n",
    "\n",
    "# Two topologies\n",
    "b = ampform.get_builder(reaction_two_resonances)\n",
    "for p in reaction_two_resonances.get_intermediate_particles():\n",
    "    b.set_dynamics(p.name, create_relativistic_breit_wigner)\n",
    "expr = b.formulate().expression\n",
    "expr = remove_coefficients(expr)\n",
    "sum_expr = formulate_intensity_with_dynamics(\n",
    "    reaction_two_resonances,\n",
    "    dynamics_choices={\n",
    "        resonance.name: create_relativistic_breit_wigner\n",
    "        for resonance in reaction_two_resonances.get_intermediate_particles()\n",
    "    },\n",
    ")\n",
    "sum_expr = symplot.partial_doit(sum_expr, doit_classes=(PoolSum,))\n",
    "sum_expr = symplot.partial_doit(sum_expr, doit_classes=(PoolSum,))  # recurse\n",
    "sum_expr = symplot.substitute_indexed_symbols(sum_expr)\n",
    "sum_expr = remove_coefficients(sum_expr)\n",
    "assert sum_expr.free_symbols == expr.free_symbols\n",
    "for intensity1, intensity2 in zip(sum_expr.args, expr.args):\n",
    "    # Annoyingly, Abs is rewritten with conjugates when using PoolSum...\n",
    "    amp1 = intensity1.args[0]\n",
    "    amp2 = intensity2.rewrite(sp.conjugate).args[0]\n",
    "    amp1 = sp.factor(amp1, deep=True, fraction=False)\n",
    "    amp2 = sp.factor(amp2, deep=True, fraction=False)\n",
    "    assert amp1 == amp2"
   ]
  }
 ],
 "metadata": {
  "kernelspec": {
   "display_name": "Python 3 (ipykernel)",
   "language": "python",
   "name": "python3"
  },
  "language_info": {
   "name": "python",
   "version": "3.8.12"
  }
 },
 "nbformat": 4,
 "nbformat_minor": 4
}
