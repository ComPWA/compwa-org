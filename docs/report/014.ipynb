{
 "cells": [
  {
   "cell_type": "code",
   "execution_count": null,
   "metadata": {
    "hideCode": true,
    "hideOutput": true,
    "hidePrompt": true,
    "jupyter": {
     "source_hidden": true
    },
    "slideshow": {
     "slide_type": "skip"
    },
    "tags": [
     "remove-cell"
    ]
   },
   "outputs": [],
   "source": [
    "%config InlineBackend.figure_formats = ['svg']\n",
    "import os\n",
    "\n",
    "STATIC_WEB_PAGE = {\"EXECUTE_NB\", \"READTHEDOCS\"}.intersection(os.environ)"
   ]
  },
  {
   "cell_type": "markdown",
   "metadata": {},
   "source": [
    "```{autolink-concat}\n",
    "```"
   ]
  },
  {
   "cell_type": "markdown",
   "metadata": {
    "tags": []
   },
   "source": [
    "# [TR-014] Amplitude model with sum notation"
   ]
  },
  {
   "cell_type": "code",
   "execution_count": null,
   "metadata": {
    "jupyter": {
     "source_hidden": true
    },
    "tags": [
     "hide-input",
     "remove-output"
    ]
   },
   "outputs": [],
   "source": [
    "%pip install -q ampform==0.12.3 sympy==1.9"
   ]
  },
  {
   "cell_type": "code",
   "execution_count": null,
   "metadata": {
    "jupyter": {
     "source_hidden": true
    },
    "tags": [
     "hide-cell"
    ]
   },
   "outputs": [],
   "source": [
    "import itertools\n",
    "import logging\n",
    "from typing import Any, Iterable, List, Sequence, Tuple, Union\n",
    "\n",
    "import ampform\n",
    "import graphviz\n",
    "import qrules\n",
    "import sympy as sp\n",
    "from ampform.sympy import (\n",
    "    UnevaluatedExpression,\n",
    "    create_expression,\n",
    "    implement_doit_method,\n",
    ")\n",
    "from IPython.display import Math, display\n",
    "from sympy.physics.quantum.spin import Rotation as Wigner\n",
    "from sympy.printing.latex import LatexPrinter\n",
    "from sympy.printing.precedence import PRECEDENCE\n",
    "\n",
    "LOGGER = logging.getLogger()\n",
    "LOGGER.setLevel(logging.ERROR)"
   ]
  },
  {
   "cell_type": "markdown",
   "metadata": {},
   "source": [
    "## Problem description"
   ]
  },
  {
   "cell_type": "markdown",
   "metadata": {},
   "source": [
    "[ampform#213](https://github.com/ComPWA/ampform/pull/213) implements spin alignment, which results in large sum combinatorics for all helicity combinations. The result is an amplitude model expression that is too large to be rendered.\n",
    "\n",
    "To some extend, this is already the case with the current implementation of the 'standard' helicity formalism. Forgetting about dynamics, many of the terms in the total intensity expression differ only by a different helicity of the final and initial state."
   ]
  },
  {
   "cell_type": "code",
   "execution_count": null,
   "metadata": {
    "tags": []
   },
   "outputs": [],
   "source": [
    "reaction = qrules.generate_transitions(\n",
    "    initial_state=\"Lambda(c)+\",\n",
    "    final_state=[\"K-\", \"p\", \"pi+\"],\n",
    "    formalism=\"helicity\",\n",
    "    allowed_intermediate_particles=[\"Delta(1600)++\"],\n",
    ")"
   ]
  },
  {
   "cell_type": "code",
   "execution_count": null,
   "metadata": {
    "jupyter": {
     "source_hidden": true
    },
    "tags": [
     "hide-input",
     "full-width"
    ]
   },
   "outputs": [],
   "source": [
    "display(\n",
    "    *map(\n",
    "        lambda t: graphviz.Source(qrules.io.asdot(t, size=3)),\n",
    "        reaction.transitions,\n",
    "    )\n",
    ")"
   ]
  },
  {
   "cell_type": "code",
   "execution_count": null,
   "metadata": {
    "tags": []
   },
   "outputs": [],
   "source": [
    "builder = ampform.get_builder(reaction)\n",
    "model = builder.formulate()"
   ]
  },
  {
   "cell_type": "code",
   "execution_count": null,
   "metadata": {
    "jupyter": {
     "source_hidden": true
    },
    "tags": [
     "hide-input",
     "full-width"
    ]
   },
   "outputs": [],
   "source": [
    "model = builder.formulate()\n",
    "full_expression = model.expression.subs(model.parameter_defaults)\n",
    "full_expression = sp.nsimplify(full_expression)\n",
    "latex = sp.multiline_latex(sp.Symbol(\"I\"), full_expression)\n",
    "Math(latex)"
   ]
  },
  {
   "cell_type": "markdown",
   "metadata": {},
   "source": [
    "## Simplified notation with `PoolSum`"
   ]
  },
  {
   "cell_type": "markdown",
   "metadata": {},
   "source": [
    "The definition of a special class that mimics {class}`sympy.Sum <sympy.concrete.summations.Sum>` may help to simplify this the total intensity model."
   ]
  },
  {
   "cell_type": "code",
   "execution_count": null,
   "metadata": {
    "jupyter": {
     "source_hidden": true
    },
    "tags": [
     "hide-cell"
    ]
   },
   "outputs": [],
   "source": [
    "@implement_doit_method\n",
    "class PoolSum(UnevaluatedExpression):\n",
    "    precedence = PRECEDENCE[\"Mul\"]\n",
    "\n",
    "    def __new__(\n",
    "        cls,\n",
    "        expression: sp.Expr,\n",
    "        *indices: Tuple[sp.Symbol, Iterable[sp.Float]],\n",
    "        **hints: Any,\n",
    "    ) -> \"PoolSum\":\n",
    "        indices = tuple((s, tuple(v)) for s, v in indices)\n",
    "        return create_expression(cls, expression, *indices, **hints)\n",
    "\n",
    "    @property\n",
    "    def expression(self) -> sp.Expr:\n",
    "        return self.args[0]\n",
    "\n",
    "    @property\n",
    "    def indices(self) -> List[Tuple[sp.Symbol, Tuple[sp.Float, ...]]]:\n",
    "        return self.args[1:]\n",
    "\n",
    "    def evaluate(self) -> sp.Expr:\n",
    "        indices = dict(self.indices)\n",
    "        return sp.Add(\n",
    "            *[\n",
    "                self.expression.subs(zip(indices, combi))\n",
    "                for combi in itertools.product(*indices.values())\n",
    "            ]\n",
    "        )\n",
    "\n",
    "    def _latex(self, printer: LatexPrinter, *args: Any) -> str:\n",
    "        indices = dict(self.indices)\n",
    "        sum_symbols: List[str] = []\n",
    "        for idx, values in indices.items():\n",
    "            sum_symbols.append(_render_sum_symbol(printer, idx, values))\n",
    "        expression = printer._print(self.expression)\n",
    "        return R\" \".join(sum_symbols) + f\"{{{expression}}}\"\n",
    "\n",
    "    def cleanup(self) -> Union[sp.Expr, \"PoolSum\"]:\n",
    "        \"\"\"Remove redundant summations, like indices with one or no value.\n",
    "\n",
    "        >>> x, i = sp.symbols(\"x i\")\n",
    "        >>> PoolSum(x**i, (i, [0, 1, 2])).cleanup().doit()\n",
    "        x**2 + x + 1\n",
    "        >>> PoolSum(x, (i, [0, 1, 2])).cleanup()\n",
    "        x\n",
    "        >>> PoolSum(x).cleanup()\n",
    "        x\n",
    "        >>> PoolSum(x**i, (i, [0])).cleanup()\n",
    "        1\n",
    "        \"\"\"\n",
    "        substitutions = {}\n",
    "        new_indices = []\n",
    "        for idx, values in self.indices:\n",
    "            if idx not in self.expression.free_symbols:\n",
    "                continue\n",
    "            if len(values) == 0:\n",
    "                continue\n",
    "            if len(values) == 1:\n",
    "                substitutions[idx] = values[0]\n",
    "            else:\n",
    "                new_indices.append((idx, values))\n",
    "        new_expression = self.expression.xreplace(substitutions)\n",
    "        if len(new_indices) == 0:\n",
    "            return new_expression\n",
    "        return PoolSum(new_expression, *new_indices)\n",
    "\n",
    "\n",
    "def _render_sum_symbol(\n",
    "    printer: LatexPrinter, idx: sp.Symbol, values: Sequence[float]\n",
    ") -> str:\n",
    "    if len(values) == 0:\n",
    "        return \"\"\n",
    "    idx = printer._print(idx)\n",
    "    if len(values) == 1:\n",
    "        value = values[0]\n",
    "        return Rf\"\\sum_{{{idx}={value}}}\"\n",
    "    if _is_regular_series(values):\n",
    "        sorted_values = sorted(values)\n",
    "        first_value = sorted_values[0]\n",
    "        last_value = sorted_values[-1]\n",
    "        return Rf\"\\sum_{{{idx}={first_value}}}^{{{last_value}}}\"\n",
    "    idx_values = \",\".join(map(printer._print, values))\n",
    "    return Rf\"\\sum_{{{idx}\\in\\left\\{{{idx_values}\\right\\}}}}\"\n",
    "\n",
    "\n",
    "def _is_regular_series(values: Sequence[float]) -> bool:\n",
    "    if len(values) <= 1:\n",
    "        return False\n",
    "    sorted_values = sorted(values)\n",
    "    for val, next_val in zip(sorted_values, sorted_values[1:]):\n",
    "        difference = float(next_val - val)\n",
    "        if difference != 1.0:\n",
    "            return False\n",
    "    return True"
   ]
  },
  {
   "cell_type": "code",
   "execution_count": null,
   "metadata": {
    "tags": []
   },
   "outputs": [],
   "source": [
    "half = sp.S.Half\n",
    "phi, theta = sp.symbols(\"phi theta\")\n",
    "spin_parent = sp.Symbol(R\"s_{\\Lambda_c}\")\n",
    "spin_resonance = sp.Symbol(R\"s_\\Delta\")\n",
    "lambda_parent = sp.Symbol(R\"\\lambda_{\\Lambda_c}\")\n",
    "lambda_resonance = sp.Symbol(R\"\\lambda_\\Delta\")\n",
    "lambda_p = sp.Symbol(R\"\\lambda_p\")\n",
    "lambda_k = sp.Symbol(R\"\\lambda_K\")\n",
    "lambda_pi = sp.Symbol(R\"\\lambda_\\pi\")\n",
    "sum_expr = PoolSum(\n",
    "    Wigner.D(\n",
    "        spin_parent, lambda_parent, lambda_k - lambda_resonance, phi, theta, 0\n",
    "    )\n",
    "    * Wigner.D(\n",
    "        spin_resonance, lambda_resonance, lambda_p - lambda_pi, phi, theta, 0\n",
    "    ),\n",
    "    (lambda_parent, [-half, +half]),\n",
    "    (lambda_resonance, [-half, +half]),\n",
    "    (lambda_p, [-half, +half]),\n",
    "    (lambda_pi, [0]),\n",
    "    (lambda_k, [0]),\n",
    "    (spin_parent, [half]),\n",
    "    (spin_resonance, [3 * half]),\n",
    ")\n",
    "display(\n",
    "    sum_expr.expression,\n",
    "    sum_expr.cleanup(),\n",
    "    sum_expr.doit(),\n",
    ")"
   ]
  }
 ],
 "metadata": {
  "kernelspec": {
   "display_name": "Python 3 (ipykernel)",
   "language": "python",
   "name": "python3"
  },
  "language_info": {
   "name": "python",
   "version": "3.8.12"
  }
 },
 "nbformat": 4,
 "nbformat_minor": 4
}
