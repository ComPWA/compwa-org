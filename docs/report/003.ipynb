{
 "cells": [
  {
   "cell_type": "code",
   "execution_count": null,
   "metadata": {
    "hideCode": true,
    "hideOutput": true,
    "hidePrompt": true,
    "jupyter": {
     "source_hidden": true
    },
    "slideshow": {
     "slide_type": "skip"
    },
    "tags": [
     "remove-cell"
    ]
   },
   "outputs": [],
   "source": [
    "%config InlineBackend.figure_formats = ['svg']\n",
    "import os\n",
    "\n",
    "STATIC_WEB_PAGE = {\"EXECUTE_NB\", \"READTHEDOCS\"}.intersection(os.environ)"
   ]
  },
  {
   "cell_type": "markdown",
   "metadata": {},
   "source": [
    "```{autolink-concat}\n",
    "```"
   ]
  },
  {
   "cell_type": "markdown",
   "metadata": {},
   "source": [
    "# [TR-003] Chew-Mandelstam"
   ]
  },
  {
   "cell_type": "markdown",
   "metadata": {},
   "source": [
    "<!-- cspell:ignore dasharray dashoffset displaystyle displaystyledisplaystyle linecap linejoin ndim orthopy xlink xtick ytick -->"
   ]
  },
  {
   "cell_type": "markdown",
   "metadata": {},
   "source": [
    "```{autolink-skip}\n",
    "```"
   ]
  },
  {
   "cell_type": "code",
   "execution_count": null,
   "metadata": {
    "jupyter": {
     "source_hidden": true
    },
    "tags": [
     "hide-input",
     "remove-output"
    ]
   },
   "outputs": [],
   "source": [
    "%pip install -q ampform==0.13.3 matplotlib==3.5.1 mpl-interactions==0.20.2 numpy==1.22.3 qrules==0.9.7 sympy==1.10.1"
   ]
  },
  {
   "cell_type": "markdown",
   "metadata": {},
   "source": [
    "```{autolink-skip}\n",
    "```"
   ]
  },
  {
   "cell_type": "code",
   "execution_count": null,
   "metadata": {
    "jupyter": {
     "source_hidden": true
    },
    "tags": [
     "hide-input",
     "remove-output"
    ]
   },
   "outputs": [],
   "source": [
    "%pip install -q ndim==0.1.7 orthopy==0.9.6 quadpy==0.16.11 scipy==1.8.0"
   ]
  },
  {
   "cell_type": "markdown",
   "metadata": {},
   "source": [
    "This report is an attempt formulate the Chew-Mandelstam function described in {pdg-review}`2021; Resonances; pp.13` (Section 50.3.5) with [SymPy](https://docs.sympy.org), so that it can be implemented in [AmpForm](https://ampform.rtfd.io)."
   ]
  },
  {
   "cell_type": "markdown",
   "metadata": {},
   "source": [
    "```{autolink-skip}\n",
    "```"
   ]
  },
  {
   "cell_type": "code",
   "execution_count": null,
   "metadata": {
    "jupyter": {
     "source_hidden": true
    }
   },
   "outputs": [],
   "source": [
    "%matplotlib widget"
   ]
  },
  {
   "cell_type": "code",
   "execution_count": null,
   "metadata": {
    "jupyter": {
     "source_hidden": true
    },
    "tags": [
     "hide-cell"
    ]
   },
   "outputs": [],
   "source": [
    "import warnings\n",
    "from functools import partial\n",
    "\n",
    "import matplotlib.pyplot as plt\n",
    "import mpl_interactions.ipyplot as iplt\n",
    "import numpy as np\n",
    "import qrules\n",
    "import quadpy\n",
    "import symplot\n",
    "import sympy as sp\n",
    "from ampform.dynamics import (\n",
    "    BlattWeisskopfSquared,\n",
    "    BreakupMomentumSquared,\n",
    "    ComplexSqrt,\n",
    "    PhaseSpaceFactor,\n",
    "    PhaseSpaceFactorComplex,\n",
    ")\n",
    "from IPython.display import Math\n",
    "\n",
    "warnings.filterwarnings(\"ignore\")\n",
    "PDG = qrules.load_pdg()"
   ]
  },
  {
   "cell_type": "markdown",
   "metadata": {
    "tags": []
   },
   "source": [
    "## S-wave"
   ]
  },
  {
   "cell_type": "markdown",
   "metadata": {},
   "source": [
    "As can be seen in Eq. (50.40) on {pdg-review}`2021; Resonances; p.13`, the Chew-Mandelstam function $\\Sigma_a$ for a particle $a$ decaying to particles $1, 2$ has a simple form for angular momentum $L=0$ ($S$-wave):\n",
    "\n",
    "$$\n",
    "\\Sigma_a(s) = \\frac{1}{16\\pi^2}\n",
    "\\left[\n",
    " \\frac{2q_a}{\\sqrt{s}}\n",
    " \\log\\frac{m_1^2+m_2^2-s+2\\sqrt{s}q_a}{2m_1m_2}\n",
    " - \\left(m_1^2-m_2^2\\right)\n",
    " \\left(\\frac{1}{s}-\\frac{1}{(m_1+m_2)^2}\\right)\n",
    " \\log\\frac{m_1}{m_2}\n",
    "\\right]\n",
    "$$\n",
    "\n",
    "The only question is how to deal with negative values for the squared break-up momentum $q_a^2$. Here, we will use AmpForm's {class}`~ampform.sympy.math.ComplexSqrt`:"
   ]
  },
  {
   "cell_type": "code",
   "execution_count": null,
   "metadata": {
    "jupyter": {
     "source_hidden": true
    },
    "tags": [
     "hide-input",
     "remove-input"
    ]
   },
   "outputs": [],
   "source": [
    "q_squared_symbol = sp.Symbol(\"q_a^{2}\", real=True)\n",
    "q_a_expr = ComplexSqrt(q_squared_symbol)\n",
    "Math(f\"q_a = {sp.latex(q_a_expr)} = {sp.latex(q_a_expr.evaluate())}\")"
   ]
  },
  {
   "cell_type": "code",
   "execution_count": null,
   "metadata": {
    "tags": []
   },
   "outputs": [],
   "source": [
    "def breakup_momentum(s, m1, m2):\n",
    "    q_squared = BreakupMomentumSquared(s, m1, m2)\n",
    "    return ComplexSqrt(q_squared)"
   ]
  },
  {
   "cell_type": "code",
   "execution_count": null,
   "metadata": {
    "tags": []
   },
   "outputs": [],
   "source": [
    "def chew_mandelstam_s_wave(s, m1, m2):\n",
    "    # evaluate=False in order to keep same style as PDG\n",
    "    q = breakup_momentum(s, m1, m2)\n",
    "    left_term = sp.Mul(\n",
    "        2 * q / sp.sqrt(s),\n",
    "        sp.log((m1**2 + m2**2 - s + 2 * sp.sqrt(s) * q) / (2 * m1 * m2)),\n",
    "        evaluate=False,\n",
    "    )\n",
    "    right_term = (\n",
    "        (m1**2 - m2**2) * (1 / s - 1 / (m1 + m2) ** 2) * sp.log(m1 / m2)\n",
    "    )\n",
    "    return sp.Mul(\n",
    "        1 / (16 * sp.pi**2),\n",
    "        left_term - right_term,\n",
    "        evaluate=False,\n",
    "    )"
   ]
  },
  {
   "cell_type": "markdown",
   "metadata": {},
   "source": [
    "To check whether this implementation is correct, let's plug some {class}`~sympy.core.symbol.Symbol`s into this function and compare it to Eq. (50.40) on {pdg-review}`2021; Resonances; p.13`:"
   ]
  },
  {
   "cell_type": "code",
   "execution_count": null,
   "metadata": {
    "tags": [
     "full-width"
    ]
   },
   "outputs": [],
   "source": [
    "s, m1, m2 = sp.symbols(\"s m1 m2\", real=True)\n",
    "chew_mandelstam_s_wave_expr = chew_mandelstam_s_wave(s, m1, m2)\n",
    "chew_mandelstam_s_wave_expr"
   ]
  },
  {
   "cell_type": "markdown",
   "metadata": {},
   "source": [
    "It should be noted that this equation is not well-defined along the real axis, that is, for $\\mathrm{Im}(s) = 0$. For this reason, we split $s$ into a real part $s'$ with a small imaginary offset (the PDG indicates this with $s+0i$). We parametrized this imaginary offset with $\\epsilon$, and for the interactive plot, we do so with a power of $10$:"
   ]
  },
  {
   "cell_type": "code",
   "execution_count": null,
   "metadata": {},
   "outputs": [],
   "source": [
    "epsilon = sp.Symbol(\"epsilon\", real=True, positive=True)\n",
    "s_prime = sp.Symbol(R\"s^{\\prime}\", real=True)\n",
    "s_plus = s_prime + sp.I * sp.Pow(10, -epsilon)"
   ]
  },
  {
   "cell_type": "code",
   "execution_count": null,
   "metadata": {
    "jupyter": {
     "source_hidden": true
    },
    "tags": [
     "remove-input"
    ]
   },
   "outputs": [],
   "source": [
    "Math(Rf\"{sp.latex(s)} \\to {sp.latex(s_plus)}\")"
   ]
  },
  {
   "cell_type": "markdown",
   "metadata": {},
   "source": [
    "We are now ready to use [`mpl_interactions`](https://mpl-interactions.rtfd.io) and AmpForm's {mod}`symplot` to visualize this function:"
   ]
  },
  {
   "cell_type": "code",
   "execution_count": null,
   "metadata": {
    "tags": []
   },
   "outputs": [],
   "source": [
    "chew_mandelstam_s_wave_prime = chew_mandelstam_s_wave_expr.subs(s, s_plus)\n",
    "np_chew_mandelstam_s_wave, sliders = symplot.prepare_sliders(\n",
    "    expression=chew_mandelstam_s_wave_prime.doit(),\n",
    "    plot_symbol=s_prime,\n",
    ")\n",
    "np_phase_space_factor = sp.lambdify(\n",
    "    args=(s_prime, m1, m2, epsilon),\n",
    "    expr=PhaseSpaceFactorComplex(s_plus, m1, m2).doit(),\n",
    "    modules=\"numpy\",\n",
    ")"
   ]
  },
  {
   "cell_type": "markdown",
   "metadata": {},
   "source": [
    "As starting values for the interactive plot, we assume $\\pi\\eta$ scattering (just like in the PDG section) and use their masses as values for $m_1$ and $m_1$, respectively."
   ]
  },
  {
   "cell_type": "code",
   "execution_count": null,
   "metadata": {},
   "outputs": [],
   "source": [
    "s_min, s_max = -0.15, 1.4\n",
    "m1_val = PDG[\"pi0\"].mass\n",
    "m2_val = PDG[\"eta\"].mass\n",
    "\n",
    "plot_domain = np.linspace(s_min, s_max, 500)\n",
    "sliders.set_ranges(\n",
    "    m1=(0, 2, 200),\n",
    "    m2=(0, 2, 200),\n",
    "    epsilon=(1, 12),\n",
    ")\n",
    "sliders.set_values(\n",
    "    m1=m1_val,\n",
    "    m2=m2_val,\n",
    "    epsilon=4,\n",
    ")"
   ]
  },
  {
   "cell_type": "markdown",
   "metadata": {},
   "source": [
    "For comparison, we plot the Chew-Mandelstam function for $S$-waves next to AmpForm's {class}`~ampform.dynamics.PhaseSpaceFactorComplex`. Have a look at the resulting plots and compare to Figure 50.4 on {pdg-review}`2021; Resonances; p.12`."
   ]
  },
  {
   "cell_type": "code",
   "execution_count": null,
   "metadata": {
    "jupyter": {
     "source_hidden": true
    },
    "tags": [
     "remove-output",
     "hide-cell"
    ]
   },
   "outputs": [],
   "source": [
    "fig, axes = plt.subplots(ncols=2, figsize=(11, 4.5), tight_layout=True)\n",
    "ax1, ax2 = axes\n",
    "for ax in axes:\n",
    "    ax.axhline(0, linewidth=0.5, c=\"black\")\n",
    "\n",
    "ylim = (-1, +1)\n",
    "y_factor = 16 * np.pi\n",
    "controls = iplt.axvline(\n",
    "    lambda *args, **kwargs: (kwargs[\"m1\"] + kwargs[\"m2\"]) ** 2,\n",
    "    **sliders,\n",
    "    c=\"grey\",\n",
    "    linewidth=0.5,\n",
    "    label=R\"$s_\\mathrm{thr}$\",\n",
    "    ax=ax1,\n",
    ")\n",
    "iplt.axvline(\n",
    "    lambda *args, **kwargs: (kwargs[\"m1\"] + kwargs[\"m2\"]) ** 2,\n",
    "    controls=controls,\n",
    "    c=\"grey\",\n",
    "    linewidth=0.5,\n",
    "    label=R\"$s_\\mathrm{thr}$\",\n",
    "    ax=ax2,\n",
    ")\n",
    "iplt.plot(\n",
    "    plot_domain,\n",
    "    lambda *args, **kwargs: (\n",
    "        y_factor * 1j * np_phase_space_factor(*args, **kwargs)\n",
    "    ).real,\n",
    "    label=\"Real part\",\n",
    "    controls=controls,\n",
    "    ylim=ylim,\n",
    "    alpha=0.7,\n",
    "    ax=ax1,\n",
    "    c=\"black\",\n",
    "    linestyle=\"dashed\",\n",
    ")\n",
    "iplt.plot(\n",
    "    plot_domain,\n",
    "    lambda *args, **kwargs: (\n",
    "        y_factor * 1j * np_phase_space_factor(*args, **kwargs)\n",
    "    ).imag,\n",
    "    label=\"Imag part\",\n",
    "    controls=controls,\n",
    "    ylim=ylim,\n",
    "    alpha=0.7,\n",
    "    ax=ax1,\n",
    "    c=\"red\",\n",
    ")\n",
    "\n",
    "iplt.plot(\n",
    "    plot_domain,\n",
    "    lambda *args, **kwargs: y_factor\n",
    "    * np_chew_mandelstam_s_wave(*args, **kwargs).real,\n",
    "    label=\"Real part\",\n",
    "    controls=controls,\n",
    "    ylim=ylim,\n",
    "    alpha=0.7,\n",
    "    ax=ax2,\n",
    "    c=\"black\",\n",
    "    linestyle=\"dashed\",\n",
    ")\n",
    "iplt.plot(\n",
    "    plot_domain,\n",
    "    lambda *args, **kwargs: y_factor\n",
    "    * np_chew_mandelstam_s_wave(*args, **kwargs).imag,\n",
    "    label=\"Imag part\",\n",
    "    controls=controls,\n",
    "    ylim=ylim,\n",
    "    alpha=0.7,\n",
    "    ax=ax2,\n",
    "    c=\"red\",\n",
    ")\n",
    "\n",
    "for ax in axes:\n",
    "    ax.legend(loc=\"lower right\")\n",
    "    ax.set_xticks(np.arange(0, 1.21, 0.3))\n",
    "    ax.set_yticks(np.arange(-1, 1.1, 0.5))\n",
    "    ax.set_xlabel(\"$s$ (GeV$^2$)\")\n",
    "\n",
    "ax1.set_ylabel(R\"$16\\pi \\; i\\rho(s)$\")\n",
    "ax2.set_ylabel(R\"$16\\pi \\; \\Sigma(s)$\")\n",
    "ax1.set_title(R\"Complex phase space factor $\\rho$\")\n",
    "ax2.set_title(\"Chew-Mandelstam $S$-wave ($L=0$)\")\n",
    "plt.show()"
   ]
  },
  {
   "cell_type": "code",
   "execution_count": null,
   "metadata": {
    "jupyter": {
     "source_hidden": true
    },
    "tags": [
     "remove-input",
     "full-width"
    ]
   },
   "outputs": [],
   "source": [
    "if STATIC_WEB_PAGE:\n",
    "    from IPython.display import SVG\n",
    "\n",
    "    output_file = \"chew-mandelstam-s-wave.svg\"\n",
    "    plt.savefig(output_file)\n",
    "    display(SVG(output_file))"
   ]
  },
  {
   "cell_type": "markdown",
   "metadata": {
    "tags": []
   },
   "source": [
    "## General dispersion integral"
   ]
  },
  {
   "cell_type": "markdown",
   "metadata": {},
   "source": [
    "For higher angular momenta, the PDG notes that one has to compute the dispersion integral given by Eq. (50.41) on {pdg-review}`2021; Resonances; p.13`:\n",
    "\n",
    "$$\n",
    "\\Sigma_a(s+0i) =\n",
    "    \\frac{s-s_{\\mathrm{thr}_a}}{\\pi}\n",
    "    \\int^\\infty_{s_{\\mathrm{thr}_a}} \\frac{\n",
    "        \\rho_a(s')n_a^2(s')\n",
    "    }{\n",
    "        (s' - s_{\\mathrm{thr}_a})(s'-s-i0)\n",
    "    }\n",
    "    \\mathop{}\\!\\mathrm{d}s'\n",
    "$$ (integrand)"
   ]
  },
  {
   "cell_type": "markdown",
   "metadata": {},
   "source": [
    "From Equations (50.26-27) on {pdg-review}`2021; Resonances; p.9`, it can be deduced that the function $n_a^2$ is the same as AmpForm's {class}`~ampform.dynamics.BlattWeisskopfSquared` (note that this function is normalized, whereas the PDG's $F_j$ function has $1$ in the nominator). Furthermore, the PDG seems to suggest that $z = q_a/q_0$, but this is an unconventional choice and is probably a mistake. For this reason, we simply use {class}`~ampform.dynamics.BlattWeisskopfSquared` for the definition of $n_a^2$:"
   ]
  },
  {
   "cell_type": "code",
   "execution_count": null,
   "metadata": {},
   "outputs": [],
   "source": [
    "def na2(s, m1, m2, L, q0):\n",
    "    q_squared = BreakupMomentumSquared(s, m1, m2)\n",
    "    return BlattWeisskopfSquared(\n",
    "        z=q_squared / (q0**2),\n",
    "        angular_momentum=L,\n",
    "    )"
   ]
  },
  {
   "cell_type": "markdown",
   "metadata": {},
   "source": [
    "For $\\rho_a$, we use AmpForm's {class}`~ampform.dynamics.PhaseSpaceFactor`:"
   ]
  },
  {
   "cell_type": "code",
   "execution_count": null,
   "metadata": {},
   "outputs": [],
   "source": [
    "q0 = sp.Symbol(\"q0\", real=True)\n",
    "L = sp.Symbol(\"L\", integer=True, positive=True)\n",
    "s_thr = (m1 + m2) ** 2\n",
    "integrand = (\n",
    "    PhaseSpaceFactor(s_prime, m1, m2) * na2(s_prime, m1, m2, L, q0)\n",
    ") / ((s_prime - s_thr) * (s_prime - s - epsilon * sp.I))\n",
    "integrand"
   ]
  },
  {
   "cell_type": "markdown",
   "metadata": {},
   "source": [
    "Next, we {func}`~sympy.utilities.lambdify.lambdify` this integrand to a {mod}`numpy` expression so that we can integrate it efficiently:"
   ]
  },
  {
   "cell_type": "code",
   "execution_count": null,
   "metadata": {},
   "outputs": [],
   "source": [
    "np_integrand = sp.lambdify(\n",
    "    args=(s_prime, s, L, epsilon, m1, m2, q0),\n",
    "    expr=integrand.doit(),\n",
    "    modules=\"numpy\",\n",
    ")"
   ]
  },
  {
   "cell_type": "markdown",
   "metadata": {},
   "source": [
    "As discussed in {doc}`/report/016`, {func}`scipy.integrate.quad` cannot integrate over complex-valued functions, while [`quadpy`](https://github.com/sigma-py/quadpy) runs into trouble with vectorized input to the integrand. The following function, from {ref}`report/016:Vectorized input` offers a quick solution:"
   ]
  },
  {
   "cell_type": "code",
   "execution_count": null,
   "metadata": {},
   "outputs": [],
   "source": [
    "@np.vectorize\n",
    "def vectorized_quad(func, a, b, **func_kwargs):\n",
    "    values, _ = quadpy.quad(partial(func, **func_kwargs), a, b)\n",
    "    return values"
   ]
  },
  {
   "cell_type": "markdown",
   "metadata": {},
   "source": [
    "Now, for comparison, we compute this integral for a few values of $L>0$:"
   ]
  },
  {
   "cell_type": "code",
   "execution_count": null,
   "metadata": {
    "tags": []
   },
   "outputs": [],
   "source": [
    "s_domain = np.linspace(s_min, s_max, num=50)\n",
    "max_L = 3\n",
    "l_values = list(range(1, max_L + 1))\n",
    "print(\"Computing for L ∈\", l_values)"
   ]
  },
  {
   "cell_type": "markdown",
   "metadata": {},
   "source": [
    "It is handy to store the resulting values of each dispersion integral in a {obj}`dict` with $L$ as keys:"
   ]
  },
  {
   "cell_type": "markdown",
   "metadata": {},
   "source": [
    "```{autolink-skip}\n",
    "```"
   ]
  },
  {
   "cell_type": "code",
   "execution_count": null,
   "metadata": {
    "tags": []
   },
   "outputs": [],
   "source": [
    "%%time\n",
    "s_thr_val = float(s_thr.subs({m1: m1_val, m2: m2_val}))\n",
    "integral_values = {\n",
    "    l_val: vectorized_quad(\n",
    "        np_integrand,\n",
    "        a=s_thr_val,\n",
    "        b=np.inf,\n",
    "        s=s_domain,\n",
    "        L=l_val,\n",
    "        epsilon=1e-3,\n",
    "        m1=m1_val,\n",
    "        m2=m2_val,\n",
    "        q0=1.0,\n",
    "    )\n",
    "    for l_val in l_values\n",
    "}"
   ]
  },
  {
   "cell_type": "markdown",
   "metadata": {},
   "source": [
    "Finally, as can be seen from Eq. {eq}`integrand`, the resulting values from the integral have to be shifted with a factor $\\frac{s-s_{\\mathrm{thr}_a}}{\\pi}$ to get $\\Sigma_a$. We also scale the values with $16\\pi$ so that it can be compared with the plot generated in {ref}`report/003:S-wave`."
   ]
  },
  {
   "cell_type": "code",
   "execution_count": null,
   "metadata": {
    "tags": []
   },
   "outputs": [],
   "source": [
    "sigma = {\n",
    "    l_val: (s_domain - s_thr_val) / np.pi * integral_values[l_val]\n",
    "    for l_val in l_values\n",
    "}\n",
    "sigma_scaled = {l_val: 16 * np.pi * sigma[l_val] for l_val in l_values}"
   ]
  },
  {
   "cell_type": "code",
   "execution_count": null,
   "metadata": {
    "jupyter": {
     "source_hidden": true
    },
    "tags": [
     "hide-input",
     "remove-output"
    ]
   },
   "outputs": [],
   "source": [
    "fig, axes = plt.subplots(\n",
    "    nrows=len(l_values),\n",
    "    sharex=True,\n",
    "    figsize=(5, 2.5 * len(l_values)),\n",
    "    tight_layout=True,\n",
    ")\n",
    "fig.suptitle(f\"Dispersion integrals for $m_1={m1_val:.2f}, m_2={m2_val:.2f}$\")\n",
    "for ax, l_val in zip(axes, l_values):\n",
    "    ax.axhline(0, linewidth=0.5, c=\"black\")\n",
    "    ax.axvline(s_thr_val, c=\"grey\", linewidth=0.5, label=R\"$s_\\mathrm{thr}$\")\n",
    "    ax.plot(\n",
    "        s_domain,\n",
    "        sigma_scaled[l_val].real,\n",
    "        c=\"black\",\n",
    "        linestyle=\"dashed\",\n",
    "        label=\"Real part\",\n",
    "    )\n",
    "    ax.plot(\n",
    "        s_domain,\n",
    "        sigma_scaled[l_val].imag,\n",
    "        c=\"red\",\n",
    "        label=\"Imag part\",\n",
    "    )\n",
    "    ax.set_title(f\"$L = {l_val}$\")\n",
    "    ax.set_ylabel(R\"$16\\pi \\; \\Sigma(s)$\")\n",
    "axes[-1].set_xlabel(\"$s$ (GeV$^2$)\")\n",
    "axes[0].legend()\n",
    "plt.show()"
   ]
  }
 ],
 "metadata": {
  "kernelspec": {
   "display_name": "Python 3 (ipykernel)",
   "language": "python",
   "name": "python3"
  },
  "language_info": {
   "name": "python",
   "version": "3.8.13"
  }
 },
 "nbformat": 4,
 "nbformat_minor": 4
}
