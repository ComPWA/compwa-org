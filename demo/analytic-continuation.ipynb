{
 "cells": [
  {
   "cell_type": "code",
   "execution_count": null,
   "metadata": {
    "hideCode": true,
    "hideOutput": true,
    "hidePrompt": false,
    "jupyter": {
     "source_hidden": true
    },
    "slideshow": {
     "slide_type": "skip"
    },
    "tags": []
   },
   "outputs": [],
   "source": [
    "%matplotlib widget\n",
    "import logging\n",
    "import warnings\n",
    "\n",
    "import matplotlib.pyplot as plt\n",
    "import mpl_interactions.ipyplot as iplt\n",
    "import numpy as np\n",
    "import symplot\n",
    "import sympy as sp\n",
    "from ampform.dynamics import (\n",
    "    BlattWeisskopfSquared,\n",
    "    breakup_momentum_squared,\n",
    "    coupled_width,\n",
    "    phase_space_factor,\n",
    "    phase_space_factor_analytic,\n",
    "    phase_space_factor_complex,\n",
    "    relativistic_breit_wigner,\n",
    "    relativistic_breit_wigner_with_ff,\n",
    ")\n",
    "from ampform.dynamics.math import ComplexSqrt\n",
    "from IPython.display import Math\n",
    "from ipywidgets import widgets\n",
    "\n",
    "logging.basicConfig()\n",
    "logging.getLogger().setLevel(logging.ERROR)\n",
    "\n",
    "warnings.filterwarnings(\"ignore\")\n",
    "\n",
    "np.seterr(divide=\"ignore\");"
   ]
  },
  {
   "cell_type": "code",
   "execution_count": null,
   "metadata": {
    "hideCode": true,
    "slideshow": {
     "slide_type": "skip"
    },
    "tags": []
   },
   "outputs": [],
   "source": [
    "%%HTML\n",
    "<style>\n",
    "div.prompt {display:none}\n",
    "</style>"
   ]
  },
  {
   "cell_type": "markdown",
   "metadata": {
    "slideshow": {
     "slide_type": "slide"
    },
    "tags": []
   },
   "source": [
    "# Analytic continuation"
   ]
  },
  {
   "cell_type": "code",
   "execution_count": null,
   "metadata": {
    "hideCode": true,
    "hidePrompt": false,
    "jupyter": {
     "source_hidden": true
    },
    "slideshow": {
     "slide_type": "skip"
    },
    "tags": []
   },
   "outputs": [],
   "source": [
    "m, m0, w0, m_a, m_b, d = sp.symbols(\"m m0 Gamma0 m_a m_b d\")\n",
    "L = sp.Symbol(\"L\", integer=True)\n",
    "s = m ** 2"
   ]
  },
  {
   "cell_type": "code",
   "execution_count": null,
   "metadata": {
    "hideCode": true,
    "hidePrompt": false,
    "jupyter": {
     "source_hidden": true
    },
    "slideshow": {
     "slide_type": "skip"
    },
    "tags": []
   },
   "outputs": [],
   "source": [
    "rel_bw = relativistic_breit_wigner(\n",
    "    s=s,\n",
    "    mass0=m0,\n",
    "    gamma0=w0,\n",
    ")\n",
    "rel_bw_with_ff = relativistic_breit_wigner_with_ff(\n",
    "    s=s,\n",
    "    mass0=m0,\n",
    "    gamma0=w0,\n",
    "    m_a=m_a,\n",
    "    m_b=m_b,\n",
    "    angular_momentum=L,\n",
    "    meson_radius=d,\n",
    "    phsp_factor=phase_space_factor,\n",
    ")\n",
    "\n",
    "running_width = coupled_width(\n",
    "    s=s,\n",
    "    mass0=m0,\n",
    "    gamma0=w0,\n",
    "    m_a=m_a,\n",
    "    m_b=m_b,\n",
    "    angular_momentum=L,\n",
    "    meson_radius=d,\n",
    "    phsp_factor=phase_space_factor,\n",
    ")"
   ]
  },
  {
   "cell_type": "markdown",
   "metadata": {
    "tags": []
   },
   "source": [
    "Non-relativistic Breit-Wigner:"
   ]
  },
  {
   "cell_type": "code",
   "execution_count": null,
   "metadata": {
    "hideCode": true,
    "hidePrompt": false,
    "jupyter": {
     "source_hidden": true
    },
    "tags": []
   },
   "outputs": [],
   "source": [
    "rel_bw"
   ]
  },
  {
   "cell_type": "markdown",
   "metadata": {},
   "source": [
    "Relativistic Breit-Wigner with form factor _above threshold only_ [[PDG2020, §Resonances, p.6](https://pdg.lbl.gov/2020/reviews/rpp2020-rev-resonances.pdf#page=6)]:"
   ]
  },
  {
   "cell_type": "code",
   "execution_count": null,
   "metadata": {
    "hideCode": true,
    "hidePrompt": false,
    "jupyter": {
     "source_hidden": true
    },
    "tags": []
   },
   "outputs": [],
   "source": [
    "q_squared = breakup_momentum_squared(s, m_a, m_b)\n",
    "ff_sq = BlattWeisskopfSquared(L, z=q_squared * d ** 2)\n",
    "rel_bw_with_ff_subs = rel_bw_with_ff.subs(\n",
    "    {\n",
    "        2 * q_squared: 2 * sp.Symbol(\"q^{2}(m)\"),\n",
    "        ff_sq: sp.Symbol(R\"B_{L}^{2}\\left(q\\right)\"),\n",
    "        running_width: sp.Symbol(R\"\\Gamma(m)\"),\n",
    "    }\n",
    ")\n",
    "rel_bw_with_ff_subs"
   ]
  },
  {
   "cell_type": "markdown",
   "metadata": {
    "slideshow": {
     "slide_type": "-"
    }
   },
   "source": [
    "Coupled width [[PDG2020, §Resonances, Eq. (49.21)](https://pdg.lbl.gov/2020/reviews/rpp2020-rev-resonances.pdf#page=6)]:"
   ]
  },
  {
   "cell_type": "code",
   "execution_count": null,
   "metadata": {
    "hideCode": true,
    "hidePrompt": false,
    "jupyter": {
     "source_hidden": true
    },
    "tags": []
   },
   "outputs": [],
   "source": [
    "q_squared = breakup_momentum_squared(s, m_a, m_b)\n",
    "q0_squared = breakup_momentum_squared(m0 ** 2, m_a, m_b)\n",
    "ff_sq = BlattWeisskopfSquared(L, z=q_squared * d ** 2)\n",
    "ff0_sq = BlattWeisskopfSquared(L, z=q0_squared * d ** 2)\n",
    "rho = phase_space_factor(s, m_a, m_b)\n",
    "rho0 = phase_space_factor(m0 ** 2, m_a, m_b)\n",
    "running_width = running_width.subs(\n",
    "    {\n",
    "        rho / rho0: sp.Symbol(R\"\\rho(m)\") / sp.Symbol(R\"\\rho(m_{0})\"),\n",
    "        ff_sq: sp.Symbol(\"B_{L}^{2}(q)\"),\n",
    "        ff0_sq: sp.Symbol(\"B_{L}^{2}(q_{0})\"),\n",
    "    },\n",
    ")\n",
    "running_width_math = Math(fR\"\\Gamma(m) = {sp.latex(running_width)}\")\n",
    "running_width_math"
   ]
  },
  {
   "cell_type": "markdown",
   "metadata": {},
   "source": [
    "with $B_L^2(q)$ the Blatt-Weisskopf form factor as defined [here](https://ampform.readthedocs.io/en/stable/api/ampform.dynamics.html#ampform.dynamics.BlattWeisskopfSquared)."
   ]
  },
  {
   "cell_type": "markdown",
   "metadata": {
    "slideshow": {
     "slide_type": "subslide"
    }
   },
   "source": [
    "## Phase space factor"
   ]
  },
  {
   "cell_type": "markdown",
   "metadata": {},
   "source": [
    "We have to choose a phase space factor $\\rho$ for the coupled width:"
   ]
  },
  {
   "cell_type": "code",
   "execution_count": null,
   "metadata": {
    "hideCode": true,
    "hidePrompt": false,
    "jupyter": {
     "source_hidden": true
    },
    "tags": []
   },
   "outputs": [],
   "source": [
    "running_width_math"
   ]
  },
  {
   "cell_type": "markdown",
   "metadata": {
    "slideshow": {
     "slide_type": "subslide"
    }
   },
   "source": [
    "## Phase space factor ― some options"
   ]
  },
  {
   "cell_type": "code",
   "execution_count": null,
   "metadata": {
    "hideCode": true,
    "hidePrompt": false,
    "jupyter": {
     "source_hidden": true
    },
    "slideshow": {
     "slide_type": "skip"
    },
    "tags": []
   },
   "outputs": [],
   "source": [
    "q_squared = breakup_momentum_squared(s, m_a, m_b)\n",
    "rho = phase_space_factor(s, m_a, m_b)\n",
    "rho_analytic = phase_space_factor_analytic(s, m_a, m_b)"
   ]
  },
  {
   "cell_type": "markdown",
   "metadata": {
    "tags": []
   },
   "source": [
    "**Break-up momentum** [[PDG2020, §Kinematics, Eq. (48.1)](https://pdg.lbl.gov/2020/reviews/rpp2020-rev-kinematics.pdf#page=3)]:"
   ]
  },
  {
   "cell_type": "code",
   "execution_count": null,
   "metadata": {
    "hideCode": true,
    "hidePrompt": false,
    "jupyter": {
     "source_hidden": true
    },
    "tags": [
     "hide-input"
    ]
   },
   "outputs": [],
   "source": [
    "q_squared_math = Math(f\"q(m) = {sp.latex(sp.sqrt(q_squared, evaluate=False))}\")\n",
    "q_squared_math"
   ]
  },
  {
   "cell_type": "markdown",
   "metadata": {
    "slideshow": {
     "slide_type": "-"
    }
   },
   "source": [
    "'Standard' **phase space factor** [[PDG2020, §Resonances, Eq. (49.8)](https://pdg.lbl.gov/2020/reviews/rpp2020-rev-resonances.pdf#page=4)]:"
   ]
  },
  {
   "cell_type": "code",
   "execution_count": null,
   "metadata": {
    "hideCode": true,
    "hidePrompt": false,
    "jupyter": {
     "source_hidden": true
    },
    "tags": [
     "hide-input"
    ]
   },
   "outputs": [],
   "source": [
    "rho_subs = rho.subs(sp.sqrt(q_squared), sp.Symbol(R\"\\sqrt{q^{2}(m)}\"))\n",
    "rho_math = Math(fR\"\\rho(m) = {sp.latex(rho_subs)}\")\n",
    "rho_math"
   ]
  },
  {
   "cell_type": "markdown",
   "metadata": {
    "slideshow": {
     "slide_type": "fragment"
    }
   },
   "source": [
    "**Analytic continuation** of the phase space factor [[PDG2016, §Resonances, p.9](https://pdg.lbl.gov/2016/reviews/rpp2016-rev-resonances.pdf#page=9)] (<span style=\"color:red\">only valid if $m_a = m_b$ (?)</span>):"
   ]
  },
  {
   "cell_type": "code",
   "execution_count": null,
   "metadata": {
    "hideCode": true,
    "hidePrompt": false,
    "jupyter": {
     "source_hidden": true
    },
    "tags": [
     "hide-input"
    ]
   },
   "outputs": [],
   "source": [
    "from ampform.dynamics import _analytic_continuation, phase_space_factor_abs\n",
    "\n",
    "rho_ac_math = _analytic_continuation(\n",
    "    sp.Symbol(R\"\\hat{\\rho}\"), s, s_threshold=(m_a + m_b) ** 2\n",
    ")\n",
    "rho_hat = phase_space_factor_abs(s, m_a, m_b)\n",
    "rho_hat_subs = rho_hat.subs(\n",
    "    4 * sp.Abs(q_squared),\n",
    "    4 * sp.Symbol(R\"\\left|q^{2}(m)\\right|\"),\n",
    ")\n",
    "rho_ac_math = Math(\n",
    "    sp.latex(rho_ac_math)\n",
    "    + R\" \\quad \\mathrm{{with}} \\quad \\hat{{\\rho}}(m) = \"\n",
    "    + sp.latex(rho_hat_subs)\n",
    ")\n",
    "rho_ac_math"
   ]
  },
  {
   "cell_type": "markdown",
   "metadata": {
    "slideshow": {
     "slide_type": "slide"
    }
   },
   "source": [
    "## Break-up momentum behavior"
   ]
  },
  {
   "cell_type": "markdown",
   "metadata": {},
   "source": [
    "Notice that the input to the square root is negative for <br>\n",
    "$|m_a-m_b| < m < m_a+m_b$:"
   ]
  },
  {
   "cell_type": "code",
   "execution_count": null,
   "metadata": {
    "hideCode": true,
    "hidePrompt": false,
    "jupyter": {
     "source_hidden": true
    },
    "tags": []
   },
   "outputs": [],
   "source": [
    "q_squared_math"
   ]
  },
  {
   "cell_type": "code",
   "execution_count": null,
   "metadata": {
    "hideCode": true,
    "hidePrompt": false,
    "jupyter": {
     "source_hidden": true
    },
    "tags": []
   },
   "outputs": [],
   "source": [
    "np_breakup_momentum_squared, sliders = symplot.prepare_sliders(\n",
    "    plot_symbol=m,\n",
    "    expression=q_squared,\n",
    ")\n",
    "\n",
    "\n",
    "def np_breakup_momentum_squared_left(plot_domain, m_a, m_b):\n",
    "    values = np_breakup_momentum_squared(plot_domain, m_a, m_b)\n",
    "    return np.where(plot_domain < np.abs(m_a - m_b), values, np.nan)\n",
    "\n",
    "\n",
    "def np_breakup_momentum_squared_mid(plot_domain, m_a, m_b):\n",
    "    values = np_breakup_momentum_squared(plot_domain, m_a, m_b)\n",
    "    return np.where(values < 0, values, np.nan)\n",
    "\n",
    "\n",
    "def np_breakup_momentum_squared_right(plot_domain, m_a, m_b):\n",
    "    values = np_breakup_momentum_squared(plot_domain, m_a, m_b)\n",
    "    return np.where(plot_domain > m_a + m_b, values, np.nan)\n",
    "\n",
    "\n",
    "plot_domain = np.linspace(0.01, 4, 400)\n",
    "sliders.set_ranges(\n",
    "    m_a=(0, 2, 200),\n",
    "    m_b=(0, 2, 200),\n",
    ")\n",
    "sliders.set_values(\n",
    "    m_a=1.4,\n",
    "    m_b=0.9,\n",
    ")\n",
    "\n",
    "fig, ax = plt.subplots(figsize=(9, 4.3), tight_layout=True)\n",
    "fig.canvas.toolbar_visible = False\n",
    "ax.set_xlabel(\"$m$\")\n",
    "ax.set_ylabel(\"$q^2(m)$\")\n",
    "controls = iplt.plot(\n",
    "    plot_domain,\n",
    "    np_breakup_momentum_squared_left,\n",
    "    **sliders,\n",
    "    ylim=(-1, 3),\n",
    "    ax=ax,\n",
    "    label=R\"$m \\leq m_a-m_b$\",\n",
    "    c=\"C2\",\n",
    ")\n",
    "iplt.plot(\n",
    "    plot_domain,\n",
    "    np_breakup_momentum_squared_mid,\n",
    "    controls=controls,\n",
    "    ylim=\"auto\",\n",
    "    ax=ax,\n",
    "    label=\"$q^2(m) < 0$\",\n",
    "    c=\"red\",\n",
    ")\n",
    "iplt.plot(\n",
    "    plot_domain,\n",
    "    np_breakup_momentum_squared_right,\n",
    "    controls=controls,\n",
    "    ylim=\"auto\",\n",
    "    ax=ax,\n",
    "    label=R\"$m \\geq m_a+m_b$\",\n",
    "    c=\"C0\",\n",
    ")\n",
    "ax.set_yticks([0])\n",
    "plt.axhline(y=0, c=\"black\", linestyle=\"dotted\", linewidth=1)\n",
    "plt.legend(loc=\"lower right\")\n",
    "plt.show()"
   ]
  },
  {
   "cell_type": "markdown",
   "metadata": {
    "slideshow": {
     "slide_type": "subslide"
    }
   },
   "source": [
    "## Analytic continuation"
   ]
  },
  {
   "cell_type": "markdown",
   "metadata": {
    "tags": []
   },
   "source": [
    "Analytic continuation should take care of those negative values:"
   ]
  },
  {
   "cell_type": "code",
   "execution_count": null,
   "metadata": {
    "hideCode": true,
    "hidePrompt": false,
    "jupyter": {
     "source_hidden": true
    },
    "slideshow": {
     "slide_type": "-"
    },
    "tags": []
   },
   "outputs": [],
   "source": [
    "rho_ac_math"
   ]
  },
  {
   "cell_type": "markdown",
   "metadata": {
    "slideshow": {
     "slide_type": "fragment"
    },
    "tags": []
   },
   "source": [
    "In the following slide, we visualize compare this continuation with slightly modified versions of $q$ and $\\rho$:"
   ]
  },
  {
   "cell_type": "code",
   "execution_count": null,
   "metadata": {
    "hideCode": true,
    "hidePrompt": false,
    "jupyter": {
     "source_hidden": true
    },
    "tags": []
   },
   "outputs": [],
   "source": [
    "q_squared_symbol = sp.Symbol(\"q^{2}(m)\")\n",
    "q_c = ComplexSqrt(q_squared_symbol)\n",
    "rho_c = phase_space_factor_complex(s, m_a, m_b)\n",
    "\n",
    "x = sp.Symbol(\"x\", real=True)\n",
    "complex_sqrt = ComplexSqrt(x)\n",
    "\n",
    "q_c_symbol = sp.Symbol(\"q_{c}(m)\")\n",
    "q_c_subs = q_c.subs(4 * q_squared, 4 * q_squared_symbol)\n",
    "rho_c_subs = rho_c.subs(ComplexSqrt(q_squared), ComplexSqrt(q_squared_symbol))\n",
    "\n",
    "q_c_latex = fR\"{sp.latex(q_c_symbol)} = {sp.latex(q_c)}\"\n",
    "rho_c_latex = fR\"\\rho_c(m) = {sp.latex(rho_c_subs)}\"\n",
    "display(\n",
    "    Math(q_c_latex),\n",
    "    Math(rho_c_latex),\n",
    "    Math(fR\"{sp.latex(complex_sqrt)} = {sp.latex(complex_sqrt.evaluate())}\"),\n",
    ")"
   ]
  },
  {
   "cell_type": "markdown",
   "metadata": {
    "slideshow": {
     "slide_type": "subslide"
    }
   },
   "source": [
    "## Analytic continuation"
   ]
  },
  {
   "cell_type": "code",
   "execution_count": null,
   "metadata": {
    "hideCode": true,
    "hidePrompt": false,
    "jupyter": {
     "source_hidden": true
    },
    "slideshow": {
     "slide_type": "-"
    },
    "tags": []
   },
   "outputs": [],
   "source": [
    "np_rho_c, sliders = symplot.prepare_sliders(plot_symbol=m, expression=rho_c)\n",
    "np_rho_ac = sp.lambdify((m, m_a, m_b), rho_analytic, \"numpy\")\n",
    "np_breakup_momentum = sp.lambdify(\n",
    "    (m, m_a, m_b), ComplexSqrt(q_squared), \"numpy\"\n",
    ")\n",
    "\n",
    "plot_domain = np.linspace(0, 3, 200)\n",
    "sliders.set_ranges(\n",
    "    m_a=(0, 2, 200),\n",
    "    m_b=(0, 2, 200),\n",
    ")\n",
    "sliders.set_values(\n",
    "    m_a=0.6,\n",
    "    m_b=1.25,\n",
    ")\n",
    "\n",
    "fig, axes = plt.subplots(1, 3, figsize=[13, 4], tight_layout=True)\n",
    "fig.canvas.toolbar_visible = False\n",
    "\n",
    "ax_q, ax_rho, ax_rho_ac = axes\n",
    "for ax in axes:\n",
    "    ax.set_xlabel(\"$m$\")\n",
    "\n",
    "ylim_q = (-0.04, 1.0)\n",
    "ylim_rho = (-0.002, 0.05)\n",
    "\n",
    "\n",
    "def func_imag(func, *args, **kwargs):\n",
    "    return lambda *args, **kwargs: func(*args, **kwargs).imag\n",
    "\n",
    "\n",
    "def func_real(func, *args, **kwargs):\n",
    "    return lambda *args, **kwargs: func(*args, **kwargs).real\n",
    "\n",
    "\n",
    "ax_q.set_title(f\"${q_c_latex}$\")\n",
    "controls = iplt.plot(\n",
    "    plot_domain,\n",
    "    func_real(np_breakup_momentum),\n",
    "    label=\"real\",\n",
    "    **sliders,\n",
    "    ylim=ylim_q,\n",
    "    ax=ax_q,\n",
    "    alpha=0.7,\n",
    ")\n",
    "iplt.plot(\n",
    "    plot_domain,\n",
    "    func_imag(np_breakup_momentum),\n",
    "    label=\"imaginary\",\n",
    "    controls=controls,\n",
    "    ylim=ylim_q,\n",
    "    ax=ax_q,\n",
    "    alpha=0.7,\n",
    ")\n",
    "\n",
    "ax_rho.set_title(f\"${rho_c_latex}$\")\n",
    "iplt.plot(\n",
    "    plot_domain,\n",
    "    func_real(np_rho_c),\n",
    "    label=\"real\",\n",
    "    controls=controls,\n",
    "    ylim=ylim_rho,\n",
    "    ax=ax_rho,\n",
    "    alpha=0.7,\n",
    ")\n",
    "iplt.plot(\n",
    "    plot_domain,\n",
    "    func_imag(np_rho_c),\n",
    "    label=\"imaginary\",\n",
    "    controls=controls,\n",
    "    ylim=ylim_rho,\n",
    "    ax=ax_rho,\n",
    "    alpha=0.7,\n",
    ")\n",
    "\n",
    "ax_rho_ac.set_title(\"analytic\")\n",
    "iplt.plot(\n",
    "    plot_domain,\n",
    "    func_real(np_rho_ac),\n",
    "    label=\"real\",\n",
    "    controls=controls,\n",
    "    ylim=ylim_rho,\n",
    "    ax=ax_rho_ac,\n",
    "    alpha=0.7,\n",
    ")\n",
    "iplt.plot(\n",
    "    plot_domain,\n",
    "    func_imag(np_rho_ac),\n",
    "    label=\"imaginary\",\n",
    "    controls=controls,\n",
    "    ylim=ylim_rho,\n",
    "    ax=ax_rho_ac,\n",
    "    alpha=0.7,\n",
    ")\n",
    "plt.legend(loc=\"upper right\")\n",
    "\n",
    "plt.show()"
   ]
  },
  {
   "cell_type": "code",
   "execution_count": null,
   "metadata": {
    "hideCode": true,
    "jupyter": {
     "source_hidden": true
    },
    "tags": []
   },
   "outputs": [],
   "source": [
    "rho_ac_math"
   ]
  },
  {
   "cell_type": "markdown",
   "metadata": {
    "slideshow": {
     "slide_type": "skip"
    }
   },
   "source": [
    "## Effect on Breit-Wigner"
   ]
  },
  {
   "cell_type": "code",
   "execution_count": null,
   "metadata": {
    "hideCode": true,
    "hidePrompt": false,
    "jupyter": {
     "source_hidden": true
    },
    "slideshow": {
     "slide_type": "skip"
    },
    "tags": []
   },
   "outputs": [],
   "source": [
    "def breakup_momentum(s: sp.Symbol, m_a: sp.Symbol, m_b: sp.Symbol) -> sp.Expr:\n",
    "    q_squared = breakup_momentum_squared(s, m_a, m_b)\n",
    "    return ComplexSqrt(q_squared)\n",
    "\n",
    "\n",
    "bw_q = relativistic_breit_wigner_with_ff(\n",
    "    s=s,\n",
    "    mass0=m0,\n",
    "    gamma0=w0,\n",
    "    m_a=m_a,\n",
    "    m_b=m_b,\n",
    "    angular_momentum=L,\n",
    "    meson_radius=d,\n",
    "    phsp_factor=breakup_momentum,\n",
    ")\n",
    "bw_rho = relativistic_breit_wigner_with_ff(\n",
    "    s=s,\n",
    "    mass0=m0,\n",
    "    gamma0=w0,\n",
    "    m_a=m_a,\n",
    "    m_b=m_b,\n",
    "    angular_momentum=L,\n",
    "    meson_radius=d,\n",
    "    phsp_factor=phase_space_factor_complex,\n",
    ")\n",
    "bw_rho_ac = relativistic_breit_wigner_with_ff(\n",
    "    s=s,\n",
    "    mass0=m0,\n",
    "    gamma0=w0,\n",
    "    m_a=m_a,\n",
    "    m_b=m_b,\n",
    "    angular_momentum=L,\n",
    "    meson_radius=d,\n",
    "    phsp_factor=phase_space_factor_analytic,\n",
    ")\n",
    "\n",
    "\n",
    "def make_argand(func):\n",
    "    def decorated_func(*args, **kwargs):\n",
    "        values = func(plot_domain, *args, **kwargs)\n",
    "        argand = np.array([values.real, values.imag])\n",
    "        return argand.T\n",
    "\n",
    "    return decorated_func"
   ]
  },
  {
   "cell_type": "code",
   "execution_count": null,
   "metadata": {
    "hideCode": true,
    "hidePrompt": false,
    "jupyter": {
     "source_hidden": true
    },
    "slideshow": {
     "slide_type": "slide"
    },
    "tags": []
   },
   "outputs": [],
   "source": [
    "np_bw_rho_ac, sliders = symplot.prepare_sliders(\n",
    "    plot_symbol=m,\n",
    "    expression=bw_rho_ac.doit(),\n",
    ")\n",
    "np_bw_rho = sp.lambdify((m, w0, L, d, m0, m_a, m_b), bw_rho.doit())\n",
    "np_bw_q = sp.lambdify((m, w0, L, d, m0, m_a, m_b), bw_q.doit())\n",
    "\n",
    "plot_domain = np.linspace(start=0, stop=4, num=501)\n",
    "sliders.set_ranges(\n",
    "    m0=(0, 4, 50),\n",
    "    Gamma0=(0, 1, 100),\n",
    "    L=(0, 8),\n",
    "    m_a=(0, 2, 200),\n",
    "    m_b=(0, 2, 200),\n",
    "    d=(0, 5),\n",
    ")\n",
    "\n",
    "\n",
    "def set_defaults(ev):\n",
    "    return sliders.set_values(\n",
    "        m0=1.8,\n",
    "        Gamma0=0.6,\n",
    "        L=1,\n",
    "        m_a=0.7,\n",
    "        m_b=0.5,\n",
    "        d=1,\n",
    "    )\n",
    "\n",
    "\n",
    "set_defaults(None)\n",
    "starting_values = widgets.Button(description=\"defaults\")\n",
    "starting_values.on_click(set_defaults)\n",
    "\n",
    "zero_angular_momentum = widgets.Button(description=\"L=0\")\n",
    "zero_angular_momentum.on_click(\n",
    "    lambda ev: sliders.set_values(\n",
    "        L=0,\n",
    "    )\n",
    ")\n",
    "\n",
    "below_threshold = widgets.Button(description=\"below threshold\")\n",
    "below_threshold.on_click(\n",
    "    lambda ev: sliders.set_values(\n",
    "        m0=0.95,\n",
    "        m_a=0.7,\n",
    "        m_b=0.5,\n",
    "    )\n",
    ")\n",
    "\n",
    "just_below_threshold = widgets.Button(description=\"just below threshold\")\n",
    "just_below_threshold.on_click(\n",
    "    lambda ev: sliders.set_values(\n",
    "        m0=1.04,\n",
    "        m_a=0.7,\n",
    "        m_b=0.5,\n",
    "    )\n",
    ")\n",
    "\n",
    "button_box = widgets.HBox(\n",
    "    [\n",
    "        starting_values,\n",
    "        below_threshold,\n",
    "        just_below_threshold,\n",
    "        zero_angular_momentum,\n",
    "    ]\n",
    ")\n",
    "\n",
    "fig, all_axes = plt.subplots(\n",
    "    nrows=3,\n",
    "    ncols=2,\n",
    "    figsize=(10, 8),\n",
    "    gridspec_kw={\"width_ratios\": [2.5, 1]},\n",
    ")\n",
    "fig.suptitle(\"Relativistic Breit-Wigners with different phase space factors\")\n",
    "fig.canvas.toolbar_visible = False\n",
    "\n",
    "for ax_left, ax_right in all_axes:\n",
    "    ax_right.set_ylabel(R\"Im$\\left(A\\right)$\")\n",
    "m_label = \"$m$\"\n",
    "ax_left.set_xlabel(m_label)\n",
    "ax_right.set_xlabel(R\"Re$\\left(A\\right)$\")\n",
    "axes, axes_argand = all_axes.T\n",
    "\n",
    "axes[0].set_title(\"Break-up momentum $q$\")\n",
    "axes[1].set_title(R\"Phase space factor $\\rho$\")\n",
    "axes[2].set_title(\"analytic continuation\")\n",
    "\n",
    "ylim = \"auto\"  # (-0.3, 0.8)\n",
    "\n",
    "controls = iplt.plot(\n",
    "    plot_domain,\n",
    "    lambda *args, **kwargs: np_bw_q(*args, **kwargs).real,\n",
    "    label=\"real\",\n",
    "    **sliders,\n",
    "    ylim=ylim,\n",
    "    ax=axes[0],\n",
    ")\n",
    "iplt.plot(\n",
    "    plot_domain.real,\n",
    "    lambda *args, **kwargs: np_bw_rho(*args, **kwargs).real,\n",
    "    label=\"real\",\n",
    "    controls=controls,\n",
    "    ylim=ylim,\n",
    "    ax=axes[1],\n",
    ")\n",
    "iplt.plot(\n",
    "    plot_domain.real,\n",
    "    lambda *args, **kwargs: np_bw_rho_ac(*args, **kwargs).real,\n",
    "    label=\"real\",\n",
    "    controls=controls,\n",
    "    ylim=ylim,\n",
    "    ax=axes[2],\n",
    ")\n",
    "iplt.plot(\n",
    "    plot_domain.real,\n",
    "    lambda *args, **kwargs: np_bw_q(*args, **kwargs).imag,\n",
    "    label=\"imaginary\",\n",
    "    controls=controls,\n",
    "    ylim=ylim,\n",
    "    ax=axes[0],\n",
    ")\n",
    "iplt.plot(\n",
    "    plot_domain.real,\n",
    "    lambda *args, **kwargs: np_bw_rho(*args, **kwargs).imag,\n",
    "    label=\"imaginary\",\n",
    "    controls=controls,\n",
    "    ylim=ylim,\n",
    "    ax=axes[1],\n",
    ")\n",
    "iplt.plot(\n",
    "    plot_domain.real,\n",
    "    lambda *args, **kwargs: np_bw_rho_ac(*args, **kwargs).imag,\n",
    "    label=\"imaginary\",\n",
    "    controls=controls,\n",
    "    ylim=ylim,\n",
    "    ax=axes[2],\n",
    ")\n",
    "\n",
    "for ax in axes:\n",
    "    iplt.axvline(\n",
    "        controls[\"m0\"],\n",
    "        c=\"red\",\n",
    "        alpha=0.3,\n",
    "        ax=ax,\n",
    "        label=\"$m_0$\",\n",
    "    )\n",
    "    iplt.axvline(\n",
    "        lambda m_a, m_b, **kwargs: m_a + m_b,\n",
    "        controls=controls,\n",
    "        c=\"black\",\n",
    "        alpha=0.3,\n",
    "        ax=ax,\n",
    "        label=\"$m_a + m_b$\",\n",
    "    )\n",
    "    ax.axhline(0, c=\"black\", linewidth=1)\n",
    "    if isinstance(ylim, tuple):\n",
    "        ax.set_yticks([0])\n",
    "axes[0].legend(loc=\"upper right\")\n",
    "\n",
    "# Argand plots\n",
    "iplt.scatter(\n",
    "    make_argand(np_bw_q),\n",
    "    controls=controls,\n",
    "    parametric=True,\n",
    "    c=plot_domain,\n",
    "    s=1,\n",
    "    xlim=\"auto\",\n",
    "    ylim=\"auto\",\n",
    "    ax=axes_argand[0],\n",
    ")\n",
    "iplt.scatter(\n",
    "    make_argand(np_bw_rho),\n",
    "    controls=controls,\n",
    "    parametric=True,\n",
    "    c=plot_domain,\n",
    "    s=1,\n",
    "    xlim=\"auto\",\n",
    "    ylim=\"auto\",\n",
    "    ax=axes_argand[1],\n",
    ")\n",
    "iplt.scatter(\n",
    "    make_argand(np_bw_rho_ac),\n",
    "    controls=controls,\n",
    "    parametric=True,\n",
    "    c=plot_domain,\n",
    "    s=1,\n",
    "    xlim=\"auto\",\n",
    "    ylim=\"auto\",\n",
    "    ax=axes_argand[2],\n",
    ")\n",
    "for ax in axes_argand:\n",
    "    ax.set_xticks([0])\n",
    "    ax.set_yticks([0])\n",
    "    plt.colorbar(label=m_label, ax=ax, aspect=30, pad=0.01)\n",
    "plt.winter()\n",
    "\n",
    "fig.tight_layout()\n",
    "plt.show()\n",
    "display(button_box)"
   ]
  },
  {
   "cell_type": "markdown",
   "metadata": {
    "slideshow": {
     "slide_type": "subslide"
    },
    "tags": []
   },
   "source": [
    "## Formula overview"
   ]
  },
  {
   "cell_type": "code",
   "execution_count": null,
   "metadata": {
    "hideCode": true,
    "hidePrompt": false,
    "jupyter": {
     "source_hidden": true
    },
    "tags": []
   },
   "outputs": [],
   "source": [
    "display(\n",
    "    rel_bw_with_ff_subs,\n",
    "    running_width_math,\n",
    "    rho_ac_math,\n",
    "    rho_math,\n",
    "    q_squared_math,\n",
    ")"
   ]
  }
 ],
 "metadata": {
  "celltoolbar": "Hide code",
  "kernelspec": {
   "display_name": "Python 3",
   "language": "python",
   "name": "python3"
  },
  "language_info": {
   "codemirror_mode": {
    "name": "ipython",
    "version": 3
   },
   "file_extension": ".py",
   "mimetype": "text/x-python",
   "name": "python",
   "nbconvert_exporter": "python",
   "pygments_lexer": "ipython3",
   "version": "3.8.10"
  },
  "livereveal": {
   "autolaunch": true
  },
  "rise": {
   "auto_select": "none",
   "auto_select_fragment": false,
   "autolaunch": true,
   "enable_chalkboard": true,
   "scroll": true,
   "transition": "none"
  },
  "toc-autonumbering": false,
  "toc-showcode": false,
  "toc-showmarkdowntxt": false,
  "toc-showtags": true
 },
 "nbformat": 4,
 "nbformat_minor": 4
}
