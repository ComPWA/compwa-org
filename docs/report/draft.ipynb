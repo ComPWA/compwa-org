{
 "cells": [
  {
   "cell_type": "code",
   "execution_count": null,
   "metadata": {
    "hideCode": true,
    "hideOutput": true,
    "hidePrompt": true,
    "jupyter": {
     "source_hidden": true
    },
    "slideshow": {
     "slide_type": "skip"
    },
    "tags": [
     "remove-cell"
    ]
   },
   "outputs": [],
   "source": [
    "%config InlineBackend.figure_formats = ['svg']\n",
    "import os\n",
    "\n",
    "STATIC_WEB_PAGE = {\"EXECUTE_NB\", \"READTHEDOCS\"}.intersection(os.environ)"
   ]
  },
  {
   "cell_type": "markdown",
   "metadata": {},
   "source": [
    "```{autolink-concat}\n",
    "```"
   ]
  },
  {
   "cell_type": "markdown",
   "metadata": {},
   "source": [
    "````{margin}\n",
    "```{spec} Square root over arrays with negative values\n",
    ":id: TR-999\n",
    ":status: Implemented\n",
    ":tags: lambdification;sympy\n",
    "\n",
    "This report has been implemented in {pr}`ComPWA/tensorwaves#284`.\n",
    "\n",
    "```\n",
    "````\n",
    "\n",
    "# Riemann sheets"
   ]
  },
  {
   "cell_type": "markdown",
   "metadata": {
    "tags": []
   },
   "source": [
    "<!-- cspell:disable -->"
   ]
  },
  {
   "cell_type": "code",
   "execution_count": null,
   "metadata": {
    "jupyter": {
     "source_hidden": true
    },
    "tags": [
     "remove-cell"
    ]
   },
   "outputs": [],
   "source": [
    "%pip install -q ampform==0.14.6 plotly==5.17.0 sympy==1.12"
   ]
  },
  {
   "cell_type": "markdown",
   "metadata": {},
   "source": [
    "Follow-up to {need}`TR-004`, where we investigate and reproduce the Riemann sheets shown in [Fig.&nbsp;50.1](https://pdg.lbl.gov/2023/reviews/rpp2022-rev-resonances.pdf#page=2) and [50.2](https://pdg.lbl.gov/2023/reviews/rpp2022-rev-resonances.pdf#page=4) of the PDG.\n",
    "\n",
    "First, we formulate the $T$&nbsp;matrix in terms of a $K$&nbsp;matrix. There are two ways to do this and we associate the one with the $+$ with **Sheet I** and the one with $-$ with **Sheet II**."
   ]
  },
  {
   "cell_type": "code",
   "execution_count": null,
   "metadata": {
    "jupyter": {
     "source_hidden": true
    },
    "mystnb": {
     "code_prompt_show": "Import Python libraries"
    },
    "tags": [
     "hide-cell"
    ]
   },
   "outputs": [],
   "source": [
    "from __future__ import annotations\n",
    "\n",
    "import warnings\n",
    "from typing import TYPE_CHECKING\n",
    "\n",
    "import numpy as np\n",
    "import plotly.graph_objects as go\n",
    "import sympy as sp\n",
    "from ampform.io import aslatex\n",
    "from ampform.sympy import UnevaluatedExpression, implement_doit_method\n",
    "from ampform.sympy.math import NumPyPrintable, create_expression\n",
    "from IPython.display import Math\n",
    "\n",
    "if TYPE_CHECKING:\n",
    "    from sympy.printing.numpy import NumPyPrinter\n",
    "    from sympy.printing.printer import Printer\n",
    "    from sympy.printing.pycode import PythonCodePrinter\n",
    "\n",
    "warnings.filterwarnings(\"ignore\")"
   ]
  },
  {
   "cell_type": "code",
   "execution_count": null,
   "metadata": {},
   "outputs": [],
   "source": [
    "n = 1\n",
    "K = sp.MatrixSymbol(\"K\", n, n)\n",
    "ρ = sp.MatrixSymbol(\"rho\", n, n)\n",
    "I = sp.Identity(1)\n",
    "T1 = (K + sp.I * ρ).inv()\n",
    "T2 = (K - sp.I * ρ).inv()"
   ]
  },
  {
   "cell_type": "code",
   "execution_count": null,
   "metadata": {
    "jupyter": {
     "source_hidden": true
    },
    "tags": [
     "hide-input"
    ]
   },
   "outputs": [],
   "source": [
    "T1_symbol = sp.Symbol(\"T^{I}\")\n",
    "T2_symbol = sp.Symbol(\"T^{II}\")\n",
    "src = aslatex({T1_symbol: T1, T2_symbol: T2})\n",
    "Math(src)"
   ]
  },
  {
   "cell_type": "markdown",
   "metadata": {},
   "source": [
    "Note that this the above inversion is equivalent to [Eq.&nbsp;(50.31)](https://pdg.lbl.gov/2023/reviews/rpp2022-rev-resonances.pdf#page=4) (omitting the form factors&nsbp;$n$):\n",
    "\n",
    "$$\n",
    "T = (1 \\pm iK\\rho)^{-1}K.\n",
    "$$"
   ]
  },
  {
   "cell_type": "markdown",
   "metadata": {},
   "source": [
    "As an aside, we also define a special expression class for a square root where you can choose the sign for negative arguments. This can be used later for the phase space factor&nbsp;$\\rho$."
   ]
  },
  {
   "cell_type": "code",
   "execution_count": null,
   "metadata": {
    "jupyter": {
     "source_hidden": true
    },
    "mystnb": {
     "code_prompt_show": "Define special square root expression class"
    },
    "tags": [
     "hide-cell"
    ]
   },
   "outputs": [],
   "source": [
    "class SignedSqrt(NumPyPrintable):\n",
    "    is_commutative = True\n",
    "    is_real = False\n",
    "\n",
    "    def __new__(cls, x, sign, *args, **kwargs):\n",
    "        x = sp.sympify(x)\n",
    "        expr = create_expression(cls, x, sign, *args, **kwargs)\n",
    "        if isinstance(x, sp.Number):\n",
    "            return expr.get_definition()\n",
    "        return expr\n",
    "\n",
    "    def _latex(self, printer: Printer, *args) -> str:\n",
    "        x = printer._print(self.args[0])\n",
    "        sign = _render_sign(self.args[1], printer)\n",
    "        return Rf\"\\sqrt[{sign}]{{{x}}}\"\n",
    "\n",
    "    def _numpycode(self, printer: NumPyPrinter, *args) -> str:\n",
    "        return self.__print_complex(printer)\n",
    "\n",
    "    def _pythoncode(self, printer: PythonCodePrinter, *args) -> str:\n",
    "        printer.module_imports[\"cmath\"].add(\"sqrt as csqrt\")\n",
    "        x = printer._print(self.args[0])\n",
    "        sign = printer._print(self.args[1])\n",
    "        return (\n",
    "            f\"((({sign}*1j*sqrt(-{x}))\"\n",
    "            f\" if isinstance({x}, (float, int)) and ({x} < 0)\"\n",
    "            f\" else (csqrt({x}))))\"\n",
    "        )\n",
    "\n",
    "    def __print_complex(self, printer: Printer) -> str:\n",
    "        expr = self.get_definition()\n",
    "        return printer._print(expr)\n",
    "\n",
    "    def get_definition(self) -> sp.Piecewise:\n",
    "        x: sp.Expr = self.args[0]\n",
    "        sign: sp.Expr = self.args[1]\n",
    "        return sp.Piecewise(\n",
    "            (sign * sp.I * sp.sqrt(-x), x < 0),\n",
    "            (sp.sqrt(x), True),\n",
    "        )\n",
    "\n",
    "\n",
    "def _render_sign(sign, printer: Printer) -> str:\n",
    "    if sign == +1:\n",
    "        return \"+\"\n",
    "    if sign == -1:\n",
    "        return \"-\"\n",
    "    return printer._print(sign)"
   ]
  },
  {
   "cell_type": "code",
   "execution_count": null,
   "metadata": {},
   "outputs": [],
   "source": [
    "x = sp.Symbol(\"x\")\n",
    "SignedSqrt(x, -1) + SignedSqrt(x, +1)"
   ]
  },
  {
   "cell_type": "markdown",
   "metadata": {},
   "source": [
    "This gives us all the ingredients to formulate expressions for the parametrization of the matrix elements."
   ]
  },
  {
   "cell_type": "code",
   "execution_count": null,
   "metadata": {
    "jupyter": {
     "source_hidden": true
    },
    "mystnb": {
     "code_prompt_show": "Define phase space factor class"
    },
    "tags": [
     "hide-cell"
    ]
   },
   "outputs": [],
   "source": [
    "@implement_doit_method\n",
    "class EqualMassPhspFactor(UnevaluatedExpression):\n",
    "    is_commutative = True\n",
    "    is_real = False\n",
    "\n",
    "    def __new__(cls, s, m, sign, **hints) -> EqualMassPhspFactor:\n",
    "        return create_expression(cls, s, m, sign, **hints)\n",
    "\n",
    "    def evaluate(self) -> sp.Expr:\n",
    "        s, m, sign = self.args\n",
    "        return SignedSqrt(1 - 4 * m**2 / s, sign)\n",
    "\n",
    "    def _latex(self, printer: LatexPrinter, *args) -> str:\n",
    "        s = printer._print(self.args[0])\n",
    "        sign = _render_sign(self.args[2], printer)\n",
    "        return Rf\"\\rho^{{{sign}}}\\left({s}\\right)\""
   ]
  },
  {
   "cell_type": "code",
   "execution_count": null,
   "metadata": {},
   "outputs": [],
   "source": [
    "s = sp.Symbol(\"s\", complex=True)\n",
    "m0, m1, Γ = sp.symbols(\"m0 m1 Gamma\", real=True, nonnegative=True)\n",
    "sign = sp.symbols(R\"\\pm\", integer=True)\n",
    "K_expr = (m0**2 - s) / (m0 * Γ)\n",
    "ρ_expr = EqualMassPhspFactor(s, m1, sign)"
   ]
  },
  {
   "cell_type": "code",
   "execution_count": null,
   "metadata": {
    "jupyter": {
     "source_hidden": true
    },
    "tags": [
     "hide-input"
    ]
   },
   "outputs": [],
   "source": [
    "definitions = {K[0, 0]: K_expr, ρ[0, 0]: ρ_expr}\n",
    "Math(aslatex({**definitions, ρ_expr: ρ_expr.doit()}))"
   ]
  },
  {
   "cell_type": "code",
   "execution_count": null,
   "metadata": {},
   "outputs": [],
   "source": [
    "T1_expr = T1.as_explicit().xreplace(definitions)\n",
    "T2_expr = T2.as_explicit().xreplace(definitions)"
   ]
  },
  {
   "cell_type": "code",
   "execution_count": null,
   "metadata": {
    "jupyter": {
     "source_hidden": true
    },
    "tags": [
     "hide-input"
    ]
   },
   "outputs": [],
   "source": [
    "T1_symbol = sp.Symbol(\"T^{I}\")\n",
    "T2_symbol = sp.Symbol(\"T^{II}\")\n",
    "src = aslatex(\n",
    "    {\n",
    "        T1_symbol: T1_expr[0].simplify(doit=False),\n",
    "        T2_symbol: T2_expr[0].simplify(doit=False),\n",
    "    }\n",
    ")\n",
    "Math(src)"
   ]
  },
  {
   "cell_type": "markdown",
   "metadata": {},
   "source": [
    "Finally, we convert these expressions to numerical functions and use these to plot the Riemann sheets over a complex plane for the Mandelstam variable&nbsp;$s$."
   ]
  },
  {
   "cell_type": "code",
   "execution_count": null,
   "metadata": {
    "tags": []
   },
   "outputs": [],
   "source": [
    "args = (s, m0, m1, Γ, sign)\n",
    "T1_func = sp.lambdify(args, T1_expr[0].doit(), modules=\"numpy\")\n",
    "T2_func = sp.lambdify(args, T2_expr[0].doit(), modules=\"numpy\")"
   ]
  },
  {
   "cell_type": "code",
   "execution_count": null,
   "metadata": {
    "jupyter": {
     "source_hidden": true
    },
    "tags": [
     "hide-cell",
     "scroll-input"
    ]
   },
   "outputs": [],
   "source": [
    "x = np.linspace(0, 4, num=200)\n",
    "y = np.linspace(1e-5, 1.5, num=100)\n",
    "X, Yn = np.meshgrid(x, -y)\n",
    "X, Yp = np.meshgrid(x, +y)\n",
    "Zn = X + Yn * 1j\n",
    "Zp = X + Yp * 1j\n",
    "Tn = T1_func(Zn**2, 1.5, 0.5, 0.4, +1)\n",
    "Tp = T2_func(Zp**2, 1.5, 0.5, 0.4, +1)\n",
    "\n",
    "vmax = 1\n",
    "\n",
    "\n",
    "def sty(t):\n",
    "    return {\n",
    "        \"cmin\": -vmax,\n",
    "        \"cmax\": +vmax,\n",
    "        \"colorscale\": \"RdBu_r\",\n",
    "        \"surfacecolor\": t.imag,\n",
    "    }\n",
    "\n",
    "\n",
    "Sn = go.Surface(x=X, y=Yn, z=Tn.real, **sty(Tn), name=\"Unphysical\")\n",
    "Sp = go.Surface(\n",
    "    x=X, y=Yp, z=Tp.real, **sty(Tp), name=\"Physical\", colorbar_title=\"Re T\"\n",
    ")\n",
    "y = Yp[0]\n",
    "z = x + y * 1j\n",
    "line = go.Scatter3d(\n",
    "    x=x,\n",
    "    y=y,\n",
    "    z=T1_func(z**2, 1.5, 0.5, 0.4, +1).real,\n",
    "    marker={\"size\": 0},\n",
    "    line={\"color\": \"darkgreen\", \"width\": 1},\n",
    ")\n",
    "fig = go.Figure(data=[Sn, Sp, line])\n",
    "fig.update_layout(height=550, width=600)\n",
    "fig.update_scenes(\n",
    "    xaxis_title_text=\"Re s\",\n",
    "    yaxis_title_text=\"Im s\",\n",
    "    zaxis_range=[-vmax, +vmax],\n",
    ")\n",
    "fig.show()"
   ]
  },
  {
   "cell_type": "markdown",
   "metadata": {},
   "source": [
    "Note that we matched the colors [of the PDG](https://pdg.lbl.gov/2023/reviews/rpp2022-rev-resonances.pdf#page=4), but that we had to remap the sheet associations. As can be seen in the plotting code, we have the following associations:\n",
    "\n",
    "|                      | Sheet I  | Sheet II |\n",
    "|----------------------|----------|----------|\n",
    "| $\\mathrm{Im}(s) < 0$ | $T^{I}$  | $T^{II}$ |\n",
    "| $\\mathrm{Im}(s) > 0$ | $T^{II}$ | $T^{I}$  |\n",
    "\n",
    "So the sheet numbers 'flip' for $\\mathrm{Im}(s) > 0$ and what we see in the third figure is just $T^{II}$."
   ]
  }
 ],
 "metadata": {
  "kernelspec": {
   "display_name": "Python 3 (ipykernel)",
   "language": "python",
   "name": "python3"
  },
  "language_info": {
   "codemirror_mode": {
    "name": "ipython",
    "version": 3
   },
   "file_extension": ".py",
   "mimetype": "text/x-python",
   "name": "python",
   "nbconvert_exporter": "python",
   "pygments_lexer": "ipython3",
   "version": "3.8.18"
  },
  "orphan": true
 },
 "nbformat": 4,
 "nbformat_minor": 4
}
