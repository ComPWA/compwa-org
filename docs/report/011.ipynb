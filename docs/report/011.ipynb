{
 "cells": [
  {
   "cell_type": "markdown",
   "metadata": {
    "tags": []
   },
   "source": [
    "# [TR-011] Symbolic kinematics"
   ]
  },
  {
   "cell_type": "code",
   "execution_count": null,
   "metadata": {
    "jupyter": {
     "source_hidden": true
    },
    "tags": [
     "hide-cell"
    ]
   },
   "outputs": [],
   "source": [
    "%%sh\n",
    "pip install ampform==0.11.4 graphviz==0.17 numpy==1.19.5 qrules==0.9.2 > /dev/null"
   ]
  },
  {
   "cell_type": "code",
   "execution_count": null,
   "metadata": {
    "jupyter": {
     "source_hidden": true
    },
    "tags": [
     "hide-cell"
    ]
   },
   "outputs": [],
   "source": [
    "import graphviz\n",
    "import numpy as np\n",
    "import qrules\n",
    "from ampform.data import EventCollection\n",
    "from ampform.kinematics import _compute_helicity_angles\n",
    "from qrules.topology import create_isobar_topologies"
   ]
  },
  {
   "cell_type": "markdown",
   "metadata": {},
   "source": [
    "This report investigates issue {issue}`56`. The ideal solution would be to use only SymPy in the existing [`ampform.kinematics`](https://ampform.readthedocs.io/en/0.11.4/api/ampform.kinematics.html) module. This has two benefits:\n",
    "\n",
    "1. It allows computing kinematic variables from four-momenta with different computational back-ends.\n",
    "2. Expressions for kinematic variable can be inspected through their LaTeX representation.\n",
    "\n",
    "To simplify things, we investigate 1. by only lambdifying to NumPy. It should be relatively straightforward to lambdify to other back-ends like TensorFlow (as long as they support Einstein summation)."
   ]
  },
  {
   "cell_type": "markdown",
   "metadata": {
    "tags": []
   },
   "source": [
    "## Test sample"
   ]
  },
  {
   "cell_type": "markdown",
   "metadata": {},
   "source": [
    "Data sample taken from [this test in AmpForm](https://github.com/ComPWA/ampform/tree/0.11.4/tests/conftest.py#L53-L115) and topology and expected angles taken from [here](https://github.com/ComPWA/ampform/tree/0.11.4/tests/test_kinematics.py#L15-L112)."
   ]
  },
  {
   "cell_type": "code",
   "execution_count": null,
   "metadata": {},
   "outputs": [],
   "source": [
    "topologies = create_isobar_topologies(4)\n",
    "topology = topologies[1]"
   ]
  },
  {
   "cell_type": "code",
   "execution_count": null,
   "metadata": {
    "jupyter": {
     "source_hidden": true
    },
    "tags": [
     "hide-input"
    ]
   },
   "outputs": [],
   "source": [
    "dot = qrules.io.asdot(topology)\n",
    "graphviz.Source(dot)"
   ]
  },
  {
   "cell_type": "code",
   "execution_count": null,
   "metadata": {
    "jupyter": {
     "source_hidden": true
    },
    "tags": [
     "hide-cell"
    ]
   },
   "outputs": [],
   "source": [
    "events = EventCollection(\n",
    "    {\n",
    "        0: np.array(  # pi0\n",
    "            [\n",
    "                (1.35527, 0.514208, -0.184219, 1.23296),\n",
    "                (0.841933, 0.0727385, -0.0528868, 0.826163),\n",
    "                (0.550927, -0.162529, 0.29976, -0.411133),\n",
    "            ]\n",
    "        ),\n",
    "        1: np.array(  # gamma\n",
    "            [\n",
    "                (0.755744, -0.305812, 0.284, -0.630057),\n",
    "                (1.02861, 0.784483, 0.614347, -0.255334),\n",
    "                (0.356875, -0.20767, 0.272796, 0.0990739),\n",
    "            ]\n",
    "        ),\n",
    "        2: np.array(  # pi0\n",
    "            [\n",
    "                (0.208274, -0.061663, -0.0211864, 0.144596),\n",
    "                (0.461193, -0.243319, -0.283044, -0.234866),\n",
    "                (1.03294, 0.82872, -0.0465425, -0.599834),\n",
    "            ]\n",
    "        ),\n",
    "        3: np.array(  # pi0\n",
    "            [\n",
    "                (0.777613, -0.146733, -0.0785946, -0.747499),\n",
    "                (0.765168, -0.613903, -0.278416, -0.335962),\n",
    "                (1.15616, -0.458522, -0.526014, 0.911894),\n",
    "            ]\n",
    "        ),\n",
    "    }\n",
    ")"
   ]
  },
  {
   "cell_type": "code",
   "execution_count": null,
   "metadata": {},
   "outputs": [],
   "source": [
    "angles = _compute_helicity_angles(events, topology)\n",
    "angles._DataSet__data"
   ]
  }
 ],
 "metadata": {
  "kernelspec": {
   "display_name": "Python 3 (ipykernel)",
   "language": "python",
   "name": "python3"
  },
  "language_info": {
   "codemirror_mode": {
    "name": "ipython",
    "version": 3
   },
   "file_extension": ".py",
   "mimetype": "text/x-python",
   "name": "python",
   "nbconvert_exporter": "python",
   "pygments_lexer": "ipython3",
   "version": "3.8.12"
  }
 },
 "nbformat": 4,
 "nbformat_minor": 4
}
