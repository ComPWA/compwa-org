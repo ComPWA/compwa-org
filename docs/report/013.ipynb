{
 "cells": [
  {
   "cell_type": "code",
   "execution_count": null,
   "metadata": {
    "hideCode": true,
    "hideOutput": true,
    "hidePrompt": true,
    "jupyter": {
     "source_hidden": true
    },
    "slideshow": {
     "slide_type": "skip"
    },
    "tags": [
     "remove-cell"
    ]
   },
   "outputs": [],
   "source": [
    "%config InlineBackend.figure_formats = ['svg']\n",
    "import os\n",
    "\n",
    "STATIC_WEB_PAGE = {\"EXECUTE_NB\", \"READTHEDOCS\"}.intersection(os.environ)"
   ]
  },
  {
   "cell_type": "markdown",
   "metadata": {},
   "source": [
    "```{autolink-concat}\n",
    "```"
   ]
  },
  {
   "cell_type": "markdown",
   "metadata": {},
   "source": [
    "# [TR-013] Spin alignment"
   ]
  },
  {
   "cell_type": "markdown",
   "metadata": {},
   "source": [
    "<!-- cspell:ignore phasespace -->\n",
    "```{autolink-skip}\n",
    "```"
   ]
  },
  {
   "cell_type": "code",
   "execution_count": null,
   "metadata": {
    "jupyter": {
     "source_hidden": true
    },
    "tags": [
     "hide-cell"
    ]
   },
   "outputs": [],
   "source": [
    "%pip install -q git+https://github.com/ComPWA/ampform@98de70f pandas==1.4.1 qrules[viz]==0.9.7 tensorwaves[jax,pwa]==0.4.2"
   ]
  },
  {
   "cell_type": "markdown",
   "metadata": {
    "tags": []
   },
   "source": [
    ":::{note}\n",
    "\n",
    "This report is a continuation of [ampform#245](https://ampform--245.org.readthedocs.build/en/245/usage/helicity/spin-alignment.html).\n",
    "\n",
    ":::\n",
    "\n",
    "<!-- cspell:ignore Marangotto Multibody lstrip rlcrl rstrip -->\n",
    "\n",
    "In {ref}`report/013:Distribution without alignment`, we attempt to  attempts to reproduce the distributions shown in [Figure 3](https://downloads.hindawi.com/journals/ahep/2020/6674595.pdf#page=10).[^marangotto] Next, in {ref}`report/013:Spin alignment sum`, we attempt to reproduce the distribution shown in [Figure 2](https://downloads.hindawi.com/journals/ahep/2020/6674595.pdf#page=9) with the new mechanisms introduced in [ampform#245](https://ampform--245.org.readthedocs.build/en/245/usage/helicity/spin-alignment.html).\n",
    "\n",
    "[^marangotto]: D. Marangotto. Helicity Amplitudes for Generic Multibody Particle Decays Featuring Multiple Decay Chains. _Advances in High Energy Physics_, 2020:1–15, December 2020. [doi:10.1155/2020/6674595](https://doi.org/10.1155/2020/6674595)."
   ]
  },
  {
   "cell_type": "code",
   "execution_count": null,
   "metadata": {
    "jupyter": {
     "source_hidden": true
    },
    "tags": [
     "hide-cell"
    ]
   },
   "outputs": [],
   "source": [
    "import logging\n",
    "import warnings\n",
    "\n",
    "LOGGER = logging.getLogger()\n",
    "LOGGER.setLevel(logging.ERROR)\n",
    "warnings.filterwarnings(\"ignore\")"
   ]
  },
  {
   "cell_type": "markdown",
   "metadata": {
    "tags": []
   },
   "source": [
    "## Phase space sample"
   ]
  },
  {
   "cell_type": "code",
   "execution_count": null,
   "metadata": {
    "jupyter": {
     "source_hidden": true
    },
    "tags": [
     "hide-cell"
    ]
   },
   "outputs": [],
   "source": [
    "import qrules\n",
    "\n",
    "PDG = qrules.load_pdg()"
   ]
  },
  {
   "cell_type": "code",
   "execution_count": null,
   "metadata": {
    "tags": []
   },
   "outputs": [],
   "source": [
    "from tensorwaves.data import (\n",
    "    TFPhaseSpaceGenerator,\n",
    "    TFUniformRealNumberGenerator,\n",
    ")\n",
    "\n",
    "phsp_generator = TFPhaseSpaceGenerator(\n",
    "    initial_state_mass=PDG[\"Lambda(c)+\"].mass,\n",
    "    final_state_masses={\n",
    "        0: PDG[\"p\"].mass,\n",
    "        1: PDG[\"K-\"].mass,\n",
    "        2: PDG[\"pi+\"].mass,\n",
    "    },\n",
    ")\n",
    "rng = TFUniformRealNumberGenerator(seed=0)\n",
    "phsp_momenta = phsp_generator.generate(100_000, rng)"
   ]
  },
  {
   "cell_type": "markdown",
   "metadata": {},
   "source": [
    "## Distribution without alignment"
   ]
  },
  {
   "cell_type": "markdown",
   "metadata": {},
   "source": [
    "### Create amplitude model"
   ]
  },
  {
   "cell_type": "code",
   "execution_count": null,
   "metadata": {
    "jupyter": {
     "source_hidden": true
    },
    "tags": [
     "hide-cell"
    ]
   },
   "outputs": [],
   "source": [
    "from qrules.particle import ParticleCollection, create_particle\n",
    "\n",
    "particle_db = ParticleCollection()\n",
    "particle_db.add(PDG[\"Lambda(c)+\"])\n",
    "particle_db.add(PDG[\"p\"])\n",
    "particle_db.add(PDG[\"K-\"])\n",
    "particle_db.add(PDG[\"pi+\"])\n",
    "\n",
    "particle_db.add(\n",
    "    create_particle(\n",
    "        PDG[\"K*(892)0\"],\n",
    "        name=\"K*\",\n",
    "        latex=\"K^*\",\n",
    "    )\n",
    ")\n",
    "particle_db.add(\n",
    "    create_particle(\n",
    "        PDG[\"Lambda(1405)\"],\n",
    "        name=\"Lambda*\",\n",
    "        latex=R\"\\Lambda^*\",\n",
    "    )\n",
    ")\n",
    "particle_db.add(\n",
    "    create_particle(\n",
    "        PDG[\"Delta(1232)++\"],\n",
    "        name=\"Delta*++\",\n",
    "        latex=R\"\\Delta^*\",\n",
    "    )\n",
    ")"
   ]
  },
  {
   "cell_type": "code",
   "execution_count": null,
   "metadata": {
    "tags": []
   },
   "outputs": [],
   "source": [
    "reaction = qrules.generate_transitions(\n",
    "    initial_state=(\"Lambda(c)+\", [-0.5, +0.5]),\n",
    "    final_state=[\"p\", \"K-\", \"pi+\"],\n",
    "    formalism=\"helicity\",\n",
    "    particle_db=particle_db,\n",
    ")"
   ]
  },
  {
   "cell_type": "code",
   "execution_count": null,
   "metadata": {
    "jupyter": {
     "source_hidden": true
    },
    "tags": [
     "hide-input",
     "full-width"
    ]
   },
   "outputs": [],
   "source": [
    "import graphviz\n",
    "\n",
    "n = len(reaction.transitions)\n",
    "for t in reaction.transitions[:: n // 3]:\n",
    "    dot = qrules.io.asdot([t], collapse_graphs=True, size=3.5)\n",
    "    graph = graphviz.Source(dot)\n",
    "    display(graph)"
   ]
  },
  {
   "cell_type": "markdown",
   "metadata": {},
   "source": [
    "Amplitude model formulated following [Appendix C](https://downloads.hindawi.com/journals/ahep/2020/6674595.pdf#page=13):"
   ]
  },
  {
   "cell_type": "code",
   "execution_count": null,
   "metadata": {
    "tags": []
   },
   "outputs": [],
   "source": [
    "import ampform\n",
    "from ampform.dynamics.builder import RelativisticBreitWignerBuilder\n",
    "\n",
    "builder = ampform.get_builder(reaction)\n",
    "builder.stable_final_state_ids = list(reaction.final_state)\n",
    "builder.scalar_initial_state_mass = True\n",
    "bw_builder = RelativisticBreitWignerBuilder()\n",
    "for name in reaction.get_intermediate_particles().names:\n",
    "    builder.set_dynamics(name, bw_builder)\n",
    "model = builder.formulate()"
   ]
  },
  {
   "cell_type": "code",
   "execution_count": null,
   "metadata": {
    "jupyter": {
     "source_hidden": true
    },
    "tags": [
     "hide-input",
     "full-width"
    ]
   },
   "outputs": [],
   "source": [
    "import sympy as sp\n",
    "from IPython.display import Math, display\n",
    "\n",
    "sub_exprs = {\n",
    "    sp.Symbol(name): expr\n",
    "    for name, expr in model.components.items()\n",
    "    if name.startswith(\"I\")\n",
    "}\n",
    "\n",
    "top_expr = model.expression.xreplace({e: s for s, e in sub_exprs.items()})\n",
    "latex = sp.multiline_latex(\n",
    "    sp.Symbol(\"I\"), top_expr, terms_per_line=4, environment=\"eqnarray\"\n",
    ")\n",
    "display(Math(latex))\n",
    "\n",
    "for symbol, expr in sub_exprs.items():\n",
    "    amp = expr.args[0].args[0]\n",
    "    latex = sp.multiline_latex(symbol, amp, environment=\"eqnarray\")\n",
    "    display(Math(latex))"
   ]
  },
  {
   "cell_type": "markdown",
   "metadata": {},
   "source": [
    "Importing the parameter values given by [Table 1](https://downloads.hindawi.com/journals/ahep/2020/6674595.pdf#page=13):"
   ]
  },
  {
   "cell_type": "code",
   "execution_count": null,
   "metadata": {
    "tags": []
   },
   "outputs": [],
   "source": [
    "# K*\n",
    "model.parameter_defaults[1] = 1\n",
    "model.parameter_defaults[3] = 0.5 + 0.5j\n",
    "model.parameter_defaults[2] = 1j\n",
    "model.parameter_defaults[1] = -0.5 - 0.5j\n",
    "model.parameter_defaults[15] = 0.9  # GeV\n",
    "model.parameter_defaults[8] = 0.2  # GeV\n",
    "\n",
    "# Lambda*\n",
    "model.parameter_defaults[7] = 1j\n",
    "model.parameter_defaults[6] = 0.8 - 0.4j\n",
    "model.parameter_defaults[17] = 1.6  # GeV\n",
    "model.parameter_defaults[10] = 0.2  # GeV\n",
    "\n",
    "# Delta*\n",
    "model.parameter_defaults[5] = 0.6 - 0.4j\n",
    "model.parameter_defaults[4] = 0.1j\n",
    "model.parameter_defaults[16] = 1.4  # GeV\n",
    "model.parameter_defaults[9] = 0.2  # GeV"
   ]
  },
  {
   "cell_type": "code",
   "execution_count": null,
   "metadata": {
    "jupyter": {
     "source_hidden": true
    },
    "tags": [
     "hide-input"
    ]
   },
   "outputs": [],
   "source": [
    "latex = R\"\\begin{array}{lc}\" + \"\\n\"\n",
    "for i in [1, 3, 2, 1, 15, 8, 7, 6, 17, 10, 5, 4, 16, 9]:\n",
    "    p, v = list(model.parameter_defaults.items())[i]\n",
    "    value = str(v).lstrip(\"(\").rstrip(\")\").replace(\"j\", \"i\")\n",
    "    latex += Rf\"  {sp.latex(p)} & {value} \\\\\" + \"\\n\"\n",
    "latex += R\"\\end{array}\"\n",
    "Math(latex)"
   ]
  },
  {
   "cell_type": "markdown",
   "metadata": {
    "tags": []
   },
   "source": [
    "### Generate data"
   ]
  },
  {
   "cell_type": "code",
   "execution_count": null,
   "metadata": {
    "tags": []
   },
   "outputs": [],
   "source": [
    "from tensorwaves.data import SympyDataTransformer\n",
    "\n",
    "helicity_transformer = SympyDataTransformer.from_sympy(\n",
    "    model.kinematic_variables, backend=\"jax\"\n",
    ")\n",
    "phsp = helicity_transformer(phsp_momenta)\n",
    "phsp = {k: v.real for k, v in phsp.items()}"
   ]
  },
  {
   "cell_type": "code",
   "execution_count": null,
   "metadata": {
    "jupyter": {
     "source_hidden": true
    },
    "tags": [
     "hide-input",
     "full-width"
    ]
   },
   "outputs": [],
   "source": [
    "import pandas as pd\n",
    "\n",
    "pd.DataFrame(phsp).round(3)"
   ]
  },
  {
   "cell_type": "code",
   "execution_count": null,
   "metadata": {
    "jupyter": {
     "source_hidden": true
    },
    "tags": [
     "hide-cell"
    ]
   },
   "outputs": [],
   "source": [
    "full_expression = model.expression.doit()\n",
    "substituted_expression = full_expression.xreplace(model.parameter_defaults)"
   ]
  },
  {
   "cell_type": "code",
   "execution_count": null,
   "metadata": {
    "tags": []
   },
   "outputs": [],
   "source": [
    "from tensorwaves.function.sympy import create_function\n",
    "\n",
    "intensity_func = create_function(substituted_expression, backend=\"jax\")"
   ]
  },
  {
   "cell_type": "code",
   "execution_count": null,
   "metadata": {
    "tags": []
   },
   "outputs": [],
   "source": [
    "import numpy as np\n",
    "\n",
    "intensities = np.array(intensity_func(phsp).real)\n",
    "intensities.round(4)"
   ]
  },
  {
   "cell_type": "code",
   "execution_count": null,
   "metadata": {
    "tags": []
   },
   "outputs": [],
   "source": [
    "def compute_sub_intensities(resonance_name: str):\n",
    "    parameter_values = {}\n",
    "    for symbol, value in model.parameter_defaults.items():\n",
    "        if resonance_name in symbol.name:\n",
    "            parameter_values[symbol] = value\n",
    "        else:\n",
    "            parameter_values[symbol] = 0\n",
    "    sub_expression = full_expression.subs(parameter_values)\n",
    "    sub_intensity = create_function(sub_expression, backend=\"jax\")\n",
    "    return np.array(sub_intensity(phsp).real)\n",
    "\n",
    "\n",
    "intensities_k = compute_sub_intensities(\"K^*\")\n",
    "intensities_delta = compute_sub_intensities(\"Delta^*\")\n",
    "intensities_lambda = compute_sub_intensities(\"Lambda^*\")"
   ]
  },
  {
   "cell_type": "code",
   "execution_count": null,
   "metadata": {
    "jupyter": {
     "source_hidden": true
    },
    "tags": [
     "hide-input"
    ]
   },
   "outputs": [],
   "source": [
    "import matplotlib.pyplot as plt\n",
    "\n",
    "fig, ax = plt.subplots(nrows=2, ncols=3, figsize=(8, 5))\n",
    "hist_kwargs = dict(\n",
    "    bins=80,\n",
    "    histtype=\"step\",\n",
    ")\n",
    "\n",
    "for x in ax.flatten():\n",
    "    x.set_yticks([])\n",
    "\n",
    "ax[0, 0].set_xlabel(\"$m^2(pK^-)$ [GeV$^2/c^4$]\")\n",
    "ax[0, 1].set_xlabel(R\"$m^2(K^-\\pi^+)$ [GeV$^2/c^4$]\")\n",
    "ax[0, 2].set_xlabel(R\"$m^2(p\\pi^+)$ [GeV$^2/c^4$]\")\n",
    "ax[1, 0].set_xlabel(R\"$\\cos\\theta(p)$\")\n",
    "ax[1, 1].set_xlabel(R\"$\\phi(p)$\")\n",
    "ax[1, 2].set_xlabel(R\"$\\chi$\")\n",
    "\n",
    "for x, xticks in {\n",
    "    ax[0, 0]: [2, 2.5, 3, 3.5, 4, 4.5],\n",
    "    ax[0, 1]: [0.4, 0.6, 0.8, 1, 1.2, 1.4, 1.6, 1.8, 2],\n",
    "    ax[0, 2]: [1, 1.5, 2, 2.5, 3],\n",
    "    ax[1, 0]: [-1, -0.5, 0, 0.5, 1],\n",
    "    ax[1, 1]: [-3, -2, -1, 0, 1, 2, 3],\n",
    "}.items():\n",
    "    x.set_xticks(xticks)\n",
    "    x.set_xticklabels(xticks)\n",
    "\n",
    "for weights, color, label in [\n",
    "    (intensities, \"red\", \"Model\"),\n",
    "    (intensities_k, \"orange\", R\"$K^*\\to\\,K^{^-}\\pi^+$\"),\n",
    "    (intensities_delta, \"brown\", R\"$\\Delta^{*^{++}} \\to\\,p\\pi^+$\"),\n",
    "    (intensities_lambda, \"purple\", R\"$\\Lambda^* \\to\\,p K^{^-}$\"),\n",
    "]:\n",
    "    kwargs = dict(weights=weights, color=color, **hist_kwargs)\n",
    "    ax[0, 0].hist(np.array(phsp[\"m_01\"] ** 2), **kwargs)\n",
    "    ax[0, 1].hist(np.array(phsp[\"m_12\"] ** 2), **kwargs)\n",
    "    ax[0, 2].hist(np.array(phsp[\"m_02\"] ** 2), **kwargs)\n",
    "    ax[1, 0].hist(np.array(np.cos(phsp[\"theta_01\"])), **kwargs)\n",
    "    ax[1, 1].hist(np.array(phsp[\"phi_01\"]), **kwargs, label=label)\n",
    "\n",
    "ax[1, 2].remove()\n",
    "handles, labels = ax[1, 1].get_legend_handles_labels()\n",
    "fig.legend(handles, labels, loc=\"lower right\")\n",
    "\n",
    "ax[0, 2].set_xlim(1, 3.4)\n",
    "ax[1, 0].set_xlim(-1, +1)\n",
    "ax[1, 1].set_xlim(-np.pi, +np.pi)\n",
    "\n",
    "fig.tight_layout()\n",
    "\n",
    "plt.show()"
   ]
  },
  {
   "cell_type": "markdown",
   "metadata": {},
   "source": [
    "Compare with [Figure 3](https://downloads.hindawi.com/journals/ahep/2020/6674595.pdf#page=10)."
   ]
  },
  {
   "cell_type": "markdown",
   "metadata": {},
   "source": [
    "## Spin alignment sum"
   ]
  },
  {
   "cell_type": "markdown",
   "metadata": {},
   "source": [
    ":::{note}\n",
    "\n",
    "Need to implement [ampform#245](https://ampform--245.org.readthedocs.build/en/245/usage/helicity/spin-alignment.html) in the {class}`~ampform.helicity.HelicityAmplitudeBuilder`.\n",
    "\n",
    ":::"
   ]
  }
 ],
 "metadata": {
  "kernelspec": {
   "display_name": "Python 3 (ipykernel)",
   "language": "python",
   "name": "python3"
  },
  "language_info": {
   "name": "python",
   "version": "3.8.12"
  }
 },
 "nbformat": 4,
 "nbformat_minor": 4
}
