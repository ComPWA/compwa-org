{
 "cells": [
  {
   "cell_type": "code",
   "execution_count": null,
   "metadata": {
    "hideCode": true,
    "hideOutput": true,
    "hidePrompt": true,
    "jupyter": {
     "source_hidden": true
    },
    "slideshow": {
     "slide_type": "skip"
    },
    "tags": [
     "remove-cell"
    ]
   },
   "outputs": [],
   "source": [
    "import os\n",
    "\n",
    "STATIC_WEB_PAGE = {\"EXECUTE_NB\", \"READTHEDOCS\"}.intersection(os.environ)"
   ]
  },
  {
   "cell_type": "markdown",
   "metadata": {},
   "source": [
    "```{autolink-concat}\n",
    "```"
   ]
  },
  {
   "cell_type": "markdown",
   "metadata": {
    "editable": true,
    "slideshow": {
     "slide_type": ""
    },
    "tags": []
   },
   "source": [
    "::::{margin}\n",
    ":::{card} Rotating the log cut in Chew-Mandelstam\n",
    "TR-997\n",
    "^^^\n",
    "In this report we attempt to rotate the cut in the Chew-Mandelstam function for $S$ waves by rotating the cut in the logarithm.\n",
    "+++\n",
    "🚧&nbsp;[compwa.github.io#204](https://github.com/ComPWA/compwa.github.io/pull/204)\n",
    ":::\n",
    "::::"
   ]
  },
  {
   "cell_type": "markdown",
   "metadata": {
    "editable": true,
    "slideshow": {
     "slide_type": ""
    },
    "tags": []
   },
   "source": [
    "# Rotating the log cut in Chew-Mandelstam"
   ]
  },
  {
   "cell_type": "code",
   "execution_count": null,
   "metadata": {
    "editable": true,
    "slideshow": {
     "slide_type": ""
    },
    "tags": [
     "remove-cell"
    ]
   },
   "outputs": [],
   "source": [
    "%pip install -q ampform==0.14.8 plotly==5.18.0 sympy==1.12"
   ]
  },
  {
   "cell_type": "code",
   "execution_count": null,
   "metadata": {
    "editable": true,
    "slideshow": {
     "slide_type": ""
    },
    "tags": [
     "hide-cell"
    ]
   },
   "outputs": [],
   "source": [
    "from __future__ import annotations\n",
    "\n",
    "import warnings\n",
    "from typing import Any\n",
    "\n",
    "import matplotlib.pyplot as plt\n",
    "import numpy as np\n",
    "import sympy as sp\n",
    "from ampform.io import aslatex\n",
    "from ampform.sympy import unevaluated\n",
    "from IPython.display import Math, display\n",
    "from ipywidgets import FloatSlider, VBox, interactive_output\n",
    "\n",
    "warnings.filterwarnings(\"ignore\")"
   ]
  },
  {
   "cell_type": "markdown",
   "metadata": {},
   "source": [
    "## Phase space factors"
   ]
  },
  {
   "cell_type": "code",
   "execution_count": null,
   "metadata": {
    "editable": true,
    "slideshow": {
     "slide_type": ""
    },
    "tags": [
     "hide-input"
    ]
   },
   "outputs": [],
   "source": [
    "@unevaluated\n",
    "class RotatedSqrt(sp.Expr):\n",
    "    z: Any\n",
    "    phi: Any\n",
    "    _latex_repr_ = R\"\\sqrt[{phi}]{{{z}}}\"\n",
    "\n",
    "    def evaluate(self) -> sp.Expr:\n",
    "        z, phi = self.args\n",
    "        return sp.exp(-phi * sp.I / 2) * sp.sqrt(z * sp.exp(phi * sp.I))\n",
    "\n",
    "\n",
    "z, phi = sp.symbols(\"z phi\")\n",
    "expr = RotatedSqrt(z, phi)\n",
    "Math(aslatex({expr: expr.doit(deep=False)}))"
   ]
  },
  {
   "cell_type": "code",
   "execution_count": null,
   "metadata": {},
   "outputs": [],
   "source": [
    "@unevaluated\n",
    "class RotatedLog(sp.Expr):\n",
    "    z: Any\n",
    "    theta: Any\n",
    "    n: Any\n",
    "    _latex_repr_ = R\"log[{theta}]{{{z}}}\"\n",
    "\n",
    "    def evaluate(self) -> sp.Expr:\n",
    "        z, phi, n = self.args\n",
    "        return sp.log(abs(z)) + sp.I * (2 * sp.pi * n * theta)\n",
    "\n",
    "\n",
    "z, theta, n = sp.symbols(\"z theta n\")\n",
    "expr_log = RotatedLog(z, theta, n)\n",
    "Math(aslatex({expr_log.doit(deep=False)}))"
   ]
  },
  {
   "cell_type": "code",
   "execution_count": null,
   "metadata": {
    "editable": true,
    "slideshow": {
     "slide_type": ""
    },
    "tags": [
     "hide-input"
    ]
   },
   "outputs": [],
   "source": [
    "@unevaluated(real=False)\n",
    "class PhaseSpaceFactor(sp.Expr):\n",
    "    s: Any\n",
    "    m1: Any\n",
    "    m2: Any\n",
    "    phi: Any\n",
    "    _latex_repr_ = R\"\\rho^\\phi_{{{m1}, {m2}}}\\left({s}\\right)\"\n",
    "\n",
    "    def evaluate(self) -> sp.Expr:\n",
    "        s, m1, m2, phi = self.args\n",
    "        return RotatedSqrt((s - ((m1 + m2) ** 2)) * (s - (m1 - m2) ** 2) / s**2, phi)\n",
    "\n",
    "\n",
    "s, m1, m2, phi = sp.symbols(\"s m1 m2 phi\")\n",
    "rho_expr = PhaseSpaceFactor(s, m1, m2, phi)\n",
    "Math(aslatex({rho_expr: rho_expr.doit(deep=False)}))"
   ]
  },
  {
   "cell_type": "markdown",
   "metadata": {
    "editable": true,
    "slideshow": {
     "slide_type": ""
    },
    "tags": []
   },
   "source": [
    "Phase space factor with Chew-Mandelstam for $S$ waves, from [PDG 2023, Section Resonances, p.15](https://pdg.lbl.gov/2023/reviews/rpp2023-rev-resonances.pdf#page=15):"
   ]
  },
  {
   "cell_type": "code",
   "execution_count": null,
   "metadata": {
    "editable": true,
    "slideshow": {
     "slide_type": ""
    },
    "tags": [
     "hide-input"
    ]
   },
   "outputs": [],
   "source": [
    "@unevaluated(real=False)\n",
    "class PhaseSpaceCM(sp.Expr):\n",
    "    s: Any\n",
    "    m1: Any\n",
    "    m2: Any\n",
    "    phi: Any\n",
    "    _latex_repr_ = R\"\\rho^\\mathrm{{CM}}_{{{m1},{m2}}}\\left({s}\\right)\"\n",
    "\n",
    "    def evaluate(self) -> sp.Expr:\n",
    "        s, m1, m2, phi = self.args\n",
    "        return -(16 * sp.pi) * sp.I * ChewMandelstam(s, m1, m2, phi)\n",
    "\n",
    "\n",
    "@unevaluated(real=False)\n",
    "class ChewMandelstam(sp.Expr):\n",
    "    s: Any\n",
    "    m1: Any\n",
    "    m2: Any\n",
    "    phi: Any\n",
    "    _latex_repr_ = R\"\\Sigma^\\phi\\left({s}\\right)\"\n",
    "\n",
    "    def evaluate(self) -> sp.Expr:\n",
    "        s, m1, m2, phi = self.args\n",
    "        q = BreakupMomentum(s, m1, m2, phi)\n",
    "        return (\n",
    "            1\n",
    "            / (16 * sp.pi**2)\n",
    "            * (\n",
    "                (2 * q / sp.sqrt(s))\n",
    "                * sp.log((m1**2 + m2**2 - s + 2 * sp.sqrt(s) * q) / (2 * m1 * m2))\n",
    "                - (m1**2 - m2**2) * (1 / s - 1 / (m1 + m2) ** 2) * sp.log(m1 / m2)\n",
    "            )\n",
    "        )\n",
    "\n",
    "\n",
    "class ChewMandelstamLog(sp.Expr):\n",
    "    s: Any\n",
    "    m1: Any\n",
    "    m2: Any\n",
    "    phi: Any\n",
    "    theta: Any\n",
    "    n: Any\n",
    "    _latex_repr_ = R\"\\Sigma^\\theta\\left({s}\\right)\"\n",
    "\n",
    "    def evaluate(self) -> sp.Expr:\n",
    "        s, m1, m2, theta, n = self.args\n",
    "        q = BreakupMomentum(s, m1, m2, phi)\n",
    "        return (\n",
    "            1\n",
    "            / (16 * sp.pi**2)\n",
    "            * (\n",
    "                (2 * q / sp.sqrt(s))\n",
    "                * RotatedLog((m1**2 + m2**2 - s + 2 * sp.sqrt(s) * q) / (2 * m1 * m2))\n",
    "                - (m1**2 - m2**2) * (1 / s - 1 / (m1 + m2) ** 2) * sp.log(m1 / m2)\n",
    "            )\n",
    "        )\n",
    "\n",
    "\n",
    "@unevaluated(real=False)\n",
    "class ChewMandelstamTest(sp.Expr):\n",
    "    s: Any\n",
    "    m1: Any\n",
    "    m2: Any\n",
    "    phi: Any\n",
    "    _latex_repr_ = R\"\\Sigma^T\\left({s}\\right)\"\n",
    "\n",
    "    def evaluate(self) -> sp.Expr:\n",
    "        s, m1, m2, phi = self.args\n",
    "        q = BreakupMomentum(s, m1, m2, phi)\n",
    "        return (\n",
    "            1\n",
    "            / (16 * sp.pi**2)\n",
    "            * (\n",
    "                (2 * q / sp.sqrt(s))\n",
    "                * sp.log((m1**2 + m2**2 - s + 2 * sp.sqrt(s) * q) / (2 * m1 * m2))\n",
    "                - (m1**2 - m2**2) * (1 / s - 1 / (m1 + m2) ** 2) * sp.log(m1 / m2)\n",
    "            )\n",
    "        )\n",
    "\n",
    "\n",
    "@unevaluated(real=False)\n",
    "class BreakupMomentum(sp.Expr):\n",
    "    s: Any\n",
    "    m_a: Any\n",
    "    m_b: Any\n",
    "    phi: Any\n",
    "    _latex_repr_ = R\"q^\\phi\\left({s}\\right)\"\n",
    "\n",
    "    def evaluate(self) -> sp.Expr:\n",
    "        s, m_a, m_b, phi = self.args\n",
    "        return RotatedSqrt(\n",
    "            (s - (m_a + m_b) ** 2) * (s - (m_a - m_b) ** 2) / (s * 4), phi\n",
    "        )\n",
    "\n",
    "\n",
    "rho_cm_expr = PhaseSpaceCM(s, m1, m2, phi)\n",
    "cm_expr = PhaseSpaceCM(s, m1, m2, phi)\n",
    "q_expr = BreakupMomentum(s, m1, m2, phi)\n",
    "Math(aslatex({e: e.doit(deep=False) for e in [rho_cm_expr, cm_expr, q_expr]}))"
   ]
  },
  {
   "cell_type": "markdown",
   "metadata": {
    "editable": true,
    "slideshow": {
     "slide_type": ""
    },
    "tags": []
   },
   "source": [
    "### Visual comparison"
   ]
  },
  {
   "cell_type": "code",
   "execution_count": null,
   "metadata": {},
   "outputs": [],
   "source": [
    "%config InlineBackend.figure_formats = ['svg']\n",
    "%matplotlib widget\n",
    "symbols = sp.Tuple(s, m1, m2, phi)\n",
    "cm_func = sp.lambdify(symbols, cm_expr.doit())\n",
    "rho_func = sp.lambdify(symbols, rho_expr.doit())\n",
    "\n",
    "fig, axes = plt.subplots(\n",
    "    figsize=(11, 6),\n",
    "    gridspec_kw=dict(),\n",
    "    ncols=2,\n",
    ")\n",
    "ax1, ax2 = axes\n",
    "ax2.set_ylabel(R\"$16\\pi i\\Sigma^\\mathrm{{CM}}\\left({s}\\right)$\")\n",
    "ax1.set_ylabel(R\"$\\rho\\left({s}\\right)$\")\n",
    "ax1.set_ylim(0, +1.6)\n",
    "ax2.set_ylim(0, +1.6)\n",
    "for ax in axes:\n",
    "    ax.set_xlabel(\"$\\mathrm{Re}\\,s$\")\n",
    "\n",
    "data = None\n",
    "x = np.linspace(0, 4, 400)\n",
    "m1_val = 0.5\n",
    "m2_val = 0.6\n",
    "args = (m1_val, m2_val)\n",
    "sliders = dict(\n",
    "    phi=FloatSlider(\n",
    "        min=-3 * np.pi,\n",
    "        max=+3 * np.pi,\n",
    "        step=np.pi / 8,\n",
    "        description=\"phi\",\n",
    "    ),\n",
    ")\n",
    "\n",
    "\n",
    "def plot(phi):\n",
    "    global data\n",
    "    ax1.set_title(R\"Phase space factor\")\n",
    "    ax2.set_title(R\"Chew-Mandelstam\")\n",
    "    cm = cm_func(x, *args, phi)\n",
    "    rho = rho_func(x, *args, phi)\n",
    "    if data is None:\n",
    "        data = {\n",
    "            \"real_rho\": ax1.plot(x, rho.real, label=\"Real part\", color=\"blue\")[0],\n",
    "            \"imag_rho\": ax1.plot(x, rho.imag, label=\"Imaginary part\", color=\"red\")[0],\n",
    "            \"real_CM\": ax2.plot(x, cm.real, label=\"Real part\", color=\"blue\")[0],\n",
    "            \"imag_CM\": ax2.plot(x, cm.imag, label=\"Imaginary part\", color=\"red\")[0],\n",
    "        }\n",
    "    else:\n",
    "        data[\"real_rho\"].set_ydata(rho.real)\n",
    "        data[\"imag_rho\"].set_ydata(rho.imag)\n",
    "        data[\"real_CM\"].set_ydata(cm.real)\n",
    "        data[\"imag_CM\"].set_ydata(cm.imag)\n",
    "    fig.canvas.draw_idle()\n",
    "\n",
    "\n",
    "ui = VBox(tuple(sliders.values()))\n",
    "output = interactive_output(plot, controls=sliders)\n",
    "ax1.legend(loc=\"upper right\")\n",
    "fig.tight_layout()\n",
    "display(ui, output)"
   ]
  },
  {
   "cell_type": "markdown",
   "metadata": {
    "editable": true,
    "slideshow": {
     "slide_type": ""
    },
    "tags": []
   },
   "source": [
    "## Define parameters values for plotting "
   ]
  },
  {
   "cell_type": "markdown",
   "metadata": {
    "editable": true,
    "slideshow": {
     "slide_type": ""
    },
    "tags": []
   },
   "source": [
    "## T matrix definition with K matrix"
   ]
  },
  {
   "cell_type": "code",
   "execution_count": null,
   "metadata": {
    "editable": true,
    "jupyter": {
     "source_hidden": true
    },
    "slideshow": {
     "slide_type": ""
    },
    "tags": [
     "hide-input"
    ]
   },
   "outputs": [],
   "source": [
    "class RhoMatrix(sp.DiagonalMatrix):\n",
    "    def _latex(self, printer):\n",
    "        return R\"\\rho\"\n",
    "\n",
    "\n",
    "n_channels = 2\n",
    "I = sp.Identity(n_channels)\n",
    "K = sp.MatrixSymbol(\"K\", n_channels, n_channels)\n",
    "rho = RhoMatrix(sp.MatrixSymbol(\"rho\", n_channels, n_channels))\n",
    "Math(aslatex({rho: rho.as_explicit()}))"
   ]
  },
  {
   "cell_type": "code",
   "execution_count": null,
   "metadata": {
    "editable": true,
    "slideshow": {
     "slide_type": ""
    },
    "tags": []
   },
   "outputs": [],
   "source": [
    "T = (I - sp.I * K * rho).inv() * K\n",
    "T"
   ]
  },
  {
   "cell_type": "code",
   "execution_count": null,
   "metadata": {
    "editable": true,
    "slideshow": {
     "slide_type": ""
    },
    "tags": [
     "full-width"
    ]
   },
   "outputs": [],
   "source": [
    "T_explicit = T.as_explicit()\n",
    "T_explicit"
   ]
  },
  {
   "cell_type": "markdown",
   "metadata": {
    "editable": true,
    "slideshow": {
     "slide_type": ""
    },
    "tags": []
   },
   "source": [
    ":::{note}\n",
    "No Blatt-Weisskopf form factors because $L=0$.\n",
    ":::"
   ]
  },
  {
   "cell_type": "code",
   "execution_count": null,
   "metadata": {
    "editable": true,
    "slideshow": {
     "slide_type": ""
    },
    "tags": [
     "hide-input"
    ]
   },
   "outputs": [],
   "source": [
    "s = sp.Symbol(\"s\")\n",
    "ma1 = sp.Symbol(\"m_{a1}\")\n",
    "mb1 = sp.Symbol(\"m_{b1}\")\n",
    "ma2 = sp.Symbol(\"m_{a2}\")\n",
    "mb2 = sp.Symbol(\"m_{b2}\")\n",
    "m0 = sp.Symbol(\"m0\")\n",
    "w0 = sp.Symbol(\"Gamma0\")\n",
    "g1 = sp.Symbol(\"gamma1\")\n",
    "g2 = sp.Symbol(\"gamma2\")\n",
    "\n",
    "k_expr_00 = (g1 * g1 * m0 * w0) / (s - m0**2)\n",
    "k_expr_10 = (g1 * g2 * m0 * w0) / (s - m0**2)\n",
    "k_expr_11 = (g2 * g2 * m0 * w0) / (s - m0**2)"
   ]
  },
  {
   "cell_type": "code",
   "execution_count": null,
   "metadata": {
    "editable": true,
    "jupyter": {
     "source_hidden": true
    },
    "slideshow": {
     "slide_type": ""
    },
    "tags": []
   },
   "outputs": [],
   "source": [
    "rho_expressions = {\n",
    "    K[0, 0]: k_expr_00,\n",
    "    K[1, 1]: k_expr_11,\n",
    "    K[0, 1]: k_expr_10,\n",
    "    K[1, 0]: k_expr_10,\n",
    "    rho[0, 0]: PhaseSpaceFactor(s, ma1, mb1, phi),\n",
    "    rho[1, 1]: PhaseSpaceFactor(s, ma2, mb2, phi),\n",
    "}\n",
    "cm_expressions = {\n",
    "    **rho_expressions,\n",
    "    rho[0, 0]: PhaseSpaceCM(s, ma1, mb1, phi),\n",
    "    rho[1, 1]: PhaseSpaceCM(s, ma2, mb2, phi),\n",
    "}\n",
    "Math(aslatex(cm_expressions))"
   ]
  },
  {
   "cell_type": "code",
   "execution_count": null,
   "metadata": {
    "editable": true,
    "jupyter": {
     "source_hidden": true
    },
    "slideshow": {
     "slide_type": ""
    },
    "tags": []
   },
   "outputs": [],
   "source": [
    "cm_conj1_expressions = {\n",
    "    **cm_expressions,\n",
    "    rho[0, 0]: sp.I * 16 * sp.pi * ChewMandelstam(s, ma1, mb1, phi).conjugate(),\n",
    "    rho[1, 1]: sp.I * 16 * sp.pi * ChewMandelstam(s, ma2, mb2, phi),\n",
    "}\n",
    "cm_conj2_expressions = {\n",
    "    **cm_expressions,\n",
    "    rho[0, 0]: sp.I * 16 * sp.pi * ChewMandelstam(s, ma1, mb1, phi),\n",
    "    rho[1, 1]: sp.I * 16 * sp.pi * ChewMandelstam(s, ma2, mb2, phi).conjugate(),\n",
    "}\n",
    "cm_conj_conj_expressions = {\n",
    "    **cm_expressions,\n",
    "    rho[0, 0]: sp.I * 16 * sp.pi * ChewMandelstam(s, ma1, mb1, phi).conjugate(),\n",
    "    rho[1, 1]: sp.I * 16 * sp.pi * ChewMandelstam(s, ma2, mb2, phi).conjugate(),\n",
    "}"
   ]
  },
  {
   "cell_type": "code",
   "execution_count": null,
   "metadata": {
    "editable": true,
    "slideshow": {
     "slide_type": ""
    },
    "tags": []
   },
   "outputs": [],
   "source": [
    "T_cm_expr = T_explicit.xreplace(cm_expressions)\n",
    "T_cm_conj1_expr = T_explicit.xreplace(cm_conj1_expressions)\n",
    "T_cm_conj2_expr = T_explicit.xreplace(cm_conj2_expressions)\n",
    "T_cm_conj_conj_expr = T_explicit.xreplace(cm_conj_conj_expressions)"
   ]
  },
  {
   "cell_type": "code",
   "execution_count": null,
   "metadata": {
    "editable": true,
    "slideshow": {
     "slide_type": ""
    },
    "tags": []
   },
   "outputs": [],
   "source": [
    "T_cm_expr[0, 0].simplify(doit=False)"
   ]
  },
  {
   "cell_type": "markdown",
   "metadata": {
    "editable": true,
    "slideshow": {
     "slide_type": ""
    },
    "tags": []
   },
   "source": [
    "## T Matrix"
   ]
  },
  {
   "cell_type": "code",
   "execution_count": null,
   "metadata": {
    "editable": true,
    "slideshow": {
     "slide_type": ""
    },
    "tags": []
   },
   "outputs": [],
   "source": [
    "symbols = sp.Tuple(s, ma1, mb1, ma2, mb2, m0, w0, g1, g2, phi)\n",
    "T_cm_func_00 = sp.lambdify(symbols, T_cm_expr[0, 0].doit())\n",
    "T_cm_conj1_func_00 = sp.lambdify(symbols, T_cm_conj1_expr[0, 0].doit())\n",
    "T_cm_conj2_func_00 = sp.lambdify(symbols, T_cm_conj2_expr[0, 0].doit())\n",
    "T_cm_conj_conj_func_00 = sp.lambdify(symbols, T_cm_conj_conj_expr[0, 0].doit())"
   ]
  },
  {
   "cell_type": "code",
   "execution_count": null,
   "metadata": {
    "editable": true,
    "slideshow": {
     "slide_type": ""
    },
    "tags": []
   },
   "outputs": [],
   "source": [
    "values = {\n",
    "    ma1: 0.08,\n",
    "    mb1: 0.12,\n",
    "    ma2: 0.25,\n",
    "    mb2: 0.35,\n",
    "    m0: 1.0,\n",
    "    w0: 0.5,\n",
    "    g1: 1,\n",
    "    g2: 1,\n",
    "    phi: 0,\n",
    "}\n",
    "args = eval(str(symbols[1:].xreplace(values)))"
   ]
  },
  {
   "cell_type": "code",
   "execution_count": null,
   "metadata": {
    "editable": true,
    "slideshow": {
     "slide_type": ""
    },
    "tags": []
   },
   "outputs": [],
   "source": [
    "epsilon = 1e-5\n",
    "x = np.linspace(0, 4.0, num=400)\n",
    "y = np.linspace(epsilon, 1.0, num=400)\n",
    "X, Y = np.meshgrid(x, y)\n",
    "Zn = X - Y * 1j\n",
    "Zp = X + Y * 1j\n",
    "\n",
    "Tp_cm_00 = T_cm_func_00(Zp, *args)\n",
    "Tn_cm_00 = T_cm_func_00(Zn, *args)\n",
    "\n",
    "Tp_cm_conj1_00 = T_cm_conj1_func_00(Zp, *args)\n",
    "Tn_cm_conj1_00 = T_cm_conj1_func_00(Zn, *args)\n",
    "\n",
    "Tp_cm_conj2_00 = T_cm_conj2_func_00(Zp, *args)\n",
    "Tn_cm_conj2_00 = T_cm_conj2_func_00(Zn, *args)\n",
    "\n",
    "Tp_cm_conj_conj_00 = T_cm_conj_conj_func_00(Zp, *args)\n",
    "Tn_cm_conj_conj_00 = T_cm_conj_conj_func_00(Zn, *args)"
   ]
  },
  {
   "cell_type": "code",
   "execution_count": null,
   "metadata": {
    "editable": true,
    "jupyter": {
     "source_hidden": true
    },
    "slideshow": {
     "slide_type": ""
    },
    "tags": [
     "hide-input"
    ]
   },
   "outputs": [],
   "source": [
    "%config InlineBackend.figure_formats = ['svg']\n",
    "thr1 = ma1 + mb1\n",
    "thr2 = ma2 + mb2\n",
    "fig, ax = plt.subplots()\n",
    "ax.set_xlabel(R\"$m=\\sqrt{s}$\")\n",
    "ax.set_ylabel(R\"$\\mathrm{Im}\\,T$\")\n",
    "ax.plot(\n",
    "    np.sqrt(x),\n",
    "    Tp_cm_00[0].imag,\n",
    "    c=\"red\",\n",
    "    label=\"$T_{00}(s+0i)$\",\n",
    ")\n",
    "ax.plot(\n",
    "    np.sqrt(x),\n",
    "    Tp_cm_conj1_00[0].imag,\n",
    "    c=\"orange\",\n",
    "    label=\"$T_{00}(s+0i)$ conj 1\",\n",
    ")\n",
    "ax.plot(\n",
    "    np.sqrt(x),\n",
    "    Tn_cm_conj2_00[0].imag,\n",
    "    c=\"green\",\n",
    "    ls=\"dotted\",\n",
    "    label=\"$T_{00}(s-0i)$ conj 2\",\n",
    ")\n",
    "ax.plot(\n",
    "    np.sqrt(x),\n",
    "    Tp_cm_conj_conj_00[0].imag,\n",
    "    c=\"blue\",\n",
    "    label=\"$T_{00}(s+0i)$ conj 1,2\",\n",
    ")\n",
    "ax.axvline(m0.subs(values), ls=\"dashed\", c=\"black\", label=f\"${sp.latex(m0)}$\")\n",
    "ax.axvline(thr1.subs(values), ls=\"dotted\", c=\"C1\", label=f\"${sp.latex(thr1)}$\")\n",
    "ax.axvline(thr2.subs(values), ls=\"dotted\", c=\"C2\", label=f\"${sp.latex(thr2)}$\")\n",
    "ax.set_ylim(-0.1, +1.5)\n",
    "ax.legend()\n",
    "fig.tight_layout()\n",
    "plt.show()"
   ]
  },
  {
   "cell_type": "code",
   "execution_count": null,
   "metadata": {
    "editable": true,
    "jupyter": {
     "source_hidden": true
    },
    "slideshow": {
     "slide_type": ""
    },
    "tags": [
     "hide-input",
     "full-width"
    ]
   },
   "outputs": [],
   "source": [
    "%config InlineBackend.figure_formats = ['png']\n",
    "fig, axes = plt.subplots(ncols=2, nrows=2, figsize=(12, 10), sharex=True, sharey=True)\n",
    "fig.suptitle(\"$\\mathrm{Im}\\,T$\")\n",
    "for ax in axes[1, :]:\n",
    "    ax.set_xlabel(R\"$\\mathrm{Re}\\,s$\")\n",
    "for ax in axes[:, 0]:\n",
    "    ax.set_ylabel(R\"$\\mathrm{Re}\\,S$\")\n",
    "T_max = 1.5\n",
    "kwargs = dict(\n",
    "    cmap=plt.cm.coolwarm,\n",
    "    vmin=-T_max,\n",
    "    vmax=+T_max,\n",
    ")\n",
    "\n",
    "rho1 = PhaseSpaceCM(s, ma1, mb1, phi)\n",
    "rho2 = PhaseSpaceCM(s, ma2, mb2, phi)\n",
    "axes[0, 0].set_title(f\"${sp.latex(rho1)}, {sp.latex(rho2)}$\")\n",
    "axes[0, 0].pcolormesh(X, -Y, Tn_cm_00.imag, **kwargs)\n",
    "axes[0, 0].pcolormesh(X, +Y, Tp_cm_00.imag, **kwargs)\n",
    "axes[0, 1].set_title(f\"${sp.latex(rho1)}, {sp.latex(rho2.conjugate())}$\")\n",
    "axes[0, 1].pcolormesh(X, -Y, Tn_cm_conj1_00.imag, **kwargs)\n",
    "axes[0, 1].pcolormesh(X, +Y, Tp_cm_conj1_00.imag, **kwargs)\n",
    "axes[1, 0].set_title(f\"${sp.latex(rho1.conjugate())}, {sp.latex(rho2)}$\")\n",
    "axes[1, 0].pcolormesh(X, -Y, Tn_cm_conj2_00.imag, **kwargs)\n",
    "axes[1, 0].pcolormesh(X, +Y, Tp_cm_conj2_00.imag, **kwargs)\n",
    "axes[1, 1].set_title(f\"${sp.latex(rho1.conjugate())}, {sp.latex(rho2.conjugate())}$\")\n",
    "axes[1, 1].pcolormesh(X, -Y, Tn_cm_conj_conj_00.imag, **kwargs)\n",
    "axes[1, 1].pcolormesh(X, +Y, Tp_cm_conj_conj_00.imag, **kwargs)\n",
    "\n",
    "for ax in axes.flatten():\n",
    "    ax.axvline(m0.subs(values) ** 2, ls=\"dashed\", c=\"black\")\n",
    "    ax.axvline(thr1.subs(values) ** 2, ls=\"dotted\", c=\"C1\")\n",
    "    ax.axvline(thr2.subs(values) ** 2, ls=\"dotted\", c=\"C2\")\n",
    "\n",
    "fig.tight_layout()\n",
    "plt.show()"
   ]
  },
  {
   "cell_type": "code",
   "execution_count": null,
   "metadata": {},
   "outputs": [],
   "source": []
  },
  {
   "cell_type": "code",
   "execution_count": null,
   "metadata": {},
   "outputs": [],
   "source": []
  },
  {
   "cell_type": "code",
   "execution_count": null,
   "metadata": {},
   "outputs": [],
   "source": []
  }
 ],
 "metadata": {
  "colab": {
   "toc_visible": true
  },
  "kernelspec": {
   "display_name": "Python 3 (ipykernel)",
   "language": "python",
   "name": "python3"
  },
  "language_info": {
   "codemirror_mode": {
    "name": "ipython",
    "version": 3
   },
   "file_extension": ".py",
   "mimetype": "text/x-python",
   "name": "python",
   "nbconvert_exporter": "python",
   "pygments_lexer": "ipython3",
   "version": "3.10.13"
  }
 },
 "nbformat": 4,
 "nbformat_minor": 4
}
