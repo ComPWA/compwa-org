{
 "cells": [
  {
   "cell_type": "code",
   "execution_count": null,
   "metadata": {
    "hideCode": true,
    "hideOutput": true,
    "hidePrompt": true,
    "jupyter": {
     "source_hidden": true
    },
    "slideshow": {
     "slide_type": "skip"
    },
    "tags": [
     "remove-cell"
    ]
   },
   "outputs": [],
   "source": [
    "%config InlineBackend.figure_formats = ['svg']\n",
    "import os\n",
    "\n",
    "STATIC_WEB_PAGE = {\"EXECUTE_NB\", \"READTHEDOCS\"}.intersection(os.environ)"
   ]
  },
  {
   "cell_type": "markdown",
   "metadata": {},
   "source": [
    "```{autolink-concat}\n",
    "```"
   ]
  },
  {
   "cell_type": "markdown",
   "metadata": {},
   "source": [
    "<!-- cspell:ignore Combobox mmikhasenko msigma nanmax nanmean nanstd nansum Remco -->\n",
    "\n",
    "````{margin}\n",
    "```{spec} Polarimeter vector field\n",
    ":id: TR-021\n",
    ":status: WIP\n",
    ":tags: physics\n",
    "\n",
    "**Authors:**\n",
    "Mikhail&nbsp;Mikhasenko&nbsp;[@mmikhasenko](https://github.com/mmikhasenko),\n",
    "Remco&nbsp;de&nbsp;Boer&nbsp;[@redeboer](https://github.com/redeboer)\n",
    "\n",
    "This report formulates the polarimeter vector field for in $\\Lambda_c \\to p\\pi K$ with [SymPy](https://docs.sympy.org) and visualizes it as an interactive widget with [TensorWaves](https://tensorwaves.rtfd.io) and [ipywidgets](https://ipywidgets.readthedocs.io).\n",
    "```\n",
    "````\n",
    "\n",
    "# Polarimeter vector field"
   ]
  },
  {
   "cell_type": "code",
   "execution_count": null,
   "metadata": {
    "jupyter": {
     "source_hidden": true
    },
    "tags": [
     "remove-cell"
    ]
   },
   "outputs": [],
   "source": [
    "%pip install -q ampform==0.14.4 qrules==0.9.7 sympy==1.11.1 tensorwaves[jax]==0.4.8"
   ]
  },
  {
   "cell_type": "code",
   "execution_count": null,
   "metadata": {
    "jupyter": {
     "source_hidden": true
    },
    "mystnb": {
     "code_prompt_show": "Import Python libraries"
    },
    "tags": [
     "hide-cell"
    ]
   },
   "outputs": [],
   "source": [
    "from __future__ import annotations\n",
    "\n",
    "import itertools\n",
    "import logging\n",
    "\n",
    "import jax.numpy as jnp\n",
    "import matplotlib.pyplot as plt\n",
    "import numpy as np\n",
    "import qrules\n",
    "import sympy as sp\n",
    "from ampform.sympy import (\n",
    "    PoolSum,\n",
    "    UnevaluatedExpression,\n",
    "    create_expression,\n",
    "    implement_doit_method,\n",
    "    make_commutative,\n",
    "    perform_cached_doit,\n",
    ")\n",
    "from attrs import frozen\n",
    "from IPython.display import HTML, Image, Math, display\n",
    "from ipywidgets import (\n",
    "    Button,\n",
    "    Combobox,\n",
    "    HBox,\n",
    "    HTMLMath,\n",
    "    Tab,\n",
    "    VBox,\n",
    "    interactive_output,\n",
    ")\n",
    "from matplotlib.colors import LogNorm\n",
    "from qrules.particle import Particle\n",
    "from symplot import create_slider\n",
    "from sympy.core.symbol import Str\n",
    "from sympy.physics.matrices import msigma\n",
    "from sympy.physics.quantum.spin import Rotation as Wigner\n",
    "from tensorwaves.data.transform import SympyDataTransformer\n",
    "from tensorwaves.function.sympy import create_function, create_parametrized_function\n",
    "from tensorwaves.interface import ParametrizedFunction\n",
    "\n",
    "LOGGER = logging.getLogger()\n",
    "LOGGER.setLevel(logging.ERROR)\n",
    "\n",
    "PDG = qrules.load_pdg()\n",
    "\n",
    "\n",
    "def display_definitions(definitions: dict[sp.Symbol, sp.Expr]) -> None:\n",
    "    latex = R\"\\begin{array}{rcl}\" + \"\\n\"\n",
    "    for symbol, expr in definitions.items():\n",
    "        symbol = sp.sympify(symbol)\n",
    "        expr = sp.sympify(expr)\n",
    "        lhs = sp.latex(symbol)\n",
    "        rhs = sp.latex(expr)\n",
    "        latex += Rf\"  {lhs} & = & {rhs} \\\\\" + \"\\n\"\n",
    "    latex += R\"\\end{array}\"\n",
    "    display(Math(latex))\n",
    "\n",
    "\n",
    "def display_doit(\n",
    "    expr: UnevaluatedExpression, deep=False, terms_per_line: int = 10\n",
    ") -> None:\n",
    "    latex = sp.multiline_latex(\n",
    "        lhs=expr,\n",
    "        rhs=expr.doit(deep=deep),\n",
    "        terms_per_line=terms_per_line,\n",
    "        environment=\"eqnarray\",\n",
    "    )\n",
    "    display(Math(latex))\n",
    "\n",
    "\n",
    "# hack for moving Indexed indices below superscript of the base\n",
    "def _print_Indexed_latex(self, printer, *args):\n",
    "    base = printer._print(self.base)\n",
    "    indices = \", \".join(map(printer._print, self.indices))\n",
    "    return f\"{base}_{{{indices}}}\"\n",
    "\n",
    "\n",
    "sp.Indexed._latex = _print_Indexed_latex"
   ]
  },
  {
   "cell_type": "markdown",
   "metadata": {
    "tags": []
   },
   "source": [
    "## Amplitude model\n",
    "\n",
    "The helicity amplitude for the $\\Lambda_c \\to p K \\pi$ decay reads as a sum of three partial wave series, incorporating $\\Lambda^{**}$ resonances, $\\Delta^{**}$ resonances, and $K^{**}$ resonances. The particles are ordered as $\\Lambda_c(\\mathbf{0}) \\to p(\\mathbf{1}) \\pi(\\mathbf{2}) K(\\mathbf{3})$.\n",
    "\n",
    "$$\n",
    "\\begin{align}\n",
    "  \\mathcal{A}_{\\nu,\\lambda}(m_{K\\pi},m_{pK}) &=\n",
    "    \\sum_{\\nu',\\lambda'} \\big[\\\\\n",
    "      &\\qquad d_{\\nu,\\nu'}^{1/2}(\\zeta_{1(1)}^0) \\mathcal{A}_{\\nu',\\lambda'}^{K} d_{\\lambda',\\lambda}^{1/2}(\\zeta_{1(1)}^1)\n",
    "      &\\mathbf{subsystem\\,1\\;}(\\to 23)\\\\\n",
    "    &\\qquad + d_{\\nu,\\nu'}^{1/2}(\\zeta_{2(1)}^0) \\mathcal{A}_{\\nu',\\lambda'}^{\\Lambda} d_{\\lambda',\\lambda}^{1/2}(\\zeta_{2(1)}^1)\n",
    "      &\\mathbf{subsystem\\,2\\;}(\\to 31)\\\\\n",
    "    &\\qquad + d_{\\nu,\\nu'}^{1/2}(\\zeta_{3(1)}^0) \\mathcal{A}_{\\nu',\\lambda'}^{\\Delta} d_{\\lambda',\\lambda}^{1/2}(\\zeta_{3(1)}^1)\\big]\\,.\n",
    "      &\\mathbf{subsystem\\,3\\;}(\\to 12)\\\\\n",
    "\\end{align}\n",
    "$$ (aligned-amplitude)\n",
    "\n",
    "where $\\zeta^{i}_{j(k)}$ is the Wigner rotation for particle $i,k$ and chain $j$. The number in brackets indicates the overall definition of the helicity states $|1/2,\\nu\\rangle$ and $|1/2,\\lambda\\rangle$ for $\\Lambda_c$ and proton, respectively.[^subsystem0]\n",
    "\n",
    "[^subsystem0]: In this notebook, '**subsystem 0**' is considered to be the total decay chain, with interference taken into account.\n",
    "\n",
    "We use the particle-2 convention for the helicity couplings, which leads to the phase factor in the transitions $\\Lambda_c\\to K^{**}p$, and $\\Lambda\\to K p$:\n",
    "\n",
    "$$\n",
    "\\begin{align}\n",
    "    \\mathcal{A}^{K}_{\\nu,\\lambda} &= \\sum_{j,\\tau} \\delta_{\\nu,\\tau - \\lambda}\\mathcal{H}^{\\Lambda_c \\to K^{**} p}_{\\tau,\\lambda} (-)^{1/2 - \\lambda} \\,d^{j}_{\\lambda,0} (\\theta_{23}) \\, \\mathcal{H}^{K^{**} \\to \\pi K}_{0,0}\\\\\n",
    "    %\n",
    "    \\mathcal{A}^{\\Lambda}_{\\nu,\\lambda} &= \\sum_{j,\\tau}\n",
    "    \\delta_{\\nu,\\tau}\n",
    "    \\mathcal{H}^{\\Lambda_c \\to \\Lambda^{**} \\pi}_{\\tau,0} d^{j}_{\\tau,-\\lambda} (\\theta_{31}) \\mathcal{H}^{\\Lambda^{**} \\to K p}_{0,\\lambda}  (-)^{1/2-\\lambda} \\\\\n",
    "    %\n",
    "    \\mathcal{A}^{\\Delta}_{\\nu,\\lambda} &= \\sum_{j,\\tau}\n",
    "    \\delta_{\\nu,\\tau}\n",
    "    \\mathcal{H}^{\\Lambda_c \\to \\Delta^{**} K}_{\\tau,0} d^{j}_{\\tau,\\lambda}(\\theta_{12})  \\mathcal{H}^{\\Delta^{**} \\to p\\pi}_{\\lambda,0} \\,.\n",
    "\\end{align}\n",
    "$$\n",
    "\n",
    "The helicity couplings in the particle-2 convention obey simple properties with respect to the parity transformation:\n",
    "\n",
    "$$\n",
    "\\begin{align}\n",
    "    \\mathcal{H}^{A\\to BC}_{-\\lambda,-\\lambda'} = P_A P_B P_C (-)^{j_A-j_B-j_C} \\mathcal{H}^{A\\to BC}_{\\lambda,\\lambda'}\n",
    "\\end{align}\n",
    "$$\n",
    "\n",
    "It reduced amount of the couplings in the strong decay of isobars. Moreover the magnitude of the couplings cannot be determined separately, therefore, it is set to 1:\n",
    "\n",
    "$$\n",
    "\\begin{align}\n",
    "  \\mathcal{H}^{\\Lambda^{**} \\to K p}_{0,1/2} &= 1\\,, &\n",
    "  \\mathcal{H}^{\\Delta^{**} \\to p\\pi}_{1/2,0} &= 1\\,,&\n",
    "  \\mathcal{H}^{K^{**} \\to \\pi K}_{0,0} &= 1, \\\\\n",
    "  \\mathcal{H}^{\\Lambda^{**} \\to K p}_{0,-1/2} &= -P_\\Lambda (-)^{j-1/2}\\,, &\n",
    "  \\mathcal{H}^{\\Delta^{**} \\to p\\pi}_{-1/2,0} &= -P_\\Delta (-)^{j-1/2}\\,, &&\n",
    "\\end{align}\n",
    "$$\n",
    "\n",
    "The helicity couplings for the $\\Lambda_c^+$ decay are fit parameters. There are four of them for the $K^{**}$ chain, and two for both the $\\Delta^{**}$ and $\\Lambda^{**}$ chains.\n",
    "\n",
    "### Resonances and $LS$-scheme"
   ]
  },
  {
   "cell_type": "code",
   "execution_count": null,
   "metadata": {
    "jupyter": {
     "source_hidden": true
    },
    "mystnb": {
     "code_prompt_show": "Define decay product and sub-system IDs"
    },
    "tags": [
     "hide-input"
    ]
   },
   "outputs": [],
   "source": [
    "Λc = PDG[\"Lambda(c)+\"]\n",
    "p = PDG[\"p\"]\n",
    "K = PDG[\"K-\"]\n",
    "π = PDG[\"pi+\"]\n",
    "decay_products = {\n",
    "    1: (π, K),\n",
    "    2: (p, K),\n",
    "    3: (p, π),\n",
    "}\n",
    "siblings = {\n",
    "    1: p,\n",
    "    2: π,\n",
    "    3: K,\n",
    "}\n",
    "chain_ids = {\n",
    "    1: \"K\",\n",
    "    2: \"L\",\n",
    "    3: \"D\",\n",
    "}\n",
    "chain_labels = {\n",
    "    1: \"K^{**}\",\n",
    "    2: R\"\\Lambda^{**}\",\n",
    "    3: R\"\\Delta^{**}\",\n",
    "}"
   ]
  },
  {
   "cell_type": "markdown",
   "metadata": {},
   "source": [
    "Resonance choices and their $LS$-couplings are defined as follows:"
   ]
  },
  {
   "cell_type": "code",
   "execution_count": null,
   "metadata": {
    "mystnb": {
     "code_prompt_show": "Select resonances"
    },
    "tags": []
   },
   "outputs": [],
   "source": [
    "resonance_names = {\n",
    "    1: [\"K*(892)0\"],\n",
    "    2: [\"Lambda(1520)\", \"Lambda(1670)\"],\n",
    "    3: [\"Delta(1232)++\"],\n",
    "}"
   ]
  },
  {
   "cell_type": "code",
   "execution_count": null,
   "metadata": {
    "jupyter": {
     "source_hidden": true
    },
    "mystnb": {
     "code_prompt_show": "Compute LS-couplings"
    },
    "tags": [
     "hide-input"
    ]
   },
   "outputs": [],
   "source": [
    "@frozen\n",
    "class Resonance:\n",
    "    particle: Particle\n",
    "    l_R: int\n",
    "    l_Λc: int\n",
    "\n",
    "    @staticmethod\n",
    "    def generate_ls(particle: Particle, chain_id: int) -> Resonance:\n",
    "        LS_prod = generate_ls(Λc, particle, siblings[chain_id], strong=False)\n",
    "        LS_prod = [L for L, S in LS_prod]\n",
    "        LS_dec = generate_ls(particle, *decay_products[chain_id])\n",
    "        LS_dec = [L for L, S in LS_dec]\n",
    "        return Resonance(particle, l_R=min(LS_dec), l_Λc=min(LS_prod))\n",
    "\n",
    "\n",
    "def generate_ls(\n",
    "    parent: Particle,\n",
    "    child1: Particle,\n",
    "    child2: Particle,\n",
    "    strong: bool = True,\n",
    "    max_L: int = 3,\n",
    "):\n",
    "    s1 = child1.spin\n",
    "    s2 = child2.spin\n",
    "    s_values = arange(abs(s1 - s2), s1 + s2)\n",
    "    LS_values = set()\n",
    "    for S in s_values:\n",
    "        for L in arange(0, max_L):\n",
    "            if not abs(L - S) <= parent.spin <= L + S:\n",
    "                continue\n",
    "            η0, η1, η2 = [\n",
    "                int(parent.parity),\n",
    "                int(child1.parity),\n",
    "                int(child2.parity),\n",
    "            ]\n",
    "            if strong and η0 != η1 * η2 * (-1) ** L:\n",
    "                continue\n",
    "            LS_values.add((L, S))\n",
    "    return sorted(LS_values)\n",
    "\n",
    "\n",
    "def arange(x1, x2):\n",
    "    spin_range = np.arange(float(x1), +float(x2) + 0.5)\n",
    "    return list(map(sp.Rational, spin_range))\n",
    "\n",
    "\n",
    "resonance_particles = {\n",
    "    chain_id: [PDG[name] for name in names]\n",
    "    for chain_id, names in resonance_names.items()\n",
    "}\n",
    "ls_resonances = {\n",
    "    chain_id: [Resonance.generate_ls(particle, chain_id) for particle in particles]\n",
    "    for chain_id, particles in resonance_particles.items()\n",
    "}\n",
    "\n",
    "\n",
    "def jp(particle: Particle):\n",
    "    p = \"+\" if particle.parity > 0 else \"-\"\n",
    "    j = sp.Rational(particle.spin)\n",
    "    return Rf\"\\({j}^{p}\\)\"\n",
    "\n",
    "\n",
    "def create_html_table_row(*items, typ=\"td\"):\n",
    "    items = map(lambda i: f\"<{typ}>{i}</{typ}>\", items)\n",
    "    return \"<tr>\" + \"\".join(items) + \"</tr>\\n\"\n",
    "\n",
    "\n",
    "column_names = [\n",
    "    \"resonance\",\n",
    "    R\"\\(j^P\\)\",\n",
    "    R\"\\(m\\) (MeV)\",\n",
    "    R\"\\(\\Gamma_0\\) (MeV)\",\n",
    "    R\"\\(l_R\\)\",\n",
    "    R\"\\(l_{\\Lambda_c}^\\mathrm{min}\\)\",\n",
    "]\n",
    "src = \"<table>\\n\"\n",
    "src += create_html_table_row(*column_names, typ=\"th\")\n",
    "for chain_id, resonance_list in ls_resonances.items():\n",
    "    child1, child2 = decay_products[chain_id]\n",
    "    for resonance in resonance_list:\n",
    "        src += create_html_table_row(\n",
    "            Rf\"\\({resonance.particle.latex} \\to\"\n",
    "            Rf\" {child1.latex} {child2.latex}\\)\",\n",
    "            jp(resonance.particle),\n",
    "            int(1e3 * resonance.particle.mass),\n",
    "            int(1e3 * resonance.particle.width),\n",
    "            resonance.l_R,\n",
    "            resonance.l_Λc,\n",
    "        )\n",
    "src += \"</table>\\n\"\n",
    "HTML(src)"
   ]
  },
  {
   "cell_type": "markdown",
   "metadata": {},
   "source": [
    "### Aligned amplitude"
   ]
  },
  {
   "cell_type": "code",
   "execution_count": null,
   "metadata": {
    "jupyter": {
     "source_hidden": true
    },
    "tags": [
     "full-width",
     "hide-input",
     "scroll-input"
    ]
   },
   "outputs": [],
   "source": [
    "A_K = sp.IndexedBase(R\"A^K\")\n",
    "A_Λ = sp.IndexedBase(R\"A^{\\Lambda}\")\n",
    "A_Δ = sp.IndexedBase(R\"A^{\\Delta}\")\n",
    "\n",
    "half = sp.S.Half\n",
    "\n",
    "ζ_0_11 = sp.Symbol(R\"\\zeta^0_{1(1)}\", real=True)\n",
    "ζ_0_21 = sp.Symbol(R\"\\zeta^0_{2(1)}\", real=True)\n",
    "ζ_0_31 = sp.Symbol(R\"\\zeta^0_{3(1)}\", real=True)\n",
    "ζ_1_11 = sp.Symbol(R\"\\zeta^1_{1(1)}\", real=True)\n",
    "ζ_1_21 = sp.Symbol(R\"\\zeta^1_{2(1)}\", real=True)\n",
    "ζ_1_31 = sp.Symbol(R\"\\zeta^1_{3(1)}\", real=True)\n",
    "\n",
    "\n",
    "def formulate_aligned_amplitude(λ_Λc, λ_p):\n",
    "    _ν = sp.Symbol(R\"\\nu^{\\prime}\", rational=True)\n",
    "    _λ = sp.Symbol(R\"\\lambda^{\\prime}\", rational=True)\n",
    "    return PoolSum(\n",
    "        A_K[_ν, _λ]\n",
    "        * Wigner.d(half, λ_Λc, _ν, ζ_0_11)\n",
    "        * Wigner.d(half, _λ, λ_p, ζ_1_11)\n",
    "        + A_Λ[_ν, _λ]\n",
    "        * Wigner.d(half, λ_Λc, _ν, ζ_0_21)\n",
    "        * Wigner.d(half, _λ, λ_p, ζ_1_21)\n",
    "        + A_Δ[_ν, _λ]\n",
    "        * Wigner.d(half, λ_Λc, _ν, ζ_0_31)\n",
    "        * Wigner.d(half, _λ, λ_p, ζ_1_31),\n",
    "        (_λ, [-half, +half]),\n",
    "        (_ν, [-half, +half]),\n",
    "    )\n",
    "\n",
    "\n",
    "ν = sp.Symbol(\"nu\")\n",
    "λ = sp.Symbol(\"lambda\")\n",
    "formulate_aligned_amplitude(λ_Λc=ν, λ_p=λ)"
   ]
  },
  {
   "cell_type": "markdown",
   "metadata": {},
   "source": [
    "### Dynamics\n",
    "\n",
    "The lineshape function is factored out of the $\\Lambda_c$ helicity coupling:\n",
    "\n",
    "$$\n",
    "\\begin{align}\n",
    "    \\mathcal{H}^{\\Lambda_c \\to R x}_{\\lambda,\\lambda'} = \\hat{\\mathcal{H}}^{\\Lambda_c \\to R x}_{\\lambda,\\lambda'}\\,\\mathcal{R}(s)\\,.\n",
    "\\end{align}\n",
    "$$\n",
    "\n",
    "The relativistic Breit-Wigner parametrization reads:\n",
    "\n",
    "$$\n",
    "\\begin{align}\n",
    "  \\mathcal{R}(s) =\n",
    "    \\left(\\frac{q}{q_0}\\right)^{l_{\\Lambda_c}^\\text{min}} \\frac{F_{l_{\\Lambda_c}^\\text{min}}(q R)}{F_{l_{\\Lambda_c}^\\text{min}}(q_0 R)}\\,\n",
    "  \\frac{1}{m^2-s-im\\Gamma(s)}\n",
    "    \\left(\\frac{p}{p_0}\\right)^{l_R} \\frac{F_{l_R}(pR)}{F_{l_R}(p_0R)},\n",
    "\\end{align}\n",
    "$$\n",
    "\n",
    "with energy-dependent width given by\n",
    "\n",
    "$$\n",
    "\\begin{align}\n",
    "    \\Gamma(s) = \\Gamma_0 \\left(\\frac{p}{p_0}\\right)^{2l_R+1} \\frac{m}{\\sqrt{s}} \\, \\frac{F_{l_R}^2(pR)}{F_{l_R}^2(p_0R)}\\,,\n",
    "\\end{align}\n",
    "$$\n",
    "\n",
    "The form-factor $F$ is the Blatt-Weisskopf factor with the length factor $R=5\\,$GeV$^{-1}$:\n",
    "\n",
    "$$\n",
    "\\begin{align}\n",
    "  F_0(pR) &= 1\\,,&\n",
    "  F_1(pR) &= \\sqrt{\\frac{1}{1+(pR)^2}}\\,,&\n",
    "  F_2(pR) &= \\sqrt{\\frac{1}{9+3(pR)^2+(pR)^4}}\\,.\n",
    "\\end{align}\n",
    "$$\n",
    "\n",
    "The break-up momenta is calculated for every decay chain separately. Using the notations $0->R(\\to ij) k$, one writes:\n",
    "\n",
    "$$\n",
    "\\begin{align}\n",
    "    p &= \\lambda^{1/2}(s,m_i^2,m_j^2)/(2\\sqrt{s})\\,, & \n",
    "    q &= \\lambda^{1/2}(s,m_0^2,m_k^2)/(2m_0)\\,.\n",
    "\\end{align}\n",
    "$$\n",
    "\n",
    "The momenta with subindex zero are computed for nominal mass of the resonance, $s=m^2$. The three-argument Källén function reads:\n",
    "\n",
    "$$\n",
    "\\begin{align}\n",
    "  \\lambda(x,y,z) = x^2+y^2+z^2 - 2xy-2yz-2zx\\,.\n",
    "\\end{align}\n",
    "$$ (Kallen)\n",
    "\n",
    "```{rubric} Formulation with SymPy\n",
    "```"
   ]
  },
  {
   "cell_type": "code",
   "execution_count": null,
   "metadata": {
    "jupyter": {
     "source_hidden": true
    },
    "mystnb": {
     "code_prompt_show": "Define Blatt-Weisskopf form factor"
    },
    "tags": [
     "hide-input"
    ]
   },
   "outputs": [],
   "source": [
    "@make_commutative\n",
    "@implement_doit_method\n",
    "class BlattWeisskopf(UnevaluatedExpression):\n",
    "    def __new__(cls, z, L, **hints):\n",
    "        return create_expression(cls, z, L, **hints)\n",
    "\n",
    "    def evaluate(self):\n",
    "        z, L = self.args\n",
    "        cases = {\n",
    "            0: 1,\n",
    "            1: 1 / (1 + z**2),\n",
    "            2: 1 / (9 + 3 * z**2 + z**4),\n",
    "        }\n",
    "        return sp.Piecewise(\n",
    "            *[(sp.sqrt(expr), sp.Eq(L, l_val)) for l_val, expr in cases.items()]\n",
    "        )\n",
    "\n",
    "    def _latex(self, printer, *args):\n",
    "        z, L = map(printer._print, self.args)\n",
    "        return Rf\"F_{{{L}}}\\left({z}\\right)\"\n",
    "\n",
    "\n",
    "z = sp.Symbol(\"z\", positive=True)\n",
    "L = sp.Symbol(\"L\", integer=True, nonnegative=True)\n",
    "latex = sp.multiline_latex(BlattWeisskopf(z, L), BlattWeisskopf(z, L).doit())\n",
    "Math(latex)"
   ]
  },
  {
   "cell_type": "code",
   "execution_count": null,
   "metadata": {
    "jupyter": {
     "source_hidden": true
    },
    "mystnb": {
     "code_prompt_show": "Define Källén function"
    },
    "tags": [
     "hide-input"
    ]
   },
   "outputs": [],
   "source": [
    "@make_commutative\n",
    "@implement_doit_method\n",
    "class Källén(UnevaluatedExpression):\n",
    "    def __new__(cls, x, y, z, **hints):\n",
    "        return create_expression(cls, x, y, z, **hints)\n",
    "\n",
    "    def evaluate(self) -> sp.Expr:\n",
    "        x, y, z = self.args\n",
    "        return x**2 + y**2 + z**2 - 2 * x * y - 2 * y * z - 2 * z * x\n",
    "\n",
    "    def _latex(self, printer, *args):\n",
    "        x, y, z = map(printer._print, self.args)\n",
    "        return Rf\"\\lambda\\left({x}, {y}, {z}\\right)\"\n",
    "\n",
    "\n",
    "x, y, z = sp.symbols(\"x:z\")\n",
    "display_doit(Källén(x, y, z))"
   ]
  },
  {
   "cell_type": "code",
   "execution_count": null,
   "metadata": {
    "jupyter": {
     "source_hidden": true
    },
    "mystnb": {
     "code_prompt_show": "Define break-up momenta p and q"
    },
    "tags": [
     "hide-input"
    ]
   },
   "outputs": [],
   "source": [
    "@make_commutative\n",
    "@implement_doit_method\n",
    "class P(UnevaluatedExpression):\n",
    "    def __new__(cls, s, mi, mj, **hints):\n",
    "        return create_expression(cls, s, mi, mj, **hints)\n",
    "\n",
    "    def evaluate(self):\n",
    "        s, mi, mj = self.args\n",
    "        return sp.sqrt(Källén(s, mi**2, mj**2)) / (2 * sp.sqrt(s))\n",
    "\n",
    "    def _latex(self, printer, *args):\n",
    "        s = printer._print(self.args[0])\n",
    "        return Rf\"p_{{{s}}}\"\n",
    "\n",
    "\n",
    "@make_commutative\n",
    "@implement_doit_method\n",
    "class Q(UnevaluatedExpression):\n",
    "    def __new__(cls, s, m0, mk, **hints):\n",
    "        return create_expression(cls, s, m0, mk, **hints)\n",
    "\n",
    "    def evaluate(self):\n",
    "        s, m0, mk = self.args\n",
    "        return sp.sqrt(Källén(s, m0**2, mk**2)) / (2 * m0)  # <-- not s!\n",
    "\n",
    "    def _latex(self, printer, *args):\n",
    "        s = printer._print(self.args[0])\n",
    "        return Rf\"q_{{{s}}}\"\n",
    "\n",
    "\n",
    "s, m0, mi, mj, mk = sp.symbols(\"s m0 m_i:k\", nonnegative=True)\n",
    "display_doit(P(s, mi, mj))\n",
    "display_doit(Q(s, m0, mk))"
   ]
  },
  {
   "cell_type": "code",
   "execution_count": null,
   "metadata": {
    "jupyter": {
     "source_hidden": true
    },
    "tags": [
     "hide-input"
    ]
   },
   "outputs": [],
   "source": [
    "R = sp.Symbol(\"R\")\n",
    "parameter_defaults = {\n",
    "    R: 5,  # GeV^{-1} (length factor)\n",
    "}\n",
    "\n",
    "\n",
    "@make_commutative\n",
    "@implement_doit_method\n",
    "class EnergyDependentWidth(UnevaluatedExpression):\n",
    "    def __new__(cls, s, m0, Γ0, m1, m2, L, R):\n",
    "        return create_expression(cls, s, m0, Γ0, m1, m2, L, R)\n",
    "\n",
    "    def evaluate(self):\n",
    "        s, m0, Γ0, m1, m2, L, R = self.args\n",
    "        p = P(s, m1, m2)\n",
    "        p0 = P(m0**2, m1, m2)\n",
    "        ff = BlattWeisskopf(p * R, L) ** 2\n",
    "        ff0 = BlattWeisskopf(p0 * R, L) ** 2\n",
    "        return sp.Mul(\n",
    "            Γ0,\n",
    "            (p / p0) ** (2 * L + 1),\n",
    "            m0 / sp.sqrt(s),\n",
    "            ff / ff0,\n",
    "            evaluate=False,\n",
    "        )\n",
    "\n",
    "    def _latex(self, printer, *args) -> str:\n",
    "        s = printer._print(self.args[0])\n",
    "        return Rf\"\\Gamma\\left({s}\\right)\"\n",
    "\n",
    "\n",
    "l_R = sp.Symbol(\"l_R\", integer=True, positive=True)\n",
    "m, Γ0, m1, m2 = sp.symbols(\"m Γ0 m1 m2\", nonnegative=True)\n",
    "display_doit(EnergyDependentWidth(s, m, Γ0, m1, m2, l_R, R))"
   ]
  },
  {
   "cell_type": "code",
   "execution_count": null,
   "metadata": {
    "jupyter": {
     "source_hidden": true
    },
    "mystnb": {
     "code_prompt_show": "Define relativistic Breit-Wigner"
    },
    "tags": [
     "hide-input"
    ]
   },
   "outputs": [],
   "source": [
    "@make_commutative\n",
    "@implement_doit_method\n",
    "class RelativisticBreitWigner(UnevaluatedExpression):\n",
    "    def __new__(cls, s, m0, Γ0, m1, m2, l_R, l_Λc, R):\n",
    "        return create_expression(cls, s, m0, Γ0, m1, m2, l_R, l_Λc, R)\n",
    "\n",
    "    def evaluate(self):\n",
    "        s, m0, Γ0, m1, m2, l_R, l_Λc, R = self.args\n",
    "        q = Q(s, m1, m2)\n",
    "        q0 = Q(m0**2, m1, m2)\n",
    "        p = P(s, m1, m2)\n",
    "        p0 = P(m0**2, m1, m2)\n",
    "        width = EnergyDependentWidth(s, m0, Γ0, m1, m2, l_R, R)\n",
    "        return sp.Mul(\n",
    "            (q / q0) ** l_Λc,\n",
    "            BlattWeisskopf(q * R, l_Λc) / BlattWeisskopf(q0 * R, l_Λc),\n",
    "            1 / (m0**2 - s - sp.I * m0 * width),\n",
    "            (p / p0) ** l_R,\n",
    "            BlattWeisskopf(p * R, l_R) / BlattWeisskopf(p0 * R, l_R),\n",
    "            evaluate=False,\n",
    "        )\n",
    "\n",
    "    def _latex(self, printer, *args) -> str:\n",
    "        s = printer._print(self.args[0])\n",
    "        return Rf\"\\mathcal{{R}}\\left({s}\\right)\"\n",
    "\n",
    "\n",
    "l_Λc = sp.Symbol(R\"l_{\\Lambda_c}\", integer=True, positive=True)\n",
    "display_doit(RelativisticBreitWigner(s, m, Γ0, m1, m2, l_R, l_Λc, R))"
   ]
  },
  {
   "cell_type": "markdown",
   "metadata": {},
   "source": [
    "### Decay chain amplitudes"
   ]
  },
  {
   "cell_type": "code",
   "execution_count": null,
   "metadata": {
    "jupyter": {
     "source_hidden": true
    },
    "mystnb": {
     "code_prompt_show": "Formulate unaligned amplitudes for each chain"
    },
    "tags": [
     "scroll-input",
     "hide-input",
     "full-width"
    ]
   },
   "outputs": [],
   "source": [
    "def formulate_chain_amplitude(chain_id: int, λ_Λc, λ_p):\n",
    "    resonances = ls_resonances[chain_id]\n",
    "    if chain_id == 1:\n",
    "        return formulate_K_amplitude(λ_Λc, λ_p, resonances)\n",
    "    if chain_id == 2:\n",
    "        return formulate_Λ_amplitude(λ_Λc, λ_p, resonances)\n",
    "    if chain_id == 3:\n",
    "        return formulate_Δ_amplitude(λ_Λc, λ_p, resonances)\n",
    "    raise NotImplementedError\n",
    "\n",
    "\n",
    "H_prod = sp.IndexedBase(R\"\\mathcal{H}^\\mathrm{production}\")\n",
    "H_dec = sp.IndexedBase(R\"\\mathcal{H}^\\mathrm{decay}\")\n",
    "\n",
    "θ23 = sp.Symbol(\"theta23\", real=True)\n",
    "θ31 = sp.Symbol(\"theta31\", real=True)\n",
    "θ12 = sp.Symbol(\"theta12\", real=True)\n",
    "\n",
    "σ1, σ2, σ3 = sp.symbols(\"sigma1:4\", nonnegative=True)\n",
    "m1, m2, m3 = sp.symbols(R\"m_p m_pi m_K\", nonnegative=True)\n",
    "\n",
    "\n",
    "def formulate_K_amplitude(λ_Λc, λ_p, resonances: list[Resonance]):\n",
    "    τ = sp.Symbol(\"tau\", rational=True)\n",
    "    return sp.Add(\n",
    "        *[\n",
    "            PoolSum(\n",
    "                sp.KroneckerDelta(λ_Λc, τ - λ_p)\n",
    "                * H_prod[stringify(res), τ, λ_p]\n",
    "                * formulate_dynamics(res, σ1, m2, m3)\n",
    "                * (-1) ** (half - λ_p)\n",
    "                * Wigner.d(sp.Rational(res.particle.spin), τ, 0, θ23)\n",
    "                * H_dec[stringify(res), 0, 0],\n",
    "                (τ, create_spin_range(res.particle.spin)),\n",
    "            )\n",
    "            for res in resonances\n",
    "        ]\n",
    "    )\n",
    "\n",
    "\n",
    "def formulate_Λ_amplitude(λ_Λc, λ_p, resonances: list[Resonance]):\n",
    "    τ = sp.Symbol(\"tau\", rational=True)\n",
    "    return sp.Add(\n",
    "        *[\n",
    "            PoolSum(\n",
    "                sp.KroneckerDelta(λ_Λc, τ)\n",
    "                * H_prod[stringify(res), τ, 0]\n",
    "                * formulate_dynamics(res, σ2, m1, m3)\n",
    "                * Wigner.d(sp.Rational(res.particle.spin), τ, -λ_p, θ31)\n",
    "                * H_dec[stringify(res), 0, λ_p]\n",
    "                * (-1) ** (half - λ_p),\n",
    "                (τ, create_spin_range(res.particle.spin)),\n",
    "            )\n",
    "            for res in resonances\n",
    "        ]\n",
    "    )\n",
    "\n",
    "\n",
    "def formulate_Δ_amplitude(λ_Λc, λ_p, resonances: list[Resonance]):\n",
    "    τ = sp.Symbol(\"tau\", rational=True)\n",
    "    return sp.Add(\n",
    "        *[\n",
    "            PoolSum(\n",
    "                sp.KroneckerDelta(λ_Λc, τ)\n",
    "                * H_prod[stringify(res), τ, 0]\n",
    "                * formulate_dynamics(res, σ3, m1, m2)\n",
    "                * Wigner.d(sp.Rational(res.particle.spin), τ, λ_p, θ12)\n",
    "                * H_dec[stringify(res), λ_p, 0],\n",
    "                (τ, create_spin_range(res.particle.spin)),\n",
    "            )\n",
    "            for res in resonances\n",
    "        ]\n",
    "    )\n",
    "\n",
    "\n",
    "def formulate_dynamics(decay: Resonance, s, m1, m2):\n",
    "    l_R = sp.Rational(decay.l_R)\n",
    "    l_Λc = sp.Rational(decay.l_Λc)\n",
    "    mass = sp.Symbol(f\"m_{{{decay.particle.latex}}}\")\n",
    "    width = sp.Symbol(Rf\"\\Gamma_{{{decay.particle.latex}}}\")\n",
    "    parameter_defaults[mass] = decay.particle.mass\n",
    "    parameter_defaults[width] = decay.particle.width\n",
    "    return RelativisticBreitWigner(s, mass, width, m1, m2, l_R, l_Λc, R)\n",
    "\n",
    "\n",
    "def stringify(particle: Particle | Resonance) -> Str:\n",
    "    if isinstance(particle, Resonance):\n",
    "        particle = particle.particle\n",
    "    return Str(particle.latex)\n",
    "\n",
    "\n",
    "def create_spin_range(j):\n",
    "    return arange(-j, +j)\n",
    "\n",
    "\n",
    "display(\n",
    "    formulate_chain_amplitude(1, ν, λ),\n",
    "    formulate_chain_amplitude(2, ν, λ),\n",
    "    formulate_chain_amplitude(3, ν, λ),\n",
    ")"
   ]
  },
  {
   "cell_type": "markdown",
   "metadata": {},
   "source": [
    "### Angle definitions\n",
    "\n",
    "Angles with repeated lower indices are trivial. The other angles are computed from the invariants and these are the angles with sign\n",
    "\n",
    "$$\n",
    "\\begin{align}\n",
    "  \\zeta_{1(1)}^{0} &= \\hat{\\theta}_{1(1)}^{0} = 0\\,, & \\zeta_{1(1)}^{1} &= 0\\,,\\\\\n",
    "  \\zeta_{2(1)}^0 &=\\hat{\\theta}_{2(1)} =-\\hat{\\theta}_{1(2)}\\,,\\\\\n",
    "  \\zeta_{3(1)}^0 &= \\hat{\\theta}_{3(1)}\\,, &\\zeta_{3(1)}^1 &= -\\zeta_{1(3)}^1\\,,\n",
    "\\end{align}\n",
    "$$\n",
    "\n",
    "The expressions for the cosine of the positive (anticlockwise) angles, $\\theta_{12}, \\theta_{23}, \\theta_{13}$ and $\\hat\\theta_{1(2)}, \\hat\\theta_{3(1)}, \\zeta^1_{1(3)}$ can be expressed in terms of Mandelstam variables $\\sigma_1, \\sigma_2, \\sigma_3$ using {cite}`mikhasenkoDalitzplotDecompositionThreebody2020`, Appendix A:"
   ]
  },
  {
   "cell_type": "code",
   "execution_count": null,
   "metadata": {
    "jupyter": {
     "source_hidden": true
    },
    "mystnb": {
     "code_prompt_show": "Formulate expressions for DPD-angles"
    },
    "tags": [
     "scroll-input",
     "hide-input"
    ]
   },
   "outputs": [],
   "source": [
    "m0 = sp.Symbol(R\"m_{\\Lambda_c}\", nonnegative=True)\n",
    "angles = {\n",
    "    θ12: sp.acos(\n",
    "        (\n",
    "            2 * σ3 * (σ2 - m3**2 - m1**2)\n",
    "            - (σ3 + m1**2 - m2**2) * (m0**2 - σ3 - m3**2)\n",
    "        )\n",
    "        / (\n",
    "            sp.sqrt(Källén(m0**2, m3**2, σ3))\n",
    "            * sp.sqrt(Källén(σ3, m1**2, m2**2))\n",
    "        )\n",
    "    ),\n",
    "    θ23: sp.acos(\n",
    "        (\n",
    "            2 * σ1 * (σ3 - m1**2 - m2**2)\n",
    "            - (σ1 + m2**2 - m3**2) * (m0**2 - σ1 - m1**2)\n",
    "        )\n",
    "        / (\n",
    "            sp.sqrt(Källén(m0**2, m1**2, σ1))\n",
    "            * sp.sqrt(Källén(σ1, m2**2, m3**2))\n",
    "        )\n",
    "    ),\n",
    "    θ31: sp.acos(\n",
    "        (\n",
    "            2 * σ2 * (σ1 - m2**2 - m3**2)\n",
    "            - (σ2 + m3**2 - m1**2) * (m0**2 - σ2 - m2**2)\n",
    "        )\n",
    "        / (\n",
    "            sp.sqrt(Källén(m0**2, m2**2, σ2))\n",
    "            * sp.sqrt(Källén(σ2, m3**2, m1**2))\n",
    "        )\n",
    "    ),\n",
    "    ζ_0_11: sp.S.Zero,  # = \\hat\\theta^0_{1(1)}\n",
    "    ζ_0_21: -sp.acos(  # = -\\hat\\theta^{1(2)}\n",
    "        (\n",
    "            (m0**2 + m1**2 - σ1) * (m0**2 + m2**2 - σ2)\n",
    "            - 2 * m0**2 * (σ3 - m1**2 - m2**2)\n",
    "        )\n",
    "        / (\n",
    "            sp.sqrt(Källén(m0**2, m2**2, σ2))\n",
    "            * sp.sqrt(Källén(m0**2, σ1, m1**2))\n",
    "        )\n",
    "    ),\n",
    "    ζ_0_31: sp.acos(  # = \\hat\\theta^{3(1)}\n",
    "        (\n",
    "            (m0**2 + m3**2 - σ3) * (m0**2 + m1**2 - σ1)\n",
    "            - 2 * m0**2 * (σ2 - m3**2 - m1**2)\n",
    "        )\n",
    "        / (\n",
    "            sp.sqrt(Källén(m0**2, m1**2, σ1))\n",
    "            * sp.sqrt(Källén(m0**2, σ3, m3**2))\n",
    "        )\n",
    "    ),\n",
    "    ζ_1_11: sp.S.Zero,\n",
    "    ζ_1_21: sp.acos(\n",
    "        (\n",
    "            2 * m1**2 * (σ3 - m0**2 - m3**2)\n",
    "            + (m0**2 + m1**2 - σ1) * (σ2 - m1**2 - m3**2)\n",
    "        )\n",
    "        / (\n",
    "            sp.sqrt(Källén(m0**2, m1**2, σ1))\n",
    "            * sp.sqrt(Källén(σ2, m1**2, m3**2))\n",
    "        )\n",
    "    ),\n",
    "    ζ_1_31: -sp.acos(  # = -\\zeta^1_{1(3)}\n",
    "        (\n",
    "            2 * m1**2 * (σ2 - m0**2 - m2**2)\n",
    "            + (m0**2 + m1**2 - σ1) * (σ3 - m1**2 - m2**2)\n",
    "        )\n",
    "        / (\n",
    "            sp.sqrt(Källén(m0**2, m1**2, σ1))\n",
    "            * sp.sqrt(Källén(σ3, m1**2, m2**2))\n",
    "        )\n",
    "    ),\n",
    "}\n",
    "\n",
    "display_definitions(angles)"
   ]
  },
  {
   "cell_type": "markdown",
   "metadata": {},
   "source": [
    "where $m_0$ is the mass of the initial state $\\Lambda_c$ and $m_1, m_2, m_3$ are the masses of $p, \\pi, K$, respectively:"
   ]
  },
  {
   "cell_type": "code",
   "execution_count": null,
   "metadata": {
    "jupyter": {
     "source_hidden": true
    },
    "mystnb": {
     "code_prompt_show": "Define initial and final state masses"
    },
    "tags": [
     "hide-input"
    ]
   },
   "outputs": [],
   "source": [
    "masses = {\n",
    "    m0: Λc.mass,\n",
    "    m1: p.mass,\n",
    "    m2: π.mass,\n",
    "    m3: K.mass,\n",
    "}\n",
    "parameter_defaults.update(masses)\n",
    "display_definitions(masses)"
   ]
  },
  {
   "cell_type": "markdown",
   "metadata": {
    "tags": []
   },
   "source": [
    "### Helicity coupling values"
   ]
  },
  {
   "cell_type": "code",
   "execution_count": null,
   "metadata": {
    "jupyter": {
     "source_hidden": true
    },
    "mystnb": {
     "code_prompt_show": "Compute helicity couplings of the decay node"
    },
    "tags": [
     "hide-input"
    ]
   },
   "outputs": [],
   "source": [
    "dec_couplings = {}\n",
    "for res in ls_resonances[1]:\n",
    "    i = stringify(res)\n",
    "    dec_couplings[H_dec[i, 0, 0]] = 1\n",
    "for res in ls_resonances[2]:\n",
    "    i = stringify(res.particle)\n",
    "    dec_couplings[H_dec[i, 0, half]] = 1\n",
    "    dec_couplings[H_dec[i, 0, -half]] = int(\n",
    "        int(res.particle.parity)\n",
    "        * int(K.parity)\n",
    "        * int(p.parity)\n",
    "        * (-1) ** (res.particle.spin - K.spin - p.spin)\n",
    "    )\n",
    "for res in ls_resonances[3]:\n",
    "    i = stringify(res.particle)\n",
    "    dec_couplings[H_dec[i, half, 0]] = 1\n",
    "    dec_couplings[H_dec[i, -half, 0]] = int(\n",
    "        int(res.particle.parity)\n",
    "        * int(p.parity)\n",
    "        * int(π.parity)\n",
    "        * (-1) ** (res.particle.spin - p.spin - π.spin)\n",
    "    )\n",
    "parameter_defaults.update(dec_couplings)\n",
    "display_definitions(dec_couplings)"
   ]
  },
  {
   "cell_type": "code",
   "execution_count": null,
   "metadata": {
    "jupyter": {
     "source_hidden": true
    },
    "mystnb": {
     "code_prompt_show": "Define helicity couplings of the production node"
    },
    "tags": [
     "hide-input"
    ]
   },
   "outputs": [],
   "source": [
    "prod_couplings = {\n",
    "    # chain 23:\n",
    "    H_prod[Str(\"K^{*}(892)^{0}\"), 0, -half]: 1,\n",
    "    H_prod[Str(\"K^{*}(892)^{0}\"), -1, -half]: 1 - 1j,\n",
    "    H_prod[Str(\"K^{*}(892)^{0}\"), +1, +half]: -3 - 3j,\n",
    "    H_prod[Str(\"K^{*}(892)^{0}\"), 0, +half]: -1 - 4j,\n",
    "    #\n",
    "    H_prod[Str(\"K_{0}^{*}(1430)^{0}\"), 0, -half]: 1,\n",
    "    H_prod[Str(\"K_{0}^{*}(1430)^{0}\"), -1, -half]: 1 - 1j,\n",
    "    H_prod[Str(\"K_{0}^{*}(1430)^{0}\"), +1, +half]: -3 - 3j,\n",
    "    H_prod[Str(\"K_{0}^{*}(1430)^{0}\"), 0, +half]: -1 - 4j,\n",
    "    #\n",
    "    H_prod[Str(\"K_{2}^{*}(1430)^{0}\"), 0, -half]: 1,\n",
    "    H_prod[Str(\"K_{2}^{*}(1430)^{0}\"), -1, -half]: 1 - 1j,\n",
    "    H_prod[Str(\"K_{2}^{*}(1430)^{0}\"), +1, +half]: -3 - 3j,\n",
    "    H_prod[Str(\"K_{2}^{*}(1430)^{0}\"), 0, +half]: -1 - 4j,\n",
    "    #\n",
    "    # chain 31:\n",
    "    H_prod[Str(R\"\\Lambda(1520)\"), +half, 0]: 1.5,\n",
    "    H_prod[Str(R\"\\Lambda(1520)\"), -half, 0]: 0.3,\n",
    "    H_prod[Str(R\"\\Lambda(1670)\"), +half, 0]: -0.5 + 1j,\n",
    "    H_prod[Str(R\"\\Lambda(1670)\"), -half, 0]: -0.3 - 0.1j,\n",
    "    # chain 12:\n",
    "    H_prod[Str(R\"\\Delta(1232)^{++}\"), +half, 0]: -13 + 5j,\n",
    "    H_prod[Str(R\"\\Delta(1232)^{++}\"), -half, 0]: -7 + 3j,\n",
    "}\n",
    "display_definitions(prod_couplings)\n",
    "couplings = dict(dec_couplings)\n",
    "couplings.update(prod_couplings)\n",
    "parameter_defaults.update(prod_couplings)"
   ]
  },
  {
   "cell_type": "markdown",
   "metadata": {},
   "source": [
    "### Intensity expression\n",
    "\n",
    "Incoherent sum of the amplitudes defined by {ref}`report/021:Aligned amplitude`:"
   ]
  },
  {
   "cell_type": "code",
   "execution_count": null,
   "metadata": {
    "mystnb": {
     "code_prompt_show": "Formulate expression for the DPD-aligned intensity"
    },
    "tags": [
     "hide-input",
     "full-width"
    ]
   },
   "outputs": [],
   "source": [
    "intensity_expr = PoolSum(\n",
    "    sp.Abs(formulate_aligned_amplitude(ν, λ)) ** 2,\n",
    "    (λ, [-half, +half]),\n",
    "    (ν, [-half, +half]),\n",
    ")\n",
    "intensity_expr"
   ]
  },
  {
   "cell_type": "markdown",
   "metadata": {},
   "source": [
    "Remaining {attr}`~sympy.core.basic.Basic.free_symbols` are indeed the specific amplitudes as defined by {ref}`report/021:Decay chain amplitudes`:\n",
    "\n",
    "The specific amplitudes from {ref}`report/021:Decay chain amplitudes` need to be formulated for each value of $\\nu, \\lambda$, so that they can be substituted in the top expression:"
   ]
  },
  {
   "cell_type": "code",
   "execution_count": null,
   "metadata": {
    "jupyter": {
     "source_hidden": true
    },
    "mystnb": {
     "code_prompt_show": "Formulate unaligned amplitude expressions"
    },
    "tags": [
     "hide-input",
     "full-width"
    ]
   },
   "outputs": [],
   "source": [
    "A = {1: A_K, 2: A_Λ, 3: A_Δ}\n",
    "amp_definitions = {}\n",
    "for chain_id in chain_ids:\n",
    "    for Λc_heli, p_heli in itertools.product([-half, +half], [-half, +half]):\n",
    "        symbol = A[chain_id][Λc_heli, p_heli]\n",
    "        expr = formulate_chain_amplitude(chain_id, ν, λ)\n",
    "        amp_definitions[symbol] = expr.subs({ν: Λc_heli, λ: p_heli})\n",
    "display_definitions(amp_definitions)"
   ]
  },
  {
   "cell_type": "code",
   "execution_count": null,
   "metadata": {
    "jupyter": {
     "source_hidden": true
    },
    "mystnb": {
     "code_prompt_show": "Assert that all symbols are defined"
    },
    "tags": [
     "hide-cell"
    ]
   },
   "outputs": [],
   "source": [
    "unfolded_intensity_expr = perform_cached_doit(\n",
    "    perform_cached_doit(intensity_expr).xreplace(amp_definitions)\n",
    ")\n",
    "expr = unfolded_intensity_expr.xreplace(angles).doit()\n",
    "expr = expr.xreplace(parameter_defaults)\n",
    "assert expr.free_symbols == {σ1, σ2, σ3}\n",
    "del expr"
   ]
  },
  {
   "cell_type": "markdown",
   "metadata": {},
   "source": [
    "## Polarization sensitivity\n",
    "\n",
    "We introduce the **polarimeter vector field** (polarization sensitivity) of the $\\Lambda_c$ decay. It is defined by three quantities $(\\alpha_x,\\alpha_y,\\alpha_z)$ forming a three-dimensional vector&nbsp;$\\vec\\alpha$ dependent on just two decay variables, $\\sigma_1=m_{K\\pi}^2$, and $\\sigma_2=m_{pK}^2$.\n",
    "\n",
    "The polarimeter vector field is computed by averaging the Pauli matrices&nbsp;$\\vec\\sigma$ contracted with the $\\Lambda_c^+$ helicity indices given the transition amplitude.\n",
    "\n",
    "$$\n",
    "\\begin{align}\n",
    "  \\vec\\alpha(m_{K\\pi},m_{pK}) =\n",
    "  \\sum_{\\lambda,\\nu,\\nu'}\n",
    "    A^{*}_{\\nu,\\lambda}\\vec\\sigma_{\\nu,\\nu'}\n",
    "    A_{\\nu',\\lambda} \\,\\big / \\sum_{\\lambda,\\nu}\n",
    "    \\left|A_{\\nu,\\lambda}\\right|^2\n",
    "\\end{align}\n",
    "$$ (polarimeter-field)\n",
    "\n",
    "The quantities $\\vec\\alpha(m_{K\\pi},m_{pK})$ give the model-independent representation of the $\\Lambda_c^+$ decay process. It can be used to study $\\Lambda_c^+$ production polarization using\n",
    "\n",
    "$$\n",
    "\\begin{align}\n",
    "    I(\\alpha,\\beta,\\gamma,m_{K\\pi},m_{pK}) =\n",
    "    I_0(m_{K\\pi},m_{pK})\\,\n",
    "    \\left(1 + \\sum_{i,j} P_i R_{ij}(\\alpha,\\beta,\\gamma) \\alpha_j(m_{K\\pi},m_{pK}) \\right)\\,,\n",
    "\\end{align}\n",
    "$$ (master-intensity)\n",
    "\n",
    "where $R_{ij}(\\alpha,\\beta,\\gamma)$ is a three-dimensional rotation matrix:\n",
    "\n",
    "$$\n",
    "\\begin{align}\n",
    "  R(\\alpha,\\beta,\\gamma) = R_z(\\alpha)R_y(\\beta)R_z(\\gamma)\\,,\n",
    "\\end{align}\n",
    "$$\n",
    "\n",
    "and $I_0$ is the averaged decay rate\n",
    "\n",
    "$$\n",
    "\\begin{align}\n",
    "  I_0(m_{K\\pi},m_{pK}) = \\sum_{\\lambda,\\nu}\\left|A_{\\nu,\\lambda}\\right|^2\\,.\n",
    "\\end{align}\n",
    "$$"
   ]
  },
  {
   "cell_type": "code",
   "execution_count": null,
   "metadata": {
    "tags": []
   },
   "outputs": [],
   "source": [
    "def to_index(helicity):\n",
    "    \"\"\"Symbolic conversion of half-value helicities to Pauli matrix indices.\"\"\"\n",
    "    # https://github.com/ComPWA/compwa-org/pull/129#issuecomment-1096599896\n",
    "    return sp.Piecewise(\n",
    "        (1, sp.LessThan(helicity, 0)),\n",
    "        (0, True),\n",
    "    )\n",
    "\n",
    "\n",
    "ν_prime = sp.Symbol(R\"\\nu^{\\prime}\")\n",
    "polarimetry_exprs = tuple(\n",
    "    PoolSum(\n",
    "        formulate_aligned_amplitude(ν, λ).conjugate()\n",
    "        * msigma(i)[to_index(ν), to_index(ν_prime)]\n",
    "        * formulate_aligned_amplitude(ν_prime, λ),\n",
    "        (λ, [-half, +half]),\n",
    "        (ν, [-half, +half]),\n",
    "        (ν_prime, [-half, +half]),\n",
    "    )\n",
    "    / intensity_expr\n",
    "    for i in (1, 2, 3)\n",
    ")"
   ]
  },
  {
   "cell_type": "code",
   "execution_count": null,
   "metadata": {
    "jupyter": {
     "source_hidden": true
    },
    "mystnb": {
     "code_prompt_show": "Unfold polarimeter expressions"
    },
    "tags": [
     "hide-input"
    ]
   },
   "outputs": [],
   "source": [
    "unfolded_polarimetry_exprs = tuple(\n",
    "    perform_cached_doit(perform_cached_doit(x).xreplace(amp_definitions))\n",
    "    for x in polarimetry_exprs\n",
    ")"
   ]
  },
  {
   "cell_type": "markdown",
   "metadata": {},
   "source": [
    "### Properties of the vector $\\vec\\alpha$\n",
    "\n",
    "The vector $\\vec \\alpha$ introduced in Eq.&nbsp;{eq}`polarimeter-field` obeys the following properties:\n",
    "\n",
    "1. It is a three-dimensional vector defined in the rest frame of the decaying particle.\n",
    "    Particularly, it is transformed as a regular vector in case initial (alignment) configuration change.\n",
    "2. The length of the vector is limited by 1: $|\\vec{\\alpha}| < 1$ \n",
    "3. $\\alpha_y=0$ for the decays of a fermion to a fermions and (pseudo)scalar\n",
    "\n",
    "Here is the prove of the second statement:\n",
    "\n",
    "$$\n",
    "\\begin{align}\n",
    "    I_{\\nu',\\nu} = \\sum_{\\lambda} A_{\\nu',\\lambda}^* A_{\\nu,\\lambda} =\n",
    "    \\begin{pmatrix}\n",
    "    a & c^*\\\\\n",
    "    c & b\n",
    "    \\end{pmatrix} = \\frac{a+b}{2}\\left(\n",
    "    \\mathbb{I} + (\\vec{\\sigma} \\cdot \\vec{\\alpha})\n",
    "    \\right)\\,,\n",
    "\\end{align}\n",
    "$$\n",
    "\n",
    "where\n",
    "\n",
    "$$\n",
    "\\begin{align}\n",
    "a &= \\left|A_{+,+}\\right|^2+\\left|A_{+,-}\\right|^2\\,,\\\\ \\nonumber\n",
    "b &= \\left|A_{-,+}\\right|^2+\\left|A_{-,-}\\right|^2\\,,\\\\ \\nonumber\n",
    "c &= A_{+,+}^*A_{-,+} + A_{+,-}^*A_{-,-}\\,,\n",
    "\\end{align}\n",
    "$$\n",
    "\n",
    "and\n",
    "\n",
    "$$\n",
    "\\begin{align}\n",
    "\\alpha_x &= \\frac{\\text{Re}\\,c}{a+b}\\,,&\n",
    "\\alpha_x &= \\frac{\\text{Im}\\,c}{a+b}\\,,&\n",
    "\\alpha_z &= \\frac{a-b}{a+b}\\,,\n",
    "\\end{align}\n",
    "$$\n",
    "\n",
    "To constraint the length of the $\\vec\\alpha$, one notices $ab - c \\ge 0$. Therefore,\n",
    "\n",
    "$$\n",
    "\\begin{align}\n",
    "|\\vec\\alpha|^2 &= \\frac{(a-b)^2+c^2}{(a+b)^2} = \\frac{(a+b)^2-4ab+c^2}{(a+b)^2} \\leq \\frac{(a+b)^2-3ab}{(a+b)^2} \\leq 1\\,\n",
    "\\end{align}\n",
    "$$\n",
    "\n",
    "since $a,b \\geq 0$.\n",
    "\n",
    "## Computations with TensorWaves\n",
    "\n",
    "\n",
    "### Conversion to computational backend\n",
    "\n",
    "The full [expression tree](https://docs.sympy.org/latest/tutorial/manipulation.html) can be converted to a computational, _parametrized_ function as follows. Note that identify all coupling symbols are interpreted as parameters. The remaining symbols (the angles) become arguments to the function."
   ]
  },
  {
   "cell_type": "code",
   "execution_count": null,
   "metadata": {},
   "outputs": [],
   "source": [
    "free_parameters = {\n",
    "    symbol: value\n",
    "    for symbol, value in parameter_defaults.items()\n",
    "    if symbol.name.startswith(\"m_\")\n",
    "    and symbol not in masses\n",
    "    or symbol.name.startswith(R\"\\Gamma_\")\n",
    "    or symbol in prod_couplings\n",
    "}\n",
    "fixed_parameters = {\n",
    "    symbol: value\n",
    "    for symbol, value in parameter_defaults.items()\n",
    "    if symbol not in free_parameters\n",
    "}"
   ]
  },
  {
   "cell_type": "code",
   "execution_count": null,
   "metadata": {
    "tags": []
   },
   "outputs": [],
   "source": [
    "intensity_func = create_parametrized_function(\n",
    "    unfolded_intensity_expr.xreplace(fixed_parameters),\n",
    "    parameters=free_parameters,\n",
    "    backend=\"jax\",\n",
    ")"
   ]
  },
  {
   "cell_type": "code",
   "execution_count": null,
   "metadata": {
    "tags": []
   },
   "outputs": [],
   "source": [
    "polarimetry_funcs = tuple(\n",
    "    create_parametrized_function(\n",
    "        expr.xreplace(fixed_parameters),\n",
    "        parameters=free_parameters,\n",
    "        backend=\"jax\",\n",
    "    )\n",
    "    for expr in unfolded_polarimetry_exprs\n",
    ")"
   ]
  },
  {
   "cell_type": "markdown",
   "metadata": {},
   "source": [
    "### Phase space\n",
    "\n",
    "The $\\Lambda_c^+ \\to p K \\pi$ kinematics is fully described by two dynamic variables, $m_{K\\pi}$ and $m_{pK}$  (see {doc}`/report/017`). The third Mandelstam variable can be computed from the other two and the masses of the initial and final state:"
   ]
  },
  {
   "cell_type": "code",
   "execution_count": null,
   "metadata": {
    "tags": [
     "hide-input"
    ]
   },
   "outputs": [],
   "source": [
    "computed_σ3 = m0**2 + m1**2 + m2**2 + m3**2 - σ1 - σ2\n",
    "compute_third_mandelstam = create_function(computed_σ3.subs(masses), backend=\"jax\")\n",
    "display_definitions({σ3: computed_σ3})"
   ]
  },
  {
   "cell_type": "markdown",
   "metadata": {},
   "source": [
    "Values for the angles will be computed form the Mandelstam values with a data transformer for the symbolic angle definitions:"
   ]
  },
  {
   "cell_type": "code",
   "execution_count": null,
   "metadata": {
    "tags": []
   },
   "outputs": [],
   "source": [
    "kinematic_variables = {\n",
    "    symbol: expression.doit().xreplace(masses).xreplace(fixed_parameters)\n",
    "    for symbol, expression in angles.items()\n",
    "}\n",
    "kinematic_variables.update({s: s for s in [σ1, σ2, σ3]})  # include identity\n",
    "transformer = SympyDataTransformer.from_sympy(kinematic_variables, backend=\"jax\")"
   ]
  },
  {
   "cell_type": "markdown",
   "metadata": {},
   "source": [
    "We now define phase space over a grid that contains the space in the Dalitz plane that is kinematically 'available' to the decay:"
   ]
  },
  {
   "cell_type": "code",
   "execution_count": null,
   "metadata": {
    "jupyter": {
     "source_hidden": true
    },
    "tags": []
   },
   "outputs": [],
   "source": [
    "m0_val, m1_val, m2_val, m3_val = masses.values()\n",
    "σ1_min = (m2_val + m3_val) ** 2\n",
    "σ1_max = (m0_val - m1_val) ** 2\n",
    "σ2_min = (m1_val + m3_val) ** 2\n",
    "σ2_max = (m0_val - m2_val) ** 2\n",
    "\n",
    "\n",
    "def generate_phsp_grid(resolution: int):\n",
    "    x = np.linspace(σ1_min, σ1_max, num=resolution)\n",
    "    y = np.linspace(σ2_min, σ2_max, num=resolution)\n",
    "    X, Y = np.meshgrid(x, y)\n",
    "    Z = compute_third_mandelstam.function(X, Y)\n",
    "    phsp = {\"sigma1\": X, \"sigma2\": Y, \"sigma3\": Z}\n",
    "    return X, Y, transformer(phsp)\n",
    "\n",
    "\n",
    "X, Y, phsp = generate_phsp_grid(resolution=200)"
   ]
  },
  {
   "cell_type": "markdown",
   "metadata": {},
   "source": [
    "### Intensity distribution\n",
    "\n",
    "Finally, all intensities can be computed as follows:"
   ]
  },
  {
   "cell_type": "code",
   "execution_count": null,
   "metadata": {
    "tags": [
     "remove-input"
    ]
   },
   "outputs": [],
   "source": [
    "%config InlineBackend.figure_formats = ['png']"
   ]
  },
  {
   "cell_type": "code",
   "execution_count": null,
   "metadata": {
    "jupyter": {
     "source_hidden": true
    },
    "tags": [
     "hide-input"
    ]
   },
   "outputs": [],
   "source": [
    "s1_label = R\"$\\sigma_1=m^2\\left(K\\pi\\right)$\"\n",
    "s2_label = R\"$\\sigma_2=m^2\\left(pK\\right)$\"\n",
    "s3_label = R\"$\\sigma_3=m^2\\left(p\\pi\\right)$\"\n",
    "\n",
    "plt.rc(\"font\", size=15)\n",
    "fig, ax = plt.subplots(\n",
    "    figsize=(9, 8),\n",
    "    tight_layout=True,\n",
    ")\n",
    "ax.set_box_aspect(1)\n",
    "ax.set_title(\"Intensity distribution\")\n",
    "ax.set_xlabel(s1_label)\n",
    "ax.set_ylabel(s2_label)\n",
    "\n",
    "total_intensities = intensity_func(phsp)\n",
    "mesh = ax.pcolormesh(X, Y, total_intensities, norm=LogNorm())\n",
    "fig.colorbar(mesh, ax=ax, fraction=0.05, pad=0.02)\n",
    "plt.show()"
   ]
  },
  {
   "cell_type": "code",
   "execution_count": null,
   "metadata": {
    "tags": [
     "hide-input"
    ]
   },
   "outputs": [],
   "source": [
    "%config InlineBackend.figure_formats = ['svg']"
   ]
  },
  {
   "cell_type": "code",
   "execution_count": null,
   "metadata": {
    "jupyter": {
     "source_hidden": true
    },
    "tags": [
     "hide-input",
     "scroll-input",
     "full-width"
    ]
   },
   "outputs": [],
   "source": [
    "def compute_sub_function(\n",
    "    func: ParametrizedFunction, phsp: DataSample, non_zero_couplings: str\n",
    ") -> jnp.ndarray:\n",
    "    zero_couplings = {\n",
    "        par: 0\n",
    "        for par in func.parameters\n",
    "        if par.startswith(R\"\\mathcal{H}\")\n",
    "        if \"production\" in par\n",
    "        if not any(s in par for s in non_zero_couplings)\n",
    "    }\n",
    "    original_parameters = dict(func.parameters)\n",
    "    func.update_parameters(zero_couplings)\n",
    "    computed_values = func(phsp)\n",
    "    func.update_parameters(original_parameters)\n",
    "    return computed_values\n",
    "\n",
    "\n",
    "def set_ylim_to_zero(ax):\n",
    "    _, y_max = ax.get_ylim()\n",
    "    ax.set_ylim(0, y_max)\n",
    "\n",
    "\n",
    "fig, (ax1, ax2) = plt.subplots(\n",
    "    ncols=2,\n",
    "    figsize=(12, 5),\n",
    "    sharey=True,\n",
    "    tight_layout=True,\n",
    ")\n",
    "ax1.set_xlabel(s1_label)\n",
    "ax2.set_xlabel(s2_label)\n",
    "ax1.set_yticks([])\n",
    "\n",
    "x = X[0]\n",
    "y = Y[:, 0]\n",
    "ax1.fill(x, np.nansum(total_intensities, axis=0), alpha=0.3)\n",
    "ax2.fill(y, np.nansum(total_intensities, axis=1), alpha=0.3)\n",
    "for chain_id, chain_name in chain_ids.items():\n",
    "    label = f\"${chain_labels[chain_id]}$\"\n",
    "    sub_intensities = compute_sub_function(\n",
    "        intensity_func, phsp, non_zero_couplings=[chain_name]\n",
    "    )\n",
    "    ax1.plot(x, np.nansum(sub_intensities, axis=0), label=label)\n",
    "    ax2.plot(y, np.nansum(sub_intensities, axis=1), label=label)\n",
    "set_ylim_to_zero(ax1)\n",
    "set_ylim_to_zero(ax2)\n",
    "ax2.legend()\n",
    "plt.show()"
   ]
  },
  {
   "cell_type": "markdown",
   "metadata": {},
   "source": [
    "### Fit fractions\n",
    "\n",
    "The total decay rate for $\\Lambda_c^+ \\to pK\\pi$ can be broken into fractions that correspond to the different decay chains and interference terms. The total rate is computed as an integral of the intensity over decay kinematics:\n",
    "\n",
    "$$\n",
    "\\begin{align}\n",
    "  I_\\text{tot}(\\{\\mathcal{H}\\}) = \\int d m_{pK}^2 d m_{K\\pi}^2\\,\n",
    "  I_0(m_{pK}, m_{K\\pi} | \\{\\mathcal{H}\\})\n",
    "  \\approx \\frac{\\Phi_0}{N_\\text{MC}} \\sum_{e=1}^{N_\\text{MC}}\\,\\,I_0(m_{pK,e}, m_{K\\pi,e} | \\{\\mathcal{H}\\})\\,,\n",
    "\\end{align}\n",
    "$$\n",
    "\n",
    "where $\\Phi_0$ is an (irrelevant) constant equal to the flat phase-space integral, $(m_{pK,e}, m_{K\\pi,e})$ is a vector of the kinematic variables for the $e$-th point in the MC sample.\n",
    "\n",
    "The conditional argument $\\{\\mathcal{H}\\}$ indicates dependence of the rate on the value of the couplings. The individual fractions are found by computing the total rate for a subset of couplings set to zero,\n",
    "\n",
    "$$\n",
    "\\begin{align}\n",
    "  I_\\text{tot}^{K} &= I_\\text{tot}\\left(\\{\\mathcal{H}^{\\Lambda_c^+\\to\\Delta^{**} K}, \\mathcal{H}^{\\Lambda_c^+\\to\\Lambda^{**} \\pi} = 0\\}\\right)\\,,\\\\\n",
    "  I_\\text{tot}^{\\Delta} &= I_\\text{tot}\\left(\\{\\mathcal{H}^{\\Lambda_c^+\\to K^{**} p}, \\mathcal{H}^{\\Lambda_c^+\\to\\Lambda^{**} \\pi} = 0\\}\\right)\\,,\\\\\n",
    "  I_\\text{tot}^{\\Lambda} &= I_\\text{tot}\\left(\\{\\mathcal{H}^{\\Lambda_c^+\\to\\Delta^{**} K}, \\mathcal{H}^{\\Lambda_c^+\\to K^{**} p} = 0\\}\\right)\\,,\\\\\n",
    "  I_\\text{tot}^{K/\\Lambda} &= I_\\text{tot}\\left(\\{\\mathcal{H}^{\\Lambda_c^+\\to\\Delta^{**} K} = 0\\}\\right) -  I_\\text{tot}^{K} - I_\\text{tot}^{\\Lambda}\\,,\\\\\n",
    "  & \\dots\\,,\n",
    "\\end{align}\n",
    "$$\n",
    "\n",
    "where the terms with a single chain index are the rate of the decay chain. The sum of all fractions should give the total rate:\n",
    "\n",
    "$$\n",
    "\\begin{align}\n",
    "  I_\\text{tot}\\left(\\{\\mathcal{H}\\}\\right)\n",
    "  = \\sum_{R} I_\\text{tot}^{R} +  \\sum_{R < R'} I_\\text{tot}^{R/R'}\n",
    "\\end{align}\n",
    "$$"
   ]
  },
  {
   "cell_type": "code",
   "execution_count": null,
   "metadata": {
    "tags": []
   },
   "outputs": [],
   "source": [
    "def integrate_intensity(\n",
    "    intensity_func: ParametrizedFunction,\n",
    "    phsp: DataSample,\n",
    "    non_zero_couplings: list[str] | None = None,\n",
    ") -> float:\n",
    "    if non_zero_couplings is None:\n",
    "        intensities = intensity_func(phsp)\n",
    "    else:\n",
    "        intensities = compute_sub_function(intensity_func, phsp, non_zero_couplings)\n",
    "    return np.nansum(intensities) / len(intensities)\n",
    "\n",
    "\n",
    "I_tot = integrate_intensity(intensity_func, phsp)\n",
    "np.testing.assert_allclose(\n",
    "    I_tot,\n",
    "    integrate_intensity(intensity_func, phsp, [\"K\", R\"\\Lambda\", R\"\\Delta\"]),\n",
    ")"
   ]
  },
  {
   "cell_type": "code",
   "execution_count": null,
   "metadata": {
    "tags": []
   },
   "outputs": [],
   "source": [
    "def compute_interference(\n",
    "    intensity_func: ParametrizedFunction,\n",
    "    phsp: DataSample,\n",
    "    chain1: list[str],\n",
    "    chain2: list[str],\n",
    ") -> float:\n",
    "    I_interference = integrate_intensity(intensity_func, phsp, chain1 + chain2)\n",
    "    I_chain1 = integrate_intensity(intensity_func, phsp, chain1)\n",
    "    I_chain2 = integrate_intensity(intensity_func, phsp, chain2)\n",
    "    return I_interference - I_chain1 - I_chain2\n",
    "\n",
    "\n",
    "I_K = integrate_intensity(intensity_func, phsp, non_zero_couplings=[\"K\"])\n",
    "I_Λ = integrate_intensity(intensity_func, phsp, non_zero_couplings=[\"Lambda\"])\n",
    "I_Δ = integrate_intensity(intensity_func, phsp, non_zero_couplings=[\"Delta\"])\n",
    "I_ΛΔ = compute_interference(intensity_func, phsp, [\"Lambda\"], [\"Delta\"])\n",
    "I_KΔ = compute_interference(intensity_func, phsp, [\"K\"], [\"Delta\"])\n",
    "I_KΛ = compute_interference(intensity_func, phsp, [\"K\"], [\"Lambda\"])\n",
    "np.testing.assert_allclose(I_tot, I_K + I_Λ + I_Δ + I_ΛΔ + I_KΔ + I_KΛ)"
   ]
  },
  {
   "cell_type": "code",
   "execution_count": null,
   "metadata": {
    "jupyter": {
     "source_hidden": true
    },
    "tags": [
     "hide-input"
    ]
   },
   "outputs": [],
   "source": [
    "def render_resonance_row(chain_id):\n",
    "    rows = [\n",
    "        (\n",
    "            Rf\"\\color{{gray}}{{{p.latex}}}\",\n",
    "            (\n",
    "                Rf\"\\color{{gray}}{{{integrate_intensity(intensity_func, phsp, [p.name])/I_tot:.3f}}}\"\n",
    "            ),\n",
    "        )\n",
    "        for p in resonance_particles[chain_id]\n",
    "    ]\n",
    "    if len(rows) > 1:\n",
    "        return rows\n",
    "    return []\n",
    "\n",
    "\n",
    "rows = [\n",
    "    R\"\\hline\",\n",
    "    (\"K^{**}\", f\"{I_K/I_tot:.3f}\"),\n",
    "    *render_resonance_row(chain_id=1),\n",
    "    (R\"\\Lambda^{**}\", f\"{I_Λ/I_tot:.3f}\"),\n",
    "    *render_resonance_row(chain_id=2),\n",
    "    (R\"\\Delta^{**}\", f\"{I_Δ/I_tot:.3f}\"),\n",
    "    *render_resonance_row(chain_id=3),\n",
    "    (R\"\\Delta/\\Lambda\", f\"{I_ΛΔ/I_tot:.3f}\"),\n",
    "    (R\"K/\\Delta\", f\"{I_KΔ/I_tot:.3f}\"),\n",
    "    (R\"K/\\Lambda\", f\"{I_KΛ/I_tot:.3f}\"),\n",
    "    R\"\\hline\",\n",
    "    (\n",
    "        R\"\\mathrm{total}\",\n",
    "        f\"{(I_K + I_Λ + I_Δ + I_ΛΔ + I_KΔ + I_KΛ) /I_tot:.3f}\",\n",
    "    ),\n",
    "]\n",
    "\n",
    "latex = R\"\\begin{array}{crr}\" + \"\\n\"\n",
    "latex += R\"& I_\\mathrm{sub}\\,/\\,I \\\\\" + \"\\n\"\n",
    "for row in rows:\n",
    "    if row == R\"\\hline\":\n",
    "        latex += R\"\\hline\"\n",
    "    else:\n",
    "        latex += \"  \" + \" & \".join(row) + R\" \\\\\" + \"\\n\"\n",
    "latex += R\"\\end{array}\"\n",
    "Math(latex)"
   ]
  },
  {
   "cell_type": "markdown",
   "metadata": {},
   "source": [
    "### Polarimetry distributions"
   ]
  },
  {
   "cell_type": "code",
   "execution_count": null,
   "metadata": {
    "tags": []
   },
   "outputs": [],
   "source": [
    "for func in polarimetry_funcs:\n",
    "    assert np.nanmax(func(phsp).imag) < 1e-10"
   ]
  },
  {
   "cell_type": "markdown",
   "metadata": {},
   "source": [
    "{{ run_interactive }}"
   ]
  },
  {
   "cell_type": "code",
   "execution_count": null,
   "metadata": {
    "jupyter": {
     "source_hidden": true
    },
    "tags": [
     "hide-input"
    ]
   },
   "outputs": [],
   "source": [
    "def render_mean(array, plus=True):\n",
    "    array = array.real\n",
    "    mean = f\"{np.nanmean(array):.3f}\"\n",
    "    std = f\"{np.nanstd(array):.3f}\"\n",
    "    if plus and float(mean) > 0:\n",
    "        mean = f\"+{mean}\"\n",
    "    return Rf\"{mean} \\pm {std}\"\n",
    "\n",
    "\n",
    "latex = R\"\\begin{array}{cccc}\" + \"\\n\"\n",
    "latex += R\"& \\bar{|\\alpha|} & \\bar\\alpha_x & \\bar\\alpha_y & \\bar\\alpha_z \\\\\" + \"\\n\"\n",
    "for chain_id, chain_name in chain_ids.items():\n",
    "    latex += f\"  {chain_labels[chain_id]} & \"\n",
    "    x, y, z = tuple(\n",
    "        compute_sub_function(func, phsp, non_zero_couplings=[chain_name])\n",
    "        for func in polarimetry_funcs\n",
    "    )\n",
    "    latex += render_mean(np.sqrt(x**2 + y**2 + z**2), plus=False) + \" & \"\n",
    "    latex += \" & \".join(map(render_mean, [x, y, z]))\n",
    "    latex += R\" \\\\\" + \"\\n\"\n",
    "latex += R\"\\end{array}\"\n",
    "Math(latex)"
   ]
  },
  {
   "cell_type": "code",
   "execution_count": null,
   "metadata": {
    "tags": [
     "remove-input"
    ]
   },
   "outputs": [],
   "source": [
    "%config InlineBackend.figure_formats = ['png']\n",
    "%matplotlib widget"
   ]
  },
  {
   "cell_type": "code",
   "execution_count": null,
   "metadata": {
    "jupyter": {
     "source_hidden": true
    },
    "mystnb": {
     "code_prompt_show": "Define sliders for the widget"
    },
    "tags": [
     "scroll-input",
     "hide-cell",
     "remove-output"
    ]
   },
   "outputs": [],
   "source": [
    "# Slider construction\n",
    "sliders = {}\n",
    "for symbol, value in free_parameters.items():\n",
    "    if symbol.name.startswith(R\"\\mathcal{H}\"):\n",
    "        real_slider = create_slider(symbol)\n",
    "        imag_slider = create_slider(symbol)\n",
    "        sliders[f\"{symbol.name}_real\"] = real_slider\n",
    "        sliders[f\"{symbol.name}_imag\"] = imag_slider\n",
    "        real_slider.description = R\"\\(\\mathrm{Re}\\)\"\n",
    "        imag_slider.description = R\"\\(\\mathrm{Im}\\)\"\n",
    "    else:\n",
    "        slider = create_slider(symbol)\n",
    "        sliders[symbol.name] = slider\n",
    "\n",
    "# Slider ranges\n",
    "σ3_max = (m0_val - m3_val) ** 2\n",
    "σ3_min = (m1_val + m2_val) ** 2\n",
    "\n",
    "for name, slider in sliders.items():\n",
    "    slider.continuous_update = True\n",
    "    slider.step = 0.01\n",
    "    if name.startswith(\"m_\"):\n",
    "        if \"K\" in name:\n",
    "            slider.min = np.sqrt(σ1_min)\n",
    "            slider.max = np.sqrt(σ1_max)\n",
    "        elif R\"\\Lambda\" in name:\n",
    "            slider.min = np.sqrt(σ2_min)\n",
    "            slider.max = np.sqrt(σ2_max)\n",
    "        elif R\"\\Delta\" in name:\n",
    "            slider.min = np.sqrt(σ3_min)\n",
    "            slider.max = np.sqrt(σ3_max)\n",
    "    elif name.startswith(R\"\\Gamma_\"):\n",
    "        slider.min = 0\n",
    "        slider.max = max(0.5, 2 * slider.value)\n",
    "    elif name.startswith(R\"\\mathcal{H}\"):\n",
    "        slider.min = -15\n",
    "        slider.max = +15\n",
    "\n",
    "\n",
    "# Slider values\n",
    "def reset_sliders(click_event):\n",
    "    for symbol, value in free_parameters.items():\n",
    "        if symbol.name.startswith(R\"\\mathcal{H}\"):\n",
    "            set_slider(sliders[symbol.name + \"_real\"], value)\n",
    "            set_slider(sliders[symbol.name + \"_imag\"], value)\n",
    "        else:\n",
    "            set_slider(sliders[symbol.name], value)\n",
    "\n",
    "\n",
    "def set_coupling_to_zero(filter_pattern):\n",
    "    if isinstance(filter_pattern, Combobox):\n",
    "        filter_pattern = filter_pattern.value\n",
    "    for name, slider in sliders.items():\n",
    "        if not name.startswith(R\"\\mathcal{H}\"):\n",
    "            continue\n",
    "        if filter_pattern not in name:\n",
    "            continue\n",
    "        set_slider(sliders[name], 0)\n",
    "\n",
    "\n",
    "def set_slider(slider, value):\n",
    "    if slider.description == R\"\\(\\mathrm{Im}\\)\":\n",
    "        value = complex(value).imag\n",
    "    else:\n",
    "        value = complex(value).real\n",
    "    n_decimals = -round(np.log10(slider.step))\n",
    "    if slider.value != round(value, n_decimals):  # widget performance\n",
    "        slider.value = value\n",
    "\n",
    "\n",
    "reset_sliders(click_event=None)\n",
    "reset_button = Button(description=\"Reset slider values\")\n",
    "reset_button.on_click(reset_sliders)\n",
    "\n",
    "all_resonances = [r.latex for r_list in resonance_particles.values() for r in r_list]\n",
    "filter_button = Combobox(\n",
    "    placeholder=\"Enter coupling filter pattern\",\n",
    "    options=all_resonances,\n",
    "    description=R\"$\\mathcal{H}=0$\",\n",
    ")\n",
    "filter_button.on_submit(set_coupling_to_zero)\n",
    "\n",
    "# UI design\n",
    "latex = {symbol.name: sp.latex(symbol) for symbol in free_parameters}\n",
    "mass_sliders = [sliders[n] for n in sliders if n.startswith(\"m_\")]\n",
    "width_sliders = [sliders[n] for n in sliders if n.startswith(R\"\\Gamma_\")]\n",
    "coupling_sliders = {}\n",
    "for res_list in resonance_particles.values():\n",
    "    for res in res_list:\n",
    "        coupling_sliders[res.name] = (\n",
    "            [\n",
    "                s\n",
    "                for n, s in sliders.items()\n",
    "                if n.endswith(\"_real\") and res.latex in n\n",
    "            ],\n",
    "            [\n",
    "                s\n",
    "                for n, s in sliders.items()\n",
    "                if n.endswith(\"_imag\") and res.latex in n\n",
    "            ],\n",
    "            [\n",
    "                HTMLMath(f\"${latex[n[:-5]]}$\")\n",
    "                for n in sliders\n",
    "                if n.endswith(\"_real\") and res.latex in n\n",
    "            ],\n",
    "        )\n",
    "slider_tabs = Tab(\n",
    "    children=[\n",
    "        Tab(\n",
    "            children=[\n",
    "                VBox([HBox(s) for s in zip(*pair)])\n",
    "                for pair in coupling_sliders.values()\n",
    "            ],\n",
    "            titles=tuple(coupling_sliders),\n",
    "        ),\n",
    "        VBox([HBox([r, i]) for r, i in zip(mass_sliders, width_sliders)]),\n",
    "    ],\n",
    "    titles=(\"Couplings\", \"Masses and widths\"),\n",
    ")\n",
    "ui = VBox([slider_tabs, HBox([reset_button, filter_button])])"
   ]
  },
  {
   "cell_type": "code",
   "execution_count": null,
   "metadata": {
    "jupyter": {
     "source_hidden": true
    },
    "mystnb": {
     "code_prompt_show": "Create interactive plot"
    },
    "tags": [
     "scroll-input",
     "hide-cell",
     "remove-output"
    ]
   },
   "outputs": [],
   "source": [
    "fig, axes = plt.subplots(\n",
    "    figsize=(12, 6.2),\n",
    "    ncols=2,\n",
    "    sharey=True,\n",
    ")\n",
    "ax1, ax2 = axes\n",
    "ax1.set_title(\"Intensity distribution\")\n",
    "ax2.set_title(\"Polarimeter vector field\")\n",
    "ax1.set_xlabel(Rf\"${s1_label[1:-1]}, \\alpha_x$\")\n",
    "ax2.set_xlabel(Rf\"${s1_label[1:-1]}, \\alpha_x$\")\n",
    "ax1.set_ylabel(Rf\"${s2_label[1:-1]}, \\alpha_z$\")\n",
    "for ax in axes:\n",
    "    ax.set_box_aspect(1)\n",
    "fig.canvas.toolbar_visible = False\n",
    "fig.canvas.header_visible = False\n",
    "fig.canvas.footer_visible = False\n",
    "\n",
    "mesh = None\n",
    "quiver = None\n",
    "x, y, mini_phsp = generate_phsp_grid(resolution=35)\n",
    "\n",
    "\n",
    "def plot3(**kwargs):\n",
    "    global quiver, mesh\n",
    "    kwargs = to_complex_kwargs(**kwargs)\n",
    "    for func in list(polarimetry_funcs) + [intensity_func]:\n",
    "        func.update_parameters(kwargs)\n",
    "    intensity = intensity_func(phsp)\n",
    "    αx, αy, αz = tuple(f(mini_phsp).real for f in polarimetry_funcs)\n",
    "    abs_α = jnp.sqrt(αx**2 + αy**2 + αz**2)\n",
    "    if mesh is None:\n",
    "        mesh = ax1.pcolormesh(X, Y, intensity, cmap=plt.cm.Reds)\n",
    "        c_bar = fig.colorbar(mesh, ax=ax1, pad=0.01, fraction=0.0473)\n",
    "        c_bar.ax.set_yticks([])\n",
    "    else:\n",
    "        mesh.set_array(intensity)\n",
    "    if quiver is None:\n",
    "        quiver = ax2.quiver(x, y, αx, αz, abs_α, cmap=plt.cm.viridis_r, clim=(0, 1))\n",
    "        c_bar = fig.colorbar(quiver, ax=ax2, pad=0.01, fraction=0.0473)\n",
    "        c_bar.ax.set_ylabel(R\"$\\left|\\vec\\alpha\\right|$\")\n",
    "    else:\n",
    "        quiver.set_UVC(αx, αz, abs_α)\n",
    "    fig.canvas.draw_idle()\n",
    "\n",
    "\n",
    "def to_complex_kwargs(**kwargs):\n",
    "    complex_valued_kwargs = {}\n",
    "    for key, value in dict(kwargs).items():\n",
    "        if key.endswith(\"real\"):\n",
    "            symbol_name = key[:-5]\n",
    "            imag = kwargs[f\"{symbol_name}_imag\"]\n",
    "            complex_valued_kwargs[symbol_name] = complex(value, imag)\n",
    "        elif key.endswith(\"imag\"):\n",
    "            continue\n",
    "        else:\n",
    "            complex_valued_kwargs[key] = value\n",
    "    return complex_valued_kwargs\n",
    "\n",
    "\n",
    "output = interactive_output(plot3, controls=sliders)\n",
    "fig.tight_layout()\n",
    "display(ui, output)"
   ]
  },
  {
   "cell_type": "code",
   "execution_count": null,
   "metadata": {
    "jupyter": {
     "source_hidden": true
    },
    "tags": [
     "remove-input",
     "full-width"
    ]
   },
   "outputs": [],
   "source": [
    "if STATIC_WEB_PAGE:\n",
    "    filename = \"021-polarimeter-field.png\"\n",
    "    plt.savefig(filename, dpi=200)\n",
    "    display(ui, Image(filename))"
   ]
  }
 ],
 "metadata": {
  "kernelspec": {
   "display_name": "Python 3 (ipykernel)",
   "language": "python",
   "name": "python3"
  },
  "language_info": {
   "codemirror_mode": {
    "name": "ipython",
    "version": 3
   },
   "file_extension": ".py",
   "mimetype": "text/x-python",
   "name": "python",
   "nbconvert_exporter": "python",
   "pygments_lexer": "ipython3",
   "version": "3.8.13"
  }
 },
 "nbformat": 4,
 "nbformat_minor": 4
}
