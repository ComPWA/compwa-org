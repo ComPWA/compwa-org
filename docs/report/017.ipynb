{
 "cells": [
  {
   "cell_type": "code",
   "execution_count": null,
   "metadata": {
    "hideCode": true,
    "hideOutput": true,
    "hidePrompt": true,
    "jupyter": {
     "source_hidden": true
    },
    "slideshow": {
     "slide_type": "skip"
    },
    "tags": [
     "remove-cell"
    ]
   },
   "outputs": [],
   "source": [
    "%config InlineBackend.figure_formats = ['svg']\n",
    "import os\n",
    "\n",
    "STATIC_WEB_PAGE = {\"EXECUTE_NB\", \"READTHEDOCS\"}.intersection(os.environ)"
   ]
  },
  {
   "cell_type": "markdown",
   "metadata": {},
   "source": [
    "```{autolink-concat}\n",
    "```"
   ]
  },
  {
   "cell_type": "markdown",
   "metadata": {},
   "source": [
    "# [TR-017] Polarization sensitivity"
   ]
  },
  {
   "cell_type": "markdown",
   "metadata": {},
   "source": [
    "<!-- cspell:ignore mmikhasenko Remco -->\n",
    "\n",
    ":::{epigraph}\n",
    "\n",
    "Mikhail Mikhasenko [@mmikhasenko](https://github.com/mmikhasenko), Remco de Boer [@redeboer](https://github.com/redeboer)\n",
    "\n",
    ":::\n",
    "\n",
    "\n",
    "\n",
    "```{warning}\n",
    "This report is Work-in-Progress.\n",
    "```\n",
    "\n",
    "```{autolink-skip}\n",
    "```"
   ]
  },
  {
   "cell_type": "code",
   "execution_count": null,
   "metadata": {
    "jupyter": {
     "source_hidden": true
    },
    "tags": [
     "hide-input",
     "remove-output"
    ]
   },
   "outputs": [],
   "source": [
    "%pip -q install ampform==0.14.0 qrules==0.9.7 sympy==1.10.1 tensorwaves[jax,pwa]==0.4.5"
   ]
  },
  {
   "cell_type": "markdown",
   "metadata": {},
   "source": [
    "This report is an attempt to formulate [this report](https://www.overleaf.com/7229968911cjshysdbfjtj) [behind login] on polarization sensitivity in $\\Lambda_c \\to p\\pi K$ with [SymPy](https://docs.sympy.org) and [TensorWaves](https://tensorwaves.rtfd.io)."
   ]
  },
  {
   "cell_type": "code",
   "execution_count": null,
   "metadata": {
    "jupyter": {
     "source_hidden": true
    },
    "tags": [
     "hide-cell"
    ]
   },
   "outputs": [],
   "source": [
    "from __future__ import annotations\n",
    "\n",
    "import itertools\n",
    "import logging\n",
    "\n",
    "import graphviz\n",
    "import matplotlib.pyplot as plt\n",
    "import numpy as np\n",
    "import qrules\n",
    "import sympy as sp\n",
    "from ampform.sympy import (\n",
    "    PoolSum,\n",
    "    UnevaluatedExpression,\n",
    "    create_expression,\n",
    "    implement_doit_method,\n",
    "    make_commutative,\n",
    ")\n",
    "from attrs import frozen\n",
    "from IPython.display import HTML, Math, display\n",
    "from matplotlib.colors import LogNorm\n",
    "from qrules.io import asdot\n",
    "from qrules.particle import Particle, ParticleCollection, create_particle\n",
    "from sympy.physics.quantum.spin import Rotation as Wigner\n",
    "\n",
    "LOGGER = logging.getLogger()\n",
    "LOGGER.setLevel(logging.ERROR)\n",
    "\n",
    "PDG = qrules.load_pdg()\n",
    "\n",
    "\n",
    "def display_definitions(definitions: dict[sp.Symbol, sp.Expr]) -> None:\n",
    "    latex = R\"\\begin{array}{rcl}\" + \"\\n\"\n",
    "    for symbol, expr in definitions.items():\n",
    "        symbol = sp.sympify(symbol)\n",
    "        expr = sp.sympify(expr)\n",
    "        lhs = sp.latex(symbol)\n",
    "        rhs = sp.latex(expr)\n",
    "        latex += Rf\"  {lhs} & = & {rhs} \\\\\" + \"\\n\"\n",
    "    latex += R\"\\end{array}\"\n",
    "    display(Math(latex))\n",
    "\n",
    "\n",
    "def display_doit(\n",
    "    expr: UnevaluatedExpression, deep=False, terms_per_line: int = 10\n",
    ") -> None:\n",
    "    latex = sp.multiline_latex(\n",
    "        lhs=expr,\n",
    "        rhs=expr.doit(deep=deep),\n",
    "        terms_per_line=terms_per_line,\n",
    "        environment=\"eqnarray\",\n",
    "    )\n",
    "    display(Math(latex))"
   ]
  },
  {
   "cell_type": "markdown",
   "metadata": {
    "tags": []
   },
   "source": [
    "## Decay visualization"
   ]
  },
  {
   "cell_type": "markdown",
   "metadata": {},
   "source": [
    "::::{margin}\n",
    ":::{tip}\n",
    "Particle properties of $\\Delta^{**}$, $\\Lambda^{**}$, and $K^{**}$ are determined here.\n",
    ":::\n",
    "::::"
   ]
  },
  {
   "cell_type": "code",
   "execution_count": null,
   "metadata": {
    "jupyter": {
     "source_hidden": true
    },
    "tags": [
     "hide-cell"
    ]
   },
   "outputs": [],
   "source": [
    "p = PDG[\"p\"]\n",
    "K = PDG[\"K-\"]\n",
    "π = PDG[\"pi+\"]\n",
    "Λc = create_particle(\n",
    "    PDG[\"Lambda(c)+\"],\n",
    "    name=\"Λc⁺\",\n",
    ")\n",
    "K_star = create_particle(\n",
    "    PDG[\"K*(892)0\"],\n",
    "    name=\"K*\",\n",
    "    latex=\"K^*\",\n",
    ")\n",
    "Λ_star = create_particle(\n",
    "    PDG[\"Lambda(1520)\"],\n",
    "    name=\"Λ**\",\n",
    "    latex=R\"\\Lambda^{**}\",\n",
    ")\n",
    "Δ_star = create_particle(\n",
    "    PDG[\"Delta(1232)++\"],\n",
    "    name=\"Δ**\",\n",
    "    latex=R\"\\Delta^{**}\",\n",
    ")\n",
    "particle_db = ParticleCollection({Λc, p, K, π, K_star, Λ_star, Δ_star})"
   ]
  },
  {
   "cell_type": "code",
   "execution_count": null,
   "metadata": {},
   "outputs": [],
   "source": [
    "reaction = qrules.generate_transitions(\n",
    "    initial_state=\"Λc⁺\",\n",
    "    final_state=[\"p\", \"pi+\", \"K-\"],\n",
    "    particle_db=particle_db,\n",
    "    formalism=\"canonical\",\n",
    ")"
   ]
  },
  {
   "cell_type": "code",
   "execution_count": null,
   "metadata": {
    "jupyter": {
     "source_hidden": true
    },
    "tags": [
     "hide-input",
     "full-width"
    ]
   },
   "outputs": [],
   "source": [
    "for g in reaction.transition_groups:\n",
    "    dot = qrules.io.asdot(g.transitions, collapse_graphs=True, size=3.6)\n",
    "    graph = graphviz.Source(dot)\n",
    "    display(graph)"
   ]
  },
  {
   "cell_type": "markdown",
   "metadata": {},
   "source": [
    "Allowed $LS$-couplings:"
   ]
  },
  {
   "cell_type": "code",
   "execution_count": null,
   "metadata": {
    "jupyter": {
     "source_hidden": true
    },
    "tags": [
     "hide-input",
     "full-width"
    ]
   },
   "outputs": [],
   "source": [
    "def filter_transitions(resonance_name):\n",
    "    return [\n",
    "        transition\n",
    "        for transition in reaction.transitions\n",
    "        if transition.states[3].particle.name.startswith(resonance_name)\n",
    "    ]\n",
    "\n",
    "\n",
    "style = dict(render_node=True, strip_spin=True, size=6)\n",
    "display(\n",
    "    graphviz.Source(asdot(filter_transitions(\"Λ\"), **style)),\n",
    "    graphviz.Source(asdot(filter_transitions(\"Δ\"), **style)),\n",
    "    graphviz.Source(asdot(filter_transitions(\"K\"), **style)),\n",
    ")"
   ]
  },
  {
   "cell_type": "markdown",
   "metadata": {},
   "source": [
    ":::{warning}\n",
    "Selection rules are not correctly applied here, see [ComPWA/qrules#171](https://github.com/ComPWA/qrules/issues/171).\n",
    ":::"
   ]
  },
  {
   "cell_type": "markdown",
   "metadata": {},
   "source": [
    "## Amplitude model"
   ]
  },
  {
   "cell_type": "markdown",
   "metadata": {},
   "source": [
    "### SymPy implementation of equations"
   ]
  },
  {
   "cell_type": "markdown",
   "metadata": {},
   "source": [
    "#### Aligned amplitude"
   ]
  },
  {
   "cell_type": "code",
   "execution_count": null,
   "metadata": {
    "jupyter": {
     "source_hidden": true
    },
    "tags": [
     "full-width",
     "hide-input"
    ]
   },
   "outputs": [],
   "source": [
    "A_K = sp.IndexedBase(R\"A^K\")\n",
    "A_Λ = sp.IndexedBase(R\"A^{\\Lambda}\")\n",
    "A_Δ = sp.IndexedBase(R\"A^{\\Delta}\")\n",
    "\n",
    "half = sp.S.Half\n",
    "\n",
    "ζ_0_11 = sp.Symbol(R\"\\zeta^0_{1(1)}\", real=True)\n",
    "ζ_0_21 = sp.Symbol(R\"\\zeta^0_{2(1)}\", real=True)\n",
    "ζ_0_31 = sp.Symbol(R\"\\zeta^0_{3(1)}\", real=True)\n",
    "ζ_1_11 = sp.Symbol(R\"\\zeta^1_{1(1)}\", real=True)\n",
    "ζ_1_21 = sp.Symbol(R\"\\zeta^1_{2(1)}\", real=True)\n",
    "ζ_1_31 = sp.Symbol(R\"\\zeta^1_{3(1)}\", real=True)\n",
    "\n",
    "\n",
    "def formulate_aligned_amplitude(λ_Λc, λ_p):\n",
    "    _ν = sp.Symbol(R\"\\nu^{\\prime}\", rational=True)\n",
    "    _λ = sp.Symbol(R\"\\lambda^{\\prime}\", rational=True)\n",
    "    return PoolSum(\n",
    "        A_K[_ν, _λ]\n",
    "        * Wigner.d(half, λ_Λc, _ν, ζ_0_11)\n",
    "        * Wigner.d(half, _λ, λ_p, ζ_1_11)\n",
    "        + A_Λ[_ν, _λ]\n",
    "        * Wigner.d(half, λ_Λc, _ν, ζ_0_21)\n",
    "        * Wigner.d(half, _λ, λ_p, ζ_1_21)\n",
    "        + A_Δ[_ν, _λ]\n",
    "        * Wigner.d(half, λ_Λc, _ν, ζ_0_31)\n",
    "        * Wigner.d(half, _λ, λ_p, ζ_1_31),\n",
    "        (_λ, [-half, +half]),\n",
    "        (_ν, [-half, +half]),\n",
    "    )\n",
    "\n",
    "\n",
    "ν = sp.Symbol(\"nu\")\n",
    "λ = sp.Symbol(\"lambda\")\n",
    "formulate_aligned_amplitude(λ_Λc=ν, λ_p=λ)"
   ]
  },
  {
   "cell_type": "markdown",
   "metadata": {},
   "source": [
    "#### Dynamics"
   ]
  },
  {
   "cell_type": "code",
   "execution_count": null,
   "metadata": {
    "jupyter": {
     "source_hidden": true
    },
    "tags": [
     "hide-input"
    ]
   },
   "outputs": [],
   "source": [
    "@make_commutative\n",
    "@implement_doit_method\n",
    "class BlattWeisskopf(UnevaluatedExpression):\n",
    "    def __new__(cls, z, L, **hints):\n",
    "        return create_expression(cls, z, L, **hints)\n",
    "\n",
    "    def evaluate(self):\n",
    "        z, L = self.args\n",
    "        cases = {\n",
    "            0: 1,\n",
    "            1: 1 / (1 + z**2),\n",
    "            2: 1 / (9 + 3 * z**2 + z**4),\n",
    "        }\n",
    "        return sp.Piecewise(\n",
    "            *[\n",
    "                (sp.sqrt(expr), sp.Eq(L, l_val))\n",
    "                for l_val, expr in cases.items()\n",
    "            ]\n",
    "        )\n",
    "\n",
    "    def _latex(self, printer, *args):\n",
    "        z, L = map(printer._print, self.args)\n",
    "        return Rf\"F_{{{L}}}\\left({z}\\right)\"\n",
    "\n",
    "\n",
    "z = sp.Symbol(\"z\", positive=True)\n",
    "L = sp.Symbol(\"L\", integer=True, nonnegative=True)\n",
    "latex = sp.multiline_latex(BlattWeisskopf(z, L), BlattWeisskopf(z, L).doit())\n",
    "Math(latex)"
   ]
  },
  {
   "cell_type": "code",
   "execution_count": null,
   "metadata": {
    "jupyter": {
     "source_hidden": true
    },
    "tags": [
     "hide-input"
    ]
   },
   "outputs": [],
   "source": [
    "@make_commutative\n",
    "@implement_doit_method\n",
    "class Källén(UnevaluatedExpression):\n",
    "    def __new__(cls, x, y, z, **hints):\n",
    "        return create_expression(cls, x, y, z, **hints)\n",
    "\n",
    "    def evaluate(self) -> sp.Expr:\n",
    "        x, y, z = self.args\n",
    "        return x**2 + y**2 + z**2 - 2 * x * y - 2 * y * z - 2 * z * x\n",
    "\n",
    "    def _latex(self, printer, *args):\n",
    "        x, y, z = map(printer._print, self.args)\n",
    "        return Rf\"\\lambda\\left({x}, {y}, {z}\\right)\"\n",
    "\n",
    "\n",
    "x, y, z = sp.symbols(\"x:z\")\n",
    "display_doit(Källén(x, y, z))"
   ]
  },
  {
   "cell_type": "code",
   "execution_count": null,
   "metadata": {
    "jupyter": {
     "source_hidden": true
    },
    "tags": [
     "hide-input"
    ]
   },
   "outputs": [],
   "source": [
    "@make_commutative\n",
    "@implement_doit_method\n",
    "class P(UnevaluatedExpression):\n",
    "    def __new__(cls, s, mi, mj, **hints):\n",
    "        return create_expression(cls, s, mi, mj, **hints)\n",
    "\n",
    "    def evaluate(self):\n",
    "        s, mi, mj = self.args\n",
    "        return sp.sqrt(Källén(s, mi**2, mj**2)) / (2 * sp.sqrt(s))\n",
    "\n",
    "    def _latex(self, printer, *args):\n",
    "        s = printer._print(self.args[0])\n",
    "        return Rf\"p_{{{s}}}\"\n",
    "\n",
    "\n",
    "@make_commutative\n",
    "@implement_doit_method\n",
    "class Q(UnevaluatedExpression):\n",
    "    def __new__(cls, s, m0, mk, **hints):\n",
    "        return create_expression(cls, s, m0, mk, **hints)\n",
    "\n",
    "    def evaluate(self):\n",
    "        s, m0, mk = self.args\n",
    "        return sp.sqrt(Källén(s, m0**2, mk**2)) / (2 * m0)  # <-- not s!\n",
    "\n",
    "    def _latex(self, printer, *args):\n",
    "        s = printer._print(self.args[0])\n",
    "        return Rf\"q_{{{s}}}\"\n",
    "\n",
    "\n",
    "s, m0, mi, mj, mk = sp.symbols(\"s m0 m_i:k\", nonnegative=True)\n",
    "display_doit(P(s, mi, mj))\n",
    "display_doit(Q(s, m0, mk))"
   ]
  },
  {
   "cell_type": "code",
   "execution_count": null,
   "metadata": {
    "jupyter": {
     "source_hidden": true
    },
    "tags": [
     "hide-input"
    ]
   },
   "outputs": [],
   "source": [
    "R = sp.Symbol(\"R\")\n",
    "parameter_defaults = {\n",
    "    R: 5,  # GeV^{-1} (length factor)\n",
    "}\n",
    "\n",
    "\n",
    "@make_commutative\n",
    "@implement_doit_method\n",
    "class EnergyDependentWidth(UnevaluatedExpression):\n",
    "    def __new__(cls, s, m0, Γ0, m1, m2, L, R):\n",
    "        return create_expression(cls, s, m0, Γ0, m1, m2, L, R)\n",
    "\n",
    "    def evaluate(self):\n",
    "        s, m0, Γ0, m1, m2, L, R = self.args\n",
    "        p = P(s, m1, m2)\n",
    "        p0 = P(m0**2, m1, m2)\n",
    "        ff = BlattWeisskopf(p * R, L) ** 2\n",
    "        ff0 = BlattWeisskopf(p0 * R, L) ** 2\n",
    "        return sp.Mul(\n",
    "            Γ0,\n",
    "            (p / p0) ** (2 * L + 1),\n",
    "            m0 / sp.sqrt(s),\n",
    "            ff / ff0,\n",
    "            evaluate=False,\n",
    "        )\n",
    "\n",
    "    def _latex(self, printer, *args) -> str:\n",
    "        s = printer._print(self.args[0])\n",
    "        return Rf\"\\Gamma\\left({s}\\right)\"\n",
    "\n",
    "\n",
    "l_R = sp.Symbol(\"l_R\", integer=True, positive=True)\n",
    "m, Γ0, m1, m2 = sp.symbols(\"m Γ0 m1 m2\", nonnegative=True)\n",
    "display_doit(EnergyDependentWidth(s, m, Γ0, m1, m2, l_R, R))"
   ]
  },
  {
   "cell_type": "code",
   "execution_count": null,
   "metadata": {
    "jupyter": {
     "source_hidden": true
    },
    "tags": [
     "hide-input"
    ]
   },
   "outputs": [],
   "source": [
    "@make_commutative\n",
    "@implement_doit_method\n",
    "class RelativisticBreitWigner(UnevaluatedExpression):\n",
    "    def __new__(cls, s, m0, Γ0, m1, m2, l_R, l_Λc, l_Λc_min, R):\n",
    "        return create_expression(\n",
    "            cls, s, m0, Γ0, m1, m2, l_R, l_Λc, l_Λc_min, R\n",
    "        )\n",
    "\n",
    "    def evaluate(self):\n",
    "        s, m0, Γ0, m1, m2, l_R, l_Λc, l_Λc_min, R = self.args\n",
    "        q = Q(s, m1, m2)\n",
    "        q0 = Q(m0**2, m1, m2)\n",
    "        p = P(s, m1, m2)\n",
    "        p0 = P(m0**2, m1, m2)\n",
    "        width = EnergyDependentWidth(s, m0, Γ0, m1, m2, l_R, R)\n",
    "        return sp.Mul(\n",
    "            (q / q0) ** l_Λc,\n",
    "            BlattWeisskopf(q * R, l_Λc_min) / BlattWeisskopf(q0 * R, l_Λc_min),\n",
    "            1 / (m0**2 - s - sp.I * m0 * width),\n",
    "            (p / p0) ** l_R,\n",
    "            BlattWeisskopf(p * R, l_R) / BlattWeisskopf(p0 * R, l_R),\n",
    "            evaluate=False,\n",
    "        )\n",
    "\n",
    "    def _latex(self, printer, *args) -> str:\n",
    "        s = printer._print(self.args[0])\n",
    "        return Rf\"\\mathcal{{R}}\\left({s}\\right)\"\n",
    "\n",
    "\n",
    "l_Λc = sp.Symbol(R\"l_{\\Lambda_c}\", integer=True, positive=True)\n",
    "l_Λc_min = sp.Symbol(\n",
    "    R\"{l^{\\mathrm{min}}_{\\Lambda_c}}\", integer=True, positive=True\n",
    ")\n",
    "display_doit(RelativisticBreitWigner(s, m, Γ0, m1, m2, l_R, l_Λc, l_Λc_min, R))"
   ]
  },
  {
   "cell_type": "markdown",
   "metadata": {},
   "source": [
    "#### Unaligned amplitudes"
   ]
  },
  {
   "cell_type": "code",
   "execution_count": null,
   "metadata": {
    "jupyter": {
     "source_hidden": true
    },
    "tags": [
     "scroll-input",
     "hide-input"
    ]
   },
   "outputs": [],
   "source": [
    "H_K_prod = sp.IndexedBase(R\"\\mathcal{H}^{\\Lambda_c \\to K^{**}p}\")\n",
    "H_K_dec = sp.IndexedBase(R\"\\mathcal{H}^{K^{**} \\to \\pi K}\")\n",
    "H_Λ_prod = sp.IndexedBase(R\"\\mathcal{H}^{\\Lambda_c \\to \\Lambda^{**}\\pi}\")\n",
    "H_Λ_dec = sp.IndexedBase(R\"\\mathcal{H}^{\\Lambda^{**} \\to K p}\")\n",
    "H_Δ_prod = sp.IndexedBase(R\"\\mathcal{H}^{\\Lambda_c \\to \\Delta^{**}K}\")\n",
    "H_Δ_dec = sp.IndexedBase(R\"\\mathcal{H}^{\\Delta^{**} \\to p \\pi}\")\n",
    "\n",
    "θ23 = sp.Symbol(\"theta23\", real=True)\n",
    "θ31 = sp.Symbol(\"theta31\", real=True)\n",
    "θ12 = sp.Symbol(\"theta12\", real=True)\n",
    "\n",
    "σ1, σ2, σ3 = sp.symbols(\"sigma1:4\", nonnegative=True)\n",
    "m1, m2, m3 = sp.symbols(\"m1:4\", nonnegative=True)\n",
    "\n",
    "\n",
    "@frozen\n",
    "class Decay:\n",
    "    resonance: Particle\n",
    "    l_R: int\n",
    "    l_Λc: int\n",
    "    l_Λc_min: int\n",
    "\n",
    "\n",
    "def formulate_dynamics(decay: Decay, s, m1, m2):\n",
    "    l_R = sp.Rational(decay.l_R)\n",
    "    l_Λc = sp.Rational(decay.l_Λc)\n",
    "    l_Λc_min = sp.Rational(decay.l_Λc_min)\n",
    "    mass = sp.Symbol(f\"m_{{{decay.resonance.latex}}}\")\n",
    "    width = sp.Symbol(Rf\"\\Gamma_{{{decay.resonance.latex}}}\")\n",
    "    parameter_defaults[mass] = decay.resonance.mass\n",
    "    parameter_defaults[width] = decay.resonance.width\n",
    "    return RelativisticBreitWigner(\n",
    "        s, mass, width, m1, m2, l_R, l_Λc, l_Λc_min, R\n",
    "    )\n",
    "\n",
    "\n",
    "def create_spin_range(j):\n",
    "    spin_range = np.arange(-float(j), +float(j) + 0.5)\n",
    "    return list(map(sp.Rational, spin_range))\n",
    "\n",
    "\n",
    "def formulate_K_amplitude(λ_Λc, λ_p, decays: list[Decay]):\n",
    "    τ = sp.Symbol(\"tau\", rational=True)\n",
    "    return sp.Add(\n",
    "        *[\n",
    "            PoolSum(\n",
    "                sp.KroneckerDelta(λ_Λc, τ - λ_p)\n",
    "                * H_K_prod[τ, λ_p]\n",
    "                * formulate_dynamics(dec, σ1, m2, m3)\n",
    "                * (-1) ** (half - λ_p)\n",
    "                * Wigner.d(sp.Rational(dec.resonance.spin), τ, 0, θ23)\n",
    "                * H_K_dec[0, 0],\n",
    "                (τ, create_spin_range(dec.resonance.spin)),\n",
    "            )\n",
    "            for dec in decays\n",
    "        ]\n",
    "    )\n",
    "\n",
    "\n",
    "def formulate_Λ_amplitude(λ_Λc, λ_p, decays: list[Decay]):\n",
    "    τ = sp.Symbol(\"tau\", rational=True)\n",
    "    return sp.Add(\n",
    "        *[\n",
    "            PoolSum(\n",
    "                sp.KroneckerDelta(λ_Λc, τ)\n",
    "                * H_Λ_prod[τ, 0]\n",
    "                * formulate_dynamics(dec, σ2, m1, m3)\n",
    "                * Wigner.d(sp.Rational(dec.resonance.spin), τ, -λ_p, θ31)\n",
    "                * H_Λ_dec[0, λ_p]\n",
    "                * (-1) ** (half - λ_p),\n",
    "                (τ, create_spin_range(dec.resonance.spin)),\n",
    "            )\n",
    "            for dec in decays\n",
    "        ]\n",
    "    )\n",
    "\n",
    "\n",
    "def formulate_Δ_amplitude(λ_Λc, λ_p, decays: list[Decay]):\n",
    "    τ = sp.Symbol(\"tau\", rational=True)\n",
    "    return sp.Add(\n",
    "        *[\n",
    "            PoolSum(\n",
    "                sp.KroneckerDelta(λ_Λc, τ)\n",
    "                * H_Δ_prod[τ, 0]\n",
    "                * formulate_dynamics(dec, σ3, m1, m2)\n",
    "                * Wigner.d(sp.Rational(dec.resonance.spin), τ, λ_p, θ12)\n",
    "                * H_Δ_dec[λ_p, 0],\n",
    "                (τ, create_spin_range(dec.resonance.spin)),\n",
    "            )\n",
    "            for dec in decays\n",
    "        ]\n",
    "    )\n",
    "\n",
    "\n",
    "display(\n",
    "    formulate_K_amplitude(ν, λ, decays=[Decay(K_star, 1, 0, 0)]),\n",
    "    formulate_Λ_amplitude(ν, λ, decays=[Decay(Λ_star, 1, 1, 1)]),\n",
    "    formulate_Δ_amplitude(ν, λ, decays=[Decay(Δ_star, 2, 1, 1)]),\n",
    ")"
   ]
  },
  {
   "cell_type": "markdown",
   "metadata": {},
   "source": [
    "#### Angle definitions"
   ]
  },
  {
   "cell_type": "markdown",
   "metadata": {},
   "source": [
    "Following relations apply:\n",
    "\n",
    "$$\n",
    "\\begin{eqnarray}\n",
    "  \\zeta^0_{1(1)} &=& \\hat{\\theta}_{1(1)}^{0} = 0 \\\\\n",
    "  \\zeta^0_{2(1)} &=& \\hat{\\theta}_{2(1)} = -\\hat{\\theta}_{1(2)} \\\\\n",
    "  \\zeta^0_{3(1)} &=& \\hat{\\theta}_{3(1)} \\\\\n",
    "  \\zeta^1_{1(1)} &=& 0 \\\\\n",
    "  \\zeta^1_{3(1)} &=& -\\zeta^1_{1(3)} \\\\\n",
    "\\end{eqnarray}\n",
    "$$\n",
    "\n",
    "The remaining angles $\\theta_{12}, \\theta_{23}, \\theta_{13}$ and $\\hat\\theta_{1(2)}, \\hat\\theta_{3(1)}, \\zeta^1_{1(3)}$ can be expressed in terms of Mandelstam variables $\\sigma_1, \\sigma_2, \\sigma_3$ using {cite}`mikhasenkoDalitzplotDecompositionThreebody2020`, Appendix A:"
   ]
  },
  {
   "cell_type": "code",
   "execution_count": null,
   "metadata": {
    "jupyter": {
     "source_hidden": true
    },
    "tags": [
     "scroll-input",
     "hide-input"
    ]
   },
   "outputs": [],
   "source": [
    "m0 = sp.Symbol(\"m0\", nonnegative=True)\n",
    "angles = {\n",
    "    θ12: sp.acos(\n",
    "        (\n",
    "            2 * σ3 * (σ2 - m3**2 - m1**2)\n",
    "            - (σ3 + m1**2 - m2**2) * (m0**2 - σ3 - m3**2)\n",
    "        )\n",
    "        / (\n",
    "            sp.sqrt(Källén(m0**2, m3**2, σ3))\n",
    "            * sp.sqrt(Källén(σ3, m1**2, m2**2))\n",
    "        )\n",
    "    ),\n",
    "    θ23: sp.acos(\n",
    "        (\n",
    "            2 * σ1 * (σ3 - m1**2 - m2**2)\n",
    "            - (σ1 + m2**2 - m3**2) * (m0**2 - σ1 - m1**2)\n",
    "        )\n",
    "        / (\n",
    "            sp.sqrt(Källén(m0**2, m1**2, σ1))\n",
    "            * sp.sqrt(Källén(σ1, m2**2, m3**2))\n",
    "        )\n",
    "    ),\n",
    "    θ31: sp.acos(\n",
    "        (\n",
    "            2 * σ2 * (σ1 - m2**2 - m3**2)\n",
    "            - (σ2 + m3**2 - m1**2) * (m0**2 - σ2 - m2**2)\n",
    "        )\n",
    "        / (\n",
    "            sp.sqrt(Källén(m0**2, m2**2, σ2))\n",
    "            * sp.sqrt(Källén(σ2, m3**2, m1**2))\n",
    "        )\n",
    "    ),\n",
    "    ζ_0_11: sp.S.Zero,  # = \\hat\\theta^0_{1(1)}\n",
    "    ζ_0_21: -sp.acos(  # = -\\hat\\theta^{1(2)}\n",
    "        (\n",
    "            (m0**2 + m1**2 - σ1) * (m0**2 + m2**2 - σ2)\n",
    "            - 2 * m0**2 * (σ3 - m1**2 - m2**2)\n",
    "        )\n",
    "        / (\n",
    "            sp.sqrt(Källén(m0**2, m2**2, σ2))\n",
    "            * sp.sqrt(Källén(m0**2, σ1, m1**2))\n",
    "        )\n",
    "    ),\n",
    "    ζ_0_31: sp.acos(  # = \\hat\\theta^{3(1)}\n",
    "        (\n",
    "            (m0**2 + m3**2 - σ3) * (m0**2 + m1**2 - σ1)\n",
    "            - 2 * m0**2 * (σ2 - m3**2 - m1**2)\n",
    "        )\n",
    "        / (\n",
    "            sp.sqrt(Källén(m0**2, m1**2, σ1))\n",
    "            * sp.sqrt(Källén(m0**2, σ3, m3**2))\n",
    "        )\n",
    "    ),\n",
    "    ζ_1_11: sp.S.Zero,\n",
    "    ζ_1_21: sp.acos(\n",
    "        (\n",
    "            2 * m1**2 * (σ3 - m0**2 - m3**2)\n",
    "            + (m0**2 + m1**2 - σ1) * (σ2 - m1**2 - m3**2)\n",
    "        )\n",
    "        / (\n",
    "            sp.sqrt(Källén(m0**2, m1**2, σ1))\n",
    "            * sp.sqrt(Källén(σ2, m1**2, m3**2))\n",
    "        )\n",
    "    ),\n",
    "    ζ_1_31: -sp.acos(  # = -\\zeta^1_{1(3)}\n",
    "        (\n",
    "            2 * m1**2 * (σ2 - m0**2 - m2**2)\n",
    "            + (m0**2 + m1**2 - σ1) * (σ3 - m1**2 - m2**2)\n",
    "        )\n",
    "        / (\n",
    "            sp.sqrt(Källén(m0**2, m1**2, σ1))\n",
    "            * sp.sqrt(Källén(σ3, m1**2, m2**2))\n",
    "        )\n",
    "    ),\n",
    "}\n",
    "\n",
    "display_definitions(angles)"
   ]
  },
  {
   "cell_type": "markdown",
   "metadata": {},
   "source": [
    "where $m_0$ is the mass of the initial state $\\Lambda_c$ and $m_1, m_2, m_3$ are the masses of $p, \\pi, K$, respectively:"
   ]
  },
  {
   "cell_type": "code",
   "execution_count": null,
   "metadata": {
    "jupyter": {
     "source_hidden": true
    },
    "tags": [
     "hide-input"
    ]
   },
   "outputs": [],
   "source": [
    "masses = {\n",
    "    m0: Λc.mass,\n",
    "    m1: p.mass,\n",
    "    m2: π.mass,\n",
    "    m3: K.mass,\n",
    "}\n",
    "display_definitions(masses)"
   ]
  },
  {
   "cell_type": "markdown",
   "metadata": {
    "tags": []
   },
   "source": [
    "### Combining all definitions"
   ]
  },
  {
   "cell_type": "markdown",
   "metadata": {},
   "source": [
    "#### Intensity expression"
   ]
  },
  {
   "cell_type": "markdown",
   "metadata": {},
   "source": [
    "Incoherent sum of the amplitudes defined by {ref}`report/017:Aligned amplitude`:"
   ]
  },
  {
   "cell_type": "code",
   "execution_count": null,
   "metadata": {
    "tags": [
     "full-width"
    ]
   },
   "outputs": [],
   "source": [
    "top_expr = PoolSum(\n",
    "    sp.Abs(formulate_aligned_amplitude(λ, ν)) ** 2,\n",
    "    (λ, [-half, +half]),\n",
    "    (ν, [-half, +half]),\n",
    ")\n",
    "top_expr"
   ]
  },
  {
   "cell_type": "markdown",
   "metadata": {},
   "source": [
    "Remaining {attr}`~sympy.core.basic.Basic.free_symbols` are indeed the specific amplitudes as defined by {ref}`report/017:Unaligned amplitudes`:"
   ]
  },
  {
   "cell_type": "markdown",
   "metadata": {},
   "source": [
    "The specific amplitudes from {ref}`report/017:Unaligned amplitudes` need to be formulated for each value of $\\nu, \\lambda$, so that they can be substituted in the top expression:"
   ]
  },
  {
   "cell_type": "code",
   "execution_count": null,
   "metadata": {
    "jupyter": {
     "source_hidden": true
    },
    "tags": [
     "hide-input"
    ]
   },
   "outputs": [],
   "source": [
    "decay_chains = []\n",
    "amp_definitions = {}\n",
    "\n",
    "# K**\n",
    "decays = [\n",
    "    Decay(K_star, l_R=1, l_Λc=0, l_Λc_min=0),\n",
    "]\n",
    "decay_chains.extend(decays)\n",
    "for Λc_heli, p_heli in itertools.product([-half, +half], [-half, +half]):\n",
    "    symbol = A_K[Λc_heli, p_heli]\n",
    "    expr = formulate_K_amplitude(ν, λ, decays)\n",
    "    amp_definitions[symbol] = expr.subs({ν: Λc_heli, λ: p_heli})\n",
    "\n",
    "# Lambda**\n",
    "decays = [\n",
    "    Decay(Λ_star, l_R=1, l_Λc=1, l_Λc_min=1),\n",
    "]\n",
    "decay_chains.extend(decays)\n",
    "for Λc_heli, p_heli in itertools.product([-half, +half], [-half, +half]):\n",
    "    symbol = A_Λ[Λc_heli, p_heli]\n",
    "    expr = formulate_Λ_amplitude(ν, λ, decays)\n",
    "    amp_definitions[symbol] = expr.subs({ν: Λc_heli, λ: p_heli})\n",
    "\n",
    "# Delta**\n",
    "decays = [\n",
    "    Decay(Δ_star, l_R=2, l_Λc=1, l_Λc_min=1),\n",
    "]\n",
    "decay_chains.extend(decays)\n",
    "for Λc_heli, p_heli in itertools.product([-half, +half], [-half, +half]):\n",
    "    symbol = A_Δ[Λc_heli, p_heli]\n",
    "    expr = formulate_Δ_amplitude(ν, λ, decays)\n",
    "    amp_definitions[symbol] = expr.subs({ν: Λc_heli, λ: p_heli})\n",
    "\n",
    "display_definitions(amp_definitions)"
   ]
  },
  {
   "cell_type": "code",
   "execution_count": null,
   "metadata": {
    "jupyter": {
     "source_hidden": true
    },
    "tags": [
     "hide-input"
    ]
   },
   "outputs": [],
   "source": [
    "def jp(particle: Particle):\n",
    "    p = \"+\" if particle.parity > 0 else \"-\"\n",
    "    j = sp.Rational(particle.spin)\n",
    "    return Rf\"\\({j}^{p}\\)\"\n",
    "\n",
    "\n",
    "def create_row(*items, typ=\"td\"):\n",
    "    items = map(lambda i: f\"<{typ}>{i}</{typ}>\", items)\n",
    "    return \"<tr>\" + \"\".join(items) + \"</tr>\\n\"\n",
    "\n",
    "\n",
    "column_names = [\n",
    "    \"resonance\",\n",
    "    R\"\\(j^P\\)\",\n",
    "    R\"\\(m\\) (MeV)\",\n",
    "    R\"\\(\\Gamma_0\\) (MeV)\",\n",
    "    R\"\\(l_R\\)\",\n",
    "    R\"\\(l^\\mathrm{min}_{\\Lambda_c}\\)\",\n",
    "]\n",
    "src = \"<table>\\n\"\n",
    "src += create_row(*column_names, typ=\"th\")\n",
    "for dec in decay_chains:\n",
    "    src += create_row(\n",
    "        rf\"\\({dec.resonance.latex}\\)\",\n",
    "        jp(dec.resonance),\n",
    "        int(1e3 * dec.resonance.mass),\n",
    "        int(1e3 * dec.resonance.width),\n",
    "        dec.l_R,\n",
    "        dec.l_Λc_min,\n",
    "    )\n",
    "src += \"</table>\\n\"\n",
    "HTML(src)"
   ]
  },
  {
   "cell_type": "markdown",
   "metadata": {
    "tags": []
   },
   "source": [
    "#### Helicity coupling values"
   ]
  },
  {
   "cell_type": "code",
   "execution_count": null,
   "metadata": {
    "jupyter": {
     "source_hidden": true
    },
    "tags": [
     "hide-input"
    ]
   },
   "outputs": [],
   "source": [
    "dec_couplings = {\n",
    "    # Equations (6-7)\n",
    "    H_Λ_dec[0, half]: 1,\n",
    "    H_Δ_dec[half, 0]: 1,\n",
    "    H_K_dec[0, 0]: 1,\n",
    "    H_Λ_dec[0, -half]: int(-Λ_star.parity) * (-1) ** (Λ_star.spin - 1 / 2),\n",
    "    H_Δ_dec[-half, 0]: int(-Δ_star.parity) * (-1) ** (Δ_star.spin - 1 / 2),\n",
    "}\n",
    "parameter_defaults.update(dec_couplings)\n",
    "display_definitions(dec_couplings)"
   ]
  },
  {
   "cell_type": "code",
   "execution_count": null,
   "metadata": {
    "jupyter": {
     "source_hidden": true
    },
    "tags": []
   },
   "outputs": [],
   "source": [
    "prod_couplings = {\n",
    "    H_K_prod[0, -half]: 1,\n",
    "    H_K_prod[-1, -half]: 1 - 1j,\n",
    "    H_K_prod[+1, +half]: -3 - 3j,\n",
    "    H_K_prod[0, +half]: -1 - 4j,\n",
    "    H_Δ_prod[+half, 0]: -7 + 3j,\n",
    "    H_Δ_prod[-half, 0]: -13 + 5j,\n",
    "    H_Λ_prod[+half, 0]: 1,\n",
    "    H_Λ_prod[-half, 0]: 2j,\n",
    "}\n",
    "display_definitions(prod_couplings)\n",
    "couplings = dict(dec_couplings)\n",
    "couplings.update(prod_couplings)\n",
    "parameter_defaults.update(prod_couplings)"
   ]
  },
  {
   "cell_type": "markdown",
   "metadata": {},
   "source": [
    "After substituting symbols in the expression with the collected `parameter_defaults`, the remaining {attr}`~sympy.core.basic.Basic.free_symbols`  are indeed the Mandelstam variables and final state `masses`:"
   ]
  },
  {
   "cell_type": "code",
   "execution_count": null,
   "metadata": {
    "tags": []
   },
   "outputs": [],
   "source": [
    "evaluated_top_expr = top_expr.doit()\n",
    "amplitude_expr = evaluated_top_expr.xreplace(amp_definitions).doit()\n",
    "amplitude_expr = amplitude_expr.xreplace(amp_definitions).doit()\n",
    "substituted_amp = amplitude_expr.xreplace(angles).xreplace(parameter_defaults)\n",
    "substituted_amp.free_symbols"
   ]
  },
  {
   "cell_type": "code",
   "execution_count": null,
   "metadata": {
    "jupyter": {
     "source_hidden": true
    },
    "tags": []
   },
   "outputs": [],
   "source": [
    "assert len(substituted_amp.free_symbols) == 7"
   ]
  },
  {
   "cell_type": "markdown",
   "metadata": {},
   "source": [
    "## Polarization"
   ]
  },
  {
   "cell_type": "markdown",
   "metadata": {},
   "source": [
    ":::{todo}\n",
    "\n",
    "Formulate Section 2 with [SymPy](https://docs.sympy.org).\n",
    "\n",
    ":::"
   ]
  },
  {
   "cell_type": "markdown",
   "metadata": {},
   "source": [
    "## Computations with TensorWaves\n"
   ]
  },
  {
   "cell_type": "markdown",
   "metadata": {
    "tags": []
   },
   "source": [
    "### Conversion to computational backend"
   ]
  },
  {
   "cell_type": "markdown",
   "metadata": {},
   "source": [
    "The full [expression tree](https://docs.sympy.org/latest/tutorial/manipulation.html) can be converted to a computational, _parametrized_ function as follows. Note that identify all coupling symbols are interpreted as parameters. The remaining symbols (the angles) become arguments to the function."
   ]
  },
  {
   "cell_type": "code",
   "execution_count": null,
   "metadata": {},
   "outputs": [],
   "source": [
    "from tensorwaves.function.sympy import create_parametrized_function\n",
    "\n",
    "func = create_parametrized_function(\n",
    "    amplitude_expr.subs(masses),  # hardcode final state masses\n",
    "    parameters=parameter_defaults,\n",
    "    backend=\"jax\",\n",
    ")"
   ]
  },
  {
   "cell_type": "markdown",
   "metadata": {},
   "source": [
    "Generate phase space sample for $\\Lambda_c \\to p \\pi K$:"
   ]
  },
  {
   "cell_type": "code",
   "execution_count": null,
   "metadata": {
    "tags": [
     "remove-output"
    ]
   },
   "outputs": [],
   "source": [
    "from tensorwaves.data import (\n",
    "    TFPhaseSpaceGenerator,\n",
    "    TFUniformRealNumberGenerator,\n",
    ")\n",
    "\n",
    "rng = TFUniformRealNumberGenerator(seed=0)\n",
    "phsp_generator = TFPhaseSpaceGenerator(\n",
    "    initial_state_mass=masses[m0],\n",
    "    final_state_masses={i: masses[m] for i, m in enumerate([m1, m2, m3], 1)},\n",
    ")\n",
    "phsp = phsp_generator.generate(1_000_000, rng)"
   ]
  },
  {
   "cell_type": "markdown",
   "metadata": {},
   "source": [
    "Values for the angles will be computed form the Mandelstam values with a data transformer for the symbolic angle definitions:"
   ]
  },
  {
   "cell_type": "code",
   "execution_count": null,
   "metadata": {},
   "outputs": [],
   "source": [
    "from tensorwaves.data.transform import SympyDataTransformer\n",
    "\n",
    "kinematic_variables = {\n",
    "    symbol: expression.doit().subs(masses)\n",
    "    for symbol, expression in angles.items()\n",
    "}\n",
    "kinematic_variables.update({s: s for s in [σ1, σ2, σ3]})  # include identity\n",
    "transformer = SympyDataTransformer.from_sympy(\n",
    "    kinematic_variables, backend=\"numpy\"\n",
    ")"
   ]
  },
  {
   "cell_type": "markdown",
   "metadata": {},
   "source": [
    "The three Mandelstam variables $\\sigma_1, \\sigma_2, \\sigma_3$ can be computed from the phase space sample using the data transformer:"
   ]
  },
  {
   "cell_type": "code",
   "execution_count": null,
   "metadata": {
    "tags": []
   },
   "outputs": [],
   "source": [
    "def compute_mass_squared(array):\n",
    "    energy = array[:, 0]\n",
    "    p_vec = array[:, 1:]\n",
    "    return energy**2 - np.sum(p_vec**2, axis=1)\n",
    "\n",
    "\n",
    "data = {\n",
    "    σ1.name: compute_mass_squared(phsp[\"p2\"] + phsp[\"p3\"]),\n",
    "    σ2.name: compute_mass_squared(phsp[\"p3\"] + phsp[\"p1\"]),\n",
    "    σ3.name: compute_mass_squared(phsp[\"p1\"] + phsp[\"p2\"]),\n",
    "}\n",
    "transformed_data = transformer(data)\n",
    "transformed_data"
   ]
  },
  {
   "cell_type": "markdown",
   "metadata": {},
   "source": [
    "### Intensity distributions"
   ]
  },
  {
   "cell_type": "markdown",
   "metadata": {},
   "source": [
    "Finally, all intensities can be computed as follows:\n",
    "\n",
    "```{autolink-skip}\n",
    "```"
   ]
  },
  {
   "cell_type": "code",
   "execution_count": null,
   "metadata": {},
   "outputs": [],
   "source": [
    "%%time\n",
    "transformed_data = transformer(data)\n",
    "intensities = func(transformed_data)\n",
    "intensities"
   ]
  },
  {
   "cell_type": "code",
   "execution_count": null,
   "metadata": {
    "jupyter": {
     "source_hidden": true
    },
    "tags": [
     "hide-input"
    ]
   },
   "outputs": [],
   "source": [
    "s1_label = R\"$\\sigma_1=m^2\\left(K\\pi\\right)$\"\n",
    "s2_label = R\"$\\sigma_2=m^2\\left(pK\\right)$\"\n",
    "s3_label = R\"$\\sigma_3=m^2\\left(p\\pi\\right)$\"\n",
    "\n",
    "fig, ax = plt.subplots(figsize=(8, 6.5))\n",
    "ax.set_title(\"Intensity distribution\")\n",
    "ax.set_xlabel(s1_label)\n",
    "ax.set_ylabel(s2_label)\n",
    "h = ax.hist2d(\n",
    "    data[\"sigma1\"],\n",
    "    data[\"sigma2\"],\n",
    "    weights=np.array(intensities),\n",
    "    bins=100,\n",
    "    norm=LogNorm(),\n",
    ")\n",
    "fig.colorbar(h[3])\n",
    "\n",
    "fig.tight_layout()\n",
    "plt.show()"
   ]
  },
  {
   "cell_type": "code",
   "execution_count": null,
   "metadata": {
    "jupyter": {
     "source_hidden": true
    },
    "tags": [
     "hide-input",
     "full-width"
    ]
   },
   "outputs": [],
   "source": [
    "fig, axes = plt.subplots(figsize=(12, 4), ncols=3)\n",
    "ax1, ax2, ax3 = axes\n",
    "hist_style = dict(bins=100, weights=np.array(intensities), histtype=\"step\")\n",
    "line_style = dict(c=\"red\", linestyle=\"dotted\")\n",
    "\n",
    "ax1.set_xlabel(s1_label)\n",
    "ax2.set_xlabel(s2_label)\n",
    "ax3.set_xlabel(s3_label)\n",
    "ax1.hist(data[\"sigma1\"], **hist_style)\n",
    "ax1.axvline(K_star.mass**2, label=f\"$m_{{{K_star.latex}}}$\", **line_style)\n",
    "ax2.hist(data[\"sigma2\"], **hist_style)\n",
    "ax2.axvline(Λ_star.mass**2, label=f\"$m_{{{Λ_star.latex}}}$\", **line_style)\n",
    "ax3.hist(data[\"sigma3\"], **hist_style)\n",
    "ax3.axvline(Δ_star.mass**2, label=f\"$m_{{{Δ_star.latex}}}$\", **line_style)\n",
    "for ax in axes:\n",
    "    ax.legend()\n",
    "\n",
    "fig.tight_layout()\n",
    "plt.show()"
   ]
  },
  {
   "cell_type": "markdown",
   "metadata": {},
   "source": [
    "### Polarization distributions"
   ]
  },
  {
   "cell_type": "markdown",
   "metadata": {
    "tags": [
     "remove-cell"
    ]
   },
   "source": [
    ":::{todo}\n",
    "\n",
    "Visualize $\\vec{\\alpha}(\\alpha, \\beta, \\gamma, m_{K\\pi}, m_{K\\pi})$ with [`ipywidgets`](https://ipywidgets.readthedocs.io).\n",
    "\n",
    ":::"
   ]
  }
 ],
 "metadata": {
  "kernelspec": {
   "display_name": "Python 3 (ipykernel)",
   "language": "python",
   "name": "python3"
  },
  "language_info": {
   "name": "python",
   "version": "3.8.13"
  }
 },
 "nbformat": 4,
 "nbformat_minor": 4
}
