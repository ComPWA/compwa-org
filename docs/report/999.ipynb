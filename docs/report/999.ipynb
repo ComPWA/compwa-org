{
 "cells": [
  {
   "cell_type": "code",
   "execution_count": null,
   "metadata": {
    "hideCode": true,
    "hideOutput": true,
    "hidePrompt": true,
    "jupyter": {
     "source_hidden": true
    },
    "slideshow": {
     "slide_type": "skip"
    },
    "tags": [
     "remove-cell"
    ]
   },
   "outputs": [],
   "source": [
    "import os\n",
    "\n",
    "STATIC_WEB_PAGE = {\"EXECUTE_NB\", \"READTHEDOCS\"}.intersection(os.environ)"
   ]
  },
  {
   "cell_type": "markdown",
   "metadata": {
    "editable": true,
    "slideshow": {
     "slide_type": ""
    },
    "tags": []
   },
   "source": [
    "```{autolink-concat}\n",
    "```"
   ]
  },
  {
   "cell_type": "markdown",
   "metadata": {
    "editable": true,
    "slideshow": {
     "slide_type": ""
    },
    "tags": [
     "documentation",
     "jupyter",
     "sphinx",
     "3d"
    ]
   },
   "source": [
    "::::{margin}\n",
    ":::{card} Amplitude Analysis with Python basics\n",
    "TR-999\n",
    "^^^\n",
    "+++\n",
    "✅&nbsp;[ComPWA/RUB-EP1-AG#93](https://github.com/ComPWA/RUB-EP1-AG/issues/93)\n",
    ":::\n",
    "::::"
   ]
  },
  {
   "cell_type": "markdown",
   "metadata": {
    "editable": true,
    "slideshow": {
     "slide_type": ""
    },
    "tags": []
   },
   "source": [
    "# Amplitude Analysis 101"
   ]
  },
  {
   "cell_type": "code",
   "execution_count": null,
   "metadata": {
    "editable": true,
    "slideshow": {
     "slide_type": ""
    },
    "tags": [
     "remove-cell"
    ]
   },
   "outputs": [],
   "source": [
    "%pip install -q gdown==4.7.1 matplotlib==3.7.3 numpy==1.24.4 particle==0.23.0 scipy==1.10.1 vector==1.1.1.post1"
   ]
  },
  {
   "cell_type": "code",
   "execution_count": null,
   "metadata": {
    "editable": true,
    "jupyter": {
     "source_hidden": true
    },
    "slideshow": {
     "slide_type": ""
    },
    "tags": [
     "hide-cell"
    ]
   },
   "outputs": [],
   "source": [
    "from __future__ import annotations\n",
    "\n",
    "import warnings\n",
    "\n",
    "import gdown\n",
    "import matplotlib.pyplot as plt\n",
    "import numpy as np\n",
    "import scipy as sp\n",
    "import vector\n",
    "from IPython.display import Markdown\n",
    "from vector.backends.numpy import MomentumNumpy4D\n",
    "\n",
    "warnings.filterwarnings(\"ignore\")"
   ]
  },
  {
   "cell_type": "markdown",
   "metadata": {
    "editable": true,
    "slideshow": {
     "slide_type": ""
    },
    "tags": []
   },
   "source": [
    "## Data distributions"
   ]
  },
  {
   "cell_type": "code",
   "execution_count": null,
   "metadata": {
    "editable": true,
    "slideshow": {
     "slide_type": ""
    },
    "tags": []
   },
   "outputs": [],
   "source": [
    "filename = gdown.cached_download(\n",
    "    url=\"https://indico.ific.uv.es/event/6803/contributions/21223/attachments/11221/15563/Three-particles-3.dat\",\n",
    "    path=\"data/Three-particles-3.dat\",\n",
    "    md5=\"75fedf381f9b62d3210ff200fc63165f\",\n",
    "    quiet=True,\n",
    "    verify=False,\n",
    ")\n",
    "imported_data = np.loadtxt(filename)\n",
    "imported_data.shape"
   ]
  },
  {
   "cell_type": "markdown",
   "metadata": {
    "editable": true,
    "slideshow": {
     "slide_type": ""
    },
    "tags": []
   },
   "source": [
    "Calculations with 4-vectors are performed with the [`vector`](https://vector.readthedocs.io/en/latest/usage/intro.html) package:"
   ]
  },
  {
   "cell_type": "code",
   "execution_count": null,
   "metadata": {
    "editable": true,
    "slideshow": {
     "slide_type": ""
    },
    "tags": []
   },
   "outputs": [],
   "source": [
    "n_final_state = 3\n",
    "pa_data, p1_data, p2_data, p3_data = (\n",
    "    vector.array({\n",
    "        key: imported_data[i::4].T[j]\n",
    "        for j, key in enumerate([\"E\", \"px\", \"py\", \"pz\"])\n",
    "    })\n",
    "    for i in range(n_final_state + 1)\n",
    ")"
   ]
  },
  {
   "cell_type": "code",
   "execution_count": null,
   "metadata": {
    "editable": true,
    "slideshow": {
     "slide_type": ""
    },
    "tags": []
   },
   "outputs": [],
   "source": [
    "p0_data = p1_data + p2_data + p3_data\n",
    "pb_data = p0_data - pa_data\n",
    "\n",
    "p12_data = p1_data + p2_data\n",
    "p23_data = p2_data + p3_data\n",
    "p31_data = p3_data + p1_data\n",
    "\n",
    "s12_data = p12_data.m2\n",
    "s23_data = p23_data.m2\n",
    "s31_data = p31_data.m2"
   ]
  },
  {
   "cell_type": "code",
   "execution_count": null,
   "metadata": {
    "editable": true,
    "jupyter": {
     "source_hidden": true
    },
    "slideshow": {
     "slide_type": ""
    },
    "tags": [
     "hide-input"
    ]
   },
   "outputs": [],
   "source": [
    "np.testing.assert_allclose(p12_data.e**2 - p12_data.p2, s12_data, rtol=1e-5)\n",
    "np.testing.assert_almost_equal(p0_data.p2.max(), 0)  # Test if p0 in CM frame\n",
    "Markdown(f\"The collision energy is **{p0_data.e.mean():.4g} GeV**.\")"
   ]
  },
  {
   "cell_type": "markdown",
   "metadata": {
    "editable": true,
    "slideshow": {
     "slide_type": ""
    },
    "tags": []
   },
   "source": [
    "### Invariant mass"
   ]
  },
  {
   "cell_type": "markdown",
   "metadata": {
    "editable": true,
    "slideshow": {
     "slide_type": ""
    },
    "tags": []
   },
   "source": [
    "The values of $R_{12}$, $R_{23}$, and $R_{31}$ are the position of the resonances as estimated from the Dalitz plot below."
   ]
  },
  {
   "cell_type": "code",
   "execution_count": null,
   "metadata": {
    "editable": true,
    "slideshow": {
     "slide_type": ""
    },
    "tags": []
   },
   "outputs": [],
   "source": [
    "R12 = 1.74\n",
    "R23 = 1.53\n",
    "R31 = 2.45"
   ]
  },
  {
   "cell_type": "code",
   "execution_count": null,
   "metadata": {
    "editable": true,
    "slideshow": {
     "slide_type": ""
    },
    "tags": [
     "full-width",
     "hide-input"
    ]
   },
   "outputs": [],
   "source": [
    "fig, (ax1, ax2) = plt.subplots(figsize=(10, 4), ncols=2)\n",
    "fig.suptitle(\"Dalitz plot – scatter plot\")\n",
    "ax1.scatter(s12_data, s23_data, c=\"black\", s=1e-3)\n",
    "ax1.set_xlabel(R\"$s_{12}\\;\\left[\\mathrm{GeV}^2\\right]$\")\n",
    "ax1.set_ylabel(R\"$s_{23}\\;\\left[\\mathrm{GeV}^2\\right]$\")\n",
    "ax1.axvline(R12, c=\"C0\", ls=\"dashed\", label=\"$R_{12}$\")\n",
    "ax1.axhline(R23, c=\"C1\", ls=\"dashed\", label=\"$R_{23}$\")\n",
    "ax1.legend()\n",
    "ax2.scatter(s31_data, s12_data, c=\"black\", s=1e-3)\n",
    "ax2.set_xlabel(R\"$s_{31}\\;\\left[\\mathrm{GeV}^2\\right]$\")\n",
    "ax2.set_ylabel(R\"$s_{12}\\;\\left[\\mathrm{GeV}^2\\right]$\")\n",
    "ax2.axvline(R31, c=\"C2\", ls=\"dashed\", label=\"$R_{31}$\")\n",
    "ax2.axhline(R12, c=\"C0\", ls=\"dashed\", label=\"$R_{12}$\")\n",
    "ax2.legend()\n",
    "fig.tight_layout()\n",
    "plt.show()"
   ]
  },
  {
   "cell_type": "code",
   "execution_count": null,
   "metadata": {
    "editable": true,
    "jupyter": {
     "source_hidden": true
    },
    "slideshow": {
     "slide_type": ""
    },
    "tags": [
     "hide-input"
    ]
   },
   "outputs": [],
   "source": [
    "fig, ax = plt.subplots()\n",
    "fig.suptitle(\"Dalitz plot – histogram\")\n",
    "ax.hist2d(s12_data, s23_data, bins=100, cmin=1e-6)\n",
    "ax.set_xlabel(R\"$s_{12}\\;\\left[\\mathrm{GeV}^2\\right]$\")\n",
    "ax.set_ylabel(R\"$s_{23}\\;\\left[\\mathrm{GeV}^2\\right]$\")\n",
    "fig.tight_layout()\n",
    "plt.show()"
   ]
  },
  {
   "cell_type": "code",
   "execution_count": null,
   "metadata": {
    "editable": true,
    "slideshow": {
     "slide_type": ""
    },
    "tags": [
     "hide-input",
     "full-width"
    ]
   },
   "outputs": [],
   "source": [
    "fig, (ax1, ax2, ax3) = plt.subplots(figsize=(12, 4), ncols=3)\n",
    "fig.suptitle(\"1D histogram of $s_{12}, s_{23}$, and $s_{31}$\")\n",
    "ax1.hist(s12_data, bins=100, color=\"black\", histtype=\"step\")\n",
    "ax1.set_xlabel(R\"$s_{12}$\")\n",
    "ax1.set_ylabel(\"counts\")\n",
    "ax1.axvline(R12, c=\"C0\", ls=\"dashed\", label=\"$R_{12}$\")\n",
    "ax1.legend()\n",
    "\n",
    "ax2.hist(s23_data, bins=100, color=\"black\", histtype=\"step\")\n",
    "ax2.set_xlabel(R\"$s_{23}$\")\n",
    "ax2.set_ylabel(\"counts\")\n",
    "ax2.axvline(R23, c=\"C1\", ls=\"dashed\", label=\"$R_{23}$\")\n",
    "ax2.legend()\n",
    "\n",
    "ax3.hist(s31_data, bins=100, color=\"black\", histtype=\"step\")\n",
    "ax3.set_xlabel(R\"$s_{31}$\")\n",
    "ax3.set_ylabel(\"counts\")\n",
    "ax3.axvline(R31, c=\"C2\", ls=\"dashed\", label=\"$R_{31}$\")\n",
    "ax3.legend()\n",
    "\n",
    "fig.tight_layout()\n",
    "plt.show()"
   ]
  },
  {
   "cell_type": "markdown",
   "metadata": {
    "editable": true,
    "slideshow": {
     "slide_type": ""
    },
    "tags": []
   },
   "source": [
    "### Phase space"
   ]
  },
  {
   "cell_type": "code",
   "execution_count": null,
   "metadata": {
    "editable": true,
    "jupyter": {
     "source_hidden": true
    },
    "slideshow": {
     "slide_type": ""
    },
    "tags": []
   },
   "outputs": [],
   "source": [
    "filename = gdown.cached_download(\n",
    "    url=\"https://indico.ific.uv.es/event/6803/contributions/21220/attachments/11209/15505/Three-particles-flat.dat\",\n",
    "    path=\"data/Three-particles-flat.dat\",\n",
    "    md5=\"7624074870c22b57581e5c54a1b93754\",\n",
    "    quiet=True,\n",
    "    verify=False,\n",
    ")\n",
    "imported_phsp = np.loadtxt(filename)\n",
    "imported_phsp.shape"
   ]
  },
  {
   "cell_type": "code",
   "execution_count": null,
   "metadata": {
    "editable": true,
    "slideshow": {
     "slide_type": ""
    },
    "tags": []
   },
   "outputs": [],
   "source": [
    "pa, p1, p2, p3 = (\n",
    "    vector.array({\n",
    "        key: imported_phsp[i::4].T[j]\n",
    "        for j, key in enumerate([\"E\", \"px\", \"py\", \"pz\"])\n",
    "    })\n",
    "    for i in range(n_final_state + 1)\n",
    ")"
   ]
  },
  {
   "cell_type": "code",
   "execution_count": null,
   "metadata": {
    "editable": true,
    "slideshow": {
     "slide_type": ""
    },
    "tags": []
   },
   "outputs": [],
   "source": [
    "p0 = p1 + p2 + p3\n",
    "pb = p0 - pa\n",
    "\n",
    "p12 = p1 + p2\n",
    "p23 = p2 + p3\n",
    "p31 = p3 + p1\n",
    "\n",
    "s12 = p12.m2\n",
    "s23 = p23.m2\n",
    "s31 = p31.m2"
   ]
  },
  {
   "cell_type": "code",
   "execution_count": null,
   "metadata": {
    "editable": true,
    "jupyter": {
     "source_hidden": true
    },
    "slideshow": {
     "slide_type": ""
    },
    "tags": []
   },
   "outputs": [],
   "source": [
    "np.testing.assert_almost_equal(p0.p2.max(), 0)\n",
    "np.testing.assert_almost_equal(p0_data.e.mean(), p0.e.mean())"
   ]
  },
  {
   "cell_type": "code",
   "execution_count": null,
   "metadata": {},
   "outputs": [],
   "source": [
    "def boost(p: MomentumNumpy4D, boost_p: MomentumNumpy4D) -> MomentumNumpy4D:\n",
    "    return p.boost_beta3(boost_p.to_beta3())\n",
    "\n",
    "\n",
    "def flip(p: MomentumNumpy4D) -> MomentumNumpy4D:\n",
    "    return MomentumNumpy4D(\n",
    "        vector.array({\"E\": p.e, \"px\": -p.px, \"py\": -p.py, \"pz\": -p.pz})\n",
    "    )"
   ]
  },
  {
   "cell_type": "code",
   "execution_count": null,
   "metadata": {},
   "outputs": [],
   "source": [
    "p1_rest = boost(p1, flip(p1))\n",
    "np.testing.assert_almost_equal(p1_rest.p.mean(), 0)\n",
    "np.testing.assert_almost_equal(p1_rest.e.std(), 0, decimal=6)\n",
    "np.testing.assert_array_almost_equal(p1_rest.e, p1.m)"
   ]
  },
  {
   "cell_type": "code",
   "execution_count": null,
   "metadata": {
    "editable": true,
    "jupyter": {
     "source_hidden": true
    },
    "slideshow": {
     "slide_type": ""
    },
    "tags": [
     "full-width",
     "hide-input"
    ]
   },
   "outputs": [],
   "source": [
    "fig, ax = plt.subplots()\n",
    "fig.suptitle(\"Dalitz plot – histogram\")\n",
    "ax.hist2d(s12, s23, bins=100, cmin=1)\n",
    "ax.set_xlabel(R\"$s_{12}\\;\\left[\\mathrm{GeV}^2\\right]$\")\n",
    "ax.set_ylabel(R\"$s_{23}\\;\\left[\\mathrm{GeV}^2\\right]$\")\n",
    "fig.tight_layout()\n",
    "plt.show()"
   ]
  },
  {
   "cell_type": "markdown",
   "metadata": {
    "editable": true,
    "slideshow": {
     "slide_type": ""
    },
    "tags": []
   },
   "source": [
    "### Angular distributions"
   ]
  },
  {
   "cell_type": "markdown",
   "metadata": {
    "editable": true,
    "slideshow": {
     "slide_type": ""
    },
    "tags": []
   },
   "source": [
    "Before boosting"
   ]
  },
  {
   "cell_type": "markdown",
   "metadata": {
    "editable": true,
    "slideshow": {
     "slide_type": ""
    },
    "tags": []
   },
   "source": [
    "<iframe src=\"https://www.geogebra.org/3d/dgjn83pb?embed\" width=\"800\" height=\"600\" allowfullscreen style=\"border: 1px solid #e4e4e4;border-radius: 4px;\" frameborder=\"0\"></iframe>"
   ]
  },
  {
   "cell_type": "markdown",
   "metadata": {
    "editable": true,
    "slideshow": {
     "slide_type": ""
    },
    "tags": []
   },
   "source": [
    "After Boosted into system$_{12}$ rest frame"
   ]
  },
  {
   "cell_type": "markdown",
   "metadata": {},
   "source": [
    "<iframe src=\"https://www.geogebra.org/3d/tv5kr8pp?embed\" width=\"800\" height=\"600\" allowfullscreen style=\"border: 1px solid #e4e4e4;border-radius: 4px;\" frameborder=\"0\"></iframe>"
   ]
  },
  {
   "cell_type": "markdown",
   "metadata": {},
   "source": [
    "The helicity angle between decay product before boost:"
   ]
  },
  {
   "cell_type": "markdown",
   "metadata": {
    "editable": true,
    "slideshow": {
     "slide_type": ""
    },
    "tags": []
   },
   "source": [
    "The helicity angles $\\Omega_i$ are pairs of Euler angles $\\Omega_i = \\left(\\theta_i, \\phi_i\\right)$:\n",
    "- Opening angle $\\theta_1 \\equiv \\theta^{12}_1$ of four-momentum $p_1$ is the angle between $p'_1 \\equiv p^{12}_1$ and $p_{12}$.\n",
    "- The angle $\\phi_1 \\equiv \\phi^{12}_1$ defines the angle between the **production plane** spanned by $p_{12}$ and $p_3$ and the **decay plane** spanned by $p^{(\\prime)}_1$ and $p^{(\\prime)}_2$.\n",
    "\n",
    "The helicity angles of the other subsystems are defined by cyclic permutation of the indices, such that $\\theta_2 \\equiv \\theta^{12}_2$ and $\\theta_3 \\equiv \\theta^{31}_1$."
   ]
  },
  {
   "cell_type": "code",
   "execution_count": null,
   "metadata": {
    "editable": true,
    "slideshow": {
     "slide_type": ""
    },
    "tags": [
     "remove-cell"
    ]
   },
   "outputs": [],
   "source": [
    "np.testing.assert_array_almost_equal(p1.theta, np.arccos(p1.z / p1.p))\n",
    "np.testing.assert_array_almost_equal(p1.phi, np.arctan2(p1.y, p1.x))"
   ]
  },
  {
   "cell_type": "code",
   "execution_count": null,
   "metadata": {
    "editable": true,
    "slideshow": {
     "slide_type": ""
    },
    "tags": []
   },
   "outputs": [],
   "source": [
    "theta1 = p1.rotateZ(-p12.phi).rotateY(-p12.theta).boostZ(p12.beta).theta\n",
    "theta2 = p2.rotateZ(-p23.phi).rotateY(-p23.theta).boostZ(p23.beta).theta\n",
    "theta3 = p3.rotateZ(-p31.phi).rotateY(-p31.theta).boostZ(p31.beta).theta\n",
    "\n",
    "theta1_data = (\n",
    "    p1_data.rotateZ(-p12_data.phi).rotateY(-p12_data.theta).boostZ(p12_data.beta)\n",
    ").theta\n",
    "theta2_data = (\n",
    "    p2_data.rotateZ(-p23_data.phi).rotateY(-p23_data.theta).boostZ(p23_data.beta)\n",
    ").theta\n",
    "theta3_data = (\n",
    "    p3_data.rotateZ(-p31_data.phi).rotateY(-p31_data.theta).boostZ(p31_data.beta)\n",
    ").theta"
   ]
  },
  {
   "cell_type": "code",
   "execution_count": null,
   "metadata": {
    "editable": true,
    "slideshow": {
     "slide_type": ""
    },
    "tags": []
   },
   "outputs": [],
   "source": [
    "phi1_data = (\n",
    "    p1_data.rotateZ(-p12_data.phi).rotateY(-p12_data.theta).boostZ(p12_data.beta).phi\n",
    ")\n",
    "phi2_data = (\n",
    "    p2_data.rotateZ(-p23_data.phi).rotateY(-p23_data.theta).boostZ(p23_data.beta).phi\n",
    ")\n",
    "phi3_data = (\n",
    "    p3_data.rotateZ(-p31_data.phi).rotateY(-p31_data.theta).boostZ(p31_data.beta).phi\n",
    ")\n",
    "\n",
    "phi1 = p1.rotateZ(-p12.phi).rotateY(-p12.theta).boostZ(p12.beta).phi\n",
    "phi2 = p2.rotateZ(-p23.phi).rotateY(-p23.theta).boostZ(p23.beta).phi\n",
    "phi3 = p3.rotateZ(-p31.phi).rotateY(-p31.theta).boostZ(p31.beta).phi"
   ]
  },
  {
   "cell_type": "code",
   "execution_count": null,
   "metadata": {
    "editable": true,
    "slideshow": {
     "slide_type": ""
    },
    "tags": [
     "full-width",
     "hide-input"
    ]
   },
   "outputs": [],
   "source": [
    "fig, (theta_ax, phi_ax) = plt.subplots(figsize=(13, 8), ncols=3, nrows=2)\n",
    "for i, ax in enumerate(theta_ax, 1):\n",
    "    ax.set_title(Rf\"$\\theta_{i}$\")\n",
    "    ax.set_xticks([0, np.pi / 2, np.pi])\n",
    "    ax.set_xticklabels([\"0\", R\"$\\frac{\\pi}{2}$\", R\"$\\pi$\"])\n",
    "for i, ax in enumerate(phi_ax, 1):\n",
    "    ax.set_title(Rf\"$\\phi_{i}$\")\n",
    "    ax.set_xticks([-np.pi, 0, np.pi])\n",
    "    ax.set_xticklabels([R\"-$\\pi$\", 0, R\"$\\pi$\"])\n",
    "theta_ax[0].hist(theta1_data, bins=100, label=\"data\")\n",
    "theta_ax[1].hist(theta2_data, bins=100, label=\"data\")\n",
    "theta_ax[2].hist(theta3_data, bins=100, label=\"data\")\n",
    "theta_ax[0].hist(theta1, bins=100, color=\"red\", histtype=\"step\", label=\"phsp\")\n",
    "theta_ax[1].hist(theta2, bins=100, color=\"red\", histtype=\"step\", label=\"phsp\")\n",
    "theta_ax[2].hist(theta3, bins=100, color=\"red\", histtype=\"step\", label=\"phsp\")\n",
    "phi_ax[0].hist(phi1_data, bins=100, label=\"data\")\n",
    "phi_ax[1].hist(phi2_data, bins=100, label=\"data\")\n",
    "phi_ax[2].hist(phi3_data, bins=100, label=\"data\")\n",
    "phi_ax[0].hist(phi1, bins=100, color=\"red\", histtype=\"step\", label=\"phsp\")\n",
    "phi_ax[1].hist(phi2, bins=100, color=\"red\", histtype=\"step\", label=\"phsp\")\n",
    "phi_ax[2].hist(phi3, bins=100, color=\"red\", histtype=\"step\", label=\"phsp\")\n",
    "theta_ax[0].legend()\n",
    "phi_ax[0].legend()\n",
    "theta_ax[1].legend()\n",
    "phi_ax[1].legend()\n",
    "theta_ax[2].legend()\n",
    "phi_ax[2].legend()\n",
    "fig.suptitle(R\"Helicity angles\")\n",
    "fig.tight_layout()\n",
    "plt.show()"
   ]
  },
  {
   "cell_type": "code",
   "execution_count": null,
   "metadata": {
    "editable": true,
    "jupyter": {
     "source_hidden": true
    },
    "slideshow": {
     "slide_type": ""
    },
    "tags": [
     "full-width",
     "hide-input"
    ]
   },
   "outputs": [],
   "source": [
    "def plot_helicity_angles_2d(\n",
    "    phi1, phi2, phi3, theta1, theta2, theta3, title: str\n",
    ") -> None:\n",
    "    fig, axes = plt.subplots(figsize=(13, 4), ncols=3, sharey=True)\n",
    "    for i, ax in enumerate(axes, 1):\n",
    "        ax.set_xlabel(Rf\"$\\theta_{i}$\")\n",
    "        ax.set_ylabel(Rf\"$\\phi_{i}$\")\n",
    "    axes[0].hist2d(theta1[~np.isnan(phi1)], phi1[~np.isnan(phi1)], bins=100)\n",
    "    axes[1].hist2d(theta2[~np.isnan(phi2)], phi2[~np.isnan(phi2)], bins=100)\n",
    "    axes[2].hist2d(theta3[~np.isnan(phi3)], phi3[~np.isnan(phi3)], bins=100)\n",
    "    fig.suptitle(title)\n",
    "    fig.tight_layout()\n",
    "    plt.show()\n",
    "\n",
    "\n",
    "plot_helicity_angles_2d(\n",
    "    phi1, phi2, phi3, theta1, theta2, theta3, title=\"Phase space\"\n",
    ")\n",
    "plot_helicity_angles_2d(\n",
    "    phi1_data,\n",
    "    phi2_data,\n",
    "    phi3_data,\n",
    "    theta1_data,\n",
    "    theta2_data,\n",
    "    theta3_data,\n",
    "    title=\"Data\",\n",
    ")"
   ]
  },
  {
   "cell_type": "markdown",
   "metadata": {
    "editable": true,
    "slideshow": {
     "slide_type": ""
    },
    "tags": []
   },
   "source": [
    "## Amplitude model"
   ]
  },
  {
   "cell_type": "markdown",
   "metadata": {
    "editable": true,
    "slideshow": {
     "slide_type": ""
    },
    "tags": [
     "full-width"
    ]
   },
   "source": [
    "```{image} https://github.com/ComPWA/compwa-org/assets/17490173/ec6bf191-bd5f-43b0-a6cb-da470b071630\n",
    ":width: 100%\n",
    "```"
   ]
  },
  {
   "cell_type": "markdown",
   "metadata": {
    "editable": true,
    "slideshow": {
     "slide_type": ""
    },
    "tags": []
   },
   "source": [
    "$$\n",
    "\\begin{eqnarray}\n",
    "I &=& |A|^2 \\\\\n",
    "A &=& A^{12} + A^{23} + A^{31} \\\\\n",
    "&1 \\equiv \\eta ; \\quad  2 \\equiv \\pi^0 ; \\quad 3 \\equiv p \\\\\n",
    "A^{12} &=& \\frac{\\sum a_m Y_2^m (\\Omega_1)}{s-m^2_{a_2}+im_{a_2} \\Gamma_{a_2}} \\times s^{0.5+0.9u_3} \\\\\n",
    "A^{23} &=& \\frac{\\sum b_m Y_1^m (\\Omega_2)}{s-m^2_{\\Delta}+im_{\\Delta} \\Gamma_{\\Delta}} \\times s^{0.5+0.9t_1} \\\\\n",
    "A^{31} &=& \\frac{c_0}{s-m^2_{N^*}+im_{N^*} \\Gamma_{N^*}} \\times s^{1.08+0.2t_2} \\\\\n",
    "\\end{eqnarray}\n",
    "$$\n",
    "\n",
    "where $s, t, u$ are the Mandelstam variables $s_{ij}=(p_i+p_j)^2$, $t_i=(p_a-p_i)^2$, and $u_i=(p_b-p_i)^2$."
   ]
  },
  {
   "cell_type": "code",
   "execution_count": null,
   "metadata": {
    "editable": true,
    "slideshow": {
     "slide_type": ""
    },
    "tags": []
   },
   "outputs": [],
   "source": [
    "def BW(s, m, Gamma):\n",
    "    return 1 / (s - m**2 + m * Gamma * 1j)"
   ]
  },
  {
   "cell_type": "code",
   "execution_count": null,
   "metadata": {
    "editable": true,
    "slideshow": {
     "slide_type": ""
    },
    "tags": []
   },
   "outputs": [],
   "source": [
    "u3 = (pb - p3).m2\n",
    "t1 = (pa - p1).m2\n",
    "t2 = (pa - p2).m2"
   ]
  },
  {
   "cell_type": "markdown",
   "metadata": {
    "editable": true,
    "slideshow": {
     "slide_type": ""
    },
    "tags": []
   },
   "source": [
    "The Helicity angle between decay products(Polar Angles):\n",
    "\n",
    "$$\n",
    "\\theta = \\arccos \\frac{p_z}{|p|}\n",
    "$$"
   ]
  },
  {
   "cell_type": "code",
   "execution_count": null,
   "metadata": {
    "editable": true,
    "slideshow": {
     "slide_type": ""
    },
    "tags": [
     "hide-cell"
    ]
   },
   "outputs": [],
   "source": [
    "theta_a = np.arccos(pa.pz / pa.p)\n",
    "theta_1 = np.arccos(p1.pz / p1.p)\n",
    "theta_2 = np.arccos(p2.pz / p2.p)\n",
    "theta_3 = np.arccos(p3.pz / p3.p)"
   ]
  },
  {
   "cell_type": "markdown",
   "metadata": {
    "editable": true,
    "slideshow": {
     "slide_type": ""
    },
    "tags": []
   },
   "source": [
    "The Helicity angle with the production plane and decay plane(Azimuthal Angles):\n",
    "\n",
    "$$\n",
    "\\phi = \\arctan2(p_y , p_x)\n",
    "$$"
   ]
  },
  {
   "cell_type": "code",
   "execution_count": null,
   "metadata": {
    "editable": true,
    "slideshow": {
     "slide_type": ""
    },
    "tags": [
     "hide-cell"
    ]
   },
   "outputs": [],
   "source": [
    "phi_a = np.arctan2(pa.py, pa.px)\n",
    "phi_1 = np.arctan2(p1.py, p1.px)\n",
    "phi_2 = np.arctan2(p2.py, p2.px)\n",
    "phi_3 = np.arctan2(p3.py, p3.px)"
   ]
  },
  {
   "cell_type": "markdown",
   "metadata": {
    "editable": true,
    "slideshow": {
     "slide_type": ""
    },
    "tags": []
   },
   "source": [
    "$Y_l^m(\\phi, \\theta)$ is `scipy.special.sph_harm(m, l, phi, theta)`\n",
    "\n",
    "$Y_l^m(\\phi, \\theta) = \\sqrt{\\frac{2n+1}{4\\pi}\\frac{(n-m)!}{(n+m)!}}e^{im\\phi}P_l^m(\\cos(\\theta))$\n",
    "\n",
    "here the notation of $\\theta$ and $\\phi$ are not using the same as in `scipy`\n",
    "\n",
    "where \n",
    "$\\phi$ is the azimuthal  from -$\\pi$ to $\\pi$ (in `scipy` it is $\\theta$ and from 0 to $2\\pi$)\n",
    "\n",
    "$\\theta$ is the polar angle from 0 to $\\pi$ (in `scipy` it is $\\phi$)"
   ]
  },
  {
   "cell_type": "markdown",
   "metadata": {
    "editable": true,
    "slideshow": {
     "slide_type": ""
    },
    "tags": []
   },
   "source": [
    "Spherical harmonics "
   ]
  },
  {
   "cell_type": "code",
   "execution_count": null,
   "metadata": {
    "editable": true,
    "slideshow": {
     "slide_type": ""
    },
    "tags": [
     "hide-input"
    ]
   },
   "outputs": [],
   "source": [
    "def compute_spherical_harmonics12(theta: np.ndarray, phi: np.ndarray) -> np.ndarray:\n",
    "    return (\n",
    "        2.5 * sp.special.sph_harm(2, 2, theta, phi)\n",
    "        + 4 * sp.special.sph_harm(1, 2, theta, phi)\n",
    "        + 3.5 * sp.special.sph_harm(0, 2, theta, phi)\n",
    "        + 0.5 * sp.special.sph_harm(-1, 2, theta, phi)\n",
    "        + 0 * sp.special.sph_harm(-2, 2, theta, phi)\n",
    "    )"
   ]
  },
  {
   "cell_type": "code",
   "execution_count": null,
   "metadata": {
    "editable": true,
    "slideshow": {
     "slide_type": ""
    },
    "tags": []
   },
   "outputs": [],
   "source": [
    "PHI, THETA = np.meshgrid(\n",
    "    np.linspace(-np.pi, +np.pi, num=1_000),\n",
    "    np.linspace(0, np.pi, num=1_000),\n",
    ")\n",
    "Z = compute_spherical_harmonics12(PHI, THETA)"
   ]
  },
  {
   "cell_type": "code",
   "execution_count": null,
   "metadata": {
    "editable": true,
    "jupyter": {
     "source_hidden": true
    },
    "slideshow": {
     "slide_type": ""
    },
    "tags": [
     "hide-input",
     "full-width"
    ]
   },
   "outputs": [],
   "source": [
    "fig, axes = plt.subplots(figsize=(10, 4), ncols=2, sharey=True, dpi=120)\n",
    "cmap_real = axes[0].pcolormesh(\n",
    "    np.degrees(PHI), np.degrees(THETA), Z.real, cmap=plt.cm.coolwarm\n",
    ")\n",
    "cmap_imag = axes[1].pcolormesh(\n",
    "    np.degrees(PHI), np.degrees(THETA), Z.imag, cmap=plt.cm.coolwarm\n",
    ")\n",
    "\n",
    "axes[0].set_xlabel(R\"$\\phi$ [deg]\")\n",
    "axes[0].set_ylabel(R\"$\\theta$ [deg]\")\n",
    "axes[0].set_title(R\"Real Part of $\\sum a_m Y_2^m (\\Omega_1)$\")\n",
    "axes[0].set_ylabel(R\"$\\theta$ [deg]\")\n",
    "axes[1].set_xlabel(R\"$\\phi$ [deg]\")\n",
    "axes[1].set_title(R\"Imaginary Part of $\\sum a_m Y_2^m (\\Omega_1)$\")\n",
    "\n",
    "cbar_real = fig.colorbar(cmap_real, ax=axes[0])\n",
    "cbar_imag = fig.colorbar(cmap_imag, ax=axes[1])\n",
    "\n",
    "fig.subplots_adjust(wspace=0.4, hspace=0.4)\n",
    "fig.tight_layout()\n",
    "plt.rcParams.update({\"font.size\": 10})\n",
    "plt.show()"
   ]
  },
  {
   "cell_type": "code",
   "execution_count": null,
   "metadata": {
    "editable": true,
    "jupyter": {
     "source_hidden": true
    },
    "slideshow": {
     "slide_type": ""
    },
    "tags": [
     "remove-cell",
     "hide-input",
     "hide-output"
    ]
   },
   "outputs": [],
   "source": [
    "plt.hist2d(\n",
    "    p12.phi,\n",
    "    p12.theta,\n",
    "    bins=100,\n",
    "    weights=compute_spherical_harmonics12(p12.phi, p12.theta).real,\n",
    "    cmap=plt.cm.coolwarm,\n",
    ")\n",
    "plt.title(\"$p_{12}$ with real part of spherical harmonics as weights in histogram\")\n",
    "plt.xlabel(R\"$\\phi$\")\n",
    "plt.ylabel(R\"$\\theta$\")\n",
    "plt.show()"
   ]
  },
  {
   "cell_type": "code",
   "execution_count": null,
   "metadata": {
    "editable": true,
    "slideshow": {
     "slide_type": ""
    },
    "tags": []
   },
   "outputs": [],
   "source": [
    "def compute_spherical_harmonics23(theta: np.ndarray, phi: np.ndarray) -> np.ndarray:\n",
    "    return (\n",
    "        0.5 * sp.special.sph_harm(1, 1, theta, phi)\n",
    "        + 4 * sp.special.sph_harm(0, 1, theta, phi)\n",
    "        - 1.5 * sp.special.sph_harm(-1, 1, theta, phi)\n",
    "    )"
   ]
  },
  {
   "cell_type": "code",
   "execution_count": null,
   "metadata": {
    "editable": true,
    "jupyter": {
     "source_hidden": true
    },
    "slideshow": {
     "slide_type": ""
    },
    "tags": [
     "hide-input",
     "full-width"
    ]
   },
   "outputs": [],
   "source": [
    "fig, axes = plt.subplots(figsize=(10, 4), ncols=2, sharey=True, dpi=120)\n",
    "cmap_real = axes[0].pcolormesh(\n",
    "    np.degrees(PHI), np.degrees(THETA), Z.real, cmap=plt.cm.coolwarm\n",
    ")\n",
    "cmap_imag = axes[1].pcolormesh(\n",
    "    np.degrees(PHI), np.degrees(THETA), Z.imag, cmap=plt.cm.coolwarm\n",
    ")\n",
    "\n",
    "axes[0].set_xlabel(R\"$\\phi$ [deg]\")\n",
    "axes[0].set_ylabel(R\"$\\theta$ [deg]\")\n",
    "axes[0].set_title(R\"Real Part of $\\sum b_m Y_1^m (\\Omega_2)$\")\n",
    "axes[0].set_ylabel(R\"$\\theta$ [deg]\")\n",
    "axes[1].set_xlabel(R\"$\\phi$ [deg]\")\n",
    "axes[1].set_title(R\"Imaginary Part of $\\sum b_m Y_1^m (\\Omega_2)$\")\n",
    "\n",
    "cbar_real = fig.colorbar(cmap_real, ax=axes[0])\n",
    "cbar_imag = fig.colorbar(cmap_imag, ax=axes[1])\n",
    "\n",
    "fig.subplots_adjust(wspace=0.4, hspace=0.4)\n",
    "fig.tight_layout()\n",
    "plt.rcParams.update({\"font.size\": 10})\n",
    "plt.show()"
   ]
  },
  {
   "cell_type": "markdown",
   "metadata": {
    "editable": true,
    "slideshow": {
     "slide_type": ""
    },
    "tags": []
   },
   "source": [
    "## Implementation of a kinematic model"
   ]
  },
  {
   "cell_type": "code",
   "execution_count": null,
   "metadata": {
    "editable": true,
    "slideshow": {
     "slide_type": ""
    },
    "tags": []
   },
   "outputs": [],
   "source": [
    "M12 = np.sqrt(R12)\n",
    "M23 = np.sqrt(R23)\n",
    "M31 = np.sqrt(R31)"
   ]
  },
  {
   "cell_type": "code",
   "execution_count": null,
   "metadata": {
    "editable": true,
    "slideshow": {
     "slide_type": ""
    },
    "tags": []
   },
   "outputs": [],
   "source": [
    "def intensity_dynamics(s12, s23, s31, *, M12, Gamma12, M23, Gamma23, M31, Gamma31):\n",
    "    A12 = BW(s12, M12, Gamma12)\n",
    "    A23 = BW(s23, M23, Gamma23)\n",
    "    A31 = BW(s31, M31, Gamma31)\n",
    "    return np.abs(A12 + A23 + A31) ** 2"
   ]
  },
  {
   "cell_type": "code",
   "execution_count": null,
   "metadata": {},
   "outputs": [],
   "source": [
    "test1 = boost(p1, flip(p1 + p2)).phi\n",
    "test2 = boost(p1, flip(p1 + p2)).theta"
   ]
  },
  {
   "cell_type": "code",
   "execution_count": null,
   "metadata": {
    "editable": true,
    "slideshow": {
     "slide_type": ""
    },
    "tags": [
     "full-width"
    ]
   },
   "outputs": [],
   "source": [
    "def BW_SH_dynamics(s12, s23, s31, *, M12, Gamma12, M23, Gamma23, M31, Gamma31):\n",
    "    A12 = BW(s12, M12, Gamma12) * compute_spherical_harmonics12(phi1, theta1)\n",
    "    A23 = BW(s23, M23, Gamma23) * compute_spherical_harmonics23(phi2, theta2)\n",
    "    A31 = BW(s31, M31, Gamma31) * 1\n",
    "    return np.abs(A12 + A23 + A31) ** 2"
   ]
  },
  {
   "cell_type": "code",
   "execution_count": null,
   "metadata": {
    "editable": true,
    "slideshow": {
     "slide_type": ""
    },
    "tags": []
   },
   "outputs": [],
   "source": [
    "c_0 = 0.25"
   ]
  },
  {
   "cell_type": "code",
   "execution_count": null,
   "metadata": {
    "editable": true,
    "slideshow": {
     "slide_type": ""
    },
    "tags": []
   },
   "outputs": [],
   "source": [
    "def full_dynamics(s12, s23, s31, *, M12, Gamma12, M23, Gamma23, M31, Gamma31):\n",
    "    A12 = (\n",
    "        BW(s12, M12, Gamma12)\n",
    "        * compute_spherical_harmonics12(phi1, theta1)\n",
    "        * s12 ** (0.5 + 0.9 * u3)\n",
    "    )\n",
    "    A23 = (\n",
    "        BW(s23, M23, Gamma23)\n",
    "        * compute_spherical_harmonics23(phi2, theta2)\n",
    "        * s23 ** (0.5 + 0.9 * t1)\n",
    "    )\n",
    "    A31 = BW(s31, M31, Gamma31) * c_0 * s31 ** (1.08 + 0.2 * t2)\n",
    "    return np.abs(A12 + A23 + A31) ** 2"
   ]
  },
  {
   "cell_type": "code",
   "execution_count": null,
   "metadata": {},
   "outputs": [],
   "source": [
    "s12 ** (0.5 + 0.9 * u3)"
   ]
  },
  {
   "cell_type": "code",
   "execution_count": null,
   "metadata": {},
   "outputs": [],
   "source": [
    "s23 ** (0.5 + 0.9 * t1)"
   ]
  },
  {
   "cell_type": "code",
   "execution_count": null,
   "metadata": {},
   "outputs": [],
   "source": [
    "s31 ** (1.08 + 0.2 * t2)"
   ]
  },
  {
   "cell_type": "code",
   "execution_count": null,
   "metadata": {
    "editable": true,
    "slideshow": {
     "slide_type": ""
    },
    "tags": [
     "hide-input",
     "full-width"
    ]
   },
   "outputs": [],
   "source": [
    "fig, (ax1, ax2, ax3) = plt.subplots(figsize=(12, 4), ncols=3, sharey=True)\n",
    "fig.suptitle(\n",
    "    \"For from model: Dalitz Plot of only Breit-Wigner in the formula (middle plot)\"\n",
    ")\n",
    "hist2 = ax2.hist2d(\n",
    "    s12,\n",
    "    s23,\n",
    "    bins=100,\n",
    "    weights=intensity_dynamics(\n",
    "        s12,\n",
    "        s23,\n",
    "        s31,\n",
    "        M12=M12,\n",
    "        Gamma12=0.1,\n",
    "        M23=M23,\n",
    "        Gamma23=0.1,\n",
    "        M31=M31,\n",
    "        Gamma31=0.1,\n",
    "    ),\n",
    "    cmin=1e-6,\n",
    ")\n",
    "ax2.set_xlabel(R\"$s_{12}$\")\n",
    "ax2.set_title(\"From model\")\n",
    "\n",
    "hist3 = ax3.hist2d(s12_data, s23_data, bins=100, cmin=1e-6)\n",
    "ax3.set_title(\"From data\")\n",
    "ax3.set_xlabel(R\"$s_{12}$\")\n",
    "\n",
    "hist1 = ax1.hist2d(s12, s23, bins=100, cmin=1e-6)\n",
    "ax1.set_title(\"From flat\")\n",
    "ax1.set_xlabel(R\"$s_{12}$\")\n",
    "ax1.set_ylabel(R\"$s_{23}$\")\n",
    "\n",
    "cbar1 = fig.colorbar(hist1[3], ax=ax1)\n",
    "cbar2 = fig.colorbar(hist2[3], ax=ax2)\n",
    "cbar3 = fig.colorbar(hist3[3], ax=ax3)\n",
    "\n",
    "fig.tight_layout()\n",
    "fig.show()"
   ]
  },
  {
   "cell_type": "code",
   "execution_count": null,
   "metadata": {
    "editable": true,
    "slideshow": {
     "slide_type": ""
    },
    "tags": [
     "hide-input",
     "full-width"
    ]
   },
   "outputs": [],
   "source": [
    "fig, (ax1, ax2, ax3) = plt.subplots(figsize=(12, 4), ncols=3, sharey=True)\n",
    "fig.suptitle(\n",
    "    \"For from model: Dalitz Plots of only spherical harmonics (middle plot)\"\n",
    ")\n",
    "hist2 = ax2.hist2d(\n",
    "    s12,\n",
    "    s23,\n",
    "    bins=100,\n",
    "    weights=np.abs(\n",
    "        compute_spherical_harmonics12(phi1, theta1)\n",
    "        + compute_spherical_harmonics23(phi2, theta2)\n",
    "        + c_0\n",
    "    )\n",
    "    ** 2,\n",
    "    cmin=1e-6,\n",
    ")\n",
    "ax2.set_xlabel(R\"$s_{12}$\")\n",
    "ax2.set_title(\"From model\")\n",
    "hist3 = ax3.hist2d(s12_data, s23_data, bins=100, cmin=1e-6)\n",
    "ax3.set_title(\"From data\")\n",
    "ax3.set_xlabel(R\"$s_{12}$\")\n",
    "hist1 = ax1.hist2d(s12, s23, bins=100, cmin=1e-6)\n",
    "ax1.set_title(\"From flat\")\n",
    "ax1.set_xlabel(R\"$s_{12}$\")\n",
    "ax1.set_ylabel(R\"$s_{23}$\")\n",
    "cbar1 = fig.colorbar(hist1[3], ax=ax1)\n",
    "cbar2 = fig.colorbar(hist2[3], ax=ax2)\n",
    "cbar3 = fig.colorbar(hist3[3], ax=ax3)\n",
    "fig.tight_layout()\n",
    "fig.show()"
   ]
  },
  {
   "cell_type": "code",
   "execution_count": null,
   "metadata": {
    "editable": true,
    "jupyter": {
     "source_hidden": true
    },
    "slideshow": {
     "slide_type": ""
    },
    "tags": [
     "remove-cell"
    ]
   },
   "outputs": [],
   "source": [
    "phi1_adj = boost(p1, flip(p1 + p2)).phi\n",
    "phi2_adj = boost(p2, flip(p2 + p3)).phi\n",
    "for i in range(len(phi1_adj)):\n",
    "    if phi1_adj[i] < 0:\n",
    "        phi1_adj[i] = phi1_adj[i] + 2 * np.pi\n",
    "    if phi2_adj[i] < 0:\n",
    "        phi2_adj[i] = phi2_adj[i] + 2 * np.pi\n",
    "\n",
    "\n",
    "fig, (ax1, ax2) = plt.subplots(figsize=(12, 5), ncols=2, sharey=True)\n",
    "fig.suptitle(\"Dalitz Plots of only spherical harmonics\")\n",
    "hist1 = ax1.hist2d(\n",
    "    s12,\n",
    "    s23,\n",
    "    bins=100,\n",
    "    weights=np.abs(\n",
    "        compute_spherical_harmonics12(\n",
    "            phi1_adj,\n",
    "            boost(p1, flip(p1 + p2)).theta,\n",
    "        )\n",
    "        + compute_spherical_harmonics23(\n",
    "            phi2_adj,\n",
    "            boost(p2, flip(p2 + p3)).theta,\n",
    "        )\n",
    "        + c_0\n",
    "    )\n",
    "    ** 2,\n",
    "    cmin=1e-6,\n",
    ")\n",
    "ax1.set_xlabel(R\"$s_{12}$\")\n",
    "ax1.set_ylabel(R\"$s_{23}$\")\n",
    "ax1.set_title(\"From model\")\n",
    "hist2 = ax2.hist2d(s12_data, s23_data, bins=100, cmin=1e-6)\n",
    "ax2.set_title(\"From data\")\n",
    "ax2.set_xlabel(R\"$s_{12}$\")\n",
    "ax2.set_ylabel(R\"$s_{23}$\")\n",
    "cbar1 = fig.colorbar(hist1[3], ax=ax1)\n",
    "cbar2 = fig.colorbar(hist2[3], ax=ax2)\n",
    "fig.tight_layout()\n",
    "fig.show()"
   ]
  },
  {
   "cell_type": "code",
   "execution_count": null,
   "metadata": {
    "editable": true,
    "slideshow": {
     "slide_type": ""
    },
    "tags": [
     "hide-input",
     "full-width"
    ]
   },
   "outputs": [],
   "source": [
    "fig, (ax1, ax2, ax3) = plt.subplots(figsize=(12, 4), ncols=3, sharey=True)\n",
    "fig.suptitle(\n",
    "    R\"For from model: Dalitz Plots of Breit-Wigner $\\times$ Spherical Harmonics\"\n",
    "    r\" (middle plot)\"\n",
    ")\n",
    "hist2 = ax2.hist2d(\n",
    "    s12,\n",
    "    s23,\n",
    "    bins=100,\n",
    "    weights=BW_SH_dynamics(\n",
    "        s12,\n",
    "        s23,\n",
    "        s31,\n",
    "        M12=M12,\n",
    "        Gamma12=0.1,\n",
    "        M23=M23,\n",
    "        Gamma23=0.1,\n",
    "        M31=M31,\n",
    "        Gamma31=0.1,\n",
    "    ),\n",
    "    cmin=1e-6,\n",
    ")\n",
    "ax2.set_xlabel(R\"$s_{12}$\")\n",
    "ax2.set_title(\"From model\")\n",
    "\n",
    "\n",
    "hist3 = ax3.hist2d(s12_data, s23_data, bins=100, cmin=1e-6)\n",
    "ax3.set_title(\"From data\")\n",
    "ax3.set_xlabel(R\"$s_{12}$\")\n",
    "\n",
    "hist1 = ax1.hist2d(s12, s23, bins=100, cmin=1e-6)\n",
    "ax1.set_title(\"From flat\")\n",
    "ax1.set_xlabel(R\"$s_{12}$\")\n",
    "ax1.set_ylabel(R\"$s_{23}$\")\n",
    "\n",
    "cbar1 = fig.colorbar(hist1[3], ax=ax1)\n",
    "cbar2 = fig.colorbar(hist2[3], ax=ax2)\n",
    "cbar3 = fig.colorbar(hist3[3], ax=ax3)\n",
    "\n",
    "fig.tight_layout()\n",
    "fig.show()"
   ]
  },
  {
   "cell_type": "code",
   "execution_count": null,
   "metadata": {
    "editable": true,
    "jupyter": {
     "source_hidden": true
    },
    "slideshow": {
     "slide_type": ""
    },
    "tags": [
     "hide-input",
     "full-width"
    ]
   },
   "outputs": [],
   "source": [
    "fig, (ax1, ax2, ax3) = plt.subplots(figsize=(12, 4), ncols=3, sharey=True)\n",
    "fig.suptitle(\n",
    "    \"For from model: : Dalitz Plots of full expression of the formula (middle plot)\"\n",
    ")\n",
    "hist2 = ax2.hist2d(\n",
    "    s12,\n",
    "    s23,\n",
    "    bins=100,\n",
    "    weights=full_dynamics(\n",
    "        s12,\n",
    "        s23,\n",
    "        s31,\n",
    "        M12=M12,\n",
    "        Gamma12=0.1,\n",
    "        M23=M23,\n",
    "        Gamma23=0.1,\n",
    "        M31=M31,\n",
    "        Gamma31=0.1,\n",
    "    ),\n",
    "    cmin=1e-8,\n",
    ")\n",
    "ax2.set_xlabel(R\"$s_{12}$\")\n",
    "ax2.set_title(\"From model\")\n",
    "hist3 = ax3.hist2d(s12_data, s23_data, bins=100, cmin=1e-6)\n",
    "ax3.set_title(\"From data\")\n",
    "ax3.set_xlabel(R\"$s_{12}$\")\n",
    "hist1 = ax1.hist2d(s12, s23, bins=100, cmin=1e-6)\n",
    "ax1.set_title(\"From flat\")\n",
    "ax1.set_xlabel(R\"$s_{12}$\")\n",
    "ax1.set_ylabel(R\"$s_{23}$\")\n",
    "cbar1 = fig.colorbar(hist1[3], ax=ax1)\n",
    "cbar2 = fig.colorbar(hist2[3], ax=ax2)\n",
    "cbar3 = fig.colorbar(hist3[3], ax=ax3)\n",
    "fig.tight_layout()\n",
    "fig.show()"
   ]
  },
  {
   "cell_type": "code",
   "execution_count": null,
   "metadata": {
    "editable": true,
    "jupyter": {
     "source_hidden": true
    },
    "slideshow": {
     "slide_type": ""
    },
    "tags": [
     "hide-cell"
    ]
   },
   "outputs": [],
   "source": [
    "plt.hist(\n",
    "    theta1_data,\n",
    "    bins=100,\n",
    "    label=\"data\",\n",
    "    density=True,\n",
    ")\n",
    "plt.hist(\n",
    "    theta1,\n",
    "    bins=100,\n",
    "    color=\"red\",\n",
    "    histtype=\"step\",\n",
    "    label=\"phsp\",\n",
    "    density=True,\n",
    ")\n",
    "plt.hist(\n",
    "    theta1,\n",
    "    bins=100,\n",
    "    weights=intensity_dynamics(\n",
    "        s12,\n",
    "        s23,\n",
    "        s31,\n",
    "        M12=M12,\n",
    "        Gamma12=0.1,\n",
    "        M23=M23,\n",
    "        Gamma23=0.1,\n",
    "        M31=M31,\n",
    "        Gamma31=0.1,\n",
    "    ),\n",
    "    color=\"orange\",\n",
    "    histtype=\"step\",\n",
    "    label=\"only BW\",\n",
    "    density=True,\n",
    ")\n",
    "plt.hist(\n",
    "    theta1,\n",
    "    bins=100,\n",
    "    weights=np.abs(\n",
    "        compute_spherical_harmonics12(phi1, theta1)\n",
    "        + compute_spherical_harmonics23(phi2, theta2)\n",
    "        + c_0\n",
    "    )\n",
    "    ** 2,\n",
    "    color=\"green\",\n",
    "    histtype=\"step\",\n",
    "    label=\"only SH\",\n",
    "    density=True,\n",
    ")\n",
    "plt.hist(\n",
    "    theta1,\n",
    "    bins=100,\n",
    "    weights=BW_SH_dynamics(\n",
    "        s12,\n",
    "        s23,\n",
    "        s31,\n",
    "        M12=M12,\n",
    "        Gamma12=0.1,\n",
    "        M23=M23,\n",
    "        Gamma23=0.1,\n",
    "        M31=M31,\n",
    "        Gamma31=0.1,\n",
    "    ),\n",
    "    color=\"purple\",\n",
    "    histtype=\"step\",\n",
    "    label=\"BW&SH\",\n",
    "    density=True,\n",
    ")\n",
    "plt.hist(\n",
    "    theta1,\n",
    "    bins=100,\n",
    "    weights=full_dynamics(\n",
    "        s12,\n",
    "        s23,\n",
    "        s31,\n",
    "        M12=M12,\n",
    "        Gamma12=0.1,\n",
    "        M23=M23,\n",
    "        Gamma23=0.1,\n",
    "        M31=M31,\n",
    "        Gamma31=0.1,\n",
    "    ),\n",
    "    color=\"black\",\n",
    "    histtype=\"step\",\n",
    "    label=\"Full\",\n",
    "    density=True,\n",
    ")\n",
    "plt.title(R\"$\\theta_1$\")\n",
    "plt.legend()\n",
    "plt.show()"
   ]
  },
  {
   "cell_type": "code",
   "execution_count": null,
   "metadata": {
    "editable": true,
    "jupyter": {
     "source_hidden": true
    },
    "slideshow": {
     "slide_type": ""
    },
    "tags": [
     "hide-cell"
    ]
   },
   "outputs": [],
   "source": [
    "plt.hist(\n",
    "    theta2_data,\n",
    "    bins=100,\n",
    "    label=\"data\",\n",
    "    density=True,\n",
    ")\n",
    "plt.hist(\n",
    "    theta2,\n",
    "    bins=100,\n",
    "    color=\"red\",\n",
    "    histtype=\"step\",\n",
    "    label=\"phsp\",\n",
    "    density=True,\n",
    ")\n",
    "plt.hist(\n",
    "    theta2,\n",
    "    bins=100,\n",
    "    weights=intensity_dynamics(\n",
    "        s12,\n",
    "        s23,\n",
    "        s31,\n",
    "        M12=M12,\n",
    "        Gamma12=0.1,\n",
    "        M23=M23,\n",
    "        Gamma23=0.1,\n",
    "        M31=M31,\n",
    "        Gamma31=0.1,\n",
    "    ),\n",
    "    color=\"orange\",\n",
    "    histtype=\"step\",\n",
    "    label=\"only BW\",\n",
    "    density=True,\n",
    ")\n",
    "plt.hist(\n",
    "    theta2,\n",
    "    bins=100,\n",
    "    weights=np.abs(\n",
    "        compute_spherical_harmonics12(phi1, theta1)\n",
    "        + compute_spherical_harmonics23(phi2, theta2)\n",
    "        + c_0\n",
    "    )\n",
    "    ** 2,\n",
    "    color=\"green\",\n",
    "    histtype=\"step\",\n",
    "    label=\"only SH\",\n",
    "    density=True,\n",
    ")\n",
    "plt.hist(\n",
    "    theta2,\n",
    "    bins=100,\n",
    "    weights=BW_SH_dynamics(\n",
    "        s12,\n",
    "        s23,\n",
    "        s31,\n",
    "        M12=M12,\n",
    "        Gamma12=0.1,\n",
    "        M23=M23,\n",
    "        Gamma23=0.1,\n",
    "        M31=M31,\n",
    "        Gamma31=0.1,\n",
    "    ),\n",
    "    color=\"purple\",\n",
    "    histtype=\"step\",\n",
    "    label=\"BW&SH\",\n",
    "    density=True,\n",
    ")\n",
    "plt.hist(\n",
    "    theta2,\n",
    "    bins=100,\n",
    "    weights=full_dynamics(\n",
    "        s12,\n",
    "        s23,\n",
    "        s31,\n",
    "        M12=M12,\n",
    "        Gamma12=0.1,\n",
    "        M23=M23,\n",
    "        Gamma23=0.1,\n",
    "        M31=M31,\n",
    "        Gamma31=0.1,\n",
    "    ),\n",
    "    color=\"black\",\n",
    "    histtype=\"step\",\n",
    "    label=\"Full\",\n",
    "    density=True,\n",
    ")\n",
    "plt.title(R\"$\\theta_2$\")\n",
    "plt.legend()\n",
    "plt.show()"
   ]
  },
  {
   "cell_type": "code",
   "execution_count": null,
   "metadata": {
    "editable": true,
    "jupyter": {
     "source_hidden": true
    },
    "slideshow": {
     "slide_type": ""
    },
    "tags": [
     "hide-cell"
    ]
   },
   "outputs": [],
   "source": [
    "plt.hist(\n",
    "    theta3_data,\n",
    "    bins=100,\n",
    "    label=\"data\",\n",
    "    density=True,\n",
    ")\n",
    "plt.hist(\n",
    "    theta3,\n",
    "    bins=100,\n",
    "    color=\"red\",\n",
    "    histtype=\"step\",\n",
    "    label=\"phsp\",\n",
    "    density=True,\n",
    ")\n",
    "plt.hist(\n",
    "    theta3,\n",
    "    bins=100,\n",
    "    weights=intensity_dynamics(\n",
    "        s12,\n",
    "        s23,\n",
    "        s31,\n",
    "        M12=M12,\n",
    "        Gamma12=0.1,\n",
    "        M23=M23,\n",
    "        Gamma23=0.1,\n",
    "        M31=M31,\n",
    "        Gamma31=0.1,\n",
    "    ),\n",
    "    color=\"orange\",\n",
    "    histtype=\"step\",\n",
    "    label=\"only BW\",\n",
    "    density=True,\n",
    ")\n",
    "plt.hist(\n",
    "    theta3,\n",
    "    bins=100,\n",
    "    weights=np.abs(\n",
    "        compute_spherical_harmonics12(phi1, theta1)\n",
    "        + compute_spherical_harmonics23(phi2, theta2)\n",
    "        + c_0\n",
    "    )\n",
    "    ** 2,\n",
    "    color=\"green\",\n",
    "    histtype=\"step\",\n",
    "    label=\"only SH\",\n",
    "    density=True,\n",
    ")\n",
    "plt.hist(\n",
    "    theta3,\n",
    "    bins=100,\n",
    "    weights=BW_SH_dynamics(\n",
    "        s12,\n",
    "        s23,\n",
    "        s31,\n",
    "        M12=M12,\n",
    "        Gamma12=0.1,\n",
    "        M23=M23,\n",
    "        Gamma23=0.1,\n",
    "        M31=M31,\n",
    "        Gamma31=0.1,\n",
    "    ),\n",
    "    color=\"purple\",\n",
    "    histtype=\"step\",\n",
    "    label=\"BW&SH\",\n",
    "    density=True,\n",
    ")\n",
    "plt.hist(\n",
    "    theta3,\n",
    "    bins=100,\n",
    "    weights=full_dynamics(\n",
    "        s12,\n",
    "        s23,\n",
    "        s31,\n",
    "        M12=M12,\n",
    "        Gamma12=0.1,\n",
    "        M23=M23,\n",
    "        Gamma23=0.1,\n",
    "        M31=M31,\n",
    "        Gamma31=0.1,\n",
    "    ),\n",
    "    color=\"black\",\n",
    "    histtype=\"step\",\n",
    "    label=\"Full\",\n",
    "    density=True,\n",
    ")\n",
    "plt.title(R\"$\\theta_3$\")\n",
    "plt.legend()\n",
    "plt.show()"
   ]
  },
  {
   "cell_type": "code",
   "execution_count": null,
   "metadata": {
    "editable": true,
    "jupyter": {
     "source_hidden": true
    },
    "slideshow": {
     "slide_type": ""
    },
    "tags": [
     "hide-cell"
    ]
   },
   "outputs": [],
   "source": [
    "plt.hist(\n",
    "    phi1_data,\n",
    "    bins=100,\n",
    "    label=\"data\",\n",
    "    density=True,\n",
    ")\n",
    "plt.hist(\n",
    "    phi1,\n",
    "    bins=100,\n",
    "    color=\"red\",\n",
    "    histtype=\"step\",\n",
    "    label=\"phsp\",\n",
    "    density=True,\n",
    ")\n",
    "plt.hist(\n",
    "    phi1,\n",
    "    bins=100,\n",
    "    weights=intensity_dynamics(\n",
    "        s12,\n",
    "        s23,\n",
    "        s31,\n",
    "        M12=M12,\n",
    "        Gamma12=0.1,\n",
    "        M23=M23,\n",
    "        Gamma23=0.1,\n",
    "        M31=M31,\n",
    "        Gamma31=0.1,\n",
    "    ),\n",
    "    color=\"orange\",\n",
    "    histtype=\"step\",\n",
    "    label=\"only BW\",\n",
    "    density=True,\n",
    ")\n",
    "plt.hist(\n",
    "    phi1,\n",
    "    bins=100,\n",
    "    weights=np.abs(\n",
    "        compute_spherical_harmonics12(phi1, theta1)\n",
    "        + compute_spherical_harmonics23(phi2, theta2)\n",
    "        + c_0\n",
    "    )\n",
    "    ** 2,\n",
    "    color=\"green\",\n",
    "    histtype=\"step\",\n",
    "    label=\"only SH\",\n",
    "    density=True,\n",
    ")\n",
    "plt.hist(\n",
    "    phi1,\n",
    "    bins=100,\n",
    "    weights=BW_SH_dynamics(\n",
    "        s12,\n",
    "        s23,\n",
    "        s31,\n",
    "        M12=M12,\n",
    "        Gamma12=0.1,\n",
    "        M23=M23,\n",
    "        Gamma23=0.1,\n",
    "        M31=M31,\n",
    "        Gamma31=0.1,\n",
    "    ),\n",
    "    color=\"purple\",\n",
    "    histtype=\"step\",\n",
    "    label=\"BW&SH\",\n",
    "    density=True,\n",
    ")\n",
    "plt.hist(\n",
    "    phi1,\n",
    "    bins=100,\n",
    "    weights=full_dynamics(\n",
    "        s12,\n",
    "        s23,\n",
    "        s31,\n",
    "        M12=M12,\n",
    "        Gamma12=0.1,\n",
    "        M23=M23,\n",
    "        Gamma23=0.1,\n",
    "        M31=M31,\n",
    "        Gamma31=0.1,\n",
    "    ),\n",
    "    color=\"black\",\n",
    "    histtype=\"step\",\n",
    "    label=\"Full\",\n",
    "    density=True,\n",
    ")\n",
    "plt.title(R\"$\\phi_1$\")\n",
    "plt.legend()\n",
    "plt.show()"
   ]
  },
  {
   "cell_type": "code",
   "execution_count": null,
   "metadata": {
    "editable": true,
    "jupyter": {
     "source_hidden": true
    },
    "slideshow": {
     "slide_type": ""
    },
    "tags": [
     "hide-cell"
    ]
   },
   "outputs": [],
   "source": [
    "plt.hist(\n",
    "    phi2_data,\n",
    "    bins=100,\n",
    "    label=\"data\",\n",
    "    density=True,\n",
    ")\n",
    "plt.hist(\n",
    "    phi2,\n",
    "    bins=100,\n",
    "    color=\"red\",\n",
    "    histtype=\"step\",\n",
    "    label=\"phsp\",\n",
    "    density=True,\n",
    ")\n",
    "plt.hist(\n",
    "    phi2,\n",
    "    bins=100,\n",
    "    weights=intensity_dynamics(\n",
    "        s12,\n",
    "        s23,\n",
    "        s31,\n",
    "        M12=M12,\n",
    "        Gamma12=0.1,\n",
    "        M23=M23,\n",
    "        Gamma23=0.1,\n",
    "        M31=M31,\n",
    "        Gamma31=0.1,\n",
    "    ),\n",
    "    color=\"orange\",\n",
    "    histtype=\"step\",\n",
    "    label=\"only BW\",\n",
    "    density=True,\n",
    ")\n",
    "plt.hist(\n",
    "    phi2,\n",
    "    bins=100,\n",
    "    weights=np.abs(\n",
    "        compute_spherical_harmonics12(phi1, theta1)\n",
    "        + compute_spherical_harmonics23(phi2, theta2)\n",
    "        + c_0\n",
    "    )\n",
    "    ** 2,\n",
    "    color=\"green\",\n",
    "    histtype=\"step\",\n",
    "    label=\"only SH\",\n",
    "    density=True,\n",
    ")\n",
    "plt.hist(\n",
    "    phi2,\n",
    "    bins=100,\n",
    "    weights=BW_SH_dynamics(\n",
    "        s12,\n",
    "        s23,\n",
    "        s31,\n",
    "        M12=M12,\n",
    "        Gamma12=0.1,\n",
    "        M23=M23,\n",
    "        Gamma23=0.1,\n",
    "        M31=M31,\n",
    "        Gamma31=0.1,\n",
    "    ),\n",
    "    color=\"purple\",\n",
    "    histtype=\"step\",\n",
    "    label=\"BW&SH\",\n",
    "    density=True,\n",
    ")\n",
    "plt.hist(\n",
    "    phi2,\n",
    "    bins=100,\n",
    "    weights=full_dynamics(\n",
    "        s12,\n",
    "        s23,\n",
    "        s31,\n",
    "        M12=M12,\n",
    "        Gamma12=0.1,\n",
    "        M23=M23,\n",
    "        Gamma23=0.1,\n",
    "        M31=M31,\n",
    "        Gamma31=0.1,\n",
    "    ),\n",
    "    color=\"black\",\n",
    "    histtype=\"step\",\n",
    "    label=\"Full\",\n",
    "    density=True,\n",
    ")\n",
    "plt.title(R\"$\\phi_2$\")\n",
    "plt.legend()\n",
    "plt.show()"
   ]
  },
  {
   "cell_type": "code",
   "execution_count": null,
   "metadata": {
    "editable": true,
    "jupyter": {
     "source_hidden": true
    },
    "slideshow": {
     "slide_type": ""
    },
    "tags": [
     "hide-cell"
    ]
   },
   "outputs": [],
   "source": [
    "plt.hist(\n",
    "    phi3_data,\n",
    "    bins=100,\n",
    "    label=\"data\",\n",
    "    density=True,\n",
    ")\n",
    "plt.hist(\n",
    "    phi3,\n",
    "    bins=100,\n",
    "    color=\"red\",\n",
    "    histtype=\"step\",\n",
    "    label=\"phsp\",\n",
    "    density=True,\n",
    ")\n",
    "plt.hist(\n",
    "    phi3,\n",
    "    bins=100,\n",
    "    weights=intensity_dynamics(\n",
    "        s12,\n",
    "        s23,\n",
    "        s31,\n",
    "        M12=M12,\n",
    "        Gamma12=0.1,\n",
    "        M23=M23,\n",
    "        Gamma23=0.1,\n",
    "        M31=M31,\n",
    "        Gamma31=0.1,\n",
    "    ),\n",
    "    color=\"orange\",\n",
    "    histtype=\"step\",\n",
    "    label=\"only BW\",\n",
    "    density=True,\n",
    ")\n",
    "plt.hist(\n",
    "    phi3,\n",
    "    bins=100,\n",
    "    weights=np.abs(\n",
    "        compute_spherical_harmonics12(phi1, theta1)\n",
    "        + compute_spherical_harmonics23(phi2, theta2)\n",
    "        + c_0\n",
    "    )\n",
    "    ** 2,\n",
    "    color=\"green\",\n",
    "    histtype=\"step\",\n",
    "    label=\"only SH\",\n",
    "    density=True,\n",
    ")\n",
    "plt.hist(\n",
    "    phi3,\n",
    "    bins=100,\n",
    "    weights=BW_SH_dynamics(\n",
    "        s12,\n",
    "        s23,\n",
    "        s31,\n",
    "        M12=M12,\n",
    "        Gamma12=0.1,\n",
    "        M23=M23,\n",
    "        Gamma23=0.1,\n",
    "        M31=M31,\n",
    "        Gamma31=0.1,\n",
    "    ),\n",
    "    color=\"purple\",\n",
    "    histtype=\"step\",\n",
    "    label=\"BW&SH\",\n",
    "    density=True,\n",
    ")\n",
    "plt.hist(\n",
    "    phi3,\n",
    "    bins=100,\n",
    "    weights=full_dynamics(\n",
    "        s12,\n",
    "        s23,\n",
    "        s31,\n",
    "        M12=M12,\n",
    "        Gamma12=0.1,\n",
    "        M23=M23,\n",
    "        Gamma23=0.1,\n",
    "        M31=M31,\n",
    "        Gamma31=0.1,\n",
    "    ),\n",
    "    color=\"black\",\n",
    "    histtype=\"step\",\n",
    "    label=\"Full\",\n",
    "    density=True,\n",
    ")\n",
    "plt.title(R\"$\\phi_3$\")\n",
    "plt.legend()\n",
    "plt.show()"
   ]
  },
  {
   "cell_type": "code",
   "execution_count": null,
   "metadata": {
    "editable": true,
    "jupyter": {
     "source_hidden": true
    },
    "slideshow": {
     "slide_type": ""
    },
    "tags": [
     "hide-cell"
    ]
   },
   "outputs": [],
   "source": [
    "plt.hist(\n",
    "    p12_data.m,\n",
    "    bins=100,\n",
    "    label=\"data\",\n",
    "    density=True,\n",
    ")\n",
    "plt.hist(\n",
    "    p12.m,\n",
    "    bins=100,\n",
    "    color=\"red\",\n",
    "    histtype=\"step\",\n",
    "    label=\"phsp\",\n",
    "    density=True,\n",
    ")\n",
    "plt.hist(\n",
    "    p12.m,\n",
    "    bins=100,\n",
    "    weights=intensity_dynamics(\n",
    "        s12,\n",
    "        s23,\n",
    "        s31,\n",
    "        M12=M12,\n",
    "        Gamma12=0.1,\n",
    "        M23=M23,\n",
    "        Gamma23=0.1,\n",
    "        M31=M31,\n",
    "        Gamma31=0.1,\n",
    "    ),\n",
    "    color=\"orange\",\n",
    "    histtype=\"step\",\n",
    "    label=\"only BW\",\n",
    "    density=True,\n",
    ")\n",
    "plt.hist(\n",
    "    p12.m,\n",
    "    bins=100,\n",
    "    weights=np.abs(\n",
    "        compute_spherical_harmonics12(phi1, theta1)\n",
    "        + compute_spherical_harmonics23(phi2, theta2)\n",
    "        + c_0\n",
    "    )\n",
    "    ** 2,\n",
    "    color=\"green\",\n",
    "    histtype=\"step\",\n",
    "    label=\"only SH\",\n",
    "    density=True,\n",
    ")\n",
    "plt.hist(\n",
    "    p12.m,\n",
    "    bins=100,\n",
    "    weights=BW_SH_dynamics(\n",
    "        s12,\n",
    "        s23,\n",
    "        s31,\n",
    "        M12=M12,\n",
    "        Gamma12=0.1,\n",
    "        M23=M23,\n",
    "        Gamma23=0.1,\n",
    "        M31=M31,\n",
    "        Gamma31=0.1,\n",
    "    ),\n",
    "    color=\"purple\",\n",
    "    histtype=\"step\",\n",
    "    label=\"BW&SH\",\n",
    "    density=True,\n",
    ")\n",
    "plt.hist(\n",
    "    p12.m,\n",
    "    bins=100,\n",
    "    weights=full_dynamics(\n",
    "        s12,\n",
    "        s23,\n",
    "        s31,\n",
    "        M12=M12,\n",
    "        Gamma12=0.1,\n",
    "        M23=M23,\n",
    "        Gamma23=0.1,\n",
    "        M31=M31,\n",
    "        Gamma31=0.1,\n",
    "    ),\n",
    "    color=\"black\",\n",
    "    histtype=\"step\",\n",
    "    label=\"Full\",\n",
    "    density=True,\n",
    ")\n",
    "plt.title(R\"Invariant mass of $p_{12}$\")\n",
    "plt.legend()\n",
    "plt.show()"
   ]
  },
  {
   "cell_type": "code",
   "execution_count": null,
   "metadata": {
    "editable": true,
    "jupyter": {
     "source_hidden": true
    },
    "slideshow": {
     "slide_type": ""
    },
    "tags": [
     "hide-cell"
    ]
   },
   "outputs": [],
   "source": [
    "plt.hist(\n",
    "    p23_data.m,\n",
    "    bins=100,\n",
    "    label=\"data\",\n",
    "    density=True,\n",
    ")\n",
    "plt.hist(\n",
    "    p23.m,\n",
    "    bins=100,\n",
    "    color=\"red\",\n",
    "    histtype=\"step\",\n",
    "    label=\"phsp\",\n",
    "    density=True,\n",
    ")\n",
    "plt.hist(\n",
    "    p23.m,\n",
    "    bins=100,\n",
    "    weights=intensity_dynamics(\n",
    "        s12,\n",
    "        s23,\n",
    "        s31,\n",
    "        M12=M12,\n",
    "        Gamma12=0.1,\n",
    "        M23=M23,\n",
    "        Gamma23=0.1,\n",
    "        M31=M31,\n",
    "        Gamma31=0.1,\n",
    "    ),\n",
    "    color=\"orange\",\n",
    "    histtype=\"step\",\n",
    "    label=\"only BW\",\n",
    "    density=True,\n",
    ")\n",
    "plt.hist(\n",
    "    p23.m,\n",
    "    bins=100,\n",
    "    weights=np.abs(\n",
    "        compute_spherical_harmonics12(phi1, theta1)\n",
    "        + compute_spherical_harmonics23(phi2, theta2)\n",
    "        + c_0\n",
    "    )\n",
    "    ** 2,\n",
    "    color=\"green\",\n",
    "    histtype=\"step\",\n",
    "    label=\"only SH\",\n",
    "    density=True,\n",
    ")\n",
    "plt.hist(\n",
    "    p23.m,\n",
    "    bins=100,\n",
    "    weights=BW_SH_dynamics(\n",
    "        s12,\n",
    "        s23,\n",
    "        s31,\n",
    "        M12=M12,\n",
    "        Gamma12=0.1,\n",
    "        M23=M23,\n",
    "        Gamma23=0.1,\n",
    "        M31=M31,\n",
    "        Gamma31=0.1,\n",
    "    ),\n",
    "    color=\"purple\",\n",
    "    histtype=\"step\",\n",
    "    label=\"BW&SH\",\n",
    "    density=True,\n",
    ")\n",
    "plt.hist(\n",
    "    p23.m,\n",
    "    bins=100,\n",
    "    weights=full_dynamics(\n",
    "        s12,\n",
    "        s23,\n",
    "        s31,\n",
    "        M12=M12,\n",
    "        Gamma12=0.1,\n",
    "        M23=M23,\n",
    "        Gamma23=0.1,\n",
    "        M31=M31,\n",
    "        Gamma31=0.1,\n",
    "    ),\n",
    "    color=\"black\",\n",
    "    histtype=\"step\",\n",
    "    label=\"Full\",\n",
    "    density=True,\n",
    ")\n",
    "plt.title(R\"Invariant mass of $p_{23}$\")\n",
    "plt.legend()\n",
    "plt.show()"
   ]
  },
  {
   "cell_type": "code",
   "execution_count": null,
   "metadata": {
    "editable": true,
    "jupyter": {
     "source_hidden": true
    },
    "slideshow": {
     "slide_type": ""
    },
    "tags": [
     "hide-cell"
    ]
   },
   "outputs": [],
   "source": [
    "plt.hist(\n",
    "    p31_data.m,\n",
    "    bins=100,\n",
    "    label=\"data\",\n",
    "    density=True,\n",
    ")\n",
    "plt.hist(\n",
    "    p31.m,\n",
    "    bins=100,\n",
    "    color=\"red\",\n",
    "    histtype=\"step\",\n",
    "    label=\"phsp\",\n",
    "    density=True,\n",
    ")\n",
    "plt.hist(\n",
    "    p31.m,\n",
    "    bins=100,\n",
    "    weights=intensity_dynamics(\n",
    "        s12,\n",
    "        s23,\n",
    "        s31,\n",
    "        M12=M12,\n",
    "        Gamma12=0.1,\n",
    "        M23=M23,\n",
    "        Gamma23=0.1,\n",
    "        M31=M31,\n",
    "        Gamma31=0.1,\n",
    "    ),\n",
    "    color=\"orange\",\n",
    "    histtype=\"step\",\n",
    "    label=\"only BW\",\n",
    "    density=True,\n",
    ")\n",
    "plt.hist(\n",
    "    p31.m,\n",
    "    bins=100,\n",
    "    weights=np.abs(\n",
    "        compute_spherical_harmonics12(phi1, theta1)\n",
    "        + compute_spherical_harmonics23(phi2, theta2)\n",
    "        + c_0\n",
    "    )\n",
    "    ** 2,\n",
    "    color=\"green\",\n",
    "    histtype=\"step\",\n",
    "    label=\"only SH\",\n",
    "    density=True,\n",
    ")\n",
    "plt.hist(\n",
    "    p31.m,\n",
    "    bins=100,\n",
    "    weights=BW_SH_dynamics(\n",
    "        s12,\n",
    "        s23,\n",
    "        s31,\n",
    "        M12=M12,\n",
    "        Gamma12=0.1,\n",
    "        M23=M23,\n",
    "        Gamma23=0.1,\n",
    "        M31=M31,\n",
    "        Gamma31=0.1,\n",
    "    ),\n",
    "    color=\"purple\",\n",
    "    histtype=\"step\",\n",
    "    label=\"BW&SH\",\n",
    "    density=True,\n",
    ")\n",
    "plt.hist(\n",
    "    p31.m,\n",
    "    bins=100,\n",
    "    weights=full_dynamics(\n",
    "        s12,\n",
    "        s23,\n",
    "        s31,\n",
    "        M12=M12,\n",
    "        Gamma12=0.1,\n",
    "        M23=M23,\n",
    "        Gamma23=0.1,\n",
    "        M31=M31,\n",
    "        Gamma31=0.1,\n",
    "    ),\n",
    "    color=\"black\",\n",
    "    histtype=\"step\",\n",
    "    label=\"Full\",\n",
    "    density=True,\n",
    ")\n",
    "plt.title(R\"Invariant mass of $p_{31}$\")\n",
    "plt.legend()\n",
    "plt.show()"
   ]
  },
  {
   "cell_type": "code",
   "execution_count": null,
   "metadata": {
    "editable": true,
    "slideshow": {
     "slide_type": ""
    },
    "tags": [
     "hide-cell"
    ]
   },
   "outputs": [],
   "source": [
    "weight_BW = intensity_dynamics(\n",
    "    s12,\n",
    "    s23,\n",
    "    s31,\n",
    "    M12=M12,\n",
    "    Gamma12=0.1,\n",
    "    M23=M23,\n",
    "    Gamma23=0.1,\n",
    "    M31=M31,\n",
    "    Gamma31=0.1,\n",
    ")\n",
    "weight_SH = (\n",
    "    np.abs(\n",
    "        compute_spherical_harmonics12(phi1, theta1)\n",
    "        + compute_spherical_harmonics23(phi2, theta2)\n",
    "        + c_0\n",
    "    )\n",
    "    ** 2\n",
    ")\n",
    "weight_BW_SH = BW_SH_dynamics(\n",
    "    s12,\n",
    "    s23,\n",
    "    s31,\n",
    "    M12=M12,\n",
    "    Gamma12=0.1,\n",
    "    M23=M23,\n",
    "    Gamma23=0.1,\n",
    "    M31=M31,\n",
    "    Gamma31=0.1,\n",
    ")"
   ]
  },
  {
   "cell_type": "code",
   "execution_count": null,
   "metadata": {
    "editable": true,
    "jupyter": {
     "source_hidden": true
    },
    "slideshow": {
     "slide_type": ""
    },
    "tags": []
   },
   "outputs": [],
   "source": [
    "fig, (theta_ax, phi_ax, mass_ax) = plt.subplots(figsize=(13, 11), ncols=3, nrows=3)\n",
    "for i, ax in enumerate(theta_ax, 1):\n",
    "    ax.set_title(Rf\"$\\theta_{i}$\")\n",
    "    ax.set_xticks([0, np.pi / 2, np.pi])\n",
    "    ax.set_xticklabels([\"0\", R\"$\\frac{\\pi}{2}$\", R\"$\\pi$\"])\n",
    "for i, ax in enumerate(phi_ax, 1):\n",
    "    ax.set_title(Rf\"$\\phi_{i}$\")\n",
    "    ax.set_xticks([-np.pi, 0, np.pi])\n",
    "    ax.set_xticklabels([R\"-$\\pi$\", 0, R\"$\\pi$\"])\n",
    "for i, ax in enumerate(mass_ax, 1):\n",
    "    ax.set_title(Rf\"$m_{{{i}{(i%3+1)}}}$\")\n",
    "\n",
    "theta_ax[0].hist(\n",
    "    theta1_data,\n",
    "    bins=100,\n",
    "    label=\"data\",\n",
    "    density=True,\n",
    "    alpha=0.75,\n",
    ")\n",
    "theta_ax[1].hist(\n",
    "    theta2_data,\n",
    "    bins=100,\n",
    "    label=\"data\",\n",
    "    density=True,\n",
    "    alpha=0.75,\n",
    ")\n",
    "theta_ax[2].hist(\n",
    "    theta3_data,\n",
    "    bins=100,\n",
    "    label=\"data\",\n",
    "    density=True,\n",
    "    alpha=0.75,\n",
    ")\n",
    "theta_ax[0].hist(\n",
    "    theta1,\n",
    "    bins=100,\n",
    "    color=\"red\",\n",
    "    histtype=\"step\",\n",
    "    label=\"phsp\",\n",
    "    density=True,\n",
    ")\n",
    "theta_ax[1].hist(\n",
    "    theta2,\n",
    "    bins=100,\n",
    "    color=\"red\",\n",
    "    histtype=\"step\",\n",
    "    label=\"phsp\",\n",
    "    density=True,\n",
    ")\n",
    "theta_ax[2].hist(\n",
    "    theta3,\n",
    "    bins=100,\n",
    "    color=\"red\",\n",
    "    histtype=\"step\",\n",
    "    label=\"phsp\",\n",
    "    density=True,\n",
    ")\n",
    "theta_ax[0].hist(\n",
    "    theta1,\n",
    "    bins=100,\n",
    "    weights=weight_BW,\n",
    "    color=\"orange\",\n",
    "    histtype=\"step\",\n",
    "    label=\"only BW\",\n",
    "    density=True,\n",
    ")\n",
    "theta_ax[1].hist(\n",
    "    theta2,\n",
    "    bins=100,\n",
    "    weights=weight_BW,\n",
    "    color=\"orange\",\n",
    "    histtype=\"step\",\n",
    "    label=\"only BW\",\n",
    "    density=True,\n",
    ")\n",
    "theta_ax[2].hist(\n",
    "    theta3,\n",
    "    bins=100,\n",
    "    weights=weight_BW,\n",
    "    color=\"orange\",\n",
    "    histtype=\"step\",\n",
    "    label=\"only BW\",\n",
    "    density=True,\n",
    ")\n",
    "theta_ax[0].hist(\n",
    "    theta1,\n",
    "    bins=100,\n",
    "    weights=weight_SH,\n",
    "    color=\"green\",\n",
    "    histtype=\"step\",\n",
    "    label=\"only SH\",\n",
    "    density=True,\n",
    ")\n",
    "theta_ax[1].hist(\n",
    "    theta2,\n",
    "    bins=100,\n",
    "    weights=weight_SH,\n",
    "    color=\"green\",\n",
    "    histtype=\"step\",\n",
    "    label=\"only SH\",\n",
    "    density=True,\n",
    ")\n",
    "theta_ax[2].hist(\n",
    "    theta3,\n",
    "    bins=100,\n",
    "    weights=weight_SH,\n",
    "    color=\"green\",\n",
    "    histtype=\"step\",\n",
    "    label=\"only SH\",\n",
    "    density=True,\n",
    ")\n",
    "theta_ax[0].hist(\n",
    "    theta1,\n",
    "    bins=100,\n",
    "    weights=weight_BW_SH,\n",
    "    color=\"purple\",\n",
    "    histtype=\"step\",\n",
    "    label=\"BW&SH\",\n",
    "    density=True,\n",
    ")\n",
    "theta_ax[1].hist(\n",
    "    theta2,\n",
    "    bins=100,\n",
    "    weights=weight_BW_SH,\n",
    "    color=\"purple\",\n",
    "    histtype=\"step\",\n",
    "    label=\"BW&SH\",\n",
    "    density=True,\n",
    ")\n",
    "theta_ax[2].hist(\n",
    "    theta3,\n",
    "    bins=100,\n",
    "    weights=weight_BW_SH,\n",
    "    color=\"purple\",\n",
    "    histtype=\"step\",\n",
    "    label=\"BW&SH\",\n",
    "    density=True,\n",
    ")\n",
    "\n",
    "phi_ax[0].hist(\n",
    "    phi1_data,\n",
    "    bins=100,\n",
    "    label=\"data\",\n",
    "    density=True,\n",
    "    alpha=0.75,\n",
    ")\n",
    "phi_ax[1].hist(\n",
    "    phi2_data,\n",
    "    bins=100,\n",
    "    label=\"data\",\n",
    "    density=True,\n",
    "    alpha=0.75,\n",
    ")\n",
    "phi_ax[2].hist(\n",
    "    phi3_data,\n",
    "    bins=100,\n",
    "    label=\"data\",\n",
    "    density=True,\n",
    "    alpha=0.75,\n",
    ")\n",
    "phi_ax[0].hist(\n",
    "    phi1,\n",
    "    bins=100,\n",
    "    color=\"red\",\n",
    "    histtype=\"step\",\n",
    "    label=\"phsp\",\n",
    "    density=True,\n",
    ")\n",
    "phi_ax[1].hist(\n",
    "    phi2,\n",
    "    bins=100,\n",
    "    color=\"red\",\n",
    "    histtype=\"step\",\n",
    "    label=\"phsp\",\n",
    "    density=True,\n",
    ")\n",
    "phi_ax[2].hist(\n",
    "    phi3,\n",
    "    bins=100,\n",
    "    color=\"red\",\n",
    "    histtype=\"step\",\n",
    "    label=\"phsp\",\n",
    "    density=True,\n",
    ")\n",
    "phi_ax[0].hist(\n",
    "    phi1,\n",
    "    bins=100,\n",
    "    weights=weight_BW,\n",
    "    color=\"orange\",\n",
    "    histtype=\"step\",\n",
    "    label=\"only BW\",\n",
    "    density=True,\n",
    ")\n",
    "phi_ax[1].hist(\n",
    "    phi2,\n",
    "    bins=100,\n",
    "    weights=weight_BW,\n",
    "    color=\"orange\",\n",
    "    histtype=\"step\",\n",
    "    label=\"only BW\",\n",
    "    density=True,\n",
    ")\n",
    "phi_ax[2].hist(\n",
    "    phi3,\n",
    "    bins=100,\n",
    "    weights=weight_BW,\n",
    "    color=\"orange\",\n",
    "    histtype=\"step\",\n",
    "    label=\"only BW\",\n",
    "    density=True,\n",
    ")\n",
    "phi_ax[0].hist(\n",
    "    phi1,\n",
    "    bins=100,\n",
    "    weights=weight_SH,\n",
    "    color=\"green\",\n",
    "    histtype=\"step\",\n",
    "    label=\"only SH\",\n",
    "    density=True,\n",
    ")\n",
    "phi_ax[1].hist(\n",
    "    phi2,\n",
    "    bins=100,\n",
    "    weights=weight_SH,\n",
    "    color=\"green\",\n",
    "    histtype=\"step\",\n",
    "    label=\"only SH\",\n",
    "    density=True,\n",
    ")\n",
    "phi_ax[2].hist(\n",
    "    phi3,\n",
    "    bins=100,\n",
    "    weights=weight_SH,\n",
    "    color=\"green\",\n",
    "    histtype=\"step\",\n",
    "    label=\"only SH\",\n",
    "    density=True,\n",
    ")\n",
    "phi_ax[0].hist(\n",
    "    phi1,\n",
    "    bins=100,\n",
    "    weights=weight_BW_SH,\n",
    "    color=\"purple\",\n",
    "    histtype=\"step\",\n",
    "    label=\"BW&SH\",\n",
    "    density=True,\n",
    ")\n",
    "phi_ax[1].hist(\n",
    "    phi2,\n",
    "    bins=100,\n",
    "    weights=weight_BW_SH,\n",
    "    color=\"purple\",\n",
    "    histtype=\"step\",\n",
    "    label=\"BW&SH\",\n",
    "    density=True,\n",
    ")\n",
    "phi_ax[2].hist(\n",
    "    phi3,\n",
    "    bins=100,\n",
    "    weights=weight_BW_SH,\n",
    "    color=\"purple\",\n",
    "    histtype=\"step\",\n",
    "    label=\"BW&SH\",\n",
    "    density=True,\n",
    ")\n",
    "\n",
    "mass_ax[0].hist(\n",
    "    p12_data.m,\n",
    "    bins=100,\n",
    "    label=\"data\",\n",
    "    density=True,\n",
    "    alpha=0.75,\n",
    ")\n",
    "mass_ax[1].hist(\n",
    "    p23_data.m,\n",
    "    bins=100,\n",
    "    label=\"data\",\n",
    "    density=True,\n",
    "    alpha=0.75,\n",
    ")\n",
    "mass_ax[2].hist(\n",
    "    p31_data.m,\n",
    "    bins=100,\n",
    "    label=\"data\",\n",
    "    density=True,\n",
    "    alpha=0.75,\n",
    ")\n",
    "mass_ax[0].hist(\n",
    "    p12.m,\n",
    "    bins=100,\n",
    "    color=\"red\",\n",
    "    histtype=\"step\",\n",
    "    label=\"phsp\",\n",
    "    density=True,\n",
    ")\n",
    "mass_ax[1].hist(\n",
    "    p23.m,\n",
    "    bins=100,\n",
    "    color=\"red\",\n",
    "    histtype=\"step\",\n",
    "    label=\"phsp\",\n",
    "    density=True,\n",
    ")\n",
    "mass_ax[2].hist(\n",
    "    p31.m,\n",
    "    bins=100,\n",
    "    color=\"red\",\n",
    "    histtype=\"step\",\n",
    "    label=\"phsp\",\n",
    "    density=True,\n",
    ")\n",
    "mass_ax[0].hist(\n",
    "    p12.m,\n",
    "    bins=100,\n",
    "    weights=weight_BW,\n",
    "    color=\"orange\",\n",
    "    histtype=\"step\",\n",
    "    label=\"only BW\",\n",
    "    density=True,\n",
    ")\n",
    "mass_ax[1].hist(\n",
    "    p23.m,\n",
    "    bins=100,\n",
    "    weights=weight_BW,\n",
    "    color=\"orange\",\n",
    "    histtype=\"step\",\n",
    "    label=\"only BW\",\n",
    "    density=True,\n",
    ")\n",
    "mass_ax[2].hist(\n",
    "    p31.m,\n",
    "    bins=100,\n",
    "    weights=weight_BW,\n",
    "    color=\"orange\",\n",
    "    histtype=\"step\",\n",
    "    label=\"only BW\",\n",
    "    density=True,\n",
    ")\n",
    "mass_ax[0].hist(\n",
    "    p12.m,\n",
    "    bins=100,\n",
    "    weights=weight_SH,\n",
    "    color=\"green\",\n",
    "    histtype=\"step\",\n",
    "    label=\"only SH\",\n",
    "    density=True,\n",
    ")\n",
    "mass_ax[1].hist(\n",
    "    p23.m,\n",
    "    bins=100,\n",
    "    weights=weight_SH,\n",
    "    color=\"green\",\n",
    "    histtype=\"step\",\n",
    "    label=\"only SH\",\n",
    "    density=True,\n",
    ")\n",
    "mass_ax[2].hist(\n",
    "    p31.m,\n",
    "    bins=100,\n",
    "    weights=weight_SH,\n",
    "    color=\"green\",\n",
    "    histtype=\"step\",\n",
    "    label=\"only SH\",\n",
    "    density=True,\n",
    ")\n",
    "mass_ax[0].hist(\n",
    "    p12.m,\n",
    "    bins=100,\n",
    "    weights=weight_BW_SH,\n",
    "    color=\"purple\",\n",
    "    histtype=\"step\",\n",
    "    label=\"BW&SH\",\n",
    "    density=True,\n",
    ")\n",
    "mass_ax[1].hist(\n",
    "    p23.m,\n",
    "    bins=100,\n",
    "    weights=weight_BW_SH,\n",
    "    color=\"purple\",\n",
    "    histtype=\"step\",\n",
    "    label=\"BW&SH\",\n",
    "    density=True,\n",
    ")\n",
    "mass_ax[2].hist(\n",
    "    p31.m,\n",
    "    bins=100,\n",
    "    weights=weight_BW_SH,\n",
    "    color=\"purple\",\n",
    "    histtype=\"step\",\n",
    "    label=\"BW&SH\",\n",
    "    density=True,\n",
    ")\n",
    "\n",
    "theta_ax[0].legend()\n",
    "phi_ax[0].legend()\n",
    "theta_ax[1].legend()\n",
    "phi_ax[1].legend()\n",
    "theta_ax[2].legend()\n",
    "phi_ax[2].legend()\n",
    "\n",
    "mass_ax[0].legend()\n",
    "mass_ax[1].legend()\n",
    "mass_ax[2].legend()\n",
    "\n",
    "\n",
    "fig.suptitle(R\"Helicity angles and invariant mass\")\n",
    "fig.tight_layout()\n",
    "plt.show()"
   ]
  }
 ],
 "metadata": {
  "colab": {
   "toc_visible": true
  },
  "kernelspec": {
   "display_name": "Python 3 (ipykernel)",
   "language": "python",
   "name": "python3"
  },
  "language_info": {
   "codemirror_mode": {
    "name": "ipython",
    "version": 3
   },
   "file_extension": ".py",
   "mimetype": "text/x-python",
   "name": "python",
   "nbconvert_exporter": "python",
   "pygments_lexer": "ipython3",
   "version": "3.8.18"
  }
 },
 "nbformat": 4,
 "nbformat_minor": 4
}
