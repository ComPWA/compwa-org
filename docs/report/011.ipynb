{
 "cells": [
  {
   "cell_type": "markdown",
   "metadata": {
    "tags": []
   },
   "source": [
    "# [TR-011] Symbolic kinematics"
   ]
  },
  {
   "cell_type": "code",
   "execution_count": null,
   "metadata": {
    "jupyter": {
     "source_hidden": true
    },
    "tags": [
     "hide-cell"
    ]
   },
   "outputs": [],
   "source": [
    "%%sh\n",
    "pip install ampform==0.11.4 graphviz==0.17 numpy==1.19.5 qrules==0.9.2 sympy==1.9 > /dev/null"
   ]
  },
  {
   "cell_type": "code",
   "execution_count": null,
   "metadata": {
    "jupyter": {
     "source_hidden": true
    },
    "tags": [
     "hide-cell"
    ]
   },
   "outputs": [],
   "source": [
    "import inspect\n",
    "from typing import Any\n",
    "\n",
    "import black\n",
    "import graphviz\n",
    "import numpy as np\n",
    "import qrules\n",
    "import sympy as sp\n",
    "from ampform.data import EventCollection\n",
    "from ampform.kinematics import _compute_helicity_angles\n",
    "from ampform.sympy import (\n",
    "    UnevaluatedExpression,\n",
    "    create_expression,\n",
    "    implement_doit_method,\n",
    ")\n",
    "from qrules.topology import create_isobar_topologies\n",
    "from sympy.printing.numpy import NumPyPrinter\n",
    "from sympy.printing.printer import Printer"
   ]
  },
  {
   "cell_type": "markdown",
   "metadata": {},
   "source": [
    "This report investigates issue {issue}`56`. The ideal solution would be to use only SymPy in the existing [`ampform.kinematics`](https://ampform.readthedocs.io/en/0.11.4/api/ampform.kinematics.html) module. This has two benefits:\n",
    "\n",
    "1. It allows computing kinematic variables from four-momenta with different computational back-ends.\n",
    "2. Expressions for kinematic variable can be inspected through their LaTeX representation.\n",
    "\n",
    "To simplify things, we investigate 1. by only lambdifying to NumPy. It should be relatively straightforward to lambdify to other back-ends like TensorFlow (as long as they support Einstein summation)."
   ]
  },
  {
   "cell_type": "markdown",
   "metadata": {
    "tags": []
   },
   "source": [
    "## Test sample"
   ]
  },
  {
   "cell_type": "markdown",
   "metadata": {},
   "source": [
    "Data sample taken from [this test in AmpForm](https://github.com/ComPWA/ampform/tree/0.11.4/tests/conftest.py#L53-L115) and topology and expected angles taken from [here](https://github.com/ComPWA/ampform/tree/0.11.4/tests/test_kinematics.py#L15-L112)."
   ]
  },
  {
   "cell_type": "code",
   "execution_count": null,
   "metadata": {},
   "outputs": [],
   "source": [
    "topologies = create_isobar_topologies(4)\n",
    "topology = topologies[1]"
   ]
  },
  {
   "cell_type": "code",
   "execution_count": null,
   "metadata": {
    "jupyter": {
     "source_hidden": true
    },
    "tags": [
     "hide-input"
    ]
   },
   "outputs": [],
   "source": [
    "dot = qrules.io.asdot(topology)\n",
    "graphviz.Source(dot)"
   ]
  },
  {
   "cell_type": "code",
   "execution_count": null,
   "metadata": {
    "jupyter": {
     "source_hidden": true
    },
    "tags": [
     "hide-cell"
    ]
   },
   "outputs": [],
   "source": [
    "events = EventCollection(\n",
    "    {\n",
    "        0: np.array(  # pi0\n",
    "            [\n",
    "                (1.35527, 0.514208, -0.184219, 1.23296),\n",
    "                (0.841933, 0.0727385, -0.0528868, 0.826163),\n",
    "                (0.550927, -0.162529, 0.29976, -0.411133),\n",
    "            ]\n",
    "        ),\n",
    "        1: np.array(  # gamma\n",
    "            [\n",
    "                (0.755744, -0.305812, 0.284, -0.630057),\n",
    "                (1.02861, 0.784483, 0.614347, -0.255334),\n",
    "                (0.356875, -0.20767, 0.272796, 0.0990739),\n",
    "            ]\n",
    "        ),\n",
    "        2: np.array(  # pi0\n",
    "            [\n",
    "                (0.208274, -0.061663, -0.0211864, 0.144596),\n",
    "                (0.461193, -0.243319, -0.283044, -0.234866),\n",
    "                (1.03294, 0.82872, -0.0465425, -0.599834),\n",
    "            ]\n",
    "        ),\n",
    "        3: np.array(  # pi0\n",
    "            [\n",
    "                (0.777613, -0.146733, -0.0785946, -0.747499),\n",
    "                (0.765168, -0.613903, -0.278416, -0.335962),\n",
    "                (1.15616, -0.458522, -0.526014, 0.911894),\n",
    "            ]\n",
    "        ),\n",
    "    }\n",
    ")"
   ]
  },
  {
   "cell_type": "code",
   "execution_count": null,
   "metadata": {},
   "outputs": [],
   "source": [
    "angles = _compute_helicity_angles(events, topology)\n",
    "angles._DataSet__data"
   ]
  },
  {
   "cell_type": "markdown",
   "metadata": {},
   "source": [
    "## Einstein summation"
   ]
  },
  {
   "cell_type": "markdown",
   "metadata": {},
   "source": [
    "First challenge is to express the Einstein summation in [the existing implementation](https://github.com/ComPWA/ampform/tree/0.11.4/src/ampform/data.py#L207-L214) in terms of SymPy. The aim is to render the expression resulting nicely as LaTeX while at the same time being able to lambdify the expression to efficient NumPy code. We do this by deriving from [`UnevaluatedExpression`](https://ampform.readthedocs.io/en/0.11.4/api/ampform.sympy.html#ampform.sympy.UnevaluatedExpression) and using the decorator functions provided by the [`ampform.sympy`](https://ampform.readthedocs.io/en/0.11.4/api/ampform.sympy.html) module."
   ]
  },
  {
   "cell_type": "markdown",
   "metadata": {},
   "source": [
    "### Define boost and rotation classes"
   ]
  },
  {
   "cell_type": "markdown",
   "metadata": {},
   "source": [
    "First, wrap rotations and boosts in a class so with a nice LaTeX printer. {ref}`Later on <report/011:Define lambdification>`, a NumPy printer method will be defined externally for each of them."
   ]
  },
  {
   "cell_type": "code",
   "execution_count": null,
   "metadata": {
    "tags": []
   },
   "outputs": [],
   "source": [
    "@implement_doit_method()\n",
    "class BoostZ(UnevaluatedExpression):\n",
    "    def __new__(cls, beta: sp.Symbol, **hints: Any) -> \"BoostZ\":\n",
    "        return create_expression(cls, beta, **hints)\n",
    "\n",
    "    def evaluate(self) -> sp.Expr:\n",
    "        gamma = 1 / sp.sqrt(1 - beta ** 2)\n",
    "        return sp.Matrix(\n",
    "            [\n",
    "                [gamma, 0, 0, -gamma * beta],\n",
    "                [0, 1, 0, 0],\n",
    "                [0, 0, 1, 0],\n",
    "                [-gamma * beta, 0, 0, gamma],\n",
    "            ]\n",
    "        )\n",
    "\n",
    "    def _latex(self, printer, *args) -> str:\n",
    "        beta, *_ = self.args\n",
    "        beta = printer._print(beta)\n",
    "        return fR\"\\boldsymbol{{B_z}}\\left({beta}\\right)\""
   ]
  },
  {
   "cell_type": "code",
   "execution_count": null,
   "metadata": {
    "tags": []
   },
   "outputs": [],
   "source": [
    "@implement_doit_method()\n",
    "class RotationY(UnevaluatedExpression):\n",
    "    def __new__(cls, angle: sp.Symbol, **hints: Any) -> \"RotationY\":\n",
    "        return create_expression(cls, angle, **hints)\n",
    "\n",
    "    def evaluate(self) -> sp.Expr:\n",
    "        angle = self.args[0]\n",
    "        return sp.Matrix(\n",
    "            [\n",
    "                [1, 0, 0, 0],\n",
    "                [0, sp.cos(angle), 0, sp.sin(angle)],\n",
    "                [0, 0, 1, 0],\n",
    "                [0, -sp.sin(angle), 0, sp.cos(angle)],\n",
    "            ]\n",
    "        )\n",
    "\n",
    "    def _latex(self, printer, *args) -> str:\n",
    "        angle, *_ = self.args\n",
    "        angle = printer._print(angle)\n",
    "        return fR\"\\boldsymbol{{R_y}}\\left({angle}\\right)\""
   ]
  },
  {
   "cell_type": "code",
   "execution_count": null,
   "metadata": {
    "jupyter": {
     "source_hidden": true
    },
    "tags": [
     "hide-cell"
    ]
   },
   "outputs": [],
   "source": [
    "@implement_doit_method()\n",
    "class RotationZ(UnevaluatedExpression):\n",
    "    def __new__(cls, angle: sp.Symbol, **hints: Any) -> \"RotationZ\":\n",
    "        return create_expression(cls, angle, **hints)\n",
    "\n",
    "    def evaluate(self) -> sp.Expr:\n",
    "        angle = self.args[0]\n",
    "        return sp.Matrix(\n",
    "            [\n",
    "                [1, 0, 0, 0],\n",
    "                [0, sp.cos(angle), -sp.sin(angle), 0],\n",
    "                [0, sp.sin(angle), sp.cos(angle), 0],\n",
    "                [0, 0, 0, 1],\n",
    "            ]\n",
    "        )\n",
    "\n",
    "    def _latex(self, printer, *args) -> str:\n",
    "        angle, *_ = self.args\n",
    "        angle = printer._print(angle)\n",
    "        return fR\"\\boldsymbol{{R_y}}\\left({angle}\\right)\""
   ]
  },
  {
   "cell_type": "markdown",
   "metadata": {},
   "source": [
    "### Define Einstein summation class"
   ]
  },
  {
   "cell_type": "markdown",
   "metadata": {},
   "source": [
    "Similarly, we define a `ArrayMultiplication` class that will eventually be lambdified to `np.einsum`."
   ]
  },
  {
   "cell_type": "code",
   "execution_count": null,
   "metadata": {
    "tags": []
   },
   "outputs": [],
   "source": [
    "@implement_doit_method()\n",
    "class ArrayMultiplication(UnevaluatedExpression):\n",
    "    def __new__(cls, *tensors: sp.Symbol, **hints: Any):\n",
    "        return create_expression(cls, *tensors, **hints)\n",
    "\n",
    "    def evaluate(self) -> sp.Expr:\n",
    "        tensors = self.args\n",
    "        return sp.Mul(*tensors)\n",
    "\n",
    "    def _latex(self, printer, *args) -> str:\n",
    "        tensors_latex = map(printer._print, self.args)\n",
    "        return \" \".join(tensors_latex)"
   ]
  },
  {
   "cell_type": "markdown",
   "metadata": {},
   "source": [
    "Indeed an expression involving these classes looks nice on the top-level:"
   ]
  },
  {
   "cell_type": "code",
   "execution_count": null,
   "metadata": {},
   "outputs": [],
   "source": [
    "n_events = 3\n",
    "# n_events = sp.Symbol(\"n\", integer=True, positive=True)\n",
    "momentum = sp.MatrixSymbol(\"p\", m=n_events, n=4)\n",
    "beta = sp.Symbol(\"beta\")\n",
    "phi = sp.Symbol(\"phi\")\n",
    "theta = sp.Symbol(\"theta\")\n",
    "\n",
    "boosted_momentum = ArrayMultiplication(\n",
    "    BoostZ(beta),\n",
    "    RotationY(-theta),\n",
    "    RotationZ(-phi),\n",
    "    momentum,\n",
    ")\n",
    "boosted_momentum"
   ]
  },
  {
   "cell_type": "markdown",
   "metadata": {},
   "source": [
    "The expression can be further evaluated:"
   ]
  },
  {
   "cell_type": "code",
   "execution_count": null,
   "metadata": {},
   "outputs": [],
   "source": [
    "boosted_momentum.doit()"
   ]
  },
  {
   "cell_type": "markdown",
   "metadata": {},
   "source": [
    "And can even be expressed in terms of matrix elements:"
   ]
  },
  {
   "cell_type": "code",
   "execution_count": null,
   "metadata": {
    "tags": [
     "full-width"
    ]
   },
   "outputs": [],
   "source": [
    "boosted_momentum.doit().as_explicit()"
   ]
  },
  {
   "cell_type": "markdown",
   "metadata": {},
   "source": [
    ":::{note}\n",
    "\n",
    "It could be that the above can be achieved with SymPy's `ArrayTensorProduct` and `ArrayContraction`. See for instance {issue}`sympy/sympy#22279`.\n",
    "\n",
    ":::"
   ]
  },
  {
   "cell_type": "markdown",
   "metadata": {},
   "source": [
    "### Define lambdification"
   ]
  },
  {
   "cell_type": "code",
   "execution_count": null,
   "metadata": {
    "jupyter": {
     "source_hidden": true
    },
    "tags": [
     "hide-cell"
    ]
   },
   "outputs": [],
   "source": [
    "# small helper function\n",
    "def print_lambdify(symbols, expr):\n",
    "    np_expr = sp.lambdify(symbols, expr)\n",
    "    src = inspect.getsource(np_expr)\n",
    "    src = black.format_str(src, mode=black.Mode(line_length=79))\n",
    "    print(src)"
   ]
  },
  {
   "cell_type": "markdown",
   "metadata": {},
   "source": [
    "Now we have a problem: lambdification does not work..."
   ]
  },
  {
   "cell_type": "code",
   "execution_count": null,
   "metadata": {},
   "outputs": [],
   "source": [
    "print_lambdify([beta, theta, momentum], boosted_momentum)"
   ]
  },
  {
   "cell_type": "markdown",
   "metadata": {},
   "source": [
    "But lambdification can be defined externally to both the SymPy library and the expression classes. Here's an implementation for NumPy where we define the lambdification **through the expression class** (with a `_numpycode` method):"
   ]
  },
  {
   "cell_type": "code",
   "execution_count": null,
   "metadata": {
    "tags": []
   },
   "outputs": [],
   "source": [
    "def print_as_numpy(self, printer: Printer, *args: Any) -> str:\n",
    "    def multiply(matrix, vector):\n",
    "        return (\n",
    "            'np.einsum(\"ij...,j...\",'\n",
    "            f\" np.transpose({matrix}, axes=(1, 2, 0)),\"\n",
    "            f\" np.transpose({vector}))\"\n",
    "        )\n",
    "\n",
    "    def recursive_multiply(tensors):\n",
    "        if len(tensors) < 2:\n",
    "            raise ValueError(\"Need at least two tensors\")\n",
    "        if len(tensors) == 2:\n",
    "            return multiply(tensors[0], tensors[1])\n",
    "        return multiply(tensors[0], recursive_multiply(tensors[1:]))\n",
    "\n",
    "    tensors = list(map(printer._print, self.args))\n",
    "    if len(tensors) == 0:\n",
    "        return \"\"\n",
    "    if len(tensors) == 1:\n",
    "        return tensors[0]\n",
    "    return recursive_multiply(tensors)\n",
    "\n",
    "\n",
    "ArrayMultiplication._numpycode = print_as_numpy"
   ]
  },
  {
   "cell_type": "code",
   "execution_count": null,
   "metadata": {},
   "outputs": [],
   "source": [
    "print_lambdify(\n",
    "    symbols=[beta, theta, momentum],\n",
    "    expr=ArrayMultiplication(beta, theta, momentum),\n",
    ")"
   ]
  },
  {
   "cell_type": "markdown",
   "metadata": {},
   "source": [
    "This also needs to be done for the rotation and boost classes:"
   ]
  },
  {
   "cell_type": "code",
   "execution_count": null,
   "metadata": {
    "tags": []
   },
   "outputs": [],
   "source": [
    "print_lambdify([beta, theta, momentum], boosted_momentum)"
   ]
  },
  {
   "cell_type": "markdown",
   "metadata": {},
   "source": [
    "This time, we define the lambdification **through the printer class**:"
   ]
  },
  {
   "cell_type": "code",
   "execution_count": null,
   "metadata": {
    "tags": []
   },
   "outputs": [],
   "source": [
    "def _print_BoostZ(self: NumPyPrinter, expr: BoostZ) -> str:\n",
    "    self.module_imports[\"numpy\"].update({\"array\", \"ones\", \"zeros\", \"sqrt\"})\n",
    "    arg = expr.args[0]\n",
    "    beta = self._print(arg)\n",
    "    gamma = f\"1 / sqrt(1 - {beta} ** 2)\"\n",
    "    n_events = f\"len({beta})\"\n",
    "    zeros = f\"zeros({n_events})\"\n",
    "    ones = f\"ones({n_events})\"\n",
    "    return f\"\"\"array(\n",
    "        [\n",
    "            [{gamma}, {zeros}, {zeros}, -{gamma} * {beta}],\n",
    "            [{zeros}, {ones}, {zeros}, {zeros}],\n",
    "            [{zeros}, {zeros}, {ones}, {zeros}],\n",
    "            [-{gamma} * {beta}, {zeros}, {zeros}, {gamma}],\n",
    "        ]\n",
    "    ).transpose(2, 0, 1)\"\"\"\n",
    "\n",
    "\n",
    "NumPyPrinter._print_BoostZ = _print_BoostZ"
   ]
  },
  {
   "cell_type": "code",
   "execution_count": null,
   "metadata": {},
   "outputs": [],
   "source": [
    "def _print_RotationY(self: NumPyPrinter, expr: RotationY) -> str:\n",
    "    self.module_imports[\"numpy\"].update(\n",
    "        {\"array\", \"cos\", \"ones\", \"zeros\", \"sin\"}\n",
    "    )\n",
    "    arg = expr.args[0]\n",
    "    angle = self._print(arg)\n",
    "    n_events = f\"len({angle})\"\n",
    "    zeros = f\"zeros({n_events})\"\n",
    "    ones = f\"ones({n_events})\"\n",
    "    return f\"\"\"array(\n",
    "        [\n",
    "            [{ones}, {zeros}, {zeros}, {zeros}],\n",
    "            [{zeros}, cos({angle}), {zeros}, sin({angle})],\n",
    "            [{zeros}, {zeros}, {ones}, {zeros}],\n",
    "            [{zeros}, -sin({angle}), {zeros}, cos({angle})],\n",
    "        ]\n",
    "    ).transpose(2, 0, 1)\"\"\"\n",
    "\n",
    "\n",
    "NumPyPrinter._print_RotationY = _print_RotationY"
   ]
  },
  {
   "cell_type": "code",
   "execution_count": null,
   "metadata": {
    "jupyter": {
     "source_hidden": true
    },
    "tags": [
     "hide-cell"
    ]
   },
   "outputs": [],
   "source": [
    "def _print_RotationZ(self: NumPyPrinter, expr: RotationZ) -> str:\n",
    "    self.module_imports[\"numpy\"].update(\n",
    "        {\"array\", \"cos\", \"ones\", \"zeros\", \"sin\"}\n",
    "    )\n",
    "    arg = expr.args[0]\n",
    "    angle = self._print(arg)\n",
    "    n_events = f\"len({angle})\"\n",
    "    zeros = f\"zeros({n_events})\"\n",
    "    ones = f\"ones({n_events})\"\n",
    "    return f\"\"\"array(\n",
    "        [\n",
    "            [{ones}, {zeros}, {zeros}, {zeros}],\n",
    "            [{zeros}, cos({angle}), -sin({angle}), {zeros}],\n",
    "            [{zeros}, sin({angle}), cos({angle}), {zeros}],\n",
    "            [{zeros}, {zeros}, {zeros}, {ones}],\n",
    "        ]\n",
    "    ).transpose(2, 0, 1)\"\"\"\n",
    "\n",
    "\n",
    "NumPyPrinter._print_RotationZ = _print_RotationZ"
   ]
  },
  {
   "cell_type": "code",
   "execution_count": null,
   "metadata": {
    "tags": [
     "scroll-output"
    ]
   },
   "outputs": [],
   "source": [
    "print_lambdify([beta, theta, momentum], boosted_momentum)"
   ]
  },
  {
   "cell_type": "markdown",
   "metadata": {},
   "source": [
    ":::{note}\n",
    "\n",
    "The code above contains a lot of duplicate code, such as `len(-phi)`. This could possibly be improved with {class}`~sympy.codegen.ast.CodeBlock`. See {issue}`ComPWA/ampform#166`.\n",
    "\n",
    ":::"
   ]
  }
 ],
 "metadata": {
  "kernelspec": {
   "display_name": "Python 3 (ipykernel)",
   "language": "python",
   "name": "python3"
  },
  "language_info": {
   "codemirror_mode": {
    "name": "ipython",
    "version": 3
   },
   "file_extension": ".py",
   "mimetype": "text/x-python",
   "name": "python",
   "nbconvert_exporter": "python",
   "pygments_lexer": "ipython3",
   "version": "3.8.12"
  }
 },
 "nbformat": 4,
 "nbformat_minor": 4
}
