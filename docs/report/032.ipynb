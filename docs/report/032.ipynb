{
 "cells": [
  {
   "cell_type": "markdown",
   "metadata": {
    "tags": []
   },
   "source": [
    "```{autolink-concat}\n",
    "```"
   ]
  },
  {
   "cell_type": "markdown",
   "metadata": {
    "tags": []
   },
   "source": [
    "::::{margin}\n",
    ":::{card} Amplitude building with K-matrix dynamics\n",
    "TR-031\n",
    "^^^\n",
    "Illustration of how to formulate an amplitude model with P-vector dynamics.\n",
    ":::\n",
    "::::"
   ]
  },
  {
   "cell_type": "markdown",
   "metadata": {
    "tags": []
   },
   "source": [
    "# P-vector fit comparison"
   ]
  },
  {
   "cell_type": "code",
   "execution_count": null,
   "metadata": {
    "tags": [
     "remove-cell"
    ]
   },
   "outputs": [],
   "source": [
    "%pip install -q 'qrules[viz]==0.10.2' 'tensorwaves[jax,phsp]==0.4.12' ampform==0.15.4 pandas==2.2.2 sympy==1.12"
   ]
  },
  {
   "cell_type": "code",
   "execution_count": null,
   "metadata": {
    "jupyter": {
     "source_hidden": true
    },
    "tags": [
     "hide-input",
     "scroll-input"
    ]
   },
   "outputs": [],
   "source": [
    "from __future__ import annotations\n",
    "\n",
    "import re\n",
    "from collections import defaultdict\n",
    "from dataclasses import dataclass\n",
    "from typing import Any, Iterable, Mapping\n",
    "\n",
    "import ampform\n",
    "import attrs\n",
    "import matplotlib.pyplot as plt\n",
    "import numpy as np\n",
    "import pandas as pd\n",
    "import qrules\n",
    "import sympy as sp\n",
    "from ampform.dynamics.builder import TwoBodyKinematicVariableSet\n",
    "from ampform.helicity import HelicityModel, ParameterValues\n",
    "from ampform.io import aslatex\n",
    "from ampform.kinematics.phasespace import Kallen\n",
    "from ampform.sympy import perform_cached_doit, unevaluated\n",
    "from IPython.display import Math, display\n",
    "from matplotlib import cm\n",
    "from qrules.particle import Particle, ParticleCollection\n",
    "from qrules.transition import ReactionInfo\n",
    "from sympy import Abs\n",
    "from sympy.matrices.expressions.matexpr import MatrixElement\n",
    "from tensorwaves.data import (\n",
    "    IntensityDistributionGenerator,\n",
    "    SympyDataTransformer,\n",
    "    TFPhaseSpaceGenerator,\n",
    "    TFUniformRealNumberGenerator,\n",
    "    TFWeightedPhaseSpaceGenerator,\n",
    ")\n",
    "from tensorwaves.estimator import UnbinnedNLL\n",
    "from tensorwaves.function.sympy import create_parametrized_function\n",
    "from tensorwaves.interface import DataSample, Estimator, Function, ParameterValue\n",
    "from tensorwaves.optimizer import Minuit2\n",
    "from tensorwaves.optimizer.callbacks import CSVSummary\n",
    "\n",
    "_ = np.seterr(invalid=\"ignore\")"
   ]
  },
  {
   "cell_type": "markdown",
   "metadata": {},
   "source": [
    "## Collect dynamics symbols"
   ]
  },
  {
   "cell_type": "code",
   "execution_count": null,
   "metadata": {},
   "outputs": [],
   "source": [
    "def create_dynamics_symbol(\n",
    "    resonance: Particle, variable_pool: TwoBodyKinematicVariableSet\n",
    ") -> tuple[sp.Expr, dict[sp.Symbol, float]]:\n",
    "    J = sp.Rational(resonance.spin)\n",
    "    Q = resonance.charge\n",
    "    P = sp.Rational(resonance.parity)\n",
    "    if variable_pool.angular_momentum is not None:\n",
    "        L = sp.Rational(variable_pool.angular_momentum)\n",
    "        X = sp.Symbol(Rf\"X_{{Q={Q:+d}, S={J}, P ={P}}}^{{l={L}}}\")\n",
    "    else:\n",
    "        X = sp.Symbol(Rf\"X_{{Q={Q:+d}, S={J}, P ={P}}}\")\n",
    "    COLLECTED_X_SYMBOLS[X].add((resonance, variable_pool))\n",
    "    parameter_defaults = {}\n",
    "    return X, parameter_defaults\n",
    "\n",
    "\n",
    "COLLECTED_X_SYMBOLS = defaultdict(set)"
   ]
  },
  {
   "cell_type": "code",
   "execution_count": null,
   "metadata": {
    "tags": []
   },
   "outputs": [],
   "source": [
    "def load_particle_database() -> ParticleCollection:\n",
    "    particle_database = qrules.load_default_particles()\n",
    "    additional_definitions = qrules.io.load(\"030/additional-definitions.yml\")\n",
    "    particle_database.update(additional_definitions)\n",
    "    return particle_database\n",
    "\n",
    "\n",
    "PARTICLE_DB = load_particle_database()"
   ]
  },
  {
   "cell_type": "code",
   "execution_count": null,
   "metadata": {
    "tags": []
   },
   "outputs": [],
   "source": [
    "FINAL_STATES: list[tuple[str, ...]] = [\n",
    "    [\"K0\", \"Sigma+\", \"p~\"],\n",
    "    [\"eta\", \"p\", \"p~\"],\n",
    "]\n",
    "REACTIONS: list[ReactionInfo] = [\n",
    "    qrules.generate_transitions(\n",
    "        initial_state=\"J/psi(1S)\",\n",
    "        final_state=final_state,\n",
    "        allowed_intermediate_particles=[\"N**1\"],\n",
    "        allowed_interaction_types=[\"strong\"],\n",
    "        formalism=\"helicity\",\n",
    "        particle_db=PARTICLE_DB,\n",
    "    )\n",
    "    for final_state in FINAL_STATES\n",
    "]"
   ]
  },
  {
   "cell_type": "code",
   "execution_count": null,
   "metadata": {
    "tags": []
   },
   "outputs": [],
   "source": [
    "MODELS: list[HelicityModel] = []\n",
    "for reaction in REACTIONS:\n",
    "    builder = ampform.get_builder(reaction)\n",
    "    builder.adapter.permutate_registered_topologies()\n",
    "    builder.scalar_initial_state_mass = True\n",
    "    builder.stable_final_state_ids = [0, 1, 2]\n",
    "    for resonance in reaction.get_intermediate_particles():\n",
    "        builder.set_dynamics(resonance.name, create_dynamics_symbol)\n",
    "    MODELS.append(builder.formulate())"
   ]
  },
  {
   "cell_type": "code",
   "execution_count": null,
   "metadata": {
    "tags": []
   },
   "outputs": [],
   "source": [
    "selected_amplitudes = {\n",
    "    k: v for i, (k, v) in enumerate(MODELS[0].amplitudes.items()) if i < 3\n",
    "}"
   ]
  },
  {
   "cell_type": "code",
   "execution_count": null,
   "metadata": {
    "tags": [
     "hide-input"
    ]
   },
   "outputs": [],
   "source": [
    "for X, resonance_info in COLLECTED_X_SYMBOLS.items():\n",
    "    for res, _ in sorted(resonance_info):\n",
    "        display(X)\n",
    "        print(f\"  {res.name:<20s} {res.mass:>8g} GeV  {res.width:>8g} GeV\")"
   ]
  },
  {
   "cell_type": "code",
   "execution_count": null,
   "metadata": {
    "tags": []
   },
   "outputs": [],
   "source": [
    "@dataclass\n",
    "class TwoBodyDecay:  # specific to the channel\n",
    "    child1: Particle\n",
    "    child2: Particle\n",
    "\n",
    "\n",
    "DECAYS = tuple(\n",
    "    TwoBodyDecay(\n",
    "        child1=reaction.final_state[0],\n",
    "        child2=reaction.final_state[1],\n",
    "    )\n",
    "    for reaction in REACTIONS\n",
    ")\n",
    "s = sp.Symbol(\"m_01\", real=True) ** 2\n",
    "\n",
    "PARAMETERS_DEFAULTS = {}\n",
    "for model in MODELS:\n",
    "    PARAMETERS_DEFAULTS.update(model.parameter_defaults)\n",
    "    del model\n",
    "\n",
    "resonances, *_ = COLLECTED_X_SYMBOLS.values()"
   ]
  },
  {
   "cell_type": "markdown",
   "metadata": {
    "tags": []
   },
   "source": [
    "## Formulate dynamics expression"
   ]
  },
  {
   "cell_type": "code",
   "execution_count": null,
   "metadata": {
    "tags": []
   },
   "outputs": [],
   "source": [
    "for symbol, resonances in COLLECTED_X_SYMBOLS.items():\n",
    "    display(symbol)\n",
    "    for p, _ in resonances:\n",
    "        print(f\"  {p.name:<20s} {p.mass:>8g} GeV  {p.width:>8g} GeV \")\n",
    "MODELS[0].parameter_defaults"
   ]
  },
  {
   "cell_type": "markdown",
   "metadata": {
    "tags": []
   },
   "source": [
    "## Formulate Dynamics"
   ]
  },
  {
   "cell_type": "markdown",
   "metadata": {},
   "source": [
    "### Phasespace factor"
   ]
  },
  {
   "cell_type": "code",
   "execution_count": null,
   "metadata": {
    "tags": [
     "hide-input"
    ]
   },
   "outputs": [],
   "source": [
    "@unevaluated(real=False)\n",
    "class PhaseSpaceCM(sp.Expr):\n",
    "    s: Any\n",
    "    m1: Any\n",
    "    m2: Any\n",
    "    _latex_repr_ = R\"\\rho^\\mathrm{{CM}}_{{{m1},{m2}}}\\left({s}\\right)\"\n",
    "\n",
    "    def evaluate(self) -> sp.Expr:\n",
    "        s, m1, m2 = self.args\n",
    "        return -16 * sp.pi * sp.I * ChewMandelstam(s, m1, m2)\n",
    "\n",
    "\n",
    "@unevaluated(real=False)\n",
    "class ChewMandelstam(sp.Expr):\n",
    "    s: Any\n",
    "    m1: Any\n",
    "    m2: Any\n",
    "    _latex_repr_ = R\"\\Sigma\\left({s}\\right)\"\n",
    "\n",
    "    def evaluate(self) -> sp.Expr:\n",
    "        s, m1, m2 = self.args\n",
    "        q = BreakupMomentum(s, m1, m2)\n",
    "        return (\n",
    "            1\n",
    "            / (16 * sp.pi**2)\n",
    "            * (\n",
    "                (2 * q / sp.sqrt(s))\n",
    "                * sp.log(Abs((m1**2 + m2**2 - s + 2 * sp.sqrt(s) * q) / (2 * m1 * m2)))\n",
    "                - (m1**2 - m2**2) * (1 / s - 1 / (m1 + m2) ** 2) * sp.log(m1 / m2)\n",
    "            )\n",
    "        )\n",
    "\n",
    "\n",
    "@unevaluated(real=False)\n",
    "class BreakupMomentum(sp.Expr):\n",
    "    s: Any\n",
    "    m1: Any\n",
    "    m2: Any\n",
    "    _latex_repr_ = R\"q\\left({s}\\right)\"\n",
    "\n",
    "    def evaluate(self) -> sp.Expr:\n",
    "        s, m1, m2 = self.args\n",
    "        return sp.sqrt(Kallen(s, m1**2, m2**2)) / (2 * sp.sqrt(s))\n",
    "\n",
    "\n",
    "s, m1, m2 = sp.symbols(\"s m1 m2\")\n",
    "exprs = [\n",
    "    PhaseSpaceCM(s, m1, m2),\n",
    "    ChewMandelstam(s, m1, m2),\n",
    "    BreakupMomentum(s, m1, m2),\n",
    "]\n",
    "Math(aslatex({e: e.doit(deep=False) for e in exprs}))"
   ]
  },
  {
   "cell_type": "code",
   "execution_count": null,
   "metadata": {
    "tags": [
     "hide-input"
    ]
   },
   "outputs": [],
   "source": [
    "@unevaluated(real=False)\n",
    "class ChannelWidth(sp.Expr):\n",
    "    s: Any\n",
    "    m1: Any\n",
    "    m2: Any\n",
    "    width: Any\n",
    "    _latex_repr_ = R\"\\Gamma_s\\left({s}\\right)\"\n",
    "\n",
    "    def evaluate(self) -> sp.Expr:\n",
    "        s, m1, m2, width = self.args\n",
    "        return width * PhaseSpaceCM(s, m1, m2)\n",
    "\n",
    "\n",
    "s, m1, m2, width = sp.symbols(\"s m1 m2 gamma0\")\n",
    "expr = ChannelWidth(s, m1, m2, width)\n",
    "Math(aslatex({expr: expr.doit(deep=False)}))"
   ]
  },
  {
   "cell_type": "code",
   "execution_count": null,
   "metadata": {
    "tags": [
     "hide-input"
    ]
   },
   "outputs": [],
   "source": [
    "@unevaluated(real=False)\n",
    "class CM(sp.Expr):\n",
    "    s: Any\n",
    "    m1: Any\n",
    "    m2: Any\n",
    "    _latex_repr_ = R\"CM_{{{m1},{m2}}}\\left({s}\\right)\"\n",
    "\n",
    "    def evaluate(self) -> sp.Expr:\n",
    "        s, m1, m2 = self.args\n",
    "        return (\n",
    "            -2\n",
    "            / sp.pi\n",
    "            * (\n",
    "                -1\n",
    "                / s\n",
    "                * sp.sqrt(((m1 + m2) ** 2 - s) * ((m1 - m2) ** 2 - s))\n",
    "                * sp.log(\n",
    "                    (sp.sqrt((m1 + m2) ** 2 - s) + sp.sqrt((m1 - m2) ** 2 - s))\n",
    "                    / (2 * sp.sqrt(m1 * m2))\n",
    "                )\n",
    "                + (m1**2 - m2**2) / (2 * s) * sp.log(m1 / m2)\n",
    "                - (m1**2 + m2**2) / (2 * (m1**2 - m2**2)) * sp.log(m1 / m2)\n",
    "                - 1 / 2\n",
    "            )\n",
    "        )\n",
    "\n",
    "\n",
    "s, m1, m2 = sp.symbols(\"s m1 m2\")\n",
    "CM_expr = CM(s, m1, m2)\n",
    "Math(aslatex({CM_expr: CM_expr.doit(deep=False)}))"
   ]
  },
  {
   "cell_type": "markdown",
   "metadata": {
    "tags": []
   },
   "source": [
    "### \n",
    "\n",
    "Relativistic Breit-Wigner"
   ]
  },
  {
   "cell_type": "code",
   "execution_count": null,
   "metadata": {
    "tags": []
   },
   "outputs": [],
   "source": [
    "PARAMETERS_BW = {}\n",
    "\n",
    "\n",
    "def formulate_breit_wigner(\n",
    "    resonances: list[tuple[Particle, TwoBodyKinematicVariableSet]],\n",
    ") -> sp.Expr:\n",
    "    (_, variables), *_ = resonances\n",
    "    s = variables.incoming_state_mass**2\n",
    "    m_a = variables.outgoing_state_mass1\n",
    "    m_b = variables.outgoing_state_mass2\n",
    "    w = [sp.Symbol(Rf\"w_{{{p.latex}}}\") for p, _ in resonances]\n",
    "    m = [sp.Symbol(Rf\"m_{{{p.latex}}}\") for p, _ in resonances]\n",
    "    b = [sp.Symbol(Rf\"b_{{{p.latex}}}\") for p, _ in resonances]\n",
    "    d = [sp.Symbol(Rf\"d_{{{p.latex}}}\") for p, _ in resonances]\n",
    "    L = [sp.Symbol(Rf\"L_{{{p.latex}}}\") for p, _ in resonances]\n",
    "    w_s = (ChannelWidth(s, m_a, m_b, w_) for w_ in w)\n",
    "    rel_bw = sum((w_ * m_) / (m_**2 - s - m_ * w_s_) for m_, w_, w_s_ in zip(m, w, w_s))\n",
    "    for i, (resonance, _) in enumerate(resonances):\n",
    "        PARAMETERS_BW[w[i]] = resonance.width\n",
    "        PARAMETERS_BW[m[i]] = resonance.mass\n",
    "        PARAMETERS_BW[b[i]] = 1\n",
    "        PARAMETERS_BW[d[i]] = 1\n",
    "        PARAMETERS_BW[L[i]] = 0\n",
    "    return rel_bw"
   ]
  },
  {
   "cell_type": "markdown",
   "metadata": {
    "tags": []
   },
   "source": [
    "### Define matrix symbols"
   ]
  },
  {
   "cell_type": "code",
   "execution_count": null,
   "metadata": {
    "tags": []
   },
   "outputs": [],
   "source": [
    "n_channels = len(REACTIONS)\n",
    "I = sp.Identity(n_channels)\n",
    "K = sp.MatrixSymbol(\"K\", n_channels, n_channels)\n",
    "P = sp.MatrixSymbol(\"P\", n_channels, 1)\n",
    "F = sp.MatrixSymbol(\"F\", n_channels, 1)\n",
    "rho = sp.MatrixSymbol(\"rho\", n_channels, n_channels)"
   ]
  },
  {
   "cell_type": "markdown",
   "metadata": {
    "tags": []
   },
   "source": [
    "\n",
    "\n",
    "### $K$ matrix "
   ]
  },
  {
   "cell_type": "code",
   "execution_count": null,
   "metadata": {
    "tags": [
     "hide-input",
     "full-width"
    ]
   },
   "outputs": [],
   "source": [
    "def formulate_k_matrix(\n",
    "    resonances: list[tuple[Particle, int]], n_channels: int\n",
    ") -> dict[MatrixElement, sp.Expr]:\n",
    "    Kmatrix_expressions = {}\n",
    "    for i in range(n_channels):\n",
    "        for j in range(n_channels):\n",
    "            resonance_contributions = []\n",
    "            for res, _ in resonances:\n",
    "                s = sp.Symbol(\"m_01\", real=True) ** 2\n",
    "                m_a_i = sp.Symbol(Rf\"m_{{0,{i}}}\")\n",
    "                m_b_i = sp.Symbol(Rf\"m_{{1,{i}}}\")\n",
    "                m_a_j = sp.Symbol(Rf\"m_{{0,{j}}}\")\n",
    "                m_b_j = sp.Symbol(Rf\"m_{{1,{j}}}\")\n",
    "                g_Ri = sp.Symbol(Rf\"g_{{{res.latex},{i}}}\")\n",
    "                g_Rj = sp.Symbol(Rf\"g_{{{res.latex},{j}}}\")\n",
    "                m_R = sp.Symbol(Rf\"m_{{{res.latex}}}\")\n",
    "                parameter_defaults = {\n",
    "                    m_a_i: DECAYS[i].child1.mass,\n",
    "                    m_b_i: DECAYS[i].child2.mass,\n",
    "                    m_a_j: DECAYS[j].child1.mass,\n",
    "                    m_b_j: DECAYS[j].child2.mass,\n",
    "                    m_R: res.mass,\n",
    "                    g_Ri: 1,\n",
    "                    g_Rj: 0.1,\n",
    "                }\n",
    "                PARAMETERS_DEFAULTS.update(parameter_defaults)\n",
    "                expr = (g_Ri * g_Rj) / (m_R**2 - s)\n",
    "                resonance_contributions.append(expr)\n",
    "            Kmatrix_expressions[K[i, j]] = sum(resonance_contributions)\n",
    "\n",
    "    return Kmatrix_expressions\n",
    "\n",
    "\n",
    "K_expressions = formulate_k_matrix(resonances, n_channels=len(REACTIONS))\n",
    "Math(aslatex(K_expressions))\n",
    "K_matrix = K.as_explicit()\n",
    "K.as_explicit().xreplace(K_expressions)"
   ]
  },
  {
   "cell_type": "markdown",
   "metadata": {},
   "source": [
    "### $P$ vector"
   ]
  },
  {
   "cell_type": "code",
   "execution_count": null,
   "metadata": {
    "tags": [
     "hide-input"
    ]
   },
   "outputs": [],
   "source": [
    "def formulate_p_vector(\n",
    "    resonances: list[tuple[Particle, int]], n_channels: int\n",
    ") -> dict[MatrixElement, sp.Expr]:\n",
    "    P_expressions = {}\n",
    "    for i in range(n_channels):\n",
    "        resonance_contributions = []\n",
    "        for res, _ in resonances:\n",
    "            s = sp.Symbol(\"m_01\", real=True) ** 2\n",
    "            m_a = sp.Symbol(Rf\"m_{{0,{i}}}\")\n",
    "            m_b = sp.Symbol(Rf\"m_{{1,{i}}}\")\n",
    "            g_Ri = sp.Symbol(Rf\"g_{{{res.latex},{i}}}\")\n",
    "            beta_R = sp.Symbol(Rf\"\\beta_{{{res.latex}}}\")\n",
    "            m_R = sp.Symbol(Rf\"m_{{{res.latex}}}\")\n",
    "\n",
    "            parameter_defaults = {\n",
    "                m_a: DECAYS[i].child1.mass,\n",
    "                m_b: DECAYS[i].child2.mass,\n",
    "                m_R: res.mass,\n",
    "                beta_R: 1 + 0j,\n",
    "                g_Ri: 1,\n",
    "            }\n",
    "            PARAMETERS_DEFAULTS.update(parameter_defaults)\n",
    "            expr = (beta_R * g_Ri) / (m_R**2 - s)\n",
    "            resonance_contributions.append(expr)\n",
    "        P_expressions[P[i, 0]] = sum(resonance_contributions)\n",
    "\n",
    "    return P_expressions\n",
    "\n",
    "\n",
    "P_expressions = formulate_p_vector(resonances, n_channels=len(REACTIONS))\n",
    "Math(aslatex(P_expressions))\n",
    "P_vector = P.as_explicit()\n",
    "P.as_explicit().xreplace(P_expressions)"
   ]
  },
  {
   "cell_type": "markdown",
   "metadata": {},
   "source": [
    "### Phase space"
   ]
  },
  {
   "cell_type": "code",
   "execution_count": null,
   "metadata": {
    "tags": [
     "hide-input"
    ]
   },
   "outputs": [],
   "source": [
    "def formulate_phsp_factor_matrix(n_channels: int) -> dict[sp.MatrixElement, sp.Expr]:\n",
    "    matrix_expressions = {}\n",
    "\n",
    "    for i in range(n_channels):\n",
    "        for j in range(n_channels):\n",
    "            if i == j:\n",
    "                m_a_i = sp.Symbol(Rf\"m_{{0,{i}}}\")\n",
    "                m_b_i = sp.Symbol(Rf\"m_{{1,{i}}}\")\n",
    "                s = sp.Symbol(\"m_01\", real=True) ** 2\n",
    "                rho_i = PhaseSpaceCM(s, m_a_i, m_b_i)\n",
    "                matrix_expressions[rho[i, j]] = rho_i\n",
    "                parameter_defaults = {\n",
    "                    m_a_i: DECAYS[i].child1.mass,\n",
    "                    m_b_i: DECAYS[i].child2.mass,\n",
    "                }\n",
    "                PARAMETERS_DEFAULTS.update(parameter_defaults)\n",
    "            else:\n",
    "                matrix_expressions[rho[i, j]] = 0\n",
    "\n",
    "    return matrix_expressions\n",
    "\n",
    "\n",
    "rho_expressions = formulate_phsp_factor_matrix(n_channels=len(REACTIONS))\n",
    "rho.as_explicit().xreplace(rho_expressions)"
   ]
  },
  {
   "cell_type": "markdown",
   "metadata": {
    "tags": []
   },
   "source": [
    "### $F$ vector"
   ]
  },
  {
   "cell_type": "markdown",
   "metadata": {},
   "source": [
    ":::{note}\n",
    "For some reason one has to leave out the multiplication of $\\rho$ by $i$ within the calculation of the $F$ vector\n",
    ":::"
   ]
  },
  {
   "cell_type": "code",
   "execution_count": null,
   "metadata": {
    "tags": []
   },
   "outputs": [],
   "source": [
    "F = (I - sp.I * K * rho).inv() * P\n",
    "F"
   ]
  },
  {
   "cell_type": "code",
   "execution_count": null,
   "metadata": {
    "tags": [
     "full-width"
    ]
   },
   "outputs": [],
   "source": [
    "F_vector = F.as_explicit()"
   ]
  },
  {
   "cell_type": "code",
   "execution_count": null,
   "metadata": {},
   "outputs": [],
   "source": [
    "combined_expressions = {**K_expressions, **rho_expressions, **P_expressions}\n",
    "F_exprs = F_vector.xreplace(combined_expressions)\n",
    "F_exprs[0].simplify(doit=False)"
   ]
  },
  {
   "cell_type": "markdown",
   "metadata": {
    "tags": []
   },
   "source": [
    "### Model $F$ vector"
   ]
  },
  {
   "cell_type": "code",
   "execution_count": null,
   "metadata": {},
   "outputs": [],
   "source": [
    "F_unfolded_exprs = np.array([perform_cached_doit(expr) for expr in F_exprs])"
   ]
  },
  {
   "cell_type": "code",
   "execution_count": null,
   "metadata": {
    "tags": []
   },
   "outputs": [],
   "source": [
    "DYNAMICS_EXPRESSIONS_FVECTOR = []\n",
    "for i in range(n_channels):\n",
    "    exprs = {\n",
    "        symbol: F_unfolded_exprs[i]\n",
    "        for symbol, resonances in COLLECTED_X_SYMBOLS.items()\n",
    "    }\n",
    "    DYNAMICS_EXPRESSIONS_FVECTOR.append(exprs)\n",
    "\n",
    "MODELS_FVECTOR = []\n",
    "for i in range(n_channels):\n",
    "    MODELS_FVECTOR.append(\n",
    "        attrs.evolve(\n",
    "            MODELS[i],\n",
    "            parameter_defaults=ParameterValues({\n",
    "                **MODELS[i].parameter_defaults,\n",
    "                **PARAMETERS_DEFAULTS,\n",
    "            }),\n",
    "        )\n",
    "    )"
   ]
  },
  {
   "cell_type": "code",
   "execution_count": null,
   "metadata": {
    "tags": []
   },
   "outputs": [],
   "source": [
    "FULL_EXPRESSIONS_FVECTOR = []\n",
    "for i in range(n_channels):\n",
    "    FULL_EXPRESSIONS_FVECTOR.append(\n",
    "        perform_cached_doit(MODELS_FVECTOR[i].expression).xreplace(\n",
    "            DYNAMICS_EXPRESSIONS_FVECTOR[i]\n",
    "        )\n",
    "    )"
   ]
  },
  {
   "cell_type": "markdown",
   "metadata": {},
   "source": [
    "### Create Parametrized Function\n"
   ]
  },
  {
   "cell_type": "code",
   "execution_count": null,
   "metadata": {
    "tags": []
   },
   "outputs": [],
   "source": [
    "UNFOLDED_EXPRESSIONS_FVECTOR = []\n",
    "INTENSITY_FUNCS_FVECTOR = []\n",
    "for i in range(n_channels):\n",
    "    UNFOLDED_EXPRESSIONS_FVECTOR.append(FULL_EXPRESSIONS_FVECTOR[i].doit())\n",
    "    INTENSITY_FUNCS_FVECTOR.append(\n",
    "        create_parametrized_function(\n",
    "            expression=UNFOLDED_EXPRESSIONS_FVECTOR[i],\n",
    "            backend=\"jax\",\n",
    "            parameters=MODELS_FVECTOR[i].parameter_defaults,\n",
    "        )\n",
    "    )"
   ]
  },
  {
   "cell_type": "markdown",
   "metadata": {},
   "source": [
    "## Update parameters"
   ]
  },
  {
   "cell_type": "code",
   "execution_count": null,
   "metadata": {},
   "outputs": [],
   "source": [
    "m_res = 1.82\n",
    "g_res_ch0 = 1.8\n",
    "g_res_ch1 = 2.5\n",
    "\n",
    "new_parameters_fvector = {\n",
    "    R\"m_{N^{**}_1}\": 1.71,\n",
    "    R\"\\beta_{N^{**}_1}\": 1 + 0j,\n",
    "    R\"g_{N^{**}_1,0}\": g_res_ch0,\n",
    "    R\"g_{N^{**}_1,1}\": g_res_ch1,\n",
    "}"
   ]
  },
  {
   "cell_type": "code",
   "execution_count": null,
   "metadata": {
    "tags": []
   },
   "outputs": [],
   "source": [
    "for i in range(n_channels):\n",
    "    INTENSITY_FUNCS_FVECTOR[i].update_parameters(new_parameters_fvector)"
   ]
  },
  {
   "cell_type": "markdown",
   "metadata": {},
   "source": [
    "##  Generate data with $F$ vector"
   ]
  },
  {
   "cell_type": "markdown",
   "metadata": {},
   "source": [
    "### Generate phase space sample"
   ]
  },
  {
   "cell_type": "code",
   "execution_count": null,
   "metadata": {
    "tags": []
   },
   "outputs": [],
   "source": [
    "HELICITY_TRANSFORMERS = []\n",
    "for i in range(n_channels):\n",
    "    HELICITY_TRANSFORMERS.append(\n",
    "        SympyDataTransformer.from_sympy(\n",
    "            MODELS_FVECTOR[i].kinematic_variables, backend=\"jax\"\n",
    "        )\n",
    "    )"
   ]
  },
  {
   "cell_type": "code",
   "execution_count": null,
   "metadata": {},
   "outputs": [],
   "source": [
    "re.match(r\"^m_\\d\\d$\", \"m_01\")"
   ]
  },
  {
   "cell_type": "code",
   "execution_count": null,
   "metadata": {
    "tags": []
   },
   "outputs": [],
   "source": [
    "PHSP = []\n",
    "epsilon = 1e-8\n",
    "for i in range(n_channels):\n",
    "    rng = TFUniformRealNumberGenerator(seed=0)\n",
    "    phsp_generator = TFPhaseSpaceGenerator(\n",
    "        initial_state_mass=REACTIONS[i].initial_state[-1].mass,\n",
    "        final_state_masses={it: p.mass for it, p in REACTIONS[i].final_state.items()},\n",
    "    )\n",
    "    phsp_momenta = phsp_generator.generate(100_000, rng)\n",
    "    phsp = HELICITY_TRANSFORMERS[i](phsp_momenta)\n",
    "    phsp = {k: v.real for k, v in phsp.items()}\n",
    "    phsp = {\n",
    "        k: v + epsilon * 1j if re.match(r\"^m_\\d\\d$\", k) else v for k, v in phsp.items()\n",
    "    }\n",
    "    PHSP.append(phsp)"
   ]
  },
  {
   "cell_type": "code",
   "execution_count": null,
   "metadata": {},
   "outputs": [],
   "source": [
    "PHSP[1]"
   ]
  },
  {
   "cell_type": "code",
   "execution_count": null,
   "metadata": {},
   "outputs": [],
   "source": [
    "INTENSITY_FUNCS_FVECTOR[0](PHSP[0])"
   ]
  },
  {
   "cell_type": "code",
   "execution_count": null,
   "metadata": {},
   "outputs": [],
   "source": [
    "INTENSITY_FUNCS_FVECTOR[0].parameters"
   ]
  },
  {
   "cell_type": "markdown",
   "metadata": {},
   "source": [
    "### Dynamics expressions"
   ]
  },
  {
   "cell_type": "code",
   "execution_count": null,
   "metadata": {},
   "outputs": [],
   "source": [
    "DYNAMICS_EXPR_FVECTOR = []\n",
    "for i in range(n_channels):\n",
    "    values, *_ = DYNAMICS_EXPRESSIONS_FVECTOR[i].values()\n",
    "    DYNAMICS_EXPR_FVECTOR.append(values)"
   ]
  },
  {
   "cell_type": "code",
   "execution_count": null,
   "metadata": {
    "tags": []
   },
   "outputs": [],
   "source": [
    "DYNAMICS_FUNCS_FVECTOR = []\n",
    "for i in range(n_channels):\n",
    "    func = create_parametrized_function(\n",
    "        expression=DYNAMICS_EXPR_FVECTOR[i].doit(),\n",
    "        backend=\"jax\",\n",
    "        parameters=MODELS_FVECTOR[i].parameter_defaults,\n",
    "        use_cse=False,\n",
    "    )\n",
    "    DYNAMICS_FUNCS_FVECTOR.append(func)"
   ]
  },
  {
   "cell_type": "markdown",
   "metadata": {
    "tags": []
   },
   "source": [
    "### Weighted data with $F$ vector "
   ]
  },
  {
   "cell_type": "code",
   "execution_count": null,
   "metadata": {
    "tags": [
     "hide-input"
    ]
   },
   "outputs": [],
   "source": [
    "for i in range(n_channels):\n",
    "    fig, ax = plt.subplots(figsize=(6, 5))\n",
    "    intensity = np.real(INTENSITY_FUNCS_FVECTOR[i](PHSP[i]))\n",
    "    c = ax.hist(\n",
    "        np.real(PHSP[i][\"m_01\"]) ** 2,\n",
    "        bins=100,\n",
    "        weights=intensity,\n",
    "    )\n",
    "    ax.set_xlabel(R\"$M^2\\left(\\eta p\\right)\\, \\mathrm{[(GeV/c)^2]}$\")\n",
    "    ax.set_ylabel(R\"Intensity [a.u.]\")\n",
    "    fig.tight_layout()\n",
    "    plt.show()"
   ]
  },
  {
   "cell_type": "code",
   "execution_count": null,
   "metadata": {
    "tags": []
   },
   "outputs": [],
   "source": [
    "DATA = []\n",
    "for i in range(n_channels):\n",
    "    weighted_phsp_generator = TFWeightedPhaseSpaceGenerator(\n",
    "        initial_state_mass=MODELS[i].reaction_info.initial_state[-1].mass,\n",
    "        final_state_masses={\n",
    "            i: p.mass for i, p in MODELS[i].reaction_info.final_state.items()\n",
    "        },\n",
    "    )\n",
    "    data_generator = IntensityDistributionGenerator(\n",
    "        domain_generator=weighted_phsp_generator,\n",
    "        function=INTENSITY_FUNCS_FVECTOR[i],\n",
    "        domain_transformer=HELICITY_TRANSFORMERS[i],\n",
    "    )\n",
    "    data_momenta = data_generator.generate(50_000, rng)\n",
    "    pd.DataFrame({\n",
    "        (k, label): np.transpose(v)[i]\n",
    "        for k, v in data_momenta.items()\n",
    "        for i, label in enumerate([\"E\", \"px\", \"py\", \"pz\"])\n",
    "    })\n",
    "    phsp = HELICITY_TRANSFORMERS[i](phsp_momenta)\n",
    "    data = HELICITY_TRANSFORMERS[i](data_momenta)\n",
    "    DATA.append(data)"
   ]
  },
  {
   "cell_type": "code",
   "execution_count": null,
   "metadata": {
    "tags": [
     "hide-input"
    ]
   },
   "outputs": [],
   "source": [
    "for i in range(n_channels):\n",
    "    resonances = sorted(\n",
    "        MODELS[i].reaction_info.get_intermediate_particles(),\n",
    "        key=lambda p: p.mass,\n",
    "    )\n",
    "    evenly_spaced_interval = np.linspace(\n",
    "        0, 1, len(INTENSITY_FUNCS_FVECTOR[i].parameters.items())\n",
    "    )\n",
    "    colors = [cm.rainbow(x) for x in evenly_spaced_interval]\n",
    "    fig, ax = plt.subplots(figsize=(9, 4))\n",
    "    ax.hist(\n",
    "        np.real(DATA[i][\"m_01\"]),\n",
    "        bins=200,\n",
    "        alpha=0.5,\n",
    "        density=True,\n",
    "    )\n",
    "    ax.set_xlabel(\"$m$ [GeV]\")\n",
    "    for (k, v), color in zip(new_parameters_fvector.items(), colors):\n",
    "        if k.startswith(\"m_{\"):\n",
    "            ax.axvline(\n",
    "                x=v,\n",
    "                linestyle=\"dotted\",\n",
    "                label=r\"$\" + k + \"$\",\n",
    "                color=color,\n",
    "            )\n",
    "    ax.legend()\n",
    "    plt.show()"
   ]
  },
  {
   "cell_type": "markdown",
   "metadata": {
    "tags": []
   },
   "source": [
    "## Perform fit"
   ]
  },
  {
   "cell_type": "markdown",
   "metadata": {
    "tags": []
   },
   "source": [
    "### Set initial parameters "
   ]
  },
  {
   "cell_type": "code",
   "execution_count": null,
   "metadata": {},
   "outputs": [],
   "source": [
    "initial_parameters = {\n",
    "    R\"m_{N^{**}_1}\": 1.9,\n",
    "    R\"\\beta_{N^{**}_1}\": 1 + 0j,\n",
    "    R\"g_{N^{**}_1,0}\": 2.8,\n",
    "    R\"g_{N^{**}_1,1}\": 1.6,\n",
    "}\n",
    "INTENSITY_FUNCS_FVECTOR[0].parameters"
   ]
  },
  {
   "cell_type": "code",
   "execution_count": null,
   "metadata": {
    "tags": [
     "hide-cell"
    ]
   },
   "outputs": [],
   "source": [
    "def indicate_masses(ax, function):\n",
    "    ax.set_xlabel(\"$m$ [GeV]\")\n",
    "    for (k, v), color_F in zip(function.parameters.items(), colors_F):\n",
    "        if k.startswith(\"m_{N\"):\n",
    "            ax.axvline(\n",
    "                x=v,\n",
    "                linestyle=\"dotted\",\n",
    "                label=r\"$\" + k + \"$\" \"(F vector)\",\n",
    "                color=color_F,\n",
    "            )\n",
    "\n",
    "\n",
    "def compare_model(\n",
    "    variable_name: str,\n",
    "    data: DataSample,\n",
    "    phsp: DataSample,\n",
    "    function: Function[DataSample, np.ndarray],\n",
    "    bins: int = 100,\n",
    "):\n",
    "    fig, ax = plt.subplots(figsize=(9, 4))\n",
    "    ax.hist(\n",
    "        data[variable_name].real,\n",
    "        bins=bins,\n",
    "        alpha=0.5,\n",
    "        label=\"data\",\n",
    "        density=True,\n",
    "    )\n",
    "    intensities = function(phsp)\n",
    "    ax.hist(\n",
    "        phsp[variable_name].real,\n",
    "        weights=intensities,\n",
    "        bins=bins,\n",
    "        histtype=\"step\",\n",
    "        color=\"red\",\n",
    "        label=\"Fit model with $F$ vector\",\n",
    "        density=True,\n",
    "    )\n",
    "    indicate_masses(ax, function)\n",
    "    ax.axvline(\n",
    "        DECAYS[0].child1.mass + DECAYS[0].child2.mass,\n",
    "        color=\"grey\",\n",
    "        linestyle=\"dotted\",\n",
    "        label=rf\"${DECAYS[0].child1.latex} \\, {DECAYS[0].child2.latex}$ threshold\",\n",
    "    )\n",
    "    ax.axvline(\n",
    "        DECAYS[1].child1.mass + DECAYS[1].child2.mass,\n",
    "        color=\"grey\",\n",
    "        linestyle=\"dotted\",\n",
    "        label=rf\"${DECAYS[1].child1.latex} \\, {DECAYS[1].child2.latex}$ threshold\",\n",
    "    )\n",
    "    ax.legend()\n",
    "    fig.show()"
   ]
  },
  {
   "cell_type": "code",
   "execution_count": null,
   "metadata": {
    "tags": [
     "hide-input"
    ]
   },
   "outputs": [],
   "source": [
    "ORIGINAL_PARAMETERS_F = []\n",
    "for i in range(n_channels):\n",
    "    resonances = sorted(\n",
    "        MODELS[i].reaction_info.get_intermediate_particles(),\n",
    "        key=lambda p: p.mass,\n",
    "    )\n",
    "    evenly_spaced_interval = np.linspace(\n",
    "        0, 1, len(INTENSITY_FUNCS_FVECTOR[i].parameters.items())\n",
    "    )\n",
    "    colors_F = [cm.rainbow(x) for x in evenly_spaced_interval]\n",
    "    original_parameters = INTENSITY_FUNCS_FVECTOR[i].parameters\n",
    "    ORIGINAL_PARAMETERS_F.append(original_parameters)\n",
    "    INTENSITY_FUNCS_FVECTOR[i].update_parameters(initial_parameters)\n",
    "    compare_model(\"m_01\", DATA[i], PHSP[i], INTENSITY_FUNCS_FVECTOR[i])"
   ]
  },
  {
   "cell_type": "markdown",
   "metadata": {
    "tags": []
   },
   "source": [
    "### Define estimator"
   ]
  },
  {
   "cell_type": "code",
   "execution_count": null,
   "metadata": {
    "tags": []
   },
   "outputs": [],
   "source": [
    "ESTIMATORS_F = []\n",
    "for i in range(n_channels):\n",
    "    estimator_fvector = UnbinnedNLL(\n",
    "        INTENSITY_FUNCS_FVECTOR[i],\n",
    "        data=DATA[i],\n",
    "        phsp=PHSP[i],\n",
    "        backend=\"jax\",\n",
    "    )\n",
    "    ESTIMATORS_F.append(estimator_fvector)"
   ]
  },
  {
   "cell_type": "code",
   "execution_count": null,
   "metadata": {
    "tags": [
     "hide-cell"
    ]
   },
   "outputs": [],
   "source": [
    "class EstimatorSum(Estimator):\n",
    "    def __init__(self, estimators: Iterable[Estimator]) -> None:\n",
    "        self.__estimators = tuple(estimators)\n",
    "\n",
    "    def __call__(self, parameters: Mapping[str, ParameterValue]) -> float:\n",
    "        return sum(estimator(parameters) for estimator in self.__estimators)\n",
    "\n",
    "    def gradient(\n",
    "        self, parameters: Mapping[str, ParameterValue]\n",
    "    ) -> dict[str, ParameterValue]:\n",
    "        raise NotImplementedError"
   ]
  },
  {
   "cell_type": "code",
   "execution_count": null,
   "metadata": {
    "tags": []
   },
   "outputs": [],
   "source": [
    "combined_estimators = EstimatorSum(ESTIMATORS_F)"
   ]
  },
  {
   "cell_type": "markdown",
   "metadata": {
    "tags": []
   },
   "source": [
    "## Optimized fit"
   ]
  },
  {
   "cell_type": "code",
   "execution_count": null,
   "metadata": {
    "tags": []
   },
   "outputs": [],
   "source": [
    "minuit2 = Minuit2(\n",
    "    callback=CSVSummary(\"fit_traceback.csv\"),\n",
    "    use_analytic_gradient=False,\n",
    ")\n",
    "fit_result = minuit2.optimize(combined_estimators, initial_parameters)\n",
    "fit_result"
   ]
  },
  {
   "cell_type": "code",
   "execution_count": null,
   "metadata": {
    "tags": [
     "hide-input"
    ]
   },
   "outputs": [],
   "source": [
    "for i in range(n_channels):\n",
    "    INTENSITY_FUNCS_FVECTOR[i].update_parameters(fit_result.parameter_values)\n",
    "    compare_model(\"m_01\", DATA[i], PHSP[i], INTENSITY_FUNCS_FVECTOR[i])"
   ]
  },
  {
   "cell_type": "code",
   "execution_count": null,
   "metadata": {
    "tags": [
     "hide-input"
    ]
   },
   "outputs": [],
   "source": [
    "original_parameters = {\n",
    "    **ORIGINAL_PARAMETERS_F[0],\n",
    "    **ORIGINAL_PARAMETERS_F[1],\n",
    "}\n",
    "df = pd.DataFrame({\n",
    "    f\"${p}$\": (\n",
    "        initial_parameters[p],\n",
    "        fit_result.parameter_values[p],\n",
    "        original_parameters[p],\n",
    "    )\n",
    "    for p in fit_result.parameter_values\n",
    "}).T\n",
    "df.columns = (\"initial\", \"fit result\", \"original\")\n",
    "df.round(decimals=3)"
   ]
  },
  {
   "cell_type": "code",
   "execution_count": null,
   "metadata": {},
   "outputs": [],
   "source": [
    "fit_result"
   ]
  },
  {
   "cell_type": "code",
   "execution_count": null,
   "metadata": {},
   "outputs": [],
   "source": [
    "n_real_par = fit_result.count_number_of_parameters(complex_twice=True)\n",
    "n_events = len(next(iter(data.values())))\n",
    "log_likelihood = -fit_result.estimator_value\n",
    "log_likelihood"
   ]
  },
  {
   "cell_type": "code",
   "execution_count": null,
   "metadata": {},
   "outputs": [],
   "source": [
    "aic = 2 * n_real_par - 2 * log_likelihood\n",
    "aic"
   ]
  },
  {
   "cell_type": "code",
   "execution_count": null,
   "metadata": {},
   "outputs": [],
   "source": [
    "bic = n_real_par * np.log(n_events) - 2 * log_likelihood\n",
    "bic"
   ]
  }
 ],
 "metadata": {
  "colab": {
   "toc_visible": true
  },
  "kernelspec": {
   "display_name": "Python 3 (ipykernel)",
   "language": "python",
   "name": "python3"
  },
  "language_info": {
   "codemirror_mode": {
    "name": "ipython",
    "version": 3
   },
   "file_extension": ".py",
   "mimetype": "text/x-python",
   "name": "python",
   "nbconvert_exporter": "python",
   "pygments_lexer": "ipython3",
   "version": "3.10.14"
  }
 },
 "nbformat": 4,
 "nbformat_minor": 4
}
