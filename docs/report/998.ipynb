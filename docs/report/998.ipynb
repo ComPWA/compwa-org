{
 "cells": [
  {
   "cell_type": "code",
   "execution_count": null,
   "metadata": {
    "hideCode": true,
    "hideOutput": true,
    "hidePrompt": true,
    "jupyter": {
     "source_hidden": true
    },
    "slideshow": {
     "slide_type": "skip"
    },
    "tags": [
     "remove-cell"
    ]
   },
   "outputs": [],
   "source": [
    "import os\n",
    "\n",
    "STATIC_WEB_PAGE = {\"EXECUTE_NB\", \"READTHEDOCS\"}.intersection(os.environ)"
   ]
  },
  {
   "cell_type": "markdown",
   "metadata": {},
   "source": [
    "```{autolink-concat}\n",
    "```"
   ]
  },
  {
   "cell_type": "markdown",
   "metadata": {
    "editable": true,
    "slideshow": {
     "slide_type": ""
    },
    "tags": []
   },
   "source": [
    "::::{margin}\n",
    ":::{card} 3D visualization of Riemann sheets\n",
    "TR-998\n",
    "^^^\n",
    "Follow-up to [TR-004](004.ipynb), where we investigate and reproduce the Riemann sheets shown in [Fig.&nbsp;50.1](https://pdg.lbl.gov/2023/reviews/rpp2023-rev-resonances.pdf#page=2) and [50.2](https://pdg.lbl.gov/2023/reviews/rpp2023-rev-resonances.pdf#page=4) of the PDG.\n",
    ":::\n",
    "::::"
   ]
  },
  {
   "cell_type": "markdown",
   "metadata": {
    "editable": true,
    "slideshow": {
     "slide_type": ""
    },
    "tags": []
   },
   "source": [
    "# Riemann sheets for two channels"
   ]
  },
  {
   "cell_type": "code",
   "execution_count": null,
   "metadata": {
    "tags": [
     "remove-cell"
    ]
   },
   "outputs": [],
   "source": [
    "%pip install -q ampform==0.14.8 plotly==5.17.0 sympy==1.12"
   ]
  },
  {
   "cell_type": "code",
   "execution_count": null,
   "metadata": {
    "editable": true,
    "jupyter": {
     "source_hidden": true
    },
    "slideshow": {
     "slide_type": ""
    },
    "tags": [
     "hide-cell"
    ]
   },
   "outputs": [],
   "source": [
    "from __future__ import annotations\n",
    "\n",
    "import warnings\n",
    "from typing import Any\n",
    "\n",
    "import matplotlib.pyplot as plt\n",
    "import numpy as np\n",
    "import plotly.graph_objects as go\n",
    "import sympy as sp\n",
    "from ampform.io import aslatex\n",
    "from ampform.sympy import unevaluated\n",
    "from IPython.display import Math\n",
    "from plotly.subplots import make_subplots\n",
    "\n",
    "warnings.filterwarnings(\"ignore\")"
   ]
  },
  {
   "cell_type": "markdown",
   "metadata": {},
   "source": [
    "## Square root definition \n",
    "See report on Riemann sheets for one channel case [Link]"
   ]
  },
  {
   "cell_type": "code",
   "execution_count": null,
   "metadata": {
    "editable": true,
    "jupyter": {
     "source_hidden": true
    },
    "slideshow": {
     "slide_type": ""
    },
    "tags": [
     "hide-input"
    ]
   },
   "outputs": [],
   "source": [
    "@unevaluated(real=False)\n",
    "class SignedSqrt(sp.Expr):\n",
    "    z: Any\n",
    "    _latex_repr_ = R\"\\sqrt[+]{{{z}}}\"\n",
    "\n",
    "    def evaluate(self) -> sp.Expr:\n",
    "        z = self.args[0]\n",
    "        return sp.sqrt(abs(z)) * sp.exp(sp.I * PosArg(z) / 2)\n",
    "\n",
    "\n",
    "@unevaluated\n",
    "class PosArg(sp.Expr):\n",
    "    z: Any\n",
    "    _latex_repr_ = R\"\\arg^+\\left({z}\\right)\"\n",
    "\n",
    "    def evaluate(self) -> sp.Expr:\n",
    "        z = self.args[0]\n",
    "        arg = sp.arg(z)\n",
    "        return sp.Piecewise(\n",
    "            (arg + 2 * sp.pi, arg < -2 * sp.pi),\n",
    "            (arg - 2 * sp.pi, arg > 0),\n",
    "            (arg, True),\n",
    "        )\n",
    "\n",
    "\n",
    "z = sp.Symbol(\"z\", complex=True)\n",
    "Math(aslatex({e: e.evaluate() for e in [SignedSqrt(z), PosArg(z)]}))"
   ]
  },
  {
   "cell_type": "code",
   "execution_count": null,
   "metadata": {
    "editable": true,
    "jupyter": {
     "source_hidden": true
    },
    "slideshow": {
     "slide_type": ""
    },
    "tags": [
     "hide-input"
    ]
   },
   "outputs": [],
   "source": [
    "@unevaluated(real=False)\n",
    "class PhaseSpaceFactor(sp.Expr):\n",
    "    s: Any\n",
    "    m1: Any\n",
    "    m2: Any\n",
    "    _latex_repr_ = R\"\\rho^+\\left({s}\\right)\"\n",
    "\n",
    "    def evaluate(self) -> sp.Expr:\n",
    "        s, m1, m2 = self.args\n",
    "        return SignedSqrt((s - ((m1 + m2) ** 2)) * (s - (m1 - m2) ** 2) / s**2)\n",
    "\n",
    "\n",
    "s, m1, m2 = sp.symbols(\"s m_a m_b\")\n",
    "rho_expr = PhaseSpaceFactor(s, m1, m2)\n",
    "Math(aslatex({rho_expr: rho_expr.doit(deep=False)}))"
   ]
  },
  {
   "cell_type": "code",
   "execution_count": null,
   "metadata": {
    "editable": true,
    "jupyter": {
     "source_hidden": true
    },
    "slideshow": {
     "slide_type": ""
    },
    "tags": [
     "hide-input"
    ]
   },
   "outputs": [],
   "source": [
    "@unevaluated(real=False)\n",
    "class ChewMandelstam(sp.Expr):\n",
    "    s: Any\n",
    "    m1: Any\n",
    "    m2: Any\n",
    "    _latex_repr_ = R\"\\rho^\\text{{CM}}\\left({s},{m1},{m2}\\right)\"\n",
    "\n",
    "    def evaluate(self) -> sp.Expr:\n",
    "        s, m1, m2 = self.args\n",
    "        q_break = BreakupMomentum(s, m1, m2)\n",
    "        return (\n",
    "            1\n",
    "            / (16 * (sp.pi) ** 2)\n",
    "            * (\n",
    "                (2 * q_break / sp.sqrt(s))\n",
    "                * sp.log(\n",
    "                    (m1**2 + m2**2 - s + 2 * sp.sqrt(s) * q_break) / (2 * m1 * m2)\n",
    "                )\n",
    "                - (m1**2 - m2**2) * (1 / s - 1 / (m1 + m2) ** 2) * sp.log(m1 / m2)\n",
    "            )\n",
    "        )\n",
    "\n",
    "\n",
    "@unevaluated(real=False)\n",
    "class BreakupMomentum(sp.Expr):\n",
    "    s: Any\n",
    "    m_a: Any\n",
    "    m_b: Any\n",
    "    _latex_repr_ = R\"q^+\\left({s}\\right)\"\n",
    "\n",
    "    def evaluate(self) -> sp.Expr:\n",
    "        s, m_a, m_b = self.args\n",
    "        return SignedSqrt((s - (m_a + m_b) ** 2) * (s - (m_a - m_b) ** 2) / (s * 4))\n",
    "\n",
    "\n",
    "cm_expr = ChewMandelstam(s, m1, m2)\n",
    "q_expr = BreakupMomentum(s, m1, m2)\n",
    "Math(aslatex({e: e.doit(deep=False) for e in [cm_expr, q_expr]}))"
   ]
  },
  {
   "cell_type": "markdown",
   "metadata": {
    "editable": true,
    "slideshow": {
     "slide_type": ""
    },
    "tags": []
   },
   "source": [
    "### Visual comparison"
   ]
  },
  {
   "cell_type": "code",
   "execution_count": null,
   "metadata": {
    "editable": true,
    "jupyter": {
     "source_hidden": true
    },
    "slideshow": {
     "slide_type": ""
    },
    "tags": [
     "hide-input",
     "scroll-input",
     "full-width"
    ]
   },
   "outputs": [],
   "source": [
    "symbols = (s, m1, m2)\n",
    "cm_func_sym = sp.lambdify(symbols, cm_expr.doit())\n",
    "rho_func = sp.lambdify(symbols, rho_expr.doit())\n",
    "\n",
    "s_values = np.linspace(0, 2, 400)\n",
    "m1_val = 0.6\n",
    "m2_val = 0.4\n",
    "args = (m1_val, m2_val)\n",
    "\n",
    "cm_values = 16 * np.pi * cm_func_sym(s_values, *args)\n",
    "rho_values = 1j * rho_func(s_values, *args)\n",
    "\n",
    "fig, axes = plt.subplots(figsize=(15, 6), ncols=2, sharex=True, sharey=True)\n",
    "ax1, ax2 = axes\n",
    "ax1.plot(s_values, cm_values.real, label=\"Real part\")\n",
    "ax1.plot(s_values, cm_values.imag, label=\"Imaginary part\")\n",
    "ax1.set_xlabel(\"Re(s)\")\n",
    "ax1.set_ylabel(\"Function value\")\n",
    "ax1.set_title(\"Chew Mandelstam Function\")\n",
    "ax1.legend()\n",
    "\n",
    "ax2.plot(s_values, rho_values.real, label=\"Real part\")\n",
    "ax2.plot(s_values, rho_values.imag, label=\"Imaginary part\")\n",
    "ax2.set_xlabel(\"Re(s)\")\n",
    "ax2.set_title(\"Phase Space Factor\")\n",
    "ax2.legend()\n",
    "\n",
    "\n",
    "ax2.set_ylim(-1.2, +1.6)\n",
    "plt.tight_layout()\n",
    "\n",
    "plt.show()"
   ]
  },
  {
   "cell_type": "markdown",
   "metadata": {
    "editable": true,
    "slideshow": {
     "slide_type": ""
    },
    "tags": []
   },
   "source": [
    "## Define parameters values for plotting "
   ]
  },
  {
   "cell_type": "markdown",
   "metadata": {
    "editable": true,
    "slideshow": {
     "slide_type": ""
    },
    "tags": []
   },
   "source": [
    "## T matrix definition with K matrix"
   ]
  },
  {
   "cell_type": "code",
   "execution_count": null,
   "metadata": {
    "editable": true,
    "slideshow": {
     "slide_type": ""
    },
    "tags": []
   },
   "outputs": [],
   "source": [
    "n_channels = 2\n",
    "I = sp.Identity(n_channels)\n",
    "K = sp.MatrixSymbol(\"K\", n_channels, n_channels)\n",
    "rho_symbol = sp.MatrixSymbol(\"rho\", n_channels, n_channels)\n",
    "rho = sp.DiagonalMatrix(rho_symbol)\n",
    "rho.as_explicit()"
   ]
  },
  {
   "cell_type": "code",
   "execution_count": null,
   "metadata": {},
   "outputs": [],
   "source": [
    "T = (I - K * rho).inv() * K\n",
    "T"
   ]
  },
  {
   "cell_type": "code",
   "execution_count": null,
   "metadata": {
    "editable": true,
    "slideshow": {
     "slide_type": ""
    },
    "tags": []
   },
   "outputs": [],
   "source": [
    "T_explicit = T.as_explicit()\n",
    "T_explicit"
   ]
  },
  {
   "cell_type": "markdown",
   "metadata": {
    "editable": true,
    "slideshow": {
     "slide_type": ""
    },
    "tags": []
   },
   "source": [
    ":::{note}\n",
    "No Blatt-Weisskopf form factors because $L=0$.\n",
    ":::"
   ]
  },
  {
   "cell_type": "code",
   "execution_count": null,
   "metadata": {
    "editable": true,
    "slideshow": {
     "slide_type": ""
    },
    "tags": []
   },
   "outputs": [],
   "source": [
    "s = sp.Symbol(\"s\")\n",
    "ma1 = sp.Symbol(\"m_{a1}\")\n",
    "mb1 = sp.Symbol(\"m_{b1}\")\n",
    "ma2 = sp.Symbol(\"m_{a2}\")\n",
    "mb2 = sp.Symbol(\"m_{b2}\")\n",
    "m0 = sp.Symbol(\"m0\")\n",
    "w0 = sp.Symbol(\"Gamma0\")\n",
    "gamma1 = sp.Symbol(\"gamma1\")\n",
    "gamma2 = sp.Symbol(\"gamma2\")\n",
    "\n",
    "k_expr_00 = (gamma1 * gamma1 * m0 * w0) / (s - m0**2)\n",
    "k_expr_10 = (gamma1 * gamma2 * m0 * w0) / (s - m0**2)\n",
    "k_expr_11 = (gamma2 * gamma2 * m0 * w0) / (s - m0**2)"
   ]
  },
  {
   "cell_type": "code",
   "execution_count": null,
   "metadata": {
    "editable": true,
    "slideshow": {
     "slide_type": ""
    },
    "tags": []
   },
   "outputs": [],
   "source": [
    "rho_expressions = {\n",
    "    K[0, 0]: k_expr_00,\n",
    "    K[1, 1]: k_expr_11,\n",
    "    K[0, 1]: k_expr_10,\n",
    "    K[1, 0]: k_expr_10,\n",
    "    rho[0, 0]: PhaseSpaceFactor(s, ma1, mb1),\n",
    "    rho[1, 1]: PhaseSpaceFactor(s, ma2, mb2),\n",
    "}\n",
    "cm_expressions = {\n",
    "    **rho_expressions,\n",
    "    rho[0, 0]: -sp.I * 16 * sp.pi * ChewMandelstam(s, ma1, mb1),\n",
    "    rho[1, 1]: -sp.I * 16 * sp.pi * ChewMandelstam(s, ma2, mb2),\n",
    "}\n",
    "cm_conj_expressions = {\n",
    "    **rho_expressions,\n",
    "    rho[0, 0]: -sp.I * 16 * sp.pi * ChewMandelstam(s, ma1, mb1).conjugate(),\n",
    "    rho[1, 1]: -sp.I * 16 * sp.pi * ChewMandelstam(s, ma2, mb2).conjugate(),\n",
    "}\n",
    "Math(aslatex(cm_conj_expressions))"
   ]
  },
  {
   "cell_type": "code",
   "execution_count": null,
   "metadata": {
    "editable": true,
    "slideshow": {
     "slide_type": ""
    },
    "tags": [
     "hide-input"
    ]
   },
   "outputs": [],
   "source": [
    "T_rho_expr_00 = T_explicit[0, 0].xreplace(rho_expressions)\n",
    "T_cm_expr_00 = T_explicit[0, 0].xreplace(cm_expressions)\n",
    "T_cm_conj_expr_00 = T_explicit[0, 0].xreplace(cm_conj_expressions)\n",
    "\n",
    "T_rho_expr_11 = T_explicit[1, 1].xreplace(rho_expressions)\n",
    "T_cm_expr_11 = T_explicit[1, 1].xreplace(cm_expressions)\n",
    "T_cm_conj_expr_11 = T_explicit[1, 1].xreplace(cm_conj_expressions)"
   ]
  },
  {
   "cell_type": "code",
   "execution_count": null,
   "metadata": {
    "editable": true,
    "slideshow": {
     "slide_type": ""
    },
    "tags": []
   },
   "outputs": [],
   "source": [
    "T_cm_expr_00.simplify(doit=False)"
   ]
  },
  {
   "cell_type": "code",
   "execution_count": null,
   "metadata": {},
   "outputs": [],
   "source": [
    "T_cm_expr_11.simplify(doit=False)"
   ]
  },
  {
   "cell_type": "markdown",
   "metadata": {},
   "source": [
    "## Only Chew Mandelstam "
   ]
  },
  {
   "cell_type": "code",
   "execution_count": null,
   "metadata": {
    "editable": true,
    "slideshow": {
     "slide_type": ""
    },
    "tags": []
   },
   "outputs": [],
   "source": [
    "cm_expr = -16 * sp.pi * ChewMandelstam(s, ma1, mb1)\n",
    "cm_expr_conj = -16 * sp.pi * ChewMandelstam(s, ma1, mb1).conjugate()"
   ]
  },
  {
   "cell_type": "code",
   "execution_count": null,
   "metadata": {},
   "outputs": [],
   "source": [
    "symbols = (s, ma1, mb1)\n",
    "cm_func = sp.lambdify(symbols, cm_expr.doit())\n",
    "cm_func_conj = sp.lambdify(symbols, cm_expr_conj.doit())"
   ]
  },
  {
   "cell_type": "code",
   "execution_count": null,
   "metadata": {
    "editable": true,
    "jupyter": {
     "source_hidden": true
    },
    "slideshow": {
     "slide_type": ""
    },
    "tags": []
   },
   "outputs": [],
   "source": [
    "epsilon = 1e-5\n",
    "x = np.linspace(0, 2, num=200)\n",
    "y = np.linspace(epsilon, 1, num=100)\n",
    "X, Yn = np.meshgrid(x, +y)\n",
    "_, Yp = np.meshgrid(x, -y)\n",
    "Zn = X + Yn * 1j\n",
    "Zp = X + Yp * 1j\n",
    "\n",
    "m_a_ch1_val = 0.1\n",
    "m_b_ch1_val = 0.1\n",
    "\n",
    "m_a_ch2_val = 0.5\n",
    "m_b_ch2_val = 0.5\n",
    "\n",
    "args1 = (m_a_ch1_val, m_b_ch1_val)\n",
    "\n",
    "args2 = (m_a_ch2_val, m_b_ch2_val)\n",
    "\n",
    "cm_ch1_p = cm_func(Zp**2, *args1)\n",
    "cm_ch1_n = cm_func(Zn**2, *args1)\n",
    "\n",
    "cm_ch1_conj_p = cm_func_conj(Zp**2, *args1)\n",
    "cm_ch1_conj_n = cm_func_conj(Zn**2, *args1)\n",
    "\n",
    "cm_ch2_p = cm_func_conj(Zp**2, *args2)\n",
    "cm_ch2_n = cm_func_conj(Zn**2, *args2)\n",
    "\n",
    "cm_ch2_conj_n = cm_func_conj(Zp**2, *args2)\n",
    "cm_ch2_conj_p = cm_func_conj(Zn**2, *args2)\n",
    "\n",
    "\n",
    "cm_ch12_p = cm_func(Zp**2, *args1) + cm_func(Zp**2, *args2)\n",
    "cm_ch12_n = cm_func(Zn**2, *args1) + cm_func(Zn**2, *args2)\n",
    "\n",
    "\n",
    "cm_ch12_conj_conj_n = cm_func_conj(Zn**2, *args1) + cm_func_conj(Zn**2, *args2)\n",
    "\n",
    "cm_ch12_1conj_n = cm_func_conj(Zn**2, *args1) + cm_func(Zn**2, *args2)\n",
    "\n",
    "cm_ch12_2conj_n = cm_func(Zn**2, *args1) + cm_func_conj(Zn**2, *args2)\n",
    "\n",
    "cm_ch12_conj_conj_p = cm_func_conj(Zp**2, *args1) + cm_func_conj(Zp**2, *args2)\n",
    "\n",
    "cm_ch12_1conj_p = cm_func_conj(Zp**2, *args1) + cm_func(Zp**2, *args2)\n",
    "\n",
    "cm_ch12_2conj_p = cm_func(Zp**2, *args1) + cm_func_conj(Zp**2, *args2)"
   ]
  },
  {
   "cell_type": "code",
   "execution_count": null,
   "metadata": {
    "editable": true,
    "jupyter": {
     "source_hidden": true
    },
    "slideshow": {
     "slide_type": ""
    },
    "tags": [
     "hide-input"
    ]
   },
   "outputs": [],
   "source": [
    "plt.plot(\n",
    "    x, cm_ch12_conj_conj_n[0].imag, c=\"blue\", zorder=99, label=\"Conj Conj Negative\"\n",
    ")\n",
    "\n",
    "plt.plot(x, cm_ch12_1conj_n[0].imag, c=\"red\", label=\"1 Conj Negative\")\n",
    "plt.plot(x, cm_ch12_1conj_p[0].imag, c=\"red\", label=\"1 Conj Positive\")\n",
    "\n",
    "plt.plot(x, cm_ch12_2conj_n[0].imag, c=\"green\", label=\"2 Conj Negative\")\n",
    "\n",
    "plt.plot(x, cm_ch12_n[0].imag, c=\"yellow\", label=\"No Conj Negative\")\n",
    "\n",
    "plt.xlabel(\"Re(s)\")\n",
    "plt.ylabel(\"Im(CM)\")\n",
    "\n",
    "plt.legend()\n",
    "\n",
    "plt.show()"
   ]
  },
  {
   "cell_type": "code",
   "execution_count": null,
   "metadata": {
    "editable": true,
    "jupyter": {
     "source_hidden": true
    },
    "slideshow": {
     "slide_type": ""
    },
    "tags": [
     "hide-input"
    ]
   },
   "outputs": [],
   "source": [
    "def sty(sheet_name: str) -> dict:\n",
    "    sheet_color = sheet_colors[sheet_name]\n",
    "    n_lines = 16\n",
    "    return dict(\n",
    "        cmin=-vmax,\n",
    "        cmax=+vmax,\n",
    "        colorscale=[[0, \"rgb(0, 0, 0)\"], [1, sheet_color]],\n",
    "        contours=dict(\n",
    "            x=dict(\n",
    "                show=True,\n",
    "                start=x.min(),\n",
    "                end=x.max(),\n",
    "                size=(x.max() - x.min()) / n_lines,\n",
    "                color=\"black\",\n",
    "            ),\n",
    "            y=dict(\n",
    "                show=True,\n",
    "                start=-y.max(),\n",
    "                end=+y.max(),\n",
    "                size=(y.max() - y.min()) / (n_lines // 2),\n",
    "                color=\"black\",\n",
    "            ),\n",
    "        ),\n",
    "        name=sheet_name,\n",
    "        opacity=0.6,\n",
    "        showscale=False,\n",
    "    )\n",
    "\n",
    "\n",
    "vmax = 1.6\n",
    "project = np.real\n",
    "projection_text = \"Imaginary\"\n",
    "sheet_colors = {\n",
    "    \"Unphysical Channel 1\": \"blue\",\n",
    "    \"Unphysical Channel 2\": \"blue\",\n",
    "    \"Physical Channel 1\": \"red\",\n",
    "    \"Physical Channel 2\": \"red\",\n",
    "    \"Unphysical Channel 12\": \"green\",\n",
    "    \"Unphysical Channel 12 1conj\": \"red\",\n",
    "    \"Physical Channel 12\": \"blue\",\n",
    "    \"Unphysical Channel 12 2conj\": \"yellow\",\n",
    "}"
   ]
  },
  {
   "cell_type": "code",
   "execution_count": null,
   "metadata": {
    "editable": true,
    "jupyter": {
     "source_hidden": true
    },
    "slideshow": {
     "slide_type": ""
    },
    "tags": [
     "hide-input"
    ]
   },
   "outputs": [],
   "source": [
    "CMn_ch12 = go.Surface(x=X, y=Yn, z=project(cm_ch12_n), **sty(\"Physical Channel 12\"))\n",
    "CMp_ch12 = go.Surface(x=X, y=Yp, z=project(cm_ch12_p), **sty(\"Physical Channel 12\"))\n",
    "\n",
    "CMn_ch12_conj_conj = go.Surface(\n",
    "    x=X, y=Yn, z=project(cm_ch12_conj_conj_n), **sty(\"Unphysical Channel 12\")\n",
    ")\n",
    "CMp_ch12_conj_conj = go.Surface(\n",
    "    x=X, y=Yp, z=project(cm_ch12_conj_conj_p), **sty(\"Unphysical Channel 12\")\n",
    ")\n",
    "\n",
    "CMn_ch12_1conj = go.Surface(\n",
    "    x=X, y=Yn, z=project(cm_ch12_1conj_n), **sty(\"Unphysical Channel 12 1conj\")\n",
    ")\n",
    "CMp_ch12_1conj = go.Surface(\n",
    "    x=X, y=Yp, z=project(cm_ch12_1conj_p), **sty(\"Unphysical Channel 12 1conj\")\n",
    ")\n",
    "\n",
    "CMn_ch12_2conj = go.Surface(\n",
    "    x=X, y=Yn, z=project(cm_ch12_2conj_n), **sty(\"Unphysical Channel 12 2conj\")\n",
    ")\n",
    "CMp_ch12_2conj = go.Surface(\n",
    "    x=X, y=Yp, z=project(cm_ch12_2conj_p), **sty(\"Unphysical Channel 12 2conj\")\n",
    ")\n",
    "\n",
    "fig_cm = make_subplots(\n",
    "    rows=1,\n",
    "    cols=3,\n",
    "    specs=[[{\"type\": \"surface\"}, {\"type\": \"surface\"}, {\"type\": \"scatter3d\"}]],\n",
    "    subplot_titles=[\"Cm Physical\", \"Cm\", \"Cm 22\"],\n",
    ")\n",
    "\n",
    "\n",
    "fig_cm.add_trace(CMn_ch12_conj_conj, row=1, col=1)\n",
    "fig_cm.add_trace(CMp_ch12, row=1, col=1)\n",
    "\n",
    "fig_cm.add_trace(CMp_ch12_conj_conj, row=1, col=2)\n",
    "fig_cm.add_trace(CMn_ch12_conj_conj, row=1, col=2)\n",
    "fig_cm.add_trace(CMp_ch12_1conj, row=1, col=2)\n",
    "fig_cm.add_trace(CMp_ch12_2conj, row=1, col=2)\n",
    "fig_cm.add_trace(CMp_ch12, row=1, col=2)\n",
    "\n",
    "fig_cm.add_trace(CMn_ch12, row=1, col=3)\n",
    "fig_cm.add_trace(CMp_ch12_1conj, row=1, col=3)\n",
    "\n",
    "\n",
    "fig_cm.update_layout(\n",
    "    height=550,\n",
    "    width=1200,\n",
    "    showlegend=False,\n",
    "    title_text=\"Riemann sheets for Chew Mandelstam \",\n",
    ")\n",
    "\n",
    "\n",
    "fig_cm.update_scenes(\n",
    "    xaxis_title_text=\"Re s\",\n",
    "    yaxis_title_text=\"Im s\",\n",
    "    zaxis_range=[-vmax, +vmax],\n",
    ")\n",
    "\n",
    "fig_cm.show()"
   ]
  },
  {
   "cell_type": "code",
   "execution_count": null,
   "metadata": {
    "editable": true,
    "jupyter": {
     "source_hidden": true
    },
    "slideshow": {
     "slide_type": ""
    },
    "tags": [
     "hide-input"
    ]
   },
   "outputs": [],
   "source": [
    "CMn_ch1 = go.Surface(x=X, y=Yn, z=project(cm_ch1_n), **sty(\"Unphysical Channel 1\"))\n",
    "CMp_ch1 = go.Surface(x=X, y=Yp, z=project(cm_ch1_p), **sty(\"Unphysical Channel 1\"))\n",
    "\n",
    "CMn_ch2 = go.Surface(x=X, y=Yn, z=project(cm_ch2_n), **sty(\"Unphysical Channel 2\"))\n",
    "CMp_ch2 = go.Surface(x=X, y=Yp, z=project(cm_ch2_p), **sty(\"Unphysical Channel 2\"))\n",
    "\n",
    "CMn_ch1_conj = go.Surface(\n",
    "    x=X, y=Yn, z=project(cm_ch1_conj_n), **sty(\"Physical Channel 1\")\n",
    ")\n",
    "CMp_ch1_conj = go.Surface(\n",
    "    x=X, y=Yp, z=project(cm_ch1_conj_p), **sty(\"Physical Channel 1\")\n",
    ")\n",
    "\n",
    "CMn_ch2_conj = go.Surface(\n",
    "    x=X, y=Yn, z=project(cm_ch2_conj_n), **sty(\"Physical Channel 2\")\n",
    ")\n",
    "CMp_ch2_conj = go.Surface(\n",
    "    x=X, y=Yp, z=project(cm_ch2_conj_p), **sty(\"Physical Channel 2\")\n",
    ")\n",
    "\n",
    "fig_cm = make_subplots(\n",
    "    rows=1,\n",
    "    cols=3,\n",
    "    specs=[[{\"type\": \"surface\"}, {\"type\": \"surface\"}, {\"type\": \"scatter3d\"}]],\n",
    "    subplot_titles=[\"Channel 1\", \"Channel 1 and Channel 2\", \"Channel 2\"],\n",
    ")\n",
    "\n",
    "\n",
    "fig_cm.add_trace(CMp_ch1_conj, row=1, col=1)\n",
    "fig_cm.add_trace(CMn_ch1, row=1, col=1)\n",
    "\n",
    "fig_cm.add_trace(CMp_ch1_conj, row=1, col=2)\n",
    "fig_cm.add_trace(CMn_ch1_conj, row=1, col=2)\n",
    "fig_cm.add_trace(CMp_ch1, row=1, col=2)\n",
    "fig_cm.add_trace(CMn_ch2_conj, row=1, col=2)\n",
    "fig_cm.add_trace(CMp_ch2_conj, row=1, col=2)\n",
    "\n",
    "fig_cm.add_trace(CMn_ch2, row=1, col=3)\n",
    "fig_cm.add_trace(CMp_ch2_conj, row=1, col=3)\n",
    "\n",
    "\n",
    "fig_cm.update_layout(\n",
    "    height=550,\n",
    "    width=1200,\n",
    "    showlegend=False,\n",
    "    title_text=\"Riemann sheets for Chew Mandelstam \",\n",
    ")\n",
    "\n",
    "\n",
    "fig_cm.update_scenes(\n",
    "    xaxis_title_text=\"Re s\",\n",
    "    yaxis_title_text=\"Im s\",\n",
    "    zaxis_range=[-vmax, +vmax],\n",
    ")\n",
    "\n",
    "fig_cm.show()"
   ]
  },
  {
   "cell_type": "markdown",
   "metadata": {
    "editable": true,
    "slideshow": {
     "slide_type": ""
    },
    "tags": []
   },
   "source": [
    "## Riemann sheet visualization"
   ]
  },
  {
   "cell_type": "code",
   "execution_count": null,
   "metadata": {
    "editable": true,
    "slideshow": {
     "slide_type": ""
    },
    "tags": []
   },
   "outputs": [],
   "source": [
    "symbols = sp.Tuple(s, ma1, mb1, ma2, mb2, m0, w0, gamma1, gamma2)\n",
    "T_cm_func_00 = sp.lambdify(symbols, T_cm_expr_00.doit())\n",
    "T_cm_conj_func_00 = sp.lambdify(symbols, T_cm_conj_expr_00.doit())\n",
    "T_cm_func_11 = sp.lambdify(symbols, T_cm_expr_11.doit())\n",
    "T_cm_conj_func_11 = sp.lambdify(symbols, T_cm_conj_expr_11.doit())"
   ]
  },
  {
   "cell_type": "code",
   "execution_count": null,
   "metadata": {
    "editable": true,
    "jupyter": {
     "source_hidden": true
    },
    "slideshow": {
     "slide_type": ""
    },
    "tags": []
   },
   "outputs": [],
   "source": [
    "values = {\n",
    "    ma1: 0.4,\n",
    "    mb1: 0.5,\n",
    "    ma2: 0.9,\n",
    "    mb2: 0.8,\n",
    "    m0: 4.1,\n",
    "    w0: 1.0,\n",
    "    gamma1: 0.5,\n",
    "    gamma2: 1,\n",
    "}\n",
    "args = eval(str(symbols[1:].subs(values)))\n",
    "\n",
    "Tp_cm_00 = T_cm_func_00(Zp**2, *args)\n",
    "Tn_cm_00 = T_cm_func_00(Zn**2, *args)\n",
    "\n",
    "Tp_cm_conj_00 = T_cm_conj_func_00(Zp**2, *args)\n",
    "Tn_cm_conj_00 = T_cm_conj_func_00(Zn**2, *args)\n",
    "\n",
    "Tp_cm_11 = T_cm_func_11(Zp**2, *args)\n",
    "Tn_cm_11 = T_cm_func_11(Zn**2, *args)\n",
    "\n",
    "Tp_cm_conj_11 = T_cm_conj_func_11(Zp**2, *args)\n",
    "Tn_cm_conj_11 = T_cm_conj_func_11(Zn**2, *args)"
   ]
  },
  {
   "cell_type": "code",
   "execution_count": null,
   "metadata": {
    "editable": true,
    "jupyter": {
     "source_hidden": true
    },
    "slideshow": {
     "slide_type": ""
    },
    "tags": [
     "hide-input"
    ]
   },
   "outputs": [],
   "source": [
    "fig, axes = plt.subplots(figsize=(15, 6), ncols=2, sharey=True)\n",
    "ax1, ax2 = axes\n",
    "\n",
    "ax1.plot(x, Tp_cm_00[0].imag)\n",
    "ax1.plot(x, Tn_cm_conj_00[0].imag)\n",
    "ax1.set_xlabel(\"Re(s)\")\n",
    "ax1.set_ylabel(\"Function Value\")\n",
    "ax1.set_title(\"T Matrix element 00 with Chew Mandelstam Function\")\n",
    "\n",
    "ax2.plot(x, Tp_cm_11[0].imag)\n",
    "ax2.plot(x, Tn_cm_conj_11[0].imag)\n",
    "ax2.set_xlabel(\"Re(s)\")\n",
    "ax2.set_ylabel(\"Function Value\")\n",
    "ax2.set_title(\"T matrix element 11 with Chew Mandelstam Function\")\n",
    "plt.tight_layout()\n",
    "plt.show()"
   ]
  },
  {
   "cell_type": "code",
   "execution_count": null,
   "metadata": {
    "editable": true,
    "slideshow": {
     "slide_type": ""
    },
    "tags": []
   },
   "outputs": [],
   "source": [
    "def sty(sheet_name: str) -> dict:\n",
    "    sheet_color = sheet_colors[sheet_name]\n",
    "    n_lines = 16\n",
    "    return dict(\n",
    "        cmin=-vmax,\n",
    "        cmax=+vmax,\n",
    "        colorscale=[[0, \"rgb(0, 0, 0)\"], [1, sheet_color]],\n",
    "        contours=dict(\n",
    "            x=dict(\n",
    "                show=True,\n",
    "                start=x.min(),\n",
    "                end=x.max(),\n",
    "                size=(x.max() - x.min()) / n_lines,\n",
    "                color=\"black\",\n",
    "            ),\n",
    "            y=dict(\n",
    "                show=True,\n",
    "                start=-y.max(),\n",
    "                end=+y.max(),\n",
    "                size=(y.max() - y.min()) / (n_lines // 2),\n",
    "                color=\"black\",\n",
    "            ),\n",
    "        ),\n",
    "        name=sheet_name,\n",
    "        opacity=0.6,\n",
    "        showscale=False,\n",
    "    )\n",
    "\n",
    "\n",
    "vmax = 1.6\n",
    "project = np.imag\n",
    "projection_text = \"Imaginary\"\n",
    "sheet_colors = {\n",
    "    \"Unphysical 00\": \"blue\",\n",
    "    \"Physical 01\": \"red\",\n",
    "    \"Unphysical 10\": \"green\",\n",
    "    \"Physical 11\": \"yellow\",\n",
    "}"
   ]
  },
  {
   "cell_type": "code",
   "execution_count": null,
   "metadata": {
    "editable": true,
    "jupyter": {
     "source_hidden": true
    },
    "slideshow": {
     "slide_type": ""
    },
    "tags": [
     "hide-input"
    ]
   },
   "outputs": [],
   "source": [
    "Sn_cm_00 = go.Surface(x=X, y=Yn, z=project(Tn_cm_00), **sty(\"Unphysical 00\"))\n",
    "Sp_cm_00 = go.Surface(x=X, y=Yp, z=project(Tp_cm_00), **sty(\"Unphysical 00\"))\n",
    "\n",
    "Sn_cm_conj_00 = go.Surface(x=X, y=Yn, z=project(Tn_cm_conj_00), **sty(\"Physical 01\"))\n",
    "Sp_cm_conj_00 = go.Surface(x=X, y=Yp, z=project(Tp_cm_conj_00), **sty(\"Physical 01\"))\n",
    "\n",
    "intersection_points = []\n",
    "for i in range(len(x)):\n",
    "    intersection_points.append((x[i], 0, project(Tn_cm_00[0])[i]))\n",
    "\n",
    "intersection_points = np.array(intersection_points)\n",
    "intersection_line = go.Scatter3d(\n",
    "    x=intersection_points[:, 0],\n",
    "    y=intersection_points[:, 1],\n",
    "    z=intersection_points[:, 2],\n",
    "    mode=\"lines+markers\",\n",
    "    line=dict(color=\"yellow\", width=20),\n",
    "    marker=dict(size=1, color=\"pink\"),\n",
    "    name=\"Intersection Line\",\n",
    ")\n",
    "\n",
    "fig0 = make_subplots(\n",
    "    rows=1,\n",
    "    cols=3,\n",
    "    specs=[[{\"type\": \"surface\"}, {\"type\": \"surface\"}, {\"type\": \"scatter3d\"}]],\n",
    ")\n",
    "\n",
    "fig0.add_trace(Sn_cm_00, row=1, col=1)\n",
    "fig0.add_trace(Sp_cm_00, row=1, col=1)\n",
    "\n",
    "fig0.add_trace(Sn_cm_conj_00, row=1, col=3)\n",
    "fig0.add_trace(Sp_cm_conj_00, row=1, col=3)\n",
    "\n",
    "fig0.add_trace(Sn_cm_00, row=1, col=2)\n",
    "fig0.add_trace(Sp_cm_conj_00, row=1, col=2)\n",
    "\n",
    "\n",
    "fig0.add_trace(intersection_line, row=1, col=2)\n",
    "\n",
    "fig0.update_layout(\n",
    "    height=550,\n",
    "    width=1200,\n",
    "    showlegend=False,\n",
    "    title_text=f\"{projection_text} part of T matrix element 00 with Chew-Mandelstam\",\n",
    ")\n",
    "fig0.update_scenes(\n",
    "    xaxis_title_text=\"Re s\",\n",
    "    yaxis_title_text=\"Im s\",\n",
    "    zaxis_range=[-vmax, +vmax],\n",
    ")\n",
    "\n",
    "############################################################################################################\n",
    "\n",
    "Sn_cm_11 = go.Surface(x=X, y=Yn, z=project(Tn_cm_11), **sty(\"Unphysical 10\"))\n",
    "Sp_cm_11 = go.Surface(x=X, y=Yp, z=project(Tp_cm_11), **sty(\"Unphysical 10\"))\n",
    "\n",
    "Sn_cm_conj_11 = go.Surface(x=X, y=Yn, z=project(Tn_cm_conj_11), **sty(\"Physical 11\"))\n",
    "Sp_cm_conj_11 = go.Surface(x=X, y=Yp, z=project(Tp_cm_conj_11), **sty(\"Physical 11\"))\n",
    "\n",
    "intersection_points = []\n",
    "for i in range(len(x)):\n",
    "    intersection_points.append((x[i], 0, project(Tn_cm_11[0])[i]))\n",
    "\n",
    "intersection_points = np.array(intersection_points)\n",
    "intersection_line = go.Scatter3d(\n",
    "    x=intersection_points[:, 0],\n",
    "    y=intersection_points[:, 1],\n",
    "    z=intersection_points[:, 2],\n",
    "    mode=\"lines+markers\",\n",
    "    line=dict(color=\"yellow\", width=20),\n",
    "    marker=dict(size=1, color=\"pink\"),\n",
    "    name=\"Intersection Line\",\n",
    ")\n",
    "\n",
    "fig1 = make_subplots(\n",
    "    rows=1,\n",
    "    cols=3,\n",
    "    specs=[[{\"type\": \"surface\"}, {\"type\": \"surface\"}, {\"type\": \"scatter3d\"}]],\n",
    ")\n",
    "\n",
    "fig1.add_trace(Sn_cm_11, row=1, col=1)\n",
    "fig1.add_trace(Sp_cm_11, row=1, col=1)\n",
    "\n",
    "fig1.add_trace(Sn_cm_conj_11, row=1, col=3)\n",
    "fig1.add_trace(Sp_cm_conj_11, row=1, col=3)\n",
    "\n",
    "fig1.add_trace(Sn_cm_11, row=1, col=2)\n",
    "fig1.add_trace(Sp_cm_conj_11, row=1, col=2)\n",
    "\n",
    "\n",
    "fig1.add_trace(intersection_line, row=1, col=2)\n",
    "\n",
    "fig1.update_layout(\n",
    "    height=550,\n",
    "    width=1200,\n",
    "    showlegend=False,\n",
    "    title_text=f\"{projection_text} part of T matrix element 11 with Chew-Mandelstam\",\n",
    ")\n",
    "fig1.update_scenes(\n",
    "    xaxis_title_text=\"Re s\",\n",
    "    yaxis_title_text=\"Im s\",\n",
    "    zaxis_range=[-vmax, +vmax],\n",
    ")\n",
    "fig0.show()\n",
    "fig1.show()"
   ]
  }
 ],
 "metadata": {
  "colab": {
   "toc_visible": true
  },
  "kernelspec": {
   "display_name": "Python 3 (ipykernel)",
   "language": "python",
   "name": "python3"
  },
  "language_info": {
   "codemirror_mode": {
    "name": "ipython",
    "version": 3
   },
   "file_extension": ".py",
   "mimetype": "text/x-python",
   "name": "python",
   "nbconvert_exporter": "python",
   "pygments_lexer": "ipython3",
   "version": "3.8.18"
  }
 },
 "nbformat": 4,
 "nbformat_minor": 4
}
