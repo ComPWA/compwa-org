{
 "cells": [
  {
   "cell_type": "code",
   "execution_count": null,
   "metadata": {
    "hideCode": true,
    "hideOutput": true,
    "hidePrompt": true,
    "jupyter": {
     "source_hidden": true
    },
    "slideshow": {
     "slide_type": "skip"
    },
    "tags": [
     "remove-cell"
    ]
   },
   "outputs": [],
   "source": [
    "import os\n",
    "\n",
    "STATIC_WEB_PAGE = {\"EXECUTE_NB\", \"READTHEDOCS\"}.intersection(os.environ)"
   ]
  },
  {
   "cell_type": "markdown",
   "metadata": {},
   "source": [
    "```{autolink-concat}\n",
    "```"
   ]
  },
  {
   "cell_type": "markdown",
   "metadata": {},
   "source": [
    "# Riemann sheets for two channels"
   ]
  },
  {
   "cell_type": "code",
   "execution_count": null,
   "metadata": {
    "tags": [
     "remove-cell"
    ]
   },
   "outputs": [],
   "source": [
    "%pip install -q ampform==0.14.8 plotly==5.17.0 sympy==1.12"
   ]
  },
  {
   "cell_type": "code",
   "execution_count": null,
   "metadata": {},
   "outputs": [],
   "source": [
    "from __future__ import annotations\n",
    "\n",
    "import warnings\n",
    "from typing import Any\n",
    "\n",
    "import matplotlib.pyplot as plt\n",
    "import numpy as np\n",
    "import plotly.graph_objects as go\n",
    "import sympy as sp\n",
    "from ampform.io import aslatex\n",
    "from ampform.sympy import unevaluated\n",
    "from IPython.display import Math\n",
    "\n",
    "warnings.filterwarnings(\"ignore\")"
   ]
  },
  {
   "cell_type": "markdown",
   "metadata": {},
   "source": [
    "## Squareroot definition \n",
    "See report on Riemann sheets for one channel case [Link]"
   ]
  },
  {
   "cell_type": "code",
   "execution_count": null,
   "metadata": {},
   "outputs": [],
   "source": [
    "@unevaluated(real=False)\n",
    "class SignedSqrt(sp.Expr):\n",
    "    z: Any\n",
    "    _latex_repr_ = R\"\\sqrt[+]{{{z}}}\"\n",
    "\n",
    "    def evaluate(self) -> sp.Expr:\n",
    "        z = self.args[0]\n",
    "        return sp.sqrt(abs(z)) * sp.exp(sp.I * PosArg(z) / 2)\n",
    "\n",
    "\n",
    "@unevaluated\n",
    "class PosArg(sp.Expr):\n",
    "    z: Any\n",
    "    _latex_repr_ = R\"\\arg^+\\left({z}\\right)\"\n",
    "\n",
    "    def evaluate(self) -> sp.Expr:\n",
    "        z = self.args[0]\n",
    "        arg = sp.arg(z)\n",
    "        return sp.Piecewise(\n",
    "            (arg - 2 * sp.pi, arg < -2 * sp.pi),\n",
    "            (arg + 2 * sp.pi, arg > 0),\n",
    "            (arg, True),\n",
    "        )\n",
    "\n",
    "\n",
    "z = sp.Symbol(\"z\", complex=True)\n",
    "Math(aslatex({e: e.evaluate() for e in [SignedSqrt(z), PosArg(z)]}))"
   ]
  },
  {
   "cell_type": "code",
   "execution_count": null,
   "metadata": {},
   "outputs": [],
   "source": [
    "@unevaluated(real=False)\n",
    "class PhaseSpaceFactor(sp.Expr):\n",
    "    s: Any\n",
    "    m1: Any\n",
    "    m2: Any\n",
    "    _latex_repr_ = R\"\\rho^+\\left({s}\\right)\"\n",
    "\n",
    "    def evaluate(self) -> sp.Expr:\n",
    "        s, m1, m2 = self.args\n",
    "        return SignedSqrt((s - ((m1 + m2) ** 2)) * (s - (m1 - m2) ** 2) / s**2)\n",
    "\n",
    "\n",
    "s, m_a, m_b = sp.symbols(\"s m_a m_b\")\n",
    "rho_expr = PhaseSpaceFactor(s, m_a, m_b)\n",
    "Math(aslatex({rho_expr: rho_expr.doit(deep=False)}))"
   ]
  },
  {
   "cell_type": "code",
   "execution_count": null,
   "metadata": {
    "editable": true,
    "slideshow": {
     "slide_type": ""
    },
    "tags": [
     "hide-input"
    ]
   },
   "outputs": [],
   "source": [
    "@unevaluated(real=False)\n",
    "class BreakupMomentum(sp.Expr):\n",
    "    s: Any\n",
    "    m_a: Any\n",
    "    m_b: Any\n",
    "    _latex_repr_ = R\"q^+\\left({s}\\right)\"\n",
    "\n",
    "    def evaluate(self) -> sp.Expr:\n",
    "        s, m_a, m_b = self.args\n",
    "        return SignedSqrt((s - (m_a + m_b) ** 2) * (s - (m_a - m_b) ** 2) / (s * 4))\n",
    "\n",
    "\n",
    "breakup_momentum = BreakupMomentum(s, m_a, m_b)\n",
    "Math(aslatex({breakup_momentum: breakup_momentum.doit(deep=False)}))"
   ]
  },
  {
   "cell_type": "code",
   "execution_count": null,
   "metadata": {
    "editable": true,
    "slideshow": {
     "slide_type": ""
    },
    "tags": [
     "hide-input"
    ]
   },
   "outputs": [],
   "source": [
    "@unevaluated(real=False)\n",
    "class ChewMandelstamm(sp.Expr):\n",
    "    s: Any\n",
    "    m1: Any\n",
    "    m2: Any\n",
    "    _latex_repr_ = R\"\\rho^\\text{{CM}}\\left({s},{m1},{m2}\\right)\"\n",
    "\n",
    "    def evaluate(self) -> sp.Expr:\n",
    "        s, m1, m2 = self.args\n",
    "        q_break = BreakupMomentum(s, m1, m2)\n",
    "        return (\n",
    "            1\n",
    "            / (16 * (sp.pi) ** 2)\n",
    "            * (\n",
    "                (2 * q_break / sp.sqrt(s))\n",
    "                * sp.log(\n",
    "                    (m1**2 + m2**2 - s + 2 * sp.sqrt(s) * q_break) / (2 * m1 * m2)\n",
    "                )\n",
    "                - (m1**2 - m2**2) * (1 / s - 1 / (m1 + m2) ** 2) * sp.log(m1 / m2)\n",
    "            )\n",
    "        )\n",
    "\n",
    "\n",
    "cm_expr = ChewMandelstamm(s, m_a, m_b)\n",
    "Math(aslatex({cm_expr: cm_expr.doit(deep=False)}))"
   ]
  },
  {
   "cell_type": "code",
   "execution_count": null,
   "metadata": {},
   "outputs": [],
   "source": [
    "@unevaluated(real=False)\n",
    "class PhaseSpaceFactor_breakup(sp.Expr):\n",
    "    s: Any\n",
    "    m1: Any\n",
    "    m2: Any\n",
    "    _latex_repr_ = R\"\\rho^+\\left({s}\\right)\"\n",
    "\n",
    "    def evaluate(self) -> sp.Expr:\n",
    "        s, m1, m2 = self.args\n",
    "        return SignedSqrt((s - ((m1 + m2) ** 2)) * (s - (m1 - m2) ** 2) / s**2)\n",
    "\n",
    "\n",
    "s, m_a, m_b = sp.symbols(\"s m_a m_b\")\n",
    "rho_expr = PhaseSpaceFactor(s, m_a, m_b)\n",
    "Math(aslatex({rho_expr: rho_expr.doit(deep=False)}))"
   ]
  },
  {
   "cell_type": "markdown",
   "metadata": {
    "editable": true,
    "slideshow": {
     "slide_type": ""
    },
    "tags": []
   },
   "source": [
    "### Visual comparison"
   ]
  },
  {
   "cell_type": "code",
   "execution_count": null,
   "metadata": {
    "editable": true,
    "slideshow": {
     "slide_type": ""
    },
    "tags": [
     "hide-input",
     "scroll-input",
     "full-width"
    ]
   },
   "outputs": [],
   "source": [
    "args = (s, m_a, m_b)\n",
    "cm_func_sym = sp.lambdify(args, cm_expr.doit())\n",
    "rho_func = sp.lambdify(args, rho_expr.doit())\n",
    "\n",
    "s_values = np.linspace(0, 2, 400)\n",
    "m1_val = 0.6\n",
    "m2_val = 0.4\n",
    "arg_vals = (m1_val, m2_val)\n",
    "\n",
    "cm_values = 16 * np.pi * cm_func_sym(s_values, *arg_vals)\n",
    "rho_values = 1j * rho_func(s_values, *arg_vals)\n",
    "\n",
    "fig, axes = plt.subplots(figsize=(15, 6), ncols=2, sharex=True, sharey=True)\n",
    "ax1, ax2 = axes\n",
    "ax1.plot(s_values, cm_values.real, label=\"Real part\")\n",
    "ax1.plot(s_values, cm_values.imag, label=\"Imaginary part\")\n",
    "ax1.set_xlabel(\"Re(s)\")\n",
    "ax1.set_ylabel(\"Function value\")\n",
    "ax1.set_title(\"Chew Mandelstamm Function\")\n",
    "ax1.legend()\n",
    "\n",
    "ax2.plot(s_values, rho_values.real, label=\"Real part\")\n",
    "ax2.plot(s_values, rho_values.imag, label=\"Imaginary part\")\n",
    "ax2.set_xlabel(\"Re(s)\")\n",
    "ax2.set_title(\"Phase Space Factor\")\n",
    "ax2.legend()\n",
    "\n",
    "\n",
    "ax2.set_ylim(-1.2, +1.6)\n",
    "plt.tight_layout()\n",
    "\n",
    "plt.show()"
   ]
  },
  {
   "cell_type": "markdown",
   "metadata": {
    "editable": true,
    "slideshow": {
     "slide_type": ""
    },
    "tags": []
   },
   "source": [
    "## Define parameters values for plotting "
   ]
  },
  {
   "cell_type": "markdown",
   "metadata": {
    "editable": true,
    "slideshow": {
     "slide_type": ""
    },
    "tags": []
   },
   "source": [
    "## T matrix definition with K matrix"
   ]
  },
  {
   "cell_type": "code",
   "execution_count": null,
   "metadata": {
    "editable": true,
    "slideshow": {
     "slide_type": ""
    },
    "tags": []
   },
   "outputs": [],
   "source": [
    "n_channels = 2\n",
    "I = sp.Identity(n_channels)\n",
    "K = sp.MatrixSymbol(\"K\", n_channels, n_channels)\n",
    "rho_symbol = sp.MatrixSymbol(\"rho\", n_channels, n_channels)\n",
    "rho = sp.DiagonalMatrix(rho_symbol)\n",
    "rho.as_explicit()"
   ]
  },
  {
   "cell_type": "code",
   "execution_count": null,
   "metadata": {},
   "outputs": [],
   "source": [
    "T = (I - sp.I * K * rho).inv() * K\n",
    "T"
   ]
  },
  {
   "cell_type": "code",
   "execution_count": null,
   "metadata": {},
   "outputs": [],
   "source": [
    "T_explicit = T.as_explicit()\n",
    "T_explicit"
   ]
  },
  {
   "cell_type": "markdown",
   "metadata": {
    "editable": true,
    "slideshow": {
     "slide_type": ""
    },
    "tags": []
   },
   "source": [
    "No Blatt-Weisskopf-Formfactors because $L=0$:"
   ]
  },
  {
   "cell_type": "code",
   "execution_count": null,
   "metadata": {
    "editable": true,
    "slideshow": {
     "slide_type": ""
    },
    "tags": []
   },
   "outputs": [],
   "source": [
    "s = sp.Symbol(\"s\")\n",
    "m_a_1 = sp.Symbol(R\"m_{a,1}\")\n",
    "m_b_1 = sp.Symbol(R\"m_{b,1}\")\n",
    "m_a_2 = sp.Symbol(R\"m_{a,2}\")\n",
    "m_b_2 = sp.Symbol(R\"m_{b,2}\")\n",
    "w_R = sp.Symbol(R\"\\Gamma_{R}\")\n",
    "gamma_R_1 = sp.Symbol(R\"\\gamma_{R,1}\")\n",
    "gamma_R_2 = sp.Symbol(R\"\\gamma_{R,2}\")\n",
    "m_R = sp.Symbol(R\"m_R\")\n",
    "\n",
    "k_expr_00 = (gamma_R_1 * gamma_R_1 * m_R * w_R) / (s - m_R**2)\n",
    "k_expr_10 = (gamma_R_1 * gamma_R_2 * m_R * w_R) / (s - m_R**2)\n",
    "k_expr_11 = (gamma_R_2 * gamma_R_2 * m_R * w_R) / (s - m_R**2)"
   ]
  },
  {
   "cell_type": "code",
   "execution_count": null,
   "metadata": {
    "editable": true,
    "slideshow": {
     "slide_type": ""
    },
    "tags": []
   },
   "outputs": [],
   "source": [
    "rho_expressions = {\n",
    "    K[0, 0]: k_expr_00,\n",
    "    K[1, 1]: k_expr_11,\n",
    "    K[0, 1]: k_expr_10,\n",
    "    K[1, 0]: k_expr_10,\n",
    "    rho[0, 0]: PhaseSpaceFactor(s, m_a_1, m_b_1),\n",
    "    rho[1, 1]: PhaseSpaceFactor(s, m_a_2, m_b_2),\n",
    "}\n",
    "Math(aslatex(rho_expressions))"
   ]
  },
  {
   "cell_type": "code",
   "execution_count": null,
   "metadata": {
    "editable": true,
    "slideshow": {
     "slide_type": ""
    },
    "tags": []
   },
   "outputs": [],
   "source": [
    "cm_expressions = {\n",
    "    K[0, 0]: k_expr_00,\n",
    "    K[1, 1]: k_expr_11,\n",
    "    K[0, 1]: k_expr_10,\n",
    "    K[1, 0]: k_expr_10,\n",
    "    rho[0, 0]: sp.I * 16 * sp.pi * ChewMandelstamm(s, m_a_1, m_b_1),\n",
    "    rho[1, 1]: sp.I * 16 * sp.pi * ChewMandelstamm(s, m_a_2, m_b_2),\n",
    "}\n",
    "Math(aslatex(cm_expressions))"
   ]
  },
  {
   "cell_type": "code",
   "execution_count": null,
   "metadata": {
    "editable": true,
    "slideshow": {
     "slide_type": ""
    },
    "tags": []
   },
   "outputs": [],
   "source": [
    "cm_conj_conj_expressions = {\n",
    "    K[0, 0]: k_expr_00,\n",
    "    K[1, 1]: k_expr_11,\n",
    "    K[0, 1]: k_expr_10,\n",
    "    K[1, 0]: k_expr_10,\n",
    "    rho[0, 0]: sp.I * 16 * sp.pi * ChewMandelstamm(s, m_a_1, m_b_1).conjugate(),\n",
    "    rho[1, 1]: sp.I * 16 * sp.pi * ChewMandelstamm(s, m_a_2, m_b_2).conjugate(),\n",
    "}"
   ]
  },
  {
   "cell_type": "code",
   "execution_count": null,
   "metadata": {},
   "outputs": [],
   "source": [
    "cm_conj1_expressions = {\n",
    "    K[0, 0]: k_expr_00,\n",
    "    K[1, 1]: k_expr_11,\n",
    "    K[0, 1]: k_expr_10,\n",
    "    K[1, 0]: k_expr_10,\n",
    "    rho[0, 0]: sp.I * 16 * sp.pi * ChewMandelstamm(s, m_a_1, m_b_1).conjugate(),\n",
    "    rho[1, 1]: sp.I * 16 * sp.pi * ChewMandelstamm(s, m_a_2, m_b_2),\n",
    "}"
   ]
  },
  {
   "cell_type": "code",
   "execution_count": null,
   "metadata": {},
   "outputs": [],
   "source": [
    "cm_conj2_expressions = {\n",
    "    K[0, 0]: k_expr_00,\n",
    "    K[1, 1]: k_expr_11,\n",
    "    K[0, 1]: k_expr_10,\n",
    "    K[1, 0]: k_expr_10,\n",
    "    rho[0, 0]: sp.I * 16 * sp.pi * ChewMandelstamm(s, m_a_1, m_b_1),\n",
    "    rho[1, 1]: sp.I * 16 * sp.pi * ChewMandelstamm(s, m_a_2, m_b_2).conjugate(),\n",
    "}"
   ]
  },
  {
   "cell_type": "code",
   "execution_count": null,
   "metadata": {
    "editable": true,
    "slideshow": {
     "slide_type": ""
    },
    "tags": [
     "hide-input"
    ]
   },
   "outputs": [],
   "source": [
    "T_cm_expr_00 = T_explicit[0, 0].xreplace(cm_expressions)\n",
    "T_cm_conj_conj_expr_00 = T_explicit[0, 0].xreplace(cm_conj_conj_expressions)\n",
    "T_cm_conj1_expr_00 = T_explicit[0, 0].xreplace(cm_conj1_expressions)\n",
    "T_cm_conj2_expr_00 = T_explicit[0, 0].xreplace(cm_conj2_expressions)"
   ]
  },
  {
   "cell_type": "code",
   "execution_count": null,
   "metadata": {
    "editable": true,
    "slideshow": {
     "slide_type": ""
    },
    "tags": []
   },
   "outputs": [],
   "source": [
    "T_cm_expr_00.simplify(doit=False)"
   ]
  },
  {
   "cell_type": "markdown",
   "metadata": {},
   "source": [
    "## T Matrix"
   ]
  },
  {
   "cell_type": "code",
   "execution_count": null,
   "metadata": {},
   "outputs": [],
   "source": [
    "args = (s, m_a_1, m_b_1, m_a_2, m_b_2, m_R, w_R, gamma_R_1, gamma_R_2)\n",
    "T_cm_func_00 = sp.lambdify(args, T_cm_expr_00.doit())\n",
    "T_cm_conj_conj_func_00 = sp.lambdify(args, T_cm_conj_conj_expr_00.doit())\n",
    "T_cm_conj1_func_00 = sp.lambdify(args, T_cm_conj1_expr_00.doit())\n",
    "T_cm_conj2_func_00 = sp.lambdify(args, T_cm_conj2_expr_00.doit())"
   ]
  },
  {
   "cell_type": "code",
   "execution_count": null,
   "metadata": {},
   "outputs": [],
   "source": [
    "epsilon = 1e-5\n",
    "x = np.linspace(0, 3, num=200)\n",
    "y = np.linspace(epsilon, 6, num=200)\n",
    "X, Yn = np.meshgrid(x, +y)\n",
    "_, Yp = np.meshgrid(x, -y)\n",
    "Zn = X - 0.001 * 1j\n",
    "Zp = X + 0.001 * 1j\n",
    "\n",
    "m_a_1_val = 0.14\n",
    "m_b_1_val = 0.14\n",
    "\n",
    "m_a_2_val = 0.5\n",
    "m_b_2_val = 0.5\n",
    "\n",
    "m_R = 1.0\n",
    "w_R = 1.0\n",
    "gamma_R_1 = 1\n",
    "gamma_R_2 = 1\n",
    "\n",
    "arg_vals = (\n",
    "    m_a_1_val,\n",
    "    m_b_1_val,\n",
    "    m_a_2_val,\n",
    "    m_b_2_val,\n",
    "    w_R,\n",
    "    m_R,\n",
    "    gamma_R_1,\n",
    "    gamma_R_2,\n",
    ")\n",
    "\n",
    "T_cm_00_p = T_cm_func_00(Zp**2, *arg_vals)\n",
    "T_cm_00_n = T_cm_func_00(Zn**2, *arg_vals)\n",
    "\n",
    "T_cm_conj_conj_00_p = T_cm_conj_conj_func_00(Zp**2, *arg_vals)\n",
    "T_cm_conj_conj_00_n = T_cm_conj_conj_func_00(Zn**2, *arg_vals)\n",
    "\n",
    "T_cm_conj1_00_p = T_cm_conj1_func_00(Zp**2, *arg_vals)\n",
    "T_cm_conj1_00_n = T_cm_conj1_func_00(Zn**2, *arg_vals)\n",
    "\n",
    "T_cm_conj2_00_p = T_cm_conj2_func_00(Zp**2, *arg_vals)\n",
    "T_cm_conj2_00_n = T_cm_conj2_func_00(Zn**2, *arg_vals)"
   ]
  },
  {
   "cell_type": "code",
   "execution_count": null,
   "metadata": {},
   "outputs": [],
   "source": [
    "plt.plot(x, T_cm_conj_conj_00_p[0].imag, c=\"blue\", zorder=99)\n",
    "plt.plot(x, T_cm_00_p[0].imag, c=\"yellow\", zorder=99)\n",
    "plt.plot(x, T_cm_conj1_00_p[0].imag, c=\"red\", zorder=99)\n",
    "plt.plot(x, T_cm_conj2_00_n[0].imag, c=\"green\", zorder=99)"
   ]
  },
  {
   "cell_type": "code",
   "execution_count": null,
   "metadata": {},
   "outputs": [],
   "source": [
    "import plotly.graph_objects as go\n",
    "from plotly.subplots import make_subplots\n",
    "\n",
    "Sn_cm = go.Surface(x=X, y=Yn, z=project(Tn_cm), **sty(\"Unphysical\"))\n",
    "Sp_cm = go.Surface(x=X, y=Yp, z=project(Tp_cm), **sty(\"Unphysical\"))\n",
    "\n",
    "Sn_cm_conj = go.Surface(x=X, y=Yn, z=project(Tn_cm_conj), **sty(\"Physical\"))\n",
    "Sp_cm_conj = go.Surface(x=X, y=Yp, z=project(Tp_cm_conj), **sty(\"Physical\"))\n",
    "\n",
    "intersection_points = []\n",
    "for i in range(len(x)):\n",
    "    intersection_points.append((x[i], 0, project(Tn_cm[0])[i]))\n",
    "\n",
    "intersection_points = np.array(intersection_points)\n",
    "intersection_line = go.Scatter3d(\n",
    "    x=intersection_points[:, 0],\n",
    "    y=intersection_points[:, 1],\n",
    "    z=intersection_points[:, 2],\n",
    "    mode=\"lines+markers\",\n",
    "    line=dict(color=\"yellow\", width=20),\n",
    "    marker=dict(size=1, color=\"pink\"),\n",
    "    name=\"Intersection Line\",\n",
    ")\n",
    "\n",
    "fig = make_subplots(\n",
    "    rows=1,\n",
    "    cols=3,\n",
    "    specs=[[{\"type\": \"surface\"}, {\"type\": \"surface\"}, {\"type\": \"scatter3d\"}]],\n",
    ")\n",
    "\n",
    "fig.add_trace(Sn_cm, row=1, col=1)\n",
    "fig.add_trace(Sp_cm, row=1, col=1)\n",
    "\n",
    "fig.add_trace(Sn_cm_conj, row=1, col=3)\n",
    "fig.add_trace(Sp_cm_conj, row=1, col=3)\n",
    "\n",
    "fig.add_trace(Sn_cm, row=1, col=2)\n",
    "fig.add_trace(Sp_cm_conj, row=1, col=2)\n",
    "\n",
    "fig.add_trace(intersection_line, row=1, col=2)\n",
    "\n",
    "fig.update_layout(\n",
    "    height=550,\n",
    "    width=1200,\n",
    "    showlegend=False,\n",
    "    title_text=f\"{projection_text} part of T function with Chew-Mandelstam\",\n",
    ")\n",
    "fig.update_scenes(\n",
    "    xaxis_title_text=\"Re s\",\n",
    "    yaxis_title_text=\"Im s\",\n",
    "    zaxis_range=[-vmax, +vmax],\n",
    ")\n",
    "fig.show()"
   ]
  },
  {
   "cell_type": "code",
   "execution_count": null,
   "metadata": {},
   "outputs": [],
   "source": []
  },
  {
   "cell_type": "code",
   "execution_count": null,
   "metadata": {},
   "outputs": [],
   "source": []
  },
  {
   "cell_type": "code",
   "execution_count": null,
   "metadata": {},
   "outputs": [],
   "source": []
  },
  {
   "cell_type": "code",
   "execution_count": null,
   "metadata": {},
   "outputs": [],
   "source": []
  },
  {
   "cell_type": "code",
   "execution_count": null,
   "metadata": {},
   "outputs": [],
   "source": []
  }
 ],
 "metadata": {
  "colab": {
   "toc_visible": true
  },
  "kernelspec": {
   "display_name": "Python 3 (ipykernel)",
   "language": "python",
   "name": "python3"
  },
  "language_info": {
   "codemirror_mode": {
    "name": "ipython",
    "version": 3
   },
   "file_extension": ".py",
   "mimetype": "text/x-python",
   "name": "python",
   "nbconvert_exporter": "python",
   "pygments_lexer": "ipython3",
   "version": "3.8.18"
  }
 },
 "nbformat": 4,
 "nbformat_minor": 4
}
