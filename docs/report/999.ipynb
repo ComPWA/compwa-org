{
 "cells": [
  {
   "cell_type": "code",
   "execution_count": null,
   "metadata": {
    "hideCode": true,
    "hideOutput": true,
    "hidePrompt": true,
    "jupyter": {
     "source_hidden": true
    },
    "slideshow": {
     "slide_type": "skip"
    },
    "tags": [
     "remove-cell"
    ]
   },
   "outputs": [],
   "source": [
    "import os\n",
    "\n",
    "STATIC_WEB_PAGE = {\"EXECUTE_NB\", \"READTHEDOCS\"}.intersection(os.environ)"
   ]
  },
  {
   "cell_type": "markdown",
   "metadata": {
    "editable": true,
    "slideshow": {
     "slide_type": ""
    },
    "tags": []
   },
   "source": [
    "```{autolink-concat}\n",
    "```"
   ]
  },
  {
   "cell_type": "markdown",
   "metadata": {
    "editable": true,
    "slideshow": {
     "slide_type": ""
    },
    "tags": [
     "documentation",
     "jupyter",
     "sphinx",
     "3d"
    ]
   },
   "source": [
    "::::{margin}\n",
    ":::{card} Amplitude Analysis with simple Python\n",
    "TR-999\n",
    "^^^\n",
    "+++\n",
    "✅&nbsp;[ComPWA/RUB-EP1-AG#93](https://github.com/ComPWA/RUB-EP1-AG/issues/93)\n",
    ":::\n",
    "::::"
   ]
  },
  {
   "cell_type": "markdown",
   "metadata": {
    "editable": true,
    "slideshow": {
     "slide_type": ""
    },
    "tags": []
   },
   "source": [
    "# Amplitude Analysis 101"
   ]
  },
  {
   "cell_type": "code",
   "execution_count": null,
   "metadata": {
    "editable": true,
    "slideshow": {
     "slide_type": ""
    },
    "tags": [
     "remove-cell"
    ]
   },
   "outputs": [],
   "source": [
    "%pip install -q gdown==4.7.1 matplotlib==3.7.3 numpy==1.24.4 particle==0.23.0 pylorentz==0.3.3 scipy==1.10.1"
   ]
  },
  {
   "cell_type": "code",
   "execution_count": null,
   "metadata": {
    "editable": true,
    "slideshow": {
     "slide_type": ""
    },
    "tags": []
   },
   "outputs": [],
   "source": [
    "%pip install --upgrade -q jupyterlab-git"
   ]
  },
  {
   "cell_type": "code",
   "execution_count": null,
   "metadata": {
    "editable": true,
    "slideshow": {
     "slide_type": ""
    },
    "tags": [
     "hide-cell"
    ]
   },
   "outputs": [],
   "source": [
    "from __future__ import annotations\n",
    "\n",
    "import warnings\n",
    "\n",
    "import gdown\n",
    "import numpy as np\n",
    "\n",
    "warnings.filterwarnings(\"ignore\")"
   ]
  },
  {
   "cell_type": "code",
   "execution_count": null,
   "metadata": {
    "editable": true,
    "jupyter": {
     "source_hidden": true
    },
    "slideshow": {
     "slide_type": ""
    },
    "tags": [
     "remove-cell"
    ]
   },
   "outputs": [],
   "source": [
    "%config InlineBackend.figure_formats = ['png']"
   ]
  },
  {
   "cell_type": "markdown",
   "metadata": {
    "editable": true,
    "slideshow": {
     "slide_type": ""
    },
    "tags": []
   },
   "source": [
    "## From Data"
   ]
  },
  {
   "cell_type": "code",
   "execution_count": null,
   "metadata": {
    "editable": true,
    "slideshow": {
     "slide_type": ""
    },
    "tags": []
   },
   "outputs": [],
   "source": [
    "filename = gdown.cached_download(\n",
    "    url=\"https://indico.ific.uv.es/event/6803/contributions/21223/attachments/11221/15563/Three-particles-3.dat\",\n",
    "    path=\"data/Three-particles-3.dat\",\n",
    "    md5=\"75fedf381f9b62d3210ff200fc63165f\",\n",
    "    quiet=True,\n",
    "    verify=False,\n",
    ")\n",
    "data = np.loadtxt(filename)\n",
    "data.shape"
   ]
  },
  {
   "cell_type": "markdown",
   "metadata": {
    "editable": true,
    "slideshow": {
     "slide_type": ""
    },
    "tags": []
   },
   "source": [
    "A python package `pylorentz` is imported to perform calculation for 4-vectors.\n",
    "\n",
    "[pylorentz API reference](https://pylorentz.readthedocs.io/en/latest/api_reference.html)"
   ]
  },
  {
   "cell_type": "code",
   "execution_count": null,
   "metadata": {
    "editable": true,
    "slideshow": {
     "slide_type": ""
    },
    "tags": []
   },
   "outputs": [],
   "source": [
    "n_final_state = 3\n",
    "pa_data_get, p1_data_get, p2_data_get, p3_data_get = (\n",
    "    data[i::4].T for i in range(n_final_state + 1)\n",
    ")\n",
    "p0_data_get = p1_data_get + p2_data_get + p3_data_get\n",
    "pb_data_get = p0_data_get - pa_data_get"
   ]
  },
  {
   "cell_type": "code",
   "execution_count": null,
   "metadata": {
    "editable": true,
    "jupyter": {
     "source_hidden": true
    },
    "slideshow": {
     "slide_type": ""
    },
    "tags": [
     "hide-cell"
    ]
   },
   "outputs": [],
   "source": [
    "import matplotlib.pyplot as plt\n",
    "from pylorentz import Momentum4"
   ]
  },
  {
   "cell_type": "code",
   "execution_count": null,
   "metadata": {
    "editable": true,
    "slideshow": {
     "slide_type": ""
    },
    "tags": []
   },
   "outputs": [],
   "source": [
    "pa_data = Momentum4(*pa_data_get)\n",
    "pb_data = Momentum4(*pb_data_get)\n",
    "p1_data = Momentum4(*p1_data_get)\n",
    "p2_data = Momentum4(*p2_data_get)\n",
    "p3_data = Momentum4(*p3_data_get)\n",
    "\n",
    "system12_data = p1_data + p2_data\n",
    "system23_data = p2_data + p3_data\n",
    "system13_data = p1_data + p3_data\n",
    "\n",
    "s12_data = system12_data.m2\n",
    "s31_data = system13_data.m2\n",
    "s23_data = system23_data.m2"
   ]
  },
  {
   "cell_type": "code",
   "execution_count": null,
   "metadata": {
    "editable": true,
    "jupyter": {
     "source_hidden": true
    },
    "slideshow": {
     "slide_type": ""
    },
    "tags": [
     "hide-output",
     "hide-cell"
    ]
   },
   "outputs": [],
   "source": [
    "np.testing.assert_allclose(\n",
    "    system12_data.e**2 - system12_data.p2, s12_data, rtol=1e-5\n",
    ")\n",
    "\n",
    "p12_data_get = p1_data_get + p2_data_get\n",
    "np.testing.assert_allclose(\n",
    "    p12_data_get[0] ** 2\n",
    "    - (np.sqrt(p12_data_get[1] ** 2 + p12_data_get[2] ** 2 + p12_data_get[3] ** 2))\n",
    "    ** 2,\n",
    "    s12_data,\n",
    "    rtol=1e-5,\n",
    ")\n",
    "\n",
    "print(\"test of s_12 past with relative tolerance 1e-5\")"
   ]
  },
  {
   "cell_type": "markdown",
   "metadata": {
    "editable": true,
    "slideshow": {
     "slide_type": ""
    },
    "tags": []
   },
   "source": [
    "The values of $R_{12}$, $R_{23}$, and $R_{31}$ are the position of mass square that estimated form the Dalitz plot below."
   ]
  },
  {
   "cell_type": "code",
   "execution_count": null,
   "metadata": {
    "editable": true,
    "slideshow": {
     "slide_type": ""
    },
    "tags": []
   },
   "outputs": [],
   "source": [
    "R12 = 1.74\n",
    "R23 = 1.53\n",
    "R31 = 2.45"
   ]
  },
  {
   "cell_type": "code",
   "execution_count": null,
   "metadata": {
    "editable": true,
    "jupyter": {
     "source_hidden": true
    },
    "slideshow": {
     "slide_type": ""
    },
    "tags": [
     "full-width",
     "hide-input"
    ]
   },
   "outputs": [],
   "source": [
    "fig, (ax1, ax2) = plt.subplots(figsize=(10, 4), ncols=2)\n",
    "fig.suptitle(\"Dalitz plot – scatter plot\")\n",
    "ax1.scatter(s12_data, s23_data, c=\"black\", s=1e-3)\n",
    "ax1.set_xlabel(R\"$s_{12}\\;\\left[\\mathrm{GeV}^2\\right]$\")\n",
    "ax1.set_ylabel(R\"$s_{23}\\;\\left[\\mathrm{GeV}^2\\right]$\")\n",
    "ax1.axvline(R12, c=\"C0\", ls=\"dashed\", label=\"$R_{12}$\")\n",
    "ax1.axhline(R23, c=\"C1\", ls=\"dashed\", label=\"$R_{23}$\")\n",
    "ax1.legend()\n",
    "ax2.scatter(s31_data, s12_data, c=\"black\", s=1e-3)\n",
    "ax2.set_xlabel(R\"$s_{31}\\;\\left[\\mathrm{GeV}^2\\right]$\")\n",
    "ax2.set_ylabel(R\"$s_{12}\\;\\left[\\mathrm{GeV}^2\\right]$\")\n",
    "ax2.axvline(R31, c=\"C2\", ls=\"dashed\", label=\"$R_{31}$\")\n",
    "ax2.axhline(R12, c=\"C0\", ls=\"dashed\", label=\"$R_{12}$\")\n",
    "ax2.legend()\n",
    "fig.tight_layout()\n",
    "plt.show()"
   ]
  },
  {
   "cell_type": "code",
   "execution_count": null,
   "metadata": {
    "editable": true,
    "jupyter": {
     "source_hidden": true
    },
    "slideshow": {
     "slide_type": ""
    },
    "tags": [
     "hide-input",
     "full-width"
    ]
   },
   "outputs": [],
   "source": [
    "fig, (ax1, ax2, ax3) = plt.subplots(figsize=(12, 4), ncols=3)\n",
    "fig.suptitle(\"1D histogram of $s_{12}, s_{23}$, and $s_{31}$\")\n",
    "ax1.hist(s12_data, bins=100, color=\"black\", histtype=\"step\")\n",
    "ax1.set_xlabel(R\"$s_{12}$\")\n",
    "ax1.set_ylabel(\"counts\")\n",
    "ax1.axvline(R12, c=\"C0\", ls=\"dashed\", label=\"$R_{12}$\")\n",
    "ax1.legend()\n",
    "\n",
    "ax2.hist(s23_data, bins=100, color=\"black\", histtype=\"step\")\n",
    "ax2.set_xlabel(R\"$s_{23}$\")\n",
    "ax2.set_ylabel(\"counts\")\n",
    "ax2.axvline(R23, c=\"C1\", ls=\"dashed\", label=\"$R_{23}$\")\n",
    "ax2.legend()\n",
    "\n",
    "ax3.hist(s31_data, bins=100, color=\"black\", histtype=\"step\")\n",
    "ax3.set_xlabel(R\"$s_{31}$\")\n",
    "ax3.set_ylabel(\"counts\")\n",
    "ax3.axvline(R31, c=\"C2\", ls=\"dashed\", label=\"$R_{31}$\")\n",
    "ax3.legend()\n",
    "\n",
    "fig.tight_layout()\n",
    "plt.show()"
   ]
  },
  {
   "cell_type": "code",
   "execution_count": null,
   "metadata": {
    "editable": true,
    "jupyter": {
     "source_hidden": true
    },
    "slideshow": {
     "slide_type": ""
    },
    "tags": [
     "full-width",
     "hide-input",
     "hide-output"
    ]
   },
   "outputs": [],
   "source": [
    "fig, (ax1, ax2, ax3) = plt.subplots(figsize=(12, 4), ncols=3)\n",
    "fig.suptitle(\"1D histogram of $s_{12}, s_{23}$, and $s_{31}$\")\n",
    "ax1.hist(s12_data, bins=100, color=\"black\", histtype=\"step\")\n",
    "ax1.set_xlabel(R\"$s_{12}$\")\n",
    "ax1.set_ylabel(\"counts\")\n",
    "ax1.axvline(R12 - 0.25, c=\"C0\", ls=\"dashed\", label=\"$-$\")\n",
    "ax1.axvline(R12 + 0.25, c=\"C0\", ls=\"dashed\", label=\"$+$\")\n",
    "ax1.legend()\n",
    "\n",
    "ax2.hist(s23_data, bins=100, color=\"black\", histtype=\"step\")\n",
    "ax2.set_xlabel(R\"$s_{23}$\")\n",
    "ax2.set_ylabel(\"counts\")\n",
    "ax2.axvline(R23 - 0.3, c=\"C1\", ls=\"dashed\", label=\"$-$\")\n",
    "ax2.axvline(R23 + 0.3, c=\"C1\", ls=\"dashed\", label=\"$+$\")\n",
    "ax2.legend()\n",
    "\n",
    "ax3.hist(s31_data, bins=100, color=\"black\", histtype=\"step\")\n",
    "ax3.set_xlabel(R\"$s_{31}$\")\n",
    "ax3.set_ylabel(\"counts\")\n",
    "ax3.axvline(R31 - 0.25, c=\"C2\", ls=\"dashed\", label=\"$-$\")\n",
    "ax3.axvline(R31 + 0.45, c=\"C2\", ls=\"dashed\", label=\"$+$\")\n",
    "ax3.legend()\n",
    "\n",
    "fig.tight_layout()\n",
    "plt.show()"
   ]
  },
  {
   "cell_type": "code",
   "execution_count": null,
   "metadata": {
    "editable": true,
    "jupyter": {
     "source_hidden": true
    },
    "slideshow": {
     "slide_type": ""
    },
    "tags": [
     "hide-input",
     "full-width"
    ]
   },
   "outputs": [],
   "source": [
    "fig, (ax1, ax2) = plt.subplots(figsize=(12, 4), ncols=2)\n",
    "fig.suptitle(R\"$\\theta$ and $\\phi$ distribution of $p_1$\")\n",
    "ax1.hist(np.degrees(p1_data.theta), bins=100)\n",
    "ax1.set_xlabel(R\"$\\theta$ [deg]\")\n",
    "ax1.set_ylabel(\"counts\")\n",
    "\n",
    "ax2.hist(np.degrees(p1_data.phi), bins=100)\n",
    "ax2.set_xlabel(R\"$\\phi$ [deg]\")\n",
    "ax2.set_ylabel(\"counts\")\n",
    "\n",
    "plt.show()\n",
    "\n",
    "fig, (ax1, ax2) = plt.subplots(figsize=(12, 4), ncols=2)\n",
    "fig.suptitle(\n",
    "    R\"$\\theta$ and $\\phi$ distribution of $p_1$ after boost to $p_1+p_2$ system\"\n",
    ")\n",
    "ax1.hist(np.degrees(p1_data.boost_particle(p1_data + p2_data).theta), bins=100)\n",
    "ax1.set_xlabel(R\"$\\theta$ [deg]\")\n",
    "ax1.set_ylabel(\"counts\")\n",
    "\n",
    "ax2.hist(np.degrees(p1_data.boost_particle(p1_data + p2_data).phi), bins=100)\n",
    "ax2.set_xlabel(R\"$\\phi$ [deg]\")\n",
    "ax2.set_ylabel(\"counts\")\n",
    "\n",
    "plt.show()"
   ]
  },
  {
   "cell_type": "code",
   "execution_count": null,
   "metadata": {
    "editable": true,
    "jupyter": {
     "source_hidden": true
    },
    "slideshow": {
     "slide_type": ""
    },
    "tags": [
     "full-width",
     "hide-input"
    ]
   },
   "outputs": [],
   "source": [
    "fig, (ax1, ax2) = plt.subplots(figsize=(12, 4), ncols=2)\n",
    "fig.suptitle(R\"$\\theta$ and $\\phi$ distribution of $p_2$\")\n",
    "ax1.hist(np.degrees(p2_data.theta), bins=100)\n",
    "ax1.set_xlabel(R\"$\\theta$ [deg]\")\n",
    "ax1.set_ylabel(\"counts\")\n",
    "\n",
    "ax2.hist(np.degrees(p2_data.phi), bins=100)\n",
    "ax2.set_xlabel(R\"$\\phi$ [deg]\")\n",
    "ax2.set_ylabel(\"counts\")\n",
    "\n",
    "plt.show()\n",
    "\n",
    "fig, (ax1, ax2) = plt.subplots(figsize=(12, 4), ncols=2)\n",
    "fig.suptitle(\n",
    "    R\"$\\theta$ and $\\phi$ distribution of $p_2$ after boost to $p_2+p_3$ system\"\n",
    ")\n",
    "ax1.hist(np.degrees(p2_data.boost_particle(p2_data + p3_data).theta), bins=100)\n",
    "ax1.set_xlabel(R\"$\\theta$ [deg]\")\n",
    "ax1.set_ylabel(\"counts\")\n",
    "\n",
    "ax2.hist(np.degrees(p2_data.boost_particle(p2_data + p3_data).phi), bins=100)\n",
    "ax2.set_xlabel(R\"$\\phi$ [deg]\")\n",
    "ax2.set_ylabel(\"counts\")\n",
    "\n",
    "plt.show()"
   ]
  },
  {
   "cell_type": "code",
   "execution_count": null,
   "metadata": {
    "editable": true,
    "jupyter": {
     "source_hidden": true
    },
    "slideshow": {
     "slide_type": ""
    },
    "tags": [
     "hide-input",
     "full-width"
    ]
   },
   "outputs": [],
   "source": [
    "fig, (ax1, ax2) = plt.subplots(figsize=(12, 4), ncols=2)\n",
    "fig.suptitle(R\"$\\theta$ and $\\phi$ distribution of $p_3$\")\n",
    "ax1.hist(np.degrees(p3_data.theta), bins=100)\n",
    "ax1.set_xlabel(R\"$\\theta$ [deg]\")\n",
    "ax1.set_ylabel(\"counts\")\n",
    "\n",
    "ax2.hist(np.degrees(p3_data.phi), bins=100)\n",
    "ax2.set_xlabel(R\"$\\phi$ [deg]\")\n",
    "ax2.set_ylabel(\"counts\")\n",
    "\n",
    "plt.show()\n",
    "\n",
    "fig, (ax1, ax2) = plt.subplots(figsize=(12, 4), ncols=2)\n",
    "fig.suptitle(\n",
    "    R\"$\\theta$ and $\\phi$ distribution of $p_3$ after boost to $p_3+p_1$ system\"\n",
    ")\n",
    "ax1.hist(np.degrees(p3_data.boost_particle(p1_data + p3_data).theta), bins=100)\n",
    "ax1.set_xlabel(R\"$\\theta$ [deg]\")\n",
    "ax1.set_ylabel(\"counts\")\n",
    "\n",
    "ax2.hist(np.degrees(p3_data.boost_particle(p1_data + p3_data).phi), bins=100)\n",
    "ax2.set_xlabel(R\"$\\phi$ [deg]\")\n",
    "ax2.set_ylabel(\"counts\")\n",
    "\n",
    "plt.show()"
   ]
  },
  {
   "cell_type": "code",
   "execution_count": null,
   "metadata": {
    "editable": true,
    "jupyter": {
     "source_hidden": true
    },
    "slideshow": {
     "slide_type": ""
    },
    "tags": [
     "hide-input"
    ]
   },
   "outputs": [],
   "source": [
    "fig, ax = plt.subplots()\n",
    "fig.suptitle(\"Dalitz Plot\")\n",
    "ax.hist2d(s12_data, s23_data, bins=100, cmin=1e-6)\n",
    "ax.set_xlabel(R\"$s_{12}\\;\\left[\\mathrm{GeV}^2\\right]$\")\n",
    "ax.set_ylabel(R\"$s_{23}\\;\\left[\\mathrm{GeV}^2\\right]$\")\n",
    "fig.tight_layout()\n",
    "plt.show()"
   ]
  },
  {
   "cell_type": "markdown",
   "metadata": {
    "editable": true,
    "slideshow": {
     "slide_type": ""
    },
    "tags": []
   },
   "source": [
    "## From model: flat phase space"
   ]
  },
  {
   "cell_type": "code",
   "execution_count": null,
   "metadata": {
    "editable": true,
    "slideshow": {
     "slide_type": ""
    },
    "tags": []
   },
   "outputs": [],
   "source": [
    "filename = gdown.cached_download(\n",
    "    url=\"https://indico.ific.uv.es/event/6803/contributions/21220/attachments/11209/15505/Three-particles-flat.dat\",\n",
    "    path=\"Three-particles-flat.dat\",\n",
    "    md5=\"7624074870c22b57581e5c54a1b93754\",\n",
    "    quiet=True,\n",
    "    verify=False,\n",
    ")\n",
    "data_flat = np.loadtxt(filename)\n",
    "data_flat.shape"
   ]
  },
  {
   "cell_type": "code",
   "execution_count": null,
   "metadata": {
    "editable": true,
    "slideshow": {
     "slide_type": ""
    },
    "tags": []
   },
   "outputs": [],
   "source": [
    "n_final_state = 3\n",
    "pa, p1, p2, p3 = (data_flat[i::4].T for i in range(n_final_state + 1))\n",
    "p0 = p1 + p2 + p3\n",
    "pb = p0 - pa\n",
    "\n",
    "pa = Momentum4(*pa)\n",
    "pb = Momentum4(*pb)\n",
    "p1 = Momentum4(*p1)\n",
    "p2 = Momentum4(*p2)\n",
    "p3 = Momentum4(*p3)\n",
    "\n",
    "system12 = p1 + p2\n",
    "system23 = p2 + p3\n",
    "system13 = p1 + p3\n",
    "s12 = invariantMassSquared12 = system12.m2\n",
    "s31 = invariantMassSquared13 = system13.m2\n",
    "s23 = invariantMassSquared23 = system23.m2"
   ]
  },
  {
   "cell_type": "code",
   "execution_count": null,
   "metadata": {
    "editable": true,
    "slideshow": {
     "slide_type": ""
    },
    "tags": [
     "full-width",
     "hide-input"
    ]
   },
   "outputs": [],
   "source": [
    "fig, ax = plt.subplots()\n",
    "fig.suptitle(\"Dalitz plot\")\n",
    "ax.hist2d(s12, s23, bins=100, cmin=1)\n",
    "ax.set_xlabel(R\"$s_{12}\\;\\left[\\mathrm{GeV}^2\\right]$\")\n",
    "ax.set_ylabel(R\"$s_{23}\\;\\left[\\mathrm{GeV}^2\\right]$\")\n",
    "fig.tight_layout()\n",
    "plt.show()"
   ]
  },
  {
   "cell_type": "markdown",
   "metadata": {
    "editable": true,
    "slideshow": {
     "slide_type": ""
    },
    "tags": [
     "full-width"
    ]
   },
   "source": [
    "```{image} https://github.com/ComPWA/strong2020-salamanca/assets/17490173/29b2514c-5683-4593-8ee7-c9a7ae64223f\n",
    ":width: 33%\n",
    "```\n",
    "\n",
    "```{image} https://github.com/ComPWA/strong2020-salamanca/assets/17490173/ba309ebb-e432-4fad-802d-b6a5f43a71cd\n",
    ":width: 33%\n",
    "```\n",
    "\n",
    "```{image} https://github.com/ComPWA/strong2020-salamanca/assets/17490173/867578c7-f063-449c-9ecb-a40c46e14213\n",
    ":width: 33%\n",
    "```"
   ]
  },
  {
   "cell_type": "markdown",
   "metadata": {
    "editable": true,
    "slideshow": {
     "slide_type": ""
    },
    "tags": []
   },
   "source": [
    "$$ \n",
    "I = |A|^2\n",
    "$$\n",
    "\n",
    "$$\n",
    "A = A^{12} + A^{23} + A^{31}\n",
    "$$\n",
    "\n",
    "$$\n",
    "1 \\equiv \\eta ; \\quad  2 \\equiv \\pi^0 ; \\quad 3 \\equiv p\n",
    "$$\n",
    "\n",
    "$$\n",
    "A^{12} = \\frac{\\sum a_m Y_2^m (\\Omega_1)}{s-m^2_{a_2}+im_{a_2} \\Gamma_{a_2}} \\times s^{0.5+0.9u_3}\n",
    "$$\n",
    "\n",
    "$$\n",
    "A^{23} = \\frac{\\sum b_m Y_1^m (\\Omega_2)}{s-m^2_{\\Delta}+im_{\\Delta} \\Gamma_{\\Delta}} \\times s^{0.5+0.9t_1}\n",
    "$$\n",
    "\n",
    "$$\n",
    "A^{31} = \\frac{c_0}{s-m^2_{N^*}+im_{N^*} \\Gamma_{N^*}} \\times s^{1.08+0.2t_2}\n",
    "$$\n",
    "\n",
    "with $s_{ij}=(p_i+p_j)^2$, $t_i=(p_a-p_i)^2$, and $u_i=(p_b-p_i)^2$"
   ]
  },
  {
   "cell_type": "code",
   "execution_count": null,
   "metadata": {
    "editable": true,
    "slideshow": {
     "slide_type": ""
    },
    "tags": []
   },
   "outputs": [],
   "source": [
    "def BW(s, m, Gamma):\n",
    "    return 1 / (s - m**2 + complex(0, m * Gamma))"
   ]
  },
  {
   "cell_type": "code",
   "execution_count": null,
   "metadata": {
    "editable": true,
    "slideshow": {
     "slide_type": ""
    },
    "tags": [
     "remove-cell"
    ]
   },
   "outputs": [],
   "source": [
    "total = pa + pb\n",
    "total[1:].max()"
   ]
  },
  {
   "cell_type": "code",
   "execution_count": null,
   "metadata": {
    "editable": true,
    "slideshow": {
     "slide_type": ""
    },
    "tags": []
   },
   "outputs": [],
   "source": [
    "u3 = (pb - p3).m2\n",
    "t1 = (pa - p1).m2\n",
    "t2 = (pa - p2).m2"
   ]
  },
  {
   "cell_type": "code",
   "execution_count": null,
   "metadata": {
    "editable": true,
    "slideshow": {
     "slide_type": ""
    },
    "tags": [
     "remove-cell"
    ]
   },
   "outputs": [],
   "source": [
    "print((pb - p3).e ** 2)\n",
    "print((pb - p3).p ** 2)\n",
    "print(u3)\n",
    "print(t1)\n",
    "print(t2)"
   ]
  },
  {
   "cell_type": "code",
   "execution_count": null,
   "metadata": {
    "editable": true,
    "slideshow": {
     "slide_type": ""
    },
    "tags": []
   },
   "outputs": [],
   "source": [
    "def p3_length(four_momentum: np.ndarray) -> np.ndarray:\n",
    "    return np.sqrt(\n",
    "        four_momentum[1] ** 2 + four_momentum[2] ** 2 + four_momentum[3] ** 2\n",
    "    )"
   ]
  },
  {
   "cell_type": "code",
   "execution_count": null,
   "metadata": {
    "editable": true,
    "slideshow": {
     "slide_type": ""
    },
    "tags": []
   },
   "outputs": [],
   "source": [
    "p12 = p1 + p2\n",
    "p23 = p2 + p3"
   ]
  },
  {
   "cell_type": "code",
   "execution_count": null,
   "metadata": {
    "editable": true,
    "slideshow": {
     "slide_type": ""
    },
    "tags": [
     "hide-cell"
    ]
   },
   "outputs": [],
   "source": [
    "pa_length = p3_length(pa)\n",
    "p1_length = p3_length(p1)\n",
    "p2_length = p3_length(p2)\n",
    "p3_length = p3_length(p3)"
   ]
  },
  {
   "cell_type": "markdown",
   "metadata": {
    "editable": true,
    "slideshow": {
     "slide_type": ""
    },
    "tags": []
   },
   "source": [
    "The Polar Angles:\n",
    "\n",
    "$$\n",
    "\\theta = \\arccos \\frac{p_z}{|p|}\n",
    "$$"
   ]
  },
  {
   "cell_type": "code",
   "execution_count": null,
   "metadata": {
    "editable": true,
    "slideshow": {
     "slide_type": ""
    },
    "tags": [
     "hide-cell"
    ]
   },
   "outputs": [],
   "source": [
    "theta_a = np.arccos(pa[3] / pa_length)\n",
    "theta_1 = np.arccos(p1[3] / p1_length)\n",
    "theta_2 = np.arccos(p2[3] / p2_length)\n",
    "theta_3 = np.arccos(p3[3] / p3_length)"
   ]
  },
  {
   "cell_type": "markdown",
   "metadata": {
    "editable": true,
    "slideshow": {
     "slide_type": ""
    },
    "tags": []
   },
   "source": [
    "The Azimuthal Angles:\n",
    "\n",
    "$$\n",
    "\\phi = \\arctan2(p_y , p_x)\n",
    "$$"
   ]
  },
  {
   "cell_type": "code",
   "execution_count": null,
   "metadata": {
    "editable": true,
    "slideshow": {
     "slide_type": ""
    },
    "tags": [
     "hide-cell"
    ]
   },
   "outputs": [],
   "source": [
    "phi_a = np.arctan2(pa[2], pa[1])\n",
    "phi_1 = np.arctan2(p1[2], p1[1])\n",
    "phi_2 = np.arctan2(p2[2], p2[1])\n",
    "phi_3 = np.arctan2(p3[2], p3[1])"
   ]
  },
  {
   "cell_type": "code",
   "execution_count": null,
   "metadata": {
    "editable": true,
    "jupyter": {
     "source_hidden": true
    },
    "slideshow": {
     "slide_type": ""
    },
    "tags": [
     "hide-cell"
    ]
   },
   "outputs": [],
   "source": [
    "import scipy as sp"
   ]
  },
  {
   "cell_type": "markdown",
   "metadata": {
    "editable": true,
    "slideshow": {
     "slide_type": ""
    },
    "tags": []
   },
   "source": [
    "$Y_l^m(\\phi, \\theta)$ in scipy.special.sph_harm$(m, l, \\phi, \\theta)$\n",
    "\n",
    "$Y_l^m(\\phi, \\theta) = \\sqrt{\\frac{2n+1}{4\\pi}\\frac{(n-m)!}{(n+m)!}}e^{im\\phi}P_l^m(\\cos(\\theta))$\n",
    "\n",
    "here the notation of $\\theta$ and $\\phi$ are not using the same as in `scipy`\n",
    "\n",
    "where \n",
    "$\\phi$ is the azimuthal  from -$\\pi$ to $\\pi$ (in `scipy` it is $\\theta$ and from 0 to $2\\pi$)\n",
    "\n",
    "$\\theta$ is the polar angle from 0 to $\\pi$ (in `scipy` it is $\\phi$)"
   ]
  },
  {
   "cell_type": "code",
   "execution_count": null,
   "metadata": {
    "editable": true,
    "slideshow": {
     "slide_type": ""
    },
    "tags": [
     "remove-cell"
    ]
   },
   "outputs": [],
   "source": [
    "print(sp.special.sph_harm(1, 1, -np.pi, np.pi / 2))\n",
    "print(sp.special.sph_harm(1, 1, 0, np.pi / 2))\n",
    "\n",
    "print(sp.special.sph_harm(1, 1, np.pi / 2, np.pi / 2))\n",
    "print(sp.special.sph_harm(1, 1, 3 * np.pi / 2, np.pi / 2))"
   ]
  },
  {
   "cell_type": "code",
   "execution_count": null,
   "metadata": {
    "editable": true,
    "slideshow": {
     "slide_type": ""
    },
    "tags": [
     "remove-cell"
    ]
   },
   "outputs": [],
   "source": [
    "phi_1_adj = phi_1\n",
    "print(phi_1_adj)\n",
    "ori = p1.boost_particle(p1 + p2).phi\n",
    "adj = p1.boost_particle(p1 + p2).phi\n",
    "len(phi_1)\n",
    "if phi_1_adj[1] < 0:\n",
    "    print(\"yes\")\n",
    "for i in range(len(adj)):\n",
    "    if adj[i] < 0:\n",
    "        adj[i] = adj[i] + 2 * np.pi\n",
    "\n",
    "print(ori[4])\n",
    "print(adj[4])"
   ]
  },
  {
   "cell_type": "code",
   "execution_count": null,
   "metadata": {
    "editable": true,
    "slideshow": {
     "slide_type": ""
    },
    "tags": [
     "remove-cell",
     "hide-cell"
    ]
   },
   "outputs": [],
   "source": [
    "sp.special.sph_harm(1, 1, theta_1, phi_1)\n",
    "sp.special.sph_harm(0, 1, theta_1, phi_1)\n",
    "sp.special.sph_harm(-1, 1, theta_1, phi_1)"
   ]
  },
  {
   "cell_type": "code",
   "execution_count": null,
   "metadata": {
    "editable": true,
    "slideshow": {
     "slide_type": ""
    },
    "tags": [
     "remove-cell",
     "hide-cell"
    ]
   },
   "outputs": [],
   "source": [
    "sp.special.sph_harm(2, 2, theta_1, phi_1)\n",
    "sp.special.sph_harm(1, 2, theta_1, phi_1)\n",
    "sp.special.sph_harm(0, 2, theta_1, phi_1)\n",
    "sp.special.sph_harm(-1, 2, theta_1, phi_1)\n",
    "sp.special.sph_harm(-2, 2, theta_1, phi_1)"
   ]
  },
  {
   "cell_type": "code",
   "execution_count": null,
   "metadata": {
    "editable": true,
    "slideshow": {
     "slide_type": ""
    },
    "tags": [
     "hide-cell",
     "remove-cell"
    ]
   },
   "outputs": [],
   "source": [
    "sp.special.sph_harm(0, 2, phi_1, theta_1)"
   ]
  },
  {
   "cell_type": "code",
   "execution_count": null,
   "metadata": {
    "editable": true,
    "slideshow": {
     "slide_type": ""
    },
    "tags": [
     "remove-cell",
     "hide-cell"
    ]
   },
   "outputs": [],
   "source": [
    "sp.special.sph_harm(0, 0, theta_1, phi_1)"
   ]
  },
  {
   "cell_type": "markdown",
   "metadata": {
    "editable": true,
    "slideshow": {
     "slide_type": ""
    },
    "tags": []
   },
   "source": [
    "Spherical harmonics "
   ]
  },
  {
   "cell_type": "code",
   "execution_count": null,
   "metadata": {
    "editable": true,
    "jupyter": {
     "source_hidden": true
    },
    "slideshow": {
     "slide_type": ""
    },
    "tags": [
     "hide-input",
     "full-width"
    ]
   },
   "outputs": [],
   "source": [
    "fig, (ax1, ax2) = plt.subplots(figsize=(12, 4), ncols=2)\n",
    "fig.suptitle(R\"$\\theta$ and $\\phi$ distribution of $system_{12}$\")\n",
    "ax1.hist(np.degrees(system12.theta), bins=100)\n",
    "ax1.set_xlabel(R\"$\\theta$ [deg]\")\n",
    "ax1.set_ylabel(\"counts\")\n",
    "\n",
    "ax2.hist(np.degrees(system12.phi), bins=100)\n",
    "ax2.set_xlabel(R\"$\\phi$ [deg]\")\n",
    "ax2.set_ylabel(\"counts\")\n",
    "\n",
    "plt.show()\n",
    "\n",
    "fig, (ax1, ax2) = plt.subplots(figsize=(12, 4), ncols=2)\n",
    "fig.suptitle(\n",
    "    R\"$\\theta$ and $\\phi$ distribution of $system_{12}$ after boost to $p_1+p_2$\"\n",
    "    r\" system\"\n",
    ")\n",
    "ax1.hist(np.degrees(system12.boost_particle(p1_data + p2_data).theta), bins=100)\n",
    "ax1.set_xlabel(R\"$\\theta$ [deg]\")\n",
    "ax1.set_ylabel(\"counts\")\n",
    "\n",
    "ax2.hist(np.degrees(system12.boost_particle(p1_data + p2_data).phi), bins=100)\n",
    "ax2.set_xlabel(R\"$\\phi$ [deg]\")\n",
    "ax2.set_ylabel(\"counts\")\n",
    "\n",
    "plt.show()"
   ]
  },
  {
   "cell_type": "code",
   "execution_count": null,
   "metadata": {
    "editable": true,
    "jupyter": {
     "source_hidden": true
    },
    "slideshow": {
     "slide_type": ""
    },
    "tags": [
     "hide-input",
     "full-width"
    ]
   },
   "outputs": [],
   "source": [
    "fig, (ax1, ax2) = plt.subplots(figsize=(12, 4), ncols=2)\n",
    "fig.suptitle(R\"$\\theta$ and $\\phi$ distribution of $system_{23}$\")\n",
    "ax1.hist(np.degrees(system23.theta), bins=100)\n",
    "ax1.set_xlabel(R\"$\\theta$ [deg]\")\n",
    "ax1.set_ylabel(\"counts\")\n",
    "\n",
    "ax2.hist(np.degrees(system23.phi), bins=100)\n",
    "ax2.set_xlabel(R\"$\\phi$ [deg]\")\n",
    "ax2.set_ylabel(\"counts\")\n",
    "\n",
    "plt.show()\n",
    "\n",
    "fig, (ax1, ax2) = plt.subplots(figsize=(12, 4), ncols=2)\n",
    "fig.suptitle(\n",
    "    R\"$\\theta$ and $\\phi$ distribution of $system_{23}$ after boost to $p_2+p_3$\"\n",
    "    r\" system\"\n",
    ")\n",
    "ax1.hist(np.degrees(system23.boost_particle(p2_data + p3_data).theta), bins=100)\n",
    "ax1.set_xlabel(R\"$\\theta$ [deg]\")\n",
    "ax1.set_ylabel(\"counts\")\n",
    "\n",
    "ax2.hist(np.degrees(system23.boost_particle(p2_data + p3_data).phi), bins=100)\n",
    "ax2.set_xlabel(R\"$\\phi$ [deg]\")\n",
    "ax2.set_ylabel(\"counts\")\n",
    "\n",
    "plt.show()"
   ]
  },
  {
   "cell_type": "code",
   "execution_count": null,
   "metadata": {
    "editable": true,
    "jupyter": {
     "source_hidden": true
    },
    "slideshow": {
     "slide_type": ""
    },
    "tags": [
     "hide-input",
     "full-width"
    ]
   },
   "outputs": [],
   "source": [
    "fig, (ax1, ax2) = plt.subplots(figsize=(12, 4), ncols=2)\n",
    "fig.suptitle(R\"$\\theta$ and $\\phi$ distribution of $system_{31}$\")\n",
    "ax1.hist(np.degrees(system13.theta), bins=100)\n",
    "ax1.set_xlabel(R\"$\\theta$ [deg]\")\n",
    "ax1.set_ylabel(\"counts\")\n",
    "\n",
    "ax2.hist(np.degrees(system13.phi), bins=100)\n",
    "ax2.set_xlabel(R\"$\\phi$ [deg]\")\n",
    "ax2.set_ylabel(\"counts\")\n",
    "\n",
    "plt.show()\n",
    "\n",
    "fig, (ax1, ax2) = plt.subplots(figsize=(12, 4), ncols=2)\n",
    "fig.suptitle(\n",
    "    R\"$\\theta$ and $\\phi$ distribution of $system_{31}$ after boost to $p_3+p_1$\"\n",
    "    r\" system\"\n",
    ")\n",
    "ax1.hist(np.degrees(system13.boost_particle(p3_data + p1_data).theta), bins=100)\n",
    "ax1.set_xlabel(R\"$\\theta$ [deg]\")\n",
    "ax1.set_ylabel(\"counts\")\n",
    "\n",
    "ax2.hist(np.degrees(system13.boost_particle(p3_data + p1_data).phi), bins=100)\n",
    "ax2.set_xlabel(R\"$\\phi$ [deg]\")\n",
    "ax2.set_ylabel(\"counts\")\n",
    "\n",
    "plt.show()"
   ]
  },
  {
   "cell_type": "code",
   "execution_count": null,
   "metadata": {
    "editable": true,
    "slideshow": {
     "slide_type": ""
    },
    "tags": [
     "hide-input"
    ]
   },
   "outputs": [],
   "source": [
    "def compute_spherical_harmonics12(theta: np.ndarray, phi: np.ndarray) -> np.ndarray:\n",
    "    return (\n",
    "        2.5 * sp.special.sph_harm(2, 2, theta, phi)\n",
    "        + 4 * sp.special.sph_harm(1, 2, theta, phi)\n",
    "        + 3.5 * sp.special.sph_harm(0, 2, theta, phi)\n",
    "        + 0.5 * sp.special.sph_harm(-1, 2, theta, phi)\n",
    "        + 0 * sp.special.sph_harm(-2, 2, theta, phi)\n",
    "    )"
   ]
  },
  {
   "cell_type": "code",
   "execution_count": null,
   "metadata": {
    "editable": true,
    "slideshow": {
     "slide_type": ""
    },
    "tags": [
     "hide-input",
     "full-width"
    ]
   },
   "outputs": [],
   "source": [
    "PHI, THETA = np.meshgrid(\n",
    "    np.linspace(-np.pi, +np.pi, num=1_000),\n",
    "    np.linspace(0, np.pi, num=1_000),\n",
    ")\n",
    "Z = compute_spherical_harmonics12(PHI, THETA)\n",
    "\n",
    "fig, axes = plt.subplots(figsize=(10, 4), ncols=2, sharey=True, dpi=120)\n",
    "cmap_real = axes[0].pcolormesh(\n",
    "    np.degrees(PHI), np.degrees(THETA), Z.real, cmap=plt.cm.coolwarm\n",
    ")\n",
    "cmap_imag = axes[1].pcolormesh(\n",
    "    np.degrees(PHI), np.degrees(THETA), Z.imag, cmap=plt.cm.coolwarm\n",
    ")\n",
    "\n",
    "axes[0].set_xlabel(R\"$\\phi$ [deg]\")\n",
    "axes[0].set_ylabel(R\"$\\theta$ [deg]\")\n",
    "axes[0].set_title(R\"Real Part of $\\sum a_m Y_2^m (\\Omega_1)$\")\n",
    "axes[0].set_ylabel(R\"$\\theta$ [deg]\")\n",
    "axes[1].set_xlabel(R\"$\\phi$ [deg]\")\n",
    "axes[1].set_title(R\"Imaginary Part of $\\sum a_m Y_2^m (\\Omega_1)$\")\n",
    "\n",
    "cbar_real = fig.colorbar(cmap_real, ax=axes[0])\n",
    "cbar_imag = fig.colorbar(cmap_imag, ax=axes[1])\n",
    "\n",
    "fig.subplots_adjust(wspace=0.4, hspace=0.4)\n",
    "fig.tight_layout()\n",
    "plt.rcParams.update({\"font.size\": 10})\n",
    "plt.show()"
   ]
  },
  {
   "cell_type": "code",
   "execution_count": null,
   "metadata": {
    "editable": true,
    "slideshow": {
     "slide_type": ""
    },
    "tags": [
     "hide-input",
     "hide-output",
     "remove-cell"
    ]
   },
   "outputs": [],
   "source": [
    "plt.hist2d(system12.phi, system12.theta, bins=100, cmap=plt.cm.coolwarm)\n",
    "plt.title(\"$system_{12}$\")\n",
    "plt.xlabel(R\"$\\phi$\")\n",
    "plt.ylabel(R\"$\\theta$\")\n",
    "plt.show()"
   ]
  },
  {
   "cell_type": "code",
   "execution_count": null,
   "metadata": {
    "editable": true,
    "jupyter": {
     "source_hidden": true
    },
    "slideshow": {
     "slide_type": ""
    },
    "tags": [
     "remove-cell",
     "hide-input",
     "hide-output"
    ]
   },
   "outputs": [],
   "source": [
    "plt.hist2d(\n",
    "    system12.phi,\n",
    "    system12.theta,\n",
    "    bins=100,\n",
    "    weights=compute_spherical_harmonics12(system12.phi, system12.theta).real,\n",
    "    cmap=plt.cm.coolwarm,\n",
    ")\n",
    "plt.title(\n",
    "    \"$system_{12}$ with real part of spherical harmonics as weights in histogram\"\n",
    ")\n",
    "plt.xlabel(R\"$\\phi$\")\n",
    "plt.ylabel(R\"$\\theta$\")\n",
    "plt.show()"
   ]
  },
  {
   "cell_type": "code",
   "execution_count": null,
   "metadata": {
    "editable": true,
    "slideshow": {
     "slide_type": ""
    },
    "tags": []
   },
   "outputs": [],
   "source": [
    "def compute_spherical_harmonics23(theta: np.ndarray, phi: np.ndarray) -> np.ndarray:\n",
    "    return (\n",
    "        0.5 * sp.special.sph_harm(1, 1, theta, phi)\n",
    "        + 4 * sp.special.sph_harm(0, 1, theta, phi)\n",
    "        - 1.5 * sp.special.sph_harm(-1, 1, theta, phi)\n",
    "    )"
   ]
  },
  {
   "cell_type": "code",
   "execution_count": null,
   "metadata": {
    "editable": true,
    "slideshow": {
     "slide_type": ""
    },
    "tags": [
     "hide-input",
     "full-width"
    ]
   },
   "outputs": [],
   "source": [
    "PHI, THETA = np.meshgrid(\n",
    "    np.linspace(-np.pi, +np.pi, num=1_000),\n",
    "    np.linspace(0, np.pi, num=1_000),\n",
    ")\n",
    "Z = compute_spherical_harmonics23(PHI, THETA)\n",
    "\n",
    "fig, axes = plt.subplots(figsize=(10, 4), ncols=2, sharey=True, dpi=120)\n",
    "cmap_real = axes[0].pcolormesh(\n",
    "    np.degrees(PHI), np.degrees(THETA), Z.real, cmap=plt.cm.coolwarm\n",
    ")\n",
    "cmap_imag = axes[1].pcolormesh(\n",
    "    np.degrees(PHI), np.degrees(THETA), Z.imag, cmap=plt.cm.coolwarm\n",
    ")\n",
    "\n",
    "axes[0].set_xlabel(R\"$\\phi$ [deg]\")\n",
    "axes[0].set_ylabel(R\"$\\theta$ [deg]\")\n",
    "axes[0].set_title(R\"Real Part of $\\sum b_m Y_1^m (\\Omega_2)$\")\n",
    "axes[0].set_ylabel(R\"$\\theta$ [deg]\")\n",
    "axes[1].set_xlabel(R\"$\\phi$ [deg]\")\n",
    "axes[1].set_title(R\"Imaginary Part of $\\sum b_m Y_1^m (\\Omega_2)$\")\n",
    "\n",
    "cbar_real = fig.colorbar(cmap_real, ax=axes[0])\n",
    "cbar_imag = fig.colorbar(cmap_imag, ax=axes[1])\n",
    "\n",
    "fig.subplots_adjust(wspace=0.4, hspace=0.4)\n",
    "fig.tight_layout()\n",
    "plt.rcParams.update({\"font.size\": 10})\n",
    "plt.show()"
   ]
  },
  {
   "cell_type": "code",
   "execution_count": null,
   "metadata": {
    "editable": true,
    "slideshow": {
     "slide_type": ""
    },
    "tags": []
   },
   "outputs": [],
   "source": [
    "c_0 = 0.25"
   ]
  },
  {
   "cell_type": "code",
   "execution_count": null,
   "metadata": {
    "editable": true,
    "slideshow": {
     "slide_type": ""
    },
    "tags": []
   },
   "outputs": [],
   "source": [
    "M12 = np.sqrt(R12)\n",
    "M23 = np.sqrt(R23)\n",
    "M31 = np.sqrt(R31)"
   ]
  },
  {
   "cell_type": "code",
   "execution_count": null,
   "metadata": {
    "editable": true,
    "slideshow": {
     "slide_type": ""
    },
    "tags": []
   },
   "outputs": [],
   "source": [
    "def intensity_dynamics(s12, s23, s31, *, M12, Gamma12, M23, Gamma23, M31, Gamma31):\n",
    "    A12 = BW(s12, M12, Gamma12)\n",
    "    A23 = BW(s23, M23, Gamma23)\n",
    "    A31 = BW(s31, M31, Gamma31)\n",
    "    return np.abs(A12 + A23 + A31) ** 2"
   ]
  },
  {
   "cell_type": "code",
   "execution_count": null,
   "metadata": {
    "editable": true,
    "slideshow": {
     "slide_type": ""
    },
    "tags": [
     "full-width"
    ]
   },
   "outputs": [],
   "source": [
    "def BW_SH_dynamics(s12, s23, s31, *, M12, Gamma12, M23, Gamma23, M31, Gamma31):\n",
    "    A12 = BW(s12, M12, Gamma12) * compute_spherical_harmonics12(\n",
    "        p1.boost_particle(p1 + p2).phi, p1.boost_particle(p1 + p2).theta\n",
    "    )\n",
    "    A23 = BW(s23, M23, Gamma23) * compute_spherical_harmonics23(\n",
    "        p2.boost_particle(p1 + p2).phi, p2.boost_particle(p1 + p2).theta\n",
    "    )\n",
    "    A31 = BW(s31, M31, Gamma31) * 1\n",
    "    return np.abs(A12 + A23 + A31) ** 2"
   ]
  },
  {
   "cell_type": "code",
   "execution_count": null,
   "metadata": {
    "editable": true,
    "slideshow": {
     "slide_type": ""
    },
    "tags": []
   },
   "outputs": [],
   "source": [
    "def full_dynamics(s12, s23, s31, *, M12, Gamma12, M23, Gamma23, M31, Gamma31):\n",
    "    A12 = (\n",
    "        BW(s12, M12, Gamma12)\n",
    "        * compute_spherical_harmonics12(\n",
    "            p1.boost_particle(p1 + p2).phi, p1.boost_particle(p1 + p2).theta\n",
    "        )\n",
    "        * s12 ** (0.5 + 0.9 * u3)\n",
    "    )\n",
    "    A23 = (\n",
    "        BW(s23, M23, Gamma23)\n",
    "        * compute_spherical_harmonics23(\n",
    "            p2.boost_particle(p1 + p2).phi, p2.boost_particle(p1 + p2).theta\n",
    "        )\n",
    "        * s23 ** (0.5 + 0.9 * t1)\n",
    "    )\n",
    "    A31 = BW(s31, M31, Gamma31) * c_0 * s31 ** (1.08 + 0.2 * t2)\n",
    "    return np.abs(A12 + A23 + A31) ** 2"
   ]
  },
  {
   "cell_type": "code",
   "execution_count": null,
   "metadata": {
    "editable": true,
    "jupyter": {
     "source_hidden": true
    },
    "slideshow": {
     "slide_type": ""
    },
    "tags": [
     "hide-input",
     "full-width"
    ]
   },
   "outputs": [],
   "source": [
    "fig, (ax1, ax2, ax3) = plt.subplots(figsize=(12, 4), ncols=3, sharey=True)\n",
    "fig.suptitle(\n",
    "    \"For from model: Dalitz Plot of only Breit-Wigner in the formula (middle plot)\"\n",
    ")\n",
    "hist2 = ax2.hist2d(\n",
    "    s12,\n",
    "    s23,\n",
    "    bins=100,\n",
    "    weights=intensity_dynamics(\n",
    "        s12,\n",
    "        s23,\n",
    "        s31,\n",
    "        M12=M12,\n",
    "        Gamma12=0.1,\n",
    "        M23=M23,\n",
    "        Gamma23=0.1,\n",
    "        M31=M31,\n",
    "        Gamma31=0.1,\n",
    "    ),\n",
    "    cmin=1e-6,\n",
    ")\n",
    "ax2.set_xlabel(R\"$s_{12}$\")\n",
    "ax2.set_title(\"From model\")\n",
    "\n",
    "hist3 = ax3.hist2d(s12_data, s23_data, bins=100, cmin=1e-6)\n",
    "ax3.set_title(\"From data\")\n",
    "ax3.set_xlabel(R\"$s_{12}$\")\n",
    "\n",
    "hist1 = ax1.hist2d(s12, s23, bins=100, cmin=1e-6)\n",
    "ax1.set_title(\"From flat\")\n",
    "ax1.set_xlabel(R\"$s_{12}$\")\n",
    "ax1.set_ylabel(R\"$s_{23}$\")\n",
    "\n",
    "cbar1 = fig.colorbar(hist1[3], ax=ax1)\n",
    "cbar2 = fig.colorbar(hist2[3], ax=ax2)\n",
    "cbar3 = fig.colorbar(hist3[3], ax=ax3)\n",
    "\n",
    "fig.tight_layout()\n",
    "fig.show()"
   ]
  },
  {
   "cell_type": "code",
   "execution_count": null,
   "metadata": {
    "editable": true,
    "jupyter": {
     "source_hidden": true
    },
    "slideshow": {
     "slide_type": ""
    },
    "tags": [
     "remove-cell"
    ]
   },
   "outputs": [],
   "source": [
    "type(\n",
    "    compute_spherical_harmonics12(\n",
    "        p1.boost_particle(p1 + p2).phi,\n",
    "        p1.boost_particle(p1 + p2).theta,\n",
    "    )\n",
    ")\n",
    "type(c_0)\n",
    "print(c_0)\n",
    "print(\n",
    "    compute_spherical_harmonics12(\n",
    "        p1.boost_particle(p1 + p2).phi,\n",
    "        p1.boost_particle(p1 + p2).theta,\n",
    "    )\n",
    ")\n",
    "\n",
    "(\n",
    "    compute_spherical_harmonics12(\n",
    "        p1.boost_particle(p1 + p2).phi,\n",
    "        p1.boost_particle(p1 + p2).theta,\n",
    "    )\n",
    "    + c_0\n",
    ")"
   ]
  },
  {
   "cell_type": "code",
   "execution_count": null,
   "metadata": {
    "editable": true,
    "slideshow": {
     "slide_type": ""
    },
    "tags": [
     "hide-input",
     "full-width"
    ]
   },
   "outputs": [],
   "source": [
    "fig, (ax1, ax2, ax3) = plt.subplots(figsize=(12, 4), ncols=3, sharey=True)\n",
    "fig.suptitle(\n",
    "    \"For from model: Dalitz Plots of only spherical harmonics (middle plot)\"\n",
    ")\n",
    "hist2 = ax2.hist2d(\n",
    "    s12,\n",
    "    s23,\n",
    "    bins=100,\n",
    "    weights=np.abs(\n",
    "        compute_spherical_harmonics12(\n",
    "            p1.boost_particle(p1 + p2).phi,\n",
    "            p1.boost_particle(p1 + p2).theta,\n",
    "        )\n",
    "        + compute_spherical_harmonics23(\n",
    "            p2.boost_particle(p1 + p2).phi,\n",
    "            p2.boost_particle(p1 + p2).theta,\n",
    "        )\n",
    "        + c_0\n",
    "    )\n",
    "    ** 2,\n",
    "    cmin=1e-6,\n",
    ")\n",
    "ax2.set_xlabel(R\"$s_{12}$\")\n",
    "ax2.set_title(\"From model\")\n",
    "hist3 = ax3.hist2d(s12_data, s23_data, bins=100, cmin=1e-6)\n",
    "ax3.set_title(\"From data\")\n",
    "ax3.set_xlabel(R\"$s_{12}$\")\n",
    "hist1 = ax1.hist2d(s12, s23, bins=100, cmin=1e-6)\n",
    "ax1.set_title(\"From flat\")\n",
    "ax1.set_xlabel(R\"$s_{12}$\")\n",
    "ax1.set_ylabel(R\"$s_{23}$\")\n",
    "cbar1 = fig.colorbar(hist1[3], ax=ax1)\n",
    "cbar2 = fig.colorbar(hist2[3], ax=ax2)\n",
    "cbar3 = fig.colorbar(hist3[3], ax=ax3)\n",
    "fig.tight_layout()\n",
    "fig.show()"
   ]
  },
  {
   "cell_type": "code",
   "execution_count": null,
   "metadata": {
    "editable": true,
    "slideshow": {
     "slide_type": ""
    },
    "tags": [
     "remove-cell"
    ]
   },
   "outputs": [],
   "source": [
    "phi1_adj = p1.boost_particle(p1 + p2).phi\n",
    "phi2_adj = p2.boost_particle(p1 + p2).phi\n",
    "for i in range(len(phi1_adj)):\n",
    "    if phi1_adj[i] < 0:\n",
    "        phi1_adj[i] = phi1_adj[i] + 2 * np.pi\n",
    "    if phi2_adj[i] < 0:\n",
    "        phi2_adj[i] = phi2_adj[i] + 2 * np.pi\n",
    "\n",
    "\n",
    "fig, (ax1, ax2) = plt.subplots(figsize=(12, 5), ncols=2, sharey=True)\n",
    "fig.suptitle(\"Dalitz Plots of only spherical harmonics\")\n",
    "hist1 = ax1.hist2d(\n",
    "    s12,\n",
    "    s23,\n",
    "    bins=100,\n",
    "    weights=np.abs(\n",
    "        compute_spherical_harmonics12(\n",
    "            phi1_adj,\n",
    "            p1.boost_particle(p1 + p2).theta,\n",
    "        )\n",
    "        + compute_spherical_harmonics23(\n",
    "            phi2_adj,\n",
    "            p2.boost_particle(p1 + p2).theta,\n",
    "        )\n",
    "        + c_0\n",
    "    )\n",
    "    ** 2,\n",
    "    cmin=1e-6,\n",
    ")\n",
    "ax1.set_xlabel(R\"$s_{12}$\")\n",
    "ax1.set_ylabel(R\"$s_{23}$\")\n",
    "ax1.set_title(\"From model\")\n",
    "hist2 = ax2.hist2d(s12_data, s23_data, bins=100, cmin=1e-6)\n",
    "ax2.set_title(\"From data\")\n",
    "ax2.set_xlabel(R\"$s_{12}$\")\n",
    "ax2.set_ylabel(R\"$s_{23}$\")\n",
    "cbar1 = fig.colorbar(hist1[3], ax=ax1)\n",
    "cbar2 = fig.colorbar(hist2[3], ax=ax2)\n",
    "fig.tight_layout()\n",
    "fig.show()"
   ]
  },
  {
   "cell_type": "code",
   "execution_count": null,
   "metadata": {
    "editable": true,
    "slideshow": {
     "slide_type": ""
    },
    "tags": [
     "remove-cell"
    ]
   },
   "outputs": [],
   "source": [
    "print(\n",
    "    np.abs(\n",
    "        compute_spherical_harmonics12(\n",
    "            p1.boost_particle(p1 + p2).phi,\n",
    "            p1.boost_particle(p1 + p2).theta,\n",
    "        )\n",
    "        + compute_spherical_harmonics23(\n",
    "            p2.boost_particle(p1 + p2).phi,\n",
    "            p2.boost_particle(p1 + p2).theta,\n",
    "        )\n",
    "        + c_0\n",
    "    )\n",
    "    ** 2\n",
    ")\n",
    "\n",
    "print(\n",
    "    np.abs(\n",
    "        compute_spherical_harmonics12(\n",
    "            phi1_adj,\n",
    "            p1.boost_particle(p1 + p2).theta,\n",
    "        )\n",
    "        + compute_spherical_harmonics23(\n",
    "            phi2_adj,\n",
    "            p2.boost_particle(p1 + p2).theta,\n",
    "        )\n",
    "        + c_0\n",
    "    )\n",
    "    ** 2\n",
    ")"
   ]
  },
  {
   "cell_type": "code",
   "execution_count": null,
   "metadata": {
    "editable": true,
    "slideshow": {
     "slide_type": ""
    },
    "tags": [
     "remove-cell"
    ]
   },
   "outputs": [],
   "source": [
    "print(phi1_adj)\n",
    "print(p1.boost_particle(p1 + p2).phi)\n",
    "\n",
    "print(\n",
    "    compute_spherical_harmonics12(\n",
    "        4.54405994,\n",
    "        (p1.boost_particle(p1 + p2).theta)[1],\n",
    "    )\n",
    ")\n",
    "\n",
    "compute_spherical_harmonics12(\n",
    "    -1.73912537,\n",
    "    (p1.boost_particle(p1 + p2).theta)[1],\n",
    ")"
   ]
  },
  {
   "cell_type": "code",
   "execution_count": null,
   "metadata": {
    "editable": true,
    "jupyter": {
     "source_hidden": true
    },
    "slideshow": {
     "slide_type": ""
    },
    "tags": [
     "remove-cell"
    ]
   },
   "outputs": [],
   "source": [
    "intensity_dynamics(\n",
    "    s12,\n",
    "    s23,\n",
    "    s31,\n",
    "    M12=M12,\n",
    "    Gamma12=0.1,\n",
    "    M23=M23,\n",
    "    Gamma23=0.1,\n",
    "    M31=M31,\n",
    "    Gamma31=0.1,\n",
    ")"
   ]
  },
  {
   "cell_type": "code",
   "execution_count": null,
   "metadata": {
    "editable": true,
    "jupyter": {
     "source_hidden": true
    },
    "slideshow": {
     "slide_type": ""
    },
    "tags": [
     "remove-cell"
    ]
   },
   "outputs": [],
   "source": [
    "full_dynamics(\n",
    "    s12,\n",
    "    s23,\n",
    "    s31,\n",
    "    M12=M12,\n",
    "    Gamma12=0.1,\n",
    "    M23=M23,\n",
    "    Gamma23=0.1,\n",
    "    M31=M31,\n",
    "    Gamma31=0.1,\n",
    ")"
   ]
  },
  {
   "cell_type": "code",
   "execution_count": null,
   "metadata": {
    "editable": true,
    "slideshow": {
     "slide_type": ""
    },
    "tags": [
     "hide-input",
     "full-width"
    ]
   },
   "outputs": [],
   "source": [
    "fig, (ax1, ax2, ax3) = plt.subplots(figsize=(12, 4), ncols=3, sharey=True)\n",
    "fig.suptitle(\n",
    "    R\"For from model: Dalitz Plots of Breit-Wigner $\\times$ Spherical Harmonics\"\n",
    "    r\" (middle plot)\"\n",
    ")\n",
    "hist2 = ax2.hist2d(\n",
    "    s12,\n",
    "    s23,\n",
    "    bins=100,\n",
    "    weights=BW_SH_dynamics(\n",
    "        s12,\n",
    "        s23,\n",
    "        s31,\n",
    "        M12=M12,\n",
    "        Gamma12=0.1,\n",
    "        M23=M23,\n",
    "        Gamma23=0.1,\n",
    "        M31=M31,\n",
    "        Gamma31=0.1,\n",
    "    ),\n",
    "    cmin=1e-6,\n",
    ")\n",
    "ax2.set_xlabel(R\"$s_{12}$\")\n",
    "ax2.set_title(\"From model\")\n",
    "\n",
    "\n",
    "hist3 = ax3.hist2d(s12_data, s23_data, bins=100, cmin=1e-6)\n",
    "ax3.set_title(\"From data\")\n",
    "ax3.set_xlabel(R\"$s_{12}$\")\n",
    "\n",
    "hist1 = ax1.hist2d(s12, s23, bins=100, cmin=1e-6)\n",
    "ax1.set_title(\"From flat\")\n",
    "ax1.set_xlabel(R\"$s_{12}$\")\n",
    "ax1.set_ylabel(R\"$s_{23}$\")\n",
    "\n",
    "cbar1 = fig.colorbar(hist1[3], ax=ax1)\n",
    "cbar2 = fig.colorbar(hist2[3], ax=ax2)\n",
    "cbar3 = fig.colorbar(hist3[3], ax=ax3)\n",
    "\n",
    "fig.tight_layout()\n",
    "fig.show()"
   ]
  },
  {
   "cell_type": "code",
   "execution_count": null,
   "metadata": {
    "editable": true,
    "jupyter": {
     "source_hidden": true
    },
    "slideshow": {
     "slide_type": ""
    },
    "tags": [
     "hide-input",
     "full-width"
    ]
   },
   "outputs": [],
   "source": [
    "fig, (ax1, ax2, ax3) = plt.subplots(figsize=(12, 4), ncols=3, sharey=True)\n",
    "fig.suptitle(\n",
    "    \"For from model: : Dalitz Plots of full expression of the formula (middle plot)\"\n",
    ")\n",
    "hist2 = ax2.hist2d(\n",
    "    s12,\n",
    "    s23,\n",
    "    bins=100,\n",
    "    weights=full_dynamics(\n",
    "        s12,\n",
    "        s23,\n",
    "        s31,\n",
    "        M12=M12,\n",
    "        Gamma12=0.1,\n",
    "        M23=M23,\n",
    "        Gamma23=0.1,\n",
    "        M31=M31,\n",
    "        Gamma31=0.1,\n",
    "    ),\n",
    "    cmin=1e-8,\n",
    ")\n",
    "ax2.set_xlabel(R\"$s_{12}$\")\n",
    "ax2.set_title(\"From model\")\n",
    "hist3 = ax3.hist2d(s12_data, s23_data, bins=100, cmin=1e-6)\n",
    "ax3.set_title(\"From data\")\n",
    "ax3.set_xlabel(R\"$s_{12}$\")\n",
    "hist1 = ax1.hist2d(s12, s23, bins=100, cmin=1e-6)\n",
    "ax1.set_title(\"From flat\")\n",
    "ax1.set_xlabel(R\"$s_{12}$\")\n",
    "ax1.set_ylabel(R\"$s_{23}$\")\n",
    "cbar1 = fig.colorbar(hist1[3], ax=ax1)\n",
    "cbar2 = fig.colorbar(hist2[3], ax=ax2)\n",
    "cbar3 = fig.colorbar(hist3[3], ax=ax3)\n",
    "fig.tight_layout()\n",
    "fig.show()"
   ]
  },
  {
   "cell_type": "code",
   "execution_count": null,
   "metadata": {
    "editable": true,
    "jupyter": {
     "source_hidden": true
    },
    "slideshow": {
     "slide_type": ""
    },
    "tags": [
     "remove-cell"
    ]
   },
   "outputs": [],
   "source": [
    "full_dynamics(\n",
    "    s12,\n",
    "    s23,\n",
    "    s31,\n",
    "    M12=M12,\n",
    "    Gamma12=0.1,\n",
    "    M23=M23,\n",
    "    Gamma23=0.1,\n",
    "    M31=M31,\n",
    "    Gamma31=0.1,\n",
    ")"
   ]
  },
  {
   "cell_type": "code",
   "execution_count": null,
   "metadata": {
    "editable": true,
    "jupyter": {
     "source_hidden": true
    },
    "slideshow": {
     "slide_type": ""
    },
    "tags": [
     "remove-cell"
    ]
   },
   "outputs": [],
   "source": [
    "BW(s12, M12, 0.1) * compute_spherical_harmonics12(\n",
    "    p1.boost_particle(p1 + p2).phi, p1.boost_particle(p1 + p2).theta\n",
    ")"
   ]
  },
  {
   "cell_type": "code",
   "execution_count": null,
   "metadata": {
    "editable": true,
    "jupyter": {
     "source_hidden": true
    },
    "slideshow": {
     "slide_type": ""
    },
    "tags": [
     "remove-cell"
    ]
   },
   "outputs": [],
   "source": [
    "print(s12_data)\n",
    "print(s12)"
   ]
  },
  {
   "cell_type": "code",
   "execution_count": null,
   "metadata": {
    "editable": true,
    "slideshow": {
     "slide_type": ""
    },
    "tags": [
     "remove-cell"
    ]
   },
   "outputs": [],
   "source": [
    "s12 ** (0.5 + 0.9 * u3)"
   ]
  },
  {
   "cell_type": "code",
   "execution_count": null,
   "metadata": {
    "editable": true,
    "slideshow": {
     "slide_type": ""
    },
    "tags": [
     "remove-cell"
    ]
   },
   "outputs": [],
   "source": [
    "0.5 + 0.9 * u3"
   ]
  },
  {
   "cell_type": "code",
   "execution_count": null,
   "metadata": {
    "editable": true,
    "slideshow": {
     "slide_type": ""
    },
    "tags": [
     "remove-cell"
    ]
   },
   "outputs": [],
   "source": [
    "u3"
   ]
  },
  {
   "cell_type": "code",
   "execution_count": null,
   "metadata": {
    "editable": true,
    "slideshow": {
     "slide_type": ""
    },
    "tags": [
     "remove-cell"
    ]
   },
   "outputs": [],
   "source": [
    "s12 ** (0.5 + 0.9 * u3)"
   ]
  },
  {
   "cell_type": "code",
   "execution_count": null,
   "metadata": {
    "editable": true,
    "slideshow": {
     "slide_type": ""
    },
    "tags": [
     "remove-cell"
    ]
   },
   "outputs": [],
   "source": [
    "BW(s12, M12, 0.1)"
   ]
  },
  {
   "cell_type": "code",
   "execution_count": null,
   "metadata": {
    "editable": true,
    "slideshow": {
     "slide_type": ""
    },
    "tags": [
     "remove-cell"
    ]
   },
   "outputs": [],
   "source": [
    "compute_spherical_harmonics12(\n",
    "    p1.boost_particle(p1 + p2).phi, p1.boost_particle(p1 + p2).theta\n",
    ")"
   ]
  },
  {
   "cell_type": "code",
   "execution_count": null,
   "metadata": {
    "editable": true,
    "slideshow": {
     "slide_type": ""
    },
    "tags": [
     "remove-cell"
    ]
   },
   "outputs": [],
   "source": [
    "BW(s12, M12, 0.1) * compute_spherical_harmonics12(\n",
    "    p1.boost_particle(p1 + p2).phi, p1.boost_particle(p1 + p2).theta\n",
    ")"
   ]
  }
 ],
 "metadata": {
  "colab": {
   "toc_visible": true
  },
  "kernelspec": {
   "display_name": "Python 3 (ipykernel)",
   "language": "python",
   "name": "python3"
  },
  "language_info": {
   "codemirror_mode": {
    "name": "ipython",
    "version": 3
   },
   "file_extension": ".py",
   "mimetype": "text/x-python",
   "name": "python",
   "nbconvert_exporter": "python",
   "pygments_lexer": "ipython3",
   "version": "3.8.18"
  }
 },
 "nbformat": 4,
 "nbformat_minor": 4
}
