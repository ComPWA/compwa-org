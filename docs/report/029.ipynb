{
 "cells": [
  {
   "cell_type": "code",
   "execution_count": 1,
   "metadata": {
    "hideCode": true,
    "hideOutput": true,
    "hidePrompt": true,
    "jupyter": {
     "source_hidden": true
    },
    "slideshow": {
     "slide_type": "skip"
    },
    "tags": [
     "remove-cell"
    ]
   },
   "outputs": [],
   "source": [
    "import os\n",
    "\n",
    "STATIC_WEB_PAGE = {\"EXECUTE_NB\", \"READTHEDOCS\"}.intersection(os.environ)"
   ]
  },
  {
   "cell_type": "markdown",
   "metadata": {},
   "source": [
    "```{autolink-concat}\n",
    "```"
   ]
  },
  {
   "cell_type": "markdown",
   "metadata": {
    "editable": true,
    "slideshow": {
     "slide_type": ""
    },
    "tags": []
   },
   "source": [
    "::::{margin}\n",
    ":::{card}  Visualization of the Riemann sheets for the two-channel $T$-matrix with one resonance pole\n",
    "TR-028\n",
    "^^^\n",
    "Following **[TR-026](./026.ipynb)**, the Riemann sheets for the amplitude calculated within the $K$ matrix formalism for the two-channel case are visualized. For that the method of transitioning from the first physical sheet to the unphysical sheets is expanded to the two dimensional case according to [Eur. Phys. J. C (2023) 83:850](https://juser.fz-juelich.de/record/1017534/files/s10052-023-11953-6.pdf?version=1) to also visualize the third and the fourth unphysical sheet.   \n",
    ":::\n",
    "::::"
   ]
  },
  {
   "cell_type": "markdown",
   "metadata": {
    "editable": true,
    "slideshow": {
     "slide_type": ""
    },
    "tags": []
   },
   "source": [
    "# Coupled channel Riemann sheets with $K$ matrix\n"
   ]
  },
  {
   "cell_type": "code",
   "execution_count": 2,
   "metadata": {
    "editable": true,
    "slideshow": {
     "slide_type": ""
    },
    "tags": [
     "remove-cell"
    ]
   },
   "outputs": [
    {
     "name": "stdout",
     "output_type": "stream",
     "text": [
      "Note: you may need to restart the kernel to use updated packages.\n"
     ]
    }
   ],
   "source": [
    "%pip install -q ampform==0.14.10 plotly==5.18.0 sympy==1.12"
   ]
  },
  {
   "cell_type": "code",
   "execution_count": 3,
   "metadata": {
    "editable": true,
    "slideshow": {
     "slide_type": ""
    },
    "tags": [
     "hide-cell"
    ]
   },
   "outputs": [],
   "source": [
    "from __future__ import annotations\n",
    "\n",
    "import warnings\n",
    "from typing import Any\n",
    "\n",
    "import matplotlib.pyplot as plt\n",
    "import numpy as np\n",
    "import plotly.graph_objects as go\n",
    "import sympy as sp\n",
    "from ampform.io import aslatex\n",
    "from ampform.sympy import unevaluated\n",
    "from IPython.display import Math\n",
    "from plotly.subplots import make_subplots\n",
    "\n",
    "warnings.filterwarnings(\"ignore\")"
   ]
  },
  {
   "cell_type": "code",
   "execution_count": 4,
   "metadata": {
    "editable": true,
    "slideshow": {
     "slide_type": ""
    },
    "tags": [
     "hide-input"
    ]
   },
   "outputs": [
    {
     "data": {
      "text/latex": [
       "$\\displaystyle \\begin{array}{rcl}\n",
       "  \\rho_{m_{1}, m_{2}}\\left(s\\right) &=& \\sqrt{\\frac{\\left(s - \\left(m_{1} - m_{2}\\right)^{2}\\right) \\left(s - \\left(m_{1} + m_{2}\\right)^{2}\\right)}{s^{2}}} \\\\\n",
       "\\end{array}$"
      ],
      "text/plain": [
       "<IPython.core.display.Math object>"
      ]
     },
     "execution_count": 4,
     "metadata": {},
     "output_type": "execute_result"
    }
   ],
   "source": [
    "@unevaluated(real=False)\n",
    "class PhaseSpaceFactor(sp.Expr):\n",
    "    s: Any\n",
    "    m1: Any\n",
    "    m2: Any\n",
    "    _latex_repr_ = R\"\\rho_{{{m1}, {m2}}}\\left({s}\\right)\"\n",
    "\n",
    "    def evaluate(self) -> sp.Expr:\n",
    "        s, m1, m2 = self.args\n",
    "        return sp.sqrt((s - ((m1 + m2) ** 2)) * (s - (m1 - m2) ** 2) / s**2)\n",
    "\n",
    "\n",
    "s, m1, m2 = sp.symbols(\"s m1 m2\")\n",
    "rho_expr = PhaseSpaceFactor(s, m1, m2)\n",
    "Math(aslatex({rho_expr: rho_expr.doit(deep=False)}))"
   ]
  },
  {
   "cell_type": "code",
   "execution_count": 5,
   "metadata": {
    "editable": true,
    "slideshow": {
     "slide_type": ""
    },
    "tags": [
     "hide-input"
    ]
   },
   "outputs": [
    {
     "data": {
      "text/latex": [
       "$\\displaystyle \\begin{array}{rcl}\n",
       "  \\rho_{m_{1}, m_{2}}\\left(s\\right) &=& \\frac{2 q\\left(s\\right)}{\\sqrt{s}} \\\\\n",
       "  \\rho^\\mathrm{CM}_{m_{1},m_{2}}\\left(s\\right) &=& - 16 i \\pi \\Sigma\\left(s\\right) \\\\\n",
       "  \\Sigma\\left(s\\right) &=& \\frac{- \\left(m_{1}^{2} - m_{2}^{2}\\right) \\left(- \\frac{1}{\\left(m_{1} + m_{2}\\right)^{2}} + \\frac{1}{s}\\right) \\log{\\left(\\frac{m_{1}}{m_{2}} \\right)} + \\frac{2 \\log{\\left(\\frac{m_{1}^{2} + m_{2}^{2} + 2 \\sqrt{s} q\\left(s\\right) - s}{2 m_{1} m_{2}} \\right)} q\\left(s\\right)}{\\sqrt{s}}}{16 \\pi^{2}} \\\\\n",
       "  q\\left(s\\right) &=& \\frac{\\sqrt{\\lambda\\left(s, m_{1}^{2}, m_{2}^{2}\\right)}}{2 \\sqrt{s}} \\\\\n",
       "  \\lambda\\left(x, y, z\\right) &=& x^{2} - 2 x y - 2 x z + y^{2} - 2 y z + z^{2} \\\\\n",
       "\\end{array}$"
      ],
      "text/plain": [
       "<IPython.core.display.Math object>"
      ]
     },
     "execution_count": 5,
     "metadata": {},
     "output_type": "execute_result"
    }
   ],
   "source": [
    "from ampform.kinematics.phasespace import Kallen\n",
    "\n",
    "\n",
    "@unevaluated(real=False)\n",
    "class PhaseSpaceFactorKallen(sp.Expr):\n",
    "    s: Any\n",
    "    m1: Any\n",
    "    m2: Any\n",
    "    _latex_repr_ = R\"\\rho_{{{m1}, {m2}}}\\left({s}\\right)\"\n",
    "\n",
    "    def evaluate(self) -> sp.Expr:\n",
    "        s, m1, m2 = self.args\n",
    "        return 2 * BreakupMomentum(s, m1, m2) / sp.sqrt(s)\n",
    "\n",
    "\n",
    "@unevaluated(real=False)\n",
    "class PhaseSpaceCM(sp.Expr):\n",
    "    s: Any\n",
    "    m1: Any\n",
    "    m2: Any\n",
    "    _latex_repr_ = R\"\\rho^\\mathrm{{CM}}_{{{m1},{m2}}}\\left({s}\\right)\"\n",
    "\n",
    "    def evaluate(self) -> sp.Expr:\n",
    "        s, m1, m2 = self.args\n",
    "        return -16 * sp.pi * sp.I * ChewMandelstam(s, m1, m2)\n",
    "\n",
    "\n",
    "@unevaluated(real=False)\n",
    "class ChewMandelstam(sp.Expr):\n",
    "    s: Any\n",
    "    m1: Any\n",
    "    m2: Any\n",
    "    _latex_repr_ = R\"\\Sigma\\left({s}\\right)\"\n",
    "\n",
    "    def evaluate(self) -> sp.Expr:\n",
    "        s, m1, m2 = self.args\n",
    "        q = BreakupMomentum(s, m1, m2)\n",
    "        return (\n",
    "            1\n",
    "            / (16 * sp.pi**2)\n",
    "            * (\n",
    "                (2 * q / sp.sqrt(s))\n",
    "                * sp.log((m1**2 + m2**2 - s + 2 * sp.sqrt(s) * q) / (2 * m1 * m2))\n",
    "                - (m1**2 - m2**2) * (1 / s - 1 / (m1 + m2) ** 2) * sp.log(m1 / m2)\n",
    "            )\n",
    "        )\n",
    "\n",
    "\n",
    "@unevaluated(real=False)\n",
    "class BreakupMomentum(sp.Expr):\n",
    "    s: Any\n",
    "    m1: Any\n",
    "    m2: Any\n",
    "    _latex_repr_ = R\"q\\left({s}\\right)\"\n",
    "\n",
    "    def evaluate(self) -> sp.Expr:\n",
    "        s, m1, m2 = self.args\n",
    "        return sp.sqrt(Kallen(s, m1**2, m2**2)) / (2 * sp.sqrt(s))\n",
    "\n",
    "\n",
    "s, m1, m2 = sp.symbols(\"s m1 m2\")\n",
    "rho_expr_kallen = PhaseSpaceFactorKallen(s, m1, m2)\n",
    "rho_cm_expr = PhaseSpaceCM(s, m1, m2)\n",
    "cm_expr = ChewMandelstam(s, m1, m2)\n",
    "q_expr = BreakupMomentum(s, m1, m2)\n",
    "kallen = Kallen(*sp.symbols(\"x:z\"))\n",
    "Math(\n",
    "    aslatex({\n",
    "        e: e.doit(deep=False)\n",
    "        for e in [rho_expr_kallen, rho_cm_expr, cm_expr, q_expr, kallen]\n",
    "    })\n",
    ")"
   ]
  },
  {
   "cell_type": "markdown",
   "metadata": {
    "editable": true,
    "slideshow": {
     "slide_type": ""
    },
    "tags": []
   },
   "source": [
    "## T matrix definition with K matrix - 2 channel case"
   ]
  },
  {
   "cell_type": "markdown",
   "metadata": {
    "editable": true,
    "slideshow": {
     "slide_type": ""
    },
    "tags": []
   },
   "source": [
    "In the following the dynamical part of the Amplitude calculated within the K matrix formalism."
   ]
  },
  {
   "cell_type": "markdown",
   "metadata": {},
   "source": [
    "## First Riemann sheet "
   ]
  },
  {
   "cell_type": "code",
   "execution_count": 6,
   "metadata": {
    "editable": true,
    "slideshow": {
     "slide_type": ""
    },
    "tags": []
   },
   "outputs": [
    {
     "data": {
      "text/latex": [
       "$\\displaystyle \\begin{array}{rcl}\n",
       "  \\rho^{\\Sigma} &=& \\left[\\begin{matrix}\\rho^{\\Sigma}_{0, 0} & 0\\\\0 & \\rho^{\\Sigma}_{1, 1}\\end{matrix}\\right] \\\\\n",
       "\\end{array}$"
      ],
      "text/plain": [
       "<IPython.core.display.Math object>"
      ]
     },
     "execution_count": 6,
     "metadata": {},
     "output_type": "execute_result"
    }
   ],
   "source": [
    "class DiagonalMatrix(sp.DiagonalMatrix):\n",
    "    def _latex(self, printer, *args):\n",
    "        return printer._print(self.args[0])\n",
    "\n",
    "\n",
    "n = 2\n",
    "I = sp.Identity(n)\n",
    "K = sp.MatrixSymbol(\"K\", n, n)\n",
    "CM = DiagonalMatrix(sp.MatrixSymbol(R\"\\rho^\\Sigma\", n, n))\n",
    "Math(aslatex({CM: CM.as_explicit()}))"
   ]
  },
  {
   "cell_type": "code",
   "execution_count": 7,
   "metadata": {},
   "outputs": [
    {
     "data": {
      "text/latex": [
       "$\\displaystyle \\left(\\mathbb{I} + - i K \\rho^{\\Sigma}\\right)^{-1} K$"
      ],
      "text/plain": [
       "(I - I*K*DiagonalMatrix(\\rho^\\Sigma))**(-1)*K"
      ]
     },
     "execution_count": 7,
     "metadata": {},
     "output_type": "execute_result"
    }
   ],
   "source": [
    "T_I = (I - sp.I * K * CM).inv() * K\n",
    "T_I"
   ]
  },
  {
   "cell_type": "code",
   "execution_count": 8,
   "metadata": {
    "editable": true,
    "slideshow": {
     "slide_type": ""
    },
    "tags": []
   },
   "outputs": [
    {
     "data": {
      "text/latex": [
       "$\\displaystyle \\frac{\\left(i K_{1, 1} \\rho^{\\Sigma}_{1, 1} - 1\\right) K_{0, 0} - i K_{0, 1} K_{1, 0} \\rho^{\\Sigma}_{1, 1}}{K_{0, 0} K_{1, 1} \\rho^{\\Sigma}_{0, 0} \\rho^{\\Sigma}_{1, 1} + i K_{0, 0} \\rho^{\\Sigma}_{0, 0} - K_{0, 1} K_{1, 0} \\rho^{\\Sigma}_{0, 0} \\rho^{\\Sigma}_{1, 1} + i K_{1, 1} \\rho^{\\Sigma}_{1, 1} - 1}$"
      ],
      "text/plain": [
       "((I*K[1, 1]*\\rho^\\Sigma[1, 1] - 1)*K[0, 0] - I*K[0, 1]*K[1, 0]*\\rho^\\Sigma[1, 1])/(K[0, 0]*K[1, 1]*\\rho^\\Sigma[0, 0]*\\rho^\\Sigma[1, 1] + I*K[0, 0]*\\rho^\\Sigma[0, 0] - K[0, 1]*K[1, 0]*\\rho^\\Sigma[0, 0]*\\rho^\\Sigma[1, 1] + I*K[1, 1]*\\rho^\\Sigma[1, 1] - 1)"
      ]
     },
     "execution_count": 8,
     "metadata": {},
     "output_type": "execute_result"
    }
   ],
   "source": [
    "T_I_explicit = T_I.as_explicit()\n",
    "T_I_explicit[0, 0].simplify(doit=False)"
   ]
  },
  {
   "cell_type": "markdown",
   "metadata": {},
   "source": [
    "As used in the PDG resonance section a different form of the $K$ matrix is used containing the the $g^{0}$ couplings instet of the unitless $\\gamma$ constants."
   ]
  },
  {
   "cell_type": "code",
   "execution_count": 13,
   "metadata": {
    "editable": true,
    "slideshow": {
     "slide_type": ""
    },
    "tags": []
   },
   "outputs": [],
   "source": [
    "s = sp.Symbol(\"s\")\n",
    "ma1 = sp.Symbol(\"m_{a1}\")\n",
    "mb1 = sp.Symbol(\"m_{b1}\")\n",
    "ma2 = sp.Symbol(\"m_{a2}\")\n",
    "mb2 = sp.Symbol(\"m_{b2}\")\n",
    "m0 = sp.Symbol(\"m0\")\n",
    "w0 = sp.Symbol(\"Gamma0\")\n",
    "g1 = sp.Symbol(\"g1\")\n",
    "g2 = sp.Symbol(\"g2\")\n",
    "symbols = sp.Tuple(s, ma1, mb1, ma2, mb2, m0, w0, gamma1, gamma2)\n",
    "k_expr_00 = (g1*g1) / (s - m0**2)\n",
    "k_expr_10 = (g1*g2) / (s - m0**2)\n",
    "k_expr_11 = (g2*g2) / (s - m0**2)"
   ]
  },
  {
   "cell_type": "code",
   "execution_count": 14,
   "metadata": {
    "editable": true,
    "slideshow": {
     "slide_type": ""
    },
    "tags": []
   },
   "outputs": [],
   "source": [
    "cm_expressions = {\n",
    "    K[0, 0]: k_expr_00,\n",
    "    K[1, 1]: k_expr_11,\n",
    "    K[0, 1]: k_expr_10,\n",
    "    K[1, 0]: k_expr_10,\n",
    "    CM[0, 0]: -PhaseSpaceCM(s, ma1, mb1),\n",
    "    CM[1, 1]: -PhaseSpaceCM(s, ma2, mb2),\n",
    "}"
   ]
  },
  {
   "cell_type": "code",
   "execution_count": 15,
   "metadata": {
    "editable": true,
    "slideshow": {
     "slide_type": ""
    },
    "tags": []
   },
   "outputs": [
    {
     "data": {
      "text/latex": [
       "$\\displaystyle \\frac{g_{1}^{2}}{i g_{1}^{2} \\rho^\\mathrm{CM}_{m_{a1},m_{b1}}\\left(s\\right) + i g_{2}^{2} \\rho^\\mathrm{CM}_{m_{a2},m_{b2}}\\left(s\\right) - m_{0}^{2} + s}$"
      ],
      "text/plain": [
       "g1**2/(I*g1**2*PhaseSpaceCM(s, m_{a1}, m_{b1}) + I*g2**2*PhaseSpaceCM(s, m_{a2}, m_{b2}) - m0**2 + s)"
      ]
     },
     "execution_count": 15,
     "metadata": {},
     "output_type": "execute_result"
    }
   ],
   "source": [
    "T_I_cm_expr = T_I_explicit.xreplace(cm_expressions)\n",
    "T_I_cm_expr[0, 0].simplify(doit=False)"
   ]
  },
  {
   "cell_type": "markdown",
   "metadata": {},
   "source": [
    "## Second, third and fourth Riemann sheet "
   ]
  },
  {
   "cell_type": "markdown",
   "metadata": {
    "editable": true,
    "slideshow": {
     "slide_type": ""
    },
    "tags": []
   },
   "source": [
    "For the case of two channels there are four Riemann sheets. The first physical one and three unphysical ones. The physical sheet is calculated using the analytic solution of the Chew-Mandelstam function. \n",
    "\n",
    "$$\n",
    "\\begin{eqnarray}\n",
    "\\operatorname{Disc}_{\\mathrm{I,II}} T_K^{-1}\n",
    "&=& 2 i\\left[\\begin{array}{rr}\\rho_1 & 0  \\\\ 0 & 0 \\end{array}\\right], \\\\\n",
    "\\operatorname{Disc}_{\\mathrm{I,III}} T_K^{-1}\n",
    "&=& 2 i\\left[\\begin{array}{rr}\\rho_1 & 0  \\\\ 0 & \\rho_2 \\end{array}\\right], \\\\\n",
    "\\operatorname{Disc}_{\\mathrm{I,IV}} T_K^{-1}\n",
    "&=& 2 i\\left[\\begin{array}{rr}0 & 0  \\\\ 0& \\rho_2  \\end{array}\\right].\n",
    "\\end{eqnarray}\n",
    "$$\n",
    "\n",
    "Depending on the centre-of-mass energy, different Riemann sheets connect smoothly to the physical one. Therefore, two cases are studied: one where the resonance mass is above the threshold of the second and first channel, and another where the resonance mass is between the threshold of the first and second channel."
   ]
  },
  {
   "cell_type": "code",
   "execution_count": 16,
   "metadata": {
    "editable": true,
    "slideshow": {
     "slide_type": ""
    },
    "tags": []
   },
   "outputs": [
    {
     "data": {
      "text/latex": [
       "$\\displaystyle \\begin{array}{rcl}\n",
       "  \\rho &=& \\left[\\begin{matrix}\\rho_{0, 0} & 0\\\\0 & \\rho_{1, 1}\\end{matrix}\\right] \\\\\n",
       "\\end{array}$"
      ],
      "text/plain": [
       "<IPython.core.display.Math object>"
      ]
     },
     "execution_count": 16,
     "metadata": {},
     "output_type": "execute_result"
    }
   ],
   "source": [
    "n = 2\n",
    "rho = DiagonalMatrix(sp.MatrixSymbol(\"rho\", n, n))\n",
    "Math(aslatex({rho: rho.as_explicit()}))"
   ]
  },
  {
   "cell_type": "code",
   "execution_count": 17,
   "metadata": {},
   "outputs": [],
   "source": [
    "T_II = (T_I.inv() + 2 * sp.I * rho).inv()\n",
    "T_III = (T_I.inv() + 2 * sp.I * rho).inv()\n",
    "T_IV = (-T_I.inv() - 2 * sp.I * rho).inv()"
   ]
  },
  {
   "cell_type": "code",
   "execution_count": 18,
   "metadata": {
    "editable": true,
    "slideshow": {
     "slide_type": ""
    },
    "tags": [
     "full-width"
    ]
   },
   "outputs": [
    {
     "data": {
      "text/latex": [
       "$\\displaystyle \\frac{- i K_{0, 0} K_{1, 1} \\rho^{\\Sigma}_{1, 1} + 2 i K_{0, 0} K_{1, 1} \\rho_{1, 1} + K_{0, 0} + i K_{0, 1} K_{1, 0} \\rho^{\\Sigma}_{1, 1} - 2 i K_{0, 1} K_{1, 0} \\rho_{1, 1}}{- K_{0, 0} K_{1, 1} \\rho^{\\Sigma}_{0, 0} \\rho^{\\Sigma}_{1, 1} + 2 K_{0, 0} K_{1, 1} \\rho^{\\Sigma}_{0, 0} \\rho_{1, 1} + 2 K_{0, 0} K_{1, 1} \\rho^{\\Sigma}_{1, 1} \\rho_{0, 0} - 4 K_{0, 0} K_{1, 1} \\rho_{0, 0} \\rho_{1, 1} - i K_{0, 0} \\rho^{\\Sigma}_{0, 0} + 2 i K_{0, 0} \\rho_{0, 0} + K_{0, 1} K_{1, 0} \\rho^{\\Sigma}_{0, 0} \\rho^{\\Sigma}_{1, 1} - 2 K_{0, 1} K_{1, 0} \\rho^{\\Sigma}_{0, 0} \\rho_{1, 1} - 2 K_{0, 1} K_{1, 0} \\rho^{\\Sigma}_{1, 1} \\rho_{0, 0} + 4 K_{0, 1} K_{1, 0} \\rho_{0, 0} \\rho_{1, 1} - i K_{1, 1} \\rho^{\\Sigma}_{1, 1} + 2 i K_{1, 1} \\rho_{1, 1} + 1}$"
      ],
      "text/plain": [
       "(-I*K[0, 0]*K[1, 1]*\\rho^\\Sigma[1, 1] + 2*I*K[0, 0]*K[1, 1]*rho[1, 1] + K[0, 0] + I*K[0, 1]*K[1, 0]*\\rho^\\Sigma[1, 1] - 2*I*K[0, 1]*K[1, 0]*rho[1, 1])/(-K[0, 0]*K[1, 1]*\\rho^\\Sigma[0, 0]*\\rho^\\Sigma[1, 1] + 2*K[0, 0]*K[1, 1]*\\rho^\\Sigma[0, 0]*rho[1, 1] + 2*K[0, 0]*K[1, 1]*\\rho^\\Sigma[1, 1]*rho[0, 0] - 4*K[0, 0]*K[1, 1]*rho[0, 0]*rho[1, 1] - I*K[0, 0]*\\rho^\\Sigma[0, 0] + 2*I*K[0, 0]*rho[0, 0] + K[0, 1]*K[1, 0]*\\rho^\\Sigma[0, 0]*\\rho^\\Sigma[1, 1] - 2*K[0, 1]*K[1, 0]*\\rho^\\Sigma[0, 0]*rho[1, 1] - 2*K[0, 1]*K[1, 0]*\\rho^\\Sigma[1, 1]*rho[0, 0] + 4*K[0, 1]*K[1, 0]*rho[0, 0]*rho[1, 1] - I*K[1, 1]*\\rho^\\Sigma[1, 1] + 2*I*K[1, 1]*rho[1, 1] + 1)"
      ]
     },
     "execution_count": 18,
     "metadata": {},
     "output_type": "execute_result"
    }
   ],
   "source": [
    "T_II_explicit = T_II.as_explicit()\n",
    "T_II_explicit[0, 0].simplify(doit=False)"
   ]
  },
  {
   "cell_type": "code",
   "execution_count": 19,
   "metadata": {
    "editable": true,
    "slideshow": {
     "slide_type": ""
    },
    "tags": [
     "full-width"
    ]
   },
   "outputs": [
    {
     "data": {
      "text/latex": [
       "$\\displaystyle \\frac{- i K_{0, 0} K_{1, 1} \\rho^{\\Sigma}_{1, 1} + 2 i K_{0, 0} K_{1, 1} \\rho_{1, 1} + K_{0, 0} + i K_{0, 1} K_{1, 0} \\rho^{\\Sigma}_{1, 1} - 2 i K_{0, 1} K_{1, 0} \\rho_{1, 1}}{- K_{0, 0} K_{1, 1} \\rho^{\\Sigma}_{0, 0} \\rho^{\\Sigma}_{1, 1} + 2 K_{0, 0} K_{1, 1} \\rho^{\\Sigma}_{0, 0} \\rho_{1, 1} + 2 K_{0, 0} K_{1, 1} \\rho^{\\Sigma}_{1, 1} \\rho_{0, 0} - 4 K_{0, 0} K_{1, 1} \\rho_{0, 0} \\rho_{1, 1} - i K_{0, 0} \\rho^{\\Sigma}_{0, 0} + 2 i K_{0, 0} \\rho_{0, 0} + K_{0, 1} K_{1, 0} \\rho^{\\Sigma}_{0, 0} \\rho^{\\Sigma}_{1, 1} - 2 K_{0, 1} K_{1, 0} \\rho^{\\Sigma}_{0, 0} \\rho_{1, 1} - 2 K_{0, 1} K_{1, 0} \\rho^{\\Sigma}_{1, 1} \\rho_{0, 0} + 4 K_{0, 1} K_{1, 0} \\rho_{0, 0} \\rho_{1, 1} - i K_{1, 1} \\rho^{\\Sigma}_{1, 1} + 2 i K_{1, 1} \\rho_{1, 1} + 1}$"
      ],
      "text/plain": [
       "(-I*K[0, 0]*K[1, 1]*\\rho^\\Sigma[1, 1] + 2*I*K[0, 0]*K[1, 1]*rho[1, 1] + K[0, 0] + I*K[0, 1]*K[1, 0]*\\rho^\\Sigma[1, 1] - 2*I*K[0, 1]*K[1, 0]*rho[1, 1])/(-K[0, 0]*K[1, 1]*\\rho^\\Sigma[0, 0]*\\rho^\\Sigma[1, 1] + 2*K[0, 0]*K[1, 1]*\\rho^\\Sigma[0, 0]*rho[1, 1] + 2*K[0, 0]*K[1, 1]*\\rho^\\Sigma[1, 1]*rho[0, 0] - 4*K[0, 0]*K[1, 1]*rho[0, 0]*rho[1, 1] - I*K[0, 0]*\\rho^\\Sigma[0, 0] + 2*I*K[0, 0]*rho[0, 0] + K[0, 1]*K[1, 0]*\\rho^\\Sigma[0, 0]*\\rho^\\Sigma[1, 1] - 2*K[0, 1]*K[1, 0]*\\rho^\\Sigma[0, 0]*rho[1, 1] - 2*K[0, 1]*K[1, 0]*\\rho^\\Sigma[1, 1]*rho[0, 0] + 4*K[0, 1]*K[1, 0]*rho[0, 0]*rho[1, 1] - I*K[1, 1]*\\rho^\\Sigma[1, 1] + 2*I*K[1, 1]*rho[1, 1] + 1)"
      ]
     },
     "execution_count": 19,
     "metadata": {},
     "output_type": "execute_result"
    }
   ],
   "source": [
    "T_III_explicit = T_III.as_explicit()\n",
    "T_III_explicit[0, 0].simplify(doit=False)"
   ]
  },
  {
   "cell_type": "code",
   "execution_count": 20,
   "metadata": {
    "editable": true,
    "slideshow": {
     "slide_type": ""
    },
    "tags": [
     "full-width"
    ]
   },
   "outputs": [
    {
     "data": {
      "text/latex": [
       "$\\displaystyle \\frac{i K_{0, 0} K_{1, 1} \\rho^{\\Sigma}_{1, 1} - 2 i K_{0, 0} K_{1, 1} \\rho_{1, 1} - K_{0, 0} - i K_{0, 1} K_{1, 0} \\rho^{\\Sigma}_{1, 1} + 2 i K_{0, 1} K_{1, 0} \\rho_{1, 1}}{- K_{0, 0} K_{1, 1} \\rho^{\\Sigma}_{0, 0} \\rho^{\\Sigma}_{1, 1} + 2 K_{0, 0} K_{1, 1} \\rho^{\\Sigma}_{0, 0} \\rho_{1, 1} + 2 K_{0, 0} K_{1, 1} \\rho^{\\Sigma}_{1, 1} \\rho_{0, 0} - 4 K_{0, 0} K_{1, 1} \\rho_{0, 0} \\rho_{1, 1} - i K_{0, 0} \\rho^{\\Sigma}_{0, 0} + 2 i K_{0, 0} \\rho_{0, 0} + K_{0, 1} K_{1, 0} \\rho^{\\Sigma}_{0, 0} \\rho^{\\Sigma}_{1, 1} - 2 K_{0, 1} K_{1, 0} \\rho^{\\Sigma}_{0, 0} \\rho_{1, 1} - 2 K_{0, 1} K_{1, 0} \\rho^{\\Sigma}_{1, 1} \\rho_{0, 0} + 4 K_{0, 1} K_{1, 0} \\rho_{0, 0} \\rho_{1, 1} - i K_{1, 1} \\rho^{\\Sigma}_{1, 1} + 2 i K_{1, 1} \\rho_{1, 1} + 1}$"
      ],
      "text/plain": [
       "(I*K[0, 0]*K[1, 1]*\\rho^\\Sigma[1, 1] - 2*I*K[0, 0]*K[1, 1]*rho[1, 1] - K[0, 0] - I*K[0, 1]*K[1, 0]*\\rho^\\Sigma[1, 1] + 2*I*K[0, 1]*K[1, 0]*rho[1, 1])/(-K[0, 0]*K[1, 1]*\\rho^\\Sigma[0, 0]*\\rho^\\Sigma[1, 1] + 2*K[0, 0]*K[1, 1]*\\rho^\\Sigma[0, 0]*rho[1, 1] + 2*K[0, 0]*K[1, 1]*\\rho^\\Sigma[1, 1]*rho[0, 0] - 4*K[0, 0]*K[1, 1]*rho[0, 0]*rho[1, 1] - I*K[0, 0]*\\rho^\\Sigma[0, 0] + 2*I*K[0, 0]*rho[0, 0] + K[0, 1]*K[1, 0]*\\rho^\\Sigma[0, 0]*\\rho^\\Sigma[1, 1] - 2*K[0, 1]*K[1, 0]*\\rho^\\Sigma[0, 0]*rho[1, 1] - 2*K[0, 1]*K[1, 0]*\\rho^\\Sigma[1, 1]*rho[0, 0] + 4*K[0, 1]*K[1, 0]*rho[0, 0]*rho[1, 1] - I*K[1, 1]*\\rho^\\Sigma[1, 1] + 2*I*K[1, 1]*rho[1, 1] + 1)"
      ]
     },
     "execution_count": 20,
     "metadata": {},
     "output_type": "execute_result"
    }
   ],
   "source": [
    "T_IV_explicit = T_IV.as_explicit()\n",
    "T_IV_explicit[0, 0].simplify(doit=False)"
   ]
  },
  {
   "cell_type": "code",
   "execution_count": 21,
   "metadata": {},
   "outputs": [],
   "source": [
    "rho_expressions_II = {\n",
    "    **cm_expressions,\n",
    "    rho[0, 0]: PhaseSpaceFactor(s, ma1, mb1),\n",
    "    rho[1, 1]: 0,\n",
    "}\n",
    "rho_expressions_III = {\n",
    "    **cm_expressions,\n",
    "    rho[0, 0]: PhaseSpaceFactor(s, ma1, mb1),\n",
    "    rho[1, 1]: PhaseSpaceFactor(s, ma2, mb2),\n",
    "}\n",
    "rho_expressions_IV = {\n",
    "    **cm_expressions,\n",
    "    rho[0, 0]: 0,\n",
    "    rho[1, 1]: PhaseSpaceFactor(s, ma2, mb2),\n",
    "}"
   ]
  },
  {
   "cell_type": "code",
   "execution_count": 22,
   "metadata": {},
   "outputs": [],
   "source": [
    "T_II_rho_expr = T_II_explicit.xreplace(rho_expressions_II)\n",
    "T_III_rho_expr = T_III_explicit.xreplace(rho_expressions_III)\n",
    "T_IV_rho_expr = T_IV_explicit.xreplace(rho_expressions_IV)"
   ]
  },
  {
   "cell_type": "code",
   "execution_count": 23,
   "metadata": {},
   "outputs": [
    {
     "data": {
      "text/latex": [
       "$\\displaystyle \\frac{g_{1}^{2}}{i g_{1}^{2} \\rho^\\mathrm{CM}_{m_{a1},m_{b1}}\\left(s\\right) + 2 i g_{1}^{2} \\rho_{m_{a1}, m_{b1}}\\left(s\\right) + i g_{2}^{2} \\rho^\\mathrm{CM}_{m_{a2},m_{b2}}\\left(s\\right) - m_{0}^{2} + s}$"
      ],
      "text/plain": [
       "g1**2/(I*g1**2*PhaseSpaceCM(s, m_{a1}, m_{b1}) + 2*I*g1**2*PhaseSpaceFactor(s, m_{a1}, m_{b1}) + I*g2**2*PhaseSpaceCM(s, m_{a2}, m_{b2}) - m0**2 + s)"
      ]
     },
     "execution_count": 23,
     "metadata": {},
     "output_type": "execute_result"
    }
   ],
   "source": [
    "T_II_rho_expr[0, 0].simplify(doit=False)"
   ]
  },
  {
   "cell_type": "code",
   "execution_count": 24,
   "metadata": {},
   "outputs": [
    {
     "data": {
      "text/latex": [
       "$\\displaystyle \\frac{g_{1}^{2}}{i g_{1}^{2} \\rho^\\mathrm{CM}_{m_{a1},m_{b1}}\\left(s\\right) + 2 i g_{1}^{2} \\rho_{m_{a1}, m_{b1}}\\left(s\\right) + i g_{2}^{2} \\rho^\\mathrm{CM}_{m_{a2},m_{b2}}\\left(s\\right) + 2 i g_{2}^{2} \\rho_{m_{a2}, m_{b2}}\\left(s\\right) - m_{0}^{2} + s}$"
      ],
      "text/plain": [
       "g1**2/(I*g1**2*PhaseSpaceCM(s, m_{a1}, m_{b1}) + 2*I*g1**2*PhaseSpaceFactor(s, m_{a1}, m_{b1}) + I*g2**2*PhaseSpaceCM(s, m_{a2}, m_{b2}) + 2*I*g2**2*PhaseSpaceFactor(s, m_{a2}, m_{b2}) - m0**2 + s)"
      ]
     },
     "execution_count": 24,
     "metadata": {},
     "output_type": "execute_result"
    }
   ],
   "source": [
    "T_III_rho_expr[0, 0].simplify(doit=False)"
   ]
  },
  {
   "cell_type": "markdown",
   "metadata": {},
   "source": [
    "## Visualization of the 2 dimensional lineshape "
   ]
  },
  {
   "cell_type": "code",
   "execution_count": null,
   "metadata": {
    "editable": true,
    "slideshow": {
     "slide_type": ""
    },
    "tags": [
     "full-width",
     "hide-input",
     "scroll-input"
    ]
   },
   "outputs": [],
   "source": [
    "T_I_func = sp.lambdify(symbols, T_I_cm_expr[0, 0].doit())\n",
    "T_II_func = sp.lambdify(symbols, T_II_rho_expr[0, 0].doit())\n",
    "T_III_func = sp.lambdify(symbols, T_III_rho_expr[0, 0].doit())\n",
    "T_IV_func = sp.lambdify(symbols, T_IV_rho_expr[0, 0].doit())\n",
    "values_1 = {\n",
    "    ma1: 0.14,\n",
    "    mb1: 0.14,\n",
    "    ma2: 0.5,\n",
    "    mb2: 0.5,\n",
    "    m0: 0.980,\n",
    "    w0: 0.5,\n",
    "    g1: -np.sqrt(0.076),\n",
    "    g2:  np.sqrt(0.186),\n",
    "}\n",
    "values_2 = {\n",
    "    **values_1,\n",
    "    m0: 1.1,\n",
    "}\n",
    "\n",
    "args_1 = eval(str(symbols[1:].xreplace(values_1)))\n",
    "args_2 = eval(str(symbols[1:].xreplace(values_2)))\n",
    "\n",
    "epsilon = 1e-5\n",
    "x = np.linspace(0, 8, num=200)\n",
    "y = np.linspace(epsilon, 1, num=100)\n",
    "X, Y = np.meshgrid(x, y)\n",
    "Zn = X - Y * 1j\n",
    "Zp = X + Y * 1j\n",
    "\n",
    "T1n_res1 = T_I_func(Zn**2, *args_1)\n",
    "T1p_res1 = T_I_func(Zp**2, *args_1)\n",
    "\n",
    "T2n_res1 = T_II_func(Zn**2, *args_1)\n",
    "T2p_res1 = T_II_func(Zp**2, *args_1)\n",
    "\n",
    "T3n_res1 = T_III_func(Zn**2, *args_1)\n",
    "T3p_res1 = T_III_func(Zp**2, *args_1)\n",
    "\n",
    "T4n_res1 = T_IV_func(Zn**2, *args_1)\n",
    "T4p_res1 = T_IV_func(Zp**2, *args_1)\n",
    "\n",
    "T1n_res2 = T_I_func(Zn**2, *args_2)\n",
    "T1p_res2 = T_I_func(Zp**2, *args_2)\n",
    "\n",
    "T2n_res2 = T_II_func(Zn**2, *args_2)\n",
    "T2p_res2 = T_II_func(Zp**2, *args_2)\n",
    "\n",
    "T3n_res2 = T_III_func(Zn**2, *args_2)\n",
    "T3p_res2 = T_III_func(Zp**2, *args_2)\n",
    "\n",
    "T4n_res2 = T_IV_func(Zn**2, *args_2)\n",
    "T4p_res2 = T_IV_func(Zp**2, *args_2)\n",
    "\n",
    "fig, axes = plt.subplots(figsize=(11, 6), ncols=4, sharey=True)\n",
    "ax1, ax2, ax3, ax4 = axes\n",
    "for ax in axes:\n",
    "    ax.set_xlabel(R\"$\\mathrm{Re}(s)$\")\n",
    "\n",
    "ax1.plot(x, T1n_res1[0].imag, label=R\"$T_\\mathrm{I}(s-0i)$\")\n",
    "ax1.plot(x, T1p_res1[0].imag, label=R\"$T_\\mathrm{I}(s+0i)$\")\n",
    "ax1.set_title(f\"${sp.latex(rho_cm_expr)}$\")\n",
    "ax1.set_title(R\"$T_\\mathrm{I}$\")\n",
    "\n",
    "ax2.plot(x, T2n_res1[0].imag, label=R\"$T_\\mathrm{II}(s-0i)$\")\n",
    "ax2.plot(x, T2p_res1[0].imag, label=R\"$T_\\mathrm{II}(s+0i)$\")\n",
    "ax2.set_title(R\"$T_\\mathrm{II}$\")\n",
    "\n",
    "ax3.plot(x, T3n_res1[0].imag, label=R\"$T_\\mathrm{III}(s-0i)$\")\n",
    "ax3.plot(x, T3p_res1[0].imag, label=R\"$T_\\mathrm{III}(s+0i)$\")\n",
    "ax3.set_title(R\"$T_\\mathrm{III}$\")\n",
    "\n",
    "ax4.plot(x, T4n_res1[0].imag, label=R\"$T_\\mathrm{III}(s-0i)$\")\n",
    "ax4.plot(x, T4p_res1[0].imag, label=R\"$T_\\mathrm{IV}(s+0i)$\")\n",
    "ax4.set_title(R\"$T_\\mathrm{III}$\")\n",
    "\n",
    "for ax in axes:\n",
    "    ax.legend()\n",
    "    ax.set_ylim(-1, +1)\n",
    "\n",
    "fig.tight_layout()\n",
    "plt.show()"
   ]
  },
  {
   "cell_type": "markdown",
   "metadata": {
    "editable": true,
    "slideshow": {
     "slide_type": ""
    },
    "tags": []
   },
   "source": [
    "## Visualization of the Riemann sheets 2 dimensional  "
   ]
  },
  {
   "cell_type": "code",
   "execution_count": null,
   "metadata": {
    "editable": true,
    "jupyter": {
     "source_hidden": true
    },
    "slideshow": {
     "slide_type": ""
    },
    "tags": [
     "full-width",
     "scroll-input",
     "hide-input"
    ]
   },
   "outputs": [],
   "source": [
    "%config InlineBackend.figure_formats = [\"png\"]\n",
    "\n",
    "fig, axes = plt.subplots(figsize=(12, 8), ncols=2, nrows=2, sharey=True)\n",
    "ax1, ax2, ax3, ax4 = axes.flatten()\n",
    "\n",
    "ax1.set_xlabel(R\"$\\mathrm{Re}\\,s$\")\n",
    "ax1.set_ylabel(R\"$\\mathrm{Im}\\,s$\")\n",
    "\n",
    "ax1.set_title(\"I and II\")\n",
    "ax2.set_title(\"I and III\")\n",
    "ax3.set_title(\"I and II\")\n",
    "ax4.set_title(\"I and III\")\n",
    "\n",
    "T_max = 2\n",
    "\n",
    "style = dict(vmin=-T_max, vmax=+T_max, cmap=plt.cm.coolwarm)\n",
    "mesh = ax1.pcolormesh(X, Y, T1p_res1.imag, **style)\n",
    "ax1.pcolormesh(X, -Y, T2n_res1.imag, **style)\n",
    "ax2.pcolormesh(X, +Y, T1p_res1.imag, **style)\n",
    "ax2.pcolormesh(X, -Y, T3n_res1.imag, **style)\n",
    "ax3.pcolormesh(X, +Y, T1p_res2.imag, **style)\n",
    "ax3.pcolormesh(X, -Y, T2n_res2.imag, **style)\n",
    "ax4.pcolormesh(X, +Y, T1p_res2.imag, **style)\n",
    "ax4.pcolormesh(X, -Y, T3n_res2.imag, **style)\n",
    "\n",
    "s_thr1 = values_1[ma1] + values_1[mb1]\n",
    "s_thr2 = values_1[ma2] + values_1[mb2]\n",
    "linestyle = dict(ls=\"dotted\", lw=1)\n",
    "for ax in axes.flatten():\n",
    "    ax.axhline(0, c=\"black\", **linestyle)\n",
    "    ax.axvline(s_thr1, c=\"C0\", **linestyle, label=R\"$\\sqrt{s_\\text{thr1}}$\")\n",
    "    ax.axvline(s_thr2, c=\"C1\", **linestyle, label=R\"$\\sqrt{s_\\text{thr2}}$\")\n",
    "linestyle = dict(ls=\"dotted\", lw=1)\n",
    "for ax in axes[0]:\n",
    "    ax.axvline(values_1[m0], c=\"r\", ls=\"dotted\", label=R\"$m_\\text{res}$\")\n",
    "for ax in axes[1]:\n",
    "    ax.axvline(values_2[m0], c=\"r\", ls=\"dotted\", label=R\"$m_\\text{res}$\")\n",
    "ax2.legend()\n",
    "\n",
    "fig.text(0.5, 0.93, R\"$s_{thr1}<s_{thr2}<m_{res}$\", ha=\"center\", fontsize=18)\n",
    "fig.text(0.5, 0.46, R\"$s_{thr1}<m_{res}<s_{thr2}$\", ha=\"center\", fontsize=18)\n",
    "plt.subplots_adjust(wspace=1)\n",
    "cbar = fig.add_axes([0.92, 0.15, 0.02, 0.7])\n",
    "plt.colorbar(mesh, cax=cbar)\n",
    "\n",
    "fig.tight_layout(rect=[0, 0.03, 0.9, 0.95])\n",
    "\n",
    "plt.show()"
   ]
  },
  {
   "cell_type": "markdown",
   "metadata": {
    "editable": true,
    "slideshow": {
     "slide_type": ""
    },
    "tags": []
   },
   "source": [
    "It can be shown that if the resonance mass is above both thresholds the third sheet connects smoothly to the first sheet. If the resonance mass is above the first and below the second threshold the second sheet transitions smoothly into the first sheet."
   ]
  },
  {
   "cell_type": "markdown",
   "metadata": {},
   "source": [
    "## Visualization of the Riemann sheets 3 dimensional"
   ]
  },
  {
   "cell_type": "code",
   "execution_count": null,
   "metadata": {
    "editable": true,
    "jupyter": {
     "source_hidden": true
    },
    "slideshow": {
     "slide_type": ""
    },
    "tags": [
     "scroll-input",
     "hide-cell"
    ]
   },
   "outputs": [],
   "source": [
    "def sty(sheet_name: str) -> dict:\n",
    "    sheet_color = sheet_colors[sheet_name]\n",
    "    n_lines = 16\n",
    "    return dict(\n",
    "        cmin=-vmax,\n",
    "        cmax=+vmax,\n",
    "        colorscale=[[0, \"rgb(0, 0, 0)\"], [1, sheet_color]],\n",
    "        contours=dict(\n",
    "            x=dict(\n",
    "                show=True,\n",
    "                start=x.min(),\n",
    "                end=x.max(),\n",
    "                size=(x.max() - x.min()) / n_lines,\n",
    "                color=\"black\",\n",
    "            ),\n",
    "            y=dict(\n",
    "                show=True,\n",
    "                start=-y.max(),\n",
    "                end=+y.max(),\n",
    "                size=(y.max() - y.min()) / (n_lines // 2),\n",
    "                color=\"black\",\n",
    "            ),\n",
    "        ),\n",
    "        name=sheet_name,\n",
    "        opacity=0.4,\n",
    "        showscale=False,\n",
    "    )\n",
    "\n",
    "\n",
    "vmax = 2.0\n",
    "project = np.imag\n",
    "sheet_colors = {\n",
    "    \"T1 (physical)\": \"blue\",\n",
    "    \"T2 (unphysical)\": \"red\",\n",
    "    \"T3 (unphysical)\": \"green\",\n",
    "    \"T4 (unphysical)\": \"yellow\",\n",
    "}"
   ]
  },
  {
   "cell_type": "code",
   "execution_count": null,
   "metadata": {
    "editable": true,
    "jupyter": {
     "source_hidden": true
    },
    "slideshow": {
     "slide_type": ""
    },
    "tags": [
     "hide-input",
     "full-width",
     "scroll-input"
    ]
   },
   "outputs": [],
   "source": [
    "Sn_II_res1 = go.Surface(x=X, y=-Y, z=T2n_res1.imag, **sty(\"T2 (unphysical)\"))\n",
    "Sn_III_res1 = go.Surface(x=X, y=-Y, z=T3n_res1.imag, **sty(\"T3 (unphysical)\"))\n",
    "Sp_res1 = go.Surface(x=X, y=+Y, z=T1p_res1.imag, **sty(\"T1 (physical)\"))\n",
    "\n",
    "Sn_II_res2 = go.Surface(x=X, y=-Y, z=T2n_res2.imag, **sty(\"T2 (unphysical)\"))\n",
    "Sn_III_res2 = go.Surface(x=X, y=-Y, z=T3n_res2.imag, **sty(\"T3 (unphysical)\"))\n",
    "Sp_res2 = go.Surface(x=X, y=+Y, z=T1p_res2.imag, **sty(\"T1 (physical)\"))\n",
    "\n",
    "thr1_filter = x >= s_thr1\n",
    "thr2_filter = x >= s_thr2\n",
    "\n",
    "line_kwargs = dict(\n",
    "    line=dict(color=\"yellow\", width=10),\n",
    "    mode=\"lines\",\n",
    "    name=\"Lineshape\",\n",
    ")\n",
    "thr1_lineshape1 = go.Scatter3d(\n",
    "    x=x[thr1_filter],\n",
    "    y=np.zeros(thr1_filter.shape),\n",
    "    z=project(T1p_res1[0])[thr1_filter],\n",
    "    **line_kwargs,\n",
    ")\n",
    "thr2_lineshape1 = go.Scatter3d(\n",
    "    x=x[thr2_filter],\n",
    "    y=np.zeros(thr2_filter.shape),\n",
    "    z=project(T1p_res2[0])[thr2_filter],\n",
    "    **line_kwargs,\n",
    ")\n",
    "thr1_lineshape2 = go.Scatter3d(\n",
    "    x=x[thr1_filter],\n",
    "    y=np.zeros(thr1_filter.shape),\n",
    "    z=project(T1p_res1[0])[thr1_filter],\n",
    "    **line_kwargs,\n",
    ")\n",
    "thr2_lineshape2 = go.Scatter3d(\n",
    "    x=x[thr2_filter],\n",
    "    y=np.zeros(thr2_filter.shape),\n",
    "    z=project(T1p_res2[0])[thr2_filter],\n",
    "    **line_kwargs,\n",
    ")\n",
    "\n",
    "point_kwargs = dict(\n",
    "    marker=dict(color=\"black\", size=4),\n",
    "    mode=\"markers\",\n",
    "    name=\"Branch point\",\n",
    ")\n",
    "thr1_point = go.Scatter3d(x=[s_thr1], y=[0], z=[0], **point_kwargs)\n",
    "thr2_point = go.Scatter3d(x=[s_thr2], y=[0], z=[0], **point_kwargs)\n",
    "\n",
    "fig = make_subplots(\n",
    "    rows=2,\n",
    "    cols=2,\n",
    "    horizontal_spacing=0.01,\n",
    "    vertical_spacing=0.05,\n",
    "    specs=[\n",
    "        [{\"type\": \"surface\"}, {\"type\": \"surface\"}],\n",
    "        [{\"type\": \"surface\"}, {\"type\": \"surface\"}],\n",
    "    ],\n",
    "    subplot_titles=[\n",
    "        R\"Sheet I and II thr₁ < thr₂ < mᵣ\",\n",
    "        R\"Sheet I and II thr₁ < thr₂ < mᵣ\",\n",
    "        R\"Sheet I and II thr₁ < mᵣ < thr₂\",\n",
    "        R\"Sheet I and III thr₁ < mᵣ < thr₂\",\n",
    "    ],\n",
    ")\n",
    "\n",
    "selector = dict(row=1, col=1)\n",
    "fig.add_trace(Sp_res1, **selector)\n",
    "fig.add_trace(Sn_III_res1, **selector)\n",
    "fig.add_trace(thr1_lineshape1, **selector)\n",
    "fig.add_trace(thr1_point, **selector)\n",
    "\n",
    "selector = dict(row=1, col=2)\n",
    "fig.add_trace(Sp_res1, **selector)\n",
    "fig.add_trace(Sn_II_res1, **selector)\n",
    "fig.add_trace(thr1_lineshape2, **selector)\n",
    "fig.add_trace(thr1_point, **selector)\n",
    "\n",
    "selector = dict(row=2, col=1)\n",
    "fig.add_trace(Sp_res2, **selector)\n",
    "fig.add_trace(Sn_II_res2, **selector)\n",
    "fig.add_trace(thr2_lineshape1, **selector)\n",
    "fig.add_trace(thr2_point, **selector)\n",
    "\n",
    "selector = dict(col=2, row=2)\n",
    "fig.add_trace(Sp_res2, **selector)\n",
    "fig.add_trace(Sn_III_res2, **selector)\n",
    "fig.add_trace(thr2_lineshape2, **selector)\n",
    "fig.add_trace(thr2_point, **selector)\n",
    "\n",
    "fig.update_layout(\n",
    "    margin=dict(l=0, r=0, t=20, b=0),\n",
    "    height=600,\n",
    "    showlegend=False,\n",
    ")\n",
    "\n",
    "fig.update_scenes(\n",
    "    camera_center=dict(z=-0.1),\n",
    "    camera_eye=dict(x=1.4, y=1.4, z=1.4),\n",
    "    xaxis_title_text=\"Re s\",\n",
    "    yaxis_title_text=\"Im s\",\n",
    "    zaxis_title_text=\"Im T(s)\",\n",
    "    zaxis_range=[-vmax, +vmax],\n",
    ")\n",
    "fig.show()"
   ]
  },
  {
   "cell_type": "code",
   "execution_count": null,
   "metadata": {},
   "outputs": [],
   "source": []
  }
 ],
 "metadata": {
  "colab": {
   "toc_visible": true
  },
  "kernelspec": {
   "display_name": "Python 3 (ipykernel)",
   "language": "python",
   "name": "python3"
  },
  "language_info": {
   "codemirror_mode": {
    "name": "ipython",
    "version": 3
   },
   "file_extension": ".py",
   "mimetype": "text/x-python",
   "name": "python",
   "nbconvert_exporter": "python",
   "pygments_lexer": "ipython3",
   "version": "3.10.13"
  }
 },
 "nbformat": 4,
 "nbformat_minor": 4
}
