{
 "cells": [
  {
   "cell_type": "code",
   "execution_count": null,
   "metadata": {
    "hideCode": true,
    "hideOutput": true,
    "hidePrompt": true,
    "jupyter": {
     "source_hidden": true
    },
    "slideshow": {
     "slide_type": "skip"
    },
    "tags": [
     "remove-cell"
    ]
   },
   "outputs": [],
   "source": [
    "%config InlineBackend.figure_formats = ['svg']\n",
    "import os\n",
    "\n",
    "STATIC_WEB_PAGE = {\"EXECUTE_NB\", \"READTHEDOCS\"}.intersection(os.environ)"
   ]
  },
  {
   "cell_type": "markdown",
   "metadata": {},
   "source": [
    "```{autolink-concat}\n",
    "```"
   ]
  },
  {
   "cell_type": "markdown",
   "metadata": {},
   "source": [
    "# [TR-017] Polarization sensitivity"
   ]
  },
  {
   "cell_type": "markdown",
   "metadata": {},
   "source": [
    "<!-- cspell:ignore mmikhasenko Remco -->\n",
    "\n",
    ":::{epigraph}\n",
    "\n",
    "Mikhail Mikhasenko [@mmikhasenko](https://github.com/mmikhasenko), Remco de Boer [@redeboer](https://github.com/redeboer)\n",
    "\n",
    ":::\n",
    "\n",
    "\n",
    "\n",
    "```{warning}\n",
    "This report is Work-in-Progress.\n",
    "```\n",
    "\n",
    "```{autolink-skip}\n",
    "```"
   ]
  },
  {
   "cell_type": "code",
   "execution_count": null,
   "metadata": {
    "jupyter": {
     "source_hidden": true
    },
    "tags": [
     "hide-input",
     "remove-output"
    ]
   },
   "outputs": [],
   "source": [
    "%pip -q install ampform==0.14.0 qrules==0.9.7 sympy==1.10.1 tensorwaves[jax,pwa]==0.4.5"
   ]
  },
  {
   "cell_type": "markdown",
   "metadata": {},
   "source": [
    "This report is an attempt to formulate [this report](https://www.overleaf.com/7229968911cjshysdbfjtj) [behind login] on polarization sensitivity in $\\Lambda_c \\to p\\pi K$ with [SymPy](https://docs.sympy.org) and [TensorWaves](https://tensorwaves.rtfd.io)."
   ]
  },
  {
   "cell_type": "code",
   "execution_count": null,
   "metadata": {
    "jupyter": {
     "source_hidden": true
    },
    "tags": [
     "hide-cell"
    ]
   },
   "outputs": [],
   "source": [
    "from __future__ import annotations\n",
    "\n",
    "import itertools\n",
    "import logging\n",
    "\n",
    "import graphviz\n",
    "import matplotlib.pyplot as plt\n",
    "import numpy as np\n",
    "import qrules\n",
    "import sympy as sp\n",
    "from ampform.sympy import (\n",
    "    PoolSum,\n",
    "    UnevaluatedExpression,\n",
    "    create_expression,\n",
    "    implement_doit_method,\n",
    "    make_commutative,\n",
    ")\n",
    "from attrs import frozen\n",
    "from IPython.display import Markdown, Math, display\n",
    "from matplotlib.colors import LogNorm\n",
    "from qrules.io import asdot\n",
    "from qrules.particle import Particle, ParticleCollection, create_particle\n",
    "from sympy.physics.quantum.spin import Rotation as Wigner\n",
    "\n",
    "LOGGER = logging.getLogger()\n",
    "LOGGER.setLevel(logging.ERROR)\n",
    "\n",
    "PDG = qrules.load_pdg()\n",
    "\n",
    "\n",
    "def display_definitions(definitions: dict[sp.Symbol, sp.Expr]) -> None:\n",
    "    latex = R\"\\begin{array}{rcl}\" + \"\\n\"\n",
    "    for symbol, expr in definitions.items():\n",
    "        symbol = sp.sympify(symbol)\n",
    "        expr = sp.sympify(expr)\n",
    "        lhs = sp.latex(symbol)\n",
    "        rhs = sp.latex(expr)\n",
    "        latex += Rf\"  {lhs} & = & {rhs} \\\\\" + \"\\n\"\n",
    "    latex += R\"\\end{array}\"\n",
    "    display(Math(latex))\n",
    "\n",
    "\n",
    "def display_doit(\n",
    "    expr: UnevaluatedExpression, deep=False, terms_per_line: int = 10\n",
    ") -> None:\n",
    "    latex = sp.multiline_latex(\n",
    "        lhs=expr,\n",
    "        rhs=expr.doit(deep=deep),\n",
    "        terms_per_line=terms_per_line,\n",
    "        environment=\"eqnarray\",\n",
    "    )\n",
    "    display(Math(latex))\n",
    "\n",
    "\n",
    "def display_free_symbols(expr: sp.Expr, symbols_per_line: int = 4) -> None:\n",
    "    free_symbols = sorted(expr.free_symbols, key=str)\n",
    "    latex = Rf\"\\begin{{array}}{{{'c' * symbols_per_line}}}\" + \"\\n\"\n",
    "    for i, symbol in enumerate(free_symbols):\n",
    "        latex += \" \" + sp.latex(symbol)\n",
    "        if (\n",
    "            i % symbols_per_line == symbols_per_line - 1\n",
    "            or i == len(free_symbols) - 1\n",
    "        ):\n",
    "            latex += R\" \\\\\" + \"\\n\"\n",
    "        else:\n",
    "            latex += \" & \"\n",
    "    latex += R\"\\end{array}\"\n",
    "    display(Math(latex))"
   ]
  },
  {
   "cell_type": "markdown",
   "metadata": {
    "tags": []
   },
   "source": [
    "## Decay visualization"
   ]
  },
  {
   "cell_type": "markdown",
   "metadata": {},
   "source": [
    "::::{margin}\n",
    "\n",
    ":::{tip}\n",
    "\n",
    "Particle properties of $\\Delta^{**}$, $\\Lambda^{**}$, and $K^{**}$ are determined here.\n",
    "\n",
    ":::\n",
    "\n",
    "::::"
   ]
  },
  {
   "cell_type": "code",
   "execution_count": null,
   "metadata": {
    "jupyter": {
     "source_hidden": true
    },
    "tags": [
     "hide-cell"
    ]
   },
   "outputs": [],
   "source": [
    "p = PDG[\"p\"]\n",
    "K = PDG[\"K-\"]\n",
    "π = PDG[\"pi+\"]\n",
    "Λc = create_particle(\n",
    "    PDG[\"Lambda(c)+\"],\n",
    "    name=\"Λc⁺\",\n",
    ")\n",
    "K_star = create_particle(\n",
    "    PDG[\"K*(892)0\"],\n",
    "    name=\"K*\",\n",
    "    latex=\"K^*\",\n",
    ")\n",
    "Λ_star = create_particle(\n",
    "    PDG[\"Lambda(1520)\"],\n",
    "    name=\"Λ**\",\n",
    "    latex=R\"\\Lambda^{**}\",\n",
    ")\n",
    "Δ_star = create_particle(\n",
    "    PDG[\"Delta(1232)++\"],\n",
    "    name=\"Δ**\",\n",
    "    latex=R\"\\Delta^{**}\",\n",
    ")\n",
    "particle_db = ParticleCollection({Λc, p, K, π, K_star, Λ_star, Δ_star})"
   ]
  },
  {
   "cell_type": "code",
   "execution_count": null,
   "metadata": {},
   "outputs": [],
   "source": [
    "reaction = qrules.generate_transitions(\n",
    "    initial_state=\"Λc⁺\",\n",
    "    final_state=[\"p\", \"pi+\", \"K-\"],\n",
    "    particle_db=particle_db,\n",
    "    formalism=\"canonical\",\n",
    ")"
   ]
  },
  {
   "cell_type": "code",
   "execution_count": null,
   "metadata": {
    "jupyter": {
     "source_hidden": true
    },
    "tags": [
     "hide-input",
     "full-width"
    ]
   },
   "outputs": [],
   "source": [
    "for g in reaction.transition_groups:\n",
    "    dot = qrules.io.asdot(g.transitions, collapse_graphs=True, size=3.6)\n",
    "    graph = graphviz.Source(dot)\n",
    "    display(graph)"
   ]
  },
  {
   "cell_type": "markdown",
   "metadata": {},
   "source": [
    "Allowed $LS$-couplings:"
   ]
  },
  {
   "cell_type": "code",
   "execution_count": null,
   "metadata": {
    "tags": [
     "hide-input",
     "full-width"
    ]
   },
   "outputs": [],
   "source": [
    "def filter_transitions(resonance_name):\n",
    "    return [\n",
    "        transition\n",
    "        for transition in reaction.transitions\n",
    "        if transition.states[3].particle.name.startswith(resonance_name)\n",
    "    ]\n",
    "\n",
    "\n",
    "style = dict(render_node=True, strip_spin=True, size=6)\n",
    "display(\n",
    "    graphviz.Source(asdot(filter_transitions(\"Λ\"), **style)),\n",
    "    graphviz.Source(asdot(filter_transitions(\"Δ\"), **style)),\n",
    "    graphviz.Source(asdot(filter_transitions(\"K\"), **style)),\n",
    ")"
   ]
  },
  {
   "cell_type": "markdown",
   "metadata": {},
   "source": [
    "## Amplitude model"
   ]
  },
  {
   "cell_type": "markdown",
   "metadata": {},
   "source": [
    "### SymPy implementation of equations"
   ]
  },
  {
   "cell_type": "markdown",
   "metadata": {},
   "source": [
    "#### Aligned amplitude"
   ]
  },
  {
   "cell_type": "code",
   "execution_count": null,
   "metadata": {
    "jupyter": {
     "source_hidden": true
    },
    "tags": [
     "full-width",
     "hide-input"
    ]
   },
   "outputs": [],
   "source": [
    "A_k = sp.IndexedBase(R\"A^K\")\n",
    "A_l = sp.IndexedBase(R\"A^{\\Lambda}\")\n",
    "A_d = sp.IndexedBase(R\"A^{\\Delta}\")\n",
    "\n",
    "_nu = sp.Symbol(R\"\\nu^{\\prime}\", rational=True)\n",
    "_lambda = sp.Symbol(R\"\\lambda^{\\prime}\", rational=True)\n",
    "half = sp.S.Half\n",
    "\n",
    "zeta_0_1 = sp.Symbol(R\"\\zeta^0_{1(1)}\", real=True)\n",
    "zeta_0_2 = sp.Symbol(R\"\\zeta^0_{2(1)}\", real=True)\n",
    "zeta_0_3 = sp.Symbol(R\"\\zeta^0_{3(1)}\", real=True)\n",
    "zeta_1_1 = sp.Symbol(R\"\\zeta^1_{1(1)}\", real=True)\n",
    "zeta_1_2 = sp.Symbol(R\"\\zeta^1_{2(1)}\", real=True)\n",
    "zeta_1_3 = sp.Symbol(R\"\\zeta^1_{3(1)}\", real=True)\n",
    "\n",
    "\n",
    "def formulate_aligned_amplitude(Λc_helicity, p_helicity):\n",
    "    return PoolSum(\n",
    "        A_k[_nu, _lambda]\n",
    "        * Wigner.d(half, Λc_helicity, _nu, zeta_0_1)\n",
    "        * Wigner.d(half, _lambda, p_helicity, zeta_1_1)\n",
    "        + A_l[_nu, _lambda]\n",
    "        * Wigner.d(half, Λc_helicity, _nu, zeta_0_2)\n",
    "        * Wigner.d(half, _lambda, p_helicity, zeta_1_2)\n",
    "        + A_d[_nu, _lambda]\n",
    "        * Wigner.d(half, Λc_helicity, _nu, zeta_0_3)\n",
    "        * Wigner.d(half, _lambda, p_helicity, zeta_1_3),\n",
    "        (_lambda, [-half, +half]),\n",
    "        (_nu, [-half, +half]),\n",
    "    )\n",
    "\n",
    "\n",
    "nu = sp.Symbol(\"nu\")\n",
    "lam = sp.Symbol(\"lambda\")\n",
    "formulate_aligned_amplitude(Λc_helicity=nu, p_helicity=lam)"
   ]
  },
  {
   "cell_type": "markdown",
   "metadata": {},
   "source": [
    "#### Dynamics"
   ]
  },
  {
   "cell_type": "code",
   "execution_count": null,
   "metadata": {
    "jupyter": {
     "source_hidden": true
    },
    "tags": [
     "hide-input"
    ]
   },
   "outputs": [],
   "source": [
    "@make_commutative\n",
    "@implement_doit_method\n",
    "class BlattWeisskopf(UnevaluatedExpression):\n",
    "    def __new__(cls, z, L, **hints):\n",
    "        return create_expression(cls, z, L, **hints)\n",
    "\n",
    "    def evaluate(self):\n",
    "        z, L = self.args\n",
    "        cases = {\n",
    "            0: 1,\n",
    "            1: 1 / (1 + z**2),\n",
    "            2: 1 / (9 + 3 * z**2 + z**4),\n",
    "        }\n",
    "        return sp.Piecewise(\n",
    "            *[\n",
    "                (sp.sqrt(expr), sp.Eq(L, l_val))\n",
    "                for l_val, expr in cases.items()\n",
    "            ]\n",
    "        )\n",
    "\n",
    "    def _latex(self, printer, *args):\n",
    "        z, L = map(printer._print, self.args)\n",
    "        return Rf\"F_{{{L}}}\\left({z}\\right)\"\n",
    "\n",
    "\n",
    "z = sp.Symbol(\"z\", positive=True)\n",
    "L = sp.Symbol(\"L\", integer=True, nonnegative=True)\n",
    "latex = sp.multiline_latex(BlattWeisskopf(z, L), BlattWeisskopf(z, L).doit())\n",
    "Math(latex)"
   ]
  },
  {
   "cell_type": "code",
   "execution_count": null,
   "metadata": {
    "jupyter": {
     "source_hidden": true
    },
    "tags": [
     "hide-input"
    ]
   },
   "outputs": [],
   "source": [
    "@make_commutative\n",
    "@implement_doit_method\n",
    "class Källén(UnevaluatedExpression):\n",
    "    def __new__(cls, x, y, z, **hints):\n",
    "        return create_expression(cls, x, y, z, **hints)\n",
    "\n",
    "    def evaluate(self) -> sp.Expr:\n",
    "        x, y, z = self.args\n",
    "        return x**2 + y**2 + z**2 - 2 * x * y - 2 * y * z - 2 * z * x\n",
    "\n",
    "    def _latex(self, printer, *args):\n",
    "        x, y, z = map(printer._print, self.args)\n",
    "        return Rf\"\\lambda\\left({x}, {y}, {z}\\right)\"\n",
    "\n",
    "\n",
    "x, y, z = sp.symbols(\"x:z\")\n",
    "display_doit(Källén(x, y, z))"
   ]
  },
  {
   "cell_type": "code",
   "execution_count": null,
   "metadata": {
    "jupyter": {
     "source_hidden": true
    },
    "tags": [
     "hide-input"
    ]
   },
   "outputs": [],
   "source": [
    "@make_commutative\n",
    "@implement_doit_method\n",
    "class P(UnevaluatedExpression):\n",
    "    def __new__(cls, s, mi, mj, **hints):\n",
    "        return create_expression(cls, s, mi, mj, **hints)\n",
    "\n",
    "    def evaluate(self):\n",
    "        s, mi, mj = self.args\n",
    "        return sp.sqrt(Källén(s, mi, mj)) / (2 * sp.sqrt(s))\n",
    "\n",
    "    def _latex(self, printer, *args):\n",
    "        s = printer._print(self.args[0])\n",
    "        return Rf\"p_{{{s}}}\"\n",
    "\n",
    "\n",
    "@make_commutative\n",
    "@implement_doit_method\n",
    "class Q(UnevaluatedExpression):\n",
    "    def __new__(cls, s, m0, mk, **hints):\n",
    "        return create_expression(cls, s, m0, mk, **hints)\n",
    "\n",
    "    def evaluate(self):\n",
    "        s, m0, mk = self.args\n",
    "        return sp.sqrt(Källén(s, m0, mk)) / (2 * m0)  # <-- not s!\n",
    "\n",
    "    def _latex(self, printer, *args):\n",
    "        s = printer._print(self.args[0])\n",
    "        return Rf\"q_{{{s}}}\"\n",
    "\n",
    "\n",
    "s, m0, mi, mj, mk = sp.symbols(\"s m0 m_i:k\", nonnegative=True)\n",
    "display_doit(P(s, mi**2, mj**2))\n",
    "display_doit(Q(s, m0**2, mk**2))"
   ]
  },
  {
   "cell_type": "code",
   "execution_count": null,
   "metadata": {
    "jupyter": {
     "source_hidden": true
    },
    "tags": [
     "hide-input"
    ]
   },
   "outputs": [],
   "source": [
    "R = sp.Symbol(\"R\")\n",
    "parameter_defaults = {\n",
    "    R: 5,  # GeV^{-1} (length factor)\n",
    "}\n",
    "\n",
    "\n",
    "@make_commutative\n",
    "@implement_doit_method\n",
    "class EnergyDependentWidth(UnevaluatedExpression):\n",
    "    def __new__(cls, s, m0, Gamma0, m1, m2, L, R):\n",
    "        return create_expression(cls, s, m0, Gamma0, m1, m2, L, R)\n",
    "\n",
    "    def evaluate(self):\n",
    "        s, m0, Gamma0, m1, m2, L, R = self.args\n",
    "        p = P(s, m1**2, m2**2)\n",
    "        p0 = P(m0**2, m1**2, m2**2)\n",
    "        ff = BlattWeisskopf(p * R, L) ** 2\n",
    "        ff0 = BlattWeisskopf(p0 * R, L) ** 2\n",
    "        return sp.Mul(\n",
    "            Gamma0,\n",
    "            (p / p0) ** (2 * L + 1),\n",
    "            m0 / sp.sqrt(s),\n",
    "            ff / ff0,\n",
    "            evaluate=False,\n",
    "        )\n",
    "\n",
    "    def _latex(self, printer, *args) -> str:\n",
    "        s = printer._print(self.args[0])\n",
    "        return Rf\"\\Gamma\\left({s}\\right)\"\n",
    "\n",
    "\n",
    "l_R = sp.Symbol(\"l_R\", integer=True, positive=True)\n",
    "m, w0, m1, m2 = sp.symbols(\"m Gamma0 m1 m2\", nonnegative=True)\n",
    "display_doit(EnergyDependentWidth(s, m, w0, m1, m2, l_R, R))"
   ]
  },
  {
   "cell_type": "code",
   "execution_count": null,
   "metadata": {
    "jupyter": {
     "source_hidden": true
    },
    "tags": [
     "hide-input"
    ]
   },
   "outputs": [],
   "source": [
    "@make_commutative\n",
    "@implement_doit_method\n",
    "class RelativisticBreitWigner(UnevaluatedExpression):\n",
    "    def __new__(cls, s, m0, Gamma0, m1, m2, l_R, l_Λc, l_Λc_min, R):\n",
    "        return create_expression(\n",
    "            cls, s, m0, Gamma0, m1, m2, l_R, l_Λc, l_Λc_min, R\n",
    "        )\n",
    "\n",
    "    def evaluate(self):\n",
    "        s, m0, Gamma0, m1, m2, l_R, l_Λc, l_Λc_min, R = self.args\n",
    "        q = Q(s, m1**2, m2**2)\n",
    "        q0 = Q(m0**2, m1**2, m2**2)\n",
    "        p = P(s, m1**2, m2**2)\n",
    "        p0 = P(m0**2, m1**2, m2**2)\n",
    "        width = EnergyDependentWidth(s, m0, Gamma0, m1, m2, l_R, R)\n",
    "        return sp.Mul(\n",
    "            (q / q0) ** l_Λc,\n",
    "            BlattWeisskopf(q * R, l_Λc_min) / BlattWeisskopf(q0 * R, l_Λc_min),\n",
    "            1 / (m0**2 - s - sp.I * m0 * width),\n",
    "            (p / p0) ** l_R,\n",
    "            BlattWeisskopf(p * R, l_R) / BlattWeisskopf(p0 * R, l_R),\n",
    "            evaluate=False,\n",
    "        )\n",
    "\n",
    "    def _latex(self, printer, *args) -> str:\n",
    "        s = printer._print(self.args[0])\n",
    "        return Rf\"\\mathcal{{R}}\\left({s}\\right)\"\n",
    "\n",
    "\n",
    "l_Λc = sp.Symbol(R\"l_{\\Lambda_c}\", integer=True, positive=True)\n",
    "l_Λc_min = sp.Symbol(\n",
    "    R\"{l^{\\mathrm{min}}_{\\Lambda_c}}\", integer=True, positive=True\n",
    ")\n",
    "display_doit(RelativisticBreitWigner(s, m, w0, m1, m2, l_R, l_Λc, l_Λc_min, R))"
   ]
  },
  {
   "cell_type": "markdown",
   "metadata": {},
   "source": [
    "#### Unaligned amplitudes"
   ]
  },
  {
   "cell_type": "code",
   "execution_count": null,
   "metadata": {
    "jupyter": {
     "source_hidden": true
    },
    "tags": [
     "scroll-input",
     "hide-input"
    ]
   },
   "outputs": [],
   "source": [
    "H_K_prod = sp.IndexedBase(R\"\\mathcal{H}^{\\Lambda_c \\to K^{**}p}\")\n",
    "H_K_dec = sp.IndexedBase(R\"\\mathcal{H}^{K^{**} \\to \\pi K}\")\n",
    "H_Λ_prod = sp.IndexedBase(R\"\\mathcal{H}^{\\Lambda_c \\to \\Lambda^{**}\\pi}\")\n",
    "H_Λ_dec = sp.IndexedBase(R\"\\mathcal{H}^{\\Lambda^{**} \\to K p}\")\n",
    "H_Δ_prod = sp.IndexedBase(R\"\\mathcal{H}^{\\Lambda_c \\to \\Delta^{**}K}\")\n",
    "H_Δ_dec = sp.IndexedBase(R\"\\mathcal{H}^{\\Delta^{**} \\to p \\pi}\")\n",
    "\n",
    "theta23 = sp.Symbol(\"theta23\", real=True)\n",
    "theta31 = sp.Symbol(\"theta31\", real=True)\n",
    "theta12 = sp.Symbol(\"theta12\", real=True)\n",
    "\n",
    "s1, s2, s3 = sp.symbols(\"sigma1:4\", nonnegative=True)\n",
    "m1, m2, m3 = sp.symbols(\"m1:4\", nonnegative=True)\n",
    "\n",
    "_tau = sp.Symbol(\"tau\", rational=True)\n",
    "\n",
    "\n",
    "@frozen\n",
    "class Decay:\n",
    "    resonance: Particle\n",
    "    l_R: int\n",
    "    l_Λc: int\n",
    "    l_Λc_min: int\n",
    "\n",
    "\n",
    "def formulate_dynamics(decay: Decay, s, m1, m2):\n",
    "    l_R = sp.Rational(decay.l_R)\n",
    "    l_Λc = sp.Rational(decay.l_Λc)\n",
    "    l_Λc_min = sp.Rational(decay.l_Λc_min)\n",
    "    mass = sp.Symbol(f\"m_{{{decay.resonance.latex}}}\")\n",
    "    width = sp.Symbol(Rf\"\\Gamma_{{{decay.resonance.latex}}}\")\n",
    "    parameter_defaults[mass] = decay.resonance.mass\n",
    "    parameter_defaults[width] = decay.resonance.width\n",
    "    return RelativisticBreitWigner(\n",
    "        s, mass, width, m1, m2, l_R, l_Λc, l_Λc_min, R\n",
    "    )\n",
    "\n",
    "\n",
    "def create_spin_range(j):\n",
    "    spin_range = np.arange(-float(j), +float(j) + 0.5)\n",
    "    return list(map(sp.Rational, spin_range))\n",
    "\n",
    "\n",
    "def formulate_K_amplitude(Λc_helicity, p_helicity, decays: list[Decay]):\n",
    "    return sp.Add(\n",
    "        *[\n",
    "            PoolSum(\n",
    "                sp.KroneckerDelta(Λc_helicity, _tau - p_helicity)\n",
    "                * H_K_prod[_tau, p_helicity]\n",
    "                * formulate_dynamics(dec, s1, m2, m3)\n",
    "                * (-1) ** (half - p_helicity)\n",
    "                * Wigner.d(sp.Rational(dec.resonance.spin), _tau, 0, theta23)\n",
    "                * H_K_dec[0, 0],\n",
    "                (_tau, create_spin_range(dec.resonance.spin)),\n",
    "            )\n",
    "            for dec in decays\n",
    "        ]\n",
    "    )\n",
    "\n",
    "\n",
    "def formulate_Λ_amplitude(Λc_helicity, p_helicity, decays: list[Decay]):\n",
    "    return sp.Add(\n",
    "        *[\n",
    "            PoolSum(\n",
    "                sp.KroneckerDelta(Λc_helicity, _tau)\n",
    "                * H_Λ_prod[_tau, 0]\n",
    "                * formulate_dynamics(dec, s2, m1, m3)\n",
    "                * Wigner.d(\n",
    "                    sp.Rational(dec.resonance.spin), _tau, -p_helicity, theta31\n",
    "                )\n",
    "                * H_Λ_dec[0, p_helicity]\n",
    "                * (-1) ** (half - p_helicity),\n",
    "                (_tau, create_spin_range(dec.resonance.spin)),\n",
    "            )\n",
    "            for dec in decays\n",
    "        ]\n",
    "    )\n",
    "\n",
    "\n",
    "def formulate_Δ_amplitude(Λc_helicity, p_helicity, decays: list[Decay]):\n",
    "    return sp.Add(\n",
    "        *[\n",
    "            PoolSum(\n",
    "                sp.KroneckerDelta(Λc_helicity, _tau)\n",
    "                * H_Δ_prod[_tau, 0]\n",
    "                * formulate_dynamics(dec, s3, m1, m2)\n",
    "                * Wigner.d(\n",
    "                    sp.Rational(dec.resonance.spin), _tau, p_helicity, theta12\n",
    "                )\n",
    "                * H_Δ_dec[p_helicity, 0],\n",
    "                (_tau, create_spin_range(dec.resonance.spin)),\n",
    "            )\n",
    "            for dec in decays\n",
    "        ]\n",
    "    )\n",
    "\n",
    "\n",
    "display(\n",
    "    formulate_K_amplitude(nu, lam, decays=[Decay(K_star, 1, 0, 0)]),\n",
    "    formulate_Λ_amplitude(nu, lam, decays=[Decay(Λ_star, 1, 1, 1)]),\n",
    "    formulate_Δ_amplitude(nu, lam, decays=[Decay(Δ_star, 2, 1, 1)]),\n",
    ")"
   ]
  },
  {
   "cell_type": "markdown",
   "metadata": {},
   "source": [
    "#### Helicity coupling values"
   ]
  },
  {
   "cell_type": "code",
   "execution_count": null,
   "metadata": {
    "jupyter": {
     "source_hidden": true
    },
    "tags": [
     "hide-input"
    ]
   },
   "outputs": [],
   "source": [
    "couplings = {\n",
    "    H_Λ_dec[0, half]: 1,\n",
    "    H_Δ_dec[half, 0]: 1,\n",
    "    H_K_dec[0, 0]: 1,\n",
    "    H_Λ_dec[0, -half]: -Λ_star.parity\n",
    "    * (-1) ** sp.Rational(Λ_star.spin - 1 / 2),\n",
    "    H_Δ_dec[-half, 0]: -Δ_star.parity\n",
    "    * (-1) ** sp.Rational(Δ_star.spin - 1 / 2),\n",
    "}\n",
    "parameter_defaults.update(couplings)\n",
    "display_definitions(couplings)"
   ]
  },
  {
   "cell_type": "markdown",
   "metadata": {},
   "source": [
    "### Angle definitions"
   ]
  },
  {
   "cell_type": "markdown",
   "metadata": {},
   "source": [
    "Following relations apply:\n",
    "\n",
    "$$\n",
    "\\begin{eqnarray}\n",
    "  \\zeta^0_{1(1)} &=& \\hat{\\theta}_{1(1)}^{0} = 0 \\\\\n",
    "  \\zeta^0_{2(1)} &=& \\hat{\\theta}_{2(1)} = -\\hat{\\theta}_{1(2)} \\\\\n",
    "  \\zeta^0_{3(1)} &=& \\hat{\\theta}_{3(1)} \\\\\n",
    "  \\zeta^1_{1(1)} &=& 0 \\\\\n",
    "  \\zeta^1_{3(1)} &=& -\\zeta^1_{1(3)} \\\\\n",
    "\\end{eqnarray}\n",
    "$$\n",
    "\n",
    "The remaining angles $\\theta_{12}, \\theta_{23}, \\theta_{13}$ and $\\hat\\theta_{1(2)}, \\hat\\theta_{3(1)}, \\zeta^1_{1(3)}$ can be expressed in terms of Mandelstam variables $\\sigma_1, \\sigma_2, \\sigma_3$ using {cite}`mikhasenkoDalitzplotDecompositionThreebody2020`, Appendix A:"
   ]
  },
  {
   "cell_type": "code",
   "execution_count": null,
   "metadata": {
    "jupyter": {
     "source_hidden": true
    },
    "tags": [
     "scroll-input",
     "hide-input"
    ]
   },
   "outputs": [],
   "source": [
    "m0 = sp.Symbol(\"m0\", nonnegative=True)\n",
    "angles = {\n",
    "    theta12: sp.acos(\n",
    "        (\n",
    "            2 * s3 * (s2 - m3**2 - m1**2)\n",
    "            - (s3 + m1**2 - m2**2) * (m0**2 - s3 - m3**2)\n",
    "        )\n",
    "        / (\n",
    "            sp.sqrt(Källén(m0**2, m3**2, s3))\n",
    "            * sp.sqrt(Källén(s3, m1**2, m2**2))\n",
    "        )\n",
    "    ),\n",
    "    theta23: sp.acos(\n",
    "        (\n",
    "            2 * s1 * (s3 - m1**2 - m2**2)\n",
    "            - (s1 + m2**2 - m3**2) * (m0**2 - s1 - m1**2)\n",
    "        )\n",
    "        / (\n",
    "            sp.sqrt(Källén(m0**2, m1**2, s1))\n",
    "            * sp.sqrt(Källén(s1, m2**2, m3**2))\n",
    "        )\n",
    "    ),\n",
    "    theta31: sp.acos(\n",
    "        (\n",
    "            2 * s2 * (s1 - m2**2 - m3**2)\n",
    "            - (s2 + m3**2 - m1**2) * (m0**2 - s2 - m2**2)\n",
    "        )\n",
    "        / (\n",
    "            sp.sqrt(Källén(m0**2, m2**2, s2))\n",
    "            * sp.sqrt(Källén(s2, m3**2, m1**2))\n",
    "        )\n",
    "    ),\n",
    "    zeta_0_1: sp.S.Zero,  # = \\hat\\theta^0_{1(1)}\n",
    "    zeta_0_2: -sp.acos(  # = -\\hat\\theta^{1(2)}\n",
    "        (\n",
    "            (m0**2 + m1**2 - s1) * (m0**2 + m2**2 - s2)\n",
    "            - 2 * m0**2 * (s3 - m1**2 - m2**2)\n",
    "        )\n",
    "        / (\n",
    "            sp.sqrt(Källén(m0**2, m2**2, s2))\n",
    "            * sp.sqrt(Källén(m0**2, s1, m1**2))\n",
    "        )\n",
    "    ),\n",
    "    zeta_0_3: sp.acos(  # = \\hat\\theta^{3(1)}\n",
    "        (\n",
    "            (m0**2 + m3**2 - s3) * (m0**2 + m1**2 - s1)\n",
    "            - 2 * m0**2 * (s2 - m3**2 - m1**2)\n",
    "        )\n",
    "        / (\n",
    "            sp.sqrt(Källén(m0**2, m1**2, s1))\n",
    "            * sp.sqrt(Källén(m0**2, s3, m3**2))\n",
    "        )\n",
    "    ),\n",
    "    zeta_1_1: sp.S.Zero,\n",
    "    zeta_1_2: sp.acos(\n",
    "        (\n",
    "            2 * m1**2 * (s3 - m0**2 - m3**2)\n",
    "            + (m0**2 + m1**2 - s1) * (s2 - m1**2 - m3**2)\n",
    "        )\n",
    "        / (\n",
    "            sp.sqrt(Källén(m0**2, m1**2, s1))\n",
    "            * sp.sqrt(Källén(s2, m1**2, m3**2))\n",
    "        )\n",
    "    ),\n",
    "    zeta_1_3: -sp.acos(  # = -\\zeta^1_{1(3)}\n",
    "        (\n",
    "            2 * m1**2 * (s2 - m0**2 - m2**2)\n",
    "            + (m0**2 + m1**2 - s1) * (s3 - m1**2 - m2**2)\n",
    "        )\n",
    "        / (\n",
    "            sp.sqrt(Källén(m0**2, m1**2, s1))\n",
    "            * sp.sqrt(Källén(s3, m1**2, m2**2))\n",
    "        )\n",
    "    ),\n",
    "}\n",
    "\n",
    "display_definitions(angles)"
   ]
  },
  {
   "cell_type": "markdown",
   "metadata": {},
   "source": [
    "where $m_0$ is the mass of the initial state $\\Lambda_c$ and $m_1, m_2, m_3$ are the masses of $p, \\pi, K$, respectively:"
   ]
  },
  {
   "cell_type": "code",
   "execution_count": null,
   "metadata": {
    "jupyter": {
     "source_hidden": true
    },
    "tags": [
     "hide-input"
    ]
   },
   "outputs": [],
   "source": [
    "masses = {\n",
    "    m0: Λc.mass,\n",
    "    m1: p.mass,\n",
    "    m2: π.mass,\n",
    "    m3: K.mass,\n",
    "}\n",
    "display_definitions(masses)"
   ]
  },
  {
   "cell_type": "markdown",
   "metadata": {
    "tags": []
   },
   "source": [
    "### Combining all definitions"
   ]
  },
  {
   "cell_type": "markdown",
   "metadata": {},
   "source": [
    "Incoherent sum of the amplitudes defined by {ref}`report/017:Aligned amplitude`:"
   ]
  },
  {
   "cell_type": "code",
   "execution_count": null,
   "metadata": {
    "tags": [
     "full-width"
    ]
   },
   "outputs": [],
   "source": [
    "top_expr = PoolSum(\n",
    "    sp.Abs(formulate_aligned_amplitude(lam, nu)) ** 2,\n",
    "    (lam, [-half, +half]),\n",
    "    (nu, [-half, +half]),\n",
    ")\n",
    "top_expr"
   ]
  },
  {
   "cell_type": "markdown",
   "metadata": {},
   "source": [
    "Remaining {attr}`~sympy.core.basic.Basic.free_symbols` are indeed the specific amplitudes as defined by {ref}`report/017:Unaligned amplitudes`:"
   ]
  },
  {
   "cell_type": "code",
   "execution_count": null,
   "metadata": {},
   "outputs": [],
   "source": [
    "evaluated_top_expr = top_expr.doit()\n",
    "display_free_symbols(evaluated_top_expr, symbols_per_line=3)"
   ]
  },
  {
   "cell_type": "markdown",
   "metadata": {},
   "source": [
    "The specific amplitudes from {ref}`report/017:Unaligned amplitudes` need to be formulated for each value of $\\nu, \\lambda$, so that they can be substituted in the top expression:"
   ]
  },
  {
   "cell_type": "code",
   "execution_count": null,
   "metadata": {
    "jupyter": {
     "source_hidden": true
    },
    "tags": [
     "hide-input"
    ]
   },
   "outputs": [],
   "source": [
    "decay_chains = []\n",
    "amp_definitions = {}\n",
    "\n",
    "decays = [\n",
    "    Decay(K_star, l_R=1, l_Λc=0, l_Λc_min=0),\n",
    "]\n",
    "decay_chains.extend(decays)\n",
    "for Λc_heli, p_heli in itertools.product([-half, +half], [-half, +half]):\n",
    "    symbol = A_d[Λc_heli, p_heli]\n",
    "    expr = formulate_Δ_amplitude(nu, lam, decays)\n",
    "    amp_definitions[symbol] = expr.subs({nu: Λc_heli, lam: p_heli})\n",
    "\n",
    "decays = [\n",
    "    Decay(Λ_star, l_R=1, l_Λc=1, l_Λc_min=1),\n",
    "]\n",
    "decay_chains.extend(decays)\n",
    "for Λc_heli, p_heli in itertools.product([-half, +half], [-half, +half]):\n",
    "    symbol = A_l[Λc_heli, p_heli]\n",
    "    expr = formulate_Λ_amplitude(nu, lam, decays)\n",
    "    amp_definitions[symbol] = expr.subs({nu: Λc_heli, lam: p_heli})\n",
    "\n",
    "decays = [\n",
    "    Decay(Δ_star, l_R=2, l_Λc=1, l_Λc_min=1),\n",
    "]\n",
    "decay_chains.extend(decays)\n",
    "for Λc_heli, p_heli in itertools.product([-half, +half], [-half, +half]):\n",
    "    symbol = A_k[Λc_heli, p_heli]\n",
    "    expr = formulate_K_amplitude(nu, lam, decays)\n",
    "    amp_definitions[symbol] = expr.subs({nu: Λc_heli, lam: p_heli})\n",
    "display_definitions(amp_definitions)"
   ]
  },
  {
   "cell_type": "code",
   "execution_count": null,
   "metadata": {
    "jupyter": {
     "source_hidden": true
    },
    "tags": [
     "hide-input"
    ]
   },
   "outputs": [],
   "source": [
    "def jp(particle: Particle):\n",
    "    p = \"+\" if particle.parity > 0 else \"-\"\n",
    "    j = sp.Rational(particle.spin)\n",
    "    return f\"${j}^{p}$\"\n",
    "\n",
    "\n",
    "def create_row(*items):\n",
    "    items = map(str, items)\n",
    "    return \"| \" + \" | \".join(items) + \" |\\n\"\n",
    "\n",
    "\n",
    "column_names = [\n",
    "    \"resonances\",\n",
    "    \"$j^P$\",\n",
    "    \"$m$ (MeV)\",\n",
    "    R\"$\\Gamma_0$ (MeV)\",\n",
    "    \"$l_R$\",\n",
    "    R\"$l^\\mathrm{min}_{\\Lambda_c}$\",\n",
    "]\n",
    "src = create_row(*column_names)\n",
    "src += create_row(*map(lambda s: \"---\", column_names))\n",
    "for dec in decay_chains:\n",
    "    src += create_row(\n",
    "        f\"${dec.resonance.latex}$\",\n",
    "        jp(dec.resonance),\n",
    "        int(1e3 * dec.resonance.mass),\n",
    "        int(1e3 * dec.resonance.width),\n",
    "        dec.l_R,\n",
    "        dec.l_Λc_min,\n",
    "    )\n",
    "Markdown(src)"
   ]
  },
  {
   "cell_type": "markdown",
   "metadata": {},
   "source": [
    "The remaining {attr}`~sympy.core.basic.Basic.free_symbols` are indeed the couplings as defined by {ref}`report/017:Helicity coupling values`:"
   ]
  },
  {
   "cell_type": "code",
   "execution_count": null,
   "metadata": {},
   "outputs": [],
   "source": [
    "defined_top_expr = evaluated_top_expr.subs(amp_definitions).doit()\n",
    "display_free_symbols(defined_top_expr)"
   ]
  },
  {
   "cell_type": "code",
   "execution_count": null,
   "metadata": {},
   "outputs": [],
   "source": [
    "amplitude_expr = defined_top_expr.subs(couplings)\n",
    "display_free_symbols(amplitude_expr)"
   ]
  },
  {
   "cell_type": "code",
   "execution_count": null,
   "metadata": {},
   "outputs": [],
   "source": [
    "display_free_symbols(amplitude_expr.xreplace(angles))"
   ]
  },
  {
   "cell_type": "code",
   "execution_count": null,
   "metadata": {},
   "outputs": [],
   "source": [
    "coupling_values = {\n",
    "    H_K_prod[0, -half]: 1,\n",
    "    H_K_prod[-1, +half]: 1 - 1j,\n",
    "    H_K_prod[+1, -half]: -3 - 3j,\n",
    "    H_K_prod[0, +half]: -1 - 4j,\n",
    "    H_Δ_prod[+half, 0]: -7 + 3j,\n",
    "    H_Δ_prod[-half, 0]: -13 + 5j,\n",
    "    H_Λ_prod[0, +half]: 1,\n",
    "    H_Λ_prod[0, -half]: 2j,\n",
    "}\n",
    "parameter_defaults.update(coupling_values)\n",
    "display_free_symbols(amplitude_expr.xreplace(angles).xreplace(coupling_values))"
   ]
  },
  {
   "cell_type": "code",
   "execution_count": null,
   "metadata": {
    "jupyter": {
     "source_hidden": true
    },
    "tags": [
     "full-width",
     "hide-input"
    ]
   },
   "outputs": [],
   "source": [
    "Math(\n",
    "    sp.multiline_latex(sp.Symbol(\"A\"), amplitude_expr, environment=\"eqnarray\")\n",
    ")"
   ]
  },
  {
   "cell_type": "markdown",
   "metadata": {},
   "source": [
    "## Polarization"
   ]
  },
  {
   "cell_type": "markdown",
   "metadata": {},
   "source": [
    ":::{todo}\n",
    "\n",
    "Formulate Section 2 with [SymPy](https://docs.sympy.org).\n",
    "\n",
    ":::"
   ]
  },
  {
   "cell_type": "markdown",
   "metadata": {},
   "source": [
    "## Computations with TensorWaves\n"
   ]
  },
  {
   "cell_type": "markdown",
   "metadata": {
    "tags": []
   },
   "source": [
    "### Conversion to computational backend"
   ]
  },
  {
   "cell_type": "markdown",
   "metadata": {},
   "source": [
    "The full [expression tree](https://docs.sympy.org/latest/tutorial/manipulation.html) can be converted to a computational, _parametrized_ function as follows. Note that identify all coupling symbols are interpreted as parameters. The remaining symbols (the angles) become arguments to the function.\n",
    "\n",
    "::::{margin}\n",
    ":::{todo}\n",
    "Explicitly set missing coupling values.\n",
    ":::\n",
    "::::"
   ]
  },
  {
   "cell_type": "code",
   "execution_count": null,
   "metadata": {},
   "outputs": [],
   "source": [
    "from tensorwaves.function.sympy import create_parametrized_function\n",
    "\n",
    "# temporary fix to provide values for remaining symbols\n",
    "variables = [s1, s2, s3]\n",
    "remaining_symbols = amplitude_expr.free_symbols\n",
    "remaining_symbols -= set(parameter_defaults)\n",
    "remaining_symbols -= set(masses)\n",
    "remaining_symbols -= set(angles)\n",
    "remaining_symbols -= set(variables)\n",
    "for symbol in remaining_symbols:\n",
    "    parameter_defaults[symbol] = 1\n",
    "\n",
    "display_definitions(parameter_defaults)\n",
    "\n",
    "func = create_parametrized_function(\n",
    "    amplitude_expr.subs(masses),\n",
    "    parameters=parameter_defaults,\n",
    "    backend=\"jax\",\n",
    ")"
   ]
  },
  {
   "cell_type": "markdown",
   "metadata": {},
   "source": [
    "Generate phase space sample for $\\Lambda_c \\to p \\pi K$:"
   ]
  },
  {
   "cell_type": "code",
   "execution_count": null,
   "metadata": {
    "tags": [
     "remove-output"
    ]
   },
   "outputs": [],
   "source": [
    "from tensorwaves.data import (\n",
    "    TFPhaseSpaceGenerator,\n",
    "    TFUniformRealNumberGenerator,\n",
    ")\n",
    "\n",
    "rng = TFUniformRealNumberGenerator(seed=0)\n",
    "phsp_generator = TFPhaseSpaceGenerator(\n",
    "    initial_state_mass=masses[m0],\n",
    "    final_state_masses={i: masses[m] for i, m in enumerate([m1, m2, m3], 1)},\n",
    ")\n",
    "phsp = phsp_generator.generate(1_000_000, rng)"
   ]
  },
  {
   "cell_type": "markdown",
   "metadata": {},
   "source": [
    "Values for the angles will be computed form the Mandelstam values with a data transformer for the symbolic angle definitions:"
   ]
  },
  {
   "cell_type": "code",
   "execution_count": null,
   "metadata": {},
   "outputs": [],
   "source": [
    "from tensorwaves.data.transform import SympyDataTransformer\n",
    "\n",
    "kinematic_variables = {\n",
    "    symbol: expression.doit().subs(masses)\n",
    "    for symbol, expression in angles.items()\n",
    "}\n",
    "kinematic_variables.update({s: s for s in [s1, s2, s3]})  # include identity\n",
    "transformer = SympyDataTransformer.from_sympy(\n",
    "    kinematic_variables, backend=\"numpy\"\n",
    ")"
   ]
  },
  {
   "cell_type": "markdown",
   "metadata": {},
   "source": [
    "The three Mandelstam variables $\\sigma_1, \\sigma_2, \\sigma_3$ can be computed from the phase space sample using the data transformer:"
   ]
  },
  {
   "cell_type": "code",
   "execution_count": null,
   "metadata": {
    "tags": []
   },
   "outputs": [],
   "source": [
    "def compute_mass_squared(array):\n",
    "    energy = array[:, 0]\n",
    "    p_vec = array[:, 1:]\n",
    "    return energy**2 - np.sum(p_vec**2, axis=1)\n",
    "\n",
    "\n",
    "data = {\n",
    "    s1.name: compute_mass_squared(phsp[\"p2\"] + phsp[\"p3\"]),\n",
    "    s2.name: compute_mass_squared(phsp[\"p3\"] + phsp[\"p1\"]),\n",
    "    s3.name: compute_mass_squared(phsp[\"p1\"] + phsp[\"p2\"]),\n",
    "}\n",
    "transformed_data = transformer(data)\n",
    "transformed_data"
   ]
  },
  {
   "cell_type": "markdown",
   "metadata": {},
   "source": [
    "### Intensity distributions"
   ]
  },
  {
   "cell_type": "markdown",
   "metadata": {},
   "source": [
    "Finally, all intensities can be computed as follows:\n",
    "\n",
    "```{autolink-skip}\n",
    "```"
   ]
  },
  {
   "cell_type": "code",
   "execution_count": null,
   "metadata": {},
   "outputs": [],
   "source": [
    "%%time\n",
    "transformed_data = transformer(data)\n",
    "intensities = func(transformed_data)\n",
    "intensities"
   ]
  },
  {
   "cell_type": "code",
   "execution_count": null,
   "metadata": {
    "jupyter": {
     "source_hidden": true
    },
    "tags": [
     "hide-input"
    ]
   },
   "outputs": [],
   "source": [
    "s1_label = R\"$\\sigma_1=m^2\\left(K\\pi\\right)$\"\n",
    "s2_label = R\"$\\sigma_2=m^2\\left(pK\\right)$\"\n",
    "s3_label = R\"$\\sigma_3=m^2\\left(p\\pi\\right)$\"\n",
    "\n",
    "fig, ax = plt.subplots(figsize=(8, 6.5))\n",
    "ax.set_title(\"Intensity distribution\")\n",
    "ax.set_xlabel(s1_label)\n",
    "ax.set_ylabel(s2_label)\n",
    "h = ax.hist2d(\n",
    "    data[\"sigma1\"],\n",
    "    data[\"sigma2\"],\n",
    "    weights=np.array(intensities),\n",
    "    bins=100,\n",
    "    norm=LogNorm(),\n",
    ")\n",
    "fig.colorbar(h[3])\n",
    "\n",
    "fig.tight_layout()\n",
    "plt.show()"
   ]
  },
  {
   "cell_type": "code",
   "execution_count": null,
   "metadata": {
    "jupyter": {
     "source_hidden": true
    },
    "tags": [
     "hide-input",
     "full-width"
    ]
   },
   "outputs": [],
   "source": [
    "fig, axes = plt.subplots(figsize=(12, 4), ncols=3)\n",
    "ax1, ax2, ax3 = axes\n",
    "hist_style = dict(bins=100, weights=np.array(intensities), histtype=\"step\")\n",
    "line_style = dict(c=\"red\", linestyle=\"dotted\")\n",
    "\n",
    "ax1.set_xlabel(s1_label)\n",
    "ax2.set_xlabel(s2_label)\n",
    "ax3.set_xlabel(s3_label)\n",
    "ax1.hist(data[\"sigma1\"], **hist_style)\n",
    "ax1.axvline(K_star.mass**2, label=f\"$m_{{{K_star.latex}}}$\", **line_style)\n",
    "ax2.hist(data[\"sigma2\"], **hist_style)\n",
    "ax2.axvline(Λ_star.mass**2, label=f\"$m_{{{Λ_star.latex}}}$\", **line_style)\n",
    "ax3.hist(data[\"sigma3\"], **hist_style)\n",
    "ax3.axvline(Δ_star.mass**2, label=f\"$m_{{{Δ_star.latex}}}$\", **line_style)\n",
    "for ax in axes:\n",
    "    ax.legend()\n",
    "\n",
    "fig.tight_layout()\n",
    "plt.show()"
   ]
  },
  {
   "cell_type": "markdown",
   "metadata": {},
   "source": [
    "### Polarization distributions"
   ]
  },
  {
   "cell_type": "markdown",
   "metadata": {},
   "source": [
    ":::{todo}\n",
    "\n",
    "Visualize $\\vec{\\alpha}(\\alpha, \\beta, \\gamma, m_{K\\pi}, m_{K\\pi})$ with [`ipywidgets`](https://ipywidgets.readthedocs.io).\n",
    "\n",
    ":::"
   ]
  }
 ],
 "metadata": {
  "kernelspec": {
   "display_name": "Python 3 (ipykernel)",
   "language": "python",
   "name": "python3"
  },
  "language_info": {
   "name": "python",
   "version": "3.8.13"
  }
 },
 "nbformat": 4,
 "nbformat_minor": 4
}
