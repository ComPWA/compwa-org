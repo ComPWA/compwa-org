{
 "cells": [
  {
   "cell_type": "code",
   "execution_count": null,
   "metadata": {
    "hideCode": true,
    "hideOutput": true,
    "hidePrompt": true,
    "jupyter": {
     "source_hidden": true
    },
    "slideshow": {
     "slide_type": "skip"
    },
    "tags": [
     "remove-cell"
    ]
   },
   "outputs": [],
   "source": [
    "import os\n",
    "\n",
    "STATIC_WEB_PAGE = {\"EXECUTE_NB\", \"READTHEDOCS\"}.intersection(os.environ)"
   ]
  },
  {
   "cell_type": "markdown",
   "metadata": {},
   "source": [
    "```{autolink-concat}\n",
    "```"
   ]
  },
  {
   "cell_type": "markdown",
   "metadata": {
    "editable": true,
    "slideshow": {
     "slide_type": ""
    },
    "tags": []
   },
   "source": [
    "::::{margin}\n",
    ":::{card} Square root Riemann sheets\n",
    "TR-025\n",
    ":::\n",
    "::::"
   ]
  },
  {
   "cell_type": "markdown",
   "metadata": {
    "editable": true,
    "slideshow": {
     "slide_type": ""
    },
    "tags": []
   },
   "source": [
    "# Rotating square root cuts"
   ]
  },
  {
   "cell_type": "code",
   "execution_count": null,
   "metadata": {
    "editable": true,
    "slideshow": {
     "slide_type": ""
    },
    "tags": [
     "remove-cell"
    ]
   },
   "outputs": [],
   "source": [
    "%pip install -q ampform==0.14.8 ipywidgets==8.1.1 sympy==1.12"
   ]
  },
  {
   "cell_type": "code",
   "execution_count": null,
   "metadata": {
    "editable": true,
    "jupyter": {
     "source_hidden": true
    },
    "slideshow": {
     "slide_type": ""
    },
    "tags": [
     "hide-cell"
    ]
   },
   "outputs": [],
   "source": [
    "%matplotlib widget\n",
    "from typing import Any\n",
    "\n",
    "import matplotlib.pyplot as plt\n",
    "import numpy as np\n",
    "import sympy as sp\n",
    "from ampform.io import aslatex\n",
    "from ampform.sympy import unevaluated\n",
    "from IPython.display import Math, display\n",
    "from ipywidgets import FloatSlider, VBox, interactive_output"
   ]
  },
  {
   "cell_type": "code",
   "execution_count": null,
   "metadata": {
    "editable": true,
    "jupyter": {
     "source_hidden": true
    },
    "slideshow": {
     "slide_type": ""
    },
    "tags": [
     "hide-input"
    ]
   },
   "outputs": [],
   "source": [
    "@unevaluated\n",
    "class RotatedSqrt(sp.Expr):\n",
    "    z: Any\n",
    "    phi: Any = 0\n",
    "    _latex_repr_ = R\"\\sqrt[{phi}]{{{z}}}\"\n",
    "\n",
    "    def evaluate(self) -> sp.Expr:\n",
    "        z, phi = self.args\n",
    "        return sp.exp(-phi * sp.I / 2) * sp.sqrt(z * sp.exp(phi * sp.I))\n",
    "\n",
    "\n",
    "z, phi = sp.symbols(\"z phi\")\n",
    "expr = RotatedSqrt(z, phi)\n",
    "Math(aslatex({expr: expr.doit(deep=False)}))"
   ]
  },
  {
   "cell_type": "code",
   "execution_count": null,
   "metadata": {
    "editable": true,
    "slideshow": {
     "slide_type": ""
    },
    "tags": []
   },
   "outputs": [],
   "source": [
    "symbols = (z, phi)\n",
    "func = sp.lambdify(symbols, expr.doit())"
   ]
  },
  {
   "cell_type": "code",
   "execution_count": null,
   "metadata": {
    "editable": true,
    "slideshow": {
     "slide_type": ""
    },
    "tags": [
     "hide-input"
    ]
   },
   "outputs": [],
   "source": [
    "fig, axes = plt.subplots(\n",
    "    figsize=(6, 8.5),\n",
    "    gridspec_kw=dict(\n",
    "        height_ratios=[1, 2],\n",
    "    ),\n",
    "    nrows=2,\n",
    ")\n",
    "ax1, ax2 = axes\n",
    "ax1.set_ylabel(f\"${sp.latex(expr)}$\")\n",
    "ax2.set_ylabel(\"$\\mathrm{Im}\\,z$\")\n",
    "ax2.axhline(0, c=\"black\", ls=\"dotted\", zorder=99)\n",
    "for ax in axes:\n",
    "    ax.set_xlabel(\"$\\mathrm{Re}\\,z$\")\n",
    "    ax.set_xticks([-1, 0, +1])\n",
    "ax2.set_yticks([-1, 0, +1])\n",
    "\n",
    "data = None\n",
    "x = np.linspace(-1, +1, num=400)\n",
    "X, Y = np.meshgrid(x, x)\n",
    "Z = X + Y * 1j\n",
    "\n",
    "sliders = dict(\n",
    "    phi=FloatSlider(\n",
    "        min=-3 * np.pi,\n",
    "        max=+3 * np.pi,\n",
    "        step=np.pi / 8,\n",
    "        description=\"phi\",\n",
    "    ),\n",
    ")\n",
    "\n",
    "\n",
    "def plot(phi):\n",
    "    global data\n",
    "    ax1.set_title(Rf\"${sp.latex(expr)} \\qquad \\phi={phi / np.pi:.4g}\\pi$\")\n",
    "    t = func(x, phi)\n",
    "    T = func(Z, phi)\n",
    "    if data is None:\n",
    "        data = {\n",
    "            \"real\": ax1.plot(x, t.real, label=\"real\")[0],\n",
    "            \"imag\": ax1.plot(x, t.imag, label=\"imag\")[0],\n",
    "            \"2D\": ax2.pcolormesh(X, Y, T.imag, cmap=plt.cm.coolwarm),\n",
    "        }\n",
    "    else:\n",
    "        data[\"real\"].set_ydata(t.real)\n",
    "        data[\"imag\"].set_ydata(t.imag)\n",
    "        data[\"2D\"].set_array(T.imag)\n",
    "    data[\"2D\"].set_clim(vmin=-1, vmax=+1)\n",
    "    ax1.set_ylim(-1.2, +1.2)\n",
    "    fig.canvas.draw_idle()\n",
    "\n",
    "\n",
    "ui = VBox(tuple(sliders.values()))\n",
    "output = interactive_output(plot, controls=sliders)\n",
    "ax1.legend(loc=\"lower left\")\n",
    "cbar = plt.colorbar(data[\"2D\"], ax=ax2, pad=0.02)\n",
    "cbar.ax.set_yticks([-1, 0, +1])\n",
    "cbar.ax.set_ylabel(f\"${sp.latex(expr)}$\")\n",
    "fig.tight_layout()\n",
    "display(ui, output)"
   ]
  }
 ],
 "metadata": {
  "colab": {
   "toc_visible": true
  },
  "kernelspec": {
   "display_name": "Python 3 (ipykernel)",
   "language": "python",
   "name": "python3"
  },
  "language_info": {
   "codemirror_mode": {
    "name": "ipython",
    "version": 3
   },
   "file_extension": ".py",
   "mimetype": "text/x-python",
   "name": "python",
   "nbconvert_exporter": "python",
   "pygments_lexer": "ipython3",
   "version": "3.8.18"
  }
 },
 "nbformat": 4,
 "nbformat_minor": 4
}
