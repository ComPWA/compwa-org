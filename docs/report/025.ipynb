{
 "cells": [
  {
   "cell_type": "code",
   "execution_count": null,
   "metadata": {
    "hideCode": true,
    "hideOutput": true,
    "hidePrompt": true,
    "jupyter": {
     "source_hidden": true
    },
    "slideshow": {
     "slide_type": "skip"
    },
    "tags": [
     "remove-cell"
    ]
   },
   "outputs": [],
   "source": [
    "import os\n",
    "\n",
    "STATIC_WEB_PAGE = {\"EXECUTE_NB\", \"READTHEDOCS\"}.intersection(os.environ)"
   ]
  },
  {
   "cell_type": "markdown",
   "metadata": {},
   "source": [
    "```{autolink-concat}\n",
    "```"
   ]
  },
  {
   "cell_type": "markdown",
   "metadata": {
    "editable": true,
    "slideshow": {
     "slide_type": ""
    },
    "tags": []
   },
   "source": [
    "::::{margin}\n",
    ":::{card} Rotated square root cut\n",
    "TR-025\n",
    ":::\n",
    "::::"
   ]
  },
  {
   "cell_type": "markdown",
   "metadata": {
    "editable": true,
    "slideshow": {
     "slide_type": ""
    },
    "tags": []
   },
   "source": [
    "# Rotating square root cuts"
   ]
  },
  {
   "cell_type": "code",
   "execution_count": null,
   "metadata": {
    "editable": true,
    "slideshow": {
     "slide_type": ""
    },
    "tags": [
     "remove-cell"
    ]
   },
   "outputs": [],
   "source": [
    "%pip install -q ampform==0.14.8 ipywidgets==8.1.1 plotly==5.18.0 sympy==1.12"
   ]
  },
  {
   "cell_type": "code",
   "execution_count": null,
   "metadata": {
    "editable": true,
    "jupyter": {
     "source_hidden": true
    },
    "slideshow": {
     "slide_type": ""
    },
    "tags": [
     "hide-cell"
    ]
   },
   "outputs": [],
   "source": [
    "%matplotlib widget\n",
    "from typing import Any\n",
    "\n",
    "import matplotlib.pyplot as plt\n",
    "import numpy as np\n",
    "import plotly.graph_objects as go\n",
    "import sympy as sp\n",
    "from ampform.io import aslatex\n",
    "from ampform.sympy import unevaluated\n",
    "from IPython.display import Math, display\n",
    "from ipywidgets import FloatSlider, VBox, interactive_output"
   ]
  },
  {
   "cell_type": "markdown",
   "metadata": {
    "editable": true,
    "slideshow": {
     "slide_type": ""
    },
    "tags": []
   },
   "source": [
    "There are multiple solutions for $x$ to the equation $y^2 = x$. The fact that we usually take $y = \\sqrt{x}$ with $\\sqrt{-1} = i$ to be 'the' solution to this equation is just a matter of convention. It would be more complete to represent the solution as a set of points in the complex plane, that is, the set $S = \\left\\{\\left(z, w\\right)\\in\\mathbb{C}^2 | w^2=z\\right\\}$. This is set forms a **Riemann surface** in $\\mathbb{C}^2$ space.\n",
    "\n",
    "::::{margin}\n",
    ":::{seealso} [Lecture 17](https://compwa.github.io/strong2020-salamanca/lecture17.html) on collision theory of the [STRONG2020 HaSP School](https://indico.ific.uv.es/event/6803) by Miguel Albaladejo.\n",
    "<!-- cspell:ignore Albaladejo -->\n",
    ":::\n",
    "::::"
   ]
  },
  {
   "cell_type": "markdown",
   "metadata": {
    "editable": true,
    "slideshow": {
     "slide_type": ""
    },
    "tags": []
   },
   "source": [
    "In the figure below we see the Riemann surface of a square root in $\\mathbb{C}^2$&nbsp;space. The $xy$&nbsp;plane forms the complex domain $\\mathbb{C}$, the $z$&nbsp;axis indicates the imaginary part of the Riemann surface and the color indicates the real part."
   ]
  },
  {
   "cell_type": "code",
   "execution_count": null,
   "metadata": {
    "editable": true,
    "jupyter": {
     "source_hidden": true
    },
    "slideshow": {
     "slide_type": ""
    },
    "tags": [
     "hide-input",
     "scroll-input"
    ]
   },
   "outputs": [],
   "source": [
    "resolution = 50\n",
    "R, Θ = np.meshgrid(\n",
    "    np.linspace(0, 1, num=resolution),\n",
    "    np.linspace(-np.pi, +np.pi, num=resolution),\n",
    ")\n",
    "X = R * np.cos(Θ)\n",
    "Y = R * np.sin(Θ)\n",
    "Z = X + Y * 1j\n",
    "T = np.sqrt(Z)\n",
    "style = lambda t: dict(\n",
    "    cmin=-1,\n",
    "    cmax=+1,\n",
    "    colorscale=\"RdBu_r\",\n",
    "    surfacecolor=t.real,\n",
    ")\n",
    "fig = go.Figure([\n",
    "    go.Surface(x=X, y=Y, z=+T.imag, **style(+T), name=\"+√z\"),\n",
    "    go.Surface(x=X, y=Y, z=-T.imag, **style(-T), name=\"-√z\", showscale=False),\n",
    "])\n",
    "fig.update_traces(selector=0, colorbar=dict(title=\"Re ±√z\"))\n",
    "fig.update_layout(\n",
    "    height=600,\n",
    "    scene=dict(\n",
    "        xaxis_title=\"Re z\",\n",
    "        yaxis_title=\"Im z\",\n",
    "        zaxis_title=\"Im ±√z\",\n",
    "    ),\n",
    "    title_text=\"Riemann surface of a square root\",\n",
    "    title_x=0.5,\n",
    ")\n",
    "fig.show()"
   ]
  },
  {
   "cell_type": "code",
   "execution_count": null,
   "metadata": {
    "editable": true,
    "jupyter": {
     "source_hidden": true
    },
    "slideshow": {
     "slide_type": ""
    },
    "tags": [
     "hide-input"
    ]
   },
   "outputs": [],
   "source": [
    "@unevaluated\n",
    "class RotatedSqrt(sp.Expr):\n",
    "    z: Any\n",
    "    phi: Any = 0\n",
    "    _latex_repr_ = R\"\\sqrt[{phi}]{{{z}}}\"\n",
    "\n",
    "    def evaluate(self) -> sp.Expr:\n",
    "        z, phi = self.args\n",
    "        return sp.exp(-phi * sp.I / 2) * sp.sqrt(z * sp.exp(phi * sp.I))\n",
    "\n",
    "\n",
    "z, phi = sp.symbols(\"z phi\")\n",
    "expr = RotatedSqrt(z, phi)\n",
    "Math(aslatex({expr: expr.doit(deep=False)}))"
   ]
  },
  {
   "cell_type": "code",
   "execution_count": null,
   "metadata": {
    "editable": true,
    "slideshow": {
     "slide_type": ""
    },
    "tags": []
   },
   "outputs": [],
   "source": [
    "symbols = (z, phi)\n",
    "func = sp.lambdify(symbols, expr.doit())"
   ]
  },
  {
   "cell_type": "code",
   "execution_count": null,
   "metadata": {
    "editable": true,
    "jupyter": {
     "source_hidden": true
    },
    "slideshow": {
     "slide_type": ""
    },
    "tags": [
     "hide-input"
    ]
   },
   "outputs": [],
   "source": [
    "mpl_fig, axes = plt.subplots(\n",
    "    figsize=(6, 8.5),\n",
    "    gridspec_kw=dict(\n",
    "        height_ratios=[1, 2],\n",
    "    ),\n",
    "    nrows=2,\n",
    ")\n",
    "ax1, ax2 = axes\n",
    "ax1.set_ylabel(f\"${sp.latex(expr)}$\")\n",
    "ax2.set_ylabel(\"$\\mathrm{Im}\\,z$\")\n",
    "ax2.axhline(0, c=\"black\", ls=\"dotted\", zorder=99)\n",
    "for ax in axes:\n",
    "    ax.set_xlabel(\"$\\mathrm{Re}\\,z$\")\n",
    "    ax.set_xticks([-1, 0, +1])\n",
    "ax2.set_yticks([-1, 0, +1])\n",
    "\n",
    "data = None\n",
    "x_mpl = np.linspace(-1, +1, num=400)\n",
    "X_mpl, Y_mpl = np.meshgrid(x_mpl, x_mpl)\n",
    "Z_mpl = X_mpl + Y_mpl * 1j\n",
    "\n",
    "sliders = dict(\n",
    "    phi=FloatSlider(\n",
    "        min=-3 * np.pi,\n",
    "        max=+3 * np.pi,\n",
    "        step=np.pi / 8,\n",
    "        description=\"phi\",\n",
    "    ),\n",
    ")\n",
    "\n",
    "\n",
    "def plot(phi):\n",
    "    global data\n",
    "    ax1.set_title(Rf\"${sp.latex(expr)} \\qquad \\phi={phi / np.pi:.4g}\\pi$\")\n",
    "    t_mpl = func(x_mpl, phi)\n",
    "    T_mpl = func(Z_mpl, phi)\n",
    "    if data is None:\n",
    "        data = {\n",
    "            \"real\": ax1.plot(x_mpl, t_mpl.real, label=\"real\")[0],\n",
    "            \"imag\": ax1.plot(x_mpl, t_mpl.imag, label=\"imag\")[0],\n",
    "            \"2D\": ax2.pcolormesh(X_mpl, Y_mpl, T_mpl.imag, cmap=plt.cm.coolwarm),\n",
    "        }\n",
    "    else:\n",
    "        data[\"real\"].set_ydata(t_mpl.real)\n",
    "        data[\"imag\"].set_ydata(t_mpl.imag)\n",
    "        data[\"2D\"].set_array(T_mpl.imag)\n",
    "    data[\"2D\"].set_clim(vmin=-1, vmax=+1)\n",
    "    ax1.set_ylim(-1.2, +1.2)\n",
    "    mpl_fig.canvas.draw_idle()\n",
    "\n",
    "\n",
    "ui = VBox(tuple(sliders.values()))\n",
    "output = interactive_output(plot, controls=sliders)\n",
    "ax1.legend(loc=\"lower left\")\n",
    "cbar = plt.colorbar(data[\"2D\"], ax=ax2, pad=0.02)\n",
    "cbar.ax.set_yticks([-1, 0, +1])\n",
    "cbar.ax.set_ylabel(f\"${sp.latex(expr)}$\")\n",
    "mpl_fig.tight_layout()\n",
    "display(ui, output)"
   ]
  }
 ],
 "metadata": {
  "colab": {
   "toc_visible": true
  },
  "kernelspec": {
   "display_name": "Python 3 (ipykernel)",
   "language": "python",
   "name": "python3"
  },
  "language_info": {
   "codemirror_mode": {
    "name": "ipython",
    "version": 3
   },
   "file_extension": ".py",
   "mimetype": "text/x-python",
   "name": "python",
   "nbconvert_exporter": "python",
   "pygments_lexer": "ipython3",
   "version": "3.10.13"
  }
 },
 "nbformat": 4,
 "nbformat_minor": 4
}
