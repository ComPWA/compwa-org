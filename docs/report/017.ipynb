{
 "cells": [
  {
   "cell_type": "code",
   "execution_count": null,
   "metadata": {
    "hideCode": true,
    "hideOutput": true,
    "hidePrompt": true,
    "jupyter": {
     "source_hidden": true
    },
    "slideshow": {
     "slide_type": "skip"
    },
    "tags": [
     "remove-cell"
    ]
   },
   "outputs": [],
   "source": [
    "%config InlineBackend.figure_formats = ['svg']\n",
    "import os\n",
    "\n",
    "STATIC_WEB_PAGE = {\"EXECUTE_NB\", \"READTHEDOCS\"}.intersection(os.environ)"
   ]
  },
  {
   "cell_type": "markdown",
   "metadata": {},
   "source": [
    "```{autolink-concat}\n",
    "```"
   ]
  },
  {
   "cell_type": "markdown",
   "metadata": {},
   "source": [
    "# [TR-017] Polarization sensitivity"
   ]
  },
  {
   "cell_type": "markdown",
   "metadata": {},
   "source": [
    "<!-- cspell:ignore mmikhasenko msigma nanmax nanmean nanstd Remco -->\n",
    "\n",
    ":::{epigraph}\n",
    "\n",
    "Mikhail Mikhasenko [@mmikhasenko](https://github.com/mmikhasenko), Remco de Boer [@redeboer](https://github.com/redeboer)\n",
    "\n",
    ":::\n",
    "\n",
    "\n",
    "\n",
    "```{warning}\n",
    "This report is Work-in-Progress.\n",
    "```\n",
    "\n",
    "```{autolink-skip}\n",
    "```"
   ]
  },
  {
   "cell_type": "code",
   "execution_count": null,
   "metadata": {
    "jupyter": {
     "source_hidden": true
    },
    "tags": [
     "hide-input",
     "remove-output"
    ]
   },
   "outputs": [],
   "source": [
    "%pip -q install ampform==0.14.0 qrules==0.9.7 sympy==1.10.1 tensorwaves[jax,pwa]==0.4.5"
   ]
  },
  {
   "cell_type": "markdown",
   "metadata": {},
   "source": [
    "This report is an attempt to formulate [this report](https://www.overleaf.com/7229968911cjshysdbfjtj) [behind login] on polarization sensitivity in $\\Lambda_c \\to p\\pi K$ with [SymPy](https://docs.sympy.org) and [TensorWaves](https://tensorwaves.rtfd.io)."
   ]
  },
  {
   "cell_type": "code",
   "execution_count": null,
   "metadata": {
    "jupyter": {
     "source_hidden": true
    },
    "tags": [
     "hide-cell"
    ]
   },
   "outputs": [],
   "source": [
    "from __future__ import annotations\n",
    "\n",
    "import itertools\n",
    "import logging\n",
    "from functools import partial\n",
    "\n",
    "import matplotlib.pyplot as plt\n",
    "import numpy as np\n",
    "import qrules\n",
    "import sympy as sp\n",
    "from ampform.sympy import (\n",
    "    PoolSum,\n",
    "    UnevaluatedExpression,\n",
    "    create_expression,\n",
    "    implement_doit_method,\n",
    "    make_commutative,\n",
    ")\n",
    "from attrs import frozen\n",
    "from IPython.display import HTML, Math, display\n",
    "from ipywidgets import HBox, HTMLMath, Tab, VBox, interactive_output\n",
    "from matplotlib import cm\n",
    "from matplotlib.colors import LogNorm\n",
    "from qrules.particle import Particle\n",
    "from symplot import create_slider\n",
    "from sympy.physics.matrices import msigma\n",
    "from sympy.physics.quantum.spin import Rotation as Wigner\n",
    "\n",
    "LOGGER = logging.getLogger()\n",
    "LOGGER.setLevel(logging.ERROR)\n",
    "\n",
    "PDG = qrules.load_pdg()\n",
    "\n",
    "\n",
    "def display_definitions(definitions: dict[sp.Symbol, sp.Expr]) -> None:\n",
    "    latex = R\"\\begin{array}{rcl}\" + \"\\n\"\n",
    "    for symbol, expr in definitions.items():\n",
    "        symbol = sp.sympify(symbol)\n",
    "        expr = sp.sympify(expr)\n",
    "        lhs = sp.latex(symbol)\n",
    "        rhs = sp.latex(expr)\n",
    "        latex += Rf\"  {lhs} & = & {rhs} \\\\\" + \"\\n\"\n",
    "    latex += R\"\\end{array}\"\n",
    "    display(Math(latex))\n",
    "\n",
    "\n",
    "def display_doit(\n",
    "    expr: UnevaluatedExpression, deep=False, terms_per_line: int = 10\n",
    ") -> None:\n",
    "    latex = sp.multiline_latex(\n",
    "        lhs=expr,\n",
    "        rhs=expr.doit(deep=deep),\n",
    "        terms_per_line=terms_per_line,\n",
    "        environment=\"eqnarray\",\n",
    "    )\n",
    "    display(Math(latex))\n",
    "\n",
    "\n",
    "# hack for moving Indexed indices below superscript of the base\n",
    "def _print_Indexed_latex(self, printer, *args):\n",
    "    base = printer._print(self.base)\n",
    "    indices = \", \".join(map(printer._print, self.indices))\n",
    "    return f\"{base}_{{{indices}}}\"\n",
    "\n",
    "\n",
    "sp.Indexed._latex = _print_Indexed_latex"
   ]
  },
  {
   "cell_type": "markdown",
   "metadata": {
    "tags": []
   },
   "source": [
    "## Amplitude model"
   ]
  },
  {
   "cell_type": "markdown",
   "metadata": {},
   "source": [
    "Naming convention: $\\Lambda_c(\\mathbf{0}) \\to p(\\mathbf{1}) \\pi(\\mathbf{2}) K(\\mathbf{3})$\n",
    "- **Chain 1**: $K^{**} \\to \\pi K(23)$\n",
    "- **Chain 2**: $\\Lambda^{**} \\to pK(31)$\n",
    "- **Chain 3**: $\\Delta^{**} \\to p\\pi(12)$\n",
    "\n",
    "'Chain 0' is the sum of the three chains."
   ]
  },
  {
   "cell_type": "code",
   "execution_count": null,
   "metadata": {
    "jupyter": {
     "source_hidden": true
    },
    "tags": []
   },
   "outputs": [],
   "source": [
    "Λc = PDG[\"Lambda(c)+\"]\n",
    "p = PDG[\"p\"]\n",
    "K = PDG[\"K-\"]\n",
    "π = PDG[\"pi+\"]\n",
    "decay_products = {\n",
    "    1: (π, K),\n",
    "    2: (p, K),\n",
    "    3: (p, π),\n",
    "}\n",
    "chain_ids = {\n",
    "    1: \"K^{**}\",\n",
    "    2: R\"\\Lambda^{**}\",\n",
    "    3: R\"\\Delta^{**}\",\n",
    "}"
   ]
  },
  {
   "cell_type": "markdown",
   "metadata": {},
   "source": [
    "### Aligned amplitude"
   ]
  },
  {
   "cell_type": "code",
   "execution_count": null,
   "metadata": {
    "### er": {
     "source_hidden": true
    },
    "tags": [
     "full-width",
     "hide-input"
    ]
   },
   "outputs": [],
   "source": [
    "A_K = sp.IndexedBase(R\"A^K\")\n",
    "A_Λ = sp.IndexedBase(R\"A^{\\Lambda}\")\n",
    "A_Δ = sp.IndexedBase(R\"A^{\\Delta}\")\n",
    "\n",
    "half = sp.S.Half\n",
    "\n",
    "ζ_0_11 = sp.Symbol(R\"\\zeta^0_{1(1)}\", real=True)\n",
    "ζ_0_21 = sp.Symbol(R\"\\zeta^0_{2(1)}\", real=True)\n",
    "ζ_0_31 = sp.Symbol(R\"\\zeta^0_{3(1)}\", real=True)\n",
    "ζ_1_11 = sp.Symbol(R\"\\zeta^1_{1(1)}\", real=True)\n",
    "ζ_1_21 = sp.Symbol(R\"\\zeta^1_{2(1)}\", real=True)\n",
    "ζ_1_31 = sp.Symbol(R\"\\zeta^1_{3(1)}\", real=True)\n",
    "\n",
    "\n",
    "def formulate_aligned_amplitude(λ_Λc, λ_p):\n",
    "    _ν = sp.Symbol(R\"\\nu^{\\prime}\", rational=True)\n",
    "    _λ = sp.Symbol(R\"\\lambda^{\\prime}\", rational=True)\n",
    "    return PoolSum(\n",
    "        A_K[_ν, _λ]\n",
    "        * Wigner.d(half, λ_Λc, _ν, ζ_0_11)\n",
    "        * Wigner.d(half, _λ, λ_p, ζ_1_11)\n",
    "        + A_Λ[_ν, _λ]\n",
    "        * Wigner.d(half, λ_Λc, _ν, ζ_0_21)\n",
    "        * Wigner.d(half, _λ, λ_p, ζ_1_21)\n",
    "        + A_Δ[_ν, _λ]\n",
    "        * Wigner.d(half, λ_Λc, _ν, ζ_0_31)\n",
    "        * Wigner.d(half, _λ, λ_p, ζ_1_31),\n",
    "        (_λ, [-half, +half]),\n",
    "        (_ν, [-half, +half]),\n",
    "    )\n",
    "\n",
    "\n",
    "ν = sp.Symbol(\"nu\")\n",
    "λ = sp.Symbol(\"lambda\")\n",
    "formulate_aligned_amplitude(λ_Λc=ν, λ_p=λ)"
   ]
  },
  {
   "cell_type": "markdown",
   "metadata": {},
   "source": [
    "### Dynamics"
   ]
  },
  {
   "cell_type": "code",
   "execution_count": null,
   "metadata": {
    "jupyter": {
     "source_hidden": true
    },
    "tags": [
     "hide-input"
    ]
   },
   "outputs": [],
   "source": [
    "@make_commutative\n",
    "@implement_doit_method\n",
    "class BlattWeisskopf(UnevaluatedExpression):\n",
    "    def __new__(cls, z, L, **hints):\n",
    "        return create_expression(cls, z, L, **hints)\n",
    "\n",
    "    def evaluate(self):\n",
    "        z, L = self.args\n",
    "        cases = {\n",
    "            0: 1,\n",
    "            1: 1 / (1 + z**2),\n",
    "            2: 1 / (9 + 3 * z**2 + z**4),\n",
    "        }\n",
    "        return sp.Piecewise(\n",
    "            *[\n",
    "                (sp.sqrt(expr), sp.Eq(L, l_val))\n",
    "                for l_val, expr in cases.items()\n",
    "            ]\n",
    "        )\n",
    "\n",
    "    def _latex(self, printer, *args):\n",
    "        z, L = map(printer._print, self.args)\n",
    "        return Rf\"F_{{{L}}}\\left({z}\\right)\"\n",
    "\n",
    "\n",
    "z = sp.Symbol(\"z\", positive=True)\n",
    "L = sp.Symbol(\"L\", integer=True, nonnegative=True)\n",
    "latex = sp.multiline_latex(BlattWeisskopf(z, L), BlattWeisskopf(z, L).doit())\n",
    "Math(latex)"
   ]
  },
  {
   "cell_type": "code",
   "execution_count": null,
   "metadata": {
    "jupyter": {
     "source_hidden": true
    },
    "tags": [
     "hide-input"
    ]
   },
   "outputs": [],
   "source": [
    "@make_commutative\n",
    "@implement_doit_method\n",
    "class Källén(UnevaluatedExpression):\n",
    "    def __new__(cls, x, y, z, **hints):\n",
    "        return create_expression(cls, x, y, z, **hints)\n",
    "\n",
    "    def evaluate(self) -> sp.Expr:\n",
    "        x, y, z = self.args\n",
    "        return x**2 + y**2 + z**2 - 2 * x * y - 2 * y * z - 2 * z * x\n",
    "\n",
    "    def _latex(self, printer, *args):\n",
    "        x, y, z = map(printer._print, self.args)\n",
    "        return Rf\"\\lambda\\left({x}, {y}, {z}\\right)\"\n",
    "\n",
    "\n",
    "x, y, z = sp.symbols(\"x:z\")\n",
    "display_doit(Källén(x, y, z))"
   ]
  },
  {
   "cell_type": "code",
   "execution_count": null,
   "metadata": {
    "jupyter": {
     "source_hidden": true
    },
    "tags": [
     "hide-input"
    ]
   },
   "outputs": [],
   "source": [
    "@make_commutative\n",
    "@implement_doit_method\n",
    "class P(UnevaluatedExpression):\n",
    "    def __new__(cls, s, mi, mj, **hints):\n",
    "        return create_expression(cls, s, mi, mj, **hints)\n",
    "\n",
    "    def evaluate(self):\n",
    "        s, mi, mj = self.args\n",
    "        return sp.sqrt(Källén(s, mi**2, mj**2)) / (2 * sp.sqrt(s))\n",
    "\n",
    "    def _latex(self, printer, *args):\n",
    "        s = printer._print(self.args[0])\n",
    "        return Rf\"p_{{{s}}}\"\n",
    "\n",
    "\n",
    "@make_commutative\n",
    "@implement_doit_method\n",
    "class Q(UnevaluatedExpression):\n",
    "    def __new__(cls, s, m0, mk, **hints):\n",
    "        return create_expression(cls, s, m0, mk, **hints)\n",
    "\n",
    "    def evaluate(self):\n",
    "        s, m0, mk = self.args\n",
    "        return sp.sqrt(Källén(s, m0**2, mk**2)) / (2 * m0)  # <-- not s!\n",
    "\n",
    "    def _latex(self, printer, *args):\n",
    "        s = printer._print(self.args[0])\n",
    "        return Rf\"q_{{{s}}}\"\n",
    "\n",
    "\n",
    "s, m0, mi, mj, mk = sp.symbols(\"s m0 m_i:k\", nonnegative=True)\n",
    "display_doit(P(s, mi, mj))\n",
    "display_doit(Q(s, m0, mk))"
   ]
  },
  {
   "cell_type": "code",
   "execution_count": null,
   "metadata": {
    "jupyter": {
     "source_hidden": true
    },
    "tags": [
     "hide-input"
    ]
   },
   "outputs": [],
   "source": [
    "R = sp.Symbol(\"R\")\n",
    "parameter_defaults = {\n",
    "    R: 5,  # GeV^{-1} (length factor)\n",
    "}\n",
    "\n",
    "\n",
    "@make_commutative\n",
    "@implement_doit_method\n",
    "class EnergyDependentWidth(UnevaluatedExpression):\n",
    "    def __new__(cls, s, m0, Γ0, m1, m2, L, R):\n",
    "        return create_expression(cls, s, m0, Γ0, m1, m2, L, R)\n",
    "\n",
    "    def evaluate(self):\n",
    "        s, m0, Γ0, m1, m2, L, R = self.args\n",
    "        p = P(s, m1, m2)\n",
    "        p0 = P(m0**2, m1, m2)\n",
    "        ff = BlattWeisskopf(p * R, L) ** 2\n",
    "        ff0 = BlattWeisskopf(p0 * R, L) ** 2\n",
    "        return sp.Mul(\n",
    "            Γ0,\n",
    "            (p / p0) ** (2 * L + 1),\n",
    "            m0 / sp.sqrt(s),\n",
    "            ff / ff0,\n",
    "            evaluate=False,\n",
    "        )\n",
    "\n",
    "    def _latex(self, printer, *args) -> str:\n",
    "        s = printer._print(self.args[0])\n",
    "        return Rf\"\\Gamma\\left({s}\\right)\"\n",
    "\n",
    "\n",
    "l_R = sp.Symbol(\"l_R\", integer=True, positive=True)\n",
    "m, Γ0, m1, m2 = sp.symbols(\"m Γ0 m1 m2\", nonnegative=True)\n",
    "display_doit(EnergyDependentWidth(s, m, Γ0, m1, m2, l_R, R))"
   ]
  },
  {
   "cell_type": "code",
   "execution_count": null,
   "metadata": {
    "jupyter": {
     "source_hidden": true
    },
    "tags": [
     "hide-input"
    ]
   },
   "outputs": [],
   "source": [
    "@make_commutative\n",
    "@implement_doit_method\n",
    "class RelativisticBreitWigner(UnevaluatedExpression):\n",
    "    def __new__(cls, s, m0, Γ0, m1, m2, l_R, l_Λc, R):\n",
    "        return create_expression(cls, s, m0, Γ0, m1, m2, l_R, l_Λc, R)\n",
    "\n",
    "    def evaluate(self):\n",
    "        s, m0, Γ0, m1, m2, l_R, l_Λc, R = self.args\n",
    "        q = Q(s, m1, m2)\n",
    "        q0 = Q(m0**2, m1, m2)\n",
    "        p = P(s, m1, m2)\n",
    "        p0 = P(m0**2, m1, m2)\n",
    "        width = EnergyDependentWidth(s, m0, Γ0, m1, m2, l_R, R)\n",
    "        return sp.Mul(\n",
    "            (q / q0) ** l_Λc,\n",
    "            BlattWeisskopf(q * R, l_Λc) / BlattWeisskopf(q0 * R, l_Λc),\n",
    "            1 / (m0**2 - s - sp.I * m0 * width),\n",
    "            (p / p0) ** l_R,\n",
    "            BlattWeisskopf(p * R, l_R) / BlattWeisskopf(p0 * R, l_R),\n",
    "            evaluate=False,\n",
    "        )\n",
    "\n",
    "    def _latex(self, printer, *args) -> str:\n",
    "        s = printer._print(self.args[0])\n",
    "        return Rf\"\\mathcal{{R}}\\left({s}\\right)\"\n",
    "\n",
    "\n",
    "l_Λc = sp.Symbol(R\"l_{\\Lambda_c}\", integer=True, positive=True)\n",
    "display_doit(RelativisticBreitWigner(s, m, Γ0, m1, m2, l_R, l_Λc, R))"
   ]
  },
  {
   "cell_type": "markdown",
   "metadata": {},
   "source": [
    "### Decay chain amplitudes"
   ]
  },
  {
   "cell_type": "code",
   "execution_count": null,
   "metadata": {
    "jupyter": {
     "source_hidden": true
    },
    "tags": [
     "hide-input"
    ]
   },
   "outputs": [],
   "source": [
    "@frozen\n",
    "class Resonance:\n",
    "    particle: Particle\n",
    "    l_R: int\n",
    "    l_Λc: int\n",
    "\n",
    "\n",
    "resonance_choices = {\n",
    "    1: [Resonance(PDG[\"K*(892)0\"], l_R=1, l_Λc=0)],\n",
    "    2: [Resonance(PDG[\"Lambda(1520)\"], l_R=1, l_Λc=1)],\n",
    "    3: [Resonance(PDG[\"Delta(1232)++\"], l_R=2, l_Λc=1)],\n",
    "}\n",
    "\n",
    "\n",
    "def jp(particle: Particle):\n",
    "    p = \"+\" if particle.parity > 0 else \"-\"\n",
    "    j = sp.Rational(particle.spin)\n",
    "    return Rf\"\\({j}^{p}\\)\"\n",
    "\n",
    "\n",
    "def create_html_table_row(*items, typ=\"td\"):\n",
    "    items = map(lambda i: f\"<{typ}>{i}</{typ}>\", items)\n",
    "    return \"<tr>\" + \"\".join(items) + \"</tr>\\n\"\n",
    "\n",
    "\n",
    "column_names = [\n",
    "    \"resonance\",\n",
    "    R\"\\(j^P\\)\",\n",
    "    R\"\\(m\\) (MeV)\",\n",
    "    R\"\\(\\Gamma_0\\) (MeV)\",\n",
    "    R\"\\(l_R\\)\",\n",
    "]\n",
    "src = \"<table>\\n\"\n",
    "src += create_html_table_row(*column_names, typ=\"th\")\n",
    "for chain_id, resonance_list in resonance_choices.items():\n",
    "    child1, child2 = decay_products[chain_id]\n",
    "    for resonance in resonance_list:\n",
    "        src += create_html_table_row(\n",
    "            Rf\"\\({resonance.particle.latex} \\to\"\n",
    "            rf\" {child1.latex} {child2.latex}\\)\",\n",
    "            jp(resonance.particle),\n",
    "            int(1e3 * resonance.particle.mass),\n",
    "            int(1e3 * resonance.particle.width),\n",
    "            resonance.l_R,\n",
    "        )\n",
    "src += \"</table>\\n\"\n",
    "HTML(src)"
   ]
  },
  {
   "cell_type": "code",
   "execution_count": null,
   "metadata": {
    "jupyter": {
     "source_hidden": true
    },
    "tags": [
     "scroll-input",
     "hide-input"
    ]
   },
   "outputs": [],
   "source": [
    "def formulate_chain_amplitude(chain_id: int, λ_Λc, λ_p):\n",
    "    resonances = resonance_choices[chain_id]\n",
    "    if chain_id == 1:\n",
    "        return formulate_K_amplitude(λ_Λc, λ_p, resonances)\n",
    "    if chain_id == 2:\n",
    "        return formulate_Λ_amplitude(λ_Λc, λ_p, resonances)\n",
    "    if chain_id == 3:\n",
    "        return formulate_Δ_amplitude(λ_Λc, λ_p, resonances)\n",
    "    raise NotImplementedError\n",
    "\n",
    "\n",
    "H_K_prod = sp.IndexedBase(R\"\\mathcal{H}^{\\Lambda_c \\to K^{**}p}\")\n",
    "H_K_dec = sp.IndexedBase(R\"\\mathcal{H}^{K^{**} \\to \\pi K}\")\n",
    "H_Λ_prod = sp.IndexedBase(R\"\\mathcal{H}^{\\Lambda_c \\to \\Lambda^{**}\\pi}\")\n",
    "H_Λ_dec = sp.IndexedBase(R\"\\mathcal{H}^{\\Lambda^{**} \\to K p}\")\n",
    "H_Δ_prod = sp.IndexedBase(R\"\\mathcal{H}^{\\Lambda_c \\to \\Delta^{**}K}\")\n",
    "H_Δ_dec = sp.IndexedBase(R\"\\mathcal{H}^{\\Delta^{**} \\to p \\pi}\")\n",
    "\n",
    "θ23 = sp.Symbol(\"theta23\", real=True)\n",
    "θ31 = sp.Symbol(\"theta31\", real=True)\n",
    "θ12 = sp.Symbol(\"theta12\", real=True)\n",
    "\n",
    "σ1, σ2, σ3 = sp.symbols(\"sigma1:4\", nonnegative=True)\n",
    "m1, m2, m3 = sp.symbols(R\"m_p m_pi m_K\", nonnegative=True)\n",
    "\n",
    "\n",
    "def formulate_K_amplitude(λ_Λc, λ_p, resonances: list[Resonance]):\n",
    "    τ = sp.Symbol(\"tau\", rational=True)\n",
    "    return sp.Add(\n",
    "        *[\n",
    "            PoolSum(\n",
    "                sp.KroneckerDelta(λ_Λc, τ - λ_p)\n",
    "                * H_K_prod[τ, λ_p]\n",
    "                * formulate_dynamics(res, σ1, m2, m3)\n",
    "                * (-1) ** (half - λ_p)\n",
    "                * Wigner.d(sp.Rational(res.particle.spin), τ, 0, θ23)\n",
    "                * H_K_dec[0, 0],\n",
    "                (τ, create_spin_range(res.particle.spin)),\n",
    "            )\n",
    "            for res in resonances\n",
    "        ]\n",
    "    )\n",
    "\n",
    "\n",
    "def formulate_Λ_amplitude(λ_Λc, λ_p, resonances: list[Resonance]):\n",
    "    τ = sp.Symbol(\"tau\", rational=True)\n",
    "    return sp.Add(\n",
    "        *[\n",
    "            PoolSum(\n",
    "                sp.KroneckerDelta(λ_Λc, τ)\n",
    "                * H_Λ_prod[τ, 0]\n",
    "                * formulate_dynamics(res, σ2, m1, m3)\n",
    "                * Wigner.d(sp.Rational(res.particle.spin), τ, -λ_p, θ31)\n",
    "                * H_Λ_dec[0, λ_p]\n",
    "                * (-1) ** (half - λ_p),\n",
    "                (τ, create_spin_range(res.particle.spin)),\n",
    "            )\n",
    "            for res in resonances\n",
    "        ]\n",
    "    )\n",
    "\n",
    "\n",
    "def formulate_Δ_amplitude(λ_Λc, λ_p, resonances: list[Resonance]):\n",
    "    τ = sp.Symbol(\"tau\", rational=True)\n",
    "    return sp.Add(\n",
    "        *[\n",
    "            PoolSum(\n",
    "                sp.KroneckerDelta(λ_Λc, τ)\n",
    "                * H_Δ_prod[τ, 0]\n",
    "                * formulate_dynamics(res, σ3, m1, m2)\n",
    "                * Wigner.d(sp.Rational(res.particle.spin), τ, λ_p, θ12)\n",
    "                * H_Δ_dec[λ_p, 0],\n",
    "                (τ, create_spin_range(res.particle.spin)),\n",
    "            )\n",
    "            for res in resonances\n",
    "        ]\n",
    "    )\n",
    "\n",
    "\n",
    "def formulate_dynamics(decay: Resonance, s, m1, m2):\n",
    "    l_R = sp.Rational(decay.l_R)\n",
    "    l_Λc = sp.Rational(decay.l_Λc)\n",
    "    mass = sp.Symbol(f\"m_{{{decay.particle.latex}}}\")\n",
    "    width = sp.Symbol(Rf\"\\Gamma_{{{decay.particle.latex}}}\")\n",
    "    parameter_defaults[mass] = decay.particle.mass\n",
    "    parameter_defaults[width] = decay.particle.width\n",
    "    return RelativisticBreitWigner(s, mass, width, m1, m2, l_R, l_Λc, R)\n",
    "\n",
    "\n",
    "def create_spin_range(j):\n",
    "    spin_range = np.arange(-float(j), +float(j) + 0.5)\n",
    "    return list(map(sp.Rational, spin_range))\n",
    "\n",
    "\n",
    "display(\n",
    "    formulate_chain_amplitude(1, ν, λ),\n",
    "    formulate_chain_amplitude(2, ν, λ),\n",
    "    formulate_chain_amplitude(3, ν, λ),\n",
    ")"
   ]
  },
  {
   "cell_type": "markdown",
   "metadata": {},
   "source": [
    "### Angle definitions"
   ]
  },
  {
   "cell_type": "markdown",
   "metadata": {},
   "source": [
    "Following relations apply:\n",
    "\n",
    "$$\n",
    "\\begin{eqnarray}\n",
    "  \\zeta^0_{1(1)} &=& \\hat{\\theta}_{1(1)}^{0} = 0 \\\\\n",
    "  \\zeta^0_{2(1)} &=& \\hat{\\theta}_{2(1)} = -\\hat{\\theta}_{1(2)} \\\\\n",
    "  \\zeta^0_{3(1)} &=& \\hat{\\theta}_{3(1)} \\\\\n",
    "  \\zeta^1_{1(1)} &=& 0 \\\\\n",
    "  \\zeta^1_{3(1)} &=& -\\zeta^1_{1(3)} \\\\\n",
    "\\end{eqnarray}\n",
    "$$\n",
    "\n",
    "The remaining angles $\\theta_{12}, \\theta_{23}, \\theta_{13}$ and $\\hat\\theta_{1(2)}, \\hat\\theta_{3(1)}, \\zeta^1_{1(3)}$ can be expressed in terms of Mandelstam variables $\\sigma_1, \\sigma_2, \\sigma_3$ using {cite}`mikhasenkoDalitzplotDecompositionThreebody2020`, Appendix A:"
   ]
  },
  {
   "cell_type": "code",
   "execution_count": null,
   "metadata": {
    "jupyter": {
     "source_hidden": true
    },
    "tags": [
     "scroll-input",
     "hide-input"
    ]
   },
   "outputs": [],
   "source": [
    "m0 = sp.Symbol(R\"m_{\\Lambda_c}\", nonnegative=True)\n",
    "angles = {\n",
    "    θ12: sp.acos(\n",
    "        (\n",
    "            2 * σ3 * (σ2 - m3**2 - m1**2)\n",
    "            - (σ3 + m1**2 - m2**2) * (m0**2 - σ3 - m3**2)\n",
    "        )\n",
    "        / (\n",
    "            sp.sqrt(Källén(m0**2, m3**2, σ3))\n",
    "            * sp.sqrt(Källén(σ3, m1**2, m2**2))\n",
    "        )\n",
    "    ),\n",
    "    θ23: sp.acos(\n",
    "        (\n",
    "            2 * σ1 * (σ3 - m1**2 - m2**2)\n",
    "            - (σ1 + m2**2 - m3**2) * (m0**2 - σ1 - m1**2)\n",
    "        )\n",
    "        / (\n",
    "            sp.sqrt(Källén(m0**2, m1**2, σ1))\n",
    "            * sp.sqrt(Källén(σ1, m2**2, m3**2))\n",
    "        )\n",
    "    ),\n",
    "    θ31: sp.acos(\n",
    "        (\n",
    "            2 * σ2 * (σ1 - m2**2 - m3**2)\n",
    "            - (σ2 + m3**2 - m1**2) * (m0**2 - σ2 - m2**2)\n",
    "        )\n",
    "        / (\n",
    "            sp.sqrt(Källén(m0**2, m2**2, σ2))\n",
    "            * sp.sqrt(Källén(σ2, m3**2, m1**2))\n",
    "        )\n",
    "    ),\n",
    "    ζ_0_11: sp.S.Zero,  # = \\hat\\theta^0_{1(1)}\n",
    "    ζ_0_21: -sp.acos(  # = -\\hat\\theta^{1(2)}\n",
    "        (\n",
    "            (m0**2 + m1**2 - σ1) * (m0**2 + m2**2 - σ2)\n",
    "            - 2 * m0**2 * (σ3 - m1**2 - m2**2)\n",
    "        )\n",
    "        / (\n",
    "            sp.sqrt(Källén(m0**2, m2**2, σ2))\n",
    "            * sp.sqrt(Källén(m0**2, σ1, m1**2))\n",
    "        )\n",
    "    ),\n",
    "    ζ_0_31: sp.acos(  # = \\hat\\theta^{3(1)}\n",
    "        (\n",
    "            (m0**2 + m3**2 - σ3) * (m0**2 + m1**2 - σ1)\n",
    "            - 2 * m0**2 * (σ2 - m3**2 - m1**2)\n",
    "        )\n",
    "        / (\n",
    "            sp.sqrt(Källén(m0**2, m1**2, σ1))\n",
    "            * sp.sqrt(Källén(m0**2, σ3, m3**2))\n",
    "        )\n",
    "    ),\n",
    "    ζ_1_11: sp.S.Zero,\n",
    "    ζ_1_21: sp.acos(\n",
    "        (\n",
    "            2 * m1**2 * (σ3 - m0**2 - m3**2)\n",
    "            + (m0**2 + m1**2 - σ1) * (σ2 - m1**2 - m3**2)\n",
    "        )\n",
    "        / (\n",
    "            sp.sqrt(Källén(m0**2, m1**2, σ1))\n",
    "            * sp.sqrt(Källén(σ2, m1**2, m3**2))\n",
    "        )\n",
    "    ),\n",
    "    ζ_1_31: -sp.acos(  # = -\\zeta^1_{1(3)}\n",
    "        (\n",
    "            2 * m1**2 * (σ2 - m0**2 - m2**2)\n",
    "            + (m0**2 + m1**2 - σ1) * (σ3 - m1**2 - m2**2)\n",
    "        )\n",
    "        / (\n",
    "            sp.sqrt(Källén(m0**2, m1**2, σ1))\n",
    "            * sp.sqrt(Källén(σ3, m1**2, m2**2))\n",
    "        )\n",
    "    ),\n",
    "}\n",
    "\n",
    "display_definitions(angles)"
   ]
  },
  {
   "cell_type": "markdown",
   "metadata": {},
   "source": [
    "where $m_0$ is the mass of the initial state $\\Lambda_c$ and $m_1, m_2, m_3$ are the masses of $p, \\pi, K$, respectively:"
   ]
  },
  {
   "cell_type": "code",
   "execution_count": null,
   "metadata": {
    "jupyter": {
     "source_hidden": true
    },
    "tags": [
     "hide-input"
    ]
   },
   "outputs": [],
   "source": [
    "masses = {\n",
    "    m0: Λc.mass,\n",
    "    m1: p.mass,\n",
    "    m2: π.mass,\n",
    "    m3: K.mass,\n",
    "}\n",
    "display_definitions(masses)"
   ]
  },
  {
   "cell_type": "markdown",
   "metadata": {
    "tags": []
   },
   "source": [
    "### Helicity coupling values"
   ]
  },
  {
   "cell_type": "code",
   "execution_count": null,
   "metadata": {
    "jupyter": {
     "source_hidden": true
    },
    "tags": [
     "hide-input"
    ]
   },
   "outputs": [],
   "source": [
    "dec_couplings = {\n",
    "    # Equations (6-7)\n",
    "    H_Λ_dec[0, half]: 1,\n",
    "    H_Δ_dec[half, 0]: 1,\n",
    "    H_K_dec[0, 0]: 1,\n",
    "    H_Λ_dec[0, -half]: int(-PDG[\"Lambda(1520)\"].parity)\n",
    "    * (-1) ** (PDG[\"Lambda(1520)\"].spin - 1 / 2),\n",
    "    H_Δ_dec[-half, 0]: int(-PDG[\"Delta(1232)++\"].parity)\n",
    "    * (-1) ** (PDG[\"Delta(1232)++\"].spin - 1 / 2),\n",
    "}\n",
    "parameter_defaults.update(dec_couplings)\n",
    "display_definitions(dec_couplings)"
   ]
  },
  {
   "cell_type": "code",
   "execution_count": null,
   "metadata": {
    "jupyter": {
     "source_hidden": true
    },
    "tags": [
     "hide-input"
    ]
   },
   "outputs": [],
   "source": [
    "prod_couplings = {\n",
    "    H_K_prod[0, -half]: 1,\n",
    "    H_K_prod[-1, -half]: 1 - 1j,\n",
    "    H_K_prod[+1, +half]: -3 - 3j,\n",
    "    H_K_prod[0, +half]: -1 - 4j,\n",
    "    H_Δ_prod[+half, 0]: -7 + 3j,\n",
    "    H_Δ_prod[-half, 0]: -13 + 5j,\n",
    "    H_Λ_prod[+half, 0]: 1,\n",
    "    H_Λ_prod[-half, 0]: 2j,\n",
    "}\n",
    "display_definitions(prod_couplings)\n",
    "couplings = dict(dec_couplings)\n",
    "couplings.update(prod_couplings)\n",
    "parameter_defaults.update(prod_couplings)"
   ]
  },
  {
   "cell_type": "markdown",
   "metadata": {},
   "source": [
    "### Intensity expression"
   ]
  },
  {
   "cell_type": "markdown",
   "metadata": {},
   "source": [
    "Incoherent sum of the amplitudes defined by {ref}`report/017:Aligned amplitude`:"
   ]
  },
  {
   "cell_type": "code",
   "execution_count": null,
   "metadata": {
    "tags": [
     "hide-input",
     "full-width"
    ]
   },
   "outputs": [],
   "source": [
    "def formulate_intensity(amplitude_builder):\n",
    "    return PoolSum(\n",
    "        sp.Abs(amplitude_builder(λ, ν)) ** 2,\n",
    "        (λ, [-half, +half]),\n",
    "        (ν, [-half, +half]),\n",
    "    )\n",
    "\n",
    "\n",
    "intensity_expressions = {\n",
    "    0: formulate_intensity(formulate_aligned_amplitude),\n",
    "    1: formulate_intensity(partial(formulate_chain_amplitude, 1)),\n",
    "    2: formulate_intensity(partial(formulate_chain_amplitude, 2)),\n",
    "    3: formulate_intensity(partial(formulate_chain_amplitude, 3)),\n",
    "}\n",
    "intensity_expressions[0]"
   ]
  },
  {
   "cell_type": "markdown",
   "metadata": {},
   "source": [
    "Remaining {attr}`~sympy.core.basic.Basic.free_symbols` are indeed the specific amplitudes as defined by {ref}`report/017:Decay chain amplitudes`:"
   ]
  },
  {
   "cell_type": "markdown",
   "metadata": {},
   "source": [
    "The specific amplitudes from {ref}`report/017:Decay chain amplitudes` need to be formulated for each value of $\\nu, \\lambda$, so that they can be substituted in the top expression:"
   ]
  },
  {
   "cell_type": "code",
   "execution_count": null,
   "metadata": {
    "jupyter": {
     "source_hidden": true
    },
    "tags": [
     "hide-input"
    ]
   },
   "outputs": [],
   "source": [
    "A = {1: A_K, 2: A_Λ, 3: A_Δ}\n",
    "amp_definitions = {}\n",
    "for chain_id in chain_ids:\n",
    "    for Λc_heli, p_heli in itertools.product([-half, +half], [-half, +half]):\n",
    "        symbol = A[chain_id][Λc_heli, p_heli]\n",
    "        expr = formulate_chain_amplitude(chain_id, ν, λ)\n",
    "        amp_definitions[symbol] = expr.subs({ν: Λc_heli, λ: p_heli})\n",
    "display_definitions(amp_definitions)"
   ]
  },
  {
   "cell_type": "code",
   "execution_count": null,
   "metadata": {
    "jupyter": {
     "source_hidden": true
    },
    "tags": [
     "hide-cell"
    ]
   },
   "outputs": [],
   "source": [
    "substituted_intensity_expressions = {}\n",
    "for chain_id, expr in intensity_expressions.items():\n",
    "    expr = expr.doit().xreplace(amp_definitions).doit()\n",
    "    expr = expr.xreplace(angles).doit().xreplace(masses)\n",
    "    substituted_intensity_expressions[chain_id] = expr\n",
    "    expr = expr.xreplace(parameter_defaults)\n",
    "    if chain_id == 0:\n",
    "        assert expr.free_symbols == {σ1, σ2, σ3}\n",
    "    else:\n",
    "        assert expr.free_symbols < {σ1, σ2, σ3}"
   ]
  },
  {
   "cell_type": "markdown",
   "metadata": {},
   "source": [
    "### Polarization"
   ]
  },
  {
   "cell_type": "markdown",
   "metadata": {},
   "source": [
    "$$\n",
    "\\vec\\alpha(m_{K\\pi},m_{pK}) =  \\sum_{\\lambda,\\nu,\\nu'} A^{*}_{\\nu,\\lambda}\\vec\\sigma_{\\nu,\\nu'}  A_{\\nu',\\lambda} \\,\\big / \\sum_{\\lambda,\\nu} \\left|A_{\\nu,\\lambda}\\right|^2\n",
    "$$ (polarization-sensitivity)"
   ]
  },
  {
   "cell_type": "markdown",
   "metadata": {},
   "source": [
    "#### Total polarization sensitivity"
   ]
  },
  {
   "cell_type": "code",
   "execution_count": null,
   "metadata": {
    "tags": []
   },
   "outputs": [],
   "source": [
    "def to_index(helicity):\n",
    "    \"\"\"Symbolic conversion of half-value helicities to Pauli matrix indices.\"\"\"\n",
    "    # https://github.com/ComPWA/compwa-org/pull/129#issuecomment-1096599896\n",
    "    return sp.Piecewise(\n",
    "        (1, sp.LessThan(helicity, 0)),\n",
    "        (0, True),\n",
    "    )\n",
    "\n",
    "\n",
    "ν_prime = sp.Symbol(R\"\\nu^{\\prime}\")\n",
    "total_polarization = sp.Array(\n",
    "    PoolSum(\n",
    "        formulate_aligned_amplitude(ν, λ).conjugate()\n",
    "        * msigma(i)[to_index(ν), to_index(ν_prime)]\n",
    "        * formulate_aligned_amplitude(ν_prime, λ),\n",
    "        (λ, [-half, +half]),\n",
    "        (ν, [-half, +half]),\n",
    "        (ν_prime, [-half, +half]),\n",
    "    )\n",
    "    / intensity_expressions[0]\n",
    "    for i in [1, 2, 3]\n",
    ")"
   ]
  },
  {
   "cell_type": "markdown",
   "metadata": {},
   "source": [
    "#### Polarization sensitivity per chain"
   ]
  },
  {
   "cell_type": "code",
   "execution_count": null,
   "metadata": {
    "tags": []
   },
   "outputs": [],
   "source": [
    "polarization_expressions = {0: total_polarization}\n",
    "for chain_id in chain_ids:\n",
    "    polarization_expressions[chain_id] = sp.Array(\n",
    "        PoolSum(\n",
    "            formulate_chain_amplitude(chain_id, ν, λ).conjugate()\n",
    "            * msigma(i)[to_index(ν), to_index(ν_prime)]\n",
    "            * formulate_chain_amplitude(chain_id, ν_prime, λ),\n",
    "            (λ, [-half, +half]),\n",
    "            (ν, [-half, +half]),\n",
    "            (ν_prime, [-half, +half]),\n",
    "        )\n",
    "        / intensity_expressions[chain_id]\n",
    "        for i in [1, 2, 3]\n",
    "    )"
   ]
  },
  {
   "cell_type": "code",
   "execution_count": null,
   "metadata": {
    "jupyter": {
     "source_hidden": true
    },
    "tags": [
     "hide-cell"
    ]
   },
   "outputs": [],
   "source": [
    "substituted_polarization_expressions = {}\n",
    "for chain_id, expr in polarization_expressions.items():\n",
    "    expr = expr.doit().xreplace(amp_definitions).doit()\n",
    "    expr = expr.xreplace(angles).doit().xreplace(masses)\n",
    "    substituted_polarization_expressions[chain_id] = expr\n",
    "    expr = expr.xreplace(parameter_defaults)\n",
    "    if chain_id == 0:\n",
    "        assert expr.free_symbols == {σ1, σ2, σ3}\n",
    "    else:\n",
    "        assert expr.free_symbols < {σ1, σ2, σ3}"
   ]
  },
  {
   "cell_type": "markdown",
   "metadata": {},
   "source": [
    "## Computations with TensorWaves\n"
   ]
  },
  {
   "cell_type": "markdown",
   "metadata": {
    "tags": []
   },
   "source": [
    "### Conversion to computational backend"
   ]
  },
  {
   "cell_type": "markdown",
   "metadata": {},
   "source": [
    "The full [expression tree](https://docs.sympy.org/latest/tutorial/manipulation.html) can be converted to a computational, _parametrized_ function as follows. Note that identify all coupling symbols are interpreted as parameters. The remaining symbols (the angles) become arguments to the function."
   ]
  },
  {
   "cell_type": "code",
   "execution_count": null,
   "metadata": {},
   "outputs": [],
   "source": [
    "free_parameters = {\n",
    "    symbol: value\n",
    "    for symbol, value in parameter_defaults.items()\n",
    "    if symbol.name.startswith(\"m_\")\n",
    "    or symbol.name.startswith(R\"\\Gamma_\")\n",
    "    or symbol in couplings\n",
    "}\n",
    "fixed_parameters = {\n",
    "    symbol: value\n",
    "    for symbol, value in parameter_defaults.items()\n",
    "    if symbol not in free_parameters\n",
    "}\n",
    "Math(R\" \\quad \".join(map(sp.latex, sorted(free_parameters, key=str))))"
   ]
  },
  {
   "cell_type": "code",
   "execution_count": null,
   "metadata": {
    "tags": []
   },
   "outputs": [],
   "source": [
    "from tensorwaves.function.sympy import create_parametrized_function\n",
    "\n",
    "intensity_functions = {\n",
    "    chain_id: create_parametrized_function(\n",
    "        expr.subs(fixed_parameters),\n",
    "        parameters=free_parameters,\n",
    "        backend=\"jax\",\n",
    "    )\n",
    "    for chain_id, expr in substituted_intensity_expressions.items()\n",
    "}"
   ]
  },
  {
   "cell_type": "code",
   "execution_count": null,
   "metadata": {
    "tags": []
   },
   "outputs": [],
   "source": [
    "polarization_functions = {\n",
    "    chain_id: [\n",
    "        create_parametrized_function(\n",
    "            expr[i].subs(fixed_parameters),\n",
    "            parameters=free_parameters,\n",
    "            backend=\"jax\",\n",
    "        )\n",
    "        for i in range(3)\n",
    "    ]\n",
    "    for chain_id, expr in substituted_polarization_expressions.items()\n",
    "}"
   ]
  },
  {
   "cell_type": "markdown",
   "metadata": {},
   "source": [
    "### Phase space sample"
   ]
  },
  {
   "cell_type": "markdown",
   "metadata": {},
   "source": [
    "Generate phase space sample for $\\Lambda_c \\to p \\pi K$:"
   ]
  },
  {
   "cell_type": "code",
   "execution_count": null,
   "metadata": {
    "tags": [
     "remove-output"
    ]
   },
   "outputs": [],
   "source": [
    "from tensorwaves.data import (\n",
    "    TFPhaseSpaceGenerator,\n",
    "    TFUniformRealNumberGenerator,\n",
    ")\n",
    "\n",
    "rng = TFUniformRealNumberGenerator(seed=0)\n",
    "phsp_generator = TFPhaseSpaceGenerator(\n",
    "    initial_state_mass=masses[m0],\n",
    "    final_state_masses={i: masses[m] for i, m in enumerate([m1, m2, m3], 1)},\n",
    ")\n",
    "phsp = phsp_generator.generate(1_000_000, rng)"
   ]
  },
  {
   "cell_type": "markdown",
   "metadata": {},
   "source": [
    "Values for the angles will be computed form the Mandelstam values with a data transformer for the symbolic angle definitions:"
   ]
  },
  {
   "cell_type": "code",
   "execution_count": null,
   "metadata": {},
   "outputs": [],
   "source": [
    "from tensorwaves.data.transform import SympyDataTransformer\n",
    "\n",
    "kinematic_variables = {\n",
    "    symbol: expression.doit().subs(masses).subs(fixed_parameters)\n",
    "    for symbol, expression in angles.items()\n",
    "}\n",
    "kinematic_variables.update({s: s for s in [σ1, σ2, σ3]})  # include identity\n",
    "transformer = SympyDataTransformer.from_sympy(\n",
    "    kinematic_variables, backend=\"jax\"\n",
    ")"
   ]
  },
  {
   "cell_type": "markdown",
   "metadata": {},
   "source": [
    "The three Mandelstam variables $\\sigma_1, \\sigma_2, \\sigma_3$ can be computed from the phase space sample using the data transformer:"
   ]
  },
  {
   "cell_type": "code",
   "execution_count": null,
   "metadata": {
    "tags": []
   },
   "outputs": [],
   "source": [
    "def compute_mass_squared(array):\n",
    "    energy = array[:, 0]\n",
    "    p_vec = array[:, 1:]\n",
    "    return energy**2 - np.sum(p_vec**2, axis=1)\n",
    "\n",
    "\n",
    "data = {\n",
    "    σ1.name: compute_mass_squared(phsp[\"p2\"] + phsp[\"p3\"]),\n",
    "    σ2.name: compute_mass_squared(phsp[\"p3\"] + phsp[\"p1\"]),\n",
    "    σ3.name: compute_mass_squared(phsp[\"p1\"] + phsp[\"p2\"]),\n",
    "}\n",
    "transformed_data = transformer(data)"
   ]
  },
  {
   "cell_type": "markdown",
   "metadata": {},
   "source": [
    "### Intensity distributions"
   ]
  },
  {
   "cell_type": "markdown",
   "metadata": {},
   "source": [
    "Finally, all intensities can be computed as follows:\n",
    "\n",
    "```{autolink-skip}\n",
    "```"
   ]
  },
  {
   "cell_type": "code",
   "execution_count": null,
   "metadata": {},
   "outputs": [],
   "source": [
    "%%time\n",
    "intensities = intensity_functions[0](transformed_data)\n",
    "intensities"
   ]
  },
  {
   "cell_type": "code",
   "execution_count": null,
   "metadata": {
    "tags": [
     "remove-input"
    ]
   },
   "outputs": [],
   "source": [
    "%config InlineBackend.figure_formats = ['png']"
   ]
  },
  {
   "cell_type": "code",
   "execution_count": null,
   "metadata": {
    "jupyter": {
     "source_hidden": true
    },
    "tags": [
     "hide-input"
    ]
   },
   "outputs": [],
   "source": [
    "s1_label = R\"$\\sigma_1=m^2\\left(K\\pi\\right)$\"\n",
    "s2_label = R\"$\\sigma_2=m^2\\left(pK\\right)$\"\n",
    "s3_label = R\"$\\sigma_3=m^2\\left(p\\pi\\right)$\"\n",
    "\n",
    "fig, ax = plt.subplots(figsize=(10, 8))\n",
    "ax.set_title(\"Intensity distribution\")\n",
    "ax.set_xlabel(s1_label)\n",
    "ax.set_ylabel(s2_label)\n",
    "h = ax.hist2d(\n",
    "    data[\"sigma1\"],\n",
    "    data[\"sigma2\"],\n",
    "    weights=np.array(intensities),\n",
    "    bins=150,\n",
    "    norm=LogNorm(),\n",
    ")\n",
    "fig.colorbar(h[3])\n",
    "\n",
    "fig.tight_layout()\n",
    "plt.show()"
   ]
  },
  {
   "cell_type": "code",
   "execution_count": null,
   "metadata": {
    "tags": [
     "remove-input"
    ]
   },
   "outputs": [],
   "source": [
    "%config InlineBackend.figure_formats = ['svg']"
   ]
  },
  {
   "cell_type": "code",
   "execution_count": null,
   "metadata": {
    "jupyter": {
     "source_hidden": true
    },
    "tags": [
     "hide-input",
     "full-width"
    ]
   },
   "outputs": [],
   "source": [
    "fig, axes = plt.subplots(figsize=(12, 4), ncols=3)\n",
    "ax1, ax2, ax3 = axes\n",
    "hist_style = dict(bins=100, weights=np.array(intensities), histtype=\"step\")\n",
    "line_style = dict(c=\"red\", linestyle=\"dotted\")\n",
    "\n",
    "ax1.set_xlabel(s1_label)\n",
    "ax2.set_xlabel(s2_label)\n",
    "ax3.set_xlabel(s3_label)\n",
    "ax1.hist(data[\"sigma1\"], **hist_style)\n",
    "ax1.axvline(PDG[\"K*(892)0\"].mass ** 2, label=\"$m_{K^{**}}$\", **line_style)\n",
    "ax2.hist(data[\"sigma2\"], **hist_style)\n",
    "ax2.axvline(\n",
    "    PDG[\"Lambda(1520)\"].mass ** 2, label=R\"$m_{\\Lambda^{**}}$\", **line_style\n",
    ")\n",
    "ax3.hist(data[\"sigma3\"], **hist_style)\n",
    "ax3.axvline(\n",
    "    PDG[\"Delta(1232)++\"].mass ** 2, label=R\"$m_{\\Delta^{**}}$\", **line_style\n",
    ")\n",
    "for ax in axes:\n",
    "    ax.legend()\n",
    "\n",
    "fig.tight_layout()\n",
    "plt.show()"
   ]
  },
  {
   "cell_type": "markdown",
   "metadata": {},
   "source": [
    "### Polarization distributions"
   ]
  },
  {
   "cell_type": "code",
   "execution_count": null,
   "metadata": {},
   "outputs": [],
   "source": [
    "from tensorwaves.function.sympy import create_function\n",
    "\n",
    "computed_σ3 = m0**2 + m1**2 + m2**2 + m3**2 - σ1 - σ2\n",
    "compute_third_mandelstam = create_function(\n",
    "    computed_σ3.subs(masses), backend=\"jax\"\n",
    ")\n",
    "computed_σ3"
   ]
  },
  {
   "cell_type": "code",
   "execution_count": null,
   "metadata": {
    "tags": []
   },
   "outputs": [],
   "source": [
    "m0_val, m1_val, m2_val, m3_val = masses.values()\n",
    "σ1_min = (m2_val + m3_val) ** 2\n",
    "σ1_max = (m0_val - m1_val) ** 2\n",
    "σ2_min = (m1_val + m3_val) ** 2\n",
    "σ2_max = (m0_val - m2_val) ** 2\n",
    "\n",
    "X, Y = np.meshgrid(\n",
    "    np.linspace(σ1_min, σ1_max, num=500),\n",
    "    np.linspace(σ2_min, σ2_max, num=500),\n",
    ")\n",
    "Z = compute_third_mandelstam.function(X, Y)\n",
    "input_data = {\"sigma1\": X, \"sigma2\": Y, \"sigma3\": Z}\n",
    "transformed_input = transformer(input_data)\n",
    "polarization_values = {\n",
    "    chain_id: [\n",
    "        polarization_functions[chain_id][i](transformed_input)\n",
    "        for i in range(3)\n",
    "    ]\n",
    "    for chain_id in range(4)\n",
    "}\n",
    "\n",
    "for chain_id in range(4):\n",
    "    for array in polarization_values[chain_id]:\n",
    "        assert np.nanmax(array.imag) < 1e-10"
   ]
  },
  {
   "cell_type": "code",
   "execution_count": null,
   "metadata": {
    "jupyter": {
     "source_hidden": true
    },
    "tags": [
     "hide-input"
    ]
   },
   "outputs": [],
   "source": [
    "def render_mean(array):\n",
    "    mean = f\"{np.nanmean(array):.3f}\"\n",
    "    std = f\"{np.nanstd(array):.3f}\"\n",
    "    if float(mean) > 0:\n",
    "        mean = f\"+{mean}\"\n",
    "    return Rf\"{mean} \\pm {std}\"\n",
    "\n",
    "\n",
    "latex = R\"\\begin{array}{cccc}\" + \"\\n\"\n",
    "latex += R\"& \\bar\\alpha_x & \\bar\\alpha_y & \\bar\\alpha_z \\\\\" + \"\\n\"\n",
    "for chain_id, label in chain_ids.items():\n",
    "    latex += f\"  {label} & \"\n",
    "    x, y, z = polarization_values[chain_id]\n",
    "    latex += \" & \".join(map(render_mean, [x.real, y.real, z.real]))\n",
    "    latex += R\" \\\\\" + \"\\n\"\n",
    "latex += R\"\\end{array}\"\n",
    "Math(latex)"
   ]
  },
  {
   "cell_type": "markdown",
   "metadata": {},
   "source": [
    "{{ run_interactive }}"
   ]
  },
  {
   "cell_type": "code",
   "execution_count": null,
   "metadata": {
    "tags": [
     "remove-input"
    ]
   },
   "outputs": [],
   "source": [
    "%config InlineBackend.figure_formats = ['png']\n",
    "%matplotlib widget"
   ]
  },
  {
   "cell_type": "code",
   "execution_count": null,
   "metadata": {
    "jupyter": {
     "source_hidden": true
    },
    "tags": [
     "full-width",
     "hide-input",
     "scroll-input"
    ]
   },
   "outputs": [],
   "source": [
    "# Sliders\n",
    "def set_slider(slider, value):\n",
    "    slider.min = min(0.0, 2 * value)\n",
    "    slider.max = max(5.0, 2 * value)\n",
    "    slider.step = 0.01\n",
    "    slider.value = value\n",
    "\n",
    "\n",
    "sliders = {}\n",
    "for symbol, value in free_parameters.items():\n",
    "    if symbol.name.startswith(R\"\\mathcal{H}\") or isinstance(value, complex):\n",
    "        real_slider = create_slider(symbol)\n",
    "        imag_slider = create_slider(symbol)\n",
    "        sliders[f\"{symbol.name}_real\"] = real_slider\n",
    "        sliders[f\"{symbol.name}_imag\"] = imag_slider\n",
    "        value = complex(value)\n",
    "        set_slider(real_slider, value.real)\n",
    "        set_slider(imag_slider, value.imag)\n",
    "        real_slider.description = R\"\\(\\mathrm{Re}\\)\"\n",
    "        imag_slider.description = R\"\\(\\mathrm{Im}\\)\"\n",
    "    else:\n",
    "        slider = create_slider(symbol)\n",
    "        sliders[symbol.name] = slider\n",
    "        set_slider(slider, value)\n",
    "\n",
    "σ3_max = (m0_val - m3_val) ** 2\n",
    "σ3_min = (m1_val + m2_val) ** 2\n",
    "\n",
    "for name, slider in sliders.items():\n",
    "    if name.startswith(\"m_\"):\n",
    "        if \"K\" in name:\n",
    "            slider.min = np.sqrt(σ1_min)\n",
    "            slider.max = np.sqrt(σ1_max)\n",
    "        elif R\"\\Lambda\" in name:\n",
    "            slider.min = np.sqrt(σ2_min)\n",
    "            slider.max = np.sqrt(σ2_max)\n",
    "        elif R\"\\Delta\" in name:\n",
    "            slider.min = np.sqrt(σ3_min)\n",
    "            slider.max = np.sqrt(σ3_max)\n",
    "    elif name.startswith(R\"\\Gamma_\"):\n",
    "        slider.min = 0\n",
    "        slider.max = max(0.5, 2 * slider.value)\n",
    "\n",
    "latex = {symbol.name: sp.latex(symbol) for symbol in free_parameters}\n",
    "mass_sliders = [sliders[n] for n in sliders if n.startswith(\"m_\")]\n",
    "width_sliders = [sliders[n] for n in sliders if n.startswith(R\"\\Gamma_\")]\n",
    "coupling_sliders = {}\n",
    "for chain_id, label in chain_ids.items():\n",
    "    coupling_sliders[label] = (\n",
    "        [\n",
    "            HTMLMath(f\"${latex[n[:-5]]}$\")\n",
    "            for n in sliders\n",
    "            if n.endswith(\"_real\") and label in n\n",
    "        ],\n",
    "        [s for n, s in sliders.items() if n.endswith(\"_real\") and label in n],\n",
    "        [s for n, s in sliders.items() if n.endswith(\"_imag\") and label in n],\n",
    "    )\n",
    "ui = Tab(\n",
    "    children=[\n",
    "        Tab(\n",
    "            children=[\n",
    "                VBox([HBox(s) for s in zip(*pair)])\n",
    "                for pair in coupling_sliders.values()\n",
    "            ],\n",
    "            _titles={\n",
    "                i: label\n",
    "                for i, label in enumerate([\"K**→πK\", \"Λ**→pK\", \"Δ**→pπ\"])\n",
    "            },\n",
    "        ),\n",
    "        VBox([HBox([r, i]) for r, i in zip(mass_sliders, width_sliders)]),\n",
    "    ],\n",
    "    _titles=dict(enumerate([\"Couplings\", \"Masses and widths\"])),\n",
    ")\n",
    "\n",
    "# Visualization\n",
    "resolution = 200\n",
    "X, Y = np.meshgrid(\n",
    "    np.linspace(σ1_min, σ1_max, num=resolution),\n",
    "    np.linspace(σ2_min, σ2_max, num=resolution),\n",
    ")\n",
    "Z = compute_third_mandelstam.function(X, Y)\n",
    "input_data = {\"sigma1\": X, \"sigma2\": Y, \"sigma3\": Z}\n",
    "transformed_input = transformer(input_data)\n",
    "\n",
    "\n",
    "def to_complex_kwargs(**kwargs):\n",
    "    complex_valued_kwargs = {}\n",
    "    for key, value in dict(kwargs).items():\n",
    "        if key.endswith(\"real\"):\n",
    "            symbol_name = key[:-5]\n",
    "            imag = kwargs[f\"{symbol_name}_imag\"]\n",
    "            complex_valued_kwargs[symbol_name] = complex(value, imag)\n",
    "        elif key.endswith(\"imag\"):\n",
    "            continue\n",
    "        else:\n",
    "            complex_valued_kwargs[key] = value\n",
    "    return complex_valued_kwargs\n",
    "\n",
    "\n",
    "def visualize_visualization() -> None:\n",
    "    fig, axes = plt.subplots(\n",
    "        figsize=0.8 * np.array([13, 9]),\n",
    "        ncols=3,\n",
    "        nrows=2,\n",
    "        sharex=True,\n",
    "        sharey=True,\n",
    "        gridspec_kw=dict(\n",
    "            width_ratios=[1, 1, 1.24],\n",
    "        ),\n",
    "        tight_layout=True,\n",
    "    )\n",
    "    fig.canvas.toolbar_visible = False\n",
    "    fig.canvas.header_visible = False\n",
    "    fig.canvas.footer_visible = False\n",
    "\n",
    "    for chain_id in range(2):\n",
    "        for i in range(3):\n",
    "            ax = axes[chain_id, i]\n",
    "            title = Rf\"\\alpha_{'xyz'[i]}\"\n",
    "            if chain_id == 1:\n",
    "                title = Rf\"{title}\\left(K^{{**}}\\right)\"\n",
    "            ax.set_title(f\"${title}$\")\n",
    "            if ax is axes[-1, i]:\n",
    "                ax.set_xlabel(s1_label)\n",
    "            if i == 0:\n",
    "                ax.set_ylabel(s2_label)\n",
    "\n",
    "    color_mesh = np.full([2, 3], None)\n",
    "\n",
    "    def plot3(**kwargs):\n",
    "        nonlocal color_mesh\n",
    "        kwargs = to_complex_kwargs(**kwargs)\n",
    "        for chain_id in range(2):\n",
    "            for i in range(3):\n",
    "                func = polarization_functions[chain_id][i]\n",
    "                func.update_parameters(kwargs)\n",
    "                z_values = func(transformed_input)\n",
    "                z_values = np.real(z_values)\n",
    "                ax = axes[chain_id, i]\n",
    "                if color_mesh[chain_id, i] is None:\n",
    "                    color_mesh[chain_id, i] = ax.pcolormesh(\n",
    "                        X, Y, z_values, cmap=cm.coolwarm\n",
    "                    )\n",
    "                    if ax is axes[chain_id, -1]:\n",
    "                        fig.colorbar(color_mesh[chain_id, i], ax=ax)\n",
    "                else:\n",
    "                    color_mesh[chain_id, i].set_array(z_values)\n",
    "                color_mesh[chain_id, i].set_clim(vmin=-1, vmax=+1)\n",
    "        fig.canvas.draw()\n",
    "\n",
    "    output = interactive_output(plot3, controls=sliders)\n",
    "    display(ui, output)\n",
    "\n",
    "\n",
    "visualize_visualization()"
   ]
  }
 ],
 "metadata": {
  "kernelspec": {
   "display_name": "Python 3 (ipykernel)",
   "language": "python",
   "name": "python3"
  },
  "language_info": {
   "name": "python",
   "version": "3.8.13"
  }
 },
 "nbformat": 4,
 "nbformat_minor": 4
}
