{
 "cells": [
  {
   "cell_type": "markdown",
   "metadata": {},
   "source": [
    "# [TR-009] Relativistic K-matrix"
   ]
  },
  {
   "cell_type": "markdown",
   "metadata": {
    "tags": [
     "scroll-input"
    ]
   },
   "source": [
    ":::{note}\n",
    "\n",
    "This report is a sequel to {doc}`/report/009`.\n",
    "\n",
    ":::\n",
    "\n",
    "The **covariant description of the $\\boldsymbol{T}$-matrix** is:\n",
    "\n",
    "$$\n",
    "\\boldsymbol{T} = \\sqrt{\\boldsymbol{\\rho}} \\; \\boldsymbol{\\hat{T}} \\sqrt{\\boldsymbol{\\rho}}\n",
    "$$ (covariant T-matrix)\n",
    "\n",
    "with the phase space factor matrix $\\boldsymbol{\\rho}$ defined as:\n",
    "\n",
    "$$\n",
    "\\sqrt{\\boldsymbol{\\rho}} = \\begin{pmatrix}\n",
    "\\rho_0 & \\cdots & 0      \\\\\n",
    "\\vdots & \\ddots & \\vdots \\\\\n",
    "0      & \\cdots & \\rho_{n-1}\n",
    "\\end{pmatrix}\n",
    "$$ (rho matrix)\n",
    "\n",
    "and\n",
    "\n",
    "$$\n",
    "\\rho_i = \\frac{2q_i}{m} = \\sqrt{\n",
    "  \\left[1-\\left(\\frac{m_{i,a}+m_{i,b}}{m}\\right)^2\\right]\n",
    "  \\left[1-\\left(\\frac{m_{i,a}-m_{i,b}}{m}\\right)^2\\right]\n",
    "}\n",
    "$$ (phase space factor)\n",
    "\n",
    "This results in a similar transformation for the $\\boldsymbol{K}$-matrix\n",
    "\n",
    "$$\n",
    "\\boldsymbol{K} = \\sqrt{\\boldsymbol{\\rho}} \\; \\boldsymbol{\\hat{K}} \\sqrt{\\boldsymbol{\\rho}}\n",
    "$$ (covariant K-matrix)\n",
    "\n",
    "with (compare Eq. {eq}`T-matrix` in {doc}`/report/005`):\n",
    "\n",
    "$$\n",
    "\\boldsymbol{\\hat{T}} = \\boldsymbol{\\hat{K}}(\\boldsymbol{I} - i\\boldsymbol{\\rho}\\boldsymbol{\\hat{K}})^{-1}\n",
    "$$ (covariant T-matrix as K)\n",
    "\n",
    "It's common to integrate these phase space factors into the parametrization of $K_{ij}$ as well:\n",
    "\n",
    "$$\n",
    "K_{ij} = \\sum_R \\frac{g_{R,i}(m)g_{R,j}(m)}{\\left(m_R^2-m^2\\right)\\sqrt{\\rho_i\\rho_j}}\n",
    "$$ (covariant parametrization)\n",
    "\n",
    "In addition, one often uses an \"energy dependent\" {func}`~ampform.dynamics.coupled_width` $\\Gamma(m)$ instead of a fixed width $\\Gamma_0$ as done in {doc}`/report/005`."
   ]
  },
  {
   "cell_type": "code",
   "execution_count": null,
   "metadata": {
    "jupyter": {
     "source_hidden": true
    },
    "tags": [
     "hide-cell"
    ]
   },
   "outputs": [],
   "source": [
    "%matplotlib widget\n",
    "import os\n",
    "import re\n",
    "import warnings\n",
    "from typing import Any, Union\n",
    "\n",
    "import matplotlib.pyplot as plt\n",
    "import mpl_interactions.ipyplot as iplt\n",
    "import numpy as np\n",
    "import symplot\n",
    "import sympy as sp\n",
    "from ampform.dynamics import coupled_width, phase_space_factor\n",
    "from ampform.dynamics.decorator import (\n",
    "    UnevaluatedExpression,\n",
    "    create_expression,\n",
    "    implement_doit_method,\n",
    ")\n",
    "from IPython.display import Image, Math\n",
    "from ipywidgets import widgets as ipywidgets\n",
    "from matplotlib import cm\n",
    "from mpl_interactions.controller import Controls\n",
    "from sympy.printing.latex import LatexPrinter\n",
    "\n",
    "warnings.filterwarnings(\"ignore\")\n",
    "STATIC_WEB_PAGE = {\"EXECUTE_NB\", \"READTHEDOCS\"}.intersection(os.environ)"
   ]
  },
  {
   "cell_type": "markdown",
   "metadata": {},
   "source": [
    "## Wrapping expressions"
   ]
  },
  {
   "cell_type": "markdown",
   "metadata": {},
   "source": [
    "To keep a nice rendering, we wrap the expressions for {func}`~ampform.dynamics.phase_space_factor` and {func}`~ampform.dynamics.coupled_width` into a class that derives from {class}`~sympy.core.expr.Expr` (see e.g. the implementation of {class}`~ampform.dynamics.BlattWeisskopfSquared`). Note that we need to use {func}`~symplot.partial_doit` to keep these expression symbols after evaluating the {class}`~sympy.concrete.summations.Sum`."
   ]
  },
  {
   "cell_type": "code",
   "execution_count": null,
   "metadata": {
    "jupyter": {
     "source_hidden": true
    },
    "tags": [
     "scroll-input"
    ]
   },
   "outputs": [],
   "source": [
    "@implement_doit_method()\n",
    "class PhaseSpaceFactor(UnevaluatedExpression):\n",
    "    is_commutative = True\n",
    "\n",
    "    def __new__(\n",
    "        cls,\n",
    "        m: sp.Symbol,\n",
    "        m_a: sp.Symbol,\n",
    "        m_b: sp.Symbol,\n",
    "        i: int,\n",
    "        evaluate: bool = False,\n",
    "        **hints: Any,\n",
    "    ) -> \"PhaseSpaceFactor\":\n",
    "        args = sp.sympify((m, m_a, m_b, i))\n",
    "        return create_expression(cls, evaluate, *args, **hints)\n",
    "\n",
    "    def evaluate(self) -> sp.Expr:\n",
    "        m, m_a, m_b, *_ = self.args\n",
    "        return phase_space_factor(m ** 2, m_a, m_b)\n",
    "\n",
    "    def _latex(self, printer: LatexPrinter, *args: Any) -> str:\n",
    "        m = printer._print(self.args[0])\n",
    "        i = self.args[-1]\n",
    "        return fR\"\\rho_{{{i}}}({m})\"\n",
    "\n",
    "\n",
    "@implement_doit_method()\n",
    "class CoupledWidth(UnevaluatedExpression):\n",
    "    is_commutative = True\n",
    "\n",
    "    def __new__(\n",
    "        cls,\n",
    "        m: sp.Symbol,\n",
    "        mass0: sp.IndexedBase,\n",
    "        gamma0: sp.IndexedBase,\n",
    "        m_a: sp.IndexedBase,\n",
    "        m_b: sp.IndexedBase,\n",
    "        angular_momentum: int,\n",
    "        R: Union[int, sp.Symbol],\n",
    "        i: int,\n",
    "        evaluate: bool = False,\n",
    "        **hints: Any,\n",
    "    ) -> \"CoupledWidth\":\n",
    "        args = sp.sympify((m, mass0, gamma0, m_a, m_b, angular_momentum, R, i))\n",
    "        return create_expression(cls, evaluate, *args, **hints)\n",
    "\n",
    "    def evaluate(self) -> sp.Expr:\n",
    "        m, mass0, gamma0, m_a, m_b, angular_momentum, R, i = self.args\n",
    "\n",
    "        def phsp_factor(s, m_a, m_b):\n",
    "            return PhaseSpaceFactor(s, m_a, m_b, i)\n",
    "\n",
    "        return coupled_width(\n",
    "            m ** 2,\n",
    "            mass0[R],\n",
    "            gamma0[R, i],\n",
    "            m_a[i],\n",
    "            m_b[i],\n",
    "            angular_momentum=angular_momentum,\n",
    "            meson_radius=1,\n",
    "            phsp_factor=phsp_factor,\n",
    "        )\n",
    "\n",
    "    def _latex(self, printer: LatexPrinter, *args: Any) -> str:\n",
    "        m = printer._print(self.args[0])\n",
    "        R = self.args[-2]\n",
    "        i = self.args[-1]\n",
    "        return fR\"{{\\Gamma_{{{R},{i}}}}}({m})\""
   ]
  },
  {
   "cell_type": "markdown",
   "metadata": {},
   "source": [
    "And here is what the equations look like:"
   ]
  },
  {
   "cell_type": "code",
   "execution_count": null,
   "metadata": {
    "tags": []
   },
   "outputs": [],
   "source": [
    "n_channels = 2\n",
    "n_resonances, i, R, L = sp.symbols(\n",
    "    \"n_R, i, R, L\", integer=True, negative=False\n",
    ")\n",
    "m = sp.Symbol(\"m\", real=True)\n",
    "M = sp.IndexedBase(\"m_a\", shape=(n_resonances,))\n",
    "Gamma = sp.IndexedBase(\"Gamma\", shape=(n_resonances, n_channels))\n",
    "gamma = sp.IndexedBase(\"gamma\", shape=(n_resonances, n_channels))\n",
    "m_a = sp.IndexedBase(\"m_a\", shape=(n_channels,))\n",
    "m_b = sp.IndexedBase(\"m_b\", shape=(n_channels,))"
   ]
  },
  {
   "cell_type": "code",
   "execution_count": null,
   "metadata": {},
   "outputs": [],
   "source": [
    "width_expr = CoupledWidth(m, M, Gamma, m_a, m_b, 0, R, i)\n",
    "phsp_expr = PhaseSpaceFactor(m, m_a[i], m_b[i], i)"
   ]
  },
  {
   "cell_type": "code",
   "execution_count": null,
   "metadata": {
    "jupyter": {
     "source_hidden": true
    },
    "tags": [
     "hide-input"
    ]
   },
   "outputs": [],
   "source": [
    "Math(\n",
    "    sp.multiline_latex(\n",
    "        lhs=width_expr,\n",
    "        rhs=width_expr.evaluate(),\n",
    "    )\n",
    ")"
   ]
  },
  {
   "cell_type": "code",
   "execution_count": null,
   "metadata": {
    "jupyter": {
     "source_hidden": true
    },
    "tags": [
     "hide-input"
    ]
   },
   "outputs": [],
   "source": [
    "Math(\n",
    "    sp.multiline_latex(\n",
    "        lhs=phsp_expr,\n",
    "        rhs=phsp_expr.doit().simplify().subs(sp.Abs(m), m),\n",
    "    )\n",
    ")"
   ]
  },
  {
   "cell_type": "markdown",
   "metadata": {
    "tags": []
   },
   "source": [
    "## Implementation"
   ]
  },
  {
   "cell_type": "markdown",
   "metadata": {},
   "source": [
    "The implementation is quite similar to {ref}`that of TR-005 <report/005:Generalization>`, with the only difference being additional $\\boldsymbol{\\rho}$-matrix and the insertion of coupled width."
   ]
  },
  {
   "cell_type": "code",
   "execution_count": null,
   "metadata": {
    "tags": [
     "scroll-input"
    ]
   },
   "outputs": [],
   "source": [
    "def Kij_relativistic(\n",
    "    m: sp.Symbol,\n",
    "    M: sp.IndexedBase,\n",
    "    Gamma: sp.IndexedBase,\n",
    "    gamma: sp.IndexedBase,\n",
    "    i: int,\n",
    "    j: int,\n",
    "    n_resonances: Union[int, sp.Symbol],\n",
    "    angular_momentum: Union[int, sp.Symbol] = 0,\n",
    ") -> sp.Expr:\n",
    "    g_i = gamma[R, i] * CoupledWidth(\n",
    "        m, M, Gamma, m_a, m_b, angular_momentum, R, i\n",
    "    )\n",
    "    g_j = gamma[R, j] * CoupledWidth(\n",
    "        m, M, Gamma, m_a, m_b, angular_momentum, R, j\n",
    "    )\n",
    "    parametrization = (g_i * g_j) / (M[R] ** 2 - m ** 2)\n",
    "    return sp.Sum(parametrization, (R, 0, n_resonances - 1))\n",
    "\n",
    "\n",
    "def relativistic_k_matrix(\n",
    "    n_resonances: int,\n",
    "    n_channels: int,\n",
    "    angular_momentum: Union[int, sp.Symbol] = 0,\n",
    ") -> sp.Matrix:\n",
    "    # Define symbols\n",
    "    m = sp.Symbol(\"m\", real=True)\n",
    "    M = sp.IndexedBase(\"m\", shape=(n_resonances,))\n",
    "    Gamma = sp.IndexedBase(\"Gamma\", shape=(n_resonances, n_channels))\n",
    "    gamma = sp.IndexedBase(\"gamma\", shape=(n_resonances, n_channels))\n",
    "    m_a = sp.IndexedBase(\"m_a\", shape=(n_channels,))\n",
    "    m_b = sp.IndexedBase(\"m_b\", shape=(n_channels,))\n",
    "    # Define phase space matrix\n",
    "    rho = sp.zeros(n_channels, n_channels)\n",
    "    for i in range(n_channels):\n",
    "        rho[i, i] = PhaseSpaceFactor(m ** 2, m_a[i], m_b[i], i)\n",
    "    # Define K-matrix and T-matrix\n",
    "    K = create_symbol_matrix(\"K\", n_channels)\n",
    "    T = K * (sp.eye(n_channels) - sp.I * rho * K).inv()\n",
    "    # Substitute elements\n",
    "    return T.subs(\n",
    "        {\n",
    "            K[i, j]: Kij_relativistic(\n",
    "                m=m,\n",
    "                M=M,\n",
    "                Gamma=Gamma,\n",
    "                gamma=gamma,\n",
    "                i=i,\n",
    "                j=j,\n",
    "                n_resonances=n_resonances,\n",
    "                angular_momentum=angular_momentum,\n",
    "            )\n",
    "            for i in range(n_channels)\n",
    "            for j in range(n_channels)\n",
    "        }\n",
    "    )\n",
    "\n",
    "\n",
    "def create_symbol_matrix(name: str, n: int) -> sp.Matrix:\n",
    "    symbol = sp.IndexedBase(\"K\", shape=(n, n))\n",
    "    return sp.Matrix([[symbol[i, j] for j in range(n)] for i in range(n)])"
   ]
  },
  {
   "cell_type": "markdown",
   "metadata": {},
   "source": [
    "Single channel, one resonance:"
   ]
  },
  {
   "cell_type": "code",
   "execution_count": null,
   "metadata": {
    "tags": []
   },
   "outputs": [],
   "source": [
    "expr = relativistic_k_matrix(n_resonances=1, n_channels=1)[0, 0]\n",
    "Math(\n",
    "    sp.multiline_latex(\n",
    "        lhs=expr,\n",
    "        rhs=symplot.partial_doit(expr, sp.Sum).simplify(doit=False),\n",
    "    )\n",
    ")"
   ]
  },
  {
   "cell_type": "markdown",
   "metadata": {},
   "source": [
    "Two channels, one resonances:"
   ]
  },
  {
   "cell_type": "code",
   "execution_count": null,
   "metadata": {
    "tags": []
   },
   "outputs": [],
   "source": [
    "expr = relativistic_k_matrix(n_resonances=1, n_channels=2)[0, 0]\n",
    "symplot.partial_doit(expr, sp.Sum).simplify(doit=False)"
   ]
  },
  {
   "cell_type": "markdown",
   "metadata": {},
   "source": [
    "Single channel, $n_R$ resonances:"
   ]
  },
  {
   "cell_type": "code",
   "execution_count": null,
   "metadata": {},
   "outputs": [],
   "source": [
    "relativistic_k_matrix(n_resonances, n_channels=1)[0, 0]"
   ]
  },
  {
   "cell_type": "markdown",
   "metadata": {},
   "source": [
    "Two channels, $n_R$ resonances:"
   ]
  },
  {
   "cell_type": "code",
   "execution_count": null,
   "metadata": {
    "tags": [
     "full-width"
    ]
   },
   "outputs": [],
   "source": [
    "expr = relativistic_k_matrix(n_resonances, n_channels=2)[0, 0]\n",
    "Math(sp.multiline_latex(\"\", expr))"
   ]
  },
  {
   "cell_type": "markdown",
   "metadata": {},
   "source": [
    "## Visualization"
   ]
  },
  {
   "cell_type": "markdown",
   "metadata": {},
   "source": [
    "Again, let's use {mod}`symplot` to visualize the relativistic $\\boldsymbol{K}$-matrix for arbitrary $n_R$.\n",
    "\n",
    ":::{tip}\n",
    "\n",
    "{doc}`/report/008` explains the need for {func}`symplot.substitute_indexed_symbols`.\n",
    "\n",
    ":::"
   ]
  },
  {
   "cell_type": "code",
   "execution_count": null,
   "metadata": {
    "jupyter": {
     "source_hidden": true
    },
    "tags": [
     "scroll-input",
     "hide-cell"
    ]
   },
   "outputs": [],
   "source": [
    "def plot_relativistic_k_matrix(\n",
    "    n_channels: int,\n",
    "    n_resonances: int,\n",
    "    angular_momentum: Union[int, sp.Symbol] = 0,\n",
    "    title: str = \"\",\n",
    ") -> None:\n",
    "    # Convert to Symbol: symplot cannot handle IndexedBase\n",
    "    epsilon = sp.Symbol(\"epsilon\")\n",
    "    i, j = sp.symbols(\"i, j\", integer=True, negative=False)\n",
    "    j = i\n",
    "    expr = relativistic_k_matrix(\n",
    "        n_resonances, n_channels, angular_momentum=angular_momentum\n",
    "    ).doit()[i, j]\n",
    "    expr = symplot.substitute_indexed_symbols(expr)\n",
    "    expr = expr.subs(m, m + epsilon * sp.I)\n",
    "    np_expr, sliders = symplot.prepare_sliders(expr, m)\n",
    "    symbol_to_arg = {\n",
    "        symbol: arg for arg, symbol in sliders._arg_to_symbol.items()\n",
    "    }\n",
    "\n",
    "    # Set plot domain\n",
    "    x_min, x_max = 1e-3, 3\n",
    "    y_min, y_max = -0.5, +0.5\n",
    "    z_min, z_max = -2, +2\n",
    "\n",
    "    plot_domain = np.linspace(x_min, x_max, num=500)\n",
    "    x_values = np.linspace(x_min, x_max, num=160)\n",
    "    y_values = np.linspace(y_min, y_max, num=80)\n",
    "    X, Y = np.meshgrid(x_values, y_values)\n",
    "    plot_domain_complex = X + Y * 1j\n",
    "\n",
    "    z_cut_min = 0.75 * z_min\n",
    "    z_cut_max = 0.75 * z_max\n",
    "    cut_off_min = np.vectorize(lambda z: z if z > z_cut_min else z_cut_min)\n",
    "    cut_off_max = np.vectorize(lambda z: z if z < z_cut_max else z_cut_max)\n",
    "\n",
    "    # Set slider values and ranges\n",
    "    m0_values = np.linspace(x_min, x_max, num=n_resonances + 2)\n",
    "    m0_values = m0_values[1:-1]\n",
    "\n",
    "    def set_default_values():\n",
    "        if \"L\" in sliders:\n",
    "            sliders.set_ranges(L=(0, 8))\n",
    "        sliders.set_ranges(\n",
    "            {\n",
    "                \"i\": (0, n_channels - 1),\n",
    "                \"epsilon\": (y_min * 0.2, y_max * 0.2, 0.01),\n",
    "            }\n",
    "        )\n",
    "        for R in range(n_resonances):\n",
    "            # ranges\n",
    "            sliders.set_ranges({f\"m{R}\": (0, 3, 100)})\n",
    "            for i in range(n_channels):\n",
    "                sliders.set_ranges(\n",
    "                    {\n",
    "                        fR\"\\Gamma_{{{R},{i}}}\": (0, 2, 100),\n",
    "                        fR\"\\gamma_{{{R},{i}}}\": (0, 5, 100),\n",
    "                        f\"m_a{i}\": (0, 1, 0.01),\n",
    "                        f\"m_b{i}\": (0, 1, 0.01),\n",
    "                    }\n",
    "                )\n",
    "            # values\n",
    "            sliders.set_values({f\"m{R}\": m0_values[R]})\n",
    "            for i in range(n_channels):\n",
    "                sliders.set_values(\n",
    "                    {\n",
    "                        fR\"\\Gamma_{{{R},{i}}}\": 0.4 + R * 0.2 - i * 0.3,\n",
    "                        fR\"\\gamma_{{{R},{i}}}\": 2.5 - 0.4 * R + 0.3 * i,\n",
    "                        f\"m_a{i}\": (i + 1) * 0.25,\n",
    "                        f\"m_b{i}\": (i + 1) * 0.25,\n",
    "                    }\n",
    "                )\n",
    "\n",
    "    set_default_values()\n",
    "\n",
    "    # Create interactive plots\n",
    "    controls = Controls(**sliders)\n",
    "    nrows = 2  # set to 3 for imag+real\n",
    "    fig, axes = plt.subplots(\n",
    "        nrows=nrows,\n",
    "        figsize=(8, nrows * 3.0),\n",
    "        sharex=True,\n",
    "        tight_layout=True,\n",
    "    )\n",
    "    for ax in axes:\n",
    "        ax.set_xlim(x_min, x_max)\n",
    "    if not title:\n",
    "        title = (\n",
    "            fR\"${n_channels} \\times {n_channels}$ $K$-matrix\"\n",
    "            f\" with {n_resonances} resonances\"\n",
    "        )\n",
    "    fig.suptitle(title)\n",
    "\n",
    "    # 2D plot\n",
    "    axes[0].set_ylabel(\"$|T|^{2}$\")\n",
    "    axes[0].set_yticks([])\n",
    "\n",
    "    def plot(channel: int):\n",
    "        def wrapped(*args, **kwargs) -> sp.Expr:\n",
    "            kwargs[\"i\"] = channel\n",
    "            return np.abs(np_expr(*args, **kwargs)) ** 2\n",
    "\n",
    "        return wrapped\n",
    "\n",
    "    for i in range(n_channels):\n",
    "        iplt.plot(\n",
    "            plot_domain,\n",
    "            plot(i),\n",
    "            ax=axes[0],\n",
    "            controls=controls,\n",
    "            ylim=\"auto\",\n",
    "            label=f\"channel {i}\",\n",
    "        )\n",
    "    if n_channels > 1:\n",
    "        axes[0].legend(loc=\"upper right\")\n",
    "    mass_line_style = dict(\n",
    "        c=\"red\",\n",
    "        alpha=0.3,\n",
    "    )\n",
    "    for name in controls.params:\n",
    "        if not re.match(r\"^m[0-9]+$\", name):\n",
    "            continue\n",
    "        iplt.axvline(controls[name], ax=axes[0], **mass_line_style)\n",
    "\n",
    "    # 3D plot\n",
    "    def plot3(**kwargs):\n",
    "        epsilon = kwargs[\"epsilon\"]\n",
    "        kwargs[\"epsilon\"] = 0\n",
    "        Z = np_expr(plot_domain_complex, **kwargs)\n",
    "        Z_imag = cut_off_min(cut_off_max(Z.imag))\n",
    "        for ax in axes[1:]:\n",
    "            ax.clear()\n",
    "        axes[-1].pcolormesh(X, Y, Z_imag, cmap=cm.coolwarm)\n",
    "        i = kwargs[\"i\"]\n",
    "        if n_channels == 1:\n",
    "            axes[-1].set_title(\"Im $T$\")\n",
    "        else:\n",
    "            axes[-1].set_title(f\"Im $T$, channel {i}\")\n",
    "        if len(axes) == 3:\n",
    "            Z_real = cut_off_min(cut_off_max(Z.real))\n",
    "            axes[-2].pcolormesh(X, Y, Z_real, cmap=cm.coolwarm)\n",
    "            axes[-2].set_title(\"Re $T$\")\n",
    "        for ax in axes[1:]:\n",
    "            ax.axhline(0, linewidth=0.5, c=\"black\", linestyle=\"dotted\")\n",
    "            if epsilon != 0.0:\n",
    "                ax.axhline(\n",
    "                    epsilon,\n",
    "                    linewidth=0.5,\n",
    "                    c=\"blue\",\n",
    "                    linestyle=\"dotted\",\n",
    "                    label=R\"$\\epsilon$\",\n",
    "                )\n",
    "                axes[-1].text(\n",
    "                    x=x_min + 0.008,\n",
    "                    y=epsilon + 0.01,\n",
    "                    s=R\"$\\epsilon$\",\n",
    "                    c=\"blue\",\n",
    "                )\n",
    "            for R in range(n_resonances):\n",
    "                mass = kwargs[f\"m{R}\"]\n",
    "                ax.axvline(mass, **mass_line_style)\n",
    "            if \"m_a0\" in kwargs:\n",
    "                colors = cm.plasma(np.linspace(0, 1, n_channels))\n",
    "                for i, color in enumerate(colors):\n",
    "                    m_a = kwargs[f\"m_a{i}\"]\n",
    "                    m_b = kwargs[f\"m_b{i}\"]\n",
    "                    s_thr = m_a + m_b\n",
    "                    ax.axvline(s_thr, c=color, linestyle=\"dotted\")\n",
    "                    ax.text(\n",
    "                        x=s_thr,\n",
    "                        y=0.95 * y_min,\n",
    "                        s=f\"$m_{{a{i}}}+m_{{b{i}}}$\",\n",
    "                        c=color,\n",
    "                        rotation=-90,\n",
    "                    )\n",
    "                    m_diff = m_a - m_b\n",
    "                    x_offset = (x_max - x_min) * 0.015\n",
    "                    if (\n",
    "                        m_diff > x_offset + 0.01\n",
    "                        and s_thr - abs(m_diff) > x_offset\n",
    "                    ):\n",
    "                        ax.axvline(\n",
    "                            m_diff,\n",
    "                            c=color,\n",
    "                            linestyle=\"dashed\",\n",
    "                            alpha=0.5,\n",
    "                        )\n",
    "                        ax.text(\n",
    "                            x=m_diff - x_offset,\n",
    "                            y=0.95 * y_min,\n",
    "                            s=f\"$m_{{a{i}}}-m_{{b{i}}}$\",\n",
    "                            c=color,\n",
    "                            rotation=+90,\n",
    "                        )\n",
    "            ax.set_ylabel(\"Im $m$\")\n",
    "            ax.set_xticks([])\n",
    "            ax.set_yticks([])\n",
    "            ax.set_facecolor(\"white\")\n",
    "        for R in range(n_resonances):\n",
    "            mass = kwargs[f\"m{R}\"]\n",
    "            axes[-1].text(\n",
    "                x=mass + (x_max - x_min) * 0.008,\n",
    "                y=0.95 * y_min,\n",
    "                s=f\"$m_{R}$\",\n",
    "                c=\"red\",\n",
    "            )\n",
    "        axes[-1].set_xlabel(\"Re $m$\")\n",
    "        fig.canvas.draw_idle()\n",
    "\n",
    "    # Create GUI\n",
    "    sliders_copy = dict(sliders)\n",
    "    h_boxes = []\n",
    "    for R in range(n_resonances):\n",
    "        buttons = [sliders_copy.pop(f\"m{R}\")]\n",
    "        if n_channels == 1:\n",
    "            buttons.append(\n",
    "                sliders_copy.pop(symbol_to_arg[fR\"\\Gamma_{{{R},0}}\"])\n",
    "            )\n",
    "            buttons.append(\n",
    "                sliders_copy.pop(symbol_to_arg[fR\"\\gamma_{{{R},0}}\"])\n",
    "            )\n",
    "        h_box = ipywidgets.HBox(buttons)\n",
    "        h_boxes.append(h_box)\n",
    "    remaining_sliders = sorted(\n",
    "        sliders_copy.values(), key=lambda s: s.description\n",
    "    )\n",
    "    ui = ipywidgets.VBox(h_boxes + remaining_sliders)\n",
    "    output = ipywidgets.interactive_output(plot3, controls=sliders)\n",
    "    display(ui, output)\n",
    "\n",
    "\n",
    "def to_symbol(idx: sp.Indexed) -> sp.Symbol:\n",
    "    base_name, _, _ = str(idx).rpartition(\"[\")\n",
    "    subscript = \",\".join(map(str, idx.indices))\n",
    "    if len(idx.indices) > 1:\n",
    "        base_name = translate(base_name)\n",
    "        subscript = \"_{\" + subscript + \"}\"\n",
    "    return sp.Symbol(f\"{base_name}{subscript}\")\n",
    "\n",
    "\n",
    "def replace_indexed_symbols(expression: sp.Expr) -> sp.Expr:\n",
    "    return expression.subs(\n",
    "        {\n",
    "            s: to_symbol(s)\n",
    "            for s in expression.free_symbols\n",
    "            if isinstance(s, sp.Indexed)\n",
    "        }\n",
    "    )"
   ]
  },
  {
   "cell_type": "code",
   "execution_count": null,
   "metadata": {
    "tags": [
     "remove-output"
    ]
   },
   "outputs": [],
   "source": [
    "plot_relativistic_k_matrix(\n",
    "    n_resonances=2,\n",
    "    n_channels=1,\n",
    "    angular_momentum=L,\n",
    "    title=\"Relativistic $K$-matrix, single channel\",\n",
    ")"
   ]
  },
  {
   "cell_type": "markdown",
   "metadata": {},
   "source": [
    "{{ run_interactive }}"
   ]
  },
  {
   "cell_type": "code",
   "execution_count": null,
   "metadata": {
    "jupyter": {
     "source_hidden": true
    },
    "tags": [
     "remove-input"
    ]
   },
   "outputs": [],
   "source": [
    "if STATIC_WEB_PAGE:\n",
    "    output_file = \"009-relativistic-K-matrix-n1-r2.png\"\n",
    "    plt.savefig(output_file, dpi=150)\n",
    "    display(Image(output_file))"
   ]
  }
 ],
 "metadata": {
  "kernelspec": {
   "display_name": "Python 3",
   "language": "python",
   "name": "python3"
  },
  "language_info": {
   "codemirror_mode": {
    "name": "ipython",
    "version": 3
   },
   "file_extension": ".py",
   "mimetype": "text/x-python",
   "name": "python",
   "nbconvert_exporter": "python",
   "pygments_lexer": "ipython3",
   "version": "3.8.10"
  }
 },
 "nbformat": 4,
 "nbformat_minor": 4
}
