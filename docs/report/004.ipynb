{
 "cells": [
  {
   "cell_type": "markdown",
   "metadata": {},
   "source": [
    "# [TR-004] Analyticity (WIP)"
   ]
  },
  {
   "cell_type": "markdown",
   "metadata": {
    "tags": [
     "remove-cell"
    ]
   },
   "source": [
    "<!-- cspell:ignore matexpr -->"
   ]
  },
  {
   "cell_type": "markdown",
   "metadata": {},
   "source": [
    "```{warning}\n",
    "This report is Work-in-Progress.\n",
    "```"
   ]
  },
  {
   "cell_type": "markdown",
   "metadata": {},
   "source": [
    "Investigation of Section 2.1.2 in {cite}`aitchisonUnitarityAnalyticityCrossing2015`."
   ]
  },
  {
   "cell_type": "code",
   "execution_count": null,
   "metadata": {
    "jupyter": {
     "source_hidden": true
    },
    "tags": [
     "hide-cell"
    ]
   },
   "outputs": [],
   "source": [
    "%config InlineBackend.figure_formats = ['svg']\n",
    "%matplotlib widget\n",
    "import os\n",
    "import warnings\n",
    "\n",
    "import matplotlib.pyplot as plt\n",
    "import numpy as np\n",
    "import sympy as sp\n",
    "from ampform.dynamics import phase_space_factor\n",
    "from matplotlib import cm\n",
    "from mpl_interactions import heatmap_slicer\n",
    "\n",
    "warnings.filterwarnings(\"ignore\")\n",
    "\n",
    "STATIC_WEB_PAGE = {\"EXECUTE_NB\", \"READTHEDOCS\"}.intersection(os.environ)"
   ]
  },
  {
   "cell_type": "code",
   "execution_count": null,
   "metadata": {},
   "outputs": [],
   "source": [
    "s = sp.Symbol(\"s\")\n",
    "m1, m2 = sp.symbols(\"m1 m2\", real=True)\n",
    "rho = 16 * sp.pi * phase_space_factor(s, m1, m2)\n",
    "rho"
   ]
  },
  {
   "cell_type": "markdown",
   "metadata": {},
   "source": [
    "Or, assuming both decay products to be of unit mass:"
   ]
  },
  {
   "cell_type": "code",
   "execution_count": null,
   "metadata": {
    "jupyter": {
     "source_hidden": true
    },
    "tags": [
     "hide-input"
    ]
   },
   "outputs": [],
   "source": [
    "rho.subs(\n",
    "    {\n",
    "        m1: 1,\n",
    "        m2: 1,\n",
    "    }\n",
    ")"
   ]
  },
  {
   "cell_type": "code",
   "execution_count": null,
   "metadata": {
    "jupyter": {
     "source_hidden": true
    },
    "tags": [
     "hide-cell"
    ]
   },
   "outputs": [],
   "source": [
    "np_rho = sp.lambdify((s, m1, m2), rho, \"numpy\")\n",
    "\n",
    "m1_val = 1.8\n",
    "m2_val = 0.5\n",
    "s_thr = (m1_val + m2_val) ** 2\n",
    "s_diff = abs(m1_val - m2_val) ** 2\n",
    "\n",
    "x = np.linspace(-1, +7, num=100)\n",
    "y = np.linspace(-2, +2, num=100)\n",
    "X, Y = np.meshgrid(x, y)\n",
    "s_values = X + Y * 1j\n",
    "rho_values = np_rho(s_values, m1=m1_val, m2=m2_val)"
   ]
  },
  {
   "cell_type": "code",
   "execution_count": null,
   "metadata": {
    "jupyter": {
     "source_hidden": true
    },
    "tags": [
     "hide-input",
     "remove-output"
    ]
   },
   "outputs": [],
   "source": [
    "rho_min, rho_max = -5, +5\n",
    "Z = rho_values.real\n",
    "fig, ax = plt.subplots(\n",
    "    figsize=(10, 10),\n",
    "    subplot_kw={\"projection\": \"3d\"},\n",
    "    tight_layout=True,\n",
    ")\n",
    "fig.suptitle(R\"Solution sheet for $\\rho$ in the $s$-plane\")\n",
    "colors = np.select(\n",
    "    [Z < rho_min, Z < 0, Z >= 0, Z > rho_max],\n",
    "    [rho_min, Z / np.abs(rho_min), Z / np.abs(rho_max), rho_max],\n",
    ")\n",
    "colors = (colors + 1) / 2\n",
    "ax.plot_surface(\n",
    "    X,\n",
    "    Y,\n",
    "    Z,\n",
    "    facecolors=cm.bwr(colors),\n",
    "    linewidth=0,\n",
    ")\n",
    "ax.set_xlabel(\"Re($s$)\")\n",
    "ax.set_ylabel(\"Im($s$)\")\n",
    "ax.set_zlabel(R\"Re($\\rho$)\")\n",
    "ax.set_zlim(rho_min, rho_max)\n",
    "ax.view_init(elev=25, azim=-110)\n",
    "plt.show()"
   ]
  },
  {
   "cell_type": "code",
   "execution_count": null,
   "metadata": {
    "jupyter": {
     "source_hidden": true
    },
    "tags": [
     "remove-input"
    ]
   },
   "outputs": [],
   "source": [
    "if STATIC_WEB_PAGE:\n",
    "    from IPython.display import SVG\n",
    "\n",
    "    output_file = \"004-3D-plot.svg\"\n",
    "    plt.savefig(output_file)\n",
    "    display(SVG(output_file))"
   ]
  },
  {
   "cell_type": "code",
   "execution_count": null,
   "metadata": {
    "jupyter": {
     "source_hidden": true
    },
    "tags": [
     "hide-input",
     "remove-output"
    ]
   },
   "outputs": [],
   "source": [
    "fig, axes = heatmap_slicer(\n",
    "    x,\n",
    "    y,\n",
    "    (rho_values.real, rho_values.imag),\n",
    "    heatmap_names=(R\"Re($\\rho$)\", R\"Im($\\rho$)\"),\n",
    "    labels=(\"Re($s$)\", \"Im($s$)\"),\n",
    "    interaction_type=\"move\",\n",
    "    slices=\"both\",\n",
    "    vmin=-5,\n",
    "    vmax=5,\n",
    "    figsize=(12, 3),\n",
    ")\n",
    "for ax in axes[2:]:\n",
    "    ax.set_ylim(rho_min, rho_max)\n",
    "    tick_width = 5\n",
    "    tick_min = np.around(rho_min / tick_width, decimals=0) * tick_width\n",
    "    ax.set_yticks(np.arange(tick_min, rho_max + 0.1, 5))\n",
    "axes[2].set_title(\"Re($s$)\")\n",
    "axes[3].set_title(\"Im($s$)\")\n",
    "for ax in axes[:3]:\n",
    "    ax.axvline(s_diff, c=\"black\", linewidth=0.3, linestyle=\"dotted\")\n",
    "    ax.axvline(s_thr, c=\"black\", linewidth=0.3, linestyle=\"dotted\")\n",
    "for ax in axes:\n",
    "    ax.axvline(0, c=\"black\", linewidth=0.5)\n",
    "    ax.axhline(0, c=\"black\", linewidth=0.5)\n",
    "axes[3].axvline(0, c=\"black\", linewidth=0.5)\n",
    "plt.show()"
   ]
  },
  {
   "cell_type": "markdown",
   "metadata": {},
   "source": [
    "{{ run_interactive }}"
   ]
  },
  {
   "cell_type": "code",
   "execution_count": null,
   "metadata": {
    "jupyter": {
     "source_hidden": true
    },
    "tags": [
     "remove-input"
    ]
   },
   "outputs": [],
   "source": [
    "if STATIC_WEB_PAGE:\n",
    "    from IPython.display import SVG\n",
    "\n",
    "    output_file = \"004-interactive-locator.svg\"\n",
    "    plt.savefig(output_file)\n",
    "    display(SVG(output_file))"
   ]
  }
 ],
 "metadata": {
  "kernelspec": {
   "display_name": "Python 3",
   "language": "python",
   "name": "python3"
  },
  "language_info": {
   "codemirror_mode": {
    "name": "ipython",
    "version": 3
   },
   "file_extension": ".py",
   "mimetype": "text/x-python",
   "name": "python",
   "nbconvert_exporter": "python",
   "pygments_lexer": "ipython3",
   "version": "3.8.10"
  }
 },
 "nbformat": 4,
 "nbformat_minor": 4
}
