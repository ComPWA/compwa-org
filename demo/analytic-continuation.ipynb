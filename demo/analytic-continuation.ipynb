{
 "cells": [
  {
   "cell_type": "markdown",
   "metadata": {
    "slideshow": {
     "slide_type": "skip"
    },
    "tags": []
   },
   "source": [
    "<!-- app-mode -->"
   ]
  },
  {
   "cell_type": "code",
   "execution_count": null,
   "metadata": {
    "hideCode": true,
    "jupyter": {
     "source_hidden": true
    },
    "slideshow": {
     "slide_type": "skip"
    },
    "tags": []
   },
   "outputs": [],
   "source": [
    "%%sh\n",
    "pip install scipy > /dev/null"
   ]
  },
  {
   "cell_type": "code",
   "execution_count": null,
   "metadata": {
    "hideCode": true,
    "hideOutput": true,
    "hidePrompt": false,
    "jupyter": {
     "source_hidden": true
    },
    "slideshow": {
     "slide_type": "skip"
    },
    "tags": []
   },
   "outputs": [],
   "source": [
    "%config InlineBackend.figure_formats = ['svg']\n",
    "%matplotlib widget\n",
    "import logging\n",
    "import warnings\n",
    "\n",
    "import matplotlib.pyplot as plt\n",
    "import mpl_interactions.ipyplot as iplt\n",
    "import numpy as np\n",
    "import qrules\n",
    "import scipy.integrate\n",
    "import symplot\n",
    "import sympy as sp\n",
    "from ampform.dynamics import (\n",
    "    BlattWeisskopfSquared,\n",
    "    breakup_momentum_squared,\n",
    "    coupled_width,\n",
    "    phase_space_factor,\n",
    "    phase_space_factor_analytic,\n",
    "    phase_space_factor_complex,\n",
    "    relativistic_breit_wigner,\n",
    "    relativistic_breit_wigner_with_ff,\n",
    ")\n",
    "from ampform.dynamics.math import ComplexSqrt\n",
    "from IPython.display import HTML, Math\n",
    "from ipywidgets import widgets\n",
    "\n",
    "logging.basicConfig()\n",
    "logging.getLogger().setLevel(logging.ERROR)\n",
    "\n",
    "warnings.filterwarnings(\"ignore\")\n",
    "\n",
    "np.seterr(divide=\"ignore\")\n",
    "\n",
    "PDG = qrules.load_pdg()\n",
    "\n",
    "HTML(\n",
    "    \"\"\"\n",
    "<style>\n",
    "div.prompt {display:none}\n",
    "</style>\n",
    "\"\"\"\n",
    ")"
   ]
  },
  {
   "cell_type": "markdown",
   "metadata": {
    "slideshow": {
     "slide_type": "slide"
    },
    "tags": []
   },
   "source": [
    "# Analytic continuation"
   ]
  },
  {
   "cell_type": "markdown",
   "metadata": {},
   "source": [
    "Following slides summarizes two attempts at respecting analyticity in the $S$-matrix:\n",
    "1. The existing implementation in AmpForm following [[PDG2018, §Resonances, p.9](https://pdg.lbl.gov/2018/reviews/rpp2018-rev-resonances.pdf#page=9)]\n",
    "2. A sketch of solving the dispersion integral following [[PDG2020, §Resonances, pp.9–10](https://pdg.lbl.gov/2020/reviews/rpp2020-rev-resonances.pdf#page=9)] (Chew-Mandelstam)"
   ]
  },
  {
   "cell_type": "markdown",
   "metadata": {
    "slideshow": {
     "slide_type": "subslide"
    }
   },
   "source": [
    "## 'Case-wise' phase space factor"
   ]
  },
  {
   "cell_type": "code",
   "execution_count": null,
   "metadata": {
    "hideCode": true,
    "hidePrompt": false,
    "slideshow": {
     "slide_type": "skip"
    },
    "tags": []
   },
   "outputs": [],
   "source": [
    "m, m0, w0, m_a, m_b, d = sp.symbols(\"m m0 Gamma0 m_a m_b d\")\n",
    "L = sp.Symbol(\"L\", integer=True)\n",
    "s = m ** 2"
   ]
  },
  {
   "cell_type": "code",
   "execution_count": null,
   "metadata": {
    "hideCode": true,
    "hidePrompt": false,
    "jupyter": {
     "source_hidden": true
    },
    "slideshow": {
     "slide_type": "skip"
    },
    "tags": []
   },
   "outputs": [],
   "source": [
    "rel_bw = relativistic_breit_wigner(\n",
    "    s=s,\n",
    "    mass0=m0,\n",
    "    gamma0=w0,\n",
    ")\n",
    "rel_bw_with_ff = relativistic_breit_wigner_with_ff(\n",
    "    s=s,\n",
    "    mass0=m0,\n",
    "    gamma0=w0,\n",
    "    m_a=m_a,\n",
    "    m_b=m_b,\n",
    "    angular_momentum=L,\n",
    "    meson_radius=d,\n",
    "    phsp_factor=phase_space_factor,\n",
    ")\n",
    "\n",
    "running_width = coupled_width(\n",
    "    s=s,\n",
    "    mass0=m0,\n",
    "    gamma0=w0,\n",
    "    m_a=m_a,\n",
    "    m_b=m_b,\n",
    "    angular_momentum=L,\n",
    "    meson_radius=d,\n",
    "    phsp_factor=phase_space_factor,\n",
    ")"
   ]
  },
  {
   "cell_type": "markdown",
   "metadata": {
    "tags": []
   },
   "source": [
    "Non-relativistic Breit-Wigner:"
   ]
  },
  {
   "cell_type": "code",
   "execution_count": null,
   "metadata": {
    "hideCode": true,
    "hidePrompt": false,
    "jupyter": {
     "source_hidden": true
    },
    "tags": []
   },
   "outputs": [],
   "source": [
    "rel_bw"
   ]
  },
  {
   "cell_type": "markdown",
   "metadata": {},
   "source": [
    "Relativistic Breit-Wigner with form factor _above threshold only_ [[PDG2020, §Resonances, p.6](https://pdg.lbl.gov/2020/reviews/rpp2020-rev-resonances.pdf#page=6)]:"
   ]
  },
  {
   "cell_type": "code",
   "execution_count": null,
   "metadata": {
    "hideCode": true,
    "hidePrompt": false,
    "jupyter": {
     "source_hidden": true
    },
    "tags": []
   },
   "outputs": [],
   "source": [
    "q_squared = breakup_momentum_squared(s, m_a, m_b)\n",
    "ff_sq = BlattWeisskopfSquared(L, z=q_squared * d ** 2)\n",
    "rel_bw_with_ff_subs = rel_bw_with_ff.subs(\n",
    "    {\n",
    "        2 * q_squared: 2 * sp.Symbol(\"q^{2}(m)\"),\n",
    "        ff_sq: sp.Symbol(R\"\\color{blue}{B_{L}^{2}\\left(q\\right)}\"),\n",
    "        running_width: sp.Symbol(R\"\\Gamma(m)\"),\n",
    "    }\n",
    ")\n",
    "rel_bw_with_ff_subs"
   ]
  },
  {
   "cell_type": "markdown",
   "metadata": {
    "slideshow": {
     "slide_type": "-"
    }
   },
   "source": [
    "Coupled width [[PDG2020, §Resonances, Eq. (49.21)](https://pdg.lbl.gov/2020/reviews/rpp2020-rev-resonances.pdf#page=6)]:"
   ]
  },
  {
   "cell_type": "code",
   "execution_count": null,
   "metadata": {
    "hideCode": true,
    "hidePrompt": false,
    "jupyter": {
     "source_hidden": true
    },
    "tags": []
   },
   "outputs": [],
   "source": [
    "q_squared = breakup_momentum_squared(s, m_a, m_b)\n",
    "q0_squared = breakup_momentum_squared(m0 ** 2, m_a, m_b)\n",
    "ff_sq = BlattWeisskopfSquared(L, z=q_squared * d ** 2)\n",
    "ff0_sq = BlattWeisskopfSquared(L, z=q0_squared * d ** 2)\n",
    "rho = phase_space_factor(s, m_a, m_b)\n",
    "rho0 = phase_space_factor(m0 ** 2, m_a, m_b)\n",
    "running_width = running_width.subs(\n",
    "    {\n",
    "        rho\n",
    "        / rho0: sp.Symbol(R\"\\color{red}{\\rho(m)}\")\n",
    "        / sp.Symbol(R\"\\color{red}{\\rho(m_{0})}\"),\n",
    "        ff_sq: sp.Symbol(\"B_{L}^{2}(q)\"),\n",
    "        ff0_sq: sp.Symbol(\"B_{L}^{2}(q_{0})\"),\n",
    "    },\n",
    ")\n",
    "running_width_math = Math(fR\"\\Gamma(m) = {sp.latex(running_width)}\")\n",
    "running_width_math"
   ]
  },
  {
   "cell_type": "markdown",
   "metadata": {},
   "source": [
    "with $B_L^2(q)$ the Blatt-Weisskopf form factor as defined [here](https://ampform.readthedocs.io/en/stable/api/ampform.dynamics.html#ampform.dynamics.BlattWeisskopfSquared)."
   ]
  },
  {
   "cell_type": "markdown",
   "metadata": {
    "slideshow": {
     "slide_type": "subslide"
    }
   },
   "source": [
    "### Phase space factor"
   ]
  },
  {
   "cell_type": "markdown",
   "metadata": {},
   "source": [
    "We have to choose a phase space factor $\\color{red}{\\rho}$ for the coupled width:"
   ]
  },
  {
   "cell_type": "code",
   "execution_count": null,
   "metadata": {
    "hideCode": true,
    "hidePrompt": false,
    "jupyter": {
     "source_hidden": true
    },
    "tags": []
   },
   "outputs": [],
   "source": [
    "running_width_math"
   ]
  },
  {
   "cell_type": "markdown",
   "metadata": {
    "slideshow": {
     "slide_type": "subslide"
    }
   },
   "source": [
    "### Phase space factor ― some options"
   ]
  },
  {
   "cell_type": "code",
   "execution_count": null,
   "metadata": {
    "hideCode": true,
    "hidePrompt": false,
    "jupyter": {
     "source_hidden": true
    },
    "slideshow": {
     "slide_type": "skip"
    },
    "tags": []
   },
   "outputs": [],
   "source": [
    "q_squared = breakup_momentum_squared(s, m_a, m_b)\n",
    "rho = phase_space_factor(s, m_a, m_b)\n",
    "rho_analytic = phase_space_factor_analytic(s, m_a, m_b)"
   ]
  },
  {
   "cell_type": "markdown",
   "metadata": {
    "tags": []
   },
   "source": [
    "**Break-up momentum** [[PDG2020, §Kinematics, Eq. (48.1)](https://pdg.lbl.gov/2020/reviews/rpp2020-rev-kinematics.pdf#page=3)]:"
   ]
  },
  {
   "cell_type": "code",
   "execution_count": null,
   "metadata": {
    "hideCode": true,
    "hidePrompt": false,
    "jupyter": {
     "source_hidden": true
    },
    "tags": [
     "hide-input"
    ]
   },
   "outputs": [],
   "source": [
    "q_squared_math = Math(f\"q(m) = {sp.latex(sp.sqrt(q_squared, evaluate=False))}\")\n",
    "q_squared_math"
   ]
  },
  {
   "cell_type": "markdown",
   "metadata": {
    "slideshow": {
     "slide_type": "-"
    }
   },
   "source": [
    "'Standard' **phase space factor** [[PDG2020, §Resonances, Eq. (49.8)](https://pdg.lbl.gov/2020/reviews/rpp2020-rev-resonances.pdf#page=4)]:"
   ]
  },
  {
   "cell_type": "code",
   "execution_count": null,
   "metadata": {
    "hideCode": true,
    "hidePrompt": false,
    "jupyter": {
     "source_hidden": true
    },
    "tags": [
     "hide-input"
    ]
   },
   "outputs": [],
   "source": [
    "rho_subs = rho.subs(sp.sqrt(q_squared), sp.Symbol(R\"\\sqrt{q^{2}(m)}\"))\n",
    "rho_math = Math(fR\"\\rho(m) = {sp.latex(rho_subs)}\")\n",
    "rho_math"
   ]
  },
  {
   "cell_type": "markdown",
   "metadata": {
    "slideshow": {
     "slide_type": "fragment"
    }
   },
   "source": [
    "'Case-wise' phase space factor [[PDG2018, §Resonances, p.9](https://pdg.lbl.gov/2018/reviews/rpp2018-rev-resonances.pdf#page=9)] (<span style=\"color:red\">only valid if $m_a = m_b$ (?)</span>):"
   ]
  },
  {
   "cell_type": "code",
   "execution_count": null,
   "metadata": {
    "hideCode": true,
    "hidePrompt": false,
    "jupyter": {
     "source_hidden": true
    },
    "tags": [
     "hide-input"
    ]
   },
   "outputs": [],
   "source": [
    "from ampform.dynamics import _analytic_continuation, phase_space_factor_abs\n",
    "\n",
    "rho_ac_math = _analytic_continuation(\n",
    "    sp.Symbol(R\"\\hat{\\rho}\"), s, s_threshold=(m_a + m_b) ** 2\n",
    ")\n",
    "rho_hat = phase_space_factor_abs(s, m_a, m_b)\n",
    "rho_hat_subs = rho_hat.subs(\n",
    "    4 * sp.Abs(q_squared),\n",
    "    4 * sp.Symbol(R\"\\left|q^{2}(m)\\right|\"),\n",
    ")\n",
    "rho_ac_math = Math(\n",
    "    sp.latex(rho_ac_math)\n",
    "    + R\" \\quad \\mathrm{{with}} \\quad \\hat{{\\rho}}(m) = \"\n",
    "    + sp.latex(rho_hat_subs)\n",
    ")\n",
    "rho_ac_math"
   ]
  },
  {
   "cell_type": "markdown",
   "metadata": {
    "slideshow": {
     "slide_type": "slide"
    }
   },
   "source": [
    "### Break-up momentum behavior"
   ]
  },
  {
   "cell_type": "markdown",
   "metadata": {},
   "source": [
    "Underlying issue: branching solutions for <br>\n",
    "$|m_a-m_b| < m < m_a+m_b$:"
   ]
  },
  {
   "cell_type": "code",
   "execution_count": null,
   "metadata": {
    "hideCode": true,
    "hidePrompt": false,
    "jupyter": {
     "source_hidden": true
    },
    "tags": []
   },
   "outputs": [],
   "source": [
    "q_squared_math"
   ]
  },
  {
   "cell_type": "code",
   "execution_count": null,
   "metadata": {
    "hideCode": true,
    "hidePrompt": false,
    "jupyter": {
     "source_hidden": true
    },
    "tags": []
   },
   "outputs": [],
   "source": [
    "np_breakup_momentum_squared, sliders = symplot.prepare_sliders(\n",
    "    plot_symbol=m,\n",
    "    expression=q_squared,\n",
    ")\n",
    "\n",
    "\n",
    "def np_breakup_momentum_squared_left(plot_domain, m_a, m_b):\n",
    "    values = np_breakup_momentum_squared(plot_domain, m_a, m_b)\n",
    "    return np.where(plot_domain < np.abs(m_a - m_b), values, np.nan)\n",
    "\n",
    "\n",
    "def np_breakup_momentum_squared_mid(plot_domain, m_a, m_b):\n",
    "    values = np_breakup_momentum_squared(plot_domain, m_a, m_b)\n",
    "    return np.where(values < 0, values, np.nan)\n",
    "\n",
    "\n",
    "def np_breakup_momentum_squared_right(plot_domain, m_a, m_b):\n",
    "    values = np_breakup_momentum_squared(plot_domain, m_a, m_b)\n",
    "    return np.where(plot_domain > m_a + m_b, values, np.nan)\n",
    "\n",
    "\n",
    "plot_domain = np.linspace(0.01, 4, 400)\n",
    "sliders.set_ranges(\n",
    "    m_a=(0, 2, 200),\n",
    "    m_b=(0, 2, 200),\n",
    ")\n",
    "sliders.set_values(\n",
    "    m_a=1.4,\n",
    "    m_b=0.9,\n",
    ")\n",
    "\n",
    "fig, ax = plt.subplots(figsize=(9, 4.3), tight_layout=True)\n",
    "fig.canvas.toolbar_visible = False\n",
    "ax.set_xlabel(\"$m$\")\n",
    "ax.set_ylabel(\"$q^2(m)$\")\n",
    "controls = iplt.plot(\n",
    "    plot_domain,\n",
    "    np_breakup_momentum_squared_left,\n",
    "    **sliders,\n",
    "    ylim=(-1, 3),\n",
    "    ax=ax,\n",
    "    label=R\"$m \\leq m_a-m_b$\",\n",
    "    c=\"C2\",\n",
    ")\n",
    "iplt.plot(\n",
    "    plot_domain,\n",
    "    np_breakup_momentum_squared_mid,\n",
    "    controls=controls,\n",
    "    ylim=\"auto\",\n",
    "    ax=ax,\n",
    "    label=\"$q^2(m) < 0$\",\n",
    "    c=\"red\",\n",
    ")\n",
    "iplt.plot(\n",
    "    plot_domain,\n",
    "    np_breakup_momentum_squared_right,\n",
    "    controls=controls,\n",
    "    ylim=\"auto\",\n",
    "    ax=ax,\n",
    "    label=R\"$m \\geq m_a+m_b$\",\n",
    "    c=\"C0\",\n",
    ")\n",
    "ax.set_yticks([0])\n",
    "plt.axhline(y=0, c=\"black\", linestyle=\"dotted\", linewidth=1)\n",
    "plt.legend(loc=\"lower right\")\n",
    "plt.show()"
   ]
  },
  {
   "cell_type": "markdown",
   "metadata": {
    "slideshow": {
     "slide_type": "subslide"
    }
   },
   "source": [
    "### Analytic continuation"
   ]
  },
  {
   "cell_type": "markdown",
   "metadata": {
    "tags": []
   },
   "source": [
    "Analytic continuation should take care of those negative values:"
   ]
  },
  {
   "cell_type": "code",
   "execution_count": null,
   "metadata": {
    "hideCode": true,
    "hidePrompt": false,
    "jupyter": {
     "source_hidden": true
    },
    "slideshow": {
     "slide_type": "-"
    },
    "tags": []
   },
   "outputs": [],
   "source": [
    "rho_ac_math"
   ]
  },
  {
   "cell_type": "markdown",
   "metadata": {
    "slideshow": {
     "slide_type": "fragment"
    },
    "tags": []
   },
   "source": [
    "In the following slide, we visualize compare this continuation with slightly modified versions of $q$ and $\\rho$:"
   ]
  },
  {
   "cell_type": "code",
   "execution_count": null,
   "metadata": {
    "hideCode": true,
    "hidePrompt": false,
    "jupyter": {
     "source_hidden": true
    },
    "tags": []
   },
   "outputs": [],
   "source": [
    "q_squared_symbol = sp.Symbol(\"q^{2}(m)\")\n",
    "q_c = ComplexSqrt(q_squared_symbol)\n",
    "rho_c = phase_space_factor_complex(s, m_a, m_b)\n",
    "\n",
    "x = sp.Symbol(\"x\", real=True)\n",
    "complex_sqrt = ComplexSqrt(x)\n",
    "\n",
    "q_c_symbol = sp.Symbol(\"q_{c}(m)\")\n",
    "q_c_subs = q_c.subs(4 * q_squared, 4 * q_squared_symbol)\n",
    "rho_c_subs = rho_c.subs(ComplexSqrt(q_squared), ComplexSqrt(q_squared_symbol))\n",
    "\n",
    "q_c_latex = fR\"{sp.latex(q_c_symbol)} = {sp.latex(q_c)}\"\n",
    "rho_c_latex = fR\"\\rho_c(m) = {sp.latex(rho_c_subs)}\"\n",
    "display(\n",
    "    Math(q_c_latex),\n",
    "    Math(rho_c_latex),\n",
    "    Math(fR\"{sp.latex(complex_sqrt)} = {sp.latex(complex_sqrt.evaluate())}\"),\n",
    ")"
   ]
  },
  {
   "cell_type": "markdown",
   "metadata": {},
   "source": [
    "<span style=\"color:gray;\">This is only to compare analytic behavior to _what $q$ and $\\rho$ would have been_ below threshold if their square root were defined (see [`ComplexSqrt`](https://ampform.readthedocs.io/en/stable/api/ampform.dynamics.math.html#ampform.dynamics.math.ComplexSqrt)). Normally, AmpForm leaves $q$ and $\\rho$ undefined below threshold.</span>"
   ]
  },
  {
   "cell_type": "markdown",
   "metadata": {
    "slideshow": {
     "slide_type": "subslide"
    }
   },
   "source": [
    "### Analytic continuation"
   ]
  },
  {
   "cell_type": "code",
   "execution_count": null,
   "metadata": {
    "hideCode": true,
    "hidePrompt": false,
    "jupyter": {
     "source_hidden": true
    },
    "slideshow": {
     "slide_type": "-"
    },
    "tags": []
   },
   "outputs": [],
   "source": [
    "np_rho_c, sliders = symplot.prepare_sliders(plot_symbol=m, expression=rho_c)\n",
    "np_rho_ac = sp.lambdify((m, m_a, m_b), rho_analytic, \"numpy\")\n",
    "np_breakup_momentum = sp.lambdify(\n",
    "    (m, m_a, m_b), ComplexSqrt(q_squared), \"numpy\"\n",
    ")\n",
    "\n",
    "plot_domain = np.linspace(0, 3, 200)\n",
    "sliders.set_ranges(\n",
    "    m_a=(0, 2, 200),\n",
    "    m_b=(0, 2, 200),\n",
    ")\n",
    "sliders.set_values(\n",
    "    m_a=0.6,\n",
    "    m_b=1.25,\n",
    ")\n",
    "\n",
    "fig, axes = plt.subplots(1, 3, figsize=[13, 4], tight_layout=True)\n",
    "fig.canvas.toolbar_visible = False\n",
    "\n",
    "ax_q, ax_rho, ax_rho_ac = axes\n",
    "for ax in axes:\n",
    "    ax.set_xlabel(\"$m$\")\n",
    "\n",
    "ylim_q = (-0.04, 1.0)\n",
    "ylim_rho = (-0.002, 0.05)\n",
    "\n",
    "\n",
    "def func_imag(func, *args, **kwargs):\n",
    "    return lambda *args, **kwargs: func(*args, **kwargs).imag\n",
    "\n",
    "\n",
    "def func_real(func, *args, **kwargs):\n",
    "    return lambda *args, **kwargs: func(*args, **kwargs).real\n",
    "\n",
    "\n",
    "ax_q.set_title(f\"${q_c_latex}$\")\n",
    "controls = iplt.plot(\n",
    "    plot_domain,\n",
    "    func_real(np_breakup_momentum),\n",
    "    label=\"real\",\n",
    "    **sliders,\n",
    "    ylim=ylim_q,\n",
    "    ax=ax_q,\n",
    "    alpha=0.7,\n",
    ")\n",
    "iplt.plot(\n",
    "    plot_domain,\n",
    "    func_imag(np_breakup_momentum),\n",
    "    label=\"imaginary\",\n",
    "    controls=controls,\n",
    "    ylim=ylim_q,\n",
    "    ax=ax_q,\n",
    "    alpha=0.7,\n",
    ")\n",
    "\n",
    "ax_rho.set_title(f\"${rho_c_latex}$\")\n",
    "iplt.plot(\n",
    "    plot_domain,\n",
    "    func_real(np_rho_c),\n",
    "    label=\"real\",\n",
    "    controls=controls,\n",
    "    ylim=ylim_rho,\n",
    "    ax=ax_rho,\n",
    "    alpha=0.7,\n",
    ")\n",
    "iplt.plot(\n",
    "    plot_domain,\n",
    "    func_imag(np_rho_c),\n",
    "    label=\"imaginary\",\n",
    "    controls=controls,\n",
    "    ylim=ylim_rho,\n",
    "    ax=ax_rho,\n",
    "    alpha=0.7,\n",
    ")\n",
    "\n",
    "ax_rho_ac.set_title(\"analytic\")\n",
    "iplt.plot(\n",
    "    plot_domain,\n",
    "    func_real(np_rho_ac),\n",
    "    label=\"real\",\n",
    "    controls=controls,\n",
    "    ylim=ylim_rho,\n",
    "    ax=ax_rho_ac,\n",
    "    alpha=0.7,\n",
    ")\n",
    "iplt.plot(\n",
    "    plot_domain,\n",
    "    func_imag(np_rho_ac),\n",
    "    label=\"imaginary\",\n",
    "    controls=controls,\n",
    "    ylim=ylim_rho,\n",
    "    ax=ax_rho_ac,\n",
    "    alpha=0.7,\n",
    ")\n",
    "plt.legend(loc=\"upper right\")\n",
    "\n",
    "plt.show()"
   ]
  },
  {
   "cell_type": "code",
   "execution_count": null,
   "metadata": {
    "hideCode": true,
    "jupyter": {
     "source_hidden": true
    },
    "tags": []
   },
   "outputs": [],
   "source": [
    "rho_ac_math"
   ]
  },
  {
   "cell_type": "markdown",
   "metadata": {
    "slideshow": {
     "slide_type": "skip"
    }
   },
   "source": [
    "### Effect on Breit-Wigner"
   ]
  },
  {
   "cell_type": "code",
   "execution_count": null,
   "metadata": {
    "hideCode": true,
    "hidePrompt": false,
    "jupyter": {
     "source_hidden": true
    },
    "slideshow": {
     "slide_type": "skip"
    },
    "tags": []
   },
   "outputs": [],
   "source": [
    "def breakup_momentum(s: sp.Symbol, m_a: sp.Symbol, m_b: sp.Symbol) -> sp.Expr:\n",
    "    q_squared = breakup_momentum_squared(s, m_a, m_b)\n",
    "    return ComplexSqrt(q_squared)\n",
    "\n",
    "\n",
    "bw_q = relativistic_breit_wigner_with_ff(\n",
    "    s=s,\n",
    "    mass0=m0,\n",
    "    gamma0=w0,\n",
    "    m_a=m_a,\n",
    "    m_b=m_b,\n",
    "    angular_momentum=L,\n",
    "    meson_radius=d,\n",
    "    phsp_factor=breakup_momentum,\n",
    ")\n",
    "bw_rho = relativistic_breit_wigner_with_ff(\n",
    "    s=s,\n",
    "    mass0=m0,\n",
    "    gamma0=w0,\n",
    "    m_a=m_a,\n",
    "    m_b=m_b,\n",
    "    angular_momentum=L,\n",
    "    meson_radius=d,\n",
    "    phsp_factor=phase_space_factor_complex,\n",
    ")\n",
    "bw_rho_ac = relativistic_breit_wigner_with_ff(\n",
    "    s=s,\n",
    "    mass0=m0,\n",
    "    gamma0=w0,\n",
    "    m_a=m_a,\n",
    "    m_b=m_b,\n",
    "    angular_momentum=L,\n",
    "    meson_radius=d,\n",
    "    phsp_factor=phase_space_factor_analytic,\n",
    ")\n",
    "\n",
    "\n",
    "def make_argand(func):\n",
    "    def decorated_func(*args, **kwargs):\n",
    "        values = func(plot_domain, *args, **kwargs)\n",
    "        argand = np.array([values.real, values.imag])\n",
    "        return argand.T\n",
    "\n",
    "    return decorated_func"
   ]
  },
  {
   "cell_type": "markdown",
   "metadata": {
    "cell_style": "split",
    "slideshow": {
     "slide_type": "slide"
    },
    "tags": []
   },
   "source": [
    "### Questions about this implementation\n",
    "\n",
    "Analytic continuation ($\\color{red}{\\rho}$):\n",
    "- Does analytic continuation in a Breit-Wigner <br>make sense at all?\n",
    "- Are the two 'bumps' when below threshold desired?\n",
    "- What happened to the 'case-wise' analytic continuation? <br>[[PDG2018, §Resonances, p.9](https://pdg.lbl.gov/2018/reviews/rpp2018-rev-resonances.pdf#page=9)]\n",
    "\n",
    "Relativistic Breit-Wigner with form factor ($\\color{blue}{B_L}$):\n",
    "- What to do with the damping factor below threshold?\n",
    "- With damping factor $F^2_0(z)=1, F^2_1(z)=\\frac{1}{1+z}, F^2_2(z)=\\frac{1}{9+3z+z^2}, ...$<br>\n",
    "  should we choose $z=q/q_0$ or $z=\\left(q/q_0\\right)^2$?<br>\n",
    "  _See note that comes with [`BlattWeisskopfSquared`](https://ampform.readthedocs.io/en/stable/api/ampform.dynamics.html#ampform.dynamics.BlattWeisskopfSquared)_"
   ]
  },
  {
   "cell_type": "code",
   "execution_count": null,
   "metadata": {
    "cell_style": "split",
    "hideCode": true,
    "hidePrompt": false,
    "jupyter": {
     "source_hidden": true
    },
    "slideshow": {
     "slide_type": "-"
    },
    "tags": []
   },
   "outputs": [],
   "source": [
    "np_bw_rho_ac, sliders = symplot.prepare_sliders(\n",
    "    plot_symbol=m,\n",
    "    expression=bw_rho_ac.doit(),\n",
    ")\n",
    "np_bw_rho = sp.lambdify((m, w0, L, d, m0, m_a, m_b), bw_rho.doit())\n",
    "np_bw_q = sp.lambdify((m, w0, L, d, m0, m_a, m_b), bw_q.doit())\n",
    "\n",
    "plot_domain = np.linspace(start=0, stop=4, num=501)\n",
    "sliders.set_ranges(\n",
    "    m0=(0, 4, 50),\n",
    "    Gamma0=(0, 1, 100),\n",
    "    L=(0, 8),\n",
    "    m_a=(0, 2, 200),\n",
    "    m_b=(0, 2, 200),\n",
    "    d=(0, 5),\n",
    ")\n",
    "\n",
    "\n",
    "def set_defaults(ev):\n",
    "    return sliders.set_values(\n",
    "        m0=1.8,\n",
    "        Gamma0=0.6,\n",
    "        L=1,\n",
    "        m_a=0.7,\n",
    "        m_b=0.5,\n",
    "        d=1,\n",
    "    )\n",
    "\n",
    "\n",
    "set_defaults(None)\n",
    "starting_values = widgets.Button(description=\"defaults\")\n",
    "starting_values.on_click(set_defaults)\n",
    "\n",
    "zero_angular_momentum = widgets.Button(description=\"L=0\")\n",
    "zero_angular_momentum.on_click(\n",
    "    lambda ev: sliders.set_values(\n",
    "        L=0,\n",
    "    )\n",
    ")\n",
    "\n",
    "below_threshold = widgets.Button(description=\"below threshold\")\n",
    "below_threshold.on_click(\n",
    "    lambda ev: sliders.set_values(\n",
    "        m0=0.95,\n",
    "        m_a=0.7,\n",
    "        m_b=0.5,\n",
    "    )\n",
    ")\n",
    "\n",
    "just_below_threshold = widgets.Button(description=\"just below threshold\")\n",
    "just_below_threshold.on_click(\n",
    "    lambda ev: sliders.set_values(\n",
    "        m0=1.04,\n",
    "        m_a=0.7,\n",
    "        m_b=0.5,\n",
    "    )\n",
    ")\n",
    "\n",
    "button_box = widgets.HBox(\n",
    "    [\n",
    "        starting_values,\n",
    "        below_threshold,\n",
    "        just_below_threshold,\n",
    "        zero_angular_momentum,\n",
    "    ]\n",
    ")\n",
    "\n",
    "fig, all_axes = plt.subplots(\n",
    "    nrows=3,\n",
    "    ncols=2,\n",
    "    figsize=(8, 8),\n",
    "    gridspec_kw={\"width_ratios\": [1.8, 1]},\n",
    ")\n",
    "fig.suptitle(\"Relativistic Breit-Wigners with different phase space factors\")\n",
    "fig.canvas.toolbar_visible = False\n",
    "\n",
    "for ax_left, ax_right in all_axes:\n",
    "    ax_right.set_ylabel(R\"Im$\\left(A\\right)$\")\n",
    "m_label = \"$m$\"\n",
    "ax_left.set_xlabel(m_label)\n",
    "ax_right.set_xlabel(R\"Re$\\left(A\\right)$\")\n",
    "axes, axes_argand = all_axes.T\n",
    "\n",
    "axes[0].set_title(\"'Complex' break-up momentum $q$\")\n",
    "axes[1].set_title(R\"'Complex' phase space factor $\\rho_\\mathrm{c}$\")\n",
    "axes[2].set_title(R\"'Case-wise' phase space factor\")\n",
    "\n",
    "ylim = \"auto\"  # (-0.3, 0.8)\n",
    "\n",
    "controls = iplt.plot(\n",
    "    plot_domain,\n",
    "    lambda *args, **kwargs: np_bw_q(*args, **kwargs).real,\n",
    "    label=\"real\",\n",
    "    **sliders,\n",
    "    ylim=ylim,\n",
    "    ax=axes[0],\n",
    ")\n",
    "iplt.plot(\n",
    "    plot_domain.real,\n",
    "    lambda *args, **kwargs: np_bw_rho(*args, **kwargs).real,\n",
    "    label=\"real\",\n",
    "    controls=controls,\n",
    "    ylim=ylim,\n",
    "    ax=axes[1],\n",
    ")\n",
    "iplt.plot(\n",
    "    plot_domain.real,\n",
    "    lambda *args, **kwargs: np_bw_rho_ac(*args, **kwargs).real,\n",
    "    label=\"real\",\n",
    "    controls=controls,\n",
    "    ylim=ylim,\n",
    "    ax=axes[2],\n",
    ")\n",
    "iplt.plot(\n",
    "    plot_domain.real,\n",
    "    lambda *args, **kwargs: np_bw_q(*args, **kwargs).imag,\n",
    "    label=\"imaginary\",\n",
    "    controls=controls,\n",
    "    ylim=ylim,\n",
    "    ax=axes[0],\n",
    ")\n",
    "iplt.plot(\n",
    "    plot_domain.real,\n",
    "    lambda *args, **kwargs: np_bw_rho(*args, **kwargs).imag,\n",
    "    label=\"imaginary\",\n",
    "    controls=controls,\n",
    "    ylim=ylim,\n",
    "    ax=axes[1],\n",
    ")\n",
    "iplt.plot(\n",
    "    plot_domain.real,\n",
    "    lambda *args, **kwargs: np_bw_rho_ac(*args, **kwargs).imag,\n",
    "    label=\"imaginary\",\n",
    "    controls=controls,\n",
    "    ylim=ylim,\n",
    "    ax=axes[2],\n",
    ")\n",
    "\n",
    "for ax in axes:\n",
    "    iplt.axvline(\n",
    "        controls[\"m0\"],\n",
    "        c=\"red\",\n",
    "        alpha=0.3,\n",
    "        ax=ax,\n",
    "        label=\"$m_0$\",\n",
    "    )\n",
    "    iplt.axvline(\n",
    "        lambda m_a, m_b, **kwargs: m_a + m_b,\n",
    "        controls=controls,\n",
    "        c=\"black\",\n",
    "        alpha=0.3,\n",
    "        ax=ax,\n",
    "        label=\"$m_a + m_b$\",\n",
    "    )\n",
    "    ax.axhline(0, c=\"black\", linewidth=1)\n",
    "    if isinstance(ylim, tuple):\n",
    "        ax.set_yticks([0])\n",
    "axes[0].legend(loc=\"upper right\")\n",
    "\n",
    "# Argand plots\n",
    "iplt.scatter(\n",
    "    make_argand(np_bw_q),\n",
    "    controls=controls,\n",
    "    parametric=True,\n",
    "    c=plot_domain,\n",
    "    s=1,\n",
    "    xlim=\"auto\",\n",
    "    ylim=\"auto\",\n",
    "    ax=axes_argand[0],\n",
    ")\n",
    "iplt.scatter(\n",
    "    make_argand(np_bw_rho),\n",
    "    controls=controls,\n",
    "    parametric=True,\n",
    "    c=plot_domain,\n",
    "    s=1,\n",
    "    xlim=\"auto\",\n",
    "    ylim=\"auto\",\n",
    "    ax=axes_argand[1],\n",
    ")\n",
    "iplt.scatter(\n",
    "    make_argand(np_bw_rho_ac),\n",
    "    controls=controls,\n",
    "    parametric=True,\n",
    "    c=plot_domain,\n",
    "    s=1,\n",
    "    xlim=\"auto\",\n",
    "    ylim=\"auto\",\n",
    "    ax=axes_argand[2],\n",
    ")\n",
    "for ax in axes_argand:\n",
    "    ax.set_xticks([0])\n",
    "    ax.set_yticks([0])\n",
    "    plt.colorbar(label=m_label, ax=ax, aspect=30, pad=0.01)\n",
    "plt.winter()\n",
    "\n",
    "fig.tight_layout()\n",
    "plt.show()\n",
    "display(button_box)"
   ]
  },
  {
   "cell_type": "markdown",
   "metadata": {
    "slideshow": {
     "slide_type": "subslide"
    },
    "tags": []
   },
   "source": [
    "### Formula overview"
   ]
  },
  {
   "cell_type": "code",
   "execution_count": null,
   "metadata": {
    "hideCode": true,
    "hidePrompt": false,
    "jupyter": {
     "source_hidden": true
    },
    "tags": []
   },
   "outputs": [],
   "source": [
    "display(\n",
    "    rel_bw_with_ff_subs,\n",
    "    running_width_math,\n",
    "    rho_ac_math,\n",
    "    rho_math,\n",
    "    q_squared_math,\n",
    ")"
   ]
  },
  {
   "cell_type": "markdown",
   "metadata": {
    "slideshow": {
     "slide_type": "slide"
    }
   },
   "source": [
    "## Chew-Mandelstam"
   ]
  },
  {
   "cell_type": "markdown",
   "metadata": {},
   "source": [
    "- The 'case-wise' phase space factor has been removed from the PDG in 2019\n",
    "- Instead, it describes an approach _specific to the $K$-matrix_ [[PDG2020, §Resonances, pp.9–10](https://pdg.lbl.gov/2020/reviews/rpp2020-rev-resonances.pdf#page=9)]:\n",
    "  - Chew-Mandelstam in the case of an $S$-wave\n",
    "  - Dispersion integral in the case of non-zero angular momentum $L>0$\n",
    "\n",
    "<span style=\"color:gray;\">See also [ComPWA TR-003](https://compwa-org.readthedocs.io/en/stable/report/003.html)</span>"
   ]
  },
  {
   "cell_type": "markdown",
   "metadata": {
    "slideshow": {
     "slide_type": "subslide"
    }
   },
   "source": [
    "### $S$-wave"
   ]
  },
  {
   "cell_type": "code",
   "execution_count": null,
   "metadata": {
    "hideCode": true,
    "tags": []
   },
   "outputs": [],
   "source": [
    "phsp_scale_factor = 16 * sp.pi ** 2\n",
    "\n",
    "\n",
    "def breakup_momentum(s, m1, m2):\n",
    "    q_squared = breakup_momentum_squared(s, m1, m2)\n",
    "    return ComplexSqrt(q_squared)\n",
    "\n",
    "\n",
    "def chew_mandelstam_s_wave(s, m1, m2):\n",
    "    q = breakup_momentum(s, m1, m2)\n",
    "    left_term = sp.Mul(\n",
    "        2 * q / sp.sqrt(s),\n",
    "        sp.log((m1 ** 2 + m2 ** 2 - s + 2 * sp.sqrt(s) * q) / (2 * m1 * m2)),\n",
    "        evaluate=False,\n",
    "    )\n",
    "    right_term = m1 ** 2 - m2 ** 2\n",
    "    right_term *= 1 / s - 1 / (m1 + m2) ** 2\n",
    "    right_term *= sp.log(m1 / m2)\n",
    "    return (left_term - right_term) / phsp_scale_factor"
   ]
  },
  {
   "cell_type": "markdown",
   "metadata": {},
   "source": [
    "For a particle $a$ decaying to particles $1, 2$ with $L=0$, the **Chew-Mandelstam function** reads:"
   ]
  },
  {
   "cell_type": "code",
   "execution_count": null,
   "metadata": {
    "hideCode": true,
    "jupyter": {
     "source_hidden": true
    },
    "tags": []
   },
   "outputs": [],
   "source": [
    "s, m1, m2 = sp.symbols(\"s m1 m2\", real=True)\n",
    "chew_mandelstam_s_wave_expr = chew_mandelstam_s_wave(s, m1, m2)\n",
    "\n",
    "chew_mandelstam_s_wave_symbolic = chew_mandelstam_s_wave_expr.subs(\n",
    "    2 * breakup_momentum(s, m1, m2),\n",
    "    2 * sp.Symbol(\"q_a\"),\n",
    ")\n",
    "chew_mandelstam_s_wave_symbolic *= phsp_scale_factor\n",
    "chew_mandelstam_s_wave_symbolic_scaled = sp.Mul(\n",
    "    1 / phsp_scale_factor,\n",
    "    chew_mandelstam_s_wave_symbolic,\n",
    "    evaluate=False,\n",
    ")\n",
    "chew_mandelstam_s_wave_symbolic_math = Math(\n",
    "    fR\"\\Sigma_a(s)={sp.latex(chew_mandelstam_s_wave_symbolic_scaled)}\"\n",
    ")\n",
    "chew_mandelstam_s_wave_symbolic_math"
   ]
  },
  {
   "cell_type": "markdown",
   "metadata": {
    "slideshow": {
     "slide_type": "fragment"
    },
    "tags": []
   },
   "source": [
    "The PDG does not state how this function should be defined for $s < (m_1+m_2)^2$, but we assume:"
   ]
  },
  {
   "cell_type": "code",
   "execution_count": null,
   "metadata": {
    "hideCode": true,
    "jupyter": {
     "source_hidden": true
    },
    "tags": []
   },
   "outputs": [],
   "source": [
    "q_squared_symbol = sp.Symbol(\"q_a^{2}\", real=True)\n",
    "q_a_expr = ComplexSqrt(q_squared_symbol)\n",
    "Math(f\"q_a = {sp.latex(q_a_expr)} = {sp.latex(q_a_expr.evaluate())}\")"
   ]
  },
  {
   "cell_type": "markdown",
   "metadata": {
    "slideshow": {
     "slide_type": "subslide"
    }
   },
   "source": [
    "Figure 49.3 [[PDG2020, §Resonances, pp.10](https://pdg.lbl.gov/2020/reviews/rpp2020-rev-resonances.pdf#page=10)] in the PDG plots this function with a **slight offset from the real axes** of $s$:"
   ]
  },
  {
   "cell_type": "code",
   "execution_count": null,
   "metadata": {
    "hideCode": true,
    "jupyter": {
     "source_hidden": true
    },
    "tags": []
   },
   "outputs": [],
   "source": [
    "epsilon = sp.Symbol(\"epsilon\", real=True, positive=True)\n",
    "s_prime = sp.Symbol(R\"s^{\\prime}\", real=True)\n",
    "s_plus = s_prime + sp.I * sp.Pow(10, -epsilon)\n",
    "display(\n",
    "    chew_mandelstam_s_wave_symbolic_math,\n",
    "    Math(fR\"{sp.latex(s)} \\to {sp.latex(s_plus)}\"),\n",
    ")"
   ]
  },
  {
   "cell_type": "code",
   "execution_count": null,
   "metadata": {
    "hideCode": true,
    "jupyter": {
     "source_hidden": true
    },
    "tags": []
   },
   "outputs": [],
   "source": [
    "chew_mandelstam_s_wave_prime = chew_mandelstam_s_wave_expr.subs(s, s_plus)\n",
    "np_chew_mandelstam_s_wave, sliders_cm = symplot.prepare_sliders(\n",
    "    expression=chew_mandelstam_s_wave_prime,\n",
    "    plot_symbol=s_prime,\n",
    ")\n",
    "np_phase_space_factor = sp.lambdify(\n",
    "    args=(s_prime, m1, m2, epsilon),\n",
    "    expr=phase_space_factor_complex(s_plus, m1, m2),\n",
    "    modules=\"numpy\",\n",
    ")\n",
    "\n",
    "s_min, s_max = -0.15, 1.4\n",
    "m1_val = PDG[\"pi0\"].mass\n",
    "m2_val = PDG[\"eta\"].mass\n",
    "\n",
    "plot_domain = np.linspace(s_min, s_max, 500)\n",
    "sliders_cm.set_ranges(\n",
    "    m1=(0, 2, 200),\n",
    "    m2=(0, 2, 200),\n",
    "    epsilon=(1, 12),\n",
    ")\n",
    "sliders_cm.set_values(\n",
    "    m1=m1_val,\n",
    "    m2=m2_val,\n",
    "    epsilon=4,\n",
    ")\n",
    "\n",
    "fig, axes = plt.subplots(ncols=2, figsize=(13, 5), tight_layout=True)\n",
    "ax1, ax2 = axes\n",
    "for ax in axes:\n",
    "    ax.axhline(0, linewidth=0.5, c=\"black\")\n",
    "\n",
    "ylim = (-1, +1)\n",
    "y_factor = 16 * np.pi\n",
    "controls = iplt.axvline(\n",
    "    lambda *args, **kwargs: (kwargs[\"m1\"] + kwargs[\"m2\"]) ** 2,\n",
    "    **sliders_cm,\n",
    "    c=\"grey\",\n",
    "    linewidth=0.5,\n",
    "    label=R\"$s_\\mathrm{thr}$\",\n",
    "    ax=ax1,\n",
    ")\n",
    "iplt.axvline(\n",
    "    lambda *args, **kwargs: (kwargs[\"m1\"] + kwargs[\"m2\"]) ** 2,\n",
    "    controls=controls,\n",
    "    c=\"grey\",\n",
    "    linewidth=0.5,\n",
    "    label=R\"$s_\\mathrm{thr}$\",\n",
    "    ax=ax2,\n",
    ")\n",
    "iplt.plot(\n",
    "    plot_domain,\n",
    "    lambda *args, **kwargs: (\n",
    "        y_factor * 1j * np_phase_space_factor(*args, **kwargs)\n",
    "    ).real,\n",
    "    label=\"Real part\",\n",
    "    controls=controls,\n",
    "    ylim=ylim,\n",
    "    alpha=0.7,\n",
    "    ax=ax1,\n",
    "    c=\"black\",\n",
    "    linestyle=\"dashed\",\n",
    ")\n",
    "iplt.plot(\n",
    "    plot_domain,\n",
    "    lambda *args, **kwargs: (\n",
    "        y_factor * 1j * np_phase_space_factor(*args, **kwargs)\n",
    "    ).imag,\n",
    "    label=\"Imag part\",\n",
    "    controls=controls,\n",
    "    ylim=ylim,\n",
    "    alpha=0.7,\n",
    "    ax=ax1,\n",
    "    c=\"red\",\n",
    ")\n",
    "\n",
    "iplt.plot(\n",
    "    plot_domain,\n",
    "    lambda *args, **kwargs: y_factor\n",
    "    * np_chew_mandelstam_s_wave(*args, **kwargs).real,\n",
    "    label=\"Real part\",\n",
    "    controls=controls,\n",
    "    ylim=ylim,\n",
    "    alpha=0.7,\n",
    "    ax=ax2,\n",
    "    c=\"black\",\n",
    "    linestyle=\"dashed\",\n",
    ")\n",
    "iplt.plot(\n",
    "    plot_domain,\n",
    "    lambda *args, **kwargs: y_factor\n",
    "    * np_chew_mandelstam_s_wave(*args, **kwargs).imag,\n",
    "    label=\"Imag part\",\n",
    "    controls=controls,\n",
    "    ylim=ylim,\n",
    "    alpha=0.7,\n",
    "    ax=ax2,\n",
    "    c=\"red\",\n",
    ")\n",
    "\n",
    "for ax in axes:\n",
    "    ax.legend(loc=\"lower right\")\n",
    "    ax.set_xticks(np.arange(0, 1.21, 0.3))\n",
    "    ax.set_yticks(np.arange(-1, 1.1, 0.5))\n",
    "    ax.set_xlabel(\"$s'$ (GeV$^2$)\")\n",
    "\n",
    "ax1.set_ylabel(R\"$16\\pi \\; i\\rho(s)$\")\n",
    "ax2.set_ylabel(R\"$16\\pi \\; \\Sigma(s)$\")\n",
    "ax1.set_title(R\"Complex phase space factor $\\rho$\")\n",
    "ax2.set_title(\"Chew-Mandelstam $S$-wave ($L=0$)\")\n",
    "plt.show()"
   ]
  },
  {
   "cell_type": "markdown",
   "metadata": {
    "slideshow": {
     "slide_type": "subslide"
    }
   },
   "source": [
    "### General dispersion integral"
   ]
  },
  {
   "cell_type": "markdown",
   "metadata": {},
   "source": [
    "For $L>0$ one has to \"compute\" the following dispersion integral:\n",
    "\n",
    "$\n",
    "\\qquad \\Sigma_a(s+0i) =\n",
    "    \\frac{s-s_{\\mathrm{thr}_a}}{\\pi}\n",
    "    \\int^\\infty_{s_{\\mathrm{thr}_a}} \\frac{\n",
    "        \\rho_a(s')n_a^2(s')\n",
    "    }{\n",
    "        (s' - s_{\\mathrm{thr}_a})(s'-s-i0)\n",
    "    }\n",
    "    \\mathop{}\\!\\mathrm{d}s'\n",
    "$\n",
    "\n",
    "with:\n",
    "- $\\rho$ the normal [`phase_space_factor`](https://ampform.readthedocs.io/en/stable/api/ampform.dynamics.html#ampform.dynamics.phase_space_factor)\n",
    "- $n_a^2$ the same as [`BlattWeisskopfSquared`](https://ampform.readthedocs.io/en/stable/api/ampform.dynamics.html#ampform.dynamics.BlattWeisskopfSquared)"
   ]
  },
  {
   "cell_type": "code",
   "execution_count": null,
   "metadata": {
    "hideCode": true,
    "tags": []
   },
   "outputs": [],
   "source": [
    "def na2(s, m1, m2, L, q0):\n",
    "    q_squared = breakup_momentum_squared(s, m1, m2)\n",
    "    return BlattWeisskopfSquared(\n",
    "        z=q_squared / (q0 ** 2),\n",
    "        angular_momentum=L,\n",
    "    )"
   ]
  },
  {
   "cell_type": "code",
   "execution_count": null,
   "metadata": {
    "hideCode": true
   },
   "outputs": [],
   "source": [
    "q0 = sp.Symbol(\"q0\", real=True)\n",
    "L = sp.Symbol(\"L\", integer=True, positive=True)\n",
    "s_thr = (m1 + m2) ** 2\n",
    "integrand = (\n",
    "    phase_space_factor(s_prime, m1, m2) * na2(s_prime, m1, m2, L, q0)\n",
    ") / ((s_prime - s_thr) * (s_prime - s - epsilon * sp.I))"
   ]
  },
  {
   "cell_type": "markdown",
   "metadata": {
    "slideshow": {
     "slide_type": "fragment"
    }
   },
   "source": [
    "The AmpForm implementation looks like this:"
   ]
  },
  {
   "cell_type": "code",
   "execution_count": null,
   "metadata": {
    "hideCode": true,
    "jupyter": {
     "source_hidden": true
    },
    "tags": []
   },
   "outputs": [],
   "source": [
    "integrand_subs = integrand.subs(\n",
    "    {\n",
    "        2\n",
    "        * breakup_momentum_squared(s_prime, m1, m2): 2\n",
    "        * sp.Symbol(\"q_a^{2}\"),\n",
    "        phase_space_factor(s_prime, m1, m2): sp.Symbol(R\"\\rho_a(s^{\\prime})\"),\n",
    "        s_thr: sp.Symbol(R\"s_\\mathrm{thr}\"),\n",
    "    }\n",
    ")\n",
    "display(Math(f\"{sp.latex(integrand_subs)} = {sp.latex(integrand)}\"))"
   ]
  },
  {
   "cell_type": "markdown",
   "metadata": {},
   "source": [
    "and integrate over $s' \\in [s_{\\mathrm{thr}_a}, \\infty)$ with [`scipy.integrate`](https://docs.scipy.org/doc/scipy/reference/tutorial/integrate.html) ([QUADPACK](https://en.wikipedia.org/wiki/QUADPACK))"
   ]
  },
  {
   "cell_type": "code",
   "execution_count": null,
   "metadata": {
    "hideCode": true,
    "jupyter": {
     "source_hidden": true
    },
    "tags": []
   },
   "outputs": [],
   "source": [
    "np_integrand = sp.lambdify(\n",
    "    args=(s, s_prime, L, epsilon, m1, m2, q0),\n",
    "    expr=integrand.doit(),\n",
    "    modules=\"numpy\",\n",
    ")\n",
    "\n",
    "s_thr_val = float(s_thr.subs({m1: m1_val, m2: m2_val}))"
   ]
  },
  {
   "cell_type": "code",
   "execution_count": null,
   "metadata": {
    "hideCode": true,
    "tags": []
   },
   "outputs": [],
   "source": [
    "def integral(s, L, epsilon, m1, m2, q0):\n",
    "    values_real, errors_real = scipy.integrate.quad(\n",
    "        lambda s_prime: np_integrand(s, s_prime, L, epsilon, m1, m2, q0).real,\n",
    "        a=s_thr_val,\n",
    "        b=np.inf,\n",
    "    )\n",
    "    values_imag, errors_imag = scipy.integrate.quad(\n",
    "        lambda s_prime: np_integrand(s, s_prime, L, epsilon, m1, m2, q0).imag,\n",
    "        a=s_thr_val,\n",
    "        b=np.inf,\n",
    "    )\n",
    "    return values_real + values_imag * 1j"
   ]
  },
  {
   "cell_type": "code",
   "execution_count": null,
   "metadata": {
    "hideCode": true,
    "hideOutput": true,
    "jupyter": {
     "source_hidden": true
    },
    "tags": []
   },
   "outputs": [],
   "source": [
    "%%time\n",
    "np_integral = np.vectorize(integral)\n",
    "s_domain = np.linspace(s_min, s_max, num=50)\n",
    "max_L = 3\n",
    "l_values = list(range(1, max_L + 1))\n",
    "integral_values = {\n",
    "    L: np_integral(\n",
    "        s_domain,\n",
    "        L=L,\n",
    "        epsilon=1e-3,\n",
    "        m1=m1_val,\n",
    "        m2=m2_val,\n",
    "        q0=1.0,\n",
    "    )\n",
    "    for L in l_values\n",
    "}\n",
    "\n",
    "sigma = {\n",
    "    L: (s_domain - s_thr_val) / np.pi * integral_values[L] for L in l_values\n",
    "}\n",
    "sigma_scaled = {L: 16 * np.pi * sigma[L] for L in l_values}"
   ]
  },
  {
   "cell_type": "markdown",
   "metadata": {
    "cell_style": "split",
    "hideCode": true,
    "slideshow": {
     "slide_type": "slide"
    },
    "tags": []
   },
   "source": [
    "### Questions about the dispersion integral\n",
    "\n",
    "$\n",
    "\\qquad \\Sigma_a(s+0i) =\n",
    "    \\frac{s-s_{\\mathrm{thr}_a}}{\\pi}\n",
    "    \\int^\\infty_{s_{\\mathrm{thr}_a}} \\frac{\n",
    "        \\rho_a(s')n_a^2(s')\n",
    "    }{\n",
    "        (s' - s_{\\mathrm{thr}_a})(s'-s-i0)\n",
    "    }\n",
    "    \\mathop{}\\!\\mathrm{d}s'\n",
    "$\n",
    "\n",
    "- What is $q_a$ in [Eq. (49.35)](https://pdg.lbl.gov/2020/reviews/rpp2020-rev-resonances.pdf#page=9) ($S$-wave)?\n",
    "- How to integrate over $s'$?\n",
    "- Do the results on the right look as expected?\n",
    "- Can $\\Sigma_a$ be used in a Breit-Wigner as well? <br>\n",
    "  _See [paragraph under Fig. 49.3](https://pdg.lbl.gov/2020/reviews/rpp2020-rev-resonances.pdf#page=10) and [Eq. (49.24)](https://pdg.lbl.gov/2020/reviews/rpp2020-rev-resonances.pdf#page=7)_\n",
    "- Are there \"Chew-Mandelstam functions\" for $L>0$ as well?"
   ]
  },
  {
   "cell_type": "code",
   "execution_count": null,
   "metadata": {
    "cell_style": "split",
    "hideCode": true,
    "jupyter": {
     "source_hidden": true
    },
    "slideshow": {
     "slide_type": "-"
    },
    "tags": []
   },
   "outputs": [],
   "source": [
    "fig, axes = plt.subplots(\n",
    "    nrows=len(l_values),\n",
    "    sharex=True,\n",
    "    figsize=0.6 * np.array([10, 5 * len(l_values)]),\n",
    "    tight_layout=True,\n",
    ")\n",
    "fig.suptitle(f\"Dispersion integrals for $m_1={m1_val:.2f}, m_2={m2_val:.2f}$\")\n",
    "for ax, L in zip(axes, l_values):\n",
    "    ax.axhline(0, linewidth=0.5, c=\"black\")\n",
    "    ax.axvline(s_thr_val, c=\"grey\", linewidth=0.5, label=R\"$s_\\mathrm{thr}$\")\n",
    "    ax.plot(\n",
    "        s_domain,\n",
    "        sigma_scaled[L].real,\n",
    "        c=\"black\",\n",
    "        linestyle=\"dashed\",\n",
    "        label=\"Real part\",\n",
    "    )\n",
    "    ax.plot(\n",
    "        s_domain,\n",
    "        sigma_scaled[L].imag,\n",
    "        c=\"red\",\n",
    "        label=\"Imag part\",\n",
    "    )\n",
    "    ax.set_title(f\"$L = {L}$\")\n",
    "    ax.set_ylabel(R\"$16\\pi \\; \\Sigma(s)$\")\n",
    "axes[-1].set_xlabel(\"$s$ (GeV$^2$)\")\n",
    "axes[0].legend()\n",
    "plt.show()"
   ]
  }
 ],
 "metadata": {
  "kernelspec": {
   "display_name": "Python 3",
   "language": "python",
   "name": "python3"
  },
  "language_info": {
   "codemirror_mode": {
    "name": "ipython",
    "version": 3
   },
   "file_extension": ".py",
   "mimetype": "text/x-python",
   "name": "python",
   "nbconvert_exporter": "python",
   "pygments_lexer": "ipython3",
   "version": "3.8.10"
  },
  "livereveal": {
   "autolaunch": true
  },
  "rise": {
   "auto_select": "none",
   "auto_select_fragment": false,
   "autolaunch": true,
   "enable_chalkboard": true,
   "scroll": true,
   "transition": "none"
  },
  "toc-autonumbering": false,
  "toc-showcode": false,
  "toc-showmarkdowntxt": false,
  "toc-showtags": true
 },
 "nbformat": 4,
 "nbformat_minor": 4
}
