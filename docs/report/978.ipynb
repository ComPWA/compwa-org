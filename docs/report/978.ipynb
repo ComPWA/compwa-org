{
 "cells": [
  {
   "cell_type": "code",
   "execution_count": null,
   "metadata": {
    "hideCode": true,
    "hideOutput": true,
    "hidePrompt": true,
    "jupyter": {
     "source_hidden": true
    },
    "slideshow": {
     "slide_type": "skip"
    },
    "tags": [
     "remove-cell"
    ]
   },
   "outputs": [],
   "source": [
    "import os\n",
    "\n",
    "STATIC_WEB_PAGE = {\"EXECUTE_NB\", \"READTHEDOCS\"}.intersection(os.environ)"
   ]
  },
  {
   "cell_type": "markdown",
   "metadata": {},
   "source": [
    "```{autolink-concat}\n",
    "```"
   ]
  },
  {
   "cell_type": "markdown",
   "metadata": {
    "editable": true,
    "slideshow": {
     "slide_type": ""
    },
    "tags": []
   },
   "source": [
    "::::{margin}\n",
    ":::{card} Visualization of the second Riemann sheet with rotated branch cut \n",
    "TR-979\n",
    "^^^\n",
    "To reproduce the Riemann sheets shown in [Fig.&nbsp;50.1](https://pdg.lbl.gov/2023/reviews/rpp2023-rev-resonances.pdf#page=2) and [50.2](https://pdg.lbl.gov/2023/reviews/rpp2023-rev-resonances.pdf#page=4) of the PDG way to get from the first physical sheet to the second unphysical sheet is derived for the Amplitude calculated within the K matrix formalism.   \n",
    ":::\n",
    "::::"
   ]
  },
  {
   "cell_type": "markdown",
   "metadata": {
    "editable": true,
    "slideshow": {
     "slide_type": ""
    },
    "tags": []
   },
   "source": [
    "# Riemann sheets for one channel "
   ]
  },
  {
   "cell_type": "code",
   "execution_count": null,
   "metadata": {
    "editable": true,
    "slideshow": {
     "slide_type": ""
    },
    "tags": [
     "remove-cell"
    ]
   },
   "outputs": [],
   "source": [
    "%pip install -q ampform==0.14.8 plotly==5.17.0 sympy==1.12"
   ]
  },
  {
   "cell_type": "code",
   "execution_count": null,
   "metadata": {
    "editable": true,
    "slideshow": {
     "slide_type": ""
    },
    "tags": [
     "hide-cell"
    ]
   },
   "outputs": [],
   "source": [
    "from __future__ import annotations\n",
    "\n",
    "import warnings\n",
    "from typing import Any\n",
    "\n",
    "import matplotlib.pyplot as plt\n",
    "import numpy as np\n",
    "import sympy as sp\n",
    "from ampform.io import aslatex\n",
    "from ampform.kinematics.phasespace import Kallen\n",
    "from ampform.sympy import unevaluated\n",
    "from IPython.display import Math, display\n",
    "from ipywidgets import FloatSlider, VBox, interactive_output\n",
    "\n",
    "warnings.filterwarnings(\"ignore\")"
   ]
  },
  {
   "cell_type": "markdown",
   "metadata": {
    "editable": true,
    "slideshow": {
     "slide_type": ""
    },
    "tags": []
   },
   "source": [
    "## Phase space factors"
   ]
  },
  {
   "cell_type": "code",
   "execution_count": null,
   "metadata": {
    "editable": true,
    "slideshow": {
     "slide_type": ""
    },
    "tags": [
     "hide-input"
    ]
   },
   "outputs": [],
   "source": [
    "@unevaluated(real=False)\n",
    "class PhaseSpaceFactorRotated(sp.Expr):\n",
    "    s: Any\n",
    "    m1: Any\n",
    "    m2: Any\n",
    "    phi: Any\n",
    "    _latex_repr_ = R\"\\rho^{{{phi}}}_{{{m1}, {m2}}}\\left({s}\\right)\"\n",
    "\n",
    "    def evaluate(self) -> sp.Expr:\n",
    "        s, m1, m2, phi = self.args\n",
    "        return RotatedSqrt((s - ((m1 + m2) ** 2)) * (s - (m1 - m2) ** 2), phi) / s\n",
    "\n",
    "\n",
    "@unevaluated\n",
    "class RotatedSqrt(sp.Expr):\n",
    "    z: Any\n",
    "    phi: Any\n",
    "    _latex_repr_ = R\"\\sqrt[{phi}]{{{z}}}\"\n",
    "\n",
    "    def evaluate(self) -> sp.Expr:\n",
    "        z, phi = self.args\n",
    "        return sp.exp(-phi * sp.I / 2) * sp.sqrt(z * sp.exp(phi * sp.I))\n",
    "\n",
    "\n",
    "s, m1, m2, z, phi = sp.symbols(\"s m1 m2 z phi\")\n",
    "rho_expr_rot = PhaseSpaceFactorRotated(s, m1, m2, phi)\n",
    "sqrt_expr = RotatedSqrt(z, phi)\n",
    "Math(aslatex({e: e.doit(deep=False) for e in [rho_expr_rot, sqrt_expr]}))"
   ]
  },
  {
   "cell_type": "code",
   "execution_count": null,
   "metadata": {
    "editable": true,
    "jupyter": {
     "source_hidden": true
    },
    "slideshow": {
     "slide_type": ""
    },
    "tags": [
     "hide-input"
    ]
   },
   "outputs": [],
   "source": [
    "@unevaluated(real=False)\n",
    "class PhaseSpaceFactorCM(sp.Expr):\n",
    "    s: Any\n",
    "    m1: Any\n",
    "    m2: Any\n",
    "    _latex_repr_ = R\"\\rho^\\mathrm{{CM}}_{{{m1},{m2}}}\\left({s}\\right)\"\n",
    "\n",
    "    def evaluate(self) -> sp.Expr:\n",
    "        s, m1, m2 = self.args\n",
    "        return -16 * sp.pi * sp.I * ChewMandelstam(s, m1, m2)\n",
    "\n",
    "\n",
    "@unevaluated(real=False)\n",
    "class ChewMandelstam(sp.Expr):\n",
    "    s: Any\n",
    "    m1: Any\n",
    "    m2: Any\n",
    "    _latex_repr_ = R\"\\Sigma\\left({s}\\right)\"\n",
    "\n",
    "    def evaluate(self) -> sp.Expr:\n",
    "        s, m1, m2 = self.args\n",
    "        q = BreakupMomentum(s, m1, m2)\n",
    "        return (\n",
    "            1\n",
    "            / (16 * sp.pi**2)\n",
    "            * (\n",
    "                (2 * q / sp.sqrt(s))\n",
    "                * sp.log((m1**2 + m2**2 - s + 2 * sp.sqrt(s) * q) / (2 * m1 * m2))\n",
    "                - (m1**2 - m2**2) * (1 / s - 1 / (m1 + m2) ** 2) * sp.log(m1 / m2)\n",
    "            )\n",
    "        )\n",
    "\n",
    "\n",
    "@unevaluated(real=False)\n",
    "class BreakupMomentum(sp.Expr):\n",
    "    s: Any\n",
    "    m1: Any\n",
    "    m2: Any\n",
    "    _latex_repr_ = R\"q\\left({s}\\right)\"\n",
    "\n",
    "    def evaluate(self) -> sp.Expr:\n",
    "        s, m1, m2 = self.args\n",
    "        return sp.sqrt(Kallen(s, m1**2, m2**2)) / (2 * sp.sqrt(s))\n",
    "\n",
    "\n",
    "s, m1, m2 = sp.symbols(\"s m1 m2\")\n",
    "rho_cm_expr = PhaseSpaceFactorCM(s, m1, m2)\n",
    "cm_expr = ChewMandelstam(s, m1, m2)\n",
    "q_expr = BreakupMomentum(s, m1, m2)\n",
    "kallen = Kallen(*sp.symbols(\"x:z\"))\n",
    "Math(aslatex({e: e.doit(deep=False) for e in [rho_cm_expr, cm_expr, q_expr, kallen]}))"
   ]
  },
  {
   "cell_type": "markdown",
   "metadata": {
    "editable": true,
    "slideshow": {
     "slide_type": ""
    },
    "tags": []
   },
   "source": [
    "## T matrix"
   ]
  },
  {
   "cell_type": "markdown",
   "metadata": {
    "editable": true,
    "slideshow": {
     "slide_type": ""
    },
    "tags": []
   },
   "source": [
    "### First sheet"
   ]
  },
  {
   "cell_type": "code",
   "execution_count": null,
   "metadata": {
    "editable": true,
    "slideshow": {
     "slide_type": ""
    },
    "tags": []
   },
   "outputs": [],
   "source": [
    "class DiagonalMatrix(sp.DiagonalMatrix):\n",
    "    def _latex(self, printer):\n",
    "        return printer._print(self.args[0])\n",
    "\n",
    "\n",
    "n_channels = 1\n",
    "I = sp.Identity(n_channels)\n",
    "K = sp.MatrixSymbol(\"K\", n_channels, n_channels)\n",
    "CM = DiagonalMatrix(sp.MatrixSymbol(R\"\\rho^\\mathrm{CM}\", n_channels, n_channels))\n",
    "T1 = (I - sp.I * K * CM).inv() * K\n",
    "T1"
   ]
  },
  {
   "cell_type": "code",
   "execution_count": null,
   "metadata": {
    "editable": true,
    "slideshow": {
     "slide_type": ""
    },
    "tags": []
   },
   "outputs": [],
   "source": [
    "T1_explicit = T1.as_explicit()\n",
    "T1_explicit[0, 0]"
   ]
  },
  {
   "cell_type": "code",
   "execution_count": null,
   "metadata": {
    "editable": true,
    "slideshow": {
     "slide_type": ""
    },
    "tags": []
   },
   "outputs": [],
   "source": [
    "m0, w0, gamma, phi = sp.symbols(\"m0 Gamma gamma phi\")\n",
    "symbols = sp.Tuple(s, m1, m2, m0, w0, gamma, phi)"
   ]
  },
  {
   "cell_type": "code",
   "execution_count": null,
   "metadata": {
    "editable": true,
    "slideshow": {
     "slide_type": ""
    },
    "tags": []
   },
   "outputs": [],
   "source": [
    "definitions = {\n",
    "    K[0, 0]: (gamma * gamma * m0 * w0) / (s - m0**2),\n",
    "    CM[0, 0]: -PhaseSpaceFactorCM(s, m1, m2),\n",
    "}\n",
    "T1_expr = T1_explicit.xreplace(definitions)\n",
    "T1_expr[0, 0].simplify(doit=False)"
   ]
  },
  {
   "cell_type": "markdown",
   "metadata": {
    "editable": true,
    "slideshow": {
     "slide_type": ""
    },
    "tags": []
   },
   "source": [
    "### Second Riemann sheet"
   ]
  },
  {
   "cell_type": "code",
   "execution_count": null,
   "metadata": {
    "editable": true,
    "slideshow": {
     "slide_type": ""
    },
    "tags": []
   },
   "outputs": [],
   "source": [
    "rho = DiagonalMatrix(sp.MatrixSymbol(\"rho\", n_channels, n_channels))\n",
    "T2 = (T1.inv() + 2 * sp.I * rho).inv()\n",
    "T2"
   ]
  },
  {
   "cell_type": "code",
   "execution_count": null,
   "metadata": {
    "editable": true,
    "slideshow": {
     "slide_type": ""
    },
    "tags": []
   },
   "outputs": [],
   "source": [
    "T2_explicit = T2.as_explicit()\n",
    "T2_explicit[0, 0]"
   ]
  },
  {
   "cell_type": "code",
   "execution_count": null,
   "metadata": {
    "editable": true,
    "slideshow": {
     "slide_type": ""
    },
    "tags": []
   },
   "outputs": [],
   "source": [
    "definitions = {\n",
    "    **definitions,\n",
    "    rho[0, 0]: PhaseSpaceFactorRotated(s, m1, m2, phi),\n",
    "}"
   ]
  },
  {
   "cell_type": "code",
   "execution_count": null,
   "metadata": {
    "editable": true,
    "slideshow": {
     "slide_type": ""
    },
    "tags": []
   },
   "outputs": [],
   "source": [
    "T2_expr = T2_explicit.xreplace(definitions)\n",
    "T2_expr[0, 0].simplify(doit=False)"
   ]
  },
  {
   "cell_type": "code",
   "execution_count": null,
   "metadata": {
    "editable": true,
    "slideshow": {
     "slide_type": ""
    },
    "tags": []
   },
   "outputs": [],
   "source": [
    "T1_expr[0, 0].simplify(doit=False)"
   ]
  },
  {
   "cell_type": "markdown",
   "metadata": {},
   "source": [
    "## Visualization"
   ]
  },
  {
   "cell_type": "code",
   "execution_count": null,
   "metadata": {
    "editable": true,
    "slideshow": {
     "slide_type": ""
    },
    "tags": []
   },
   "outputs": [],
   "source": [
    "T1_func = sp.lambdify(symbols, T1_expr[0, 0].doit())\n",
    "T2_func = sp.lambdify(symbols, T2_expr[0, 0].doit())\n",
    "parameter_defaults = {\n",
    "    m1: 0.1,\n",
    "    m2: 0.7,\n",
    "    m0: 1.5,\n",
    "    w0: 0.8,\n",
    "    gamma: 1,\n",
    "    phi: 0,\n",
    "}\n",
    "args = eval(str(symbols[1:].xreplace(parameter_defaults)))\n",
    "s_thr = ((m1 + m2) ** 2).xreplace(parameter_defaults)"
   ]
  },
  {
   "cell_type": "code",
   "execution_count": null,
   "metadata": {
    "editable": true,
    "jupyter": {
     "source_hidden": true
    },
    "slideshow": {
     "slide_type": ""
    },
    "tags": [
     "hide-input"
    ]
   },
   "outputs": [],
   "source": [
    "%matplotlib widget\n",
    "\n",
    "\n",
    "def plot3d(phi, T_max) -> None:\n",
    "    global DATA\n",
    "    args_rot = [*args[:-1], phi]\n",
    "    Tn = T2_func(Zn, *args_rot)\n",
    "    Tp = T1_func(Zp, *args_rot)\n",
    "    if DATA is None:\n",
    "        DATA = {\n",
    "            \"neg\": ax.pcolormesh(X, -Y, Tn.imag, **style),\n",
    "            \"pos\": ax.pcolormesh(X, +Y, Tp.imag, **style),\n",
    "        }\n",
    "    else:\n",
    "        DATA[\"neg\"].set_array(Tn.imag)\n",
    "        DATA[\"pos\"].set_array(Tp.imag)\n",
    "    DATA[\"neg\"].set_clim(-T_max, +T_max)\n",
    "    DATA[\"pos\"].set_clim(-T_max, +T_max)\n",
    "    fig.canvas.draw_idle()\n",
    "\n",
    "\n",
    "X, Y = np.meshgrid(\n",
    "    np.linspace(0, 5, num=200),\n",
    "    np.linspace(0, 4, num=100),\n",
    ")\n",
    "Zn = X - Y * 1j\n",
    "Zp = X + Y * 1j\n",
    "\n",
    "T_max = 0.5\n",
    "DATA = None\n",
    "style = dict(\n",
    "    vmin=-T_max,\n",
    "    vmax=+T_max,\n",
    "    cmap=plt.cm.coolwarm,\n",
    ")\n",
    "\n",
    "fig, ax = plt.subplots()\n",
    "ax.axvline(\n",
    "    ((m1 - m2) ** 2).xreplace(parameter_defaults),\n",
    "    c=\"black\",\n",
    "    ls=\"dotted\",\n",
    "    zorder=99,\n",
    ")\n",
    "ax.axvline(\n",
    "    ((m1 + m2) ** 2).xreplace(parameter_defaults),\n",
    "    c=\"black\",\n",
    "    ls=\"dotted\",\n",
    "    zorder=99,\n",
    ")\n",
    "\n",
    "sliders = dict(\n",
    "    phi=FloatSlider(\n",
    "        description=\"phi\",\n",
    "        min=-2 * np.pi,\n",
    "        max=+2 * np.pi,\n",
    "        step=np.pi / 16,\n",
    "    ),\n",
    "    T_max=FloatSlider(\n",
    "        description=\"T_max\",\n",
    "        min=0.01,\n",
    "        max=5.0,\n",
    "        step=0.01,\n",
    "        value=1.0,\n",
    "    ),\n",
    ")\n",
    "\n",
    "ui = VBox(tuple(sliders.values()))\n",
    "output = interactive_output(plot3d, controls=sliders)\n",
    "fig.tight_layout()\n",
    "display(ui, output)"
   ]
  }
 ],
 "metadata": {
  "colab": {
   "toc_visible": true
  },
  "kernelspec": {
   "display_name": "Python 3 (ipykernel)",
   "language": "python",
   "name": "python3"
  },
  "language_info": {
   "codemirror_mode": {
    "name": "ipython",
    "version": 3
   },
   "file_extension": ".py",
   "mimetype": "text/x-python",
   "name": "python",
   "nbconvert_exporter": "python",
   "pygments_lexer": "ipython3",
   "version": "3.10.13"
  }
 },
 "nbformat": 4,
 "nbformat_minor": 4
}
