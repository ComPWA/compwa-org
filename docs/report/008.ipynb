{
 "cells": [
  {
   "cell_type": "code",
   "execution_count": null,
   "metadata": {
    "hideCode": true,
    "hideOutput": true,
    "hidePrompt": true,
    "jupyter": {
     "source_hidden": true
    },
    "slideshow": {
     "slide_type": "skip"
    },
    "tags": [
     "remove-cell"
    ]
   },
   "outputs": [],
   "source": [
    "%config InlineBackend.figure_formats = ['svg']\n",
    "import os\n",
    "\n",
    "STATIC_WEB_PAGE = {\"EXECUTE_NB\", \"READTHEDOCS\"}.intersection(os.environ)"
   ]
  },
  {
   "cell_type": "markdown",
   "metadata": {},
   "source": [
    "```{autolink-concat}\n",
    "```"
   ]
  },
  {
   "cell_type": "markdown",
   "metadata": {
    "tags": []
   },
   "source": [
    "# `Indexed` free symbols\n",
    "\n",
    "```{spec} Indexed free symbols\n",
    ":id: TR-008\n",
    ":status: WIP\n",
    ":tags: sympy\n",
    "```"
   ]
  },
  {
   "cell_type": "markdown",
   "metadata": {},
   "source": [
    "```{autolink-skip}\n",
    "```"
   ]
  },
  {
   "cell_type": "code",
   "execution_count": null,
   "metadata": {
    "jupyter": {
     "source_hidden": true
    },
    "tags": [
     "hide-input",
     "remove-output"
    ]
   },
   "outputs": [],
   "source": [
    "%pip install -q sympy==1.8"
   ]
  },
  {
   "cell_type": "markdown",
   "metadata": {},
   "source": [
    ":::{note}\n",
    "\n",
    "This report has been implemented in {pr}`ComPWA/ampform#111`.\n",
    "\n",
    ":::\n",
    "\n",
    "In {need}`TR-005`, we made use of {doc}`indexed symbols <sympy:modules/tensor/indexed>` to create a $\\boldsymbol{K}$-matrix. The problem with that approach is that {class}`~sympy.tensor.indexed.IndexedBase` and their resulting {class}`~sympy.tensor.indexed.Indexed` instances when taking indices behave strangely in an expression tree.\n",
    "\n",
    "The following {class}`~sympy.core.expr.Expr` uses a {class}`~sympy.core.symbol.Symbol` and a elements in {class}`~sympy.tensor.indexed.IndexedBase`s (an {class}`~sympy.tensor.indexed.Indexed` instance):"
   ]
  },
  {
   "cell_type": "code",
   "execution_count": null,
   "metadata": {},
   "outputs": [
    {
     "data": {
      "text/latex": [
       "$\\displaystyle x {\\alpha}_{2} + {c}_{0,1}$"
      ],
      "text/plain": [
       "x*alpha[2] + c[0, 1]"
      ]
     },
     "execution_count": null,
     "metadata": {},
     "output_type": "execute_result"
    }
   ],
   "source": [
    "import sympy as sp\n",
    "\n",
    "x = sp.Symbol(\"x\")\n",
    "c = sp.IndexedBase(\"c\")\n",
    "alpha = sp.IndexedBase(\"alpha\")\n",
    "expression = c[0, 1] + alpha[2] * x\n",
    "expression"
   ]
  },
  {
   "cell_type": "markdown",
   "metadata": {},
   "source": [
    "Although seemingly there are just **three** {attr}`~sympy.core.basic.Basic.free_symbols`, there are actually **five**:"
   ]
  },
  {
   "cell_type": "code",
   "execution_count": null,
   "metadata": {},
   "outputs": [
    {
     "data": {
      "text/plain": [
       "{alpha, alpha[2], c, c[0, 1], x}"
      ]
     },
     "execution_count": null,
     "metadata": {},
     "output_type": "execute_result"
    }
   ],
   "source": [
    "expression.free_symbols"
   ]
  },
  {
   "cell_type": "markdown",
   "metadata": {},
   "source": [
    "This becomes problematic when using {func}`~sympy.utilities.lambdify.lambdify`, particularly through {func}`symplot.prepare_sliders`.\n",
    "\n",
    "In addition, while `c[0, 1]` and `alpha[2]` are {class}`~sympy.tensor.indexed.Indexed` as expected, `alpha` and `c` are {class}`~sympy.core.symbol.Symbol`s, not {class}`~sympy.tensor.indexed.IndexedBase`:"
   ]
  },
  {
   "cell_type": "code",
   "execution_count": null,
   "metadata": {},
   "outputs": [
    {
     "data": {
      "text/plain": [
       "{c: sympy.core.symbol.Symbol,\n",
       " alpha[2]: sympy.tensor.indexed.Indexed,\n",
       " x: sympy.core.symbol.Symbol,\n",
       " c[0, 1]: sympy.tensor.indexed.Indexed,\n",
       " alpha: sympy.core.symbol.Symbol}"
      ]
     },
     "execution_count": null,
     "metadata": {},
     "output_type": "execute_result"
    }
   ],
   "source": [
    "{s: type(s) for s in expression.free_symbols}"
   ]
  },
  {
   "cell_type": "markdown",
   "metadata": {},
   "source": [
    "The {doc}`expression tree <sympy:tutorial/manipulation>` partially explains this behavior:"
   ]
  },
  {
   "cell_type": "code",
   "execution_count": null,
   "metadata": {
    "keep_output": false,
    "tags": []
   },
   "outputs": [],
   "source": [
    "import graphviz\n",
    "\n",
    "dot = sp.dotprint(expression)\n",
    "graphviz.Source(dot);"
   ]
  },
  {
   "cell_type": "markdown",
   "metadata": {
    "tags": []
   },
   "source": [
    "![](008-expression-tree-indexed.svg)"
   ]
  },
  {
   "cell_type": "markdown",
   "metadata": {},
   "source": [
    "We would like to collapse the nodes under `c[0, 1]` and `alpha[2]` to two single {class}`~sympy.core.symbol.Symbol` nodes that are **still nicely rendered as $c_{0,1}$ and $\\alpha_2$**. The following function does that and converts the `[]` into subscripts. It does that in such a way that the name of the {class}`~sympy.core.symbol.Symbol` remains as short as possible, that is, short enough that it still renders nicely as LaTeX:"
   ]
  },
  {
   "cell_type": "code",
   "execution_count": null,
   "metadata": {},
   "outputs": [],
   "source": [
    "from sympy.printing.latex import translate\n",
    "\n",
    "\n",
    "def to_symbol(idx: sp.Indexed) -> sp.Symbol:\n",
    "    base_name, _, _ = str(idx).rpartition(\"[\")\n",
    "    subscript = \",\".join(map(str, idx.indices))\n",
    "    if len(idx.indices) > 1:\n",
    "        base_name = translate(base_name)\n",
    "        subscript = \"_{\" + subscript + \"}\"\n",
    "    return sp.Symbol(f\"{base_name}{subscript}\")"
   ]
  },
  {
   "cell_type": "markdown",
   "metadata": {},
   "source": [
    "Next, we use {meth}`~sympy.core.basic.Basic.subs` to substitute the nodes `c[0, 1]` and `alpha[2]` with these {class}`~sympy.core.symbol.Symbol`s:"
   ]
  },
  {
   "cell_type": "code",
   "execution_count": null,
   "metadata": {},
   "outputs": [],
   "source": [
    "def replace_indexed_symbols(expression: sp.Expr) -> sp.Expr:\n",
    "    return expression.subs(\n",
    "        {\n",
    "            s: to_symbol(s)\n",
    "            for s in expression.free_symbols\n",
    "            if isinstance(s, sp.Indexed)\n",
    "        }\n",
    "    )"
   ]
  },
  {
   "cell_type": "markdown",
   "metadata": {},
   "source": [
    "And indeed, the expression tree has been simplified correctly!"
   ]
  },
  {
   "cell_type": "code",
   "execution_count": null,
   "metadata": {},
   "outputs": [],
   "source": [
    "new_expression = replace_indexed_symbols(expression)\n",
    "dot = sp.dotprint(new_expression)\n",
    "graphviz.Source(dot);"
   ]
  },
  {
   "cell_type": "markdown",
   "metadata": {},
   "source": [
    "![](008-expression-tree-symbols.svg)"
   ]
  }
 ],
 "metadata": {
  "keep_output": true,
  "kernelspec": {
   "display_name": "Python 3 (ipykernel)",
   "language": "python",
   "name": "python3"
  },
  "language_info": {
   "name": "python",
   "version": "3.8.12"
  }
 },
 "nbformat": 4,
 "nbformat_minor": 4
}
