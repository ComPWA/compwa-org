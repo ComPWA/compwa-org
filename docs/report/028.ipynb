{
 "cells": [
  {
   "cell_type": "markdown",
   "metadata": {},
   "source": [
    "# [R889] Investigate coupled channel fit on the channels $$ and $$ with the $F$ vector formalism in comparasion the the Flatte lineshape.\n",
    "Genarate data with $F$ vector $F$ vector for n poles and n channels"
   ]
  },
  {
   "cell_type": "code",
   "execution_count": 1,
   "metadata": {
    "editable": true,
    "slideshow": {
     "slide_type": ""
    },
    "tags": [
     "remove-cell"
    ]
   },
   "outputs": [
    {
     "name": "stdout",
     "output_type": "stream",
     "text": [
      "Note: you may need to restart the kernel to use updated packages.\n"
     ]
    }
   ],
   "source": [
    "%pip install -q ampform==0.15.0 sympy==1.12"
   ]
  },
  {
   "cell_type": "code",
   "execution_count": 2,
   "metadata": {
    "tags": []
   },
   "outputs": [
    {
     "ename": "ModuleNotFoundError",
     "evalue": "No module named 'tensorwaves'",
     "output_type": "error",
     "traceback": [
      "\u001b[0;31m---------------------------------------------------------------------------\u001b[0m",
      "\u001b[0;31mModuleNotFoundError\u001b[0m                       Traceback (most recent call last)",
      "Cell \u001b[0;32mIn[2], line 16\u001b[0m\n\u001b[1;32m     14\u001b[0m \u001b[38;5;28;01mfrom\u001b[39;00m \u001b[38;5;21;01mqrules\u001b[39;00m\u001b[38;5;21;01m.\u001b[39;00m\u001b[38;5;21;01mtransition\u001b[39;00m \u001b[38;5;28;01mimport\u001b[39;00m ReactionInfo\n\u001b[1;32m     15\u001b[0m \u001b[38;5;28;01mfrom\u001b[39;00m \u001b[38;5;21;01msympy\u001b[39;00m\u001b[38;5;21;01m.\u001b[39;00m\u001b[38;5;21;01mmatrices\u001b[39;00m\u001b[38;5;21;01m.\u001b[39;00m\u001b[38;5;21;01mexpressions\u001b[39;00m\u001b[38;5;21;01m.\u001b[39;00m\u001b[38;5;21;01mmatexpr\u001b[39;00m \u001b[38;5;28;01mimport\u001b[39;00m MatrixElement\n\u001b[0;32m---> 16\u001b[0m \u001b[38;5;28;01mfrom\u001b[39;00m \u001b[38;5;21;01mtensorwaves\u001b[39;00m\u001b[38;5;21;01m.\u001b[39;00m\u001b[38;5;21;01mfunction\u001b[39;00m\u001b[38;5;21;01m.\u001b[39;00m\u001b[38;5;21;01msympy\u001b[39;00m \u001b[38;5;28;01mimport\u001b[39;00m create_parametrized_function\n\u001b[1;32m     18\u001b[0m \u001b[38;5;28;01mfrom\u001b[39;00m \u001b[38;5;21;01mkmatrix\u001b[39;00m \u001b[38;5;28;01mimport\u001b[39;00m COLLECTED_X_SYMBOLS, create_dynamics_symbol\n\u001b[1;32m     20\u001b[0m _ \u001b[38;5;241m=\u001b[39m np\u001b[38;5;241m.\u001b[39mseterr(invalid\u001b[38;5;241m=\u001b[39m\u001b[38;5;124m\"\u001b[39m\u001b[38;5;124mignore\u001b[39m\u001b[38;5;124m\"\u001b[39m)\n",
      "\u001b[0;31mModuleNotFoundError\u001b[0m: No module named 'tensorwaves'"
     ]
    }
   ],
   "source": [
    "from __future__ import annotations\n",
    "\n",
    "from dataclasses import dataclass\n",
    "\n",
    "import ampform\n",
    "import matplotlib.pyplot as plt\n",
    "import numpy as np\n",
    "import qrules\n",
    "import sympy as sp\n",
    "from ampform.io import aslatex\n",
    "from ampform.sympy import perform_cached_doit\n",
    "from IPython.display import Math, display\n",
    "from qrules.particle import Particle\n",
    "from qrules.transition import ReactionInfo\n",
    "from sympy.matrices.expressions.matexpr import MatrixElement\n",
    "from tensorwaves.function.sympy import create_parametrized_function\n",
    "\n",
    "from kmatrix import COLLECTED_X_SYMBOLS, create_dynamics_symbol\n",
    "\n",
    "_ = np.seterr(invalid=\"ignore\")"
   ]
  },
  {
   "cell_type": "markdown",
   "metadata": {},
   "source": [
    "# Collect dynamics symbols"
   ]
  },
  {
   "cell_type": "code",
   "execution_count": null,
   "metadata": {
    "tags": []
   },
   "outputs": [],
   "source": [
    "FINAL_STATES: list[tuple[str, ...]] = [\n",
    "    [\"K0\", \"K~0\", \"gamma\"],\n",
    "    [\"pi0\", \"pi0\", \"gamma\"],\n",
    "]\n",
    "REACTIONS: list[ReactionInfo] = [\n",
    "    qrules.generate_transitions(\n",
    "        initial_state=\"J/psi(1S)\",\n",
    "        final_state=final_state,\n",
    "        allowed_intermediate_particles=[\"f(0)(980)\"],\n",
    "        allowed_interaction_types=[\"strong\", \"em\"],\n",
    "        formalism=\"helicity\",\n",
    "        # particle_db=PARTICLE_DB,\n",
    "        mass_conservation_factor=4.0,\n",
    "    )\n",
    "    for final_state in FINAL_STATES\n",
    "]"
   ]
  },
  {
   "cell_type": "code",
   "execution_count": null,
   "metadata": {
    "tags": []
   },
   "outputs": [],
   "source": []
  },
  {
   "cell_type": "code",
   "execution_count": null,
   "metadata": {
    "tags": []
   },
   "outputs": [],
   "source": [
    "MODELS = []\n",
    "for reaction in REACTIONS:\n",
    "    builder = ampform.get_builder(reaction)\n",
    "    builder.adapter.permutate_registered_topologies()\n",
    "    builder.config.scalar_initial_state_mass = True\n",
    "    builder.config.stable_final_state_ids = [0, 1, 2]\n",
    "    for resonance in reaction.get_intermediate_particles():\n",
    "        builder.set_dynamics(resonance.name, create_dynamics_symbol)\n",
    "    MODELS.append(builder.formulate())"
   ]
  },
  {
   "cell_type": "code",
   "execution_count": null,
   "metadata": {},
   "outputs": [],
   "source": []
  },
  {
   "cell_type": "code",
   "execution_count": null,
   "metadata": {
    "tags": []
   },
   "outputs": [],
   "source": [
    "selected_amplitudes = {\n",
    "    k: v for i, (k, v) in enumerate(MODELS[0].amplitudes.items()) if i < 3\n",
    "}"
   ]
  },
  {
   "cell_type": "code",
   "execution_count": null,
   "metadata": {},
   "outputs": [],
   "source": [
    "for X, resonance_info in COLLECTED_X_SYMBOLS.items():\n",
    "    for res, _L in sorted(resonance_info):\n",
    "        display(X)\n",
    "        print(f\"  {res.name:<20s} {res.mass:>8g} GeV  {res.width:>8g} GeV\")"
   ]
  },
  {
   "cell_type": "code",
   "execution_count": null,
   "metadata": {},
   "outputs": [],
   "source": [
    "import kmatrix\n",
    "\n",
    "\n",
    "@dataclass\n",
    "class TwoBodyDecay:  # specific to the channel\n",
    "    child1: Particle\n",
    "    child2: Particle\n",
    "\n",
    "\n",
    "DECAYS = tuple(\n",
    "    TwoBodyDecay(\n",
    "        child1=reaction.final_state[0],\n",
    "        child2=reaction.final_state[1],\n",
    "    )\n",
    "    for reaction in REACTIONS\n",
    ")\n",
    "s = sp.Symbol(\"m_01\", real=True) ** 2\n",
    "\n",
    "PARAMETERS = {}\n",
    "for model in MODELS:\n",
    "    PARAMETERS.update(model.parameter_defaults)\n",
    "    del model\n",
    "\n",
    "resonances, *_ = COLLECTED_X_SYMBOLS.values()"
   ]
  },
  {
   "cell_type": "markdown",
   "metadata": {},
   "source": [
    "## Formulate dynamics expression"
   ]
  },
  {
   "cell_type": "code",
   "execution_count": null,
   "metadata": {
    "tags": []
   },
   "outputs": [],
   "source": [
    "for symbol, resonances in COLLECTED_X_SYMBOLS.items():\n",
    "    display(symbol)\n",
    "    for p, _ in resonances:\n",
    "        print(f\"  {p.name:<20s} {p.mass:>8g} GeV  {p.width:>8g} GeV \")\n",
    "MODELS[0].parameter_defaults"
   ]
  },
  {
   "cell_type": "markdown",
   "metadata": {
    "tags": []
   },
   "source": [
    "## Formulate Dynamics"
   ]
  },
  {
   "cell_type": "markdown",
   "metadata": {},
   "source": [
    "### Define matrix symbols"
   ]
  },
  {
   "cell_type": "code",
   "execution_count": null,
   "metadata": {},
   "outputs": [],
   "source": [
    "n_channels = len(REACTIONS)\n",
    "I = sp.Identity(n_channels)\n",
    "K = sp.MatrixSymbol(\"K\", n_channels, n_channels)\n",
    "P = sp.MatrixSymbol(\"P\", n_channels, 1)\n",
    "T = sp.MatrixSymbol(\"T\", n_channels, n_channels)\n",
    "F = sp.MatrixSymbol(\"F\", n_channels, 1)\n",
    "rho = sp.MatrixSymbol(\"rho\", n_channels, n_channels)\n",
    "rho_cm = sp.MatrixSymbol(R\"{\\rho_{\\Sigma}}\", n_channels, n_channels)"
   ]
  },
  {
   "cell_type": "markdown",
   "metadata": {},
   "source": [
    "\n",
    "\n",
    "### $K$ matrix "
   ]
  },
  {
   "cell_type": "markdown",
   "metadata": {},
   "source": [
    "As used in the PDG resonance section a different form of the $K$ matrix is used containing the the $g^{0}$ couplings instet of the unitless $\\gamma$ constants."
   ]
  },
  {
   "cell_type": "code",
   "execution_count": null,
   "metadata": {
    "tags": []
   },
   "outputs": [],
   "source": [
    "def formulate_K_matrix(\n",
    "    resonances: list[tuple[Resonances, int]], n_channels: int\n",
    ") -> dict[MatrixElement, sp.Expr]:\n",
    "    Kmatrix_expressions = {}\n",
    "    for i in range(n_channels):\n",
    "        for j in range(n_channels):\n",
    "            resonance_contributions = []\n",
    "            for res, _L in resonances:\n",
    "                s = sp.Symbol(\"m_01\", real=True) ** 2\n",
    "                g_Ri = sp.Symbol(Rf\"g_{{{res.latex},{i}}}\")\n",
    "                g_Rj = sp.Symbol(Rf\"g_{{{res.latex},{j}}}\")\n",
    "                m_R = sp.Symbol(Rf\"m_{{{res.latex}}}\")\n",
    "                parameter_defaults = {\n",
    "                    m_R: res.mass,\n",
    "                    g_Ri: 1,\n",
    "                    g_Rj: 1,\n",
    "                }\n",
    "                PARAMETERS.update(parameter_defaults)\n",
    "                expr = (g_Ri * g_Rj) / (m_R**2 - s)\n",
    "                resonance_contributions.append(expr)\n",
    "            Kmatrix_expressions[K[i, j]] = sum(resonance_contributions)\n",
    "\n",
    "    return Kmatrix_expressions\n",
    "\n",
    "\n",
    "K_expressions = formulate_K_matrix(resonances, n_channels=len(REACTIONS))\n",
    "Math(aslatex(K_expressions))\n",
    "K_matrix = K.as_explicit()\n",
    "K.as_explicit().xreplace(K_expressions)"
   ]
  },
  {
   "cell_type": "markdown",
   "metadata": {},
   "source": [
    "### $P$ vector"
   ]
  },
  {
   "cell_type": "code",
   "execution_count": null,
   "metadata": {},
   "outputs": [],
   "source": [
    "def formulate_P_vector(\n",
    "    resonances: list[tuple[Resonances, int]], n_channels: int\n",
    ") -> dict[MatrixElement, sp.Expr]:\n",
    "    P_expressions = {}\n",
    "    for i in range(n_channels):\n",
    "        resonance_contributions = []\n",
    "        for res, _L in resonances:\n",
    "            s = sp.Symbol(\"m_01\", real=True) ** 2\n",
    "            beta_R = sp.Symbol(Rf\"\\beta_{{{res.latex}}}\")\n",
    "            m_R = sp.Symbol(Rf\"m_{{{res.latex}}}\")\n",
    "            g_Ri = sp.Symbol(Rf\"g_{{{res.latex},{i}}}\")\n",
    "            parameter_defaults = {\n",
    "                beta_R: 1 + 0j,\n",
    "            }\n",
    "            PARAMETERS.update(parameter_defaults)\n",
    "            expr = (beta_R * g_Ri) / (m_R**2 - s)\n",
    "            resonance_contributions.append(expr)\n",
    "        P_expressions[P[i, 0]] = sum(resonance_contributions)\n",
    "\n",
    "    return P_expressions\n",
    "\n",
    "\n",
    "P_expressions = formulate_P_vector(resonances, n_channels=len(REACTIONS))\n",
    "P_vector = P.as_explicit()\n",
    "Math(aslatex(P_expressions))"
   ]
  },
  {
   "cell_type": "markdown",
   "metadata": {},
   "source": [
    "### Phase space with Chew Mandelstam function"
   ]
  },
  {
   "cell_type": "code",
   "execution_count": null,
   "metadata": {},
   "outputs": [],
   "source": [
    "def formulate_PhspCM_matrix(n_channels: int) -> dict[sp.MatrixElement, sp.Expr]:\n",
    "    Phsp_matrix_CM_expressions = {}\n",
    "\n",
    "    for i in range(n_channels):\n",
    "        for j in range(n_channels):\n",
    "            if i == j:\n",
    "                m_a_i = sp.Symbol(Rf\"m_{{0,{i}}}\")\n",
    "                m_b_i = sp.Symbol(Rf\"m_{{1,{i}}}\")\n",
    "                s = sp.Symbol(\"m_01\", real=True) ** 2\n",
    "                rho_i = kmatrix.PhaseSpaceCM(s, m_a_i, m_b_i)\n",
    "                Phsp_matrix_CM_expressions[rho_cm[i, j]] = rho_i\n",
    "                parameter_defaults = {\n",
    "                    m_a_i: DECAYS[i].child1.mass,\n",
    "                    m_b_i: DECAYS[i].child2.mass,\n",
    "                }\n",
    "                PARAMETERS.update(parameter_defaults)\n",
    "            else:\n",
    "                Phsp_matrix_CM_expressions[rho_cm[i, j]] = 0\n",
    "\n",
    "    return Phsp_matrix_CM_expressions\n",
    "\n",
    "\n",
    "Phsp_CM_expressions = formulate_PhspCM_matrix(n_channels=len(REACTIONS))\n",
    "rho_cm.as_explicit().xreplace(Phsp_CM_expressions)\n",
    "PHSP_CM_expressions = np.array([\n",
    "    perform_cached_doit(rho_cm[i, i].xreplace(Phsp_CM_expressions))\n",
    "    for i in range(n_channels)\n",
    "])\n",
    "Math(aslatex(PHSP_CM_expressions))"
   ]
  },
  {
   "cell_type": "markdown",
   "metadata": {},
   "source": [
    "### $F$ vector"
   ]
  },
  {
   "cell_type": "markdown",
   "metadata": {},
   "source": [
    ":::{note}\n",
    "For some reason one has to leave out the multiplication of $\\rho$ by $i$ within the calculation of the $F$ vector\n",
    ":::"
   ]
  },
  {
   "cell_type": "code",
   "execution_count": null,
   "metadata": {},
   "outputs": [],
   "source": [
    "F = (I - sp.I * K * rho_cm).inv() * P\n",
    "F"
   ]
  },
  {
   "cell_type": "code",
   "execution_count": null,
   "metadata": {},
   "outputs": [],
   "source": [
    "F_vector = F.as_explicit()\n",
    "F_vector"
   ]
  },
  {
   "cell_type": "code",
   "execution_count": null,
   "metadata": {},
   "outputs": [],
   "source": [
    "combined_expressions_F = {**K_expressions, **Phsp_CM_expressions, **P_expressions}"
   ]
  },
  {
   "cell_type": "code",
   "execution_count": null,
   "metadata": {},
   "outputs": [],
   "source": [
    "Math(aslatex(e.xreplace(combined_expressions_F).simplify(doit=False) for e in F_vector))"
   ]
  },
  {
   "cell_type": "code",
   "execution_count": null,
   "metadata": {},
   "outputs": [],
   "source": [
    "F_expressions = np.array([\n",
    "    perform_cached_doit(F_vector[i].xreplace(combined_expressions_F))\n",
    "    for i in range(n_channels)\n",
    "])\n",
    "F_expressions[1]"
   ]
  },
  {
   "cell_type": "markdown",
   "metadata": {},
   "source": [
    "### Plot lineshape of $F$ vector "
   ]
  },
  {
   "cell_type": "markdown",
   "metadata": {},
   "source": [
    "Coupling parameters $g_{KK}$ and $g_{\\pi\\pi}$taken from [Phys.Atom.Nucl.65:1545-1552,2002](https://arxiv.org/pdf/hep-ph/0102338.pdf)"
   ]
  },
  {
   "cell_type": "code",
   "execution_count": null,
   "metadata": {},
   "outputs": [],
   "source": [
    "new_parameters_fvector = {\n",
    "    sp.Symbol(R\"g_{f_{0}(980),0}\"): np.sqrt(0.186),\n",
    "    sp.Symbol(R\"g_{f_{0}(980),1}\"): -np.sqrt(0.076),\n",
    "    sp.Symbol(R\"m_{f_{0}(980)}\"): 0.98,\n",
    "}\n",
    "PARAMETERS.update(new_parameters_fvector)\n",
    "PARAMETERS"
   ]
  },
  {
   "cell_type": "code",
   "execution_count": null,
   "metadata": {},
   "outputs": [],
   "source": [
    "LINESHAPE = []\n",
    "PHSP = []\n",
    "for i in range(n_channels):\n",
    "    LINESHAPE.append(\n",
    "        create_parametrized_function(\n",
    "            expression=F_expressions[i],\n",
    "            backend=\"jax\",\n",
    "            parameters=PARAMETERS,\n",
    "        )\n",
    "    )\n",
    "for i in range(n_channels):\n",
    "    PHSP.append(\n",
    "        create_parametrized_function(\n",
    "            expression=PHSP_CM_expressions[i],\n",
    "            backend=\"jax\",\n",
    "            parameters=PARAMETERS,\n",
    "        )\n",
    "    )\n",
    "epsilon = 1e-7j\n",
    "x = np.linspace(0.7, 1.5, num=300)\n",
    "data1 = {\"m_01\": x + epsilon}\n",
    "for i in range(n_channels):\n",
    "    y_values = (np.abs(LINESHAPE[i](data1)) ** 2 * PHSP[i](data1)).real\n",
    "    plt.plot(x, y_values, label=f\"Channel {i + 1}\")\n",
    "plt.ylabel(R\"$F$ vector\")\n",
    "plt.xlabel(\"s [MeV]\")\n",
    "plt.title(\"Lineshapes\")\n",
    "plt.legend()\n",
    "plt.show()"
   ]
  },
  {
   "cell_type": "markdown",
   "metadata": {},
   "source": [
    "## $T$ matrix"
   ]
  },
  {
   "cell_type": "code",
   "execution_count": null,
   "metadata": {},
   "outputs": [],
   "source": [
    "T = (I - sp.I * K * rho_cm).inv() * K\n",
    "T"
   ]
  },
  {
   "cell_type": "code",
   "execution_count": null,
   "metadata": {},
   "outputs": [],
   "source": [
    "T_matrix = T.as_explicit()\n",
    "T_matrix"
   ]
  },
  {
   "cell_type": "code",
   "execution_count": null,
   "metadata": {},
   "outputs": [],
   "source": [
    "combined_expressions_T = {**K_expressions, **Phsp_CM_expressions}"
   ]
  },
  {
   "cell_type": "code",
   "execution_count": null,
   "metadata": {},
   "outputs": [],
   "source": [
    "Math(aslatex(e.xreplace(combined_expressions_T).simplify(doit=False) for e in T_matrix))"
   ]
  },
  {
   "cell_type": "markdown",
   "metadata": {},
   "source": [
    "### Calculate unphysical sheets"
   ]
  },
  {
   "cell_type": "code",
   "execution_count": null,
   "metadata": {},
   "outputs": [],
   "source": [
    "def formulate_Phsprho_matrix(n_channels: int) -> dict[sp.MatrixElement, sp.Expr]:\n",
    "    Phsp_matrix_rho_expressions = {}\n",
    "\n",
    "    for i in range(n_channels):\n",
    "        for j in range(n_channels):\n",
    "            if i == j:\n",
    "                m_a_i = sp.Symbol(Rf\"m_{{0,{i}}}\")\n",
    "                m_b_i = sp.Symbol(Rf\"m_{{1,{i}}}\")\n",
    "                s = sp.Symbol(\"m_01\", real=True) ** 2\n",
    "                rho_i = kmatrix.PhaseSpaceCM(s, m_a_i, m_b_i)\n",
    "                Phsp_matrix_rho_expressions[rho[i, j]] = rho_i\n",
    "                parameter_defaults = {\n",
    "                    m_a_i: DECAYS[i].child1.mass,\n",
    "                    m_b_i: DECAYS[i].child2.mass,\n",
    "                }\n",
    "                PARAMETERS.update(parameter_defaults)\n",
    "            else:\n",
    "                Phsp_matrix_rho_expressions[rho[i, j]] = 0\n",
    "\n",
    "    return Phsp_matrix_rho_expressions\n",
    "\n",
    "\n",
    "Phsp_rho_expressions = formulate_Phsprho_matrix(n_channels=len(REACTIONS))\n",
    "rho.as_explicit().xreplace(Phsp_rho_expressions)"
   ]
  },
  {
   "cell_type": "code",
   "execution_count": null,
   "metadata": {},
   "outputs": [],
   "source": [
    "T_II = (T.inv() - 2 * sp.I * rho).inv()\n",
    "#T_III = (T.inv() + 2 * sp.I * rho).inv()\n",
    "#T_IV = (-T.inv() - 2 * sp.I * rho).inv()"
   ]
  },
  {
   "cell_type": "code",
   "execution_count": null,
   "metadata": {},
   "outputs": [],
   "source": [
    "T_II_expl = T_II.as_explicit()\n",
    "#T_III_expl = T_III.as_explicit()\n",
    "#T_IV_expl = T_IV.as_explicit()"
   ]
  },
  {
   "cell_type": "code",
   "execution_count": null,
   "metadata": {},
   "outputs": [],
   "source": [
    "combined_expressions_T_unpys = {\n",
    "    **K_expressions,\n",
    "    **Phsp_CM_expressions,\n",
    "    **Phsp_rho_expressions,\n",
    "}"
   ]
  },
  {
   "cell_type": "code",
   "execution_count": null,
   "metadata": {},
   "outputs": [],
   "source": [
    "T_II_expl.xreplace(combined_expressions_T_unpys)\n",
    "#T_III_expl.xreplace(combined_expressions_T_unpys)\n",
    "#T_IV_expl.xreplace(combined_expressions_T_unpys)"
   ]
  },
  {
   "cell_type": "markdown",
   "metadata": {},
   "source": [
    "## Calculate $F$ vector frm $T$ matrix"
   ]
  },
  {
   "cell_type": "code",
   "execution_count": null,
   "metadata": {},
   "outputs": [],
   "source": [
    "F_I = T * K.inv() * P\n",
    "F_II = T_II * K.inv() * P\n",
    "#F_III = T_III * K.inv() * P\n",
    "#F_IV = T_IV * K.inv() * P\n",
    "F_II[0]"
   ]
  },
  {
   "cell_type": "code",
   "execution_count": null,
   "metadata": {},
   "outputs": [],
   "source": [
    "F_I_expl = F_I.as_explicit()\n",
    "F_II_expl = F_II.as_explicit()\n",
    "#F_III_expl = F_III.as_explicit()\n",
    "#F_IV_expl = F_IV.as_explicit()\n",
    "F_II_expl"
   ]
  },
  {
   "cell_type": "code",
   "execution_count": null,
   "metadata": {},
   "outputs": [],
   "source": [
    "combined_expressions_F_unpys = {\n",
    "    **K_expressions,\n",
    "    **Phsp_CM_expressions,\n",
    "    **Phsp_rho_expressions,\n",
    "    **P_expressions,\n",
    "}"
   ]
  },
  {
   "cell_type": "code",
   "execution_count": null,
   "metadata": {},
   "outputs": [],
   "source": [
    "Math(\n",
    "    aslatex(\n",
    "        e.xreplace(combined_expressions_F_unpys).simplify(doit=False) for e in F_II_expl\n",
    "    )\n",
    ")"
   ]
  },
  {
   "cell_type": "code",
   "execution_count": null,
   "metadata": {},
   "outputs": [],
   "source": [
    "F_I_expressions = np.array([\n",
    "    perform_cached_doit(F_I_expl[i].xreplace(combined_expressions_F_unpys))\n",
    "    for i in range(n_channels)\n",
    "])\n",
    "\n",
    "F_II_expressions = np.array([\n",
    "    perform_cached_doit(F_II_expl[i].xreplace(combined_expressions_F_unpys))\n",
    "    for i in range(n_channels)\n",
    "])\n",
    "F_II_expressions[0]"
   ]
  },
  {
   "cell_type": "code",
   "execution_count": null,
   "metadata": {},
   "outputs": [],
   "source": [
    "LINESHAPE_FI = []\n",
    "PHSP_FI = []\n",
    "for i in range(n_channels):\n",
    "    LINESHAPE_FI.append(\n",
    "        create_parametrized_function(\n",
    "            expression=F_I_expressions[i],\n",
    "            backend=\"jax\",\n",
    "            parameters=PARAMETERS,\n",
    "        )\n",
    "    )\n",
    "LINESHAPE_FII = []\n",
    "PHSP_FII = []\n",
    "for i in range(n_channels):\n",
    "    LINESHAPE_FII.append(\n",
    "        create_parametrized_function(\n",
    "            expression=F_II_expressions[i],\n",
    "            backend=\"jax\",\n",
    "            parameters=PARAMETERS,\n",
    "        )\n",
    "    )\n",
    "for i in range(n_channels):\n",
    "    PHSP_FI.append(\n",
    "        create_parametrized_function(\n",
    "            expression=PHSP_CM_expressions[i],\n",
    "            backend=\"jax\",\n",
    "            parameters=PARAMETERS,\n",
    "        )\n",
    "    )\n",
    "epsilon = 1e-7j\n",
    "x = np.linspace(0.7, 1.5, num=300)\n",
    "data1 = {\"m_01\": x + epsilon}\n",
    "for i in range(n_channels):\n",
    "    y_values = (np.abs(LINESHAPE_FI[i](data1)) ** 2 * PHSP_FI[i](data1)).real\n",
    "    plt.plot(x, y_values, label=f\"Channel {i + 1}\")\n",
    "plt.ylabel(R\"$F$ vector\")\n",
    "plt.xlabel(\"s [MeV]\")\n",
    "plt.title(\"Lineshapes\")\n",
    "plt.legend()\n",
    "plt.show()"
   ]
  },
  {
   "cell_type": "code",
   "execution_count": null,
   "metadata": {},
   "outputs": [],
   "source": [
    "project = np.imag\n",
    "FP_II = []\n",
    "FN_II = []\n",
    "FP_I = []\n",
    "FN_I = []\n",
    "epsi = 1e-10\n",
    "y = np.linspace(epsi, 1, num=100)\n",
    "X, Y = np.meshgrid(x, y)\n",
    "data_p = {\"m_01\": X + Y * 1j}\n",
    "data_n = {\"m_01\": X - Y * 1j}\n",
    "for i in range(n_channels):\n",
    "    FP_I.append(LINESHAPE_FI[i](data_p))\n",
    "    FN_I.append(LINESHAPE_FI[i](data_n))\n",
    "    FP_II.append(LINESHAPE_FII[i](data_p))\n",
    "    FN_II.append(LINESHAPE_FII[i](data_n))"
   ]
  },
  {
   "cell_type": "code",
   "execution_count": null,
   "metadata": {},
   "outputs": [],
   "source": [
    "%config InlineBackend.figure_formats = [\"png\"]\n",
    "for i in range(n_channels):\n",
    "    fig, ax = plt.subplots(figsize=(12, 8), sharey=True)\n",
    "    ax.set_xlabel(R\"$\\mathrm{Re}\\,s$\")\n",
    "    ax.set_ylabel(R\"$\\mathrm{Im}\\,s$\")\n",
    "\n",
    "    F_max = 1\n",
    "    style = dict(vmin=-F_max, vmax=+F_max, cmap=plt.cm.coolwarm)\n",
    "    mesh = ax.pcolormesh(X, Y, FP[i].imag, **style)\n",
    "    mesh = ax.pcolormesh(X, -Y, -FN[i].imag, **style)\n",
    "    plt.subplots_adjust(wspace=1)\n",
    "    cbar_ax = fig.add_axes([0.92, 0.15, 0.02, 0.7])\n",
    "    plt.colorbar(mesh, cax=cbar_ax)\n",
    "\n",
    "    fig.tight_layout(rect=[0, 0.03, 0.9, 0.95])\n",
    "\n",
    "    plt.show()"
   ]
  },
  {
   "cell_type": "code",
   "execution_count": null,
   "metadata": {},
   "outputs": [],
   "source": []
  }
 ],
 "metadata": {
  "kernelspec": {
   "display_name": "Python 3 (ipykernel)",
   "language": "python",
   "name": "python3"
  },
  "language_info": {
   "codemirror_mode": {
    "name": "ipython",
    "version": 3
   },
   "file_extension": ".py",
   "mimetype": "text/x-python",
   "name": "python",
   "nbconvert_exporter": "python",
   "pygments_lexer": "ipython3",
   "version": "3.10.13"
  }
 },
 "nbformat": 4,
 "nbformat_minor": 4
}
